{
 "cells": [
  {
   "cell_type": "code",
   "execution_count": 6,
   "id": "7d335425",
   "metadata": {},
   "outputs": [],
   "source": [
    "import numpy as np\n",
    "import pandas as pd\n",
    "import plotly.graph_objects as go\n",
    "import plotly.express as px"
   ]
  },
  {
   "cell_type": "code",
   "execution_count": 7,
   "id": "9ec2da3f",
   "metadata": {},
   "outputs": [
    {
     "data": {
      "application/vnd.plotly.v1+json": {
       "config": {
        "plotlyServerURL": "https://plot.ly"
       },
       "data": [
        {
         "coloraxis": "coloraxis",
         "geo": "geo",
         "hovertemplate": "Country=%{location}<br>Pop=%{z}<extra></extra>",
         "locationmode": "country names",
         "locations": [
          "australia",
          "canada",
          "china",
          "india",
          "mexico",
          "russia",
          "usa",
          "colombia",
          "france",
          "italy",
          "japan",
          "philippines",
          "spain",
          "united_kingdom",
          "puerto_rico",
          "argentina",
          "germany",
          "israel",
          "paraguay",
          "argentina",
          "germany",
          "israel",
          "paraguay",
          "south_korea",
          "taiwan",
          "ukraine",
          "chile",
          "dominican_republic",
          "indonesia",
          "peru",
          "thailand",
          "turkey",
          "venezuela",
          "denmark",
          "egypt",
          "hong_kong",
          "ireland",
          "morocco",
          "netherlands",
          "norway",
          "portugal",
          "vietnam",
          "bolivia",
          "bulgaria",
          "costa_rica",
          "ecuador",
          "el_salvador",
          "greece",
          "guatemala",
          "honduras",
          "malaysia",
          "panama",
          "poland",
          "sweden",
          "austria",
          "finland",
          "hungary",
          "iceland",
          "lithuania",
          "new_zealand",
          "nicaragua",
          "romania",
          "singapore",
          "south_africa",
          "switzerland",
          "uruguay",
          "czech_republic",
          "indonesia",
          "mongolia",
          "pakistan",
          "philippines",
          "saudi_arabia",
          "brazil"
         ],
         "name": "",
         "type": "choropleth",
         "z": [
          47.794117647058826,
          46.043165467625904,
          64.67065868263472,
          32.5,
          11.39240506329114,
          46.15384615384615,
          25.984251968503933,
          13.664596273291925,
          37.59398496240601,
          35,
          64.94845360824742,
          44.871794871794876,
          16.666666666666664,
          46.103896103896105,
          9.25925925925926,
          22.65625,
          30.275229357798167,
          51.02040816326531,
          14.76510067114094,
          22.65625,
          30.275229357798167,
          51.02040816326531,
          14.76510067114094,
          72.91666666666666,
          69.76744186046511,
          36.11111111111111,
          10.218978102189782,
          8.441558441558442,
          57.14285714285714,
          15.723270440251572,
          76,
          18.6046511627907,
          17.985611510791365,
          50,
          29.213483146067414,
          91.35802469135803,
          51.633986928104584,
          36.03603603603604,
          47.01492537313433,
          47.82608695652174,
          28.57142857142857,
          46.666666666666664,
          17.901234567901234,
          41.269841269841265,
          15.24390243902439,
          14.465408805031446,
          10.897435897435898,
          14.925373134328357,
          11.03896103896104,
          10.625,
          69.41176470588235,
          13.60544217687075,
          26.582278481012654,
          49.59349593495935,
          30.107526881720432,
          55.208333333333336,
          36.26373626373626,
          37.903225806451616,
          39.42307692307692,
          38.095238095238095,
          9.615384615384617,
          43.90243902439025,
          68.18181818181817,
          44.02985074626866,
          40.97222222222222,
          25.64102564102564,
          28.346456692913385,
          54,
          44.48818897637795,
          38.613861386138616,
          43.02325581395349,
          53.77358490566038,
          18.34862385321101
         ]
        }
       ],
       "layout": {
        "coloraxis": {
         "cmax": 100,
         "cmin": 0,
         "colorbar": {
          "title": {
           "text": "Pop"
          }
         },
         "colorscale": [
          [
           0,
           "#0d0887"
          ],
          [
           0.1111111111111111,
           "#46039f"
          ],
          [
           0.2222222222222222,
           "#7201a8"
          ],
          [
           0.3333333333333333,
           "#9c179e"
          ],
          [
           0.4444444444444444,
           "#bd3786"
          ],
          [
           0.5555555555555556,
           "#d8576b"
          ],
          [
           0.6666666666666666,
           "#ed7953"
          ],
          [
           0.7777777777777778,
           "#fb9f3a"
          ],
          [
           0.8888888888888888,
           "#fdca26"
          ],
          [
           1,
           "#f0f921"
          ]
         ]
        },
        "geo": {
         "center": {},
         "domain": {
          "x": [
           0,
           1
          ],
          "y": [
           0,
           1
          ]
         }
        },
        "height": 600,
        "legend": {
         "tracegroupgap": 0
        },
        "margin": {
         "b": 10,
         "l": 15,
         "pad": 0,
         "r": 15,
         "t": 50
        },
        "template": {
         "data": {
          "bar": [
           {
            "error_x": {
             "color": "#2a3f5f"
            },
            "error_y": {
             "color": "#2a3f5f"
            },
            "marker": {
             "line": {
              "color": "#E5ECF6",
              "width": 0.5
             },
             "pattern": {
              "fillmode": "overlay",
              "size": 10,
              "solidity": 0.2
             }
            },
            "type": "bar"
           }
          ],
          "barpolar": [
           {
            "marker": {
             "line": {
              "color": "#E5ECF6",
              "width": 0.5
             },
             "pattern": {
              "fillmode": "overlay",
              "size": 10,
              "solidity": 0.2
             }
            },
            "type": "barpolar"
           }
          ],
          "carpet": [
           {
            "aaxis": {
             "endlinecolor": "#2a3f5f",
             "gridcolor": "white",
             "linecolor": "white",
             "minorgridcolor": "white",
             "startlinecolor": "#2a3f5f"
            },
            "baxis": {
             "endlinecolor": "#2a3f5f",
             "gridcolor": "white",
             "linecolor": "white",
             "minorgridcolor": "white",
             "startlinecolor": "#2a3f5f"
            },
            "type": "carpet"
           }
          ],
          "choropleth": [
           {
            "colorbar": {
             "outlinewidth": 0,
             "ticks": ""
            },
            "type": "choropleth"
           }
          ],
          "contour": [
           {
            "colorbar": {
             "outlinewidth": 0,
             "ticks": ""
            },
            "colorscale": [
             [
              0,
              "#0d0887"
             ],
             [
              0.1111111111111111,
              "#46039f"
             ],
             [
              0.2222222222222222,
              "#7201a8"
             ],
             [
              0.3333333333333333,
              "#9c179e"
             ],
             [
              0.4444444444444444,
              "#bd3786"
             ],
             [
              0.5555555555555556,
              "#d8576b"
             ],
             [
              0.6666666666666666,
              "#ed7953"
             ],
             [
              0.7777777777777778,
              "#fb9f3a"
             ],
             [
              0.8888888888888888,
              "#fdca26"
             ],
             [
              1,
              "#f0f921"
             ]
            ],
            "type": "contour"
           }
          ],
          "contourcarpet": [
           {
            "colorbar": {
             "outlinewidth": 0,
             "ticks": ""
            },
            "type": "contourcarpet"
           }
          ],
          "heatmap": [
           {
            "colorbar": {
             "outlinewidth": 0,
             "ticks": ""
            },
            "colorscale": [
             [
              0,
              "#0d0887"
             ],
             [
              0.1111111111111111,
              "#46039f"
             ],
             [
              0.2222222222222222,
              "#7201a8"
             ],
             [
              0.3333333333333333,
              "#9c179e"
             ],
             [
              0.4444444444444444,
              "#bd3786"
             ],
             [
              0.5555555555555556,
              "#d8576b"
             ],
             [
              0.6666666666666666,
              "#ed7953"
             ],
             [
              0.7777777777777778,
              "#fb9f3a"
             ],
             [
              0.8888888888888888,
              "#fdca26"
             ],
             [
              1,
              "#f0f921"
             ]
            ],
            "type": "heatmap"
           }
          ],
          "heatmapgl": [
           {
            "colorbar": {
             "outlinewidth": 0,
             "ticks": ""
            },
            "colorscale": [
             [
              0,
              "#0d0887"
             ],
             [
              0.1111111111111111,
              "#46039f"
             ],
             [
              0.2222222222222222,
              "#7201a8"
             ],
             [
              0.3333333333333333,
              "#9c179e"
             ],
             [
              0.4444444444444444,
              "#bd3786"
             ],
             [
              0.5555555555555556,
              "#d8576b"
             ],
             [
              0.6666666666666666,
              "#ed7953"
             ],
             [
              0.7777777777777778,
              "#fb9f3a"
             ],
             [
              0.8888888888888888,
              "#fdca26"
             ],
             [
              1,
              "#f0f921"
             ]
            ],
            "type": "heatmapgl"
           }
          ],
          "histogram": [
           {
            "marker": {
             "pattern": {
              "fillmode": "overlay",
              "size": 10,
              "solidity": 0.2
             }
            },
            "type": "histogram"
           }
          ],
          "histogram2d": [
           {
            "colorbar": {
             "outlinewidth": 0,
             "ticks": ""
            },
            "colorscale": [
             [
              0,
              "#0d0887"
             ],
             [
              0.1111111111111111,
              "#46039f"
             ],
             [
              0.2222222222222222,
              "#7201a8"
             ],
             [
              0.3333333333333333,
              "#9c179e"
             ],
             [
              0.4444444444444444,
              "#bd3786"
             ],
             [
              0.5555555555555556,
              "#d8576b"
             ],
             [
              0.6666666666666666,
              "#ed7953"
             ],
             [
              0.7777777777777778,
              "#fb9f3a"
             ],
             [
              0.8888888888888888,
              "#fdca26"
             ],
             [
              1,
              "#f0f921"
             ]
            ],
            "type": "histogram2d"
           }
          ],
          "histogram2dcontour": [
           {
            "colorbar": {
             "outlinewidth": 0,
             "ticks": ""
            },
            "colorscale": [
             [
              0,
              "#0d0887"
             ],
             [
              0.1111111111111111,
              "#46039f"
             ],
             [
              0.2222222222222222,
              "#7201a8"
             ],
             [
              0.3333333333333333,
              "#9c179e"
             ],
             [
              0.4444444444444444,
              "#bd3786"
             ],
             [
              0.5555555555555556,
              "#d8576b"
             ],
             [
              0.6666666666666666,
              "#ed7953"
             ],
             [
              0.7777777777777778,
              "#fb9f3a"
             ],
             [
              0.8888888888888888,
              "#fdca26"
             ],
             [
              1,
              "#f0f921"
             ]
            ],
            "type": "histogram2dcontour"
           }
          ],
          "mesh3d": [
           {
            "colorbar": {
             "outlinewidth": 0,
             "ticks": ""
            },
            "type": "mesh3d"
           }
          ],
          "parcoords": [
           {
            "line": {
             "colorbar": {
              "outlinewidth": 0,
              "ticks": ""
             }
            },
            "type": "parcoords"
           }
          ],
          "pie": [
           {
            "automargin": true,
            "type": "pie"
           }
          ],
          "scatter": [
           {
            "fillpattern": {
             "fillmode": "overlay",
             "size": 10,
             "solidity": 0.2
            },
            "type": "scatter"
           }
          ],
          "scatter3d": [
           {
            "line": {
             "colorbar": {
              "outlinewidth": 0,
              "ticks": ""
             }
            },
            "marker": {
             "colorbar": {
              "outlinewidth": 0,
              "ticks": ""
             }
            },
            "type": "scatter3d"
           }
          ],
          "scattercarpet": [
           {
            "marker": {
             "colorbar": {
              "outlinewidth": 0,
              "ticks": ""
             }
            },
            "type": "scattercarpet"
           }
          ],
          "scattergeo": [
           {
            "marker": {
             "colorbar": {
              "outlinewidth": 0,
              "ticks": ""
             }
            },
            "type": "scattergeo"
           }
          ],
          "scattergl": [
           {
            "marker": {
             "colorbar": {
              "outlinewidth": 0,
              "ticks": ""
             }
            },
            "type": "scattergl"
           }
          ],
          "scattermapbox": [
           {
            "marker": {
             "colorbar": {
              "outlinewidth": 0,
              "ticks": ""
             }
            },
            "type": "scattermapbox"
           }
          ],
          "scatterpolar": [
           {
            "marker": {
             "colorbar": {
              "outlinewidth": 0,
              "ticks": ""
             }
            },
            "type": "scatterpolar"
           }
          ],
          "scatterpolargl": [
           {
            "marker": {
             "colorbar": {
              "outlinewidth": 0,
              "ticks": ""
             }
            },
            "type": "scatterpolargl"
           }
          ],
          "scatterternary": [
           {
            "marker": {
             "colorbar": {
              "outlinewidth": 0,
              "ticks": ""
             }
            },
            "type": "scatterternary"
           }
          ],
          "surface": [
           {
            "colorbar": {
             "outlinewidth": 0,
             "ticks": ""
            },
            "colorscale": [
             [
              0,
              "#0d0887"
             ],
             [
              0.1111111111111111,
              "#46039f"
             ],
             [
              0.2222222222222222,
              "#7201a8"
             ],
             [
              0.3333333333333333,
              "#9c179e"
             ],
             [
              0.4444444444444444,
              "#bd3786"
             ],
             [
              0.5555555555555556,
              "#d8576b"
             ],
             [
              0.6666666666666666,
              "#ed7953"
             ],
             [
              0.7777777777777778,
              "#fb9f3a"
             ],
             [
              0.8888888888888888,
              "#fdca26"
             ],
             [
              1,
              "#f0f921"
             ]
            ],
            "type": "surface"
           }
          ],
          "table": [
           {
            "cells": {
             "fill": {
              "color": "#EBF0F8"
             },
             "line": {
              "color": "white"
             }
            },
            "header": {
             "fill": {
              "color": "#C8D4E3"
             },
             "line": {
              "color": "white"
             }
            },
            "type": "table"
           }
          ]
         },
         "layout": {
          "annotationdefaults": {
           "arrowcolor": "#2a3f5f",
           "arrowhead": 0,
           "arrowwidth": 1
          },
          "autotypenumbers": "strict",
          "coloraxis": {
           "colorbar": {
            "outlinewidth": 0,
            "ticks": ""
           }
          },
          "colorscale": {
           "diverging": [
            [
             0,
             "#8e0152"
            ],
            [
             0.1,
             "#c51b7d"
            ],
            [
             0.2,
             "#de77ae"
            ],
            [
             0.3,
             "#f1b6da"
            ],
            [
             0.4,
             "#fde0ef"
            ],
            [
             0.5,
             "#f7f7f7"
            ],
            [
             0.6,
             "#e6f5d0"
            ],
            [
             0.7,
             "#b8e186"
            ],
            [
             0.8,
             "#7fbc41"
            ],
            [
             0.9,
             "#4d9221"
            ],
            [
             1,
             "#276419"
            ]
           ],
           "sequential": [
            [
             0,
             "#0d0887"
            ],
            [
             0.1111111111111111,
             "#46039f"
            ],
            [
             0.2222222222222222,
             "#7201a8"
            ],
            [
             0.3333333333333333,
             "#9c179e"
            ],
            [
             0.4444444444444444,
             "#bd3786"
            ],
            [
             0.5555555555555556,
             "#d8576b"
            ],
            [
             0.6666666666666666,
             "#ed7953"
            ],
            [
             0.7777777777777778,
             "#fb9f3a"
            ],
            [
             0.8888888888888888,
             "#fdca26"
            ],
            [
             1,
             "#f0f921"
            ]
           ],
           "sequentialminus": [
            [
             0,
             "#0d0887"
            ],
            [
             0.1111111111111111,
             "#46039f"
            ],
            [
             0.2222222222222222,
             "#7201a8"
            ],
            [
             0.3333333333333333,
             "#9c179e"
            ],
            [
             0.4444444444444444,
             "#bd3786"
            ],
            [
             0.5555555555555556,
             "#d8576b"
            ],
            [
             0.6666666666666666,
             "#ed7953"
            ],
            [
             0.7777777777777778,
             "#fb9f3a"
            ],
            [
             0.8888888888888888,
             "#fdca26"
            ],
            [
             1,
             "#f0f921"
            ]
           ]
          },
          "colorway": [
           "#636efa",
           "#EF553B",
           "#00cc96",
           "#ab63fa",
           "#FFA15A",
           "#19d3f3",
           "#FF6692",
           "#B6E880",
           "#FF97FF",
           "#FECB52"
          ],
          "font": {
           "color": "#2a3f5f"
          },
          "geo": {
           "bgcolor": "white",
           "lakecolor": "white",
           "landcolor": "#E5ECF6",
           "showlakes": true,
           "showland": true,
           "subunitcolor": "white"
          },
          "hoverlabel": {
           "align": "left"
          },
          "hovermode": "closest",
          "mapbox": {
           "style": "light"
          },
          "paper_bgcolor": "white",
          "plot_bgcolor": "#E5ECF6",
          "polar": {
           "angularaxis": {
            "gridcolor": "white",
            "linecolor": "white",
            "ticks": ""
           },
           "bgcolor": "#E5ECF6",
           "radialaxis": {
            "gridcolor": "white",
            "linecolor": "white",
            "ticks": ""
           }
          },
          "scene": {
           "xaxis": {
            "backgroundcolor": "#E5ECF6",
            "gridcolor": "white",
            "gridwidth": 2,
            "linecolor": "white",
            "showbackground": true,
            "ticks": "",
            "zerolinecolor": "white"
           },
           "yaxis": {
            "backgroundcolor": "#E5ECF6",
            "gridcolor": "white",
            "gridwidth": 2,
            "linecolor": "white",
            "showbackground": true,
            "ticks": "",
            "zerolinecolor": "white"
           },
           "zaxis": {
            "backgroundcolor": "#E5ECF6",
            "gridcolor": "white",
            "gridwidth": 2,
            "linecolor": "white",
            "showbackground": true,
            "ticks": "",
            "zerolinecolor": "white"
           }
          },
          "shapedefaults": {
           "line": {
            "color": "#2a3f5f"
           }
          },
          "ternary": {
           "aaxis": {
            "gridcolor": "white",
            "linecolor": "white",
            "ticks": ""
           },
           "baxis": {
            "gridcolor": "white",
            "linecolor": "white",
            "ticks": ""
           },
           "bgcolor": "#E5ECF6",
           "caxis": {
            "gridcolor": "white",
            "linecolor": "white",
            "ticks": ""
           }
          },
          "title": {
           "x": 0.05
          },
          "xaxis": {
           "automargin": true,
           "gridcolor": "white",
           "linecolor": "white",
           "ticks": "",
           "title": {
            "standoff": 15
           },
           "zerolinecolor": "white",
           "zerolinewidth": 2
          },
          "yaxis": {
           "automargin": true,
           "gridcolor": "white",
           "linecolor": "white",
           "ticks": "",
           "title": {
            "standoff": 15
           },
           "zerolinecolor": "white",
           "zerolinewidth": 2
          }
         }
        },
        "title": {
         "font": {
          "size": 25
         },
         "text": "Popularity of Pop Music Genres in the World"
        }
       }
      }
     },
     "metadata": {},
     "output_type": "display_data"
    }
   ],
   "source": [
    "genres_data = pd.read_csv(\"./dataset/top_genres_in_the_world.csv\")\n",
    "\n",
    "\n",
    "genres_columns = ['Hip hop/Rap/R&b', 'EDM', 'Pop', 'Rock/Metal', 'Latin/Reggaeton', 'Other']\n",
    "genres_data_subset = genres_data[genres_columns]\n",
    "row_sums = genres_data_subset.sum(axis=1)\n",
    "normalized_genres_data = genres_data_subset.div(row_sums, axis=0).mul(100, axis=0)\n",
    "normalized_genres_data['Country'] = genres_data['Country']\n",
    "countries_and_pop = normalized_genres_data[['Country', 'Pop']]\n",
    "\n",
    "# Create the world map plot using Plotly\n",
    "fig1_pop = px.choropleth(countries_and_pop, \n",
    "                    locations=\"Country\", \n",
    "                    locationmode=\"country names\", \n",
    "                    color=\"Pop\", \n",
    "                    range_color=[0, 100],\n",
    "                    title=\"Popularity of Pop Music Genres in the World\"\n",
    "                   )\n",
    "fig1_pop.update_layout(\n",
    "    # height=400,\n",
    "    title_font=dict(size=25),\n",
    "    height=600,\n",
    "    margin=dict(l=15, r=15, t=50, b=10, pad=0)\n",
    ")\n",
    "\n",
    "fig1_pop.show()"
   ]
  },
  {
   "cell_type": "code",
   "execution_count": 8,
   "id": "216ed9a0",
   "metadata": {},
   "outputs": [
    {
     "data": {
      "application/vnd.plotly.v1+json": {
       "config": {
        "plotlyServerURL": "https://plot.ly"
       },
       "data": [
        {
         "coloraxis": "coloraxis",
         "geo": "geo",
         "hovertemplate": "Country=%{location}<br>EDM=%{z}<extra></extra>",
         "locationmode": "country names",
         "locations": [
          "australia",
          "canada",
          "china",
          "india",
          "mexico",
          "russia",
          "usa",
          "colombia",
          "france",
          "italy",
          "japan",
          "philippines",
          "spain",
          "united_kingdom",
          "puerto_rico",
          "argentina",
          "germany",
          "israel",
          "paraguay",
          "argentina",
          "germany",
          "israel",
          "paraguay",
          "south_korea",
          "taiwan",
          "ukraine",
          "chile",
          "dominican_republic",
          "indonesia",
          "peru",
          "thailand",
          "turkey",
          "venezuela",
          "denmark",
          "egypt",
          "hong_kong",
          "ireland",
          "morocco",
          "netherlands",
          "norway",
          "portugal",
          "vietnam",
          "bolivia",
          "bulgaria",
          "costa_rica",
          "ecuador",
          "el_salvador",
          "greece",
          "guatemala",
          "honduras",
          "malaysia",
          "panama",
          "poland",
          "sweden",
          "austria",
          "finland",
          "hungary",
          "iceland",
          "lithuania",
          "new_zealand",
          "nicaragua",
          "romania",
          "singapore",
          "south_africa",
          "switzerland",
          "uruguay",
          "czech_republic",
          "indonesia",
          "mongolia",
          "pakistan",
          "philippines",
          "saudi_arabia",
          "brazil"
         ],
         "name": "",
         "type": "choropleth",
         "z": [
          11.029411764705882,
          8.633093525179856,
          13.77245508982036,
          0.8333333333333334,
          0,
          8.653846153846153,
          1.574803149606299,
          0,
          4.511278195488721,
          7.000000000000001,
          1.0309278350515463,
          0,
          0,
          16.233766233766232,
          0.23148148148148145,
          0,
          16.51376146788991,
          0,
          0,
          0,
          16.51376146788991,
          0,
          0,
          0,
          0,
          0,
          0,
          0,
          0,
          0,
          0,
          0,
          0,
          11.11111111111111,
          0,
          0,
          20.26143790849673,
          0.9009009009009009,
          29.1044776119403,
          19.565217391304348,
          7.142857142857142,
          0,
          0,
          5.555555555555555,
          0,
          0,
          0,
          0,
          0,
          0,
          2.3529411764705883,
          0,
          11.39240506329114,
          13.821138211382115,
          18.27956989247312,
          5.208333333333334,
          23.076923076923077,
          3.225806451612903,
          17.307692307692307,
          3.1746031746031744,
          0,
          17.073170731707318,
          3.4090909090909087,
          2.9850746268656714,
          17.36111111111111,
          0,
          16.535433070866144,
          0,
          0,
          0.9900990099009901,
          2.3255813953488373,
          6.60377358490566,
          0
         ]
        }
       ],
       "layout": {
        "coloraxis": {
         "cmax": 100,
         "cmin": 0,
         "colorbar": {
          "title": {
           "text": "EDM"
          }
         },
         "colorscale": [
          [
           0,
           "#0d0887"
          ],
          [
           0.1111111111111111,
           "#46039f"
          ],
          [
           0.2222222222222222,
           "#7201a8"
          ],
          [
           0.3333333333333333,
           "#9c179e"
          ],
          [
           0.4444444444444444,
           "#bd3786"
          ],
          [
           0.5555555555555556,
           "#d8576b"
          ],
          [
           0.6666666666666666,
           "#ed7953"
          ],
          [
           0.7777777777777778,
           "#fb9f3a"
          ],
          [
           0.8888888888888888,
           "#fdca26"
          ],
          [
           1,
           "#f0f921"
          ]
         ]
        },
        "geo": {
         "center": {},
         "domain": {
          "x": [
           0,
           1
          ],
          "y": [
           0,
           1
          ]
         }
        },
        "height": 600,
        "legend": {
         "tracegroupgap": 0
        },
        "margin": {
         "b": 10,
         "l": 15,
         "pad": 0,
         "r": 15,
         "t": 50
        },
        "template": {
         "data": {
          "bar": [
           {
            "error_x": {
             "color": "#2a3f5f"
            },
            "error_y": {
             "color": "#2a3f5f"
            },
            "marker": {
             "line": {
              "color": "#E5ECF6",
              "width": 0.5
             },
             "pattern": {
              "fillmode": "overlay",
              "size": 10,
              "solidity": 0.2
             }
            },
            "type": "bar"
           }
          ],
          "barpolar": [
           {
            "marker": {
             "line": {
              "color": "#E5ECF6",
              "width": 0.5
             },
             "pattern": {
              "fillmode": "overlay",
              "size": 10,
              "solidity": 0.2
             }
            },
            "type": "barpolar"
           }
          ],
          "carpet": [
           {
            "aaxis": {
             "endlinecolor": "#2a3f5f",
             "gridcolor": "white",
             "linecolor": "white",
             "minorgridcolor": "white",
             "startlinecolor": "#2a3f5f"
            },
            "baxis": {
             "endlinecolor": "#2a3f5f",
             "gridcolor": "white",
             "linecolor": "white",
             "minorgridcolor": "white",
             "startlinecolor": "#2a3f5f"
            },
            "type": "carpet"
           }
          ],
          "choropleth": [
           {
            "colorbar": {
             "outlinewidth": 0,
             "ticks": ""
            },
            "type": "choropleth"
           }
          ],
          "contour": [
           {
            "colorbar": {
             "outlinewidth": 0,
             "ticks": ""
            },
            "colorscale": [
             [
              0,
              "#0d0887"
             ],
             [
              0.1111111111111111,
              "#46039f"
             ],
             [
              0.2222222222222222,
              "#7201a8"
             ],
             [
              0.3333333333333333,
              "#9c179e"
             ],
             [
              0.4444444444444444,
              "#bd3786"
             ],
             [
              0.5555555555555556,
              "#d8576b"
             ],
             [
              0.6666666666666666,
              "#ed7953"
             ],
             [
              0.7777777777777778,
              "#fb9f3a"
             ],
             [
              0.8888888888888888,
              "#fdca26"
             ],
             [
              1,
              "#f0f921"
             ]
            ],
            "type": "contour"
           }
          ],
          "contourcarpet": [
           {
            "colorbar": {
             "outlinewidth": 0,
             "ticks": ""
            },
            "type": "contourcarpet"
           }
          ],
          "heatmap": [
           {
            "colorbar": {
             "outlinewidth": 0,
             "ticks": ""
            },
            "colorscale": [
             [
              0,
              "#0d0887"
             ],
             [
              0.1111111111111111,
              "#46039f"
             ],
             [
              0.2222222222222222,
              "#7201a8"
             ],
             [
              0.3333333333333333,
              "#9c179e"
             ],
             [
              0.4444444444444444,
              "#bd3786"
             ],
             [
              0.5555555555555556,
              "#d8576b"
             ],
             [
              0.6666666666666666,
              "#ed7953"
             ],
             [
              0.7777777777777778,
              "#fb9f3a"
             ],
             [
              0.8888888888888888,
              "#fdca26"
             ],
             [
              1,
              "#f0f921"
             ]
            ],
            "type": "heatmap"
           }
          ],
          "heatmapgl": [
           {
            "colorbar": {
             "outlinewidth": 0,
             "ticks": ""
            },
            "colorscale": [
             [
              0,
              "#0d0887"
             ],
             [
              0.1111111111111111,
              "#46039f"
             ],
             [
              0.2222222222222222,
              "#7201a8"
             ],
             [
              0.3333333333333333,
              "#9c179e"
             ],
             [
              0.4444444444444444,
              "#bd3786"
             ],
             [
              0.5555555555555556,
              "#d8576b"
             ],
             [
              0.6666666666666666,
              "#ed7953"
             ],
             [
              0.7777777777777778,
              "#fb9f3a"
             ],
             [
              0.8888888888888888,
              "#fdca26"
             ],
             [
              1,
              "#f0f921"
             ]
            ],
            "type": "heatmapgl"
           }
          ],
          "histogram": [
           {
            "marker": {
             "pattern": {
              "fillmode": "overlay",
              "size": 10,
              "solidity": 0.2
             }
            },
            "type": "histogram"
           }
          ],
          "histogram2d": [
           {
            "colorbar": {
             "outlinewidth": 0,
             "ticks": ""
            },
            "colorscale": [
             [
              0,
              "#0d0887"
             ],
             [
              0.1111111111111111,
              "#46039f"
             ],
             [
              0.2222222222222222,
              "#7201a8"
             ],
             [
              0.3333333333333333,
              "#9c179e"
             ],
             [
              0.4444444444444444,
              "#bd3786"
             ],
             [
              0.5555555555555556,
              "#d8576b"
             ],
             [
              0.6666666666666666,
              "#ed7953"
             ],
             [
              0.7777777777777778,
              "#fb9f3a"
             ],
             [
              0.8888888888888888,
              "#fdca26"
             ],
             [
              1,
              "#f0f921"
             ]
            ],
            "type": "histogram2d"
           }
          ],
          "histogram2dcontour": [
           {
            "colorbar": {
             "outlinewidth": 0,
             "ticks": ""
            },
            "colorscale": [
             [
              0,
              "#0d0887"
             ],
             [
              0.1111111111111111,
              "#46039f"
             ],
             [
              0.2222222222222222,
              "#7201a8"
             ],
             [
              0.3333333333333333,
              "#9c179e"
             ],
             [
              0.4444444444444444,
              "#bd3786"
             ],
             [
              0.5555555555555556,
              "#d8576b"
             ],
             [
              0.6666666666666666,
              "#ed7953"
             ],
             [
              0.7777777777777778,
              "#fb9f3a"
             ],
             [
              0.8888888888888888,
              "#fdca26"
             ],
             [
              1,
              "#f0f921"
             ]
            ],
            "type": "histogram2dcontour"
           }
          ],
          "mesh3d": [
           {
            "colorbar": {
             "outlinewidth": 0,
             "ticks": ""
            },
            "type": "mesh3d"
           }
          ],
          "parcoords": [
           {
            "line": {
             "colorbar": {
              "outlinewidth": 0,
              "ticks": ""
             }
            },
            "type": "parcoords"
           }
          ],
          "pie": [
           {
            "automargin": true,
            "type": "pie"
           }
          ],
          "scatter": [
           {
            "fillpattern": {
             "fillmode": "overlay",
             "size": 10,
             "solidity": 0.2
            },
            "type": "scatter"
           }
          ],
          "scatter3d": [
           {
            "line": {
             "colorbar": {
              "outlinewidth": 0,
              "ticks": ""
             }
            },
            "marker": {
             "colorbar": {
              "outlinewidth": 0,
              "ticks": ""
             }
            },
            "type": "scatter3d"
           }
          ],
          "scattercarpet": [
           {
            "marker": {
             "colorbar": {
              "outlinewidth": 0,
              "ticks": ""
             }
            },
            "type": "scattercarpet"
           }
          ],
          "scattergeo": [
           {
            "marker": {
             "colorbar": {
              "outlinewidth": 0,
              "ticks": ""
             }
            },
            "type": "scattergeo"
           }
          ],
          "scattergl": [
           {
            "marker": {
             "colorbar": {
              "outlinewidth": 0,
              "ticks": ""
             }
            },
            "type": "scattergl"
           }
          ],
          "scattermapbox": [
           {
            "marker": {
             "colorbar": {
              "outlinewidth": 0,
              "ticks": ""
             }
            },
            "type": "scattermapbox"
           }
          ],
          "scatterpolar": [
           {
            "marker": {
             "colorbar": {
              "outlinewidth": 0,
              "ticks": ""
             }
            },
            "type": "scatterpolar"
           }
          ],
          "scatterpolargl": [
           {
            "marker": {
             "colorbar": {
              "outlinewidth": 0,
              "ticks": ""
             }
            },
            "type": "scatterpolargl"
           }
          ],
          "scatterternary": [
           {
            "marker": {
             "colorbar": {
              "outlinewidth": 0,
              "ticks": ""
             }
            },
            "type": "scatterternary"
           }
          ],
          "surface": [
           {
            "colorbar": {
             "outlinewidth": 0,
             "ticks": ""
            },
            "colorscale": [
             [
              0,
              "#0d0887"
             ],
             [
              0.1111111111111111,
              "#46039f"
             ],
             [
              0.2222222222222222,
              "#7201a8"
             ],
             [
              0.3333333333333333,
              "#9c179e"
             ],
             [
              0.4444444444444444,
              "#bd3786"
             ],
             [
              0.5555555555555556,
              "#d8576b"
             ],
             [
              0.6666666666666666,
              "#ed7953"
             ],
             [
              0.7777777777777778,
              "#fb9f3a"
             ],
             [
              0.8888888888888888,
              "#fdca26"
             ],
             [
              1,
              "#f0f921"
             ]
            ],
            "type": "surface"
           }
          ],
          "table": [
           {
            "cells": {
             "fill": {
              "color": "#EBF0F8"
             },
             "line": {
              "color": "white"
             }
            },
            "header": {
             "fill": {
              "color": "#C8D4E3"
             },
             "line": {
              "color": "white"
             }
            },
            "type": "table"
           }
          ]
         },
         "layout": {
          "annotationdefaults": {
           "arrowcolor": "#2a3f5f",
           "arrowhead": 0,
           "arrowwidth": 1
          },
          "autotypenumbers": "strict",
          "coloraxis": {
           "colorbar": {
            "outlinewidth": 0,
            "ticks": ""
           }
          },
          "colorscale": {
           "diverging": [
            [
             0,
             "#8e0152"
            ],
            [
             0.1,
             "#c51b7d"
            ],
            [
             0.2,
             "#de77ae"
            ],
            [
             0.3,
             "#f1b6da"
            ],
            [
             0.4,
             "#fde0ef"
            ],
            [
             0.5,
             "#f7f7f7"
            ],
            [
             0.6,
             "#e6f5d0"
            ],
            [
             0.7,
             "#b8e186"
            ],
            [
             0.8,
             "#7fbc41"
            ],
            [
             0.9,
             "#4d9221"
            ],
            [
             1,
             "#276419"
            ]
           ],
           "sequential": [
            [
             0,
             "#0d0887"
            ],
            [
             0.1111111111111111,
             "#46039f"
            ],
            [
             0.2222222222222222,
             "#7201a8"
            ],
            [
             0.3333333333333333,
             "#9c179e"
            ],
            [
             0.4444444444444444,
             "#bd3786"
            ],
            [
             0.5555555555555556,
             "#d8576b"
            ],
            [
             0.6666666666666666,
             "#ed7953"
            ],
            [
             0.7777777777777778,
             "#fb9f3a"
            ],
            [
             0.8888888888888888,
             "#fdca26"
            ],
            [
             1,
             "#f0f921"
            ]
           ],
           "sequentialminus": [
            [
             0,
             "#0d0887"
            ],
            [
             0.1111111111111111,
             "#46039f"
            ],
            [
             0.2222222222222222,
             "#7201a8"
            ],
            [
             0.3333333333333333,
             "#9c179e"
            ],
            [
             0.4444444444444444,
             "#bd3786"
            ],
            [
             0.5555555555555556,
             "#d8576b"
            ],
            [
             0.6666666666666666,
             "#ed7953"
            ],
            [
             0.7777777777777778,
             "#fb9f3a"
            ],
            [
             0.8888888888888888,
             "#fdca26"
            ],
            [
             1,
             "#f0f921"
            ]
           ]
          },
          "colorway": [
           "#636efa",
           "#EF553B",
           "#00cc96",
           "#ab63fa",
           "#FFA15A",
           "#19d3f3",
           "#FF6692",
           "#B6E880",
           "#FF97FF",
           "#FECB52"
          ],
          "font": {
           "color": "#2a3f5f"
          },
          "geo": {
           "bgcolor": "white",
           "lakecolor": "white",
           "landcolor": "#E5ECF6",
           "showlakes": true,
           "showland": true,
           "subunitcolor": "white"
          },
          "hoverlabel": {
           "align": "left"
          },
          "hovermode": "closest",
          "mapbox": {
           "style": "light"
          },
          "paper_bgcolor": "white",
          "plot_bgcolor": "#E5ECF6",
          "polar": {
           "angularaxis": {
            "gridcolor": "white",
            "linecolor": "white",
            "ticks": ""
           },
           "bgcolor": "#E5ECF6",
           "radialaxis": {
            "gridcolor": "white",
            "linecolor": "white",
            "ticks": ""
           }
          },
          "scene": {
           "xaxis": {
            "backgroundcolor": "#E5ECF6",
            "gridcolor": "white",
            "gridwidth": 2,
            "linecolor": "white",
            "showbackground": true,
            "ticks": "",
            "zerolinecolor": "white"
           },
           "yaxis": {
            "backgroundcolor": "#E5ECF6",
            "gridcolor": "white",
            "gridwidth": 2,
            "linecolor": "white",
            "showbackground": true,
            "ticks": "",
            "zerolinecolor": "white"
           },
           "zaxis": {
            "backgroundcolor": "#E5ECF6",
            "gridcolor": "white",
            "gridwidth": 2,
            "linecolor": "white",
            "showbackground": true,
            "ticks": "",
            "zerolinecolor": "white"
           }
          },
          "shapedefaults": {
           "line": {
            "color": "#2a3f5f"
           }
          },
          "ternary": {
           "aaxis": {
            "gridcolor": "white",
            "linecolor": "white",
            "ticks": ""
           },
           "baxis": {
            "gridcolor": "white",
            "linecolor": "white",
            "ticks": ""
           },
           "bgcolor": "#E5ECF6",
           "caxis": {
            "gridcolor": "white",
            "linecolor": "white",
            "ticks": ""
           }
          },
          "title": {
           "x": 0.05
          },
          "xaxis": {
           "automargin": true,
           "gridcolor": "white",
           "linecolor": "white",
           "ticks": "",
           "title": {
            "standoff": 15
           },
           "zerolinecolor": "white",
           "zerolinewidth": 2
          },
          "yaxis": {
           "automargin": true,
           "gridcolor": "white",
           "linecolor": "white",
           "ticks": "",
           "title": {
            "standoff": 15
           },
           "zerolinecolor": "white",
           "zerolinewidth": 2
          }
         }
        },
        "title": {
         "font": {
          "size": 25
         },
         "text": "Popularity of EDM Music Genres in the World"
        }
       }
      }
     },
     "metadata": {},
     "output_type": "display_data"
    }
   ],
   "source": [
    "countries_and_edm = normalized_genres_data[['Country', 'EDM']]\n",
    "\n",
    "# Create the world map plot using Plotly\n",
    "fig2_edm = px.choropleth(countries_and_edm, \n",
    "                    locations=\"Country\", \n",
    "                    locationmode=\"country names\", \n",
    "                    color=\"EDM\", \n",
    "                    range_color=[0, 100],\n",
    "                    title=\"Popularity of EDM Music Genres in the World\"\n",
    "                   )\n",
    "fig2_edm.update_layout(\n",
    "    # height=400,\n",
    "    title_font=dict(size=25),\n",
    "    height=600,\n",
    "    margin=dict(l=15, r=15, t=50, b=10, pad=0)\n",
    ")\n",
    "\n",
    "fig2_edm.show()"
   ]
  },
  {
   "cell_type": "code",
   "execution_count": 9,
   "id": "ee8f5514",
   "metadata": {},
   "outputs": [
    {
     "data": {
      "application/vnd.plotly.v1+json": {
       "config": {
        "plotlyServerURL": "https://plot.ly"
       },
       "data": [
        {
         "coloraxis": "coloraxis",
         "geo": "geo",
         "hovertemplate": "Country=%{location}<br>Rock/Metal=%{z}<extra></extra>",
         "locationmode": "country names",
         "locations": [
          "australia",
          "canada",
          "china",
          "india",
          "mexico",
          "russia",
          "usa",
          "colombia",
          "france",
          "italy",
          "japan",
          "philippines",
          "spain",
          "united_kingdom",
          "puerto_rico",
          "argentina",
          "germany",
          "israel",
          "paraguay",
          "argentina",
          "germany",
          "israel",
          "paraguay",
          "south_korea",
          "taiwan",
          "ukraine",
          "chile",
          "dominican_republic",
          "indonesia",
          "peru",
          "thailand",
          "turkey",
          "venezuela",
          "denmark",
          "egypt",
          "hong_kong",
          "ireland",
          "morocco",
          "netherlands",
          "norway",
          "portugal",
          "vietnam",
          "bolivia",
          "bulgaria",
          "costa_rica",
          "ecuador",
          "el_salvador",
          "greece",
          "guatemala",
          "honduras",
          "malaysia",
          "panama",
          "poland",
          "sweden",
          "austria",
          "finland",
          "hungary",
          "iceland",
          "lithuania",
          "new_zealand",
          "nicaragua",
          "romania",
          "singapore",
          "south_africa",
          "switzerland",
          "uruguay",
          "czech_republic",
          "indonesia",
          "mongolia",
          "pakistan",
          "philippines",
          "saudi_arabia",
          "brazil"
         ],
         "name": "",
         "type": "choropleth",
         "z": [
          12.5,
          10.071942446043165,
          2.3952095808383236,
          0,
          1.2658227848101267,
          8.653846153846153,
          10.236220472440944,
          0,
          5.263157894736842,
          2,
          16.49484536082474,
          3.8461538461538463,
          0,
          11.03896103896104,
          0,
          0,
          2.7522935779816518,
          10.204081632653061,
          0,
          0,
          2.7522935779816518,
          10.204081632653061,
          0,
          2.083333333333333,
          2.3255813953488373,
          11.11111111111111,
          0,
          0,
          0,
          1.257861635220126,
          8,
          4.651162790697675,
          0,
          9.722222222222223,
          5.617977528089887,
          1.2345679012345678,
          5.88235294117647,
          1.8018018018018018,
          5.223880597014925,
          5.434782608695652,
          4.081632653061225,
          2.666666666666667,
          1.2345679012345678,
          13.492063492063492,
          1.2195121951219512,
          0,
          0,
          0,
          0,
          0,
          3.5294117647058822,
          0,
          7.59493670886076,
          3.2520325203252036,
          6.451612903225806,
          7.291666666666667,
          9.89010989010989,
          8.870967741935484,
          10.576923076923077,
          15.873015873015872,
          0,
          9.75609756097561,
          4.545454545454546,
          2.9850746268656714,
          4.166666666666666,
          0,
          13.385826771653544,
          0,
          6.299212598425196,
          0.9900990099009901,
          0,
          11.320754716981133,
          1.834862385321101
         ]
        }
       ],
       "layout": {
        "coloraxis": {
         "cmax": 100,
         "cmin": 0,
         "colorbar": {
          "title": {
           "text": "Rock/Metal"
          }
         },
         "colorscale": [
          [
           0,
           "#0d0887"
          ],
          [
           0.1111111111111111,
           "#46039f"
          ],
          [
           0.2222222222222222,
           "#7201a8"
          ],
          [
           0.3333333333333333,
           "#9c179e"
          ],
          [
           0.4444444444444444,
           "#bd3786"
          ],
          [
           0.5555555555555556,
           "#d8576b"
          ],
          [
           0.6666666666666666,
           "#ed7953"
          ],
          [
           0.7777777777777778,
           "#fb9f3a"
          ],
          [
           0.8888888888888888,
           "#fdca26"
          ],
          [
           1,
           "#f0f921"
          ]
         ]
        },
        "geo": {
         "center": {},
         "domain": {
          "x": [
           0,
           1
          ],
          "y": [
           0,
           1
          ]
         }
        },
        "height": 600,
        "legend": {
         "tracegroupgap": 0
        },
        "margin": {
         "b": 10,
         "l": 15,
         "pad": 0,
         "r": 15,
         "t": 50
        },
        "template": {
         "data": {
          "bar": [
           {
            "error_x": {
             "color": "#2a3f5f"
            },
            "error_y": {
             "color": "#2a3f5f"
            },
            "marker": {
             "line": {
              "color": "#E5ECF6",
              "width": 0.5
             },
             "pattern": {
              "fillmode": "overlay",
              "size": 10,
              "solidity": 0.2
             }
            },
            "type": "bar"
           }
          ],
          "barpolar": [
           {
            "marker": {
             "line": {
              "color": "#E5ECF6",
              "width": 0.5
             },
             "pattern": {
              "fillmode": "overlay",
              "size": 10,
              "solidity": 0.2
             }
            },
            "type": "barpolar"
           }
          ],
          "carpet": [
           {
            "aaxis": {
             "endlinecolor": "#2a3f5f",
             "gridcolor": "white",
             "linecolor": "white",
             "minorgridcolor": "white",
             "startlinecolor": "#2a3f5f"
            },
            "baxis": {
             "endlinecolor": "#2a3f5f",
             "gridcolor": "white",
             "linecolor": "white",
             "minorgridcolor": "white",
             "startlinecolor": "#2a3f5f"
            },
            "type": "carpet"
           }
          ],
          "choropleth": [
           {
            "colorbar": {
             "outlinewidth": 0,
             "ticks": ""
            },
            "type": "choropleth"
           }
          ],
          "contour": [
           {
            "colorbar": {
             "outlinewidth": 0,
             "ticks": ""
            },
            "colorscale": [
             [
              0,
              "#0d0887"
             ],
             [
              0.1111111111111111,
              "#46039f"
             ],
             [
              0.2222222222222222,
              "#7201a8"
             ],
             [
              0.3333333333333333,
              "#9c179e"
             ],
             [
              0.4444444444444444,
              "#bd3786"
             ],
             [
              0.5555555555555556,
              "#d8576b"
             ],
             [
              0.6666666666666666,
              "#ed7953"
             ],
             [
              0.7777777777777778,
              "#fb9f3a"
             ],
             [
              0.8888888888888888,
              "#fdca26"
             ],
             [
              1,
              "#f0f921"
             ]
            ],
            "type": "contour"
           }
          ],
          "contourcarpet": [
           {
            "colorbar": {
             "outlinewidth": 0,
             "ticks": ""
            },
            "type": "contourcarpet"
           }
          ],
          "heatmap": [
           {
            "colorbar": {
             "outlinewidth": 0,
             "ticks": ""
            },
            "colorscale": [
             [
              0,
              "#0d0887"
             ],
             [
              0.1111111111111111,
              "#46039f"
             ],
             [
              0.2222222222222222,
              "#7201a8"
             ],
             [
              0.3333333333333333,
              "#9c179e"
             ],
             [
              0.4444444444444444,
              "#bd3786"
             ],
             [
              0.5555555555555556,
              "#d8576b"
             ],
             [
              0.6666666666666666,
              "#ed7953"
             ],
             [
              0.7777777777777778,
              "#fb9f3a"
             ],
             [
              0.8888888888888888,
              "#fdca26"
             ],
             [
              1,
              "#f0f921"
             ]
            ],
            "type": "heatmap"
           }
          ],
          "heatmapgl": [
           {
            "colorbar": {
             "outlinewidth": 0,
             "ticks": ""
            },
            "colorscale": [
             [
              0,
              "#0d0887"
             ],
             [
              0.1111111111111111,
              "#46039f"
             ],
             [
              0.2222222222222222,
              "#7201a8"
             ],
             [
              0.3333333333333333,
              "#9c179e"
             ],
             [
              0.4444444444444444,
              "#bd3786"
             ],
             [
              0.5555555555555556,
              "#d8576b"
             ],
             [
              0.6666666666666666,
              "#ed7953"
             ],
             [
              0.7777777777777778,
              "#fb9f3a"
             ],
             [
              0.8888888888888888,
              "#fdca26"
             ],
             [
              1,
              "#f0f921"
             ]
            ],
            "type": "heatmapgl"
           }
          ],
          "histogram": [
           {
            "marker": {
             "pattern": {
              "fillmode": "overlay",
              "size": 10,
              "solidity": 0.2
             }
            },
            "type": "histogram"
           }
          ],
          "histogram2d": [
           {
            "colorbar": {
             "outlinewidth": 0,
             "ticks": ""
            },
            "colorscale": [
             [
              0,
              "#0d0887"
             ],
             [
              0.1111111111111111,
              "#46039f"
             ],
             [
              0.2222222222222222,
              "#7201a8"
             ],
             [
              0.3333333333333333,
              "#9c179e"
             ],
             [
              0.4444444444444444,
              "#bd3786"
             ],
             [
              0.5555555555555556,
              "#d8576b"
             ],
             [
              0.6666666666666666,
              "#ed7953"
             ],
             [
              0.7777777777777778,
              "#fb9f3a"
             ],
             [
              0.8888888888888888,
              "#fdca26"
             ],
             [
              1,
              "#f0f921"
             ]
            ],
            "type": "histogram2d"
           }
          ],
          "histogram2dcontour": [
           {
            "colorbar": {
             "outlinewidth": 0,
             "ticks": ""
            },
            "colorscale": [
             [
              0,
              "#0d0887"
             ],
             [
              0.1111111111111111,
              "#46039f"
             ],
             [
              0.2222222222222222,
              "#7201a8"
             ],
             [
              0.3333333333333333,
              "#9c179e"
             ],
             [
              0.4444444444444444,
              "#bd3786"
             ],
             [
              0.5555555555555556,
              "#d8576b"
             ],
             [
              0.6666666666666666,
              "#ed7953"
             ],
             [
              0.7777777777777778,
              "#fb9f3a"
             ],
             [
              0.8888888888888888,
              "#fdca26"
             ],
             [
              1,
              "#f0f921"
             ]
            ],
            "type": "histogram2dcontour"
           }
          ],
          "mesh3d": [
           {
            "colorbar": {
             "outlinewidth": 0,
             "ticks": ""
            },
            "type": "mesh3d"
           }
          ],
          "parcoords": [
           {
            "line": {
             "colorbar": {
              "outlinewidth": 0,
              "ticks": ""
             }
            },
            "type": "parcoords"
           }
          ],
          "pie": [
           {
            "automargin": true,
            "type": "pie"
           }
          ],
          "scatter": [
           {
            "fillpattern": {
             "fillmode": "overlay",
             "size": 10,
             "solidity": 0.2
            },
            "type": "scatter"
           }
          ],
          "scatter3d": [
           {
            "line": {
             "colorbar": {
              "outlinewidth": 0,
              "ticks": ""
             }
            },
            "marker": {
             "colorbar": {
              "outlinewidth": 0,
              "ticks": ""
             }
            },
            "type": "scatter3d"
           }
          ],
          "scattercarpet": [
           {
            "marker": {
             "colorbar": {
              "outlinewidth": 0,
              "ticks": ""
             }
            },
            "type": "scattercarpet"
           }
          ],
          "scattergeo": [
           {
            "marker": {
             "colorbar": {
              "outlinewidth": 0,
              "ticks": ""
             }
            },
            "type": "scattergeo"
           }
          ],
          "scattergl": [
           {
            "marker": {
             "colorbar": {
              "outlinewidth": 0,
              "ticks": ""
             }
            },
            "type": "scattergl"
           }
          ],
          "scattermapbox": [
           {
            "marker": {
             "colorbar": {
              "outlinewidth": 0,
              "ticks": ""
             }
            },
            "type": "scattermapbox"
           }
          ],
          "scatterpolar": [
           {
            "marker": {
             "colorbar": {
              "outlinewidth": 0,
              "ticks": ""
             }
            },
            "type": "scatterpolar"
           }
          ],
          "scatterpolargl": [
           {
            "marker": {
             "colorbar": {
              "outlinewidth": 0,
              "ticks": ""
             }
            },
            "type": "scatterpolargl"
           }
          ],
          "scatterternary": [
           {
            "marker": {
             "colorbar": {
              "outlinewidth": 0,
              "ticks": ""
             }
            },
            "type": "scatterternary"
           }
          ],
          "surface": [
           {
            "colorbar": {
             "outlinewidth": 0,
             "ticks": ""
            },
            "colorscale": [
             [
              0,
              "#0d0887"
             ],
             [
              0.1111111111111111,
              "#46039f"
             ],
             [
              0.2222222222222222,
              "#7201a8"
             ],
             [
              0.3333333333333333,
              "#9c179e"
             ],
             [
              0.4444444444444444,
              "#bd3786"
             ],
             [
              0.5555555555555556,
              "#d8576b"
             ],
             [
              0.6666666666666666,
              "#ed7953"
             ],
             [
              0.7777777777777778,
              "#fb9f3a"
             ],
             [
              0.8888888888888888,
              "#fdca26"
             ],
             [
              1,
              "#f0f921"
             ]
            ],
            "type": "surface"
           }
          ],
          "table": [
           {
            "cells": {
             "fill": {
              "color": "#EBF0F8"
             },
             "line": {
              "color": "white"
             }
            },
            "header": {
             "fill": {
              "color": "#C8D4E3"
             },
             "line": {
              "color": "white"
             }
            },
            "type": "table"
           }
          ]
         },
         "layout": {
          "annotationdefaults": {
           "arrowcolor": "#2a3f5f",
           "arrowhead": 0,
           "arrowwidth": 1
          },
          "autotypenumbers": "strict",
          "coloraxis": {
           "colorbar": {
            "outlinewidth": 0,
            "ticks": ""
           }
          },
          "colorscale": {
           "diverging": [
            [
             0,
             "#8e0152"
            ],
            [
             0.1,
             "#c51b7d"
            ],
            [
             0.2,
             "#de77ae"
            ],
            [
             0.3,
             "#f1b6da"
            ],
            [
             0.4,
             "#fde0ef"
            ],
            [
             0.5,
             "#f7f7f7"
            ],
            [
             0.6,
             "#e6f5d0"
            ],
            [
             0.7,
             "#b8e186"
            ],
            [
             0.8,
             "#7fbc41"
            ],
            [
             0.9,
             "#4d9221"
            ],
            [
             1,
             "#276419"
            ]
           ],
           "sequential": [
            [
             0,
             "#0d0887"
            ],
            [
             0.1111111111111111,
             "#46039f"
            ],
            [
             0.2222222222222222,
             "#7201a8"
            ],
            [
             0.3333333333333333,
             "#9c179e"
            ],
            [
             0.4444444444444444,
             "#bd3786"
            ],
            [
             0.5555555555555556,
             "#d8576b"
            ],
            [
             0.6666666666666666,
             "#ed7953"
            ],
            [
             0.7777777777777778,
             "#fb9f3a"
            ],
            [
             0.8888888888888888,
             "#fdca26"
            ],
            [
             1,
             "#f0f921"
            ]
           ],
           "sequentialminus": [
            [
             0,
             "#0d0887"
            ],
            [
             0.1111111111111111,
             "#46039f"
            ],
            [
             0.2222222222222222,
             "#7201a8"
            ],
            [
             0.3333333333333333,
             "#9c179e"
            ],
            [
             0.4444444444444444,
             "#bd3786"
            ],
            [
             0.5555555555555556,
             "#d8576b"
            ],
            [
             0.6666666666666666,
             "#ed7953"
            ],
            [
             0.7777777777777778,
             "#fb9f3a"
            ],
            [
             0.8888888888888888,
             "#fdca26"
            ],
            [
             1,
             "#f0f921"
            ]
           ]
          },
          "colorway": [
           "#636efa",
           "#EF553B",
           "#00cc96",
           "#ab63fa",
           "#FFA15A",
           "#19d3f3",
           "#FF6692",
           "#B6E880",
           "#FF97FF",
           "#FECB52"
          ],
          "font": {
           "color": "#2a3f5f"
          },
          "geo": {
           "bgcolor": "white",
           "lakecolor": "white",
           "landcolor": "#E5ECF6",
           "showlakes": true,
           "showland": true,
           "subunitcolor": "white"
          },
          "hoverlabel": {
           "align": "left"
          },
          "hovermode": "closest",
          "mapbox": {
           "style": "light"
          },
          "paper_bgcolor": "white",
          "plot_bgcolor": "#E5ECF6",
          "polar": {
           "angularaxis": {
            "gridcolor": "white",
            "linecolor": "white",
            "ticks": ""
           },
           "bgcolor": "#E5ECF6",
           "radialaxis": {
            "gridcolor": "white",
            "linecolor": "white",
            "ticks": ""
           }
          },
          "scene": {
           "xaxis": {
            "backgroundcolor": "#E5ECF6",
            "gridcolor": "white",
            "gridwidth": 2,
            "linecolor": "white",
            "showbackground": true,
            "ticks": "",
            "zerolinecolor": "white"
           },
           "yaxis": {
            "backgroundcolor": "#E5ECF6",
            "gridcolor": "white",
            "gridwidth": 2,
            "linecolor": "white",
            "showbackground": true,
            "ticks": "",
            "zerolinecolor": "white"
           },
           "zaxis": {
            "backgroundcolor": "#E5ECF6",
            "gridcolor": "white",
            "gridwidth": 2,
            "linecolor": "white",
            "showbackground": true,
            "ticks": "",
            "zerolinecolor": "white"
           }
          },
          "shapedefaults": {
           "line": {
            "color": "#2a3f5f"
           }
          },
          "ternary": {
           "aaxis": {
            "gridcolor": "white",
            "linecolor": "white",
            "ticks": ""
           },
           "baxis": {
            "gridcolor": "white",
            "linecolor": "white",
            "ticks": ""
           },
           "bgcolor": "#E5ECF6",
           "caxis": {
            "gridcolor": "white",
            "linecolor": "white",
            "ticks": ""
           }
          },
          "title": {
           "x": 0.05
          },
          "xaxis": {
           "automargin": true,
           "gridcolor": "white",
           "linecolor": "white",
           "ticks": "",
           "title": {
            "standoff": 15
           },
           "zerolinecolor": "white",
           "zerolinewidth": 2
          },
          "yaxis": {
           "automargin": true,
           "gridcolor": "white",
           "linecolor": "white",
           "ticks": "",
           "title": {
            "standoff": 15
           },
           "zerolinecolor": "white",
           "zerolinewidth": 2
          }
         }
        },
        "title": {
         "font": {
          "size": 25
         },
         "text": "Popularity of Rock/Metal Music Genres in the World"
        }
       }
      }
     },
     "metadata": {},
     "output_type": "display_data"
    }
   ],
   "source": [
    "countries_and_rock = normalized_genres_data[['Country', 'Rock/Metal']]\n",
    "\n",
    "# Create the world map plot using Plotly\n",
    "fig3_rock = px.choropleth(countries_and_rock, \n",
    "                    locations=\"Country\", \n",
    "                    locationmode=\"country names\", \n",
    "                    color='Rock/Metal', \n",
    "                    range_color=[0, 100],\n",
    "                    title=\"Popularity of Rock/Metal Music Genres in the World\"\n",
    "                   )\n",
    "fig3_rock.update_layout(\n",
    "    title_font=dict(size=25),\n",
    "    height=600,\n",
    "    margin=dict(l=15, r=15, t=50, b=10, pad=0)\n",
    ")\n",
    "\n",
    "fig3_rock.show()"
   ]
  },
  {
   "cell_type": "code",
   "execution_count": 10,
   "id": "1a351770",
   "metadata": {},
   "outputs": [
    {
     "data": {
      "application/vnd.plotly.v1+json": {
       "config": {
        "plotlyServerURL": "https://plot.ly"
       },
       "data": [
        {
         "coloraxis": "coloraxis",
         "geo": "geo",
         "hovertemplate": "Country=%{location}<br>Hip hop/Rap/R&b=%{z}<extra></extra>",
         "locationmode": "country names",
         "locations": [
          "australia",
          "canada",
          "china",
          "india",
          "mexico",
          "russia",
          "usa",
          "colombia",
          "france",
          "italy",
          "japan",
          "philippines",
          "spain",
          "united_kingdom",
          "puerto_rico",
          "argentina",
          "germany",
          "israel",
          "paraguay",
          "argentina",
          "germany",
          "israel",
          "paraguay",
          "south_korea",
          "taiwan",
          "ukraine",
          "chile",
          "dominican_republic",
          "indonesia",
          "peru",
          "thailand",
          "turkey",
          "venezuela",
          "denmark",
          "egypt",
          "hong_kong",
          "ireland",
          "morocco",
          "netherlands",
          "norway",
          "portugal",
          "vietnam",
          "bolivia",
          "bulgaria",
          "costa_rica",
          "ecuador",
          "el_salvador",
          "greece",
          "guatemala",
          "honduras",
          "malaysia",
          "panama",
          "poland",
          "sweden",
          "austria",
          "finland",
          "hungary",
          "iceland",
          "lithuania",
          "new_zealand",
          "nicaragua",
          "romania",
          "singapore",
          "south_africa",
          "switzerland",
          "uruguay",
          "czech_republic",
          "indonesia",
          "mongolia",
          "pakistan",
          "philippines",
          "saudi_arabia",
          "brazil"
         ],
         "name": "",
         "type": "choropleth",
         "z": [
          22.794117647058822,
          28.05755395683453,
          6.58682634730539,
          20.833333333333336,
          24.050632911392405,
          25.961538461538463,
          38.582677165354326,
          31.05590062111801,
          35.338345864661655,
          47,
          0,
          26.923076923076923,
          40.909090909090914,
          19.480519480519483,
          36.574074074074076,
          46.09375,
          37.61467889908257,
          22.448979591836736,
          36.91275167785235,
          46.09375,
          37.61467889908257,
          22.448979591836736,
          36.91275167785235,
          22.916666666666664,
          3.488372093023256,
          31.944444444444443,
          33.57664233576642,
          34.41558441558442,
          8.928571428571429,
          32.70440251572327,
          14.000000000000002,
          60.46511627906976,
          32.37410071942446,
          22.22222222222222,
          58.42696629213483,
          2.4691358024691357,
          15.686274509803921,
          46.846846846846844,
          9.701492537313433,
          14.130434782608695,
          13.26530612244898,
          25.333333333333336,
          31.48148148148148,
          23.809523809523807,
          31.097560975609756,
          32.075471698113205,
          32.69230769230769,
          70.1492537313433,
          27.27272727272727,
          31.25,
          10.588235294117647,
          34.01360544217687,
          48.10126582278481,
          25.203252032520325,
          30.107526881720432,
          28.125,
          19.78021978021978,
          17.741935483870968,
          21.153846153846153,
          34.92063492063492,
          32.69230769230769,
          19.51219512195122,
          13.636363636363635,
          34.32835820895522,
          27.083333333333332,
          42.73504273504273,
          33.07086614173229,
          4,
          42.51968503937008,
          31.683168316831683,
          27.906976744186046,
          10.377358490566039,
          8.256880733944955
         ]
        }
       ],
       "layout": {
        "coloraxis": {
         "cmax": 100,
         "cmin": 0,
         "colorbar": {
          "title": {
           "text": "Hip hop/Rap/R&b"
          }
         },
         "colorscale": [
          [
           0,
           "#0d0887"
          ],
          [
           0.1111111111111111,
           "#46039f"
          ],
          [
           0.2222222222222222,
           "#7201a8"
          ],
          [
           0.3333333333333333,
           "#9c179e"
          ],
          [
           0.4444444444444444,
           "#bd3786"
          ],
          [
           0.5555555555555556,
           "#d8576b"
          ],
          [
           0.6666666666666666,
           "#ed7953"
          ],
          [
           0.7777777777777778,
           "#fb9f3a"
          ],
          [
           0.8888888888888888,
           "#fdca26"
          ],
          [
           1,
           "#f0f921"
          ]
         ]
        },
        "geo": {
         "center": {},
         "domain": {
          "x": [
           0,
           1
          ],
          "y": [
           0,
           1
          ]
         }
        },
        "height": 600,
        "legend": {
         "tracegroupgap": 0
        },
        "margin": {
         "b": 10,
         "l": 15,
         "pad": 0,
         "r": 15,
         "t": 50
        },
        "template": {
         "data": {
          "bar": [
           {
            "error_x": {
             "color": "#2a3f5f"
            },
            "error_y": {
             "color": "#2a3f5f"
            },
            "marker": {
             "line": {
              "color": "#E5ECF6",
              "width": 0.5
             },
             "pattern": {
              "fillmode": "overlay",
              "size": 10,
              "solidity": 0.2
             }
            },
            "type": "bar"
           }
          ],
          "barpolar": [
           {
            "marker": {
             "line": {
              "color": "#E5ECF6",
              "width": 0.5
             },
             "pattern": {
              "fillmode": "overlay",
              "size": 10,
              "solidity": 0.2
             }
            },
            "type": "barpolar"
           }
          ],
          "carpet": [
           {
            "aaxis": {
             "endlinecolor": "#2a3f5f",
             "gridcolor": "white",
             "linecolor": "white",
             "minorgridcolor": "white",
             "startlinecolor": "#2a3f5f"
            },
            "baxis": {
             "endlinecolor": "#2a3f5f",
             "gridcolor": "white",
             "linecolor": "white",
             "minorgridcolor": "white",
             "startlinecolor": "#2a3f5f"
            },
            "type": "carpet"
           }
          ],
          "choropleth": [
           {
            "colorbar": {
             "outlinewidth": 0,
             "ticks": ""
            },
            "type": "choropleth"
           }
          ],
          "contour": [
           {
            "colorbar": {
             "outlinewidth": 0,
             "ticks": ""
            },
            "colorscale": [
             [
              0,
              "#0d0887"
             ],
             [
              0.1111111111111111,
              "#46039f"
             ],
             [
              0.2222222222222222,
              "#7201a8"
             ],
             [
              0.3333333333333333,
              "#9c179e"
             ],
             [
              0.4444444444444444,
              "#bd3786"
             ],
             [
              0.5555555555555556,
              "#d8576b"
             ],
             [
              0.6666666666666666,
              "#ed7953"
             ],
             [
              0.7777777777777778,
              "#fb9f3a"
             ],
             [
              0.8888888888888888,
              "#fdca26"
             ],
             [
              1,
              "#f0f921"
             ]
            ],
            "type": "contour"
           }
          ],
          "contourcarpet": [
           {
            "colorbar": {
             "outlinewidth": 0,
             "ticks": ""
            },
            "type": "contourcarpet"
           }
          ],
          "heatmap": [
           {
            "colorbar": {
             "outlinewidth": 0,
             "ticks": ""
            },
            "colorscale": [
             [
              0,
              "#0d0887"
             ],
             [
              0.1111111111111111,
              "#46039f"
             ],
             [
              0.2222222222222222,
              "#7201a8"
             ],
             [
              0.3333333333333333,
              "#9c179e"
             ],
             [
              0.4444444444444444,
              "#bd3786"
             ],
             [
              0.5555555555555556,
              "#d8576b"
             ],
             [
              0.6666666666666666,
              "#ed7953"
             ],
             [
              0.7777777777777778,
              "#fb9f3a"
             ],
             [
              0.8888888888888888,
              "#fdca26"
             ],
             [
              1,
              "#f0f921"
             ]
            ],
            "type": "heatmap"
           }
          ],
          "heatmapgl": [
           {
            "colorbar": {
             "outlinewidth": 0,
             "ticks": ""
            },
            "colorscale": [
             [
              0,
              "#0d0887"
             ],
             [
              0.1111111111111111,
              "#46039f"
             ],
             [
              0.2222222222222222,
              "#7201a8"
             ],
             [
              0.3333333333333333,
              "#9c179e"
             ],
             [
              0.4444444444444444,
              "#bd3786"
             ],
             [
              0.5555555555555556,
              "#d8576b"
             ],
             [
              0.6666666666666666,
              "#ed7953"
             ],
             [
              0.7777777777777778,
              "#fb9f3a"
             ],
             [
              0.8888888888888888,
              "#fdca26"
             ],
             [
              1,
              "#f0f921"
             ]
            ],
            "type": "heatmapgl"
           }
          ],
          "histogram": [
           {
            "marker": {
             "pattern": {
              "fillmode": "overlay",
              "size": 10,
              "solidity": 0.2
             }
            },
            "type": "histogram"
           }
          ],
          "histogram2d": [
           {
            "colorbar": {
             "outlinewidth": 0,
             "ticks": ""
            },
            "colorscale": [
             [
              0,
              "#0d0887"
             ],
             [
              0.1111111111111111,
              "#46039f"
             ],
             [
              0.2222222222222222,
              "#7201a8"
             ],
             [
              0.3333333333333333,
              "#9c179e"
             ],
             [
              0.4444444444444444,
              "#bd3786"
             ],
             [
              0.5555555555555556,
              "#d8576b"
             ],
             [
              0.6666666666666666,
              "#ed7953"
             ],
             [
              0.7777777777777778,
              "#fb9f3a"
             ],
             [
              0.8888888888888888,
              "#fdca26"
             ],
             [
              1,
              "#f0f921"
             ]
            ],
            "type": "histogram2d"
           }
          ],
          "histogram2dcontour": [
           {
            "colorbar": {
             "outlinewidth": 0,
             "ticks": ""
            },
            "colorscale": [
             [
              0,
              "#0d0887"
             ],
             [
              0.1111111111111111,
              "#46039f"
             ],
             [
              0.2222222222222222,
              "#7201a8"
             ],
             [
              0.3333333333333333,
              "#9c179e"
             ],
             [
              0.4444444444444444,
              "#bd3786"
             ],
             [
              0.5555555555555556,
              "#d8576b"
             ],
             [
              0.6666666666666666,
              "#ed7953"
             ],
             [
              0.7777777777777778,
              "#fb9f3a"
             ],
             [
              0.8888888888888888,
              "#fdca26"
             ],
             [
              1,
              "#f0f921"
             ]
            ],
            "type": "histogram2dcontour"
           }
          ],
          "mesh3d": [
           {
            "colorbar": {
             "outlinewidth": 0,
             "ticks": ""
            },
            "type": "mesh3d"
           }
          ],
          "parcoords": [
           {
            "line": {
             "colorbar": {
              "outlinewidth": 0,
              "ticks": ""
             }
            },
            "type": "parcoords"
           }
          ],
          "pie": [
           {
            "automargin": true,
            "type": "pie"
           }
          ],
          "scatter": [
           {
            "fillpattern": {
             "fillmode": "overlay",
             "size": 10,
             "solidity": 0.2
            },
            "type": "scatter"
           }
          ],
          "scatter3d": [
           {
            "line": {
             "colorbar": {
              "outlinewidth": 0,
              "ticks": ""
             }
            },
            "marker": {
             "colorbar": {
              "outlinewidth": 0,
              "ticks": ""
             }
            },
            "type": "scatter3d"
           }
          ],
          "scattercarpet": [
           {
            "marker": {
             "colorbar": {
              "outlinewidth": 0,
              "ticks": ""
             }
            },
            "type": "scattercarpet"
           }
          ],
          "scattergeo": [
           {
            "marker": {
             "colorbar": {
              "outlinewidth": 0,
              "ticks": ""
             }
            },
            "type": "scattergeo"
           }
          ],
          "scattergl": [
           {
            "marker": {
             "colorbar": {
              "outlinewidth": 0,
              "ticks": ""
             }
            },
            "type": "scattergl"
           }
          ],
          "scattermapbox": [
           {
            "marker": {
             "colorbar": {
              "outlinewidth": 0,
              "ticks": ""
             }
            },
            "type": "scattermapbox"
           }
          ],
          "scatterpolar": [
           {
            "marker": {
             "colorbar": {
              "outlinewidth": 0,
              "ticks": ""
             }
            },
            "type": "scatterpolar"
           }
          ],
          "scatterpolargl": [
           {
            "marker": {
             "colorbar": {
              "outlinewidth": 0,
              "ticks": ""
             }
            },
            "type": "scatterpolargl"
           }
          ],
          "scatterternary": [
           {
            "marker": {
             "colorbar": {
              "outlinewidth": 0,
              "ticks": ""
             }
            },
            "type": "scatterternary"
           }
          ],
          "surface": [
           {
            "colorbar": {
             "outlinewidth": 0,
             "ticks": ""
            },
            "colorscale": [
             [
              0,
              "#0d0887"
             ],
             [
              0.1111111111111111,
              "#46039f"
             ],
             [
              0.2222222222222222,
              "#7201a8"
             ],
             [
              0.3333333333333333,
              "#9c179e"
             ],
             [
              0.4444444444444444,
              "#bd3786"
             ],
             [
              0.5555555555555556,
              "#d8576b"
             ],
             [
              0.6666666666666666,
              "#ed7953"
             ],
             [
              0.7777777777777778,
              "#fb9f3a"
             ],
             [
              0.8888888888888888,
              "#fdca26"
             ],
             [
              1,
              "#f0f921"
             ]
            ],
            "type": "surface"
           }
          ],
          "table": [
           {
            "cells": {
             "fill": {
              "color": "#EBF0F8"
             },
             "line": {
              "color": "white"
             }
            },
            "header": {
             "fill": {
              "color": "#C8D4E3"
             },
             "line": {
              "color": "white"
             }
            },
            "type": "table"
           }
          ]
         },
         "layout": {
          "annotationdefaults": {
           "arrowcolor": "#2a3f5f",
           "arrowhead": 0,
           "arrowwidth": 1
          },
          "autotypenumbers": "strict",
          "coloraxis": {
           "colorbar": {
            "outlinewidth": 0,
            "ticks": ""
           }
          },
          "colorscale": {
           "diverging": [
            [
             0,
             "#8e0152"
            ],
            [
             0.1,
             "#c51b7d"
            ],
            [
             0.2,
             "#de77ae"
            ],
            [
             0.3,
             "#f1b6da"
            ],
            [
             0.4,
             "#fde0ef"
            ],
            [
             0.5,
             "#f7f7f7"
            ],
            [
             0.6,
             "#e6f5d0"
            ],
            [
             0.7,
             "#b8e186"
            ],
            [
             0.8,
             "#7fbc41"
            ],
            [
             0.9,
             "#4d9221"
            ],
            [
             1,
             "#276419"
            ]
           ],
           "sequential": [
            [
             0,
             "#0d0887"
            ],
            [
             0.1111111111111111,
             "#46039f"
            ],
            [
             0.2222222222222222,
             "#7201a8"
            ],
            [
             0.3333333333333333,
             "#9c179e"
            ],
            [
             0.4444444444444444,
             "#bd3786"
            ],
            [
             0.5555555555555556,
             "#d8576b"
            ],
            [
             0.6666666666666666,
             "#ed7953"
            ],
            [
             0.7777777777777778,
             "#fb9f3a"
            ],
            [
             0.8888888888888888,
             "#fdca26"
            ],
            [
             1,
             "#f0f921"
            ]
           ],
           "sequentialminus": [
            [
             0,
             "#0d0887"
            ],
            [
             0.1111111111111111,
             "#46039f"
            ],
            [
             0.2222222222222222,
             "#7201a8"
            ],
            [
             0.3333333333333333,
             "#9c179e"
            ],
            [
             0.4444444444444444,
             "#bd3786"
            ],
            [
             0.5555555555555556,
             "#d8576b"
            ],
            [
             0.6666666666666666,
             "#ed7953"
            ],
            [
             0.7777777777777778,
             "#fb9f3a"
            ],
            [
             0.8888888888888888,
             "#fdca26"
            ],
            [
             1,
             "#f0f921"
            ]
           ]
          },
          "colorway": [
           "#636efa",
           "#EF553B",
           "#00cc96",
           "#ab63fa",
           "#FFA15A",
           "#19d3f3",
           "#FF6692",
           "#B6E880",
           "#FF97FF",
           "#FECB52"
          ],
          "font": {
           "color": "#2a3f5f"
          },
          "geo": {
           "bgcolor": "white",
           "lakecolor": "white",
           "landcolor": "#E5ECF6",
           "showlakes": true,
           "showland": true,
           "subunitcolor": "white"
          },
          "hoverlabel": {
           "align": "left"
          },
          "hovermode": "closest",
          "mapbox": {
           "style": "light"
          },
          "paper_bgcolor": "white",
          "plot_bgcolor": "#E5ECF6",
          "polar": {
           "angularaxis": {
            "gridcolor": "white",
            "linecolor": "white",
            "ticks": ""
           },
           "bgcolor": "#E5ECF6",
           "radialaxis": {
            "gridcolor": "white",
            "linecolor": "white",
            "ticks": ""
           }
          },
          "scene": {
           "xaxis": {
            "backgroundcolor": "#E5ECF6",
            "gridcolor": "white",
            "gridwidth": 2,
            "linecolor": "white",
            "showbackground": true,
            "ticks": "",
            "zerolinecolor": "white"
           },
           "yaxis": {
            "backgroundcolor": "#E5ECF6",
            "gridcolor": "white",
            "gridwidth": 2,
            "linecolor": "white",
            "showbackground": true,
            "ticks": "",
            "zerolinecolor": "white"
           },
           "zaxis": {
            "backgroundcolor": "#E5ECF6",
            "gridcolor": "white",
            "gridwidth": 2,
            "linecolor": "white",
            "showbackground": true,
            "ticks": "",
            "zerolinecolor": "white"
           }
          },
          "shapedefaults": {
           "line": {
            "color": "#2a3f5f"
           }
          },
          "ternary": {
           "aaxis": {
            "gridcolor": "white",
            "linecolor": "white",
            "ticks": ""
           },
           "baxis": {
            "gridcolor": "white",
            "linecolor": "white",
            "ticks": ""
           },
           "bgcolor": "#E5ECF6",
           "caxis": {
            "gridcolor": "white",
            "linecolor": "white",
            "ticks": ""
           }
          },
          "title": {
           "x": 0.05
          },
          "xaxis": {
           "automargin": true,
           "gridcolor": "white",
           "linecolor": "white",
           "ticks": "",
           "title": {
            "standoff": 15
           },
           "zerolinecolor": "white",
           "zerolinewidth": 2
          },
          "yaxis": {
           "automargin": true,
           "gridcolor": "white",
           "linecolor": "white",
           "ticks": "",
           "title": {
            "standoff": 15
           },
           "zerolinecolor": "white",
           "zerolinewidth": 2
          }
         }
        },
        "title": {
         "font": {
          "size": 25
         },
         "text": "Popularity of 'Hip hop/Rap/R&B' Music in the World"
        }
       }
      }
     },
     "metadata": {},
     "output_type": "display_data"
    }
   ],
   "source": [
    "countries_and_hiphop = normalized_genres_data[['Country', 'Hip hop/Rap/R&b']]\n",
    "\n",
    "# Create the world map plot using Plotly\n",
    "fig4_hiphop = px.choropleth(countries_and_hiphop, \n",
    "                    locations=\"Country\", \n",
    "                    locationmode=\"country names\", \n",
    "                    color='Hip hop/Rap/R&b', \n",
    "                    range_color=[0, 100],\n",
    "                    title=\"Popularity of 'Hip hop/Rap/R&B' Music in the World\"\n",
    "                   )\n",
    "fig4_hiphop.update_layout(\n",
    "    title_font=dict(size=25),\n",
    "    height=600,\n",
    "    margin=dict(l=15, r=15, t=50, b=10, pad=0)\n",
    ")\n",
    "\n",
    "fig4_hiphop.show()"
   ]
  },
  {
   "cell_type": "code",
   "execution_count": 11,
   "id": "3193d113",
   "metadata": {},
   "outputs": [],
   "source": [
    "path_dataset2 = \"./dataset/albumlist.csv\"\n",
    "dataset = pd.read_csv(path_dataset2)"
   ]
  },
  {
   "cell_type": "code",
   "execution_count": 12,
   "id": "b23ddf41",
   "metadata": {},
   "outputs": [],
   "source": [
    "genres_list = dataset['Genre'].value_counts()\n",
    "count_map = {}\n",
    "for genres in genres_list.keys():\n",
    "    count = genres_list[genres]\n",
    "    genres = genres.strip()\n",
    "    split_genres = genres.split(',')\n",
    "    for genre in split_genres:\n",
    "        genre = genre.strip(\" & \")\n",
    "        if genre in count_map.keys():\n",
    "            count_map[genre] = count_map[genre] + count\n",
    "        else:\n",
    "            count_map[genre] = count\n",
    "count_map = dict(sorted(count_map.items(), key=lambda item: item[1], reverse=True))"
   ]
  },
  {
   "cell_type": "code",
   "execution_count": 13,
   "id": "5ba05af7",
   "metadata": {},
   "outputs": [
    {
     "data": {
      "application/vnd.plotly.v1+json": {
       "config": {
        "plotlyServerURL": "https://plot.ly"
       },
       "data": [
        {
         "alignmentgroup": "True",
         "hovertemplate": "Decade=1960s<br>Number of Albums=%{x}<br>Genre=%{y}<extra></extra>",
         "legendgroup": "",
         "marker": {
          "color": "#636efa",
          "pattern": {
           "shape": ""
          }
         },
         "name": "",
         "offsetgroup": "",
         "orientation": "h",
         "showlegend": false,
         "textposition": "auto",
         "type": "bar",
         "x": [
          83,
          19,
          7,
          9,
          9,
          2,
          1
         ],
         "xaxis": "x",
         "y": [
          "Rock",
          "Funk / Soul",
          "Pop",
          "Country",
          "Folk",
          "Electronic",
          "Latin"
         ],
         "yaxis": "y"
        }
       ],
       "frames": [
        {
         "data": [
          {
           "alignmentgroup": "True",
           "hovertemplate": "Decade=1960s<br>Number of Albums=%{x}<br>Genre=%{y}<extra></extra>",
           "legendgroup": "",
           "marker": {
            "color": "#636efa",
            "pattern": {
             "shape": ""
            }
           },
           "name": "",
           "offsetgroup": "",
           "orientation": "h",
           "showlegend": false,
           "textposition": "auto",
           "type": "bar",
           "x": [
            83,
            19,
            7,
            9,
            9,
            2,
            1
           ],
           "xaxis": "x",
           "y": [
            "Rock",
            "Funk / Soul",
            "Pop",
            "Country",
            "Folk",
            "Electronic",
            "Latin"
           ],
           "yaxis": "y"
          }
         ],
         "name": "1960s"
        },
        {
         "data": [
          {
           "alignmentgroup": "True",
           "hovertemplate": "Decade=1970s<br>Number of Albums=%{x}<br>Genre=%{y}<extra></extra>",
           "legendgroup": "",
           "marker": {
            "color": "#636efa",
            "pattern": {
             "shape": ""
            }
           },
           "name": "",
           "offsetgroup": "",
           "orientation": "h",
           "showlegend": false,
           "textposition": "auto",
           "type": "bar",
           "x": [
            142,
            29,
            13,
            11,
            10,
            9,
            1
           ],
           "xaxis": "x",
           "y": [
            "Rock",
            "Funk / Soul",
            "Pop",
            "Country",
            "Folk",
            "Electronic",
            "Latin"
           ],
           "yaxis": "y"
          }
         ],
         "name": "1970s"
        },
        {
         "data": [
          {
           "alignmentgroup": "True",
           "hovertemplate": "Decade=1980s<br>Number of Albums=%{x}<br>Genre=%{y}<extra></extra>",
           "legendgroup": "",
           "marker": {
            "color": "#636efa",
            "pattern": {
             "shape": ""
            }
           },
           "name": "",
           "offsetgroup": "",
           "orientation": "h",
           "showlegend": false,
           "textposition": "auto",
           "type": "bar",
           "x": [
            62,
            15,
            14,
            6,
            5,
            10,
            1
           ],
           "xaxis": "x",
           "y": [
            "Rock",
            "Funk / Soul",
            "Pop",
            "Country",
            "Folk",
            "Electronic",
            "Latin"
           ],
           "yaxis": "y"
          }
         ],
         "name": "1980s"
        },
        {
         "data": [
          {
           "alignmentgroup": "True",
           "hovertemplate": "Decade=1990s<br>Number of Albums=%{x}<br>Genre=%{y}<extra></extra>",
           "legendgroup": "",
           "marker": {
            "color": "#636efa",
            "pattern": {
             "shape": ""
            }
           },
           "name": "",
           "offsetgroup": "",
           "orientation": "h",
           "showlegend": false,
           "textposition": "auto",
           "type": "bar",
           "x": [
            36,
            11,
            8,
            6,
            6,
            16,
            0
           ],
           "xaxis": "x",
           "y": [
            "Rock",
            "Funk / Soul",
            "Pop",
            "Country",
            "Folk",
            "Electronic",
            "Latin"
           ],
           "yaxis": "y"
          }
         ],
         "name": "1990s"
        },
        {
         "data": [
          {
           "alignmentgroup": "True",
           "hovertemplate": "Decade=2000s<br>Number of Albums=%{x}<br>Genre=%{y}<extra></extra>",
           "legendgroup": "",
           "marker": {
            "color": "#636efa",
            "pattern": {
             "shape": ""
            }
           },
           "name": "",
           "offsetgroup": "",
           "orientation": "h",
           "showlegend": false,
           "textposition": "auto",
           "type": "bar",
           "x": [
            24,
            6,
            6,
            3,
            3,
            8,
            2
           ],
           "xaxis": "x",
           "y": [
            "Rock",
            "Funk / Soul",
            "Pop",
            "Country",
            "Folk",
            "Electronic",
            "Latin"
           ],
           "yaxis": "y"
          }
         ],
         "name": "2000s"
        }
       ],
       "layout": {
        "barmode": "relative",
        "legend": {
         "tracegroupgap": 0
        },
        "margin": {
         "t": 60
        },
        "sliders": [
         {
          "active": 0,
          "currentvalue": {
           "prefix": "Decade="
          },
          "len": 0.9,
          "pad": {
           "b": 10,
           "t": 60
          },
          "steps": [
           {
            "args": [
             [
              "1960s"
             ],
             {
              "frame": {
               "duration": 0,
               "redraw": true
              },
              "fromcurrent": true,
              "mode": "immediate",
              "transition": {
               "duration": 0,
               "easing": "linear"
              }
             }
            ],
            "label": "1960s",
            "method": "animate"
           },
           {
            "args": [
             [
              "1970s"
             ],
             {
              "frame": {
               "duration": 0,
               "redraw": true
              },
              "fromcurrent": true,
              "mode": "immediate",
              "transition": {
               "duration": 0,
               "easing": "linear"
              }
             }
            ],
            "label": "1970s",
            "method": "animate"
           },
           {
            "args": [
             [
              "1980s"
             ],
             {
              "frame": {
               "duration": 0,
               "redraw": true
              },
              "fromcurrent": true,
              "mode": "immediate",
              "transition": {
               "duration": 0,
               "easing": "linear"
              }
             }
            ],
            "label": "1980s",
            "method": "animate"
           },
           {
            "args": [
             [
              "1990s"
             ],
             {
              "frame": {
               "duration": 0,
               "redraw": true
              },
              "fromcurrent": true,
              "mode": "immediate",
              "transition": {
               "duration": 0,
               "easing": "linear"
              }
             }
            ],
            "label": "1990s",
            "method": "animate"
           },
           {
            "args": [
             [
              "2000s"
             ],
             {
              "frame": {
               "duration": 0,
               "redraw": true
              },
              "fromcurrent": true,
              "mode": "immediate",
              "transition": {
               "duration": 0,
               "easing": "linear"
              }
             }
            ],
            "label": "2000s",
            "method": "animate"
           }
          ],
          "x": 0.1,
          "xanchor": "left",
          "y": 0,
          "yanchor": "top"
         }
        ],
        "template": {
         "data": {
          "bar": [
           {
            "error_x": {
             "color": "#2a3f5f"
            },
            "error_y": {
             "color": "#2a3f5f"
            },
            "marker": {
             "line": {
              "color": "#E5ECF6",
              "width": 0.5
             },
             "pattern": {
              "fillmode": "overlay",
              "size": 10,
              "solidity": 0.2
             }
            },
            "type": "bar"
           }
          ],
          "barpolar": [
           {
            "marker": {
             "line": {
              "color": "#E5ECF6",
              "width": 0.5
             },
             "pattern": {
              "fillmode": "overlay",
              "size": 10,
              "solidity": 0.2
             }
            },
            "type": "barpolar"
           }
          ],
          "carpet": [
           {
            "aaxis": {
             "endlinecolor": "#2a3f5f",
             "gridcolor": "white",
             "linecolor": "white",
             "minorgridcolor": "white",
             "startlinecolor": "#2a3f5f"
            },
            "baxis": {
             "endlinecolor": "#2a3f5f",
             "gridcolor": "white",
             "linecolor": "white",
             "minorgridcolor": "white",
             "startlinecolor": "#2a3f5f"
            },
            "type": "carpet"
           }
          ],
          "choropleth": [
           {
            "colorbar": {
             "outlinewidth": 0,
             "ticks": ""
            },
            "type": "choropleth"
           }
          ],
          "contour": [
           {
            "colorbar": {
             "outlinewidth": 0,
             "ticks": ""
            },
            "colorscale": [
             [
              0,
              "#0d0887"
             ],
             [
              0.1111111111111111,
              "#46039f"
             ],
             [
              0.2222222222222222,
              "#7201a8"
             ],
             [
              0.3333333333333333,
              "#9c179e"
             ],
             [
              0.4444444444444444,
              "#bd3786"
             ],
             [
              0.5555555555555556,
              "#d8576b"
             ],
             [
              0.6666666666666666,
              "#ed7953"
             ],
             [
              0.7777777777777778,
              "#fb9f3a"
             ],
             [
              0.8888888888888888,
              "#fdca26"
             ],
             [
              1,
              "#f0f921"
             ]
            ],
            "type": "contour"
           }
          ],
          "contourcarpet": [
           {
            "colorbar": {
             "outlinewidth": 0,
             "ticks": ""
            },
            "type": "contourcarpet"
           }
          ],
          "heatmap": [
           {
            "colorbar": {
             "outlinewidth": 0,
             "ticks": ""
            },
            "colorscale": [
             [
              0,
              "#0d0887"
             ],
             [
              0.1111111111111111,
              "#46039f"
             ],
             [
              0.2222222222222222,
              "#7201a8"
             ],
             [
              0.3333333333333333,
              "#9c179e"
             ],
             [
              0.4444444444444444,
              "#bd3786"
             ],
             [
              0.5555555555555556,
              "#d8576b"
             ],
             [
              0.6666666666666666,
              "#ed7953"
             ],
             [
              0.7777777777777778,
              "#fb9f3a"
             ],
             [
              0.8888888888888888,
              "#fdca26"
             ],
             [
              1,
              "#f0f921"
             ]
            ],
            "type": "heatmap"
           }
          ],
          "heatmapgl": [
           {
            "colorbar": {
             "outlinewidth": 0,
             "ticks": ""
            },
            "colorscale": [
             [
              0,
              "#0d0887"
             ],
             [
              0.1111111111111111,
              "#46039f"
             ],
             [
              0.2222222222222222,
              "#7201a8"
             ],
             [
              0.3333333333333333,
              "#9c179e"
             ],
             [
              0.4444444444444444,
              "#bd3786"
             ],
             [
              0.5555555555555556,
              "#d8576b"
             ],
             [
              0.6666666666666666,
              "#ed7953"
             ],
             [
              0.7777777777777778,
              "#fb9f3a"
             ],
             [
              0.8888888888888888,
              "#fdca26"
             ],
             [
              1,
              "#f0f921"
             ]
            ],
            "type": "heatmapgl"
           }
          ],
          "histogram": [
           {
            "marker": {
             "pattern": {
              "fillmode": "overlay",
              "size": 10,
              "solidity": 0.2
             }
            },
            "type": "histogram"
           }
          ],
          "histogram2d": [
           {
            "colorbar": {
             "outlinewidth": 0,
             "ticks": ""
            },
            "colorscale": [
             [
              0,
              "#0d0887"
             ],
             [
              0.1111111111111111,
              "#46039f"
             ],
             [
              0.2222222222222222,
              "#7201a8"
             ],
             [
              0.3333333333333333,
              "#9c179e"
             ],
             [
              0.4444444444444444,
              "#bd3786"
             ],
             [
              0.5555555555555556,
              "#d8576b"
             ],
             [
              0.6666666666666666,
              "#ed7953"
             ],
             [
              0.7777777777777778,
              "#fb9f3a"
             ],
             [
              0.8888888888888888,
              "#fdca26"
             ],
             [
              1,
              "#f0f921"
             ]
            ],
            "type": "histogram2d"
           }
          ],
          "histogram2dcontour": [
           {
            "colorbar": {
             "outlinewidth": 0,
             "ticks": ""
            },
            "colorscale": [
             [
              0,
              "#0d0887"
             ],
             [
              0.1111111111111111,
              "#46039f"
             ],
             [
              0.2222222222222222,
              "#7201a8"
             ],
             [
              0.3333333333333333,
              "#9c179e"
             ],
             [
              0.4444444444444444,
              "#bd3786"
             ],
             [
              0.5555555555555556,
              "#d8576b"
             ],
             [
              0.6666666666666666,
              "#ed7953"
             ],
             [
              0.7777777777777778,
              "#fb9f3a"
             ],
             [
              0.8888888888888888,
              "#fdca26"
             ],
             [
              1,
              "#f0f921"
             ]
            ],
            "type": "histogram2dcontour"
           }
          ],
          "mesh3d": [
           {
            "colorbar": {
             "outlinewidth": 0,
             "ticks": ""
            },
            "type": "mesh3d"
           }
          ],
          "parcoords": [
           {
            "line": {
             "colorbar": {
              "outlinewidth": 0,
              "ticks": ""
             }
            },
            "type": "parcoords"
           }
          ],
          "pie": [
           {
            "automargin": true,
            "type": "pie"
           }
          ],
          "scatter": [
           {
            "fillpattern": {
             "fillmode": "overlay",
             "size": 10,
             "solidity": 0.2
            },
            "type": "scatter"
           }
          ],
          "scatter3d": [
           {
            "line": {
             "colorbar": {
              "outlinewidth": 0,
              "ticks": ""
             }
            },
            "marker": {
             "colorbar": {
              "outlinewidth": 0,
              "ticks": ""
             }
            },
            "type": "scatter3d"
           }
          ],
          "scattercarpet": [
           {
            "marker": {
             "colorbar": {
              "outlinewidth": 0,
              "ticks": ""
             }
            },
            "type": "scattercarpet"
           }
          ],
          "scattergeo": [
           {
            "marker": {
             "colorbar": {
              "outlinewidth": 0,
              "ticks": ""
             }
            },
            "type": "scattergeo"
           }
          ],
          "scattergl": [
           {
            "marker": {
             "colorbar": {
              "outlinewidth": 0,
              "ticks": ""
             }
            },
            "type": "scattergl"
           }
          ],
          "scattermapbox": [
           {
            "marker": {
             "colorbar": {
              "outlinewidth": 0,
              "ticks": ""
             }
            },
            "type": "scattermapbox"
           }
          ],
          "scatterpolar": [
           {
            "marker": {
             "colorbar": {
              "outlinewidth": 0,
              "ticks": ""
             }
            },
            "type": "scatterpolar"
           }
          ],
          "scatterpolargl": [
           {
            "marker": {
             "colorbar": {
              "outlinewidth": 0,
              "ticks": ""
             }
            },
            "type": "scatterpolargl"
           }
          ],
          "scatterternary": [
           {
            "marker": {
             "colorbar": {
              "outlinewidth": 0,
              "ticks": ""
             }
            },
            "type": "scatterternary"
           }
          ],
          "surface": [
           {
            "colorbar": {
             "outlinewidth": 0,
             "ticks": ""
            },
            "colorscale": [
             [
              0,
              "#0d0887"
             ],
             [
              0.1111111111111111,
              "#46039f"
             ],
             [
              0.2222222222222222,
              "#7201a8"
             ],
             [
              0.3333333333333333,
              "#9c179e"
             ],
             [
              0.4444444444444444,
              "#bd3786"
             ],
             [
              0.5555555555555556,
              "#d8576b"
             ],
             [
              0.6666666666666666,
              "#ed7953"
             ],
             [
              0.7777777777777778,
              "#fb9f3a"
             ],
             [
              0.8888888888888888,
              "#fdca26"
             ],
             [
              1,
              "#f0f921"
             ]
            ],
            "type": "surface"
           }
          ],
          "table": [
           {
            "cells": {
             "fill": {
              "color": "#EBF0F8"
             },
             "line": {
              "color": "white"
             }
            },
            "header": {
             "fill": {
              "color": "#C8D4E3"
             },
             "line": {
              "color": "white"
             }
            },
            "type": "table"
           }
          ]
         },
         "layout": {
          "annotationdefaults": {
           "arrowcolor": "#2a3f5f",
           "arrowhead": 0,
           "arrowwidth": 1
          },
          "autotypenumbers": "strict",
          "coloraxis": {
           "colorbar": {
            "outlinewidth": 0,
            "ticks": ""
           }
          },
          "colorscale": {
           "diverging": [
            [
             0,
             "#8e0152"
            ],
            [
             0.1,
             "#c51b7d"
            ],
            [
             0.2,
             "#de77ae"
            ],
            [
             0.3,
             "#f1b6da"
            ],
            [
             0.4,
             "#fde0ef"
            ],
            [
             0.5,
             "#f7f7f7"
            ],
            [
             0.6,
             "#e6f5d0"
            ],
            [
             0.7,
             "#b8e186"
            ],
            [
             0.8,
             "#7fbc41"
            ],
            [
             0.9,
             "#4d9221"
            ],
            [
             1,
             "#276419"
            ]
           ],
           "sequential": [
            [
             0,
             "#0d0887"
            ],
            [
             0.1111111111111111,
             "#46039f"
            ],
            [
             0.2222222222222222,
             "#7201a8"
            ],
            [
             0.3333333333333333,
             "#9c179e"
            ],
            [
             0.4444444444444444,
             "#bd3786"
            ],
            [
             0.5555555555555556,
             "#d8576b"
            ],
            [
             0.6666666666666666,
             "#ed7953"
            ],
            [
             0.7777777777777778,
             "#fb9f3a"
            ],
            [
             0.8888888888888888,
             "#fdca26"
            ],
            [
             1,
             "#f0f921"
            ]
           ],
           "sequentialminus": [
            [
             0,
             "#0d0887"
            ],
            [
             0.1111111111111111,
             "#46039f"
            ],
            [
             0.2222222222222222,
             "#7201a8"
            ],
            [
             0.3333333333333333,
             "#9c179e"
            ],
            [
             0.4444444444444444,
             "#bd3786"
            ],
            [
             0.5555555555555556,
             "#d8576b"
            ],
            [
             0.6666666666666666,
             "#ed7953"
            ],
            [
             0.7777777777777778,
             "#fb9f3a"
            ],
            [
             0.8888888888888888,
             "#fdca26"
            ],
            [
             1,
             "#f0f921"
            ]
           ]
          },
          "colorway": [
           "#636efa",
           "#EF553B",
           "#00cc96",
           "#ab63fa",
           "#FFA15A",
           "#19d3f3",
           "#FF6692",
           "#B6E880",
           "#FF97FF",
           "#FECB52"
          ],
          "font": {
           "color": "#2a3f5f"
          },
          "geo": {
           "bgcolor": "white",
           "lakecolor": "white",
           "landcolor": "#E5ECF6",
           "showlakes": true,
           "showland": true,
           "subunitcolor": "white"
          },
          "hoverlabel": {
           "align": "left"
          },
          "hovermode": "closest",
          "mapbox": {
           "style": "light"
          },
          "paper_bgcolor": "white",
          "plot_bgcolor": "#E5ECF6",
          "polar": {
           "angularaxis": {
            "gridcolor": "white",
            "linecolor": "white",
            "ticks": ""
           },
           "bgcolor": "#E5ECF6",
           "radialaxis": {
            "gridcolor": "white",
            "linecolor": "white",
            "ticks": ""
           }
          },
          "scene": {
           "xaxis": {
            "backgroundcolor": "#E5ECF6",
            "gridcolor": "white",
            "gridwidth": 2,
            "linecolor": "white",
            "showbackground": true,
            "ticks": "",
            "zerolinecolor": "white"
           },
           "yaxis": {
            "backgroundcolor": "#E5ECF6",
            "gridcolor": "white",
            "gridwidth": 2,
            "linecolor": "white",
            "showbackground": true,
            "ticks": "",
            "zerolinecolor": "white"
           },
           "zaxis": {
            "backgroundcolor": "#E5ECF6",
            "gridcolor": "white",
            "gridwidth": 2,
            "linecolor": "white",
            "showbackground": true,
            "ticks": "",
            "zerolinecolor": "white"
           }
          },
          "shapedefaults": {
           "line": {
            "color": "#2a3f5f"
           }
          },
          "ternary": {
           "aaxis": {
            "gridcolor": "white",
            "linecolor": "white",
            "ticks": ""
           },
           "baxis": {
            "gridcolor": "white",
            "linecolor": "white",
            "ticks": ""
           },
           "bgcolor": "#E5ECF6",
           "caxis": {
            "gridcolor": "white",
            "linecolor": "white",
            "ticks": ""
           }
          },
          "title": {
           "x": 0.05
          },
          "xaxis": {
           "automargin": true,
           "gridcolor": "white",
           "linecolor": "white",
           "ticks": "",
           "title": {
            "standoff": 15
           },
           "zerolinecolor": "white",
           "zerolinewidth": 2
          },
          "yaxis": {
           "automargin": true,
           "gridcolor": "white",
           "linecolor": "white",
           "ticks": "",
           "title": {
            "standoff": 15
           },
           "zerolinecolor": "white",
           "zerolinewidth": 2
          }
         }
        },
        "updatemenus": [
         {
          "buttons": [
           {
            "args": [
             null,
             {
              "frame": {
               "duration": 1500,
               "redraw": true
              },
              "fromcurrent": true,
              "mode": "immediate",
              "transition": {
               "duration": 500,
               "easing": "linear"
              }
             }
            ],
            "label": "&#9654;",
            "method": "animate"
           },
           {
            "args": [
             [
              null
             ],
             {
              "frame": {
               "duration": 0,
               "redraw": true
              },
              "fromcurrent": true,
              "mode": "immediate",
              "transition": {
               "duration": 0,
               "easing": "linear"
              }
             }
            ],
            "label": "&#9724;",
            "method": "animate"
           }
          ],
          "direction": "left",
          "pad": {
           "r": 10,
           "t": 70
          },
          "showactive": false,
          "type": "buttons",
          "x": 0.1,
          "xanchor": "right",
          "y": 0,
          "yanchor": "top"
         }
        ],
        "xaxis": {
         "anchor": "y",
         "domain": [
          0,
          1
         ],
         "range": [
          0,
          142
         ],
         "title": {
          "text": "Number of Albums"
         }
        },
        "yaxis": {
         "anchor": "x",
         "categoryarray": [
          "Latin",
          "Electronic",
          "Folk",
          "Country",
          "Pop",
          "Funk / Soul",
          "Rock"
         ],
         "categoryorder": "array",
         "domain": [
          0,
          1
         ],
         "title": {
          "text": "Genre"
         }
        }
       }
      }
     },
     "metadata": {},
     "output_type": "display_data"
    }
   ],
   "source": [
    "import plotly.express as px\n",
    "\n",
    "# Create a new DataFrame to store the data for the plot\n",
    "data = []\n",
    "\n",
    "# Specify the order of genres\n",
    "all_genres = [\"Rock\",\"Funk / Soul\",\"Pop\",\"Country\",\"Folk\",\"Electronic\",\"Latin\"]\n",
    "\n",
    "# Loop over each decade\n",
    "for start_year in range(1960, 2001, 10):\n",
    "    end_year = start_year + 9\n",
    "    filtered_dataset = dataset[(dataset['Year'] >= start_year) & (dataset['Year'] <= end_year)]\n",
    "    genre_albums = {genre: 0 for genre in all_genres}\n",
    "    counts = filtered_dataset['Genre'].value_counts()\n",
    "    for genres in counts.index:\n",
    "        count = counts[genres]\n",
    "        genres = genres.strip()\n",
    "        split_genres = genres.split(',')\n",
    "        for genre in split_genres:\n",
    "            genre = genre.strip(\" & \")\n",
    "            if genre in genre_albums:\n",
    "                genre_albums[genre] += count\n",
    "    for genre, count in genre_albums.items():\n",
    "        data.append({'Decade': str(start_year) + 's', 'Genre': genre, 'Number of Albums': count})\n",
    "\n",
    "# Convert the data to a DataFrame\n",
    "df = pd.DataFrame(data)\n",
    "df = df[df['Genre'].isin(all_genres)]\n",
    "# Create the animated bar chart\n",
    "fig5_genre_list = px.bar(df, x='Number of Albums', y='Genre', animation_frame='Decade',orientation='h', \n",
    "             range_x=[0, df['Number of Albums'].max()], \n",
    "             category_orders={'Genre': all_genres})\n",
    "\n",
    "fig5_genre_list.layout.updatemenus[0].buttons[0].args[1][\"frame\"][\"duration\"] = 1500\n",
    "\n",
    "# Show the plot\n",
    "fig5_genre_list.show()"
   ]
  },
  {
   "cell_type": "code",
   "execution_count": 14,
   "id": "e1316317",
   "metadata": {},
   "outputs": [],
   "source": [
    "#figure on grammy album winners from different countries\n",
    "\n",
    "# First we generated album_winner_grammy_countries.csv from grammys-best album.csv by getting\n",
    "# latitudes and longitudes of cities to which the artists belong\n",
    "\n",
    "# path_dataset2 = \"./dataset/grammys-best album.csv\"\n",
    "# dataset = pd.read_csv(path_dataset2)\n",
    "# def year_to_decade(year):\n",
    "#     return str(year // 10 * 10) + \"s\"\n",
    "\n",
    "# dataset['decade'] = dataset['Year'].apply(year_to_decade)\n",
    "# grouped_data = dataset.groupby(['decade', 'City/town of birth/origin']).size().reset_index(name='count')\n",
    "# def get_lat_long(city):\n",
    "#     location = geolocator.geocode(city)\n",
    "#     if location:\n",
    "#         return location.latitude, location.longitude\n",
    "#     else:\n",
    "#         return None, None\n",
    "    \n",
    "# grouped_data['latitude'], grouped_data['longitude'] = zip(*grouped_data['City/town of birth/origin'].apply(get_lat_long))\n",
    "# grouped_data.to_csv('album_winner_grammy_countries.csv', index=False)"
   ]
  },
  {
   "cell_type": "code",
   "execution_count": 15,
   "id": "74349933",
   "metadata": {},
   "outputs": [
    {
     "data": {
      "application/vnd.plotly.v1+json": {
       "config": {
        "plotlyServerURL": "https://plot.ly"
       },
       "data": [
        {
         "geo": "geo",
         "hovertemplate": "<b>%{hovertext}</b><br><br>decade=1950s<br>lat=%{lat}<br>lon=%{lon}<br>count=%{marker.color}<extra></extra>",
         "hovertext": [
          "Cleveland"
         ],
         "lat": [
          41.4996574
         ],
         "legendgroup": "",
         "lon": [
          -81.6936772
         ],
         "marker": {
          "color": [
           1
          ],
          "coloraxis": "coloraxis",
          "symbol": "circle"
         },
         "mode": "markers",
         "name": "",
         "showlegend": false,
         "type": "scattergeo"
        }
       ],
       "frames": [
        {
         "data": [
          {
           "geo": "geo",
           "hovertemplate": "<b>%{hovertext}</b><br><br>decade=1950s<br>lat=%{lat}<br>lon=%{lon}<br>count=%{marker.color}<extra></extra>",
           "hovertext": [
            "Cleveland"
           ],
           "lat": [
            41.4996574
           ],
           "legendgroup": "",
           "lon": [
            -81.6936772
           ],
           "marker": {
            "color": [
             1
            ],
            "coloraxis": "coloraxis",
            "symbol": "circle"
           },
           "mode": "markers",
           "name": "",
           "showlegend": false,
           "type": "scattergeo"
          }
         ],
         "name": "1950s"
        },
        {
         "data": [
          {
           "geo": "geo",
           "hovertemplate": "<b>%{hovertext}</b><br><br>decade=1960s<br>lat=%{lat}<br>lon=%{lon}<br>count=%{marker.color}<extra></extra>",
           "hovertext": [
            "Delight",
            "Grand Rapids",
            "Hoboken",
            "Juazeiro",
            "Liverpool",
            "New York City",
            "Oak Park",
            "Philadelphian",
            "Waterville"
           ],
           "lat": [
            34.0314949,
            42.9632425,
            40.7433066,
            -9.4336959,
            53.4071991,
            40.7127281,
            41.8878145,
            39.96655845,
            44.5524176
           ],
           "legendgroup": "",
           "lon": [
            -93.502959,
            -85.6678639,
            -74.0323752,
            -40.5068201,
            -2.99168,
            -74.0060152,
            -87.7887615,
            -75.17789495781295,
            -69.6313607
           ],
           "marker": {
            "color": [
             1,
             1,
             3,
             1,
             1,
             1,
             1,
             1,
             1
            ],
            "coloraxis": "coloraxis",
            "symbol": "circle"
           },
           "mode": "markers",
           "name": "",
           "showlegend": false,
           "type": "scattergeo"
          }
         ],
         "name": "1960s"
        },
        {
         "data": [
          {
           "geo": "geo",
           "hovertemplate": "<b>%{hovertext}</b><br><br>decade=1970s<br>lat=%{lat}<br>lon=%{lon}<br>count=%{marker.color}<extra></extra>",
           "hovertext": [
            "Douglas",
            "Liverpool",
            "London",
            "New York City",
            "Newark",
            "Saginaw"
           ],
           "lat": [
            39.7628415,
            53.4071991,
            51.5074456,
            40.7127281,
            40.735657,
            43.4200387
           ],
           "legendgroup": "",
           "lon": [
            -88.2170516,
            -2.99168,
            -0.1277653,
            -74.0060152,
            -74.1723667,
            -83.9490365
           ],
           "marker": {
            "color": [
             1,
             1,
             1,
             3,
             1,
             3
            ],
            "coloraxis": "coloraxis",
            "symbol": "circle"
           },
           "mode": "markers",
           "name": "",
           "showlegend": false,
           "type": "scattergeo"
          }
         ],
         "name": "1970s"
        },
        {
         "data": [
          {
           "geo": "geo",
           "hovertemplate": "<b>%{hovertext}</b><br><br>decade=1980s<br>lat=%{lat}<br>lon=%{lon}<br>count=%{marker.color}<extra></extra>",
           "hovertext": [
            "Dublin",
            "Gary",
            "Liverpool",
            "London",
            "New York City",
            "Newark",
            "Orange",
            "San Antonio",
            "Tokyo",
            "Tuskegee"
           ],
           "lat": [
            53.3493795,
            41.6020962,
            53.4071991,
            51.5074456,
            40.7127281,
            40.735657,
            33.750631,
            29.4246002,
            35.6821936,
            32.4240535
           ],
           "legendgroup": "",
           "lon": [
            -6.2605593,
            -87.3370646,
            -2.99168,
            -0.1277653,
            -74.0060152,
            -74.1723667,
            -117.8722311,
            -98.4951405,
            139.762221,
            -85.6908715
           ],
           "marker": {
            "color": [
             1,
             1,
             1,
             2,
             1,
             1,
             1,
             1,
             1,
             1
            ],
            "coloraxis": "coloraxis",
            "symbol": "circle"
           },
           "mode": "markers",
           "name": "",
           "showlegend": false,
           "type": "scattergeo"
          }
         ],
         "name": "1980s"
        },
        {
         "data": [
          {
           "geo": "geo",
           "hovertemplate": "<b>%{hovertext}</b><br><br>decade=1990s<br>lat=%{lat}<br>lon=%{lon}<br>count=%{marker.color}<extra></extra>",
           "hovertext": [
            "Burbank",
            "Charlemagne",
            "Chicago",
            "Duluth",
            "East Orange",
            "Los Angeles",
            "New York City",
            "Newark",
            "Ottowa",
            "Ripley"
           ],
           "lat": [
            34.1812089,
            45.72551965,
            41.8755616,
            46.7729322,
            40.767323,
            34.0536909,
            40.7127281,
            40.735657,
            43.595578,
            36.6478735
           ],
           "legendgroup": "",
           "lon": [
            -118.307201,
            -73.4896922220162,
            -87.6244212,
            -92.1251218,
            -74.2048677,
            -118.242766,
            -74.0060152,
            -74.1723667,
            -85.324232,
            -90.8887906
           ],
           "marker": {
            "color": [
             1,
             1,
             1,
             1,
             1,
             1,
             1,
             1,
             1,
             1
            ],
            "coloraxis": "coloraxis",
            "symbol": "circle"
           },
           "mode": "markers",
           "name": "",
           "showlegend": false,
           "type": "scattergeo"
          }
         ],
         "name": "1990s"
        },
        {
         "data": [
          {
           "geo": "geo",
           "hovertemplate": "<b>%{hovertext}</b><br><br>decade=2000s<br>lat=%{lat}<br>lon=%{lon}<br>count=%{marker.color}<extra></extra>",
           "hovertext": [
            "Albany",
            "Annandale-on-Hudson",
            "Chicago",
            "Dallas",
            "Decatur",
            "Dublin",
            "East Point",
            "New York City",
            "San Francisco",
            "St Louis",
            "West Bromwich"
           ],
           "lat": [
            42.6511674,
            42.0128695,
            41.8755616,
            32.7762719,
            39.8454163,
            53.3493795,
            33.6795531,
            40.7127281,
            37.7792588,
            38.6280278,
            52.5186579
           ],
           "legendgroup": "",
           "lon": [
            -73.754968,
            -73.9081901,
            -87.6244212,
            -96.7968559,
            -88.9524151,
            -6.2605593,
            -84.4393724,
            -74.0060152,
            -122.4193286,
            -90.1910154,
            -1.9923114
           ],
           "marker": {
            "color": [
             1,
             1,
             1,
             1,
             1,
             1,
             1,
             1,
             1,
             1,
             1
            ],
            "coloraxis": "coloraxis",
            "symbol": "circle"
           },
           "mode": "markers",
           "name": "",
           "showlegend": false,
           "type": "scattergeo"
          }
         ],
         "name": "2000s"
        },
        {
         "data": [
          {
           "geo": "geo",
           "hovertemplate": "<b>%{hovertext}</b><br><br>decade=2010s<br>lat=%{lat}<br>lon=%{lon}<br>count=%{marker.color}<extra></extra>",
           "hovertext": [
            "Honolulu",
            "London",
            "Los Angeles",
            "Montreal",
            "Paris",
            "Reading"
           ],
           "lat": [
            21.304547,
            51.5074456,
            34.0536909,
            45.5031824,
            48.8534951,
            51.4564242
           ],
           "legendgroup": "",
           "lon": [
            -157.855676,
            -0.1277653,
            -118.242766,
            -73.5698065,
            2.3483915,
            -0.9700664
           ],
           "marker": {
            "color": [
             1,
             3,
             1,
             1,
             1,
             2
            ],
            "coloraxis": "coloraxis",
            "symbol": "circle"
           },
           "mode": "markers",
           "name": "",
           "showlegend": false,
           "type": "scattergeo"
          }
         ],
         "name": "2010s"
        }
       ],
       "layout": {
        "coloraxis": {
         "colorbar": {
          "title": {
           "text": "count"
          }
         },
         "colorscale": [
          [
           0,
           "#0d0887"
          ],
          [
           0.1111111111111111,
           "#46039f"
          ],
          [
           0.2222222222222222,
           "#7201a8"
          ],
          [
           0.3333333333333333,
           "#9c179e"
          ],
          [
           0.4444444444444444,
           "#bd3786"
          ],
          [
           0.5555555555555556,
           "#d8576b"
          ],
          [
           0.6666666666666666,
           "#ed7953"
          ],
          [
           0.7777777777777778,
           "#fb9f3a"
          ],
          [
           0.8888888888888888,
           "#fdca26"
          ],
          [
           1,
           "#f0f921"
          ]
         ]
        },
        "geo": {
         "center": {},
         "domain": {
          "x": [
           0,
           1
          ],
          "y": [
           0,
           1
          ]
         }
        },
        "height": 600,
        "legend": {
         "tracegroupgap": 0
        },
        "margin": {
         "b": 10,
         "l": 15,
         "pad": 0,
         "r": 15,
         "t": 50
        },
        "sliders": [
         {
          "active": 0,
          "currentvalue": {
           "prefix": "decade="
          },
          "len": 0.9,
          "pad": {
           "b": 10,
           "t": 60
          },
          "steps": [
           {
            "args": [
             [
              "1950s"
             ],
             {
              "frame": {
               "duration": 0,
               "redraw": true
              },
              "fromcurrent": true,
              "mode": "immediate",
              "transition": {
               "duration": 0,
               "easing": "linear"
              }
             }
            ],
            "label": "1950s",
            "method": "animate"
           },
           {
            "args": [
             [
              "1960s"
             ],
             {
              "frame": {
               "duration": 0,
               "redraw": true
              },
              "fromcurrent": true,
              "mode": "immediate",
              "transition": {
               "duration": 0,
               "easing": "linear"
              }
             }
            ],
            "label": "1960s",
            "method": "animate"
           },
           {
            "args": [
             [
              "1970s"
             ],
             {
              "frame": {
               "duration": 0,
               "redraw": true
              },
              "fromcurrent": true,
              "mode": "immediate",
              "transition": {
               "duration": 0,
               "easing": "linear"
              }
             }
            ],
            "label": "1970s",
            "method": "animate"
           },
           {
            "args": [
             [
              "1980s"
             ],
             {
              "frame": {
               "duration": 0,
               "redraw": true
              },
              "fromcurrent": true,
              "mode": "immediate",
              "transition": {
               "duration": 0,
               "easing": "linear"
              }
             }
            ],
            "label": "1980s",
            "method": "animate"
           },
           {
            "args": [
             [
              "1990s"
             ],
             {
              "frame": {
               "duration": 0,
               "redraw": true
              },
              "fromcurrent": true,
              "mode": "immediate",
              "transition": {
               "duration": 0,
               "easing": "linear"
              }
             }
            ],
            "label": "1990s",
            "method": "animate"
           },
           {
            "args": [
             [
              "2000s"
             ],
             {
              "frame": {
               "duration": 0,
               "redraw": true
              },
              "fromcurrent": true,
              "mode": "immediate",
              "transition": {
               "duration": 0,
               "easing": "linear"
              }
             }
            ],
            "label": "2000s",
            "method": "animate"
           },
           {
            "args": [
             [
              "2010s"
             ],
             {
              "frame": {
               "duration": 0,
               "redraw": true
              },
              "fromcurrent": true,
              "mode": "immediate",
              "transition": {
               "duration": 0,
               "easing": "linear"
              }
             }
            ],
            "label": "2010s",
            "method": "animate"
           }
          ],
          "x": 0.1,
          "xanchor": "left",
          "y": 0,
          "yanchor": "top"
         }
        ],
        "template": {
         "data": {
          "bar": [
           {
            "error_x": {
             "color": "#2a3f5f"
            },
            "error_y": {
             "color": "#2a3f5f"
            },
            "marker": {
             "line": {
              "color": "#E5ECF6",
              "width": 0.5
             },
             "pattern": {
              "fillmode": "overlay",
              "size": 10,
              "solidity": 0.2
             }
            },
            "type": "bar"
           }
          ],
          "barpolar": [
           {
            "marker": {
             "line": {
              "color": "#E5ECF6",
              "width": 0.5
             },
             "pattern": {
              "fillmode": "overlay",
              "size": 10,
              "solidity": 0.2
             }
            },
            "type": "barpolar"
           }
          ],
          "carpet": [
           {
            "aaxis": {
             "endlinecolor": "#2a3f5f",
             "gridcolor": "white",
             "linecolor": "white",
             "minorgridcolor": "white",
             "startlinecolor": "#2a3f5f"
            },
            "baxis": {
             "endlinecolor": "#2a3f5f",
             "gridcolor": "white",
             "linecolor": "white",
             "minorgridcolor": "white",
             "startlinecolor": "#2a3f5f"
            },
            "type": "carpet"
           }
          ],
          "choropleth": [
           {
            "colorbar": {
             "outlinewidth": 0,
             "ticks": ""
            },
            "type": "choropleth"
           }
          ],
          "contour": [
           {
            "colorbar": {
             "outlinewidth": 0,
             "ticks": ""
            },
            "colorscale": [
             [
              0,
              "#0d0887"
             ],
             [
              0.1111111111111111,
              "#46039f"
             ],
             [
              0.2222222222222222,
              "#7201a8"
             ],
             [
              0.3333333333333333,
              "#9c179e"
             ],
             [
              0.4444444444444444,
              "#bd3786"
             ],
             [
              0.5555555555555556,
              "#d8576b"
             ],
             [
              0.6666666666666666,
              "#ed7953"
             ],
             [
              0.7777777777777778,
              "#fb9f3a"
             ],
             [
              0.8888888888888888,
              "#fdca26"
             ],
             [
              1,
              "#f0f921"
             ]
            ],
            "type": "contour"
           }
          ],
          "contourcarpet": [
           {
            "colorbar": {
             "outlinewidth": 0,
             "ticks": ""
            },
            "type": "contourcarpet"
           }
          ],
          "heatmap": [
           {
            "colorbar": {
             "outlinewidth": 0,
             "ticks": ""
            },
            "colorscale": [
             [
              0,
              "#0d0887"
             ],
             [
              0.1111111111111111,
              "#46039f"
             ],
             [
              0.2222222222222222,
              "#7201a8"
             ],
             [
              0.3333333333333333,
              "#9c179e"
             ],
             [
              0.4444444444444444,
              "#bd3786"
             ],
             [
              0.5555555555555556,
              "#d8576b"
             ],
             [
              0.6666666666666666,
              "#ed7953"
             ],
             [
              0.7777777777777778,
              "#fb9f3a"
             ],
             [
              0.8888888888888888,
              "#fdca26"
             ],
             [
              1,
              "#f0f921"
             ]
            ],
            "type": "heatmap"
           }
          ],
          "heatmapgl": [
           {
            "colorbar": {
             "outlinewidth": 0,
             "ticks": ""
            },
            "colorscale": [
             [
              0,
              "#0d0887"
             ],
             [
              0.1111111111111111,
              "#46039f"
             ],
             [
              0.2222222222222222,
              "#7201a8"
             ],
             [
              0.3333333333333333,
              "#9c179e"
             ],
             [
              0.4444444444444444,
              "#bd3786"
             ],
             [
              0.5555555555555556,
              "#d8576b"
             ],
             [
              0.6666666666666666,
              "#ed7953"
             ],
             [
              0.7777777777777778,
              "#fb9f3a"
             ],
             [
              0.8888888888888888,
              "#fdca26"
             ],
             [
              1,
              "#f0f921"
             ]
            ],
            "type": "heatmapgl"
           }
          ],
          "histogram": [
           {
            "marker": {
             "pattern": {
              "fillmode": "overlay",
              "size": 10,
              "solidity": 0.2
             }
            },
            "type": "histogram"
           }
          ],
          "histogram2d": [
           {
            "colorbar": {
             "outlinewidth": 0,
             "ticks": ""
            },
            "colorscale": [
             [
              0,
              "#0d0887"
             ],
             [
              0.1111111111111111,
              "#46039f"
             ],
             [
              0.2222222222222222,
              "#7201a8"
             ],
             [
              0.3333333333333333,
              "#9c179e"
             ],
             [
              0.4444444444444444,
              "#bd3786"
             ],
             [
              0.5555555555555556,
              "#d8576b"
             ],
             [
              0.6666666666666666,
              "#ed7953"
             ],
             [
              0.7777777777777778,
              "#fb9f3a"
             ],
             [
              0.8888888888888888,
              "#fdca26"
             ],
             [
              1,
              "#f0f921"
             ]
            ],
            "type": "histogram2d"
           }
          ],
          "histogram2dcontour": [
           {
            "colorbar": {
             "outlinewidth": 0,
             "ticks": ""
            },
            "colorscale": [
             [
              0,
              "#0d0887"
             ],
             [
              0.1111111111111111,
              "#46039f"
             ],
             [
              0.2222222222222222,
              "#7201a8"
             ],
             [
              0.3333333333333333,
              "#9c179e"
             ],
             [
              0.4444444444444444,
              "#bd3786"
             ],
             [
              0.5555555555555556,
              "#d8576b"
             ],
             [
              0.6666666666666666,
              "#ed7953"
             ],
             [
              0.7777777777777778,
              "#fb9f3a"
             ],
             [
              0.8888888888888888,
              "#fdca26"
             ],
             [
              1,
              "#f0f921"
             ]
            ],
            "type": "histogram2dcontour"
           }
          ],
          "mesh3d": [
           {
            "colorbar": {
             "outlinewidth": 0,
             "ticks": ""
            },
            "type": "mesh3d"
           }
          ],
          "parcoords": [
           {
            "line": {
             "colorbar": {
              "outlinewidth": 0,
              "ticks": ""
             }
            },
            "type": "parcoords"
           }
          ],
          "pie": [
           {
            "automargin": true,
            "type": "pie"
           }
          ],
          "scatter": [
           {
            "fillpattern": {
             "fillmode": "overlay",
             "size": 10,
             "solidity": 0.2
            },
            "type": "scatter"
           }
          ],
          "scatter3d": [
           {
            "line": {
             "colorbar": {
              "outlinewidth": 0,
              "ticks": ""
             }
            },
            "marker": {
             "colorbar": {
              "outlinewidth": 0,
              "ticks": ""
             }
            },
            "type": "scatter3d"
           }
          ],
          "scattercarpet": [
           {
            "marker": {
             "colorbar": {
              "outlinewidth": 0,
              "ticks": ""
             }
            },
            "type": "scattercarpet"
           }
          ],
          "scattergeo": [
           {
            "marker": {
             "colorbar": {
              "outlinewidth": 0,
              "ticks": ""
             }
            },
            "type": "scattergeo"
           }
          ],
          "scattergl": [
           {
            "marker": {
             "colorbar": {
              "outlinewidth": 0,
              "ticks": ""
             }
            },
            "type": "scattergl"
           }
          ],
          "scattermapbox": [
           {
            "marker": {
             "colorbar": {
              "outlinewidth": 0,
              "ticks": ""
             }
            },
            "type": "scattermapbox"
           }
          ],
          "scatterpolar": [
           {
            "marker": {
             "colorbar": {
              "outlinewidth": 0,
              "ticks": ""
             }
            },
            "type": "scatterpolar"
           }
          ],
          "scatterpolargl": [
           {
            "marker": {
             "colorbar": {
              "outlinewidth": 0,
              "ticks": ""
             }
            },
            "type": "scatterpolargl"
           }
          ],
          "scatterternary": [
           {
            "marker": {
             "colorbar": {
              "outlinewidth": 0,
              "ticks": ""
             }
            },
            "type": "scatterternary"
           }
          ],
          "surface": [
           {
            "colorbar": {
             "outlinewidth": 0,
             "ticks": ""
            },
            "colorscale": [
             [
              0,
              "#0d0887"
             ],
             [
              0.1111111111111111,
              "#46039f"
             ],
             [
              0.2222222222222222,
              "#7201a8"
             ],
             [
              0.3333333333333333,
              "#9c179e"
             ],
             [
              0.4444444444444444,
              "#bd3786"
             ],
             [
              0.5555555555555556,
              "#d8576b"
             ],
             [
              0.6666666666666666,
              "#ed7953"
             ],
             [
              0.7777777777777778,
              "#fb9f3a"
             ],
             [
              0.8888888888888888,
              "#fdca26"
             ],
             [
              1,
              "#f0f921"
             ]
            ],
            "type": "surface"
           }
          ],
          "table": [
           {
            "cells": {
             "fill": {
              "color": "#EBF0F8"
             },
             "line": {
              "color": "white"
             }
            },
            "header": {
             "fill": {
              "color": "#C8D4E3"
             },
             "line": {
              "color": "white"
             }
            },
            "type": "table"
           }
          ]
         },
         "layout": {
          "annotationdefaults": {
           "arrowcolor": "#2a3f5f",
           "arrowhead": 0,
           "arrowwidth": 1
          },
          "autotypenumbers": "strict",
          "coloraxis": {
           "colorbar": {
            "outlinewidth": 0,
            "ticks": ""
           }
          },
          "colorscale": {
           "diverging": [
            [
             0,
             "#8e0152"
            ],
            [
             0.1,
             "#c51b7d"
            ],
            [
             0.2,
             "#de77ae"
            ],
            [
             0.3,
             "#f1b6da"
            ],
            [
             0.4,
             "#fde0ef"
            ],
            [
             0.5,
             "#f7f7f7"
            ],
            [
             0.6,
             "#e6f5d0"
            ],
            [
             0.7,
             "#b8e186"
            ],
            [
             0.8,
             "#7fbc41"
            ],
            [
             0.9,
             "#4d9221"
            ],
            [
             1,
             "#276419"
            ]
           ],
           "sequential": [
            [
             0,
             "#0d0887"
            ],
            [
             0.1111111111111111,
             "#46039f"
            ],
            [
             0.2222222222222222,
             "#7201a8"
            ],
            [
             0.3333333333333333,
             "#9c179e"
            ],
            [
             0.4444444444444444,
             "#bd3786"
            ],
            [
             0.5555555555555556,
             "#d8576b"
            ],
            [
             0.6666666666666666,
             "#ed7953"
            ],
            [
             0.7777777777777778,
             "#fb9f3a"
            ],
            [
             0.8888888888888888,
             "#fdca26"
            ],
            [
             1,
             "#f0f921"
            ]
           ],
           "sequentialminus": [
            [
             0,
             "#0d0887"
            ],
            [
             0.1111111111111111,
             "#46039f"
            ],
            [
             0.2222222222222222,
             "#7201a8"
            ],
            [
             0.3333333333333333,
             "#9c179e"
            ],
            [
             0.4444444444444444,
             "#bd3786"
            ],
            [
             0.5555555555555556,
             "#d8576b"
            ],
            [
             0.6666666666666666,
             "#ed7953"
            ],
            [
             0.7777777777777778,
             "#fb9f3a"
            ],
            [
             0.8888888888888888,
             "#fdca26"
            ],
            [
             1,
             "#f0f921"
            ]
           ]
          },
          "colorway": [
           "#636efa",
           "#EF553B",
           "#00cc96",
           "#ab63fa",
           "#FFA15A",
           "#19d3f3",
           "#FF6692",
           "#B6E880",
           "#FF97FF",
           "#FECB52"
          ],
          "font": {
           "color": "#2a3f5f"
          },
          "geo": {
           "bgcolor": "white",
           "lakecolor": "white",
           "landcolor": "#E5ECF6",
           "showlakes": true,
           "showland": true,
           "subunitcolor": "white"
          },
          "hoverlabel": {
           "align": "left"
          },
          "hovermode": "closest",
          "mapbox": {
           "style": "light"
          },
          "paper_bgcolor": "white",
          "plot_bgcolor": "#E5ECF6",
          "polar": {
           "angularaxis": {
            "gridcolor": "white",
            "linecolor": "white",
            "ticks": ""
           },
           "bgcolor": "#E5ECF6",
           "radialaxis": {
            "gridcolor": "white",
            "linecolor": "white",
            "ticks": ""
           }
          },
          "scene": {
           "xaxis": {
            "backgroundcolor": "#E5ECF6",
            "gridcolor": "white",
            "gridwidth": 2,
            "linecolor": "white",
            "showbackground": true,
            "ticks": "",
            "zerolinecolor": "white"
           },
           "yaxis": {
            "backgroundcolor": "#E5ECF6",
            "gridcolor": "white",
            "gridwidth": 2,
            "linecolor": "white",
            "showbackground": true,
            "ticks": "",
            "zerolinecolor": "white"
           },
           "zaxis": {
            "backgroundcolor": "#E5ECF6",
            "gridcolor": "white",
            "gridwidth": 2,
            "linecolor": "white",
            "showbackground": true,
            "ticks": "",
            "zerolinecolor": "white"
           }
          },
          "shapedefaults": {
           "line": {
            "color": "#2a3f5f"
           }
          },
          "ternary": {
           "aaxis": {
            "gridcolor": "white",
            "linecolor": "white",
            "ticks": ""
           },
           "baxis": {
            "gridcolor": "white",
            "linecolor": "white",
            "ticks": ""
           },
           "bgcolor": "#E5ECF6",
           "caxis": {
            "gridcolor": "white",
            "linecolor": "white",
            "ticks": ""
           }
          },
          "title": {
           "x": 0.05
          },
          "xaxis": {
           "automargin": true,
           "gridcolor": "white",
           "linecolor": "white",
           "ticks": "",
           "title": {
            "standoff": 15
           },
           "zerolinecolor": "white",
           "zerolinewidth": 2
          },
          "yaxis": {
           "automargin": true,
           "gridcolor": "white",
           "linecolor": "white",
           "ticks": "",
           "title": {
            "standoff": 15
           },
           "zerolinecolor": "white",
           "zerolinewidth": 2
          }
         }
        },
        "title": {
         "font": {
          "size": 25
         },
         "text": "Grammy Album Winners from the World Decadewise"
        },
        "updatemenus": [
         {
          "buttons": [
           {
            "args": [
             null,
             {
              "frame": {
               "duration": 1500,
               "redraw": true
              },
              "fromcurrent": true,
              "mode": "immediate",
              "transition": {
               "duration": 500,
               "easing": "linear"
              }
             }
            ],
            "label": "&#9654;",
            "method": "animate"
           },
           {
            "args": [
             [
              null
             ],
             {
              "frame": {
               "duration": 0,
               "redraw": true
              },
              "fromcurrent": true,
              "mode": "immediate",
              "transition": {
               "duration": 0,
               "easing": "linear"
              }
             }
            ],
            "label": "&#9724;",
            "method": "animate"
           }
          ],
          "direction": "left",
          "pad": {
           "r": 10,
           "t": 70
          },
          "showactive": false,
          "type": "buttons",
          "x": 0.1,
          "xanchor": "right",
          "y": 0,
          "yanchor": "top"
         }
        ]
       }
      }
     },
     "metadata": {},
     "output_type": "display_data"
    }
   ],
   "source": [
    "#figure on grammy album winners from different countries\n",
    "import geopandas as gpd\n",
    "from shapely.geometry import Point\n",
    "grouped_data=pd.read_csv('./dataset/album_winner_grammy_countries.csv')\n",
    "geometry = [Point(xy) for xy in zip(grouped_data['longitude'], grouped_data['latitude'])]\n",
    "geo_df = gpd.GeoDataFrame(grouped_data, geometry=geometry)\n",
    "#world plot\n",
    "fig_6 = px.scatter_geo(geo_df,\n",
    "                    lat=geo_df.geometry.y,\n",
    "                    lon=geo_df.geometry.x,\n",
    "                    color = 'count',\n",
    "                    hover_name=\"City/town of birth/origin\", animation_frame='decade',\n",
    "                    title='Grammy Album Winners from the World Decadewise')\n",
    "\n",
    "fig_6.update_layout(\n",
    "    # height=400,\n",
    "    title_font=dict(size=25),\n",
    "    height=600,\n",
    "    margin=dict(l=15, r=15, t=50, b=10, pad=0)\n",
    ")\n",
    "fig_6.layout.updatemenus[0].buttons[0].args[1][\"frame\"][\"duration\"] = 1500\n",
    "\n",
    "fig_6.show()\n",
    "\n",
    "#usa plot"
   ]
  },
  {
   "cell_type": "code",
   "execution_count": 16,
   "id": "f9b10a96",
   "metadata": {},
   "outputs": [
    {
     "data": {
      "application/vnd.plotly.v1+json": {
       "config": {
        "plotlyServerURL": "https://plot.ly"
       },
       "data": [
        {
         "geo": "geo",
         "hovertemplate": "<b>%{hovertext}</b><br><br>decade=1950s<br>lat=%{lat}<br>lon=%{lon}<br>count=%{marker.color}<extra></extra>",
         "hovertext": [
          "Cleveland"
         ],
         "lat": [
          41.4996574
         ],
         "legendgroup": "",
         "lon": [
          -81.6936772
         ],
         "marker": {
          "color": [
           1
          ],
          "coloraxis": "coloraxis",
          "symbol": "circle"
         },
         "mode": "markers",
         "name": "",
         "showlegend": false,
         "type": "scattergeo"
        }
       ],
       "frames": [
        {
         "data": [
          {
           "geo": "geo",
           "hovertemplate": "<b>%{hovertext}</b><br><br>decade=1950s<br>lat=%{lat}<br>lon=%{lon}<br>count=%{marker.color}<extra></extra>",
           "hovertext": [
            "Cleveland"
           ],
           "lat": [
            41.4996574
           ],
           "legendgroup": "",
           "lon": [
            -81.6936772
           ],
           "marker": {
            "color": [
             1
            ],
            "coloraxis": "coloraxis",
            "symbol": "circle"
           },
           "mode": "markers",
           "name": "",
           "showlegend": false,
           "type": "scattergeo"
          }
         ],
         "name": "1950s"
        },
        {
         "data": [
          {
           "geo": "geo",
           "hovertemplate": "<b>%{hovertext}</b><br><br>decade=1960s<br>lat=%{lat}<br>lon=%{lon}<br>count=%{marker.color}<extra></extra>",
           "hovertext": [
            "Delight",
            "Grand Rapids",
            "Hoboken",
            "Juazeiro",
            "Liverpool",
            "New York City",
            "Oak Park",
            "Philadelphian",
            "Waterville"
           ],
           "lat": [
            34.0314949,
            42.9632425,
            40.7433066,
            -9.4336959,
            53.4071991,
            40.7127281,
            41.8878145,
            39.96655845,
            44.5524176
           ],
           "legendgroup": "",
           "lon": [
            -93.502959,
            -85.6678639,
            -74.0323752,
            -40.5068201,
            -2.99168,
            -74.0060152,
            -87.7887615,
            -75.17789495781295,
            -69.6313607
           ],
           "marker": {
            "color": [
             1,
             1,
             3,
             1,
             1,
             1,
             1,
             1,
             1
            ],
            "coloraxis": "coloraxis",
            "symbol": "circle"
           },
           "mode": "markers",
           "name": "",
           "showlegend": false,
           "type": "scattergeo"
          }
         ],
         "name": "1960s"
        },
        {
         "data": [
          {
           "geo": "geo",
           "hovertemplate": "<b>%{hovertext}</b><br><br>decade=1970s<br>lat=%{lat}<br>lon=%{lon}<br>count=%{marker.color}<extra></extra>",
           "hovertext": [
            "Douglas",
            "Liverpool",
            "London",
            "New York City",
            "Newark",
            "Saginaw"
           ],
           "lat": [
            39.7628415,
            53.4071991,
            51.5074456,
            40.7127281,
            40.735657,
            43.4200387
           ],
           "legendgroup": "",
           "lon": [
            -88.2170516,
            -2.99168,
            -0.1277653,
            -74.0060152,
            -74.1723667,
            -83.9490365
           ],
           "marker": {
            "color": [
             1,
             1,
             1,
             3,
             1,
             3
            ],
            "coloraxis": "coloraxis",
            "symbol": "circle"
           },
           "mode": "markers",
           "name": "",
           "showlegend": false,
           "type": "scattergeo"
          }
         ],
         "name": "1970s"
        },
        {
         "data": [
          {
           "geo": "geo",
           "hovertemplate": "<b>%{hovertext}</b><br><br>decade=1980s<br>lat=%{lat}<br>lon=%{lon}<br>count=%{marker.color}<extra></extra>",
           "hovertext": [
            "Dublin",
            "Gary",
            "Liverpool",
            "London",
            "New York City",
            "Newark",
            "Orange",
            "San Antonio",
            "Tokyo",
            "Tuskegee"
           ],
           "lat": [
            53.3493795,
            41.6020962,
            53.4071991,
            51.5074456,
            40.7127281,
            40.735657,
            33.750631,
            29.4246002,
            35.6821936,
            32.4240535
           ],
           "legendgroup": "",
           "lon": [
            -6.2605593,
            -87.3370646,
            -2.99168,
            -0.1277653,
            -74.0060152,
            -74.1723667,
            -117.8722311,
            -98.4951405,
            139.762221,
            -85.6908715
           ],
           "marker": {
            "color": [
             1,
             1,
             1,
             2,
             1,
             1,
             1,
             1,
             1,
             1
            ],
            "coloraxis": "coloraxis",
            "symbol": "circle"
           },
           "mode": "markers",
           "name": "",
           "showlegend": false,
           "type": "scattergeo"
          }
         ],
         "name": "1980s"
        },
        {
         "data": [
          {
           "geo": "geo",
           "hovertemplate": "<b>%{hovertext}</b><br><br>decade=1990s<br>lat=%{lat}<br>lon=%{lon}<br>count=%{marker.color}<extra></extra>",
           "hovertext": [
            "Burbank",
            "Charlemagne",
            "Chicago",
            "Duluth",
            "East Orange",
            "Los Angeles",
            "New York City",
            "Newark",
            "Ottowa",
            "Ripley"
           ],
           "lat": [
            34.1812089,
            45.72551965,
            41.8755616,
            46.7729322,
            40.767323,
            34.0536909,
            40.7127281,
            40.735657,
            43.595578,
            36.6478735
           ],
           "legendgroup": "",
           "lon": [
            -118.307201,
            -73.4896922220162,
            -87.6244212,
            -92.1251218,
            -74.2048677,
            -118.242766,
            -74.0060152,
            -74.1723667,
            -85.324232,
            -90.8887906
           ],
           "marker": {
            "color": [
             1,
             1,
             1,
             1,
             1,
             1,
             1,
             1,
             1,
             1
            ],
            "coloraxis": "coloraxis",
            "symbol": "circle"
           },
           "mode": "markers",
           "name": "",
           "showlegend": false,
           "type": "scattergeo"
          }
         ],
         "name": "1990s"
        },
        {
         "data": [
          {
           "geo": "geo",
           "hovertemplate": "<b>%{hovertext}</b><br><br>decade=2000s<br>lat=%{lat}<br>lon=%{lon}<br>count=%{marker.color}<extra></extra>",
           "hovertext": [
            "Albany",
            "Annandale-on-Hudson",
            "Chicago",
            "Dallas",
            "Decatur",
            "Dublin",
            "East Point",
            "New York City",
            "San Francisco",
            "St Louis",
            "West Bromwich"
           ],
           "lat": [
            42.6511674,
            42.0128695,
            41.8755616,
            32.7762719,
            39.8454163,
            53.3493795,
            33.6795531,
            40.7127281,
            37.7792588,
            38.6280278,
            52.5186579
           ],
           "legendgroup": "",
           "lon": [
            -73.754968,
            -73.9081901,
            -87.6244212,
            -96.7968559,
            -88.9524151,
            -6.2605593,
            -84.4393724,
            -74.0060152,
            -122.4193286,
            -90.1910154,
            -1.9923114
           ],
           "marker": {
            "color": [
             1,
             1,
             1,
             1,
             1,
             1,
             1,
             1,
             1,
             1,
             1
            ],
            "coloraxis": "coloraxis",
            "symbol": "circle"
           },
           "mode": "markers",
           "name": "",
           "showlegend": false,
           "type": "scattergeo"
          }
         ],
         "name": "2000s"
        },
        {
         "data": [
          {
           "geo": "geo",
           "hovertemplate": "<b>%{hovertext}</b><br><br>decade=2010s<br>lat=%{lat}<br>lon=%{lon}<br>count=%{marker.color}<extra></extra>",
           "hovertext": [
            "Honolulu",
            "London",
            "Los Angeles",
            "Montreal",
            "Paris",
            "Reading"
           ],
           "lat": [
            21.304547,
            51.5074456,
            34.0536909,
            45.5031824,
            48.8534951,
            51.4564242
           ],
           "legendgroup": "",
           "lon": [
            -157.855676,
            -0.1277653,
            -118.242766,
            -73.5698065,
            2.3483915,
            -0.9700664
           ],
           "marker": {
            "color": [
             1,
             3,
             1,
             1,
             1,
             2
            ],
            "coloraxis": "coloraxis",
            "symbol": "circle"
           },
           "mode": "markers",
           "name": "",
           "showlegend": false,
           "type": "scattergeo"
          }
         ],
         "name": "2010s"
        }
       ],
       "layout": {
        "coloraxis": {
         "colorbar": {
          "title": {
           "text": "count"
          }
         },
         "colorscale": [
          [
           0,
           "#0d0887"
          ],
          [
           0.1111111111111111,
           "#46039f"
          ],
          [
           0.2222222222222222,
           "#7201a8"
          ],
          [
           0.3333333333333333,
           "#9c179e"
          ],
          [
           0.4444444444444444,
           "#bd3786"
          ],
          [
           0.5555555555555556,
           "#d8576b"
          ],
          [
           0.6666666666666666,
           "#ed7953"
          ],
          [
           0.7777777777777778,
           "#fb9f3a"
          ],
          [
           0.8888888888888888,
           "#fdca26"
          ],
          [
           1,
           "#f0f921"
          ]
         ]
        },
        "geo": {
         "center": {},
         "domain": {
          "x": [
           0,
           1
          ],
          "y": [
           0,
           1
          ]
         },
         "scope": "usa"
        },
        "height": 600,
        "legend": {
         "tracegroupgap": 0
        },
        "margin": {
         "b": 10,
         "l": 15,
         "pad": 0,
         "r": 15,
         "t": 50
        },
        "sliders": [
         {
          "active": 0,
          "currentvalue": {
           "prefix": "decade="
          },
          "len": 0.9,
          "pad": {
           "b": 10,
           "t": 60
          },
          "steps": [
           {
            "args": [
             [
              "1950s"
             ],
             {
              "frame": {
               "duration": 0,
               "redraw": true
              },
              "fromcurrent": true,
              "mode": "immediate",
              "transition": {
               "duration": 0,
               "easing": "linear"
              }
             }
            ],
            "label": "1950s",
            "method": "animate"
           },
           {
            "args": [
             [
              "1960s"
             ],
             {
              "frame": {
               "duration": 0,
               "redraw": true
              },
              "fromcurrent": true,
              "mode": "immediate",
              "transition": {
               "duration": 0,
               "easing": "linear"
              }
             }
            ],
            "label": "1960s",
            "method": "animate"
           },
           {
            "args": [
             [
              "1970s"
             ],
             {
              "frame": {
               "duration": 0,
               "redraw": true
              },
              "fromcurrent": true,
              "mode": "immediate",
              "transition": {
               "duration": 0,
               "easing": "linear"
              }
             }
            ],
            "label": "1970s",
            "method": "animate"
           },
           {
            "args": [
             [
              "1980s"
             ],
             {
              "frame": {
               "duration": 0,
               "redraw": true
              },
              "fromcurrent": true,
              "mode": "immediate",
              "transition": {
               "duration": 0,
               "easing": "linear"
              }
             }
            ],
            "label": "1980s",
            "method": "animate"
           },
           {
            "args": [
             [
              "1990s"
             ],
             {
              "frame": {
               "duration": 0,
               "redraw": true
              },
              "fromcurrent": true,
              "mode": "immediate",
              "transition": {
               "duration": 0,
               "easing": "linear"
              }
             }
            ],
            "label": "1990s",
            "method": "animate"
           },
           {
            "args": [
             [
              "2000s"
             ],
             {
              "frame": {
               "duration": 0,
               "redraw": true
              },
              "fromcurrent": true,
              "mode": "immediate",
              "transition": {
               "duration": 0,
               "easing": "linear"
              }
             }
            ],
            "label": "2000s",
            "method": "animate"
           },
           {
            "args": [
             [
              "2010s"
             ],
             {
              "frame": {
               "duration": 0,
               "redraw": true
              },
              "fromcurrent": true,
              "mode": "immediate",
              "transition": {
               "duration": 0,
               "easing": "linear"
              }
             }
            ],
            "label": "2010s",
            "method": "animate"
           }
          ],
          "x": 0.1,
          "xanchor": "left",
          "y": 0,
          "yanchor": "top"
         }
        ],
        "template": {
         "data": {
          "bar": [
           {
            "error_x": {
             "color": "#2a3f5f"
            },
            "error_y": {
             "color": "#2a3f5f"
            },
            "marker": {
             "line": {
              "color": "#E5ECF6",
              "width": 0.5
             },
             "pattern": {
              "fillmode": "overlay",
              "size": 10,
              "solidity": 0.2
             }
            },
            "type": "bar"
           }
          ],
          "barpolar": [
           {
            "marker": {
             "line": {
              "color": "#E5ECF6",
              "width": 0.5
             },
             "pattern": {
              "fillmode": "overlay",
              "size": 10,
              "solidity": 0.2
             }
            },
            "type": "barpolar"
           }
          ],
          "carpet": [
           {
            "aaxis": {
             "endlinecolor": "#2a3f5f",
             "gridcolor": "white",
             "linecolor": "white",
             "minorgridcolor": "white",
             "startlinecolor": "#2a3f5f"
            },
            "baxis": {
             "endlinecolor": "#2a3f5f",
             "gridcolor": "white",
             "linecolor": "white",
             "minorgridcolor": "white",
             "startlinecolor": "#2a3f5f"
            },
            "type": "carpet"
           }
          ],
          "choropleth": [
           {
            "colorbar": {
             "outlinewidth": 0,
             "ticks": ""
            },
            "type": "choropleth"
           }
          ],
          "contour": [
           {
            "colorbar": {
             "outlinewidth": 0,
             "ticks": ""
            },
            "colorscale": [
             [
              0,
              "#0d0887"
             ],
             [
              0.1111111111111111,
              "#46039f"
             ],
             [
              0.2222222222222222,
              "#7201a8"
             ],
             [
              0.3333333333333333,
              "#9c179e"
             ],
             [
              0.4444444444444444,
              "#bd3786"
             ],
             [
              0.5555555555555556,
              "#d8576b"
             ],
             [
              0.6666666666666666,
              "#ed7953"
             ],
             [
              0.7777777777777778,
              "#fb9f3a"
             ],
             [
              0.8888888888888888,
              "#fdca26"
             ],
             [
              1,
              "#f0f921"
             ]
            ],
            "type": "contour"
           }
          ],
          "contourcarpet": [
           {
            "colorbar": {
             "outlinewidth": 0,
             "ticks": ""
            },
            "type": "contourcarpet"
           }
          ],
          "heatmap": [
           {
            "colorbar": {
             "outlinewidth": 0,
             "ticks": ""
            },
            "colorscale": [
             [
              0,
              "#0d0887"
             ],
             [
              0.1111111111111111,
              "#46039f"
             ],
             [
              0.2222222222222222,
              "#7201a8"
             ],
             [
              0.3333333333333333,
              "#9c179e"
             ],
             [
              0.4444444444444444,
              "#bd3786"
             ],
             [
              0.5555555555555556,
              "#d8576b"
             ],
             [
              0.6666666666666666,
              "#ed7953"
             ],
             [
              0.7777777777777778,
              "#fb9f3a"
             ],
             [
              0.8888888888888888,
              "#fdca26"
             ],
             [
              1,
              "#f0f921"
             ]
            ],
            "type": "heatmap"
           }
          ],
          "heatmapgl": [
           {
            "colorbar": {
             "outlinewidth": 0,
             "ticks": ""
            },
            "colorscale": [
             [
              0,
              "#0d0887"
             ],
             [
              0.1111111111111111,
              "#46039f"
             ],
             [
              0.2222222222222222,
              "#7201a8"
             ],
             [
              0.3333333333333333,
              "#9c179e"
             ],
             [
              0.4444444444444444,
              "#bd3786"
             ],
             [
              0.5555555555555556,
              "#d8576b"
             ],
             [
              0.6666666666666666,
              "#ed7953"
             ],
             [
              0.7777777777777778,
              "#fb9f3a"
             ],
             [
              0.8888888888888888,
              "#fdca26"
             ],
             [
              1,
              "#f0f921"
             ]
            ],
            "type": "heatmapgl"
           }
          ],
          "histogram": [
           {
            "marker": {
             "pattern": {
              "fillmode": "overlay",
              "size": 10,
              "solidity": 0.2
             }
            },
            "type": "histogram"
           }
          ],
          "histogram2d": [
           {
            "colorbar": {
             "outlinewidth": 0,
             "ticks": ""
            },
            "colorscale": [
             [
              0,
              "#0d0887"
             ],
             [
              0.1111111111111111,
              "#46039f"
             ],
             [
              0.2222222222222222,
              "#7201a8"
             ],
             [
              0.3333333333333333,
              "#9c179e"
             ],
             [
              0.4444444444444444,
              "#bd3786"
             ],
             [
              0.5555555555555556,
              "#d8576b"
             ],
             [
              0.6666666666666666,
              "#ed7953"
             ],
             [
              0.7777777777777778,
              "#fb9f3a"
             ],
             [
              0.8888888888888888,
              "#fdca26"
             ],
             [
              1,
              "#f0f921"
             ]
            ],
            "type": "histogram2d"
           }
          ],
          "histogram2dcontour": [
           {
            "colorbar": {
             "outlinewidth": 0,
             "ticks": ""
            },
            "colorscale": [
             [
              0,
              "#0d0887"
             ],
             [
              0.1111111111111111,
              "#46039f"
             ],
             [
              0.2222222222222222,
              "#7201a8"
             ],
             [
              0.3333333333333333,
              "#9c179e"
             ],
             [
              0.4444444444444444,
              "#bd3786"
             ],
             [
              0.5555555555555556,
              "#d8576b"
             ],
             [
              0.6666666666666666,
              "#ed7953"
             ],
             [
              0.7777777777777778,
              "#fb9f3a"
             ],
             [
              0.8888888888888888,
              "#fdca26"
             ],
             [
              1,
              "#f0f921"
             ]
            ],
            "type": "histogram2dcontour"
           }
          ],
          "mesh3d": [
           {
            "colorbar": {
             "outlinewidth": 0,
             "ticks": ""
            },
            "type": "mesh3d"
           }
          ],
          "parcoords": [
           {
            "line": {
             "colorbar": {
              "outlinewidth": 0,
              "ticks": ""
             }
            },
            "type": "parcoords"
           }
          ],
          "pie": [
           {
            "automargin": true,
            "type": "pie"
           }
          ],
          "scatter": [
           {
            "fillpattern": {
             "fillmode": "overlay",
             "size": 10,
             "solidity": 0.2
            },
            "type": "scatter"
           }
          ],
          "scatter3d": [
           {
            "line": {
             "colorbar": {
              "outlinewidth": 0,
              "ticks": ""
             }
            },
            "marker": {
             "colorbar": {
              "outlinewidth": 0,
              "ticks": ""
             }
            },
            "type": "scatter3d"
           }
          ],
          "scattercarpet": [
           {
            "marker": {
             "colorbar": {
              "outlinewidth": 0,
              "ticks": ""
             }
            },
            "type": "scattercarpet"
           }
          ],
          "scattergeo": [
           {
            "marker": {
             "colorbar": {
              "outlinewidth": 0,
              "ticks": ""
             }
            },
            "type": "scattergeo"
           }
          ],
          "scattergl": [
           {
            "marker": {
             "colorbar": {
              "outlinewidth": 0,
              "ticks": ""
             }
            },
            "type": "scattergl"
           }
          ],
          "scattermapbox": [
           {
            "marker": {
             "colorbar": {
              "outlinewidth": 0,
              "ticks": ""
             }
            },
            "type": "scattermapbox"
           }
          ],
          "scatterpolar": [
           {
            "marker": {
             "colorbar": {
              "outlinewidth": 0,
              "ticks": ""
             }
            },
            "type": "scatterpolar"
           }
          ],
          "scatterpolargl": [
           {
            "marker": {
             "colorbar": {
              "outlinewidth": 0,
              "ticks": ""
             }
            },
            "type": "scatterpolargl"
           }
          ],
          "scatterternary": [
           {
            "marker": {
             "colorbar": {
              "outlinewidth": 0,
              "ticks": ""
             }
            },
            "type": "scatterternary"
           }
          ],
          "surface": [
           {
            "colorbar": {
             "outlinewidth": 0,
             "ticks": ""
            },
            "colorscale": [
             [
              0,
              "#0d0887"
             ],
             [
              0.1111111111111111,
              "#46039f"
             ],
             [
              0.2222222222222222,
              "#7201a8"
             ],
             [
              0.3333333333333333,
              "#9c179e"
             ],
             [
              0.4444444444444444,
              "#bd3786"
             ],
             [
              0.5555555555555556,
              "#d8576b"
             ],
             [
              0.6666666666666666,
              "#ed7953"
             ],
             [
              0.7777777777777778,
              "#fb9f3a"
             ],
             [
              0.8888888888888888,
              "#fdca26"
             ],
             [
              1,
              "#f0f921"
             ]
            ],
            "type": "surface"
           }
          ],
          "table": [
           {
            "cells": {
             "fill": {
              "color": "#EBF0F8"
             },
             "line": {
              "color": "white"
             }
            },
            "header": {
             "fill": {
              "color": "#C8D4E3"
             },
             "line": {
              "color": "white"
             }
            },
            "type": "table"
           }
          ]
         },
         "layout": {
          "annotationdefaults": {
           "arrowcolor": "#2a3f5f",
           "arrowhead": 0,
           "arrowwidth": 1
          },
          "autotypenumbers": "strict",
          "coloraxis": {
           "colorbar": {
            "outlinewidth": 0,
            "ticks": ""
           }
          },
          "colorscale": {
           "diverging": [
            [
             0,
             "#8e0152"
            ],
            [
             0.1,
             "#c51b7d"
            ],
            [
             0.2,
             "#de77ae"
            ],
            [
             0.3,
             "#f1b6da"
            ],
            [
             0.4,
             "#fde0ef"
            ],
            [
             0.5,
             "#f7f7f7"
            ],
            [
             0.6,
             "#e6f5d0"
            ],
            [
             0.7,
             "#b8e186"
            ],
            [
             0.8,
             "#7fbc41"
            ],
            [
             0.9,
             "#4d9221"
            ],
            [
             1,
             "#276419"
            ]
           ],
           "sequential": [
            [
             0,
             "#0d0887"
            ],
            [
             0.1111111111111111,
             "#46039f"
            ],
            [
             0.2222222222222222,
             "#7201a8"
            ],
            [
             0.3333333333333333,
             "#9c179e"
            ],
            [
             0.4444444444444444,
             "#bd3786"
            ],
            [
             0.5555555555555556,
             "#d8576b"
            ],
            [
             0.6666666666666666,
             "#ed7953"
            ],
            [
             0.7777777777777778,
             "#fb9f3a"
            ],
            [
             0.8888888888888888,
             "#fdca26"
            ],
            [
             1,
             "#f0f921"
            ]
           ],
           "sequentialminus": [
            [
             0,
             "#0d0887"
            ],
            [
             0.1111111111111111,
             "#46039f"
            ],
            [
             0.2222222222222222,
             "#7201a8"
            ],
            [
             0.3333333333333333,
             "#9c179e"
            ],
            [
             0.4444444444444444,
             "#bd3786"
            ],
            [
             0.5555555555555556,
             "#d8576b"
            ],
            [
             0.6666666666666666,
             "#ed7953"
            ],
            [
             0.7777777777777778,
             "#fb9f3a"
            ],
            [
             0.8888888888888888,
             "#fdca26"
            ],
            [
             1,
             "#f0f921"
            ]
           ]
          },
          "colorway": [
           "#636efa",
           "#EF553B",
           "#00cc96",
           "#ab63fa",
           "#FFA15A",
           "#19d3f3",
           "#FF6692",
           "#B6E880",
           "#FF97FF",
           "#FECB52"
          ],
          "font": {
           "color": "#2a3f5f"
          },
          "geo": {
           "bgcolor": "white",
           "lakecolor": "white",
           "landcolor": "#E5ECF6",
           "showlakes": true,
           "showland": true,
           "subunitcolor": "white"
          },
          "hoverlabel": {
           "align": "left"
          },
          "hovermode": "closest",
          "mapbox": {
           "style": "light"
          },
          "paper_bgcolor": "white",
          "plot_bgcolor": "#E5ECF6",
          "polar": {
           "angularaxis": {
            "gridcolor": "white",
            "linecolor": "white",
            "ticks": ""
           },
           "bgcolor": "#E5ECF6",
           "radialaxis": {
            "gridcolor": "white",
            "linecolor": "white",
            "ticks": ""
           }
          },
          "scene": {
           "xaxis": {
            "backgroundcolor": "#E5ECF6",
            "gridcolor": "white",
            "gridwidth": 2,
            "linecolor": "white",
            "showbackground": true,
            "ticks": "",
            "zerolinecolor": "white"
           },
           "yaxis": {
            "backgroundcolor": "#E5ECF6",
            "gridcolor": "white",
            "gridwidth": 2,
            "linecolor": "white",
            "showbackground": true,
            "ticks": "",
            "zerolinecolor": "white"
           },
           "zaxis": {
            "backgroundcolor": "#E5ECF6",
            "gridcolor": "white",
            "gridwidth": 2,
            "linecolor": "white",
            "showbackground": true,
            "ticks": "",
            "zerolinecolor": "white"
           }
          },
          "shapedefaults": {
           "line": {
            "color": "#2a3f5f"
           }
          },
          "ternary": {
           "aaxis": {
            "gridcolor": "white",
            "linecolor": "white",
            "ticks": ""
           },
           "baxis": {
            "gridcolor": "white",
            "linecolor": "white",
            "ticks": ""
           },
           "bgcolor": "#E5ECF6",
           "caxis": {
            "gridcolor": "white",
            "linecolor": "white",
            "ticks": ""
           }
          },
          "title": {
           "x": 0.05
          },
          "xaxis": {
           "automargin": true,
           "gridcolor": "white",
           "linecolor": "white",
           "ticks": "",
           "title": {
            "standoff": 15
           },
           "zerolinecolor": "white",
           "zerolinewidth": 2
          },
          "yaxis": {
           "automargin": true,
           "gridcolor": "white",
           "linecolor": "white",
           "ticks": "",
           "title": {
            "standoff": 15
           },
           "zerolinecolor": "white",
           "zerolinewidth": 2
          }
         }
        },
        "title": {
         "font": {
          "size": 25
         },
         "text": "Grammy Album Winners from the USA Decadewise"
        },
        "updatemenus": [
         {
          "buttons": [
           {
            "args": [
             null,
             {
              "frame": {
               "duration": 1500,
               "redraw": true
              },
              "fromcurrent": true,
              "mode": "immediate",
              "transition": {
               "duration": 500,
               "easing": "linear"
              }
             }
            ],
            "label": "&#9654;",
            "method": "animate"
           },
           {
            "args": [
             [
              null
             ],
             {
              "frame": {
               "duration": 0,
               "redraw": true
              },
              "fromcurrent": true,
              "mode": "immediate",
              "transition": {
               "duration": 0,
               "easing": "linear"
              }
             }
            ],
            "label": "&#9724;",
            "method": "animate"
           }
          ],
          "direction": "left",
          "pad": {
           "r": 10,
           "t": 70
          },
          "showactive": false,
          "type": "buttons",
          "x": 0.1,
          "xanchor": "right",
          "y": 0,
          "yanchor": "top"
         }
        ]
       }
      }
     },
     "metadata": {},
     "output_type": "display_data"
    }
   ],
   "source": [
    "#usa plot\n",
    "fig_7 = px.scatter_geo(geo_df,\n",
    "                    lat=geo_df.geometry.y,\n",
    "                    lon=geo_df.geometry.x,\n",
    "                    color = 'count',\n",
    "                    hover_name=\"City/town of birth/origin\", animation_frame='decade',\n",
    "                    scope='usa',\n",
    "                    title='Grammy Album Winners from the USA Decadewise')\n",
    "\n",
    "fig_7.update_layout(\n",
    "    # height=400,\n",
    "    title_font=dict(size=25),\n",
    "    height=600,\n",
    "    margin=dict(l=15, r=15, t=50, b=10, pad=0)\n",
    ")\n",
    "fig_7.layout.updatemenus[0].buttons[0].args[1][\"frame\"][\"duration\"] = 1500\n",
    "\n",
    "fig_7.show()"
   ]
  },
  {
   "cell_type": "code",
   "execution_count": 17,
   "id": "83582f8a",
   "metadata": {},
   "outputs": [
    {
     "data": {
      "application/vnd.plotly.v1+json": {
       "config": {
        "plotlyServerURL": "https://plot.ly"
       },
       "data": [
        {
         "hovertemplate": "Format=Cassette<br>Year=%{x}<br>Revenue (Inflation Adjusted)=%{y}<extra></extra>",
         "legendgroup": "Cassette",
         "line": {
          "color": "#636efa",
          "dash": "solid"
         },
         "marker": {
          "symbol": "circle"
         },
         "mode": "lines",
         "name": "Cassette",
         "orientation": "v",
         "showlegend": true,
         "type": "scatter",
         "x": [
          1973,
          1974,
          1975,
          1976,
          1977,
          1978,
          1979,
          1980,
          1981,
          1982,
          1983,
          1984,
          1985,
          1986,
          1987,
          1988,
          1989,
          1990,
          1991,
          1992,
          1993,
          1994,
          1995,
          1996,
          1997,
          1998,
          1999,
          2000,
          2001,
          2002,
          2003,
          2004,
          2005,
          2006,
          2007,
          2008,
          2009,
          2010,
          2011,
          2012,
          2013,
          2014,
          2015,
          2016,
          2017,
          2018
         ],
         "xaxis": "x",
         "y": [
          419600000,
          433600000,
          450100000,
          627700000,
          1009600000,
          1691000000,
          1960300000,
          2097200000,
          2865900000,
          3516800000,
          4456700000,
          5624100000,
          5493600000,
          5590100000,
          6386300000,
          7014000000,
          6613900000,
          6512300000,
          5434400000,
          5444500000,
          4946200000,
          4922900000,
          3705100000,
          2976600000,
          2325500000,
          2135300000,
          1561900000,
          891100000,
          503000000,
          285900000,
          144000000,
          30800000,
          16400000,
          4500000,
          3500000,
          1000000,
          0,
          0,
          0,
          0,
          0,
          0,
          0,
          0,
          0,
          0
         ],
         "yaxis": "y"
        },
        {
         "hovertemplate": "Format=CD<br>Year=%{x}<br>Revenue (Inflation Adjusted)=%{y}<extra></extra>",
         "legendgroup": "CD",
         "line": {
          "color": "#EF553B",
          "dash": "solid"
         },
         "marker": {
          "symbol": "circle"
         },
         "mode": "lines",
         "name": "CD",
         "orientation": "v",
         "showlegend": true,
         "type": "scatter",
         "x": [
          1973,
          1974,
          1975,
          1976,
          1977,
          1978,
          1979,
          1980,
          1981,
          1982,
          1983,
          1984,
          1985,
          1986,
          1987,
          1988,
          1989,
          1990,
          1991,
          1992,
          1993,
          1994,
          1995,
          1996,
          1997,
          1998,
          1999,
          2000,
          2001,
          2002,
          2003,
          2004,
          2005,
          2006,
          2007,
          2008,
          2009,
          2010,
          2011,
          2012,
          2013,
          2014,
          2015,
          2016,
          2017,
          2018
         ],
         "xaxis": "x",
         "y": [
          0,
          0,
          0,
          0,
          0,
          0,
          0,
          0,
          0,
          0,
          42300000,
          243700000,
          887300000,
          2080200000,
          3438600000,
          4330300000,
          5115300000,
          6473300000,
          7806600000,
          9306000000,
          11045500000,
          14000100000,
          15082600000,
          15520700000,
          15142600000,
          17167400000,
          18856700000,
          18810300000,
          17867600000,
          16410500000,
          14964200000,
          14853200000,
          13203800000,
          11395900000,
          8811900000,
          6229000000,
          4934500000,
          3810100000,
          3378900000,
          2718500000,
          2307700000,
          1884100000,
          1530900000,
          1183100000,
          1083100000,
          698400000
         ],
         "yaxis": "y"
        },
        {
         "hovertemplate": "Format=DVD Audio<br>Year=%{x}<br>Revenue (Inflation Adjusted)=%{y}<extra></extra>",
         "legendgroup": "DVD Audio",
         "line": {
          "color": "#00cc96",
          "dash": "solid"
         },
         "marker": {
          "symbol": "circle"
         },
         "mode": "lines",
         "name": "DVD Audio",
         "orientation": "v",
         "showlegend": true,
         "type": "scatter",
         "x": [
          1973,
          1974,
          1975,
          1976,
          1977,
          1978,
          1979,
          1980,
          1981,
          1982,
          1983,
          1984,
          1985,
          1986,
          1987,
          1988,
          1989,
          1990,
          1991,
          1992,
          1993,
          1994,
          1995,
          1996,
          1997,
          1998,
          1999,
          2000,
          2001,
          2002,
          2003,
          2004,
          2005,
          2006,
          2007,
          2008,
          2009,
          2010,
          2011,
          2012,
          2013,
          2014,
          2015,
          2016,
          2017,
          2018
         ],
         "xaxis": "x",
         "y": [
          0,
          0,
          0,
          0,
          0,
          0,
          0,
          0,
          0,
          0,
          0,
          0,
          0,
          0,
          0,
          0,
          0,
          0,
          0,
          0,
          0,
          0,
          0,
          0,
          0,
          0,
          0,
          0,
          8300000,
          11600000,
          10700000,
          8400000,
          14100000,
          2900000,
          3300000,
          1400000,
          1800000,
          1000000,
          300000,
          200000,
          -500000,
          2300000,
          5700000,
          3000000,
          2700000,
          3300000
         ],
         "yaxis": "y"
        },
        {
         "hovertemplate": "Format=LP/EP<br>Year=%{x}<br>Revenue (Inflation Adjusted)=%{y}<extra></extra>",
         "legendgroup": "LP/EP",
         "line": {
          "color": "#ab63fa",
          "dash": "solid"
         },
         "marker": {
          "symbol": "circle"
         },
         "mode": "lines",
         "name": "LP/EP",
         "orientation": "v",
         "showlegend": true,
         "type": "scatter",
         "x": [
          1973,
          1974,
          1975,
          1976,
          1977,
          1978,
          1979,
          1980,
          1981,
          1982,
          1983,
          1984,
          1985,
          1986,
          1987,
          1988,
          1989,
          1990,
          1991,
          1992,
          1993,
          1994,
          1995,
          1996,
          1997,
          1998,
          1999,
          2000,
          2001,
          2002,
          2003,
          2004,
          2005,
          2006,
          2007,
          2008,
          2009,
          2010,
          2011,
          2012,
          2013,
          2014,
          2015,
          2016,
          2017,
          2018
         ],
         "xaxis": "x",
         "y": [
          6878800000,
          6742000000,
          6765900000,
          7164100000,
          8878900000,
          9298400000,
          6945100000,
          6544500000,
          6314600000,
          4890000000,
          4156700000,
          3653900000,
          2917100000,
          2198500000,
          1711300000,
          1102700000,
          435500000,
          162200000,
          52900000,
          23600000,
          18000000,
          29400000,
          40400000,
          57500000,
          50900000,
          51100000,
          46800000,
          39400000,
          37900000,
          27900000,
          28900000,
          25000000,
          17800000,
          19100000,
          27100000,
          64600000,
          72900000,
          99900000,
          130100000,
          175800000,
          227200000,
          258700000,
          353200000,
          371900000,
          398000000,
          419200000
         ],
         "yaxis": "y"
        },
        {
         "hovertemplate": "Format=Music Video (Physical)<br>Year=%{x}<br>Revenue (Inflation Adjusted)=%{y}<extra></extra>",
         "legendgroup": "Music Video (Physical)",
         "line": {
          "color": "#FFA15A",
          "dash": "solid"
         },
         "marker": {
          "symbol": "circle"
         },
         "mode": "lines",
         "name": "Music Video (Physical)",
         "orientation": "v",
         "showlegend": true,
         "type": "scatter",
         "x": [
          1973,
          1974,
          1975,
          1976,
          1977,
          1978,
          1979,
          1980,
          1981,
          1982,
          1983,
          1984,
          1985,
          1986,
          1987,
          1988,
          1989,
          1990,
          1991,
          1992,
          1993,
          1994,
          1995,
          1996,
          1997,
          1998,
          1999,
          2000,
          2001,
          2002,
          2003,
          2004,
          2005,
          2006,
          2007,
          2008,
          2009,
          2010,
          2011,
          2012,
          2013,
          2014,
          2015,
          2016,
          2017,
          2018
         ],
         "xaxis": "x",
         "y": [
          0,
          0,
          0,
          0,
          0,
          0,
          0,
          0,
          0,
          0,
          0,
          0,
          0,
          0,
          0,
          0,
          228100000,
          323100000,
          212500000,
          275000000,
          361800000,
          382200000,
          354300000,
          368900000,
          494700000,
          763900000,
          554200000,
          401300000,
          455600000,
          393000000,
          532700000,
          787900000,
          755800000,
          548500000,
          573400000,
          258800000,
          239500000,
          199600000,
          164500000,
          127500000,
          114600000,
          95200000,
          74600000,
          59600000,
          39600000,
          27600000
         ],
         "yaxis": "y"
        },
        {
         "hovertemplate": "Format=Vinyl Single<br>Year=%{x}<br>Revenue (Inflation Adjusted)=%{y}<extra></extra>",
         "legendgroup": "Vinyl Single",
         "line": {
          "color": "#19d3f3",
          "dash": "solid"
         },
         "marker": {
          "symbol": "circle"
         },
         "mode": "lines",
         "name": "Vinyl Single",
         "orientation": "v",
         "showlegend": true,
         "type": "scatter",
         "x": [
          1973,
          1974,
          1975,
          1976,
          1977,
          1978,
          1979,
          1980,
          1981,
          1982,
          1983,
          1984,
          1985,
          1986,
          1987,
          1988,
          1989,
          1990,
          1991,
          1992,
          1993,
          1994,
          1995,
          1996,
          1997,
          1998,
          1999,
          2000,
          2001,
          2002,
          2003,
          2004,
          2005,
          2006,
          2007,
          2008,
          2009,
          2010,
          2011,
          2012,
          2013,
          2014,
          2015,
          2016,
          2017,
          2018
         ],
         "xaxis": "x",
         "y": [
          1048900000,
          964600000,
          963600000,
          1055900000,
          991400000,
          978600000,
          1193900000,
          743700000,
          691400000,
          718800000,
          662800000,
          704700000,
          640100000,
          510100000,
          438700000,
          373800000,
          230100000,
          177000000,
          115000000,
          116000000,
          86900000,
          78100000,
          75100000,
          74200000,
          54400000,
          38600000,
          41000000,
          37400000,
          43500000,
          33900000,
          28600000,
          25800000,
          16600000,
          12000000,
          4700000,
          3300000,
          2900000,
          2600000,
          5000000,
          5200000,
          3200000,
          5800000,
          6100000,
          5100000,
          6200000,
          5300000
         ],
         "yaxis": "y"
        }
       ],
       "layout": {
        "font": {
         "color": "#7f7f7f",
         "family": "Courier New, monospace",
         "size": 13
        },
        "height": 400,
        "legend": {
         "title": {
          "text": "Format"
         },
         "tracegroupgap": 0
        },
        "template": {
         "data": {
          "bar": [
           {
            "error_x": {
             "color": "#2a3f5f"
            },
            "error_y": {
             "color": "#2a3f5f"
            },
            "marker": {
             "line": {
              "color": "#E5ECF6",
              "width": 0.5
             },
             "pattern": {
              "fillmode": "overlay",
              "size": 10,
              "solidity": 0.2
             }
            },
            "type": "bar"
           }
          ],
          "barpolar": [
           {
            "marker": {
             "line": {
              "color": "#E5ECF6",
              "width": 0.5
             },
             "pattern": {
              "fillmode": "overlay",
              "size": 10,
              "solidity": 0.2
             }
            },
            "type": "barpolar"
           }
          ],
          "carpet": [
           {
            "aaxis": {
             "endlinecolor": "#2a3f5f",
             "gridcolor": "white",
             "linecolor": "white",
             "minorgridcolor": "white",
             "startlinecolor": "#2a3f5f"
            },
            "baxis": {
             "endlinecolor": "#2a3f5f",
             "gridcolor": "white",
             "linecolor": "white",
             "minorgridcolor": "white",
             "startlinecolor": "#2a3f5f"
            },
            "type": "carpet"
           }
          ],
          "choropleth": [
           {
            "colorbar": {
             "outlinewidth": 0,
             "ticks": ""
            },
            "type": "choropleth"
           }
          ],
          "contour": [
           {
            "colorbar": {
             "outlinewidth": 0,
             "ticks": ""
            },
            "colorscale": [
             [
              0,
              "#0d0887"
             ],
             [
              0.1111111111111111,
              "#46039f"
             ],
             [
              0.2222222222222222,
              "#7201a8"
             ],
             [
              0.3333333333333333,
              "#9c179e"
             ],
             [
              0.4444444444444444,
              "#bd3786"
             ],
             [
              0.5555555555555556,
              "#d8576b"
             ],
             [
              0.6666666666666666,
              "#ed7953"
             ],
             [
              0.7777777777777778,
              "#fb9f3a"
             ],
             [
              0.8888888888888888,
              "#fdca26"
             ],
             [
              1,
              "#f0f921"
             ]
            ],
            "type": "contour"
           }
          ],
          "contourcarpet": [
           {
            "colorbar": {
             "outlinewidth": 0,
             "ticks": ""
            },
            "type": "contourcarpet"
           }
          ],
          "heatmap": [
           {
            "colorbar": {
             "outlinewidth": 0,
             "ticks": ""
            },
            "colorscale": [
             [
              0,
              "#0d0887"
             ],
             [
              0.1111111111111111,
              "#46039f"
             ],
             [
              0.2222222222222222,
              "#7201a8"
             ],
             [
              0.3333333333333333,
              "#9c179e"
             ],
             [
              0.4444444444444444,
              "#bd3786"
             ],
             [
              0.5555555555555556,
              "#d8576b"
             ],
             [
              0.6666666666666666,
              "#ed7953"
             ],
             [
              0.7777777777777778,
              "#fb9f3a"
             ],
             [
              0.8888888888888888,
              "#fdca26"
             ],
             [
              1,
              "#f0f921"
             ]
            ],
            "type": "heatmap"
           }
          ],
          "heatmapgl": [
           {
            "colorbar": {
             "outlinewidth": 0,
             "ticks": ""
            },
            "colorscale": [
             [
              0,
              "#0d0887"
             ],
             [
              0.1111111111111111,
              "#46039f"
             ],
             [
              0.2222222222222222,
              "#7201a8"
             ],
             [
              0.3333333333333333,
              "#9c179e"
             ],
             [
              0.4444444444444444,
              "#bd3786"
             ],
             [
              0.5555555555555556,
              "#d8576b"
             ],
             [
              0.6666666666666666,
              "#ed7953"
             ],
             [
              0.7777777777777778,
              "#fb9f3a"
             ],
             [
              0.8888888888888888,
              "#fdca26"
             ],
             [
              1,
              "#f0f921"
             ]
            ],
            "type": "heatmapgl"
           }
          ],
          "histogram": [
           {
            "marker": {
             "pattern": {
              "fillmode": "overlay",
              "size": 10,
              "solidity": 0.2
             }
            },
            "type": "histogram"
           }
          ],
          "histogram2d": [
           {
            "colorbar": {
             "outlinewidth": 0,
             "ticks": ""
            },
            "colorscale": [
             [
              0,
              "#0d0887"
             ],
             [
              0.1111111111111111,
              "#46039f"
             ],
             [
              0.2222222222222222,
              "#7201a8"
             ],
             [
              0.3333333333333333,
              "#9c179e"
             ],
             [
              0.4444444444444444,
              "#bd3786"
             ],
             [
              0.5555555555555556,
              "#d8576b"
             ],
             [
              0.6666666666666666,
              "#ed7953"
             ],
             [
              0.7777777777777778,
              "#fb9f3a"
             ],
             [
              0.8888888888888888,
              "#fdca26"
             ],
             [
              1,
              "#f0f921"
             ]
            ],
            "type": "histogram2d"
           }
          ],
          "histogram2dcontour": [
           {
            "colorbar": {
             "outlinewidth": 0,
             "ticks": ""
            },
            "colorscale": [
             [
              0,
              "#0d0887"
             ],
             [
              0.1111111111111111,
              "#46039f"
             ],
             [
              0.2222222222222222,
              "#7201a8"
             ],
             [
              0.3333333333333333,
              "#9c179e"
             ],
             [
              0.4444444444444444,
              "#bd3786"
             ],
             [
              0.5555555555555556,
              "#d8576b"
             ],
             [
              0.6666666666666666,
              "#ed7953"
             ],
             [
              0.7777777777777778,
              "#fb9f3a"
             ],
             [
              0.8888888888888888,
              "#fdca26"
             ],
             [
              1,
              "#f0f921"
             ]
            ],
            "type": "histogram2dcontour"
           }
          ],
          "mesh3d": [
           {
            "colorbar": {
             "outlinewidth": 0,
             "ticks": ""
            },
            "type": "mesh3d"
           }
          ],
          "parcoords": [
           {
            "line": {
             "colorbar": {
              "outlinewidth": 0,
              "ticks": ""
             }
            },
            "type": "parcoords"
           }
          ],
          "pie": [
           {
            "automargin": true,
            "type": "pie"
           }
          ],
          "scatter": [
           {
            "fillpattern": {
             "fillmode": "overlay",
             "size": 10,
             "solidity": 0.2
            },
            "type": "scatter"
           }
          ],
          "scatter3d": [
           {
            "line": {
             "colorbar": {
              "outlinewidth": 0,
              "ticks": ""
             }
            },
            "marker": {
             "colorbar": {
              "outlinewidth": 0,
              "ticks": ""
             }
            },
            "type": "scatter3d"
           }
          ],
          "scattercarpet": [
           {
            "marker": {
             "colorbar": {
              "outlinewidth": 0,
              "ticks": ""
             }
            },
            "type": "scattercarpet"
           }
          ],
          "scattergeo": [
           {
            "marker": {
             "colorbar": {
              "outlinewidth": 0,
              "ticks": ""
             }
            },
            "type": "scattergeo"
           }
          ],
          "scattergl": [
           {
            "marker": {
             "colorbar": {
              "outlinewidth": 0,
              "ticks": ""
             }
            },
            "type": "scattergl"
           }
          ],
          "scattermapbox": [
           {
            "marker": {
             "colorbar": {
              "outlinewidth": 0,
              "ticks": ""
             }
            },
            "type": "scattermapbox"
           }
          ],
          "scatterpolar": [
           {
            "marker": {
             "colorbar": {
              "outlinewidth": 0,
              "ticks": ""
             }
            },
            "type": "scatterpolar"
           }
          ],
          "scatterpolargl": [
           {
            "marker": {
             "colorbar": {
              "outlinewidth": 0,
              "ticks": ""
             }
            },
            "type": "scatterpolargl"
           }
          ],
          "scatterternary": [
           {
            "marker": {
             "colorbar": {
              "outlinewidth": 0,
              "ticks": ""
             }
            },
            "type": "scatterternary"
           }
          ],
          "surface": [
           {
            "colorbar": {
             "outlinewidth": 0,
             "ticks": ""
            },
            "colorscale": [
             [
              0,
              "#0d0887"
             ],
             [
              0.1111111111111111,
              "#46039f"
             ],
             [
              0.2222222222222222,
              "#7201a8"
             ],
             [
              0.3333333333333333,
              "#9c179e"
             ],
             [
              0.4444444444444444,
              "#bd3786"
             ],
             [
              0.5555555555555556,
              "#d8576b"
             ],
             [
              0.6666666666666666,
              "#ed7953"
             ],
             [
              0.7777777777777778,
              "#fb9f3a"
             ],
             [
              0.8888888888888888,
              "#fdca26"
             ],
             [
              1,
              "#f0f921"
             ]
            ],
            "type": "surface"
           }
          ],
          "table": [
           {
            "cells": {
             "fill": {
              "color": "#EBF0F8"
             },
             "line": {
              "color": "white"
             }
            },
            "header": {
             "fill": {
              "color": "#C8D4E3"
             },
             "line": {
              "color": "white"
             }
            },
            "type": "table"
           }
          ]
         },
         "layout": {
          "annotationdefaults": {
           "arrowcolor": "#2a3f5f",
           "arrowhead": 0,
           "arrowwidth": 1
          },
          "autotypenumbers": "strict",
          "coloraxis": {
           "colorbar": {
            "outlinewidth": 0,
            "ticks": ""
           }
          },
          "colorscale": {
           "diverging": [
            [
             0,
             "#8e0152"
            ],
            [
             0.1,
             "#c51b7d"
            ],
            [
             0.2,
             "#de77ae"
            ],
            [
             0.3,
             "#f1b6da"
            ],
            [
             0.4,
             "#fde0ef"
            ],
            [
             0.5,
             "#f7f7f7"
            ],
            [
             0.6,
             "#e6f5d0"
            ],
            [
             0.7,
             "#b8e186"
            ],
            [
             0.8,
             "#7fbc41"
            ],
            [
             0.9,
             "#4d9221"
            ],
            [
             1,
             "#276419"
            ]
           ],
           "sequential": [
            [
             0,
             "#0d0887"
            ],
            [
             0.1111111111111111,
             "#46039f"
            ],
            [
             0.2222222222222222,
             "#7201a8"
            ],
            [
             0.3333333333333333,
             "#9c179e"
            ],
            [
             0.4444444444444444,
             "#bd3786"
            ],
            [
             0.5555555555555556,
             "#d8576b"
            ],
            [
             0.6666666666666666,
             "#ed7953"
            ],
            [
             0.7777777777777778,
             "#fb9f3a"
            ],
            [
             0.8888888888888888,
             "#fdca26"
            ],
            [
             1,
             "#f0f921"
            ]
           ],
           "sequentialminus": [
            [
             0,
             "#0d0887"
            ],
            [
             0.1111111111111111,
             "#46039f"
            ],
            [
             0.2222222222222222,
             "#7201a8"
            ],
            [
             0.3333333333333333,
             "#9c179e"
            ],
            [
             0.4444444444444444,
             "#bd3786"
            ],
            [
             0.5555555555555556,
             "#d8576b"
            ],
            [
             0.6666666666666666,
             "#ed7953"
            ],
            [
             0.7777777777777778,
             "#fb9f3a"
            ],
            [
             0.8888888888888888,
             "#fdca26"
            ],
            [
             1,
             "#f0f921"
            ]
           ]
          },
          "colorway": [
           "#636efa",
           "#EF553B",
           "#00cc96",
           "#ab63fa",
           "#FFA15A",
           "#19d3f3",
           "#FF6692",
           "#B6E880",
           "#FF97FF",
           "#FECB52"
          ],
          "font": {
           "color": "#2a3f5f"
          },
          "geo": {
           "bgcolor": "white",
           "lakecolor": "white",
           "landcolor": "#E5ECF6",
           "showlakes": true,
           "showland": true,
           "subunitcolor": "white"
          },
          "hoverlabel": {
           "align": "left"
          },
          "hovermode": "closest",
          "mapbox": {
           "style": "light"
          },
          "paper_bgcolor": "white",
          "plot_bgcolor": "#E5ECF6",
          "polar": {
           "angularaxis": {
            "gridcolor": "white",
            "linecolor": "white",
            "ticks": ""
           },
           "bgcolor": "#E5ECF6",
           "radialaxis": {
            "gridcolor": "white",
            "linecolor": "white",
            "ticks": ""
           }
          },
          "scene": {
           "xaxis": {
            "backgroundcolor": "#E5ECF6",
            "gridcolor": "white",
            "gridwidth": 2,
            "linecolor": "white",
            "showbackground": true,
            "ticks": "",
            "zerolinecolor": "white"
           },
           "yaxis": {
            "backgroundcolor": "#E5ECF6",
            "gridcolor": "white",
            "gridwidth": 2,
            "linecolor": "white",
            "showbackground": true,
            "ticks": "",
            "zerolinecolor": "white"
           },
           "zaxis": {
            "backgroundcolor": "#E5ECF6",
            "gridcolor": "white",
            "gridwidth": 2,
            "linecolor": "white",
            "showbackground": true,
            "ticks": "",
            "zerolinecolor": "white"
           }
          },
          "shapedefaults": {
           "line": {
            "color": "#2a3f5f"
           }
          },
          "ternary": {
           "aaxis": {
            "gridcolor": "white",
            "linecolor": "white",
            "ticks": ""
           },
           "baxis": {
            "gridcolor": "white",
            "linecolor": "white",
            "ticks": ""
           },
           "bgcolor": "#E5ECF6",
           "caxis": {
            "gridcolor": "white",
            "linecolor": "white",
            "ticks": ""
           }
          },
          "title": {
           "x": 0.05
          },
          "xaxis": {
           "automargin": true,
           "gridcolor": "white",
           "linecolor": "white",
           "ticks": "",
           "title": {
            "standoff": 15
           },
           "zerolinecolor": "white",
           "zerolinewidth": 2
          },
          "yaxis": {
           "automargin": true,
           "gridcolor": "white",
           "linecolor": "white",
           "ticks": "",
           "title": {
            "standoff": 15
           },
           "zerolinecolor": "white",
           "zerolinewidth": 2
          }
         }
        },
        "title": {
         "text": "Inflation Adjusted USA Music Revenues By Different Physical Formats (2019)"
        },
        "xaxis": {
         "anchor": "y",
         "domain": [
          0,
          1
         ],
         "title": {
          "text": "Year"
         }
        },
        "yaxis": {
         "anchor": "x",
         "domain": [
          0,
          1
         ],
         "title": {
          "text": "Inflation Adjusted Revenue (2019)(US$)"
         }
        }
       }
      }
     },
     "metadata": {},
     "output_type": "display_data"
    }
   ],
   "source": [
    "#comparison of different formats of music - Revenue Generated\n",
    "#Line chart\n",
    "us_music_revenue = pd.read_csv('./dataset/US Recorded Music Revenues by Format.csv')\n",
    "\n",
    "selected_df1 = us_music_revenue[us_music_revenue['Format'].isin(['Cassette', 'CD', 'DVD Audio', 'LP/EP', 'Music Video (Physical)', 'Vinyl Single'])]\n",
    "\n",
    "selected_df2 = us_music_revenue[us_music_revenue['Format'].isin(['Download Album', 'Download Single', 'On-Demand Streaming (Ad-Supported)', 'Other Ad-Supported Streaming', 'Other Digital'])]\n",
    "\n",
    "fig_8 = px.line(selected_df1, x=\"Year\", y=\"Revenue (Inflation Adjusted)\", color=\"Format\",\n",
    "              title=\"Inflation Adjusted USA Music Revenues By Different Physical Formats (2019)\")\n",
    "\n",
    "# customize the layout of the top 5 line chart\n",
    "fig_8.update_layout(\n",
    "    xaxis_title=\"Year\",\n",
    "    yaxis_title=\"Inflation Adjusted Revenue (2019)(US$)\",\n",
    "    font=dict(\n",
    "        family=\"Courier New, monospace\",\n",
    "        size=13,\n",
    "        color=\"#7f7f7f\"\n",
    "    ))\n",
    "\n",
    "fig_8.update_layout(height = 400)"
   ]
  },
  {
   "cell_type": "code",
   "execution_count": 18,
   "id": "29392ed2",
   "metadata": {},
   "outputs": [
    {
     "data": {
      "application/vnd.plotly.v1+json": {
       "config": {
        "plotlyServerURL": "https://plot.ly"
       },
       "data": [
        {
         "hovertemplate": "Format=Download Album<br>Year=%{x}<br>Revenue (Inflation Adjusted)=%{y}<extra></extra>",
         "legendgroup": "Download Album",
         "line": {
          "color": "#636efa",
          "dash": "solid"
         },
         "marker": {
          "symbol": "circle"
         },
         "mode": "lines",
         "name": "Download Album",
         "orientation": "v",
         "showlegend": true,
         "type": "scatter",
         "x": [
          1973,
          1974,
          1975,
          1976,
          1977,
          1978,
          1979,
          1980,
          1981,
          1982,
          1983,
          1984,
          1985,
          1986,
          1987,
          1988,
          1989,
          1990,
          1991,
          1992,
          1993,
          1994,
          1995,
          1996,
          1997,
          1998,
          1999,
          2000,
          2001,
          2002,
          2003,
          2004,
          2005,
          2006,
          2007,
          2008,
          2009,
          2010,
          2011,
          2012,
          2013,
          2014,
          2015,
          2016,
          2017,
          2018
         ],
         "xaxis": "x",
         "y": [
          0,
          0,
          0,
          0,
          0,
          0,
          0,
          0,
          0,
          0,
          0,
          0,
          0,
          0,
          0,
          0,
          0,
          0,
          0,
          0,
          0,
          0,
          0,
          0,
          0,
          0,
          0,
          0,
          0,
          0,
          0,
          59000000,
          170300000,
          335500000,
          588100000,
          723300000,
          850400000,
          980700000,
          1166900000,
          1317700000,
          1328100000,
          1185800000,
          1127700000,
          908800000,
          684800000,
          499700000
         ],
         "yaxis": "y"
        },
        {
         "hovertemplate": "Format=Download Single<br>Year=%{x}<br>Revenue (Inflation Adjusted)=%{y}<extra></extra>",
         "legendgroup": "Download Single",
         "line": {
          "color": "#EF553B",
          "dash": "solid"
         },
         "marker": {
          "symbol": "circle"
         },
         "mode": "lines",
         "name": "Download Single",
         "orientation": "v",
         "showlegend": true,
         "type": "scatter",
         "x": [
          1973,
          1974,
          1975,
          1976,
          1977,
          1978,
          1979,
          1980,
          1981,
          1982,
          1983,
          1984,
          1985,
          1986,
          1987,
          1988,
          1989,
          1990,
          1991,
          1992,
          1993,
          1994,
          1995,
          1996,
          1997,
          1998,
          1999,
          2000,
          2001,
          2002,
          2003,
          2004,
          2005,
          2006,
          2007,
          2008,
          2009,
          2010,
          2011,
          2012,
          2013,
          2014,
          2015,
          2016,
          2017,
          2018
         ],
         "xaxis": "x",
         "y": [
          0,
          0,
          0,
          0,
          0,
          0,
          0,
          0,
          0,
          0,
          0,
          0,
          0,
          0,
          0,
          0,
          0,
          0,
          0,
          0,
          0,
          0,
          0,
          0,
          0,
          0,
          0,
          0,
          0,
          0,
          0,
          179100000,
          456000000,
          705900000,
          959000000,
          1175100000,
          1339100000,
          1502300000,
          1659000000,
          1798700000,
          1696000000,
          1437600000,
          1255700000,
          941800000,
          695100000,
          490400000
         ],
         "yaxis": "y"
        },
        {
         "hovertemplate": "Format=On-Demand Streaming (Ad-Supported)<br>Year=%{x}<br>Revenue (Inflation Adjusted)=%{y}<extra></extra>",
         "legendgroup": "On-Demand Streaming (Ad-Supported)",
         "line": {
          "color": "#00cc96",
          "dash": "solid"
         },
         "marker": {
          "symbol": "circle"
         },
         "mode": "lines",
         "name": "On-Demand Streaming (Ad-Supported)",
         "orientation": "v",
         "showlegend": true,
         "type": "scatter",
         "x": [
          1973,
          1974,
          1975,
          1976,
          1977,
          1978,
          1979,
          1980,
          1981,
          1982,
          1983,
          1984,
          1985,
          1986,
          1987,
          1988,
          1989,
          1990,
          1991,
          1992,
          1993,
          1994,
          1995,
          1996,
          1997,
          1998,
          1999,
          2000,
          2001,
          2002,
          2003,
          2004,
          2005,
          2006,
          2007,
          2008,
          2009,
          2010,
          2011,
          2012,
          2013,
          2014,
          2015,
          2016,
          2017,
          2018
         ],
         "xaxis": "x",
         "y": [
          0,
          0,
          0,
          0,
          0,
          0,
          0,
          0,
          0,
          0,
          0,
          0,
          0,
          0,
          0,
          0,
          0,
          0,
          0,
          0,
          0,
          0,
          0,
          0,
          0,
          0,
          0,
          0,
          0,
          0,
          0,
          0,
          0,
          0,
          0,
          0,
          0,
          0,
          124000000,
          187000000,
          238100000,
          301000000,
          394100000,
          512000000,
          674700000,
          759500000
         ],
         "yaxis": "y"
        },
        {
         "hovertemplate": "Format=Other Ad-Supported Streaming<br>Year=%{x}<br>Revenue (Inflation Adjusted)=%{y}<extra></extra>",
         "legendgroup": "Other Ad-Supported Streaming",
         "line": {
          "color": "#ab63fa",
          "dash": "solid"
         },
         "marker": {
          "symbol": "circle"
         },
         "mode": "lines",
         "name": "Other Ad-Supported Streaming",
         "orientation": "v",
         "showlegend": true,
         "type": "scatter",
         "x": [
          1973,
          1974,
          1975,
          1976,
          1977,
          1978,
          1979,
          1980,
          1981,
          1982,
          1983,
          1984,
          1985,
          1986,
          1987,
          1988,
          1989,
          1990,
          1991,
          1992,
          1993,
          1994,
          1995,
          1996,
          1997,
          1998,
          1999,
          2000,
          2001,
          2002,
          2003,
          2004,
          2005,
          2006,
          2007,
          2008,
          2009,
          2010,
          2011,
          2012,
          2013,
          2014,
          2015,
          2016,
          2017,
          2018
         ],
         "xaxis": "x",
         "y": [
          0,
          0,
          0,
          0,
          0,
          0,
          0,
          0,
          0,
          0,
          0,
          0,
          0,
          0,
          0,
          0,
          0,
          0,
          0,
          0,
          0,
          0,
          0,
          0,
          0,
          0,
          0,
          0,
          0,
          0,
          0,
          0,
          0,
          0,
          0,
          0,
          0,
          0,
          0,
          0,
          0,
          0,
          0,
          85000000,
          268200000,
          251400000
         ],
         "yaxis": "y"
        },
        {
         "hovertemplate": "Format=Other Digital<br>Year=%{x}<br>Revenue (Inflation Adjusted)=%{y}<extra></extra>",
         "legendgroup": "Other Digital",
         "line": {
          "color": "#FFA15A",
          "dash": "solid"
         },
         "marker": {
          "symbol": "circle"
         },
         "mode": "lines",
         "name": "Other Digital",
         "orientation": "v",
         "showlegend": true,
         "type": "scatter",
         "x": [
          1973,
          1974,
          1975,
          1976,
          1977,
          1978,
          1979,
          1980,
          1981,
          1982,
          1983,
          1984,
          1985,
          1986,
          1987,
          1988,
          1989,
          1990,
          1991,
          1992,
          1993,
          1994,
          1995,
          1996,
          1997,
          1998,
          1999,
          2000,
          2001,
          2002,
          2003,
          2004,
          2005,
          2006,
          2007,
          2008,
          2009,
          2010,
          2011,
          2012,
          2013,
          2014,
          2015,
          2016,
          2017,
          2018
         ],
         "xaxis": "x",
         "y": [
          0,
          0,
          0,
          0,
          0,
          0,
          0,
          0,
          0,
          0,
          0,
          0,
          0,
          0,
          0,
          0,
          0,
          0,
          0,
          0,
          0,
          0,
          0,
          0,
          0,
          0,
          0,
          0,
          0,
          0,
          0,
          0,
          0,
          0,
          0,
          0,
          0,
          0,
          0,
          0,
          0,
          0,
          0,
          17900000,
          17300000,
          19800000
         ],
         "yaxis": "y"
        }
       ],
       "layout": {
        "font": {
         "color": "#7f7f7f",
         "family": "Courier New, monospace",
         "size": 13
        },
        "height": 400,
        "legend": {
         "title": {
          "text": "Format"
         },
         "tracegroupgap": 0
        },
        "template": {
         "data": {
          "bar": [
           {
            "error_x": {
             "color": "#2a3f5f"
            },
            "error_y": {
             "color": "#2a3f5f"
            },
            "marker": {
             "line": {
              "color": "#E5ECF6",
              "width": 0.5
             },
             "pattern": {
              "fillmode": "overlay",
              "size": 10,
              "solidity": 0.2
             }
            },
            "type": "bar"
           }
          ],
          "barpolar": [
           {
            "marker": {
             "line": {
              "color": "#E5ECF6",
              "width": 0.5
             },
             "pattern": {
              "fillmode": "overlay",
              "size": 10,
              "solidity": 0.2
             }
            },
            "type": "barpolar"
           }
          ],
          "carpet": [
           {
            "aaxis": {
             "endlinecolor": "#2a3f5f",
             "gridcolor": "white",
             "linecolor": "white",
             "minorgridcolor": "white",
             "startlinecolor": "#2a3f5f"
            },
            "baxis": {
             "endlinecolor": "#2a3f5f",
             "gridcolor": "white",
             "linecolor": "white",
             "minorgridcolor": "white",
             "startlinecolor": "#2a3f5f"
            },
            "type": "carpet"
           }
          ],
          "choropleth": [
           {
            "colorbar": {
             "outlinewidth": 0,
             "ticks": ""
            },
            "type": "choropleth"
           }
          ],
          "contour": [
           {
            "colorbar": {
             "outlinewidth": 0,
             "ticks": ""
            },
            "colorscale": [
             [
              0,
              "#0d0887"
             ],
             [
              0.1111111111111111,
              "#46039f"
             ],
             [
              0.2222222222222222,
              "#7201a8"
             ],
             [
              0.3333333333333333,
              "#9c179e"
             ],
             [
              0.4444444444444444,
              "#bd3786"
             ],
             [
              0.5555555555555556,
              "#d8576b"
             ],
             [
              0.6666666666666666,
              "#ed7953"
             ],
             [
              0.7777777777777778,
              "#fb9f3a"
             ],
             [
              0.8888888888888888,
              "#fdca26"
             ],
             [
              1,
              "#f0f921"
             ]
            ],
            "type": "contour"
           }
          ],
          "contourcarpet": [
           {
            "colorbar": {
             "outlinewidth": 0,
             "ticks": ""
            },
            "type": "contourcarpet"
           }
          ],
          "heatmap": [
           {
            "colorbar": {
             "outlinewidth": 0,
             "ticks": ""
            },
            "colorscale": [
             [
              0,
              "#0d0887"
             ],
             [
              0.1111111111111111,
              "#46039f"
             ],
             [
              0.2222222222222222,
              "#7201a8"
             ],
             [
              0.3333333333333333,
              "#9c179e"
             ],
             [
              0.4444444444444444,
              "#bd3786"
             ],
             [
              0.5555555555555556,
              "#d8576b"
             ],
             [
              0.6666666666666666,
              "#ed7953"
             ],
             [
              0.7777777777777778,
              "#fb9f3a"
             ],
             [
              0.8888888888888888,
              "#fdca26"
             ],
             [
              1,
              "#f0f921"
             ]
            ],
            "type": "heatmap"
           }
          ],
          "heatmapgl": [
           {
            "colorbar": {
             "outlinewidth": 0,
             "ticks": ""
            },
            "colorscale": [
             [
              0,
              "#0d0887"
             ],
             [
              0.1111111111111111,
              "#46039f"
             ],
             [
              0.2222222222222222,
              "#7201a8"
             ],
             [
              0.3333333333333333,
              "#9c179e"
             ],
             [
              0.4444444444444444,
              "#bd3786"
             ],
             [
              0.5555555555555556,
              "#d8576b"
             ],
             [
              0.6666666666666666,
              "#ed7953"
             ],
             [
              0.7777777777777778,
              "#fb9f3a"
             ],
             [
              0.8888888888888888,
              "#fdca26"
             ],
             [
              1,
              "#f0f921"
             ]
            ],
            "type": "heatmapgl"
           }
          ],
          "histogram": [
           {
            "marker": {
             "pattern": {
              "fillmode": "overlay",
              "size": 10,
              "solidity": 0.2
             }
            },
            "type": "histogram"
           }
          ],
          "histogram2d": [
           {
            "colorbar": {
             "outlinewidth": 0,
             "ticks": ""
            },
            "colorscale": [
             [
              0,
              "#0d0887"
             ],
             [
              0.1111111111111111,
              "#46039f"
             ],
             [
              0.2222222222222222,
              "#7201a8"
             ],
             [
              0.3333333333333333,
              "#9c179e"
             ],
             [
              0.4444444444444444,
              "#bd3786"
             ],
             [
              0.5555555555555556,
              "#d8576b"
             ],
             [
              0.6666666666666666,
              "#ed7953"
             ],
             [
              0.7777777777777778,
              "#fb9f3a"
             ],
             [
              0.8888888888888888,
              "#fdca26"
             ],
             [
              1,
              "#f0f921"
             ]
            ],
            "type": "histogram2d"
           }
          ],
          "histogram2dcontour": [
           {
            "colorbar": {
             "outlinewidth": 0,
             "ticks": ""
            },
            "colorscale": [
             [
              0,
              "#0d0887"
             ],
             [
              0.1111111111111111,
              "#46039f"
             ],
             [
              0.2222222222222222,
              "#7201a8"
             ],
             [
              0.3333333333333333,
              "#9c179e"
             ],
             [
              0.4444444444444444,
              "#bd3786"
             ],
             [
              0.5555555555555556,
              "#d8576b"
             ],
             [
              0.6666666666666666,
              "#ed7953"
             ],
             [
              0.7777777777777778,
              "#fb9f3a"
             ],
             [
              0.8888888888888888,
              "#fdca26"
             ],
             [
              1,
              "#f0f921"
             ]
            ],
            "type": "histogram2dcontour"
           }
          ],
          "mesh3d": [
           {
            "colorbar": {
             "outlinewidth": 0,
             "ticks": ""
            },
            "type": "mesh3d"
           }
          ],
          "parcoords": [
           {
            "line": {
             "colorbar": {
              "outlinewidth": 0,
              "ticks": ""
             }
            },
            "type": "parcoords"
           }
          ],
          "pie": [
           {
            "automargin": true,
            "type": "pie"
           }
          ],
          "scatter": [
           {
            "fillpattern": {
             "fillmode": "overlay",
             "size": 10,
             "solidity": 0.2
            },
            "type": "scatter"
           }
          ],
          "scatter3d": [
           {
            "line": {
             "colorbar": {
              "outlinewidth": 0,
              "ticks": ""
             }
            },
            "marker": {
             "colorbar": {
              "outlinewidth": 0,
              "ticks": ""
             }
            },
            "type": "scatter3d"
           }
          ],
          "scattercarpet": [
           {
            "marker": {
             "colorbar": {
              "outlinewidth": 0,
              "ticks": ""
             }
            },
            "type": "scattercarpet"
           }
          ],
          "scattergeo": [
           {
            "marker": {
             "colorbar": {
              "outlinewidth": 0,
              "ticks": ""
             }
            },
            "type": "scattergeo"
           }
          ],
          "scattergl": [
           {
            "marker": {
             "colorbar": {
              "outlinewidth": 0,
              "ticks": ""
             }
            },
            "type": "scattergl"
           }
          ],
          "scattermapbox": [
           {
            "marker": {
             "colorbar": {
              "outlinewidth": 0,
              "ticks": ""
             }
            },
            "type": "scattermapbox"
           }
          ],
          "scatterpolar": [
           {
            "marker": {
             "colorbar": {
              "outlinewidth": 0,
              "ticks": ""
             }
            },
            "type": "scatterpolar"
           }
          ],
          "scatterpolargl": [
           {
            "marker": {
             "colorbar": {
              "outlinewidth": 0,
              "ticks": ""
             }
            },
            "type": "scatterpolargl"
           }
          ],
          "scatterternary": [
           {
            "marker": {
             "colorbar": {
              "outlinewidth": 0,
              "ticks": ""
             }
            },
            "type": "scatterternary"
           }
          ],
          "surface": [
           {
            "colorbar": {
             "outlinewidth": 0,
             "ticks": ""
            },
            "colorscale": [
             [
              0,
              "#0d0887"
             ],
             [
              0.1111111111111111,
              "#46039f"
             ],
             [
              0.2222222222222222,
              "#7201a8"
             ],
             [
              0.3333333333333333,
              "#9c179e"
             ],
             [
              0.4444444444444444,
              "#bd3786"
             ],
             [
              0.5555555555555556,
              "#d8576b"
             ],
             [
              0.6666666666666666,
              "#ed7953"
             ],
             [
              0.7777777777777778,
              "#fb9f3a"
             ],
             [
              0.8888888888888888,
              "#fdca26"
             ],
             [
              1,
              "#f0f921"
             ]
            ],
            "type": "surface"
           }
          ],
          "table": [
           {
            "cells": {
             "fill": {
              "color": "#EBF0F8"
             },
             "line": {
              "color": "white"
             }
            },
            "header": {
             "fill": {
              "color": "#C8D4E3"
             },
             "line": {
              "color": "white"
             }
            },
            "type": "table"
           }
          ]
         },
         "layout": {
          "annotationdefaults": {
           "arrowcolor": "#2a3f5f",
           "arrowhead": 0,
           "arrowwidth": 1
          },
          "autotypenumbers": "strict",
          "coloraxis": {
           "colorbar": {
            "outlinewidth": 0,
            "ticks": ""
           }
          },
          "colorscale": {
           "diverging": [
            [
             0,
             "#8e0152"
            ],
            [
             0.1,
             "#c51b7d"
            ],
            [
             0.2,
             "#de77ae"
            ],
            [
             0.3,
             "#f1b6da"
            ],
            [
             0.4,
             "#fde0ef"
            ],
            [
             0.5,
             "#f7f7f7"
            ],
            [
             0.6,
             "#e6f5d0"
            ],
            [
             0.7,
             "#b8e186"
            ],
            [
             0.8,
             "#7fbc41"
            ],
            [
             0.9,
             "#4d9221"
            ],
            [
             1,
             "#276419"
            ]
           ],
           "sequential": [
            [
             0,
             "#0d0887"
            ],
            [
             0.1111111111111111,
             "#46039f"
            ],
            [
             0.2222222222222222,
             "#7201a8"
            ],
            [
             0.3333333333333333,
             "#9c179e"
            ],
            [
             0.4444444444444444,
             "#bd3786"
            ],
            [
             0.5555555555555556,
             "#d8576b"
            ],
            [
             0.6666666666666666,
             "#ed7953"
            ],
            [
             0.7777777777777778,
             "#fb9f3a"
            ],
            [
             0.8888888888888888,
             "#fdca26"
            ],
            [
             1,
             "#f0f921"
            ]
           ],
           "sequentialminus": [
            [
             0,
             "#0d0887"
            ],
            [
             0.1111111111111111,
             "#46039f"
            ],
            [
             0.2222222222222222,
             "#7201a8"
            ],
            [
             0.3333333333333333,
             "#9c179e"
            ],
            [
             0.4444444444444444,
             "#bd3786"
            ],
            [
             0.5555555555555556,
             "#d8576b"
            ],
            [
             0.6666666666666666,
             "#ed7953"
            ],
            [
             0.7777777777777778,
             "#fb9f3a"
            ],
            [
             0.8888888888888888,
             "#fdca26"
            ],
            [
             1,
             "#f0f921"
            ]
           ]
          },
          "colorway": [
           "#636efa",
           "#EF553B",
           "#00cc96",
           "#ab63fa",
           "#FFA15A",
           "#19d3f3",
           "#FF6692",
           "#B6E880",
           "#FF97FF",
           "#FECB52"
          ],
          "font": {
           "color": "#2a3f5f"
          },
          "geo": {
           "bgcolor": "white",
           "lakecolor": "white",
           "landcolor": "#E5ECF6",
           "showlakes": true,
           "showland": true,
           "subunitcolor": "white"
          },
          "hoverlabel": {
           "align": "left"
          },
          "hovermode": "closest",
          "mapbox": {
           "style": "light"
          },
          "paper_bgcolor": "white",
          "plot_bgcolor": "#E5ECF6",
          "polar": {
           "angularaxis": {
            "gridcolor": "white",
            "linecolor": "white",
            "ticks": ""
           },
           "bgcolor": "#E5ECF6",
           "radialaxis": {
            "gridcolor": "white",
            "linecolor": "white",
            "ticks": ""
           }
          },
          "scene": {
           "xaxis": {
            "backgroundcolor": "#E5ECF6",
            "gridcolor": "white",
            "gridwidth": 2,
            "linecolor": "white",
            "showbackground": true,
            "ticks": "",
            "zerolinecolor": "white"
           },
           "yaxis": {
            "backgroundcolor": "#E5ECF6",
            "gridcolor": "white",
            "gridwidth": 2,
            "linecolor": "white",
            "showbackground": true,
            "ticks": "",
            "zerolinecolor": "white"
           },
           "zaxis": {
            "backgroundcolor": "#E5ECF6",
            "gridcolor": "white",
            "gridwidth": 2,
            "linecolor": "white",
            "showbackground": true,
            "ticks": "",
            "zerolinecolor": "white"
           }
          },
          "shapedefaults": {
           "line": {
            "color": "#2a3f5f"
           }
          },
          "ternary": {
           "aaxis": {
            "gridcolor": "white",
            "linecolor": "white",
            "ticks": ""
           },
           "baxis": {
            "gridcolor": "white",
            "linecolor": "white",
            "ticks": ""
           },
           "bgcolor": "#E5ECF6",
           "caxis": {
            "gridcolor": "white",
            "linecolor": "white",
            "ticks": ""
           }
          },
          "title": {
           "x": 0.05
          },
          "xaxis": {
           "automargin": true,
           "gridcolor": "white",
           "linecolor": "white",
           "ticks": "",
           "title": {
            "standoff": 15
           },
           "zerolinecolor": "white",
           "zerolinewidth": 2
          },
          "yaxis": {
           "automargin": true,
           "gridcolor": "white",
           "linecolor": "white",
           "ticks": "",
           "title": {
            "standoff": 15
           },
           "zerolinecolor": "white",
           "zerolinewidth": 2
          }
         }
        },
        "title": {
         "text": "Inflation Adjusted USA Music Revenues By Different Digital Formats (2019)"
        },
        "xaxis": {
         "anchor": "y",
         "domain": [
          0,
          1
         ],
         "title": {
          "text": "Year"
         }
        },
        "yaxis": {
         "anchor": "x",
         "domain": [
          0,
          1
         ],
         "title": {
          "text": "Inflation Adjusted Revenue (2019)(US$)"
         }
        }
       }
      }
     },
     "metadata": {},
     "output_type": "display_data"
    }
   ],
   "source": [
    "fig_9 = px.line(selected_df2, x=\"Year\", y=\"Revenue (Inflation Adjusted)\", color=\"Format\",\n",
    "              title=\"Inflation Adjusted USA Music Revenues By Different Digital Formats (2019)\")\n",
    "\n",
    "# customize the layout of the top 5 line chart\n",
    "fig_9.update_layout(\n",
    "    xaxis_title=\"Year\",\n",
    "    yaxis_title=\"Inflation Adjusted Revenue (2019)(US$)\",\n",
    "    font=dict(\n",
    "        family=\"Courier New, monospace\",\n",
    "        size=13,\n",
    "        color=\"#7f7f7f\"\n",
    "    ))\n",
    "\n",
    "fig_9.update_layout(height = 400)"
   ]
  },
  {
   "cell_type": "code",
   "execution_count": 19,
   "id": "f68c53d9",
   "metadata": {},
   "outputs": [
    {
     "data": {
      "application/vnd.plotly.v1+json": {
       "config": {
        "plotlyServerURL": "https://plot.ly"
       },
       "data": [
        {
         "alignmentgroup": "True",
         "customdata": [
          [
           2019
          ],
          [
           2019
          ],
          [
           2019
          ],
          [
           2021
          ],
          [
           2019
          ],
          [
           2019
          ],
          [
           2021
          ],
          [
           2019
          ],
          [
           2019
          ],
          [
           2021
          ],
          [
           2019
          ]
         ],
         "hovertemplate": "variable=touring<br>Artist=%{x}<br>value=%{y}<br>year=%{customdata[0]}<extra></extra>",
         "legendgroup": "touring",
         "marker": {
          "color": "#636efa",
          "pattern": {
           "shape": ""
          }
         },
         "name": "touring",
         "offsetgroup": "touring",
         "orientation": "v",
         "showlegend": true,
         "textposition": "auto",
         "type": "bar",
         "x": [
          "Taylor Swift  (2019)",
          "Bruce Springsteen  (2019)",
          "Drake  (2019)",
          "Rolling Stones  (2021)",
          "Kenny Chesney  (2019)",
          "Ed Sheeran  (2019)",
          "Taylor Swift  (2021)",
          "Eagles  (2019)",
          "Justin Timberlake  (2019)",
          "Harry Styles  (2021)",
          "Elton John  (2019)"
         ],
         "xaxis": "x",
         "y": [
          90.5,
          50.9,
          30.7,
          44.5,
          38.6,
          32.8,
          0,
          33.1,
          33,
          32.2,
          33.5
         ],
         "yaxis": "y"
        },
        {
         "alignmentgroup": "True",
         "customdata": [
          [
           2019
          ],
          [
           2019
          ],
          [
           2019
          ],
          [
           2021
          ],
          [
           2019
          ],
          [
           2019
          ],
          [
           2021
          ],
          [
           2019
          ],
          [
           2019
          ],
          [
           2021
          ],
          [
           2019
          ]
         ],
         "hovertemplate": "variable=streaming<br>Artist=%{x}<br>value=%{y}<br>year=%{customdata[0]}<extra></extra>",
         "legendgroup": "streaming",
         "marker": {
          "color": "#EF553B",
          "pattern": {
           "shape": ""
          }
         },
         "name": "streaming",
         "offsetgroup": "streaming",
         "orientation": "v",
         "showlegend": true,
         "textposition": "auto",
         "type": "bar",
         "x": [
          "Taylor Swift  (2019)",
          "Bruce Springsteen  (2019)",
          "Drake  (2019)",
          "Rolling Stones  (2021)",
          "Kenny Chesney  (2019)",
          "Ed Sheeran  (2019)",
          "Taylor Swift  (2021)",
          "Eagles  (2019)",
          "Justin Timberlake  (2019)",
          "Harry Styles  (2021)",
          "Elton John  (2019)"
         ],
         "xaxis": "x",
         "y": [
          5.67,
          0.814,
          17.1,
          3.1,
          2.6,
          4.8,
          19,
          2.2,
          2.2,
          2.3,
          1.5
         ],
         "yaxis": "y"
        },
        {
         "alignmentgroup": "True",
         "customdata": [
          [
           2019
          ],
          [
           2019
          ],
          [
           2019
          ],
          [
           2021
          ],
          [
           2019
          ],
          [
           2019
          ],
          [
           2021
          ],
          [
           2019
          ],
          [
           2019
          ],
          [
           2021
          ],
          [
           2019
          ]
         ],
         "hovertemplate": "variable=publishing<br>Artist=%{x}<br>value=%{y}<br>year=%{customdata[0]}<extra></extra>",
         "legendgroup": "publishing",
         "marker": {
          "color": "#00cc96",
          "pattern": {
           "shape": ""
          }
         },
         "name": "publishing",
         "offsetgroup": "publishing",
         "orientation": "v",
         "showlegend": true,
         "textposition": "auto",
         "type": "bar",
         "x": [
          "Taylor Swift  (2019)",
          "Bruce Springsteen  (2019)",
          "Drake  (2019)",
          "Rolling Stones  (2021)",
          "Kenny Chesney  (2019)",
          "Ed Sheeran  (2019)",
          "Taylor Swift  (2021)",
          "Eagles  (2019)",
          "Justin Timberlake  (2019)",
          "Harry Styles  (2021)",
          "Elton John  (2019)"
         ],
         "xaxis": "x",
         "y": [
          1.9,
          0.79,
          3.1,
          1.2,
          0.25,
          2.5,
          3.9,
          1,
          0.896,
          0.25,
          0.431
         ],
         "yaxis": "y"
        },
        {
         "alignmentgroup": "True",
         "customdata": [
          [
           2019
          ],
          [
           2019
          ],
          [
           2019
          ],
          [
           2021
          ],
          [
           2019
          ],
          [
           2019
          ],
          [
           2021
          ],
          [
           2019
          ],
          [
           2019
          ],
          [
           2021
          ],
          [
           2019
          ]
         ],
         "hovertemplate": "variable=sales<br>Artist=%{x}<br>value=%{y}<br>year=%{customdata[0]}<extra></extra>",
         "legendgroup": "sales",
         "marker": {
          "color": "#ab63fa",
          "pattern": {
           "shape": ""
          }
         },
         "name": "sales",
         "offsetgroup": "sales",
         "orientation": "v",
         "showlegend": true,
         "textposition": "auto",
         "type": "bar",
         "x": [
          "Taylor Swift  (2019)",
          "Bruce Springsteen  (2019)",
          "Drake  (2019)",
          "Rolling Stones  (2021)",
          "Kenny Chesney  (2019)",
          "Ed Sheeran  (2019)",
          "Taylor Swift  (2021)",
          "Eagles  (2019)",
          "Justin Timberlake  (2019)",
          "Harry Styles  (2021)",
          "Elton John  (2019)"
         ],
         "xaxis": "x",
         "y": [
          1.5,
          0.499,
          1.6,
          2,
          1,
          1.7,
          15.9,
          1.2,
          1.4,
          1.9,
          0.813
         ],
         "yaxis": "y"
        }
       ],
       "layout": {
        "barmode": "relative",
        "height": 600,
        "legend": {
         "title": {
          "text": "variable"
         },
         "tracegroupgap": 0
        },
        "template": {
         "data": {
          "bar": [
           {
            "error_x": {
             "color": "#2a3f5f"
            },
            "error_y": {
             "color": "#2a3f5f"
            },
            "marker": {
             "line": {
              "color": "#E5ECF6",
              "width": 0.5
             },
             "pattern": {
              "fillmode": "overlay",
              "size": 10,
              "solidity": 0.2
             }
            },
            "type": "bar"
           }
          ],
          "barpolar": [
           {
            "marker": {
             "line": {
              "color": "#E5ECF6",
              "width": 0.5
             },
             "pattern": {
              "fillmode": "overlay",
              "size": 10,
              "solidity": 0.2
             }
            },
            "type": "barpolar"
           }
          ],
          "carpet": [
           {
            "aaxis": {
             "endlinecolor": "#2a3f5f",
             "gridcolor": "white",
             "linecolor": "white",
             "minorgridcolor": "white",
             "startlinecolor": "#2a3f5f"
            },
            "baxis": {
             "endlinecolor": "#2a3f5f",
             "gridcolor": "white",
             "linecolor": "white",
             "minorgridcolor": "white",
             "startlinecolor": "#2a3f5f"
            },
            "type": "carpet"
           }
          ],
          "choropleth": [
           {
            "colorbar": {
             "outlinewidth": 0,
             "ticks": ""
            },
            "type": "choropleth"
           }
          ],
          "contour": [
           {
            "colorbar": {
             "outlinewidth": 0,
             "ticks": ""
            },
            "colorscale": [
             [
              0,
              "#0d0887"
             ],
             [
              0.1111111111111111,
              "#46039f"
             ],
             [
              0.2222222222222222,
              "#7201a8"
             ],
             [
              0.3333333333333333,
              "#9c179e"
             ],
             [
              0.4444444444444444,
              "#bd3786"
             ],
             [
              0.5555555555555556,
              "#d8576b"
             ],
             [
              0.6666666666666666,
              "#ed7953"
             ],
             [
              0.7777777777777778,
              "#fb9f3a"
             ],
             [
              0.8888888888888888,
              "#fdca26"
             ],
             [
              1,
              "#f0f921"
             ]
            ],
            "type": "contour"
           }
          ],
          "contourcarpet": [
           {
            "colorbar": {
             "outlinewidth": 0,
             "ticks": ""
            },
            "type": "contourcarpet"
           }
          ],
          "heatmap": [
           {
            "colorbar": {
             "outlinewidth": 0,
             "ticks": ""
            },
            "colorscale": [
             [
              0,
              "#0d0887"
             ],
             [
              0.1111111111111111,
              "#46039f"
             ],
             [
              0.2222222222222222,
              "#7201a8"
             ],
             [
              0.3333333333333333,
              "#9c179e"
             ],
             [
              0.4444444444444444,
              "#bd3786"
             ],
             [
              0.5555555555555556,
              "#d8576b"
             ],
             [
              0.6666666666666666,
              "#ed7953"
             ],
             [
              0.7777777777777778,
              "#fb9f3a"
             ],
             [
              0.8888888888888888,
              "#fdca26"
             ],
             [
              1,
              "#f0f921"
             ]
            ],
            "type": "heatmap"
           }
          ],
          "heatmapgl": [
           {
            "colorbar": {
             "outlinewidth": 0,
             "ticks": ""
            },
            "colorscale": [
             [
              0,
              "#0d0887"
             ],
             [
              0.1111111111111111,
              "#46039f"
             ],
             [
              0.2222222222222222,
              "#7201a8"
             ],
             [
              0.3333333333333333,
              "#9c179e"
             ],
             [
              0.4444444444444444,
              "#bd3786"
             ],
             [
              0.5555555555555556,
              "#d8576b"
             ],
             [
              0.6666666666666666,
              "#ed7953"
             ],
             [
              0.7777777777777778,
              "#fb9f3a"
             ],
             [
              0.8888888888888888,
              "#fdca26"
             ],
             [
              1,
              "#f0f921"
             ]
            ],
            "type": "heatmapgl"
           }
          ],
          "histogram": [
           {
            "marker": {
             "pattern": {
              "fillmode": "overlay",
              "size": 10,
              "solidity": 0.2
             }
            },
            "type": "histogram"
           }
          ],
          "histogram2d": [
           {
            "colorbar": {
             "outlinewidth": 0,
             "ticks": ""
            },
            "colorscale": [
             [
              0,
              "#0d0887"
             ],
             [
              0.1111111111111111,
              "#46039f"
             ],
             [
              0.2222222222222222,
              "#7201a8"
             ],
             [
              0.3333333333333333,
              "#9c179e"
             ],
             [
              0.4444444444444444,
              "#bd3786"
             ],
             [
              0.5555555555555556,
              "#d8576b"
             ],
             [
              0.6666666666666666,
              "#ed7953"
             ],
             [
              0.7777777777777778,
              "#fb9f3a"
             ],
             [
              0.8888888888888888,
              "#fdca26"
             ],
             [
              1,
              "#f0f921"
             ]
            ],
            "type": "histogram2d"
           }
          ],
          "histogram2dcontour": [
           {
            "colorbar": {
             "outlinewidth": 0,
             "ticks": ""
            },
            "colorscale": [
             [
              0,
              "#0d0887"
             ],
             [
              0.1111111111111111,
              "#46039f"
             ],
             [
              0.2222222222222222,
              "#7201a8"
             ],
             [
              0.3333333333333333,
              "#9c179e"
             ],
             [
              0.4444444444444444,
              "#bd3786"
             ],
             [
              0.5555555555555556,
              "#d8576b"
             ],
             [
              0.6666666666666666,
              "#ed7953"
             ],
             [
              0.7777777777777778,
              "#fb9f3a"
             ],
             [
              0.8888888888888888,
              "#fdca26"
             ],
             [
              1,
              "#f0f921"
             ]
            ],
            "type": "histogram2dcontour"
           }
          ],
          "mesh3d": [
           {
            "colorbar": {
             "outlinewidth": 0,
             "ticks": ""
            },
            "type": "mesh3d"
           }
          ],
          "parcoords": [
           {
            "line": {
             "colorbar": {
              "outlinewidth": 0,
              "ticks": ""
             }
            },
            "type": "parcoords"
           }
          ],
          "pie": [
           {
            "automargin": true,
            "type": "pie"
           }
          ],
          "scatter": [
           {
            "fillpattern": {
             "fillmode": "overlay",
             "size": 10,
             "solidity": 0.2
            },
            "type": "scatter"
           }
          ],
          "scatter3d": [
           {
            "line": {
             "colorbar": {
              "outlinewidth": 0,
              "ticks": ""
             }
            },
            "marker": {
             "colorbar": {
              "outlinewidth": 0,
              "ticks": ""
             }
            },
            "type": "scatter3d"
           }
          ],
          "scattercarpet": [
           {
            "marker": {
             "colorbar": {
              "outlinewidth": 0,
              "ticks": ""
             }
            },
            "type": "scattercarpet"
           }
          ],
          "scattergeo": [
           {
            "marker": {
             "colorbar": {
              "outlinewidth": 0,
              "ticks": ""
             }
            },
            "type": "scattergeo"
           }
          ],
          "scattergl": [
           {
            "marker": {
             "colorbar": {
              "outlinewidth": 0,
              "ticks": ""
             }
            },
            "type": "scattergl"
           }
          ],
          "scattermapbox": [
           {
            "marker": {
             "colorbar": {
              "outlinewidth": 0,
              "ticks": ""
             }
            },
            "type": "scattermapbox"
           }
          ],
          "scatterpolar": [
           {
            "marker": {
             "colorbar": {
              "outlinewidth": 0,
              "ticks": ""
             }
            },
            "type": "scatterpolar"
           }
          ],
          "scatterpolargl": [
           {
            "marker": {
             "colorbar": {
              "outlinewidth": 0,
              "ticks": ""
             }
            },
            "type": "scatterpolargl"
           }
          ],
          "scatterternary": [
           {
            "marker": {
             "colorbar": {
              "outlinewidth": 0,
              "ticks": ""
             }
            },
            "type": "scatterternary"
           }
          ],
          "surface": [
           {
            "colorbar": {
             "outlinewidth": 0,
             "ticks": ""
            },
            "colorscale": [
             [
              0,
              "#0d0887"
             ],
             [
              0.1111111111111111,
              "#46039f"
             ],
             [
              0.2222222222222222,
              "#7201a8"
             ],
             [
              0.3333333333333333,
              "#9c179e"
             ],
             [
              0.4444444444444444,
              "#bd3786"
             ],
             [
              0.5555555555555556,
              "#d8576b"
             ],
             [
              0.6666666666666666,
              "#ed7953"
             ],
             [
              0.7777777777777778,
              "#fb9f3a"
             ],
             [
              0.8888888888888888,
              "#fdca26"
             ],
             [
              1,
              "#f0f921"
             ]
            ],
            "type": "surface"
           }
          ],
          "table": [
           {
            "cells": {
             "fill": {
              "color": "#EBF0F8"
             },
             "line": {
              "color": "white"
             }
            },
            "header": {
             "fill": {
              "color": "#C8D4E3"
             },
             "line": {
              "color": "white"
             }
            },
            "type": "table"
           }
          ]
         },
         "layout": {
          "annotationdefaults": {
           "arrowcolor": "#2a3f5f",
           "arrowhead": 0,
           "arrowwidth": 1
          },
          "autotypenumbers": "strict",
          "coloraxis": {
           "colorbar": {
            "outlinewidth": 0,
            "ticks": ""
           }
          },
          "colorscale": {
           "diverging": [
            [
             0,
             "#8e0152"
            ],
            [
             0.1,
             "#c51b7d"
            ],
            [
             0.2,
             "#de77ae"
            ],
            [
             0.3,
             "#f1b6da"
            ],
            [
             0.4,
             "#fde0ef"
            ],
            [
             0.5,
             "#f7f7f7"
            ],
            [
             0.6,
             "#e6f5d0"
            ],
            [
             0.7,
             "#b8e186"
            ],
            [
             0.8,
             "#7fbc41"
            ],
            [
             0.9,
             "#4d9221"
            ],
            [
             1,
             "#276419"
            ]
           ],
           "sequential": [
            [
             0,
             "#0d0887"
            ],
            [
             0.1111111111111111,
             "#46039f"
            ],
            [
             0.2222222222222222,
             "#7201a8"
            ],
            [
             0.3333333333333333,
             "#9c179e"
            ],
            [
             0.4444444444444444,
             "#bd3786"
            ],
            [
             0.5555555555555556,
             "#d8576b"
            ],
            [
             0.6666666666666666,
             "#ed7953"
            ],
            [
             0.7777777777777778,
             "#fb9f3a"
            ],
            [
             0.8888888888888888,
             "#fdca26"
            ],
            [
             1,
             "#f0f921"
            ]
           ],
           "sequentialminus": [
            [
             0,
             "#0d0887"
            ],
            [
             0.1111111111111111,
             "#46039f"
            ],
            [
             0.2222222222222222,
             "#7201a8"
            ],
            [
             0.3333333333333333,
             "#9c179e"
            ],
            [
             0.4444444444444444,
             "#bd3786"
            ],
            [
             0.5555555555555556,
             "#d8576b"
            ],
            [
             0.6666666666666666,
             "#ed7953"
            ],
            [
             0.7777777777777778,
             "#fb9f3a"
            ],
            [
             0.8888888888888888,
             "#fdca26"
            ],
            [
             1,
             "#f0f921"
            ]
           ]
          },
          "colorway": [
           "#636efa",
           "#EF553B",
           "#00cc96",
           "#ab63fa",
           "#FFA15A",
           "#19d3f3",
           "#FF6692",
           "#B6E880",
           "#FF97FF",
           "#FECB52"
          ],
          "font": {
           "color": "#2a3f5f"
          },
          "geo": {
           "bgcolor": "white",
           "lakecolor": "white",
           "landcolor": "#E5ECF6",
           "showlakes": true,
           "showland": true,
           "subunitcolor": "white"
          },
          "hoverlabel": {
           "align": "left"
          },
          "hovermode": "closest",
          "mapbox": {
           "style": "light"
          },
          "paper_bgcolor": "white",
          "plot_bgcolor": "#E5ECF6",
          "polar": {
           "angularaxis": {
            "gridcolor": "white",
            "linecolor": "white",
            "ticks": ""
           },
           "bgcolor": "#E5ECF6",
           "radialaxis": {
            "gridcolor": "white",
            "linecolor": "white",
            "ticks": ""
           }
          },
          "scene": {
           "xaxis": {
            "backgroundcolor": "#E5ECF6",
            "gridcolor": "white",
            "gridwidth": 2,
            "linecolor": "white",
            "showbackground": true,
            "ticks": "",
            "zerolinecolor": "white"
           },
           "yaxis": {
            "backgroundcolor": "#E5ECF6",
            "gridcolor": "white",
            "gridwidth": 2,
            "linecolor": "white",
            "showbackground": true,
            "ticks": "",
            "zerolinecolor": "white"
           },
           "zaxis": {
            "backgroundcolor": "#E5ECF6",
            "gridcolor": "white",
            "gridwidth": 2,
            "linecolor": "white",
            "showbackground": true,
            "ticks": "",
            "zerolinecolor": "white"
           }
          },
          "shapedefaults": {
           "line": {
            "color": "#2a3f5f"
           }
          },
          "ternary": {
           "aaxis": {
            "gridcolor": "white",
            "linecolor": "white",
            "ticks": ""
           },
           "baxis": {
            "gridcolor": "white",
            "linecolor": "white",
            "ticks": ""
           },
           "bgcolor": "#E5ECF6",
           "caxis": {
            "gridcolor": "white",
            "linecolor": "white",
            "ticks": ""
           }
          },
          "title": {
           "x": 0.05
          },
          "xaxis": {
           "automargin": true,
           "gridcolor": "white",
           "linecolor": "white",
           "ticks": "",
           "title": {
            "standoff": 15
           },
           "zerolinecolor": "white",
           "zerolinewidth": 2
          },
          "yaxis": {
           "automargin": true,
           "gridcolor": "white",
           "linecolor": "white",
           "ticks": "",
           "title": {
            "standoff": 15
           },
           "zerolinecolor": "white",
           "zerolinewidth": 2
          }
         }
        },
        "title": {
         "text": "Top 10 Highest Grossing Years for an Artist (Billboard 2022 Data)"
        },
        "xaxis": {
         "anchor": "y",
         "domain": [
          0,
          1
         ],
         "title": {
          "text": "Artist Name"
         }
        },
        "yaxis": {
         "anchor": "x",
         "domain": [
          0,
          1
         ],
         "title": {
          "text": "Total Earnings in a Year (Millions US$)"
         }
        }
       }
      }
     },
     "metadata": {},
     "output_type": "display_data"
    }
   ],
   "source": [
    "#top 10 grossing years for an artist billboard\n",
    "df=pd.read_csv(\"./dataset/money-makers-bb.csv\")\n",
    "top_10_artists = df.nlargest(11, 'total')\n",
    "top_10_artists['Artist']=top_10_artists['Artist']+'  ('+top_10_artists['year'].astype(str)+')'\n",
    "top_10_artists['publishing']=top_10_artists['publishing'].astype(float)\n",
    "top_10_artists['sales']=top_10_artists['sales'].astype(float)\n",
    "top_10_artists['streaming']=top_10_artists['streaming'].astype(float)\n",
    "top_10_artists['touring']=top_10_artists['touring'].astype(float)\n",
    "fig_10 = px.bar(top_10_artists, x=\"Artist\", y=[\"touring\", \"streaming\", \"publishing\", \"sales\"], title=\"Top 10 Highest Grossing Years for an Artist (Billboard 2022 Data)\", hover_data='year')\n",
    "fig_10.update_layout(\n",
    "    xaxis_title=\"Artist Name\",\n",
    "    yaxis_title=\"Total Earnings in a Year (Millions US$)\",\n",
    "    height=600)\n",
    "fig_10.show()"
   ]
  },
  {
   "cell_type": "code",
   "execution_count": 20,
   "id": "6e2ec814",
   "metadata": {},
   "outputs": [
    {
     "data": {
      "application/vnd.plotly.v1+json": {
       "config": {
        "plotlyServerURL": "https://plot.ly"
       },
       "data": [
        {
         "customdata": [
          [
           "Bruce Springsteen"
          ],
          [
           "Michael Jackson "
          ],
          [
           "Michael Jackson "
          ],
          [
           "Michael Jackson"
          ],
          [
           "New Kids on the Block "
          ],
          [
           "New Kids on the Block"
          ],
          [
           "Guns N' Roses"
          ],
          [
           "Pink Floyd"
          ],
          [
           "The Beatles"
          ],
          [
           "The Beatles"
          ],
          [
           "The Beatles"
          ],
          [
           "The Rolling Stones"
          ],
          [
           "Backstreet Boys"
          ]
         ],
         "hovertemplate": "Year=%{x}<br>Adjusted earnings=%{y}<br>Musician=%{customdata[0]}<extra></extra>",
         "legendgroup": "",
         "line": {
          "color": "red",
          "dash": "solid"
         },
         "marker": {
          "symbol": "circle"
         },
         "mode": "lines+markers",
         "name": "",
         "orientation": "v",
         "showlegend": false,
         "type": "scatter",
         "x": [
          1987,
          1988,
          1989,
          1990,
          1991,
          1992,
          1993,
          1994,
          1995,
          1996,
          1997,
          1998,
          1999
         ],
         "xaxis": "x",
         "y": [
          134,
          222,
          273,
          207,
          229,
          120,
          99,
          113,
          231,
          225,
          165,
          95,
          98
         ],
         "yaxis": "y"
        }
       ],
       "layout": {
        "legend": {
         "tracegroupgap": 0
        },
        "template": {
         "data": {
          "pie": [
           {
            "automargin": true,
            "type": "pie"
           }
          ],
          "scatter": [
           {
            "line": {
             "width": 3
            },
            "marker": {
             "size": 9
            },
            "type": "scatter"
           }
          ],
          "scatter3d": [
           {
            "line": {
             "width": 3
            },
            "marker": {
             "size": 9
            },
            "type": "scatter3d"
           }
          ],
          "scattergeo": [
           {
            "line": {
             "width": 3
            },
            "marker": {
             "size": 9
            },
            "type": "scattergeo"
           }
          ],
          "scattergl": [
           {
            "line": {
             "width": 3
            },
            "marker": {
             "size": 9
            },
            "type": "scattergl"
           }
          ],
          "scatterpolar": [
           {
            "line": {
             "width": 3
            },
            "marker": {
             "size": 9
            },
            "type": "scatterpolar"
           }
          ],
          "scatterpolargl": [
           {
            "line": {
             "width": 3
            },
            "marker": {
             "size": 9
            },
            "type": "scatterpolargl"
           }
          ],
          "scatterternary": [
           {
            "line": {
             "width": 3
            },
            "marker": {
             "size": 9
            },
            "type": "scatterternary"
           }
          ],
          "table": [
           {
            "cells": {
             "height": 30
            },
            "header": {
             "height": 36
            },
            "type": "table"
           }
          ]
         },
         "layout": {
          "font": {
           "size": 18
          },
          "xaxis": {
           "title": {
            "standoff": 15
           }
          },
          "yaxis": {
           "title": {
            "standoff": 15
           }
          }
         }
        },
        "title": {
         "font": {
          "size": 17
         },
         "text": "Line Chart: Highest Earning Musician Yearwise Earnings(1987-2000)"
        },
        "xaxis": {
         "anchor": "y",
         "domain": [
          0,
          1
         ],
         "title": {
          "font": {
           "size": 14
          },
          "text": "Year"
         }
        },
        "yaxis": {
         "anchor": "x",
         "domain": [
          0,
          1
         ],
         "title": {
          "font": {
           "size": 14
          },
          "text": "Adjusted Earnings (in 2023 Million US$)"
         }
        }
       }
      }
     },
     "metadata": {},
     "output_type": "display_data"
    }
   ],
   "source": [
    "df=pd.read_csv(\"./dataset/richest musicians by year.csv\")\n",
    "df=df[df['Year']<2000]\n",
    "\n",
    "fig_11 = px.line(df, x='Year', y='Adjusted earnings', markers=True, hover_data='Musician', template='presentation', title='Line Chart: Highest Earning Musician Yearwise Earnings(1987-2000)')\n",
    "fig_11.update_xaxes(title_text='Year', title_font=dict(size=14))\n",
    "fig_11.update_yaxes(title_text='Adjusted Earnings (in 2023 Million US$)', title_font=dict(size=14))\n",
    "fig_11.update_traces(line=dict(color='red'))  # Change line color here\n",
    "fig_11.update_layout(title_font=dict(size=17))  # Decrease font size for plot title\n",
    "fig_11.show()"
   ]
  },
  {
   "cell_type": "code",
   "execution_count": 21,
   "id": "5ed61995",
   "metadata": {},
   "outputs": [
    {
     "data": {
      "application/vnd.plotly.v1+json": {
       "config": {
        "plotlyServerURL": "https://plot.ly"
       },
       "data": [
        {
         "boxmean": true,
         "fillcolor": "#FF0000",
         "line": {
          "color": "#00004d"
         },
         "marker": {
          "color": "blue"
         },
         "name": "Earnings",
         "type": "box",
         "y": [
          134,
          222,
          273,
          207,
          229,
          120,
          99,
          113,
          231,
          225,
          165,
          95,
          98
         ]
        }
       ],
       "layout": {
        "template": {
         "data": {
          "bar": [
           {
            "error_x": {
             "color": "#2a3f5f"
            },
            "error_y": {
             "color": "#2a3f5f"
            },
            "marker": {
             "line": {
              "color": "#E5ECF6",
              "width": 0.5
             },
             "pattern": {
              "fillmode": "overlay",
              "size": 10,
              "solidity": 0.2
             }
            },
            "type": "bar"
           }
          ],
          "barpolar": [
           {
            "marker": {
             "line": {
              "color": "#E5ECF6",
              "width": 0.5
             },
             "pattern": {
              "fillmode": "overlay",
              "size": 10,
              "solidity": 0.2
             }
            },
            "type": "barpolar"
           }
          ],
          "carpet": [
           {
            "aaxis": {
             "endlinecolor": "#2a3f5f",
             "gridcolor": "white",
             "linecolor": "white",
             "minorgridcolor": "white",
             "startlinecolor": "#2a3f5f"
            },
            "baxis": {
             "endlinecolor": "#2a3f5f",
             "gridcolor": "white",
             "linecolor": "white",
             "minorgridcolor": "white",
             "startlinecolor": "#2a3f5f"
            },
            "type": "carpet"
           }
          ],
          "choropleth": [
           {
            "colorbar": {
             "outlinewidth": 0,
             "ticks": ""
            },
            "type": "choropleth"
           }
          ],
          "contour": [
           {
            "colorbar": {
             "outlinewidth": 0,
             "ticks": ""
            },
            "colorscale": [
             [
              0,
              "#0d0887"
             ],
             [
              0.1111111111111111,
              "#46039f"
             ],
             [
              0.2222222222222222,
              "#7201a8"
             ],
             [
              0.3333333333333333,
              "#9c179e"
             ],
             [
              0.4444444444444444,
              "#bd3786"
             ],
             [
              0.5555555555555556,
              "#d8576b"
             ],
             [
              0.6666666666666666,
              "#ed7953"
             ],
             [
              0.7777777777777778,
              "#fb9f3a"
             ],
             [
              0.8888888888888888,
              "#fdca26"
             ],
             [
              1,
              "#f0f921"
             ]
            ],
            "type": "contour"
           }
          ],
          "contourcarpet": [
           {
            "colorbar": {
             "outlinewidth": 0,
             "ticks": ""
            },
            "type": "contourcarpet"
           }
          ],
          "heatmap": [
           {
            "colorbar": {
             "outlinewidth": 0,
             "ticks": ""
            },
            "colorscale": [
             [
              0,
              "#0d0887"
             ],
             [
              0.1111111111111111,
              "#46039f"
             ],
             [
              0.2222222222222222,
              "#7201a8"
             ],
             [
              0.3333333333333333,
              "#9c179e"
             ],
             [
              0.4444444444444444,
              "#bd3786"
             ],
             [
              0.5555555555555556,
              "#d8576b"
             ],
             [
              0.6666666666666666,
              "#ed7953"
             ],
             [
              0.7777777777777778,
              "#fb9f3a"
             ],
             [
              0.8888888888888888,
              "#fdca26"
             ],
             [
              1,
              "#f0f921"
             ]
            ],
            "type": "heatmap"
           }
          ],
          "heatmapgl": [
           {
            "colorbar": {
             "outlinewidth": 0,
             "ticks": ""
            },
            "colorscale": [
             [
              0,
              "#0d0887"
             ],
             [
              0.1111111111111111,
              "#46039f"
             ],
             [
              0.2222222222222222,
              "#7201a8"
             ],
             [
              0.3333333333333333,
              "#9c179e"
             ],
             [
              0.4444444444444444,
              "#bd3786"
             ],
             [
              0.5555555555555556,
              "#d8576b"
             ],
             [
              0.6666666666666666,
              "#ed7953"
             ],
             [
              0.7777777777777778,
              "#fb9f3a"
             ],
             [
              0.8888888888888888,
              "#fdca26"
             ],
             [
              1,
              "#f0f921"
             ]
            ],
            "type": "heatmapgl"
           }
          ],
          "histogram": [
           {
            "marker": {
             "pattern": {
              "fillmode": "overlay",
              "size": 10,
              "solidity": 0.2
             }
            },
            "type": "histogram"
           }
          ],
          "histogram2d": [
           {
            "colorbar": {
             "outlinewidth": 0,
             "ticks": ""
            },
            "colorscale": [
             [
              0,
              "#0d0887"
             ],
             [
              0.1111111111111111,
              "#46039f"
             ],
             [
              0.2222222222222222,
              "#7201a8"
             ],
             [
              0.3333333333333333,
              "#9c179e"
             ],
             [
              0.4444444444444444,
              "#bd3786"
             ],
             [
              0.5555555555555556,
              "#d8576b"
             ],
             [
              0.6666666666666666,
              "#ed7953"
             ],
             [
              0.7777777777777778,
              "#fb9f3a"
             ],
             [
              0.8888888888888888,
              "#fdca26"
             ],
             [
              1,
              "#f0f921"
             ]
            ],
            "type": "histogram2d"
           }
          ],
          "histogram2dcontour": [
           {
            "colorbar": {
             "outlinewidth": 0,
             "ticks": ""
            },
            "colorscale": [
             [
              0,
              "#0d0887"
             ],
             [
              0.1111111111111111,
              "#46039f"
             ],
             [
              0.2222222222222222,
              "#7201a8"
             ],
             [
              0.3333333333333333,
              "#9c179e"
             ],
             [
              0.4444444444444444,
              "#bd3786"
             ],
             [
              0.5555555555555556,
              "#d8576b"
             ],
             [
              0.6666666666666666,
              "#ed7953"
             ],
             [
              0.7777777777777778,
              "#fb9f3a"
             ],
             [
              0.8888888888888888,
              "#fdca26"
             ],
             [
              1,
              "#f0f921"
             ]
            ],
            "type": "histogram2dcontour"
           }
          ],
          "mesh3d": [
           {
            "colorbar": {
             "outlinewidth": 0,
             "ticks": ""
            },
            "type": "mesh3d"
           }
          ],
          "parcoords": [
           {
            "line": {
             "colorbar": {
              "outlinewidth": 0,
              "ticks": ""
             }
            },
            "type": "parcoords"
           }
          ],
          "pie": [
           {
            "automargin": true,
            "type": "pie"
           }
          ],
          "scatter": [
           {
            "fillpattern": {
             "fillmode": "overlay",
             "size": 10,
             "solidity": 0.2
            },
            "type": "scatter"
           }
          ],
          "scatter3d": [
           {
            "line": {
             "colorbar": {
              "outlinewidth": 0,
              "ticks": ""
             }
            },
            "marker": {
             "colorbar": {
              "outlinewidth": 0,
              "ticks": ""
             }
            },
            "type": "scatter3d"
           }
          ],
          "scattercarpet": [
           {
            "marker": {
             "colorbar": {
              "outlinewidth": 0,
              "ticks": ""
             }
            },
            "type": "scattercarpet"
           }
          ],
          "scattergeo": [
           {
            "marker": {
             "colorbar": {
              "outlinewidth": 0,
              "ticks": ""
             }
            },
            "type": "scattergeo"
           }
          ],
          "scattergl": [
           {
            "marker": {
             "colorbar": {
              "outlinewidth": 0,
              "ticks": ""
             }
            },
            "type": "scattergl"
           }
          ],
          "scattermapbox": [
           {
            "marker": {
             "colorbar": {
              "outlinewidth": 0,
              "ticks": ""
             }
            },
            "type": "scattermapbox"
           }
          ],
          "scatterpolar": [
           {
            "marker": {
             "colorbar": {
              "outlinewidth": 0,
              "ticks": ""
             }
            },
            "type": "scatterpolar"
           }
          ],
          "scatterpolargl": [
           {
            "marker": {
             "colorbar": {
              "outlinewidth": 0,
              "ticks": ""
             }
            },
            "type": "scatterpolargl"
           }
          ],
          "scatterternary": [
           {
            "marker": {
             "colorbar": {
              "outlinewidth": 0,
              "ticks": ""
             }
            },
            "type": "scatterternary"
           }
          ],
          "surface": [
           {
            "colorbar": {
             "outlinewidth": 0,
             "ticks": ""
            },
            "colorscale": [
             [
              0,
              "#0d0887"
             ],
             [
              0.1111111111111111,
              "#46039f"
             ],
             [
              0.2222222222222222,
              "#7201a8"
             ],
             [
              0.3333333333333333,
              "#9c179e"
             ],
             [
              0.4444444444444444,
              "#bd3786"
             ],
             [
              0.5555555555555556,
              "#d8576b"
             ],
             [
              0.6666666666666666,
              "#ed7953"
             ],
             [
              0.7777777777777778,
              "#fb9f3a"
             ],
             [
              0.8888888888888888,
              "#fdca26"
             ],
             [
              1,
              "#f0f921"
             ]
            ],
            "type": "surface"
           }
          ],
          "table": [
           {
            "cells": {
             "fill": {
              "color": "#EBF0F8"
             },
             "line": {
              "color": "white"
             }
            },
            "header": {
             "fill": {
              "color": "#C8D4E3"
             },
             "line": {
              "color": "white"
             }
            },
            "type": "table"
           }
          ]
         },
         "layout": {
          "annotationdefaults": {
           "arrowcolor": "#2a3f5f",
           "arrowhead": 0,
           "arrowwidth": 1
          },
          "autotypenumbers": "strict",
          "coloraxis": {
           "colorbar": {
            "outlinewidth": 0,
            "ticks": ""
           }
          },
          "colorscale": {
           "diverging": [
            [
             0,
             "#8e0152"
            ],
            [
             0.1,
             "#c51b7d"
            ],
            [
             0.2,
             "#de77ae"
            ],
            [
             0.3,
             "#f1b6da"
            ],
            [
             0.4,
             "#fde0ef"
            ],
            [
             0.5,
             "#f7f7f7"
            ],
            [
             0.6,
             "#e6f5d0"
            ],
            [
             0.7,
             "#b8e186"
            ],
            [
             0.8,
             "#7fbc41"
            ],
            [
             0.9,
             "#4d9221"
            ],
            [
             1,
             "#276419"
            ]
           ],
           "sequential": [
            [
             0,
             "#0d0887"
            ],
            [
             0.1111111111111111,
             "#46039f"
            ],
            [
             0.2222222222222222,
             "#7201a8"
            ],
            [
             0.3333333333333333,
             "#9c179e"
            ],
            [
             0.4444444444444444,
             "#bd3786"
            ],
            [
             0.5555555555555556,
             "#d8576b"
            ],
            [
             0.6666666666666666,
             "#ed7953"
            ],
            [
             0.7777777777777778,
             "#fb9f3a"
            ],
            [
             0.8888888888888888,
             "#fdca26"
            ],
            [
             1,
             "#f0f921"
            ]
           ],
           "sequentialminus": [
            [
             0,
             "#0d0887"
            ],
            [
             0.1111111111111111,
             "#46039f"
            ],
            [
             0.2222222222222222,
             "#7201a8"
            ],
            [
             0.3333333333333333,
             "#9c179e"
            ],
            [
             0.4444444444444444,
             "#bd3786"
            ],
            [
             0.5555555555555556,
             "#d8576b"
            ],
            [
             0.6666666666666666,
             "#ed7953"
            ],
            [
             0.7777777777777778,
             "#fb9f3a"
            ],
            [
             0.8888888888888888,
             "#fdca26"
            ],
            [
             1,
             "#f0f921"
            ]
           ]
          },
          "colorway": [
           "#636efa",
           "#EF553B",
           "#00cc96",
           "#ab63fa",
           "#FFA15A",
           "#19d3f3",
           "#FF6692",
           "#B6E880",
           "#FF97FF",
           "#FECB52"
          ],
          "font": {
           "color": "#2a3f5f"
          },
          "geo": {
           "bgcolor": "white",
           "lakecolor": "white",
           "landcolor": "#E5ECF6",
           "showlakes": true,
           "showland": true,
           "subunitcolor": "white"
          },
          "hoverlabel": {
           "align": "left"
          },
          "hovermode": "closest",
          "mapbox": {
           "style": "light"
          },
          "paper_bgcolor": "white",
          "plot_bgcolor": "#E5ECF6",
          "polar": {
           "angularaxis": {
            "gridcolor": "white",
            "linecolor": "white",
            "ticks": ""
           },
           "bgcolor": "#E5ECF6",
           "radialaxis": {
            "gridcolor": "white",
            "linecolor": "white",
            "ticks": ""
           }
          },
          "scene": {
           "xaxis": {
            "backgroundcolor": "#E5ECF6",
            "gridcolor": "white",
            "gridwidth": 2,
            "linecolor": "white",
            "showbackground": true,
            "ticks": "",
            "zerolinecolor": "white"
           },
           "yaxis": {
            "backgroundcolor": "#E5ECF6",
            "gridcolor": "white",
            "gridwidth": 2,
            "linecolor": "white",
            "showbackground": true,
            "ticks": "",
            "zerolinecolor": "white"
           },
           "zaxis": {
            "backgroundcolor": "#E5ECF6",
            "gridcolor": "white",
            "gridwidth": 2,
            "linecolor": "white",
            "showbackground": true,
            "ticks": "",
            "zerolinecolor": "white"
           }
          },
          "shapedefaults": {
           "line": {
            "color": "#2a3f5f"
           }
          },
          "ternary": {
           "aaxis": {
            "gridcolor": "white",
            "linecolor": "white",
            "ticks": ""
           },
           "baxis": {
            "gridcolor": "white",
            "linecolor": "white",
            "ticks": ""
           },
           "bgcolor": "#E5ECF6",
           "caxis": {
            "gridcolor": "white",
            "linecolor": "white",
            "ticks": ""
           }
          },
          "title": {
           "x": 0.05
          },
          "xaxis": {
           "automargin": true,
           "gridcolor": "white",
           "linecolor": "white",
           "ticks": "",
           "title": {
            "standoff": 15
           },
           "zerolinecolor": "white",
           "zerolinewidth": 2
          },
          "yaxis": {
           "automargin": true,
           "gridcolor": "white",
           "linecolor": "white",
           "ticks": "",
           "title": {
            "standoff": 15
           },
           "zerolinecolor": "white",
           "zerolinewidth": 2
          }
         }
        },
        "title": {
         "font": {
          "size": 17
         },
         "text": "Box Plot: Highest Earning Musician Yearwise Earnings (1987-2000)"
        },
        "yaxis": {
         "title": {
          "text": "Adjusted Earnings (2023 Million US$)"
         }
        }
       }
      }
     },
     "metadata": {},
     "output_type": "display_data"
    }
   ],
   "source": [
    "# Create a box and whiskers plot with Plotly\n",
    "fig12_box = go.Figure()\n",
    "\n",
    "fig12_box.add_trace(go.Box(\n",
    "    y=df['Adjusted earnings'],\n",
    "    name='Earnings',\n",
    "    boxmean=True, # set boxmean to True to color the box\n",
    "    fillcolor='#FF0000', # set fillcolor to change the color of the box\n",
    "    marker=dict(\n",
    "        color='blue'\n",
    "    ),\n",
    "    line=dict(\n",
    "        color='#00004d'\n",
    "    ),\n",
    "))\n",
    "fig12_box.update_yaxes(title_text='Adjusted Earnings (2023 Million US$)')\n",
    "fig12_box.update_layout(title='Box Plot: Highest Earning Musician Yearwise Earnings (1987-2000)',title_font=dict(size=17) )"
   ]
  },
  {
   "cell_type": "code",
   "execution_count": 22,
   "id": "a8518cf3",
   "metadata": {},
   "outputs": [
    {
     "data": {
      "application/vnd.plotly.v1+json": {
       "config": {
        "plotlyServerURL": "https://plot.ly"
       },
       "data": [
        {
         "domain": {
          "x": [
           0,
           1
          ],
          "y": [
           0,
           1
          ]
         },
         "hovertemplate": "Genre=%{label}<br>Count=%{value}<extra></extra>",
         "labels": [
          "Rock",
          "Pop",
          "Country",
          "R&B",
          "Hip Hop",
          "Classical",
          "World",
          "Jazz"
         ],
         "legendgroup": "",
         "name": "",
         "showlegend": true,
         "type": "pie",
         "values": [
          43,
          36,
          9,
          7,
          4,
          2,
          2,
          1
         ]
        }
       ],
       "layout": {
        "legend": {
         "tracegroupgap": 0
        },
        "template": {
         "data": {
          "bar": [
           {
            "error_x": {
             "color": "#2a3f5f"
            },
            "error_y": {
             "color": "#2a3f5f"
            },
            "marker": {
             "line": {
              "color": "#E5ECF6",
              "width": 0.5
             },
             "pattern": {
              "fillmode": "overlay",
              "size": 10,
              "solidity": 0.2
             }
            },
            "type": "bar"
           }
          ],
          "barpolar": [
           {
            "marker": {
             "line": {
              "color": "#E5ECF6",
              "width": 0.5
             },
             "pattern": {
              "fillmode": "overlay",
              "size": 10,
              "solidity": 0.2
             }
            },
            "type": "barpolar"
           }
          ],
          "carpet": [
           {
            "aaxis": {
             "endlinecolor": "#2a3f5f",
             "gridcolor": "white",
             "linecolor": "white",
             "minorgridcolor": "white",
             "startlinecolor": "#2a3f5f"
            },
            "baxis": {
             "endlinecolor": "#2a3f5f",
             "gridcolor": "white",
             "linecolor": "white",
             "minorgridcolor": "white",
             "startlinecolor": "#2a3f5f"
            },
            "type": "carpet"
           }
          ],
          "choropleth": [
           {
            "colorbar": {
             "outlinewidth": 0,
             "ticks": ""
            },
            "type": "choropleth"
           }
          ],
          "contour": [
           {
            "colorbar": {
             "outlinewidth": 0,
             "ticks": ""
            },
            "colorscale": [
             [
              0,
              "#0d0887"
             ],
             [
              0.1111111111111111,
              "#46039f"
             ],
             [
              0.2222222222222222,
              "#7201a8"
             ],
             [
              0.3333333333333333,
              "#9c179e"
             ],
             [
              0.4444444444444444,
              "#bd3786"
             ],
             [
              0.5555555555555556,
              "#d8576b"
             ],
             [
              0.6666666666666666,
              "#ed7953"
             ],
             [
              0.7777777777777778,
              "#fb9f3a"
             ],
             [
              0.8888888888888888,
              "#fdca26"
             ],
             [
              1,
              "#f0f921"
             ]
            ],
            "type": "contour"
           }
          ],
          "contourcarpet": [
           {
            "colorbar": {
             "outlinewidth": 0,
             "ticks": ""
            },
            "type": "contourcarpet"
           }
          ],
          "heatmap": [
           {
            "colorbar": {
             "outlinewidth": 0,
             "ticks": ""
            },
            "colorscale": [
             [
              0,
              "#0d0887"
             ],
             [
              0.1111111111111111,
              "#46039f"
             ],
             [
              0.2222222222222222,
              "#7201a8"
             ],
             [
              0.3333333333333333,
              "#9c179e"
             ],
             [
              0.4444444444444444,
              "#bd3786"
             ],
             [
              0.5555555555555556,
              "#d8576b"
             ],
             [
              0.6666666666666666,
              "#ed7953"
             ],
             [
              0.7777777777777778,
              "#fb9f3a"
             ],
             [
              0.8888888888888888,
              "#fdca26"
             ],
             [
              1,
              "#f0f921"
             ]
            ],
            "type": "heatmap"
           }
          ],
          "heatmapgl": [
           {
            "colorbar": {
             "outlinewidth": 0,
             "ticks": ""
            },
            "colorscale": [
             [
              0,
              "#0d0887"
             ],
             [
              0.1111111111111111,
              "#46039f"
             ],
             [
              0.2222222222222222,
              "#7201a8"
             ],
             [
              0.3333333333333333,
              "#9c179e"
             ],
             [
              0.4444444444444444,
              "#bd3786"
             ],
             [
              0.5555555555555556,
              "#d8576b"
             ],
             [
              0.6666666666666666,
              "#ed7953"
             ],
             [
              0.7777777777777778,
              "#fb9f3a"
             ],
             [
              0.8888888888888888,
              "#fdca26"
             ],
             [
              1,
              "#f0f921"
             ]
            ],
            "type": "heatmapgl"
           }
          ],
          "histogram": [
           {
            "marker": {
             "pattern": {
              "fillmode": "overlay",
              "size": 10,
              "solidity": 0.2
             }
            },
            "type": "histogram"
           }
          ],
          "histogram2d": [
           {
            "colorbar": {
             "outlinewidth": 0,
             "ticks": ""
            },
            "colorscale": [
             [
              0,
              "#0d0887"
             ],
             [
              0.1111111111111111,
              "#46039f"
             ],
             [
              0.2222222222222222,
              "#7201a8"
             ],
             [
              0.3333333333333333,
              "#9c179e"
             ],
             [
              0.4444444444444444,
              "#bd3786"
             ],
             [
              0.5555555555555556,
              "#d8576b"
             ],
             [
              0.6666666666666666,
              "#ed7953"
             ],
             [
              0.7777777777777778,
              "#fb9f3a"
             ],
             [
              0.8888888888888888,
              "#fdca26"
             ],
             [
              1,
              "#f0f921"
             ]
            ],
            "type": "histogram2d"
           }
          ],
          "histogram2dcontour": [
           {
            "colorbar": {
             "outlinewidth": 0,
             "ticks": ""
            },
            "colorscale": [
             [
              0,
              "#0d0887"
             ],
             [
              0.1111111111111111,
              "#46039f"
             ],
             [
              0.2222222222222222,
              "#7201a8"
             ],
             [
              0.3333333333333333,
              "#9c179e"
             ],
             [
              0.4444444444444444,
              "#bd3786"
             ],
             [
              0.5555555555555556,
              "#d8576b"
             ],
             [
              0.6666666666666666,
              "#ed7953"
             ],
             [
              0.7777777777777778,
              "#fb9f3a"
             ],
             [
              0.8888888888888888,
              "#fdca26"
             ],
             [
              1,
              "#f0f921"
             ]
            ],
            "type": "histogram2dcontour"
           }
          ],
          "mesh3d": [
           {
            "colorbar": {
             "outlinewidth": 0,
             "ticks": ""
            },
            "type": "mesh3d"
           }
          ],
          "parcoords": [
           {
            "line": {
             "colorbar": {
              "outlinewidth": 0,
              "ticks": ""
             }
            },
            "type": "parcoords"
           }
          ],
          "pie": [
           {
            "automargin": true,
            "type": "pie"
           }
          ],
          "scatter": [
           {
            "fillpattern": {
             "fillmode": "overlay",
             "size": 10,
             "solidity": 0.2
            },
            "type": "scatter"
           }
          ],
          "scatter3d": [
           {
            "line": {
             "colorbar": {
              "outlinewidth": 0,
              "ticks": ""
             }
            },
            "marker": {
             "colorbar": {
              "outlinewidth": 0,
              "ticks": ""
             }
            },
            "type": "scatter3d"
           }
          ],
          "scattercarpet": [
           {
            "marker": {
             "colorbar": {
              "outlinewidth": 0,
              "ticks": ""
             }
            },
            "type": "scattercarpet"
           }
          ],
          "scattergeo": [
           {
            "marker": {
             "colorbar": {
              "outlinewidth": 0,
              "ticks": ""
             }
            },
            "type": "scattergeo"
           }
          ],
          "scattergl": [
           {
            "marker": {
             "colorbar": {
              "outlinewidth": 0,
              "ticks": ""
             }
            },
            "type": "scattergl"
           }
          ],
          "scattermapbox": [
           {
            "marker": {
             "colorbar": {
              "outlinewidth": 0,
              "ticks": ""
             }
            },
            "type": "scattermapbox"
           }
          ],
          "scatterpolar": [
           {
            "marker": {
             "colorbar": {
              "outlinewidth": 0,
              "ticks": ""
             }
            },
            "type": "scatterpolar"
           }
          ],
          "scatterpolargl": [
           {
            "marker": {
             "colorbar": {
              "outlinewidth": 0,
              "ticks": ""
             }
            },
            "type": "scatterpolargl"
           }
          ],
          "scatterternary": [
           {
            "marker": {
             "colorbar": {
              "outlinewidth": 0,
              "ticks": ""
             }
            },
            "type": "scatterternary"
           }
          ],
          "surface": [
           {
            "colorbar": {
             "outlinewidth": 0,
             "ticks": ""
            },
            "colorscale": [
             [
              0,
              "#0d0887"
             ],
             [
              0.1111111111111111,
              "#46039f"
             ],
             [
              0.2222222222222222,
              "#7201a8"
             ],
             [
              0.3333333333333333,
              "#9c179e"
             ],
             [
              0.4444444444444444,
              "#bd3786"
             ],
             [
              0.5555555555555556,
              "#d8576b"
             ],
             [
              0.6666666666666666,
              "#ed7953"
             ],
             [
              0.7777777777777778,
              "#fb9f3a"
             ],
             [
              0.8888888888888888,
              "#fdca26"
             ],
             [
              1,
              "#f0f921"
             ]
            ],
            "type": "surface"
           }
          ],
          "table": [
           {
            "cells": {
             "fill": {
              "color": "#EBF0F8"
             },
             "line": {
              "color": "white"
             }
            },
            "header": {
             "fill": {
              "color": "#C8D4E3"
             },
             "line": {
              "color": "white"
             }
            },
            "type": "table"
           }
          ]
         },
         "layout": {
          "annotationdefaults": {
           "arrowcolor": "#2a3f5f",
           "arrowhead": 0,
           "arrowwidth": 1
          },
          "autotypenumbers": "strict",
          "coloraxis": {
           "colorbar": {
            "outlinewidth": 0,
            "ticks": ""
           }
          },
          "colorscale": {
           "diverging": [
            [
             0,
             "#8e0152"
            ],
            [
             0.1,
             "#c51b7d"
            ],
            [
             0.2,
             "#de77ae"
            ],
            [
             0.3,
             "#f1b6da"
            ],
            [
             0.4,
             "#fde0ef"
            ],
            [
             0.5,
             "#f7f7f7"
            ],
            [
             0.6,
             "#e6f5d0"
            ],
            [
             0.7,
             "#b8e186"
            ],
            [
             0.8,
             "#7fbc41"
            ],
            [
             0.9,
             "#4d9221"
            ],
            [
             1,
             "#276419"
            ]
           ],
           "sequential": [
            [
             0,
             "#0d0887"
            ],
            [
             0.1111111111111111,
             "#46039f"
            ],
            [
             0.2222222222222222,
             "#7201a8"
            ],
            [
             0.3333333333333333,
             "#9c179e"
            ],
            [
             0.4444444444444444,
             "#bd3786"
            ],
            [
             0.5555555555555556,
             "#d8576b"
            ],
            [
             0.6666666666666666,
             "#ed7953"
            ],
            [
             0.7777777777777778,
             "#fb9f3a"
            ],
            [
             0.8888888888888888,
             "#fdca26"
            ],
            [
             1,
             "#f0f921"
            ]
           ],
           "sequentialminus": [
            [
             0,
             "#0d0887"
            ],
            [
             0.1111111111111111,
             "#46039f"
            ],
            [
             0.2222222222222222,
             "#7201a8"
            ],
            [
             0.3333333333333333,
             "#9c179e"
            ],
            [
             0.4444444444444444,
             "#bd3786"
            ],
            [
             0.5555555555555556,
             "#d8576b"
            ],
            [
             0.6666666666666666,
             "#ed7953"
            ],
            [
             0.7777777777777778,
             "#fb9f3a"
            ],
            [
             0.8888888888888888,
             "#fdca26"
            ],
            [
             1,
             "#f0f921"
            ]
           ]
          },
          "colorway": [
           "#636efa",
           "#EF553B",
           "#00cc96",
           "#ab63fa",
           "#FFA15A",
           "#19d3f3",
           "#FF6692",
           "#B6E880",
           "#FF97FF",
           "#FECB52"
          ],
          "font": {
           "color": "#2a3f5f"
          },
          "geo": {
           "bgcolor": "white",
           "lakecolor": "white",
           "landcolor": "#E5ECF6",
           "showlakes": true,
           "showland": true,
           "subunitcolor": "white"
          },
          "hoverlabel": {
           "align": "left"
          },
          "hovermode": "closest",
          "mapbox": {
           "style": "light"
          },
          "paper_bgcolor": "white",
          "plot_bgcolor": "#E5ECF6",
          "polar": {
           "angularaxis": {
            "gridcolor": "white",
            "linecolor": "white",
            "ticks": ""
           },
           "bgcolor": "#E5ECF6",
           "radialaxis": {
            "gridcolor": "white",
            "linecolor": "white",
            "ticks": ""
           }
          },
          "scene": {
           "xaxis": {
            "backgroundcolor": "#E5ECF6",
            "gridcolor": "white",
            "gridwidth": 2,
            "linecolor": "white",
            "showbackground": true,
            "ticks": "",
            "zerolinecolor": "white"
           },
           "yaxis": {
            "backgroundcolor": "#E5ECF6",
            "gridcolor": "white",
            "gridwidth": 2,
            "linecolor": "white",
            "showbackground": true,
            "ticks": "",
            "zerolinecolor": "white"
           },
           "zaxis": {
            "backgroundcolor": "#E5ECF6",
            "gridcolor": "white",
            "gridwidth": 2,
            "linecolor": "white",
            "showbackground": true,
            "ticks": "",
            "zerolinecolor": "white"
           }
          },
          "shapedefaults": {
           "line": {
            "color": "#2a3f5f"
           }
          },
          "ternary": {
           "aaxis": {
            "gridcolor": "white",
            "linecolor": "white",
            "ticks": ""
           },
           "baxis": {
            "gridcolor": "white",
            "linecolor": "white",
            "ticks": ""
           },
           "bgcolor": "#E5ECF6",
           "caxis": {
            "gridcolor": "white",
            "linecolor": "white",
            "ticks": ""
           }
          },
          "title": {
           "x": 0.05
          },
          "xaxis": {
           "automargin": true,
           "gridcolor": "white",
           "linecolor": "white",
           "ticks": "",
           "title": {
            "standoff": 15
           },
           "zerolinecolor": "white",
           "zerolinewidth": 2
          },
          "yaxis": {
           "automargin": true,
           "gridcolor": "white",
           "linecolor": "white",
           "ticks": "",
           "title": {
            "standoff": 15
           },
           "zerolinecolor": "white",
           "zerolinewidth": 2
          }
         }
        },
        "title": {
         "text": "Pie Chart: Proportion of Different Genres in Top Albums (1990-2000)"
        }
       }
      }
     },
     "metadata": {},
     "output_type": "display_data"
    }
   ],
   "source": [
    "#pie chart showing proportion of different genres in top albums from 1990-2000\n",
    "df=pd.read_csv(\"./dataset/Top 10 Albums By Year Album Length.csv\")\n",
    "df=df[df['Year']<2001]\n",
    "df= df[df['Artist'] != 'Movie Soundtrack']\n",
    "genre_counts = df['Genre'].value_counts().reset_index()\n",
    "genre_counts.columns = ['Genre', 'Count']\n",
    "fig_13 = px.pie(genre_counts, values='Count', names='Genre', title='Pie Chart: Proportion of Different Genres in Top Albums (1990-2000)')\n",
    "fig_13.show()"
   ]
  },
  {
   "cell_type": "code",
   "execution_count": 23,
   "id": "c0352e7f",
   "metadata": {},
   "outputs": [
    {
     "data": {
      "application/vnd.plotly.v1+json": {
       "config": {
        "plotlyServerURL": "https://plot.ly"
       },
       "data": [
        {
         "branchvalues": "total",
         "customdata": [
          [
           1992,
           "Pop"
          ],
          [
           1993,
           "Pop"
          ],
          [
           1999,
           "Pop"
          ],
          [
           1994,
           "Pop"
          ],
          [
           1990,
           "Pop"
          ],
          [
           1994,
           "Rock"
          ],
          [
           1997,
           "Pop"
          ],
          [
           1993,
           "Pop"
          ],
          [
           1992,
           "Country"
          ],
          [
           1992,
           "Pop"
          ],
          [
           1991,
           "Country"
          ],
          [
           1998,
           "Pop"
          ],
          [
           2000,
           "Pop"
          ],
          [
           1990,
           "Country"
          ],
          [
           1991,
           "Rock"
          ],
          [
           1998,
           "Pop"
          ],
          [
           1993,
           "Country"
          ],
          [
           1990,
           "Pop"
          ],
          [
           1995,
           "Pop"
          ],
          [
           1996,
           "Pop"
          ],
          [
           1998,
           "Country"
          ],
          [
           1995,
           "Pop"
          ],
          [
           1991,
           "Pop"
          ],
          [
           1997,
           "Country"
          ],
          [
           2000,
           "Pop"
          ],
          [
           1997,
           "Pop"
          ],
          [
           1996,
           "Pop"
          ],
          [
           1999,
           "Pop"
          ],
          [
           1999,
           "Pop"
          ],
          [
           1990,
           "Pop"
          ],
          [
           1995,
           "Country"
          ],
          [
           "(?)",
           "Pop"
          ],
          [
           "(?)",
           "Pop"
          ],
          [
           "(?)",
           "Pop"
          ],
          [
           "(?)",
           "Country"
          ],
          [
           "(?)",
           "Pop"
          ],
          [
           "(?)",
           "Pop"
          ],
          [
           "(?)",
           "Pop"
          ],
          [
           "(?)",
           "Rock"
          ],
          [
           "(?)",
           "Country"
          ],
          [
           "(?)",
           "Pop"
          ],
          [
           "(?)",
           "(?)"
          ]
         ],
         "domain": {
          "x": [
           0,
           1
          ],
          "y": [
           0,
           1
          ]
         },
         "hovertemplate": "labels=%{label}<br>Worldwide Sales (Est.)=%{value}<br>parent=%{parent}<br>id=%{id}<br>Year=%{customdata[0]}<br>Genre=%{customdata[1]}<extra></extra>",
         "ids": [
          "Top Artists/Mariah Carey/MTV Unplugged",
          "Top Artists/Mariah Carey/Music Box",
          "Top Artists/Backstreet Boys/Milennium",
          "Top Artists/Mariah Carey/Merry Christmas",
          "Top Artists/Mariah Carey/Mariah Carey",
          "Top Artists/Nirvana/MTV Unplugged In New York",
          "Top Artists/Celine Dion/Let's Talk About Love",
          "Top Artists/Celine Dion/The Colour Of My Love",
          "Top Artists/Garth Brooks/The Chase",
          "Top Artists/Whitney Houston/The Bodyguard Soundtrack",
          "Top Artists/Garth Brooks/Ropin The Wind",
          "Top Artists/Madonna/Ray of Light",
          "Top Artists/Britney Spears/Oops! ... I Did It Again",
          "Top Artists/Garth Brooks/No Fences",
          "Top Artists/Nirvana/Nevermind",
          "Top Artists/Mariah Carey/#1's",
          "Top Artists/Garth Brooks/In Pieces",
          "Top Artists/Whitney Houston/I'm Your Baby Tonight",
          "Top Artists/Michael Jackson/History: Past, Present & Future Book I",
          "Top Artists/Celine Dion/Falling Into You",
          "Top Artists/Garth Brooks/Double Live",
          "Top Artists/Mariah Carey/Daydream",
          "Top Artists/Michael Jackson/Dangerous",
          "Top Artists/Shania Twain/Come On Over",
          "Top Artists/Backstreet Boys/Black & Blue",
          "Top Artists/Backstreet Boys/Backstreet's Back",
          "Top Artists/Backstreet Boys/Backstreet Boys",
          "Top Artists/Celine Dion/All The Way... A Decade Of Song",
          "Top Artists/Britney Spears/...Baby One More Time",
          "Top Artists/Madonna/The Immaculate Collection",
          "Top Artists/Shania Twain/The Woman In Me",
          "Top Artists/Backstreet Boys",
          "Top Artists/Britney Spears",
          "Top Artists/Celine Dion",
          "Top Artists/Garth Brooks",
          "Top Artists/Madonna",
          "Top Artists/Mariah Carey",
          "Top Artists/Michael Jackson",
          "Top Artists/Nirvana",
          "Top Artists/Shania Twain",
          "Top Artists/Whitney Houston",
          "Top Artists"
         ],
         "labels": [
          "MTV Unplugged",
          "Music Box",
          "Milennium",
          "Merry Christmas",
          "Mariah Carey",
          "MTV Unplugged In New York",
          "Let's Talk About Love",
          "The Colour Of My Love",
          "The Chase",
          "The Bodyguard Soundtrack",
          "Ropin The Wind",
          "Ray of Light",
          "Oops! ... I Did It Again",
          "No Fences",
          "Nevermind",
          "#1's",
          "In Pieces",
          "I'm Your Baby Tonight",
          "History: Past, Present & Future Book I",
          "Falling Into You",
          "Double Live",
          "Daydream",
          "Dangerous",
          "Come On Over",
          "Black & Blue",
          "Backstreet's Back",
          "Backstreet Boys",
          "All The Way... A Decade Of Song",
          "...Baby One More Time",
          "The Immaculate Collection",
          "The Woman In Me",
          "Backstreet Boys",
          "Britney Spears",
          "Celine Dion",
          "Garth Brooks",
          "Madonna",
          "Mariah Carey",
          "Michael Jackson",
          "Nirvana",
          "Shania Twain",
          "Whitney Houston",
          "Top Artists"
         ],
         "marker": {
          "colors": [
           "#636efa",
           "#636efa",
           "#636efa",
           "#636efa",
           "#636efa",
           "#EF553B",
           "#636efa",
           "#636efa",
           "#00cc96",
           "#636efa",
           "#00cc96",
           "#636efa",
           "#636efa",
           "#00cc96",
           "#EF553B",
           "#636efa",
           "#00cc96",
           "#636efa",
           "#636efa",
           "#636efa",
           "#00cc96",
           "#636efa",
           "#636efa",
           "#00cc96",
           "#636efa",
           "#636efa",
           "#636efa",
           "#636efa",
           "#636efa",
           "#636efa",
           "#00cc96",
           "#636efa",
           "#636efa",
           "#636efa",
           "#00cc96",
           "#636efa",
           "#636efa",
           "#636efa",
           "#EF553B",
           "#00cc96",
           "#636efa",
           "#ab63fa"
          ]
         },
         "name": "",
         "parents": [
          "Top Artists/Mariah Carey",
          "Top Artists/Mariah Carey",
          "Top Artists/Backstreet Boys",
          "Top Artists/Mariah Carey",
          "Top Artists/Mariah Carey",
          "Top Artists/Nirvana",
          "Top Artists/Celine Dion",
          "Top Artists/Celine Dion",
          "Top Artists/Garth Brooks",
          "Top Artists/Whitney Houston",
          "Top Artists/Garth Brooks",
          "Top Artists/Madonna",
          "Top Artists/Britney Spears",
          "Top Artists/Garth Brooks",
          "Top Artists/Nirvana",
          "Top Artists/Mariah Carey",
          "Top Artists/Garth Brooks",
          "Top Artists/Whitney Houston",
          "Top Artists/Michael Jackson",
          "Top Artists/Celine Dion",
          "Top Artists/Garth Brooks",
          "Top Artists/Mariah Carey",
          "Top Artists/Michael Jackson",
          "Top Artists/Shania Twain",
          "Top Artists/Backstreet Boys",
          "Top Artists/Backstreet Boys",
          "Top Artists/Backstreet Boys",
          "Top Artists/Celine Dion",
          "Top Artists/Britney Spears",
          "Top Artists/Madonna",
          "Top Artists/Shania Twain",
          "Top Artists",
          "Top Artists",
          "Top Artists",
          "Top Artists",
          "Top Artists",
          "Top Artists",
          "Top Artists",
          "Top Artists",
          "Top Artists",
          "Top Artists",
          ""
         ],
         "type": "treemap",
         "values": [
          7000000,
          30000000,
          40000000,
          15000000,
          15000000,
          12529430,
          30000000,
          12571000,
          10535000,
          45000000,
          14570000,
          14000000,
          20000000,
          18770000,
          30000000,
          10738067,
          10847500,
          10000000,
          20000000,
          32000000,
          10920000,
          25000000,
          27000000,
          40000000,
          24000000,
          13000000,
          14000000,
          18513351,
          27000000,
          30000000,
          20000000,
          91000000,
          47000000,
          93084351,
          65642500,
          44000000,
          102738067,
          47000000,
          42529430,
          60000000,
          55000000,
          647994348
         ]
        }
       ],
       "layout": {
        "legend": {
         "tracegroupgap": 0
        },
        "margin": {
         "b": 25,
         "l": 25,
         "r": 25,
         "t": 50
        },
        "template": {
         "data": {
          "bar": [
           {
            "error_x": {
             "color": "#2a3f5f"
            },
            "error_y": {
             "color": "#2a3f5f"
            },
            "marker": {
             "line": {
              "color": "#E5ECF6",
              "width": 0.5
             },
             "pattern": {
              "fillmode": "overlay",
              "size": 10,
              "solidity": 0.2
             }
            },
            "type": "bar"
           }
          ],
          "barpolar": [
           {
            "marker": {
             "line": {
              "color": "#E5ECF6",
              "width": 0.5
             },
             "pattern": {
              "fillmode": "overlay",
              "size": 10,
              "solidity": 0.2
             }
            },
            "type": "barpolar"
           }
          ],
          "carpet": [
           {
            "aaxis": {
             "endlinecolor": "#2a3f5f",
             "gridcolor": "white",
             "linecolor": "white",
             "minorgridcolor": "white",
             "startlinecolor": "#2a3f5f"
            },
            "baxis": {
             "endlinecolor": "#2a3f5f",
             "gridcolor": "white",
             "linecolor": "white",
             "minorgridcolor": "white",
             "startlinecolor": "#2a3f5f"
            },
            "type": "carpet"
           }
          ],
          "choropleth": [
           {
            "colorbar": {
             "outlinewidth": 0,
             "ticks": ""
            },
            "type": "choropleth"
           }
          ],
          "contour": [
           {
            "colorbar": {
             "outlinewidth": 0,
             "ticks": ""
            },
            "colorscale": [
             [
              0,
              "#0d0887"
             ],
             [
              0.1111111111111111,
              "#46039f"
             ],
             [
              0.2222222222222222,
              "#7201a8"
             ],
             [
              0.3333333333333333,
              "#9c179e"
             ],
             [
              0.4444444444444444,
              "#bd3786"
             ],
             [
              0.5555555555555556,
              "#d8576b"
             ],
             [
              0.6666666666666666,
              "#ed7953"
             ],
             [
              0.7777777777777778,
              "#fb9f3a"
             ],
             [
              0.8888888888888888,
              "#fdca26"
             ],
             [
              1,
              "#f0f921"
             ]
            ],
            "type": "contour"
           }
          ],
          "contourcarpet": [
           {
            "colorbar": {
             "outlinewidth": 0,
             "ticks": ""
            },
            "type": "contourcarpet"
           }
          ],
          "heatmap": [
           {
            "colorbar": {
             "outlinewidth": 0,
             "ticks": ""
            },
            "colorscale": [
             [
              0,
              "#0d0887"
             ],
             [
              0.1111111111111111,
              "#46039f"
             ],
             [
              0.2222222222222222,
              "#7201a8"
             ],
             [
              0.3333333333333333,
              "#9c179e"
             ],
             [
              0.4444444444444444,
              "#bd3786"
             ],
             [
              0.5555555555555556,
              "#d8576b"
             ],
             [
              0.6666666666666666,
              "#ed7953"
             ],
             [
              0.7777777777777778,
              "#fb9f3a"
             ],
             [
              0.8888888888888888,
              "#fdca26"
             ],
             [
              1,
              "#f0f921"
             ]
            ],
            "type": "heatmap"
           }
          ],
          "heatmapgl": [
           {
            "colorbar": {
             "outlinewidth": 0,
             "ticks": ""
            },
            "colorscale": [
             [
              0,
              "#0d0887"
             ],
             [
              0.1111111111111111,
              "#46039f"
             ],
             [
              0.2222222222222222,
              "#7201a8"
             ],
             [
              0.3333333333333333,
              "#9c179e"
             ],
             [
              0.4444444444444444,
              "#bd3786"
             ],
             [
              0.5555555555555556,
              "#d8576b"
             ],
             [
              0.6666666666666666,
              "#ed7953"
             ],
             [
              0.7777777777777778,
              "#fb9f3a"
             ],
             [
              0.8888888888888888,
              "#fdca26"
             ],
             [
              1,
              "#f0f921"
             ]
            ],
            "type": "heatmapgl"
           }
          ],
          "histogram": [
           {
            "marker": {
             "pattern": {
              "fillmode": "overlay",
              "size": 10,
              "solidity": 0.2
             }
            },
            "type": "histogram"
           }
          ],
          "histogram2d": [
           {
            "colorbar": {
             "outlinewidth": 0,
             "ticks": ""
            },
            "colorscale": [
             [
              0,
              "#0d0887"
             ],
             [
              0.1111111111111111,
              "#46039f"
             ],
             [
              0.2222222222222222,
              "#7201a8"
             ],
             [
              0.3333333333333333,
              "#9c179e"
             ],
             [
              0.4444444444444444,
              "#bd3786"
             ],
             [
              0.5555555555555556,
              "#d8576b"
             ],
             [
              0.6666666666666666,
              "#ed7953"
             ],
             [
              0.7777777777777778,
              "#fb9f3a"
             ],
             [
              0.8888888888888888,
              "#fdca26"
             ],
             [
              1,
              "#f0f921"
             ]
            ],
            "type": "histogram2d"
           }
          ],
          "histogram2dcontour": [
           {
            "colorbar": {
             "outlinewidth": 0,
             "ticks": ""
            },
            "colorscale": [
             [
              0,
              "#0d0887"
             ],
             [
              0.1111111111111111,
              "#46039f"
             ],
             [
              0.2222222222222222,
              "#7201a8"
             ],
             [
              0.3333333333333333,
              "#9c179e"
             ],
             [
              0.4444444444444444,
              "#bd3786"
             ],
             [
              0.5555555555555556,
              "#d8576b"
             ],
             [
              0.6666666666666666,
              "#ed7953"
             ],
             [
              0.7777777777777778,
              "#fb9f3a"
             ],
             [
              0.8888888888888888,
              "#fdca26"
             ],
             [
              1,
              "#f0f921"
             ]
            ],
            "type": "histogram2dcontour"
           }
          ],
          "mesh3d": [
           {
            "colorbar": {
             "outlinewidth": 0,
             "ticks": ""
            },
            "type": "mesh3d"
           }
          ],
          "parcoords": [
           {
            "line": {
             "colorbar": {
              "outlinewidth": 0,
              "ticks": ""
             }
            },
            "type": "parcoords"
           }
          ],
          "pie": [
           {
            "automargin": true,
            "type": "pie"
           }
          ],
          "scatter": [
           {
            "fillpattern": {
             "fillmode": "overlay",
             "size": 10,
             "solidity": 0.2
            },
            "type": "scatter"
           }
          ],
          "scatter3d": [
           {
            "line": {
             "colorbar": {
              "outlinewidth": 0,
              "ticks": ""
             }
            },
            "marker": {
             "colorbar": {
              "outlinewidth": 0,
              "ticks": ""
             }
            },
            "type": "scatter3d"
           }
          ],
          "scattercarpet": [
           {
            "marker": {
             "colorbar": {
              "outlinewidth": 0,
              "ticks": ""
             }
            },
            "type": "scattercarpet"
           }
          ],
          "scattergeo": [
           {
            "marker": {
             "colorbar": {
              "outlinewidth": 0,
              "ticks": ""
             }
            },
            "type": "scattergeo"
           }
          ],
          "scattergl": [
           {
            "marker": {
             "colorbar": {
              "outlinewidth": 0,
              "ticks": ""
             }
            },
            "type": "scattergl"
           }
          ],
          "scattermapbox": [
           {
            "marker": {
             "colorbar": {
              "outlinewidth": 0,
              "ticks": ""
             }
            },
            "type": "scattermapbox"
           }
          ],
          "scatterpolar": [
           {
            "marker": {
             "colorbar": {
              "outlinewidth": 0,
              "ticks": ""
             }
            },
            "type": "scatterpolar"
           }
          ],
          "scatterpolargl": [
           {
            "marker": {
             "colorbar": {
              "outlinewidth": 0,
              "ticks": ""
             }
            },
            "type": "scatterpolargl"
           }
          ],
          "scatterternary": [
           {
            "marker": {
             "colorbar": {
              "outlinewidth": 0,
              "ticks": ""
             }
            },
            "type": "scatterternary"
           }
          ],
          "surface": [
           {
            "colorbar": {
             "outlinewidth": 0,
             "ticks": ""
            },
            "colorscale": [
             [
              0,
              "#0d0887"
             ],
             [
              0.1111111111111111,
              "#46039f"
             ],
             [
              0.2222222222222222,
              "#7201a8"
             ],
             [
              0.3333333333333333,
              "#9c179e"
             ],
             [
              0.4444444444444444,
              "#bd3786"
             ],
             [
              0.5555555555555556,
              "#d8576b"
             ],
             [
              0.6666666666666666,
              "#ed7953"
             ],
             [
              0.7777777777777778,
              "#fb9f3a"
             ],
             [
              0.8888888888888888,
              "#fdca26"
             ],
             [
              1,
              "#f0f921"
             ]
            ],
            "type": "surface"
           }
          ],
          "table": [
           {
            "cells": {
             "fill": {
              "color": "#EBF0F8"
             },
             "line": {
              "color": "white"
             }
            },
            "header": {
             "fill": {
              "color": "#C8D4E3"
             },
             "line": {
              "color": "white"
             }
            },
            "type": "table"
           }
          ]
         },
         "layout": {
          "annotationdefaults": {
           "arrowcolor": "#2a3f5f",
           "arrowhead": 0,
           "arrowwidth": 1
          },
          "autotypenumbers": "strict",
          "coloraxis": {
           "colorbar": {
            "outlinewidth": 0,
            "ticks": ""
           }
          },
          "colorscale": {
           "diverging": [
            [
             0,
             "#8e0152"
            ],
            [
             0.1,
             "#c51b7d"
            ],
            [
             0.2,
             "#de77ae"
            ],
            [
             0.3,
             "#f1b6da"
            ],
            [
             0.4,
             "#fde0ef"
            ],
            [
             0.5,
             "#f7f7f7"
            ],
            [
             0.6,
             "#e6f5d0"
            ],
            [
             0.7,
             "#b8e186"
            ],
            [
             0.8,
             "#7fbc41"
            ],
            [
             0.9,
             "#4d9221"
            ],
            [
             1,
             "#276419"
            ]
           ],
           "sequential": [
            [
             0,
             "#0d0887"
            ],
            [
             0.1111111111111111,
             "#46039f"
            ],
            [
             0.2222222222222222,
             "#7201a8"
            ],
            [
             0.3333333333333333,
             "#9c179e"
            ],
            [
             0.4444444444444444,
             "#bd3786"
            ],
            [
             0.5555555555555556,
             "#d8576b"
            ],
            [
             0.6666666666666666,
             "#ed7953"
            ],
            [
             0.7777777777777778,
             "#fb9f3a"
            ],
            [
             0.8888888888888888,
             "#fdca26"
            ],
            [
             1,
             "#f0f921"
            ]
           ],
           "sequentialminus": [
            [
             0,
             "#0d0887"
            ],
            [
             0.1111111111111111,
             "#46039f"
            ],
            [
             0.2222222222222222,
             "#7201a8"
            ],
            [
             0.3333333333333333,
             "#9c179e"
            ],
            [
             0.4444444444444444,
             "#bd3786"
            ],
            [
             0.5555555555555556,
             "#d8576b"
            ],
            [
             0.6666666666666666,
             "#ed7953"
            ],
            [
             0.7777777777777778,
             "#fb9f3a"
            ],
            [
             0.8888888888888888,
             "#fdca26"
            ],
            [
             1,
             "#f0f921"
            ]
           ]
          },
          "colorway": [
           "#636efa",
           "#EF553B",
           "#00cc96",
           "#ab63fa",
           "#FFA15A",
           "#19d3f3",
           "#FF6692",
           "#B6E880",
           "#FF97FF",
           "#FECB52"
          ],
          "font": {
           "color": "#2a3f5f"
          },
          "geo": {
           "bgcolor": "white",
           "lakecolor": "white",
           "landcolor": "#E5ECF6",
           "showlakes": true,
           "showland": true,
           "subunitcolor": "white"
          },
          "hoverlabel": {
           "align": "left"
          },
          "hovermode": "closest",
          "mapbox": {
           "style": "light"
          },
          "paper_bgcolor": "white",
          "plot_bgcolor": "#E5ECF6",
          "polar": {
           "angularaxis": {
            "gridcolor": "white",
            "linecolor": "white",
            "ticks": ""
           },
           "bgcolor": "#E5ECF6",
           "radialaxis": {
            "gridcolor": "white",
            "linecolor": "white",
            "ticks": ""
           }
          },
          "scene": {
           "xaxis": {
            "backgroundcolor": "#E5ECF6",
            "gridcolor": "white",
            "gridwidth": 2,
            "linecolor": "white",
            "showbackground": true,
            "ticks": "",
            "zerolinecolor": "white"
           },
           "yaxis": {
            "backgroundcolor": "#E5ECF6",
            "gridcolor": "white",
            "gridwidth": 2,
            "linecolor": "white",
            "showbackground": true,
            "ticks": "",
            "zerolinecolor": "white"
           },
           "zaxis": {
            "backgroundcolor": "#E5ECF6",
            "gridcolor": "white",
            "gridwidth": 2,
            "linecolor": "white",
            "showbackground": true,
            "ticks": "",
            "zerolinecolor": "white"
           }
          },
          "shapedefaults": {
           "line": {
            "color": "#2a3f5f"
           }
          },
          "ternary": {
           "aaxis": {
            "gridcolor": "white",
            "linecolor": "white",
            "ticks": ""
           },
           "baxis": {
            "gridcolor": "white",
            "linecolor": "white",
            "ticks": ""
           },
           "bgcolor": "#E5ECF6",
           "caxis": {
            "gridcolor": "white",
            "linecolor": "white",
            "ticks": ""
           }
          },
          "title": {
           "x": 0.05
          },
          "xaxis": {
           "automargin": true,
           "gridcolor": "white",
           "linecolor": "white",
           "ticks": "",
           "title": {
            "standoff": 15
           },
           "zerolinecolor": "white",
           "zerolinewidth": 2
          },
          "yaxis": {
           "automargin": true,
           "gridcolor": "white",
           "linecolor": "white",
           "ticks": "",
           "title": {
            "standoff": 15
           },
           "zerolinecolor": "white",
           "zerolinewidth": 2
          }
         }
        },
        "title": {
         "text": "Tree Map: Top Selling Artists Best Selling Albums (1990-2000)"
        }
       }
      }
     },
     "metadata": {},
     "output_type": "display_data"
    }
   ],
   "source": [
    "#Tree Map: Top Selling Artists Best Selling Albums (1990-2000)'\n",
    "df=pd.read_csv(\"./dataset/Top 10 Albums By Year Album Length.csv\")\n",
    "df=df[df['Year']<2001]\n",
    "df= df[df['Artist'] != 'Movie Soundtrack']\n",
    "df['Worldwide Sales (Est.)'] = df['Worldwide Sales (Est.)'].str.replace(',', '').astype(int)\n",
    "artist_sales = df.groupby('Artist')['Worldwide Sales (Est.)'].sum().reset_index()\n",
    "artist_sales.rename(columns={'Worldwide Sales (Est.)': 'Total Sales'}, inplace=True)\n",
    "artist_total_sales_sorted = artist_sales.sort_values(by='Total Sales', ascending=False)\n",
    "\n",
    "# Select top 10 artists with highest total sales\n",
    "top_10_artists = artist_total_sales_sorted.head(10)\n",
    "\n",
    "# Initialize an empty DataFrame to store the album details for the top 10 artists\n",
    "top_artists_albums = pd.DataFrame(columns=['Artist', 'Album', 'Worldwide Sales (Est.)'])\n",
    "top_10_albums_dfs = []\n",
    "# Extract albums for each of the top 10 artists\n",
    "for artist in top_10_artists['Artist']:\n",
    "    albums = df[df['Artist'] == artist][['Artist', 'Album', 'Worldwide Sales (Est.)', 'Genre', 'Year']]\n",
    "    top_10_albums_dfs.append(albums)\n",
    "    \n",
    "top_artists_albums = pd.concat(top_10_albums_dfs, ignore_index=True)\n",
    "fig_14 = px.treemap(top_artists_albums, path=[px.Constant(\"Top Artists\"), 'Artist', 'Album'], values='Worldwide Sales (Est.)',\n",
    "                  color='Genre', hover_data=['Year'])\n",
    "fig_14.update_layout(margin = dict(t=50, l=25, r=25, b=25), title='Tree Map: Top Selling Artists Best Selling Albums (1990-2000)')\n",
    "fig_14.show()"
   ]
  },
  {
   "cell_type": "code",
   "execution_count": 24,
   "id": "24348b82",
   "metadata": {},
   "outputs": [
    {
     "data": {
      "application/vnd.plotly.v1+json": {
       "config": {
        "plotlyServerURL": "https://plot.ly"
       },
       "data": [
        {
         "hovertemplate": "Year=%{x}<br>Hours=%{y}<extra></extra>",
         "legendgroup": "",
         "line": {
          "color": "pink",
          "dash": "solid"
         },
         "marker": {
          "symbol": "circle"
         },
         "mode": "lines+markers",
         "name": "",
         "orientation": "v",
         "showlegend": false,
         "type": "scatter",
         "x": [
          1990,
          1991,
          1992,
          1993,
          1994,
          1995,
          1996,
          1997,
          1998,
          1999,
          2000
         ],
         "xaxis": "x",
         "y": [
          0.9277777777777777,
          1.046,
          0.906,
          0.9810000000000001,
          0.8955555555555557,
          1.141111111111111,
          0.9844444444444443,
          0.91625,
          1.074,
          0.905,
          0.8720000000000001
         ],
         "yaxis": "y"
        }
       ],
       "layout": {
        "legend": {
         "tracegroupgap": 0
        },
        "template": {
         "data": {
          "pie": [
           {
            "automargin": true,
            "type": "pie"
           }
          ],
          "scatter": [
           {
            "line": {
             "width": 3
            },
            "marker": {
             "size": 9
            },
            "type": "scatter"
           }
          ],
          "scatter3d": [
           {
            "line": {
             "width": 3
            },
            "marker": {
             "size": 9
            },
            "type": "scatter3d"
           }
          ],
          "scattergeo": [
           {
            "line": {
             "width": 3
            },
            "marker": {
             "size": 9
            },
            "type": "scattergeo"
           }
          ],
          "scattergl": [
           {
            "line": {
             "width": 3
            },
            "marker": {
             "size": 9
            },
            "type": "scattergl"
           }
          ],
          "scatterpolar": [
           {
            "line": {
             "width": 3
            },
            "marker": {
             "size": 9
            },
            "type": "scatterpolar"
           }
          ],
          "scatterpolargl": [
           {
            "line": {
             "width": 3
            },
            "marker": {
             "size": 9
            },
            "type": "scatterpolargl"
           }
          ],
          "scatterternary": [
           {
            "line": {
             "width": 3
            },
            "marker": {
             "size": 9
            },
            "type": "scatterternary"
           }
          ],
          "table": [
           {
            "cells": {
             "height": 30
            },
            "header": {
             "height": 36
            },
            "type": "table"
           }
          ]
         },
         "layout": {
          "font": {
           "size": 18
          },
          "xaxis": {
           "title": {
            "standoff": 15
           }
          },
          "yaxis": {
           "title": {
            "standoff": 15
           }
          }
         }
        },
        "title": {
         "font": {
          "size": 17
         },
         "text": "Line Chart: Average Album Duration of Top Albums Yearwise(1990-2000)"
        },
        "xaxis": {
         "anchor": "y",
         "domain": [
          0,
          1
         ],
         "title": {
          "font": {
           "size": 17
          },
          "text": "Year"
         }
        },
        "yaxis": {
         "anchor": "x",
         "domain": [
          0,
          1
         ],
         "title": {
          "font": {
           "size": 14
          },
          "text": "Average Album Duration (Hour(s))"
         }
        }
       }
      }
     },
     "metadata": {},
     "output_type": "display_data"
    }
   ],
   "source": [
    "#how average album length changed over time for albums\n",
    "average_album_length_per_year = df.groupby('Year')['Hours'].mean().reset_index()\n",
    "fig_15 = px.line(average_album_length_per_year, x='Year', y='Hours', markers=True, template='presentation', title='Line Chart: Average Album Duration of Top Albums Yearwise(1990-2000)')\n",
    "fig_15.update_xaxes(title_text='Year', title_font=dict(size=17))\n",
    "fig_15.update_yaxes(title_text='Average Album Duration (Hour(s))', title_font=dict(size=14))\n",
    "fig_15.update_traces(line=dict(color='pink'))  # Change line color here\n",
    "fig_15.update_layout(title_font=dict(size=17))  # Decrease font size for plot title\n",
    "fig_15.show()"
   ]
  },
  {
   "cell_type": "code",
   "execution_count": 25,
   "id": "61e08901",
   "metadata": {},
   "outputs": [
    {
     "data": {
      "application/vnd.plotly.v1+json": {
       "config": {
        "plotlyServerURL": "https://plot.ly"
       },
       "data": [
        {
         "customdata": [
          [
           "Garth Brooks"
          ],
          [
           "Enigma"
          ],
          [
           "Mariah Carey"
          ],
          [
           "New Kids On The Block"
          ],
          [
           "Whitney Houston"
          ],
          [
           "MC Hammer"
          ],
          [
           "The Three Tenors"
          ],
          [
           "Madonna"
          ],
          [
           "Phil Collins"
          ]
         ],
         "hovertemplate": "Year=1990<br>Hours=%{x}<br>Worldwide Sales (Est.)=%{y}<br>Artist=%{customdata[0]}<extra></extra>",
         "legendgroup": "1990",
         "line": {
          "color": "#1F77B4",
          "dash": "solid"
         },
         "marker": {
          "symbol": "circle"
         },
         "mode": "lines+markers",
         "name": "1990",
         "orientation": "v",
         "showlegend": true,
         "type": "scatter",
         "x": [
          0.58,
          0.67,
          0.78,
          0.8,
          0.9,
          0.98,
          1.13,
          1.23,
          1.28
         ],
         "xaxis": "x",
         "y": [
          18770000,
          8838000,
          15000000,
          20000000,
          10000000,
          18000000,
          8533000,
          30000000,
          9956520
         ],
         "yaxis": "y"
        }
       ],
       "frames": [
        {
         "data": [
          {
           "customdata": [
            [
             "Garth Brooks"
            ],
            [
             "Enigma"
            ],
            [
             "Mariah Carey"
            ],
            [
             "New Kids On The Block"
            ],
            [
             "Whitney Houston"
            ],
            [
             "MC Hammer"
            ],
            [
             "The Three Tenors"
            ],
            [
             "Madonna"
            ],
            [
             "Phil Collins"
            ]
           ],
           "hovertemplate": "Year=1990<br>Hours=%{x}<br>Worldwide Sales (Est.)=%{y}<br>Artist=%{customdata[0]}<extra></extra>",
           "legendgroup": "1990",
           "line": {
            "color": "#1F77B4",
            "dash": "solid"
           },
           "marker": {
            "symbol": "circle"
           },
           "mode": "lines+markers",
           "name": "1990",
           "orientation": "v",
           "showlegend": true,
           "type": "scatter",
           "x": [
            0.58,
            0.67,
            0.78,
            0.8,
            0.9,
            0.98,
            1.13,
            1.23,
            1.28
           ],
           "xaxis": "x",
           "y": [
            18770000,
            8838000,
            15000000,
            20000000,
            10000000,
            18000000,
            8533000,
            30000000,
            9956520
           ],
           "yaxis": "y"
          }
         ],
         "name": "1990"
        },
        {
         "data": [
          {
           "customdata": [
            [
             "Garth Brooks"
            ],
            [
             "Nirvana"
            ],
            [
             "Pearl Jam"
            ],
            [
             "U2"
            ],
            [
             "Metallica"
            ],
            [
             "Genesis"
            ],
            [
             "Guns N Roses"
            ],
            [
             "Guns N Roses"
            ],
            [
             "Michael Jackson"
            ],
            [
             "Queen"
            ]
           ],
           "hovertemplate": "Year=1991<br>Hours=%{x}<br>Worldwide Sales (Est.)=%{y}<br>Artist=%{customdata[0]}<extra></extra>",
           "legendgroup": "1991",
           "line": {
            "color": "#FF7F0E",
            "dash": "solid"
           },
           "marker": {
            "symbol": "circle"
           },
           "mode": "lines+markers",
           "name": "1991",
           "orientation": "v",
           "showlegend": true,
           "type": "scatter",
           "x": [
            0.61,
            0.71,
            0.89,
            0.92,
            1.04,
            1.19,
            1.27,
            1.27,
            1.28,
            1.28
           ],
           "xaxis": "x",
           "y": [
            14570000,
            30000000,
            15710000,
            18000000,
            33000000,
            15000000,
            15000000,
            15000000,
            27000000,
            19000000
           ],
           "yaxis": "y"
          }
         ],
         "name": "1991"
        },
        {
         "data": [
          {
           "customdata": [
            [
             "Mariah Carey"
            ],
            [
             "Billy Ray Cyrus"
            ],
            [
             "Garth Brooks"
            ],
            [
             "R.E.M."
            ],
            [
             "Stone Temple Pilots"
            ],
            [
             "Whitney Houston"
            ],
            [
             "Eric Clapton"
            ],
            [
             "Kenny G"
            ],
            [
             "ZZ Top"
            ],
            [
             "ABBA"
            ]
           ],
           "hovertemplate": "Year=1992<br>Hours=%{x}<br>Worldwide Sales (Est.)=%{y}<br>Artist=%{customdata[0]}<extra></extra>",
           "legendgroup": "1992",
           "line": {
            "color": "#2CA02C",
            "dash": "solid"
           },
           "marker": {
            "symbol": "circle"
           },
           "mode": "lines+markers",
           "name": "1992",
           "orientation": "v",
           "showlegend": true,
           "type": "scatter",
           "x": [
            0.48,
            0.6,
            0.62,
            0.81,
            0.89,
            0.96,
            1.03,
            1.17,
            1.21,
            1.29
           ],
           "xaxis": "x",
           "y": [
            7000000,
            10439676,
            10535000,
            18000000,
            8337500,
            45000000,
            26000000,
            13204140,
            6337818,
            32000000
           ],
           "yaxis": "y"
          }
         ],
         "name": "1992"
        },
        {
         "data": [
          {
           "customdata": [
            [
             "Garth Brooks"
            ],
            [
             "Mariah Carey"
            ],
            [
             "Ace Of Base"
            ],
            [
             "Toni Braxton"
            ],
            [
             "Bryan Adams"
            ],
            [
             "Aerosmith"
            ],
            [
             "Celine Dion"
            ],
            [
             "Metropole Orkest & Tom Petty"
            ],
            [
             "Meat Loaf"
            ],
            [
             "Janet Jackson"
            ]
           ],
           "hovertemplate": "Year=1993<br>Hours=%{x}<br>Worldwide Sales (Est.)=%{y}<br>Artist=%{customdata[0]}<extra></extra>",
           "legendgroup": "1993",
           "line": {
            "color": "#D62728",
            "dash": "solid"
           },
           "marker": {
            "symbol": "circle"
           },
           "mode": "lines+markers",
           "name": "1993",
           "orientation": "v",
           "showlegend": true,
           "type": "scatter",
           "x": [
            0.62,
            0.7,
            0.82,
            0.89,
            1.04,
            1.04,
            1.09,
            1.09,
            1.26,
            1.26
           ],
           "xaxis": "x",
           "y": [
            10847500,
            30000000,
            25000000,
            10000000,
            10105328,
            20000000,
            12571000,
            12972000,
            15000000,
            20000000
           ],
           "yaxis": "y"
          }
         ],
         "name": "1993"
        },
        {
         "data": [
          {
           "customdata": [
            [
             "Green Day"
            ],
            [
             "Mariah Carey"
            ],
            [
             "Hootie & The Blowfish"
            ],
            [
             "The Cranberries"
            ],
            [
             "Nirvana"
            ],
            [
             "TLC"
            ],
            [
             "Boyz II Men"
            ],
            [
             "Pink Floyd"
            ],
            [
             "Bon Jovi"
            ]
           ],
           "hovertemplate": "Year=1994<br>Hours=%{x}<br>Worldwide Sales (Est.)=%{y}<br>Artist=%{customdata[0]}<extra></extra>",
           "legendgroup": "1994",
           "line": {
            "color": "#9467BD",
            "dash": "solid"
           },
           "marker": {
            "symbol": "circle"
           },
           "mode": "lines+markers",
           "name": "1994",
           "orientation": "v",
           "showlegend": true,
           "type": "scatter",
           "x": [
            0.66,
            0.66,
            0.78,
            0.84,
            0.9,
            0.94,
            0.96,
            1.11,
            1.21
           ],
           "xaxis": "x",
           "y": [
            20000000,
            15000000,
            22265000,
            14190000,
            12529430,
            14355000,
            13999880,
            12000000,
            18500000
           ],
           "yaxis": "y"
          }
         ],
         "name": "1994"
        },
        {
         "data": [
          {
           "customdata": [
            [
             "Mariah Carey"
            ],
            [
             "Shania Twain"
            ],
            [
             "Oasis"
            ],
            [
             "Alanis Morissette"
            ],
            [
             "Jewel"
            ],
            [
             "No Doubt"
            ],
            [
             "Queen"
            ],
            [
             "Bruce Springsteen"
            ],
            [
             "Michael Jackson"
            ]
           ],
           "hovertemplate": "Year=1995<br>Hours=%{x}<br>Worldwide Sales (Est.)=%{y}<br>Artist=%{customdata[0]}<extra></extra>",
           "legendgroup": "1995",
           "line": {
            "color": "#8C564B",
            "dash": "solid"
           },
           "marker": {
            "symbol": "circle"
           },
           "mode": "lines+markers",
           "name": "1995",
           "orientation": "v",
           "showlegend": true,
           "type": "scatter",
           "x": [
            0.78,
            0.8,
            0.83,
            0.96,
            0.98,
            0.99,
            1.17,
            1.28,
            2.48
           ],
           "xaxis": "x",
           "y": [
            25000000,
            20000000,
            22000000,
            33000000,
            13490000,
            13585000,
            20000000,
            10593328,
            20000000
           ],
           "yaxis": "y"
          }
         ],
         "name": "1995"
        },
        {
         "data": [
          {
           "customdata": [
            [
             "Spice Girls"
            ],
            [
             "Matchbox Twenty"
            ],
            [
             "Backstreet Boys"
            ],
            [
             "Toni Braxton"
            ],
            [
             "George Michael"
            ],
            [
             "Fugees"
            ],
            [
             "Celine Dion"
            ],
            [
             "Dave Matthews Band"
            ],
            [
             "Metallica"
            ]
           ],
           "hovertemplate": "Year=1996<br>Hours=%{x}<br>Worldwide Sales (Est.)=%{y}<br>Artist=%{customdata[0]}<extra></extra>",
           "legendgroup": "1996",
           "line": {
            "color": "#E377C2",
            "dash": "solid"
           },
           "marker": {
            "symbol": "circle"
           },
           "mode": "lines+markers",
           "name": "1996",
           "orientation": "v",
           "showlegend": true,
           "type": "scatter",
           "x": [
            0.67,
            0.78,
            0.91,
            0.92,
            0.98,
            1.01,
            1.12,
            1.15,
            1.32
           ],
           "xaxis": "x",
           "y": [
            23000000,
            15000000,
            14000000,
            15000000,
            7051970,
            13860000,
            32000000,
            7100000,
            8061530
           ],
           "yaxis": "y"
          }
         ],
         "name": "1996"
        },
        {
         "data": [
          {
           "customdata": [
            [
             "Spice Girls"
            ],
            [
             "Aqua"
            ],
            [
             "Backstreet Boys"
            ],
            [
             "Savage Garden"
            ],
            [
             "Shania Twain"
            ],
            [
             "Buena Vista Social Club"
            ],
            [
             "Andrea Bocelli"
            ],
            [
             "Celine Dion"
            ]
           ],
           "hovertemplate": "Year=1997<br>Hours=%{x}<br>Worldwide Sales (Est.)=%{y}<br>Artist=%{customdata[0]}<extra></extra>",
           "legendgroup": "1997",
           "line": {
            "color": "#7F7F7F",
            "dash": "solid"
           },
           "marker": {
            "symbol": "circle"
           },
           "mode": "lines+markers",
           "name": "1997",
           "orientation": "v",
           "showlegend": true,
           "type": "scatter",
           "x": [
            0.64,
            0.68,
            0.77,
            0.83,
            1,
            1,
            1.17,
            1.24
           ],
           "xaxis": "x",
           "y": [
            14000000,
            14000000,
            13000000,
            12000000,
            40000000,
            12000000,
            20000000,
            30000000
           ],
           "yaxis": "y"
          }
         ],
         "name": "1997"
        },
        {
         "data": [
          {
           "customdata": [
            [
             "Cher"
            ],
            [
             "Dixie Chicks"
            ],
            [
             "The Offspring"
            ],
            [
             "U2"
            ],
            [
             "Madonna"
            ],
            [
             "Brandy"
            ],
            [
             "Lauryn Hill"
            ],
            [
             "Kid Rock"
            ],
            [
             "Mariah Carey"
            ],
            [
             "Garth Brooks"
            ]
           ],
           "hovertemplate": "Year=1998<br>Hours=%{x}<br>Worldwide Sales (Est.)=%{y}<br>Artist=%{customdata[0]}<extra></extra>",
           "legendgroup": "1998",
           "line": {
            "color": "#BCBD22",
            "dash": "solid"
           },
           "marker": {
            "symbol": "circle"
           },
           "mode": "lines+markers",
           "name": "1998",
           "orientation": "v",
           "showlegend": true,
           "type": "scatter",
           "x": [
            0.73,
            0.73,
            0.73,
            1.09,
            1.11,
            1.11,
            1.16,
            1.19,
            1.22,
            1.67
           ],
           "xaxis": "x",
           "y": [
            20000000,
            13715000,
            11000000,
            12418000,
            14000000,
            15000000,
            20000000,
            11467500,
            10738067,
            10920000
           ],
           "yaxis": "y"
          }
         ],
         "name": "1998"
        },
        {
         "data": [
          {
           "customdata": [
            [
             "Blink-182"
            ],
            [
             "Britney Spears"
            ],
            [
             "Christina Aguilera"
            ],
            [
             "Backstreet Boys"
            ],
            [
             "Dido"
            ],
            [
             "Creed"
            ],
            [
             "Red Hot Chili Peppers"
            ],
            [
             "Ricky Martin"
            ],
            [
             "Celine Dion"
            ],
            [
             "Santana"
            ]
           ],
           "hovertemplate": "Year=1999<br>Hours=%{x}<br>Worldwide Sales (Est.)=%{y}<br>Artist=%{customdata[0]}<extra></extra>",
           "legendgroup": "1999",
           "line": {
            "color": "#17BECF",
            "dash": "solid"
           },
           "marker": {
            "symbol": "circle"
           },
           "mode": "lines+markers",
           "name": "1999",
           "orientation": "v",
           "showlegend": true,
           "type": "scatter",
           "x": [
            0.59,
            0.71,
            0.77,
            0.8,
            0.86,
            0.94,
            0.94,
            0.99,
            1.2,
            1.25
           ],
           "xaxis": "x",
           "y": [
            16000000,
            27000000,
            14000000,
            40000000,
            12000000,
            13195000,
            16000000,
            17000000,
            18513351,
            25000000
           ],
           "yaxis": "y"
          }
         ],
         "name": "1999"
        },
        {
         "data": [
          {
           "customdata": [
            [
             "Linkin Park"
            ],
            [
             "Enya"
            ],
            [
             "Coldplay"
            ],
            [
             "Britney Spears"
            ],
            [
             "NSYNC"
            ],
            [
             "Backstreet Boys"
            ],
            [
             "U2"
            ],
            [
             "Nelly"
            ],
            [
             "Eminem"
            ],
            [
             "The Beatles"
            ]
           ],
           "hovertemplate": "Year=2000<br>Hours=%{x}<br>Worldwide Sales (Est.)=%{y}<br>Artist=%{customdata[0]}<extra></extra>",
           "legendgroup": "2000",
           "line": {
            "color": "#1F77B4",
            "dash": "solid"
           },
           "marker": {
            "symbol": "circle"
           },
           "mode": "lines+markers",
           "name": "2000",
           "orientation": "v",
           "showlegend": true,
           "type": "scatter",
           "x": [
            0.63,
            0.63,
            0.69,
            0.74,
            0.79,
            0.8,
            0.82,
            1.11,
            1.2,
            1.31
           ],
           "xaxis": "x",
           "y": [
            27000000,
            12097445,
            13000000,
            20000000,
            14215547,
            24000000,
            12000000,
            10715000,
            32000000,
            32000000
           ],
           "yaxis": "y"
          }
         ],
         "name": "2000"
        }
       ],
       "layout": {
        "height": 600,
        "legend": {
         "title": {
          "text": "Year"
         },
         "tracegroupgap": 0
        },
        "showlegend": false,
        "sliders": [
         {
          "active": 0,
          "currentvalue": {
           "prefix": "Year="
          },
          "len": 0.9,
          "pad": {
           "b": 10,
           "t": 60
          },
          "steps": [
           {
            "args": [
             [
              "1990"
             ],
             {
              "frame": {
               "duration": 0,
               "redraw": false
              },
              "fromcurrent": true,
              "mode": "immediate",
              "transition": {
               "duration": 0,
               "easing": "linear"
              }
             }
            ],
            "label": "1990",
            "method": "animate"
           },
           {
            "args": [
             [
              "1991"
             ],
             {
              "frame": {
               "duration": 0,
               "redraw": false
              },
              "fromcurrent": true,
              "mode": "immediate",
              "transition": {
               "duration": 0,
               "easing": "linear"
              }
             }
            ],
            "label": "1991",
            "method": "animate"
           },
           {
            "args": [
             [
              "1992"
             ],
             {
              "frame": {
               "duration": 0,
               "redraw": false
              },
              "fromcurrent": true,
              "mode": "immediate",
              "transition": {
               "duration": 0,
               "easing": "linear"
              }
             }
            ],
            "label": "1992",
            "method": "animate"
           },
           {
            "args": [
             [
              "1993"
             ],
             {
              "frame": {
               "duration": 0,
               "redraw": false
              },
              "fromcurrent": true,
              "mode": "immediate",
              "transition": {
               "duration": 0,
               "easing": "linear"
              }
             }
            ],
            "label": "1993",
            "method": "animate"
           },
           {
            "args": [
             [
              "1994"
             ],
             {
              "frame": {
               "duration": 0,
               "redraw": false
              },
              "fromcurrent": true,
              "mode": "immediate",
              "transition": {
               "duration": 0,
               "easing": "linear"
              }
             }
            ],
            "label": "1994",
            "method": "animate"
           },
           {
            "args": [
             [
              "1995"
             ],
             {
              "frame": {
               "duration": 0,
               "redraw": false
              },
              "fromcurrent": true,
              "mode": "immediate",
              "transition": {
               "duration": 0,
               "easing": "linear"
              }
             }
            ],
            "label": "1995",
            "method": "animate"
           },
           {
            "args": [
             [
              "1996"
             ],
             {
              "frame": {
               "duration": 0,
               "redraw": false
              },
              "fromcurrent": true,
              "mode": "immediate",
              "transition": {
               "duration": 0,
               "easing": "linear"
              }
             }
            ],
            "label": "1996",
            "method": "animate"
           },
           {
            "args": [
             [
              "1997"
             ],
             {
              "frame": {
               "duration": 0,
               "redraw": false
              },
              "fromcurrent": true,
              "mode": "immediate",
              "transition": {
               "duration": 0,
               "easing": "linear"
              }
             }
            ],
            "label": "1997",
            "method": "animate"
           },
           {
            "args": [
             [
              "1998"
             ],
             {
              "frame": {
               "duration": 0,
               "redraw": false
              },
              "fromcurrent": true,
              "mode": "immediate",
              "transition": {
               "duration": 0,
               "easing": "linear"
              }
             }
            ],
            "label": "1998",
            "method": "animate"
           },
           {
            "args": [
             [
              "1999"
             ],
             {
              "frame": {
               "duration": 0,
               "redraw": false
              },
              "fromcurrent": true,
              "mode": "immediate",
              "transition": {
               "duration": 0,
               "easing": "linear"
              }
             }
            ],
            "label": "1999",
            "method": "animate"
           },
           {
            "args": [
             [
              "2000"
             ],
             {
              "frame": {
               "duration": 0,
               "redraw": false
              },
              "fromcurrent": true,
              "mode": "immediate",
              "transition": {
               "duration": 0,
               "easing": "linear"
              }
             }
            ],
            "label": "2000",
            "method": "animate"
           }
          ],
          "x": 0.1,
          "xanchor": "left",
          "y": 0,
          "yanchor": "top"
         }
        ],
        "template": {
         "data": {
          "pie": [
           {
            "automargin": true,
            "type": "pie"
           }
          ],
          "scatter": [
           {
            "line": {
             "width": 3
            },
            "marker": {
             "size": 9
            },
            "type": "scatter"
           }
          ],
          "scatter3d": [
           {
            "line": {
             "width": 3
            },
            "marker": {
             "size": 9
            },
            "type": "scatter3d"
           }
          ],
          "scattergeo": [
           {
            "line": {
             "width": 3
            },
            "marker": {
             "size": 9
            },
            "type": "scattergeo"
           }
          ],
          "scattergl": [
           {
            "line": {
             "width": 3
            },
            "marker": {
             "size": 9
            },
            "type": "scattergl"
           }
          ],
          "scatterpolar": [
           {
            "line": {
             "width": 3
            },
            "marker": {
             "size": 9
            },
            "type": "scatterpolar"
           }
          ],
          "scatterpolargl": [
           {
            "line": {
             "width": 3
            },
            "marker": {
             "size": 9
            },
            "type": "scatterpolargl"
           }
          ],
          "scatterternary": [
           {
            "line": {
             "width": 3
            },
            "marker": {
             "size": 9
            },
            "type": "scatterternary"
           }
          ],
          "table": [
           {
            "cells": {
             "height": 30
            },
            "header": {
             "height": 36
            },
            "type": "table"
           }
          ]
         },
         "layout": {
          "font": {
           "size": 18
          },
          "xaxis": {
           "title": {
            "standoff": 15
           }
          },
          "yaxis": {
           "title": {
            "standoff": 15
           }
          }
         }
        },
        "title": {
         "font": {
          "size": 17
         },
         "text": "Correlation between Album Sales and Album Duration (1990-2000)"
        },
        "updatemenus": [
         {
          "buttons": [
           {
            "args": [
             null,
             {
              "frame": {
               "duration": 1700,
               "redraw": false
              },
              "fromcurrent": true,
              "mode": "immediate",
              "transition": {
               "duration": 500,
               "easing": "linear"
              }
             }
            ],
            "label": "&#9654;",
            "method": "animate"
           },
           {
            "args": [
             [
              null
             ],
             {
              "frame": {
               "duration": 0,
               "redraw": false
              },
              "fromcurrent": true,
              "mode": "immediate",
              "transition": {
               "duration": 0,
               "easing": "linear"
              }
             }
            ],
            "label": "&#9724;",
            "method": "animate"
           }
          ],
          "direction": "left",
          "pad": {
           "r": 10,
           "t": 70
          },
          "showactive": false,
          "type": "buttons",
          "x": 0.1,
          "xanchor": "right",
          "y": 0,
          "yanchor": "top"
         }
        ],
        "xaxis": {
         "anchor": "y",
         "domain": [
          0,
          1
         ],
         "title": {
          "font": {
           "size": 14
          },
          "text": "Album Duration (hour(s))"
         }
        },
        "yaxis": {
         "anchor": "x",
         "domain": [
          0,
          1
         ],
         "range": [
          6337818,
          45000000
         ],
         "title": {
          "font": {
           "size": 14
          },
          "text": "Worldwide Units Sold"
         }
        }
       }
      }
     },
     "metadata": {},
     "output_type": "display_data"
    }
   ],
   "source": [
    "#how album length changed over time -> animated line chart\n",
    "df=pd.read_csv(\"./dataset/Top 10 Albums By Year Album Length.csv\")\n",
    "df=df[df['Year']<2001].sort_values(by=['Year', 'Hours'])\n",
    "df= df[df['Artist'] != 'Movie Soundtrack']\n",
    "df['Worldwide Sales (Est.)'] = df['Worldwide Sales (Est.)'].str.replace(',', '').astype(int)\n",
    "fig_16 = px.line(df, x='Hours', y='Worldwide Sales (Est.)', markers=True, hover_data='Artist' ,template='presentation', title='Correlation between Album Sales and Album Duration (1990-2000)', animation_frame='Year', color='Year')\n",
    "fig_16.update_xaxes(title_text='Album Duration (hour(s))', title_font=dict(size=14))\n",
    "fig_16.update_yaxes(title_text='Worldwide Units Sold', title_font=dict(size=14), range=[np.min(df['Worldwide Sales (Est.)']), np.max(df['Worldwide Sales (Est.)'])])\n",
    "fig_16.update_layout(title_font=dict(size=17), height=600, showlegend=False)  # Decrease font size for plot title\n",
    "fig_16.layout.updatemenus[0].buttons[0].args[1][\"frame\"][\"duration\"] = 1700\n",
    "fig_16.show()"
   ]
  },
  {
   "cell_type": "code",
   "execution_count": 40,
   "id": "40f6c870",
   "metadata": {},
   "outputs": [
    {
     "data": {
      "application/vnd.plotly.v1+json": {
       "config": {
        "plotlyServerURL": "https://plot.ly"
       },
       "data": [
        {
         "autobinx": false,
         "histnorm": "probability density",
         "legendgroup": "popularity",
         "marker": {
          "color": "#c47b3c"
         },
         "name": "popularity",
         "opacity": 0.7,
         "type": "histogram",
         "x": [
          73,
          55,
          57,
          71,
          82,
          58,
          74,
          80,
          74,
          56,
          74,
          69,
          52,
          62,
          56,
          58,
          56,
          54,
          68,
          67,
          75,
          63,
          70,
          0,
          0,
          1,
          0,
          0,
          0,
          0,
          0,
          0,
          0,
          0,
          0,
          0,
          0,
          0,
          0,
          0,
          0,
          0,
          0,
          0,
          0,
          0,
          0,
          0,
          0,
          0,
          46,
          61,
          60,
          68,
          52,
          62,
          51,
          0,
          67,
          57,
          75,
          62,
          66,
          64,
          62,
          58,
          65,
          67,
          65,
          44,
          55,
          70,
          57,
          56,
          56,
          67,
          62,
          45,
          64,
          65,
          0,
          0,
          68,
          0,
          0,
          61,
          70,
          0,
          0,
          62,
          0,
          0,
          0,
          0,
          0,
          0,
          0,
          0,
          0,
          0,
          58,
          50,
          59,
          57,
          60,
          61,
          49,
          55,
          51,
          46,
          57,
          58,
          51,
          63,
          53,
          60,
          47,
          60,
          66,
          67,
          43,
          54,
          60,
          49,
          57,
          42,
          67,
          61,
          71,
          49,
          61,
          61,
          20,
          22,
          35,
          60,
          59,
          73,
          22,
          19,
          24,
          57,
          35,
          20,
          18,
          19,
          23,
          19,
          18,
          65,
          55,
          47,
          56,
          53,
          49,
          51,
          53,
          66,
          56,
          47,
          51,
          55,
          60,
          40,
          58,
          55,
          50,
          52,
          54,
          73,
          38,
          53,
          55,
          41,
          46,
          63,
          66,
          54,
          62,
          57,
          68,
          62,
          53,
          44,
          57,
          52,
          53,
          53,
          55,
          66,
          49,
          60,
          38,
          67,
          57,
          60,
          64,
          0,
          0,
          0,
          61,
          50,
          47,
          58,
          30,
          52,
          55,
          67,
          45,
          56,
          37,
          54,
          66,
          63,
          58,
          55,
          65,
          69,
          44,
          39,
          54,
          44,
          70,
          64,
          40,
          47,
          40,
          55,
          57,
          48,
          54,
          53,
          60,
          54,
          62,
          51,
          61,
          51,
          63,
          65,
          64,
          57,
          54,
          37,
          63,
          53,
          0,
          36,
          0,
          0,
          55,
          57,
          54,
          44,
          51,
          42,
          47,
          54,
          73,
          56,
          56,
          59,
          57,
          56,
          57,
          51,
          48,
          52,
          54,
          55,
          41,
          49,
          37,
          52,
          58,
          48,
          56,
          46,
          55,
          54,
          57,
          49,
          55,
          51,
          39,
          60,
          60,
          53,
          64,
          34,
          50,
          65,
          56,
          57,
          43,
          64,
          58,
          64,
          35,
          36,
          54,
          43,
          49,
          55,
          54,
          55,
          39,
          51,
          52,
          56,
          48,
          41,
          40,
          57,
          53,
          30,
          49,
          26,
          53,
          52,
          51,
          35,
          54,
          50,
          53,
          48,
          49,
          35,
          60,
          65,
          52,
          57,
          59,
          50,
          49,
          54,
          52,
          46,
          62,
          32,
          33,
          58,
          57,
          34,
          55,
          33,
          33,
          0,
          0,
          0,
          52,
          21,
          50,
          55,
          46,
          56,
          40,
          21,
          55,
          50,
          41,
          44,
          57,
          33,
          56,
          32,
          35,
          55,
          33,
          46,
          38,
          65,
          60,
          54,
          37,
          34,
          55,
          51,
          48,
          34,
          51,
          54,
          32,
          54,
          61,
          55,
          55,
          34,
          33,
          45,
          33,
          34,
          34,
          49,
          33,
          62,
          33,
          31,
          32,
          32,
          54,
          50,
          58,
          49,
          52,
          49,
          53,
          54,
          50,
          57,
          53,
          57,
          49,
          52,
          51,
          46,
          41,
          57,
          50,
          42,
          47,
          55,
          56,
          49,
          50,
          56,
          52,
          50,
          53,
          33,
          54,
          50,
          54,
          55,
          32,
          33,
          50,
          56,
          63,
          48,
          54,
          31,
          31,
          60,
          67,
          33,
          32,
          31,
          0,
          31,
          45,
          56,
          45,
          42,
          46,
          50,
          45,
          56,
          43,
          39,
          53,
          45,
          32,
          53,
          54,
          51,
          55,
          33,
          55,
          46,
          30,
          46,
          60,
          51,
          47,
          60,
          51,
          60,
          52,
          54,
          52,
          51,
          30,
          30,
          62,
          64,
          57,
          31,
          71,
          31,
          30,
          30,
          30,
          30,
          30,
          59,
          30,
          30,
          63,
          30,
          44,
          54,
          28,
          47,
          41,
          43,
          65,
          53,
          47,
          55,
          45,
          69,
          37,
          34,
          53,
          31,
          31,
          47,
          45,
          51,
          51,
          31,
          48,
          48,
          51,
          55,
          32,
          54,
          60,
          47,
          29,
          51,
          41,
          48,
          61,
          60,
          45,
          58,
          29,
          57,
          29,
          49,
          30,
          30,
          31,
          29,
          59,
          30,
          30,
          29,
          55,
          49,
          50,
          55,
          49,
          32,
          53,
          46,
          23,
          41,
          49,
          59,
          43,
          31,
          46,
          50,
          41,
          48,
          36,
          44,
          56,
          29,
          52,
          31,
          47,
          56,
          37,
          24,
          23,
          28,
          51,
          51,
          51,
          50,
          31,
          30,
          31,
          29,
          61,
          28,
          55,
          29,
          30,
          29,
          30,
          29,
          29,
          30,
          29,
          28,
          42,
          49,
          53,
          50,
          52,
          36,
          49,
          40,
          51,
          41,
          55,
          52,
          51,
          49,
          54,
          46,
          45,
          30,
          53,
          48,
          52,
          51,
          59,
          53,
          47,
          28,
          30,
          29,
          48,
          52,
          28,
          51,
          53,
          52,
          42,
          29,
          29,
          60,
          51,
          28,
          27,
          28,
          58,
          54,
          28,
          29,
          28,
          28,
          28,
          28,
          52,
          46,
          47,
          39,
          50,
          43,
          30,
          53,
          51,
          31,
          29,
          43,
          55,
          50,
          30,
          46,
          46,
          52,
          44,
          51,
          53,
          47,
          48,
          56,
          48,
          47,
          29,
          28,
          28,
          67,
          29,
          56,
          54,
          25,
          49,
          28,
          28,
          29,
          53,
          28,
          28,
          28,
          28,
          28,
          28,
          28,
          29,
          0,
          0,
          0,
          32,
          35,
          49,
          52,
          31,
          28,
          48,
          48,
          41,
          47,
          28,
          60,
          47,
          30,
          49,
          51,
          50,
          28,
          51,
          45,
          54,
          54,
          57,
          27,
          57,
          55,
          30,
          27,
          41,
          28,
          57,
          51,
          27,
          27,
          58,
          27,
          27,
          27,
          28,
          27,
          28,
          30,
          28,
          28,
          28,
          27,
          27,
          27,
          28,
          27,
          65,
          49,
          52,
          39,
          38,
          45,
          41,
          49,
          28,
          51,
          35,
          54,
          48,
          60,
          57,
          45,
          34,
          40,
          46,
          42,
          36,
          16,
          46,
          26,
          52,
          26,
          50,
          60,
          50,
          61,
          26,
          27,
          28,
          55,
          45,
          26,
          28,
          48,
          27,
          27,
          26,
          28,
          28,
          28,
          29,
          27,
          28,
          27,
          60,
          28,
          48,
          43,
          54,
          49,
          45,
          27,
          52,
          41,
          51,
          48,
          52,
          39,
          27,
          41,
          43,
          45,
          27,
          41,
          33,
          47,
          48,
          44,
          64,
          49,
          49,
          45,
          26,
          47,
          27,
          26,
          48,
          59,
          26,
          53,
          26,
          26,
          26,
          48,
          61,
          27,
          26,
          50,
          26,
          27,
          26,
          26,
          49,
          27,
          27,
          26,
          47,
          33,
          57,
          44,
          58,
          48,
          39,
          45,
          49,
          44,
          44,
          51,
          41,
          58,
          54,
          41,
          46,
          26,
          56,
          27,
          46,
          26,
          27,
          52,
          26,
          55,
          26,
          51,
          51,
          49,
          47,
          58,
          27,
          58,
          26,
          27,
          26,
          27,
          27,
          26,
          58,
          27,
          27,
          26,
          26,
          27,
          26,
          29,
          26,
          26,
          42,
          51,
          53,
          66,
          51,
          40,
          38,
          43,
          44,
          47,
          27,
          52,
          43,
          56,
          48,
          43,
          33,
          25,
          47,
          39,
          47,
          50,
          27,
          47,
          26,
          51,
          26,
          37,
          25,
          45,
          25,
          26,
          44,
          27,
          25,
          24,
          27,
          25,
          27,
          27,
          25,
          27,
          28,
          26,
          25,
          26,
          27,
          26,
          25,
          25,
          50,
          43,
          46,
          34,
          35,
          26,
          45,
          40,
          51,
          47,
          46,
          45,
          55,
          26,
          48,
          26,
          45,
          27,
          54,
          37,
          50,
          27,
          52,
          51,
          25,
          26,
          26,
          38,
          25,
          47,
          25,
          26,
          25,
          25,
          26,
          25,
          25,
          26,
          26,
          25,
          25,
          25,
          26,
          26,
          26,
          26,
          29,
          26,
          26,
          25
         ],
         "xaxis": "x",
         "xbins": {
          "end": 82,
          "size": 1,
          "start": 0
         },
         "yaxis": "y"
        },
        {
         "legendgroup": "popularity",
         "marker": {
          "color": "#c47b3c"
         },
         "mode": "lines",
         "name": "popularity",
         "showlegend": false,
         "type": "scatter",
         "x": [
          0,
          0.164,
          0.328,
          0.492,
          0.656,
          0.82,
          0.984,
          1.148,
          1.312,
          1.476,
          1.64,
          1.804,
          1.968,
          2.132,
          2.296,
          2.46,
          2.624,
          2.788,
          2.952,
          3.116,
          3.28,
          3.444,
          3.608,
          3.772,
          3.936,
          4.1,
          4.264,
          4.428,
          4.592,
          4.756,
          4.92,
          5.084,
          5.248,
          5.412,
          5.576,
          5.74,
          5.904,
          6.068,
          6.232,
          6.396,
          6.56,
          6.724,
          6.888,
          7.052,
          7.216,
          7.38,
          7.544,
          7.708,
          7.872,
          8.036,
          8.2,
          8.364,
          8.528,
          8.692,
          8.856,
          9.02,
          9.184,
          9.348,
          9.512,
          9.676,
          9.84,
          10.004,
          10.168,
          10.332,
          10.496,
          10.66,
          10.824,
          10.988,
          11.152,
          11.316,
          11.48,
          11.644,
          11.808,
          11.972,
          12.136,
          12.3,
          12.464,
          12.628,
          12.792,
          12.956,
          13.12,
          13.284,
          13.448,
          13.612,
          13.776,
          13.94,
          14.104,
          14.268,
          14.432,
          14.596,
          14.76,
          14.924,
          15.088,
          15.252,
          15.416,
          15.58,
          15.744,
          15.908,
          16.072,
          16.236,
          16.4,
          16.564,
          16.728,
          16.892,
          17.056,
          17.22,
          17.384,
          17.548,
          17.712,
          17.876,
          18.04,
          18.204,
          18.368,
          18.532,
          18.696,
          18.86,
          19.024,
          19.188,
          19.352,
          19.516,
          19.68,
          19.844,
          20.008,
          20.172,
          20.336,
          20.5,
          20.664,
          20.828,
          20.992,
          21.156,
          21.32,
          21.484,
          21.648,
          21.812,
          21.976,
          22.14,
          22.304,
          22.468,
          22.632,
          22.796,
          22.96,
          23.124,
          23.288,
          23.452,
          23.616,
          23.78,
          23.944,
          24.108,
          24.272,
          24.436,
          24.6,
          24.764,
          24.928,
          25.092,
          25.256,
          25.42,
          25.584,
          25.748,
          25.912,
          26.076,
          26.24,
          26.404,
          26.568,
          26.732,
          26.896,
          27.06,
          27.224,
          27.388,
          27.552,
          27.716,
          27.88,
          28.044,
          28.208,
          28.372,
          28.536,
          28.7,
          28.864,
          29.028,
          29.192,
          29.356,
          29.52,
          29.684,
          29.848,
          30.012,
          30.176,
          30.34,
          30.504,
          30.668,
          30.832,
          30.996,
          31.16,
          31.324,
          31.488,
          31.652,
          31.816,
          31.98,
          32.144,
          32.308,
          32.472,
          32.636,
          32.8,
          32.964,
          33.128,
          33.292,
          33.456,
          33.62,
          33.784,
          33.948,
          34.112,
          34.276,
          34.44,
          34.604,
          34.768,
          34.932,
          35.096,
          35.26,
          35.424,
          35.588,
          35.752,
          35.916,
          36.08,
          36.244,
          36.408,
          36.572,
          36.736,
          36.9,
          37.064,
          37.228,
          37.392,
          37.556,
          37.72,
          37.884,
          38.048,
          38.212,
          38.376,
          38.54,
          38.704,
          38.868,
          39.032,
          39.196,
          39.36,
          39.524,
          39.688,
          39.852,
          40.016,
          40.18,
          40.344,
          40.508,
          40.672,
          40.836,
          41,
          41.164,
          41.328,
          41.492,
          41.656,
          41.82,
          41.984,
          42.148,
          42.312,
          42.476,
          42.64,
          42.804,
          42.968,
          43.132,
          43.296,
          43.46,
          43.624,
          43.788,
          43.952,
          44.116,
          44.28,
          44.444,
          44.608,
          44.772,
          44.936,
          45.1,
          45.264,
          45.428,
          45.592,
          45.756,
          45.92,
          46.084,
          46.248,
          46.412,
          46.576,
          46.74,
          46.904,
          47.068,
          47.232,
          47.396,
          47.56,
          47.724,
          47.888,
          48.052,
          48.216,
          48.38,
          48.544,
          48.708,
          48.872,
          49.036,
          49.2,
          49.364,
          49.528,
          49.692,
          49.856,
          50.02,
          50.184,
          50.348,
          50.512,
          50.676,
          50.84,
          51.004,
          51.168,
          51.332,
          51.496,
          51.66,
          51.824,
          51.988,
          52.152,
          52.316,
          52.48,
          52.644,
          52.808,
          52.972,
          53.136,
          53.3,
          53.464,
          53.628,
          53.792,
          53.956,
          54.12,
          54.284,
          54.448,
          54.612,
          54.776,
          54.94,
          55.104,
          55.268,
          55.432,
          55.596,
          55.76,
          55.924,
          56.088,
          56.252,
          56.416,
          56.58,
          56.744,
          56.908,
          57.072,
          57.236,
          57.4,
          57.564,
          57.728,
          57.892,
          58.056,
          58.22,
          58.384,
          58.548,
          58.712,
          58.876,
          59.04,
          59.204,
          59.368,
          59.532,
          59.696,
          59.86,
          60.024,
          60.188,
          60.352,
          60.516,
          60.68,
          60.844,
          61.008,
          61.172,
          61.336,
          61.5,
          61.664,
          61.828,
          61.992,
          62.156,
          62.32,
          62.484,
          62.648,
          62.812,
          62.976,
          63.14,
          63.304,
          63.468,
          63.632,
          63.796,
          63.96,
          64.124,
          64.288,
          64.452,
          64.616,
          64.78,
          64.944,
          65.108,
          65.272,
          65.436,
          65.6,
          65.764,
          65.928,
          66.092,
          66.256,
          66.42,
          66.584,
          66.748,
          66.912,
          67.076,
          67.24,
          67.404,
          67.568,
          67.732,
          67.896,
          68.06,
          68.224,
          68.388,
          68.552,
          68.716,
          68.88,
          69.044,
          69.208,
          69.372,
          69.536,
          69.7,
          69.864,
          70.028,
          70.192,
          70.356,
          70.52,
          70.684,
          70.848,
          71.012,
          71.176,
          71.34,
          71.504,
          71.668,
          71.832,
          71.996,
          72.16,
          72.324,
          72.488,
          72.652,
          72.816,
          72.98,
          73.144,
          73.308,
          73.472,
          73.636,
          73.8,
          73.964,
          74.128,
          74.292,
          74.456,
          74.62,
          74.784,
          74.948,
          75.112,
          75.276,
          75.44,
          75.604,
          75.768,
          75.932,
          76.096,
          76.26,
          76.424,
          76.588,
          76.752,
          76.916,
          77.08,
          77.244,
          77.408,
          77.572,
          77.736,
          77.9,
          78.064,
          78.228,
          78.392,
          78.556,
          78.72,
          78.884,
          79.048,
          79.212,
          79.376,
          79.54,
          79.704,
          79.868,
          80.032,
          80.196,
          80.36,
          80.524,
          80.688,
          80.852,
          81.016,
          81.18,
          81.344,
          81.508,
          81.672,
          81.836
         ],
         "xaxis": "x",
         "y": [
          0.005470308633875397,
          0.005466953303017302,
          0.0054551053337898985,
          0.005434820456509784,
          0.005406193599398772,
          0.005369358161128295,
          0.005324484989355085,
          0.005271781076402735,
          0.005211487986253369,
          0.00514388002982201,
          0.005069262208066364,
          0.004987967944791895,
          0.004900356633029805,
          0.004806811020555671,
          0.004707734461470719,
          0.004603548061769519,
          0.00449468774745158,
          0.0043816012840140715,
          0.004264745276071643,
          0.0041445821754174505,
          0.004021577325057976,
          0.003896196065666114,
          0.0037689009295044755,
          0.0036401489452147374,
          0.003510389074973176,
          0.0033800598034141134,
          0.0032495868954540963,
          0.0031193813377488615,
          0.002989837476020764,
          0.0028613313579418727,
          0.002734219288686877,
          0.0026088366037141375,
          0.00248549666082962,
          0.0023644900511671624,
          0.0022460840264101277,
          0.002130522137410809,
          0.0020180240773582264,
          0.0019087857208211676,
          0.0018029793483700421,
          0.0017007540450667458,
          0.0016022362599200691,
          0.0015075305124346268,
          0.0014167202316401758,
          0.001329868712469526,
          0.001247020174053653,
          0.0011682009044141604,
          0.0010934204761430327,
          0.0010226730179564735,
          0.0009559385274781695,
          0.0008931842112280733,
          0.0008343658385530827,
          0.00077942909711111,
          0.0007283109384945624,
          0.0006809409036324091,
          0.0006372424187216538,
          0.0005971340535909587,
          0.0005605307355726078,
          0.0005273449131361977,
          0.0004974876647016049,
          0.0004708697491856677,
          0.0004474025959304736,
          0.0004269992327007051,
          0.0004095751514103922,
          0.0003950491121362874,
          0.00038334388678806753,
          0.0003743869445271603,
          0.00036811108165128536,
          0.0003644549991865634,
          0.0003633638318505743,
          0.00036478963236662317,
          0.0003686918153213337,
          0.00037503756486521726,
          0.00038380221056115736,
          0.0003949695755910107,
          0.0004085323013398261,
          0.0004244921520946713,
          0.0004428603032258104,
          0.0004636576157680345,
          0.0004869148997957595,
          0.0005126731683940852,
          0.0005409838833774112,
          0.0005719091932054669,
          0.000605522162802974,
          0.000641906994212891,
          0.0006811592362144457,
          0.0007233859802265761,
          0.0007687060390055786,
          0.0008172501038452111,
          0.0008691608752085014,
          0.0009245931609774816,
          0.0009837139358100824,
          0.0010467023544575027,
          0.001113749711331682,
          0.00118505933813422,
          0.0012608464309784933,
          0.001341337798166345,
          0.0014267715196331723,
          0.0015173965090592542,
          0.0016134719697730362,
          0.001715266735850028,
          0.0018230584902488372,
          0.0019371328524276409,
          0.002057782328654822,
          0.0021853051191691513,
          0.0023200037774555164,
          0.002462183718182147,
          0.0026121515717860816,
          0.0027702133852898652,
          0.002936672670672221,
          0.003111828303985299,
          0.003295972280395123,
          0.003489387332400573,
          0.0036923444206376378,
          0.0039051001088755174,
          0.004127893837032989,
          0.004360945108258005,
          0.0046044506082888945,
          0.004858581277423537,
          0.005123479357424478,
          0.005399255437555592,
          0.005685985525640981,
          0.005983708171529148,
          0.006292421671601344,
          0.006612081383952328,
          0.006942597184566194,
          0.007283831095182817,
          0.007635595113581827,
          0.007997649276678228,
          0.00836969998611784,
          0.008751398624967313,
          0.009142340492611277,
          0.009542064083098408,
          0.009950050729925696,
          0.010365724637628497,
          0.010788453317571571,
          0.011217548442038367,
          0.011652267127120128,
          0.012091813651052156,
          0.012535341610566665,
          0.01298195651358132,
          0.013430718802163257,
          0.013880647295256883,
          0.014330723036189546,
          0.01477989352553922,
          0.015227077315605247,
          0.015671168938541237,
          0.016111044136234032,
          0.016545565356305955,
          0.01697358747522701,
          0.017393963706508093,
          0.01780555164933883,
          0.01820721943088348,
          0.018597851893786974,
          0.018976356779297862,
          0.019341670855805813,
          0.019692765942535686,
          0.020028654778640003,
          0.02034839668898659,
          0.020651102999539046,
          0.020935942157357234,
          0.02120214451287709,
          0.02144900672522989,
          0.02167589575490237,
          0.02188225241195701,
          0.02206759443229756,
          0.022231519059007453,
          0.022373705110561228,
          0.02249391452263947,
          0.022591993355317485,
          0.022667872262466304,
          0.022721566425256103,
          0.02275317495660711,
          0.02276287978824604,
          0.022750944056631958,
          0.022717710008359576,
          0.02266359644968944,
          0.022589095768542386,
          0.022494770560594336,
          0.022381249893988375,
          0.022249225249616755,
          0.022099446175898218,
          0.02193271569847382,
          0.021749885526271034,
          0.021551851095926187,
          0.021339546496645972,
          0.02111393931721187,
          0.02087602545603864,
          0.020626823933997503,
          0.020367371748139282,
          0.020098718802547426,
          0.01982192295033654,
          0.01953804517834929,
          0.019248144963414718,
          0.01895327582617746,
          0.018654481105514837,
          0.018352789973485183,
          0.018049213707630195,
          0.01774474223432663,
          0.01744034095379382,
          0.017136947854334925,
          0.0168354709204714,
          0.01653678583683351,
          0.01624173398703232,
          0.015951120744274825,
          0.015665714048215033,
          0.015386243260469671,
          0.01511339828937914,
          0.014847828972970123,
          0.014590144707671898,
          0.014340914309158301,
          0.014100666090727843,
          0.013869888143877549,
          0.013649028805182196,
          0.013438497293226445,
          0.013238664499153261,
          0.013049863914377569,
          0.012872392679132568,
          0.012706512735781326,
          0.012552452071196655,
          0.012410406032989018,
          0.012280538704921684,
          0.012162984327481106,
          0.012057848750259132,
          0.011965210903532886,
          0.011885124277193463,
          0.011817618395959127,
          0.01176270028060696,
          0.011720355885764868,
          0.01169055150560769,
          0.01167323513959861,
          0.011668337811208945,
          0.011675774833320943,
          0.011695447014779299,
          0.011727241803301931,
          0.01177103436068276,
          0.01182668856692827,
          0.011894057950658237,
          0.01197298654377126,
          0.012063309659027107,
          0.012164854589833357,
          0.012277441232136409,
          0.012400882628914213,
          0.012534985438345603,
          0.012679550327280591,
          0.012834372292175048,
          0.012999240910155026,
          0.013173940523359629,
          0.013358250360160735,
          0.013551944597281726,
          0.013754792367214235,
          0.013966557715686445,
          0.014186999514237398,
          0.014415871333215412,
          0.01465292128073544,
          0.01489789181329609,
          0.015150519523876303,
          0.015410534913394782,
          0.015677662151428864,
          0.015951618832051075,
          0.016232115730544817,
          0.016518856566620856,
          0.0168115377795584,
          0.017109848320456245,
          0.01741346946649192,
          0.01772207466176279,
          0.018035329388917026,
          0.01835289107539502,
          0.01867440903767468,
          0.01899952446647813,
          0.019327870455439725,
          0.019659072075271265,
          0.01999274649499043,
          0.020328503151314535,
          0.020665943966864993,
          0.021004663617381195,
          0.02134424984772242,
          0.021684283836030785,
          0.02202434060505531,
          0.022363989479297398,
          0.022702794586321184,
          0.023040315400306058,
          0.023376107325679688,
          0.023709722318470326,
          0.024040709542858484,
          0.024368616060290796,
          0.024692987548426564,
          0.025013369047140598,
          0.025329305728791177,
          0.025640343689965796,
          0.02594603076196451,
          0.026245917337332576,
          0.026539557209835512,
          0.02682650842536752,
          0.027106334141380372,
          0.027378603492531354,
          0.02764289246036177,
          0.027898784744921835,
          0.02814587263635702,
          0.028383757884569757,
          0.02861205256513429,
          0.028830379939715774,
          0.029038375309271478,
          0.02923568685834854,
          0.02942197648876991,
          0.029596920640991408,
          0.029760211101352144,
          0.029911555793372943,
          0.030050679551157124,
          0.030177324872839976,
          0.030291252651890494,
          0.03039224288393123,
          0.03048009534656911,
          0.030554630249575027,
          0.030615688852567602,
          0.030663134047192855,
          0.030696850900625915,
          0.030716747157068656,
          0.030722753693782554,
          0.030714824928083962,
          0.030692939171643577,
          0.030657098928382937,
          0.030607331132241157,
          0.030543687321122896,
          0.030466243743400172,
          0.03037510139348103,
          0.030270385973115946,
          0.03015224777535654,
          0.03002086148836341,
          0.02987642591659129,
          0.029719163617284747,
          0.029549320450659358,
          0.02936716504263499,
          0.029172988159536666,
          0.028967101994758274,
          0.02874983936800164,
          0.02852155283834733,
          0.028282613733099284,
          0.028033411095005546,
          0.02777435055116644,
          0.027505853107623993,
          0.02722835387429998,
          0.02694230072561072,
          0.026648152902711695,
          0.02634637956392196,
          0.02603745829041096,
          0.02572187355473447,
          0.02540011516023208,
          0.02507267665965552,
          0.02474005376170459,
          0.024402742734342474,
          0.0240612388139164,
          0.023716034629146295,
          0.023367618649019033,
          0.023016473663510947,
          0.022663075305861192,
          0.02230789062483765,
          0.021951376715086207,
          0.021593979413216818,
          0.021236132066795442,
          0.020878254382830485,
          0.02052075136175268,
          0.02016401232220184,
          0.01980841002124054,
          0.01945429987387694,
          0.019102019275011668,
          0.01875188702615033,
          0.018404202868427793,
          0.018059247122711848,
          0.017717280436761403,
          0.017378543638650743,
          0.017043257694928083,
          0.016711623771246888,
          0.01638382339252835,
          0.01606001869906291,
          0.015740352794344974,
          0.015424950179883122,
          0.015113917271710528,
          0.014807342992859953,
          0.014505299435670636,
          0.014207842587436752,
          0.013915013112620602,
          0.013626837184617732,
          0.01334332735988752,
          0.01306448348713815,
          0.012790293644202685,
          0.012520735095226502,
          0.012255775260846561,
          0.011995372694136325,
          0.011739478055254611,
          0.011488035077931958,
          0.01124098152118908,
          0.010998250099975468,
          0.010759769388757326,
          0.0105254646924695,
          0.010295258879659284,
          0.01006907317310627,
          0.009846827893683971,
          0.009628443153739489,
          0.009413839496797813,
          0.009202938480952494,
          0.00899566320386529,
          0.008791938767875204,
          0.008591692684295054,
          0.008394855216552404,
          0.008201359662405155,
          0.008011142576023086,
          0.00782414393127337,
          0.007640307228069772,
          0.0074595795441441985,
          0.007281911535061453,
          0.0071072573857279995,
          0.006935574717030163,
          0.006766824451577607,
          0.006600970642819546,
          0.006437980272038621,
          0.006277823017911026,
          0.0061204710034461415,
          0.00596589852518686,
          0.005814081769559007,
          0.005664998521207481,
          0.00551862786804852,
          0.0053749499076014605,
          0.005233945458946369,
          0.005095595784382988,
          0.004959882324555562,
          0.004826786450448255,
          0.004696289235266025,
          0.004568371248792692,
          0.004443012376372444,
          0.004320191664195249,
          0.004199887192096144,
          0.004082075974596195,
          0.003966733890442868,
          0.0038538356404405508,
          0.0037433547329174463,
          0.003635263495749937,
          0.0035295331134730344,
          0.0034261336876447897,
          0.0033250343183147805,
          0.003226203204169424,
          0.0031296077586995446,
          0.0030352147395554664,
          0.002942990388129646,
          0.0028529005763295026,
          0.002764910957482947,
          0.0026789871183471453,
          0.0025950947292701985,
          0.0025131996896829495,
          0.0024332682662685096,
          0.002355267221368285,
          0.0022791639294317853,
          0.0022049264795939204,
          0.002132523762769839,
          0.002061925541977723,
          0.0019931025049401817,
          0.0019260262983581888,
          0.0018606695435986933,
          0.0017970058338786848,
          0.0017350097133621053,
          0.0016746566389011083,
          0.0016159229254496005,
          0.0015587856764484418,
          0.0015032227007221646,
          0.001449212417636491,
          0.0013967337524395072,
          0.0013457660238442172,
          0.001296288826008089,
          0.0012482819071219465,
          0.0012017250468380615,
          0.0011565979347468152,
          0.0011128800520518501,
          0.0010705505585005752,
          0.0010295881864991626,
          0.0009899711441853582,
          0.0009516770290489867,
          0.0009146827534852819,
          0.0008789644834424858,
          0.0008444975910878548,
          0.0008112566221699381,
          0.0007792152785026011,
          0.0007483464157449981,
          0.0007186220564026929,
          0.0006900134177350906,
          0.0006624909540254849,
          0.0006360244124565382,
          0.0006105829016388097,
          0.0005861349716658004,
          0.0005626487044178012,
          0.0005400918127111147,
          0.000518431746788945,
          0.000497635806577904,
          0.00047767125808784427,
          0.00045850545231436695,
          0.0004401059450108926,
          0.0004224406157298611,
          0.0004054777845892439,
          0.0003891863252987728,
          0.0003735357730785234,
          0.0003584964262178767,
          0.00034403944015295345
         ],
         "yaxis": "y"
        },
        {
         "legendgroup": "popularity",
         "marker": {
          "color": "#c47b3c",
          "symbol": "line-ns-open"
         },
         "mode": "markers",
         "name": "popularity",
         "showlegend": false,
         "type": "scatter",
         "x": [
          73,
          55,
          57,
          71,
          82,
          58,
          74,
          80,
          74,
          56,
          74,
          69,
          52,
          62,
          56,
          58,
          56,
          54,
          68,
          67,
          75,
          63,
          70,
          0,
          0,
          1,
          0,
          0,
          0,
          0,
          0,
          0,
          0,
          0,
          0,
          0,
          0,
          0,
          0,
          0,
          0,
          0,
          0,
          0,
          0,
          0,
          0,
          0,
          0,
          0,
          46,
          61,
          60,
          68,
          52,
          62,
          51,
          0,
          67,
          57,
          75,
          62,
          66,
          64,
          62,
          58,
          65,
          67,
          65,
          44,
          55,
          70,
          57,
          56,
          56,
          67,
          62,
          45,
          64,
          65,
          0,
          0,
          68,
          0,
          0,
          61,
          70,
          0,
          0,
          62,
          0,
          0,
          0,
          0,
          0,
          0,
          0,
          0,
          0,
          0,
          58,
          50,
          59,
          57,
          60,
          61,
          49,
          55,
          51,
          46,
          57,
          58,
          51,
          63,
          53,
          60,
          47,
          60,
          66,
          67,
          43,
          54,
          60,
          49,
          57,
          42,
          67,
          61,
          71,
          49,
          61,
          61,
          20,
          22,
          35,
          60,
          59,
          73,
          22,
          19,
          24,
          57,
          35,
          20,
          18,
          19,
          23,
          19,
          18,
          65,
          55,
          47,
          56,
          53,
          49,
          51,
          53,
          66,
          56,
          47,
          51,
          55,
          60,
          40,
          58,
          55,
          50,
          52,
          54,
          73,
          38,
          53,
          55,
          41,
          46,
          63,
          66,
          54,
          62,
          57,
          68,
          62,
          53,
          44,
          57,
          52,
          53,
          53,
          55,
          66,
          49,
          60,
          38,
          67,
          57,
          60,
          64,
          0,
          0,
          0,
          61,
          50,
          47,
          58,
          30,
          52,
          55,
          67,
          45,
          56,
          37,
          54,
          66,
          63,
          58,
          55,
          65,
          69,
          44,
          39,
          54,
          44,
          70,
          64,
          40,
          47,
          40,
          55,
          57,
          48,
          54,
          53,
          60,
          54,
          62,
          51,
          61,
          51,
          63,
          65,
          64,
          57,
          54,
          37,
          63,
          53,
          0,
          36,
          0,
          0,
          55,
          57,
          54,
          44,
          51,
          42,
          47,
          54,
          73,
          56,
          56,
          59,
          57,
          56,
          57,
          51,
          48,
          52,
          54,
          55,
          41,
          49,
          37,
          52,
          58,
          48,
          56,
          46,
          55,
          54,
          57,
          49,
          55,
          51,
          39,
          60,
          60,
          53,
          64,
          34,
          50,
          65,
          56,
          57,
          43,
          64,
          58,
          64,
          35,
          36,
          54,
          43,
          49,
          55,
          54,
          55,
          39,
          51,
          52,
          56,
          48,
          41,
          40,
          57,
          53,
          30,
          49,
          26,
          53,
          52,
          51,
          35,
          54,
          50,
          53,
          48,
          49,
          35,
          60,
          65,
          52,
          57,
          59,
          50,
          49,
          54,
          52,
          46,
          62,
          32,
          33,
          58,
          57,
          34,
          55,
          33,
          33,
          0,
          0,
          0,
          52,
          21,
          50,
          55,
          46,
          56,
          40,
          21,
          55,
          50,
          41,
          44,
          57,
          33,
          56,
          32,
          35,
          55,
          33,
          46,
          38,
          65,
          60,
          54,
          37,
          34,
          55,
          51,
          48,
          34,
          51,
          54,
          32,
          54,
          61,
          55,
          55,
          34,
          33,
          45,
          33,
          34,
          34,
          49,
          33,
          62,
          33,
          31,
          32,
          32,
          54,
          50,
          58,
          49,
          52,
          49,
          53,
          54,
          50,
          57,
          53,
          57,
          49,
          52,
          51,
          46,
          41,
          57,
          50,
          42,
          47,
          55,
          56,
          49,
          50,
          56,
          52,
          50,
          53,
          33,
          54,
          50,
          54,
          55,
          32,
          33,
          50,
          56,
          63,
          48,
          54,
          31,
          31,
          60,
          67,
          33,
          32,
          31,
          0,
          31,
          45,
          56,
          45,
          42,
          46,
          50,
          45,
          56,
          43,
          39,
          53,
          45,
          32,
          53,
          54,
          51,
          55,
          33,
          55,
          46,
          30,
          46,
          60,
          51,
          47,
          60,
          51,
          60,
          52,
          54,
          52,
          51,
          30,
          30,
          62,
          64,
          57,
          31,
          71,
          31,
          30,
          30,
          30,
          30,
          30,
          59,
          30,
          30,
          63,
          30,
          44,
          54,
          28,
          47,
          41,
          43,
          65,
          53,
          47,
          55,
          45,
          69,
          37,
          34,
          53,
          31,
          31,
          47,
          45,
          51,
          51,
          31,
          48,
          48,
          51,
          55,
          32,
          54,
          60,
          47,
          29,
          51,
          41,
          48,
          61,
          60,
          45,
          58,
          29,
          57,
          29,
          49,
          30,
          30,
          31,
          29,
          59,
          30,
          30,
          29,
          55,
          49,
          50,
          55,
          49,
          32,
          53,
          46,
          23,
          41,
          49,
          59,
          43,
          31,
          46,
          50,
          41,
          48,
          36,
          44,
          56,
          29,
          52,
          31,
          47,
          56,
          37,
          24,
          23,
          28,
          51,
          51,
          51,
          50,
          31,
          30,
          31,
          29,
          61,
          28,
          55,
          29,
          30,
          29,
          30,
          29,
          29,
          30,
          29,
          28,
          42,
          49,
          53,
          50,
          52,
          36,
          49,
          40,
          51,
          41,
          55,
          52,
          51,
          49,
          54,
          46,
          45,
          30,
          53,
          48,
          52,
          51,
          59,
          53,
          47,
          28,
          30,
          29,
          48,
          52,
          28,
          51,
          53,
          52,
          42,
          29,
          29,
          60,
          51,
          28,
          27,
          28,
          58,
          54,
          28,
          29,
          28,
          28,
          28,
          28,
          52,
          46,
          47,
          39,
          50,
          43,
          30,
          53,
          51,
          31,
          29,
          43,
          55,
          50,
          30,
          46,
          46,
          52,
          44,
          51,
          53,
          47,
          48,
          56,
          48,
          47,
          29,
          28,
          28,
          67,
          29,
          56,
          54,
          25,
          49,
          28,
          28,
          29,
          53,
          28,
          28,
          28,
          28,
          28,
          28,
          28,
          29,
          0,
          0,
          0,
          32,
          35,
          49,
          52,
          31,
          28,
          48,
          48,
          41,
          47,
          28,
          60,
          47,
          30,
          49,
          51,
          50,
          28,
          51,
          45,
          54,
          54,
          57,
          27,
          57,
          55,
          30,
          27,
          41,
          28,
          57,
          51,
          27,
          27,
          58,
          27,
          27,
          27,
          28,
          27,
          28,
          30,
          28,
          28,
          28,
          27,
          27,
          27,
          28,
          27,
          65,
          49,
          52,
          39,
          38,
          45,
          41,
          49,
          28,
          51,
          35,
          54,
          48,
          60,
          57,
          45,
          34,
          40,
          46,
          42,
          36,
          16,
          46,
          26,
          52,
          26,
          50,
          60,
          50,
          61,
          26,
          27,
          28,
          55,
          45,
          26,
          28,
          48,
          27,
          27,
          26,
          28,
          28,
          28,
          29,
          27,
          28,
          27,
          60,
          28,
          48,
          43,
          54,
          49,
          45,
          27,
          52,
          41,
          51,
          48,
          52,
          39,
          27,
          41,
          43,
          45,
          27,
          41,
          33,
          47,
          48,
          44,
          64,
          49,
          49,
          45,
          26,
          47,
          27,
          26,
          48,
          59,
          26,
          53,
          26,
          26,
          26,
          48,
          61,
          27,
          26,
          50,
          26,
          27,
          26,
          26,
          49,
          27,
          27,
          26,
          47,
          33,
          57,
          44,
          58,
          48,
          39,
          45,
          49,
          44,
          44,
          51,
          41,
          58,
          54,
          41,
          46,
          26,
          56,
          27,
          46,
          26,
          27,
          52,
          26,
          55,
          26,
          51,
          51,
          49,
          47,
          58,
          27,
          58,
          26,
          27,
          26,
          27,
          27,
          26,
          58,
          27,
          27,
          26,
          26,
          27,
          26,
          29,
          26,
          26,
          42,
          51,
          53,
          66,
          51,
          40,
          38,
          43,
          44,
          47,
          27,
          52,
          43,
          56,
          48,
          43,
          33,
          25,
          47,
          39,
          47,
          50,
          27,
          47,
          26,
          51,
          26,
          37,
          25,
          45,
          25,
          26,
          44,
          27,
          25,
          24,
          27,
          25,
          27,
          27,
          25,
          27,
          28,
          26,
          25,
          26,
          27,
          26,
          25,
          25,
          50,
          43,
          46,
          34,
          35,
          26,
          45,
          40,
          51,
          47,
          46,
          45,
          55,
          26,
          48,
          26,
          45,
          27,
          54,
          37,
          50,
          27,
          52,
          51,
          25,
          26,
          26,
          38,
          25,
          47,
          25,
          26,
          25,
          25,
          26,
          25,
          25,
          26,
          26,
          25,
          25,
          25,
          26,
          26,
          26,
          26,
          29,
          26,
          26,
          25
         ],
         "xaxis": "x",
         "y": [
          "popularity",
          "popularity",
          "popularity",
          "popularity",
          "popularity",
          "popularity",
          "popularity",
          "popularity",
          "popularity",
          "popularity",
          "popularity",
          "popularity",
          "popularity",
          "popularity",
          "popularity",
          "popularity",
          "popularity",
          "popularity",
          "popularity",
          "popularity",
          "popularity",
          "popularity",
          "popularity",
          "popularity",
          "popularity",
          "popularity",
          "popularity",
          "popularity",
          "popularity",
          "popularity",
          "popularity",
          "popularity",
          "popularity",
          "popularity",
          "popularity",
          "popularity",
          "popularity",
          "popularity",
          "popularity",
          "popularity",
          "popularity",
          "popularity",
          "popularity",
          "popularity",
          "popularity",
          "popularity",
          "popularity",
          "popularity",
          "popularity",
          "popularity",
          "popularity",
          "popularity",
          "popularity",
          "popularity",
          "popularity",
          "popularity",
          "popularity",
          "popularity",
          "popularity",
          "popularity",
          "popularity",
          "popularity",
          "popularity",
          "popularity",
          "popularity",
          "popularity",
          "popularity",
          "popularity",
          "popularity",
          "popularity",
          "popularity",
          "popularity",
          "popularity",
          "popularity",
          "popularity",
          "popularity",
          "popularity",
          "popularity",
          "popularity",
          "popularity",
          "popularity",
          "popularity",
          "popularity",
          "popularity",
          "popularity",
          "popularity",
          "popularity",
          "popularity",
          "popularity",
          "popularity",
          "popularity",
          "popularity",
          "popularity",
          "popularity",
          "popularity",
          "popularity",
          "popularity",
          "popularity",
          "popularity",
          "popularity",
          "popularity",
          "popularity",
          "popularity",
          "popularity",
          "popularity",
          "popularity",
          "popularity",
          "popularity",
          "popularity",
          "popularity",
          "popularity",
          "popularity",
          "popularity",
          "popularity",
          "popularity",
          "popularity",
          "popularity",
          "popularity",
          "popularity",
          "popularity",
          "popularity",
          "popularity",
          "popularity",
          "popularity",
          "popularity",
          "popularity",
          "popularity",
          "popularity",
          "popularity",
          "popularity",
          "popularity",
          "popularity",
          "popularity",
          "popularity",
          "popularity",
          "popularity",
          "popularity",
          "popularity",
          "popularity",
          "popularity",
          "popularity",
          "popularity",
          "popularity",
          "popularity",
          "popularity",
          "popularity",
          "popularity",
          "popularity",
          "popularity",
          "popularity",
          "popularity",
          "popularity",
          "popularity",
          "popularity",
          "popularity",
          "popularity",
          "popularity",
          "popularity",
          "popularity",
          "popularity",
          "popularity",
          "popularity",
          "popularity",
          "popularity",
          "popularity",
          "popularity",
          "popularity",
          "popularity",
          "popularity",
          "popularity",
          "popularity",
          "popularity",
          "popularity",
          "popularity",
          "popularity",
          "popularity",
          "popularity",
          "popularity",
          "popularity",
          "popularity",
          "popularity",
          "popularity",
          "popularity",
          "popularity",
          "popularity",
          "popularity",
          "popularity",
          "popularity",
          "popularity",
          "popularity",
          "popularity",
          "popularity",
          "popularity",
          "popularity",
          "popularity",
          "popularity",
          "popularity",
          "popularity",
          "popularity",
          "popularity",
          "popularity",
          "popularity",
          "popularity",
          "popularity",
          "popularity",
          "popularity",
          "popularity",
          "popularity",
          "popularity",
          "popularity",
          "popularity",
          "popularity",
          "popularity",
          "popularity",
          "popularity",
          "popularity",
          "popularity",
          "popularity",
          "popularity",
          "popularity",
          "popularity",
          "popularity",
          "popularity",
          "popularity",
          "popularity",
          "popularity",
          "popularity",
          "popularity",
          "popularity",
          "popularity",
          "popularity",
          "popularity",
          "popularity",
          "popularity",
          "popularity",
          "popularity",
          "popularity",
          "popularity",
          "popularity",
          "popularity",
          "popularity",
          "popularity",
          "popularity",
          "popularity",
          "popularity",
          "popularity",
          "popularity",
          "popularity",
          "popularity",
          "popularity",
          "popularity",
          "popularity",
          "popularity",
          "popularity",
          "popularity",
          "popularity",
          "popularity",
          "popularity",
          "popularity",
          "popularity",
          "popularity",
          "popularity",
          "popularity",
          "popularity",
          "popularity",
          "popularity",
          "popularity",
          "popularity",
          "popularity",
          "popularity",
          "popularity",
          "popularity",
          "popularity",
          "popularity",
          "popularity",
          "popularity",
          "popularity",
          "popularity",
          "popularity",
          "popularity",
          "popularity",
          "popularity",
          "popularity",
          "popularity",
          "popularity",
          "popularity",
          "popularity",
          "popularity",
          "popularity",
          "popularity",
          "popularity",
          "popularity",
          "popularity",
          "popularity",
          "popularity",
          "popularity",
          "popularity",
          "popularity",
          "popularity",
          "popularity",
          "popularity",
          "popularity",
          "popularity",
          "popularity",
          "popularity",
          "popularity",
          "popularity",
          "popularity",
          "popularity",
          "popularity",
          "popularity",
          "popularity",
          "popularity",
          "popularity",
          "popularity",
          "popularity",
          "popularity",
          "popularity",
          "popularity",
          "popularity",
          "popularity",
          "popularity",
          "popularity",
          "popularity",
          "popularity",
          "popularity",
          "popularity",
          "popularity",
          "popularity",
          "popularity",
          "popularity",
          "popularity",
          "popularity",
          "popularity",
          "popularity",
          "popularity",
          "popularity",
          "popularity",
          "popularity",
          "popularity",
          "popularity",
          "popularity",
          "popularity",
          "popularity",
          "popularity",
          "popularity",
          "popularity",
          "popularity",
          "popularity",
          "popularity",
          "popularity",
          "popularity",
          "popularity",
          "popularity",
          "popularity",
          "popularity",
          "popularity",
          "popularity",
          "popularity",
          "popularity",
          "popularity",
          "popularity",
          "popularity",
          "popularity",
          "popularity",
          "popularity",
          "popularity",
          "popularity",
          "popularity",
          "popularity",
          "popularity",
          "popularity",
          "popularity",
          "popularity",
          "popularity",
          "popularity",
          "popularity",
          "popularity",
          "popularity",
          "popularity",
          "popularity",
          "popularity",
          "popularity",
          "popularity",
          "popularity",
          "popularity",
          "popularity",
          "popularity",
          "popularity",
          "popularity",
          "popularity",
          "popularity",
          "popularity",
          "popularity",
          "popularity",
          "popularity",
          "popularity",
          "popularity",
          "popularity",
          "popularity",
          "popularity",
          "popularity",
          "popularity",
          "popularity",
          "popularity",
          "popularity",
          "popularity",
          "popularity",
          "popularity",
          "popularity",
          "popularity",
          "popularity",
          "popularity",
          "popularity",
          "popularity",
          "popularity",
          "popularity",
          "popularity",
          "popularity",
          "popularity",
          "popularity",
          "popularity",
          "popularity",
          "popularity",
          "popularity",
          "popularity",
          "popularity",
          "popularity",
          "popularity",
          "popularity",
          "popularity",
          "popularity",
          "popularity",
          "popularity",
          "popularity",
          "popularity",
          "popularity",
          "popularity",
          "popularity",
          "popularity",
          "popularity",
          "popularity",
          "popularity",
          "popularity",
          "popularity",
          "popularity",
          "popularity",
          "popularity",
          "popularity",
          "popularity",
          "popularity",
          "popularity",
          "popularity",
          "popularity",
          "popularity",
          "popularity",
          "popularity",
          "popularity",
          "popularity",
          "popularity",
          "popularity",
          "popularity",
          "popularity",
          "popularity",
          "popularity",
          "popularity",
          "popularity",
          "popularity",
          "popularity",
          "popularity",
          "popularity",
          "popularity",
          "popularity",
          "popularity",
          "popularity",
          "popularity",
          "popularity",
          "popularity",
          "popularity",
          "popularity",
          "popularity",
          "popularity",
          "popularity",
          "popularity",
          "popularity",
          "popularity",
          "popularity",
          "popularity",
          "popularity",
          "popularity",
          "popularity",
          "popularity",
          "popularity",
          "popularity",
          "popularity",
          "popularity",
          "popularity",
          "popularity",
          "popularity",
          "popularity",
          "popularity",
          "popularity",
          "popularity",
          "popularity",
          "popularity",
          "popularity",
          "popularity",
          "popularity",
          "popularity",
          "popularity",
          "popularity",
          "popularity",
          "popularity",
          "popularity",
          "popularity",
          "popularity",
          "popularity",
          "popularity",
          "popularity",
          "popularity",
          "popularity",
          "popularity",
          "popularity",
          "popularity",
          "popularity",
          "popularity",
          "popularity",
          "popularity",
          "popularity",
          "popularity",
          "popularity",
          "popularity",
          "popularity",
          "popularity",
          "popularity",
          "popularity",
          "popularity",
          "popularity",
          "popularity",
          "popularity",
          "popularity",
          "popularity",
          "popularity",
          "popularity",
          "popularity",
          "popularity",
          "popularity",
          "popularity",
          "popularity",
          "popularity",
          "popularity",
          "popularity",
          "popularity",
          "popularity",
          "popularity",
          "popularity",
          "popularity",
          "popularity",
          "popularity",
          "popularity",
          "popularity",
          "popularity",
          "popularity",
          "popularity",
          "popularity",
          "popularity",
          "popularity",
          "popularity",
          "popularity",
          "popularity",
          "popularity",
          "popularity",
          "popularity",
          "popularity",
          "popularity",
          "popularity",
          "popularity",
          "popularity",
          "popularity",
          "popularity",
          "popularity",
          "popularity",
          "popularity",
          "popularity",
          "popularity",
          "popularity",
          "popularity",
          "popularity",
          "popularity",
          "popularity",
          "popularity",
          "popularity",
          "popularity",
          "popularity",
          "popularity",
          "popularity",
          "popularity",
          "popularity",
          "popularity",
          "popularity",
          "popularity",
          "popularity",
          "popularity",
          "popularity",
          "popularity",
          "popularity",
          "popularity",
          "popularity",
          "popularity",
          "popularity",
          "popularity",
          "popularity",
          "popularity",
          "popularity",
          "popularity",
          "popularity",
          "popularity",
          "popularity",
          "popularity",
          "popularity",
          "popularity",
          "popularity",
          "popularity",
          "popularity",
          "popularity",
          "popularity",
          "popularity",
          "popularity",
          "popularity",
          "popularity",
          "popularity",
          "popularity",
          "popularity",
          "popularity",
          "popularity",
          "popularity",
          "popularity",
          "popularity",
          "popularity",
          "popularity",
          "popularity",
          "popularity",
          "popularity",
          "popularity",
          "popularity",
          "popularity",
          "popularity",
          "popularity",
          "popularity",
          "popularity",
          "popularity",
          "popularity",
          "popularity",
          "popularity",
          "popularity",
          "popularity",
          "popularity",
          "popularity",
          "popularity",
          "popularity",
          "popularity",
          "popularity",
          "popularity",
          "popularity",
          "popularity",
          "popularity",
          "popularity",
          "popularity",
          "popularity",
          "popularity",
          "popularity",
          "popularity",
          "popularity",
          "popularity",
          "popularity",
          "popularity",
          "popularity",
          "popularity",
          "popularity",
          "popularity",
          "popularity",
          "popularity",
          "popularity",
          "popularity",
          "popularity",
          "popularity",
          "popularity",
          "popularity",
          "popularity",
          "popularity",
          "popularity",
          "popularity",
          "popularity",
          "popularity",
          "popularity",
          "popularity",
          "popularity",
          "popularity",
          "popularity",
          "popularity",
          "popularity",
          "popularity",
          "popularity",
          "popularity",
          "popularity",
          "popularity",
          "popularity",
          "popularity",
          "popularity",
          "popularity",
          "popularity",
          "popularity",
          "popularity",
          "popularity",
          "popularity",
          "popularity",
          "popularity",
          "popularity",
          "popularity",
          "popularity",
          "popularity",
          "popularity",
          "popularity",
          "popularity",
          "popularity",
          "popularity",
          "popularity",
          "popularity",
          "popularity",
          "popularity",
          "popularity",
          "popularity",
          "popularity",
          "popularity",
          "popularity",
          "popularity",
          "popularity",
          "popularity",
          "popularity",
          "popularity",
          "popularity",
          "popularity",
          "popularity",
          "popularity",
          "popularity",
          "popularity",
          "popularity",
          "popularity",
          "popularity",
          "popularity",
          "popularity",
          "popularity",
          "popularity",
          "popularity",
          "popularity",
          "popularity",
          "popularity",
          "popularity",
          "popularity",
          "popularity",
          "popularity",
          "popularity",
          "popularity",
          "popularity",
          "popularity",
          "popularity",
          "popularity",
          "popularity",
          "popularity",
          "popularity",
          "popularity",
          "popularity",
          "popularity",
          "popularity",
          "popularity",
          "popularity",
          "popularity",
          "popularity",
          "popularity",
          "popularity",
          "popularity",
          "popularity",
          "popularity",
          "popularity",
          "popularity",
          "popularity",
          "popularity",
          "popularity",
          "popularity",
          "popularity",
          "popularity",
          "popularity",
          "popularity",
          "popularity",
          "popularity",
          "popularity",
          "popularity",
          "popularity",
          "popularity",
          "popularity",
          "popularity",
          "popularity",
          "popularity",
          "popularity",
          "popularity",
          "popularity",
          "popularity",
          "popularity",
          "popularity",
          "popularity",
          "popularity",
          "popularity",
          "popularity",
          "popularity",
          "popularity",
          "popularity",
          "popularity",
          "popularity",
          "popularity",
          "popularity",
          "popularity",
          "popularity",
          "popularity",
          "popularity",
          "popularity",
          "popularity",
          "popularity",
          "popularity",
          "popularity",
          "popularity",
          "popularity",
          "popularity",
          "popularity",
          "popularity",
          "popularity",
          "popularity",
          "popularity",
          "popularity",
          "popularity",
          "popularity",
          "popularity",
          "popularity",
          "popularity",
          "popularity",
          "popularity",
          "popularity",
          "popularity",
          "popularity",
          "popularity",
          "popularity",
          "popularity",
          "popularity",
          "popularity",
          "popularity",
          "popularity",
          "popularity",
          "popularity",
          "popularity",
          "popularity",
          "popularity",
          "popularity",
          "popularity",
          "popularity",
          "popularity",
          "popularity",
          "popularity",
          "popularity",
          "popularity",
          "popularity",
          "popularity",
          "popularity",
          "popularity",
          "popularity",
          "popularity",
          "popularity",
          "popularity",
          "popularity",
          "popularity",
          "popularity",
          "popularity",
          "popularity",
          "popularity",
          "popularity",
          "popularity",
          "popularity",
          "popularity",
          "popularity",
          "popularity",
          "popularity",
          "popularity",
          "popularity",
          "popularity",
          "popularity",
          "popularity",
          "popularity",
          "popularity",
          "popularity",
          "popularity",
          "popularity",
          "popularity",
          "popularity",
          "popularity",
          "popularity",
          "popularity",
          "popularity",
          "popularity",
          "popularity",
          "popularity",
          "popularity",
          "popularity",
          "popularity",
          "popularity",
          "popularity",
          "popularity",
          "popularity",
          "popularity",
          "popularity",
          "popularity",
          "popularity",
          "popularity",
          "popularity",
          "popularity",
          "popularity",
          "popularity",
          "popularity",
          "popularity",
          "popularity",
          "popularity",
          "popularity",
          "popularity",
          "popularity",
          "popularity",
          "popularity",
          "popularity",
          "popularity",
          "popularity",
          "popularity",
          "popularity",
          "popularity",
          "popularity",
          "popularity",
          "popularity",
          "popularity",
          "popularity",
          "popularity",
          "popularity",
          "popularity",
          "popularity",
          "popularity",
          "popularity",
          "popularity",
          "popularity",
          "popularity",
          "popularity",
          "popularity",
          "popularity",
          "popularity",
          "popularity",
          "popularity",
          "popularity",
          "popularity",
          "popularity",
          "popularity",
          "popularity",
          "popularity",
          "popularity",
          "popularity",
          "popularity",
          "popularity",
          "popularity",
          "popularity",
          "popularity",
          "popularity",
          "popularity",
          "popularity",
          "popularity",
          "popularity",
          "popularity",
          "popularity",
          "popularity",
          "popularity",
          "popularity",
          "popularity",
          "popularity",
          "popularity",
          "popularity",
          "popularity",
          "popularity",
          "popularity",
          "popularity",
          "popularity",
          "popularity",
          "popularity",
          "popularity",
          "popularity",
          "popularity",
          "popularity",
          "popularity",
          "popularity",
          "popularity"
         ],
         "yaxis": "y2"
        }
       ],
       "layout": {
        "bargap": 0.01,
        "barmode": "overlay",
        "hovermode": "closest",
        "legend": {
         "traceorder": "reversed"
        },
        "template": {
         "data": {
          "bar": [
           {
            "error_x": {
             "color": "#2a3f5f"
            },
            "error_y": {
             "color": "#2a3f5f"
            },
            "marker": {
             "line": {
              "color": "#E5ECF6",
              "width": 0.5
             },
             "pattern": {
              "fillmode": "overlay",
              "size": 10,
              "solidity": 0.2
             }
            },
            "type": "bar"
           }
          ],
          "barpolar": [
           {
            "marker": {
             "line": {
              "color": "#E5ECF6",
              "width": 0.5
             },
             "pattern": {
              "fillmode": "overlay",
              "size": 10,
              "solidity": 0.2
             }
            },
            "type": "barpolar"
           }
          ],
          "carpet": [
           {
            "aaxis": {
             "endlinecolor": "#2a3f5f",
             "gridcolor": "white",
             "linecolor": "white",
             "minorgridcolor": "white",
             "startlinecolor": "#2a3f5f"
            },
            "baxis": {
             "endlinecolor": "#2a3f5f",
             "gridcolor": "white",
             "linecolor": "white",
             "minorgridcolor": "white",
             "startlinecolor": "#2a3f5f"
            },
            "type": "carpet"
           }
          ],
          "choropleth": [
           {
            "colorbar": {
             "outlinewidth": 0,
             "ticks": ""
            },
            "type": "choropleth"
           }
          ],
          "contour": [
           {
            "colorbar": {
             "outlinewidth": 0,
             "ticks": ""
            },
            "colorscale": [
             [
              0,
              "#0d0887"
             ],
             [
              0.1111111111111111,
              "#46039f"
             ],
             [
              0.2222222222222222,
              "#7201a8"
             ],
             [
              0.3333333333333333,
              "#9c179e"
             ],
             [
              0.4444444444444444,
              "#bd3786"
             ],
             [
              0.5555555555555556,
              "#d8576b"
             ],
             [
              0.6666666666666666,
              "#ed7953"
             ],
             [
              0.7777777777777778,
              "#fb9f3a"
             ],
             [
              0.8888888888888888,
              "#fdca26"
             ],
             [
              1,
              "#f0f921"
             ]
            ],
            "type": "contour"
           }
          ],
          "contourcarpet": [
           {
            "colorbar": {
             "outlinewidth": 0,
             "ticks": ""
            },
            "type": "contourcarpet"
           }
          ],
          "heatmap": [
           {
            "colorbar": {
             "outlinewidth": 0,
             "ticks": ""
            },
            "colorscale": [
             [
              0,
              "#0d0887"
             ],
             [
              0.1111111111111111,
              "#46039f"
             ],
             [
              0.2222222222222222,
              "#7201a8"
             ],
             [
              0.3333333333333333,
              "#9c179e"
             ],
             [
              0.4444444444444444,
              "#bd3786"
             ],
             [
              0.5555555555555556,
              "#d8576b"
             ],
             [
              0.6666666666666666,
              "#ed7953"
             ],
             [
              0.7777777777777778,
              "#fb9f3a"
             ],
             [
              0.8888888888888888,
              "#fdca26"
             ],
             [
              1,
              "#f0f921"
             ]
            ],
            "type": "heatmap"
           }
          ],
          "heatmapgl": [
           {
            "colorbar": {
             "outlinewidth": 0,
             "ticks": ""
            },
            "colorscale": [
             [
              0,
              "#0d0887"
             ],
             [
              0.1111111111111111,
              "#46039f"
             ],
             [
              0.2222222222222222,
              "#7201a8"
             ],
             [
              0.3333333333333333,
              "#9c179e"
             ],
             [
              0.4444444444444444,
              "#bd3786"
             ],
             [
              0.5555555555555556,
              "#d8576b"
             ],
             [
              0.6666666666666666,
              "#ed7953"
             ],
             [
              0.7777777777777778,
              "#fb9f3a"
             ],
             [
              0.8888888888888888,
              "#fdca26"
             ],
             [
              1,
              "#f0f921"
             ]
            ],
            "type": "heatmapgl"
           }
          ],
          "histogram": [
           {
            "marker": {
             "pattern": {
              "fillmode": "overlay",
              "size": 10,
              "solidity": 0.2
             }
            },
            "type": "histogram"
           }
          ],
          "histogram2d": [
           {
            "colorbar": {
             "outlinewidth": 0,
             "ticks": ""
            },
            "colorscale": [
             [
              0,
              "#0d0887"
             ],
             [
              0.1111111111111111,
              "#46039f"
             ],
             [
              0.2222222222222222,
              "#7201a8"
             ],
             [
              0.3333333333333333,
              "#9c179e"
             ],
             [
              0.4444444444444444,
              "#bd3786"
             ],
             [
              0.5555555555555556,
              "#d8576b"
             ],
             [
              0.6666666666666666,
              "#ed7953"
             ],
             [
              0.7777777777777778,
              "#fb9f3a"
             ],
             [
              0.8888888888888888,
              "#fdca26"
             ],
             [
              1,
              "#f0f921"
             ]
            ],
            "type": "histogram2d"
           }
          ],
          "histogram2dcontour": [
           {
            "colorbar": {
             "outlinewidth": 0,
             "ticks": ""
            },
            "colorscale": [
             [
              0,
              "#0d0887"
             ],
             [
              0.1111111111111111,
              "#46039f"
             ],
             [
              0.2222222222222222,
              "#7201a8"
             ],
             [
              0.3333333333333333,
              "#9c179e"
             ],
             [
              0.4444444444444444,
              "#bd3786"
             ],
             [
              0.5555555555555556,
              "#d8576b"
             ],
             [
              0.6666666666666666,
              "#ed7953"
             ],
             [
              0.7777777777777778,
              "#fb9f3a"
             ],
             [
              0.8888888888888888,
              "#fdca26"
             ],
             [
              1,
              "#f0f921"
             ]
            ],
            "type": "histogram2dcontour"
           }
          ],
          "mesh3d": [
           {
            "colorbar": {
             "outlinewidth": 0,
             "ticks": ""
            },
            "type": "mesh3d"
           }
          ],
          "parcoords": [
           {
            "line": {
             "colorbar": {
              "outlinewidth": 0,
              "ticks": ""
             }
            },
            "type": "parcoords"
           }
          ],
          "pie": [
           {
            "automargin": true,
            "type": "pie"
           }
          ],
          "scatter": [
           {
            "fillpattern": {
             "fillmode": "overlay",
             "size": 10,
             "solidity": 0.2
            },
            "type": "scatter"
           }
          ],
          "scatter3d": [
           {
            "line": {
             "colorbar": {
              "outlinewidth": 0,
              "ticks": ""
             }
            },
            "marker": {
             "colorbar": {
              "outlinewidth": 0,
              "ticks": ""
             }
            },
            "type": "scatter3d"
           }
          ],
          "scattercarpet": [
           {
            "marker": {
             "colorbar": {
              "outlinewidth": 0,
              "ticks": ""
             }
            },
            "type": "scattercarpet"
           }
          ],
          "scattergeo": [
           {
            "marker": {
             "colorbar": {
              "outlinewidth": 0,
              "ticks": ""
             }
            },
            "type": "scattergeo"
           }
          ],
          "scattergl": [
           {
            "marker": {
             "colorbar": {
              "outlinewidth": 0,
              "ticks": ""
             }
            },
            "type": "scattergl"
           }
          ],
          "scattermapbox": [
           {
            "marker": {
             "colorbar": {
              "outlinewidth": 0,
              "ticks": ""
             }
            },
            "type": "scattermapbox"
           }
          ],
          "scatterpolar": [
           {
            "marker": {
             "colorbar": {
              "outlinewidth": 0,
              "ticks": ""
             }
            },
            "type": "scatterpolar"
           }
          ],
          "scatterpolargl": [
           {
            "marker": {
             "colorbar": {
              "outlinewidth": 0,
              "ticks": ""
             }
            },
            "type": "scatterpolargl"
           }
          ],
          "scatterternary": [
           {
            "marker": {
             "colorbar": {
              "outlinewidth": 0,
              "ticks": ""
             }
            },
            "type": "scatterternary"
           }
          ],
          "surface": [
           {
            "colorbar": {
             "outlinewidth": 0,
             "ticks": ""
            },
            "colorscale": [
             [
              0,
              "#0d0887"
             ],
             [
              0.1111111111111111,
              "#46039f"
             ],
             [
              0.2222222222222222,
              "#7201a8"
             ],
             [
              0.3333333333333333,
              "#9c179e"
             ],
             [
              0.4444444444444444,
              "#bd3786"
             ],
             [
              0.5555555555555556,
              "#d8576b"
             ],
             [
              0.6666666666666666,
              "#ed7953"
             ],
             [
              0.7777777777777778,
              "#fb9f3a"
             ],
             [
              0.8888888888888888,
              "#fdca26"
             ],
             [
              1,
              "#f0f921"
             ]
            ],
            "type": "surface"
           }
          ],
          "table": [
           {
            "cells": {
             "fill": {
              "color": "#EBF0F8"
             },
             "line": {
              "color": "white"
             }
            },
            "header": {
             "fill": {
              "color": "#C8D4E3"
             },
             "line": {
              "color": "white"
             }
            },
            "type": "table"
           }
          ]
         },
         "layout": {
          "annotationdefaults": {
           "arrowcolor": "#2a3f5f",
           "arrowhead": 0,
           "arrowwidth": 1
          },
          "autotypenumbers": "strict",
          "coloraxis": {
           "colorbar": {
            "outlinewidth": 0,
            "ticks": ""
           }
          },
          "colorscale": {
           "diverging": [
            [
             0,
             "#8e0152"
            ],
            [
             0.1,
             "#c51b7d"
            ],
            [
             0.2,
             "#de77ae"
            ],
            [
             0.3,
             "#f1b6da"
            ],
            [
             0.4,
             "#fde0ef"
            ],
            [
             0.5,
             "#f7f7f7"
            ],
            [
             0.6,
             "#e6f5d0"
            ],
            [
             0.7,
             "#b8e186"
            ],
            [
             0.8,
             "#7fbc41"
            ],
            [
             0.9,
             "#4d9221"
            ],
            [
             1,
             "#276419"
            ]
           ],
           "sequential": [
            [
             0,
             "#0d0887"
            ],
            [
             0.1111111111111111,
             "#46039f"
            ],
            [
             0.2222222222222222,
             "#7201a8"
            ],
            [
             0.3333333333333333,
             "#9c179e"
            ],
            [
             0.4444444444444444,
             "#bd3786"
            ],
            [
             0.5555555555555556,
             "#d8576b"
            ],
            [
             0.6666666666666666,
             "#ed7953"
            ],
            [
             0.7777777777777778,
             "#fb9f3a"
            ],
            [
             0.8888888888888888,
             "#fdca26"
            ],
            [
             1,
             "#f0f921"
            ]
           ],
           "sequentialminus": [
            [
             0,
             "#0d0887"
            ],
            [
             0.1111111111111111,
             "#46039f"
            ],
            [
             0.2222222222222222,
             "#7201a8"
            ],
            [
             0.3333333333333333,
             "#9c179e"
            ],
            [
             0.4444444444444444,
             "#bd3786"
            ],
            [
             0.5555555555555556,
             "#d8576b"
            ],
            [
             0.6666666666666666,
             "#ed7953"
            ],
            [
             0.7777777777777778,
             "#fb9f3a"
            ],
            [
             0.8888888888888888,
             "#fdca26"
            ],
            [
             1,
             "#f0f921"
            ]
           ]
          },
          "colorway": [
           "#636efa",
           "#EF553B",
           "#00cc96",
           "#ab63fa",
           "#FFA15A",
           "#19d3f3",
           "#FF6692",
           "#B6E880",
           "#FF97FF",
           "#FECB52"
          ],
          "font": {
           "color": "#2a3f5f"
          },
          "geo": {
           "bgcolor": "white",
           "lakecolor": "white",
           "landcolor": "#E5ECF6",
           "showlakes": true,
           "showland": true,
           "subunitcolor": "white"
          },
          "hoverlabel": {
           "align": "left"
          },
          "hovermode": "closest",
          "mapbox": {
           "style": "light"
          },
          "paper_bgcolor": "white",
          "plot_bgcolor": "#E5ECF6",
          "polar": {
           "angularaxis": {
            "gridcolor": "white",
            "linecolor": "white",
            "ticks": ""
           },
           "bgcolor": "#E5ECF6",
           "radialaxis": {
            "gridcolor": "white",
            "linecolor": "white",
            "ticks": ""
           }
          },
          "scene": {
           "xaxis": {
            "backgroundcolor": "#E5ECF6",
            "gridcolor": "white",
            "gridwidth": 2,
            "linecolor": "white",
            "showbackground": true,
            "ticks": "",
            "zerolinecolor": "white"
           },
           "yaxis": {
            "backgroundcolor": "#E5ECF6",
            "gridcolor": "white",
            "gridwidth": 2,
            "linecolor": "white",
            "showbackground": true,
            "ticks": "",
            "zerolinecolor": "white"
           },
           "zaxis": {
            "backgroundcolor": "#E5ECF6",
            "gridcolor": "white",
            "gridwidth": 2,
            "linecolor": "white",
            "showbackground": true,
            "ticks": "",
            "zerolinecolor": "white"
           }
          },
          "shapedefaults": {
           "line": {
            "color": "#2a3f5f"
           }
          },
          "ternary": {
           "aaxis": {
            "gridcolor": "white",
            "linecolor": "white",
            "ticks": ""
           },
           "baxis": {
            "gridcolor": "white",
            "linecolor": "white",
            "ticks": ""
           },
           "bgcolor": "#E5ECF6",
           "caxis": {
            "gridcolor": "white",
            "linecolor": "white",
            "ticks": ""
           }
          },
          "title": {
           "x": 0.05
          },
          "xaxis": {
           "automargin": true,
           "gridcolor": "white",
           "linecolor": "white",
           "ticks": "",
           "title": {
            "standoff": 15
           },
           "zerolinecolor": "white",
           "zerolinewidth": 2
          },
          "yaxis": {
           "automargin": true,
           "gridcolor": "white",
           "linecolor": "white",
           "ticks": "",
           "title": {
            "standoff": 15
           },
           "zerolinecolor": "white",
           "zerolinewidth": 2
          }
         }
        },
        "title": {
         "text": "KDE plot of Popularity Distribution of Genre acoustic"
        },
        "xaxis": {
         "anchor": "y2",
         "domain": [
          0,
          1
         ],
         "range": [
          0,
          100
         ],
         "title": {
          "text": "Popularity"
         },
         "zeroline": false
        },
        "yaxis": {
         "anchor": "free",
         "domain": [
          0.35,
          1
         ],
         "position": 0,
         "title": {
          "text": "Density"
         }
        },
        "yaxis2": {
         "anchor": "x",
         "domain": [
          0,
          0.25
         ],
         "dtick": 1,
         "showticklabels": false
        }
       }
      }
     },
     "metadata": {},
     "output_type": "display_data"
    }
   ],
   "source": [
    "import plotly.figure_factory as ff\n",
    "import random\n",
    "\n",
    "spotify_data = pd.read_csv('./dataset/spotify_detail.csv')\n",
    "spotify_genres=spotify_data['track_genre'].unique()\n",
    "\n",
    "def generate_color_palette(genres):\n",
    "    color_palette = {}\n",
    "    for genre in genres:\n",
    "        # Generate a random color for each genre\n",
    "        color = \"#{:06x}\".format(random.randint(0, 0xFFFFFF))\n",
    "        color_palette[genre] = color\n",
    "    return color_palette\n",
    "\n",
    "genre_colors = generate_color_palette(spotify_genres)\n",
    "\n",
    "def pop_by_genre(genre):\n",
    "    \n",
    "    global is_interacted\n",
    "    # Filter data by selected genre\n",
    "    condition = (spotify_data['track_genre'] == genre)\n",
    "    filtered_data = spotify_data[condition]['popularity'].tolist()\n",
    "    hist_data = [filtered_data]\n",
    "    group_labels = ['popularity']# name of the dataset\n",
    "\n",
    "     # Create KDE plot\n",
    "    fig = ff.create_distplot(hist_data, group_labels, colors=[genre_colors[genre]])\n",
    "\n",
    "     # Update layout\n",
    "    fig.update_layout(\n",
    "         title='KDE plot of Popularity Distribution of Genre {}'.format(genre),\n",
    "         xaxis=dict(title='Popularity'),\n",
    "         yaxis=dict(title='Density'),\n",
    "         bargap=0.01  # Gap between bars\n",
    "    )\n",
    "    \n",
    "     # Update x-axis range\n",
    "    fig.update_xaxes(range=[0, 100])\n",
    "\n",
    "     # Show plot\n",
    "    return fig\n",
    "\n",
    "fig_17=pop_by_genre('acoustic')\n",
    "fig_17.show()"
   ]
  },
  {
   "cell_type": "code",
   "execution_count": 27,
   "id": "bb02db38",
   "metadata": {},
   "outputs": [],
   "source": [
    "#application integration\n",
    "from dash import Dash, dcc, html, Input, Output\n",
    "import base64"
   ]
  },
  {
   "cell_type": "code",
   "execution_count": 28,
   "id": "b11367ea",
   "metadata": {},
   "outputs": [],
   "source": [
    "\n",
    "external_stylesheets = [\n",
    "    'https://codepen.io/chriddyp/pen/bWLwgP.css',\n",
    "    {\n",
    "        'href': 'https://stackpath.bootstrapcdn.com/bootstrap/4.1.3/css/bootstrap.min.css',\n",
    "        'rel': 'stylesheet',\n",
    "        'integrity': 'sha384-MCw98/SFnGE8fJT3GXwEOngsV7Zt27NXFoaoApmYm81iuXoPkFOJwJ8ERdknLPMO',\n",
    "        'crossorigin': 'anonymous'\n",
    "    }\n",
    "]\n",
    "\n",
    "with open(\"./dataset/music_first image.jpg\", \"rb\") as image_file:\n",
    "    encoded_image = base64.b64encode(image_file.read()).decode()"
   ]
  },
  {
   "cell_type": "code",
   "execution_count": 41,
   "id": "92f2f9c8",
   "metadata": {},
   "outputs": [],
   "source": [
    "app = Dash(__name__,external_stylesheets =external_stylesheets)\n",
    "styles = {\n",
    "    'dropdown': {\n",
    "        'width': '420px',\n",
    "       ' padding-left':'20px',\n",
    "        'display': 'inline-block',\n",
    "        'font-size': '15px','border-color': '#2A547E','border-width': '2px',\n",
    "        \n",
    "    },\n",
    "    'container': {\n",
    "        'display': 'flex',\n",
    "        'width': '420px',\n",
    "        ' margin-left':'20px',\n",
    "    }\n",
    "}\n",
    "app.layout = html.Div([\n",
    "    html.Div(\n",
    "        [   # Earth's image in the first line\n",
    "    html.Img(src=f\"data:image/jpg;base64,{encoded_image}\", style={\"height\": \"300px\", \"display\": \"block\", \"margin\": \"auto\"}, ),\n",
    "            \n",
    "            html.H1(\"MUSIC EVOLUTION ANALYTICS\", style={\"text-align\": \"center\",\"font-family\":\"PT Sans Narrow\",'font-size': '45px' }),\n",
    "            # Track changes in Earth's temperature, carbon emissions & Sea Levels over time in the third line\n",
    "            html.H4(\"Analysis of Evolution of Commercial Music in the World\", style={\"text-align\": \"center\",\"font-family\":\"PT Sans Narrow\",'font-size': '20px'}),\n",
    "        ],\n",
    "        style={\"padding-top\": \"10px\", 'padding-bottom': '10px',\"background-color\": \"black\", \"color\": \"white\", 'box-shadow': '5px 5px 5px grey',\"border-radius\": \"15px\",}\n",
    "    ),\n",
    "    dcc.Dropdown(\n",
    "            id=\"demo-dropdown\",\n",
    "            options=[\n",
    "                {\"label\": \"Global Music General Info\", \"value\": \"general_info\"},\n",
    "                {\"label\": \"Music: Past vs Present\", \"value\": \"past_present\"},\n",
    "                {\"label\": \"Case Studies\", \"value\": \"case_study\"},\n",
    "                {\"label\": \"Spotify\", \"value\": \"spotify\"}\n",
    "            ],\n",
    "            value=\"\",\n",
    "            placeholder=\"Select the Desired Visulization\",\n",
    "        style={'width':'450px',\"margin-top\": \"20px\", 'margin-bottom': '20px','padding-left': '20px','font-size': '15px','border-color': '#2A547E','border-width': '2px' }\n",
    "        ),\n",
    "    html.Div(id='dd-output-container'),\n",
    "    \n",
    "],        style={\"background-color\": \"#CDDEEE\", \"padding\": \"10px\"}\n",
    "\n",
    ")\n",
    "\n",
    "\n",
    "@app.callback(\n",
    "    Output('dd-output-container', 'children'),\n",
    "    Input('demo-dropdown', 'value')\n",
    ")\n",
    "def update_output(value):\n",
    "    if value == 'general_info':\n",
    "        return html.Div(\n",
    "            children=[\n",
    "                html.Div(children=[\n",
    "                            dcc.Dropdown(\n",
    "                                id='choro-dropdown',\n",
    "                                options = [\n",
    "                                    {'label': 'Pop', 'value': 'Pop'},\n",
    "                                    {'label': 'EDM', 'value': 'EDM'},\n",
    "                                    {'label': 'Rock/Metal', 'value': 'Rock/Metal'},\n",
    "                                    {'label': 'Hip hop/Rap/R&b', 'value': 'Hip hop/Rap/R&b'}\n",
    "                                ],\n",
    "                                value='Pop',\n",
    "                                 placeholder=\"Select a Genre to see Popularity\",\n",
    "                                style={'width':'450px',\"margin-top\": \"20px\", 'margin-bottom': '20px','padding-left': '20px','font-size': '15px','border-color': '#2A547E','border-width': '2px' }\n",
    "                            ),\n",
    "                            html.H3(children='Color Values represent the percentage of artists of a particular genre among popular artists in that Country', style={'font-size': '20px', 'color': 'black','padding-left':'10px'})\n",
    "                        ]),\n",
    "                dcc.Graph(id=\"fig_genre\", figure=fig1_pop,style={\"margin-bottom\": \"10px\",'border': '3px solid #2A547E',}),\n",
    "\n",
    "                html.H1(children='Top Albums of Different Generes over the years',\n",
    "                            style={'font-size': '20px', 'color': 'black','padding-left':'10px'}),\n",
    "                dcc.Graph(id='top_albums_genres', figure=fig5_genre_list,style={\"margin-bottom\": \"10px\",'border': '3px solid #2A547E'}),\n",
    "\n",
    "                dcc.Graph(id='=grammy_world',figure=fig_6,style={\"margin-bottom\": \"10px\",'border': '3px solid #2A547E',}),\n",
    "\n",
    "                dcc.Graph(id='grammy_usa',figure=fig_7,style={\"margin-bottom\": \"10px\",'border': '3px solid #2A547E'}),\n",
    "                \n",
    "                dcc.Graph(id='money_makers', figure=fig_10, style={\"margin-bottom\": \"10px\",'border': '3px solid #2A547E'})\n",
    "\n",
    "        ],style={'background-color': '#4482C1'})\n",
    "    \n",
    "\n",
    "\n",
    "    elif value == 'past_present':\n",
    "        return html.Div(\n",
    "    \n",
    "            children=[\n",
    "                dcc.Graph(id='revenue_physical',figure=fig_8,style={\"margin-bottom\": \"10px\",'border': '3px solid #2A547E',}),\n",
    "                dcc.Graph(id='revenue_digital',figure=fig_9,style={\"margin-bottom\": \"10px\",'border': '3px solid #2A547E',}),\n",
    "               \n",
    "                html.Div(\n",
    "                            children=[\n",
    "                                dcc.Graph(id='richest_line_past', figure=fig_11, style={\"margin-bottom\": \"10px\",\"margin-right\": \"5px\", \"width\": \"50%\",'border': '3px solid #2A547E'}),\n",
    "                                dcc.Graph(id='richest_box_past', figure=fig12_box, style={\"margin-bottom\": \"10px\",\"margin-left\": \"5px\", \"width\": \"50%\",'border': '3px solid #2A547E'}),\n",
    "                            ],\n",
    "                            style={\"display\": \"flex\", \"flex-direction\": \"row\", \"justify-content\": \"space-between\", \"width\": \"100%\",},\n",
    "                ),\n",
    "                dcc.Graph(id='genre_pie',figure=fig_13,style={\"margin-bottom\": \"10px\",'border': '3px solid #2A547E',}),\n",
    "                dcc.Graph(id='top_artist_treemap',figure=fig_14,style={\"margin-bottom\": \"10px\",'border': '3px solid #2A547E',}),\n",
    "                dcc.Graph(id='avg_album_duration',figure=fig_15,style={\"margin-bottom\": \"10px\",'border': '3px solid #2A547E',}),\n",
    "                dcc.Graph(id='corr_sales_dur',figure=fig_16,style={\"margin-bottom\": \"10px\",'border': '3px solid #2A547E',}),\n",
    "            ],style={'background-color': '#4482C1'},         \n",
    "        )\n",
    "    \n",
    "    elif value == 'case_study':\n",
    "        return html.Div(\n",
    "            children=[\n",
    "            ],\n",
    "            style={'background-color': '#4482C1'},\n",
    "\n",
    "        )\n",
    "    elif value == 'spotify':\n",
    "        return html.Div(\n",
    "            children=[\n",
    "                html.Div(children=[\n",
    "                            dcc.Dropdown(\n",
    "                                id='genrepop-dropdown',\n",
    "                                options = spotify_genres,\n",
    "                                value='acoustic',\n",
    "                                placeholder=\"Select Genre to see Popularity Distribution\",\n",
    "                                style={'width':'450px',\"margin-top\": \"20px\", 'margin-bottom': '20px','padding-left': '20px','font-size': '15px','border-color': '#2A547E','border-width': '2px' }\n",
    "                            ),\n",
    "                        ]),\n",
    "                dcc.Graph(id=\"genre_pop\", figure=fig_17,style={\"margin-bottom\": \"10px\",'border': '3px solid #2A547E',}),\n",
    "            ],style={'background-color': '#4482C1'})\n",
    "    else:\n",
    "        return html.Div()\n",
    "    \n",
    "\n",
    "#chloropleth genre dropdown update\n",
    "curr_fig_genre=fig1_pop\n",
    "@app.callback(Output('fig_genre', 'figure'),\n",
    "[Input('choro-dropdown', 'value')])\n",
    "def update_choro(value):\n",
    "    global fig1_pop\n",
    "    global fig2_edm\n",
    "    global fig3_rock\n",
    "    global fig4_hiphop\n",
    "    global curr_fig_genre\n",
    "    if value == 'Pop':\n",
    "        curr_fig_genre=fig1_pop\n",
    "        return fig1_pop\n",
    "    elif value == 'EDM':\n",
    "        curr_fig_genre=fig2_edm\n",
    "        return fig2_edm\n",
    "    elif value == 'Rock/Metal':\n",
    "        curr_fig_genre=fig3_rock\n",
    "        return fig3_rock\n",
    "    elif value == 'Hip hop/Rap/R&b':\n",
    "        curr_fig_genre=fig4_hiphop\n",
    "        return fig4_hiphop\n",
    "    else:\n",
    "        return curr_fig_genre\n",
    "    \n",
    "\n",
    "#genre_popularity_spotify_kde_plot\n",
    "curr_genre_pop=fig_17\n",
    "@app.callback(Output('genre_pop', 'figure'),\n",
    "[Input('genrepop-dropdown', 'value')])\n",
    "def update_choro(value):\n",
    "    global curr_genre_pop\n",
    "    if value:\n",
    "        return pop_by_genre(value)\n",
    "    else:\n",
    "        return curr_genre_pop\n",
    "\n"
   ]
  },
  {
   "cell_type": "code",
   "execution_count": 42,
   "id": "3792b971",
   "metadata": {},
   "outputs": [
    {
     "data": {
      "text/html": [
       "\n",
       "        <iframe\n",
       "            width=\"100%\"\n",
       "            height=\"650\"\n",
       "            src=\"http://127.0.0.1:8050/\"\n",
       "            frameborder=\"0\"\n",
       "            allowfullscreen\n",
       "            \n",
       "        ></iframe>\n",
       "        "
      ],
      "text/plain": [
       "<IPython.lib.display.IFrame at 0x16562e72990>"
      ]
     },
     "metadata": {},
     "output_type": "display_data"
    }
   ],
   "source": [
    "if __name__ == '__main__':\n",
    "    app.run_server()"
   ]
  },
  {
   "cell_type": "code",
   "execution_count": null,
   "id": "4b5662fc",
   "metadata": {},
   "outputs": [],
   "source": []
  }
 ],
 "metadata": {
  "kernelspec": {
   "display_name": "Python 3 (ipykernel)",
   "language": "python",
   "name": "python3"
  },
  "language_info": {
   "codemirror_mode": {
    "name": "ipython",
    "version": 3
   },
   "file_extension": ".py",
   "mimetype": "text/x-python",
   "name": "python",
   "nbconvert_exporter": "python",
   "pygments_lexer": "ipython3",
   "version": "3.12.2"
  }
 },
 "nbformat": 4,
 "nbformat_minor": 5
}
