{
  "cells": [
    {
      "cell_type": "code",
      "execution_count": 51,
      "metadata": {
        "id": "Be5q7YU_TGnc"
      },
      "outputs": [],
      "source": [
        "import pandas as pd\n",
        "import plotly.express as px\n",
        "import plotly.graph_objects as go\n",
        "from plotly.subplots import make_subplots"
      ]
    },
    {
      "cell_type": "code",
      "execution_count": 52,
      "metadata": {
        "id": "TbCUHwNNTNXS"
      },
      "outputs": [],
      "source": [
        "mj_data = pd.read_csv('./dataset/Michael_Jackson_Concerts.csv', encoding='unicode_escape')\n",
        "ts_data = pd.read_csv('./dataset/Taylor_Swift_concerts.csv', encoding='unicode_escape')"
      ]
    },
    {
      "cell_type": "code",
      "execution_count": 53,
      "metadata": {
        "colab": {
          "base_uri": "https://localhost:8080/",
          "height": 1000
        },
        "id": "_Eh3b5ySTNcd",
        "outputId": "36cadb87-350d-4d3e-bd72-a5963176c894"
      },
      "outputs": [
        {
          "data": {
            "application/vnd.plotly.v1+json": {
              "config": {
                "plotlyServerURL": "https://plot.ly"
              },
              "data": [
                {
                  "colorbar": {
                    "title": {
                      "text": "Attendees"
                    }
                  },
                  "colorscale": [
                    [
                      0,
                      "#440154"
                    ],
                    [
                      0.1111111111111111,
                      "#482878"
                    ],
                    [
                      0.2222222222222222,
                      "#3e4989"
                    ],
                    [
                      0.3333333333333333,
                      "#31688e"
                    ],
                    [
                      0.4444444444444444,
                      "#26828e"
                    ],
                    [
                      0.5555555555555556,
                      "#1f9e89"
                    ],
                    [
                      0.6666666666666666,
                      "#35b779"
                    ],
                    [
                      0.7777777777777778,
                      "#6ece58"
                    ],
                    [
                      0.8888888888888888,
                      "#b5de2b"
                    ],
                    [
                      1,
                      "#fde725"
                    ]
                  ],
                  "locationmode": "country names",
                  "locations": [
                    "Australia",
                    "Austria",
                    "Belgium",
                    "England",
                    "France",
                    "Germany",
                    "Ireland",
                    "Italy",
                    "Japan",
                    "Netherlands",
                    "Spain",
                    "Sweden",
                    "Switzerland",
                    "USA",
                    "Wales"
                  ],
                  "marker": {
                    "line": {
                      "color": "darkgray",
                      "width": 0.5
                    }
                  },
                  "name": "MJ - Bad",
                  "reversescale": true,
                  "type": "choropleth",
                  "visible": false,
                  "z": [
                    162000,
                    95000,
                    55000,
                    779000,
                    113000,
                    400000,
                    130000,
                    140000,
                    660000,
                    145200,
                    183000,
                    106000,
                    95000,
                    918824,
                    55000
                  ]
                },
                {
                  "colorbar": {
                    "title": {
                      "text": "Attendees"
                    }
                  },
                  "colorscale": [
                    [
                      0,
                      "#440154"
                    ],
                    [
                      0.1111111111111111,
                      "#482878"
                    ],
                    [
                      0.2222222222222222,
                      "#3e4989"
                    ],
                    [
                      0.3333333333333333,
                      "#31688e"
                    ],
                    [
                      0.4444444444444444,
                      "#26828e"
                    ],
                    [
                      0.5555555555555556,
                      "#1f9e89"
                    ],
                    [
                      0.6666666666666666,
                      "#35b779"
                    ],
                    [
                      0.7777777777777778,
                      "#6ece58"
                    ],
                    [
                      0.8888888888888888,
                      "#b5de2b"
                    ],
                    [
                      1,
                      "#fde725"
                    ]
                  ],
                  "locationmode": "country names",
                  "locations": [
                    "Argentina",
                    "Austria",
                    "Belgium",
                    "Brazil",
                    "Chile",
                    "Denmark",
                    "England",
                    "France",
                    "Germany",
                    "Ireland",
                    "Israel",
                    "Italy",
                    "Japan",
                    "Mexico",
                    "Netherlands",
                    "Norway",
                    "Portugal",
                    "Romania",
                    "Russia",
                    "Scotland",
                    "Singapore",
                    "Spain",
                    "Sweden",
                    "Switzerland",
                    "Taiwan",
                    "Thailand",
                    "Turkey",
                    "Wales"
                  ],
                  "marker": {
                    "line": {
                      "color": "darkgray",
                      "width": 0.5
                    }
                  },
                  "name": "MJ - Dangerous",
                  "reversescale": true,
                  "type": "choropleth",
                  "visible": true,
                  "z": [
                    240000,
                    50000,
                    60000,
                    210000,
                    85000,
                    30000,
                    460000,
                    125000,
                    404000,
                    43000,
                    170000,
                    86000,
                    430000,
                    550000,
                    100000,
                    35000,
                    55000,
                    90000,
                    70000,
                    65000,
                    94000,
                    185000,
                    106000,
                    45000,
                    80000,
                    140000,
                    48000,
                    50000
                  ]
                },
                {
                  "colorbar": {
                    "title": {
                      "text": "Attendees"
                    }
                  },
                  "colorscale": [
                    [
                      0,
                      "#440154"
                    ],
                    [
                      0.1111111111111111,
                      "#482878"
                    ],
                    [
                      0.2222222222222222,
                      "#3e4989"
                    ],
                    [
                      0.3333333333333333,
                      "#31688e"
                    ],
                    [
                      0.4444444444444444,
                      "#26828e"
                    ],
                    [
                      0.5555555555555556,
                      "#1f9e89"
                    ],
                    [
                      0.6666666666666666,
                      "#35b779"
                    ],
                    [
                      0.7777777777777778,
                      "#6ece58"
                    ],
                    [
                      0.8888888888888888,
                      "#b5de2b"
                    ],
                    [
                      1,
                      "#fde725"
                    ]
                  ],
                  "locationmode": "country names",
                  "locations": [
                    "Australia",
                    "Austria",
                    "Belgium",
                    "Brunei",
                    "Czech Republic",
                    "Denmark",
                    "England",
                    "Estonia",
                    "Finland",
                    "France",
                    "Germany",
                    "Hungary",
                    "India",
                    "Ireland",
                    "Italy",
                    "Japan",
                    "Luxembourg",
                    "Malaysia",
                    "Netherlands",
                    "New Zealand",
                    "Norway",
                    "Philippines",
                    "Poland",
                    "Romania",
                    "Russia",
                    "Singapore",
                    "South Africa",
                    "South Korea",
                    "Spain",
                    "Sweden",
                    "Switzerland",
                    "Taiwan",
                    "Thailand",
                    "Tunisia",
                    "USA"
                  ],
                  "marker": {
                    "line": {
                      "color": "darkgray",
                      "width": 0.5
                    }
                  },
                  "name": "MJ - History",
                  "reversescale": true,
                  "type": "choropleth",
                  "visible": false,
                  "z": [
                    346000,
                    50000,
                    55000,
                    4000,
                    125000,
                    97563,
                    257601,
                    75000,
                    100000,
                    150003,
                    616483,
                    50000,
                    70000,
                    40261,
                    65000,
                    260000,
                    45000,
                    80000,
                    250000,
                    86000,
                    45000,
                    110000,
                    120000,
                    70000,
                    50000,
                    26000,
                    226495,
                    100000,
                    65000,
                    50000,
                    90000,
                    110000,
                    40000,
                    60000,
                    70000
                  ]
                }
              ],
              "layout": {
                "template": {
                  "data": {
                    "bar": [
                      {
                        "error_x": {
                          "color": "#2a3f5f"
                        },
                        "error_y": {
                          "color": "#2a3f5f"
                        },
                        "marker": {
                          "line": {
                            "color": "#E5ECF6",
                            "width": 0.5
                          },
                          "pattern": {
                            "fillmode": "overlay",
                            "size": 10,
                            "solidity": 0.2
                          }
                        },
                        "type": "bar"
                      }
                    ],
                    "barpolar": [
                      {
                        "marker": {
                          "line": {
                            "color": "#E5ECF6",
                            "width": 0.5
                          },
                          "pattern": {
                            "fillmode": "overlay",
                            "size": 10,
                            "solidity": 0.2
                          }
                        },
                        "type": "barpolar"
                      }
                    ],
                    "carpet": [
                      {
                        "aaxis": {
                          "endlinecolor": "#2a3f5f",
                          "gridcolor": "white",
                          "linecolor": "white",
                          "minorgridcolor": "white",
                          "startlinecolor": "#2a3f5f"
                        },
                        "baxis": {
                          "endlinecolor": "#2a3f5f",
                          "gridcolor": "white",
                          "linecolor": "white",
                          "minorgridcolor": "white",
                          "startlinecolor": "#2a3f5f"
                        },
                        "type": "carpet"
                      }
                    ],
                    "choropleth": [
                      {
                        "colorbar": {
                          "outlinewidth": 0,
                          "ticks": ""
                        },
                        "type": "choropleth"
                      }
                    ],
                    "contour": [
                      {
                        "colorbar": {
                          "outlinewidth": 0,
                          "ticks": ""
                        },
                        "colorscale": [
                          [
                            0,
                            "#0d0887"
                          ],
                          [
                            0.1111111111111111,
                            "#46039f"
                          ],
                          [
                            0.2222222222222222,
                            "#7201a8"
                          ],
                          [
                            0.3333333333333333,
                            "#9c179e"
                          ],
                          [
                            0.4444444444444444,
                            "#bd3786"
                          ],
                          [
                            0.5555555555555556,
                            "#d8576b"
                          ],
                          [
                            0.6666666666666666,
                            "#ed7953"
                          ],
                          [
                            0.7777777777777778,
                            "#fb9f3a"
                          ],
                          [
                            0.8888888888888888,
                            "#fdca26"
                          ],
                          [
                            1,
                            "#f0f921"
                          ]
                        ],
                        "type": "contour"
                      }
                    ],
                    "contourcarpet": [
                      {
                        "colorbar": {
                          "outlinewidth": 0,
                          "ticks": ""
                        },
                        "type": "contourcarpet"
                      }
                    ],
                    "heatmap": [
                      {
                        "colorbar": {
                          "outlinewidth": 0,
                          "ticks": ""
                        },
                        "colorscale": [
                          [
                            0,
                            "#0d0887"
                          ],
                          [
                            0.1111111111111111,
                            "#46039f"
                          ],
                          [
                            0.2222222222222222,
                            "#7201a8"
                          ],
                          [
                            0.3333333333333333,
                            "#9c179e"
                          ],
                          [
                            0.4444444444444444,
                            "#bd3786"
                          ],
                          [
                            0.5555555555555556,
                            "#d8576b"
                          ],
                          [
                            0.6666666666666666,
                            "#ed7953"
                          ],
                          [
                            0.7777777777777778,
                            "#fb9f3a"
                          ],
                          [
                            0.8888888888888888,
                            "#fdca26"
                          ],
                          [
                            1,
                            "#f0f921"
                          ]
                        ],
                        "type": "heatmap"
                      }
                    ],
                    "heatmapgl": [
                      {
                        "colorbar": {
                          "outlinewidth": 0,
                          "ticks": ""
                        },
                        "colorscale": [
                          [
                            0,
                            "#0d0887"
                          ],
                          [
                            0.1111111111111111,
                            "#46039f"
                          ],
                          [
                            0.2222222222222222,
                            "#7201a8"
                          ],
                          [
                            0.3333333333333333,
                            "#9c179e"
                          ],
                          [
                            0.4444444444444444,
                            "#bd3786"
                          ],
                          [
                            0.5555555555555556,
                            "#d8576b"
                          ],
                          [
                            0.6666666666666666,
                            "#ed7953"
                          ],
                          [
                            0.7777777777777778,
                            "#fb9f3a"
                          ],
                          [
                            0.8888888888888888,
                            "#fdca26"
                          ],
                          [
                            1,
                            "#f0f921"
                          ]
                        ],
                        "type": "heatmapgl"
                      }
                    ],
                    "histogram": [
                      {
                        "marker": {
                          "pattern": {
                            "fillmode": "overlay",
                            "size": 10,
                            "solidity": 0.2
                          }
                        },
                        "type": "histogram"
                      }
                    ],
                    "histogram2d": [
                      {
                        "colorbar": {
                          "outlinewidth": 0,
                          "ticks": ""
                        },
                        "colorscale": [
                          [
                            0,
                            "#0d0887"
                          ],
                          [
                            0.1111111111111111,
                            "#46039f"
                          ],
                          [
                            0.2222222222222222,
                            "#7201a8"
                          ],
                          [
                            0.3333333333333333,
                            "#9c179e"
                          ],
                          [
                            0.4444444444444444,
                            "#bd3786"
                          ],
                          [
                            0.5555555555555556,
                            "#d8576b"
                          ],
                          [
                            0.6666666666666666,
                            "#ed7953"
                          ],
                          [
                            0.7777777777777778,
                            "#fb9f3a"
                          ],
                          [
                            0.8888888888888888,
                            "#fdca26"
                          ],
                          [
                            1,
                            "#f0f921"
                          ]
                        ],
                        "type": "histogram2d"
                      }
                    ],
                    "histogram2dcontour": [
                      {
                        "colorbar": {
                          "outlinewidth": 0,
                          "ticks": ""
                        },
                        "colorscale": [
                          [
                            0,
                            "#0d0887"
                          ],
                          [
                            0.1111111111111111,
                            "#46039f"
                          ],
                          [
                            0.2222222222222222,
                            "#7201a8"
                          ],
                          [
                            0.3333333333333333,
                            "#9c179e"
                          ],
                          [
                            0.4444444444444444,
                            "#bd3786"
                          ],
                          [
                            0.5555555555555556,
                            "#d8576b"
                          ],
                          [
                            0.6666666666666666,
                            "#ed7953"
                          ],
                          [
                            0.7777777777777778,
                            "#fb9f3a"
                          ],
                          [
                            0.8888888888888888,
                            "#fdca26"
                          ],
                          [
                            1,
                            "#f0f921"
                          ]
                        ],
                        "type": "histogram2dcontour"
                      }
                    ],
                    "mesh3d": [
                      {
                        "colorbar": {
                          "outlinewidth": 0,
                          "ticks": ""
                        },
                        "type": "mesh3d"
                      }
                    ],
                    "parcoords": [
                      {
                        "line": {
                          "colorbar": {
                            "outlinewidth": 0,
                            "ticks": ""
                          }
                        },
                        "type": "parcoords"
                      }
                    ],
                    "pie": [
                      {
                        "automargin": true,
                        "type": "pie"
                      }
                    ],
                    "scatter": [
                      {
                        "fillpattern": {
                          "fillmode": "overlay",
                          "size": 10,
                          "solidity": 0.2
                        },
                        "type": "scatter"
                      }
                    ],
                    "scatter3d": [
                      {
                        "line": {
                          "colorbar": {
                            "outlinewidth": 0,
                            "ticks": ""
                          }
                        },
                        "marker": {
                          "colorbar": {
                            "outlinewidth": 0,
                            "ticks": ""
                          }
                        },
                        "type": "scatter3d"
                      }
                    ],
                    "scattercarpet": [
                      {
                        "marker": {
                          "colorbar": {
                            "outlinewidth": 0,
                            "ticks": ""
                          }
                        },
                        "type": "scattercarpet"
                      }
                    ],
                    "scattergeo": [
                      {
                        "marker": {
                          "colorbar": {
                            "outlinewidth": 0,
                            "ticks": ""
                          }
                        },
                        "type": "scattergeo"
                      }
                    ],
                    "scattergl": [
                      {
                        "marker": {
                          "colorbar": {
                            "outlinewidth": 0,
                            "ticks": ""
                          }
                        },
                        "type": "scattergl"
                      }
                    ],
                    "scattermapbox": [
                      {
                        "marker": {
                          "colorbar": {
                            "outlinewidth": 0,
                            "ticks": ""
                          }
                        },
                        "type": "scattermapbox"
                      }
                    ],
                    "scatterpolar": [
                      {
                        "marker": {
                          "colorbar": {
                            "outlinewidth": 0,
                            "ticks": ""
                          }
                        },
                        "type": "scatterpolar"
                      }
                    ],
                    "scatterpolargl": [
                      {
                        "marker": {
                          "colorbar": {
                            "outlinewidth": 0,
                            "ticks": ""
                          }
                        },
                        "type": "scatterpolargl"
                      }
                    ],
                    "scatterternary": [
                      {
                        "marker": {
                          "colorbar": {
                            "outlinewidth": 0,
                            "ticks": ""
                          }
                        },
                        "type": "scatterternary"
                      }
                    ],
                    "surface": [
                      {
                        "colorbar": {
                          "outlinewidth": 0,
                          "ticks": ""
                        },
                        "colorscale": [
                          [
                            0,
                            "#0d0887"
                          ],
                          [
                            0.1111111111111111,
                            "#46039f"
                          ],
                          [
                            0.2222222222222222,
                            "#7201a8"
                          ],
                          [
                            0.3333333333333333,
                            "#9c179e"
                          ],
                          [
                            0.4444444444444444,
                            "#bd3786"
                          ],
                          [
                            0.5555555555555556,
                            "#d8576b"
                          ],
                          [
                            0.6666666666666666,
                            "#ed7953"
                          ],
                          [
                            0.7777777777777778,
                            "#fb9f3a"
                          ],
                          [
                            0.8888888888888888,
                            "#fdca26"
                          ],
                          [
                            1,
                            "#f0f921"
                          ]
                        ],
                        "type": "surface"
                      }
                    ],
                    "table": [
                      {
                        "cells": {
                          "fill": {
                            "color": "#EBF0F8"
                          },
                          "line": {
                            "color": "white"
                          }
                        },
                        "header": {
                          "fill": {
                            "color": "#C8D4E3"
                          },
                          "line": {
                            "color": "white"
                          }
                        },
                        "type": "table"
                      }
                    ]
                  },
                  "layout": {
                    "annotationdefaults": {
                      "arrowcolor": "#2a3f5f",
                      "arrowhead": 0,
                      "arrowwidth": 1
                    },
                    "autotypenumbers": "strict",
                    "coloraxis": {
                      "colorbar": {
                        "outlinewidth": 0,
                        "ticks": ""
                      }
                    },
                    "colorscale": {
                      "diverging": [
                        [
                          0,
                          "#8e0152"
                        ],
                        [
                          0.1,
                          "#c51b7d"
                        ],
                        [
                          0.2,
                          "#de77ae"
                        ],
                        [
                          0.3,
                          "#f1b6da"
                        ],
                        [
                          0.4,
                          "#fde0ef"
                        ],
                        [
                          0.5,
                          "#f7f7f7"
                        ],
                        [
                          0.6,
                          "#e6f5d0"
                        ],
                        [
                          0.7,
                          "#b8e186"
                        ],
                        [
                          0.8,
                          "#7fbc41"
                        ],
                        [
                          0.9,
                          "#4d9221"
                        ],
                        [
                          1,
                          "#276419"
                        ]
                      ],
                      "sequential": [
                        [
                          0,
                          "#0d0887"
                        ],
                        [
                          0.1111111111111111,
                          "#46039f"
                        ],
                        [
                          0.2222222222222222,
                          "#7201a8"
                        ],
                        [
                          0.3333333333333333,
                          "#9c179e"
                        ],
                        [
                          0.4444444444444444,
                          "#bd3786"
                        ],
                        [
                          0.5555555555555556,
                          "#d8576b"
                        ],
                        [
                          0.6666666666666666,
                          "#ed7953"
                        ],
                        [
                          0.7777777777777778,
                          "#fb9f3a"
                        ],
                        [
                          0.8888888888888888,
                          "#fdca26"
                        ],
                        [
                          1,
                          "#f0f921"
                        ]
                      ],
                      "sequentialminus": [
                        [
                          0,
                          "#0d0887"
                        ],
                        [
                          0.1111111111111111,
                          "#46039f"
                        ],
                        [
                          0.2222222222222222,
                          "#7201a8"
                        ],
                        [
                          0.3333333333333333,
                          "#9c179e"
                        ],
                        [
                          0.4444444444444444,
                          "#bd3786"
                        ],
                        [
                          0.5555555555555556,
                          "#d8576b"
                        ],
                        [
                          0.6666666666666666,
                          "#ed7953"
                        ],
                        [
                          0.7777777777777778,
                          "#fb9f3a"
                        ],
                        [
                          0.8888888888888888,
                          "#fdca26"
                        ],
                        [
                          1,
                          "#f0f921"
                        ]
                      ]
                    },
                    "colorway": [
                      "#636efa",
                      "#EF553B",
                      "#00cc96",
                      "#ab63fa",
                      "#FFA15A",
                      "#19d3f3",
                      "#FF6692",
                      "#B6E880",
                      "#FF97FF",
                      "#FECB52"
                    ],
                    "font": {
                      "color": "#2a3f5f"
                    },
                    "geo": {
                      "bgcolor": "white",
                      "lakecolor": "white",
                      "landcolor": "#E5ECF6",
                      "showlakes": true,
                      "showland": true,
                      "subunitcolor": "white"
                    },
                    "hoverlabel": {
                      "align": "left"
                    },
                    "hovermode": "closest",
                    "mapbox": {
                      "style": "light"
                    },
                    "paper_bgcolor": "white",
                    "plot_bgcolor": "#E5ECF6",
                    "polar": {
                      "angularaxis": {
                        "gridcolor": "white",
                        "linecolor": "white",
                        "ticks": ""
                      },
                      "bgcolor": "#E5ECF6",
                      "radialaxis": {
                        "gridcolor": "white",
                        "linecolor": "white",
                        "ticks": ""
                      }
                    },
                    "scene": {
                      "xaxis": {
                        "backgroundcolor": "#E5ECF6",
                        "gridcolor": "white",
                        "gridwidth": 2,
                        "linecolor": "white",
                        "showbackground": true,
                        "ticks": "",
                        "zerolinecolor": "white"
                      },
                      "yaxis": {
                        "backgroundcolor": "#E5ECF6",
                        "gridcolor": "white",
                        "gridwidth": 2,
                        "linecolor": "white",
                        "showbackground": true,
                        "ticks": "",
                        "zerolinecolor": "white"
                      },
                      "zaxis": {
                        "backgroundcolor": "#E5ECF6",
                        "gridcolor": "white",
                        "gridwidth": 2,
                        "linecolor": "white",
                        "showbackground": true,
                        "ticks": "",
                        "zerolinecolor": "white"
                      }
                    },
                    "shapedefaults": {
                      "line": {
                        "color": "#2a3f5f"
                      }
                    },
                    "ternary": {
                      "aaxis": {
                        "gridcolor": "white",
                        "linecolor": "white",
                        "ticks": ""
                      },
                      "baxis": {
                        "gridcolor": "white",
                        "linecolor": "white",
                        "ticks": ""
                      },
                      "bgcolor": "#E5ECF6",
                      "caxis": {
                        "gridcolor": "white",
                        "linecolor": "white",
                        "ticks": ""
                      }
                    },
                    "title": {
                      "x": 0.05
                    },
                    "xaxis": {
                      "automargin": true,
                      "gridcolor": "white",
                      "linecolor": "white",
                      "ticks": "",
                      "title": {
                        "standoff": 15
                      },
                      "zerolinecolor": "white",
                      "zerolinewidth": 2
                    },
                    "yaxis": {
                      "automargin": true,
                      "gridcolor": "white",
                      "linecolor": "white",
                      "ticks": "",
                      "title": {
                        "standoff": 15
                      },
                      "zerolinecolor": "white",
                      "zerolinewidth": 2
                    }
                  }
                },
                "title": {
                  "text": "Michael Jackson"
                },
                "updatemenus": [
                  {
                    "buttons": [
                      {
                        "args": [
                          {
                            "visible": [
                              true,
                              false,
                              false
                            ]
                          },
                          {
                            "title": "MJ - Dangerous"
                          }
                        ],
                        "args2": [
                          {
                            "visible": [
                              true,
                              false,
                              false
                            ]
                          },
                          {
                            "title": "MJ - Dangerous"
                          }
                        ],
                        "label": "MJ - Dangerous",
                        "method": "update"
                      },
                      {
                        "args": [
                          {
                            "visible": [
                              false,
                              true,
                              false
                            ]
                          },
                          {
                            "title": "MJ - Bad"
                          }
                        ],
                        "args2": [
                          {
                            "visible": [
                              false,
                              true,
                              false
                            ]
                          },
                          {
                            "title": "MJ - Bad"
                          }
                        ],
                        "label": "MJ - Bad",
                        "method": "update"
                      },
                      {
                        "args": [
                          {
                            "visible": [
                              false,
                              false,
                              true
                            ]
                          },
                          {
                            "title": "MJ - History"
                          }
                        ],
                        "args2": [
                          {
                            "visible": [
                              false,
                              false,
                              true
                            ]
                          },
                          {
                            "title": "MJ - History"
                          }
                        ],
                        "label": "MJ - History",
                        "method": "update"
                      }
                    ]
                  }
                ]
              }
            }
          },
          "metadata": {},
          "output_type": "display_data"
        },
        {
          "data": {
            "application/vnd.plotly.v1+json": {
              "config": {
                "plotlyServerURL": "https://plot.ly"
              },
              "data": [
                {
                  "colorbar": {
                    "title": {
                      "text": "Attendees"
                    }
                  },
                  "colorscale": [
                    [
                      0,
                      "#440154"
                    ],
                    [
                      0.1111111111111111,
                      "#482878"
                    ],
                    [
                      0.2222222222222222,
                      "#3e4989"
                    ],
                    [
                      0.3333333333333333,
                      "#31688e"
                    ],
                    [
                      0.4444444444444444,
                      "#26828e"
                    ],
                    [
                      0.5555555555555556,
                      "#1f9e89"
                    ],
                    [
                      0.6666666666666666,
                      "#35b779"
                    ],
                    [
                      0.7777777777777778,
                      "#6ece58"
                    ],
                    [
                      0.8888888888888888,
                      "#b5de2b"
                    ],
                    [
                      1,
                      "#fde725"
                    ]
                  ],
                  "locationmode": "country names",
                  "locations": [
                    "United States",
                    "United States",
                    "United States",
                    "United States",
                    "United States",
                    "United States",
                    "England",
                    "England",
                    "United States",
                    "United States",
                    "United States",
                    "United States",
                    "United States",
                    "United States",
                    "United States",
                    "United States",
                    "United States",
                    "United States",
                    "United States",
                    "Canada",
                    "Canada",
                    "United States",
                    "United States",
                    "United States",
                    "United States",
                    "United States",
                    "United States",
                    "United States",
                    "United States",
                    "United States",
                    "United States",
                    "Australia",
                    "Australia",
                    "Australia",
                    "Australia",
                    "Australia",
                    "Australia",
                    "Australia",
                    "United States",
                    "United States",
                    "United States",
                    "United States",
                    "United States",
                    "United States",
                    "United States",
                    "United States",
                    "United States",
                    "United States",
                    "United States",
                    "United States",
                    "United States",
                    "United States",
                    "United States",
                    "United States",
                    "United States",
                    "United States",
                    "United States",
                    "United States",
                    "United States",
                    "United States",
                    "United States",
                    "United States",
                    "United States",
                    "United States",
                    "United States",
                    "United States",
                    "United States",
                    "United States",
                    "United States",
                    "Canada",
                    "Canada",
                    "Canada",
                    "United States",
                    "United States",
                    "United States",
                    "United States",
                    "United States",
                    "Canada"
                  ],
                  "marker": {
                    "line": {
                      "color": "darkgray",
                      "width": 0.5
                    }
                  },
                  "name": "TS - Fearless_Tour",
                  "reversescale": true,
                  "type": "choropleth",
                  "visible": true,
                  "z": [
                    7463,
                    7822,
                    13764,
                    8751,
                    11072,
                    9436,
                    6789,
                    6789,
                    10798,
                    12061,
                    13226,
                    8970,
                    13052,
                    13648,
                    8311,
                    10174,
                    13042,
                    17619,
                    14641,
                    33910,
                    11369,
                    13597,
                    7507,
                    14269,
                    13794,
                    13978,
                    15524,
                    13373,
                    26265,
                    26265,
                    13563,
                    11334,
                    27030,
                    27030,
                    7180,
                    23493,
                    23493,
                    9066,
                    13861,
                    11101,
                    13453,
                    11928,
                    14022,
                    8423,
                    30360,
                    30360,
                    11858,
                    29125,
                    29125,
                    11208,
                    11795,
                    11208,
                    13781,
                    25991,
                    25991,
                    11706,
                    12744,
                    27518,
                    27518,
                    17966,
                    13429,
                    13895,
                    13264,
                    14914,
                    10641,
                    26065,
                    26065,
                    25831,
                    25831,
                    13376,
                    30458,
                    30458,
                    23493,
                    23493,
                    27290,
                    27290,
                    56868,
                    35000
                  ]
                },
                {
                  "colorbar": {
                    "title": {
                      "text": "Attendees"
                    }
                  },
                  "colorscale": [
                    [
                      0,
                      "#440154"
                    ],
                    [
                      0.1111111111111111,
                      "#482878"
                    ],
                    [
                      0.2222222222222222,
                      "#3e4989"
                    ],
                    [
                      0.3333333333333333,
                      "#31688e"
                    ],
                    [
                      0.4444444444444444,
                      "#26828e"
                    ],
                    [
                      0.5555555555555556,
                      "#1f9e89"
                    ],
                    [
                      0.6666666666666666,
                      "#35b779"
                    ],
                    [
                      0.7777777777777778,
                      "#6ece58"
                    ],
                    [
                      0.8888888888888888,
                      "#b5de2b"
                    ],
                    [
                      1,
                      "#fde725"
                    ]
                  ],
                  "locationmode": "country names",
                  "locations": [
                    "United States",
                    "United States",
                    "United States",
                    "United States",
                    "United States",
                    "United States",
                    "United States",
                    "United States",
                    "United States",
                    "England",
                    "England",
                    "Ireland",
                    "Ireland",
                    "England",
                    "England",
                    "United States",
                    "United States",
                    "United States",
                    "United States",
                    "United States",
                    "United States",
                    "United States",
                    "United States",
                    "United States",
                    "United States",
                    "United States",
                    "United States",
                    "United States",
                    "Canada",
                    "Canada",
                    "United States",
                    "United States",
                    "United States",
                    "United States",
                    "United States",
                    "United States",
                    "United States",
                    "United States",
                    "United States",
                    "United States",
                    "United States",
                    "United States",
                    "United States",
                    "United States",
                    "United States",
                    "United States",
                    "Australia",
                    "Australia",
                    "Australia",
                    "Australia",
                    "New Zealand",
                    "Japan",
                    "Japan"
                  ],
                  "marker": {
                    "line": {
                      "color": "darkgray",
                      "width": 0.5
                    }
                  },
                  "name": "TS - Reputation_Stadium_Tour",
                  "reversescale": true,
                  "type": "choropleth",
                  "visible": false,
                  "z": [
                    59157,
                    107550,
                    107550,
                    118084,
                    118084,
                    56021,
                    57140,
                    105208,
                    105208,
                    77258,
                    77258,
                    133034,
                    133034,
                    143427,
                    143427,
                    52138,
                    62897,
                    95672,
                    95672,
                    107378,
                    107378,
                    51323,
                    165654,
                    165654,
                    165654,
                    174764,
                    174764,
                    174764,
                    100310,
                    100310,
                    56445,
                    116746,
                    116746,
                    55909,
                    47818,
                    56112,
                    49464,
                    98774,
                    98774,
                    58611,
                    55729,
                    47831,
                    53172,
                    53800,
                    105002,
                    105002,
                    50891,
                    63027,
                    72805,
                    43907,
                    35749,
                    100109,
                    100109
                  ]
                },
                {
                  "colorbar": {
                    "title": {
                      "text": "Attendees"
                    }
                  },
                  "colorscale": [
                    [
                      0,
                      "#440154"
                    ],
                    [
                      0.1111111111111111,
                      "#482878"
                    ],
                    [
                      0.2222222222222222,
                      "#3e4989"
                    ],
                    [
                      0.3333333333333333,
                      "#31688e"
                    ],
                    [
                      0.4444444444444444,
                      "#26828e"
                    ],
                    [
                      0.5555555555555556,
                      "#1f9e89"
                    ],
                    [
                      0.6666666666666666,
                      "#35b779"
                    ],
                    [
                      0.7777777777777778,
                      "#6ece58"
                    ],
                    [
                      0.8888888888888888,
                      "#b5de2b"
                    ],
                    [
                      1,
                      "#fde725"
                    ]
                  ],
                  "locationmode": "country names",
                  "locations": [
                    "Singapore",
                    "South Korea",
                    "Japan",
                    "Japan",
                    "Japan",
                    "Philippines",
                    "Hong Kong",
                    "Belgium",
                    "Netherlands",
                    "Norway",
                    "Germany",
                    "Italy",
                    "France",
                    "Spain",
                    "England",
                    "Northern Ireland",
                    "Ireland",
                    "England",
                    "England",
                    "United States",
                    "United States",
                    "United States",
                    "United States",
                    "United States",
                    "United States",
                    "United States",
                    "United States",
                    "United States",
                    "United States",
                    "United States",
                    "United States",
                    "United States",
                    "United States",
                    "United States",
                    "United States",
                    "United States",
                    "United States",
                    "Canada",
                    "Canada",
                    "Canada",
                    "United States",
                    "United States",
                    "United States",
                    "United States",
                    "United States",
                    "United States",
                    "United States",
                    "United States",
                    "United States",
                    "United States",
                    "United States",
                    "United States",
                    "United States",
                    "United States",
                    "Canada",
                    "Canada",
                    "United States",
                    "United States",
                    "United States",
                    "United States",
                    "United States",
                    "United States",
                    "United States",
                    "United States",
                    "United States",
                    "Canada",
                    "Canada",
                    "United States",
                    "United States",
                    "United States",
                    "United States",
                    "United States",
                    "United States",
                    "United States",
                    "United States",
                    "United States",
                    "United States",
                    "United States",
                    "United States",
                    "United States",
                    "United States",
                    "United States",
                    "United States",
                    "United States",
                    "United States",
                    "United States",
                    "United States",
                    "United States",
                    "United States",
                    "United States",
                    "United States",
                    "United States",
                    "United States",
                    "United States",
                    "United States",
                    "United States",
                    "United States",
                    "United States",
                    "Australia",
                    "Australia",
                    "Australia",
                    "Australia",
                    "Australia",
                    "Australia",
                    "Australia",
                    "Australia",
                    "Australia",
                    "New Zealand",
                    "New Zealand",
                    "New Zealand"
                  ],
                  "marker": {
                    "line": {
                      "color": "darkgray",
                      "width": 0.5
                    }
                  },
                  "name": "TS - Speak_Now_World_Tour",
                  "reversescale": true,
                  "type": "choropleth",
                  "visible": false,
                  "z": [
                    8964,
                    4725,
                    6953,
                    15955,
                    15955,
                    12667,
                    12573,
                    4622,
                    4799,
                    8650,
                    6082,
                    3421,
                    3598,
                    3962,
                    9339,
                    8058,
                    8681,
                    10488,
                    15265,
                    26992,
                    26992,
                    13149,
                    24077,
                    24077,
                    12262,
                    14817,
                    13748,
                    47992,
                    28977,
                    28977,
                    52009,
                    14487,
                    12436,
                    110800,
                    110800,
                    14789,
                    13754,
                    13439,
                    30144,
                    30144,
                    51487,
                    51487,
                    51487,
                    51487,
                    11012,
                    13329,
                    14873,
                    29303,
                    29303,
                    51395,
                    26112,
                    26112,
                    27965,
                    27965,
                    25336,
                    25336,
                    54900,
                    54900,
                    54900,
                    54900,
                    24827,
                    24827,
                    12432,
                    13610,
                    19904,
                    26030,
                    26030,
                    28178,
                    28178,
                    11510,
                    12546,
                    48562,
                    12908,
                    13720,
                    26244,
                    26244,
                    13566,
                    12943,
                    55451,
                    14848,
                    10419,
                    11592,
                    10834,
                    27029,
                    27029,
                    13851,
                    11999,
                    16237,
                    12604,
                    42095,
                    11785,
                    13695,
                    12153,
                    14272,
                    13567,
                    12807,
                    26652,
                    26652,
                    15142,
                    8589,
                    19870,
                    19870,
                    27900,
                    27900,
                    33793,
                    33793,
                    33793,
                    32585,
                    32585,
                    32585
                  ]
                },
                {
                  "colorbar": {
                    "title": {
                      "text": "Attendees"
                    }
                  },
                  "colorscale": [
                    [
                      0,
                      "#440154"
                    ],
                    [
                      0.1111111111111111,
                      "#482878"
                    ],
                    [
                      0.2222222222222222,
                      "#3e4989"
                    ],
                    [
                      0.3333333333333333,
                      "#31688e"
                    ],
                    [
                      0.4444444444444444,
                      "#26828e"
                    ],
                    [
                      0.5555555555555556,
                      "#1f9e89"
                    ],
                    [
                      0.6666666666666666,
                      "#35b779"
                    ],
                    [
                      0.7777777777777778,
                      "#6ece58"
                    ],
                    [
                      0.8888888888888888,
                      "#b5de2b"
                    ],
                    [
                      1,
                      "#fde725"
                    ]
                  ],
                  "locationmode": "country names",
                  "locations": [
                    "Japan",
                    "Japan",
                    "United States",
                    "United States",
                    "United States",
                    "United States",
                    "United States",
                    "United States",
                    "United States",
                    "United States",
                    "United States",
                    "United States",
                    "Germany",
                    "Germany",
                    "Netherlands",
                    "Scotland",
                    "England",
                    "Ireland",
                    "Ireland",
                    "Canada",
                    "Canada",
                    "United States",
                    "United States",
                    "United States",
                    "United States",
                    "United States",
                    "United States",
                    "United States",
                    "United States",
                    "Canada",
                    "Canada",
                    "Canada",
                    "United States",
                    "United States",
                    "United States",
                    "United States",
                    "United States",
                    "United States",
                    "United States",
                    "United States",
                    "United States",
                    "United States",
                    "United States",
                    "United States",
                    "United States",
                    "United States",
                    "United States",
                    "United States",
                    "United States",
                    "United States",
                    "United States",
                    "United States",
                    "United States",
                    "United States",
                    "United States",
                    "United States",
                    "United States",
                    "United States",
                    "United States",
                    "Canada",
                    "Canada",
                    "United States",
                    "United States",
                    "United States",
                    "United States",
                    "United States",
                    "United States",
                    "United States",
                    "United States",
                    "United States",
                    "United States",
                    "Singapore",
                    "Singapore",
                    "China",
                    "China",
                    "China",
                    "Australia",
                    "Australia",
                    "Australia",
                    "Australia",
                    "Australia",
                    "Australia",
                    "Australia"
                  ],
                  "marker": {
                    "line": {
                      "color": "darkgray",
                      "width": 0.5
                    }
                  },
                  "name": "TS - The_1989_World_Tour",
                  "reversescale": true,
                  "type": "choropleth",
                  "visible": false,
                  "z": [
                    100320,
                    100320,
                    12459,
                    50227,
                    50703,
                    16242,
                    15503,
                    54801,
                    15024,
                    13886,
                    101052,
                    101052,
                    29020,
                    29020,
                    11166,
                    11021,
                    14773,
                    25188,
                    25188,
                    13480,
                    14770,
                    110105,
                    110105,
                    85014,
                    85014,
                    110109,
                    110109,
                    116849,
                    116849,
                    41463,
                    26534,
                    26534,
                    55711,
                    102139,
                    102139,
                    26520,
                    26520,
                    70563,
                    70563,
                    70563,
                    70563,
                    70563,
                    44710,
                    14131,
                    27126,
                    27126,
                    40122,
                    45126,
                    45126,
                    45126,
                    14010,
                    29936,
                    29936,
                    27857,
                    27857,
                    28917,
                    28917,
                    29688,
                    29688,
                    99283,
                    99283,
                    13969,
                    29622,
                    29622,
                    21067,
                    62630,
                    17084,
                    15079,
                    56046,
                    14044,
                    56987,
                    17726,
                    17726,
                    37758,
                    37758,
                    37758,
                    75980,
                    46881,
                    20090,
                    20090,
                    98136,
                    98136,
                    98136
                  ]
                },
                {
                  "colorbar": {
                    "title": {
                      "text": "Attendees"
                    }
                  },
                  "colorscale": [
                    [
                      0,
                      "#440154"
                    ],
                    [
                      0.1111111111111111,
                      "#482878"
                    ],
                    [
                      0.2222222222222222,
                      "#3e4989"
                    ],
                    [
                      0.3333333333333333,
                      "#31688e"
                    ],
                    [
                      0.4444444444444444,
                      "#26828e"
                    ],
                    [
                      0.5555555555555556,
                      "#1f9e89"
                    ],
                    [
                      0.6666666666666666,
                      "#35b779"
                    ],
                    [
                      0.7777777777777778,
                      "#6ece58"
                    ],
                    [
                      0.8888888888888888,
                      "#b5de2b"
                    ],
                    [
                      1,
                      "#fde725"
                    ]
                  ],
                  "locationmode": "country names",
                  "locations": [
                    "United States",
                    "United States",
                    "United States",
                    "United States",
                    "United States",
                    "United States",
                    "United States",
                    "United States",
                    "United States",
                    "United States",
                    "United States",
                    "United States",
                    "United States",
                    "United States",
                    "United States",
                    "United States",
                    "United States",
                    "United States",
                    "United States",
                    "United States",
                    "United States",
                    "United States",
                    "United States",
                    "United States",
                    "United States",
                    "United States",
                    "United States",
                    "United States",
                    "United States",
                    "United States",
                    "United States",
                    "Canada",
                    "Canada",
                    "Canada",
                    "Canada",
                    "Canada",
                    "Canada",
                    "United States",
                    "United States",
                    "United States",
                    "United States",
                    "United States",
                    "United States",
                    "United States",
                    "United States",
                    "United States",
                    "United States",
                    "United States",
                    "United States",
                    "United States",
                    "United States",
                    "United States",
                    "United States",
                    "United States",
                    "United States",
                    "United States",
                    "United States",
                    "United States",
                    "United States",
                    "United States",
                    "United States",
                    "United States",
                    "United States",
                    "United States",
                    "United States",
                    "United States",
                    "New Zealand",
                    "New Zealand",
                    "New Zealand",
                    "Australia",
                    "Australia",
                    "Australia",
                    "Australia",
                    "England",
                    "England",
                    "England",
                    "Germany",
                    "China",
                    "Japan",
                    "Indonesia",
                    "Philippines",
                    "Singapore",
                    "Malaysia"
                  ],
                  "marker": {
                    "line": {
                      "color": "darkgray",
                      "width": 0.5
                    }
                  },
                  "name": "TS - The_Red_Tour",
                  "reversescale": true,
                  "type": "choropleth",
                  "visible": false,
                  "z": [
                    27877,
                    27877,
                    28582,
                    28582,
                    14686,
                    12490,
                    38065,
                    38065,
                    38065,
                    12808,
                    25617,
                    25617,
                    25471,
                    25471,
                    14080,
                    15336,
                    13573,
                    17003,
                    48265,
                    15135,
                    14267,
                    27619,
                    27619,
                    12467,
                    11916,
                    13974,
                    53020,
                    26705,
                    26705,
                    14007,
                    13489,
                    87627,
                    87627,
                    33061,
                    25663,
                    25663,
                    41142,
                    56047,
                    52399,
                    101277,
                    101277,
                    110712,
                    110712,
                    13368,
                    26412,
                    26412,
                    12231,
                    10949,
                    50809,
                    10872,
                    55829,
                    55829,
                    55829,
                    55829,
                    12795,
                    13952,
                    20348,
                    21073,
                    28920,
                    28920,
                    13650,
                    13941,
                    12689,
                    41292,
                    41292,
                    41292,
                    30799,
                    30799,
                    30799,
                    40930,
                    38907,
                    21827,
                    47257,
                    74740,
                    74740,
                    74740,
                    10350,
                    12793,
                    20046,
                    8130,
                    9775,
                    16344,
                    7525
                  ]
                }
              ],
              "layout": {
                "template": {
                  "data": {
                    "bar": [
                      {
                        "error_x": {
                          "color": "#2a3f5f"
                        },
                        "error_y": {
                          "color": "#2a3f5f"
                        },
                        "marker": {
                          "line": {
                            "color": "#E5ECF6",
                            "width": 0.5
                          },
                          "pattern": {
                            "fillmode": "overlay",
                            "size": 10,
                            "solidity": 0.2
                          }
                        },
                        "type": "bar"
                      }
                    ],
                    "barpolar": [
                      {
                        "marker": {
                          "line": {
                            "color": "#E5ECF6",
                            "width": 0.5
                          },
                          "pattern": {
                            "fillmode": "overlay",
                            "size": 10,
                            "solidity": 0.2
                          }
                        },
                        "type": "barpolar"
                      }
                    ],
                    "carpet": [
                      {
                        "aaxis": {
                          "endlinecolor": "#2a3f5f",
                          "gridcolor": "white",
                          "linecolor": "white",
                          "minorgridcolor": "white",
                          "startlinecolor": "#2a3f5f"
                        },
                        "baxis": {
                          "endlinecolor": "#2a3f5f",
                          "gridcolor": "white",
                          "linecolor": "white",
                          "minorgridcolor": "white",
                          "startlinecolor": "#2a3f5f"
                        },
                        "type": "carpet"
                      }
                    ],
                    "choropleth": [
                      {
                        "colorbar": {
                          "outlinewidth": 0,
                          "ticks": ""
                        },
                        "type": "choropleth"
                      }
                    ],
                    "contour": [
                      {
                        "colorbar": {
                          "outlinewidth": 0,
                          "ticks": ""
                        },
                        "colorscale": [
                          [
                            0,
                            "#0d0887"
                          ],
                          [
                            0.1111111111111111,
                            "#46039f"
                          ],
                          [
                            0.2222222222222222,
                            "#7201a8"
                          ],
                          [
                            0.3333333333333333,
                            "#9c179e"
                          ],
                          [
                            0.4444444444444444,
                            "#bd3786"
                          ],
                          [
                            0.5555555555555556,
                            "#d8576b"
                          ],
                          [
                            0.6666666666666666,
                            "#ed7953"
                          ],
                          [
                            0.7777777777777778,
                            "#fb9f3a"
                          ],
                          [
                            0.8888888888888888,
                            "#fdca26"
                          ],
                          [
                            1,
                            "#f0f921"
                          ]
                        ],
                        "type": "contour"
                      }
                    ],
                    "contourcarpet": [
                      {
                        "colorbar": {
                          "outlinewidth": 0,
                          "ticks": ""
                        },
                        "type": "contourcarpet"
                      }
                    ],
                    "heatmap": [
                      {
                        "colorbar": {
                          "outlinewidth": 0,
                          "ticks": ""
                        },
                        "colorscale": [
                          [
                            0,
                            "#0d0887"
                          ],
                          [
                            0.1111111111111111,
                            "#46039f"
                          ],
                          [
                            0.2222222222222222,
                            "#7201a8"
                          ],
                          [
                            0.3333333333333333,
                            "#9c179e"
                          ],
                          [
                            0.4444444444444444,
                            "#bd3786"
                          ],
                          [
                            0.5555555555555556,
                            "#d8576b"
                          ],
                          [
                            0.6666666666666666,
                            "#ed7953"
                          ],
                          [
                            0.7777777777777778,
                            "#fb9f3a"
                          ],
                          [
                            0.8888888888888888,
                            "#fdca26"
                          ],
                          [
                            1,
                            "#f0f921"
                          ]
                        ],
                        "type": "heatmap"
                      }
                    ],
                    "heatmapgl": [
                      {
                        "colorbar": {
                          "outlinewidth": 0,
                          "ticks": ""
                        },
                        "colorscale": [
                          [
                            0,
                            "#0d0887"
                          ],
                          [
                            0.1111111111111111,
                            "#46039f"
                          ],
                          [
                            0.2222222222222222,
                            "#7201a8"
                          ],
                          [
                            0.3333333333333333,
                            "#9c179e"
                          ],
                          [
                            0.4444444444444444,
                            "#bd3786"
                          ],
                          [
                            0.5555555555555556,
                            "#d8576b"
                          ],
                          [
                            0.6666666666666666,
                            "#ed7953"
                          ],
                          [
                            0.7777777777777778,
                            "#fb9f3a"
                          ],
                          [
                            0.8888888888888888,
                            "#fdca26"
                          ],
                          [
                            1,
                            "#f0f921"
                          ]
                        ],
                        "type": "heatmapgl"
                      }
                    ],
                    "histogram": [
                      {
                        "marker": {
                          "pattern": {
                            "fillmode": "overlay",
                            "size": 10,
                            "solidity": 0.2
                          }
                        },
                        "type": "histogram"
                      }
                    ],
                    "histogram2d": [
                      {
                        "colorbar": {
                          "outlinewidth": 0,
                          "ticks": ""
                        },
                        "colorscale": [
                          [
                            0,
                            "#0d0887"
                          ],
                          [
                            0.1111111111111111,
                            "#46039f"
                          ],
                          [
                            0.2222222222222222,
                            "#7201a8"
                          ],
                          [
                            0.3333333333333333,
                            "#9c179e"
                          ],
                          [
                            0.4444444444444444,
                            "#bd3786"
                          ],
                          [
                            0.5555555555555556,
                            "#d8576b"
                          ],
                          [
                            0.6666666666666666,
                            "#ed7953"
                          ],
                          [
                            0.7777777777777778,
                            "#fb9f3a"
                          ],
                          [
                            0.8888888888888888,
                            "#fdca26"
                          ],
                          [
                            1,
                            "#f0f921"
                          ]
                        ],
                        "type": "histogram2d"
                      }
                    ],
                    "histogram2dcontour": [
                      {
                        "colorbar": {
                          "outlinewidth": 0,
                          "ticks": ""
                        },
                        "colorscale": [
                          [
                            0,
                            "#0d0887"
                          ],
                          [
                            0.1111111111111111,
                            "#46039f"
                          ],
                          [
                            0.2222222222222222,
                            "#7201a8"
                          ],
                          [
                            0.3333333333333333,
                            "#9c179e"
                          ],
                          [
                            0.4444444444444444,
                            "#bd3786"
                          ],
                          [
                            0.5555555555555556,
                            "#d8576b"
                          ],
                          [
                            0.6666666666666666,
                            "#ed7953"
                          ],
                          [
                            0.7777777777777778,
                            "#fb9f3a"
                          ],
                          [
                            0.8888888888888888,
                            "#fdca26"
                          ],
                          [
                            1,
                            "#f0f921"
                          ]
                        ],
                        "type": "histogram2dcontour"
                      }
                    ],
                    "mesh3d": [
                      {
                        "colorbar": {
                          "outlinewidth": 0,
                          "ticks": ""
                        },
                        "type": "mesh3d"
                      }
                    ],
                    "parcoords": [
                      {
                        "line": {
                          "colorbar": {
                            "outlinewidth": 0,
                            "ticks": ""
                          }
                        },
                        "type": "parcoords"
                      }
                    ],
                    "pie": [
                      {
                        "automargin": true,
                        "type": "pie"
                      }
                    ],
                    "scatter": [
                      {
                        "fillpattern": {
                          "fillmode": "overlay",
                          "size": 10,
                          "solidity": 0.2
                        },
                        "type": "scatter"
                      }
                    ],
                    "scatter3d": [
                      {
                        "line": {
                          "colorbar": {
                            "outlinewidth": 0,
                            "ticks": ""
                          }
                        },
                        "marker": {
                          "colorbar": {
                            "outlinewidth": 0,
                            "ticks": ""
                          }
                        },
                        "type": "scatter3d"
                      }
                    ],
                    "scattercarpet": [
                      {
                        "marker": {
                          "colorbar": {
                            "outlinewidth": 0,
                            "ticks": ""
                          }
                        },
                        "type": "scattercarpet"
                      }
                    ],
                    "scattergeo": [
                      {
                        "marker": {
                          "colorbar": {
                            "outlinewidth": 0,
                            "ticks": ""
                          }
                        },
                        "type": "scattergeo"
                      }
                    ],
                    "scattergl": [
                      {
                        "marker": {
                          "colorbar": {
                            "outlinewidth": 0,
                            "ticks": ""
                          }
                        },
                        "type": "scattergl"
                      }
                    ],
                    "scattermapbox": [
                      {
                        "marker": {
                          "colorbar": {
                            "outlinewidth": 0,
                            "ticks": ""
                          }
                        },
                        "type": "scattermapbox"
                      }
                    ],
                    "scatterpolar": [
                      {
                        "marker": {
                          "colorbar": {
                            "outlinewidth": 0,
                            "ticks": ""
                          }
                        },
                        "type": "scatterpolar"
                      }
                    ],
                    "scatterpolargl": [
                      {
                        "marker": {
                          "colorbar": {
                            "outlinewidth": 0,
                            "ticks": ""
                          }
                        },
                        "type": "scatterpolargl"
                      }
                    ],
                    "scatterternary": [
                      {
                        "marker": {
                          "colorbar": {
                            "outlinewidth": 0,
                            "ticks": ""
                          }
                        },
                        "type": "scatterternary"
                      }
                    ],
                    "surface": [
                      {
                        "colorbar": {
                          "outlinewidth": 0,
                          "ticks": ""
                        },
                        "colorscale": [
                          [
                            0,
                            "#0d0887"
                          ],
                          [
                            0.1111111111111111,
                            "#46039f"
                          ],
                          [
                            0.2222222222222222,
                            "#7201a8"
                          ],
                          [
                            0.3333333333333333,
                            "#9c179e"
                          ],
                          [
                            0.4444444444444444,
                            "#bd3786"
                          ],
                          [
                            0.5555555555555556,
                            "#d8576b"
                          ],
                          [
                            0.6666666666666666,
                            "#ed7953"
                          ],
                          [
                            0.7777777777777778,
                            "#fb9f3a"
                          ],
                          [
                            0.8888888888888888,
                            "#fdca26"
                          ],
                          [
                            1,
                            "#f0f921"
                          ]
                        ],
                        "type": "surface"
                      }
                    ],
                    "table": [
                      {
                        "cells": {
                          "fill": {
                            "color": "#EBF0F8"
                          },
                          "line": {
                            "color": "white"
                          }
                        },
                        "header": {
                          "fill": {
                            "color": "#C8D4E3"
                          },
                          "line": {
                            "color": "white"
                          }
                        },
                        "type": "table"
                      }
                    ]
                  },
                  "layout": {
                    "annotationdefaults": {
                      "arrowcolor": "#2a3f5f",
                      "arrowhead": 0,
                      "arrowwidth": 1
                    },
                    "autotypenumbers": "strict",
                    "coloraxis": {
                      "colorbar": {
                        "outlinewidth": 0,
                        "ticks": ""
                      }
                    },
                    "colorscale": {
                      "diverging": [
                        [
                          0,
                          "#8e0152"
                        ],
                        [
                          0.1,
                          "#c51b7d"
                        ],
                        [
                          0.2,
                          "#de77ae"
                        ],
                        [
                          0.3,
                          "#f1b6da"
                        ],
                        [
                          0.4,
                          "#fde0ef"
                        ],
                        [
                          0.5,
                          "#f7f7f7"
                        ],
                        [
                          0.6,
                          "#e6f5d0"
                        ],
                        [
                          0.7,
                          "#b8e186"
                        ],
                        [
                          0.8,
                          "#7fbc41"
                        ],
                        [
                          0.9,
                          "#4d9221"
                        ],
                        [
                          1,
                          "#276419"
                        ]
                      ],
                      "sequential": [
                        [
                          0,
                          "#0d0887"
                        ],
                        [
                          0.1111111111111111,
                          "#46039f"
                        ],
                        [
                          0.2222222222222222,
                          "#7201a8"
                        ],
                        [
                          0.3333333333333333,
                          "#9c179e"
                        ],
                        [
                          0.4444444444444444,
                          "#bd3786"
                        ],
                        [
                          0.5555555555555556,
                          "#d8576b"
                        ],
                        [
                          0.6666666666666666,
                          "#ed7953"
                        ],
                        [
                          0.7777777777777778,
                          "#fb9f3a"
                        ],
                        [
                          0.8888888888888888,
                          "#fdca26"
                        ],
                        [
                          1,
                          "#f0f921"
                        ]
                      ],
                      "sequentialminus": [
                        [
                          0,
                          "#0d0887"
                        ],
                        [
                          0.1111111111111111,
                          "#46039f"
                        ],
                        [
                          0.2222222222222222,
                          "#7201a8"
                        ],
                        [
                          0.3333333333333333,
                          "#9c179e"
                        ],
                        [
                          0.4444444444444444,
                          "#bd3786"
                        ],
                        [
                          0.5555555555555556,
                          "#d8576b"
                        ],
                        [
                          0.6666666666666666,
                          "#ed7953"
                        ],
                        [
                          0.7777777777777778,
                          "#fb9f3a"
                        ],
                        [
                          0.8888888888888888,
                          "#fdca26"
                        ],
                        [
                          1,
                          "#f0f921"
                        ]
                      ]
                    },
                    "colorway": [
                      "#636efa",
                      "#EF553B",
                      "#00cc96",
                      "#ab63fa",
                      "#FFA15A",
                      "#19d3f3",
                      "#FF6692",
                      "#B6E880",
                      "#FF97FF",
                      "#FECB52"
                    ],
                    "font": {
                      "color": "#2a3f5f"
                    },
                    "geo": {
                      "bgcolor": "white",
                      "lakecolor": "white",
                      "landcolor": "#E5ECF6",
                      "showlakes": true,
                      "showland": true,
                      "subunitcolor": "white"
                    },
                    "hoverlabel": {
                      "align": "left"
                    },
                    "hovermode": "closest",
                    "mapbox": {
                      "style": "light"
                    },
                    "paper_bgcolor": "white",
                    "plot_bgcolor": "#E5ECF6",
                    "polar": {
                      "angularaxis": {
                        "gridcolor": "white",
                        "linecolor": "white",
                        "ticks": ""
                      },
                      "bgcolor": "#E5ECF6",
                      "radialaxis": {
                        "gridcolor": "white",
                        "linecolor": "white",
                        "ticks": ""
                      }
                    },
                    "scene": {
                      "xaxis": {
                        "backgroundcolor": "#E5ECF6",
                        "gridcolor": "white",
                        "gridwidth": 2,
                        "linecolor": "white",
                        "showbackground": true,
                        "ticks": "",
                        "zerolinecolor": "white"
                      },
                      "yaxis": {
                        "backgroundcolor": "#E5ECF6",
                        "gridcolor": "white",
                        "gridwidth": 2,
                        "linecolor": "white",
                        "showbackground": true,
                        "ticks": "",
                        "zerolinecolor": "white"
                      },
                      "zaxis": {
                        "backgroundcolor": "#E5ECF6",
                        "gridcolor": "white",
                        "gridwidth": 2,
                        "linecolor": "white",
                        "showbackground": true,
                        "ticks": "",
                        "zerolinecolor": "white"
                      }
                    },
                    "shapedefaults": {
                      "line": {
                        "color": "#2a3f5f"
                      }
                    },
                    "ternary": {
                      "aaxis": {
                        "gridcolor": "white",
                        "linecolor": "white",
                        "ticks": ""
                      },
                      "baxis": {
                        "gridcolor": "white",
                        "linecolor": "white",
                        "ticks": ""
                      },
                      "bgcolor": "#E5ECF6",
                      "caxis": {
                        "gridcolor": "white",
                        "linecolor": "white",
                        "ticks": ""
                      }
                    },
                    "title": {
                      "x": 0.05
                    },
                    "xaxis": {
                      "automargin": true,
                      "gridcolor": "white",
                      "linecolor": "white",
                      "ticks": "",
                      "title": {
                        "standoff": 15
                      },
                      "zerolinecolor": "white",
                      "zerolinewidth": 2
                    },
                    "yaxis": {
                      "automargin": true,
                      "gridcolor": "white",
                      "linecolor": "white",
                      "ticks": "",
                      "title": {
                        "standoff": 15
                      },
                      "zerolinecolor": "white",
                      "zerolinewidth": 2
                    }
                  }
                },
                "title": {
                  "text": "Taylor Swift"
                },
                "updatemenus": [
                  {
                    "buttons": [
                      {
                        "args": [
                          {
                            "visible": [
                              true,
                              false,
                              false,
                              false,
                              false
                            ]
                          },
                          {
                            "title": "TS - Fearless_Tour"
                          }
                        ],
                        "args2": [
                          {
                            "visible": [
                              true,
                              false,
                              false,
                              false,
                              false
                            ]
                          },
                          {
                            "title": "TS - Fearless_Tour"
                          }
                        ],
                        "label": "TS - Fearless_Tour",
                        "method": "update"
                      },
                      {
                        "args": [
                          {
                            "visible": [
                              false,
                              true,
                              false,
                              false,
                              false
                            ]
                          },
                          {
                            "title": "TS - Speak_Now_World_Tour"
                          }
                        ],
                        "args2": [
                          {
                            "visible": [
                              false,
                              true,
                              false,
                              false,
                              false
                            ]
                          },
                          {
                            "title": "TS - Speak_Now_World_Tour"
                          }
                        ],
                        "label": "TS - Speak_Now_World_Tour",
                        "method": "update"
                      },
                      {
                        "args": [
                          {
                            "visible": [
                              false,
                              false,
                              true,
                              false,
                              false
                            ]
                          },
                          {
                            "title": "TS - The_Red_Tour"
                          }
                        ],
                        "args2": [
                          {
                            "visible": [
                              false,
                              false,
                              true,
                              false,
                              false
                            ]
                          },
                          {
                            "title": "TS - The_Red_Tour"
                          }
                        ],
                        "label": "TS - The_Red_Tour",
                        "method": "update"
                      },
                      {
                        "args": [
                          {
                            "visible": [
                              false,
                              false,
                              false,
                              true,
                              false
                            ]
                          },
                          {
                            "title": "TS - The_1989_World_Tour"
                          }
                        ],
                        "args2": [
                          {
                            "visible": [
                              false,
                              false,
                              false,
                              true,
                              false
                            ]
                          },
                          {
                            "title": "TS - The_1989_World_Tour"
                          }
                        ],
                        "label": "TS - The_1989_World_Tour",
                        "method": "update"
                      },
                      {
                        "args": [
                          {
                            "visible": [
                              false,
                              false,
                              false,
                              false,
                              true
                            ]
                          },
                          {
                            "title": "TS - Reputation_Stadium_Tour"
                          }
                        ],
                        "args2": [
                          {
                            "visible": [
                              false,
                              false,
                              false,
                              false,
                              true
                            ]
                          },
                          {
                            "title": "TS - Reputation_Stadium_Tour"
                          }
                        ],
                        "label": "TS - Reputation_Stadium_Tour",
                        "method": "update"
                      }
                    ]
                  }
                ]
              }
            }
          },
          "metadata": {},
          "output_type": "display_data"
        }
      ],
      "source": [
        "# Create initial plots for Michael Jackson\n",
        "fig_mj = go.Figure()\n",
        "for tour, data in mj_data.groupby('Tour'):\n",
        "    trace = go.Choropleth(\n",
        "        z=data['Attendance'],\n",
        "        locations=data['Country'],\n",
        "        locationmode='country names',\n",
        "        colorscale='Viridis',\n",
        "        reversescale=True,\n",
        "        marker_line_color='darkgray',\n",
        "        marker_line_width=0.5,\n",
        "        colorbar_title='Attendees',\n",
        "        name=f'MJ - {tour}',\n",
        "        visible=(tour == mj_data['Tour'].iloc[0])\n",
        "    )\n",
        "    fig_mj.add_trace(trace)\n",
        "\n",
        "# Create initial plots for Taylor Swift\n",
        "# Remove non-numeric values from the 'Attendance' column\n",
        "ts_data['Attendance'] = ts_data['Attendance'].str.replace(r'[^\\d,]', '', regex=True)\n",
        "\n",
        "# Replace commas and convert 'Attendance' column to numeric\n",
        "ts_data['Attendance'] = ts_data['Attendance'].str.replace(',', '')\n",
        "ts_data['Attendance'] = pd.to_numeric(ts_data['Attendance'], errors='coerce')\n",
        "\n",
        "# Drop rows with NaN values in 'Attendance' column\n",
        "ts_data = ts_data.dropna(subset=['Attendance'])\n",
        "\n",
        "# Reset index\n",
        "ts_data.reset_index(drop=True, inplace=True)\n",
        "fig_ts = go.Figure()\n",
        "for tour, data in ts_data.groupby('Tour'):\n",
        "    trace = go.Choropleth(\n",
        "        z=data['Attendance'],\n",
        "        locations=data['Country'],\n",
        "        locationmode='country names',\n",
        "        colorscale='Viridis',\n",
        "        reversescale=True,\n",
        "        marker_line_color='darkgray',\n",
        "        marker_line_width=0.5,\n",
        "        colorbar_title='Attendees',\n",
        "        name=f'TS - {tour}',\n",
        "        visible=(tour == ts_data['Tour'].iloc[0])\n",
        "    )\n",
        "    fig_ts.add_trace(trace)\n",
        "\n",
        "# Create buttons for Michael Jackson\n",
        "buttons_mj = []\n",
        "for tour in mj_data['Tour'].unique():\n",
        "    button = dict(\n",
        "        label=f'MJ - {tour}',\n",
        "        method='update',\n",
        "        args=[{'visible': [tour == t for t in mj_data['Tour'].unique()]}, {'title': f'MJ - {tour}'}],\n",
        "        args2=[{'visible': [tour == t for t in mj_data['Tour'].unique()]}, {'title': f'MJ - {tour}'}],\n",
        "    )\n",
        "    buttons_mj.append(button)\n",
        "\n",
        "# Create buttons for Taylor Swift\n",
        "buttons_ts = []\n",
        "for tour in ts_data['Tour'].unique():\n",
        "    button = dict(\n",
        "        label=f'TS - {tour}',\n",
        "        method='update',\n",
        "        args=[{'visible': [tour == t for t in ts_data['Tour'].unique()]}, {'title': f'TS - {tour}'}],\n",
        "        args2=[{'visible': [tour == t for t in ts_data['Tour'].unique()]}, {'title': f'TS - {tour}'}],\n",
        "    )\n",
        "    buttons_ts.append(button)\n",
        "\n",
        "# Update layout for Michael Jackson plot\n",
        "fig_mj.update_layout(\n",
        "    title='Michael Jackson',\n",
        "    updatemenus=[{'buttons': buttons_mj}]\n",
        ")\n",
        "\n",
        "# Update layout for Taylor Swift plot\n",
        "fig_ts.update_layout(\n",
        "    title='Taylor Swift',\n",
        "    updatemenus=[{'buttons': buttons_ts}]\n",
        ")\n",
        "\n",
        "# Show plots\n",
        "fig_mj.show()\n",
        "fig_ts.show()"
      ]
    },
    {
      "cell_type": "code",
      "execution_count": null,
      "metadata": {},
      "outputs": [],
      "source": []
    }
  ],
  "metadata": {
    "colab": {
      "provenance": []
    },
    "kernelspec": {
      "display_name": "Python 3",
      "name": "python3"
    },
    "language_info": {
      "codemirror_mode": {
        "name": "ipython",
        "version": 3
      },
      "file_extension": ".py",
      "mimetype": "text/x-python",
      "name": "python",
      "nbconvert_exporter": "python",
      "pygments_lexer": "ipython3",
      "version": "3.12.2"
    }
  },
  "nbformat": 4,
  "nbformat_minor": 0
}
