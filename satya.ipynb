{
 "cells": [
  {
   "cell_type": "code",
   "execution_count": 271,
   "metadata": {},
   "outputs": [],
   "source": [
    "import pandas as pd\n",
    "import plotly.express as px\n",
    "import numpy as np\n",
    "import plotly.graph_objects as go\n",
    "from dash import Dash, html, dcc\n",
    "from dash.dependencies import Input, Output\n",
    "from plotly.offline import iplot , plot\n",
    "from plotly.subplots import make_subplots\n",
    "from sklearn.preprocessing import StandardScaler\n",
    "from sklearn.cluster import KMeans\n",
    "from sklearn.decomposition import PCA"
   ]
  },
  {
   "cell_type": "code",
   "execution_count": 272,
   "metadata": {},
   "outputs": [],
   "source": [
    "\n",
    "# Load your dataset\n",
    "df = pd.read_csv('dataset/Spotify-2000.csv')\n"
   ]
  },
  {
   "cell_type": "code",
   "execution_count": 273,
   "metadata": {},
   "outputs": [],
   "source": [
    "user_data = pd.read_csv('dataset/spotify_archive/Spotify Quarterly.csv')"
   ]
  },
  {
   "cell_type": "code",
   "execution_count": 274,
   "metadata": {},
   "outputs": [
    {
     "data": {
      "text/html": [
       "<div>\n",
       "<style scoped>\n",
       "    .dataframe tbody tr th:only-of-type {\n",
       "        vertical-align: middle;\n",
       "    }\n",
       "\n",
       "    .dataframe tbody tr th {\n",
       "        vertical-align: top;\n",
       "    }\n",
       "\n",
       "    .dataframe thead th {\n",
       "        text-align: right;\n",
       "    }\n",
       "</style>\n",
       "<table border=\"1\" class=\"dataframe\">\n",
       "  <thead>\n",
       "    <tr style=\"text-align: right;\">\n",
       "      <th></th>\n",
       "      <th>Date</th>\n",
       "      <th>Monthly Active User (MAU)</th>\n",
       "      <th>Premium Users</th>\n",
       "    </tr>\n",
       "  </thead>\n",
       "  <tbody>\n",
       "    <tr>\n",
       "      <th>0</th>\n",
       "      <td>Q1 2015</td>\n",
       "      <td>68</td>\n",
       "      <td>18</td>\n",
       "    </tr>\n",
       "    <tr>\n",
       "      <th>1</th>\n",
       "      <td>Q2 2015</td>\n",
       "      <td>77</td>\n",
       "      <td>22</td>\n",
       "    </tr>\n",
       "    <tr>\n",
       "      <th>2</th>\n",
       "      <td>Q3 2015</td>\n",
       "      <td>82</td>\n",
       "      <td>24</td>\n",
       "    </tr>\n",
       "    <tr>\n",
       "      <th>3</th>\n",
       "      <td>Q4 2015</td>\n",
       "      <td>91</td>\n",
       "      <td>28</td>\n",
       "    </tr>\n",
       "    <tr>\n",
       "      <th>4</th>\n",
       "      <td>Q1 2016</td>\n",
       "      <td>96</td>\n",
       "      <td>30</td>\n",
       "    </tr>\n",
       "  </tbody>\n",
       "</table>\n",
       "</div>"
      ],
      "text/plain": [
       "      Date  Monthly Active User (MAU)  Premium Users\n",
       "0  Q1 2015                         68             18\n",
       "1  Q2 2015                         77             22\n",
       "2  Q3 2015                         82             24\n",
       "3  Q4 2015                         91             28\n",
       "4  Q1 2016                         96             30"
      ]
     },
     "execution_count": 274,
     "metadata": {},
     "output_type": "execute_result"
    }
   ],
   "source": [
    "user_data.head()"
   ]
  },
  {
   "cell_type": "code",
   "execution_count": 275,
   "metadata": {},
   "outputs": [
    {
     "data": {
      "application/vnd.plotly.v1+json": {
       "config": {
        "plotlyServerURL": "https://plot.ly"
       },
       "data": [
        {
         "hovertemplate": "variable=Monthly Active User (MAU)<br>Date=%{x}<br>value=%{y}<extra></extra>",
         "legendgroup": "Monthly Active User (MAU)",
         "line": {
          "color": "#636efa",
          "dash": "solid"
         },
         "marker": {
          "symbol": "circle"
         },
         "mode": "lines",
         "name": "Monthly Active User (MAU)",
         "orientation": "v",
         "showlegend": true,
         "type": "scatter",
         "x": [
          "Q1 2015",
          "Q2 2015",
          "Q3 2015",
          "Q4 2015",
          "Q1 2016",
          "Q2 2016",
          "Q3 2016",
          "Q4 2016",
          "Q1 2017",
          "Q2 2017",
          "Q3 2017",
          "Q4 2017",
          "Q1 2018",
          "Q2 2018",
          "Q3 2018",
          "Q4 2018",
          "Q1 2019",
          "Q2 2019",
          "Q3 2019",
          "Q4 2019",
          "Q1 2020",
          "Q2 2020",
          "Q3 2020",
          "Q4 2020",
          "Q1 2021",
          "Q2 2021",
          "Q3 2021",
          "Q4 2021",
          "Q1 2022",
          "Q2 2022",
          "Q3 2022",
          "Q4 2022",
          "Q1 2023",
          "Q2 2023",
          "Q3 2023",
          "Q4 2023"
         ],
         "xaxis": "x",
         "y": [
          68,
          77,
          82,
          91,
          96,
          104,
          113,
          123,
          132,
          138,
          149,
          160,
          157,
          180,
          191,
          207,
          217,
          232,
          248,
          271,
          286,
          299,
          320,
          345,
          356,
          365,
          381,
          406,
          422,
          433,
          456,
          489,
          515,
          551,
          574,
          602
         ],
         "yaxis": "y"
        },
        {
         "hovertemplate": "variable=Premium Users<br>Date=%{x}<br>value=%{y}<extra></extra>",
         "legendgroup": "Premium Users",
         "line": {
          "color": "#EF553B",
          "dash": "solid"
         },
         "marker": {
          "symbol": "circle"
         },
         "mode": "lines",
         "name": "Premium Users",
         "orientation": "v",
         "showlegend": true,
         "type": "scatter",
         "x": [
          "Q1 2015",
          "Q2 2015",
          "Q3 2015",
          "Q4 2015",
          "Q1 2016",
          "Q2 2016",
          "Q3 2016",
          "Q4 2016",
          "Q1 2017",
          "Q2 2017",
          "Q3 2017",
          "Q4 2017",
          "Q1 2018",
          "Q2 2018",
          "Q3 2018",
          "Q4 2018",
          "Q1 2019",
          "Q2 2019",
          "Q3 2019",
          "Q4 2019",
          "Q1 2020",
          "Q2 2020",
          "Q3 2020",
          "Q4 2020",
          "Q1 2021",
          "Q2 2021",
          "Q3 2021",
          "Q4 2021",
          "Q1 2022",
          "Q2 2022",
          "Q3 2022",
          "Q4 2022",
          "Q1 2023",
          "Q2 2023",
          "Q3 2023",
          "Q4 2023"
         ],
         "xaxis": "x",
         "y": [
          18,
          22,
          24,
          28,
          30,
          36,
          40,
          48,
          52,
          59,
          62,
          71,
          75,
          83,
          87,
          96,
          100,
          108,
          113,
          124,
          130,
          138,
          144,
          155,
          158,
          165,
          172,
          180,
          182,
          188,
          195,
          205,
          210,
          220,
          226,
          236
         ],
         "yaxis": "y"
        }
       ],
       "layout": {
        "legend": {
         "title": {
          "text": "variable"
         },
         "tracegroupgap": 0
        },
        "template": {
         "data": {
          "bar": [
           {
            "error_x": {
             "color": "#2a3f5f"
            },
            "error_y": {
             "color": "#2a3f5f"
            },
            "marker": {
             "line": {
              "color": "#E5ECF6",
              "width": 0.5
             },
             "pattern": {
              "fillmode": "overlay",
              "size": 10,
              "solidity": 0.2
             }
            },
            "type": "bar"
           }
          ],
          "barpolar": [
           {
            "marker": {
             "line": {
              "color": "#E5ECF6",
              "width": 0.5
             },
             "pattern": {
              "fillmode": "overlay",
              "size": 10,
              "solidity": 0.2
             }
            },
            "type": "barpolar"
           }
          ],
          "carpet": [
           {
            "aaxis": {
             "endlinecolor": "#2a3f5f",
             "gridcolor": "white",
             "linecolor": "white",
             "minorgridcolor": "white",
             "startlinecolor": "#2a3f5f"
            },
            "baxis": {
             "endlinecolor": "#2a3f5f",
             "gridcolor": "white",
             "linecolor": "white",
             "minorgridcolor": "white",
             "startlinecolor": "#2a3f5f"
            },
            "type": "carpet"
           }
          ],
          "choropleth": [
           {
            "colorbar": {
             "outlinewidth": 0,
             "ticks": ""
            },
            "type": "choropleth"
           }
          ],
          "contour": [
           {
            "colorbar": {
             "outlinewidth": 0,
             "ticks": ""
            },
            "colorscale": [
             [
              0,
              "#0d0887"
             ],
             [
              0.1111111111111111,
              "#46039f"
             ],
             [
              0.2222222222222222,
              "#7201a8"
             ],
             [
              0.3333333333333333,
              "#9c179e"
             ],
             [
              0.4444444444444444,
              "#bd3786"
             ],
             [
              0.5555555555555556,
              "#d8576b"
             ],
             [
              0.6666666666666666,
              "#ed7953"
             ],
             [
              0.7777777777777778,
              "#fb9f3a"
             ],
             [
              0.8888888888888888,
              "#fdca26"
             ],
             [
              1,
              "#f0f921"
             ]
            ],
            "type": "contour"
           }
          ],
          "contourcarpet": [
           {
            "colorbar": {
             "outlinewidth": 0,
             "ticks": ""
            },
            "type": "contourcarpet"
           }
          ],
          "heatmap": [
           {
            "colorbar": {
             "outlinewidth": 0,
             "ticks": ""
            },
            "colorscale": [
             [
              0,
              "#0d0887"
             ],
             [
              0.1111111111111111,
              "#46039f"
             ],
             [
              0.2222222222222222,
              "#7201a8"
             ],
             [
              0.3333333333333333,
              "#9c179e"
             ],
             [
              0.4444444444444444,
              "#bd3786"
             ],
             [
              0.5555555555555556,
              "#d8576b"
             ],
             [
              0.6666666666666666,
              "#ed7953"
             ],
             [
              0.7777777777777778,
              "#fb9f3a"
             ],
             [
              0.8888888888888888,
              "#fdca26"
             ],
             [
              1,
              "#f0f921"
             ]
            ],
            "type": "heatmap"
           }
          ],
          "heatmapgl": [
           {
            "colorbar": {
             "outlinewidth": 0,
             "ticks": ""
            },
            "colorscale": [
             [
              0,
              "#0d0887"
             ],
             [
              0.1111111111111111,
              "#46039f"
             ],
             [
              0.2222222222222222,
              "#7201a8"
             ],
             [
              0.3333333333333333,
              "#9c179e"
             ],
             [
              0.4444444444444444,
              "#bd3786"
             ],
             [
              0.5555555555555556,
              "#d8576b"
             ],
             [
              0.6666666666666666,
              "#ed7953"
             ],
             [
              0.7777777777777778,
              "#fb9f3a"
             ],
             [
              0.8888888888888888,
              "#fdca26"
             ],
             [
              1,
              "#f0f921"
             ]
            ],
            "type": "heatmapgl"
           }
          ],
          "histogram": [
           {
            "marker": {
             "pattern": {
              "fillmode": "overlay",
              "size": 10,
              "solidity": 0.2
             }
            },
            "type": "histogram"
           }
          ],
          "histogram2d": [
           {
            "colorbar": {
             "outlinewidth": 0,
             "ticks": ""
            },
            "colorscale": [
             [
              0,
              "#0d0887"
             ],
             [
              0.1111111111111111,
              "#46039f"
             ],
             [
              0.2222222222222222,
              "#7201a8"
             ],
             [
              0.3333333333333333,
              "#9c179e"
             ],
             [
              0.4444444444444444,
              "#bd3786"
             ],
             [
              0.5555555555555556,
              "#d8576b"
             ],
             [
              0.6666666666666666,
              "#ed7953"
             ],
             [
              0.7777777777777778,
              "#fb9f3a"
             ],
             [
              0.8888888888888888,
              "#fdca26"
             ],
             [
              1,
              "#f0f921"
             ]
            ],
            "type": "histogram2d"
           }
          ],
          "histogram2dcontour": [
           {
            "colorbar": {
             "outlinewidth": 0,
             "ticks": ""
            },
            "colorscale": [
             [
              0,
              "#0d0887"
             ],
             [
              0.1111111111111111,
              "#46039f"
             ],
             [
              0.2222222222222222,
              "#7201a8"
             ],
             [
              0.3333333333333333,
              "#9c179e"
             ],
             [
              0.4444444444444444,
              "#bd3786"
             ],
             [
              0.5555555555555556,
              "#d8576b"
             ],
             [
              0.6666666666666666,
              "#ed7953"
             ],
             [
              0.7777777777777778,
              "#fb9f3a"
             ],
             [
              0.8888888888888888,
              "#fdca26"
             ],
             [
              1,
              "#f0f921"
             ]
            ],
            "type": "histogram2dcontour"
           }
          ],
          "mesh3d": [
           {
            "colorbar": {
             "outlinewidth": 0,
             "ticks": ""
            },
            "type": "mesh3d"
           }
          ],
          "parcoords": [
           {
            "line": {
             "colorbar": {
              "outlinewidth": 0,
              "ticks": ""
             }
            },
            "type": "parcoords"
           }
          ],
          "pie": [
           {
            "automargin": true,
            "type": "pie"
           }
          ],
          "scatter": [
           {
            "fillpattern": {
             "fillmode": "overlay",
             "size": 10,
             "solidity": 0.2
            },
            "type": "scatter"
           }
          ],
          "scatter3d": [
           {
            "line": {
             "colorbar": {
              "outlinewidth": 0,
              "ticks": ""
             }
            },
            "marker": {
             "colorbar": {
              "outlinewidth": 0,
              "ticks": ""
             }
            },
            "type": "scatter3d"
           }
          ],
          "scattercarpet": [
           {
            "marker": {
             "colorbar": {
              "outlinewidth": 0,
              "ticks": ""
             }
            },
            "type": "scattercarpet"
           }
          ],
          "scattergeo": [
           {
            "marker": {
             "colorbar": {
              "outlinewidth": 0,
              "ticks": ""
             }
            },
            "type": "scattergeo"
           }
          ],
          "scattergl": [
           {
            "marker": {
             "colorbar": {
              "outlinewidth": 0,
              "ticks": ""
             }
            },
            "type": "scattergl"
           }
          ],
          "scattermapbox": [
           {
            "marker": {
             "colorbar": {
              "outlinewidth": 0,
              "ticks": ""
             }
            },
            "type": "scattermapbox"
           }
          ],
          "scatterpolar": [
           {
            "marker": {
             "colorbar": {
              "outlinewidth": 0,
              "ticks": ""
             }
            },
            "type": "scatterpolar"
           }
          ],
          "scatterpolargl": [
           {
            "marker": {
             "colorbar": {
              "outlinewidth": 0,
              "ticks": ""
             }
            },
            "type": "scatterpolargl"
           }
          ],
          "scatterternary": [
           {
            "marker": {
             "colorbar": {
              "outlinewidth": 0,
              "ticks": ""
             }
            },
            "type": "scatterternary"
           }
          ],
          "surface": [
           {
            "colorbar": {
             "outlinewidth": 0,
             "ticks": ""
            },
            "colorscale": [
             [
              0,
              "#0d0887"
             ],
             [
              0.1111111111111111,
              "#46039f"
             ],
             [
              0.2222222222222222,
              "#7201a8"
             ],
             [
              0.3333333333333333,
              "#9c179e"
             ],
             [
              0.4444444444444444,
              "#bd3786"
             ],
             [
              0.5555555555555556,
              "#d8576b"
             ],
             [
              0.6666666666666666,
              "#ed7953"
             ],
             [
              0.7777777777777778,
              "#fb9f3a"
             ],
             [
              0.8888888888888888,
              "#fdca26"
             ],
             [
              1,
              "#f0f921"
             ]
            ],
            "type": "surface"
           }
          ],
          "table": [
           {
            "cells": {
             "fill": {
              "color": "#EBF0F8"
             },
             "line": {
              "color": "white"
             }
            },
            "header": {
             "fill": {
              "color": "#C8D4E3"
             },
             "line": {
              "color": "white"
             }
            },
            "type": "table"
           }
          ]
         },
         "layout": {
          "annotationdefaults": {
           "arrowcolor": "#2a3f5f",
           "arrowhead": 0,
           "arrowwidth": 1
          },
          "autotypenumbers": "strict",
          "coloraxis": {
           "colorbar": {
            "outlinewidth": 0,
            "ticks": ""
           }
          },
          "colorscale": {
           "diverging": [
            [
             0,
             "#8e0152"
            ],
            [
             0.1,
             "#c51b7d"
            ],
            [
             0.2,
             "#de77ae"
            ],
            [
             0.3,
             "#f1b6da"
            ],
            [
             0.4,
             "#fde0ef"
            ],
            [
             0.5,
             "#f7f7f7"
            ],
            [
             0.6,
             "#e6f5d0"
            ],
            [
             0.7,
             "#b8e186"
            ],
            [
             0.8,
             "#7fbc41"
            ],
            [
             0.9,
             "#4d9221"
            ],
            [
             1,
             "#276419"
            ]
           ],
           "sequential": [
            [
             0,
             "#0d0887"
            ],
            [
             0.1111111111111111,
             "#46039f"
            ],
            [
             0.2222222222222222,
             "#7201a8"
            ],
            [
             0.3333333333333333,
             "#9c179e"
            ],
            [
             0.4444444444444444,
             "#bd3786"
            ],
            [
             0.5555555555555556,
             "#d8576b"
            ],
            [
             0.6666666666666666,
             "#ed7953"
            ],
            [
             0.7777777777777778,
             "#fb9f3a"
            ],
            [
             0.8888888888888888,
             "#fdca26"
            ],
            [
             1,
             "#f0f921"
            ]
           ],
           "sequentialminus": [
            [
             0,
             "#0d0887"
            ],
            [
             0.1111111111111111,
             "#46039f"
            ],
            [
             0.2222222222222222,
             "#7201a8"
            ],
            [
             0.3333333333333333,
             "#9c179e"
            ],
            [
             0.4444444444444444,
             "#bd3786"
            ],
            [
             0.5555555555555556,
             "#d8576b"
            ],
            [
             0.6666666666666666,
             "#ed7953"
            ],
            [
             0.7777777777777778,
             "#fb9f3a"
            ],
            [
             0.8888888888888888,
             "#fdca26"
            ],
            [
             1,
             "#f0f921"
            ]
           ]
          },
          "colorway": [
           "#636efa",
           "#EF553B",
           "#00cc96",
           "#ab63fa",
           "#FFA15A",
           "#19d3f3",
           "#FF6692",
           "#B6E880",
           "#FF97FF",
           "#FECB52"
          ],
          "font": {
           "color": "#2a3f5f"
          },
          "geo": {
           "bgcolor": "white",
           "lakecolor": "white",
           "landcolor": "#E5ECF6",
           "showlakes": true,
           "showland": true,
           "subunitcolor": "white"
          },
          "hoverlabel": {
           "align": "left"
          },
          "hovermode": "closest",
          "mapbox": {
           "style": "light"
          },
          "paper_bgcolor": "white",
          "plot_bgcolor": "#E5ECF6",
          "polar": {
           "angularaxis": {
            "gridcolor": "white",
            "linecolor": "white",
            "ticks": ""
           },
           "bgcolor": "#E5ECF6",
           "radialaxis": {
            "gridcolor": "white",
            "linecolor": "white",
            "ticks": ""
           }
          },
          "scene": {
           "xaxis": {
            "backgroundcolor": "#E5ECF6",
            "gridcolor": "white",
            "gridwidth": 2,
            "linecolor": "white",
            "showbackground": true,
            "ticks": "",
            "zerolinecolor": "white"
           },
           "yaxis": {
            "backgroundcolor": "#E5ECF6",
            "gridcolor": "white",
            "gridwidth": 2,
            "linecolor": "white",
            "showbackground": true,
            "ticks": "",
            "zerolinecolor": "white"
           },
           "zaxis": {
            "backgroundcolor": "#E5ECF6",
            "gridcolor": "white",
            "gridwidth": 2,
            "linecolor": "white",
            "showbackground": true,
            "ticks": "",
            "zerolinecolor": "white"
           }
          },
          "shapedefaults": {
           "line": {
            "color": "#2a3f5f"
           }
          },
          "ternary": {
           "aaxis": {
            "gridcolor": "white",
            "linecolor": "white",
            "ticks": ""
           },
           "baxis": {
            "gridcolor": "white",
            "linecolor": "white",
            "ticks": ""
           },
           "bgcolor": "#E5ECF6",
           "caxis": {
            "gridcolor": "white",
            "linecolor": "white",
            "ticks": ""
           }
          },
          "title": {
           "x": 0.05
          },
          "xaxis": {
           "automargin": true,
           "gridcolor": "white",
           "linecolor": "white",
           "ticks": "",
           "title": {
            "standoff": 15
           },
           "zerolinecolor": "white",
           "zerolinewidth": 2
          },
          "yaxis": {
           "automargin": true,
           "gridcolor": "white",
           "linecolor": "white",
           "ticks": "",
           "title": {
            "standoff": 15
           },
           "zerolinecolor": "white",
           "zerolinewidth": 2
          }
         }
        },
        "title": {
         "text": "Spotify MAUs and Premium Users Over Quarters"
        },
        "xaxis": {
         "anchor": "y",
         "domain": [
          0,
          1
         ],
         "title": {
          "text": "Quarter"
         }
        },
        "yaxis": {
         "anchor": "x",
         "domain": [
          0,
          1
         ],
         "title": {
          "text": "Millions"
         }
        }
       }
      }
     },
     "metadata": {},
     "output_type": "display_data"
    }
   ],
   "source": [
    "# Plot\n",
    "fig = px.line(user_data, x='Date', y=['Monthly Active User (MAU)', 'Premium Users'], title='Spotify MAUs and Premium Users Over Quarters')\n",
    "fig.update_layout(xaxis_title='Quarter', yaxis_title='Millions')\n",
    "fig.show()"
   ]
  },
  {
   "cell_type": "code",
   "execution_count": 276,
   "metadata": {},
   "outputs": [
    {
     "data": {
      "application/vnd.plotly.v1+json": {
       "config": {
        "plotlyServerURL": "https://plot.ly"
       },
       "data": [
        {
         "alignmentgroup": "True",
         "hovertemplate": "variable=Monthly Active User (MAU)<br>Date=%{x}<br>value=%{y}<extra></extra>",
         "legendgroup": "Monthly Active User (MAU)",
         "marker": {
          "color": "#636efa",
          "pattern": {
           "shape": ""
          }
         },
         "name": "Monthly Active User (MAU)",
         "offsetgroup": "Monthly Active User (MAU)",
         "orientation": "v",
         "showlegend": true,
         "textposition": "auto",
         "type": "bar",
         "x": [
          "Q1 2015",
          "Q2 2015",
          "Q3 2015",
          "Q4 2015",
          "Q1 2016",
          "Q2 2016",
          "Q3 2016",
          "Q4 2016",
          "Q1 2017",
          "Q2 2017",
          "Q3 2017",
          "Q4 2017",
          "Q1 2018",
          "Q2 2018",
          "Q3 2018",
          "Q4 2018",
          "Q1 2019",
          "Q2 2019",
          "Q3 2019",
          "Q4 2019",
          "Q1 2020",
          "Q2 2020",
          "Q3 2020",
          "Q4 2020",
          "Q1 2021",
          "Q2 2021",
          "Q3 2021",
          "Q4 2021",
          "Q1 2022",
          "Q2 2022",
          "Q3 2022",
          "Q4 2022",
          "Q1 2023",
          "Q2 2023",
          "Q3 2023",
          "Q4 2023"
         ],
         "xaxis": "x",
         "y": [
          68,
          77,
          82,
          91,
          96,
          104,
          113,
          123,
          132,
          138,
          149,
          160,
          157,
          180,
          191,
          207,
          217,
          232,
          248,
          271,
          286,
          299,
          320,
          345,
          356,
          365,
          381,
          406,
          422,
          433,
          456,
          489,
          515,
          551,
          574,
          602
         ],
         "yaxis": "y"
        },
        {
         "alignmentgroup": "True",
         "hovertemplate": "variable=Premium Users<br>Date=%{x}<br>value=%{y}<extra></extra>",
         "legendgroup": "Premium Users",
         "marker": {
          "color": "#EF553B",
          "pattern": {
           "shape": ""
          }
         },
         "name": "Premium Users",
         "offsetgroup": "Premium Users",
         "orientation": "v",
         "showlegend": true,
         "textposition": "auto",
         "type": "bar",
         "x": [
          "Q1 2015",
          "Q2 2015",
          "Q3 2015",
          "Q4 2015",
          "Q1 2016",
          "Q2 2016",
          "Q3 2016",
          "Q4 2016",
          "Q1 2017",
          "Q2 2017",
          "Q3 2017",
          "Q4 2017",
          "Q1 2018",
          "Q2 2018",
          "Q3 2018",
          "Q4 2018",
          "Q1 2019",
          "Q2 2019",
          "Q3 2019",
          "Q4 2019",
          "Q1 2020",
          "Q2 2020",
          "Q3 2020",
          "Q4 2020",
          "Q1 2021",
          "Q2 2021",
          "Q3 2021",
          "Q4 2021",
          "Q1 2022",
          "Q2 2022",
          "Q3 2022",
          "Q4 2022",
          "Q1 2023",
          "Q2 2023",
          "Q3 2023",
          "Q4 2023"
         ],
         "xaxis": "x",
         "y": [
          18,
          22,
          24,
          28,
          30,
          36,
          40,
          48,
          52,
          59,
          62,
          71,
          75,
          83,
          87,
          96,
          100,
          108,
          113,
          124,
          130,
          138,
          144,
          155,
          158,
          165,
          172,
          180,
          182,
          188,
          195,
          205,
          210,
          220,
          226,
          236
         ],
         "yaxis": "y"
        }
       ],
       "layout": {
        "barmode": "group",
        "legend": {
         "title": {
          "text": "variable"
         },
         "tracegroupgap": 0
        },
        "template": {
         "data": {
          "bar": [
           {
            "error_x": {
             "color": "#2a3f5f"
            },
            "error_y": {
             "color": "#2a3f5f"
            },
            "marker": {
             "line": {
              "color": "#E5ECF6",
              "width": 0.5
             },
             "pattern": {
              "fillmode": "overlay",
              "size": 10,
              "solidity": 0.2
             }
            },
            "type": "bar"
           }
          ],
          "barpolar": [
           {
            "marker": {
             "line": {
              "color": "#E5ECF6",
              "width": 0.5
             },
             "pattern": {
              "fillmode": "overlay",
              "size": 10,
              "solidity": 0.2
             }
            },
            "type": "barpolar"
           }
          ],
          "carpet": [
           {
            "aaxis": {
             "endlinecolor": "#2a3f5f",
             "gridcolor": "white",
             "linecolor": "white",
             "minorgridcolor": "white",
             "startlinecolor": "#2a3f5f"
            },
            "baxis": {
             "endlinecolor": "#2a3f5f",
             "gridcolor": "white",
             "linecolor": "white",
             "minorgridcolor": "white",
             "startlinecolor": "#2a3f5f"
            },
            "type": "carpet"
           }
          ],
          "choropleth": [
           {
            "colorbar": {
             "outlinewidth": 0,
             "ticks": ""
            },
            "type": "choropleth"
           }
          ],
          "contour": [
           {
            "colorbar": {
             "outlinewidth": 0,
             "ticks": ""
            },
            "colorscale": [
             [
              0,
              "#0d0887"
             ],
             [
              0.1111111111111111,
              "#46039f"
             ],
             [
              0.2222222222222222,
              "#7201a8"
             ],
             [
              0.3333333333333333,
              "#9c179e"
             ],
             [
              0.4444444444444444,
              "#bd3786"
             ],
             [
              0.5555555555555556,
              "#d8576b"
             ],
             [
              0.6666666666666666,
              "#ed7953"
             ],
             [
              0.7777777777777778,
              "#fb9f3a"
             ],
             [
              0.8888888888888888,
              "#fdca26"
             ],
             [
              1,
              "#f0f921"
             ]
            ],
            "type": "contour"
           }
          ],
          "contourcarpet": [
           {
            "colorbar": {
             "outlinewidth": 0,
             "ticks": ""
            },
            "type": "contourcarpet"
           }
          ],
          "heatmap": [
           {
            "colorbar": {
             "outlinewidth": 0,
             "ticks": ""
            },
            "colorscale": [
             [
              0,
              "#0d0887"
             ],
             [
              0.1111111111111111,
              "#46039f"
             ],
             [
              0.2222222222222222,
              "#7201a8"
             ],
             [
              0.3333333333333333,
              "#9c179e"
             ],
             [
              0.4444444444444444,
              "#bd3786"
             ],
             [
              0.5555555555555556,
              "#d8576b"
             ],
             [
              0.6666666666666666,
              "#ed7953"
             ],
             [
              0.7777777777777778,
              "#fb9f3a"
             ],
             [
              0.8888888888888888,
              "#fdca26"
             ],
             [
              1,
              "#f0f921"
             ]
            ],
            "type": "heatmap"
           }
          ],
          "heatmapgl": [
           {
            "colorbar": {
             "outlinewidth": 0,
             "ticks": ""
            },
            "colorscale": [
             [
              0,
              "#0d0887"
             ],
             [
              0.1111111111111111,
              "#46039f"
             ],
             [
              0.2222222222222222,
              "#7201a8"
             ],
             [
              0.3333333333333333,
              "#9c179e"
             ],
             [
              0.4444444444444444,
              "#bd3786"
             ],
             [
              0.5555555555555556,
              "#d8576b"
             ],
             [
              0.6666666666666666,
              "#ed7953"
             ],
             [
              0.7777777777777778,
              "#fb9f3a"
             ],
             [
              0.8888888888888888,
              "#fdca26"
             ],
             [
              1,
              "#f0f921"
             ]
            ],
            "type": "heatmapgl"
           }
          ],
          "histogram": [
           {
            "marker": {
             "pattern": {
              "fillmode": "overlay",
              "size": 10,
              "solidity": 0.2
             }
            },
            "type": "histogram"
           }
          ],
          "histogram2d": [
           {
            "colorbar": {
             "outlinewidth": 0,
             "ticks": ""
            },
            "colorscale": [
             [
              0,
              "#0d0887"
             ],
             [
              0.1111111111111111,
              "#46039f"
             ],
             [
              0.2222222222222222,
              "#7201a8"
             ],
             [
              0.3333333333333333,
              "#9c179e"
             ],
             [
              0.4444444444444444,
              "#bd3786"
             ],
             [
              0.5555555555555556,
              "#d8576b"
             ],
             [
              0.6666666666666666,
              "#ed7953"
             ],
             [
              0.7777777777777778,
              "#fb9f3a"
             ],
             [
              0.8888888888888888,
              "#fdca26"
             ],
             [
              1,
              "#f0f921"
             ]
            ],
            "type": "histogram2d"
           }
          ],
          "histogram2dcontour": [
           {
            "colorbar": {
             "outlinewidth": 0,
             "ticks": ""
            },
            "colorscale": [
             [
              0,
              "#0d0887"
             ],
             [
              0.1111111111111111,
              "#46039f"
             ],
             [
              0.2222222222222222,
              "#7201a8"
             ],
             [
              0.3333333333333333,
              "#9c179e"
             ],
             [
              0.4444444444444444,
              "#bd3786"
             ],
             [
              0.5555555555555556,
              "#d8576b"
             ],
             [
              0.6666666666666666,
              "#ed7953"
             ],
             [
              0.7777777777777778,
              "#fb9f3a"
             ],
             [
              0.8888888888888888,
              "#fdca26"
             ],
             [
              1,
              "#f0f921"
             ]
            ],
            "type": "histogram2dcontour"
           }
          ],
          "mesh3d": [
           {
            "colorbar": {
             "outlinewidth": 0,
             "ticks": ""
            },
            "type": "mesh3d"
           }
          ],
          "parcoords": [
           {
            "line": {
             "colorbar": {
              "outlinewidth": 0,
              "ticks": ""
             }
            },
            "type": "parcoords"
           }
          ],
          "pie": [
           {
            "automargin": true,
            "type": "pie"
           }
          ],
          "scatter": [
           {
            "fillpattern": {
             "fillmode": "overlay",
             "size": 10,
             "solidity": 0.2
            },
            "type": "scatter"
           }
          ],
          "scatter3d": [
           {
            "line": {
             "colorbar": {
              "outlinewidth": 0,
              "ticks": ""
             }
            },
            "marker": {
             "colorbar": {
              "outlinewidth": 0,
              "ticks": ""
             }
            },
            "type": "scatter3d"
           }
          ],
          "scattercarpet": [
           {
            "marker": {
             "colorbar": {
              "outlinewidth": 0,
              "ticks": ""
             }
            },
            "type": "scattercarpet"
           }
          ],
          "scattergeo": [
           {
            "marker": {
             "colorbar": {
              "outlinewidth": 0,
              "ticks": ""
             }
            },
            "type": "scattergeo"
           }
          ],
          "scattergl": [
           {
            "marker": {
             "colorbar": {
              "outlinewidth": 0,
              "ticks": ""
             }
            },
            "type": "scattergl"
           }
          ],
          "scattermapbox": [
           {
            "marker": {
             "colorbar": {
              "outlinewidth": 0,
              "ticks": ""
             }
            },
            "type": "scattermapbox"
           }
          ],
          "scatterpolar": [
           {
            "marker": {
             "colorbar": {
              "outlinewidth": 0,
              "ticks": ""
             }
            },
            "type": "scatterpolar"
           }
          ],
          "scatterpolargl": [
           {
            "marker": {
             "colorbar": {
              "outlinewidth": 0,
              "ticks": ""
             }
            },
            "type": "scatterpolargl"
           }
          ],
          "scatterternary": [
           {
            "marker": {
             "colorbar": {
              "outlinewidth": 0,
              "ticks": ""
             }
            },
            "type": "scatterternary"
           }
          ],
          "surface": [
           {
            "colorbar": {
             "outlinewidth": 0,
             "ticks": ""
            },
            "colorscale": [
             [
              0,
              "#0d0887"
             ],
             [
              0.1111111111111111,
              "#46039f"
             ],
             [
              0.2222222222222222,
              "#7201a8"
             ],
             [
              0.3333333333333333,
              "#9c179e"
             ],
             [
              0.4444444444444444,
              "#bd3786"
             ],
             [
              0.5555555555555556,
              "#d8576b"
             ],
             [
              0.6666666666666666,
              "#ed7953"
             ],
             [
              0.7777777777777778,
              "#fb9f3a"
             ],
             [
              0.8888888888888888,
              "#fdca26"
             ],
             [
              1,
              "#f0f921"
             ]
            ],
            "type": "surface"
           }
          ],
          "table": [
           {
            "cells": {
             "fill": {
              "color": "#EBF0F8"
             },
             "line": {
              "color": "white"
             }
            },
            "header": {
             "fill": {
              "color": "#C8D4E3"
             },
             "line": {
              "color": "white"
             }
            },
            "type": "table"
           }
          ]
         },
         "layout": {
          "annotationdefaults": {
           "arrowcolor": "#2a3f5f",
           "arrowhead": 0,
           "arrowwidth": 1
          },
          "autotypenumbers": "strict",
          "coloraxis": {
           "colorbar": {
            "outlinewidth": 0,
            "ticks": ""
           }
          },
          "colorscale": {
           "diverging": [
            [
             0,
             "#8e0152"
            ],
            [
             0.1,
             "#c51b7d"
            ],
            [
             0.2,
             "#de77ae"
            ],
            [
             0.3,
             "#f1b6da"
            ],
            [
             0.4,
             "#fde0ef"
            ],
            [
             0.5,
             "#f7f7f7"
            ],
            [
             0.6,
             "#e6f5d0"
            ],
            [
             0.7,
             "#b8e186"
            ],
            [
             0.8,
             "#7fbc41"
            ],
            [
             0.9,
             "#4d9221"
            ],
            [
             1,
             "#276419"
            ]
           ],
           "sequential": [
            [
             0,
             "#0d0887"
            ],
            [
             0.1111111111111111,
             "#46039f"
            ],
            [
             0.2222222222222222,
             "#7201a8"
            ],
            [
             0.3333333333333333,
             "#9c179e"
            ],
            [
             0.4444444444444444,
             "#bd3786"
            ],
            [
             0.5555555555555556,
             "#d8576b"
            ],
            [
             0.6666666666666666,
             "#ed7953"
            ],
            [
             0.7777777777777778,
             "#fb9f3a"
            ],
            [
             0.8888888888888888,
             "#fdca26"
            ],
            [
             1,
             "#f0f921"
            ]
           ],
           "sequentialminus": [
            [
             0,
             "#0d0887"
            ],
            [
             0.1111111111111111,
             "#46039f"
            ],
            [
             0.2222222222222222,
             "#7201a8"
            ],
            [
             0.3333333333333333,
             "#9c179e"
            ],
            [
             0.4444444444444444,
             "#bd3786"
            ],
            [
             0.5555555555555556,
             "#d8576b"
            ],
            [
             0.6666666666666666,
             "#ed7953"
            ],
            [
             0.7777777777777778,
             "#fb9f3a"
            ],
            [
             0.8888888888888888,
             "#fdca26"
            ],
            [
             1,
             "#f0f921"
            ]
           ]
          },
          "colorway": [
           "#636efa",
           "#EF553B",
           "#00cc96",
           "#ab63fa",
           "#FFA15A",
           "#19d3f3",
           "#FF6692",
           "#B6E880",
           "#FF97FF",
           "#FECB52"
          ],
          "font": {
           "color": "#2a3f5f"
          },
          "geo": {
           "bgcolor": "white",
           "lakecolor": "white",
           "landcolor": "#E5ECF6",
           "showlakes": true,
           "showland": true,
           "subunitcolor": "white"
          },
          "hoverlabel": {
           "align": "left"
          },
          "hovermode": "closest",
          "mapbox": {
           "style": "light"
          },
          "paper_bgcolor": "white",
          "plot_bgcolor": "#E5ECF6",
          "polar": {
           "angularaxis": {
            "gridcolor": "white",
            "linecolor": "white",
            "ticks": ""
           },
           "bgcolor": "#E5ECF6",
           "radialaxis": {
            "gridcolor": "white",
            "linecolor": "white",
            "ticks": ""
           }
          },
          "scene": {
           "xaxis": {
            "backgroundcolor": "#E5ECF6",
            "gridcolor": "white",
            "gridwidth": 2,
            "linecolor": "white",
            "showbackground": true,
            "ticks": "",
            "zerolinecolor": "white"
           },
           "yaxis": {
            "backgroundcolor": "#E5ECF6",
            "gridcolor": "white",
            "gridwidth": 2,
            "linecolor": "white",
            "showbackground": true,
            "ticks": "",
            "zerolinecolor": "white"
           },
           "zaxis": {
            "backgroundcolor": "#E5ECF6",
            "gridcolor": "white",
            "gridwidth": 2,
            "linecolor": "white",
            "showbackground": true,
            "ticks": "",
            "zerolinecolor": "white"
           }
          },
          "shapedefaults": {
           "line": {
            "color": "#2a3f5f"
           }
          },
          "ternary": {
           "aaxis": {
            "gridcolor": "white",
            "linecolor": "white",
            "ticks": ""
           },
           "baxis": {
            "gridcolor": "white",
            "linecolor": "white",
            "ticks": ""
           },
           "bgcolor": "#E5ECF6",
           "caxis": {
            "gridcolor": "white",
            "linecolor": "white",
            "ticks": ""
           }
          },
          "title": {
           "x": 0.05
          },
          "xaxis": {
           "automargin": true,
           "gridcolor": "white",
           "linecolor": "white",
           "ticks": "",
           "title": {
            "standoff": 15
           },
           "zerolinecolor": "white",
           "zerolinewidth": 2
          },
          "yaxis": {
           "automargin": true,
           "gridcolor": "white",
           "linecolor": "white",
           "ticks": "",
           "title": {
            "standoff": 15
           },
           "zerolinecolor": "white",
           "zerolinewidth": 2
          }
         }
        },
        "title": {
         "text": "Spotify MAUs and Premium Users Over Quarters"
        },
        "xaxis": {
         "anchor": "y",
         "domain": [
          0,
          1
         ],
         "title": {
          "text": "Quarter"
         }
        },
        "yaxis": {
         "anchor": "x",
         "domain": [
          0,
          1
         ],
         "title": {
          "text": "Millions"
         }
        }
       }
      }
     },
     "metadata": {},
     "output_type": "display_data"
    }
   ],
   "source": [
    "# Bar chart example\n",
    "fig = px.bar(user_data, x='Date', y=['Monthly Active User (MAU)', 'Premium Users'], barmode='group', title='Spotify MAUs and Premium Users Over Quarters')\n",
    "fig.update_layout(xaxis_title='Quarter', yaxis_title='Millions')\n",
    "fig.show()"
   ]
  },
  {
   "cell_type": "code",
   "execution_count": 277,
   "metadata": {},
   "outputs": [],
   "source": [
    "world_user = pd.read_csv('dataset/spotify_archive/World Users.csv')"
   ]
  },
  {
   "cell_type": "code",
   "execution_count": 278,
   "metadata": {},
   "outputs": [
    {
     "data": {
      "text/html": [
       "<div>\n",
       "<style scoped>\n",
       "    .dataframe tbody tr th:only-of-type {\n",
       "        vertical-align: middle;\n",
       "    }\n",
       "\n",
       "    .dataframe tbody tr th {\n",
       "        vertical-align: top;\n",
       "    }\n",
       "\n",
       "    .dataframe thead th {\n",
       "        text-align: right;\n",
       "    }\n",
       "</style>\n",
       "<table border=\"1\" class=\"dataframe\">\n",
       "  <thead>\n",
       "    <tr style=\"text-align: right;\">\n",
       "      <th></th>\n",
       "      <th>Year</th>\n",
       "      <th>Europe</th>\n",
       "      <th>North America</th>\n",
       "      <th>Latin America</th>\n",
       "      <th>Rest of World</th>\n",
       "    </tr>\n",
       "  </thead>\n",
       "  <tbody>\n",
       "    <tr>\n",
       "      <th>0</th>\n",
       "      <td>2016</td>\n",
       "      <td>40</td>\n",
       "      <td>36</td>\n",
       "      <td>20</td>\n",
       "      <td>8</td>\n",
       "    </tr>\n",
       "    <tr>\n",
       "      <th>1</th>\n",
       "      <td>2017</td>\n",
       "      <td>51</td>\n",
       "      <td>46</td>\n",
       "      <td>28</td>\n",
       "      <td>13</td>\n",
       "    </tr>\n",
       "    <tr>\n",
       "      <th>2</th>\n",
       "      <td>2018</td>\n",
       "      <td>66</td>\n",
       "      <td>56</td>\n",
       "      <td>38</td>\n",
       "      <td>20</td>\n",
       "    </tr>\n",
       "    <tr>\n",
       "      <th>3</th>\n",
       "      <td>2019</td>\n",
       "      <td>83</td>\n",
       "      <td>65</td>\n",
       "      <td>49</td>\n",
       "      <td>35</td>\n",
       "    </tr>\n",
       "    <tr>\n",
       "      <th>4</th>\n",
       "      <td>2020</td>\n",
       "      <td>102</td>\n",
       "      <td>77</td>\n",
       "      <td>66</td>\n",
       "      <td>54</td>\n",
       "    </tr>\n",
       "    <tr>\n",
       "      <th>5</th>\n",
       "      <td>2021</td>\n",
       "      <td>124</td>\n",
       "      <td>88</td>\n",
       "      <td>80</td>\n",
       "      <td>73</td>\n",
       "    </tr>\n",
       "    <tr>\n",
       "      <th>6</th>\n",
       "      <td>2022</td>\n",
       "      <td>138</td>\n",
       "      <td>97</td>\n",
       "      <td>95</td>\n",
       "      <td>103</td>\n",
       "    </tr>\n",
       "    <tr>\n",
       "      <th>7</th>\n",
       "      <td>2023</td>\n",
       "      <td>159</td>\n",
       "      <td>111</td>\n",
       "      <td>116</td>\n",
       "      <td>165</td>\n",
       "    </tr>\n",
       "  </tbody>\n",
       "</table>\n",
       "</div>"
      ],
      "text/plain": [
       "   Year  Europe  North America  Latin America  Rest of World\n",
       "0  2016      40             36             20              8\n",
       "1  2017      51             46             28             13\n",
       "2  2018      66             56             38             20\n",
       "3  2019      83             65             49             35\n",
       "4  2020     102             77             66             54\n",
       "5  2021     124             88             80             73\n",
       "6  2022     138             97             95            103\n",
       "7  2023     159            111            116            165"
      ]
     },
     "execution_count": 278,
     "metadata": {},
     "output_type": "execute_result"
    }
   ],
   "source": [
    "world_user"
   ]
  },
  {
   "cell_type": "code",
   "execution_count": 279,
   "metadata": {},
   "outputs": [
    {
     "data": {
      "application/vnd.plotly.v1+json": {
       "config": {
        "plotlyServerURL": "https://plot.ly"
       },
       "data": [
        {
         "fillpattern": {
          "shape": ""
         },
         "hovertemplate": "Region=Europe<br>Year=%{x}<br>Users (millions)=%{y}<extra></extra>",
         "legendgroup": "Europe",
         "line": {
          "color": "#636efa"
         },
         "marker": {
          "symbol": "circle"
         },
         "mode": "lines",
         "name": "Europe",
         "orientation": "v",
         "showlegend": true,
         "stackgroup": "1",
         "type": "scatter",
         "x": [
          2016,
          2017,
          2018,
          2019,
          2020,
          2021,
          2022,
          2023
         ],
         "xaxis": "x",
         "y": [
          40,
          51,
          66,
          83,
          102,
          124,
          138,
          159
         ],
         "yaxis": "y"
        },
        {
         "fillpattern": {
          "shape": ""
         },
         "hovertemplate": "Region=North America<br>Year=%{x}<br>Users (millions)=%{y}<extra></extra>",
         "legendgroup": "North America",
         "line": {
          "color": "#EF553B"
         },
         "marker": {
          "symbol": "circle"
         },
         "mode": "lines",
         "name": "North America",
         "orientation": "v",
         "showlegend": true,
         "stackgroup": "1",
         "type": "scatter",
         "x": [
          2016,
          2017,
          2018,
          2019,
          2020,
          2021,
          2022,
          2023
         ],
         "xaxis": "x",
         "y": [
          36,
          46,
          56,
          65,
          77,
          88,
          97,
          111
         ],
         "yaxis": "y"
        },
        {
         "fillpattern": {
          "shape": ""
         },
         "hovertemplate": "Region=Latin America<br>Year=%{x}<br>Users (millions)=%{y}<extra></extra>",
         "legendgroup": "Latin America",
         "line": {
          "color": "#00cc96"
         },
         "marker": {
          "symbol": "circle"
         },
         "mode": "lines",
         "name": "Latin America",
         "orientation": "v",
         "showlegend": true,
         "stackgroup": "1",
         "type": "scatter",
         "x": [
          2016,
          2017,
          2018,
          2019,
          2020,
          2021,
          2022,
          2023
         ],
         "xaxis": "x",
         "y": [
          20,
          28,
          38,
          49,
          66,
          80,
          95,
          116
         ],
         "yaxis": "y"
        },
        {
         "fillpattern": {
          "shape": ""
         },
         "hovertemplate": "Region=Rest of World<br>Year=%{x}<br>Users (millions)=%{y}<extra></extra>",
         "legendgroup": "Rest of World",
         "line": {
          "color": "#ab63fa"
         },
         "marker": {
          "symbol": "circle"
         },
         "mode": "lines",
         "name": "Rest of World",
         "orientation": "v",
         "showlegend": true,
         "stackgroup": "1",
         "type": "scatter",
         "x": [
          2016,
          2017,
          2018,
          2019,
          2020,
          2021,
          2022,
          2023
         ],
         "xaxis": "x",
         "y": [
          8,
          13,
          20,
          35,
          54,
          73,
          103,
          165
         ],
         "yaxis": "y"
        }
       ],
       "layout": {
        "legend": {
         "title": {
          "text": "Region"
         },
         "tracegroupgap": 0
        },
        "template": {
         "data": {
          "bar": [
           {
            "error_x": {
             "color": "#2a3f5f"
            },
            "error_y": {
             "color": "#2a3f5f"
            },
            "marker": {
             "line": {
              "color": "#E5ECF6",
              "width": 0.5
             },
             "pattern": {
              "fillmode": "overlay",
              "size": 10,
              "solidity": 0.2
             }
            },
            "type": "bar"
           }
          ],
          "barpolar": [
           {
            "marker": {
             "line": {
              "color": "#E5ECF6",
              "width": 0.5
             },
             "pattern": {
              "fillmode": "overlay",
              "size": 10,
              "solidity": 0.2
             }
            },
            "type": "barpolar"
           }
          ],
          "carpet": [
           {
            "aaxis": {
             "endlinecolor": "#2a3f5f",
             "gridcolor": "white",
             "linecolor": "white",
             "minorgridcolor": "white",
             "startlinecolor": "#2a3f5f"
            },
            "baxis": {
             "endlinecolor": "#2a3f5f",
             "gridcolor": "white",
             "linecolor": "white",
             "minorgridcolor": "white",
             "startlinecolor": "#2a3f5f"
            },
            "type": "carpet"
           }
          ],
          "choropleth": [
           {
            "colorbar": {
             "outlinewidth": 0,
             "ticks": ""
            },
            "type": "choropleth"
           }
          ],
          "contour": [
           {
            "colorbar": {
             "outlinewidth": 0,
             "ticks": ""
            },
            "colorscale": [
             [
              0,
              "#0d0887"
             ],
             [
              0.1111111111111111,
              "#46039f"
             ],
             [
              0.2222222222222222,
              "#7201a8"
             ],
             [
              0.3333333333333333,
              "#9c179e"
             ],
             [
              0.4444444444444444,
              "#bd3786"
             ],
             [
              0.5555555555555556,
              "#d8576b"
             ],
             [
              0.6666666666666666,
              "#ed7953"
             ],
             [
              0.7777777777777778,
              "#fb9f3a"
             ],
             [
              0.8888888888888888,
              "#fdca26"
             ],
             [
              1,
              "#f0f921"
             ]
            ],
            "type": "contour"
           }
          ],
          "contourcarpet": [
           {
            "colorbar": {
             "outlinewidth": 0,
             "ticks": ""
            },
            "type": "contourcarpet"
           }
          ],
          "heatmap": [
           {
            "colorbar": {
             "outlinewidth": 0,
             "ticks": ""
            },
            "colorscale": [
             [
              0,
              "#0d0887"
             ],
             [
              0.1111111111111111,
              "#46039f"
             ],
             [
              0.2222222222222222,
              "#7201a8"
             ],
             [
              0.3333333333333333,
              "#9c179e"
             ],
             [
              0.4444444444444444,
              "#bd3786"
             ],
             [
              0.5555555555555556,
              "#d8576b"
             ],
             [
              0.6666666666666666,
              "#ed7953"
             ],
             [
              0.7777777777777778,
              "#fb9f3a"
             ],
             [
              0.8888888888888888,
              "#fdca26"
             ],
             [
              1,
              "#f0f921"
             ]
            ],
            "type": "heatmap"
           }
          ],
          "heatmapgl": [
           {
            "colorbar": {
             "outlinewidth": 0,
             "ticks": ""
            },
            "colorscale": [
             [
              0,
              "#0d0887"
             ],
             [
              0.1111111111111111,
              "#46039f"
             ],
             [
              0.2222222222222222,
              "#7201a8"
             ],
             [
              0.3333333333333333,
              "#9c179e"
             ],
             [
              0.4444444444444444,
              "#bd3786"
             ],
             [
              0.5555555555555556,
              "#d8576b"
             ],
             [
              0.6666666666666666,
              "#ed7953"
             ],
             [
              0.7777777777777778,
              "#fb9f3a"
             ],
             [
              0.8888888888888888,
              "#fdca26"
             ],
             [
              1,
              "#f0f921"
             ]
            ],
            "type": "heatmapgl"
           }
          ],
          "histogram": [
           {
            "marker": {
             "pattern": {
              "fillmode": "overlay",
              "size": 10,
              "solidity": 0.2
             }
            },
            "type": "histogram"
           }
          ],
          "histogram2d": [
           {
            "colorbar": {
             "outlinewidth": 0,
             "ticks": ""
            },
            "colorscale": [
             [
              0,
              "#0d0887"
             ],
             [
              0.1111111111111111,
              "#46039f"
             ],
             [
              0.2222222222222222,
              "#7201a8"
             ],
             [
              0.3333333333333333,
              "#9c179e"
             ],
             [
              0.4444444444444444,
              "#bd3786"
             ],
             [
              0.5555555555555556,
              "#d8576b"
             ],
             [
              0.6666666666666666,
              "#ed7953"
             ],
             [
              0.7777777777777778,
              "#fb9f3a"
             ],
             [
              0.8888888888888888,
              "#fdca26"
             ],
             [
              1,
              "#f0f921"
             ]
            ],
            "type": "histogram2d"
           }
          ],
          "histogram2dcontour": [
           {
            "colorbar": {
             "outlinewidth": 0,
             "ticks": ""
            },
            "colorscale": [
             [
              0,
              "#0d0887"
             ],
             [
              0.1111111111111111,
              "#46039f"
             ],
             [
              0.2222222222222222,
              "#7201a8"
             ],
             [
              0.3333333333333333,
              "#9c179e"
             ],
             [
              0.4444444444444444,
              "#bd3786"
             ],
             [
              0.5555555555555556,
              "#d8576b"
             ],
             [
              0.6666666666666666,
              "#ed7953"
             ],
             [
              0.7777777777777778,
              "#fb9f3a"
             ],
             [
              0.8888888888888888,
              "#fdca26"
             ],
             [
              1,
              "#f0f921"
             ]
            ],
            "type": "histogram2dcontour"
           }
          ],
          "mesh3d": [
           {
            "colorbar": {
             "outlinewidth": 0,
             "ticks": ""
            },
            "type": "mesh3d"
           }
          ],
          "parcoords": [
           {
            "line": {
             "colorbar": {
              "outlinewidth": 0,
              "ticks": ""
             }
            },
            "type": "parcoords"
           }
          ],
          "pie": [
           {
            "automargin": true,
            "type": "pie"
           }
          ],
          "scatter": [
           {
            "fillpattern": {
             "fillmode": "overlay",
             "size": 10,
             "solidity": 0.2
            },
            "type": "scatter"
           }
          ],
          "scatter3d": [
           {
            "line": {
             "colorbar": {
              "outlinewidth": 0,
              "ticks": ""
             }
            },
            "marker": {
             "colorbar": {
              "outlinewidth": 0,
              "ticks": ""
             }
            },
            "type": "scatter3d"
           }
          ],
          "scattercarpet": [
           {
            "marker": {
             "colorbar": {
              "outlinewidth": 0,
              "ticks": ""
             }
            },
            "type": "scattercarpet"
           }
          ],
          "scattergeo": [
           {
            "marker": {
             "colorbar": {
              "outlinewidth": 0,
              "ticks": ""
             }
            },
            "type": "scattergeo"
           }
          ],
          "scattergl": [
           {
            "marker": {
             "colorbar": {
              "outlinewidth": 0,
              "ticks": ""
             }
            },
            "type": "scattergl"
           }
          ],
          "scattermapbox": [
           {
            "marker": {
             "colorbar": {
              "outlinewidth": 0,
              "ticks": ""
             }
            },
            "type": "scattermapbox"
           }
          ],
          "scatterpolar": [
           {
            "marker": {
             "colorbar": {
              "outlinewidth": 0,
              "ticks": ""
             }
            },
            "type": "scatterpolar"
           }
          ],
          "scatterpolargl": [
           {
            "marker": {
             "colorbar": {
              "outlinewidth": 0,
              "ticks": ""
             }
            },
            "type": "scatterpolargl"
           }
          ],
          "scatterternary": [
           {
            "marker": {
             "colorbar": {
              "outlinewidth": 0,
              "ticks": ""
             }
            },
            "type": "scatterternary"
           }
          ],
          "surface": [
           {
            "colorbar": {
             "outlinewidth": 0,
             "ticks": ""
            },
            "colorscale": [
             [
              0,
              "#0d0887"
             ],
             [
              0.1111111111111111,
              "#46039f"
             ],
             [
              0.2222222222222222,
              "#7201a8"
             ],
             [
              0.3333333333333333,
              "#9c179e"
             ],
             [
              0.4444444444444444,
              "#bd3786"
             ],
             [
              0.5555555555555556,
              "#d8576b"
             ],
             [
              0.6666666666666666,
              "#ed7953"
             ],
             [
              0.7777777777777778,
              "#fb9f3a"
             ],
             [
              0.8888888888888888,
              "#fdca26"
             ],
             [
              1,
              "#f0f921"
             ]
            ],
            "type": "surface"
           }
          ],
          "table": [
           {
            "cells": {
             "fill": {
              "color": "#EBF0F8"
             },
             "line": {
              "color": "white"
             }
            },
            "header": {
             "fill": {
              "color": "#C8D4E3"
             },
             "line": {
              "color": "white"
             }
            },
            "type": "table"
           }
          ]
         },
         "layout": {
          "annotationdefaults": {
           "arrowcolor": "#2a3f5f",
           "arrowhead": 0,
           "arrowwidth": 1
          },
          "autotypenumbers": "strict",
          "coloraxis": {
           "colorbar": {
            "outlinewidth": 0,
            "ticks": ""
           }
          },
          "colorscale": {
           "diverging": [
            [
             0,
             "#8e0152"
            ],
            [
             0.1,
             "#c51b7d"
            ],
            [
             0.2,
             "#de77ae"
            ],
            [
             0.3,
             "#f1b6da"
            ],
            [
             0.4,
             "#fde0ef"
            ],
            [
             0.5,
             "#f7f7f7"
            ],
            [
             0.6,
             "#e6f5d0"
            ],
            [
             0.7,
             "#b8e186"
            ],
            [
             0.8,
             "#7fbc41"
            ],
            [
             0.9,
             "#4d9221"
            ],
            [
             1,
             "#276419"
            ]
           ],
           "sequential": [
            [
             0,
             "#0d0887"
            ],
            [
             0.1111111111111111,
             "#46039f"
            ],
            [
             0.2222222222222222,
             "#7201a8"
            ],
            [
             0.3333333333333333,
             "#9c179e"
            ],
            [
             0.4444444444444444,
             "#bd3786"
            ],
            [
             0.5555555555555556,
             "#d8576b"
            ],
            [
             0.6666666666666666,
             "#ed7953"
            ],
            [
             0.7777777777777778,
             "#fb9f3a"
            ],
            [
             0.8888888888888888,
             "#fdca26"
            ],
            [
             1,
             "#f0f921"
            ]
           ],
           "sequentialminus": [
            [
             0,
             "#0d0887"
            ],
            [
             0.1111111111111111,
             "#46039f"
            ],
            [
             0.2222222222222222,
             "#7201a8"
            ],
            [
             0.3333333333333333,
             "#9c179e"
            ],
            [
             0.4444444444444444,
             "#bd3786"
            ],
            [
             0.5555555555555556,
             "#d8576b"
            ],
            [
             0.6666666666666666,
             "#ed7953"
            ],
            [
             0.7777777777777778,
             "#fb9f3a"
            ],
            [
             0.8888888888888888,
             "#fdca26"
            ],
            [
             1,
             "#f0f921"
            ]
           ]
          },
          "colorway": [
           "#636efa",
           "#EF553B",
           "#00cc96",
           "#ab63fa",
           "#FFA15A",
           "#19d3f3",
           "#FF6692",
           "#B6E880",
           "#FF97FF",
           "#FECB52"
          ],
          "font": {
           "color": "#2a3f5f"
          },
          "geo": {
           "bgcolor": "white",
           "lakecolor": "white",
           "landcolor": "#E5ECF6",
           "showlakes": true,
           "showland": true,
           "subunitcolor": "white"
          },
          "hoverlabel": {
           "align": "left"
          },
          "hovermode": "closest",
          "mapbox": {
           "style": "light"
          },
          "paper_bgcolor": "white",
          "plot_bgcolor": "#E5ECF6",
          "polar": {
           "angularaxis": {
            "gridcolor": "white",
            "linecolor": "white",
            "ticks": ""
           },
           "bgcolor": "#E5ECF6",
           "radialaxis": {
            "gridcolor": "white",
            "linecolor": "white",
            "ticks": ""
           }
          },
          "scene": {
           "xaxis": {
            "backgroundcolor": "#E5ECF6",
            "gridcolor": "white",
            "gridwidth": 2,
            "linecolor": "white",
            "showbackground": true,
            "ticks": "",
            "zerolinecolor": "white"
           },
           "yaxis": {
            "backgroundcolor": "#E5ECF6",
            "gridcolor": "white",
            "gridwidth": 2,
            "linecolor": "white",
            "showbackground": true,
            "ticks": "",
            "zerolinecolor": "white"
           },
           "zaxis": {
            "backgroundcolor": "#E5ECF6",
            "gridcolor": "white",
            "gridwidth": 2,
            "linecolor": "white",
            "showbackground": true,
            "ticks": "",
            "zerolinecolor": "white"
           }
          },
          "shapedefaults": {
           "line": {
            "color": "#2a3f5f"
           }
          },
          "ternary": {
           "aaxis": {
            "gridcolor": "white",
            "linecolor": "white",
            "ticks": ""
           },
           "baxis": {
            "gridcolor": "white",
            "linecolor": "white",
            "ticks": ""
           },
           "bgcolor": "#E5ECF6",
           "caxis": {
            "gridcolor": "white",
            "linecolor": "white",
            "ticks": ""
           }
          },
          "title": {
           "x": 0.05
          },
          "xaxis": {
           "automargin": true,
           "gridcolor": "white",
           "linecolor": "white",
           "ticks": "",
           "title": {
            "standoff": 15
           },
           "zerolinecolor": "white",
           "zerolinewidth": 2
          },
          "yaxis": {
           "automargin": true,
           "gridcolor": "white",
           "linecolor": "white",
           "ticks": "",
           "title": {
            "standoff": 15
           },
           "zerolinecolor": "white",
           "zerolinewidth": 2
          }
         }
        },
        "title": {
         "text": "Spotify Users by Region Over Years"
        },
        "xaxis": {
         "anchor": "y",
         "domain": [
          0,
          1
         ],
         "title": {
          "text": "Year"
         }
        },
        "yaxis": {
         "anchor": "x",
         "domain": [
          0,
          1
         ],
         "title": {
          "text": "Number of Users (millions)"
         }
        }
       }
      }
     },
     "metadata": {},
     "output_type": "display_data"
    }
   ],
   "source": [
    "# Creating a stacked area chart\n",
    "fig = px.area(world_user, x='Year', y=['Europe', 'North America', 'Latin America', 'Rest of World'],\n",
    "              title='Spotify Users by Region Over Years',\n",
    "              labels={'value': 'Users (millions)', 'variable': 'Region'},\n",
    "              facet_col_wrap=1)\n",
    "\n",
    "# Update layout\n",
    "fig.update_layout(xaxis_title='Year', yaxis_title='Number of Users (millions)')\n",
    "fig.show()\n"
   ]
  },
  {
   "cell_type": "code",
   "execution_count": 280,
   "metadata": {},
   "outputs": [],
   "source": [
    "\n",
    "spotify_2k = pd.read_csv('dataset/spotify_archive/Spotify-2000.csv')  # Make sure to adjust this to your dataset path\n"
   ]
  },
  {
   "cell_type": "code",
   "execution_count": 281,
   "metadata": {},
   "outputs": [
    {
     "data": {
      "text/html": [
       "<div>\n",
       "<style scoped>\n",
       "    .dataframe tbody tr th:only-of-type {\n",
       "        vertical-align: middle;\n",
       "    }\n",
       "\n",
       "    .dataframe tbody tr th {\n",
       "        vertical-align: top;\n",
       "    }\n",
       "\n",
       "    .dataframe thead th {\n",
       "        text-align: right;\n",
       "    }\n",
       "</style>\n",
       "<table border=\"1\" class=\"dataframe\">\n",
       "  <thead>\n",
       "    <tr style=\"text-align: right;\">\n",
       "      <th></th>\n",
       "      <th>Index</th>\n",
       "      <th>Title</th>\n",
       "      <th>Artist</th>\n",
       "      <th>Top Genre</th>\n",
       "      <th>Year</th>\n",
       "      <th>Beats Per Minute (BPM)</th>\n",
       "      <th>Energy</th>\n",
       "      <th>Danceability</th>\n",
       "      <th>Loudness (dB)</th>\n",
       "      <th>Liveness</th>\n",
       "      <th>Valence</th>\n",
       "      <th>Length (Duration)</th>\n",
       "      <th>Acousticness</th>\n",
       "      <th>Speechiness</th>\n",
       "      <th>Popularity</th>\n",
       "    </tr>\n",
       "  </thead>\n",
       "  <tbody>\n",
       "    <tr>\n",
       "      <th>0</th>\n",
       "      <td>1</td>\n",
       "      <td>Sunrise</td>\n",
       "      <td>Norah Jones</td>\n",
       "      <td>adult standards</td>\n",
       "      <td>2004</td>\n",
       "      <td>157</td>\n",
       "      <td>30</td>\n",
       "      <td>53</td>\n",
       "      <td>-14</td>\n",
       "      <td>11</td>\n",
       "      <td>68</td>\n",
       "      <td>201</td>\n",
       "      <td>94</td>\n",
       "      <td>3</td>\n",
       "      <td>71</td>\n",
       "    </tr>\n",
       "    <tr>\n",
       "      <th>1</th>\n",
       "      <td>2</td>\n",
       "      <td>Black Night</td>\n",
       "      <td>Deep Purple</td>\n",
       "      <td>album rock</td>\n",
       "      <td>2000</td>\n",
       "      <td>135</td>\n",
       "      <td>79</td>\n",
       "      <td>50</td>\n",
       "      <td>-11</td>\n",
       "      <td>17</td>\n",
       "      <td>81</td>\n",
       "      <td>207</td>\n",
       "      <td>17</td>\n",
       "      <td>7</td>\n",
       "      <td>39</td>\n",
       "    </tr>\n",
       "    <tr>\n",
       "      <th>2</th>\n",
       "      <td>3</td>\n",
       "      <td>Clint Eastwood</td>\n",
       "      <td>Gorillaz</td>\n",
       "      <td>alternative hip hop</td>\n",
       "      <td>2001</td>\n",
       "      <td>168</td>\n",
       "      <td>69</td>\n",
       "      <td>66</td>\n",
       "      <td>-9</td>\n",
       "      <td>7</td>\n",
       "      <td>52</td>\n",
       "      <td>341</td>\n",
       "      <td>2</td>\n",
       "      <td>17</td>\n",
       "      <td>69</td>\n",
       "    </tr>\n",
       "    <tr>\n",
       "      <th>3</th>\n",
       "      <td>4</td>\n",
       "      <td>The Pretender</td>\n",
       "      <td>Foo Fighters</td>\n",
       "      <td>alternative metal</td>\n",
       "      <td>2007</td>\n",
       "      <td>173</td>\n",
       "      <td>96</td>\n",
       "      <td>43</td>\n",
       "      <td>-4</td>\n",
       "      <td>3</td>\n",
       "      <td>37</td>\n",
       "      <td>269</td>\n",
       "      <td>0</td>\n",
       "      <td>4</td>\n",
       "      <td>76</td>\n",
       "    </tr>\n",
       "    <tr>\n",
       "      <th>4</th>\n",
       "      <td>5</td>\n",
       "      <td>Waitin' On A Sunny Day</td>\n",
       "      <td>Bruce Springsteen</td>\n",
       "      <td>classic rock</td>\n",
       "      <td>2002</td>\n",
       "      <td>106</td>\n",
       "      <td>82</td>\n",
       "      <td>58</td>\n",
       "      <td>-5</td>\n",
       "      <td>10</td>\n",
       "      <td>87</td>\n",
       "      <td>256</td>\n",
       "      <td>1</td>\n",
       "      <td>3</td>\n",
       "      <td>59</td>\n",
       "    </tr>\n",
       "  </tbody>\n",
       "</table>\n",
       "</div>"
      ],
      "text/plain": [
       "   Index                   Title             Artist            Top Genre  \\\n",
       "0      1                 Sunrise        Norah Jones      adult standards   \n",
       "1      2             Black Night        Deep Purple           album rock   \n",
       "2      3          Clint Eastwood           Gorillaz  alternative hip hop   \n",
       "3      4           The Pretender       Foo Fighters    alternative metal   \n",
       "4      5  Waitin' On A Sunny Day  Bruce Springsteen         classic rock   \n",
       "\n",
       "   Year  Beats Per Minute (BPM)  Energy  Danceability  Loudness (dB)  \\\n",
       "0  2004                     157      30            53            -14   \n",
       "1  2000                     135      79            50            -11   \n",
       "2  2001                     168      69            66             -9   \n",
       "3  2007                     173      96            43             -4   \n",
       "4  2002                     106      82            58             -5   \n",
       "\n",
       "   Liveness  Valence Length (Duration)  Acousticness  Speechiness  Popularity  \n",
       "0        11       68               201            94            3          71  \n",
       "1        17       81               207            17            7          39  \n",
       "2         7       52               341             2           17          69  \n",
       "3         3       37               269             0            4          76  \n",
       "4        10       87               256             1            3          59  "
      ]
     },
     "execution_count": 281,
     "metadata": {},
     "output_type": "execute_result"
    }
   ],
   "source": [
    "spotify_2k.head()"
   ]
  },
  {
   "cell_type": "code",
   "execution_count": 282,
   "metadata": {},
   "outputs": [
    {
     "name": "stdout",
     "output_type": "stream",
     "text": [
      "<class 'pandas.core.frame.DataFrame'>\n",
      "RangeIndex: 1994 entries, 0 to 1993\n",
      "Data columns (total 15 columns):\n",
      " #   Column                  Non-Null Count  Dtype \n",
      "---  ------                  --------------  ----- \n",
      " 0   Index                   1994 non-null   int64 \n",
      " 1   Title                   1994 non-null   object\n",
      " 2   Artist                  1994 non-null   object\n",
      " 3   Top Genre               1994 non-null   object\n",
      " 4   Year                    1994 non-null   int64 \n",
      " 5   Beats Per Minute (BPM)  1994 non-null   int64 \n",
      " 6   Energy                  1994 non-null   int64 \n",
      " 7   Danceability            1994 non-null   int64 \n",
      " 8   Loudness (dB)           1994 non-null   int64 \n",
      " 9   Liveness                1994 non-null   int64 \n",
      " 10  Valence                 1994 non-null   int64 \n",
      " 11  Length (Duration)       1994 non-null   object\n",
      " 12  Acousticness            1994 non-null   int64 \n",
      " 13  Speechiness             1994 non-null   int64 \n",
      " 14  Popularity              1994 non-null   int64 \n",
      "dtypes: int64(11), object(4)\n",
      "memory usage: 233.8+ KB\n"
     ]
    }
   ],
   "source": [
    "spotify_2k.info()"
   ]
  },
  {
   "cell_type": "code",
   "execution_count": 283,
   "metadata": {},
   "outputs": [
    {
     "data": {
      "text/html": [
       "<div>\n",
       "<style scoped>\n",
       "    .dataframe tbody tr th:only-of-type {\n",
       "        vertical-align: middle;\n",
       "    }\n",
       "\n",
       "    .dataframe tbody tr th {\n",
       "        vertical-align: top;\n",
       "    }\n",
       "\n",
       "    .dataframe thead th {\n",
       "        text-align: right;\n",
       "    }\n",
       "</style>\n",
       "<table border=\"1\" class=\"dataframe\">\n",
       "  <thead>\n",
       "    <tr style=\"text-align: right;\">\n",
       "      <th></th>\n",
       "      <th>count</th>\n",
       "      <th>mean</th>\n",
       "      <th>std</th>\n",
       "      <th>min</th>\n",
       "      <th>25%</th>\n",
       "      <th>50%</th>\n",
       "      <th>75%</th>\n",
       "      <th>max</th>\n",
       "    </tr>\n",
       "  </thead>\n",
       "  <tbody>\n",
       "    <tr>\n",
       "      <th>Index</th>\n",
       "      <td>1994.0</td>\n",
       "      <td>997.500000</td>\n",
       "      <td>575.762538</td>\n",
       "      <td>1.0</td>\n",
       "      <td>499.25</td>\n",
       "      <td>997.5</td>\n",
       "      <td>1495.75</td>\n",
       "      <td>1994.0</td>\n",
       "    </tr>\n",
       "    <tr>\n",
       "      <th>Year</th>\n",
       "      <td>1994.0</td>\n",
       "      <td>1992.992979</td>\n",
       "      <td>16.116048</td>\n",
       "      <td>1956.0</td>\n",
       "      <td>1979.00</td>\n",
       "      <td>1993.0</td>\n",
       "      <td>2007.00</td>\n",
       "      <td>2019.0</td>\n",
       "    </tr>\n",
       "    <tr>\n",
       "      <th>Beats Per Minute (BPM)</th>\n",
       "      <td>1994.0</td>\n",
       "      <td>120.215647</td>\n",
       "      <td>28.028096</td>\n",
       "      <td>37.0</td>\n",
       "      <td>99.00</td>\n",
       "      <td>119.0</td>\n",
       "      <td>136.00</td>\n",
       "      <td>206.0</td>\n",
       "    </tr>\n",
       "    <tr>\n",
       "      <th>Energy</th>\n",
       "      <td>1994.0</td>\n",
       "      <td>59.679539</td>\n",
       "      <td>22.154322</td>\n",
       "      <td>3.0</td>\n",
       "      <td>42.00</td>\n",
       "      <td>61.0</td>\n",
       "      <td>78.00</td>\n",
       "      <td>100.0</td>\n",
       "    </tr>\n",
       "    <tr>\n",
       "      <th>Danceability</th>\n",
       "      <td>1994.0</td>\n",
       "      <td>53.238215</td>\n",
       "      <td>15.351507</td>\n",
       "      <td>10.0</td>\n",
       "      <td>43.00</td>\n",
       "      <td>53.0</td>\n",
       "      <td>64.00</td>\n",
       "      <td>96.0</td>\n",
       "    </tr>\n",
       "    <tr>\n",
       "      <th>Loudness (dB)</th>\n",
       "      <td>1994.0</td>\n",
       "      <td>-9.008526</td>\n",
       "      <td>3.647876</td>\n",
       "      <td>-27.0</td>\n",
       "      <td>-11.00</td>\n",
       "      <td>-8.0</td>\n",
       "      <td>-6.00</td>\n",
       "      <td>-2.0</td>\n",
       "    </tr>\n",
       "    <tr>\n",
       "      <th>Liveness</th>\n",
       "      <td>1994.0</td>\n",
       "      <td>19.012036</td>\n",
       "      <td>16.727378</td>\n",
       "      <td>2.0</td>\n",
       "      <td>9.00</td>\n",
       "      <td>12.0</td>\n",
       "      <td>23.00</td>\n",
       "      <td>99.0</td>\n",
       "    </tr>\n",
       "    <tr>\n",
       "      <th>Valence</th>\n",
       "      <td>1994.0</td>\n",
       "      <td>49.408726</td>\n",
       "      <td>24.858212</td>\n",
       "      <td>3.0</td>\n",
       "      <td>29.00</td>\n",
       "      <td>47.0</td>\n",
       "      <td>69.75</td>\n",
       "      <td>99.0</td>\n",
       "    </tr>\n",
       "    <tr>\n",
       "      <th>Acousticness</th>\n",
       "      <td>1994.0</td>\n",
       "      <td>28.858074</td>\n",
       "      <td>29.011986</td>\n",
       "      <td>0.0</td>\n",
       "      <td>3.00</td>\n",
       "      <td>18.0</td>\n",
       "      <td>50.00</td>\n",
       "      <td>99.0</td>\n",
       "    </tr>\n",
       "    <tr>\n",
       "      <th>Speechiness</th>\n",
       "      <td>1994.0</td>\n",
       "      <td>4.994985</td>\n",
       "      <td>4.401566</td>\n",
       "      <td>2.0</td>\n",
       "      <td>3.00</td>\n",
       "      <td>4.0</td>\n",
       "      <td>5.00</td>\n",
       "      <td>55.0</td>\n",
       "    </tr>\n",
       "    <tr>\n",
       "      <th>Popularity</th>\n",
       "      <td>1994.0</td>\n",
       "      <td>59.526580</td>\n",
       "      <td>14.351600</td>\n",
       "      <td>11.0</td>\n",
       "      <td>49.25</td>\n",
       "      <td>62.0</td>\n",
       "      <td>71.00</td>\n",
       "      <td>100.0</td>\n",
       "    </tr>\n",
       "  </tbody>\n",
       "</table>\n",
       "</div>"
      ],
      "text/plain": [
       "                         count         mean         std     min      25%  \\\n",
       "Index                   1994.0   997.500000  575.762538     1.0   499.25   \n",
       "Year                    1994.0  1992.992979   16.116048  1956.0  1979.00   \n",
       "Beats Per Minute (BPM)  1994.0   120.215647   28.028096    37.0    99.00   \n",
       "Energy                  1994.0    59.679539   22.154322     3.0    42.00   \n",
       "Danceability            1994.0    53.238215   15.351507    10.0    43.00   \n",
       "Loudness (dB)           1994.0    -9.008526    3.647876   -27.0   -11.00   \n",
       "Liveness                1994.0    19.012036   16.727378     2.0     9.00   \n",
       "Valence                 1994.0    49.408726   24.858212     3.0    29.00   \n",
       "Acousticness            1994.0    28.858074   29.011986     0.0     3.00   \n",
       "Speechiness             1994.0     4.994985    4.401566     2.0     3.00   \n",
       "Popularity              1994.0    59.526580   14.351600    11.0    49.25   \n",
       "\n",
       "                           50%      75%     max  \n",
       "Index                    997.5  1495.75  1994.0  \n",
       "Year                    1993.0  2007.00  2019.0  \n",
       "Beats Per Minute (BPM)   119.0   136.00   206.0  \n",
       "Energy                    61.0    78.00   100.0  \n",
       "Danceability              53.0    64.00    96.0  \n",
       "Loudness (dB)             -8.0    -6.00    -2.0  \n",
       "Liveness                  12.0    23.00    99.0  \n",
       "Valence                   47.0    69.75    99.0  \n",
       "Acousticness              18.0    50.00    99.0  \n",
       "Speechiness                4.0     5.00    55.0  \n",
       "Popularity                62.0    71.00   100.0  "
      ]
     },
     "execution_count": 283,
     "metadata": {},
     "output_type": "execute_result"
    }
   ],
   "source": [
    "numerical_stats = spotify_2k.describe()\n",
    "\n",
    "numerical_stats.transpose()"
   ]
  },
  {
   "cell_type": "code",
   "execution_count": 284,
   "metadata": {},
   "outputs": [
    {
     "data": {
      "text/plain": [
       "Artist\n",
       "Queen                 37\n",
       "The Beatles           36\n",
       "Coldplay              27\n",
       "U2                    26\n",
       "The Rolling Stones    24\n",
       "Michael Jackson       23\n",
       "Bruce Springsteen     23\n",
       "ABBA                  22\n",
       "David Bowie           21\n",
       "Fleetwood Mac         18\n",
       "Name: count, dtype: int64"
      ]
     },
     "execution_count": 284,
     "metadata": {},
     "output_type": "execute_result"
    }
   ],
   "source": [
    "# Let's find out the top 10 artists with the most tracks in the dataset\n",
    "top_artists = spotify_2k['Artist'].value_counts().head(10)\n",
    "\n",
    "top_artists"
   ]
  },
  {
   "cell_type": "code",
   "execution_count": 285,
   "metadata": {},
   "outputs": [
    {
     "data": {
      "application/vnd.plotly.v1+json": {
       "config": {
        "plotlyServerURL": "https://plot.ly"
       },
       "data": [
        {
         "alignmentgroup": "True",
         "hovertemplate": "Count=%{marker.color}<br>Artist=%{y}<extra></extra>",
         "legendgroup": "",
         "marker": {
          "color": [
           37,
           36,
           27,
           26,
           24,
           23,
           23,
           22,
           21,
           18
          ],
          "coloraxis": "coloraxis",
          "pattern": {
           "shape": ""
          }
         },
         "name": "",
         "offsetgroup": "",
         "orientation": "h",
         "showlegend": false,
         "text": [
          37,
          36,
          27,
          26,
          24,
          23,
          23,
          22,
          21,
          18
         ],
         "textposition": "outside",
         "texttemplate": "%{text}",
         "type": "bar",
         "x": [
          37,
          36,
          27,
          26,
          24,
          23,
          23,
          22,
          21,
          18
         ],
         "xaxis": "x",
         "y": [
          "Queen",
          "The Beatles",
          "Coldplay",
          "U2",
          "The Rolling Stones",
          "Michael Jackson",
          "Bruce Springsteen",
          "ABBA",
          "David Bowie",
          "Fleetwood Mac"
         ],
         "yaxis": "y"
        }
       ],
       "layout": {
        "barmode": "relative",
        "coloraxis": {
         "colorbar": {
          "title": {
           "text": "Count"
          }
         },
         "colorscale": [
          [
           0,
           "rgb(75, 41, 145)"
          ],
          [
           0.16666666666666666,
           "rgb(135, 44, 162)"
          ],
          [
           0.3333333333333333,
           "rgb(192, 54, 157)"
          ],
          [
           0.5,
           "rgb(234, 79, 136)"
          ],
          [
           0.6666666666666666,
           "rgb(250, 120, 118)"
          ],
          [
           0.8333333333333334,
           "rgb(246, 169, 122)"
          ],
          [
           1,
           "rgb(237, 217, 163)"
          ]
         ],
         "showscale": true
        },
        "legend": {
         "tracegroupgap": 0
        },
        "template": {
         "data": {
          "bar": [
           {
            "error_x": {
             "color": "#f2f5fa"
            },
            "error_y": {
             "color": "#f2f5fa"
            },
            "marker": {
             "line": {
              "color": "rgb(17,17,17)",
              "width": 0.5
             },
             "pattern": {
              "fillmode": "overlay",
              "size": 10,
              "solidity": 0.2
             }
            },
            "type": "bar"
           }
          ],
          "barpolar": [
           {
            "marker": {
             "line": {
              "color": "rgb(17,17,17)",
              "width": 0.5
             },
             "pattern": {
              "fillmode": "overlay",
              "size": 10,
              "solidity": 0.2
             }
            },
            "type": "barpolar"
           }
          ],
          "carpet": [
           {
            "aaxis": {
             "endlinecolor": "#A2B1C6",
             "gridcolor": "#506784",
             "linecolor": "#506784",
             "minorgridcolor": "#506784",
             "startlinecolor": "#A2B1C6"
            },
            "baxis": {
             "endlinecolor": "#A2B1C6",
             "gridcolor": "#506784",
             "linecolor": "#506784",
             "minorgridcolor": "#506784",
             "startlinecolor": "#A2B1C6"
            },
            "type": "carpet"
           }
          ],
          "choropleth": [
           {
            "colorbar": {
             "outlinewidth": 0,
             "ticks": ""
            },
            "type": "choropleth"
           }
          ],
          "contour": [
           {
            "colorbar": {
             "outlinewidth": 0,
             "ticks": ""
            },
            "colorscale": [
             [
              0,
              "#0d0887"
             ],
             [
              0.1111111111111111,
              "#46039f"
             ],
             [
              0.2222222222222222,
              "#7201a8"
             ],
             [
              0.3333333333333333,
              "#9c179e"
             ],
             [
              0.4444444444444444,
              "#bd3786"
             ],
             [
              0.5555555555555556,
              "#d8576b"
             ],
             [
              0.6666666666666666,
              "#ed7953"
             ],
             [
              0.7777777777777778,
              "#fb9f3a"
             ],
             [
              0.8888888888888888,
              "#fdca26"
             ],
             [
              1,
              "#f0f921"
             ]
            ],
            "type": "contour"
           }
          ],
          "contourcarpet": [
           {
            "colorbar": {
             "outlinewidth": 0,
             "ticks": ""
            },
            "type": "contourcarpet"
           }
          ],
          "heatmap": [
           {
            "colorbar": {
             "outlinewidth": 0,
             "ticks": ""
            },
            "colorscale": [
             [
              0,
              "#0d0887"
             ],
             [
              0.1111111111111111,
              "#46039f"
             ],
             [
              0.2222222222222222,
              "#7201a8"
             ],
             [
              0.3333333333333333,
              "#9c179e"
             ],
             [
              0.4444444444444444,
              "#bd3786"
             ],
             [
              0.5555555555555556,
              "#d8576b"
             ],
             [
              0.6666666666666666,
              "#ed7953"
             ],
             [
              0.7777777777777778,
              "#fb9f3a"
             ],
             [
              0.8888888888888888,
              "#fdca26"
             ],
             [
              1,
              "#f0f921"
             ]
            ],
            "type": "heatmap"
           }
          ],
          "heatmapgl": [
           {
            "colorbar": {
             "outlinewidth": 0,
             "ticks": ""
            },
            "colorscale": [
             [
              0,
              "#0d0887"
             ],
             [
              0.1111111111111111,
              "#46039f"
             ],
             [
              0.2222222222222222,
              "#7201a8"
             ],
             [
              0.3333333333333333,
              "#9c179e"
             ],
             [
              0.4444444444444444,
              "#bd3786"
             ],
             [
              0.5555555555555556,
              "#d8576b"
             ],
             [
              0.6666666666666666,
              "#ed7953"
             ],
             [
              0.7777777777777778,
              "#fb9f3a"
             ],
             [
              0.8888888888888888,
              "#fdca26"
             ],
             [
              1,
              "#f0f921"
             ]
            ],
            "type": "heatmapgl"
           }
          ],
          "histogram": [
           {
            "marker": {
             "pattern": {
              "fillmode": "overlay",
              "size": 10,
              "solidity": 0.2
             }
            },
            "type": "histogram"
           }
          ],
          "histogram2d": [
           {
            "colorbar": {
             "outlinewidth": 0,
             "ticks": ""
            },
            "colorscale": [
             [
              0,
              "#0d0887"
             ],
             [
              0.1111111111111111,
              "#46039f"
             ],
             [
              0.2222222222222222,
              "#7201a8"
             ],
             [
              0.3333333333333333,
              "#9c179e"
             ],
             [
              0.4444444444444444,
              "#bd3786"
             ],
             [
              0.5555555555555556,
              "#d8576b"
             ],
             [
              0.6666666666666666,
              "#ed7953"
             ],
             [
              0.7777777777777778,
              "#fb9f3a"
             ],
             [
              0.8888888888888888,
              "#fdca26"
             ],
             [
              1,
              "#f0f921"
             ]
            ],
            "type": "histogram2d"
           }
          ],
          "histogram2dcontour": [
           {
            "colorbar": {
             "outlinewidth": 0,
             "ticks": ""
            },
            "colorscale": [
             [
              0,
              "#0d0887"
             ],
             [
              0.1111111111111111,
              "#46039f"
             ],
             [
              0.2222222222222222,
              "#7201a8"
             ],
             [
              0.3333333333333333,
              "#9c179e"
             ],
             [
              0.4444444444444444,
              "#bd3786"
             ],
             [
              0.5555555555555556,
              "#d8576b"
             ],
             [
              0.6666666666666666,
              "#ed7953"
             ],
             [
              0.7777777777777778,
              "#fb9f3a"
             ],
             [
              0.8888888888888888,
              "#fdca26"
             ],
             [
              1,
              "#f0f921"
             ]
            ],
            "type": "histogram2dcontour"
           }
          ],
          "mesh3d": [
           {
            "colorbar": {
             "outlinewidth": 0,
             "ticks": ""
            },
            "type": "mesh3d"
           }
          ],
          "parcoords": [
           {
            "line": {
             "colorbar": {
              "outlinewidth": 0,
              "ticks": ""
             }
            },
            "type": "parcoords"
           }
          ],
          "pie": [
           {
            "automargin": true,
            "type": "pie"
           }
          ],
          "scatter": [
           {
            "marker": {
             "line": {
              "color": "#283442"
             }
            },
            "type": "scatter"
           }
          ],
          "scatter3d": [
           {
            "line": {
             "colorbar": {
              "outlinewidth": 0,
              "ticks": ""
             }
            },
            "marker": {
             "colorbar": {
              "outlinewidth": 0,
              "ticks": ""
             }
            },
            "type": "scatter3d"
           }
          ],
          "scattercarpet": [
           {
            "marker": {
             "colorbar": {
              "outlinewidth": 0,
              "ticks": ""
             }
            },
            "type": "scattercarpet"
           }
          ],
          "scattergeo": [
           {
            "marker": {
             "colorbar": {
              "outlinewidth": 0,
              "ticks": ""
             }
            },
            "type": "scattergeo"
           }
          ],
          "scattergl": [
           {
            "marker": {
             "line": {
              "color": "#283442"
             }
            },
            "type": "scattergl"
           }
          ],
          "scattermapbox": [
           {
            "marker": {
             "colorbar": {
              "outlinewidth": 0,
              "ticks": ""
             }
            },
            "type": "scattermapbox"
           }
          ],
          "scatterpolar": [
           {
            "marker": {
             "colorbar": {
              "outlinewidth": 0,
              "ticks": ""
             }
            },
            "type": "scatterpolar"
           }
          ],
          "scatterpolargl": [
           {
            "marker": {
             "colorbar": {
              "outlinewidth": 0,
              "ticks": ""
             }
            },
            "type": "scatterpolargl"
           }
          ],
          "scatterternary": [
           {
            "marker": {
             "colorbar": {
              "outlinewidth": 0,
              "ticks": ""
             }
            },
            "type": "scatterternary"
           }
          ],
          "surface": [
           {
            "colorbar": {
             "outlinewidth": 0,
             "ticks": ""
            },
            "colorscale": [
             [
              0,
              "#0d0887"
             ],
             [
              0.1111111111111111,
              "#46039f"
             ],
             [
              0.2222222222222222,
              "#7201a8"
             ],
             [
              0.3333333333333333,
              "#9c179e"
             ],
             [
              0.4444444444444444,
              "#bd3786"
             ],
             [
              0.5555555555555556,
              "#d8576b"
             ],
             [
              0.6666666666666666,
              "#ed7953"
             ],
             [
              0.7777777777777778,
              "#fb9f3a"
             ],
             [
              0.8888888888888888,
              "#fdca26"
             ],
             [
              1,
              "#f0f921"
             ]
            ],
            "type": "surface"
           }
          ],
          "table": [
           {
            "cells": {
             "fill": {
              "color": "#506784"
             },
             "line": {
              "color": "rgb(17,17,17)"
             }
            },
            "header": {
             "fill": {
              "color": "#2a3f5f"
             },
             "line": {
              "color": "rgb(17,17,17)"
             }
            },
            "type": "table"
           }
          ]
         },
         "layout": {
          "annotationdefaults": {
           "arrowcolor": "#f2f5fa",
           "arrowhead": 0,
           "arrowwidth": 1
          },
          "autotypenumbers": "strict",
          "coloraxis": {
           "colorbar": {
            "outlinewidth": 0,
            "ticks": ""
           }
          },
          "colorscale": {
           "diverging": [
            [
             0,
             "#8e0152"
            ],
            [
             0.1,
             "#c51b7d"
            ],
            [
             0.2,
             "#de77ae"
            ],
            [
             0.3,
             "#f1b6da"
            ],
            [
             0.4,
             "#fde0ef"
            ],
            [
             0.5,
             "#f7f7f7"
            ],
            [
             0.6,
             "#e6f5d0"
            ],
            [
             0.7,
             "#b8e186"
            ],
            [
             0.8,
             "#7fbc41"
            ],
            [
             0.9,
             "#4d9221"
            ],
            [
             1,
             "#276419"
            ]
           ],
           "sequential": [
            [
             0,
             "#0d0887"
            ],
            [
             0.1111111111111111,
             "#46039f"
            ],
            [
             0.2222222222222222,
             "#7201a8"
            ],
            [
             0.3333333333333333,
             "#9c179e"
            ],
            [
             0.4444444444444444,
             "#bd3786"
            ],
            [
             0.5555555555555556,
             "#d8576b"
            ],
            [
             0.6666666666666666,
             "#ed7953"
            ],
            [
             0.7777777777777778,
             "#fb9f3a"
            ],
            [
             0.8888888888888888,
             "#fdca26"
            ],
            [
             1,
             "#f0f921"
            ]
           ],
           "sequentialminus": [
            [
             0,
             "#0d0887"
            ],
            [
             0.1111111111111111,
             "#46039f"
            ],
            [
             0.2222222222222222,
             "#7201a8"
            ],
            [
             0.3333333333333333,
             "#9c179e"
            ],
            [
             0.4444444444444444,
             "#bd3786"
            ],
            [
             0.5555555555555556,
             "#d8576b"
            ],
            [
             0.6666666666666666,
             "#ed7953"
            ],
            [
             0.7777777777777778,
             "#fb9f3a"
            ],
            [
             0.8888888888888888,
             "#fdca26"
            ],
            [
             1,
             "#f0f921"
            ]
           ]
          },
          "colorway": [
           "#636efa",
           "#EF553B",
           "#00cc96",
           "#ab63fa",
           "#FFA15A",
           "#19d3f3",
           "#FF6692",
           "#B6E880",
           "#FF97FF",
           "#FECB52"
          ],
          "font": {
           "color": "#f2f5fa"
          },
          "geo": {
           "bgcolor": "rgb(17,17,17)",
           "lakecolor": "rgb(17,17,17)",
           "landcolor": "rgb(17,17,17)",
           "showlakes": true,
           "showland": true,
           "subunitcolor": "#506784"
          },
          "hoverlabel": {
           "align": "left"
          },
          "hovermode": "closest",
          "mapbox": {
           "style": "dark"
          },
          "paper_bgcolor": "rgb(17,17,17)",
          "plot_bgcolor": "rgb(17,17,17)",
          "polar": {
           "angularaxis": {
            "gridcolor": "#506784",
            "linecolor": "#506784",
            "ticks": ""
           },
           "bgcolor": "rgb(17,17,17)",
           "radialaxis": {
            "gridcolor": "#506784",
            "linecolor": "#506784",
            "ticks": ""
           }
          },
          "scene": {
           "xaxis": {
            "backgroundcolor": "rgb(17,17,17)",
            "gridcolor": "#506784",
            "gridwidth": 2,
            "linecolor": "#506784",
            "showbackground": true,
            "ticks": "",
            "zerolinecolor": "#C8D4E3"
           },
           "yaxis": {
            "backgroundcolor": "rgb(17,17,17)",
            "gridcolor": "#506784",
            "gridwidth": 2,
            "linecolor": "#506784",
            "showbackground": true,
            "ticks": "",
            "zerolinecolor": "#C8D4E3"
           },
           "zaxis": {
            "backgroundcolor": "rgb(17,17,17)",
            "gridcolor": "#506784",
            "gridwidth": 2,
            "linecolor": "#506784",
            "showbackground": true,
            "ticks": "",
            "zerolinecolor": "#C8D4E3"
           }
          },
          "shapedefaults": {
           "line": {
            "color": "#f2f5fa"
           }
          },
          "sliderdefaults": {
           "bgcolor": "#C8D4E3",
           "bordercolor": "rgb(17,17,17)",
           "borderwidth": 1,
           "tickwidth": 0
          },
          "ternary": {
           "aaxis": {
            "gridcolor": "#506784",
            "linecolor": "#506784",
            "ticks": ""
           },
           "baxis": {
            "gridcolor": "#506784",
            "linecolor": "#506784",
            "ticks": ""
           },
           "bgcolor": "rgb(17,17,17)",
           "caxis": {
            "gridcolor": "#506784",
            "linecolor": "#506784",
            "ticks": ""
           }
          },
          "title": {
           "x": 0.05
          },
          "updatemenudefaults": {
           "bgcolor": "#506784",
           "borderwidth": 0
          },
          "xaxis": {
           "automargin": true,
           "gridcolor": "#283442",
           "linecolor": "#506784",
           "ticks": "",
           "title": {
            "standoff": 15
           },
           "zerolinecolor": "#283442",
           "zerolinewidth": 2
          },
          "yaxis": {
           "automargin": true,
           "gridcolor": "#283442",
           "linecolor": "#506784",
           "ticks": "",
           "title": {
            "standoff": 15
           },
           "zerolinecolor": "#283442",
           "zerolinewidth": 2
          }
         }
        },
        "title": {
         "text": "2000's Top 10 Artists by Count"
        },
        "xaxis": {
         "anchor": "y",
         "domain": [
          0,
          1
         ],
         "title": {
          "text": "Count"
         }
        },
        "yaxis": {
         "anchor": "x",
         "categoryorder": "total ascending",
         "domain": [
          0,
          1
         ],
         "title": {
          "text": ""
         }
        }
       }
      }
     },
     "metadata": {},
     "output_type": "display_data"
    }
   ],
   "source": [
    "top_artists_df = top_artists.reset_index()\n",
    "top_artists_df.columns = ['Artist', 'Count']\n",
    "\n",
    "# Create a bar chart\n",
    "fig = px.bar(top_artists_df, x='Count', y='Artist', text='Count', orientation='h',\n",
    "             title=\"2000's Top 10 Artists by Count\",\n",
    "             labels={'Count': 'Count', 'Artist': 'Artist'},\n",
    "             color='Count',  # Color the bars by the count\n",
    "             color_continuous_scale='Agsunset')\n",
    "\n",
    "# Improve layout\n",
    "fig.update_layout(\n",
    "    xaxis_title=\"Count\",\n",
    "    yaxis_title=\"\",\n",
    "    coloraxis_showscale=True,  # Hide the color scale\n",
    "    yaxis={'categoryorder':'total ascending'},  # Ensure the highest values are on top\n",
    "    template='plotly_dark'\n",
    ")\n",
    "\n",
    "fig.update_traces(texttemplate='%{text}', textposition='outside')\n",
    "fig.show()"
   ]
  },
  {
   "cell_type": "code",
   "execution_count": 286,
   "metadata": {},
   "outputs": [],
   "source": [
    "characteristics = ['Danceability', 'Energy', 'Loudness (dB)', 'Speechiness', 'Acousticness', 'Popularity', 'Liveness', 'Valence', 'Beats Per Minute (BPM)']\n"
   ]
  },
  {
   "cell_type": "code",
   "execution_count": 287,
   "metadata": {},
   "outputs": [
    {
     "data": {
      "text/html": [
       "<div>\n",
       "<style scoped>\n",
       "    .dataframe tbody tr th:only-of-type {\n",
       "        vertical-align: middle;\n",
       "    }\n",
       "\n",
       "    .dataframe tbody tr th {\n",
       "        vertical-align: top;\n",
       "    }\n",
       "\n",
       "    .dataframe thead th {\n",
       "        text-align: right;\n",
       "    }\n",
       "</style>\n",
       "<table border=\"1\" class=\"dataframe\">\n",
       "  <thead>\n",
       "    <tr style=\"text-align: right;\">\n",
       "      <th></th>\n",
       "      <th>Danceability</th>\n",
       "      <th>Energy</th>\n",
       "      <th>Loudness (dB)</th>\n",
       "      <th>Speechiness</th>\n",
       "      <th>Acousticness</th>\n",
       "      <th>Popularity</th>\n",
       "      <th>Liveness</th>\n",
       "      <th>Valence</th>\n",
       "      <th>Beats Per Minute (BPM)</th>\n",
       "    </tr>\n",
       "  </thead>\n",
       "  <tbody>\n",
       "    <tr>\n",
       "      <th>Danceability</th>\n",
       "      <td>1.000000</td>\n",
       "      <td>0.139616</td>\n",
       "      <td>0.044235</td>\n",
       "      <td>0.125229</td>\n",
       "      <td>-0.135769</td>\n",
       "      <td>0.144344</td>\n",
       "      <td>-0.103063</td>\n",
       "      <td>0.514564</td>\n",
       "      <td>-0.140602</td>\n",
       "    </tr>\n",
       "    <tr>\n",
       "      <th>Energy</th>\n",
       "      <td>0.139616</td>\n",
       "      <td>1.000000</td>\n",
       "      <td>0.735711</td>\n",
       "      <td>0.205865</td>\n",
       "      <td>-0.665156</td>\n",
       "      <td>0.103393</td>\n",
       "      <td>0.174118</td>\n",
       "      <td>0.405175</td>\n",
       "      <td>0.156644</td>\n",
       "    </tr>\n",
       "    <tr>\n",
       "      <th>Loudness (dB)</th>\n",
       "      <td>0.044235</td>\n",
       "      <td>0.735711</td>\n",
       "      <td>1.000000</td>\n",
       "      <td>0.125090</td>\n",
       "      <td>-0.451635</td>\n",
       "      <td>0.165527</td>\n",
       "      <td>0.098257</td>\n",
       "      <td>0.147041</td>\n",
       "      <td>0.092927</td>\n",
       "    </tr>\n",
       "    <tr>\n",
       "      <th>Speechiness</th>\n",
       "      <td>0.125229</td>\n",
       "      <td>0.205865</td>\n",
       "      <td>0.125090</td>\n",
       "      <td>1.000000</td>\n",
       "      <td>-0.098256</td>\n",
       "      <td>0.111689</td>\n",
       "      <td>0.092594</td>\n",
       "      <td>0.107102</td>\n",
       "      <td>0.085598</td>\n",
       "    </tr>\n",
       "    <tr>\n",
       "      <th>Acousticness</th>\n",
       "      <td>-0.135769</td>\n",
       "      <td>-0.665156</td>\n",
       "      <td>-0.451635</td>\n",
       "      <td>-0.098256</td>\n",
       "      <td>1.000000</td>\n",
       "      <td>-0.087604</td>\n",
       "      <td>-0.046206</td>\n",
       "      <td>-0.239729</td>\n",
       "      <td>-0.122472</td>\n",
       "    </tr>\n",
       "    <tr>\n",
       "      <th>Popularity</th>\n",
       "      <td>0.144344</td>\n",
       "      <td>0.103393</td>\n",
       "      <td>0.165527</td>\n",
       "      <td>0.111689</td>\n",
       "      <td>-0.087604</td>\n",
       "      <td>1.000000</td>\n",
       "      <td>-0.111978</td>\n",
       "      <td>0.095911</td>\n",
       "      <td>-0.003181</td>\n",
       "    </tr>\n",
       "    <tr>\n",
       "      <th>Liveness</th>\n",
       "      <td>-0.103063</td>\n",
       "      <td>0.174118</td>\n",
       "      <td>0.098257</td>\n",
       "      <td>0.092594</td>\n",
       "      <td>-0.046206</td>\n",
       "      <td>-0.111978</td>\n",
       "      <td>1.000000</td>\n",
       "      <td>0.050667</td>\n",
       "      <td>0.016256</td>\n",
       "    </tr>\n",
       "    <tr>\n",
       "      <th>Valence</th>\n",
       "      <td>0.514564</td>\n",
       "      <td>0.405175</td>\n",
       "      <td>0.147041</td>\n",
       "      <td>0.107102</td>\n",
       "      <td>-0.239729</td>\n",
       "      <td>0.095911</td>\n",
       "      <td>0.050667</td>\n",
       "      <td>1.000000</td>\n",
       "      <td>0.059653</td>\n",
       "    </tr>\n",
       "    <tr>\n",
       "      <th>Beats Per Minute (BPM)</th>\n",
       "      <td>-0.140602</td>\n",
       "      <td>0.156644</td>\n",
       "      <td>0.092927</td>\n",
       "      <td>0.085598</td>\n",
       "      <td>-0.122472</td>\n",
       "      <td>-0.003181</td>\n",
       "      <td>0.016256</td>\n",
       "      <td>0.059653</td>\n",
       "      <td>1.000000</td>\n",
       "    </tr>\n",
       "  </tbody>\n",
       "</table>\n",
       "</div>"
      ],
      "text/plain": [
       "                        Danceability    Energy  Loudness (dB)  Speechiness  \\\n",
       "Danceability                1.000000  0.139616       0.044235     0.125229   \n",
       "Energy                      0.139616  1.000000       0.735711     0.205865   \n",
       "Loudness (dB)               0.044235  0.735711       1.000000     0.125090   \n",
       "Speechiness                 0.125229  0.205865       0.125090     1.000000   \n",
       "Acousticness               -0.135769 -0.665156      -0.451635    -0.098256   \n",
       "Popularity                  0.144344  0.103393       0.165527     0.111689   \n",
       "Liveness                   -0.103063  0.174118       0.098257     0.092594   \n",
       "Valence                     0.514564  0.405175       0.147041     0.107102   \n",
       "Beats Per Minute (BPM)     -0.140602  0.156644       0.092927     0.085598   \n",
       "\n",
       "                        Acousticness  Popularity  Liveness   Valence  \\\n",
       "Danceability               -0.135769    0.144344 -0.103063  0.514564   \n",
       "Energy                     -0.665156    0.103393  0.174118  0.405175   \n",
       "Loudness (dB)              -0.451635    0.165527  0.098257  0.147041   \n",
       "Speechiness                -0.098256    0.111689  0.092594  0.107102   \n",
       "Acousticness                1.000000   -0.087604 -0.046206 -0.239729   \n",
       "Popularity                 -0.087604    1.000000 -0.111978  0.095911   \n",
       "Liveness                   -0.046206   -0.111978  1.000000  0.050667   \n",
       "Valence                    -0.239729    0.095911  0.050667  1.000000   \n",
       "Beats Per Minute (BPM)     -0.122472   -0.003181  0.016256  0.059653   \n",
       "\n",
       "                        Beats Per Minute (BPM)  \n",
       "Danceability                         -0.140602  \n",
       "Energy                                0.156644  \n",
       "Loudness (dB)                         0.092927  \n",
       "Speechiness                           0.085598  \n",
       "Acousticness                         -0.122472  \n",
       "Popularity                           -0.003181  \n",
       "Liveness                              0.016256  \n",
       "Valence                               0.059653  \n",
       "Beats Per Minute (BPM)                1.000000  "
      ]
     },
     "execution_count": 287,
     "metadata": {},
     "output_type": "execute_result"
    }
   ],
   "source": [
    "# Calculate the correlation matrix for a subset of the numerical variables\n",
    "correlation_matrix = df[characteristics].corr()\n",
    "\n",
    "correlation_matrix"
   ]
  },
  {
   "cell_type": "code",
   "execution_count": 288,
   "metadata": {},
   "outputs": [
    {
     "data": {
      "application/vnd.plotly.v1+json": {
       "config": {
        "plotlyServerURL": "https://plot.ly"
       },
       "data": [
        {
         "colorscale": [
          [
           0,
           "rgb(5,48,97)"
          ],
          [
           0.1,
           "rgb(33,102,172)"
          ],
          [
           0.2,
           "rgb(67,147,195)"
          ],
          [
           0.3,
           "rgb(146,197,222)"
          ],
          [
           0.4,
           "rgb(209,229,240)"
          ],
          [
           0.5,
           "rgb(247,247,247)"
          ],
          [
           0.6,
           "rgb(253,219,199)"
          ],
          [
           0.7,
           "rgb(244,165,130)"
          ],
          [
           0.8,
           "rgb(214,96,77)"
          ],
          [
           0.9,
           "rgb(178,24,43)"
          ],
          [
           1,
           "rgb(103,0,31)"
          ]
         ],
         "hoverinfo": "text",
         "text": [
          [
           "1.00",
           "0.14",
           "0.04",
           "0.13",
           "-0.14",
           "0.14",
           "-0.10",
           "0.51",
           "-0.14"
          ],
          [
           "0.14",
           "1.00",
           "0.74",
           "0.21",
           "-0.67",
           "0.10",
           "0.17",
           "0.41",
           "0.16"
          ],
          [
           "0.04",
           "0.74",
           "1.00",
           "0.13",
           "-0.45",
           "0.17",
           "0.10",
           "0.15",
           "0.09"
          ],
          [
           "0.13",
           "0.21",
           "0.13",
           "1.00",
           "-0.10",
           "0.11",
           "0.09",
           "0.11",
           "0.09"
          ],
          [
           "-0.14",
           "-0.67",
           "-0.45",
           "-0.10",
           "1.00",
           "-0.09",
           "-0.05",
           "-0.24",
           "-0.12"
          ],
          [
           "0.14",
           "0.10",
           "0.17",
           "0.11",
           "-0.09",
           "1.00",
           "-0.11",
           "0.10",
           "-0.00"
          ],
          [
           "-0.10",
           "0.17",
           "0.10",
           "0.09",
           "-0.05",
           "-0.11",
           "1.00",
           "0.05",
           "0.02"
          ],
          [
           "0.51",
           "0.41",
           "0.15",
           "0.11",
           "-0.24",
           "0.10",
           "0.05",
           "1.00",
           "0.06"
          ],
          [
           "-0.14",
           "0.16",
           "0.09",
           "0.09",
           "-0.12",
           "-0.00",
           "0.02",
           "0.06",
           "1.00"
          ]
         ],
         "texttemplate": "%{text}",
         "type": "heatmap",
         "x": [
          "Danceability",
          "Energy",
          "Loudness (dB)",
          "Speechiness",
          "Acousticness",
          "Popularity",
          "Liveness",
          "Valence",
          "Beats Per Minute (BPM)"
         ],
         "y": [
          "Danceability",
          "Energy",
          "Loudness (dB)",
          "Speechiness",
          "Acousticness",
          "Popularity",
          "Liveness",
          "Valence",
          "Beats Per Minute (BPM)"
         ],
         "z": [
          [
           1,
           0.1396162686043479,
           0.044235309635336215,
           0.12522899809358176,
           -0.13576887867975504,
           0.14434428108077849,
           -0.10306258233122113,
           0.5145637629279767,
           -0.14060233004398426
          ],
          [
           0.1396162686043479,
           1,
           0.7357108817659002,
           0.2058649947208784,
           -0.6651563552906684,
           0.10339299764848625,
           0.17411770142669897,
           0.4051747794947509,
           0.15664443533802397
          ],
          [
           0.044235309635336215,
           0.7357108817659002,
           1,
           0.1250897465623804,
           -0.45163499317781647,
           0.16552687970478908,
           0.0982570491394185,
           0.14704111570038805,
           0.09292650068545484
          ],
          [
           0.12522899809358176,
           0.2058649947208784,
           0.1250897465623804,
           1,
           -0.0982561013369275,
           0.1116887850981595,
           0.09259446704204607,
           0.10710187932547914,
           0.08559821099002002
          ],
          [
           -0.13576887867975504,
           -0.6651563552906684,
           -0.45163499317781647,
           -0.0982561013369275,
           1,
           -0.08760427211616227,
           -0.04620551060095668,
           -0.23972907462080767,
           -0.12247181327920204
          ],
          [
           0.14434428108077849,
           0.10339299764848625,
           0.16552687970478908,
           0.1116887850981595,
           -0.08760427211616227,
           1,
           -0.11197777843683474,
           0.09591082137882534,
           -0.003181354479830572
          ],
          [
           -0.10306258233122113,
           0.17411770142669897,
           0.0982570491394185,
           0.09259446704204607,
           -0.04620551060095668,
           -0.11197777843683474,
           1,
           0.050666639927266416,
           0.016256385730439703
          ],
          [
           0.5145637629279767,
           0.4051747794947509,
           0.14704111570038805,
           0.10710187932547914,
           -0.23972907462080767,
           0.09591082137882534,
           0.050666639927266416,
           1,
           0.059653223035473914
          ],
          [
           -0.14060233004398426,
           0.15664443533802397,
           0.09292650068545484,
           0.08559821099002002,
           -0.12247181327920204,
           -0.003181354479830572,
           0.016256385730439703,
           0.059653223035473914,
           1
          ]
         ],
         "zmid": 0
        }
       ],
       "layout": {
        "autosize": true,
        "margin": {
         "b": 10,
         "l": 10,
         "r": 10,
         "t": 50
        },
        "template": {
         "data": {
          "bar": [
           {
            "error_x": {
             "color": "#2a3f5f"
            },
            "error_y": {
             "color": "#2a3f5f"
            },
            "marker": {
             "line": {
              "color": "#E5ECF6",
              "width": 0.5
             },
             "pattern": {
              "fillmode": "overlay",
              "size": 10,
              "solidity": 0.2
             }
            },
            "type": "bar"
           }
          ],
          "barpolar": [
           {
            "marker": {
             "line": {
              "color": "#E5ECF6",
              "width": 0.5
             },
             "pattern": {
              "fillmode": "overlay",
              "size": 10,
              "solidity": 0.2
             }
            },
            "type": "barpolar"
           }
          ],
          "carpet": [
           {
            "aaxis": {
             "endlinecolor": "#2a3f5f",
             "gridcolor": "white",
             "linecolor": "white",
             "minorgridcolor": "white",
             "startlinecolor": "#2a3f5f"
            },
            "baxis": {
             "endlinecolor": "#2a3f5f",
             "gridcolor": "white",
             "linecolor": "white",
             "minorgridcolor": "white",
             "startlinecolor": "#2a3f5f"
            },
            "type": "carpet"
           }
          ],
          "choropleth": [
           {
            "colorbar": {
             "outlinewidth": 0,
             "ticks": ""
            },
            "type": "choropleth"
           }
          ],
          "contour": [
           {
            "colorbar": {
             "outlinewidth": 0,
             "ticks": ""
            },
            "colorscale": [
             [
              0,
              "#0d0887"
             ],
             [
              0.1111111111111111,
              "#46039f"
             ],
             [
              0.2222222222222222,
              "#7201a8"
             ],
             [
              0.3333333333333333,
              "#9c179e"
             ],
             [
              0.4444444444444444,
              "#bd3786"
             ],
             [
              0.5555555555555556,
              "#d8576b"
             ],
             [
              0.6666666666666666,
              "#ed7953"
             ],
             [
              0.7777777777777778,
              "#fb9f3a"
             ],
             [
              0.8888888888888888,
              "#fdca26"
             ],
             [
              1,
              "#f0f921"
             ]
            ],
            "type": "contour"
           }
          ],
          "contourcarpet": [
           {
            "colorbar": {
             "outlinewidth": 0,
             "ticks": ""
            },
            "type": "contourcarpet"
           }
          ],
          "heatmap": [
           {
            "colorbar": {
             "outlinewidth": 0,
             "ticks": ""
            },
            "colorscale": [
             [
              0,
              "#0d0887"
             ],
             [
              0.1111111111111111,
              "#46039f"
             ],
             [
              0.2222222222222222,
              "#7201a8"
             ],
             [
              0.3333333333333333,
              "#9c179e"
             ],
             [
              0.4444444444444444,
              "#bd3786"
             ],
             [
              0.5555555555555556,
              "#d8576b"
             ],
             [
              0.6666666666666666,
              "#ed7953"
             ],
             [
              0.7777777777777778,
              "#fb9f3a"
             ],
             [
              0.8888888888888888,
              "#fdca26"
             ],
             [
              1,
              "#f0f921"
             ]
            ],
            "type": "heatmap"
           }
          ],
          "heatmapgl": [
           {
            "colorbar": {
             "outlinewidth": 0,
             "ticks": ""
            },
            "colorscale": [
             [
              0,
              "#0d0887"
             ],
             [
              0.1111111111111111,
              "#46039f"
             ],
             [
              0.2222222222222222,
              "#7201a8"
             ],
             [
              0.3333333333333333,
              "#9c179e"
             ],
             [
              0.4444444444444444,
              "#bd3786"
             ],
             [
              0.5555555555555556,
              "#d8576b"
             ],
             [
              0.6666666666666666,
              "#ed7953"
             ],
             [
              0.7777777777777778,
              "#fb9f3a"
             ],
             [
              0.8888888888888888,
              "#fdca26"
             ],
             [
              1,
              "#f0f921"
             ]
            ],
            "type": "heatmapgl"
           }
          ],
          "histogram": [
           {
            "marker": {
             "pattern": {
              "fillmode": "overlay",
              "size": 10,
              "solidity": 0.2
             }
            },
            "type": "histogram"
           }
          ],
          "histogram2d": [
           {
            "colorbar": {
             "outlinewidth": 0,
             "ticks": ""
            },
            "colorscale": [
             [
              0,
              "#0d0887"
             ],
             [
              0.1111111111111111,
              "#46039f"
             ],
             [
              0.2222222222222222,
              "#7201a8"
             ],
             [
              0.3333333333333333,
              "#9c179e"
             ],
             [
              0.4444444444444444,
              "#bd3786"
             ],
             [
              0.5555555555555556,
              "#d8576b"
             ],
             [
              0.6666666666666666,
              "#ed7953"
             ],
             [
              0.7777777777777778,
              "#fb9f3a"
             ],
             [
              0.8888888888888888,
              "#fdca26"
             ],
             [
              1,
              "#f0f921"
             ]
            ],
            "type": "histogram2d"
           }
          ],
          "histogram2dcontour": [
           {
            "colorbar": {
             "outlinewidth": 0,
             "ticks": ""
            },
            "colorscale": [
             [
              0,
              "#0d0887"
             ],
             [
              0.1111111111111111,
              "#46039f"
             ],
             [
              0.2222222222222222,
              "#7201a8"
             ],
             [
              0.3333333333333333,
              "#9c179e"
             ],
             [
              0.4444444444444444,
              "#bd3786"
             ],
             [
              0.5555555555555556,
              "#d8576b"
             ],
             [
              0.6666666666666666,
              "#ed7953"
             ],
             [
              0.7777777777777778,
              "#fb9f3a"
             ],
             [
              0.8888888888888888,
              "#fdca26"
             ],
             [
              1,
              "#f0f921"
             ]
            ],
            "type": "histogram2dcontour"
           }
          ],
          "mesh3d": [
           {
            "colorbar": {
             "outlinewidth": 0,
             "ticks": ""
            },
            "type": "mesh3d"
           }
          ],
          "parcoords": [
           {
            "line": {
             "colorbar": {
              "outlinewidth": 0,
              "ticks": ""
             }
            },
            "type": "parcoords"
           }
          ],
          "pie": [
           {
            "automargin": true,
            "type": "pie"
           }
          ],
          "scatter": [
           {
            "fillpattern": {
             "fillmode": "overlay",
             "size": 10,
             "solidity": 0.2
            },
            "type": "scatter"
           }
          ],
          "scatter3d": [
           {
            "line": {
             "colorbar": {
              "outlinewidth": 0,
              "ticks": ""
             }
            },
            "marker": {
             "colorbar": {
              "outlinewidth": 0,
              "ticks": ""
             }
            },
            "type": "scatter3d"
           }
          ],
          "scattercarpet": [
           {
            "marker": {
             "colorbar": {
              "outlinewidth": 0,
              "ticks": ""
             }
            },
            "type": "scattercarpet"
           }
          ],
          "scattergeo": [
           {
            "marker": {
             "colorbar": {
              "outlinewidth": 0,
              "ticks": ""
             }
            },
            "type": "scattergeo"
           }
          ],
          "scattergl": [
           {
            "marker": {
             "colorbar": {
              "outlinewidth": 0,
              "ticks": ""
             }
            },
            "type": "scattergl"
           }
          ],
          "scattermapbox": [
           {
            "marker": {
             "colorbar": {
              "outlinewidth": 0,
              "ticks": ""
             }
            },
            "type": "scattermapbox"
           }
          ],
          "scatterpolar": [
           {
            "marker": {
             "colorbar": {
              "outlinewidth": 0,
              "ticks": ""
             }
            },
            "type": "scatterpolar"
           }
          ],
          "scatterpolargl": [
           {
            "marker": {
             "colorbar": {
              "outlinewidth": 0,
              "ticks": ""
             }
            },
            "type": "scatterpolargl"
           }
          ],
          "scatterternary": [
           {
            "marker": {
             "colorbar": {
              "outlinewidth": 0,
              "ticks": ""
             }
            },
            "type": "scatterternary"
           }
          ],
          "surface": [
           {
            "colorbar": {
             "outlinewidth": 0,
             "ticks": ""
            },
            "colorscale": [
             [
              0,
              "#0d0887"
             ],
             [
              0.1111111111111111,
              "#46039f"
             ],
             [
              0.2222222222222222,
              "#7201a8"
             ],
             [
              0.3333333333333333,
              "#9c179e"
             ],
             [
              0.4444444444444444,
              "#bd3786"
             ],
             [
              0.5555555555555556,
              "#d8576b"
             ],
             [
              0.6666666666666666,
              "#ed7953"
             ],
             [
              0.7777777777777778,
              "#fb9f3a"
             ],
             [
              0.8888888888888888,
              "#fdca26"
             ],
             [
              1,
              "#f0f921"
             ]
            ],
            "type": "surface"
           }
          ],
          "table": [
           {
            "cells": {
             "fill": {
              "color": "#EBF0F8"
             },
             "line": {
              "color": "white"
             }
            },
            "header": {
             "fill": {
              "color": "#C8D4E3"
             },
             "line": {
              "color": "white"
             }
            },
            "type": "table"
           }
          ]
         },
         "layout": {
          "annotationdefaults": {
           "arrowcolor": "#2a3f5f",
           "arrowhead": 0,
           "arrowwidth": 1
          },
          "autotypenumbers": "strict",
          "coloraxis": {
           "colorbar": {
            "outlinewidth": 0,
            "ticks": ""
           }
          },
          "colorscale": {
           "diverging": [
            [
             0,
             "#8e0152"
            ],
            [
             0.1,
             "#c51b7d"
            ],
            [
             0.2,
             "#de77ae"
            ],
            [
             0.3,
             "#f1b6da"
            ],
            [
             0.4,
             "#fde0ef"
            ],
            [
             0.5,
             "#f7f7f7"
            ],
            [
             0.6,
             "#e6f5d0"
            ],
            [
             0.7,
             "#b8e186"
            ],
            [
             0.8,
             "#7fbc41"
            ],
            [
             0.9,
             "#4d9221"
            ],
            [
             1,
             "#276419"
            ]
           ],
           "sequential": [
            [
             0,
             "#0d0887"
            ],
            [
             0.1111111111111111,
             "#46039f"
            ],
            [
             0.2222222222222222,
             "#7201a8"
            ],
            [
             0.3333333333333333,
             "#9c179e"
            ],
            [
             0.4444444444444444,
             "#bd3786"
            ],
            [
             0.5555555555555556,
             "#d8576b"
            ],
            [
             0.6666666666666666,
             "#ed7953"
            ],
            [
             0.7777777777777778,
             "#fb9f3a"
            ],
            [
             0.8888888888888888,
             "#fdca26"
            ],
            [
             1,
             "#f0f921"
            ]
           ],
           "sequentialminus": [
            [
             0,
             "#0d0887"
            ],
            [
             0.1111111111111111,
             "#46039f"
            ],
            [
             0.2222222222222222,
             "#7201a8"
            ],
            [
             0.3333333333333333,
             "#9c179e"
            ],
            [
             0.4444444444444444,
             "#bd3786"
            ],
            [
             0.5555555555555556,
             "#d8576b"
            ],
            [
             0.6666666666666666,
             "#ed7953"
            ],
            [
             0.7777777777777778,
             "#fb9f3a"
            ],
            [
             0.8888888888888888,
             "#fdca26"
            ],
            [
             1,
             "#f0f921"
            ]
           ]
          },
          "colorway": [
           "#636efa",
           "#EF553B",
           "#00cc96",
           "#ab63fa",
           "#FFA15A",
           "#19d3f3",
           "#FF6692",
           "#B6E880",
           "#FF97FF",
           "#FECB52"
          ],
          "font": {
           "color": "#2a3f5f"
          },
          "geo": {
           "bgcolor": "white",
           "lakecolor": "white",
           "landcolor": "#E5ECF6",
           "showlakes": true,
           "showland": true,
           "subunitcolor": "white"
          },
          "hoverlabel": {
           "align": "left"
          },
          "hovermode": "closest",
          "mapbox": {
           "style": "light"
          },
          "paper_bgcolor": "white",
          "plot_bgcolor": "#E5ECF6",
          "polar": {
           "angularaxis": {
            "gridcolor": "white",
            "linecolor": "white",
            "ticks": ""
           },
           "bgcolor": "#E5ECF6",
           "radialaxis": {
            "gridcolor": "white",
            "linecolor": "white",
            "ticks": ""
           }
          },
          "scene": {
           "xaxis": {
            "backgroundcolor": "#E5ECF6",
            "gridcolor": "white",
            "gridwidth": 2,
            "linecolor": "white",
            "showbackground": true,
            "ticks": "",
            "zerolinecolor": "white"
           },
           "yaxis": {
            "backgroundcolor": "#E5ECF6",
            "gridcolor": "white",
            "gridwidth": 2,
            "linecolor": "white",
            "showbackground": true,
            "ticks": "",
            "zerolinecolor": "white"
           },
           "zaxis": {
            "backgroundcolor": "#E5ECF6",
            "gridcolor": "white",
            "gridwidth": 2,
            "linecolor": "white",
            "showbackground": true,
            "ticks": "",
            "zerolinecolor": "white"
           }
          },
          "shapedefaults": {
           "line": {
            "color": "#2a3f5f"
           }
          },
          "ternary": {
           "aaxis": {
            "gridcolor": "white",
            "linecolor": "white",
            "ticks": ""
           },
           "baxis": {
            "gridcolor": "white",
            "linecolor": "white",
            "ticks": ""
           },
           "bgcolor": "#E5ECF6",
           "caxis": {
            "gridcolor": "white",
            "linecolor": "white",
            "ticks": ""
           }
          },
          "title": {
           "x": 0.05
          },
          "xaxis": {
           "automargin": true,
           "gridcolor": "white",
           "linecolor": "white",
           "ticks": "",
           "title": {
            "standoff": 15
           },
           "zerolinecolor": "white",
           "zerolinewidth": 2
          },
          "yaxis": {
           "automargin": true,
           "gridcolor": "white",
           "linecolor": "white",
           "ticks": "",
           "title": {
            "standoff": 15
           },
           "zerolinecolor": "white",
           "zerolinewidth": 2
          }
         }
        },
        "title": {
         "text": "Correlation Matrix Heatmap"
        },
        "xaxis": {
         "tickmode": "array",
         "ticktext": [
          "Danceability",
          "Energy",
          "Loudness (dB)",
          "Speechiness",
          "Acousticness",
          "Popularity",
          "Liveness",
          "Valence",
          "Beats Per Minute (BPM)"
         ],
         "tickvals": [
          0,
          1,
          2,
          3,
          4,
          5,
          6,
          7,
          8
         ],
         "title": {
          "text": "Features"
         }
        },
        "yaxis": {
         "tickmode": "array",
         "ticktext": [
          "Danceability",
          "Energy",
          "Loudness (dB)",
          "Speechiness",
          "Acousticness",
          "Popularity",
          "Liveness",
          "Valence",
          "Beats Per Minute (BPM)"
         ],
         "tickvals": [
          0,
          1,
          2,
          3,
          4,
          5,
          6,
          7,
          8
         ],
         "title": {
          "text": "Features"
         }
        }
       }
      }
     },
     "metadata": {},
     "output_type": "display_data"
    }
   ],
   "source": [
    "# Generate text labels for the heatmap\n",
    "text_labels = [[f'{val:.2f}' for val in row] for row in correlation_matrix.values]\n",
    "\n",
    "# Create a heatmap with text labels inside each cell\n",
    "fig = go.Figure(data=go.Heatmap(\n",
    "    z=correlation_matrix,\n",
    "    x=correlation_matrix.columns,\n",
    "    y=correlation_matrix.columns,\n",
    "    colorscale='RdBu_r',  # Change the colorscale to coolwarm\n",
    "    zmid=0,  # Center the color scale at zero\n",
    "    text=text_labels,\n",
    "    texttemplate=\"%{text}\",\n",
    "    hoverinfo=\"text\"\n",
    "))\n",
    "\n",
    "# Update layout for compact display\n",
    "fig.update_layout(\n",
    "    title='Correlation Matrix Heatmap',\n",
    "    xaxis_title='Features',\n",
    "    yaxis_title='Features',\n",
    "    xaxis=dict(tickmode='array', tickvals=np.arange(len(correlation_matrix.columns)), ticktext=correlation_matrix.columns),\n",
    "    yaxis=dict(tickmode='array', tickvals=np.arange(len(correlation_matrix.columns)), ticktext=correlation_matrix.columns),\n",
    "    autosize=True,\n",
    "    margin=dict(l=10, r=10, b=10, t=50)  # Reduce margins to make the plot more compact\n",
    ")\n",
    "\n",
    "# Show the figure\n",
    "fig.show()"
   ]
  },
  {
   "cell_type": "code",
   "execution_count": 289,
   "metadata": {},
   "outputs": [],
   "source": [
    "spotify_2k23 = pd.read_csv('dataset/spotify_archive/spotify-2023.csv',encoding='latin1')"
   ]
  },
  {
   "cell_type": "code",
   "execution_count": 290,
   "metadata": {},
   "outputs": [
    {
     "data": {
      "text/html": [
       "<div>\n",
       "<style scoped>\n",
       "    .dataframe tbody tr th:only-of-type {\n",
       "        vertical-align: middle;\n",
       "    }\n",
       "\n",
       "    .dataframe tbody tr th {\n",
       "        vertical-align: top;\n",
       "    }\n",
       "\n",
       "    .dataframe thead th {\n",
       "        text-align: right;\n",
       "    }\n",
       "</style>\n",
       "<table border=\"1\" class=\"dataframe\">\n",
       "  <thead>\n",
       "    <tr style=\"text-align: right;\">\n",
       "      <th></th>\n",
       "      <th>track_name</th>\n",
       "      <th>artist(s)_name</th>\n",
       "      <th>artist_count</th>\n",
       "      <th>released_year</th>\n",
       "      <th>released_month</th>\n",
       "      <th>released_day</th>\n",
       "      <th>in_spotify_playlists</th>\n",
       "      <th>in_spotify_charts</th>\n",
       "      <th>streams</th>\n",
       "      <th>in_apple_playlists</th>\n",
       "      <th>...</th>\n",
       "      <th>bpm</th>\n",
       "      <th>key</th>\n",
       "      <th>mode</th>\n",
       "      <th>danceability_%</th>\n",
       "      <th>valence_%</th>\n",
       "      <th>energy_%</th>\n",
       "      <th>acousticness_%</th>\n",
       "      <th>instrumentalness_%</th>\n",
       "      <th>liveness_%</th>\n",
       "      <th>speechiness_%</th>\n",
       "    </tr>\n",
       "  </thead>\n",
       "  <tbody>\n",
       "    <tr>\n",
       "      <th>0</th>\n",
       "      <td>Seven (feat. Latto) (Explicit Ver.)</td>\n",
       "      <td>Latto, Jung Kook</td>\n",
       "      <td>2</td>\n",
       "      <td>2023</td>\n",
       "      <td>7</td>\n",
       "      <td>14</td>\n",
       "      <td>553</td>\n",
       "      <td>147</td>\n",
       "      <td>141381703</td>\n",
       "      <td>43</td>\n",
       "      <td>...</td>\n",
       "      <td>125</td>\n",
       "      <td>B</td>\n",
       "      <td>Major</td>\n",
       "      <td>80</td>\n",
       "      <td>89</td>\n",
       "      <td>83</td>\n",
       "      <td>31</td>\n",
       "      <td>0</td>\n",
       "      <td>8</td>\n",
       "      <td>4</td>\n",
       "    </tr>\n",
       "    <tr>\n",
       "      <th>1</th>\n",
       "      <td>LALA</td>\n",
       "      <td>Myke Towers</td>\n",
       "      <td>1</td>\n",
       "      <td>2023</td>\n",
       "      <td>3</td>\n",
       "      <td>23</td>\n",
       "      <td>1474</td>\n",
       "      <td>48</td>\n",
       "      <td>133716286</td>\n",
       "      <td>48</td>\n",
       "      <td>...</td>\n",
       "      <td>92</td>\n",
       "      <td>C#</td>\n",
       "      <td>Major</td>\n",
       "      <td>71</td>\n",
       "      <td>61</td>\n",
       "      <td>74</td>\n",
       "      <td>7</td>\n",
       "      <td>0</td>\n",
       "      <td>10</td>\n",
       "      <td>4</td>\n",
       "    </tr>\n",
       "    <tr>\n",
       "      <th>2</th>\n",
       "      <td>vampire</td>\n",
       "      <td>Olivia Rodrigo</td>\n",
       "      <td>1</td>\n",
       "      <td>2023</td>\n",
       "      <td>6</td>\n",
       "      <td>30</td>\n",
       "      <td>1397</td>\n",
       "      <td>113</td>\n",
       "      <td>140003974</td>\n",
       "      <td>94</td>\n",
       "      <td>...</td>\n",
       "      <td>138</td>\n",
       "      <td>F</td>\n",
       "      <td>Major</td>\n",
       "      <td>51</td>\n",
       "      <td>32</td>\n",
       "      <td>53</td>\n",
       "      <td>17</td>\n",
       "      <td>0</td>\n",
       "      <td>31</td>\n",
       "      <td>6</td>\n",
       "    </tr>\n",
       "    <tr>\n",
       "      <th>3</th>\n",
       "      <td>Cruel Summer</td>\n",
       "      <td>Taylor Swift</td>\n",
       "      <td>1</td>\n",
       "      <td>2019</td>\n",
       "      <td>8</td>\n",
       "      <td>23</td>\n",
       "      <td>7858</td>\n",
       "      <td>100</td>\n",
       "      <td>800840817</td>\n",
       "      <td>116</td>\n",
       "      <td>...</td>\n",
       "      <td>170</td>\n",
       "      <td>A</td>\n",
       "      <td>Major</td>\n",
       "      <td>55</td>\n",
       "      <td>58</td>\n",
       "      <td>72</td>\n",
       "      <td>11</td>\n",
       "      <td>0</td>\n",
       "      <td>11</td>\n",
       "      <td>15</td>\n",
       "    </tr>\n",
       "    <tr>\n",
       "      <th>4</th>\n",
       "      <td>WHERE SHE GOES</td>\n",
       "      <td>Bad Bunny</td>\n",
       "      <td>1</td>\n",
       "      <td>2023</td>\n",
       "      <td>5</td>\n",
       "      <td>18</td>\n",
       "      <td>3133</td>\n",
       "      <td>50</td>\n",
       "      <td>303236322</td>\n",
       "      <td>84</td>\n",
       "      <td>...</td>\n",
       "      <td>144</td>\n",
       "      <td>A</td>\n",
       "      <td>Minor</td>\n",
       "      <td>65</td>\n",
       "      <td>23</td>\n",
       "      <td>80</td>\n",
       "      <td>14</td>\n",
       "      <td>63</td>\n",
       "      <td>11</td>\n",
       "      <td>6</td>\n",
       "    </tr>\n",
       "  </tbody>\n",
       "</table>\n",
       "<p>5 rows × 24 columns</p>\n",
       "</div>"
      ],
      "text/plain": [
       "                            track_name    artist(s)_name  artist_count  \\\n",
       "0  Seven (feat. Latto) (Explicit Ver.)  Latto, Jung Kook             2   \n",
       "1                                 LALA       Myke Towers             1   \n",
       "2                              vampire    Olivia Rodrigo             1   \n",
       "3                         Cruel Summer      Taylor Swift             1   \n",
       "4                       WHERE SHE GOES         Bad Bunny             1   \n",
       "\n",
       "   released_year  released_month  released_day  in_spotify_playlists  \\\n",
       "0           2023               7            14                   553   \n",
       "1           2023               3            23                  1474   \n",
       "2           2023               6            30                  1397   \n",
       "3           2019               8            23                  7858   \n",
       "4           2023               5            18                  3133   \n",
       "\n",
       "   in_spotify_charts    streams  in_apple_playlists  ...  bpm key   mode  \\\n",
       "0                147  141381703                  43  ...  125   B  Major   \n",
       "1                 48  133716286                  48  ...   92  C#  Major   \n",
       "2                113  140003974                  94  ...  138   F  Major   \n",
       "3                100  800840817                 116  ...  170   A  Major   \n",
       "4                 50  303236322                  84  ...  144   A  Minor   \n",
       "\n",
       "  danceability_%  valence_% energy_% acousticness_%  instrumentalness_%  \\\n",
       "0             80         89       83             31                   0   \n",
       "1             71         61       74              7                   0   \n",
       "2             51         32       53             17                   0   \n",
       "3             55         58       72             11                   0   \n",
       "4             65         23       80             14                  63   \n",
       "\n",
       "   liveness_%  speechiness_%  \n",
       "0           8              4  \n",
       "1          10              4  \n",
       "2          31              6  \n",
       "3          11             15  \n",
       "4          11              6  \n",
       "\n",
       "[5 rows x 24 columns]"
      ]
     },
     "execution_count": 290,
     "metadata": {},
     "output_type": "execute_result"
    }
   ],
   "source": [
    "spotify_2k23.head()\n"
   ]
  },
  {
   "cell_type": "code",
   "execution_count": 291,
   "metadata": {},
   "outputs": [
    {
     "name": "stdout",
     "output_type": "stream",
     "text": [
      "<class 'pandas.core.frame.DataFrame'>\n",
      "RangeIndex: 953 entries, 0 to 952\n",
      "Data columns (total 24 columns):\n",
      " #   Column                Non-Null Count  Dtype \n",
      "---  ------                --------------  ----- \n",
      " 0   track_name            953 non-null    object\n",
      " 1   artist(s)_name        953 non-null    object\n",
      " 2   artist_count          953 non-null    int64 \n",
      " 3   released_year         953 non-null    int64 \n",
      " 4   released_month        953 non-null    int64 \n",
      " 5   released_day          953 non-null    int64 \n",
      " 6   in_spotify_playlists  953 non-null    int64 \n",
      " 7   in_spotify_charts     953 non-null    int64 \n",
      " 8   streams               953 non-null    object\n",
      " 9   in_apple_playlists    953 non-null    int64 \n",
      " 10  in_apple_charts       953 non-null    int64 \n",
      " 11  in_deezer_playlists   953 non-null    object\n",
      " 12  in_deezer_charts      953 non-null    int64 \n",
      " 13  in_shazam_charts      903 non-null    object\n",
      " 14  bpm                   953 non-null    int64 \n",
      " 15  key                   858 non-null    object\n",
      " 16  mode                  953 non-null    object\n",
      " 17  danceability_%        953 non-null    int64 \n",
      " 18  valence_%             953 non-null    int64 \n",
      " 19  energy_%              953 non-null    int64 \n",
      " 20  acousticness_%        953 non-null    int64 \n",
      " 21  instrumentalness_%    953 non-null    int64 \n",
      " 22  liveness_%            953 non-null    int64 \n",
      " 23  speechiness_%         953 non-null    int64 \n",
      "dtypes: int64(17), object(7)\n",
      "memory usage: 178.8+ KB\n"
     ]
    }
   ],
   "source": [
    "spotify_2k23.info()"
   ]
  },
  {
   "cell_type": "code",
   "execution_count": 292,
   "metadata": {},
   "outputs": [
    {
     "name": "stdout",
     "output_type": "stream",
     "text": [
      "number of artists '645'\n"
     ]
    }
   ],
   "source": [
    "print(f\"number of artists '{spotify_2k23['artist(s)_name'].nunique()}'\")"
   ]
  },
  {
   "cell_type": "code",
   "execution_count": 293,
   "metadata": {},
   "outputs": [
    {
     "data": {
      "text/plain": [
       "artist(s)_name\n",
       "Taylor Swift                          34\n",
       "The Weeknd                            22\n",
       "Bad Bunny                             19\n",
       "SZA                                   19\n",
       "Harry Styles                          17\n",
       "                                      ..\n",
       "Gorillaz, Bad Bunny                    1\n",
       "j-hope, J. Cole                        1\n",
       "Robin Schulz, Oliver Tree              1\n",
       "Don Toliver, Future, Justin Bieber     1\n",
       "The Walters                            1\n",
       "Name: count, Length: 645, dtype: int64"
      ]
     },
     "execution_count": 293,
     "metadata": {},
     "output_type": "execute_result"
    }
   ],
   "source": [
    "artist_counts = spotify_2k23['artist(s)_name'].value_counts()\n",
    "artist_counts"
   ]
  },
  {
   "cell_type": "code",
   "execution_count": 294,
   "metadata": {},
   "outputs": [],
   "source": [
    "colors = [\"#8c0404\",\"#f25ed0\",\"#000000\",\"#16A085\",\"#34495E\",\n",
    "           \"#21618C \",\"#512E5F\",\"#45B39D\",\"#AAB7B8 \",\"#20B2AA\",\n",
    "           \"#FF69B4\",\"#00CED1\",\"#FF7F50\",\"#7FFF00\",\"#DA70D6\"]"
   ]
  },
  {
   "cell_type": "code",
   "execution_count": 295,
   "metadata": {},
   "outputs": [
    {
     "data": {
      "application/vnd.plotly.v1+json": {
       "config": {
        "plotlyServerURL": "https://plot.ly"
       },
       "data": [
        {
         "alignmentgroup": "True",
         "hovertemplate": "color=Taylor Swift<br>artist(s)_name=%{x}<br>Count=%{y}<extra></extra>",
         "legendgroup": "Taylor Swift",
         "marker": {
          "color": "#8c0404",
          "pattern": {
           "shape": ""
          }
         },
         "name": "Taylor Swift",
         "offsetgroup": "Taylor Swift",
         "orientation": "v",
         "showlegend": true,
         "textposition": "auto",
         "texttemplate": "%{y}",
         "type": "bar",
         "x": [
          "Taylor Swift"
         ],
         "xaxis": "x",
         "y": [
          34
         ],
         "yaxis": "y"
        },
        {
         "alignmentgroup": "True",
         "hovertemplate": "color=The Weeknd<br>artist(s)_name=%{x}<br>Count=%{y}<extra></extra>",
         "legendgroup": "The Weeknd",
         "marker": {
          "color": "#f25ed0",
          "pattern": {
           "shape": ""
          }
         },
         "name": "The Weeknd",
         "offsetgroup": "The Weeknd",
         "orientation": "v",
         "showlegend": true,
         "textposition": "auto",
         "texttemplate": "%{y}",
         "type": "bar",
         "x": [
          "The Weeknd"
         ],
         "xaxis": "x",
         "y": [
          22
         ],
         "yaxis": "y"
        },
        {
         "alignmentgroup": "True",
         "hovertemplate": "color=Bad Bunny<br>artist(s)_name=%{x}<br>Count=%{y}<extra></extra>",
         "legendgroup": "Bad Bunny",
         "marker": {
          "color": "#000000",
          "pattern": {
           "shape": ""
          }
         },
         "name": "Bad Bunny",
         "offsetgroup": "Bad Bunny",
         "orientation": "v",
         "showlegend": true,
         "textposition": "auto",
         "texttemplate": "%{y}",
         "type": "bar",
         "x": [
          "Bad Bunny"
         ],
         "xaxis": "x",
         "y": [
          19
         ],
         "yaxis": "y"
        },
        {
         "alignmentgroup": "True",
         "hovertemplate": "color=SZA<br>artist(s)_name=%{x}<br>Count=%{y}<extra></extra>",
         "legendgroup": "SZA",
         "marker": {
          "color": "#16A085",
          "pattern": {
           "shape": ""
          }
         },
         "name": "SZA",
         "offsetgroup": "SZA",
         "orientation": "v",
         "showlegend": true,
         "textposition": "auto",
         "texttemplate": "%{y}",
         "type": "bar",
         "x": [
          "SZA"
         ],
         "xaxis": "x",
         "y": [
          19
         ],
         "yaxis": "y"
        },
        {
         "alignmentgroup": "True",
         "hovertemplate": "color=Harry Styles<br>artist(s)_name=%{x}<br>Count=%{y}<extra></extra>",
         "legendgroup": "Harry Styles",
         "marker": {
          "color": "#34495E",
          "pattern": {
           "shape": ""
          }
         },
         "name": "Harry Styles",
         "offsetgroup": "Harry Styles",
         "orientation": "v",
         "showlegend": true,
         "textposition": "auto",
         "texttemplate": "%{y}",
         "type": "bar",
         "x": [
          "Harry Styles"
         ],
         "xaxis": "x",
         "y": [
          17
         ],
         "yaxis": "y"
        },
        {
         "alignmentgroup": "True",
         "hovertemplate": "color=Kendrick Lamar<br>artist(s)_name=%{x}<br>Count=%{y}<extra></extra>",
         "legendgroup": "Kendrick Lamar",
         "marker": {
          "color": "#21618C ",
          "pattern": {
           "shape": ""
          }
         },
         "name": "Kendrick Lamar",
         "offsetgroup": "Kendrick Lamar",
         "orientation": "v",
         "showlegend": true,
         "textposition": "auto",
         "texttemplate": "%{y}",
         "type": "bar",
         "x": [
          "Kendrick Lamar"
         ],
         "xaxis": "x",
         "y": [
          12
         ],
         "yaxis": "y"
        },
        {
         "alignmentgroup": "True",
         "hovertemplate": "color=Morgan Wallen<br>artist(s)_name=%{x}<br>Count=%{y}<extra></extra>",
         "legendgroup": "Morgan Wallen",
         "marker": {
          "color": "#512E5F",
          "pattern": {
           "shape": ""
          }
         },
         "name": "Morgan Wallen",
         "offsetgroup": "Morgan Wallen",
         "orientation": "v",
         "showlegend": true,
         "textposition": "auto",
         "texttemplate": "%{y}",
         "type": "bar",
         "x": [
          "Morgan Wallen"
         ],
         "xaxis": "x",
         "y": [
          11
         ],
         "yaxis": "y"
        },
        {
         "alignmentgroup": "True",
         "hovertemplate": "color=Ed Sheeran<br>artist(s)_name=%{x}<br>Count=%{y}<extra></extra>",
         "legendgroup": "Ed Sheeran",
         "marker": {
          "color": "#45B39D",
          "pattern": {
           "shape": ""
          }
         },
         "name": "Ed Sheeran",
         "offsetgroup": "Ed Sheeran",
         "orientation": "v",
         "showlegend": true,
         "textposition": "auto",
         "texttemplate": "%{y}",
         "type": "bar",
         "x": [
          "Ed Sheeran"
         ],
         "xaxis": "x",
         "y": [
          9
         ],
         "yaxis": "y"
        },
        {
         "alignmentgroup": "True",
         "hovertemplate": "color=Feid<br>artist(s)_name=%{x}<br>Count=%{y}<extra></extra>",
         "legendgroup": "Feid",
         "marker": {
          "color": "#AAB7B8 ",
          "pattern": {
           "shape": ""
          }
         },
         "name": "Feid",
         "offsetgroup": "Feid",
         "orientation": "v",
         "showlegend": true,
         "textposition": "auto",
         "texttemplate": "%{y}",
         "type": "bar",
         "x": [
          "Feid"
         ],
         "xaxis": "x",
         "y": [
          8
         ],
         "yaxis": "y"
        },
        {
         "alignmentgroup": "True",
         "hovertemplate": "color=Drake, 21 Savage<br>artist(s)_name=%{x}<br>Count=%{y}<extra></extra>",
         "legendgroup": "Drake, 21 Savage",
         "marker": {
          "color": "#20B2AA",
          "pattern": {
           "shape": ""
          }
         },
         "name": "Drake, 21 Savage",
         "offsetgroup": "Drake, 21 Savage",
         "orientation": "v",
         "showlegend": true,
         "textposition": "auto",
         "texttemplate": "%{y}",
         "type": "bar",
         "x": [
          "Drake, 21 Savage"
         ],
         "xaxis": "x",
         "y": [
          8
         ],
         "yaxis": "y"
        },
        {
         "alignmentgroup": "True",
         "hovertemplate": "color=BTS<br>artist(s)_name=%{x}<br>Count=%{y}<extra></extra>",
         "legendgroup": "BTS",
         "marker": {
          "color": "#FF69B4",
          "pattern": {
           "shape": ""
          }
         },
         "name": "BTS",
         "offsetgroup": "BTS",
         "orientation": "v",
         "showlegend": true,
         "textposition": "auto",
         "texttemplate": "%{y}",
         "type": "bar",
         "x": [
          "BTS"
         ],
         "xaxis": "x",
         "y": [
          8
         ],
         "yaxis": "y"
        },
        {
         "alignmentgroup": "True",
         "hovertemplate": "color=Olivia Rodrigo<br>artist(s)_name=%{x}<br>Count=%{y}<extra></extra>",
         "legendgroup": "Olivia Rodrigo",
         "marker": {
          "color": "#00CED1",
          "pattern": {
           "shape": ""
          }
         },
         "name": "Olivia Rodrigo",
         "offsetgroup": "Olivia Rodrigo",
         "orientation": "v",
         "showlegend": true,
         "textposition": "auto",
         "texttemplate": "%{y}",
         "type": "bar",
         "x": [
          "Olivia Rodrigo"
         ],
         "xaxis": "x",
         "y": [
          7
         ],
         "yaxis": "y"
        },
        {
         "alignmentgroup": "True",
         "hovertemplate": "color=Labrinth<br>artist(s)_name=%{x}<br>Count=%{y}<extra></extra>",
         "legendgroup": "Labrinth",
         "marker": {
          "color": "#FF7F50",
          "pattern": {
           "shape": ""
          }
         },
         "name": "Labrinth",
         "offsetgroup": "Labrinth",
         "orientation": "v",
         "showlegend": true,
         "textposition": "auto",
         "texttemplate": "%{y}",
         "type": "bar",
         "x": [
          "Labrinth"
         ],
         "xaxis": "x",
         "y": [
          7
         ],
         "yaxis": "y"
        },
        {
         "alignmentgroup": "True",
         "hovertemplate": "color=NewJeans<br>artist(s)_name=%{x}<br>Count=%{y}<extra></extra>",
         "legendgroup": "NewJeans",
         "marker": {
          "color": "#7FFF00",
          "pattern": {
           "shape": ""
          }
         },
         "name": "NewJeans",
         "offsetgroup": "NewJeans",
         "orientation": "v",
         "showlegend": true,
         "textposition": "auto",
         "texttemplate": "%{y}",
         "type": "bar",
         "x": [
          "NewJeans"
         ],
         "xaxis": "x",
         "y": [
          6
         ],
         "yaxis": "y"
        },
        {
         "alignmentgroup": "True",
         "hovertemplate": "color=Doja Cat<br>artist(s)_name=%{x}<br>Count=%{y}<extra></extra>",
         "legendgroup": "Doja Cat",
         "marker": {
          "color": "#DA70D6",
          "pattern": {
           "shape": ""
          }
         },
         "name": "Doja Cat",
         "offsetgroup": "Doja Cat",
         "orientation": "v",
         "showlegend": true,
         "textposition": "auto",
         "texttemplate": "%{y}",
         "type": "bar",
         "x": [
          "Doja Cat"
         ],
         "xaxis": "x",
         "y": [
          6
         ],
         "yaxis": "y"
        }
       ],
       "layout": {
        "barmode": "relative",
        "legend": {
         "title": {
          "text": "color"
         },
         "tracegroupgap": 0
        },
        "template": {
         "data": {
          "bar": [
           {
            "error_x": {
             "color": "#2a3f5f"
            },
            "error_y": {
             "color": "#2a3f5f"
            },
            "marker": {
             "line": {
              "color": "#E5ECF6",
              "width": 0.5
             },
             "pattern": {
              "fillmode": "overlay",
              "size": 10,
              "solidity": 0.2
             }
            },
            "type": "bar"
           }
          ],
          "barpolar": [
           {
            "marker": {
             "line": {
              "color": "#E5ECF6",
              "width": 0.5
             },
             "pattern": {
              "fillmode": "overlay",
              "size": 10,
              "solidity": 0.2
             }
            },
            "type": "barpolar"
           }
          ],
          "carpet": [
           {
            "aaxis": {
             "endlinecolor": "#2a3f5f",
             "gridcolor": "white",
             "linecolor": "white",
             "minorgridcolor": "white",
             "startlinecolor": "#2a3f5f"
            },
            "baxis": {
             "endlinecolor": "#2a3f5f",
             "gridcolor": "white",
             "linecolor": "white",
             "minorgridcolor": "white",
             "startlinecolor": "#2a3f5f"
            },
            "type": "carpet"
           }
          ],
          "choropleth": [
           {
            "colorbar": {
             "outlinewidth": 0,
             "ticks": ""
            },
            "type": "choropleth"
           }
          ],
          "contour": [
           {
            "colorbar": {
             "outlinewidth": 0,
             "ticks": ""
            },
            "colorscale": [
             [
              0,
              "#0d0887"
             ],
             [
              0.1111111111111111,
              "#46039f"
             ],
             [
              0.2222222222222222,
              "#7201a8"
             ],
             [
              0.3333333333333333,
              "#9c179e"
             ],
             [
              0.4444444444444444,
              "#bd3786"
             ],
             [
              0.5555555555555556,
              "#d8576b"
             ],
             [
              0.6666666666666666,
              "#ed7953"
             ],
             [
              0.7777777777777778,
              "#fb9f3a"
             ],
             [
              0.8888888888888888,
              "#fdca26"
             ],
             [
              1,
              "#f0f921"
             ]
            ],
            "type": "contour"
           }
          ],
          "contourcarpet": [
           {
            "colorbar": {
             "outlinewidth": 0,
             "ticks": ""
            },
            "type": "contourcarpet"
           }
          ],
          "heatmap": [
           {
            "colorbar": {
             "outlinewidth": 0,
             "ticks": ""
            },
            "colorscale": [
             [
              0,
              "#0d0887"
             ],
             [
              0.1111111111111111,
              "#46039f"
             ],
             [
              0.2222222222222222,
              "#7201a8"
             ],
             [
              0.3333333333333333,
              "#9c179e"
             ],
             [
              0.4444444444444444,
              "#bd3786"
             ],
             [
              0.5555555555555556,
              "#d8576b"
             ],
             [
              0.6666666666666666,
              "#ed7953"
             ],
             [
              0.7777777777777778,
              "#fb9f3a"
             ],
             [
              0.8888888888888888,
              "#fdca26"
             ],
             [
              1,
              "#f0f921"
             ]
            ],
            "type": "heatmap"
           }
          ],
          "heatmapgl": [
           {
            "colorbar": {
             "outlinewidth": 0,
             "ticks": ""
            },
            "colorscale": [
             [
              0,
              "#0d0887"
             ],
             [
              0.1111111111111111,
              "#46039f"
             ],
             [
              0.2222222222222222,
              "#7201a8"
             ],
             [
              0.3333333333333333,
              "#9c179e"
             ],
             [
              0.4444444444444444,
              "#bd3786"
             ],
             [
              0.5555555555555556,
              "#d8576b"
             ],
             [
              0.6666666666666666,
              "#ed7953"
             ],
             [
              0.7777777777777778,
              "#fb9f3a"
             ],
             [
              0.8888888888888888,
              "#fdca26"
             ],
             [
              1,
              "#f0f921"
             ]
            ],
            "type": "heatmapgl"
           }
          ],
          "histogram": [
           {
            "marker": {
             "pattern": {
              "fillmode": "overlay",
              "size": 10,
              "solidity": 0.2
             }
            },
            "type": "histogram"
           }
          ],
          "histogram2d": [
           {
            "colorbar": {
             "outlinewidth": 0,
             "ticks": ""
            },
            "colorscale": [
             [
              0,
              "#0d0887"
             ],
             [
              0.1111111111111111,
              "#46039f"
             ],
             [
              0.2222222222222222,
              "#7201a8"
             ],
             [
              0.3333333333333333,
              "#9c179e"
             ],
             [
              0.4444444444444444,
              "#bd3786"
             ],
             [
              0.5555555555555556,
              "#d8576b"
             ],
             [
              0.6666666666666666,
              "#ed7953"
             ],
             [
              0.7777777777777778,
              "#fb9f3a"
             ],
             [
              0.8888888888888888,
              "#fdca26"
             ],
             [
              1,
              "#f0f921"
             ]
            ],
            "type": "histogram2d"
           }
          ],
          "histogram2dcontour": [
           {
            "colorbar": {
             "outlinewidth": 0,
             "ticks": ""
            },
            "colorscale": [
             [
              0,
              "#0d0887"
             ],
             [
              0.1111111111111111,
              "#46039f"
             ],
             [
              0.2222222222222222,
              "#7201a8"
             ],
             [
              0.3333333333333333,
              "#9c179e"
             ],
             [
              0.4444444444444444,
              "#bd3786"
             ],
             [
              0.5555555555555556,
              "#d8576b"
             ],
             [
              0.6666666666666666,
              "#ed7953"
             ],
             [
              0.7777777777777778,
              "#fb9f3a"
             ],
             [
              0.8888888888888888,
              "#fdca26"
             ],
             [
              1,
              "#f0f921"
             ]
            ],
            "type": "histogram2dcontour"
           }
          ],
          "mesh3d": [
           {
            "colorbar": {
             "outlinewidth": 0,
             "ticks": ""
            },
            "type": "mesh3d"
           }
          ],
          "parcoords": [
           {
            "line": {
             "colorbar": {
              "outlinewidth": 0,
              "ticks": ""
             }
            },
            "type": "parcoords"
           }
          ],
          "pie": [
           {
            "automargin": true,
            "type": "pie"
           }
          ],
          "scatter": [
           {
            "fillpattern": {
             "fillmode": "overlay",
             "size": 10,
             "solidity": 0.2
            },
            "type": "scatter"
           }
          ],
          "scatter3d": [
           {
            "line": {
             "colorbar": {
              "outlinewidth": 0,
              "ticks": ""
             }
            },
            "marker": {
             "colorbar": {
              "outlinewidth": 0,
              "ticks": ""
             }
            },
            "type": "scatter3d"
           }
          ],
          "scattercarpet": [
           {
            "marker": {
             "colorbar": {
              "outlinewidth": 0,
              "ticks": ""
             }
            },
            "type": "scattercarpet"
           }
          ],
          "scattergeo": [
           {
            "marker": {
             "colorbar": {
              "outlinewidth": 0,
              "ticks": ""
             }
            },
            "type": "scattergeo"
           }
          ],
          "scattergl": [
           {
            "marker": {
             "colorbar": {
              "outlinewidth": 0,
              "ticks": ""
             }
            },
            "type": "scattergl"
           }
          ],
          "scattermapbox": [
           {
            "marker": {
             "colorbar": {
              "outlinewidth": 0,
              "ticks": ""
             }
            },
            "type": "scattermapbox"
           }
          ],
          "scatterpolar": [
           {
            "marker": {
             "colorbar": {
              "outlinewidth": 0,
              "ticks": ""
             }
            },
            "type": "scatterpolar"
           }
          ],
          "scatterpolargl": [
           {
            "marker": {
             "colorbar": {
              "outlinewidth": 0,
              "ticks": ""
             }
            },
            "type": "scatterpolargl"
           }
          ],
          "scatterternary": [
           {
            "marker": {
             "colorbar": {
              "outlinewidth": 0,
              "ticks": ""
             }
            },
            "type": "scatterternary"
           }
          ],
          "surface": [
           {
            "colorbar": {
             "outlinewidth": 0,
             "ticks": ""
            },
            "colorscale": [
             [
              0,
              "#0d0887"
             ],
             [
              0.1111111111111111,
              "#46039f"
             ],
             [
              0.2222222222222222,
              "#7201a8"
             ],
             [
              0.3333333333333333,
              "#9c179e"
             ],
             [
              0.4444444444444444,
              "#bd3786"
             ],
             [
              0.5555555555555556,
              "#d8576b"
             ],
             [
              0.6666666666666666,
              "#ed7953"
             ],
             [
              0.7777777777777778,
              "#fb9f3a"
             ],
             [
              0.8888888888888888,
              "#fdca26"
             ],
             [
              1,
              "#f0f921"
             ]
            ],
            "type": "surface"
           }
          ],
          "table": [
           {
            "cells": {
             "fill": {
              "color": "#EBF0F8"
             },
             "line": {
              "color": "white"
             }
            },
            "header": {
             "fill": {
              "color": "#C8D4E3"
             },
             "line": {
              "color": "white"
             }
            },
            "type": "table"
           }
          ]
         },
         "layout": {
          "annotationdefaults": {
           "arrowcolor": "#2a3f5f",
           "arrowhead": 0,
           "arrowwidth": 1
          },
          "autotypenumbers": "strict",
          "coloraxis": {
           "colorbar": {
            "outlinewidth": 0,
            "ticks": ""
           }
          },
          "colorscale": {
           "diverging": [
            [
             0,
             "#8e0152"
            ],
            [
             0.1,
             "#c51b7d"
            ],
            [
             0.2,
             "#de77ae"
            ],
            [
             0.3,
             "#f1b6da"
            ],
            [
             0.4,
             "#fde0ef"
            ],
            [
             0.5,
             "#f7f7f7"
            ],
            [
             0.6,
             "#e6f5d0"
            ],
            [
             0.7,
             "#b8e186"
            ],
            [
             0.8,
             "#7fbc41"
            ],
            [
             0.9,
             "#4d9221"
            ],
            [
             1,
             "#276419"
            ]
           ],
           "sequential": [
            [
             0,
             "#0d0887"
            ],
            [
             0.1111111111111111,
             "#46039f"
            ],
            [
             0.2222222222222222,
             "#7201a8"
            ],
            [
             0.3333333333333333,
             "#9c179e"
            ],
            [
             0.4444444444444444,
             "#bd3786"
            ],
            [
             0.5555555555555556,
             "#d8576b"
            ],
            [
             0.6666666666666666,
             "#ed7953"
            ],
            [
             0.7777777777777778,
             "#fb9f3a"
            ],
            [
             0.8888888888888888,
             "#fdca26"
            ],
            [
             1,
             "#f0f921"
            ]
           ],
           "sequentialminus": [
            [
             0,
             "#0d0887"
            ],
            [
             0.1111111111111111,
             "#46039f"
            ],
            [
             0.2222222222222222,
             "#7201a8"
            ],
            [
             0.3333333333333333,
             "#9c179e"
            ],
            [
             0.4444444444444444,
             "#bd3786"
            ],
            [
             0.5555555555555556,
             "#d8576b"
            ],
            [
             0.6666666666666666,
             "#ed7953"
            ],
            [
             0.7777777777777778,
             "#fb9f3a"
            ],
            [
             0.8888888888888888,
             "#fdca26"
            ],
            [
             1,
             "#f0f921"
            ]
           ]
          },
          "colorway": [
           "#636efa",
           "#EF553B",
           "#00cc96",
           "#ab63fa",
           "#FFA15A",
           "#19d3f3",
           "#FF6692",
           "#B6E880",
           "#FF97FF",
           "#FECB52"
          ],
          "font": {
           "color": "#2a3f5f"
          },
          "geo": {
           "bgcolor": "white",
           "lakecolor": "white",
           "landcolor": "#E5ECF6",
           "showlakes": true,
           "showland": true,
           "subunitcolor": "white"
          },
          "hoverlabel": {
           "align": "left"
          },
          "hovermode": "closest",
          "mapbox": {
           "style": "light"
          },
          "paper_bgcolor": "white",
          "plot_bgcolor": "#E5ECF6",
          "polar": {
           "angularaxis": {
            "gridcolor": "white",
            "linecolor": "white",
            "ticks": ""
           },
           "bgcolor": "#E5ECF6",
           "radialaxis": {
            "gridcolor": "white",
            "linecolor": "white",
            "ticks": ""
           }
          },
          "scene": {
           "xaxis": {
            "backgroundcolor": "#E5ECF6",
            "gridcolor": "white",
            "gridwidth": 2,
            "linecolor": "white",
            "showbackground": true,
            "ticks": "",
            "zerolinecolor": "white"
           },
           "yaxis": {
            "backgroundcolor": "#E5ECF6",
            "gridcolor": "white",
            "gridwidth": 2,
            "linecolor": "white",
            "showbackground": true,
            "ticks": "",
            "zerolinecolor": "white"
           },
           "zaxis": {
            "backgroundcolor": "#E5ECF6",
            "gridcolor": "white",
            "gridwidth": 2,
            "linecolor": "white",
            "showbackground": true,
            "ticks": "",
            "zerolinecolor": "white"
           }
          },
          "shapedefaults": {
           "line": {
            "color": "#2a3f5f"
           }
          },
          "ternary": {
           "aaxis": {
            "gridcolor": "white",
            "linecolor": "white",
            "ticks": ""
           },
           "baxis": {
            "gridcolor": "white",
            "linecolor": "white",
            "ticks": ""
           },
           "bgcolor": "#E5ECF6",
           "caxis": {
            "gridcolor": "white",
            "linecolor": "white",
            "ticks": ""
           }
          },
          "title": {
           "x": 0.05
          },
          "xaxis": {
           "automargin": true,
           "gridcolor": "white",
           "linecolor": "white",
           "ticks": "",
           "title": {
            "standoff": 15
           },
           "zerolinecolor": "white",
           "zerolinewidth": 2
          },
          "yaxis": {
           "automargin": true,
           "gridcolor": "white",
           "linecolor": "white",
           "ticks": "",
           "title": {
            "standoff": 15
           },
           "zerolinecolor": "white",
           "zerolinewidth": 2
          }
         }
        },
        "title": {
         "text": "2023 Top 15 Artists with Most Songs"
        },
        "xaxis": {
         "anchor": "y",
         "domain": [
          0,
          1
         ],
         "title": {
          "text": "artist(s)_name"
         }
        },
        "yaxis": {
         "anchor": "x",
         "domain": [
          0,
          1
         ],
         "title": {
          "text": "Count"
         }
        }
       }
      }
     },
     "metadata": {},
     "output_type": "display_data"
    }
   ],
   "source": [
    "# iplot(\n",
    "px.bar(artist_counts[:15],\n",
    "             text_auto = True,\n",
    "             color = artist_counts[:15].index,\n",
    "             color_discrete_sequence = colors, \n",
    "             labels=dict(index=\"Count Names\",value=\"Count\"),\n",
    "             title = '2023 Top 15 Artists with Most Songs'\n",
    "            )\n",
    "            # )"
   ]
  },
  {
   "cell_type": "code",
   "execution_count": 296,
   "metadata": {},
   "outputs": [
    {
     "data": {
      "text/plain": [
       "Index(['track_name', 'artist(s)_name', 'artist_count', 'released_year',\n",
       "       'released_month', 'released_day', 'in_spotify_playlists',\n",
       "       'in_spotify_charts', 'streams', 'in_apple_playlists', 'in_apple_charts',\n",
       "       'in_deezer_playlists', 'in_deezer_charts', 'in_shazam_charts', 'bpm',\n",
       "       'key', 'mode', 'danceability_%', 'valence_%', 'energy_%',\n",
       "       'acousticness_%', 'instrumentalness_%', 'liveness_%', 'speechiness_%'],\n",
       "      dtype='object')"
      ]
     },
     "execution_count": 296,
     "metadata": {},
     "output_type": "execute_result"
    }
   ],
   "source": [
    "spotify_2k23.columns"
   ]
  },
  {
   "cell_type": "code",
   "execution_count": null,
   "metadata": {},
   "outputs": [],
   "source": []
  },
  {
   "cell_type": "code",
   "execution_count": 297,
   "metadata": {},
   "outputs": [],
   "source": [
    "characteristics = ['in_spotify_playlists','danceability_%', 'energy_%', 'instrumentalness_%', 'speechiness_%', 'acousticness_%', 'liveness_%', 'valence_%', 'bpm']\n",
    "correlation_matrix = spotify_2k23[characteristics].corr()\n"
   ]
  },
  {
   "cell_type": "code",
   "execution_count": 298,
   "metadata": {},
   "outputs": [
    {
     "data": {
      "application/vnd.plotly.v1+json": {
       "config": {
        "plotlyServerURL": "https://plot.ly"
       },
       "data": [
        {
         "colorscale": [
          [
           0,
           "rgb(5,48,97)"
          ],
          [
           0.1,
           "rgb(33,102,172)"
          ],
          [
           0.2,
           "rgb(67,147,195)"
          ],
          [
           0.3,
           "rgb(146,197,222)"
          ],
          [
           0.4,
           "rgb(209,229,240)"
          ],
          [
           0.5,
           "rgb(247,247,247)"
          ],
          [
           0.6,
           "rgb(253,219,199)"
          ],
          [
           0.7,
           "rgb(244,165,130)"
          ],
          [
           0.8,
           "rgb(214,96,77)"
          ],
          [
           0.9,
           "rgb(178,24,43)"
          ],
          [
           1,
           "rgb(103,0,31)"
          ]
         ],
         "hoverinfo": "text",
         "text": [
          [
           "1.00",
           "-0.11",
           "0.03",
           "-0.03",
           "-0.09",
           "-0.06",
           "-0.05",
           "-0.02",
           "-0.02"
          ],
          [
           "-0.11",
           "1.00",
           "0.20",
           "-0.09",
           "0.18",
           "-0.24",
           "-0.08",
           "0.41",
           "-0.15"
          ],
          [
           "0.03",
           "0.20",
           "1.00",
           "-0.04",
           "-0.00",
           "-0.58",
           "0.12",
           "0.36",
           "0.03"
          ],
          [
           "-0.03",
           "-0.09",
           "-0.04",
           "1.00",
           "-0.08",
           "0.04",
           "-0.05",
           "-0.13",
           "-0.00"
          ],
          [
           "-0.09",
           "0.18",
           "-0.00",
           "-0.08",
           "1.00",
           "-0.02",
           "-0.02",
           "0.04",
           "0.04"
          ],
          [
           "-0.06",
           "-0.24",
           "-0.58",
           "0.04",
           "-0.02",
           "1.00",
           "-0.05",
           "-0.08",
           "-0.02"
          ],
          [
           "-0.05",
           "-0.08",
           "0.12",
           "-0.05",
           "-0.02",
           "-0.05",
           "1.00",
           "0.02",
           "-0.00"
          ],
          [
           "-0.02",
           "0.41",
           "0.36",
           "-0.13",
           "0.04",
           "-0.08",
           "0.02",
           "1.00",
           "0.04"
          ],
          [
           "-0.02",
           "-0.15",
           "0.03",
           "-0.00",
           "0.04",
           "-0.02",
           "-0.00",
           "0.04",
           "1.00"
          ]
         ],
         "texttemplate": "%{text}",
         "type": "heatmap",
         "x": [
          "in_spotify_playlists",
          "danceability_%",
          "energy_%",
          "instrumentalness_%",
          "speechiness_%",
          "acousticness_%",
          "liveness_%",
          "valence_%",
          "bpm"
         ],
         "y": [
          "in_spotify_playlists",
          "danceability_%",
          "energy_%",
          "instrumentalness_%",
          "speechiness_%",
          "acousticness_%",
          "liveness_%",
          "valence_%",
          "bpm"
         ],
         "z": [
          [
           1,
           -0.10653367038753647,
           0.03380770772434547,
           -0.028133740598083455,
           -0.08972233188636587,
           -0.06442070596396697,
           -0.046695347155763615,
           -0.021882735587464903,
           -0.01959759975800961
          ],
          [
           -0.10653367038753647,
           1,
           0.1980948483762567,
           -0.0891380123653967,
           0.18497711241491427,
           -0.23616549457097627,
           -0.07753818325890914,
           0.4084514401611997,
           -0.14709450365704285
          ],
          [
           0.03380770772434547,
           0.1980948483762567,
           1,
           -0.03854651862406125,
           -0.0048460036188535845,
           -0.5773442179801164,
           0.11730178031427665,
           0.35761200597468473,
           0.025794458095156583
          ],
          [
           -0.028133740598083455,
           -0.0891380123653967,
           -0.03854651862406125,
           1,
           -0.08339646134095939,
           0.042795918372905015,
           -0.04596731651605923,
           -0.13289036094202844,
           -0.0011947453753002816
          ],
          [
           -0.08972233188636587,
           0.18497711241491427,
           -0.0048460036188535845,
           -0.08339646134095939,
           1,
           -0.022501474008909155,
           -0.02252524714934958,
           0.04108109284898643,
           0.03926020213556158
          ],
          [
           -0.06442070596396697,
           -0.23616549457097627,
           -0.5773442179801164,
           0.042795918372905015,
           -0.022501474008909155,
           1,
           -0.05014223889545254,
           -0.08190727483082773,
           -0.0176944726073845
          ],
          [
           -0.046695347155763615,
           -0.07753818325890914,
           0.11730178031427665,
           -0.04596731651605923,
           -0.02252524714934958,
           -0.05014223889545254,
           1,
           0.021277538565302435,
           -0.0007609772058049703
          ],
          [
           -0.021882735587464903,
           0.4084514401611997,
           0.35761200597468473,
           -0.13289036094202844,
           0.04108109284898643,
           -0.08190727483082773,
           0.021277538565302435,
           1,
           0.0411945699091123
          ],
          [
           -0.01959759975800961,
           -0.14709450365704285,
           0.025794458095156583,
           -0.0011947453753002816,
           0.03926020213556158,
           -0.0176944726073845,
           -0.0007609772058049703,
           0.0411945699091123,
           1
          ]
         ],
         "zmid": 0
        }
       ],
       "layout": {
        "autosize": true,
        "margin": {
         "b": 10,
         "l": 10,
         "r": 10,
         "t": 50
        },
        "template": {
         "data": {
          "bar": [
           {
            "error_x": {
             "color": "#2a3f5f"
            },
            "error_y": {
             "color": "#2a3f5f"
            },
            "marker": {
             "line": {
              "color": "#E5ECF6",
              "width": 0.5
             },
             "pattern": {
              "fillmode": "overlay",
              "size": 10,
              "solidity": 0.2
             }
            },
            "type": "bar"
           }
          ],
          "barpolar": [
           {
            "marker": {
             "line": {
              "color": "#E5ECF6",
              "width": 0.5
             },
             "pattern": {
              "fillmode": "overlay",
              "size": 10,
              "solidity": 0.2
             }
            },
            "type": "barpolar"
           }
          ],
          "carpet": [
           {
            "aaxis": {
             "endlinecolor": "#2a3f5f",
             "gridcolor": "white",
             "linecolor": "white",
             "minorgridcolor": "white",
             "startlinecolor": "#2a3f5f"
            },
            "baxis": {
             "endlinecolor": "#2a3f5f",
             "gridcolor": "white",
             "linecolor": "white",
             "minorgridcolor": "white",
             "startlinecolor": "#2a3f5f"
            },
            "type": "carpet"
           }
          ],
          "choropleth": [
           {
            "colorbar": {
             "outlinewidth": 0,
             "ticks": ""
            },
            "type": "choropleth"
           }
          ],
          "contour": [
           {
            "colorbar": {
             "outlinewidth": 0,
             "ticks": ""
            },
            "colorscale": [
             [
              0,
              "#0d0887"
             ],
             [
              0.1111111111111111,
              "#46039f"
             ],
             [
              0.2222222222222222,
              "#7201a8"
             ],
             [
              0.3333333333333333,
              "#9c179e"
             ],
             [
              0.4444444444444444,
              "#bd3786"
             ],
             [
              0.5555555555555556,
              "#d8576b"
             ],
             [
              0.6666666666666666,
              "#ed7953"
             ],
             [
              0.7777777777777778,
              "#fb9f3a"
             ],
             [
              0.8888888888888888,
              "#fdca26"
             ],
             [
              1,
              "#f0f921"
             ]
            ],
            "type": "contour"
           }
          ],
          "contourcarpet": [
           {
            "colorbar": {
             "outlinewidth": 0,
             "ticks": ""
            },
            "type": "contourcarpet"
           }
          ],
          "heatmap": [
           {
            "colorbar": {
             "outlinewidth": 0,
             "ticks": ""
            },
            "colorscale": [
             [
              0,
              "#0d0887"
             ],
             [
              0.1111111111111111,
              "#46039f"
             ],
             [
              0.2222222222222222,
              "#7201a8"
             ],
             [
              0.3333333333333333,
              "#9c179e"
             ],
             [
              0.4444444444444444,
              "#bd3786"
             ],
             [
              0.5555555555555556,
              "#d8576b"
             ],
             [
              0.6666666666666666,
              "#ed7953"
             ],
             [
              0.7777777777777778,
              "#fb9f3a"
             ],
             [
              0.8888888888888888,
              "#fdca26"
             ],
             [
              1,
              "#f0f921"
             ]
            ],
            "type": "heatmap"
           }
          ],
          "heatmapgl": [
           {
            "colorbar": {
             "outlinewidth": 0,
             "ticks": ""
            },
            "colorscale": [
             [
              0,
              "#0d0887"
             ],
             [
              0.1111111111111111,
              "#46039f"
             ],
             [
              0.2222222222222222,
              "#7201a8"
             ],
             [
              0.3333333333333333,
              "#9c179e"
             ],
             [
              0.4444444444444444,
              "#bd3786"
             ],
             [
              0.5555555555555556,
              "#d8576b"
             ],
             [
              0.6666666666666666,
              "#ed7953"
             ],
             [
              0.7777777777777778,
              "#fb9f3a"
             ],
             [
              0.8888888888888888,
              "#fdca26"
             ],
             [
              1,
              "#f0f921"
             ]
            ],
            "type": "heatmapgl"
           }
          ],
          "histogram": [
           {
            "marker": {
             "pattern": {
              "fillmode": "overlay",
              "size": 10,
              "solidity": 0.2
             }
            },
            "type": "histogram"
           }
          ],
          "histogram2d": [
           {
            "colorbar": {
             "outlinewidth": 0,
             "ticks": ""
            },
            "colorscale": [
             [
              0,
              "#0d0887"
             ],
             [
              0.1111111111111111,
              "#46039f"
             ],
             [
              0.2222222222222222,
              "#7201a8"
             ],
             [
              0.3333333333333333,
              "#9c179e"
             ],
             [
              0.4444444444444444,
              "#bd3786"
             ],
             [
              0.5555555555555556,
              "#d8576b"
             ],
             [
              0.6666666666666666,
              "#ed7953"
             ],
             [
              0.7777777777777778,
              "#fb9f3a"
             ],
             [
              0.8888888888888888,
              "#fdca26"
             ],
             [
              1,
              "#f0f921"
             ]
            ],
            "type": "histogram2d"
           }
          ],
          "histogram2dcontour": [
           {
            "colorbar": {
             "outlinewidth": 0,
             "ticks": ""
            },
            "colorscale": [
             [
              0,
              "#0d0887"
             ],
             [
              0.1111111111111111,
              "#46039f"
             ],
             [
              0.2222222222222222,
              "#7201a8"
             ],
             [
              0.3333333333333333,
              "#9c179e"
             ],
             [
              0.4444444444444444,
              "#bd3786"
             ],
             [
              0.5555555555555556,
              "#d8576b"
             ],
             [
              0.6666666666666666,
              "#ed7953"
             ],
             [
              0.7777777777777778,
              "#fb9f3a"
             ],
             [
              0.8888888888888888,
              "#fdca26"
             ],
             [
              1,
              "#f0f921"
             ]
            ],
            "type": "histogram2dcontour"
           }
          ],
          "mesh3d": [
           {
            "colorbar": {
             "outlinewidth": 0,
             "ticks": ""
            },
            "type": "mesh3d"
           }
          ],
          "parcoords": [
           {
            "line": {
             "colorbar": {
              "outlinewidth": 0,
              "ticks": ""
             }
            },
            "type": "parcoords"
           }
          ],
          "pie": [
           {
            "automargin": true,
            "type": "pie"
           }
          ],
          "scatter": [
           {
            "fillpattern": {
             "fillmode": "overlay",
             "size": 10,
             "solidity": 0.2
            },
            "type": "scatter"
           }
          ],
          "scatter3d": [
           {
            "line": {
             "colorbar": {
              "outlinewidth": 0,
              "ticks": ""
             }
            },
            "marker": {
             "colorbar": {
              "outlinewidth": 0,
              "ticks": ""
             }
            },
            "type": "scatter3d"
           }
          ],
          "scattercarpet": [
           {
            "marker": {
             "colorbar": {
              "outlinewidth": 0,
              "ticks": ""
             }
            },
            "type": "scattercarpet"
           }
          ],
          "scattergeo": [
           {
            "marker": {
             "colorbar": {
              "outlinewidth": 0,
              "ticks": ""
             }
            },
            "type": "scattergeo"
           }
          ],
          "scattergl": [
           {
            "marker": {
             "colorbar": {
              "outlinewidth": 0,
              "ticks": ""
             }
            },
            "type": "scattergl"
           }
          ],
          "scattermapbox": [
           {
            "marker": {
             "colorbar": {
              "outlinewidth": 0,
              "ticks": ""
             }
            },
            "type": "scattermapbox"
           }
          ],
          "scatterpolar": [
           {
            "marker": {
             "colorbar": {
              "outlinewidth": 0,
              "ticks": ""
             }
            },
            "type": "scatterpolar"
           }
          ],
          "scatterpolargl": [
           {
            "marker": {
             "colorbar": {
              "outlinewidth": 0,
              "ticks": ""
             }
            },
            "type": "scatterpolargl"
           }
          ],
          "scatterternary": [
           {
            "marker": {
             "colorbar": {
              "outlinewidth": 0,
              "ticks": ""
             }
            },
            "type": "scatterternary"
           }
          ],
          "surface": [
           {
            "colorbar": {
             "outlinewidth": 0,
             "ticks": ""
            },
            "colorscale": [
             [
              0,
              "#0d0887"
             ],
             [
              0.1111111111111111,
              "#46039f"
             ],
             [
              0.2222222222222222,
              "#7201a8"
             ],
             [
              0.3333333333333333,
              "#9c179e"
             ],
             [
              0.4444444444444444,
              "#bd3786"
             ],
             [
              0.5555555555555556,
              "#d8576b"
             ],
             [
              0.6666666666666666,
              "#ed7953"
             ],
             [
              0.7777777777777778,
              "#fb9f3a"
             ],
             [
              0.8888888888888888,
              "#fdca26"
             ],
             [
              1,
              "#f0f921"
             ]
            ],
            "type": "surface"
           }
          ],
          "table": [
           {
            "cells": {
             "fill": {
              "color": "#EBF0F8"
             },
             "line": {
              "color": "white"
             }
            },
            "header": {
             "fill": {
              "color": "#C8D4E3"
             },
             "line": {
              "color": "white"
             }
            },
            "type": "table"
           }
          ]
         },
         "layout": {
          "annotationdefaults": {
           "arrowcolor": "#2a3f5f",
           "arrowhead": 0,
           "arrowwidth": 1
          },
          "autotypenumbers": "strict",
          "coloraxis": {
           "colorbar": {
            "outlinewidth": 0,
            "ticks": ""
           }
          },
          "colorscale": {
           "diverging": [
            [
             0,
             "#8e0152"
            ],
            [
             0.1,
             "#c51b7d"
            ],
            [
             0.2,
             "#de77ae"
            ],
            [
             0.3,
             "#f1b6da"
            ],
            [
             0.4,
             "#fde0ef"
            ],
            [
             0.5,
             "#f7f7f7"
            ],
            [
             0.6,
             "#e6f5d0"
            ],
            [
             0.7,
             "#b8e186"
            ],
            [
             0.8,
             "#7fbc41"
            ],
            [
             0.9,
             "#4d9221"
            ],
            [
             1,
             "#276419"
            ]
           ],
           "sequential": [
            [
             0,
             "#0d0887"
            ],
            [
             0.1111111111111111,
             "#46039f"
            ],
            [
             0.2222222222222222,
             "#7201a8"
            ],
            [
             0.3333333333333333,
             "#9c179e"
            ],
            [
             0.4444444444444444,
             "#bd3786"
            ],
            [
             0.5555555555555556,
             "#d8576b"
            ],
            [
             0.6666666666666666,
             "#ed7953"
            ],
            [
             0.7777777777777778,
             "#fb9f3a"
            ],
            [
             0.8888888888888888,
             "#fdca26"
            ],
            [
             1,
             "#f0f921"
            ]
           ],
           "sequentialminus": [
            [
             0,
             "#0d0887"
            ],
            [
             0.1111111111111111,
             "#46039f"
            ],
            [
             0.2222222222222222,
             "#7201a8"
            ],
            [
             0.3333333333333333,
             "#9c179e"
            ],
            [
             0.4444444444444444,
             "#bd3786"
            ],
            [
             0.5555555555555556,
             "#d8576b"
            ],
            [
             0.6666666666666666,
             "#ed7953"
            ],
            [
             0.7777777777777778,
             "#fb9f3a"
            ],
            [
             0.8888888888888888,
             "#fdca26"
            ],
            [
             1,
             "#f0f921"
            ]
           ]
          },
          "colorway": [
           "#636efa",
           "#EF553B",
           "#00cc96",
           "#ab63fa",
           "#FFA15A",
           "#19d3f3",
           "#FF6692",
           "#B6E880",
           "#FF97FF",
           "#FECB52"
          ],
          "font": {
           "color": "#2a3f5f"
          },
          "geo": {
           "bgcolor": "white",
           "lakecolor": "white",
           "landcolor": "#E5ECF6",
           "showlakes": true,
           "showland": true,
           "subunitcolor": "white"
          },
          "hoverlabel": {
           "align": "left"
          },
          "hovermode": "closest",
          "mapbox": {
           "style": "light"
          },
          "paper_bgcolor": "white",
          "plot_bgcolor": "#E5ECF6",
          "polar": {
           "angularaxis": {
            "gridcolor": "white",
            "linecolor": "white",
            "ticks": ""
           },
           "bgcolor": "#E5ECF6",
           "radialaxis": {
            "gridcolor": "white",
            "linecolor": "white",
            "ticks": ""
           }
          },
          "scene": {
           "xaxis": {
            "backgroundcolor": "#E5ECF6",
            "gridcolor": "white",
            "gridwidth": 2,
            "linecolor": "white",
            "showbackground": true,
            "ticks": "",
            "zerolinecolor": "white"
           },
           "yaxis": {
            "backgroundcolor": "#E5ECF6",
            "gridcolor": "white",
            "gridwidth": 2,
            "linecolor": "white",
            "showbackground": true,
            "ticks": "",
            "zerolinecolor": "white"
           },
           "zaxis": {
            "backgroundcolor": "#E5ECF6",
            "gridcolor": "white",
            "gridwidth": 2,
            "linecolor": "white",
            "showbackground": true,
            "ticks": "",
            "zerolinecolor": "white"
           }
          },
          "shapedefaults": {
           "line": {
            "color": "#2a3f5f"
           }
          },
          "ternary": {
           "aaxis": {
            "gridcolor": "white",
            "linecolor": "white",
            "ticks": ""
           },
           "baxis": {
            "gridcolor": "white",
            "linecolor": "white",
            "ticks": ""
           },
           "bgcolor": "#E5ECF6",
           "caxis": {
            "gridcolor": "white",
            "linecolor": "white",
            "ticks": ""
           }
          },
          "title": {
           "x": 0.05
          },
          "xaxis": {
           "automargin": true,
           "gridcolor": "white",
           "linecolor": "white",
           "ticks": "",
           "title": {
            "standoff": 15
           },
           "zerolinecolor": "white",
           "zerolinewidth": 2
          },
          "yaxis": {
           "automargin": true,
           "gridcolor": "white",
           "linecolor": "white",
           "ticks": "",
           "title": {
            "standoff": 15
           },
           "zerolinecolor": "white",
           "zerolinewidth": 2
          }
         }
        },
        "title": {
         "text": "Spotify 2023-Correlation Matrix Heatmap"
        },
        "xaxis": {
         "tickmode": "array",
         "ticktext": [
          "in_spotify_playlists",
          "danceability_%",
          "energy_%",
          "instrumentalness_%",
          "speechiness_%",
          "acousticness_%",
          "liveness_%",
          "valence_%",
          "bpm"
         ],
         "tickvals": [
          0,
          1,
          2,
          3,
          4,
          5,
          6,
          7,
          8
         ],
         "title": {
          "text": "Features"
         }
        },
        "yaxis": {
         "tickmode": "array",
         "ticktext": [
          "in_spotify_playlists",
          "danceability_%",
          "energy_%",
          "instrumentalness_%",
          "speechiness_%",
          "acousticness_%",
          "liveness_%",
          "valence_%",
          "bpm"
         ],
         "tickvals": [
          0,
          1,
          2,
          3,
          4,
          5,
          6,
          7,
          8
         ],
         "title": {
          "text": "Features"
         }
        }
       }
      }
     },
     "metadata": {},
     "output_type": "display_data"
    }
   ],
   "source": [
    "\n",
    "# Generate text labels for the heatmap\n",
    "text_labels = [[f'{val:.2f}' for val in row] for row in correlation_matrix.values]\n",
    "\n",
    "# Create a heatmap with text labels inside each cell\n",
    "fig = go.Figure(data=go.Heatmap(\n",
    "    z=correlation_matrix,\n",
    "    x=correlation_matrix.columns,\n",
    "    y=correlation_matrix.columns,\n",
    "    colorscale='RdBu_r',  # Change the colorscale to coolwarm\n",
    "    zmid=0,  # Center the color scale at zero\n",
    "    text=text_labels,\n",
    "    texttemplate=\"%{text}\",\n",
    "    hoverinfo=\"text\"\n",
    "))\n",
    "\n",
    "# Update layout for compact display\n",
    "fig.update_layout(\n",
    "    title='Spotify 2023-Correlation Matrix Heatmap',\n",
    "    xaxis_title='Features',\n",
    "    yaxis_title='Features',\n",
    "    xaxis=dict(tickmode='array', tickvals=np.arange(len(correlation_matrix.columns)), ticktext=correlation_matrix.columns),\n",
    "    yaxis=dict(tickmode='array', tickvals=np.arange(len(correlation_matrix.columns)), ticktext=correlation_matrix.columns),\n",
    "    autosize=True,\n",
    "    margin=dict(l=10, r=10, b=10, t=50)  # Reduce margins to make the plot more compact\n",
    ")\n",
    "\n",
    "# Show the figure\n",
    "fig.show()\n"
   ]
  },
  {
   "cell_type": "code",
   "execution_count": 299,
   "metadata": {},
   "outputs": [],
   "source": [
    "# Convert 'Length (Duration)' from string to integer\n",
    "# Remove commas and convert to seconds\n",
    "spotify_2k['Length (Duration)'] = spotify_2k['Length (Duration)'].str.replace(',', '')\n",
    "spotify_2k['Length (Duration)'] = pd.to_timedelta(spotify_2k['Length (Duration)']).dt.total_seconds()\n",
    "\n",
    "# Convert to integer\n",
    "spotify_2k['Length (Duration)'] = spotify_2k['Length (Duration)'].astype(int)"
   ]
  },
  {
   "cell_type": "code",
   "execution_count": 300,
   "metadata": {},
   "outputs": [],
   "source": [
    "\n",
    "# Selecting features for clustering\n",
    "features = spotify_2k[['Beats Per Minute (BPM)', 'Energy', 'Danceability', 'Loudness (dB)', 'Valence', 'Acousticness', 'Speechiness']]\n",
    "scaler = StandardScaler()\n",
    "features_scaled = scaler.fit_transform(features)"
   ]
  },
  {
   "cell_type": "code",
   "execution_count": 301,
   "metadata": {},
   "outputs": [
    {
     "name": "stderr",
     "output_type": "stream",
     "text": [
      "/home/satyabn20/anaconda3/lib/python3.10/site-packages/sklearn/cluster/_kmeans.py:870: FutureWarning:\n",
      "\n",
      "The default value of `n_init` will change from 10 to 'auto' in 1.4. Set the value of `n_init` explicitly to suppress the warning\n",
      "\n"
     ]
    }
   ],
   "source": [
    "\n",
    "# Clustering\n",
    "k = 5  # Number of clusters\n",
    "kmeans = KMeans(n_clusters=k, random_state=0)\n",
    "spotify_2k['Cluster'] = kmeans.fit_predict(features_scaled)\n"
   ]
  },
  {
   "cell_type": "code",
   "execution_count": 302,
   "metadata": {},
   "outputs": [
    {
     "data": {
      "application/vnd.plotly.v1+json": {
       "config": {
        "plotlyServerURL": "https://plot.ly"
       },
       "data": [
        {
         "hovertemplate": "PC1=%{x}<br>PC2=%{y}<br>Cluster=%{marker.color}<extra></extra>",
         "legendgroup": "",
         "marker": {
          "color": [
           4,
           3,
           0,
           2,
           3,
           1,
           3,
           2,
           2,
           3,
           4,
           1,
           3,
           2,
           3,
           4,
           2,
           2,
           1,
           0,
           2,
           1,
           3,
           2,
           3,
           1,
           2,
           0,
           4,
           3,
           4,
           2,
           1,
           4,
           2,
           3,
           2,
           2,
           2,
           4,
           3,
           2,
           1,
           2,
           3,
           2,
           3,
           1,
           3,
           1,
           4,
           2,
           4,
           2,
           4,
           3,
           1,
           2,
           3,
           1,
           1,
           1,
           3,
           3,
           3,
           3,
           3,
           3,
           2,
           1,
           4,
           2,
           2,
           0,
           2,
           3,
           4,
           2,
           0,
           2,
           2,
           1,
           4,
           1,
           2,
           2,
           3,
           1,
           3,
           2,
           4,
           3,
           1,
           2,
           2,
           2,
           3,
           4,
           3,
           2,
           2,
           4,
           3,
           2,
           2,
           4,
           0,
           3,
           3,
           1,
           2,
           2,
           2,
           1,
           0,
           1,
           1,
           3,
           2,
           2,
           0,
           1,
           4,
           1,
           3,
           0,
           2,
           4,
           3,
           2,
           1,
           4,
           2,
           1,
           1,
           3,
           1,
           3,
           4,
           1,
           3,
           2,
           3,
           3,
           3,
           4,
           4,
           2,
           3,
           1,
           1,
           2,
           4,
           3,
           4,
           1,
           1,
           4,
           3,
           0,
           1,
           1,
           3,
           4,
           2,
           4,
           3,
           3,
           4,
           4,
           4,
           4,
           1,
           4,
           1,
           0,
           2,
           1,
           1,
           2,
           3,
           3,
           4,
           3,
           3,
           3,
           2,
           2,
           2,
           3,
           0,
           3,
           3,
           2,
           2,
           1,
           4,
           2,
           2,
           4,
           4,
           2,
           3,
           3,
           2,
           3,
           3,
           2,
           3,
           4,
           2,
           3,
           2,
           3,
           3,
           1,
           3,
           2,
           3,
           0,
           1,
           4,
           2,
           1,
           4,
           2,
           2,
           1,
           4,
           3,
           1,
           1,
           3,
           4,
           2,
           2,
           1,
           2,
           0,
           2,
           3,
           4,
           3,
           2,
           3,
           2,
           1,
           2,
           3,
           2,
           4,
           2,
           3,
           4,
           2,
           2,
           3,
           4,
           2,
           1,
           2,
           2,
           2,
           4,
           0,
           1,
           2,
           3,
           3,
           2,
           2,
           1,
           4,
           2,
           3,
           3,
           1,
           2,
           2,
           3,
           3,
           1,
           0,
           1,
           2,
           3,
           2,
           2,
           4,
           3,
           3,
           2,
           3,
           4,
           3,
           1,
           3,
           3,
           2,
           3,
           2,
           2,
           3,
           2,
           4,
           3,
           2,
           3,
           4,
           2,
           2,
           2,
           2,
           1,
           2,
           3,
           2,
           2,
           1,
           4,
           4,
           3,
           3,
           1,
           2,
           2,
           3,
           2,
           1,
           3,
           3,
           1,
           3,
           4,
           3,
           1,
           4,
           3,
           2,
           1,
           1,
           3,
           4,
           2,
           1,
           3,
           3,
           4,
           1,
           2,
           2,
           1,
           4,
           2,
           4,
           2,
           3,
           2,
           2,
           2,
           1,
           0,
           2,
           3,
           4,
           2,
           0,
           1,
           2,
           3,
           2,
           1,
           2,
           0,
           3,
           1,
           2,
           4,
           3,
           1,
           3,
           3,
           1,
           4,
           1,
           1,
           3,
           0,
           1,
           3,
           2,
           2,
           2,
           2,
           2,
           4,
           3,
           3,
           1,
           3,
           4,
           3,
           3,
           3,
           3,
           2,
           1,
           4,
           3,
           2,
           3,
           2,
           3,
           2,
           3,
           3,
           1,
           1,
           3,
           3,
           2,
           3,
           3,
           2,
           0,
           2,
           3,
           1,
           1,
           2,
           1,
           4,
           3,
           4,
           3,
           2,
           2,
           3,
           2,
           2,
           4,
           1,
           1,
           2,
           4,
           1,
           3,
           4,
           2,
           2,
           2,
           4,
           2,
           1,
           3,
           4,
           2,
           2,
           1,
           3,
           1,
           3,
           1,
           4,
           2,
           0,
           3,
           4,
           3,
           2,
           4,
           3,
           2,
           2,
           3,
           4,
           4,
           2,
           1,
           1,
           3,
           4,
           2,
           4,
           1,
           4,
           3,
           3,
           2,
           2,
           4,
           4,
           1,
           2,
           2,
           2,
           3,
           2,
           3,
           0,
           4,
           4,
           1,
           2,
           3,
           4,
           4,
           3,
           2,
           3,
           1,
           2,
           4,
           2,
           4,
           4,
           1,
           3,
           2,
           2,
           4,
           2,
           3,
           0,
           1,
           4,
           2,
           4,
           2,
           4,
           3,
           2,
           2,
           1,
           3,
           4,
           2,
           3,
           4,
           3,
           1,
           2,
           2,
           2,
           4,
           4,
           3,
           1,
           1,
           1,
           0,
           1,
           3,
           3,
           3,
           2,
           4,
           2,
           3,
           3,
           3,
           2,
           2,
           3,
           2,
           3,
           2,
           1,
           4,
           2,
           3,
           4,
           0,
           4,
           2,
           2,
           1,
           4,
           2,
           1,
           0,
           3,
           2,
           3,
           1,
           3,
           1,
           2,
           3,
           3,
           2,
           1,
           0,
           2,
           2,
           3,
           4,
           3,
           3,
           3,
           2,
           4,
           3,
           4,
           1,
           4,
           2,
           1,
           4,
           2,
           1,
           2,
           3,
           4,
           4,
           3,
           4,
           3,
           1,
           0,
           1,
           4,
           1,
           3,
           2,
           4,
           3,
           1,
           4,
           1,
           1,
           2,
           1,
           2,
           2,
           3,
           3,
           2,
           3,
           3,
           1,
           1,
           2,
           2,
           0,
           2,
           4,
           1,
           4,
           3,
           2,
           1,
           3,
           2,
           2,
           3,
           4,
           3,
           4,
           1,
           4,
           2,
           4,
           2,
           2,
           2,
           3,
           3,
           1,
           3,
           1,
           3,
           4,
           3,
           4,
           1,
           1,
           2,
           1,
           4,
           4,
           3,
           2,
           1,
           3,
           2,
           1,
           3,
           3,
           0,
           4,
           2,
           2,
           1,
           2,
           2,
           3,
           2,
           3,
           3,
           3,
           4,
           4,
           3,
           0,
           1,
           2,
           1,
           1,
           3,
           1,
           4,
           2,
           1,
           0,
           2,
           4,
           1,
           1,
           4,
           4,
           1,
           2,
           1,
           0,
           2,
           1,
           1,
           0,
           3,
           3,
           4,
           4,
           3,
           2,
           1,
           1,
           1,
           2,
           1,
           1,
           3,
           3,
           2,
           1,
           3,
           3,
           3,
           3,
           2,
           2,
           4,
           3,
           4,
           4,
           2,
           2,
           2,
           1,
           1,
           3,
           3,
           3,
           0,
           1,
           3,
           2,
           3,
           4,
           4,
           3,
           1,
           3,
           1,
           3,
           2,
           1,
           2,
           4,
           4,
           2,
           3,
           4,
           3,
           3,
           2,
           0,
           4,
           2,
           4,
           3,
           2,
           2,
           3,
           3,
           2,
           2,
           0,
           4,
           1,
           4,
           4,
           2,
           3,
           4,
           4,
           1,
           4,
           4,
           3,
           3,
           4,
           4,
           4,
           4,
           1,
           4,
           1,
           3,
           1,
           1,
           4,
           3,
           3,
           3,
           2,
           3,
           4,
           3,
           3,
           4,
           4,
           3,
           1,
           4,
           3,
           4,
           3,
           2,
           4,
           4,
           3,
           4,
           4,
           1,
           1,
           4,
           1,
           1,
           4,
           2,
           2,
           1,
           4,
           4,
           4,
           3,
           1,
           2,
           3,
           4,
           1,
           2,
           4,
           0,
           3,
           4,
           1,
           1,
           2,
           4,
           2,
           4,
           4,
           3,
           2,
           3,
           4,
           4,
           2,
           2,
           2,
           3,
           4,
           1,
           3,
           1,
           3,
           4,
           4,
           1,
           2,
           4,
           4,
           1,
           3,
           2,
           3,
           3,
           4,
           2,
           3,
           4,
           4,
           1,
           3,
           1,
           4,
           2,
           3,
           3,
           1,
           2,
           4,
           4,
           4,
           2,
           0,
           4,
           4,
           0,
           4,
           4,
           1,
           3,
           4,
           4,
           4,
           3,
           1,
           1,
           3,
           3,
           3,
           4,
           3,
           2,
           1,
           1,
           2,
           4,
           3,
           3,
           3,
           2,
           4,
           4,
           4,
           4,
           1,
           1,
           1,
           4,
           3,
           2,
           3,
           4,
           4,
           3,
           1,
           1,
           4,
           4,
           1,
           4,
           4,
           2,
           1,
           3,
           3,
           3,
           4,
           2,
           4,
           3,
           3,
           3,
           2,
           1,
           1,
           4,
           1,
           4,
           1,
           1,
           1,
           4,
           3,
           1,
           2,
           1,
           4,
           1,
           3,
           3,
           3,
           4,
           3,
           4,
           3,
           1,
           3,
           4,
           3,
           1,
           2,
           3,
           1,
           1,
           2,
           1,
           3,
           4,
           3,
           4,
           3,
           3,
           3,
           4,
           1,
           1,
           3,
           0,
           3,
           2,
           4,
           3,
           3,
           4,
           4,
           2,
           2,
           3,
           4,
           4,
           2,
           1,
           2,
           3,
           1,
           4,
           1,
           1,
           2,
           1,
           4,
           4,
           2,
           3,
           1,
           3,
           3,
           4,
           1,
           3,
           3,
           2,
           4,
           3,
           1,
           3,
           2,
           3,
           1,
           3,
           3,
           0,
           1,
           1,
           3,
           4,
           2,
           2,
           3,
           3,
           3,
           3,
           2,
           4,
           2,
           3,
           3,
           0,
           4,
           1,
           1,
           0,
           3,
           4,
           3,
           1,
           3,
           1,
           2,
           1,
           3,
           0,
           4,
           3,
           3,
           3,
           2,
           3,
           3,
           3,
           2,
           3,
           4,
           3,
           3,
           4,
           3,
           1,
           2,
           3,
           4,
           3,
           3,
           3,
           3,
           4,
           3,
           1,
           3,
           1,
           4,
           1,
           3,
           4,
           3,
           2,
           3,
           4,
           1,
           3,
           3,
           2,
           2,
           1,
           3,
           3,
           3,
           1,
           3,
           3,
           2,
           3,
           3,
           3,
           0,
           1,
           3,
           1,
           1,
           2,
           2,
           0,
           2,
           1,
           4,
           3,
           3,
           3,
           2,
           0,
           3,
           4,
           3,
           2,
           4,
           3,
           4,
           3,
           3,
           2,
           3,
           1,
           2,
           4,
           2,
           3,
           3,
           3,
           4,
           3,
           3,
           3,
           3,
           3,
           4,
           4,
           2,
           3,
           1,
           1,
           3,
           3,
           3,
           3,
           4,
           2,
           3,
           2,
           1,
           4,
           1,
           3,
           4,
           4,
           3,
           2,
           3,
           4,
           1,
           4,
           3,
           3,
           3,
           4,
           4,
           3,
           4,
           3,
           3,
           1,
           4,
           3,
           4,
           1,
           3,
           3,
           3,
           3,
           3,
           2,
           4,
           3,
           3,
           3,
           1,
           3,
           0,
           3,
           3,
           3,
           2,
           3,
           3,
           1,
           4,
           3,
           3,
           3,
           1,
           3,
           3,
           4,
           3,
           2,
           3,
           3,
           3,
           4,
           3,
           0,
           3,
           1,
           3,
           4,
           3,
           3,
           2,
           1,
           3,
           3,
           2,
           2,
           1,
           3,
           1,
           2,
           1,
           4,
           3,
           4,
           3,
           1,
           3,
           1,
           3,
           3,
           3,
           2,
           3,
           3,
           1,
           2,
           3,
           4,
           3,
           4,
           3,
           4,
           1,
           3,
           1,
           3,
           2,
           2,
           2,
           1,
           1,
           3,
           1,
           2,
           3,
           3,
           3,
           1,
           4,
           4,
           3,
           3,
           3,
           3,
           4,
           3,
           3,
           4,
           3,
           4,
           3,
           3,
           1,
           1,
           1,
           4,
           3,
           3,
           4,
           1,
           2,
           1,
           3,
           3,
           2,
           3,
           3,
           4,
           4,
           3,
           2,
           4,
           4,
           3,
           1,
           3,
           3,
           3,
           3,
           4,
           0,
           3,
           1,
           1,
           3,
           4,
           2,
           4,
           2,
           4,
           3,
           3,
           4,
           1,
           3,
           1,
           3,
           1,
           1,
           3,
           2,
           4,
           4,
           3,
           3,
           4,
           2,
           1,
           2,
           3,
           2,
           4,
           4,
           4,
           2,
           1,
           3,
           4,
           3,
           2,
           4,
           2,
           1,
           1,
           1,
           4,
           3,
           4,
           3,
           4,
           3,
           4,
           4,
           0,
           2,
           3,
           3,
           1,
           3,
           3,
           3,
           3,
           2,
           2,
           3,
           2,
           2,
           3,
           3,
           3,
           4,
           1,
           4,
           3,
           4,
           1,
           2,
           3,
           3,
           1,
           3,
           3,
           3,
           2,
           4,
           4,
           3,
           2,
           1,
           4,
           1,
           2,
           4,
           4,
           1,
           3,
           3,
           3,
           1,
           4,
           3,
           0,
           1,
           1,
           2,
           2,
           1,
           3,
           2,
           2,
           3,
           3,
           1,
           4,
           4,
           3,
           3,
           2,
           3,
           2,
           1,
           1,
           3,
           2,
           1,
           3,
           2,
           4,
           3,
           3,
           1,
           1,
           3,
           1,
           3,
           2,
           4,
           3,
           4,
           2,
           1,
           2,
           3,
           2,
           3,
           1,
           3,
           3,
           4,
           1,
           4,
           2,
           3,
           3,
           1,
           1,
           1,
           1,
           3,
           1,
           1,
           3,
           4,
           1,
           2,
           1,
           3,
           2,
           2,
           2,
           2,
           2,
           1,
           3,
           3,
           1,
           2,
           2,
           3,
           1,
           1,
           1,
           2,
           2,
           1,
           3,
           4,
           3,
           4,
           4,
           3,
           2,
           2,
           3,
           2,
           3,
           1,
           1,
           1,
           3,
           1,
           4,
           3,
           3,
           3,
           1,
           0,
           2,
           2,
           4,
           3,
           1,
           4,
           4,
           4,
           2,
           2,
           3,
           3,
           3,
           1,
           2,
           2,
           1,
           4,
           1,
           2,
           4,
           3,
           1,
           0,
           2,
           3,
           2,
           4,
           1,
           2,
           1,
           3,
           2,
           4,
           1,
           2,
           1,
           1,
           1,
           3,
           1,
           4,
           3,
           2,
           1,
           3,
           2,
           3,
           3,
           4,
           1,
           2,
           3,
           3,
           2,
           4,
           4,
           1,
           1,
           3,
           2,
           1,
           2,
           4,
           4,
           1,
           2,
           1,
           3,
           1,
           1,
           4,
           2,
           2,
           1,
           2,
           3,
           1,
           3,
           1,
           2,
           3,
           2,
           1,
           0,
           4,
           2,
           1,
           2,
           2,
           1,
           4,
           4,
           3,
           4,
           3,
           4,
           4,
           2,
           3,
           2,
           4,
           3,
           1,
           2,
           1,
           4,
           1,
           1,
           1,
           1,
           3,
           3,
           3,
           4,
           1,
           4,
           3,
           4,
           4,
           2,
           2,
           1,
           2,
           1,
           3,
           4,
           1,
           1,
           4,
           3,
           3,
           3,
           4,
           1,
           1,
           1,
           4,
           3,
           1,
           1,
           4,
           2,
           0,
           2,
           4,
           3,
           1,
           2,
           3,
           2,
           4,
           3,
           4,
           1,
           2,
           3,
           2,
           4,
           4,
           1,
           4,
           4,
           2,
           2,
           2,
           1,
           1,
           4,
           1,
           1,
           3,
           1,
           4,
           3,
           2,
           2,
           1,
           4,
           4,
           0,
           4,
           1,
           1,
           0,
           2,
           2,
           2,
           3,
           2,
           1,
           3,
           4,
           1,
           2,
           1,
           1,
           4,
           2,
           4,
           4,
           1,
           3,
           1,
           1,
           4,
           1,
           2,
           3,
           1,
           3,
           3,
           3,
           2,
           2,
           4,
           3,
           3,
           0,
           1,
           2,
           4,
           3,
           4,
           3,
           4,
           4,
           4,
           2,
           4,
           2,
           4,
           1,
           1,
           2,
           2,
           3,
           2,
           3,
           2,
           2,
           3,
           4,
           1,
           4,
           3,
           2,
           3,
           1,
           1,
           0,
           4,
           2,
           2,
           4,
           3,
           0,
           1,
           2,
           4,
           4,
           4,
           4,
           3,
           3,
           4,
           4,
           3,
           4,
           3,
           4,
           4,
           2,
           3,
           4,
           4,
           3,
           3,
           3,
           3,
           4,
           3,
           1,
           2,
           3,
           4,
           4,
           4,
           1,
           1,
           4,
           4,
           1,
           3,
           1,
           2,
           1,
           3,
           4,
           1,
           4,
           3,
           4,
           3,
           4,
           3,
           3,
           4,
           1,
           4,
           4,
           4,
           4,
           4,
           1,
           1,
           1,
           4,
           3,
           3,
           4,
           1,
           4,
           2,
           1,
           2,
           0,
           4,
           1,
           4,
           3,
           1,
           1,
           1,
           2,
           4,
           1,
           1,
           4,
           1,
           1,
           3,
           3,
           1,
           4,
           3,
           1,
           3,
           3,
           3,
           1,
           4,
           4,
           4,
           4,
           1,
           3,
           2,
           2,
           4,
           1,
           1,
           4,
           4,
           2,
           3,
           3,
           0,
           3,
           2,
           1,
           1,
           1,
           2,
           4,
           1,
           1,
           2,
           3,
           1,
           1,
           3,
           1,
           0,
           4,
           3,
           4,
           2,
           1,
           4,
           1,
           2,
           1,
           4,
           1,
           3,
           2,
           2,
           1,
           3,
           4,
           1,
           1,
           1,
           1,
           1,
           1,
           4,
           3,
           2,
           4,
           3,
           1,
           1,
           2,
           1,
           4,
           3,
           3,
           4,
           4,
           4,
           2,
           3,
           4,
           4
          ],
          "coloraxis": "coloraxis",
          "symbol": "circle"
         },
         "mode": "markers",
         "name": "",
         "showlegend": false,
         "type": "scattergl",
         "x": [
          2.127657523710522,
          -0.9954815468913719,
          -1.6422528841772774,
          -1.9143151136017476,
          -2.003350091569168,
          0.6026952118113227,
          -1.2102647402003677,
          -1.741876421530977,
          -1.5690573532390164,
          -2.275906273682157,
          3.766089079699333,
          -0.43575084222840527,
          -1.5348829272656892,
          -1.7788019034488918,
          -2.0523354268701914,
          1.9853104821514342,
          -1.3561860815756748,
          -0.0886121518168169,
          1.9559928667063613,
          -0.5178629157908199,
          1.264181693084721,
          0.013956200560995037,
          -1.9331597826361289,
          -2.7002796648568377,
          -0.8911048104143556,
          0.9519634864568978,
          -1.3738252683844343,
          -3.0352274751393677,
          2.872041020413425,
          -0.7848380050477076,
          1.249072818580744,
          -0.4254748842896255,
          0.3495012444389586,
          2.1315715984280508,
          -1.554460922455551,
          0.20404953892378297,
          -1.137581292435559,
          -0.44066089977145473,
          -1.3736461948549206,
          3.013067922499,
          -1.7329173085362553,
          -0.40623002906929023,
          -0.19711271686169965,
          -2.893548490503398,
          -1.474487463254433,
          -0.41760278556763347,
          -0.2206182933271767,
          -0.017305883785592415,
          -1.6327784421183849,
          -0.8168645204930203,
          2.1369403675664524,
          0.8363281595517983,
          3.0680261705633125,
          -0.6868925919906781,
          2.0744630414772636,
          -0.683581744502622,
          -0.4160353924730402,
          -0.04032748784023005,
          -0.794195529436949,
          0.7152727706028889,
          0.6466929685956435,
          0.018792266999312843,
          -1.9222013860497156,
          -1.1862521814414686,
          -1.4549935823397773,
          -1.470009971956592,
          -1.7244427854926812,
          -1.4232620172657662,
          1.1553221291132882,
          -0.3486690678289931,
          3.146458559561955,
          -1.3837182659195786,
          0.11944649001521954,
          -0.6427483339669251,
          -0.18059053274232162,
          -1.3088913880078954,
          2.5732751260675877,
          -1.9043622763486214,
          -1.659102639934905,
          -0.6711550760972647,
          -0.6572607557359268,
          1.7804213905451451,
          3.2617003414033525,
          -0.13456980227834645,
          -1.9233944559818863,
          -1.3329672261342527,
          -1.7668447381371541,
          0.683630455817073,
          -0.6121757220693097,
          -1.6602336126255672,
          2.2082795504168584,
          -1.5508922458873815,
          0.724581383390788,
          -0.7051408965905912,
          -1.305167536087307,
          -0.9145514001420261,
          -2.3640251704052706,
          4.0538698792891195,
          -1.6160577726360712,
          -1.1284248505222927,
          -1.4006060578122388,
          1.9619063493482465,
          -2.104316945885366,
          -0.462678967902078,
          0.11577286953058905,
          1.9867191781124778,
          -2.5765670055499577,
          -0.5626903295749425,
          -2.4106541096470795,
          1.0695120781047922,
          -1.8843761246390283,
          -1.4689586775310963,
          -0.9729019097484254,
          -0.9012064134169817,
          -2.089941731346304,
          -0.8462977068760082,
          1.0728830800936502,
          -1.8344863071943542,
          -0.4812496150225961,
          -0.9615126666729191,
          -1.8188548316641362,
          -0.34598182799612565,
          1.6171669914630387,
          1.2009489898109904,
          -0.9614864874036151,
          -2.3041566234448068,
          -1.5837547670418948,
          1.1066008421401694,
          -0.9089862937378315,
          -2.127602685216623,
          -0.192226600047004,
          1.9170216391797907,
          -0.34216608754364314,
          2.0598406442104253,
          -0.6335493542035634,
          -2.0832679403765333,
          0.6429892945226509,
          -0.7540738026717797,
          1.6282168398006722,
          -1.4767157671601125,
          -1.5772745563580455,
          -0.8360254448512038,
          -0.9626711583846017,
          -0.9851200205775174,
          -2.2199803968822573,
          2.4696068193909477,
          1.1479425130800025,
          0.34174689944917963,
          -1.0631986905198798,
          0.4248997255356223,
          1.0128773876077761,
          -0.7392517231403222,
          1.264996771604245,
          0.05694213353381234,
          3.4257454626786434,
          -0.16174672658616313,
          0.19970034454600796,
          1.6362326858276233,
          -2.422935715765509,
          -1.6542422279710327,
          -0.06296733379016099,
          1.2398165934619387,
          -0.9506177254569583,
          2.01035552618968,
          -2.065862899889381,
          3.0731957088597714,
          -1.3695568211194007,
          -0.7410289174494669,
          2.2455309729561264,
          3.564290898606034,
          3.7529432430736134,
          1.4471464944671883,
          -0.07030106620369402,
          2.3042079006167793,
          -0.5296166977709429,
          -2.614966093627029,
          -1.2063485514757937,
          0.6427204672069812,
          0.3279630189518249,
          -1.4995081293683918,
          0.06078599825865401,
          -0.9738458828321441,
          2.3259737829711997,
          -1.1985069461472435,
          -2.0439799655775173,
          -1.109396786181692,
          -1.8934338622147693,
          -0.5662434004083023,
          -1.7595041444156123,
          -1.1221482080388767,
          -1.202658940815879,
          -0.927309908077987,
          -2.2004639496302376,
          -0.2353434706854263,
          -0.7248072556769249,
          1.118573576987446,
          1.709205475254071,
          -1.5152977215885925,
          -1.7988403658707492,
          1.7373252074539978,
          1.1984129617206547,
          -1.1370938073718277,
          0.07439904056569399,
          -2.4340892604935327,
          0.06288237267901796,
          -1.6520402540804353,
          -1.8713449475759696,
          -0.798032028831103,
          -1.2439040177814564,
          2.078789719178028,
          0.08408789698155668,
          -1.5470074687884752,
          -0.879584144408694,
          -2.64604134520532,
          -0.8414448609986886,
          0.00640189755978758,
          -0.6625827560610805,
          -0.7631050567234225,
          0.050323183418484393,
          -2.5297283419404697,
          0.8599863764829254,
          1.6344339132910237,
          0.2816759975360099,
          0.6058844438471128,
          1.6733856610985496,
          -0.135101468168596,
          -1.6360155280136837,
          0.7248948232078911,
          3.887426145282776,
          -0.876954081006894,
          0.3329926279983983,
          0.2617132301948728,
          -1.9520541407797931,
          2.561414076781336,
          1.048066218720712,
          -0.9856049605840916,
          1.6579817364470515,
          -1.6321246539391152,
          -2.741618243693291,
          -0.5834238065116,
          -1.728870840567181,
          0.9373937600470975,
          -0.9213231248025763,
          -0.41851387222505054,
          -1.5748627410587337,
          -1.5346752267311006,
          0.356133507616001,
          -1.5943072903560658,
          -0.9439457078674645,
          -1.0747662889188927,
          0.8701851648047026,
          -1.5845918032819268,
          -2.409437727082572,
          3.3536595415332804,
          -1.5109556617529807,
          -1.7307934824869677,
          -1.7812419717791237,
          2.3172876186776206,
          -0.967196460297052,
          1.3411061075110124,
          -1.5027853387945884,
          -0.30671411858230274,
          -1.290695293205379,
          1.1838002374035346,
          -4.369460642728418,
          -0.36822540895566813,
          1.3833918405309202,
          0.15535694992320712,
          -1.7531705148643892,
          -0.74768026623701,
          -1.6321972388566957,
          1.294272688029728,
          3.2832507451336324,
          -0.7337689928157496,
          -1.0754728203497614,
          -0.5147543241516899,
          -1.1290122580282347,
          -0.9992462322952282,
          -1.3038087335182826,
          -3.0501111079497623,
          -1.142441274484441,
          1.241518919949928,
          -1.8900699655553328,
          -0.6763930709495902,
          0.9029380639000787,
          -1.7605299269617907,
          -1.8067922498232618,
          -1.8493680349366801,
          2.3579300844982605,
          -2.6903450271204727,
          -1.64468999638221,
          -0.4320879870724447,
          -2.3250709904585065,
          1.6991944947570023,
          -1.5959007872994295,
          -0.3090483576049817,
          -2.421622055992857,
          -0.29931879702294456,
          -1.430488742392719,
          -0.752441082323436,
          0.6359945645772039,
          -0.8965759270200996,
          -2.526530086425398,
          -1.7386719828360422,
          2.0450302953048727,
          -0.706461686909534,
          -1.3985379702699827,
          -1.3787655619330792,
          3.953213789324257,
          -1.186910795524963,
          -0.46572488126127687,
          -1.4858971027321428,
          -1.621209169158897,
          -0.43715988806197736,
          0.24390967908327946,
          -0.7878425023603128,
          -1.8506168178994917,
          -1.6244998684714138,
          -0.3605972589984065,
          1.5043060763732667,
          1.6251215890274469,
          -1.1390910802246055,
          -1.0520973226290222,
          0.6024288038498407,
          -1.321316497889221,
          -1.7188279514574352,
          -1.5336181541935616,
          -2.1338596569424206,
          -0.7332782894414234,
          0.0825322152187,
          -1.6028005369838685,
          0.9308096913767723,
          -1.9229194570815378,
          1.4609188673260605,
          0.03702709564209765,
          -0.2786583725291749,
          2.865240124737706,
          -1.6876529441258483,
          -0.472181508269401,
          1.9455162608204923,
          1.630412081909016,
          -1.175135030405496,
          1.6845635125290228,
          -0.6530956509707165,
          0.0020231933178607884,
          -2.372096037371791,
          -1.8623789271203501,
          2.6513570645694933,
          1.0894643857166113,
          -1.9631558192146474,
          0.6352847921085003,
          0.5780423073970825,
          1.3529530378551646,
          -1.6450531174605143,
          2.2183739830030427,
          -0.9915976634694421,
          -2.1978225417589017,
          -1.495744041376293,
          0.48263585299666567,
          -1.3511656280500153,
          2.0966215010116604,
          -2.474758181735177,
          -1.442820721620528,
          -1.5457729596780312,
          1.6655770272698118,
          -0.16756140993780766,
          -2.14868869506013,
          0.21235204314410513,
          -1.1812527248809541,
          -2.3430904484766835,
          -1.156610154420763,
          0.9888052934815916,
          -1.6914041581204171,
          0.44293976588585254,
          -2.4550800622399684,
          -0.9993381305780833,
          0.0957812736182679,
          1.9449310088687242,
          -1.3950574684136747,
          -0.36146050384944317,
          -1.605108468522125,
          -1.0162358777376974,
          1.1554803472863928,
          2.9517518979473154,
          1.1006774654234717,
          -0.007039120129977087,
          -1.1609787920008365,
          -1.0103391544869316,
          0.5724807126961344,
          -1.1042924304708581,
          -1.5074795962830139,
          0.15994256425676268,
          -1.096607268289523,
          -0.5597046129138642,
          -0.7120418353154105,
          3.78500200576854,
          -1.3932022198763165,
          -2.0146147058098314,
          -0.40523727108363994,
          -1.164192526553983,
          2.4898560563361287,
          -2.090720735863672,
          -1.9240979886394223,
          0.3892915002779279,
          -0.9447836463524171,
          -0.8363912825579709,
          0.6092223551209078,
          3.16878605128897,
          -0.2563938020582299,
          0.2634283571724101,
          -0.9981787181149546,
          -1.433986877260063,
          -1.1561335336742398,
          0.06205155663175587,
          -1.3538044791523605,
          -1.8581449212642118,
          -0.2681865025716774,
          0.9269146757156287,
          0.8429890868501381,
          -1.6595801727032962,
          -0.9556921483692058,
          -0.816229430283066,
          -1.552866437730944,
          -1.0609940695281295,
          -2.614391521731904,
          -0.003961218599584336,
          0.5791783222034316,
          0.85730765773298,
          -0.27003184929262425,
          -2.164505500877961,
          -0.06196753344363973,
          3.2052627935972113,
          -0.9791515681944307,
          1.8275718456982177,
          -1.2662800473298528,
          -1.3280836734040526,
          -1.1567694864723095,
          -0.31926860884676067,
          -0.08802701328582013,
          -0.6087062012324256,
          1.8148215746153775,
          0.1067016978407067,
          0.38949933939167336,
          -0.8873130007513197,
          1.7041259272989173,
          -0.5645491389248035,
          -1.146962924439622,
          3.5497079003264687,
          -1.5624126512204106,
          -2.003321240230545,
          -1.5095817747093931,
          2.075542242212384,
          -0.2774468352949496,
          -0.5891561029506698,
          -2.14189405851057,
          1.172566461058277,
          -0.6038425708679833,
          0.30380276552317614,
          1.3254571617053723,
          -0.5583018262733276,
          0.6775481148110329,
          -1.842620016970419,
          1.0062672312910523,
          2.0437433423656466,
          -1.6758292178805683,
          -3.3634495300354,
          -2.990646671598059,
          1.5411546275563581,
          -1.7035559543690166,
          -0.3733766708046948,
          2.2259558808932103,
          -0.6598906431478945,
          -0.8192878847345547,
          -0.8591226606716809,
          -1.3928729742084514,
          1.543898931596239,
          2.335391798988198,
          -0.37105207540033647,
          1.405704279041431,
          1.2259414886179862,
          -1.5058474060029805,
          1.7700674274278845,
          -1.0346890769678425,
          2.5864415082928027,
          -0.8759982924995633,
          2.203760495963629,
          -0.21142027521963844,
          -0.9380280333648557,
          -1.2106927059137138,
          -0.963857559979125,
          3.186095665971709,
          3.8211122532772888,
          0.86372818493545,
          0.7394769893913575,
          0.15323844874046808,
          -1.143825920454039,
          -2.8136188531390545,
          -0.37286339245565125,
          0.9944858760244668,
          -2.4542838777760254,
          1.4979879839619343,
          2.2253718476390656,
          -0.8901362463391678,
          -1.618601293448094,
          0.27669957267249623,
          2.1529835312140375,
          1.9389023126596676,
          -1.1641049480383814,
          0.7711139255353745,
          -1.398756162096481,
          -1.1617336070638768,
          0.15989851257346352,
          1.4878259326997731,
          -1.3910908621571456,
          2.304537267353603,
          2.4633759891721922,
          -1.0421902443107025,
          -2.2844545399423546,
          -0.9815025532218011,
          -0.5093649646776747,
          1.9397893716230181,
          -2.004844734278104,
          -1.5523699938194282,
          -0.7589891805091034,
          0.22136597442147532,
          1.4918022649532372,
          -1.3638412988878008,
          3.910200836526039,
          -0.996268056336358,
          2.1309082233984107,
          -2.6537374155672637,
          -0.6530963564805042,
          -1.0136213020459044,
          0.5533599534537789,
          -1.282782073920707,
          1.998987052878278,
          -1.1493457261046753,
          -1.357817075079618,
          2.089295518762777,
          -1.799518985588217,
          1.5668023249017582,
          -1.342143056207811,
          -1.1193820807551509,
          -1.2022485161265435,
          0.972934735726745,
          1.2025070663864272,
          -2.2720629118512585,
          -0.014114079507601494,
          -0.4550937223242165,
          0.1530204122786431,
          -1.172164009161457,
          -1.1148811515449097,
          -2.014553382324241,
          -2.092136673639968,
          -2.242913942168052,
          -1.8353477618264844,
          2.735949718749424,
          0.38855643169345067,
          -2.106170510614222,
          -1.9139674183766617,
          -0.6342526335888276,
          0.03542344132912935,
          -0.29079503672151463,
          -1.3960789595917265,
          -1.1434803471062822,
          0.05777500545659663,
          -0.13700197975068448,
          0.7610287370866625,
          1.5665476815657116,
          -1.2202940080632034,
          -1.6980610382110368,
          2.249304791017554,
          -2.7879199297404234,
          1.154363671266964,
          -1.0007256891470786,
          0.24534913747096346,
          -0.07069823515377673,
          1.5729321865911328,
          -1.4806744759410417,
          -0.9419342649495224,
          -2.0887288012699767,
          -0.6820389113353461,
          -1.418924157770863,
          -2.2219983548975764,
          1.6165326368841517,
          -1.5350354627364082,
          1.3566876576087081,
          0.31135979217593696,
          -0.7220150796824054,
          -2.554794523206738,
          -2.182759692795455,
          1.384387575389373,
          -2.9253769774519305,
          1.0894856054216393,
          -1.1577492356145749,
          -1.2955393507688695,
          0.8949776279293494,
          -1.266000303901758,
          -1.2951613349105855,
          -1.5841824798730348,
          -2.1310958555531703,
          2.406164290200517,
          -1.58265203695864,
          2.0252664691922027,
          2.1162033444774973,
          2.2401274896779224,
          -1.9700848806913798,
          -0.13778281593976452,
          2.751108645613508,
          -1.613457490512657,
          -0.14833261956847724,
          -1.6065710742044412,
          -1.9625362262758623,
          2.236237067587226,
          1.6615362075704472,
          -1.78837897440752,
          1.1252708793582737,
          -1.9483581056369312,
          -0.00404553902148543,
          -2.017152393663596,
          1.2452278693570669,
          2.4460256130430316,
          -0.49621858305427574,
          -2.076946904316932,
          -0.3446369896865814,
          0.984071548361963,
          -1.5104298543521855,
          0.15350790193241912,
          1.3198874747889553,
          -0.1926719335817667,
          1.6709250668145192,
          -1.616860600568573,
          1.305286096360334,
          -1.3408354065134145,
          -1.2027756363014053,
          -1.3649732389877833,
          -1.7965352135772499,
          -1.0229600905985825,
          -0.7702400848497815,
          -0.2387882023735306,
          -0.05491900020927358,
          -0.9161662143031989,
          -1.0338889853587734,
          -2.136013191312014,
          -0.17229310176457227,
          -0.7675287651655802,
          1.4090691275235825,
          1.404792698584344,
          1.950942258810946,
          -1.1884265008248123,
          0.3641792461069398,
          0.43393255601864833,
          -0.7342192048115456,
          0.1714441400569858,
          -1.116142051094857,
          -1.9953059884578717,
          1.4038237188706144,
          -1.0813529967454605,
          1.7585148583158527,
          -0.7698231220165099,
          2.04685439269999,
          -1.2193472066663247,
          3.577365619301608,
          0.2727533093225555,
          -0.07638364017453171,
          0.12050037788800255,
          -0.8595699536896274,
          -1.3664341627623169,
          -0.12656238809424505,
          -2.2792172259449894,
          0.8400712228002808,
          -1.3625972736198477,
          1.3937856299050433,
          -0.11526851609234301,
          2.369180511180244,
          0.016391481191092957,
          0.7306364306965729,
          0.35712541869220016,
          -0.18522226943795603,
          2.9330373275322223,
          3.1080187434460615,
          -1.2044737434153354,
          -1.7757088870054012,
          0.3914523239784151,
          -2.476054996497426,
          -1.3522649455514657,
          -0.2640248137156291,
          -1.518404328481586,
          -2.4753951555494975,
          -1.8341145592858925,
          3.093473366561423,
          -1.6966865498045114,
          -0.4451794142486897,
          -0.05089770698359081,
          0.14751191105488515,
          -0.030808072010856648,
          -1.3598842360911496,
          -2.2102190096739007,
          0.1695721580185464,
          -1.7762022523930634,
          -1.6458549227575976,
          2.90604544850187,
          1.9742180622098213,
          -1.2100326617354338,
          -3.1052616629016145,
          -0.6604681387104369,
          -1.5371097847968396,
          0.5430374859065673,
          1.2913488296995463,
          -2.5242230338702663,
          -0.6735849902222045,
          2.6196801395313978,
          -2.381044271171256,
          1.1971037393794852,
          -2.4977269124086927,
          -1.6140520391636377,
          2.264632637356841,
          1.3585461342557337,
          -0.8143315450255416,
          1.5747663774784637,
          2.5332529712607403,
          -0.18911389348198787,
          -0.775492671744683,
          -0.6793631182277892,
          -1.7484252677589864,
          -1.339278951547436,
          0.6701137667776303,
          -0.9293795563950976,
          0.22593347704067956,
          -0.13543295361211558,
          -1.9212162191237365,
          2.4072032540389134,
          0.8949757490777901,
          -2.4000746450711263,
          0.02259089448292271,
          0.4442699554869109,
          0.4051517422932611,
          -0.34303937028203924,
          -0.10173294270217147,
          -0.25188894535041323,
          -0.6168864599805498,
          0.4174090519660837,
          -0.9658688762942966,
          -0.25340710024238555,
          0.7577453969804534,
          -1.9225575868162685,
          -0.685296583894865,
          -1.4323945512614134,
          -1.1818045810372666,
          0.9147621561090532,
          -0.34858823810050077,
          1.0929923857918336,
          -2.1210017711727605,
          1.8167143943755597,
          2.8092066242777403,
          -0.7188285413054847,
          -0.15475680344518072,
          -0.4788955327661792,
          0.21814781802683234,
          0.13436376117465165,
          -0.39068281277963685,
          -0.4916749555700882,
          0.020094154793753337,
          -2.995444646476845,
          0.380857950320829,
          -2.252624615967494,
          -0.28871234979876914,
          -1.1032417369046577,
          1.1940227585697871,
          2.7978516141371217,
          -1.423824252249161,
          -0.4515676742715823,
          -0.6676113531774531,
          -0.3235413144752886,
          -2.6510069964117338,
          -1.133464847084511,
          -0.5733775337506937,
          -1.2220657817466969,
          1.7410671476255348,
          2.770002951306819,
          0.37212939158590885,
          -1.0926302187750663,
          2.267346219740568,
          -1.1616016455271199,
          -0.9231183150078778,
          -1.0671503452538487,
          -1.0916816775023443,
          1.0426818747726792,
          -0.6741045660427936,
          0.9413739817029536,
          -1.0648142142788293,
          -1.3399685644892112,
          -1.2010071079008187,
          -0.23462747477029985,
          -0.396344159753269,
          -0.19309449350692467,
          -0.03144290242873242,
          -2.561743338758221,
          2.2657483240323333,
          0.917873166607319,
          1.1771925212408072,
          3.6722246628724986,
          -0.30071048079609564,
          -0.2540113963708206,
          2.114468408532331,
          1.6067753698775347,
          0.8516521663195186,
          2.3842418714145737,
          2.7218183147950574,
          -1.419711163402884,
          -1.3979275618466036,
          2.7536900418348025,
          1.8851815640481353,
          2.1109576417245015,
          1.6342720829066189,
          0.22795678129795552,
          3.6185844148709814,
          0.4342568688162437,
          -2.0458662521565016,
          0.9611843539593132,
          0.31690779081453435,
          1.8556488599747056,
          0.023760660386179362,
          -0.744485193380148,
          -0.6263030835779679,
          0.08807465097164173,
          -1.4840821668868234,
          1.9410655132246446,
          -1.4441306996437278,
          -1.617905023571628,
          3.4417861816709334,
          1.3558405113446597,
          0.14500884075961112,
          0.3639625516499627,
          2.945436628199781,
          -2.0286930761328064,
          2.151762184914923,
          -1.9071523753044957,
          0.13458581371619105,
          2.4855010510572106,
          2.9907634659486244,
          -0.18764873878328966,
          2.7331573358849393,
          3.9871452604089606,
          0.6756119909962991,
          0.20184133900116796,
          2.461380323338357,
          1.5680492075944392,
          0.9210168408969741,
          1.5595808904248925,
          -0.8959307301210705,
          -1.9244730922952553,
          1.083289266352581,
          1.2423870032087119,
          1.2980824822463168,
          2.082611461908753,
          -0.7328958056787281,
          0.9694572254949299,
          0.2149001622432263,
          -2.3783501540747687,
          2.0984800847078406,
          0.6917675278150385,
          -0.1755544045731293,
          1.6459818997080837,
          0.7750469024952764,
          -1.3796018593360542,
          2.2535857618537833,
          1.2981565858154378,
          1.5495489072304833,
          -0.5935758569832489,
          0.5911648853148628,
          -1.1642440408743793,
          1.7092468991199092,
          1.0401870617211915,
          -1.3700061737059714,
          -1.8907172671932748,
          -0.8554040294616143,
          1.2415797459877362,
          4.772896025738373,
          0.17005408837999816,
          -0.8249642152500196,
          -0.16756188447355122,
          -0.632316179411519,
          2.7140188517576007,
          0.5349248741779911,
          -0.27209946257867496,
          0.4718442242702039,
          -0.3833639445798008,
          1.2358129507422124,
          1.9731828768886073,
          0.7827497989069457,
          -1.3058921668559447,
          2.8414545615874656,
          2.2782199584487786,
          -0.03395907216050794,
          -0.8151650498805222,
          -0.2711116717748505,
          0.009727055297018013,
          -0.22804282518541152,
          1.726354654816174,
          -0.2834637304358068,
          0.3228574856353095,
          3.3111957770694493,
          1.503731377539572,
          1.159868455062613,
          -0.573639413316969,
          0.587266729105033,
          2.2124336755563925,
          -1.1218667309146257,
          0.016708796876492224,
          -0.6591833735960482,
          -0.1503009715164048,
          0.6454131533725423,
          3.8169221157013635,
          1.3480351125138617,
          1.3794352932878704,
          -0.7729834918639075,
          -0.9355652615535492,
          1.9867362505713362,
          3.3263425156675845,
          -1.2120775782175044,
          2.5463325485126913,
          3.541774088741496,
          0.5614170829574248,
          -0.4596355888817732,
          3.0214074787942526,
          1.0754881218873,
          1.3662489198798742,
          -1.338456144282493,
          0.6387626338015411,
          1.0168290965842404,
          0.053157402715130114,
          0.3101904571667934,
          -1.8834256125862865,
          1.4288559614295355,
          -0.2686014963883463,
          -1.1918601171767012,
          0.46456563441584986,
          1.3631610261199394,
          -0.5938713001768198,
          2.387051430603594,
          0.28971818945217687,
          -0.5805335206621606,
          -0.30903295174731243,
          -1.5573078387788062,
          2.307154682392179,
          1.1726661598013925,
          3.4230464169256387,
          1.649403142688389,
          0.3917931209584696,
          1.3494345225218987,
          1.9187278691799756,
          3.402855615125166,
          0.15164884113471985,
          0.7133536349074462,
          -0.9652315146220963,
          1.8257937426716173,
          3.4244992650100086,
          -0.3619370022443266,
          0.45039829262353553,
          1.3035985930294853,
          2.5019984055943922,
          2.9531649710194494,
          1.1189308402656943,
          3.4280201555477476,
          3.0063321990023453,
          -2.094764171144017,
          0.903881138474368,
          -0.4262745134567706,
          -0.7315892674562712,
          -1.4461287360656285,
          3.9575215338505685,
          -0.3138228940810969,
          2.3189354464702663,
          0.08383463998950194,
          -0.8755425503007765,
          -0.988076304458571,
          0.6089192078790646,
          1.4543483875354122,
          -0.6090535539668627,
          1.4796119369859182,
          0.15607056201466363,
          1.5677971088072153,
          0.7223608150661964,
          0.783690074377768,
          0.8187197374674171,
          3.862613622631284,
          -1.617432635731536,
          0.8609354178950821,
          -0.5619373330159709,
          -0.23031010056992576,
          2.9031550438127174,
          0.5914665243897167,
          -0.03397110738420228,
          -1.9942511968360466,
          -0.6555306599132884,
          2.3836144299007453,
          -2.1095828919902764,
          3.4387588537918328,
          -0.5019634695622401,
          -0.4256085593714492,
          -1.0874299526886786,
          1.6818100237096203,
          -1.657898134691501,
          -0.16034824242648604,
          -1.0497493837886727,
          0.45541753207440566,
          0.016527781018275085,
          0.32715554670937813,
          -0.8417978803989498,
          1.07875363066309,
          -1.49489905289139,
          1.8812645930383063,
          -1.6459828113652681,
          1.46716723737787,
          -0.8327340596763463,
          -1.595328037813541,
          -1.459886556413148,
          2.762487505384119,
          -0.3590792259158478,
          0.3074757716526147,
          -0.7807821563304287,
          -3.1246751861875413,
          0.22075737142628,
          -0.23769406605391805,
          1.289943295420512,
          -2.150669069361998,
          -0.7409157899511563,
          2.282729657216228,
          1.7422930743772953,
          -1.0139992137931264,
          -1.199313676418434,
          -2.4274040085023345,
          1.4373892678958913,
          1.6675821130281867,
          -1.5814053888886193,
          0.30415985899604053,
          -0.7932656929719119,
          -0.785099478492165,
          1.4354240053451512,
          2.2857927726238922,
          0.009694783555978824,
          1.533042450051644,
          -0.4502966600727848,
          0.0008637264974130229,
          1.6049444869442218,
          2.62978409786871,
          -1.7253025142807805,
          -0.6187069388308786,
          0.9088852085016266,
          -1.260905787310254,
          -0.659980720326711,
          3.4072216916251246,
          -1.0892847379542192,
          -1.4890530274248925,
          -0.6761969553784951,
          -1.9084359309562047,
          1.2908902037251906,
          -1.2750519317956535,
          -1.2775682022187318,
          -1.4247281084321464,
          -0.46264713267430974,
          -0.5908273402633266,
          0.6972528895217183,
          0.02925056218736579,
          -0.3491802680409917,
          -1.9381765344247273,
          0.4333670009916295,
          0.18745380002405895,
          -0.3235961001305545,
          1.1134789963812026,
          -1.0369017467507013,
          -1.597400836307029,
          0.19120414622527057,
          0.3031199209296384,
          -1.4559592094610119,
          -0.6199981118611472,
          -0.8722234999965693,
          0.9004459469460855,
          -1.6247038645067875,
          -1.0620067660675323,
          -2.27556292379913,
          -2.440208699056776,
          2.5771460914554227,
          1.0270205742712064,
          0.20605160608780676,
          -2.580697881804781,
          -0.5712340927903745,
          3.2809295345151095,
          -1.5637737698157397,
          1.220929319259294,
          0.48405119988479345,
          -0.5282922835012795,
          -1.1307183422703484,
          -0.9269091463581615,
          -0.6185777612959639,
          -1.1499849820862225,
          1.817324086404819,
          -1.3749198539938698,
          -1.6520903601109045,
          -1.298650265541917,
          -1.2975890657804792,
          0.30582569662186276,
          -1.3462612700330827,
          -1.7470041523344146,
          -0.3049435064296667,
          -1.967137549937175,
          2.2275947844319632,
          -2.092828407330094,
          -0.491630503608303,
          4.543865819256145,
          -0.13542140882376547,
          1.4837110021992077,
          -1.9735855077767444,
          0.6485445278211146,
          2.8159472142033883,
          -0.8837272355087551,
          -2.0484071423793795,
          -0.3643075981565909,
          -1.9337969338970669,
          1.8965023833021195,
          -2.528953477340267,
          1.0537655108575026,
          -2.2777363315040544,
          0.0766234317902805,
          3.398808341472341,
          0.2599989684358209,
          -0.40618307834904416,
          1.6538884585059377,
          -1.5352700450358157,
          -1.935635336090487,
          -1.851020495670527,
          3.1195772507639945,
          -0.1578206881456667,
          -2.043107128969395,
          -1.7025008051995112,
          -1.6926357192479131,
          0.4436810867331416,
          0.9414181813994787,
          -1.839078097676365,
          -0.4561067046948776,
          -0.6339026897236312,
          0.4091140281318514,
          -1.5204119627510224,
          -1.2375516026340847,
          -0.8241107478989333,
          -1.1426086313378288,
          -0.3680027840662706,
          -0.09992803362029105,
          -0.513276087655277,
          -0.3772743278176103,
          -2.1105012757184016,
          0.10317402358200206,
          0.3738668292156683,
          -0.2463996983332532,
          -1.6359726508062962,
          -1.906370099874303,
          -1.4643646417374758,
          0.3289243545603318,
          1.2267724841840728,
          -1.7557167467884165,
          -0.17701656825312154,
          -1.3226891081527243,
          -1.2996594708119198,
          -1.7999423994247203,
          -2.1238399216828485,
          2.1105336428880195,
          0.27656648050448773,
          -0.11197990424607641,
          1.8239885435093146,
          -0.9448207406779586,
          2.9017839666393783,
          -1.2961319426863094,
          -1.0547713227993436,
          -1.9432456271142602,
          -0.8424551238116036,
          0.7642415538626464,
          -0.8031613421822621,
          1.8413606419837785,
          -1.5722588282605556,
          -2.378949060589778,
          -2.0466975977969133,
          0.3381033586442946,
          1.1000812193623752,
          -1.1164607278804346,
          -1.7724206424667643,
          -1.8310175220250147,
          -0.4259010742576673,
          -0.731278864711932,
          2.409352265784787,
          2.160755742730124,
          -0.5813772934017868,
          0.26243347247330223,
          1.0963821494114596,
          -0.2853463972473504,
          -2.6987369586835417,
          1.1044847326142317,
          -1.703819951838159,
          0.1338051814402185,
          3.200962633440457,
          -0.4369905009242578,
          -1.5825594733126367,
          -0.29778775623982756,
          1.4606956467340262,
          1.3584811570104238,
          0.3034197520525072,
          -0.3474503154422103,
          2.7032165576906024,
          4.193808522800382,
          -2.3708436093678045,
          -1.6841768505106576,
          -1.3386178296763787,
          1.0730592293504473,
          0.40170487088230533,
          1.3177895015223475,
          -0.5659892029206666,
          -0.33599887470686446,
          -1.5337953270774072,
          0.6898892475567574,
          3.0848093131200454,
          -0.04365044388391648,
          0.9057953513995501,
          -1.9200562731398298,
          -2.1454552240705382,
          0.15286627761123447,
          3.0169581731991326,
          -0.8592572205898967,
          1.0060557176727136,
          0.5600336492453407,
          -0.3858666345839743,
          -2.374065270990349,
          -2.368270756759438,
          -2.9297355475687814,
          -0.016150281643788098,
          -0.6099699698766241,
          2.5242900209945476,
          -1.2386725297492398,
          0.24034586332088953,
          -0.7520570770740357,
          -0.4216856020598371,
          -1.3658693831850877,
          -2.091552861619197,
          -1.4705239423270877,
          -1.0848104305268587,
          -1.939441844392333,
          -1.2583795014474073,
          -0.7653043457422601,
          -1.9309619722346578,
          0.6986003366429949,
          2.7266497982511537,
          -0.3131269608542339,
          -2.7237183614350875,
          0.31873028895139405,
          0.6722560789881601,
          -1.1088922266691965,
          -0.29220034707930015,
          5.507589306145189,
          -1.6290088935262057,
          -1.8701676613058065,
          -1.283930102954853,
          -1.662608294220238,
          -1.3424876504850043,
          4.20987669360022,
          -1.2978207064350715,
          -2.0079155544367686,
          -1.722447905208039,
          0.894763035797139,
          -1.2810423691148805,
          2.488666647867632,
          -1.8293784831943671,
          -0.5211568622893761,
          -0.30009672754180233,
          -0.027930810717351855,
          1.0689876485574878,
          -1.4082443579877757,
          -1.1080096165229576,
          -1.8163632289565426,
          0.8241489393198442,
          -2.796707748494495,
          0.7393843330773561,
          -1.7474378791183125,
          -0.006095985448460883,
          1.4081671509833331,
          -1.464581044368429,
          3.0467644808940832,
          0.31614473665182335,
          0.32909226421120674,
          -2.566716020953027,
          1.5856943157920933,
          -2.0715111427100488,
          -2.4914278373134713,
          -1.4203324922354366,
          -0.18560461504563294,
          -0.5507159839556846,
          -1.0724936452222116,
          1.1613102771500954,
          -1.8800686990538533,
          -0.0745611121218344,
          3.3274039931390886,
          -1.5840558315637496,
          2.8194399114954076,
          -1.0444176744965379,
          4.211641947391195,
          1.0794229629262206,
          -0.11882989336896124,
          0.3908503717394585,
          -1.9369368665246551,
          -0.6232096689832398,
          -2.0922673141272226,
          -2.303563115923985,
          1.9597256863328292,
          0.1809806769663207,
          -1.013172973534723,
          1.229385493599226,
          -1.7209860449165855,
          -1.7966358233029693,
          0.6732560656650847,
          -1.819947203132512,
          0.6396271459972264,
          1.6258080847702614,
          2.038917415256429,
          0.28807849976968875,
          -0.7146799305523619,
          -0.24288450949241377,
          -0.635668869405,
          2.870085345060917,
          -0.6683960640125697,
          -0.6979451654322443,
          1.9890087688980491,
          -1.0777065342189134,
          4.44422600470019,
          -1.4588928738461104,
          0.26010634111675873,
          1.2042956771846698,
          -0.7840118571613048,
          0.4912397733924214,
          2.384955667519367,
          -1.6150175775575826,
          -1.052026644084613,
          4.325744501011274,
          1.5371491956518557,
          -1.4455120596860278,
          -0.4440226509814978,
          -0.6301388236803468,
          -1.06788693082803,
          -1.558947775406101,
          -2.0998324183115127,
          -0.44088344643716604,
          2.646962187295542,
          4.991745264361797,
          -1.7957015486810257,
          -0.8667009069374112,
          2.54517467050553,
          2.7689075114103936,
          -1.595422686173496,
          1.2964600389514398,
          -2.0015726570649317,
          -1.5473180046615662,
          -1.7575820876792665,
          -2.541038685644724,
          2.143929214745141,
          -2.0679925559202186,
          -0.13406997540005502,
          -0.6822412418684901,
          0.2696416432509034,
          -0.2567235966060702,
          2.501687714536089,
          -0.7486338746980827,
          3.3782473885059727,
          -1.97667136389471,
          4.433105675272266,
          -0.5272094646090438,
          -1.831498345520463,
          1.6989598681314293,
          -0.7220517275746056,
          -2.1946617016557535,
          0.6744447750463616,
          -0.8117280434794435,
          1.9936812635031969,
          -0.16642050595687874,
          -0.6524547723215518,
          -1.5143636525055182,
          3.236633295215644,
          1.8289107503821005,
          -1.8873175360184762,
          -1.6781137998876552,
          2.3261136597007575,
          -1.8297782784861987,
          1.0148985980785592,
          -0.27276201100733516,
          -1.0518679515018845,
          -1.4175832335380834,
          4.396190266311059,
          1.6695256601732467,
          1.9206364873431196,
          -1.9146874267385654,
          0.30833982242832075,
          -2.434700145880246,
          2.3625379627789496,
          -0.03567729691079363,
          -1.1911045008212895,
          1.892472144179415,
          -1.408549254791053,
          1.6638226458621574,
          -0.7205931514441809,
          -0.3870689027333522,
          4.677383739653714,
          -0.6787068598758537,
          1.8353053949135938,
          -1.5709026987888428,
          3.8048608307836114,
          -1.501037000788015,
          1.77174188756154,
          4.065229642956516,
          -2.5427554060831956,
          -1.635942193140042,
          -2.0289982083291522,
          -0.049447467623621386,
          0.563094957802003,
          -0.689227859152642,
          -0.7454245278925338,
          -1.6776903248710562,
          -1.0266173887318326,
          -0.8330271503491904,
          -0.2253110820882807,
          0.6759477437271584,
          -1.7348256716482429,
          -0.7826372986213093,
          -1.3896234832941692,
          -1.42483619849723,
          -0.26438409456294676,
          1.5528480653708232,
          -0.45094583424407736,
          2.012783842520399,
          0.51148939265773,
          1.3197270498769287,
          0.25478842162432447,
          -2.260784325745598,
          -0.27816278961413493,
          -0.300772620435255,
          0.8129773650443823,
          -0.7008182669593225,
          -1.0350733771983747,
          -0.5407795227155162,
          0.7262096258169642,
          3.203710157225553,
          2.0692217259286787,
          -0.5718679080053518,
          -0.9418713105236763,
          1.1838961071901088,
          2.382408934875327,
          -0.3121643252462393,
          0.26241099920048816,
          1.9123333278056993,
          1.432113328153747,
          0.4667918395400339,
          -0.8819003564609132,
          -0.7359566504241439,
          -1.5412653354828012,
          1.3200484292156331,
          2.5004277282984018,
          -0.9014406603914468,
          -0.6188641802732764,
          0.5556730308455722,
          0.40316849050696346,
          -1.6561136126406568,
          -1.1633944891189247,
          -0.9789205009879521,
          -0.8819100182937458,
          0.3760135556980079,
          1.1288598536465193,
          -0.020705558968201473,
          -0.9295701008778923,
          -1.2679188382450923,
          2.6681378492140957,
          2.2226909896933473,
          -0.7549278838378531,
          0.16434519300326123,
          -0.36442997130732313,
          -0.3802745446651507,
          -0.41415178959470905,
          1.4317144444163559,
          0.7731019110230023,
          -0.16352814689787817,
          -1.4081246437502533,
          0.6129833226089741,
          -2.7726166082633488,
          -1.216433881183674,
          1.7869728096794388,
          -2.181436919708144,
          -1.1790750160990549,
          0.2585640973084932,
          -0.5081188248374998,
          -1.2142569854747944,
          0.06177096743298081,
          -2.261627048376305,
          -1.3761533864870859,
          2.0042694293521697,
          -1.3961542296519194,
          1.7014803511719943,
          0.7489263406157769,
          0.0057783409171384414,
          -0.19068577283798485,
          -0.3733296147887468,
          0.41097486289770774,
          -0.5057651865969828,
          2.36210678807057,
          -1.706817468268464,
          -0.06974218924798159,
          2.7020207985524483,
          -0.3538990043904715,
          3.3660064388673003,
          -0.1356389933058938,
          -0.8756519384323186,
          -2.2489656796299906,
          0.40783048737712513,
          0.9589953623524393,
          0.4525724372902658,
          0.8897347517231722,
          -2.098458538418716,
          0.20198453313719453,
          -1.1044421480055733,
          -1.253071976562093,
          2.4047506608894835,
          0.9408226271285764,
          -1.6205821095747759,
          0.7327644904263926,
          -1.9509575461640891,
          -1.4063323066646936,
          -0.6858487244750555,
          0.32431637776238775,
          -0.8634441699925458,
          0.005523083490488582,
          0.5739913237626099,
          -1.2010184694203423,
          0.41064699094293394,
          -0.05896241564955773,
          -1.1447705348922992,
          -1.037423120323462,
          -1.3351164426911293,
          -0.30853812626594584,
          0.08190767949269254,
          1.1481948281578935,
          -0.48447436513830155,
          -0.9064371345609857,
          1.3011056318770757,
          -2.330539742948346,
          2.371262416946961,
          -1.715933218015356,
          3.0118049919202075,
          0.8289010428607105,
          -1.1741143744362608,
          -0.38149779532199213,
          -1.8107025590963692,
          -0.10758603302712394,
          -2.181869370277059,
          -1.644147416757962,
          -0.4035831942448578,
          -0.17576505125583095,
          0.3877336809259202,
          -0.56847784981213,
          0.03882388114170402,
          3.6248745429761486,
          -0.9769852113854033,
          -1.0844165343945442,
          -1.166505721864156,
          0.25104574278435027,
          -2.7601684089863263,
          -0.8524540653238508,
          -0.008592012600421839,
          2.1433861964059187,
          -0.926940369643773,
          0.5001771027230524,
          3.570583716418672,
          1.5739565880324289,
          3.0015151045969533,
          -0.8819053976107935,
          -0.5117303196620587,
          -1.020294300162819,
          -0.529605240026851,
          -1.555502691501268,
          0.05958731356736,
          0.4543844490610706,
          -1.731601125198275,
          0.5275276188464152,
          1.5836117462414459,
          1.0775820271935337,
          -1.8929194237381926,
          2.0080614254754643,
          -2.140185141554125,
          0.3668048111554188,
          1.0242331561893039,
          -2.0330238532328813,
          -1.409247572133668,
          0.7111601065324135,
          1.3599808307888326,
          0.12883913571922861,
          0.35828621619142137,
          1.1134152997047146,
          -0.28812597458347433,
          -2.2304305101434156,
          0.9045996408135644,
          0.8558284610118934,
          0.22266742325981775,
          1.4580065366984525,
          -1.0047084309725225,
          1.6158649222199095,
          0.2318806396723988,
          0.30475212814562896,
          1.9699092662651465,
          -0.5720200636948105,
          -0.2398159461799232,
          0.7800902490929871,
          -1.4734576511370334,
          0.02158436566907166,
          -0.8706130161346177,
          -0.38333548435066644,
          2.429170290927302,
          1.779238389894592,
          -0.4635886087950299,
          -1.0683454602259796,
          -0.12745503509278136,
          -1.8658007888226966,
          0.949067130712525,
          1.0769595324845682,
          -0.013301078031020434,
          1.0261837208046878,
          0.37512259174822427,
          -1.0339267778090937,
          0.3904670606422094,
          -0.08185544135404414,
          3.450651860414062,
          2.6885655104217596,
          0.8304840337685996,
          -0.7122943144729408,
          -0.08908929828178669,
          -2.286316707117539,
          0.6544091667083395,
          1.463835741870832,
          0.9107623827638812,
          -0.3701715398178289,
          -0.1528505280386125,
          -0.4083561232026251,
          -1.7494431988379269,
          -1.1611906811705466,
          0.8647847434447866,
          -1.4353779041118688,
          1.1426352826250719,
          -1.5315200674653342,
          -2.1516054678556995,
          -0.3174261890808654,
          0.23696784258518871,
          -1.411940185476837,
          1.570965464138861,
          -1.3502507139148512,
          -0.003963389517737236,
          -1.6322790418378885,
          -1.5648508689302243,
          1.2809299781607735,
          1.1503772232592262,
          1.3889983097380227,
          -0.6034376793287803,
          2.5293007158125653,
          -2.3053429138180452,
          2.201182511694748,
          0.951101727190701,
          0.5391219009745942,
          -2.3563867358250006,
          0.06223014692756915,
          2.1998201638904624,
          0.41741711332700737,
          -1.0160906673077228,
          -1.2838750451834002,
          0.10645360942485164,
          2.086168304609944,
          -0.4184459101924474,
          0.9139199267019769,
          2.201943076277672,
          1.7406468338532588,
          -1.7721388312098234,
          0.2756665964245513,
          -1.4679615448144951,
          2.371682230606678,
          -0.13438188546344546,
          2.296344764947766,
          -0.27009416352227716,
          3.754223413411755,
          2.594534007946663,
          0.003942510231807031,
          -0.6262314486067917,
          0.6778922426419804,
          -1.6168747001655663,
          1.1895100360834616,
          -1.2841393636218126,
          2.6446569680917364,
          1.0438018148145667,
          -0.038193928147439146,
          1.1598281708744707,
          -2.144644819776796,
          -1.5688511886641665,
          -0.052262154396705056,
          1.4255100758117378,
          0.8508537602195249,
          1.1864058021570236,
          1.790269605534134,
          1.7067949466549142,
          -2.1582445186831554,
          0.30716635126024633,
          0.7547733921953771,
          2.113516784382447,
          -0.5755507164009417,
          -2.2878482309324504,
          -0.13102942795081696,
          2.147856286907997,
          -1.8950982095021407,
          0.7632575085202422,
          -0.6490421330329676,
          -1.6533693285963262,
          -1.6522252804976347,
          3.5907323404957556,
          -2.1513765431744933,
          1.5808391869729979,
          0.643147910714983,
          -1.3404639107763336,
          -1.7155132104650508,
          -0.7036157637074723,
          2.189764470790859,
          4.07308820715834,
          -0.7315352947524884,
          2.0583847876125296,
          1.283773583186406,
          -1.9572657733333634,
          -1.3167843887083162,
          -2.241025029435265,
          0.6122733490429424,
          0.17701690747717935,
          2.0996191098074335,
          1.6389830095306746,
          0.09449611916923005,
          -0.45153477346842136,
          -0.25758524810888883,
          2.9056667122061914,
          -1.8852222333621762,
          -1.4283071210191924,
          -1.9595036489575532,
          0.3044955735973835,
          2.4099019058962985,
          2.5934303499697298,
          -2.0489842985208284,
          2.904324594322872,
          0.2413699250787951,
          0.8871546548098255,
          -3.075254255949885,
          -0.8179727341077226,
          -1.2951828574730089,
          0.9629145709323143,
          -0.9293710674872718,
          -2.1082734396329204,
          0.8128729819104021,
          -1.4081682469459849,
          4.231900751081578,
          -0.43532231379603725,
          -1.5281498289967934,
          0.6332825846112836,
          0.5149113395118969,
          3.317991292096109,
          -0.05448828431874974,
          3.8257502080862054,
          2.9139332778162252,
          0.5173147268855149,
          -0.853785183917262,
          1.2889136523273734,
          0.5899649874060091,
          0.92628551789205,
          1.2810210355150031,
          -1.34428166554284,
          -0.584583049305793,
          0.5548152541913134,
          -0.7950323716092761,
          -2.061384297518522,
          -1.6767038160849257,
          -0.4323792635409705,
          -0.6878584595906339,
          2.6601384047618857,
          -2.1707515177881023,
          0.42629050051528244,
          -1.827584514152629,
          -0.7247350587266452,
          0.9868514983390279,
          2.086027418224395,
          -3.013503761433881,
          2.8831789258027976,
          -1.170749579763385,
          2.631686140736277,
          1.1738938648261277,
          2.065314248748997,
          0.3064893160954244,
          1.349162343542458,
          -0.026569464923493966,
          2.4511626542542553,
          -1.3424143754323858,
          0.6536633885466162,
          -1.948132967915201,
          0.018791473986111102,
          -1.1253879428529774,
          -1.7378861444052818,
          -1.230820141530798,
          -1.7456750533622967,
          0.4808443317018977,
          -0.6695573808610108,
          3.704920347832099,
          0.06621457665518841,
          2.3349949275899555,
          -0.8710045768978645,
          -1.0696676830719545,
          -2.0382768645807214,
          -0.0647697110967924,
          1.0085542852628029,
          -3.2809694830544625,
          3.7555464553598368,
          -1.995672210624824,
          -1.0540175085056838,
          1.4379677247243448,
          -2.3627286434715775,
          -2.9938335679807806,
          -0.14562555460715218,
          -1.6049505764637257,
          1.9204118360929618,
          3.088605830817826,
          1.752278052372112,
          0.9113896467794127,
          -0.04617432707961771,
          -0.009527295376501821,
          3.889758329771645,
          1.0338690851477028,
          -0.6643153289708709,
          4.4241775466864155,
          -1.1825228510474848,
          2.946159771907095,
          2.8970028320132744,
          0.13750991742524332,
          -0.37612245480219075,
          1.2872041367601565,
          1.775058373606421,
          -1.742925697075111,
          -0.07427044534517925,
          -0.4504962970723318,
          -0.7227797053865026,
          3.163254120666985,
          -2.099990492545975,
          0.3281531894068134,
          0.5071211349459137,
          -0.8118076803428619,
          2.962572782813273,
          1.6716748215083717,
          1.9631115090087101,
          -0.5073748026808127,
          0.9323437669823676,
          2.3724392490717965,
          4.129493294301269,
          0.10779673489493655,
          0.02123600870174674,
          0.8008780574671138,
          -1.3224030051800424,
          0.22280864180419208,
          0.08172828739384314,
          1.3195420057380898,
          0.8915258650331759,
          1.1671200748259338,
          -1.8011436370730074,
          2.990525687386094,
          -1.3040290647386168,
          2.046526170337316,
          0.21653547587955918,
          -0.4847834203157609,
          2.9192923696302695,
          -0.13878058303035087,
          2.8771817106506963,
          0.9741548393831205,
          1.596140691606601,
          2.6991889693042643,
          2.367813158786306,
          0.3125994241720923,
          1.2834517763750732,
          2.024367491917918,
          1.4208249823799082,
          -0.5075211278041398,
          -1.6546395282434783,
          2.0016373792119233,
          0.5621316194742921,
          3.4056955692861575,
          -1.2451856862279944,
          0.6393940668486628,
          -0.2727832184755962,
          0.7535069797906166,
          2.0021162551410696,
          0.06574856731472406,
          2.3788152199521457,
          0.40131179663843575,
          1.054188833005417,
          -0.49449863904106733,
          0.7074688823853282,
          -1.847608716154116,
          1.3962141318189722,
          0.4078049988215985,
          1.3514269368857001,
          1.4150683278976355,
          1.8068600359301228,
          0.13898910919480292,
          0.047040335612230685,
          -0.10617224036223408,
          -0.772419486089224,
          2.8706597073621567,
          -0.6113014309915564,
          -0.38337236846336475,
          0.5642731960730828,
          -0.5360041079419025,
          0.09855826788142816,
          0.5046452930894484,
          2.1425327559540555,
          1.224228150844802,
          1.2224297316191417,
          2.7470044053283034,
          -0.7370877416749808,
          -0.6404704363100268,
          -1.3763876571035745,
          0.11214957170452236,
          1.4556650302500036,
          0.8461299507678051,
          0.5496990471907297,
          1.2394575227779066,
          4.404941732335084,
          0.7374695160822586,
          -0.035547285103627146,
          -0.9971290997689757,
          -1.9441092722221651,
          -0.29387254641095084,
          -0.2696480600375356,
          1.694811922412024,
          0.9415483536293153,
          0.15168901262519288,
          0.5373969424616449,
          2.851853387935945,
          0.9080309603521112,
          0.2260894919876666,
          -1.7656705676562126,
          -0.12476493380564724,
          0.007393492225176518,
          0.9920777984997223,
          0.0027729780448144535,
          0.2625313295592221,
          -1.9327143313636383,
          2.8486467152612,
          -0.8477321569204546,
          2.999765756076656,
          -1.9890849984786831,
          1.0986556309297215,
          1.125032216729081,
          1.8370256565767586,
          0.8026205672117769,
          1.1568755858734745,
          4.5556662882359324,
          -0.23551109847113846,
          -1.419225459351607,
          -0.00958925351761873,
          -0.7076754038618517,
          0.6610166982727987,
          0.7300020912413818,
          1.055202607871262,
          0.17048660176951705,
          0.7890236776212544,
          0.5436138522436927,
          0.5616066674121596,
          0.4696637667805748,
          0.3043561024861845,
          2.6489263953169355,
          -0.4774229082919313,
          -1.2506994280636048,
          4.723916434246771,
          -1.379336967289693,
          0.5154806699715739,
          0.8205379113997426,
          -1.5916901171143243,
          0.5357569499089206,
          1.7103916573410605,
          -0.3419728488322849,
          -0.7564430284149303,
          2.043750859959909,
          4.899453296904567,
          1.740252693150926,
          -0.5185819772999805,
          -0.7687938689581078,
          1.5624796864750643,
          0.7239353499685671
         ],
         "xaxis": "x",
         "y": [
          -0.8599077952941808,
          -0.2986559037942228,
          0.011512972578592595,
          2.2188723814850655,
          -0.49176683328360954,
          0.5305287780380421,
          -0.6387657931696666,
          2.135845481705424,
          2.4179844397104056,
          -1.4723379295047643,
          -0.6245648456581709,
          -0.43803824344075903,
          0.16935444685615098,
          1.6298762297557299,
          -0.630447705853409,
          0.6641430381744851,
          0.8940219089996781,
          1.8515283461711614,
          1.1823937060512972,
          -1.257229703405997,
          2.409333065498771,
          0.268286052353539,
          -0.7699870556296051,
          0.8754828689118375,
          -0.32800382903415426,
          0.6054308996888612,
          0.5694806698142912,
          -1.7340261765758669,
          1.0024248376040068,
          -0.13094780705959447,
          0.6265061490892669,
          0.26453206708465693,
          -0.3947593252479934,
          -2.3790850297573756,
          0.09581844705441286,
          -1.3620847234838314,
          2.0628784979297254,
          2.5517127896577754,
          0.46954498431426506,
          -0.5583378120946378,
          -0.9683332058847997,
          0.2845998071201724,
          1.1883528437156654,
          1.9399714299431046,
          -0.006571721196480219,
          2.232606007815453,
          -2.493853439810916,
          1.2287275959037964,
          -0.5536469317477901,
          0.6998180280840507,
          0.014874059325002362,
          2.041831388440388,
          -0.3945951717674813,
          2.6934255014578743,
          1.6953590407949624,
          -0.17781603316385788,
          0.4513912491648812,
          1.1997019209789217,
          -0.5598296459003523,
          1.0036201201915935,
          -0.6652874831952371,
          -0.30531184893836205,
          -0.9047613094885772,
          -0.7111160058573314,
          0.18747728591966634,
          -0.7394593344103697,
          -1.3252196884234335,
          -1.4444609947717049,
          2.2735353414371358,
          -0.24795256528040863,
          -0.5627403298746416,
          0.8147170013981127,
          0.7681235621912978,
          0.7458409283761134,
          0.5294733688758956,
          -0.09055026163818665,
          -0.05513341075409675,
          1.040641913331,
          -0.4576701480285196,
          1.6147153936460799,
          1.2596180094035774,
          -0.04590665436252135,
          -0.31122451517847405,
          -0.27583769149655313,
          0.6632887184731946,
          0.9196245710370841,
          -0.6161482354600716,
          -1.1565066268099584,
          -1.2722758912470709,
          2.186414854172933,
          0.7531558336042301,
          -1.54671608867031,
          1.2833064328231598,
          0.8631523457455094,
          2.644136666456384,
          2.4030369789059187,
          -1.0813780322287392,
          -0.00992608386060829,
          -0.044851128372704566,
          1.238196844766704,
          0.45239585975436536,
          1.3675037002446568,
          -0.37112262579658944,
          2.18407680533594,
          1.4075706126620815,
          0.31329400415384995,
          -0.9056629694796878,
          -0.5051382760477261,
          -1.005285452330966,
          1.4354427778036885,
          0.48591123023876304,
          0.5676587225332337,
          0.3459184849794331,
          -0.06547677896245056,
          1.0857833622771131,
          0.6160152852904137,
          1.1125316064337794,
          -1.5634778508888323,
          2.589571730998304,
          0.8974831966093847,
          1.9057164576432075,
          0.1478786024848867,
          0.9617464907829497,
          -0.4146039344366458,
          -2.295502788111031,
          -0.9945091381928719,
          1.8101241122984655,
          -0.9029034387585653,
          0.10092755925551371,
          0.620866939021899,
          -0.46171350512723464,
          0.3807522263462373,
          0.9291868283530682,
          1.0574147526531874,
          0.9518756282461956,
          -0.7536317022772883,
          1.2288092920822153,
          -1.794796679350524,
          -0.39824031518355996,
          0.5651600729121536,
          -0.5639048715203748,
          0.6255481900113398,
          -1.1434318552365141,
          -2.5031839807169827,
          -0.15629563141252273,
          1.2148509893864785,
          -1.0209440855982124,
          1.8385132861901041,
          -0.16883158722795658,
          -0.14615637831434078,
          -0.2207933355249581,
          1.4229098873591617,
          0.39721676805397854,
          -2.869817515091331,
          0.5879902828517489,
          0.5613740801898947,
          -0.16130458953161517,
          -0.13573879132209613,
          0.29609146400865277,
          -0.07905811609076176,
          -0.23561561825480992,
          0.07648040309980396,
          -0.6648908733649136,
          -0.8205958794474526,
          0.7133681923647099,
          1.287422282907287,
          -1.198067783431924,
          -0.3011356527978932,
          -1.0570212029817967,
          -1.0064177308437767,
          -0.29805397317430615,
          -0.9330747517036928,
          0.031624596293450345,
          0.9501400018176457,
          -0.026544007066647224,
          -0.13336817115236818,
          0.9086205541254133,
          1.8040354334392714,
          -0.5112902835763358,
          0.8520988046711997,
          -1.266918787904766,
          -0.35476204497244007,
          1.318901985673224,
          0.27093514306792876,
          -0.40027728311424693,
          -1.6976221656648767,
          2.8240827773012276,
          0.1885492139265191,
          1.8786573050481823,
          0.01753438341713201,
          -1.4348775067034443,
          -0.4341852027228976,
          -2.0339206729412176,
          1.2398714505310238,
          1.3724387045858393,
          0.8926799729111787,
          -1.116653110137594,
          1.0923156706759742,
          1.5981210526221898,
          0.7194628193539211,
          0.06853506874166473,
          1.3135900205509636,
          -1.2318071793077325,
          -0.4198874948813098,
          2.042467288049714,
          -1.8002838013897442,
          0.1797790391390948,
          1.0508765062332304,
          -1.2109556752205752,
          0.13135056738192122,
          1.2851908937710659,
          -1.0661438781294592,
          1.0921185530776414,
          -0.6665682219436574,
          0.12232905509426976,
          1.3428743639883012,
          -2.9542290920552565,
          1.1878306469665225,
          -0.993262419166588,
          -1.2644926217206631,
          0.8288903988560076,
          -0.9454434649241591,
          0.9897037553894769,
          0.5850977487003847,
          -0.9637056153299682,
          1.1087094436108988,
          2.9011173352181925,
          0.5019879916531671,
          0.4858473030445825,
          -2.7316278874419377,
          -0.06295908108058067,
          -0.6921877701853009,
          -0.8551649272782944,
          -0.26390172270017165,
          1.5411850280860142,
          1.285317768464221,
          0.13627682260529836,
          2.6043795619953816,
          -1.857933200400371,
          1.9572137449100622,
          -0.889205803091134,
          -0.46496662560901697,
          -0.3323264650984229,
          2.5256866770182054,
          -0.19792228969238995,
          0.38717998347174704,
          0.22718539020058157,
          1.4288664531608533,
          -1.0647570594434168,
          1.229555233547357,
          -0.37387007113330356,
          2.6206339797670393,
          -0.2844913662166542,
          0.7570456653972347,
          0.40991791182551435,
          1.6568758308548965,
          -0.05486358312022322,
          0.44105597327564816,
          2.8697797714992124,
          0.20375354147061392,
          0.7807483432335252,
          1.8668104327519834,
          1.3082271025786525,
          -0.32709106209806366,
          0.6832779998990947,
          0.1318945310588091,
          2.6736858454334276,
          -1.7120338395098589,
          -2.210266844781205,
          0.865979851388373,
          0.7705550488526536,
          0.2128216152131871,
          -1.2558946442691528,
          1.0100735295884737,
          -0.5946564132023063,
          -1.8177110509270036,
          0.1551721496421405,
          1.971851144683012,
          2.9268171774678704,
          -1.4547394967788898,
          -0.05786764531272861,
          -1.0898798670444068,
          -2.060697133691424,
          0.27938236561843266,
          1.7616626505788504,
          -1.5743647826613507,
          0.4249821465584476,
          1.710267288521375,
          0.328251777577425,
          -1.2191603605889725,
          -0.9032201667491844,
          1.6590057871542827,
          0.0009338029788966543,
          0.07480036692117524,
          -0.025055967153926093,
          -0.37147028111446706,
          0.18558988460647355,
          -0.8132515379521845,
          0.5381248342718221,
          -1.218271141175202,
          2.5627606109319756,
          0.5013139734325677,
          -0.542043197429147,
          1.0912238193947694,
          0.21638362039816528,
          -1.6116419734918024,
          0.260465221206023,
          -0.24326991676833237,
          0.3909651955897463,
          0.45829545708281055,
          0.883249831876806,
          1.8456463365785292,
          1.3024425528483121,
          0.4055498755779435,
          1.81816441279803,
          -1.569317609674433,
          1.1855554843078373,
          1.6444219811095748,
          -0.10955046776144146,
          2.0005025799457954,
          -0.05333383188407493,
          -2.090447836916437,
          -0.9183176541139707,
          1.2625617900628983,
          1.6349096915740808,
          0.8943508705626083,
          -0.6159921270547604,
          2.058430426267266,
          0.5672639402948473,
          -0.3378226950948412,
          -1.6427540169519008,
          0.51641913001565,
          0.15838942237282375,
          0.5220937101106513,
          -0.9774586980804049,
          -0.18651676479354637,
          -0.21137923150177146,
          -0.7692843749778059,
          1.7081657638646546,
          1.0868823362324207,
          -0.9816341447695758,
          -0.26776932080879706,
          1.4040751996726155,
          2.345656222703318,
          0.788338566289702,
          0.0460175592392744,
          -0.1173396595570295,
          -1.0670164023753692,
          -1.376709010941753,
          0.5995726368152862,
          2.8914285648998654,
          0.058505100219765405,
          1.2061290567939742,
          1.26201841777411,
          2.573118309827907,
          1.8670505832421205,
          -1.6389143967537034,
          1.5563198624750862,
          0.9841577330777107,
          0.8756178296269644,
          1.1903519143738837,
          -1.4165224432571113,
          0.7867372411620245,
          0.21963417150560036,
          0.0850568851409955,
          1.8995084279507883,
          2.0522203086775987,
          0.0988248537042621,
          2.6668363017418706,
          -1.5004530104285039,
          1.39932503706902,
          -0.21486704551303767,
          1.1483318467673824,
          -1.8380512588963434,
          -0.39604906116694827,
          0.2149487826895123,
          0.9580121025308578,
          1.798735277747451,
          -0.33885918729992237,
          -0.17962600209021268,
          -0.4434132511688495,
          -0.6739449164046398,
          1.193958988149981,
          -0.8386017360898168,
          0.23159283437077693,
          1.3895996631970926,
          -0.17868655577292228,
          -0.6562017295272481,
          -1.0552702904511002,
          -0.8140417262640082,
          1.849858883307358,
          0.5309340291167861,
          1.0044935723434323,
          1.277336403676074,
          1.6298309417208334,
          0.18841561919698885,
          -0.21588485468959534,
          -1.5045255610589638,
          0.2052457805388915,
          -0.9746013430765625,
          0.08281511347234483,
          -1.48299308993023,
          -0.10750440063421575,
          -1.4181809821630624,
          -0.011449125969551801,
          1.5829768325747664,
          0.12626943130400156,
          0.4102511559197361,
          -1.2625875959516037,
          1.8798238686099762,
          -1.1458960623302756,
          0.6695742971543771,
          -1.581881573410927,
          1.0601904188907363,
          -2.2528280555972136,
          -0.4884894644599964,
          0.007443075468306108,
          1.643338255902784,
          -1.7312908505660307,
          0.3583190220401708,
          1.1696293527237813,
          -0.5984996389197937,
          0.1715831646121329,
          0.6555684050902566,
          1.1508155612825415,
          1.627469002932144,
          -1.3874099917964717,
          -0.6151363251043109,
          -0.1886609811878332,
          0.9070755600434797,
          1.2198469753788288,
          -1.3067409530710086,
          -0.36230566900469774,
          0.0806339396652394,
          0.20095077375132633,
          1.9161818595925044,
          0.5545191615261853,
          -1.8866100664276302,
          1.5387703195142832,
          1.4712882130518998,
          -1.9639915086514788,
          2.3003598925601247,
          0.4962982546239533,
          2.88636208368365,
          -1.2539190125155957,
          0.8932455153420151,
          0.17532224592076762,
          0.632268763903313,
          0.7569455340545699,
          1.028685402744871,
          1.5221864290467486,
          0.8734167917048404,
          1.761277886237394,
          0.17105300385169372,
          -1.362575939762966,
          -0.5233088555105782,
          1.2432754882060686,
          1.3034466526854176,
          -0.19147774713227875,
          -0.2923010750803458,
          -0.27437704701557253,
          -1.328003571854765,
          -0.7258278866631654,
          0.24622459364313334,
          0.735706412999338,
          -1.354196617940436,
          -0.6966585035052799,
          -1.5497006624163188,
          -0.6855724400897449,
          -0.008157866826804349,
          1.4103617714871342,
          -0.5607677818191883,
          2.3049972807680748,
          1.3958529170209792,
          -0.7088294749651085,
          -0.029598196445226207,
          1.4166094140595777,
          1.9405603493674648,
          0.4878093697661359,
          1.1972520171528906,
          0.266514745622122,
          -0.5569298231169568,
          1.7089627835606336,
          0.7187628754540436,
          0.5033999693879553,
          0.8810182386659975,
          -1.2246047181943416,
          -0.5601382933200533,
          1.0867601451426143,
          1.3393410445340377,
          1.163591567198741,
          0.19745373857672144,
          1.3147194594542544,
          2.164780372697812,
          1.4652544415474476,
          0.49183016848068023,
          -0.15129470278349363,
          1.5168326124322966,
          -2.5849856994552645,
          -0.8340939823700102,
          -2.108222787713693,
          -0.48823098903494555,
          0.5482542473478982,
          0.4944096409225925,
          -1.1906206226506442,
          -1.2999381303877668,
          0.17119833381703903,
          -1.8457747759485177,
          1.9879576966663115,
          -1.4051669807425256,
          0.44792895427556423,
          2.442404322524887,
          -0.17078622249426734,
          0.5874310426307694,
          0.3489694550325243,
          -0.3784307227725629,
          0.3008609404703572,
          -0.8196645939036703,
          0.9266919856663727,
          1.503474970731252,
          0.4632196323170552,
          0.837521340002407,
          0.29545287314126334,
          -0.6069020862097645,
          -0.23151074835452373,
          0.8959276569810645,
          0.6653209335207431,
          -1.8900122577479936,
          1.4292913103383666,
          0.43160934475831614,
          0.38156947036951666,
          0.6224139023499854,
          1.5502415003146972,
          0.24123988504955013,
          -0.02419078268162051,
          -0.8255388777813173,
          1.148169401217408,
          -0.2709730818334207,
          1.453010050361075,
          -1.6495807310124968,
          1.567973554978912,
          1.0023687309725606,
          0.9813644174314675,
          1.021134923073638,
          0.003808724170641749,
          -1.849987015425051,
          -0.8076279204460617,
          -0.6127141500477377,
          0.4444756892910687,
          -0.9563748254582306,
          -1.3086518707547932,
          -0.0014819950573182203,
          0.1336488027981777,
          -0.10423233442023626,
          -0.4407623769445945,
          1.5656874365538052,
          0.4991596298150279,
          0.9130699107172885,
          0.3063719352560341,
          -1.6384874590677527,
          -0.4619685878623082,
          1.4863282856183702,
          1.062929310725045,
          -0.6129453972540492,
          1.9785397933796465,
          -1.7620531701243372,
          0.23037918013099262,
          0.27898717911424215,
          -1.2625499234202844,
          0.8661086924752714,
          -0.33013024430071586,
          -0.7767183978416149,
          -0.6542898352339239,
          -0.9209261905904744,
          0.5901129598867328,
          1.9667018097349667,
          -0.9254275751914295,
          -0.3165858250918556,
          1.542423097758325,
          0.7313732618418766,
          -0.8492252404621412,
          -0.28989641877094363,
          1.4727047020835191,
          0.003699130153924758,
          0.9960380963558663,
          -1.2085796298035698,
          1.0047916393625096,
          0.6321181986697161,
          -0.561964742723162,
          -0.7175898850561182,
          1.2699224624140228,
          0.6538982213647575,
          -0.5242137006688917,
          1.4238434468958912,
          2.430814944133226,
          0.019105127925755888,
          -0.6101570940325397,
          -2.066535743351583,
          -0.4609791553389959,
          -1.1474178186209278,
          0.3680637045800191,
          0.6308703659699414,
          -0.09439839191500453,
          0.2008852061862072,
          0.866144547815821,
          -0.19425411106496865,
          0.7835098341153588,
          0.4988437463897775,
          0.25131704000741084,
          1.422259852669236,
          1.164903855536732,
          1.1723059230324577,
          -2.148816707036629,
          1.8096189944057695,
          0.1899059119744673,
          0.204600964175336,
          0.8414805357879845,
          -0.43800443549322676,
          -0.18550468779333293,
          -0.31178429083005804,
          1.0420702481212925,
          -0.27773736648387287,
          0.5441675928095883,
          0.15443825793689853,
          1.9843799057938267,
          -0.8006145681156311,
          -0.20667884628698382,
          0.475795092449315,
          1.3780274399479218,
          -0.4058374570674447,
          -0.1540334812396415,
          1.332889215030911,
          -0.5378300576827324,
          1.3463750402934598,
          1.9423110829556383,
          -0.3306119161873654,
          -0.6564778712707245,
          1.291520045452733,
          -0.9763548092841622,
          -1.5590508061462942,
          0.3057735803064041,
          -0.20035352941652615,
          1.8134615739059274,
          0.7816104828347799,
          -1.7809578005523872,
          1.105960080663559,
          1.1817298831976895,
          0.5966415458621294,
          2.616679992786426,
          -0.9153648428944775,
          1.2617524280651953,
          0.6891803270335888,
          -0.9716381197360737,
          1.6438490101598497,
          2.034587188279996,
          -0.5928229974742194,
          -0.3838402801259511,
          -0.08409165536819448,
          -0.7516786721563088,
          -0.14627538971678802,
          -1.781300287564408,
          1.6255019290371173,
          1.6485459002113267,
          1.0336807405028694,
          1.0456156483909007,
          1.7876690142681062,
          -0.4213652267312386,
          -0.9211910664067856,
          -0.7675458992202174,
          -1.0858153501875585,
          1.3578660105654727,
          -0.11134355603085254,
          0.12053509784647995,
          -1.0161455436821623,
          -0.3917623661241011,
          -1.3787125133755755,
          1.0853659117420669,
          0.7929923811176423,
          -0.6067364810381835,
          -1.4207136734888797,
          -0.6392608140324357,
          -1.058179275869916,
          1.029262925354539,
          0.29420621696966837,
          -0.8097164300122299,
          1.428559165548459,
          1.1155249613542075,
          -2.218062708178625,
          -0.8684011415295753,
          -0.9282324038396887,
          -1.7848666481946198,
          1.1272140407998175,
          1.1119220993932544,
          -0.4548973641119685,
          2.3391656570852293,
          1.8377698647558252,
          -0.03190798867145697,
          0.6089103393686615,
          -0.8488020092452622,
          0.34293303357498084,
          0.0725143769181474,
          -0.8094812049812898,
          0.5673120364504192,
          -1.8511700231655757,
          0.7821869401396425,
          -0.16370012307427342,
          1.3229747142194435,
          0.8629244062236933,
          0.09731150826283348,
          -0.4952925376649984,
          0.4452888079665611,
          -0.9097755626587046,
          0.6812570086767599,
          0.7676587143736459,
          -2.6311594433421264,
          0.7800355896363023,
          0.30580743625630397,
          0.07607391395094074,
          0.3765734531116151,
          -1.2027253708859573,
          -0.40407080407574264,
          1.1263878599257948,
          1.2010562186422964,
          -0.12304009317579853,
          0.6233130642344658,
          1.1839321375470062,
          -0.04122858833523005,
          -0.05560062078332311,
          0.24359135878552218,
          -1.4219397562179008,
          -1.2028661005986696,
          0.3447906596622822,
          -0.12636793977127322,
          -1.1535938814654603,
          2.3683519804843445,
          0.1567498798807405,
          -0.9791260989903858,
          0.9982940516610928,
          1.6645494445848308,
          -0.14062976159501459,
          0.20517630151403146,
          -1.0856174681916806,
          -1.4119336826232363,
          2.540905254227401,
          -1.1495359040516338,
          -0.32867218479331345,
          -1.9087191823473366,
          -0.7690360540120732,
          -1.8624227652378695,
          1.3844018137939156,
          2.6819693115133934,
          -0.014072285713229299,
          -1.642827393359107,
          -0.13922654367760962,
          -0.30560422961612244,
          2.203146833481452,
          1.2492364894318913,
          2.7987192692433758,
          1.007312625000704,
          0.6200685782330848,
          -0.4934372734116685,
          -0.8768192721466965,
          -1.3881608814459725,
          0.4440603523178217,
          -0.027426975820992155,
          0.17440829501761504,
          0.3889171380018955,
          -1.4340481037532835,
          -1.4562556363595984,
          -0.6550729704960963,
          -0.4905904179731323,
          0.35601250492599745,
          -0.6088239556574547,
          0.7493854776757736,
          -0.5821412993103408,
          0.6468988441710083,
          -0.11180815624402432,
          0.20399422278287152,
          0.4105143856345617,
          -0.5714772295526844,
          1.8723082873534893,
          -0.876289569876121,
          -0.4096504132097593,
          -0.5895017365877107,
          -1.9260334845871576,
          1.3140244035672661,
          -1.4997538881521972,
          -1.891886380815782,
          0.9557868013626545,
          -0.7765243994524021,
          -0.44421506463596044,
          1.2926394567509147,
          1.4889105646178764,
          -1.648895212782809,
          -0.9081250676847583,
          1.5427087506858603,
          0.7419145826675055,
          -0.18684919976219833,
          -0.8219149877159858,
          1.064753556162345,
          0.6494155499237473,
          0.7434962839446948,
          1.067526012616825,
          -2.069798775204149,
          -0.2794850917090294,
          -0.9269536554914988,
          -0.3093495647035952,
          -2.240459817285364,
          -0.10993836300937453,
          -0.16792065051604763,
          -0.03612764659557084,
          -0.8818647836696178,
          -0.6580460877819476,
          0.8973384161494208,
          0.042624508210778775,
          0.23756404067212933,
          0.41328554743593243,
          1.3218048761644432,
          -0.708367422847799,
          0.8578829156591008,
          -0.863074546156538,
          -0.5800195495272582,
          -0.7813672546924504,
          -1.063639910107553,
          0.01047338446320743,
          1.8019170629119559,
          -1.9884085221230103,
          -1.312353120671464,
          -1.5599895496557716,
          -0.06687816844586587,
          -0.016789131372254153,
          0.6908808224238614,
          -1.555184187016531,
          0.06695047211124248,
          -0.7997634472141716,
          -0.3091174266260093,
          0.7495950071951273,
          -0.19929985550553445,
          0.867485189359597,
          0.4271525650321669,
          -0.7718905971962037,
          -0.8437260509950283,
          1.156389758778567,
          -1.2831565582958686,
          -0.5623480635817009,
          1.0290338704938287,
          0.19065187036633716,
          0.4224157512002236,
          -0.7901474332954967,
          1.2084112602975594,
          1.262732599333552,
          2.0040924586383846,
          0.45799940149563834,
          -0.3275742668765777,
          0.9953699648191129,
          0.15931064468915743,
          -0.9894406249224628,
          0.2839224436998751,
          1.928710551392791,
          -0.5683029930476938,
          0.2554571377318985,
          -0.8103597237887783,
          1.9097123968006948,
          -0.530948288637764,
          -3.1670559633215842,
          -0.860440343057808,
          -1.9172838161726944,
          -0.5060867670957266,
          2.0196371349336077,
          1.1349372008572307,
          -0.6482223353542474,
          0.4752161972878698,
          -1.9965061959661,
          -0.16801461128751843,
          -0.4501788864121689,
          1.3591888144025774,
          -0.44791656010575553,
          -3.161292795765495,
          -0.8959819011552204,
          1.211548549541847,
          0.2736482334798307,
          0.6869103282334922,
          -1.357651410594951,
          1.0318202529237954,
          0.12493059474917392,
          -0.12003627240497514,
          -0.2689793458395294,
          -0.4621349828662419,
          -2.1099950436925603,
          -0.929688026410163,
          -0.1443162994611854,
          2.2296096580736036,
          0.23506107232336784,
          -1.2980917796656073,
          0.26270092929950956,
          -0.827508144230463,
          0.6746591540672889,
          -0.7615774713691048,
          -1.808631850824342,
          0.2986012971966636,
          1.8020283593704123,
          -0.454612050507005,
          -1.3201377594664756,
          0.8173745017137546,
          1.2497151477739215,
          -1.17471606783555,
          -0.8356225481636286,
          -0.7566931323989138,
          0.6056584490851917,
          -0.9515539110292158,
          -1.6108280842853062,
          0.8211140332927793,
          0.8550358130795137,
          0.3128763556817214,
          1.842649468900813,
          0.5470708654355183,
          1.6255422046790469,
          -0.3790374739127202,
          0.7445401985714695,
          0.8093703730169189,
          -0.9487484570702074,
          -0.6196835633619585,
          -0.057889046976084005,
          1.2422791340163195,
          0.08360131253564386,
          1.247970823169559,
          -1.611890874311925,
          0.4754953691616958,
          -1.1631989690243434,
          0.006561098793287476,
          -0.9109156797742789,
          -1.738696268889273,
          -1.6140501480433374,
          -0.4016301495485064,
          -0.8562966548120303,
          -0.823878873743397,
          1.406143860749324,
          -0.24207763847765398,
          -1.7947311273318418,
          0.24588976604036294,
          0.5018409404634457,
          -1.7237140849010857,
          -0.09699143738214303,
          -1.5333947356666409,
          0.6706274317645107,
          0.7732552484221924,
          -1.7983472379758287,
          0.6576958307070133,
          0.11336618149745063,
          -0.7908476549991982,
          0.7445717819473732,
          0.6985753935516295,
          0.2532956059752354,
          -2.554624746062048,
          2.276945414254119,
          -0.6831955139437297,
          -0.09120135373545406,
          -1.2676466534459756,
          -0.6177970113727146,
          -0.7580658647142644,
          1.0095365658287465,
          1.51904657295418,
          1.3625466286676495,
          1.2536135806550899,
          -0.005642412150485939,
          1.6285265645017901,
          1.9983198917242226,
          -0.7304880732209845,
          -1.2414720323646224,
          -1.1795654255592567,
          -1.1402011523321347,
          -0.47518122326482815,
          0.8420231960697203,
          0.5957333926113644,
          -1.789894831953191,
          -1.160080588578692,
          0.21676377779959088,
          2.073645711052279,
          0.1604416125194011,
          0.99607251446941,
          0.9313238114843565,
          0.22443904677251864,
          1.752971379347558,
          -1.5680017735448768,
          0.5507473369364694,
          0.5989420197629789,
          -0.07771629522026954,
          -0.044612427543749424,
          1.37454014954799,
          0.7926894175672023,
          -0.7232049589876347,
          -1.2281494347978477,
          0.16536580263533823,
          -2.029739203229555,
          -0.5700461620854543,
          -0.7994331270152061,
          0.04396823851249043,
          -1.029965249513981,
          0.11823033967841556,
          0.005730348801241487,
          0.5866032506751349,
          -0.4660415605883531,
          -0.07244186791119027,
          0.13990385452568596,
          1.2940419611356204,
          1.7785027439173544,
          -1.2361691869970768,
          1.0085275166146244,
          -0.3682653490831473,
          2.3155463613437113,
          0.5727666005867635,
          -0.6418619951107774,
          0.01578702001986736,
          0.2875770424701456,
          0.4593657389579121,
          -1.715488659948341,
          -0.11444884375832212,
          -2.1544566367374296,
          0.7579584009998954,
          -0.650366192625481,
          0.27802702585393746,
          -1.4157835406339756,
          1.0285436340463434,
          -1.152413217868498,
          0.530789670977573,
          -1.8329207195701465,
          -0.7375609053520529,
          -1.4083153412320213,
          0.626337413822417,
          1.2148002685532253,
          0.7495629631925417,
          1.7992406508793555,
          -0.024015524611395517,
          0.953336306860677,
          1.3165263036256247,
          2.422469891054137,
          -1.3813572914337087,
          0.5568485397805402,
          -1.1824496015342705,
          1.1782540408547457,
          1.3362045987996358,
          1.0762059242339292,
          -0.25825205008853097,
          2.5891219735384925,
          -0.8473745397010548,
          1.9628822180813423,
          -1.4800756288710006,
          0.7089668957654809,
          -0.2204752743576393,
          -2.1102937672006834,
          -1.5900017957577386,
          -0.9411949234841934,
          0.5060688401297572,
          0.3956185299826035,
          -0.9971472180134027,
          -1.8075195634355792,
          0.556086139698813,
          0.6613771868284963,
          -1.521402397590013,
          0.30101559242595494,
          -1.0327475110572524,
          1.718105971594529,
          0.04268133999166891,
          -0.8508381199353375,
          -1.5591646716699157,
          -0.3977490215430913,
          -2.797679700926401,
          0.08100147449033754,
          -1.4309180172840548,
          -0.8907171245149553,
          -2.7557738688031796,
          0.9216524859583788,
          2.237545204092956,
          -1.073211270164913,
          -2.478076624047617,
          -2.5424927276247886,
          -1.2795636677911477,
          0.6670189639784212,
          -0.37677289792300256,
          2.507358941309212,
          -0.8704894971553605,
          -0.8936878114333915,
          0.5980575579552708,
          0.1636160606077475,
          -0.08487746237350952,
          -0.8787128897426615,
          -0.771591347361599,
          -0.7399780126081981,
          0.742251545922814,
          -0.717160030940824,
          -0.2224559233066458,
          -3.0174478473888766,
          0.26466399185976547,
          0.6545603680016021,
          0.13390293453983632,
          -0.7462808371306904,
          -1.006515553803874,
          -0.09606162869450191,
          -1.7233943360584345,
          -1.1810318301033267,
          -1.5559240938407894,
          1.0150904074275562,
          -2.648868658328935,
          -0.4673363533170512,
          -1.0068475538138784,
          1.020759384026614,
          -1.5805883145123862,
          -0.07623428436087361,
          -0.6773707170817453,
          -0.7583205998560142,
          0.14121323917499065,
          -2.546736019317678,
          0.6487869254130553,
          0.48920273321240804,
          -1.956291814420656,
          0.976775771282353,
          -0.6247141400925587,
          -1.254056284615164,
          -1.0477447312235937,
          -0.12209175581283062,
          -0.3699664893950087,
          0.5009254326553662,
          -0.35406289927132756,
          -1.0933740491762287,
          -1.0333431999769926,
          0.10426714721676529,
          0.40674709014069255,
          -0.8610891668195398,
          -0.7306783921369979,
          -1.9035024031053511,
          1.055329411151233,
          -1.1606044537617983,
          0.13156774847818412,
          -0.04446840581376547,
          -2.3981016590689985,
          -0.5373934563472575,
          1.9343256742895991,
          0.9167076484108776,
          0.5338244822460513,
          -0.6290507190722217,
          -1.3618292593678236,
          -2.5776802578876348,
          -1.5135939087185073,
          -1.3821825809822401,
          -1.8738900756527634,
          1.2124194391507703,
          -0.6493953836737971,
          -2.3409700848856927,
          -1.839302527765747,
          -0.21767366044278072,
          0.9735395860834268,
          0.0752246223576805,
          -0.6070885019075863,
          -0.9644834460001164,
          0.5296295419848698,
          2.1663978826925354,
          -2.3308122133088807,
          1.7754394988007618,
          -0.7044600891761869,
          -1.6428004121404922,
          0.06504588882537027,
          -1.2460312388111943,
          -0.7678181790724952,
          0.7667566710225079,
          -0.7666942492753133,
          -0.769667056286732,
          0.44447143117971544,
          -1.3204859900809722,
          0.2102609178227215,
          0.31636938611069443,
          -1.615194272706106,
          1.4944585652352442,
          -2.52473564440176,
          -0.6138398125875738,
          0.6804625459231499,
          -1.964590883273513,
          0.0016831267510380146,
          2.3516291577629063,
          0.4972331824608815,
          1.2017496484739398,
          -0.45195717319238815,
          -1.0697636388902991,
          -1.6230818056238225,
          1.096786763957894,
          -2.595335700941439,
          -1.5399082192405218,
          -0.2604178208188195,
          -2.873981759481756,
          -0.9528446088715281,
          -0.24981128862663807,
          0.86370357344608,
          0.3135570356002321,
          -2.3443098008576895,
          -1.1972415392494162,
          -0.300798506909652,
          -0.5913726497913862,
          -2.4734267098367955,
          -0.756305909507029,
          -0.02736374771094242,
          0.9943081632135977,
          0.949551213841976,
          -1.608550495648042,
          0.15769386856688897,
          -1.8969669682217332,
          -2.2851015173946125,
          1.2772075665545624,
          -0.5558276666609753,
          0.6890853479796336,
          -1.1100896768588024,
          -1.8248176122346915,
          2.6993436345060555,
          -0.23201005706060343,
          -2.01927074701688,
          -0.5680648971729624,
          -0.5728676071310264,
          -0.4541618373427629,
          -0.47837029186965996,
          -1.593820189058278,
          -0.42757496211309476,
          -1.712263988702018,
          -0.3797282732757377,
          0.7790592080024575,
          -1.1213747080008176,
          -0.4695327076358268,
          0.4722771972776616,
          -0.813457041228992,
          -2.098211359418707,
          -0.5938065541352862,
          -1.3889156687684243,
          -0.5278328415395909,
          -1.266414217388253,
          -1.9427478937111742,
          -1.4325309999651157,
          -0.36830760400161,
          0.3590084447550888,
          1.3777866805567511,
          -0.4275886180765393,
          -2.1331288291803845,
          -0.8079522955652503,
          -0.2579063006080994,
          -1.1318899144901546,
          0.4418279698302433,
          -0.4659649496714332,
          -1.0019415620828165,
          -1.217812016425145,
          0.5652288401498488,
          -0.715876255499848,
          -1.1123053708213482,
          -1.4724662083922968,
          -0.3700907898307925,
          -0.016188054067206865,
          -0.3934303286386426,
          -1.4587642054076957,
          -0.586802706618794,
          -0.7205240764524466,
          -0.26001108817695984,
          0.6727448763049442,
          0.16701392261559805,
          1.908011335805757,
          -0.30818680023693673,
          -0.7449997176211884,
          -1.033312312163894,
          0.3079601205263409,
          -1.4761105673339092,
          -2.6878762405114625,
          -0.7688438797282547,
          1.2424030451111323,
          -1.0227542605001552,
          1.5919455502662339,
          0.34738968940900494,
          -1.2901686030869368,
          1.5066874338477445,
          1.025433744807017,
          -2.2006914546004612,
          0.23454976760561494,
          2.0480828864593543,
          1.0219387870189176,
          0.6084607305803974,
          -0.7588334215834598,
          -0.19225978909738234,
          1.0869884057639911,
          -0.6488099401349215,
          -0.8810617731069496,
          -0.9877589187812595,
          0.1839788596690493,
          -0.6227248225100018,
          -0.3989605607884542,
          -1.0424577797335484,
          0.6164696579413282,
          -1.5102432718172527,
          -0.4539317106281761,
          -0.8270327513680402,
          1.5665138134788672,
          -1.5794185818212407,
          -0.8286859783928642,
          0.8902941072638658,
          2.697720660356817,
          -1.9383450227543588,
          0.12319159774760395,
          0.24449640631131586,
          0.07280990399729946,
          -0.45115094310389386,
          -0.7535282136619567,
          -1.2174250270142826,
          -1.3828171353374452,
          0.5621516899704657,
          -0.4512480879642944,
          0.746579551553514,
          1.5490860100860717,
          1.2342150596905648,
          1.4158094396097285,
          -0.739187659946958,
          -0.5909672235815311,
          -0.5575605031262123,
          0.5866250541568486,
          -0.9605620819886225,
          -1.9237071780633603,
          0.24295599937308746,
          -1.4746439885716782,
          -0.5987809042110744,
          -2.495406647169128,
          -1.4368222889751538,
          -1.2082865352140781,
          -0.8508174221797041,
          -1.4261943203791934,
          -0.07034675467786769,
          -0.8011272731238355,
          -2.07292535685606,
          -0.986479627722848,
          -0.6477960666587617,
          -1.4774567125917875,
          -1.229646847875336,
          -1.4970140668527516,
          0.5649085789468892,
          0.06281056039396726,
          -1.5166214913372755,
          -0.06797201821945242,
          0.35050696001618986,
          -1.3231305510528468,
          -0.3810941649886263,
          -0.6820080691684629,
          1.9070323456721625,
          0.35592306130979623,
          -0.4483330769045756,
          -0.013033614745271774,
          2.256560200814899,
          0.18188839496537895,
          -1.7206600770208793,
          -0.3580383907358773,
          -1.0072796766954555,
          -0.37739621539770873,
          1.0123894352787535,
          -1.0412162858424472,
          -0.3811281320767272,
          -1.421430261633244,
          -0.7800875861136561,
          -0.6070031562346739,
          -0.835939867693829,
          -0.0005782056866648112,
          0.22387695411875805,
          -1.4721393788135528,
          0.8818815560843503,
          -2.339848437715482,
          0.1932204211869743,
          0.3435810207050811,
          -2.655233635281206,
          0.08806598951832165,
          2.795641410443107,
          0.5272106366860236,
          0.751936211081637,
          -2.266075910423845,
          -0.92483800330884,
          -0.6887370477253265,
          -0.8915668661421149,
          -0.44252766212403405,
          -0.5689736137083841,
          -0.7236702681591627,
          -2.292023028473955,
          -1.048575266333632,
          -1.0862792646199102,
          -0.8814575394988015,
          1.0293178854607046,
          -0.5128071293842342,
          -0.9361265766406902,
          -0.2663219783963403,
          -0.6962171649866629,
          -1.1079072805555277,
          0.8632603312299719,
          0.4518971193392267,
          0.8610569087057434,
          -0.4073140983110792,
          1.7153333919243299,
          -0.6910440484589201,
          -2.1158622976158727,
          1.258351483253571,
          1.5540529905908143,
          -0.9161550573717914,
          -1.0116234916830718,
          -0.07292198046944537,
          -1.6288598987637926,
          2.143476579721929,
          1.2461852431361,
          0.29202830995661805,
          0.1762641821062445,
          0.0016586894075132442,
          1.7252461950692235,
          -0.8999874840022415,
          -1.5299654339935695,
          0.02705643225647835,
          -1.7417179544090302,
          -1.190311905431505,
          -1.3751055617319143,
          0.6569063228548803,
          -1.295190835459276,
          -1.2424257073203682,
          0.8282841862274495,
          -0.22962484607668976,
          -0.9603674649335953,
          0.6930601954603418,
          -1.004913112741543,
          -0.9734072113825464,
          -1.292124911357856,
          -1.65014862679905,
          0.9395609214512148,
          1.3969271082921262,
          -2.189286358693594,
          1.5066289999440559,
          2.5264575308874004,
          0.027076676295984262,
          -0.16883406204790255,
          -1.1206585419706754,
          -1.0100596792405094,
          0.5449515536243265,
          -1.1617865303170516,
          -2.5532114135026798,
          -1.858648827836915,
          -0.7884687510672728,
          1.7802453421616815,
          -1.1308115808731076,
          -1.1841403908646164,
          -0.07599048678407425,
          -0.832681271971116,
          -1.0773540873580332,
          -0.5801284330305112,
          2.1841642853286785,
          -0.16072203921881018,
          0.38318730863089195,
          -0.736539411607349,
          0.2637549989995869,
          -1.1464017984165211,
          -2.014855690415682,
          0.2913486161743307,
          1.1811063038110734,
          -0.42799462269156946,
          -1.740686672565772,
          -1.3815784093117207,
          -0.6883105394972739,
          -1.0099013596625843,
          -0.673109462645799,
          -0.8828086185901821,
          -0.40856459014435365,
          -2.1266872197416298,
          -0.9971597546473939,
          -1.1730818419439555,
          -1.5395249475558386,
          1.0045255425181387,
          2.1233467241201875,
          0.9730071311613956,
          -0.6199503608446196,
          1.0409669599153715,
          1.6746194284099336,
          -1.4700660615404433,
          -1.1462404790354466,
          0.3314327603375501,
          0.619518728676675,
          -2.101238743324735,
          -0.8127829810658618,
          -3.293986145726835,
          1.4819809909689883,
          -1.8801528259826432,
          0.8521692121680439,
          -0.47192615779666963,
          -1.3575247030121267,
          -0.9888539243822707,
          2.348554232775038,
          -1.5000509194948184,
          -0.6074228582862479,
          2.1959712914380347,
          0.3761228149145944,
          -0.7290256991578339,
          -0.5298688266423351,
          -1.011026221515017,
          0.16966320921986416,
          -0.5181310668194672,
          -0.7809785570351803,
          -0.8911909619489298,
          1.5095546577561942,
          -1.2508375524530473,
          -0.9028413612037101,
          1.9963646138947797,
          1.129523404995334,
          1.0915339908227049,
          1.80828593113474,
          -0.8744340985274767,
          1.3490232182744324,
          -0.4121189374708757,
          1.4715596360558048,
          -1.0340425083948392,
          -2.350715332797184,
          -1.1660573169572266,
          -0.6967512771727178,
          -0.8787514376935512,
          0.7471691941224853,
          -0.44614226211186486,
          -0.6970708443225889,
          1.1502652699499898,
          -1.0553032661573902,
          1.3372244124407684,
          0.6412308208516756,
          0.3394206655664079,
          1.90516261643704,
          0.9693219783102079,
          -0.12352910228865982,
          1.985950212105431,
          -0.8699662588027317,
          0.43396488122846566,
          1.3680060381696737,
          -0.5673107397106362,
          0.6291335655488803,
          1.9914063157848014,
          1.725002763728834,
          0.9570412790475715,
          0.8081313851189444,
          -1.1523454521900542,
          -0.1567820302198585,
          -2.2188116587359676,
          1.4322157968321487,
          1.4363915563414495,
          0.8987874119416006,
          -0.08099011860754908,
          0.011391078591839406,
          1.0911767639250467,
          0.3044026838475094,
          1.4089511634385519,
          1.1176269556627674,
          0.18955645996218554,
          -0.17357045449381908,
          1.259789691576585,
          -1.2249965307009687,
          -1.4812459993813338,
          0.09627907356077882,
          -1.3816335251767269,
          2.3884119858245305,
          1.5180632131601566,
          -1.8823929662318726,
          0.5733765881389589,
          -1.2817462469076262,
          0.0969466624412013,
          -0.5780015787440415,
          -0.10407106223545859,
          -2.8464498321288247,
          -0.17615544929538374,
          -0.663853574068972,
          -2.1941686184114984,
          -0.9757645329615674,
          -1.0715387091995778,
          -0.2581006678036182,
          -0.10621398113308508,
          1.999124556932071,
          2.6226225469024245,
          0.17866880393013412,
          -0.12512577076620285,
          -1.06535828139265,
          0.22340817962172727,
          -0.968222156720628,
          -0.25205968055176753,
          0.9889632330811877,
          0.24520659890311328,
          0.12224371009919367,
          -0.8598435491318218,
          -0.5529667612435181,
          0.13342127895190703,
          1.8979216618445232,
          1.5502949534053134,
          0.4873765132742405,
          -1.0014355491325562,
          0.813479399860193,
          2.186604298622759,
          0.46462662052220693,
          -1.825199967778705,
          -0.7705959679221195,
          0.3982085527037456,
          1.0645385456911114,
          -0.19969565226555636,
          1.1663395213372432,
          0.5258339277656263,
          -0.6424815614887168,
          2.298945373415854,
          0.36799729563979783,
          -2.093354269175665,
          0.48388446223917797,
          0.5928601364406855,
          0.47694738943631476,
          1.3400090308690125,
          -0.8040819109310613,
          0.2438744036375365,
          0.24351809260903276,
          -1.9152688747750504,
          0.7632825512433551,
          -0.40663525805797474,
          -1.708302538797091,
          0.8645727733893773,
          0.5976009399406684,
          -0.02410257663194764,
          2.480452288679267,
          -0.9870433878845304,
          -0.23862011542665273,
          1.2232962094561841,
          0.18188701600670834,
          1.0532678959750141,
          -0.7199540729052886,
          -2.6800837198854346,
          2.044672951498553,
          0.3707854641250662,
          0.07605304852909126,
          1.049803206936164,
          1.3207126389254684,
          -2.1193187230523574,
          0.8009310842602662,
          0.48395510139927567,
          2.173278205325127,
          0.7702503115691354,
          -1.552270947511749,
          0.31262038087286403,
          2.0014400537152284,
          0.31137200160117606,
          0.26788910559751794,
          -0.18569225003397566,
          -0.45089004622527606,
          0.4196708061060814,
          1.6922680819425604,
          1.8042994832819514,
          1.5084687623550246,
          1.9405567779747226,
          -1.6514201092400225,
          0.552880313024198,
          -0.14780759658485176,
          1.1555242483977886,
          1.0949462025650678,
          -0.10374324480560618,
          2.851023683818516,
          -0.17326364821360665,
          -1.4726536453584238,
          -0.9426353409119697,
          1.4021405388448331,
          -0.20390341583730764,
          2.141889279525155,
          2.5118303089538703,
          -1.6668283562456874,
          0.9828457621800817,
          0.8287278700031421,
          -0.6247067444493505,
          -0.513160937133329,
          -1.0899325451923456,
          0.06748825964485833,
          0.5689277470049865,
          2.426562331609972,
          -1.937729056112863,
          2.6129973433666027,
          -0.36437102655819653,
          -0.8520413348618728,
          0.32570637594883,
          0.4518814235186867,
          -0.8557453092898255,
          1.5342905887921743,
          -0.31166996656378343,
          -0.1457617395932434,
          0.04295363043170164,
          0.3447504774396494,
          -1.6957217687271495,
          -2.0230075888128813,
          0.1197453512050753,
          1.3506542474737935,
          -1.1646447272146518,
          0.9170498655380781,
          -1.3320806508630156,
          0.6997317165129566,
          -0.3229596547485397,
          2.2401788355821792,
          0.8822229166849586,
          0.974856443837021,
          0.6085743107435617,
          0.14835589345875952,
          -0.6680473411528923,
          -0.21822279634977457,
          1.0781127655802714,
          -0.6097121403656031,
          0.955094393792993,
          -1.328093402096943,
          -0.04555861366905919,
          -0.15947325021855768,
          1.7101605704880947,
          -0.9262417754851813,
          0.5332702557933741,
          0.7454514727955011,
          0.32189974380638414,
          -1.4371444679801864,
          -0.13918173574504095,
          -2.310748031800007,
          -0.2206434206997682,
          0.2693506728893752,
          -2.270944698875329,
          1.8243324130026213,
          0.5396728508328265,
          -1.6342626588605709,
          0.33476298134057003,
          1.8842794676324526,
          -0.3294177020924666,
          1.9795578119011181,
          -0.43185569489922465,
          -0.23248153801699847,
          1.0991714297418191,
          0.6583080905762594,
          1.9220266826497603,
          -0.34239343844332604,
          2.909763799129794,
          -0.017930484533953375,
          -0.9446996339537506,
          0.0217312739119404,
          0.1328218028029693,
          0.1902702205249095,
          1.2136244506544496,
          1.5551006704204537,
          1.011313011109011,
          0.9580482057961872,
          -0.35105461136257105,
          0.21307896249820996,
          1.281043793968034,
          -0.6843586204524806,
          -2.027307174394866,
          -0.5779523462621957,
          0.4361540026543969,
          -1.117850763160151,
          0.3758823139626398,
          1.3406150925431595,
          -0.24991981280450923,
          0.7882903824981596,
          0.6613372578915181,
          -2.1192424850697207,
          1.008567779671342,
          0.38981975031246024,
          0.5513647377556415,
          -2.1373899649032695,
          1.5015589602892296,
          0.4525796110081508,
          1.5332673561006205,
          -0.23641897900182712,
          1.0381219816318776,
          1.0441277856434112,
          0.14921196299441553,
          -0.8001905327051138,
          0.13398062904662827,
          0.518044673648096,
          0.15054158778875257,
          -0.30725642766827654,
          0.05235690006619771,
          1.8834123862869436,
          -1.0031079444928663,
          1.0253969687862188,
          -0.3384820127000261,
          -2.2499905378121703,
          0.25774888093136383,
          0.04585645860944219,
          0.7794086554177939,
          1.7480571624152692,
          1.1542576591795282,
          -0.8946701561474303,
          -0.42943938044107555,
          -0.7949218619499351,
          -0.36570467315338595,
          -0.8605287710475609,
          2.145113891229015,
          0.9191937241953198,
          -2.147843180420187,
          -0.18259995331025955,
          -2.4230856844687216,
          -1.4643098359193205,
          1.242489670453265,
          2.1495912230088763,
          1.0910679104716012,
          -0.851315018730939,
          -0.24503234256974407,
          -0.18496742641625336,
          -0.20044173252107564,
          -2.4292846666383987,
          0.7181755284728492,
          0.8009979961145725,
          1.3826217883086669,
          1.5510026494636087,
          0.16723576406954815,
          0.573495581343373,
          -0.5459507849410854,
          1.1982576926907502,
          1.327467009100366,
          -0.25139045021656276,
          1.104343846694031,
          -0.2962431254134659,
          1.3578539258467353,
          2.5670630162233654,
          -0.7188089342557575,
          0.242955537329186,
          1.3668225036595005,
          0.4663313751281718,
          -0.759876431636479,
          1.926948420926387,
          -1.0666735067373174,
          0.6958130276214679,
          1.195694034650504,
          -1.0718055435040892,
          -1.1080659142015261,
          1.1386321840487441,
          3.564890446347091,
          0.8303753585403956,
          -0.6152928225160869,
          -2.574313869243502,
          0.7332963008462254,
          0.5735197884790489,
          0.8029622548594096,
          -0.3009049675663866,
          -1.116860279498588,
          -1.144554007254258,
          -1.4696848938205354,
          -1.4402936745700925,
          -0.19108547235266385,
          -0.826446010681702,
          -0.6269618022365975,
          -0.7264741139604916,
          -0.19146536602796194,
          -1.5925456294458489,
          -0.7725011617261124,
          1.8835223227627755,
          -1.4531436388768193,
          0.7242128292776382,
          1.763714027479612,
          -0.15474876434098864,
          -0.07236216959231707,
          -0.7931551508469076,
          -1.0267920104930672,
          0.13027221444044457,
          -1.0960947200455067,
          -0.1793581402649617,
          0.5204996406669821,
          -0.5865866298454165,
          0.05886225191966621,
          -1.3309849208791913,
          -0.5335484770491667,
          -0.07509253971666949,
          -1.147766139512321,
          0.47078882619973444,
          0.541420033113065,
          -0.03706485035248703,
          -1.5698726027159928,
          -0.24222087723299318,
          0.7960757485350595,
          0.09807097036944355,
          -0.5552250887453514,
          -1.2166973626337316,
          0.6478609706202494,
          -1.1402298235619397,
          0.1702121109394243,
          0.38492276888539323,
          -0.5257237534968171,
          -0.8942796507142874,
          -1.8999901835347586,
          -0.6415362836880738,
          -0.7459196086990536,
          -0.1129198096128658,
          -0.8576594386448393,
          -0.7003748935920477,
          -1.2018721121931506,
          -1.792478643648232,
          -0.38959084249958165,
          0.2126237434401516,
          1.881059441742311,
          1.23498482656428,
          1.4216673569114833,
          -0.3729136615204548,
          -1.905860564519907,
          -0.5158106947502208,
          -1.1195294383938763,
          -0.21788015199963878,
          1.8950027908189748,
          0.9627679647002049,
          1.0442536029272504,
          0.24575551326327633,
          -0.31225793825476617,
          -0.3820016724273672,
          0.35835873548717323,
          -1.6132077380836478,
          -0.3078004757729879,
          0.025601756389306056,
          -0.08551269893984297,
          0.5401249841995248,
          -0.6533222145618094,
          0.05074890406438177,
          1.0151490695795837,
          -1.6168240205794175,
          -0.8091015774773731,
          -0.2368485783140872,
          -1.662286031551228,
          -1.2836738741838551,
          0.5289743880670631,
          0.13926078074581555,
          -1.2905246253095712,
          0.44496094195025243,
          -1.8117249126586579,
          -0.3978404206821041,
          -0.07557793510143963,
          -1.3738981235794747,
          -0.6216914735316116,
          0.2906848635493906,
          -1.8784918252323288,
          -1.7519921704287897,
          0.49721425991288287,
          0.10165447406562443,
          0.732901381121384,
          1.5571267675873262,
          -0.7768173618010614,
          -0.3342015499294475,
          -0.3857195368873327,
          -2.084441022641277,
          -0.26674634531202357,
          2.318819871832741,
          -0.27259678068581694,
          -1.107355915671467,
          2.015195129461725,
          0.1296095816037843,
          0.4426158522810842,
          1.027490253338418,
          -0.17250667061887834,
          -0.10262205603821693,
          1.4422428120258879,
          1.1420709474868667,
          -0.5272049489780183,
          -0.25862489692463514,
          1.013196975277748,
          -0.2654013963496055,
          0.25122354469475555,
          1.1385864192218518,
          -0.39997818158689635,
          -0.44313509812198054,
          -0.09889702873379151,
          -1.934472778954571,
          -0.47172831502930107,
          -0.8792964863763835,
          0.4489618410771902,
          0.3020176731763334,
          1.3884538211702449,
          0.37276641578124514,
          0.9536807592957973,
          0.7317296290965744,
          -0.09172446343592783,
          1.8586768792220703,
          -1.2838387837462852,
          0.36910951478624743,
          0.31752692625909446,
          0.351838527493476,
          -2.1313409969439885,
          0.03706165807611132,
          0.45634076879979796,
          -1.4097266273054234,
          -0.025246274388684424,
          -0.6375483408766194,
          0.9179560544619533,
          0.9243902632479433,
          0.8069394134676393,
          -2.642204410112704,
          1.7699146144358504,
          0.04462563732231235,
          0.20129352284245813,
          0.927611054309231,
          -0.4093491579397135,
          0.9324923689204784,
          0.3964262678138664,
          0.6106043773671599,
          -1.4824812065142923,
          -1.0187798723775736,
          -2.0094787894613795,
          1.3631641172435374,
          -2.4040046026568525,
          0.46736779861363387,
          -0.49640697056835176,
          0.1345431922905635,
          -0.7090383562123559
         ],
         "yaxis": "y"
        }
       ],
       "layout": {
        "coloraxis": {
         "colorbar": {
          "title": {
           "text": "Cluster"
          }
         },
         "colorscale": [
          [
           0,
           "#1F77B4"
          ],
          [
           0.1111111111111111,
           "#FF7F0E"
          ],
          [
           0.2222222222222222,
           "#2CA02C"
          ],
          [
           0.3333333333333333,
           "#D62728"
          ],
          [
           0.4444444444444444,
           "#9467BD"
          ],
          [
           0.5555555555555556,
           "#8C564B"
          ],
          [
           0.6666666666666666,
           "#E377C2"
          ],
          [
           0.7777777777777778,
           "#7F7F7F"
          ],
          [
           0.8888888888888888,
           "#BCBD22"
          ],
          [
           1,
           "#17BECF"
          ]
         ]
        },
        "legend": {
         "tracegroupgap": 0
        },
        "template": {
         "data": {
          "bar": [
           {
            "error_x": {
             "color": "#2a3f5f"
            },
            "error_y": {
             "color": "#2a3f5f"
            },
            "marker": {
             "line": {
              "color": "#E5ECF6",
              "width": 0.5
             },
             "pattern": {
              "fillmode": "overlay",
              "size": 10,
              "solidity": 0.2
             }
            },
            "type": "bar"
           }
          ],
          "barpolar": [
           {
            "marker": {
             "line": {
              "color": "#E5ECF6",
              "width": 0.5
             },
             "pattern": {
              "fillmode": "overlay",
              "size": 10,
              "solidity": 0.2
             }
            },
            "type": "barpolar"
           }
          ],
          "carpet": [
           {
            "aaxis": {
             "endlinecolor": "#2a3f5f",
             "gridcolor": "white",
             "linecolor": "white",
             "minorgridcolor": "white",
             "startlinecolor": "#2a3f5f"
            },
            "baxis": {
             "endlinecolor": "#2a3f5f",
             "gridcolor": "white",
             "linecolor": "white",
             "minorgridcolor": "white",
             "startlinecolor": "#2a3f5f"
            },
            "type": "carpet"
           }
          ],
          "choropleth": [
           {
            "colorbar": {
             "outlinewidth": 0,
             "ticks": ""
            },
            "type": "choropleth"
           }
          ],
          "contour": [
           {
            "colorbar": {
             "outlinewidth": 0,
             "ticks": ""
            },
            "colorscale": [
             [
              0,
              "#0d0887"
             ],
             [
              0.1111111111111111,
              "#46039f"
             ],
             [
              0.2222222222222222,
              "#7201a8"
             ],
             [
              0.3333333333333333,
              "#9c179e"
             ],
             [
              0.4444444444444444,
              "#bd3786"
             ],
             [
              0.5555555555555556,
              "#d8576b"
             ],
             [
              0.6666666666666666,
              "#ed7953"
             ],
             [
              0.7777777777777778,
              "#fb9f3a"
             ],
             [
              0.8888888888888888,
              "#fdca26"
             ],
             [
              1,
              "#f0f921"
             ]
            ],
            "type": "contour"
           }
          ],
          "contourcarpet": [
           {
            "colorbar": {
             "outlinewidth": 0,
             "ticks": ""
            },
            "type": "contourcarpet"
           }
          ],
          "heatmap": [
           {
            "colorbar": {
             "outlinewidth": 0,
             "ticks": ""
            },
            "colorscale": [
             [
              0,
              "#0d0887"
             ],
             [
              0.1111111111111111,
              "#46039f"
             ],
             [
              0.2222222222222222,
              "#7201a8"
             ],
             [
              0.3333333333333333,
              "#9c179e"
             ],
             [
              0.4444444444444444,
              "#bd3786"
             ],
             [
              0.5555555555555556,
              "#d8576b"
             ],
             [
              0.6666666666666666,
              "#ed7953"
             ],
             [
              0.7777777777777778,
              "#fb9f3a"
             ],
             [
              0.8888888888888888,
              "#fdca26"
             ],
             [
              1,
              "#f0f921"
             ]
            ],
            "type": "heatmap"
           }
          ],
          "heatmapgl": [
           {
            "colorbar": {
             "outlinewidth": 0,
             "ticks": ""
            },
            "colorscale": [
             [
              0,
              "#0d0887"
             ],
             [
              0.1111111111111111,
              "#46039f"
             ],
             [
              0.2222222222222222,
              "#7201a8"
             ],
             [
              0.3333333333333333,
              "#9c179e"
             ],
             [
              0.4444444444444444,
              "#bd3786"
             ],
             [
              0.5555555555555556,
              "#d8576b"
             ],
             [
              0.6666666666666666,
              "#ed7953"
             ],
             [
              0.7777777777777778,
              "#fb9f3a"
             ],
             [
              0.8888888888888888,
              "#fdca26"
             ],
             [
              1,
              "#f0f921"
             ]
            ],
            "type": "heatmapgl"
           }
          ],
          "histogram": [
           {
            "marker": {
             "pattern": {
              "fillmode": "overlay",
              "size": 10,
              "solidity": 0.2
             }
            },
            "type": "histogram"
           }
          ],
          "histogram2d": [
           {
            "colorbar": {
             "outlinewidth": 0,
             "ticks": ""
            },
            "colorscale": [
             [
              0,
              "#0d0887"
             ],
             [
              0.1111111111111111,
              "#46039f"
             ],
             [
              0.2222222222222222,
              "#7201a8"
             ],
             [
              0.3333333333333333,
              "#9c179e"
             ],
             [
              0.4444444444444444,
              "#bd3786"
             ],
             [
              0.5555555555555556,
              "#d8576b"
             ],
             [
              0.6666666666666666,
              "#ed7953"
             ],
             [
              0.7777777777777778,
              "#fb9f3a"
             ],
             [
              0.8888888888888888,
              "#fdca26"
             ],
             [
              1,
              "#f0f921"
             ]
            ],
            "type": "histogram2d"
           }
          ],
          "histogram2dcontour": [
           {
            "colorbar": {
             "outlinewidth": 0,
             "ticks": ""
            },
            "colorscale": [
             [
              0,
              "#0d0887"
             ],
             [
              0.1111111111111111,
              "#46039f"
             ],
             [
              0.2222222222222222,
              "#7201a8"
             ],
             [
              0.3333333333333333,
              "#9c179e"
             ],
             [
              0.4444444444444444,
              "#bd3786"
             ],
             [
              0.5555555555555556,
              "#d8576b"
             ],
             [
              0.6666666666666666,
              "#ed7953"
             ],
             [
              0.7777777777777778,
              "#fb9f3a"
             ],
             [
              0.8888888888888888,
              "#fdca26"
             ],
             [
              1,
              "#f0f921"
             ]
            ],
            "type": "histogram2dcontour"
           }
          ],
          "mesh3d": [
           {
            "colorbar": {
             "outlinewidth": 0,
             "ticks": ""
            },
            "type": "mesh3d"
           }
          ],
          "parcoords": [
           {
            "line": {
             "colorbar": {
              "outlinewidth": 0,
              "ticks": ""
             }
            },
            "type": "parcoords"
           }
          ],
          "pie": [
           {
            "automargin": true,
            "type": "pie"
           }
          ],
          "scatter": [
           {
            "fillpattern": {
             "fillmode": "overlay",
             "size": 10,
             "solidity": 0.2
            },
            "type": "scatter"
           }
          ],
          "scatter3d": [
           {
            "line": {
             "colorbar": {
              "outlinewidth": 0,
              "ticks": ""
             }
            },
            "marker": {
             "colorbar": {
              "outlinewidth": 0,
              "ticks": ""
             }
            },
            "type": "scatter3d"
           }
          ],
          "scattercarpet": [
           {
            "marker": {
             "colorbar": {
              "outlinewidth": 0,
              "ticks": ""
             }
            },
            "type": "scattercarpet"
           }
          ],
          "scattergeo": [
           {
            "marker": {
             "colorbar": {
              "outlinewidth": 0,
              "ticks": ""
             }
            },
            "type": "scattergeo"
           }
          ],
          "scattergl": [
           {
            "marker": {
             "colorbar": {
              "outlinewidth": 0,
              "ticks": ""
             }
            },
            "type": "scattergl"
           }
          ],
          "scattermapbox": [
           {
            "marker": {
             "colorbar": {
              "outlinewidth": 0,
              "ticks": ""
             }
            },
            "type": "scattermapbox"
           }
          ],
          "scatterpolar": [
           {
            "marker": {
             "colorbar": {
              "outlinewidth": 0,
              "ticks": ""
             }
            },
            "type": "scatterpolar"
           }
          ],
          "scatterpolargl": [
           {
            "marker": {
             "colorbar": {
              "outlinewidth": 0,
              "ticks": ""
             }
            },
            "type": "scatterpolargl"
           }
          ],
          "scatterternary": [
           {
            "marker": {
             "colorbar": {
              "outlinewidth": 0,
              "ticks": ""
             }
            },
            "type": "scatterternary"
           }
          ],
          "surface": [
           {
            "colorbar": {
             "outlinewidth": 0,
             "ticks": ""
            },
            "colorscale": [
             [
              0,
              "#0d0887"
             ],
             [
              0.1111111111111111,
              "#46039f"
             ],
             [
              0.2222222222222222,
              "#7201a8"
             ],
             [
              0.3333333333333333,
              "#9c179e"
             ],
             [
              0.4444444444444444,
              "#bd3786"
             ],
             [
              0.5555555555555556,
              "#d8576b"
             ],
             [
              0.6666666666666666,
              "#ed7953"
             ],
             [
              0.7777777777777778,
              "#fb9f3a"
             ],
             [
              0.8888888888888888,
              "#fdca26"
             ],
             [
              1,
              "#f0f921"
             ]
            ],
            "type": "surface"
           }
          ],
          "table": [
           {
            "cells": {
             "fill": {
              "color": "#EBF0F8"
             },
             "line": {
              "color": "white"
             }
            },
            "header": {
             "fill": {
              "color": "#C8D4E3"
             },
             "line": {
              "color": "white"
             }
            },
            "type": "table"
           }
          ]
         },
         "layout": {
          "annotationdefaults": {
           "arrowcolor": "#2a3f5f",
           "arrowhead": 0,
           "arrowwidth": 1
          },
          "autotypenumbers": "strict",
          "coloraxis": {
           "colorbar": {
            "outlinewidth": 0,
            "ticks": ""
           }
          },
          "colorscale": {
           "diverging": [
            [
             0,
             "#8e0152"
            ],
            [
             0.1,
             "#c51b7d"
            ],
            [
             0.2,
             "#de77ae"
            ],
            [
             0.3,
             "#f1b6da"
            ],
            [
             0.4,
             "#fde0ef"
            ],
            [
             0.5,
             "#f7f7f7"
            ],
            [
             0.6,
             "#e6f5d0"
            ],
            [
             0.7,
             "#b8e186"
            ],
            [
             0.8,
             "#7fbc41"
            ],
            [
             0.9,
             "#4d9221"
            ],
            [
             1,
             "#276419"
            ]
           ],
           "sequential": [
            [
             0,
             "#0d0887"
            ],
            [
             0.1111111111111111,
             "#46039f"
            ],
            [
             0.2222222222222222,
             "#7201a8"
            ],
            [
             0.3333333333333333,
             "#9c179e"
            ],
            [
             0.4444444444444444,
             "#bd3786"
            ],
            [
             0.5555555555555556,
             "#d8576b"
            ],
            [
             0.6666666666666666,
             "#ed7953"
            ],
            [
             0.7777777777777778,
             "#fb9f3a"
            ],
            [
             0.8888888888888888,
             "#fdca26"
            ],
            [
             1,
             "#f0f921"
            ]
           ],
           "sequentialminus": [
            [
             0,
             "#0d0887"
            ],
            [
             0.1111111111111111,
             "#46039f"
            ],
            [
             0.2222222222222222,
             "#7201a8"
            ],
            [
             0.3333333333333333,
             "#9c179e"
            ],
            [
             0.4444444444444444,
             "#bd3786"
            ],
            [
             0.5555555555555556,
             "#d8576b"
            ],
            [
             0.6666666666666666,
             "#ed7953"
            ],
            [
             0.7777777777777778,
             "#fb9f3a"
            ],
            [
             0.8888888888888888,
             "#fdca26"
            ],
            [
             1,
             "#f0f921"
            ]
           ]
          },
          "colorway": [
           "#636efa",
           "#EF553B",
           "#00cc96",
           "#ab63fa",
           "#FFA15A",
           "#19d3f3",
           "#FF6692",
           "#B6E880",
           "#FF97FF",
           "#FECB52"
          ],
          "font": {
           "color": "#2a3f5f"
          },
          "geo": {
           "bgcolor": "white",
           "lakecolor": "white",
           "landcolor": "#E5ECF6",
           "showlakes": true,
           "showland": true,
           "subunitcolor": "white"
          },
          "hoverlabel": {
           "align": "left"
          },
          "hovermode": "closest",
          "mapbox": {
           "style": "light"
          },
          "paper_bgcolor": "white",
          "plot_bgcolor": "#E5ECF6",
          "polar": {
           "angularaxis": {
            "gridcolor": "white",
            "linecolor": "white",
            "ticks": ""
           },
           "bgcolor": "#E5ECF6",
           "radialaxis": {
            "gridcolor": "white",
            "linecolor": "white",
            "ticks": ""
           }
          },
          "scene": {
           "xaxis": {
            "backgroundcolor": "#E5ECF6",
            "gridcolor": "white",
            "gridwidth": 2,
            "linecolor": "white",
            "showbackground": true,
            "ticks": "",
            "zerolinecolor": "white"
           },
           "yaxis": {
            "backgroundcolor": "#E5ECF6",
            "gridcolor": "white",
            "gridwidth": 2,
            "linecolor": "white",
            "showbackground": true,
            "ticks": "",
            "zerolinecolor": "white"
           },
           "zaxis": {
            "backgroundcolor": "#E5ECF6",
            "gridcolor": "white",
            "gridwidth": 2,
            "linecolor": "white",
            "showbackground": true,
            "ticks": "",
            "zerolinecolor": "white"
           }
          },
          "shapedefaults": {
           "line": {
            "color": "#2a3f5f"
           }
          },
          "ternary": {
           "aaxis": {
            "gridcolor": "white",
            "linecolor": "white",
            "ticks": ""
           },
           "baxis": {
            "gridcolor": "white",
            "linecolor": "white",
            "ticks": ""
           },
           "bgcolor": "#E5ECF6",
           "caxis": {
            "gridcolor": "white",
            "linecolor": "white",
            "ticks": ""
           }
          },
          "title": {
           "x": 0.05
          },
          "xaxis": {
           "automargin": true,
           "gridcolor": "white",
           "linecolor": "white",
           "ticks": "",
           "title": {
            "standoff": 15
           },
           "zerolinecolor": "white",
           "zerolinewidth": 2
          },
          "yaxis": {
           "automargin": true,
           "gridcolor": "white",
           "linecolor": "white",
           "ticks": "",
           "title": {
            "standoff": 15
           },
           "zerolinecolor": "white",
           "zerolinewidth": 2
          }
         }
        },
        "title": {
         "text": "Music Data Clustering (2D PCA)"
        },
        "xaxis": {
         "anchor": "y",
         "domain": [
          0,
          1
         ],
         "title": {
          "text": "PC1"
         }
        },
        "yaxis": {
         "anchor": "x",
         "domain": [
          0,
          1
         ],
         "title": {
          "text": "PC2"
         }
        }
       }
      }
     },
     "metadata": {},
     "output_type": "display_data"
    }
   ],
   "source": [
    "# Reduce dimensions\n",
    "pca = PCA(2)\n",
    "features_reduced = pca.fit_transform(features_scaled)\n",
    "\n",
    "# Create a DataFrame for the plot\n",
    "plot_df = pd.DataFrame(features_reduced, columns=['PC1', 'PC2'])\n",
    "plot_df['Cluster'] = spotify_2k['Cluster']\n",
    "\n",
    "# Plotting\n",
    "fig = px.scatter(plot_df, x='PC1', y='PC2', color='Cluster', title='Music Data Clustering (2D PCA)',\n",
    "                 color_continuous_scale=px.colors.qualitative.D3)\n",
    "fig.show()\n"
   ]
  },
  {
   "cell_type": "code",
   "execution_count": 303,
   "metadata": {},
   "outputs": [
    {
     "data": {
      "application/vnd.plotly.v1+json": {
       "config": {
        "plotlyServerURL": "https://plot.ly"
       },
       "data": [
        {
         "hovertemplate": "PC1=%{x}<br>PC2=%{y}<br>PC3=%{z}<br>Cluster=%{marker.color}<extra></extra>",
         "legendgroup": "",
         "marker": {
          "color": [
           4,
           3,
           0,
           2,
           3,
           1,
           3,
           2,
           2,
           3,
           4,
           1,
           3,
           2,
           3,
           4,
           2,
           2,
           1,
           0,
           2,
           1,
           3,
           2,
           3,
           1,
           2,
           0,
           4,
           3,
           4,
           2,
           1,
           4,
           2,
           3,
           2,
           2,
           2,
           4,
           3,
           2,
           1,
           2,
           3,
           2,
           3,
           1,
           3,
           1,
           4,
           2,
           4,
           2,
           4,
           3,
           1,
           2,
           3,
           1,
           1,
           1,
           3,
           3,
           3,
           3,
           3,
           3,
           2,
           1,
           4,
           2,
           2,
           0,
           2,
           3,
           4,
           2,
           0,
           2,
           2,
           1,
           4,
           1,
           2,
           2,
           3,
           1,
           3,
           2,
           4,
           3,
           1,
           2,
           2,
           2,
           3,
           4,
           3,
           2,
           2,
           4,
           3,
           2,
           2,
           4,
           0,
           3,
           3,
           1,
           2,
           2,
           2,
           1,
           0,
           1,
           1,
           3,
           2,
           2,
           0,
           1,
           4,
           1,
           3,
           0,
           2,
           4,
           3,
           2,
           1,
           4,
           2,
           1,
           1,
           3,
           1,
           3,
           4,
           1,
           3,
           2,
           3,
           3,
           3,
           4,
           4,
           2,
           3,
           1,
           1,
           2,
           4,
           3,
           4,
           1,
           1,
           4,
           3,
           0,
           1,
           1,
           3,
           4,
           2,
           4,
           3,
           3,
           4,
           4,
           4,
           4,
           1,
           4,
           1,
           0,
           2,
           1,
           1,
           2,
           3,
           3,
           4,
           3,
           3,
           3,
           2,
           2,
           2,
           3,
           0,
           3,
           3,
           2,
           2,
           1,
           4,
           2,
           2,
           4,
           4,
           2,
           3,
           3,
           2,
           3,
           3,
           2,
           3,
           4,
           2,
           3,
           2,
           3,
           3,
           1,
           3,
           2,
           3,
           0,
           1,
           4,
           2,
           1,
           4,
           2,
           2,
           1,
           4,
           3,
           1,
           1,
           3,
           4,
           2,
           2,
           1,
           2,
           0,
           2,
           3,
           4,
           3,
           2,
           3,
           2,
           1,
           2,
           3,
           2,
           4,
           2,
           3,
           4,
           2,
           2,
           3,
           4,
           2,
           1,
           2,
           2,
           2,
           4,
           0,
           1,
           2,
           3,
           3,
           2,
           2,
           1,
           4,
           2,
           3,
           3,
           1,
           2,
           2,
           3,
           3,
           1,
           0,
           1,
           2,
           3,
           2,
           2,
           4,
           3,
           3,
           2,
           3,
           4,
           3,
           1,
           3,
           3,
           2,
           3,
           2,
           2,
           3,
           2,
           4,
           3,
           2,
           3,
           4,
           2,
           2,
           2,
           2,
           1,
           2,
           3,
           2,
           2,
           1,
           4,
           4,
           3,
           3,
           1,
           2,
           2,
           3,
           2,
           1,
           3,
           3,
           1,
           3,
           4,
           3,
           1,
           4,
           3,
           2,
           1,
           1,
           3,
           4,
           2,
           1,
           3,
           3,
           4,
           1,
           2,
           2,
           1,
           4,
           2,
           4,
           2,
           3,
           2,
           2,
           2,
           1,
           0,
           2,
           3,
           4,
           2,
           0,
           1,
           2,
           3,
           2,
           1,
           2,
           0,
           3,
           1,
           2,
           4,
           3,
           1,
           3,
           3,
           1,
           4,
           1,
           1,
           3,
           0,
           1,
           3,
           2,
           2,
           2,
           2,
           2,
           4,
           3,
           3,
           1,
           3,
           4,
           3,
           3,
           3,
           3,
           2,
           1,
           4,
           3,
           2,
           3,
           2,
           3,
           2,
           3,
           3,
           1,
           1,
           3,
           3,
           2,
           3,
           3,
           2,
           0,
           2,
           3,
           1,
           1,
           2,
           1,
           4,
           3,
           4,
           3,
           2,
           2,
           3,
           2,
           2,
           4,
           1,
           1,
           2,
           4,
           1,
           3,
           4,
           2,
           2,
           2,
           4,
           2,
           1,
           3,
           4,
           2,
           2,
           1,
           3,
           1,
           3,
           1,
           4,
           2,
           0,
           3,
           4,
           3,
           2,
           4,
           3,
           2,
           2,
           3,
           4,
           4,
           2,
           1,
           1,
           3,
           4,
           2,
           4,
           1,
           4,
           3,
           3,
           2,
           2,
           4,
           4,
           1,
           2,
           2,
           2,
           3,
           2,
           3,
           0,
           4,
           4,
           1,
           2,
           3,
           4,
           4,
           3,
           2,
           3,
           1,
           2,
           4,
           2,
           4,
           4,
           1,
           3,
           2,
           2,
           4,
           2,
           3,
           0,
           1,
           4,
           2,
           4,
           2,
           4,
           3,
           2,
           2,
           1,
           3,
           4,
           2,
           3,
           4,
           3,
           1,
           2,
           2,
           2,
           4,
           4,
           3,
           1,
           1,
           1,
           0,
           1,
           3,
           3,
           3,
           2,
           4,
           2,
           3,
           3,
           3,
           2,
           2,
           3,
           2,
           3,
           2,
           1,
           4,
           2,
           3,
           4,
           0,
           4,
           2,
           2,
           1,
           4,
           2,
           1,
           0,
           3,
           2,
           3,
           1,
           3,
           1,
           2,
           3,
           3,
           2,
           1,
           0,
           2,
           2,
           3,
           4,
           3,
           3,
           3,
           2,
           4,
           3,
           4,
           1,
           4,
           2,
           1,
           4,
           2,
           1,
           2,
           3,
           4,
           4,
           3,
           4,
           3,
           1,
           0,
           1,
           4,
           1,
           3,
           2,
           4,
           3,
           1,
           4,
           1,
           1,
           2,
           1,
           2,
           2,
           3,
           3,
           2,
           3,
           3,
           1,
           1,
           2,
           2,
           0,
           2,
           4,
           1,
           4,
           3,
           2,
           1,
           3,
           2,
           2,
           3,
           4,
           3,
           4,
           1,
           4,
           2,
           4,
           2,
           2,
           2,
           3,
           3,
           1,
           3,
           1,
           3,
           4,
           3,
           4,
           1,
           1,
           2,
           1,
           4,
           4,
           3,
           2,
           1,
           3,
           2,
           1,
           3,
           3,
           0,
           4,
           2,
           2,
           1,
           2,
           2,
           3,
           2,
           3,
           3,
           3,
           4,
           4,
           3,
           0,
           1,
           2,
           1,
           1,
           3,
           1,
           4,
           2,
           1,
           0,
           2,
           4,
           1,
           1,
           4,
           4,
           1,
           2,
           1,
           0,
           2,
           1,
           1,
           0,
           3,
           3,
           4,
           4,
           3,
           2,
           1,
           1,
           1,
           2,
           1,
           1,
           3,
           3,
           2,
           1,
           3,
           3,
           3,
           3,
           2,
           2,
           4,
           3,
           4,
           4,
           2,
           2,
           2,
           1,
           1,
           3,
           3,
           3,
           0,
           1,
           3,
           2,
           3,
           4,
           4,
           3,
           1,
           3,
           1,
           3,
           2,
           1,
           2,
           4,
           4,
           2,
           3,
           4,
           3,
           3,
           2,
           0,
           4,
           2,
           4,
           3,
           2,
           2,
           3,
           3,
           2,
           2,
           0,
           4,
           1,
           4,
           4,
           2,
           3,
           4,
           4,
           1,
           4,
           4,
           3,
           3,
           4,
           4,
           4,
           4,
           1,
           4,
           1,
           3,
           1,
           1,
           4,
           3,
           3,
           3,
           2,
           3,
           4,
           3,
           3,
           4,
           4,
           3,
           1,
           4,
           3,
           4,
           3,
           2,
           4,
           4,
           3,
           4,
           4,
           1,
           1,
           4,
           1,
           1,
           4,
           2,
           2,
           1,
           4,
           4,
           4,
           3,
           1,
           2,
           3,
           4,
           1,
           2,
           4,
           0,
           3,
           4,
           1,
           1,
           2,
           4,
           2,
           4,
           4,
           3,
           2,
           3,
           4,
           4,
           2,
           2,
           2,
           3,
           4,
           1,
           3,
           1,
           3,
           4,
           4,
           1,
           2,
           4,
           4,
           1,
           3,
           2,
           3,
           3,
           4,
           2,
           3,
           4,
           4,
           1,
           3,
           1,
           4,
           2,
           3,
           3,
           1,
           2,
           4,
           4,
           4,
           2,
           0,
           4,
           4,
           0,
           4,
           4,
           1,
           3,
           4,
           4,
           4,
           3,
           1,
           1,
           3,
           3,
           3,
           4,
           3,
           2,
           1,
           1,
           2,
           4,
           3,
           3,
           3,
           2,
           4,
           4,
           4,
           4,
           1,
           1,
           1,
           4,
           3,
           2,
           3,
           4,
           4,
           3,
           1,
           1,
           4,
           4,
           1,
           4,
           4,
           2,
           1,
           3,
           3,
           3,
           4,
           2,
           4,
           3,
           3,
           3,
           2,
           1,
           1,
           4,
           1,
           4,
           1,
           1,
           1,
           4,
           3,
           1,
           2,
           1,
           4,
           1,
           3,
           3,
           3,
           4,
           3,
           4,
           3,
           1,
           3,
           4,
           3,
           1,
           2,
           3,
           1,
           1,
           2,
           1,
           3,
           4,
           3,
           4,
           3,
           3,
           3,
           4,
           1,
           1,
           3,
           0,
           3,
           2,
           4,
           3,
           3,
           4,
           4,
           2,
           2,
           3,
           4,
           4,
           2,
           1,
           2,
           3,
           1,
           4,
           1,
           1,
           2,
           1,
           4,
           4,
           2,
           3,
           1,
           3,
           3,
           4,
           1,
           3,
           3,
           2,
           4,
           3,
           1,
           3,
           2,
           3,
           1,
           3,
           3,
           0,
           1,
           1,
           3,
           4,
           2,
           2,
           3,
           3,
           3,
           3,
           2,
           4,
           2,
           3,
           3,
           0,
           4,
           1,
           1,
           0,
           3,
           4,
           3,
           1,
           3,
           1,
           2,
           1,
           3,
           0,
           4,
           3,
           3,
           3,
           2,
           3,
           3,
           3,
           2,
           3,
           4,
           3,
           3,
           4,
           3,
           1,
           2,
           3,
           4,
           3,
           3,
           3,
           3,
           4,
           3,
           1,
           3,
           1,
           4,
           1,
           3,
           4,
           3,
           2,
           3,
           4,
           1,
           3,
           3,
           2,
           2,
           1,
           3,
           3,
           3,
           1,
           3,
           3,
           2,
           3,
           3,
           3,
           0,
           1,
           3,
           1,
           1,
           2,
           2,
           0,
           2,
           1,
           4,
           3,
           3,
           3,
           2,
           0,
           3,
           4,
           3,
           2,
           4,
           3,
           4,
           3,
           3,
           2,
           3,
           1,
           2,
           4,
           2,
           3,
           3,
           3,
           4,
           3,
           3,
           3,
           3,
           3,
           4,
           4,
           2,
           3,
           1,
           1,
           3,
           3,
           3,
           3,
           4,
           2,
           3,
           2,
           1,
           4,
           1,
           3,
           4,
           4,
           3,
           2,
           3,
           4,
           1,
           4,
           3,
           3,
           3,
           4,
           4,
           3,
           4,
           3,
           3,
           1,
           4,
           3,
           4,
           1,
           3,
           3,
           3,
           3,
           3,
           2,
           4,
           3,
           3,
           3,
           1,
           3,
           0,
           3,
           3,
           3,
           2,
           3,
           3,
           1,
           4,
           3,
           3,
           3,
           1,
           3,
           3,
           4,
           3,
           2,
           3,
           3,
           3,
           4,
           3,
           0,
           3,
           1,
           3,
           4,
           3,
           3,
           2,
           1,
           3,
           3,
           2,
           2,
           1,
           3,
           1,
           2,
           1,
           4,
           3,
           4,
           3,
           1,
           3,
           1,
           3,
           3,
           3,
           2,
           3,
           3,
           1,
           2,
           3,
           4,
           3,
           4,
           3,
           4,
           1,
           3,
           1,
           3,
           2,
           2,
           2,
           1,
           1,
           3,
           1,
           2,
           3,
           3,
           3,
           1,
           4,
           4,
           3,
           3,
           3,
           3,
           4,
           3,
           3,
           4,
           3,
           4,
           3,
           3,
           1,
           1,
           1,
           4,
           3,
           3,
           4,
           1,
           2,
           1,
           3,
           3,
           2,
           3,
           3,
           4,
           4,
           3,
           2,
           4,
           4,
           3,
           1,
           3,
           3,
           3,
           3,
           4,
           0,
           3,
           1,
           1,
           3,
           4,
           2,
           4,
           2,
           4,
           3,
           3,
           4,
           1,
           3,
           1,
           3,
           1,
           1,
           3,
           2,
           4,
           4,
           3,
           3,
           4,
           2,
           1,
           2,
           3,
           2,
           4,
           4,
           4,
           2,
           1,
           3,
           4,
           3,
           2,
           4,
           2,
           1,
           1,
           1,
           4,
           3,
           4,
           3,
           4,
           3,
           4,
           4,
           0,
           2,
           3,
           3,
           1,
           3,
           3,
           3,
           3,
           2,
           2,
           3,
           2,
           2,
           3,
           3,
           3,
           4,
           1,
           4,
           3,
           4,
           1,
           2,
           3,
           3,
           1,
           3,
           3,
           3,
           2,
           4,
           4,
           3,
           2,
           1,
           4,
           1,
           2,
           4,
           4,
           1,
           3,
           3,
           3,
           1,
           4,
           3,
           0,
           1,
           1,
           2,
           2,
           1,
           3,
           2,
           2,
           3,
           3,
           1,
           4,
           4,
           3,
           3,
           2,
           3,
           2,
           1,
           1,
           3,
           2,
           1,
           3,
           2,
           4,
           3,
           3,
           1,
           1,
           3,
           1,
           3,
           2,
           4,
           3,
           4,
           2,
           1,
           2,
           3,
           2,
           3,
           1,
           3,
           3,
           4,
           1,
           4,
           2,
           3,
           3,
           1,
           1,
           1,
           1,
           3,
           1,
           1,
           3,
           4,
           1,
           2,
           1,
           3,
           2,
           2,
           2,
           2,
           2,
           1,
           3,
           3,
           1,
           2,
           2,
           3,
           1,
           1,
           1,
           2,
           2,
           1,
           3,
           4,
           3,
           4,
           4,
           3,
           2,
           2,
           3,
           2,
           3,
           1,
           1,
           1,
           3,
           1,
           4,
           3,
           3,
           3,
           1,
           0,
           2,
           2,
           4,
           3,
           1,
           4,
           4,
           4,
           2,
           2,
           3,
           3,
           3,
           1,
           2,
           2,
           1,
           4,
           1,
           2,
           4,
           3,
           1,
           0,
           2,
           3,
           2,
           4,
           1,
           2,
           1,
           3,
           2,
           4,
           1,
           2,
           1,
           1,
           1,
           3,
           1,
           4,
           3,
           2,
           1,
           3,
           2,
           3,
           3,
           4,
           1,
           2,
           3,
           3,
           2,
           4,
           4,
           1,
           1,
           3,
           2,
           1,
           2,
           4,
           4,
           1,
           2,
           1,
           3,
           1,
           1,
           4,
           2,
           2,
           1,
           2,
           3,
           1,
           3,
           1,
           2,
           3,
           2,
           1,
           0,
           4,
           2,
           1,
           2,
           2,
           1,
           4,
           4,
           3,
           4,
           3,
           4,
           4,
           2,
           3,
           2,
           4,
           3,
           1,
           2,
           1,
           4,
           1,
           1,
           1,
           1,
           3,
           3,
           3,
           4,
           1,
           4,
           3,
           4,
           4,
           2,
           2,
           1,
           2,
           1,
           3,
           4,
           1,
           1,
           4,
           3,
           3,
           3,
           4,
           1,
           1,
           1,
           4,
           3,
           1,
           1,
           4,
           2,
           0,
           2,
           4,
           3,
           1,
           2,
           3,
           2,
           4,
           3,
           4,
           1,
           2,
           3,
           2,
           4,
           4,
           1,
           4,
           4,
           2,
           2,
           2,
           1,
           1,
           4,
           1,
           1,
           3,
           1,
           4,
           3,
           2,
           2,
           1,
           4,
           4,
           0,
           4,
           1,
           1,
           0,
           2,
           2,
           2,
           3,
           2,
           1,
           3,
           4,
           1,
           2,
           1,
           1,
           4,
           2,
           4,
           4,
           1,
           3,
           1,
           1,
           4,
           1,
           2,
           3,
           1,
           3,
           3,
           3,
           2,
           2,
           4,
           3,
           3,
           0,
           1,
           2,
           4,
           3,
           4,
           3,
           4,
           4,
           4,
           2,
           4,
           2,
           4,
           1,
           1,
           2,
           2,
           3,
           2,
           3,
           2,
           2,
           3,
           4,
           1,
           4,
           3,
           2,
           3,
           1,
           1,
           0,
           4,
           2,
           2,
           4,
           3,
           0,
           1,
           2,
           4,
           4,
           4,
           4,
           3,
           3,
           4,
           4,
           3,
           4,
           3,
           4,
           4,
           2,
           3,
           4,
           4,
           3,
           3,
           3,
           3,
           4,
           3,
           1,
           2,
           3,
           4,
           4,
           4,
           1,
           1,
           4,
           4,
           1,
           3,
           1,
           2,
           1,
           3,
           4,
           1,
           4,
           3,
           4,
           3,
           4,
           3,
           3,
           4,
           1,
           4,
           4,
           4,
           4,
           4,
           1,
           1,
           1,
           4,
           3,
           3,
           4,
           1,
           4,
           2,
           1,
           2,
           0,
           4,
           1,
           4,
           3,
           1,
           1,
           1,
           2,
           4,
           1,
           1,
           4,
           1,
           1,
           3,
           3,
           1,
           4,
           3,
           1,
           3,
           3,
           3,
           1,
           4,
           4,
           4,
           4,
           1,
           3,
           2,
           2,
           4,
           1,
           1,
           4,
           4,
           2,
           3,
           3,
           0,
           3,
           2,
           1,
           1,
           1,
           2,
           4,
           1,
           1,
           2,
           3,
           1,
           1,
           3,
           1,
           0,
           4,
           3,
           4,
           2,
           1,
           4,
           1,
           2,
           1,
           4,
           1,
           3,
           2,
           2,
           1,
           3,
           4,
           1,
           1,
           1,
           1,
           1,
           1,
           4,
           3,
           2,
           4,
           3,
           1,
           1,
           2,
           1,
           4,
           3,
           3,
           4,
           4,
           4,
           2,
           3,
           4,
           4
          ],
          "coloraxis": "coloraxis",
          "symbol": "circle"
         },
         "mode": "markers",
         "name": "",
         "scene": "scene",
         "showlegend": false,
         "type": "scatter3d",
         "x": [
          2.1276575237105293,
          -0.995481546891373,
          -1.6422528841772783,
          -1.914315113601747,
          -2.0033500915691698,
          0.6026952118113224,
          -1.210264740200369,
          -1.7418764215309768,
          -1.5690573532390164,
          -2.2759062736821605,
          3.7660890796993356,
          -0.4357508422284056,
          -1.5348829272656905,
          -1.7788019034488933,
          -2.0523354268701937,
          1.9853104821514365,
          -1.356186081575676,
          -0.08861215181681643,
          1.9559928667063626,
          -0.5178629157908209,
          1.264181693084723,
          0.013956200560995334,
          -1.9331597826361315,
          -2.700279664856839,
          -0.8911048104143571,
          0.9519634864568989,
          -1.373825268384435,
          -3.0352274751393677,
          2.8720410204134286,
          -0.7848380050477077,
          1.2490728185807465,
          -0.42547488428962416,
          0.34950124443895814,
          2.1315715984280517,
          -1.5544609224555515,
          0.20404953892378266,
          -1.1375812924355584,
          -0.44066089977145395,
          -1.3736461948549203,
          3.013067922499001,
          -1.7329173085362568,
          -0.4062300290692904,
          -0.19711271686170007,
          -2.8935484905033975,
          -1.4744874632544338,
          -0.4176027855676318,
          -0.2206182933271775,
          -0.017305883785593373,
          -1.6327784421183857,
          -0.8168645204930218,
          2.1369403675664547,
          0.8363281595518014,
          3.068026170563314,
          -0.6868925919906773,
          2.0744630414772667,
          -0.6835817445026231,
          -0.41603539247304105,
          -0.04032748784022966,
          -0.7941955294369505,
          0.7152727706028899,
          0.6466929685956438,
          0.018792266999312076,
          -1.9222013860497162,
          -1.186252181441468,
          -1.454993582339779,
          -1.4700099719565942,
          -1.7244427854926838,
          -1.4232620172657675,
          1.1553221291132905,
          -0.3486690678289942,
          3.146458559561956,
          -1.3837182659195781,
          0.11944649001522131,
          -0.6427483339669224,
          -0.18059053274232137,
          -1.308891388007896,
          2.573275126067589,
          -1.904362276348623,
          -1.659102639934906,
          -0.6711550760972641,
          -0.6572607557359262,
          1.7804213905451451,
          3.261700341403354,
          -0.1345698022783477,
          -1.9233944559818879,
          -1.3329672261342524,
          -1.766844738137156,
          0.6836304558170727,
          -0.612175722069311,
          -1.6602336126255675,
          2.2082795504168615,
          -1.5508922458873828,
          0.7245813833907887,
          -0.7051408965905913,
          -1.3051675360873054,
          -0.9145514001420255,
          -2.3640251704052733,
          4.053869879289122,
          -1.6160577726360732,
          -1.1284248505222931,
          -1.40060605781224,
          1.9619063493482478,
          -2.104316945885367,
          -0.46267896790207674,
          0.11577286953059086,
          1.9867191781124796,
          -2.57656700554996,
          -0.5626903295749436,
          -2.4106541096470826,
          1.0695120781047935,
          -1.8843761246390276,
          -1.4689586775310974,
          -0.9729019097484264,
          -0.9012064134169839,
          -2.0899417313463036,
          -0.8462977068760098,
          1.072883080093651,
          -1.8344863071943558,
          -0.4812496150225957,
          -0.9615126666729196,
          -1.8188548316641346,
          -0.34598182799612665,
          1.617166991463041,
          1.2009489898109909,
          -0.9614864874036169,
          -2.304156623444807,
          -1.583754767041895,
          1.1066008421401707,
          -0.9089862937378315,
          -2.1276026852166248,
          -0.1922266000470051,
          1.9170216391797927,
          -0.3421660875436419,
          2.059840644210426,
          -0.633549354203564,
          -2.083267940376536,
          0.6429892945226513,
          -0.7540738026717821,
          1.6282168398006742,
          -1.4767157671601145,
          -1.5772745563580461,
          -0.8360254448512043,
          -0.9626711583846037,
          -0.9851200205775198,
          -2.219980396882259,
          2.4696068193909517,
          1.1479425130800038,
          0.3417468994491818,
          -1.0631986905198807,
          0.424899725535623,
          1.0128773876077763,
          -0.7392517231403228,
          1.2649967716042463,
          0.05694213353381192,
          3.4257454626786483,
          -0.16174672658616313,
          0.19970034454600738,
          1.6362326858276235,
          -2.4229357157655103,
          -1.6542422279710338,
          -0.06296733379016198,
          1.2398165934619398,
          -0.9506177254569589,
          2.0103555261896817,
          -2.0658628998893818,
          3.0731957088597746,
          -1.369556821119403,
          -0.7410289174494672,
          2.2455309729561272,
          3.5642908986060373,
          3.7529432430736165,
          1.4471464944671895,
          -0.07030106620369449,
          2.304207900616784,
          -0.5296166977709441,
          -2.6149660936270296,
          -1.2063485514757932,
          0.6427204672069814,
          0.3279630189518243,
          -1.4995081293683927,
          0.060785998258653356,
          -0.9738458828321457,
          2.3259737829712024,
          -1.1985069461472442,
          -2.04397996557752,
          -1.1093967861816931,
          -1.8934338622147688,
          -0.5662434004083027,
          -1.7595041444156128,
          -1.1221482080388774,
          -1.2026589408158792,
          -0.9273099080779886,
          -2.20046394963024,
          -0.23534347068542533,
          -0.7248072556769241,
          1.1185735769874467,
          1.7092054752540713,
          -1.5152977215885937,
          -1.79884036587075,
          1.7373252074539995,
          1.1984129617206563,
          -1.1370938073718282,
          0.07439904056569359,
          -2.4340892604935345,
          0.06288237267901982,
          -1.6520402540804366,
          -1.8713449475759718,
          -0.7980320288311024,
          -1.2439040177814578,
          2.078789719178031,
          0.08408789698155825,
          -1.5470074687884767,
          -0.879584144408695,
          -2.646041345205323,
          -0.841444860998688,
          0.006401897559787624,
          -0.6625827560610819,
          -0.7631050567234227,
          0.05032318341848467,
          -2.529728341940472,
          0.8599863764829255,
          1.6344339132910253,
          0.28167599753601075,
          0.605884443847113,
          1.6733856610985516,
          -0.1351014681685955,
          -1.6360155280136823,
          0.7248948232078908,
          3.88742614528278,
          -0.8769540810068959,
          0.3329926279983986,
          0.2617132301948722,
          -1.9520541407797947,
          2.561414076781338,
          1.0480662187207148,
          -0.9856049605840908,
          1.6579817364470517,
          -1.6321246539391152,
          -2.7416182436932925,
          -0.5834238065115986,
          -1.7288708405671835,
          0.9373937600470981,
          -0.9213231248025779,
          -0.4185138722250491,
          -1.5748627410587355,
          -1.5346752267311017,
          0.35613350761600066,
          -1.5943072903560653,
          -0.943945707867466,
          -1.0747662889188927,
          0.8701851648047033,
          -1.5845918032819257,
          -2.409437727082573,
          3.353659541533282,
          -1.510955661752982,
          -1.7307934824869686,
          -1.7812419717791246,
          2.3172876186776237,
          -0.9671964602970509,
          1.3411061075110127,
          -1.5027853387945895,
          -0.30671411858230196,
          -1.2906952932053795,
          1.1838002374035355,
          -4.369460642728419,
          -0.3682254089556693,
          1.3833918405309233,
          0.1553569499232072,
          -1.7531705148643906,
          -0.7476802662370109,
          -1.6321972388566972,
          1.2942726880297288,
          3.2832507451336324,
          -0.7337689928157501,
          -1.0754728203497623,
          -0.5147543241516912,
          -1.129012258028236,
          -0.9992462322952284,
          -1.303808733518282,
          -3.0501111079497667,
          -1.142441274484442,
          1.2415189199499275,
          -1.8900699655553341,
          -0.6763930709495918,
          0.9029380639000822,
          -1.7605299269617938,
          -1.8067922498232625,
          -1.8493680349366817,
          2.357930084498262,
          -2.690345027120476,
          -1.6446899963822108,
          -0.43208798707244295,
          -2.3250709904585083,
          1.699194494757003,
          -1.595900787299431,
          -0.3090483576049828,
          -2.421622055992859,
          -0.29931879702294584,
          -1.4304887423927197,
          -0.752441082323438,
          0.6359945645772062,
          -0.8965759270201005,
          -2.5265300864254,
          -1.7386719828360424,
          2.0450302953048753,
          -0.7064616869095357,
          -1.3985379702699834,
          -1.37876556193308,
          3.953213789324259,
          -1.1869107955249643,
          -0.4657248812612768,
          -1.4858971027321433,
          -1.621209169158898,
          -0.437159888061978,
          0.24390967908328132,
          -0.7878425023603147,
          -1.8506168178994924,
          -1.624499868471414,
          -0.36059725899840805,
          1.50430607637327,
          1.625121589027447,
          -1.1390910802246073,
          -1.0520973226290236,
          0.6024288038498403,
          -1.321316497889221,
          -1.7188279514574358,
          -1.5336181541935616,
          -2.133859656942422,
          -0.7332782894414249,
          0.08253221521870022,
          -1.6028005369838694,
          0.9308096913767734,
          -1.9229194570815407,
          1.4609188673260627,
          0.03702709564209834,
          -0.27865837252917586,
          2.865240124737709,
          -1.6876529441258505,
          -0.4721815082694009,
          1.9455162608204934,
          1.6304120819090167,
          -1.1751350304054973,
          1.6845635125290257,
          -0.6530956509707178,
          0.002023193317860543,
          -2.3720960373717928,
          -1.8623789271203517,
          2.651357064569494,
          1.089464385716611,
          -1.9631558192146492,
          0.6352847921085027,
          0.578042307397082,
          1.3529530378551657,
          -1.6450531174605143,
          2.2183739830030476,
          -0.9915976634694409,
          -2.1978225417589043,
          -1.495744041376293,
          0.48263585299666717,
          -1.3511656280500153,
          2.096621501011662,
          -2.47475818173518,
          -1.4428207216205287,
          -1.5457729596780327,
          1.6655770272698143,
          -0.167561409937806,
          -2.148688695060129,
          0.2123520431441051,
          -1.181252724880954,
          -2.343090448476686,
          -1.1566101544207639,
          0.9888052934815919,
          -1.6914041581204187,
          0.4429397658858525,
          -2.4550800622399716,
          -0.9993381305780844,
          0.09578127361826853,
          1.9449310088687275,
          -1.3950574684136763,
          -0.3614605038494443,
          -1.6051084685221262,
          -1.0162358777376992,
          1.1554803472863941,
          2.9517518979473167,
          1.1006774654234721,
          -0.007039120129977323,
          -1.1609787920008372,
          -1.0103391544869316,
          0.5724807126961339,
          -1.1042924304708597,
          -1.5074795962830145,
          0.15994256425676334,
          -1.0966072682895238,
          -0.5597046129138646,
          -0.7120418353154098,
          3.785002005768542,
          -1.393202219876318,
          -2.014614705809835,
          -0.40523727108364044,
          -1.1641925265539839,
          2.489856056336131,
          -2.090720735863675,
          -1.9240979886394232,
          0.3892915002779275,
          -0.9447836463524181,
          -0.8363912825579704,
          0.6092223551209088,
          3.168786051288972,
          -0.2563938020582307,
          0.2634283571724121,
          -0.9981787181149564,
          -1.433986877260064,
          -1.1561335336742409,
          0.062051556631756245,
          -1.3538044791523625,
          -1.8581449212642134,
          -0.268186502571678,
          0.92691467571563,
          0.8429890868501382,
          -1.6595801727032973,
          -0.9556921483692066,
          -0.8162294302830665,
          -1.552866437730946,
          -1.0609940695281306,
          -2.614391521731904,
          -0.003961218599584239,
          0.5791783222034317,
          0.8573076577329802,
          -0.27003184929262486,
          -2.164505500877961,
          -0.061967533443639734,
          3.205262793597214,
          -0.9791515681944325,
          1.8275718456982208,
          -1.2662800473298537,
          -1.3280836734040526,
          -1.1567694864723104,
          -0.31926860884676095,
          -0.08802701328581958,
          -0.6087062012324255,
          1.814821574615379,
          0.10670169784070684,
          0.3894993393916733,
          -0.8873130007513191,
          1.7041259272989173,
          -0.5645491389248044,
          -1.1469629244396233,
          3.5497079003264735,
          -1.5624126512204115,
          -2.003321240230546,
          -1.5095817747093925,
          2.0755422422123857,
          -0.27744683529494846,
          -0.5891561029506717,
          -2.1418940585105717,
          1.1725664610582773,
          -0.6038425708679837,
          0.3038027655231772,
          1.3254571617053719,
          -0.5583018262733278,
          0.6775481148110326,
          -1.842620016970421,
          1.0062672312910526,
          2.043743342365649,
          -1.675829217880569,
          -3.3634495300354015,
          -2.9906466715980615,
          1.5411546275563581,
          -1.7035559543690186,
          -0.3733766708046936,
          2.2259558808932134,
          -0.6598906431478958,
          -0.8192878847345535,
          -0.8591226606716814,
          -1.3928729742084525,
          1.5438989315962404,
          2.335391798988201,
          -0.3710520754003362,
          1.4057042790414311,
          1.2259414886179867,
          -1.5058474060029805,
          1.770067427427886,
          -1.0346890769678425,
          2.5864415082928067,
          -0.8759982924995646,
          2.203760495963631,
          -0.21142027521963955,
          -0.9380280333648571,
          -1.2106927059137143,
          -0.9638575599791251,
          3.1860956659717115,
          3.821112253277291,
          0.8637281849354504,
          0.7394769893913605,
          0.15323844874047016,
          -1.14382592045404,
          -2.813618853139056,
          -0.37286339245565175,
          0.9944858760244664,
          -2.454283877776028,
          1.4979879839619359,
          2.225371847639067,
          -0.8901362463391688,
          -1.6186012934480964,
          0.27669957267249706,
          2.1529835312140384,
          1.9389023126596694,
          -1.164104948038383,
          0.7711139255353766,
          -1.3987561620964815,
          -1.161733607063878,
          0.1598985125734646,
          1.4878259326997745,
          -1.391090862157146,
          2.3045372673536058,
          2.4633759891721936,
          -1.042190244310704,
          -2.284454539942357,
          -0.9815025532218019,
          -0.5093649646776746,
          1.9397893716230201,
          -2.0048447342781044,
          -1.5523699938194295,
          -0.7589891805091047,
          0.2213659744214745,
          1.4918022649532388,
          -1.3638412988878015,
          3.91020083652604,
          -0.9962680563363583,
          2.1309082233984125,
          -2.653737415567264,
          -0.6530963564805042,
          -1.013621302045904,
          0.5533599534537784,
          -1.2827820739207076,
          1.998987052878279,
          -1.1493457261046758,
          -1.3578170750796192,
          2.0892955187627797,
          -1.7995189855882199,
          1.5668023249017597,
          -1.3421430562078116,
          -1.1193820807551518,
          -1.2022485161265444,
          0.9729347357267464,
          1.202507066386428,
          -2.2720629118512607,
          -0.014114079507602746,
          -0.45509372232421674,
          0.153020412278642,
          -1.1721640091614578,
          -1.1148811515449115,
          -2.014553382324242,
          -2.0921366736399696,
          -2.2429139421680535,
          -1.835347761826485,
          2.735949718749426,
          0.38855643169345194,
          -2.1061705106142234,
          -1.9139674183766637,
          -0.6342526335888287,
          0.03542344132913004,
          -0.2907950367215149,
          -1.3960789595917282,
          -1.1434803471062813,
          0.05777500545659562,
          -0.13700197975068415,
          0.7610287370866623,
          1.5665476815657116,
          -1.2202940080632039,
          -1.6980610382110382,
          2.2493047910175545,
          -2.7879199297404247,
          1.1543636712669643,
          -1.0007256891470788,
          0.2453491374709645,
          -0.07069823515377793,
          1.5729321865911337,
          -1.4806744759410424,
          -0.9419342649495234,
          -2.088728801269978,
          -0.6820389113353469,
          -1.4189241577708624,
          -2.2219983548975777,
          1.616532636884152,
          -1.5350354627364091,
          1.3566876576087088,
          0.31135979217593845,
          -0.7220150796824063,
          -2.5547945232067417,
          -2.182759692795455,
          1.3843875753893737,
          -2.925376977451931,
          1.0894856054216413,
          -1.1577492356145742,
          -1.2955393507688708,
          0.8949776279293501,
          -1.2660003039017604,
          -1.2951613349105866,
          -1.5841824798730364,
          -2.131095855553171,
          2.4061642902005205,
          -1.5826520369586417,
          2.0252664691922053,
          2.116203344477499,
          2.240127489677924,
          -1.9700848806913809,
          -0.1377828159397646,
          2.7511086456135123,
          -1.6134574905126575,
          -0.1483326195684778,
          -1.6065710742044423,
          -1.962536226275864,
          2.236237067587228,
          1.6615362075704483,
          -1.7883789744075218,
          1.1252708793582749,
          -1.948358105636933,
          -0.0040455390214858295,
          -2.0171523936635967,
          1.2452278693570675,
          2.4460256130430333,
          -0.4962185830542766,
          -2.0769469043169337,
          -0.34463698968657996,
          0.9840715483619635,
          -1.510429854352188,
          0.15350790193241928,
          1.3198874747889584,
          -0.192671933581767,
          1.670925066814519,
          -1.6168606005685733,
          1.3052860963603337,
          -1.340835406513414,
          -1.2027756363014057,
          -1.3649732389877853,
          -1.7965352135772517,
          -1.0229600905985818,
          -0.7702400848497825,
          -0.23878820237353082,
          -0.05491900020927427,
          -0.9161662143032004,
          -1.0338889853587727,
          -2.136013191312015,
          -0.1722931017645716,
          -0.76752876516558,
          1.4090691275235845,
          1.4047926985843453,
          1.9509422588109493,
          -1.1884265008248132,
          0.3641792461069413,
          0.43393255601864855,
          -0.7342192048115471,
          0.171444140056987,
          -1.116142051094856,
          -1.995305988457873,
          1.403823718870616,
          -1.0813529967454616,
          1.7585148583158539,
          -0.7698231220165114,
          2.0468543926999905,
          -1.219347206666325,
          3.5773656193016112,
          0.27275330932255654,
          -0.07638364017453093,
          0.12050037788800415,
          -0.8595699536896286,
          -1.3664341627623184,
          -0.12656238809424614,
          -2.279217225944992,
          0.8400712228002809,
          -1.3625972736198497,
          1.3937856299050457,
          -0.11526851609234326,
          2.3691805111802444,
          0.016391481191091562,
          0.7306364306965725,
          0.35712541869220243,
          -0.18522226943795642,
          2.9330373275322232,
          3.1080187434460647,
          -1.204473743415336,
          -1.7757088870054012,
          0.39145232397841484,
          -2.4760549964974294,
          -1.3522649455514655,
          -0.26402481371562936,
          -1.5184043284815874,
          -2.475395155549499,
          -1.834114559285894,
          3.0934733665614242,
          -1.6966865498045116,
          -0.4451794142486901,
          -0.05089770698359191,
          0.14751191105488765,
          -0.03080807201085601,
          -1.35988423609115,
          -2.210219009673902,
          0.16957215801854608,
          -1.7762022523930647,
          -1.6458549227575987,
          2.9060454485018723,
          1.9742180622098244,
          -1.2100326617354362,
          -3.1052616629016145,
          -0.6604681387104384,
          -1.5371097847968398,
          0.5430374859065673,
          1.2913488296995468,
          -2.52422303387027,
          -0.6735849902222053,
          2.6196801395314,
          -2.3810442711712567,
          1.197103739379486,
          -2.4977269124086945,
          -1.6140520391636393,
          2.264632637356842,
          1.3585461342557341,
          -0.8143315450255433,
          1.5747663774784644,
          2.533252971260742,
          -0.1891138934819883,
          -0.7754926717446831,
          -0.6793631182277906,
          -1.748425267758985,
          -1.3392789515474355,
          0.6701137667776306,
          -0.9293795563950995,
          0.22593347704068148,
          -0.13543295361211652,
          -1.9212162191237385,
          2.407203254038915,
          0.894975749077791,
          -2.400074645071128,
          0.022590894482924093,
          0.4442699554869118,
          0.4051517422932609,
          -0.3430393702820397,
          -0.1017329427021709,
          -0.25188894535041395,
          -0.6168864599805509,
          0.4174090519660841,
          -0.9658688762942979,
          -0.25340710024238383,
          0.7577453969804532,
          -1.922557586816271,
          -0.6852965838948659,
          -1.432394551261414,
          -1.1818045810372677,
          0.9147621561090556,
          -0.3485882381004989,
          1.092992385791834,
          -2.121001771172763,
          1.8167143943755615,
          2.8092066242777407,
          -0.7188285413054831,
          -0.15475680344518067,
          -0.47889553276617713,
          0.2181478180268313,
          0.1343637611746522,
          -0.39068281277963707,
          -0.4916749555700891,
          0.020094154793752553,
          -2.995444646476845,
          0.3808579503208287,
          -2.2526246159674974,
          -0.2887123497987691,
          -1.1032417369046599,
          1.1940227585697873,
          2.7978516141371226,
          -1.4238242522491626,
          -0.4515676742715834,
          -0.6676113531774543,
          -0.3235413144752898,
          -2.651006996411737,
          -1.133464847084512,
          -0.5733775337506951,
          -1.2220657817466976,
          1.7410671476255355,
          2.770002951306819,
          0.3721293915859108,
          -1.0926302187750678,
          2.26734621974057,
          -1.1616016455271212,
          -0.9231183150078794,
          -1.0671503452538498,
          -1.091681677502344,
          1.0426818747726796,
          -0.6741045660427941,
          0.9413739817029544,
          -1.0648142142788302,
          -1.3399685644892125,
          -1.2010071079008187,
          -0.23462747477030088,
          -0.39634415975327003,
          -0.193094493506924,
          -0.03144290242873202,
          -2.5617433387582205,
          2.265748324032335,
          0.9178731666073201,
          1.1771925212408085,
          3.672224662872501,
          -0.3007104807960948,
          -0.2540113963708218,
          2.1144684085323333,
          1.6067753698775358,
          0.8516521663195182,
          2.3842418714145737,
          2.7218183147950583,
          -1.4197111634028856,
          -1.397927561846605,
          2.753690041834805,
          1.8851815640481384,
          2.110957641724504,
          1.6342720829066202,
          0.227956781297956,
          3.6185844148709845,
          0.43425686881624304,
          -2.0458662521565025,
          0.9611843539593138,
          0.3169077908145345,
          1.855648859974707,
          0.0237606603861794,
          -0.7444851933801492,
          -0.6263030835779688,
          0.08807465097164252,
          -1.4840821668868251,
          1.9410655132246446,
          -1.4441306996437295,
          -1.6179050235716281,
          3.4417861816709383,
          1.3558405113446619,
          0.14500884075961012,
          0.36396255164996255,
          2.9454366281997815,
          -2.0286930761328072,
          2.151762184914925,
          -1.9071523753044965,
          0.1345858137161924,
          2.485501051057213,
          2.9907634659486253,
          -0.18764873878329053,
          2.733157335884941,
          3.9871452604089628,
          0.6756119909962988,
          0.20184133900116813,
          2.4613803233383593,
          1.5680492075944397,
          0.921016840896974,
          1.559580890424895,
          -0.8959307301210696,
          -1.924473092295255,
          1.0832892663525822,
          1.2423870032087134,
          1.2980824822463184,
          2.0826114619087557,
          -0.7328958056787294,
          0.9694572254949302,
          0.21490016224322844,
          -2.3783501540747713,
          2.0984800847078438,
          0.6917675278150391,
          -0.1755544045731288,
          1.6459818997080846,
          0.7750469024952782,
          -1.3796018593360557,
          2.253585761853785,
          1.298156585815438,
          1.5495489072304844,
          -0.5935758569832489,
          0.5911648853148632,
          -1.1642440408743797,
          1.709246899119909,
          1.0401870617211924,
          -1.370006173705971,
          -1.8907172671932753,
          -0.8554040294616154,
          1.2415797459877356,
          4.772896025738376,
          0.17005408837999886,
          -0.8249642152500196,
          -0.16756188447355125,
          -0.6323161794115203,
          2.714018851757602,
          0.5349248741779918,
          -0.27209946257867407,
          0.4718442242702035,
          -0.38336394457980094,
          1.2358129507422129,
          1.9731828768886095,
          0.7827497989069465,
          -1.3058921668559436,
          2.8414545615874687,
          2.27821995844878,
          -0.03395907216050816,
          -0.8151650498805233,
          -0.2711116717748495,
          0.009727055297018125,
          -0.2280428251854126,
          1.7263546548161772,
          -0.28346373043580636,
          0.32285748563531064,
          3.311195777069452,
          1.5037313775395742,
          1.1598684550626135,
          -0.5736394133169695,
          0.5872667291050326,
          2.212433675556394,
          -1.1218667309146273,
          0.01670879687649257,
          -0.6591833735960492,
          -0.15030097151640534,
          0.6454131533725438,
          3.8169221157013657,
          1.3480351125138645,
          1.3794352932878717,
          -0.7729834918639078,
          -0.9355652615535499,
          1.9867362505713402,
          3.3263425156675877,
          -1.2120775782175055,
          2.546332548512693,
          3.5417740887414992,
          0.5614170829574245,
          -0.4596355888817736,
          3.0214074787942553,
          1.0754881218873005,
          1.366248919879876,
          -1.3384561442824945,
          0.6387626338015416,
          1.0168290965842404,
          0.05315740271513005,
          0.31019045716679244,
          -1.8834256125862876,
          1.4288559614295364,
          -0.26860149638834663,
          -1.191860117176701,
          0.46456563441585014,
          1.3631610261199392,
          -0.5938713001768192,
          2.387051430603595,
          0.2897181894521764,
          -0.5805335206621611,
          -0.30903295174731404,
          -1.5573078387788066,
          2.3071546823921825,
          1.1726661598013943,
          3.423046416925641,
          1.6494031426883897,
          0.3917931209584696,
          1.3494345225219,
          1.9187278691799763,
          3.4028556151251688,
          0.1516488411347191,
          0.7133536349074486,
          -0.965231514622097,
          1.825793742671618,
          3.4244992650100112,
          -0.361937002244327,
          0.45039829262353526,
          1.303598593029486,
          2.501998405594396,
          2.953164971019453,
          1.118930840265696,
          3.42802015554775,
          3.00633219900235,
          -2.0947641711440173,
          0.903881138474368,
          -0.4262745134567721,
          -0.7315892674562726,
          -1.4461287360656292,
          3.957521533850573,
          -0.31382289408109587,
          2.3189354464702685,
          0.08383463998950137,
          -0.8755425503007774,
          -0.9880763044585719,
          0.608919207879066,
          1.4543483875354126,
          -0.6090535539668638,
          1.47961193698592,
          0.15607056201466302,
          1.5677971088072191,
          0.722360815066196,
          0.7836900743777676,
          0.8187197374674179,
          3.8626136226312866,
          -1.6174326357315367,
          0.8609354178950829,
          -0.5619373330159714,
          -0.23031010056992696,
          2.903155043812721,
          0.5914665243897164,
          -0.033971107384203475,
          -1.9942511968360488,
          -0.6555306599132893,
          2.383614429900747,
          -2.1095828919902777,
          3.438758853791835,
          -0.5019634695622401,
          -0.42560855937144954,
          -1.0874299526886801,
          1.6818100237096214,
          -1.6578981346915018,
          -0.16034824242648635,
          -1.0497493837886722,
          0.4554175320744053,
          0.016527781018274797,
          0.3271555467093774,
          -0.8417978803989496,
          1.0787536306630912,
          -1.4948990528913917,
          1.881264593038307,
          -1.6459828113652695,
          1.4671672373778715,
          -0.8327340596763481,
          -1.5953280378135422,
          -1.4598865564131502,
          2.7624875053841222,
          -0.35907922591584923,
          0.30747577165261514,
          -0.78078215633043,
          -3.1246751861875404,
          0.22075737142627982,
          -0.23769406605391757,
          1.2899432954205121,
          -2.1506690693620003,
          -0.740915789951157,
          2.2827296572162297,
          1.7422930743772977,
          -1.0139992137931273,
          -1.199313676418433,
          -2.427404008502336,
          1.4373892678958944,
          1.6675821130281885,
          -1.5814053888886186,
          0.3041598589960401,
          -0.7932656929719117,
          -0.7850994784921654,
          1.4354240053451515,
          2.2857927726238967,
          0.00969478355597876,
          1.5330424500516446,
          -0.4502966600727832,
          0.000863726497412166,
          1.6049444869442262,
          2.6297840978687095,
          -1.7253025142807823,
          -0.6187069388308788,
          0.9088852085016259,
          -1.2609057873102556,
          -0.6599807203267124,
          3.407221691625129,
          -1.0892847379542208,
          -1.4890530274248943,
          -0.6761969553784961,
          -1.9084359309562064,
          1.2908902037251917,
          -1.2750519317956555,
          -1.2775682022187334,
          -1.4247281084321481,
          -0.46264713267430807,
          -0.5908273402633268,
          0.6972528895217174,
          0.029250562187364538,
          -0.349180268040992,
          -1.9381765344247297,
          0.4333670009916298,
          0.1874538000240577,
          -0.32359610013055484,
          1.1134789963812024,
          -1.0369017467507022,
          -1.5974008363070293,
          0.19120414622527146,
          0.3031199209296383,
          -1.455959209461014,
          -0.6199981118611487,
          -0.8722234999965696,
          0.9004459469460867,
          -1.624703864506787,
          -1.0620067660675332,
          -2.275562923799131,
          -2.440208699056776,
          2.5771460914554236,
          1.027020574271207,
          0.2060516060878061,
          -2.5806978818047823,
          -0.5712340927903757,
          3.2809295345151126,
          -1.5637737698157412,
          1.2209293192592943,
          0.48405119988479267,
          -0.528292283501281,
          -1.1307183422703497,
          -0.9269091463581631,
          -0.6185777612959653,
          -1.1499849820862245,
          1.817324086404821,
          -1.374919853993871,
          -1.6520903601109078,
          -1.2986502655419188,
          -1.29758906578048,
          0.305825696621862,
          -1.3462612700330847,
          -1.7470041523344169,
          -0.30494350642966694,
          -1.9671375499371775,
          2.227594784431965,
          -2.0928284073300962,
          -0.4916305036083041,
          4.5438658192561485,
          -0.13542140882376644,
          1.4837110021992093,
          -1.9735855077767457,
          0.6485445278211139,
          2.8159472142033906,
          -0.8837272355087559,
          -2.0484071423793813,
          -0.36430759815659197,
          -1.9337969338970675,
          1.8965023833021206,
          -2.528953477340269,
          1.0537655108575024,
          -2.277736331504056,
          0.07662343179027983,
          3.398808341472344,
          0.25999896843582004,
          -0.4061830783490458,
          1.6538884585059384,
          -1.5352700450358174,
          -1.9356353360904874,
          -1.8510204956705294,
          3.1195772507639976,
          -0.15782068814566688,
          -2.0431071289693965,
          -1.7025008051995123,
          -1.6926357192479127,
          0.4436810867331428,
          0.9414181813994796,
          -1.8390780976763665,
          -0.4561067046948786,
          -0.6339026897236326,
          0.40911402813184994,
          -1.520411962751024,
          -1.237551602634087,
          -0.8241107478989325,
          -1.14260863133783,
          -0.368002784066272,
          -0.09992803362029193,
          -0.5132760876552767,
          -0.37727432781761083,
          -2.110501275718403,
          0.1031740235820017,
          0.3738668292156675,
          -0.24639969833325304,
          -1.6359726508062966,
          -1.9063700998743054,
          -1.464364641737475,
          0.32892435456033126,
          1.2267724841840737,
          -1.7557167467884176,
          -0.17701656825312279,
          -1.322689108152726,
          -1.2996594708119198,
          -1.799942399424721,
          -2.1238399216828503,
          2.1105336428880226,
          0.27656648050448723,
          -0.11197990424607619,
          1.8239885435093164,
          -0.9448207406779602,
          2.9017839666393828,
          -1.2961319426863112,
          -1.054771322799345,
          -1.9432456271142602,
          -0.8424551238116047,
          0.7642415538626461,
          -0.8031613421822605,
          1.8413606419837811,
          -1.5722588282605565,
          -2.378949060589779,
          -2.0466975977969155,
          0.33810335864429497,
          1.1000812193623777,
          -1.1164607278804355,
          -1.7724206424667672,
          -1.8310175220250156,
          -0.4259010742576682,
          -0.7312788647119328,
          2.409352265784789,
          2.160755742730128,
          -0.5813772934017872,
          0.262433472473301,
          1.0963821494114596,
          -0.28534639724735206,
          -2.6987369586835444,
          1.104484732614231,
          -1.70381995183816,
          0.13380518144021933,
          3.200962633440459,
          -0.436990500924258,
          -1.5825594733126387,
          -0.2977877562398265,
          1.4606956467340262,
          1.3584811570104238,
          0.3034197520525073,
          -0.34745031544221094,
          2.703216557690605,
          4.193808522800383,
          -2.3708436093678067,
          -1.6841768505106565,
          -1.3386178296763804,
          1.0730592293504475,
          0.4017048708823041,
          1.317789501522349,
          -0.5659892029206675,
          -0.3359988747068646,
          -1.5337953270774087,
          0.6898892475567601,
          3.084809313120047,
          -0.043650443883916576,
          0.9057953513995524,
          -1.9200562731398303,
          -2.14545522407054,
          0.1528662776112347,
          3.0169581731991335,
          -0.8592572205898986,
          1.0060557176727152,
          0.5600336492453404,
          -0.38586663458397497,
          -2.374065270990351,
          -2.3682707567594408,
          -2.9297355475687836,
          -0.016150281643788032,
          -0.6099699698766239,
          2.52429002099455,
          -1.2386725297492414,
          0.24034586332088917,
          -0.7520570770740372,
          -0.4216856020598382,
          -1.3658693831850892,
          -2.091552861619196,
          -1.4705239423270897,
          -1.0848104305268598,
          -1.939441844392335,
          -1.2583795014474084,
          -0.7653043457422608,
          -1.9309619722346598,
          0.6986003366429945,
          2.726649798251155,
          -0.3131269608542342,
          -2.7237183614350897,
          0.31873028895139344,
          0.6722560789881604,
          -1.108892226669197,
          -0.29220034707930015,
          5.507589306145193,
          -1.6290088935262048,
          -1.8701676613058063,
          -1.2839301029548544,
          -1.6626082942202391,
          -1.3424876504850058,
          4.209876693600224,
          -1.2978207064350742,
          -2.00791555443677,
          -1.7224479052080406,
          0.8947630357971397,
          -1.2810423691148813,
          2.488666647867636,
          -1.8293784831943678,
          -0.5211568622893772,
          -0.3000967275418019,
          -0.02793081071735237,
          1.0689876485574874,
          -1.4082443579877777,
          -1.1080096165229576,
          -1.8163632289565432,
          0.8241489393198456,
          -2.796707748494498,
          0.7393843330773554,
          -1.747437879118314,
          -0.006095985448462047,
          1.4081671509833333,
          -1.464581044368431,
          3.0467644808940855,
          0.3161447366518248,
          0.32909226421120674,
          -2.5667160209530286,
          1.5856943157920949,
          -2.071511142710051,
          -2.4914278373134726,
          -1.4203324922354381,
          -0.18560461504563247,
          -0.5507159839556851,
          -1.0724936452222127,
          1.1613102771500956,
          -1.8800686990538524,
          -0.0745611121218359,
          3.327403993139091,
          -1.5840558315637507,
          2.819439911495409,
          -1.0444176744965394,
          4.211641947391199,
          1.0794229629262202,
          -0.11882989336896219,
          0.39085037173945875,
          -1.9369368665246571,
          -0.6232096689832406,
          -2.0922673141272217,
          -2.303563115923986,
          1.959725686332831,
          0.1809806769663203,
          -1.013172973534724,
          1.2293854935992259,
          -1.7209860449165857,
          -1.7966358233029727,
          0.6732560656650848,
          -1.819947203132514,
          0.6396271459972257,
          1.6258080847702625,
          2.0389174152564293,
          0.28807849976968825,
          -0.7146799305523639,
          -0.2428845094924145,
          -0.6356688694050013,
          2.8700853450609207,
          -0.6683960640125707,
          -0.6979451654322459,
          1.9890087688980504,
          -1.077706534218915,
          4.444226004700192,
          -1.4588928738461102,
          0.2601063411167584,
          1.2042956771846705,
          -0.7840118571613062,
          0.49123977339242086,
          2.3849556675193697,
          -1.6150175775575826,
          -1.0520266440846133,
          4.325744501011277,
          1.537149195651855,
          -1.445512059686027,
          -0.44402265098149846,
          -0.6301388236803473,
          -1.0678869308280312,
          -1.5589477754061025,
          -2.099832418311515,
          -0.4408834464371669,
          2.646962187295546,
          4.991745264361798,
          -1.7957015486810277,
          -0.8667009069374121,
          2.545174670505532,
          2.768907511410395,
          -1.5954226861734977,
          1.2964600389514387,
          -2.001572657064934,
          -1.547318004661568,
          -1.7575820876792678,
          -2.541038685644727,
          2.143929214745141,
          -2.067992555920219,
          -0.13406997540005544,
          -0.6822412418684913,
          0.26964164325090245,
          -0.25672359660607125,
          2.501687714536091,
          -0.7486338746980817,
          3.378247388505978,
          -1.9766713638947113,
          4.433105675272269,
          -0.5272094646090435,
          -1.8314983455204648,
          1.6989598681314304,
          -0.7220517275746072,
          -2.1946617016557557,
          0.6744447750463618,
          -0.8117280434794458,
          1.9936812635031975,
          -0.1664205059568802,
          -0.6524547723215536,
          -1.514363652505519,
          3.2366332952156456,
          1.828910750382101,
          -1.887317536018478,
          -1.678113799887656,
          2.3261136597007575,
          -1.8297782784862007,
          1.0148985980785596,
          -0.2727620110073353,
          -1.0518679515018865,
          -1.4175832335380845,
          4.396190266311063,
          1.6695256601732469,
          1.9206364873431219,
          -1.9146874267385665,
          0.3083398224283199,
          -2.434700145880249,
          2.3625379627789505,
          -0.035677296910794284,
          -1.191104500821289,
          1.892472144179419,
          -1.4085492547910523,
          1.6638226458621586,
          -0.7205931514441823,
          -0.3870689027333532,
          4.677383739653714,
          -0.6787068598758551,
          1.835305394913595,
          -1.5709026987888453,
          3.8048608307836127,
          -1.5010370007880174,
          1.7717418875615425,
          4.06522964295652,
          -2.542755406083198,
          -1.6359421931400433,
          -2.0289982083291545,
          -0.04944746762362174,
          0.5630949578020034,
          -0.6892278591526431,
          -0.745424527892535,
          -1.6776903248710577,
          -1.026617388731834,
          -0.8330271503491903,
          -0.22531108208827996,
          0.6759477437271584,
          -1.7348256716482422,
          -0.7826372986213079,
          -1.389623483294169,
          -1.42483619849723,
          -0.26438409456294726,
          1.552848065370824,
          -0.4509458342440781,
          2.0127838425203994,
          0.5114893926577292,
          1.31972704987693,
          0.25478842162432364,
          -2.260784325745599,
          -0.27816278961413604,
          -0.3007726204352541,
          0.8129773650443822,
          -0.7008182669593239,
          -1.0350733771983758,
          -0.5407795227155169,
          0.7262096258169672,
          3.203710157225556,
          2.06922172592868,
          -0.5718679080053529,
          -0.9418713105236767,
          1.1838961071901086,
          2.3824089348753286,
          -0.3121643252462405,
          0.262410999200489,
          1.9123333278056998,
          1.4321133281537473,
          0.46679183954003234,
          -0.8819003564609142,
          -0.7359566504241452,
          -1.5412653354828028,
          1.3200484292156331,
          2.5004277282984027,
          -0.901440660391448,
          -0.6188641802732764,
          0.5556730308455721,
          0.4031684905069622,
          -1.6561136126406573,
          -1.163394489118925,
          -0.9789205009879529,
          -0.8819100182937462,
          0.3760135556980087,
          1.1288598536465206,
          -0.0207055589682026,
          -0.9295701008778936,
          -1.2679188382450939,
          2.668137849214098,
          2.2226909896933478,
          -0.7549278838378544,
          0.1643451930032601,
          -0.3644299713073224,
          -0.3802745446651523,
          -0.41415178959470894,
          1.4317144444163563,
          0.7731019110230013,
          -0.16352814689787817,
          -1.4081246437502524,
          0.6129833226089731,
          -2.7726166082633505,
          -1.216433881183673,
          1.7869728096794415,
          -2.181436919708146,
          -1.179075016099055,
          0.25856409730849267,
          -0.5081188248375009,
          -1.2142569854747958,
          0.06177096743298027,
          -2.2616270483763072,
          -1.3761533864870865,
          2.004269429352172,
          -1.3961542296519212,
          1.7014803511719971,
          0.7489263406157783,
          0.0057783409171385264,
          -0.19068577283798435,
          -0.37332961478874793,
          0.4109748628977086,
          -0.5057651865969832,
          2.3621067880705717,
          -1.7068174682684654,
          -0.06974218924798285,
          2.7020207985524483,
          -0.3538990043904727,
          3.3660064388673026,
          -0.1356389933058928,
          -0.8756519384323185,
          -2.2489656796299933,
          0.4078304873771247,
          0.9589953623524383,
          0.4525724372902652,
          0.8897347517231731,
          -2.0984585384187175,
          0.20198453313719406,
          -1.1044421480055753,
          -1.2530719765620937,
          2.404750660889486,
          0.9408226271285755,
          -1.6205821095747757,
          0.7327644904263926,
          -1.9509575461640907,
          -1.406332306664695,
          -0.685848724475056,
          0.3243163777623894,
          -0.8634441699925465,
          0.005523083490488886,
          0.5739913237626096,
          -1.201018469420344,
          0.4106469909429342,
          -0.058962415649558564,
          -1.1447705348923,
          -1.0374231203234623,
          -1.3351164426911315,
          -0.30853812626594646,
          0.0819076794926927,
          1.1481948281578946,
          -0.4844743651383022,
          -0.9064371345609852,
          1.3011056318770762,
          -2.3305397429483468,
          2.371262416946963,
          -1.7159332180153588,
          3.011804991920209,
          0.8289010428607113,
          -1.1741143744362617,
          -0.3814977953219912,
          -1.8107025590963697,
          -0.10758603302712548,
          -2.1818693702770604,
          -1.6441474167579637,
          -0.40358319424485795,
          -0.17576505125583203,
          0.38773368092591937,
          -0.5684778498121318,
          0.03882388114170329,
          3.6248745429761517,
          -0.9769852113854057,
          -1.084416534394546,
          -1.1665057218641577,
          0.25104574278435005,
          -2.760168408986328,
          -0.852454065323851,
          -0.008592012600420206,
          2.14338619640592,
          -0.9269403696437742,
          0.5001771027230517,
          3.5705837164186747,
          1.5739565880324302,
          3.001515104596954,
          -0.8819053976107946,
          -0.5117303196620591,
          -1.0202943001628204,
          -0.5296052400268518,
          -1.5555026915012693,
          0.059587313567360196,
          0.45438444906107184,
          -1.7316011251982755,
          0.5275276188464156,
          1.583611746241447,
          1.0775820271935355,
          -1.8929194237381923,
          2.0080614254754665,
          -2.1401851415541278,
          0.36680481115541824,
          1.0242331561893074,
          -2.0330238532328826,
          -1.4092475721336684,
          0.7111601065324145,
          1.3599808307888346,
          0.12883913571922798,
          0.35828621619142254,
          1.1134152997047142,
          -0.2881259745834753,
          -2.2304305101434174,
          0.9045996408135663,
          0.8558284610118934,
          0.2226674232598193,
          1.4580065366984525,
          -1.0047084309725243,
          1.6158649222199104,
          0.231880639672397,
          0.3047521281456295,
          1.9699092662651472,
          -0.5720200636948118,
          -0.23981594617992305,
          0.7800902490929879,
          -1.4734576511370343,
          0.021584365669074283,
          -0.8706130161346196,
          -0.3833354843506671,
          2.4291702909273054,
          1.779238389894593,
          -0.46358860879502894,
          -1.068345460225981,
          -0.12745503509278294,
          -1.865800788822696,
          0.9490671307125264,
          1.0769595324845695,
          -0.013301078031020727,
          1.0261837208046882,
          0.37512259174822393,
          -1.0339267778090946,
          0.3904670606422093,
          -0.08185544135404267,
          3.450651860414065,
          2.6885655104217605,
          0.8304840337685994,
          -0.7122943144729411,
          -0.08908929828178656,
          -2.2863167071175425,
          0.6544091667083402,
          1.463835741870832,
          0.9107623827638824,
          -0.37017153981782847,
          -0.15285052803861127,
          -0.4083561232026262,
          -1.7494431988379266,
          -1.1611906811705481,
          0.8647847434447872,
          -1.4353779041118702,
          1.1426352826250723,
          -1.531520067465335,
          -2.1516054678557013,
          -0.31742618908086573,
          0.23696784258518808,
          -1.4119401854768365,
          1.570965464138862,
          -1.3502507139148516,
          -0.003963389517738006,
          -1.6322790418378879,
          -1.564850868930224,
          1.2809299781607733,
          1.1503772232592278,
          1.3889983097380243,
          -0.6034376793287813,
          2.529300715812568,
          -2.305342913818046,
          2.20118251169475,
          0.9511017271907024,
          0.5391219009745961,
          -2.3563867358250032,
          0.062230146927570895,
          2.199820163890463,
          0.4174171133270083,
          -1.0160906673077246,
          -1.2838750451834007,
          0.10645360942485022,
          2.0861683046099477,
          -0.4184459101924491,
          0.9139199267019772,
          2.2019430762776726,
          1.7406468338532592,
          -1.7721388312098247,
          0.2756665964245517,
          -1.4679615448144965,
          2.3716822306066816,
          -0.1343818854634464,
          2.2963447649477677,
          -0.2700941635222779,
          3.7542234134117574,
          2.594534007946664,
          0.003942510231808107,
          -0.6262314486067921,
          0.6778922426419796,
          -1.6168747001655681,
          1.1895100360834618,
          -1.2841393636218148,
          2.6446569680917387,
          1.0438018148145678,
          -0.03819392814743947,
          1.1598281708744724,
          -2.144644819776799,
          -1.5688511886641678,
          -0.0522621543967045,
          1.4255100758117407,
          0.8508537602195253,
          1.1864058021570227,
          1.7902696055341338,
          1.7067949466549157,
          -2.158244518683158,
          0.30716635126024533,
          0.7547733921953759,
          2.11351678438245,
          -0.575550716400942,
          -2.2878482309324526,
          -0.13102942795081643,
          2.1478562869079987,
          -1.8950982095021427,
          0.763257508520242,
          -0.649042133032967,
          -1.6533693285963273,
          -1.6522252804976343,
          3.5907323404957587,
          -2.1513765431744956,
          1.5808391869730007,
          0.6431479107149823,
          -1.3404639107763339,
          -1.7155132104650526,
          -0.7036157637074711,
          2.1897644707908603,
          4.073088207158342,
          -0.7315352947524899,
          2.058384787612532,
          1.2837735831864083,
          -1.957265773333364,
          -1.3167843887083168,
          -2.2410250294352654,
          0.612273349042943,
          0.17701690747717885,
          2.099619109807436,
          1.6389830095306748,
          0.09449611916922934,
          -0.45153477346842263,
          -0.25758524810888955,
          2.9056667122061928,
          -1.8852222333621773,
          -1.428307121019193,
          -1.959503648957554,
          0.30449557359738266,
          2.4099019058963,
          2.593430349969735,
          -2.0489842985208293,
          2.9043245943228744,
          0.24136992507879482,
          0.8871546548098252,
          -3.075254255949887,
          -0.8179727341077234,
          -1.2951828574730107,
          0.9629145709323166,
          -0.9293710674872718,
          -2.1082734396329217,
          0.8128729819104038,
          -1.4081682469459866,
          4.2319007510815805,
          -0.4353223137960383,
          -1.5281498289967936,
          0.6332825846112838,
          0.5149113395118969,
          3.317991292096111,
          -0.05448828431874945,
          3.825750208086207,
          2.9139332778162292,
          0.5173147268855138,
          -0.853785183917264,
          1.2889136523273743,
          0.58996498740601,
          0.9262855178920509,
          1.2810210355150045,
          -1.3442816655428411,
          -0.5845830493057941,
          0.5548152541913134,
          -0.7950323716092772,
          -2.061384297518524,
          -1.676703816084927,
          -0.4323792635409709,
          -0.6878584595906345,
          2.6601384047618875,
          -2.170751517788104,
          0.42629050051528167,
          -1.8275845141526312,
          -0.7247350587266465,
          0.986851498339031,
          2.0860274182243974,
          -3.0135037614338827,
          2.883178925802799,
          -1.1707495797633864,
          2.6316861407362797,
          1.1738938648261286,
          2.0653142487489977,
          0.3064893160954267,
          1.349162343542461,
          -0.026569464923492984,
          2.451162654254259,
          -1.3424143754323872,
          0.6536633885466155,
          -1.9481329679152022,
          0.018791473986111768,
          -1.1253879428529792,
          -1.7378861444052829,
          -1.2308201415308002,
          -1.7456750533622982,
          0.4808443317019006,
          -0.6695573808610118,
          3.7049203478321036,
          0.0662145766551881,
          2.334994927589958,
          -0.8710045768978656,
          -1.0696676830719536,
          -2.0382768645807245,
          -0.0647697110967932,
          1.0085542852628044,
          -3.2809694830544647,
          3.755546455359839,
          -1.9956722106248246,
          -1.0540175085056824,
          1.4379677247243463,
          -2.3627286434715797,
          -2.993833567980785,
          -0.14562555460715265,
          -1.6049505764637269,
          1.9204118360929636,
          3.0886058308178277,
          1.752278052372113,
          0.911389646779413,
          -0.04617432707961758,
          -0.009527295376502246,
          3.8897583297716496,
          1.0338690851477035,
          -0.664315328970871,
          4.424177546686418,
          -1.1825228510474848,
          2.946159771907096,
          2.897002832013276,
          0.13750991742524374,
          -0.3761224548021919,
          1.2872041367601594,
          1.7750583736064245,
          -1.7429256970751115,
          -0.07427044534517832,
          -0.4504962970723319,
          -0.7227797053865042,
          3.1632541206669877,
          -2.0999904925459774,
          0.3281531894068133,
          0.5071211349459153,
          -0.8118076803428637,
          2.962572782813275,
          1.6716748215083728,
          1.963111509008711,
          -0.5073748026808136,
          0.9323437669823674,
          2.3724392490717983,
          4.129493294301271,
          0.10779673489493606,
          0.02123600870174575,
          0.8008780574671147,
          -1.3224030051800422,
          0.2228086418041921,
          0.08172828739384283,
          1.3195420057380916,
          0.8915258650331761,
          1.1671200748259347,
          -1.8011436370730087,
          2.990525687386097,
          -1.3040290647386175,
          2.0465261703373168,
          0.21653547587955885,
          -0.48478342031576194,
          2.9192923696302704,
          -0.13878058303035107,
          2.877181710650699,
          0.9741548393831211,
          1.5961406916066012,
          2.6991889693042648,
          2.3678131587863067,
          0.31259942417209324,
          1.2834517763750743,
          2.0243674919179195,
          1.420824982379911,
          -0.5075211278041397,
          -1.6546395282434803,
          2.001637379211924,
          0.5621316194742922,
          3.4056955692861606,
          -1.245185686227994,
          0.639394066848664,
          -0.27278321847559606,
          0.7535069797906173,
          2.002116255141071,
          0.06574856731472294,
          2.378815219952149,
          0.40131179663843597,
          1.0541888330054163,
          -0.49449863904106844,
          0.7074688823853275,
          -1.8476087161541175,
          1.3962141318189734,
          0.40780499882159854,
          1.3514269368857006,
          1.4150683278976375,
          1.8068600359301232,
          0.13898910919480198,
          0.04704033561223014,
          -0.10617224036223426,
          -0.772419486089225,
          2.87065970736216,
          -0.6113014309915578,
          -0.38337236846336536,
          0.5642731960730826,
          -0.5360041079419038,
          0.0985582678814286,
          0.504645293089448,
          2.1425327559540577,
          1.2242281508448036,
          1.2224297316191421,
          2.7470044053283047,
          -0.7370877416749817,
          -0.6404704363100279,
          -1.3763876571035751,
          0.11214957170452432,
          1.4556650302500047,
          0.846129950767805,
          0.5496990471907295,
          1.239457522777907,
          4.404941732335088,
          0.7374695160822606,
          -0.035547285103626626,
          -0.9971290997689767,
          -1.9441092722221625,
          -0.29387254641095106,
          -0.26964806003753483,
          1.6948119224120253,
          0.9415483536293152,
          0.15168901262519238,
          0.5373969424616463,
          2.8518533879359484,
          0.9080309603521114,
          0.22608949198766679,
          -1.7656705676562134,
          -0.12476493380564731,
          0.007393492225176508,
          0.9920777984997237,
          0.002772978044814308,
          0.2625313295592219,
          -1.9327143313636397,
          2.8486467152612005,
          -0.8477321569204552,
          2.9997657560766573,
          -1.9890849984786834,
          1.0986556309297222,
          1.1250322167290827,
          1.8370256565767593,
          0.8026205672117781,
          1.1568755858734763,
          4.555666288235936,
          -0.23551109847113888,
          -1.419225459351609,
          -0.009589253517617094,
          -0.7076754038618526,
          0.661016698272798,
          0.7300020912413813,
          1.055202607871263,
          0.17048660176951694,
          0.789023677621254,
          0.5436138522436926,
          0.5616066674121594,
          0.46966376678057475,
          0.3043561024861846,
          2.6489263953169395,
          -0.4774229082919325,
          -1.2506994280636028,
          4.723916434246773,
          -1.3793369672896933,
          0.5154806699715736,
          0.8205379113997429,
          -1.5916901171143252,
          0.535756949908921,
          1.7103916573410625,
          -0.34197284883228596,
          -0.7564430284149296,
          2.0437508599599097,
          4.899453296904571,
          1.7402526931509266,
          -0.518581977299979,
          -0.7687938689581071,
          1.5624796864750659,
          0.7239353499685679
         ],
         "y": [
          -0.8599077952941944,
          -0.29865590379422513,
          0.011512972578590444,
          2.218872381485066,
          -0.49176683328360904,
          0.530528778038042,
          -0.6387657931696658,
          2.135845481705423,
          2.417984439710405,
          -1.4723379295047625,
          -0.6245648456581718,
          -0.43803824344075903,
          0.16935444685615142,
          1.6298762297557294,
          -0.6304477058534081,
          0.6641430381744844,
          0.8940219089996783,
          1.8515283461711616,
          1.1823937060512963,
          -1.257229703405998,
          2.4093330654987692,
          0.26828605235353903,
          -0.769987055629604,
          0.8754828689118372,
          -0.32800382903415354,
          0.6054308996888609,
          0.5694806698142914,
          -1.734026176575867,
          1.0024248376040057,
          -0.130947807059594,
          0.6265061490892666,
          0.2645320670846572,
          -0.3947593252479933,
          -2.379085029757376,
          0.0958184470544127,
          -1.3620847234838311,
          2.0628784979297246,
          2.551712789657774,
          0.4695449843142652,
          -0.5583378120946381,
          -0.9683332058847994,
          0.28459980712017247,
          1.1883528437156652,
          1.9399714299431043,
          -0.0065717211964796355,
          2.232606007815452,
          -2.493853439810915,
          1.2287275959037964,
          -0.5536469317477896,
          0.6998180280840509,
          0.014874059325001904,
          2.0418313884403867,
          -0.3945951717674819,
          2.6934255014578743,
          1.6953590407949615,
          -0.17781603316385744,
          0.45139124916488166,
          1.199701920978921,
          -0.5598296459003517,
          1.0036201201915933,
          -0.6652874831952369,
          -0.305311848938362,
          -0.9047613094885767,
          -0.711116005857331,
          0.18747728591966697,
          -0.7394593344103688,
          -1.3252196884234329,
          -1.4444609947717038,
          2.273535341437135,
          -0.2479525652804084,
          -0.5627403298746423,
          0.8147170013981128,
          0.7681235621912976,
          0.7458409283761112,
          0.5294733688758957,
          -0.09055026163818618,
          -0.055133410754097466,
          1.040641913331,
          -0.45767014802851963,
          1.6147153936460794,
          1.259618009403577,
          -0.04590665436252142,
          -0.3112245151784745,
          -0.27583769149655274,
          0.6632887184731945,
          0.9196245710370838,
          -0.6161482354600711,
          -1.1565066268099577,
          -1.2722758912470697,
          2.1864148541729316,
          0.7531558336042291,
          -1.546716088670309,
          1.2833064328231594,
          0.8631523457455095,
          2.6441366664563835,
          2.403036978905919,
          -1.0813780322287387,
          -0.009926083860609603,
          -0.04485112837270423,
          1.2381968447667042,
          0.4523958597543654,
          1.3675037002446564,
          -0.37112262579658845,
          2.184076805335938,
          1.407570612662082,
          0.3132940041538494,
          -0.9056629694796877,
          -0.5051382760477251,
          -1.005285452330965,
          1.4354427778036878,
          0.48591123023876254,
          0.567658722533234,
          0.3459184849794336,
          -0.06547677896244991,
          1.0857833622771116,
          0.6160152852904137,
          1.1125316064337794,
          -1.5634778508888332,
          2.5895717309983044,
          0.8974831966093845,
          1.9057164576432044,
          0.14787860248488668,
          0.9617464907829487,
          -0.41460393443664556,
          -2.2955027881110306,
          -0.9945091381928728,
          1.810124112298465,
          -0.9029034387585648,
          0.10092755925551396,
          0.6208669390218995,
          -0.4617135051272338,
          0.38075222634623657,
          0.929186828353068,
          1.057414752653187,
          0.9518756282461952,
          -0.7536317022772869,
          1.2288092920822151,
          -1.794796679350523,
          -0.3982403151835603,
          0.5651600729121536,
          -0.5639048715203737,
          0.6255481900113399,
          -1.1434318552365128,
          -2.5031839807169813,
          -0.1562956314125219,
          1.2148509893864776,
          -1.0209440855982121,
          1.8385132861901032,
          -0.1688315872279562,
          -0.14615637831434075,
          -0.22079333552495808,
          1.4229098873591617,
          0.3972167680539782,
          -2.869817515091331,
          0.5879902828517478,
          0.5613740801898947,
          -0.16130458953161506,
          -0.13573879132209615,
          0.29609146400865355,
          -0.07905811609076256,
          -0.23561561825480973,
          0.07648040309980358,
          -0.6648908733649129,
          -0.8205958794474529,
          0.7133681923647099,
          1.2874222829072863,
          -1.198067783431923,
          -0.30113565279789306,
          -1.0570212029817967,
          -1.0064177308437778,
          -0.2980539731743072,
          -0.9330747517036927,
          0.03162459629345062,
          0.950140001817644,
          -0.026544007066647182,
          -0.13336817115236899,
          0.9086205541254134,
          1.8040354334392705,
          -0.5112902835763353,
          0.8520988046711998,
          -1.2669187879047654,
          -0.35476204497243957,
          1.3189019856732227,
          0.2709351430679291,
          -0.4002772831142469,
          -1.6976221656648753,
          2.8240827773012263,
          0.18854921392651938,
          1.8786573050481818,
          0.017534383417132406,
          -1.4348775067034454,
          -0.4341852027228968,
          -2.0339206729412163,
          1.239871450531024,
          1.3724387045858388,
          0.8926799729111782,
          -1.1166531101375938,
          1.092315670675975,
          1.5981210526221896,
          0.7194628193539203,
          0.06853506874166455,
          1.3135900205509632,
          -1.231807179307732,
          -0.41988749488130894,
          2.0424672880497137,
          -1.8002838013897422,
          0.17977903913909538,
          1.0508765062332297,
          -1.2109556752205748,
          0.1313505673819207,
          1.285190893771066,
          -1.066143878129458,
          1.0921185530776416,
          -0.6665682219436571,
          0.12232905509427021,
          1.3428743639883012,
          -2.954229092055255,
          1.1878306469665223,
          -0.9932624191665878,
          -1.2644926217206627,
          0.8288903988560076,
          -0.9454434649241586,
          0.9897037553894769,
          0.5850977487003847,
          -0.9637056153299682,
          1.1087094436108988,
          2.901117335218192,
          0.5019879916531671,
          0.4858473030445811,
          -2.7316278874419364,
          -0.06295908108058058,
          -0.6921877701853004,
          -0.8551649272782943,
          -0.2639017227001722,
          1.5411850280860133,
          1.2853177684642212,
          0.1362768226052982,
          2.604379561995379,
          -1.8579332004003701,
          1.9572137449100622,
          -0.889205803091133,
          -0.464966625609017,
          -0.33232646509842223,
          2.5256866770182063,
          -0.19792228969238945,
          0.38717998347174754,
          0.2271853902005812,
          1.4288664531608537,
          -1.0647570594434157,
          1.2295552335473567,
          -0.37387007113330334,
          2.620633979767039,
          -0.28449136621665366,
          0.7570456653972334,
          0.4099179118255146,
          1.6568758308548968,
          -0.05486358312022284,
          0.4410559732756472,
          2.8697797714992115,
          0.20375354147061384,
          0.7807483432335253,
          1.8668104327519834,
          1.3082271025786523,
          -0.3270910620980637,
          0.6832779998990915,
          0.13189453105880952,
          2.673685845433425,
          -1.7120338395098582,
          -2.210266844781204,
          0.8659798513883733,
          0.7705550488526539,
          0.2128216152131867,
          -1.2558946442691528,
          1.0100735295884735,
          -0.5946564132023057,
          -1.8177110509270031,
          0.155172149642141,
          1.9718511446830127,
          2.9268171774678695,
          -1.4547394967788883,
          -0.05786764531272806,
          -1.089879867044407,
          -2.0606971336914244,
          0.2793823656184334,
          1.7616626505788489,
          -1.5743647826613492,
          0.42498214655844824,
          1.7102672885213746,
          0.32825177757742413,
          -1.2191603605889716,
          -0.9032201667491837,
          1.6590057871542823,
          0.0009338029788974202,
          0.07480036692117499,
          -0.025055967153925288,
          -0.3714702811144666,
          0.1855898846064741,
          -0.8132515379521839,
          0.5381248342718223,
          -1.2182711411752016,
          2.5627606109319743,
          0.5013139734325678,
          -0.5420431974291458,
          1.0912238193947696,
          0.21638362039816464,
          -1.6116419734918022,
          0.26046522120602333,
          -0.24326991676833165,
          0.3909651955897456,
          0.458295457082811,
          0.8832498318768061,
          1.8456463365785292,
          1.3024425528483132,
          0.4055498755779434,
          1.8181644127980296,
          -1.5693176096744328,
          1.185555484307838,
          1.644421981109574,
          -0.1095504677614408,
          2.0005025799457945,
          -0.05333383188407537,
          -2.0904478369164368,
          -0.9183176541139697,
          1.2625617900628983,
          1.6349096915740808,
          0.8943508705626085,
          -0.6159921270547599,
          2.058430426267266,
          0.5672639402948476,
          -0.33782269509484103,
          -1.6427540169519008,
          0.5164191300156493,
          0.15838942237282422,
          0.5220937101106509,
          -0.9774586980804046,
          -0.18651676479354581,
          -0.2113792315017723,
          -0.7692843749778048,
          1.7081657638646541,
          1.0868823362324203,
          -0.9816341447695756,
          -0.2677693208087968,
          1.404075199672615,
          2.3456562227033175,
          0.7883385662897023,
          0.04601755923927538,
          -0.11733965955702902,
          -1.0670164023753692,
          -1.376709010941753,
          0.5995726368152866,
          2.8914285648998637,
          0.05850510021976556,
          1.2061290567939735,
          1.2620184177741103,
          2.573118309827905,
          1.8670505832421198,
          -1.6389143967537014,
          1.5563198624750856,
          0.9841577330777096,
          0.8756178296269648,
          1.1903519143738825,
          -1.416522443257111,
          0.7867372411620245,
          0.21963417150560086,
          0.08505688514099434,
          1.8995084279507868,
          2.0522203086775965,
          0.09882485370426222,
          2.6668363017418715,
          -1.5004530104285023,
          1.3993250370690204,
          -0.2148670455130376,
          1.1483318467673824,
          -1.8380512588963445,
          -0.3960490611669474,
          0.21494878268951276,
          0.958012102530858,
          1.7987352777474497,
          -0.33885918729992226,
          -0.17962600209021237,
          -0.44341325116884894,
          -0.673944916404639,
          1.1939589881499806,
          -0.8386017360898168,
          0.23159283437077668,
          1.3895996631970928,
          -0.1786865557729224,
          -0.6562017295272486,
          -1.0552702904510993,
          -0.8140417262640076,
          1.8498588833073573,
          0.5309340291167863,
          1.004493572343432,
          1.277336403676074,
          1.6298309417208334,
          0.18841561919698782,
          -0.21588485468959479,
          -1.504525561058963,
          0.20524578053889167,
          -0.9746013430765624,
          0.08281511347234419,
          -1.4829930899302288,
          -0.10750440063421508,
          -1.4181809821630622,
          -0.01144912596955162,
          1.582976832574767,
          0.12626943130400145,
          0.41025115591973527,
          -1.2625875959516035,
          1.879823868609976,
          -1.1458960623302752,
          0.6695742971543774,
          -1.5818815734109273,
          1.0601904188907363,
          -2.2528280555972127,
          -0.48848946445999614,
          0.007443075468305959,
          1.6433382559027825,
          -1.7312908505660303,
          0.35831902204017113,
          1.1696293527237818,
          -0.5984996389197927,
          0.1715831646121334,
          0.6555684050902573,
          1.1508155612825406,
          1.6274690029321432,
          -1.387409991796471,
          -0.6151363251043106,
          -0.18866098118783284,
          0.9070755600434799,
          1.2198469753788286,
          -1.306740953071009,
          -0.3623056690046967,
          0.08063393966523885,
          0.20095077375132672,
          1.916181859592505,
          0.5545191615261857,
          -1.8866100664276289,
          1.5387703195142834,
          1.4712882130519,
          -1.9639915086514785,
          2.3003598925601234,
          0.4962982546239531,
          2.8863620836836494,
          -1.2539190125155955,
          0.8932455153420155,
          0.17532224592076812,
          0.6322687639033117,
          0.75694553405457,
          1.028685402744871,
          1.5221864290467477,
          0.8734167917048392,
          1.7612778862373935,
          0.17105300385169422,
          -1.3625759397629646,
          -0.5233088555105787,
          1.2432754882060686,
          1.3034466526854167,
          -0.191477747132279,
          -0.29230107508034553,
          -0.2743770470155724,
          -1.328003571854764,
          -0.7258278866631658,
          0.24622459364313276,
          0.7357064129993381,
          -1.354196617940436,
          -0.6966585035052796,
          -1.5497006624163185,
          -0.6855724400897449,
          -0.008157866826805138,
          1.4103617714871333,
          -0.5607677818191876,
          2.304997280768074,
          1.395852917020979,
          -0.7088294749651077,
          -0.02959819644522662,
          1.4166094140595764,
          1.940560349367465,
          0.4878093697661357,
          1.1972520171528902,
          0.2665147456221225,
          -0.5569298231169569,
          1.7089627835606331,
          0.7187628754540428,
          0.5033999693879558,
          0.8810182386659962,
          -1.2246047181943411,
          -0.5601382933200526,
          1.086760145142614,
          1.3393410445340372,
          1.16359156719874,
          0.1974537385767208,
          1.3147194594542542,
          2.1647803726978108,
          1.4652544415474467,
          0.4918301684806805,
          -0.15129470278349322,
          1.5168326124322966,
          -2.584985699455264,
          -0.8340939823700101,
          -2.108222787713693,
          -0.48823098903494583,
          0.5482542473478982,
          0.49440964092259265,
          -1.1906206226506448,
          -1.2999381303877668,
          0.17119833381703836,
          -1.8457747759485164,
          1.9879576966663104,
          -1.4051669807425244,
          0.4479289542755643,
          2.442404322524887,
          -0.17078622249426761,
          0.58743104263077,
          0.34896945503252347,
          -0.37843072277256323,
          0.30086094047035733,
          -0.8196645939036691,
          0.9266919856663727,
          1.503474970731252,
          0.46321963231705476,
          0.8375213400024076,
          0.2954528731412638,
          -0.6069020862097654,
          -0.23151074835452362,
          0.8959276569810637,
          0.6653209335207434,
          -1.8900122577479943,
          1.4292913103383669,
          0.43160934475831575,
          0.38156947036951705,
          0.6224139023499852,
          1.5502415003146968,
          0.24123988504954974,
          -0.024190782681620355,
          -0.8255388777813173,
          1.1481694012174075,
          -0.2709730818334202,
          1.4530100503610746,
          -1.6495807310124955,
          1.5679735549789113,
          1.002368730972561,
          0.9813644174314679,
          1.021134923073638,
          0.0038087241706416574,
          -1.8499870154250504,
          -0.8076279204460609,
          -0.6127141500477374,
          0.44447568929106873,
          -0.9563748254582312,
          -1.3086518707547934,
          -0.0014819950573176223,
          0.1336488027981781,
          -0.10423233442023555,
          -0.4407623769445938,
          1.5656874365538052,
          0.49915962981502726,
          0.9130699107172884,
          0.3063719352560345,
          -1.6384874590677516,
          -0.46196858786230766,
          1.4863282856183702,
          1.0629293107250448,
          -0.6129453972540486,
          1.9785397933796456,
          -1.7620531701243352,
          0.23037918013099246,
          0.27898717911424176,
          -1.2625499234202842,
          0.8661086924752718,
          -0.33013024430071514,
          -0.776718397841615,
          -0.6542898352339241,
          -0.9209261905904743,
          0.5901129598867328,
          1.966701809734966,
          -0.9254275751914292,
          -0.316585825091856,
          1.5424230977583249,
          0.7313732618418767,
          -0.8492252404621422,
          -0.289896418770943,
          1.4727047020835187,
          0.003699130153925459,
          0.9960380963558656,
          -1.2085796298035696,
          1.0047916393625094,
          0.6321181986697155,
          -0.5619647427231613,
          -0.7175898850561179,
          1.2699224624140228,
          0.653898221364757,
          -0.524213700668892,
          1.423843446895891,
          2.430814944133227,
          0.01910512792575648,
          -0.6101570940325397,
          -2.0665357433515816,
          -0.460979155338995,
          -1.1474178186209272,
          0.36806370458001936,
          0.6308703659699402,
          -0.09439839191500404,
          0.20088520618620676,
          0.8661445478158204,
          -0.1942541110649696,
          0.7835098341153593,
          0.4988437463897777,
          0.25131704000740995,
          1.4222598526692354,
          1.1649038555367317,
          1.1723059230324577,
          -2.1488167070366275,
          1.809618994405769,
          0.18990591197446707,
          0.20460096417533663,
          0.8414805357879839,
          -0.43800443549322576,
          -0.18550468779333257,
          -0.31178429083005865,
          1.0420702481212922,
          -0.27773736648387337,
          0.5441675928095886,
          0.15443825793689908,
          1.9843799057938267,
          -0.800614568115631,
          -0.2066788462869834,
          0.47579509244931484,
          1.3780274399479204,
          -0.4058374570674441,
          -0.15403348123964172,
          1.3328892150309104,
          -0.5378300576827325,
          1.3463750402934607,
          1.9423110829556383,
          -0.33061191618736474,
          -0.6564778712707237,
          1.2915200454527325,
          -0.9763548092841612,
          -1.5590508061462933,
          0.30577358030640417,
          -0.200353529416526,
          1.8134615739059268,
          0.7816104828347804,
          -1.780957800552389,
          1.105960080663559,
          1.181729883197689,
          0.596641545862129,
          2.616679992786425,
          -0.9153648428944768,
          1.2617524280651955,
          0.689180327033589,
          -0.9716381197360731,
          1.64384901015985,
          2.034587188279996,
          -0.5928229974742187,
          -0.38384028012595145,
          -0.08409165536819377,
          -0.7516786721563088,
          -0.14627538971678775,
          -1.7813002875644086,
          1.625501929037118,
          1.6485459002113259,
          1.0336807405028694,
          1.0456156483909007,
          1.787669014268104,
          -0.42136522673123794,
          -0.9211910664067846,
          -0.7675458992202172,
          -1.0858153501875576,
          1.3578660105654725,
          -0.11134355603085218,
          0.12053509784647971,
          -1.0161455436821623,
          -0.3917623661241013,
          -1.3787125133755747,
          1.0853659117420673,
          0.7929923811176411,
          -0.6067364810381833,
          -1.4207136734888797,
          -0.6392608140324361,
          -1.0581792758699153,
          1.029262925354539,
          0.2942062169696686,
          -0.8097164300122295,
          1.4285591655484595,
          1.1155249613542075,
          -2.218062708178623,
          -0.8684011415295746,
          -0.9282324038396893,
          -1.7848666481946192,
          1.1272140407998166,
          1.1119220993932546,
          -0.45489736411196796,
          2.3391656570852284,
          1.8377698647558252,
          -0.03190798867145648,
          0.608910339368662,
          -0.8488020092452621,
          0.3429330335749814,
          0.07251437691814801,
          -0.80948120498129,
          0.5673120364504187,
          -1.8511700231655746,
          0.7821869401396406,
          -0.1637001230742728,
          1.3229747142194437,
          0.8629244062236932,
          0.09731150826283334,
          -0.49529253766499803,
          0.4452888079665615,
          -0.9097755626587047,
          0.6812570086767605,
          0.7676587143736454,
          -2.6311594433421255,
          0.7800355896363027,
          0.3058074362563035,
          0.07607391395094047,
          0.3765734531116152,
          -1.2027253708859569,
          -0.4040708040757437,
          1.1263878599257944,
          1.2010562186422966,
          -0.12304009317579882,
          0.6233130642344629,
          1.183932137547006,
          -0.041228588335229965,
          -0.055600620783322445,
          0.24359135878552055,
          -1.4219397562178997,
          -1.2028661005986685,
          0.3447906596622815,
          -0.12636793977127345,
          -1.1535938814654594,
          2.368351980484344,
          0.15674987988074024,
          -0.979126098990385,
          0.998294051661093,
          1.6645494445848301,
          -0.14062976159501428,
          0.2051763015140319,
          -1.0856174681916804,
          -1.4119336826232356,
          2.5409052542274018,
          -1.1495359040516335,
          -0.3286721847933129,
          -1.9087191823473362,
          -0.7690360540120726,
          -1.862422765237869,
          1.3844018137939154,
          2.681969311513391,
          -0.014072285713229373,
          -1.6428273933591055,
          -0.13922654367761014,
          -0.3056042296161227,
          2.203146833481452,
          1.249236489431891,
          2.7987192692433753,
          1.0073126250007038,
          0.6200685782330851,
          -0.49343727341166826,
          -0.8768192721466959,
          -1.388160881445972,
          0.4440603523178182,
          -0.027426975820992003,
          0.17440829501761543,
          0.3889171380018955,
          -1.4340481037532826,
          -1.4562556363595978,
          -0.6550729704960967,
          -0.49059041797313163,
          0.35601250492599756,
          -0.6088239556574542,
          0.7493854776757736,
          -0.5821412993103399,
          0.6468988441710084,
          -0.11180815624402413,
          0.20399422278287171,
          0.41051438563456133,
          -0.5714772295526848,
          1.8723082873534886,
          -0.8762895698761203,
          -0.40965041320975987,
          -0.58950173658771,
          -1.9260334845871565,
          1.3140244035672661,
          -1.4997538881521986,
          -1.8918863808157818,
          0.9557868013626545,
          -0.7765243994524028,
          -0.4442150646359603,
          1.2926394567509152,
          1.4889105646178769,
          -1.6488952127828085,
          -0.9081250676847581,
          1.5427087506858599,
          0.7419145826675054,
          -0.18684919976219844,
          -0.821914987715986,
          1.0647535561623442,
          0.6494155499237465,
          0.7434962839446937,
          1.0675260126168247,
          -2.069798775204148,
          -0.27948509170902985,
          -0.9269536554914991,
          -0.3093495647035952,
          -2.240459817285364,
          -0.1099383630093749,
          -0.16792065051604732,
          -0.0361276465955702,
          -0.8818647836696183,
          -0.6580460877819482,
          0.8973384161494192,
          0.04262450821077864,
          0.23756404067212913,
          0.41328554743593177,
          1.3218048761644428,
          -0.7083674228477982,
          0.8578829156591006,
          -0.8630745461565379,
          -0.5800195495272584,
          -0.7813672546924502,
          -1.0636399101075524,
          0.010473384463207792,
          1.801917062911956,
          -1.9884085221230086,
          -1.3123531206714638,
          -1.5599895496557703,
          -0.06687816844586564,
          -0.016789131372254806,
          0.6908808224238612,
          -1.5551841870165306,
          0.06695047211124246,
          -0.7997634472141718,
          -0.30911742662600916,
          0.7495950071951263,
          -0.19929985550553383,
          0.8674851893595962,
          0.4271525650321661,
          -0.7718905971962036,
          -0.8437260509950276,
          1.1563897587785663,
          -1.283156558295869,
          -0.5623480635817004,
          1.0290338704938278,
          0.19065187036633646,
          0.422415751200223,
          -0.7901474332954974,
          1.208411260297559,
          1.262732599333552,
          2.004092458638384,
          0.45799940149563817,
          -0.32757426687657804,
          0.9953699648191126,
          0.15931064468915723,
          -0.9894406249224614,
          0.2839224436998746,
          1.9287105513927902,
          -0.5683029930476928,
          0.25545713773189743,
          -0.8103597237887786,
          1.9097123968006946,
          -0.5309482886377642,
          -3.167055963321588,
          -0.8604403430578075,
          -1.917283816172694,
          -0.5060867670957264,
          2.019637134933607,
          1.1349372008572303,
          -0.6482223353542471,
          0.4752161972878699,
          -1.996506195966099,
          -0.16801461128751857,
          -0.45017888641216863,
          1.3591888144025774,
          -0.44791656010575576,
          -3.1612927957654944,
          -0.895981901155221,
          1.2115485495418472,
          0.27364823347983047,
          0.686910328233492,
          -1.3576514105949502,
          1.0318202529237943,
          0.12493059474917403,
          -0.12003627240497469,
          -0.2689793458395291,
          -0.4621349828662415,
          -2.109995043692559,
          -0.9296880264101633,
          -0.1443162994611857,
          2.2296096580736022,
          0.235061072323367,
          -1.2980917796656082,
          0.2627009292995097,
          -0.8275081442304626,
          0.6746591540672884,
          -0.7615774713691046,
          -1.808631850824341,
          0.29860129719666306,
          1.8020283593704118,
          -0.4546120505070049,
          -1.3201377594664763,
          0.8173745017137545,
          1.2497151477739206,
          -1.1747160678355488,
          -0.8356225481636279,
          -0.756693132398914,
          0.6056584490851921,
          -0.9515539110292154,
          -1.6108280842853053,
          0.8211140332927792,
          0.8550358130795135,
          0.31287635568172056,
          1.8426494689008124,
          0.5470708654355172,
          1.6255422046790464,
          -0.37903747391272075,
          0.7445401985714684,
          0.8093703730169175,
          -0.9487484570702075,
          -0.6196835633619588,
          -0.05788904697608479,
          1.2422791340163195,
          0.08360131253564412,
          1.2479708231695579,
          -1.6118908743119247,
          0.4754953691616955,
          -1.1631989690243427,
          0.006561098793287463,
          -0.9109156797742787,
          -1.7386962688892733,
          -1.6140501480433371,
          -0.40163014954850546,
          -0.8562966548120304,
          -0.8238788737433962,
          1.406143860749324,
          -0.2420776384776538,
          -1.794731127331842,
          0.2458897660403629,
          0.501840940463445,
          -1.723714084901085,
          -0.09699143738214293,
          -1.5333947356666402,
          0.6706274317645107,
          0.7732552484221913,
          -1.7983472379758283,
          0.6576958307070123,
          0.11336618149745036,
          -0.7908476549991978,
          0.7445717819473726,
          0.6985753935516289,
          0.2532956059752346,
          -2.5546247460620464,
          2.276945414254117,
          -0.683195513943729,
          -0.09120135373545434,
          -1.2676466534459765,
          -0.6177970113727144,
          -0.7580658647142642,
          1.0095365658287458,
          1.5190465729541789,
          1.3625466286676478,
          1.2536135806550894,
          -0.005642412150486897,
          1.6285265645017877,
          1.998319891724222,
          -0.7304880732209846,
          -1.2414720323646213,
          -1.1795654255592558,
          -1.1402011523321336,
          -0.4751812232648287,
          0.8420231960697203,
          0.5957333926113637,
          -1.7898948319531909,
          -1.1600805885786913,
          0.2167637777995911,
          2.0736457110522775,
          0.16044161251940095,
          0.9960725144694107,
          0.9313238114843561,
          0.22443904677251889,
          1.7529713793475574,
          -1.5680017735448766,
          0.5507473369364692,
          0.5989420197629787,
          -0.07771629522027088,
          -0.0446124275437488,
          1.37454014954799,
          0.7926894175672025,
          -0.7232049589876338,
          -1.2281494347978479,
          0.1653658026353385,
          -2.029739203229554,
          -0.5700461620854538,
          -0.7994331270152052,
          0.04396823851248982,
          -1.0299652495139804,
          0.11823033967841465,
          0.005730348801241806,
          0.5866032506751345,
          -0.4660415605883525,
          -0.07244186791119055,
          0.13990385452568613,
          1.2940419611356204,
          1.778502743917354,
          -1.2361691869970763,
          1.0085275166146241,
          -0.3682653490831469,
          2.3155463613437095,
          0.5727666005867634,
          -0.6418619951107768,
          0.015787020019866774,
          0.28757704247014615,
          0.4593657389579117,
          -1.7154886599483397,
          -0.1144488437583222,
          -2.1544566367374274,
          0.7579584009998946,
          -0.6503661926254806,
          0.27802702585393735,
          -1.415783540633976,
          1.028543634046343,
          -1.152413217868498,
          0.5307896709775728,
          -1.8329207195701451,
          -0.7375609053520524,
          -1.4083153412320204,
          0.6263374138224164,
          1.2148002685532244,
          0.7495629631925418,
          1.7992406508793546,
          -0.024015524611394983,
          0.9533363068606768,
          1.3165263036256247,
          2.4224698910541367,
          -1.3813572914337084,
          0.5568485397805402,
          -1.1824496015342698,
          1.1782540408547453,
          1.3362045987996345,
          1.076205924233929,
          -0.2582520500885313,
          2.5891219735384925,
          -0.847374539701054,
          1.962882218081342,
          -1.4800756288710006,
          0.7089668957654812,
          -0.220475274357639,
          -2.1102937672006825,
          -1.5900017957577381,
          -0.941194923484193,
          0.5060688401297558,
          0.3956185299826034,
          -0.9971472180134019,
          -1.8075195634355787,
          0.5560861396988133,
          0.6613771868284962,
          -1.521402397590012,
          0.30101559242595505,
          -1.0327475110572513,
          1.7181059715945282,
          0.042681339991668774,
          -0.8508381199353376,
          -1.5591646716699152,
          -0.39774902154309083,
          -2.7976797009264023,
          0.08100147449033773,
          -1.4309180172840545,
          -0.8907171245149559,
          -2.7557738688031783,
          0.9216524859583778,
          2.2375452040929567,
          -1.073211270164913,
          -2.4780766240476164,
          -2.5424927276247873,
          -1.2795636677911475,
          0.6670189639784205,
          -0.3767728979230028,
          2.5073589413092114,
          -0.8704894971553597,
          -0.8936878114333904,
          0.5980575579552698,
          0.16361606060774667,
          -0.08487746237350957,
          -0.8787128897426608,
          -0.7715913473616015,
          -0.7399780126081978,
          0.7422515459228131,
          -0.717160030940823,
          -0.22245592330664576,
          -3.017447847388876,
          0.26466399185976547,
          0.6545603680016022,
          0.13390293453983634,
          -0.7462808371306898,
          -1.0065155538038741,
          -0.09606162869450213,
          -1.7233943360584325,
          -1.1810318301033258,
          -1.5559240938407892,
          1.0150904074275562,
          -2.6488686583289343,
          -0.46733635331705026,
          -1.0068475538138772,
          1.0207593840266138,
          -1.5805883145123847,
          -0.07623428436087389,
          -0.6773707170817441,
          -0.7583205998560136,
          0.1412132391749896,
          -2.5467360193176782,
          0.6487869254130547,
          0.48920273321240804,
          -1.9562918144206556,
          0.9767757712823517,
          -0.624714140092558,
          -1.2540562846151622,
          -1.0477447312235932,
          -0.12209175581283019,
          -0.36996648939500887,
          0.5009254326553669,
          -0.3540628992713274,
          -1.0933740491762276,
          -1.033343199976992,
          0.10426714721676443,
          0.4067470901406925,
          -0.8610891668195387,
          -0.7306783921369977,
          -1.9035024031053507,
          1.0553294111512328,
          -1.1606044537617972,
          0.13156774847818326,
          -0.04446840581376529,
          -2.3981016590689985,
          -0.5373934563472569,
          1.9343256742895996,
          0.9167076484108776,
          0.533824482246051,
          -0.6290507190722208,
          -1.361829259367823,
          -2.577680257887634,
          -1.5135939087185075,
          -1.3821825809822395,
          -1.8738900756527619,
          1.2124194391507708,
          -0.6493953836737966,
          -2.340970084885691,
          -1.8393025277657462,
          -0.21767366044278125,
          0.9735395860834266,
          0.07522462235768042,
          -0.6070885019075858,
          -0.9644834460001164,
          0.5296295419848698,
          2.1663978826925345,
          -2.3308122133088798,
          1.775439498800761,
          -0.7044600891761865,
          -1.6428004121404918,
          0.06504588882537046,
          -1.2460312388111932,
          -0.7678181790724942,
          0.7667566710225078,
          -0.7666942492753144,
          -0.7696670562867313,
          0.44447143117971466,
          -1.3204859900809718,
          0.21026091782272158,
          0.3163693861106939,
          -1.6151942727061048,
          1.4944585652352436,
          -2.5247356444017583,
          -0.6138398125875736,
          0.6804625459231504,
          -1.9645908832735122,
          0.0016831267510379264,
          2.3516291577629054,
          0.4972331824608813,
          1.20174964847394,
          -0.4519571731923875,
          -1.0697636388902982,
          -1.623081805623822,
          1.0967867639578943,
          -2.595335700941438,
          -1.5399082192405207,
          -0.26041782081881903,
          -2.8739817594817554,
          -0.9528446088715278,
          -0.2498112886266385,
          0.8637035734460786,
          0.31355703560023235,
          -2.3443098008576873,
          -1.1972415392494158,
          -0.30079850690965165,
          -0.5913726497913847,
          -2.4734267098367946,
          -0.7563059095070286,
          -0.027363747710942507,
          0.9943081632135966,
          0.9495512138419763,
          -1.6085504956480408,
          0.15769386856688902,
          -1.8969669682217327,
          -2.285101517394612,
          1.2772075665545621,
          -0.5558276666609746,
          0.689085347979633,
          -1.1100896768588029,
          -1.8248176122346897,
          2.699343634506055,
          -0.2320100570606026,
          -2.0192707470168796,
          -0.5680648971729619,
          -0.5728676071310268,
          -0.45416183734276233,
          -0.4783702918696597,
          -1.593820189058277,
          -0.4275749621130947,
          -1.712263988702018,
          -0.3797282732757377,
          0.7790592080024565,
          -1.1213747080008178,
          -0.46953270763582594,
          0.47227719727766154,
          -0.8134570412289921,
          -2.098211359418706,
          -0.5938065541352864,
          -1.3889156687684243,
          -0.5278328415395903,
          -1.2664142173882527,
          -1.9427478937111742,
          -1.4325309999651143,
          -0.3683076040016095,
          0.3590084447550891,
          1.3777866805567496,
          -0.4275886180765389,
          -2.133128829180383,
          -0.8079522955652498,
          -0.2579063006080988,
          -1.131889914490154,
          0.44182796983024253,
          -0.4659649496714324,
          -1.0019415620828158,
          -1.2178120164251438,
          0.5652288401498492,
          -0.7158762554998475,
          -1.1123053708213473,
          -1.4724662083922968,
          -0.37009078983079313,
          -0.016188054067206668,
          -0.39343032863864164,
          -1.4587642054076952,
          -0.5868027066187936,
          -0.7205240764524462,
          -0.26001108817695956,
          0.6727448763049432,
          0.16701392261559836,
          1.9080113358057562,
          -0.308186800236936,
          -0.7449997176211874,
          -1.0333123121638932,
          0.30796012052633936,
          -1.476110567333908,
          -2.687876240511463,
          -0.7688438797282539,
          1.2424030451111316,
          -1.0227542605001545,
          1.591945550266232,
          0.3473896894090052,
          -1.2901686030869355,
          1.5066874338477443,
          1.0254337448070168,
          -2.2006914546004612,
          0.23454976760561536,
          2.048082886459353,
          1.0219387870189176,
          0.6084607305803972,
          -0.7588334215834588,
          -0.19225978909738237,
          1.0869884057639914,
          -0.6488099401349215,
          -0.8810617731069496,
          -0.9877589187812583,
          0.18397885966904887,
          -0.6227248225100018,
          -0.39896056078845415,
          -1.042457779733547,
          0.6164696579413281,
          -1.5102432718172512,
          -0.45393171062817517,
          -0.8270327513680394,
          1.5665138134788674,
          -1.5794185818212396,
          -0.8286859783928634,
          0.8902941072638654,
          2.697720660356816,
          -1.9383450227543577,
          0.12319159774760298,
          0.2444964063113163,
          0.07280990399729863,
          -0.4511509431038934,
          -0.7535282136619574,
          -1.2174250270142821,
          -1.3828171353374445,
          0.5621516899704656,
          -0.45124808796429355,
          0.7465795515535144,
          1.5490860100860724,
          1.2342150596905652,
          1.4158094396097272,
          -0.7391876599469575,
          -0.5909672235815304,
          -0.5575605031262121,
          0.5866250541568484,
          -0.9605620819886215,
          -1.9237071780633592,
          0.24295599937308818,
          -1.474643988571678,
          -0.5987809042110747,
          -2.4954066471691276,
          -1.4368222889751536,
          -1.2082865352140768,
          -0.8508174221797038,
          -1.4261943203791931,
          -0.07034675467786879,
          -0.801127273123835,
          -2.072925356856058,
          -0.9864796277228486,
          -0.6477960666587604,
          -1.477456712591788,
          -1.2296468478753355,
          -1.4970140668527516,
          0.5649085789468885,
          0.06281056039396762,
          -1.516621491337275,
          -0.06797201821945287,
          0.35050696001619,
          -1.3231305510528462,
          -0.3810941649886277,
          -0.6820080691684631,
          1.907032345672162,
          0.3559230613097965,
          -0.44833307690457513,
          -0.013033614745271345,
          2.2565602008148975,
          0.18188839496537967,
          -1.7206600770208789,
          -0.35803839073587795,
          -1.007279676695456,
          -0.37739621539770773,
          1.0123894352787537,
          -1.0412162858424474,
          -0.3811281320767278,
          -1.4214302616332426,
          -0.7800875861136561,
          -0.6070031562346729,
          -0.8359398676938288,
          -0.0005782056866643118,
          0.22387695411875877,
          -1.4721393788135522,
          0.8818815560843491,
          -2.3398484377154802,
          0.19322042118697466,
          0.34358102070508123,
          -2.655233635281205,
          0.0880659895183211,
          2.7956414104431064,
          0.5272106366860231,
          0.751936211081637,
          -2.2660759104238455,
          -0.9248380033088394,
          -0.6887370477253256,
          -0.8915668661421161,
          -0.4425276621240331,
          -0.568973613708383,
          -0.7236702681591624,
          -2.2920230284739547,
          -1.0485752663336316,
          -1.0862792646199098,
          -0.8814575394988006,
          1.0293178854607048,
          -0.5128071293842351,
          -0.93612657664069,
          -0.2663219783963394,
          -0.6962171649866623,
          -1.1079072805555286,
          0.8632603312299725,
          0.4518971193392266,
          0.8610569087057433,
          -0.40731409831107857,
          1.7153333919243299,
          -0.6910440484589214,
          -2.1158622976158727,
          1.2583514832535698,
          1.554052990590814,
          -0.9161550573717904,
          -1.011623491683072,
          -0.07292198046944602,
          -1.6288598987637923,
          2.143476579721928,
          1.2461852431360994,
          0.2920283099566181,
          0.17626418210624412,
          0.0016586894075139229,
          1.7252461950692228,
          -0.8999874840022423,
          -1.5299654339935682,
          0.027056432256477993,
          -1.7417179544090289,
          -1.1903119054315057,
          -1.3751055617319137,
          0.6569063228548796,
          -1.2951908354592763,
          -1.2424257073203682,
          0.8282841862274497,
          -0.2296248460766888,
          -0.9603674649335949,
          0.6930601954603413,
          -1.0049131127415416,
          -0.9734072113825454,
          -1.292124911357855,
          -1.6501486267990495,
          0.939560921451215,
          1.3969271082921257,
          -2.1892863586935922,
          1.5066289999440554,
          2.5264575308874004,
          0.027076676295984287,
          -0.16883406204790224,
          -1.120658541970675,
          -1.010059679240509,
          0.5449515536243263,
          -1.1617865303170518,
          -2.5532114135026784,
          -1.8586488278369142,
          -0.7884687510672724,
          1.7802453421616813,
          -1.130811580873107,
          -1.1841403908646166,
          -0.07599048678407423,
          -0.8326812719711147,
          -1.077354087358033,
          -0.5801284330305109,
          2.1841642853286776,
          -0.1607220392188107,
          0.3831873086308915,
          -0.7365394116073484,
          0.2637549989995867,
          -1.1464017984165207,
          -2.014855690415682,
          0.29134861617433094,
          1.1811063038110732,
          -0.42799462269156946,
          -1.7406866725657713,
          -1.3815784093117207,
          -0.6883105394972732,
          -1.009901359662584,
          -0.6731094626457981,
          -0.8828086185901823,
          -0.4085645901443538,
          -2.1266872197416284,
          -0.9971597546473957,
          -1.1730818419439555,
          -1.5395249475558381,
          1.0045255425181387,
          2.1233467241201858,
          0.9730071311613955,
          -0.6199503608446191,
          1.0409669599153712,
          1.674619428409932,
          -1.4700660615404422,
          -1.1462404790354455,
          0.33143276033755004,
          0.6195187286766741,
          -2.101238743324736,
          -0.8127829810658614,
          -3.293986145726834,
          1.4819809909689878,
          -1.880152825982642,
          0.8521692121680442,
          -0.47192615779666963,
          -1.3575247030121262,
          -0.9888539243822699,
          2.348554232775038,
          -1.5000509194948177,
          -0.607422858286247,
          2.195971291438034,
          0.376122814914594,
          -0.729025699157833,
          -0.5298688266423346,
          -1.0110262215150165,
          0.16966320921986439,
          -0.5181310668194665,
          -0.7809785570351798,
          -0.8911909619489289,
          1.509554657756195,
          -1.2508375524530477,
          -0.9028413612037094,
          1.9963646138947775,
          1.1295234049953335,
          1.0915339908227053,
          1.8082859311347395,
          -0.8744340985274759,
          1.3490232182744322,
          -0.41211893747087514,
          1.4715596360558032,
          -1.0340425083948381,
          -2.350715332797183,
          -1.166057316957227,
          -0.6967512771727173,
          -0.8787514376935516,
          0.7471691941224853,
          -0.44614226211186475,
          -0.6970708443225877,
          1.1502652699499893,
          -1.0553032661573896,
          1.337224412440768,
          0.6412308208516752,
          0.3394206655664083,
          1.905162616437039,
          0.969321978310208,
          -0.12352910228865929,
          1.9859502121054298,
          -0.8699662588027313,
          0.43396488122846544,
          1.3680060381696735,
          -0.5673107397106354,
          0.6291335655488808,
          1.9914063157848005,
          1.7250027637288345,
          0.9570412790475711,
          0.8081313851189446,
          -1.1523454521900538,
          -0.15678203021985795,
          -2.2188116587359676,
          1.432215796832149,
          1.4363915563414493,
          0.8987874119415998,
          -0.0809901186075481,
          0.011391078591839646,
          1.0911767639250465,
          0.3044026838475092,
          1.4089511634385514,
          1.1176269556627667,
          0.1895564599621851,
          -0.17357045449381908,
          1.2597896915765836,
          -1.2249965307009678,
          -1.4812459993813338,
          0.09627907356077864,
          -1.3816335251767262,
          2.38841198582453,
          1.5180632131601566,
          -1.8823929662318717,
          0.5733765881389592,
          -1.2817462469076255,
          0.09694666244120137,
          -0.5780015787440409,
          -0.10407106223545837,
          -2.8464498321288234,
          -0.1761554492953834,
          -0.6638535740689725,
          -2.194168618411498,
          -0.9757645329615664,
          -1.0715387091995772,
          -0.2581006678036178,
          -0.1062139811330863,
          1.9991245569320706,
          2.6226225469024227,
          0.17866880393013357,
          -0.12512577076620232,
          -1.0653582813926497,
          0.2234081796217261,
          -0.9682221567206277,
          -0.252059680551768,
          0.9889632330811877,
          0.24520659890311364,
          0.12224371009919428,
          -0.8598435491318208,
          -0.552966761243517,
          0.13342127895190722,
          1.8979216618445223,
          1.550294953405313,
          0.48737651327424036,
          -1.0014355491325557,
          0.8134793998601925,
          2.1866042986227585,
          0.4646266205222061,
          -1.825199967778704,
          -0.7705959679221194,
          0.3982085527037424,
          1.0645385456911114,
          -0.19969565226555605,
          1.166339521337243,
          0.5258339277656255,
          -0.6424815614887167,
          2.298945373415853,
          0.3679972956397979,
          -2.0933542691756637,
          0.48388446223917814,
          0.5928601364406852,
          0.47694738943631465,
          1.3400090308690118,
          -0.8040819109310607,
          0.24387440363753687,
          0.24351809260903257,
          -1.9152688747750486,
          0.7632825512433543,
          -0.40663525805797485,
          -1.70830253879709,
          0.8645727733893777,
          0.5976009399406681,
          -0.024102576631947318,
          2.480452288679265,
          -0.9870433878845296,
          -0.2386201154266524,
          1.2232962094561834,
          0.18188701600670784,
          1.0532678959750137,
          -0.7199540729052882,
          -2.6800837198854333,
          2.0446729514985527,
          0.37078546412506586,
          0.07605304852909112,
          1.0498032069361638,
          1.3207126389254682,
          -2.1193187230523565,
          0.8009310842602667,
          0.4839551013992756,
          2.1732782053251265,
          0.7702503115691338,
          -1.5522709475117495,
          0.312620380872864,
          2.0014400537152275,
          0.3113720016011756,
          0.2678891055975185,
          -0.18569225003397585,
          -0.4508900462252761,
          0.41967080610608115,
          1.6922680819425606,
          1.804299483281951,
          1.5084687623550246,
          1.940556777974721,
          -1.651420109240022,
          0.5528803130241977,
          -0.14780759658485132,
          1.155524248397789,
          1.0949462025650682,
          -0.10374324480560519,
          2.8510236838185157,
          -0.17326364821360624,
          -1.4726536453584258,
          -0.9426353409119694,
          1.4021405388448327,
          -0.20390341583730737,
          2.141889279525156,
          2.51183030895387,
          -1.6668283562456871,
          0.9828457621800815,
          0.8287278700031413,
          -0.6247067444493501,
          -0.5131609371333292,
          -1.0899325451923445,
          0.06748825964485768,
          0.5689277470049864,
          2.4265623316099703,
          -1.9377290561128628,
          2.6129973433666027,
          -0.3643710265581969,
          -0.8520413348618727,
          0.3257063759488305,
          0.45188142351868693,
          -0.8557453092898254,
          1.5342905887921727,
          -0.31166996656378315,
          -0.14576173959324323,
          0.042953630431701174,
          0.34475047743964904,
          -1.6957217687271484,
          -2.023007588812881,
          0.11974535120507578,
          1.3506542474737924,
          -1.1646447272146516,
          0.9170498655380772,
          -1.3320806508630154,
          0.6997317165129556,
          -0.3229596547485402,
          2.240178835582179,
          0.8822229166849586,
          0.9748564438370209,
          0.6085743107435627,
          0.14835589345875938,
          -0.6680473411528913,
          -0.2182227963497753,
          1.0781127655802711,
          -0.6097121403656024,
          0.9550943937929923,
          -1.3280934020969422,
          -0.04555861366905864,
          -0.15947325021855752,
          1.7101605704880947,
          -0.9262417754851812,
          0.5332702557933734,
          0.7454514727955008,
          0.3218997438063838,
          -1.4371444679801855,
          -0.13918173574504059,
          -2.3107480318000078,
          -0.22064342069976864,
          0.26935067288937553,
          -2.2709446988753306,
          1.8243324130026204,
          0.5396728508328258,
          -1.6342626588605689,
          0.33476298134056975,
          1.8842794676324521,
          -0.32941770209246607,
          1.979557811901118,
          -0.4318556948992253,
          -0.23248153801699745,
          1.0991714297418176,
          0.6583080905762594,
          1.9220266826497612,
          -0.3423934384433253,
          2.9097637991297924,
          -0.01793048453395394,
          -0.9446996339537516,
          0.021731273911941018,
          0.13282180280296874,
          0.19027022052490858,
          1.213624450654449,
          1.5551006704204537,
          1.0113130111090098,
          0.9580482057961868,
          -0.3510546113625708,
          0.21307896249820954,
          1.2810437939680333,
          -0.6843586204524802,
          -2.027307174394865,
          -0.5779523462621957,
          0.4361540026543962,
          -1.1178507631601509,
          0.3758823139626403,
          1.3406150925431595,
          -0.24991981280450892,
          0.7882903824981587,
          0.6613372578915176,
          -2.119242485069723,
          1.0085677796713401,
          0.3898197503124602,
          0.5513647377556414,
          -2.1373899649032686,
          1.50155896028923,
          0.45257961100815136,
          1.5332673561006196,
          -0.23641897900182685,
          1.038121981631878,
          1.0441277856434112,
          0.1492119629944161,
          -0.800190532705115,
          0.13398062904662858,
          0.5180446736480961,
          0.15054158778875254,
          -0.30725642766827627,
          0.05235690006619643,
          1.8834123862869439,
          -1.0031079444928668,
          1.0253969687862179,
          -0.33848201270002576,
          -2.2499905378121685,
          0.25774888093136367,
          0.04585645860944212,
          0.7794086554177937,
          1.7480571624152677,
          1.1542576591795282,
          -0.8946701561474298,
          -0.4294393804410759,
          -0.7949218619499341,
          -0.3657046731533851,
          -0.8605287710475599,
          2.1451138912290144,
          0.9191937241953204,
          -2.1478431804201867,
          -0.1825999533102591,
          -2.4230856844687207,
          -1.464309835919321,
          1.2424896704532646,
          2.149591223008876,
          1.0910679104716001,
          -0.8513150187309384,
          -0.2450323425697444,
          -0.1849674264162529,
          -0.2004417325210764,
          -2.4292846666383983,
          0.7181755284728484,
          0.8009979961145725,
          1.3826217883086669,
          1.5510026494636082,
          0.16723576406954777,
          0.5734955813433738,
          -0.5459507849410848,
          1.1982576926907507,
          1.3274670091003653,
          -0.2513904502165618,
          1.1043438466940307,
          -0.29624312541346504,
          1.3578539258467353,
          2.567063016223364,
          -0.718808934255757,
          0.24295553732918562,
          1.3668225036595003,
          0.4663313751281708,
          -0.7598764316364784,
          1.9269484209263872,
          -1.0666735067373165,
          0.695813027621468,
          1.1956940346505032,
          -1.0718055435040894,
          -1.108065914201527,
          1.1386321840487443,
          3.5648904463470896,
          0.8303753585403948,
          -0.6152928225160859,
          -2.5743138692435044,
          0.7332963008462254,
          0.5735197884790489,
          0.8029622548594091,
          -0.30090496756638707,
          -1.116860279498588,
          -1.1445540072542575,
          -1.4696848938205354,
          -1.4402936745700916,
          -0.1910854723526654,
          -0.8264460106817021,
          -0.6269618022365974,
          -0.7264741139604926,
          -0.19146536602796166,
          -1.5925456294458495,
          -0.7725011617261129,
          1.8835223227627758,
          -1.4531436388768184,
          0.7242128292776372,
          1.7637140274796108,
          -0.15474876434098825,
          -0.07236216959231744,
          -0.7931551508469075,
          -1.0267920104930668,
          0.13027221444044398,
          -1.0960947200455053,
          -0.17935814026496144,
          0.5204996406669811,
          -0.5865866298454158,
          0.05886225191966524,
          -1.3309849208791915,
          -0.533548477049167,
          -0.07509253971666936,
          -1.1477661395123209,
          0.4707888261997333,
          0.5414200331130637,
          -0.03706485035248691,
          -1.5698726027159922,
          -0.24222087723299315,
          0.7960757485350596,
          0.09807097036944362,
          -0.5552250887453511,
          -1.2166973626337318,
          0.6478609706202493,
          -1.1402298235619404,
          0.1702121109394247,
          0.38492276888539256,
          -0.5257237534968165,
          -0.8942796507142875,
          -1.8999901835347586,
          -0.6415362836880735,
          -0.7459196086990535,
          -0.11291980961286546,
          -0.85765943864484,
          -0.7003748935920479,
          -1.2018721121931506,
          -1.7924786436482316,
          -0.38959084249958204,
          0.2126237434401517,
          1.88105944174231,
          1.2349848265642789,
          1.4216673569114822,
          -0.3729136615204546,
          -1.9058605645199058,
          -0.5158106947502209,
          -1.1195294383938754,
          -0.2178801519996396,
          1.8950027908189744,
          0.9627679647002041,
          1.0442536029272511,
          0.24575551326327486,
          -0.31225793825476644,
          -0.38200167242736754,
          0.35835873548717223,
          -1.6132077380836471,
          -0.30780047577298814,
          0.025601756389305983,
          -0.08551269893984301,
          0.5401249841995247,
          -0.6533222145618096,
          0.050748904064381886,
          1.015149069579583,
          -1.6168240205794169,
          -0.8091015774773735,
          -0.23684857831408718,
          -1.6622860315512282,
          -1.2836738741838543,
          0.5289743880670633,
          0.13926078074581477,
          -1.2905246253095706,
          0.4449609419502526,
          -1.811724912658657,
          -0.39784042068210373,
          -0.07557793510143944,
          -1.3738981235794743,
          -0.621691473531612,
          0.2906848635493903,
          -1.878491825232329,
          -1.75199217042879,
          0.4972142599128833,
          0.10165447406562492,
          0.7329013811213841,
          1.5571267675873255,
          -0.7768173618010615,
          -0.33420154992944745,
          -0.3857195368873323,
          -2.084441022641277,
          -0.26674634531202485,
          2.3188198718327397,
          -0.27259678068581694,
          -1.107355915671466,
          2.01519512946172,
          0.12960958160378466,
          0.4426158522810834,
          1.0274902533384174,
          -0.17250667061887817,
          -0.1026220560382167,
          1.4422428120258874,
          1.142070947486866,
          -0.5272049489780185,
          -0.25862489692463503,
          1.0131969752777485,
          -0.2654013963496053,
          0.25122354469475566,
          1.138586419221851,
          -0.3999781815868957,
          -0.44313509812198015,
          -0.09889702873379458,
          -1.9344727789545701,
          -0.4717283150293007,
          -0.8792964863763837,
          0.44896184107719106,
          0.3020176731763329,
          1.3884538211702442,
          0.37276641578124475,
          0.9536807592957971,
          0.7317296290965741,
          -0.09172446343592852,
          1.8586768792220698,
          -1.2838387837462844,
          0.36910951478624676,
          0.31752692625909473,
          0.3518385274934761,
          -2.131340996943989,
          0.037061658076111156,
          0.456340768799797,
          -1.4097266273054225,
          -0.025246274388684237,
          -0.6375483408766193,
          0.9179560544619525,
          0.9243902632479434,
          0.8069394134676383,
          -2.6422044101127025,
          1.76991461443585,
          0.04462563732231101,
          0.20129352284245822,
          0.9276110543092311,
          -0.40934915793971427,
          0.9324923689204783,
          0.3964262678138662,
          0.6106043773671596,
          -1.4824812065142916,
          -1.0187798723775732,
          -2.0094787894613804,
          1.3631641172435354,
          -2.404004602656852,
          0.4673677986136335,
          -0.4964069705683519,
          0.13454319229056316,
          -0.7090383562123557
         ],
         "z": [
          1.5039254472250672,
          0.745934594837283,
          2.7813733741173046,
          0.3318376009609876,
          -1.003845691183142,
          -1.2293453520349602,
          -1.0784576855160997,
          1.02063480739135,
          0.31483810425298503,
          -0.35389466245478557,
          0.5735869072043532,
          0.3308222814628404,
          -1.187972702103292,
          -0.03775165473752302,
          -0.8783644649531138,
          0.5183946007015933,
          -0.29971362718739997,
          -0.698910278924214,
          -1.0672591186171239,
          0.9971814729395617,
          -0.09690673464341146,
          0.25375132656129773,
          -1.20388910748985,
          0.34581609678063124,
          -0.7383971949435589,
          -0.1026542372388034,
          -0.6020719304509038,
          2.249596580128465,
          0.8934503695282604,
          0.3858811981363963,
          0.24540138711030038,
          1.2187242721615728,
          -1.4205582755635677,
          -0.2197620871123632,
          0.7324859802685395,
          0.1738382623447668,
          0.18929274761562065,
          0.1837414707783747,
          0.8184597882651033,
          -0.8380329388686104,
          0.28409832946889174,
          0.7398615768857291,
          -0.767421862034111,
          0.9754537036670228,
          -1.2250165305227458,
          0.28632186287156036,
          0.49587358081498745,
          -1.9078716297988676,
          -0.1144274581288908,
          -1.9266709530176263,
          -0.1773708159246222,
          1.4108027024130148,
          0.01739459562697084,
          -1.1229178556661987,
          0.5092264275788143,
          -1.1570583009772544,
          -1.4647452596696497,
          -0.3326714447570777,
          -1.0719663115827793,
          -0.3454648647545697,
          0.25356919642432507,
          -1.095689373843069,
          1.8723047113364983,
          2.0048767642066063,
          -1.2802963403040146,
          -0.5887433285900463,
          -0.9831568656617736,
          -0.8410883094503964,
          -0.2115809133853568,
          -1.2345265189706205,
          -0.7832050114982223,
          1.0086285208735601,
          1.150798087065338,
          4.7677530826946715,
          -0.05555614802124138,
          -0.15761556329341186,
          0.08826582689679065,
          -1.0526861236240386,
          1.1865667496004457,
          0.18139321428479135,
          0.6001343624960769,
          -1.0675032730369196,
          -0.4845419911212055,
          -1.4862504374409835,
          -0.7966648005100379,
          0.4030523831886129,
          -0.1837582150543267,
          -0.3813993349856034,
          -0.17354693731522858,
          0.4248025305816076,
          -0.289192701391342,
          -0.012128520660240285,
          -0.33257088363316617,
          -0.3255861922242365,
          2.1611560449541645,
          0.2332538058404914,
          -0.6863532542559403,
          -0.7537683259327158,
          -0.8806700866994277,
          -1.2292824862367386,
          -0.7331096012362172,
          -0.5996873389476272,
          -0.3181142105290146,
          0.2148759683113336,
          0.712656009923863,
          -0.774175880067436,
          1.1268304330002148,
          -0.8931964547592293,
          -1.1254272544471229,
          -0.3762719058131052,
          2.135916684345277,
          -1.5536785226662118,
          -0.555142196171437,
          -2.079800521720562,
          3.757969807594394,
          -1.4526206713290555,
          -0.6624037378372251,
          1.363080082880051,
          -0.4287679442712002,
          -0.39258271781038084,
          5.046725701570214,
          -0.9014474985970066,
          0.25487128322800023,
          -1.3228818602588481,
          0.0930639644527998,
          1.991236322568453,
          -0.1427300051078547,
          0.2011220147614972,
          0.25133362400160475,
          -0.26097587558317537,
          -0.9515842971808739,
          0.05800215642707637,
          0.5989019310760071,
          -1.614606790488874,
          -0.6994429725767903,
          -1.17706693565838,
          -0.51083618130459,
          -0.503369645606304,
          0.27888288925121246,
          -1.1086344077572001,
          -0.44767182281658374,
          -0.1692214267726102,
          -0.3409286162411621,
          -0.6494628822846541,
          -0.5670698783245863,
          1.3833162810575776,
          0.6241448892466389,
          0.9781195872028876,
          0.2284149837566178,
          -0.01966631643231984,
          -0.7912672675288546,
          -1.2681181908161214,
          -0.13835224522693568,
          1.9807256226735892,
          0.7042980685709218,
          -0.4924638513045286,
          -1.1771494565160763,
          -0.7616902752546618,
          -0.23216333863497957,
          1.8239112573589193,
          -1.19255809386745,
          0.5301823129730608,
          -0.08006968561340294,
          1.4684378834416794,
          -0.03471639614174392,
          -0.8141784385353662,
          -0.974827823090317,
          -0.45840513620950396,
          -0.11237958691591933,
          0.8202635320317099,
          0.3490402299854505,
          -0.1279882750635088,
          -1.021826410928612,
          1.5722502849460809,
          -1.0581615625556768,
          4.22559802493405,
          0.42080614712845843,
          -1.362613871969883,
          -0.9319973757242664,
          -0.8048503217706232,
          -0.6078445579598936,
          -0.5645824212338209,
          0.1855040735568334,
          -0.8194426551946251,
          -0.22885016596402866,
          0.47318213046857066,
          0.8986901323299209,
          -0.10540897905707346,
          -0.39312914808538296,
          -0.8940934297350533,
          2.551010166531683,
          -0.7378844841185627,
          -0.5350321358807137,
          0.15322823565530014,
          0.5336175127238109,
          -0.020261773456063642,
          -0.42147134222511146,
          -0.9740454050224772,
          0.20669709596161404,
          -0.37122611699792707,
          0.06292028396333092,
          -0.09161259566627271,
          -0.13803529628962716,
          -0.6383026067675023,
          0.49979830214567433,
          0.19097500273089713,
          -0.23969434300210418,
          1.127924484741907,
          1.0273154689013217,
          1.2262804209264961,
          0.8243321131883008,
          -0.4127024089588395,
          -1.3412439045944329,
          -1.213781262098791,
          1.4073586264486286,
          -0.9040477062039871,
          0.7465002378086327,
          -0.44602631643012536,
          0.03591330156852621,
          1.4805628334099363,
          -1.6424815136382966,
          0.16950587844704249,
          -0.09350518328164116,
          -0.34410045411853535,
          0.9299501565790066,
          -0.2783601963593405,
          1.228724136398576,
          -1.6793480603408606,
          2.194206314777271,
          0.07318558495242199,
          -0.2313833422830268,
          -0.6619299306649732,
          0.662764096610262,
          -0.22287725869947841,
          1.266264160724913,
          0.9018451357963497,
          -0.9817583329076721,
          0.9833677885183478,
          1.3411508121961286,
          0.47429253896023904,
          -1.1253210329867571,
          -0.30492246479434854,
          -1.4230215897791707,
          0.5448450316313547,
          -1.0032314261106965,
          -1.0886935386284644,
          -0.6014600735994963,
          0.8078622730374884,
          -0.630503105101067,
          -0.712987974066697,
          0.10551211748266846,
          2.4864269701110207,
          1.4629845216133295,
          -1.0001214579335034,
          -0.4089718650865954,
          -0.3291957806088098,
          0.20786591114500533,
          0.3237541626437946,
          0.5049703936343226,
          -0.8329126743787664,
          -0.83196424616871,
          -0.2720574974830107,
          -1.1367670307477091,
          0.23458689143128747,
          5.859888138642868,
          -1.5728890617128464,
          1.1137666515016893,
          0.4147943940844614,
          0.4318305998214384,
          -1.0317264179896024,
          -0.8915391048829319,
          -1.2706179512925766,
          0.10450248259161679,
          -0.641377525539384,
          0.3138557753533636,
          -0.01589903575832765,
          -1.2593677175771063,
          -0.5960650177838837,
          -0.057774525685476835,
          -1.1339276473767017,
          -0.6398179453880563,
          -0.9729745365207745,
          2.9214231677667066,
          -1.2764391551179655,
          2.1591540768878352,
          -0.6928045425148429,
          -0.370157504375653,
          0.4727498971422404,
          -1.0536469597692246,
          -0.47707750129102267,
          -0.3688503087398025,
          1.0042977999977678,
          -1.0983064452175333,
          -0.8953098210255521,
          -0.809301910673259,
          -1.2922988724099722,
          0.17543654640949535,
          -1.0589512461239605,
          0.053472072792490236,
          -0.7582752658604538,
          1.0019224925639094,
          -0.8519800701148008,
          -0.2100491729545467,
          -0.2248180941862959,
          0.434924563520787,
          -0.24202151033201127,
          0.19600076055109228,
          -0.933434403139027,
          -0.5800503719123299,
          -0.28333500163771996,
          -0.19502771393573065,
          -0.4426078867644039,
          -0.5251327354837401,
          -0.77615811386159,
          0.6457075487307222,
          0.033635890950543874,
          0.05526468734795162,
          0.22736019990565842,
          -1.7751961683415836,
          1.5470246301298216,
          -0.5338930704645277,
          0.13302082660687115,
          -0.6199749374499276,
          -1.5796315368760423,
          0.5300849960541688,
          -0.17958791447879516,
          0.9680309729186098,
          -0.0905927846949585,
          -1.2425902971959528,
          -0.2008306007108689,
          0.4098587221048297,
          -0.4246426835940211,
          -1.3863036314758113,
          0.7098523843107956,
          1.0411774417073487,
          -1.1983354618353244,
          0.5125821316757571,
          -1.0065643110286444,
          -0.19918540127942408,
          -1.4096282051106563,
          -0.056623375051347735,
          -0.3352415897219776,
          0.4186188080328866,
          -1.5508110754291753,
          -1.1388792510439798,
          -1.3744828818772037,
          -0.8636770793396119,
          -0.5115320415606087,
          -0.8642331460735864,
          -0.6144021944263436,
          0.4887619836568728,
          -1.199623588206603,
          -0.057678315217344386,
          0.1847900810538439,
          1.3131595561108504,
          0.35574185800105795,
          -0.9066703057925969,
          0.3944549120183531,
          1.0203418111374178,
          -0.11159864008595789,
          -0.6916980492689442,
          2.250283697026626,
          -0.024923360659382342,
          -0.276868148446996,
          1.7456240551007238,
          1.2541210836482404,
          2.839102470642727,
          -0.6712719877683693,
          -0.0021167896293900253,
          0.14151634226318868,
          -0.46489578230712353,
          -0.7683212053625623,
          -1.406447210235354,
          1.4671363007863218,
          -0.720459213370037,
          -0.764835290889825,
          -0.14407634093534044,
          2.1481193062929282,
          0.4395489824634357,
          -1.047647616769084,
          0.23413574992652988,
          -0.6205085483401298,
          -1.1318041755072585,
          -0.23877906996284579,
          -1.1542593818654094,
          -1.1852215067692748,
          1.0844949081221895,
          2.1286470733588003,
          -0.7243302139921953,
          -1.2182929478866393,
          -1.1148953168440021,
          -0.1605738892970979,
          -0.8120338528873322,
          -0.22070303207691208,
          0.3486259285830655,
          -0.7344434436380726,
          -0.8404808290439784,
          -1.5692542863335137,
          -0.5594788058545683,
          -0.09824845323727768,
          0.47600105699785966,
          0.20024598930371834,
          0.323536074402626,
          -0.2158789158507127,
          -0.38357406508346675,
          1.184321346583316,
          0.2462393105562674,
          -0.3564466356885932,
          0.036099085214062535,
          0.9158627266038689,
          -0.9043858290834094,
          -0.3912365101749311,
          0.4760154193554695,
          -0.19703795749040437,
          0.09603939550373583,
          0.09862937745744464,
          -0.32536525093317337,
          -0.2123576554266983,
          0.32809476797183434,
          -0.2864279756690134,
          -0.6400518901338605,
          0.0666061776580263,
          -0.971490907343773,
          -1.203379637453319,
          2.3851744120581926,
          -0.7409326234033524,
          0.0532318661390963,
          -0.07238405435837367,
          -0.3728676163342603,
          0.7008141686761984,
          -0.6710749086590304,
          0.045863625773096946,
          -1.4010273026080702,
          0.3928355580581909,
          -1.1315802316904984,
          0.21661927675904005,
          -0.4790550692292153,
          0.3070136478393873,
          -0.26221839093418287,
          -0.06138728872577005,
          0.7326337716176228,
          -1.3448952985894589,
          -0.8466736534248732,
          -0.3292299874921259,
          -0.5435373623567604,
          -1.3917712619561555,
          -1.1577990474732185,
          1.3088894888876488,
          0.2821205565589591,
          -0.8926042301521494,
          1.025875973935042,
          -1.1013465465759051,
          0.4465351311098283,
          -1.6421522666808535,
          0.04262269901257902,
          -0.20550664778653852,
          -0.6752568236441848,
          -0.09459881778826022,
          -0.753860027464417,
          -0.06939865680461224,
          -1.2210282716376162,
          -0.22703234135847225,
          -0.22721650281740893,
          0.17836286926500644,
          -0.2876642266586534,
          4.371069929620871,
          1.0472040573495178,
          0.011700862643835498,
          -0.366929415636944,
          1.8245440993485849,
          1.4096833219310374,
          -0.8639958857113297,
          0.5663876111122331,
          -0.6140833883863586,
          -0.06671657288148658,
          -0.023397022430570315,
          0.21431632847225987,
          -0.2993421205708357,
          -0.9894784268945555,
          -1.5684099203194162,
          0.6563109681045527,
          0.2431558177379377,
          -0.1189613346059316,
          0.13250097083740933,
          -1.5402617155258687,
          0.3180422494770608,
          -0.643139435266254,
          -0.9679958364455908,
          -0.5916943057620804,
          -0.17718992661587277,
          1.0065095058548983,
          -0.48499689142640606,
          -0.9980186489337339,
          1.0829737604014034,
          1.5016770324500635,
          -0.6659001001029315,
          0.6007318853045247,
          -0.7415271110401759,
          0.06048119735519687,
          0.7276991178891435,
          1.5667680074575574,
          -0.7094276044131745,
          -0.6117619335452182,
          -1.208105007481213,
          2.1788761967169767,
          -0.7301687209951054,
          0.5498039697077014,
          0.027404099189889317,
          0.42425512627683487,
          0.267340044275779,
          -1.3467072661953368,
          0.23764640440716372,
          0.20227455369139163,
          -0.5463144479689819,
          0.19227811546134682,
          -0.029226593654179386,
          -1.1900872228180797,
          -0.8900255711639333,
          -1.255765285826337,
          -0.4765946583521667,
          0.28383946876626687,
          -0.061057901252164565,
          -0.3079630531579573,
          0.8795539235460313,
          -1.2572035010196205,
          0.024965251746970465,
          -0.5607532081808173,
          -0.1078321826424898,
          -0.7599315743359409,
          0.03764916312570406,
          0.34804896244701067,
          0.3789694218659539,
          0.93273073081739,
          -0.9167728135495585,
          -0.1119332287000312,
          -0.8671151841241096,
          0.18118266940208552,
          -0.32379594552684465,
          1.4502034531127166,
          -0.31773762493105995,
          -1.0632518340523054,
          -0.460251227562257,
          -0.6618221842731239,
          -1.262633998433962,
          0.5033342653214987,
          0.9428398541013643,
          -0.43031619677328103,
          -1.1152275334582296,
          -0.32042101274040447,
          0.2488160690079168,
          1.6428698825330417,
          -1.6333193162016286,
          0.5425733138965284,
          -0.6366365091997099,
          -1.0444459348645134,
          -0.02069313629324726,
          0.41481598263500463,
          0.2513369977519079,
          -0.011152667787639722,
          -0.3979947366850418,
          -0.9926759736973993,
          -0.11652646399478828,
          -0.6712126776756417,
          -1.0493053944755177,
          0.45075073997349496,
          -1.1959285920100529,
          0.11863789240756183,
          -0.845500249569897,
          -0.16723446517281382,
          -0.1301969004969225,
          -0.4845072113837381,
          -0.6043488252101499,
          2.7547892239631,
          -0.08207562417984046,
          0.27362551392108186,
          -0.31787121981026856,
          -0.9267517138980284,
          -0.032743723473139044,
          0.48468548302618203,
          -1.2495044254300818,
          3.043086711321022,
          -0.17171865942506098,
          0.32520297717745006,
          -0.3327261409726612,
          -0.9974365700978758,
          0.7485198491775579,
          -0.5546191418246329,
          1.0372060340458895,
          -0.6391778108397462,
          -0.5802986289236477,
          0.3549999969414359,
          -1.0646830972262735,
          2.500358464693116,
          1.193331218471666,
          -0.025778667984354544,
          -0.5474016787026075,
          0.12794489445061388,
          -0.6233213014413244,
          -0.4928692128684473,
          -0.4265044067919392,
          -0.22646862993709266,
          0.6386323166342086,
          -0.564081941304854,
          0.7494196581029331,
          -1.0035326159127116,
          1.067549994097441,
          -0.8857358016437656,
          -0.3762672176044698,
          2.164928224208086,
          0.06842631837638215,
          -1.0913326163700003,
          -0.7004191781848043,
          0.2718601620955856,
          -1.125707996535369,
          -0.0730147309773263,
          -0.5062375373826582,
          0.3164174542580128,
          -0.7983037633158089,
          -0.43689415850137786,
          2.286990571296043,
          -1.2583638401401138,
          -0.37432499937851166,
          -1.2646964654260797,
          -0.9719653344871471,
          0.48396535114871797,
          0.41016150046826283,
          -1.2699406324481999,
          -0.6400821043434263,
          0.8059046410130645,
          -0.27557319551325404,
          -1.01355874393207,
          -0.4259659006307594,
          -1.7928763062861581,
          1.1974739077141032,
          -0.41499542704748205,
          0.07453776231875266,
          -0.621972208544418,
          0.9999376434536439,
          -0.2158532081691215,
          0.25284454374609905,
          -0.8871343728837039,
          -1.2598780124219515,
          0.5972008162672043,
          -0.4105238464689321,
          6.093714065855764,
          0.04758569245237993,
          -0.01409255834905632,
          -0.5911056618286423,
          1.150448572967471,
          -0.1872822421808895,
          0.39116026196789383,
          -0.7058209043170961,
          -0.4269892109220658,
          0.2884782807776613,
          0.44432609133062334,
          -0.2287800832843892,
          0.38290239818472155,
          -0.38391641513155994,
          -0.37829156867804054,
          -0.792529459473164,
          0.7470097934466625,
          0.38641998902898833,
          -0.44639016899261635,
          0.19901222022551263,
          0.33044366271653797,
          0.744139958212651,
          -0.29441826636788765,
          -0.1532461639890855,
          -0.7087223922326014,
          -0.32390824363129345,
          -1.1089118846723056,
          -0.6962866518542683,
          0.41679498529619147,
          0.38003979509112273,
          -0.9054805933032024,
          -0.9965458052175228,
          -1.7395323110784242,
          2.16914370164879,
          -0.16706827735282012,
          0.26798355757765946,
          0.2938346122534084,
          -0.09934809877689053,
          -0.02835994453090798,
          -1.3839652531213127,
          -0.20262405595140193,
          0.23628721191676233,
          -0.6342733555193587,
          -0.08683422488890699,
          0.9097728616897622,
          2.535536248000096,
          0.22947917300180423,
          0.5609526498937413,
          -0.8537623713297439,
          -1.3258003690943514,
          1.3263368882325652,
          -0.2597452303139269,
          -0.35582193850416716,
          0.37250151194325654,
          -0.18209332379550522,
          -0.9217026607922209,
          -0.6216158489170731,
          -0.5825699862008572,
          0.6206828268827674,
          -0.4805400271853564,
          3.527171217625934,
          -1.015955281848235,
          0.34171098629976804,
          -0.9444246207548507,
          -0.9931318180558385,
          -0.21479872358256533,
          -0.8884124693846006,
          -0.26147846692591314,
          -0.28516782460212853,
          -0.22508382004684852,
          2.9471584706652054,
          -0.872205706402851,
          -0.33233745476614257,
          -0.27510040292994586,
          -1.0304291148841154,
          -0.6045148156761749,
          -0.4038691310298642,
          -0.7147976477357886,
          -0.3337389193676348,
          -0.7291487968613497,
          4.990290917314157,
          0.8056371329152207,
          -0.9809626741329367,
          -1.34981740075476,
          3.724385594064769,
          -0.39673948161695527,
          -0.2521757897793243,
          -0.7593450055109444,
          0.37010795106561256,
          -0.18527669372872715,
          -0.03832966642380909,
          0.351776721411294,
          -0.5691596878179125,
          -1.0475819703371714,
          -0.18460279335301172,
          -0.9643058480931288,
          -1.001810875397224,
          0.7437406041114691,
          -0.3752129522654889,
          1.1670718287330868,
          -0.5125191036689264,
          -1.2366913871964915,
          0.5006583881003718,
          -0.28710678063338657,
          -0.10530574264453504,
          0.2536263677872179,
          1.1251796347193046,
          -0.3758528928920724,
          -0.10539824898677856,
          -0.4882521635767677,
          -0.4693742239468389,
          0.8063564969645356,
          -0.5099959805776242,
          1.3420333527477881,
          -1.8170996446560521,
          -0.14370726371540188,
          0.581084499614977,
          -0.4137697201561448,
          -0.4744098237874218,
          5.6384532043927456,
          -0.6253901625883647,
          -0.937413482300438,
          -0.007701590150148682,
          -0.6985264232354831,
          -0.6973853599555114,
          -0.8450356641447441,
          -0.7523719564305582,
          -0.8186545244958078,
          -1.0233894273647557,
          -1.8219566177481814,
          0.4279963738720598,
          -0.4001881599477264,
          -0.6833780304137733,
          0.4544323683345853,
          -0.6532909600361577,
          -0.6709495513521435,
          0.3009669338468014,
          -0.6255699194948684,
          -0.11373266909415314,
          -0.7748113179934546,
          -0.4211255140799857,
          -0.5560237946455376,
          5.729148048905572,
          -0.25801986524491194,
          -0.19338790408986112,
          1.347371907165866,
          0.2238285530974466,
          -0.8578907918322707,
          -0.33902526011294526,
          0.21311244283483283,
          -0.6204882974357335,
          -0.08738527686353294,
          -0.16722389526812448,
          2.6561729237239047,
          -0.011760392369994292,
          0.0329698009880206,
          0.4229702832157549,
          -0.5605402921410909,
          1.2477517203994968,
          -0.014115408859717756,
          0.40618198519283066,
          0.19506128847506912,
          -0.7671504309620184,
          0.32063367306169765,
          -0.3728061151807472,
          -0.23167774157183116,
          -0.5385009280670511,
          1.3725964909377777,
          1.3323790546812642,
          0.38139989305413496,
          0.4610909412394846,
          0.3200374158694114,
          1.3219771860127687,
          -1.2877195606748482,
          -0.28354534783605084,
          -0.37706181031087793,
          0.369639019612863,
          0.29459517896216464,
          0.049013041011331686,
          -0.14588977952259174,
          -0.4211739567971808,
          -0.0018169255474523912,
          -0.4175467231433066,
          -0.6653372756955849,
          -0.5991245488139877,
          0.6218402072880899,
          1.880349951556929,
          0.8708699832815555,
          -0.8077421840406468,
          -0.08383360772570354,
          -0.3358976696829802,
          0.9613941735494996,
          0.4026084348611292,
          -0.39005768644925765,
          0.7957089549554165,
          -0.8571091574497748,
          -0.735004167108951,
          -0.48065182648944815,
          0.6670907602008256,
          0.4290236682072602,
          -0.5251474869395251,
          -0.49877841979425885,
          0.482232865010938,
          -0.6923653472216726,
          0.46531200399997374,
          0.2200603751349216,
          0.9005251891727512,
          2.391896687921692,
          0.309683004332562,
          1.0732344000012624,
          0.4235811585763408,
          0.534593356443332,
          -0.7288054431054477,
          -0.19574295921020057,
          1.125492444643646,
          -0.4055334260926781,
          1.471172871854428,
          1.052216900195554,
          -0.32301719034476023,
          0.1591297301225313,
          8.012758478669234,
          0.19439305133564336,
          -0.18359326070835583,
          -0.8859003129490071,
          0.022954843743960774,
          0.3260864382650101,
          0.3914756890647363,
          0.061001750000441946,
          0.008895999691068095,
          0.4220604505126841,
          0.2655375290725085,
          0.6937455730398884,
          -0.3172960011850455,
          0.13426050586756696,
          1.1788338390881723,
          -0.36193185392773525,
          0.624272533048274,
          -0.21870243699926425,
          -0.25404955218345804,
          0.7066241968658319,
          0.1451310850364534,
          1.0816646715295215,
          -0.7000887715140874,
          0.30308097535262396,
          1.0294573324324143,
          0.7883485282667312,
          0.8775890346881774,
          1.2446417973419146,
          0.6901524493536783,
          1.417474303719622,
          -0.41482817124963817,
          -0.7390475842942844,
          2.0795892958656506,
          0.3769353900628792,
          -0.23267072482778273,
          2.1081976872052737,
          -0.0008874864716459826,
          0.9519776409696125,
          0.0034673805747936653,
          1.6664725974140184,
          -0.7976155419818749,
          0.13427137612392076,
          -0.5147458714744286,
          0.04649809601381287,
          -0.9665522411205909,
          0.6944937851203024,
          0.07795986725948041,
          -0.9603075086664665,
          0.08364929563447242,
          -1.0379594115699529,
          0.7002723537566734,
          0.7684577152182172,
          -0.4961209754056435,
          1.6743742198213414,
          1.7965108441607178,
          0.22399421902288716,
          1.6254222576954498,
          0.5610828200350487,
          -0.7107030214107479,
          -1.2093882141122811,
          -0.25868343090292956,
          0.7265053546422215,
          0.10188764433536103,
          0.35634280540508473,
          0.4060271808597658,
          -0.22700942911097097,
          -0.3857424863907561,
          0.4720629467833776,
          -0.6898578741921673,
          -0.475975658760072,
          0.7688383034178732,
          0.09549663982971451,
          -0.47383680102904846,
          0.1629234810679606,
          -0.7485984795657316,
          1.1481183856593882,
          0.13778085688326122,
          0.12125599569087049,
          -0.02471519283174822,
          -0.527779720353268,
          0.43019977310028884,
          0.8812878375783022,
          1.8910986994232604,
          -0.7014152682021838,
          -0.6292357994920007,
          0.4781823897881872,
          0.2126633076201859,
          -0.8685035854628176,
          0.8005504394407699,
          0.31387305661356435,
          0.6328793427772015,
          -0.20090847078828206,
          0.0526022577288825,
          0.7426452797969707,
          0.26659152631912775,
          0.17851678146424924,
          -0.6432595495477786,
          1.4285920870255089,
          0.6304842198040544,
          0.5795498708715421,
          -0.5952733896441565,
          0.5129441490686145,
          0.731343813591995,
          -0.7565694657112478,
          -0.8231809503407299,
          -0.49492540832704357,
          0.0839655195879766,
          1.952880669955695,
          0.3228719935205,
          1.0407271730219907,
          0.37464419696960266,
          -0.008457189680950583,
          -0.2790146940199892,
          -0.28686768076760144,
          -1.26536445135556,
          -1.5369918836202854,
          -0.026537749962093144,
          -0.8959407131498484,
          1.4649326522686987,
          0.2745304931253768,
          -0.9208189271584816,
          0.004982633530141043,
          -0.27182176889255927,
          -0.04500746363156463,
          -0.2688748463685872,
          -0.44018433178584326,
          -0.8776401851557906,
          1.0921737694519873,
          -1.2141344622890429,
          -0.29254063588547424,
          -0.07909013301829158,
          -0.03296444576455911,
          -0.22761450544487344,
          0.3412050886745564,
          -1.6092521404922493,
          0.24123584308488263,
          -0.33501702416326706,
          -0.6954813661847358,
          0.13888923536592682,
          0.6035083820474343,
          -0.9675605545099882,
          0.3692985323144061,
          -0.3287584752106531,
          -1.072821945599257,
          -0.7400884857732722,
          0.01924972247243779,
          -0.34153557751976577,
          -0.7868626487073737,
          -1.171235242518271,
          -0.49155740622368527,
          -0.1789561715350098,
          -0.19361802871630426,
          0.41874576424028076,
          -0.24648463445817803,
          0.6630820097647524,
          -0.8322671242398121,
          -0.26507914006712885,
          0.20709037997548008,
          3.6180993712880554,
          0.9026295279496908,
          0.8274621790455917,
          0.15562053224625014,
          -0.08438221615478218,
          -0.037310453181180175,
          0.04253568222899471,
          0.41176390769447857,
          -0.9814497334346857,
          2.036531999149432,
          -0.24267509031852805,
          1.431933058241858,
          0.2035707152120802,
          0.6866153345683568,
          0.3462365189643718,
          0.5255864198192673,
          0.8404709603946231,
          -1.7992862278031363,
          1.5809918376898597,
          -0.24816965378744224,
          -0.6593746901693122,
          1.2380186859141458,
          -0.6918346453434902,
          2.0457086409785887,
          -0.010976117983453436,
          -1.0002290670122902,
          0.17330955527374395,
          0.16271754794351959,
          0.2807560771798411,
          -0.10395608748108696,
          2.164466619209764,
          -0.5338865397363044,
          -0.2952050761174097,
          0.45070570786043407,
          -0.08913925956514455,
          0.22617702917305443,
          -0.5854374869783452,
          -1.1919926013509243,
          -0.6127557868625931,
          0.7097984658312173,
          0.5831948989197528,
          -1.2735776788124455,
          -0.4034554678788087,
          0.41662300617655634,
          3.339088876438082,
          0.09949678800102953,
          -1.15513604401816,
          0.7730906794563087,
          -0.16810150092978002,
          0.294640842158789,
          0.32787631804137674,
          2.0918683186423848,
          1.1243723342503746,
          0.29844225615947734,
          -0.7980366755308352,
          0.3871258960745548,
          0.6307708402804894,
          0.569737794997571,
          -0.15294712425568663,
          0.15020967922178252,
          2.0479744454836144,
          -0.14892760586730736,
          0.08698044208533837,
          -0.864773162727298,
          4.9638333767091245,
          -0.3074311094732996,
          -0.46588807588864345,
          -0.04458298902310253,
          -0.1798740708831114,
          0.5343998812214991,
          -0.8517273568689135,
          -0.8774475111527913,
          -0.7349421480289571,
          -0.9233350534627829,
          0.5727593701885952,
          0.7010763494484503,
          -0.4103041680774227,
          -0.8816706984097139,
          0.8083620570417296,
          -0.592392860199222,
          0.5943536761205231,
          -1.1867952779475592,
          -0.4912366947991556,
          -0.3136985680149285,
          -0.9380675881308552,
          0.5333639320699507,
          -0.3495447278690233,
          -0.3471680396493523,
          -0.38309712883751085,
          0.3191757415063569,
          -0.02711541360038661,
          0.5590534879810642,
          -0.0001439637691586198,
          0.47873800298030766,
          -0.029710858016396308,
          -0.13711702344138046,
          -0.16826726270557313,
          0.3434019210388316,
          -0.14773422386191906,
          0.25209017345631773,
          -0.9897269484535411,
          0.04471934536012471,
          -0.5675672355540495,
          0.29858612557417363,
          -1.4825393141094867,
          -1.375519921261081,
          -0.375962297316613,
          0.12255430012574643,
          0.8807456921660413,
          -0.1097424969943943,
          0.8042763921505907,
          0.10452496752289314,
          0.6913519698592305,
          0.13217084943832422,
          0.15578444737751407,
          0.06905399585859415,
          0.695150546748401,
          -0.6694407577602969,
          -0.16778438171304008,
          0.599761623572345,
          -0.7172873389131033,
          -0.4723186998221861,
          -0.03893031463035605,
          0.6512404545287904,
          -0.6918520523143518,
          0.10718060260830296,
          0.15153312628808321,
          1.9257694234086034,
          -0.9161044278390035,
          0.5775125483704961,
          -0.2480280551264317,
          -0.6335045382637482,
          -0.050472325406596456,
          1.6721737542483437,
          1.3643803194834496,
          1.2552324048702623,
          -1.0303921693173395,
          0.34825090969804434,
          -0.024985676007504183,
          -0.9931196171540658,
          -0.10448939854321765,
          0.8093169283382831,
          2.3042166623293157,
          -0.1554047282307228,
          1.1662146783684506,
          0.49301549066096284,
          0.3162011495085668,
          0.32458743562447434,
          0.22939072213750036,
          1.9916739592146058,
          0.5249179032136869,
          -0.4076612040119905,
          1.9381152339801837,
          -0.09363502025339095,
          -1.2841182047988484,
          0.5021477626620695,
          1.3433408523172006,
          -0.05383853731552491,
          0.14669814004042286,
          -0.7165723426106795,
          1.2655884685801237,
          1.3093478766198121,
          1.0763555615738256,
          -0.14610655515694113,
          0.032326178461907946,
          0.8177461136565333,
          0.555471263741236,
          0.6421135569477457,
          1.8771518464195562,
          -0.35568955450865564,
          0.0348033589688065,
          -0.4785753824095476,
          -1.354316094708641,
          -0.5233749182578087,
          -0.27150251357475697,
          -0.5531827828845869,
          0.5926597268213127,
          -0.7622163446196298,
          -0.3898811839769525,
          -0.17420187153204925,
          1.0698305713920848,
          -0.6398617259472197,
          -0.16024644680892153,
          -0.4159943367744668,
          -0.17338021725395358,
          -0.08334742179403279,
          -0.14359836430960038,
          -0.5921016055831824,
          0.926767830522854,
          -0.5275402644352812,
          0.059195984750745,
          -0.9242150414287714,
          0.49496208555592436,
          -0.3841470734458056,
          0.517955130532182,
          0.3179373081295593,
          2.449062458059583,
          0.5597691177935108,
          -0.11391056099245948,
          2.3925540222954615,
          2.628594442299185,
          -1.2810962624808808,
          -0.07066624705444766,
          -0.764481418473406,
          -0.3509962805302632,
          1.4824695023165948,
          -0.5800841488916123,
          -0.38757477230386345,
          0.6506062630521167,
          -0.13982067992456676,
          -0.5333153379558165,
          -0.20500881292239387,
          0.44186295944523807,
          1.5350466274747914,
          -0.5625642101907052,
          0.05803873829910112,
          -0.7137231589661636,
          -0.8066504856481224,
          -0.2228408063598076,
          3.2210523151576256,
          -0.2630854833933775,
          0.07300288136781476,
          -0.19626000612057626,
          -0.78529181181654,
          0.2378293956207416,
          0.1619313260458007,
          -0.20147935749028603,
          -1.1721169733499743,
          0.10921018855032619,
          -0.3256184126244543,
          0.05264094756604045,
          0.22088950544250477,
          0.6584044094853969,
          0.09843403377188181,
          1.493472404469486,
          0.954812028902391,
          0.8677516957753776,
          -0.426010298312956,
          -0.580335074645071,
          -0.1361259711389493,
          0.014675098984184688,
          -0.8460794812200879,
          4.250352339567647,
          -0.8687877891206224,
          -0.6553847724579319,
          -0.0026196498067397635,
          1.3752458536523664,
          -0.06937255000378409,
          -0.327834262391728,
          -0.3016150501413833,
          -1.1106470134999444,
          -0.28043891547015315,
          -0.9816173483862884,
          0.15470563632986725,
          -0.014834630068912056,
          0.14464710914110643,
          -0.3062707210308781,
          -1.1998593081315607,
          -0.3282370431638228,
          -0.7936469068374011,
          0.18253696711705547,
          -0.43214074016703874,
          0.3474684605977978,
          1.8248337668756327,
          -0.15790548372211374,
          -0.25154826161528526,
          -0.42264488787732973,
          -0.5225830872925962,
          -0.7436384980964309,
          -0.21255977516395938,
          -0.20894308312780094,
          0.39074502111165454,
          -0.011102819733664898,
          -1.1662572281711892,
          2.400479866418879,
          -0.6627718787526771,
          -0.6489312322366052,
          -0.5515804283227349,
          -0.6051438431808691,
          -0.5868143608430644,
          0.5136807742005691,
          -0.42548622458208646,
          0.05731505447854938,
          0.0014845504970060525,
          0.2972228888372643,
          -0.7541328984347464,
          1.420729400651492,
          0.3191698580444287,
          -1.108129902533133,
          -0.20216630970783367,
          0.07761734711857082,
          -0.6610708582968666,
          2.0617740043506676,
          -1.0496487844083877,
          0.64733827714853,
          -1.1222810418621836,
          -0.8449780707536438,
          0.2980385058036161,
          0.6173860316473093,
          0.07446667749867282,
          -1.0939833236080168,
          -0.028826229438533316,
          -0.6091078191824684,
          0.43454619687715523,
          0.31318786662628456,
          0.24515807914617227,
          0.3525969752604582,
          -0.7452371541871856,
          0.3071109603222477,
          2.8524494435849572,
          -0.10911122736948743,
          -0.44302910644812926,
          -0.8546809147496502,
          -0.12290843614317108,
          0.5322050856299008,
          -0.09663605925273104,
          1.8701436935763802,
          1.124350225136008,
          -0.9593290061951837,
          1.076134556230499,
          -0.7173637401819462,
          -0.03225222062925107,
          -0.7762544443249493,
          0.08984671793964795,
          -0.6985455326808455,
          -0.016258328242289934,
          1.8407719735680572,
          0.8181255350158433,
          -0.26468621644657325,
          -0.4220070662410214,
          -0.06366862623564674,
          1.2330594879729488,
          0.14769934919650177,
          -0.6182280652487953,
          -0.5596502013735077,
          -1.1136058768045922,
          -0.20107395075099296,
          -0.48760242337229426,
          -0.6353854805961525,
          2.7141577563216255,
          0.16857151647868956,
          -0.5478667543781851,
          -1.6263102742311568,
          0.7361144030610584,
          0.6954494082740061,
          -0.12058612890739799,
          1.9754957892661456,
          -0.21187363769014944,
          1.2742433378134614,
          1.3154626155116307,
          -0.6962480586910448,
          2.682416887802735,
          -0.9764557687530365,
          -0.28582782992503236,
          -0.1563180591992662,
          -0.01836618864782103,
          -0.6609498932595599,
          -0.5465024420454924,
          -0.9806198517240936,
          0.0987684787730133,
          0.49406375493936566,
          -0.09607877152841905,
          -0.7316758043661853,
          -0.18237751471387922,
          0.08405501375786813,
          -0.3943846231585322,
          -0.6283380660166484,
          -0.28994525145286015,
          -0.786242792569495,
          -0.32308675011477694,
          0.17791447314696587,
          0.26665343010771125,
          -0.3124044380648765,
          -0.060458161639139446,
          -0.7890703981112038,
          -0.02720653990037426,
          0.2550156087306208,
          -0.13851720029559264,
          0.11661840583106434,
          1.5097224893822496,
          2.370530039501034,
          -0.9063819369860153,
          -1.3127939674998241,
          -1.416253003211774,
          1.3543999096721753,
          -0.03970865125911881,
          -0.7692837660240129,
          -0.18165626297219986,
          0.17160297583169404,
          0.002926109593213504,
          0.9402338710363769,
          1.1437413548506754,
          0.9391870378894313,
          -0.5026952096889149,
          -0.9531994542882511,
          0.2976079463416726,
          -0.455985750242171,
          -0.03539969247230749,
          -0.36976010359083616,
          -0.40024245871741404,
          0.08683446076468328,
          -0.42934206668013786,
          0.4337051191106382,
          0.02224472390144929,
          1.6546053142732424,
          0.8249189653215608,
          0.9300241498283245,
          0.9018902440856691,
          0.4324374097804612,
          0.464256206321903,
          -0.515756298995693,
          -0.03947196515979507,
          0.4839988910268712,
          0.5824031522695555,
          -0.4946497957675622,
          0.5967364171550088,
          -0.1817559543889213,
          2.560074613055724,
          -0.40356706163758,
          -0.5543327425767374,
          -0.09725691289940132,
          0.1094520818515513,
          1.2357372615952895,
          1.1169687418579455,
          0.0492251612365678,
          -0.2553623783403276,
          0.5251349155408283,
          -0.37223516142980334,
          0.5871064635974069,
          -1.5301697387997428,
          -0.4573086412315166,
          -0.38794538527194183,
          0.5643136088408521,
          -1.2949311542100161,
          0.12304921756529229,
          -0.5567696069637638,
          -0.7015155024084782,
          -1.0453525821482423,
          -0.5958092053726483,
          -0.1927186530229888,
          3.7466328000904427,
          -0.5790657663413482,
          -0.708999097257114,
          -0.601565901889011,
          0.25434734983734136,
          -1.1924862580115245,
          0.615722752375124,
          -0.0842531031143677,
          0.19572661012637857,
          -0.7709357130776809,
          -0.6766551105393376,
          -0.6267986471105689,
          0.919069813423528,
          -0.1547702541993167,
          0.15605153131671282,
          0.264773981453357,
          0.311487453236275,
          -0.5159256613645564,
          -0.5233324761284872,
          -0.7879535583271278,
          -0.8334834953112022,
          0.8839863488943791,
          1.7685555876605923,
          -0.8087614541411438,
          0.21507199564698465,
          0.6919919581441514,
          0.16805065956062962,
          -0.7642715284873955,
          0.17235894159091994,
          -0.2227647567180137,
          -1.2491681543923348,
          -0.3913495028077642,
          -0.5287383637521245,
          0.05205276822445725,
          -0.5201238612059969,
          0.28304179528298945,
          -0.5669420189716059,
          1.2826498213493864,
          0.587942241421941,
          -0.7350278994184531,
          -0.3881870425238262,
          -0.3601956446506007,
          -0.032447655505980263,
          0.2993422711145282,
          -1.0530861617152254,
          -0.009485471716123805,
          -0.04838532613954332,
          -0.344695030315605,
          -1.2437371201477672,
          -0.42771971161132577,
          0.9235610216916939,
          1.4833147416704568,
          -0.9087876781172023,
          -1.6805169585909012,
          -0.7717744990521493,
          -1.5872896255996523,
          0.15079096873856804,
          -0.41220755802494646,
          -1.4565543702561636,
          -1.6992740198541494,
          -0.46500465090759796,
          -0.9019774286194074,
          -0.6032530257104912,
          1.6866346773046488,
          -1.441445343120103,
          -0.46937415713064445,
          -0.6241481191254028,
          -1.0108899479438094,
          1.180173295122644,
          -0.30061447293904975,
          -0.09306184061359465,
          -0.21963755117853082,
          -0.4735325472444029,
          0.8775602174132754,
          -1.5235390928677202,
          -0.4876490137647478,
          0.4428285544768932,
          -1.5484908421889916,
          -0.4874495698842394,
          -0.4987627548594465,
          0.06563230864418883,
          -1.0410761330933052,
          0.8842251298521914,
          -0.9419405699192362,
          1.503518082970215,
          0.41041477123388015,
          -0.8013052876270619,
          -0.03552893810535891,
          0.21354755775800296,
          -0.2372882585632626,
          0.5125194710375183,
          0.43392752163651177,
          -0.5088193987428256,
          -0.5449252486897386,
          -0.8404070319446151,
          -0.29260336817384563,
          -0.7055522488629189,
          -1.3766098528312456,
          0.11268908322084206,
          -0.876235849866468,
          0.7171042804096694,
          -0.01975349282549404,
          -0.9463618636946236,
          -0.6580728838912153,
          -0.2734994045984848,
          2.6075171762972276,
          -0.7365571057611364,
          0.24831462964811513,
          -0.6640354368128749,
          -0.9207163747826583,
          -0.2960562528515453,
          -0.8053514531295147,
          0.1358240989597533,
          -0.8285253604177188,
          -0.9492693488767591,
          -0.008200331624622586,
          -0.5543326725908234,
          -0.275982647204826,
          -0.5724569305253363,
          -0.003338091025693477,
          -0.19029114986220216,
          -0.22083794901134107,
          0.06268724955235247,
          -0.016224469515545126,
          0.30366107230389966,
          0.1616631035917573,
          0.6802101681829469,
          -0.07751236152540372,
          -0.2643983962160776,
          4.304682237234069,
          -0.5113207907163655,
          0.6536147499678072,
          0.20228651472139003,
          0.8420975366192227,
          -0.07855805271402458,
          -0.12259418807928181,
          -1.254513684346128,
          0.2738890933814422,
          -0.6936706954059582,
          0.6213113770980905,
          -1.0201103406571272,
          1.4628855714457651,
          -0.5365766847862938,
          -1.4136523790709736,
          -0.7122170060475917,
          -0.7409125379070505,
          0.14618142983724008,
          -0.8374180759362579,
          0.07270789935025479,
          -0.03677065107166549,
          -0.1465019590305971,
          0.16066453530733693,
          1.9842555188606386,
          -0.8973677764146679,
          -0.3082495850185728,
          1.4625589057386317,
          -0.6413847456221364,
          0.8315215807871644,
          0.03432449193928746,
          0.20277414915303774,
          0.55496792787327,
          0.18011223965924208,
          0.3535239475500755,
          -0.45000305300171245,
          -1.121035670469394,
          -0.20714924446174043,
          -0.754253349620847,
          -0.5072487793761283,
          0.48013397599338864,
          -0.36928162715454366,
          -0.1894803951061048,
          -0.854327638444889,
          -1.2356100993014356,
          0.31540154850983537,
          -1.2801795908189497,
          0.01936765783520304,
          -1.1724937081492606,
          0.00434521815053544,
          -0.2434415961954936,
          0.22753887614974327,
          -1.3160787949115123,
          1.4208923395964301,
          -0.25108994938448603,
          -0.21206004606604878,
          -0.09755309896608176,
          -1.264027825038248,
          -0.04839326975519169,
          -1.3249046230135963,
          -1.7879288661583925,
          -1.220987716558256,
          5.404290537213372,
          0.24933325916265348,
          -0.7187238973033839,
          -0.9120405330427929,
          0.5271027750573878,
          0.4386949659112156,
          -0.5127576546674177,
          0.07930620696851176,
          0.21266994353442592,
          -0.8918065953406621,
          -0.5001447815974654,
          0.04720588809755267,
          0.16661623208911164,
          0.1067611794168036,
          0.5164868837029781,
          0.286665127093571,
          0.10394144123413324,
          -1.0094542936341224,
          0.7385989919284737,
          -1.390175698192605,
          0.4511100715527244,
          -0.8462259596438693,
          0.30827544500240317,
          -1.3727001516185589,
          -0.49176262851895847,
          -1.2017373427057152,
          -1.3343853495325075,
          -0.11354903311978617,
          0.7040997023383406,
          -0.48967619021391745,
          0.018209718858279874,
          -0.1645495966281398,
          0.2345400043575298,
          0.19047660754204776,
          -0.5166578388308505,
          -0.6218874989737014,
          0.14453041728304725,
          -0.07043421038324796,
          -2.272579397000376,
          -1.7273203149966136,
          -0.9811862140653111,
          -0.31245749814878765,
          -0.10031891148744838,
          0.0042585172741118555,
          -0.06392736596987565,
          1.0992007686089669,
          -0.9091195997596869,
          -0.32917751611738083,
          0.14295594931099168,
          0.5742111745385411,
          0.34740133882981233,
          -1.0675513369895013,
          -1.7651838647064342,
          -0.14606358597144314,
          -0.7768272194097412,
          -1.3990131004812172,
          1.262517669485384,
          0.5297486959892368,
          -0.09205718782652053,
          2.8324672487841163,
          0.22860005791803276,
          -0.6946949192127029,
          -0.6798777224853251,
          -1.5291702850788524,
          0.579356742005076,
          -0.048336582759093735,
          0.6618241835112725,
          -0.5409974624641344,
          -0.4582954164707365,
          1.2003761241475979,
          -1.5648795914379166,
          0.14019550375505974,
          -0.9678184391919868,
          0.5950876677930436,
          -0.3420364277901187,
          0.3009932474315341,
          -1.3281160968866264,
          0.6705058344902632,
          1.5570750305975634,
          0.312209810024708,
          -0.5442728808213353,
          1.1774674452636973,
          -0.7708937430704097,
          -0.8828298175867045,
          0.27529715289377166,
          -1.4588847649835808,
          -0.8686214432171825,
          -0.36378884255383687,
          -0.3504939508165215,
          -0.39585326763480483,
          0.25882661593561174,
          -0.3046241593470869,
          -0.21213254411997626,
          -1.3982853999819307,
          -1.0052671840355532,
          1.782980871084787,
          4.8347326404244795,
          1.0065550161558978,
          -0.9359844311798585,
          -1.499455970281742,
          1.240123747363134,
          -0.7221348517996288,
          -1.1470897430827744,
          1.2864356080040302,
          0.63093442609869,
          -0.5240744679878244,
          0.006814724329667333,
          -1.0438177174889658,
          -0.14837911929385045,
          -1.0901686906614998,
          -0.4227276488155955,
          -0.08026615439827435,
          -1.0909265950049964,
          -0.4717542022769039,
          -0.8260012816308901,
          -0.2805104715167811,
          -0.4164382169747029,
          -1.3547907160131822,
          0.22344169376450446,
          -0.6582693410389158,
          0.05106528295276204,
          0.28916785671246814,
          -0.7248453426856745,
          -0.929991294338771,
          -0.3770594593022821,
          -0.12569453626088067,
          -0.5566824390809435,
          -0.3750188483083089,
          -0.5668154659905664,
          -1.335836696039546,
          -0.581955389001559,
          0.44527246463515935,
          0.6260682109208128,
          -0.2047820619906807,
          1.4421447888631813,
          -1.1880850341049736,
          0.8355599369840463,
          0.8122520404066993,
          0.947132243028025,
          0.16087884582493198,
          -0.4772903369374367,
          1.0034620372406786,
          1.1646144590673437,
          -0.14588830332718752,
          1.2525291677074561,
          1.0758734019651257,
          0.05508686490121621,
          1.1058354092815532,
          -1.5839974920796862,
          -1.1856544331273517,
          -0.43013851746138965,
          0.2350380899717446,
          -1.44684392529696,
          -0.44244369682760953,
          -1.1748026202857456,
          -0.25740210670552166,
          1.7283676294136139,
          -0.7473571160051202,
          0.734497477705543,
          -1.2669412543147742,
          0.5480612808482976,
          -0.08094014851666421,
          0.020229784540123332,
          -1.013930822973773,
          -1.3353804693254745,
          0.35328992082314487,
          2.0217059895558247,
          -0.36141073833193227,
          0.1638207092682468,
          0.7176609675159503,
          0.34007930272775017,
          -0.7442540102856927,
          3.176898446841923,
          -0.9215084456089933,
          -0.40631056667186255,
          -0.9040557693022439,
          0.010599168258019267,
          0.5174449744538625,
          0.18088908380311844,
          0.3395275347294079,
          -0.3929295353579058,
          2.625818915850966,
          -0.12043794017848201,
          0.40018864064558934,
          -0.2078221165110873,
          0.9309249824423762,
          0.6877294543179912,
          0.15811454929782862,
          -0.8315845406158974,
          -0.3415575686038222,
          1.3370908066038352,
          1.325887461814685,
          0.040150973891927066,
          1.083669822910873,
          0.40785854597659127,
          -0.7658710147516998,
          -0.18652677641235732,
          -0.07134574708164858,
          -0.7825879762709257,
          1.4585957239949254,
          -0.9694616835936982,
          -0.15542281464133312,
          0.332337251733912,
          -0.6153862683538338,
          -0.38371135000639744,
          -0.4084901912463684,
          -0.004338039334664399,
          -0.48661103830662406,
          -0.6845831765062883,
          -0.17934968612022584,
          0.007139126223701367,
          1.3138125380527959,
          -0.4259171193607452,
          -0.3378718366860159,
          0.9756444535379083,
          -1.0325927904732966,
          0.724709440986012,
          0.024134708321782862,
          0.6237649287883886,
          -0.24464180541112365,
          -0.2956335504862301,
          0.5408178836644297,
          -0.5556003089149432,
          -0.16616260767477262,
          -0.3090433150465837,
          0.8772057632249202,
          -0.10369604584853738,
          -0.6388155796015877,
          -0.10136780398368997,
          0.11756497950874535,
          0.014943888563987177,
          -1.3975283579370785,
          -0.6170307163639028,
          1.5269969740296863,
          0.8092920390469821,
          -0.3411093643362409,
          -0.1619913941972809,
          0.025097183540539532,
          1.0896962250858842,
          0.5255319034797818,
          -0.04835740992378368,
          -0.4405445927466169,
          1.6495207409775454,
          -0.5310544171489945,
          -0.8126001703841186,
          0.905934292354765,
          0.27417577159149276,
          -0.798387040514576,
          -0.3895765228068097,
          -1.5655941263758075,
          -0.3822165883022028,
          -0.16332584259758834,
          -0.6243228785647138,
          -1.4629968888922247,
          1.201233423041657,
          -0.6940387609671147,
          -0.7565939513137205,
          0.5829169619453245,
          0.28608701936552233,
          -0.8861533037817395,
          0.5972913086948998,
          -0.8979788811562479,
          -1.037093622282733,
          0.3010926303087057,
          -0.6561239910880083,
          0.11633991853969422,
          -0.48759499632584835,
          -0.37952617256198395,
          -0.308186931536541,
          -0.15024405171482164,
          -0.1183410297239313,
          -1.0536169311253325,
          -0.5450859630516327,
          -0.4724450390717483,
          1.0961487358230106,
          0.7063497137498491,
          -0.5161898369085383,
          -0.36242773373594883,
          0.14114806518993955,
          -0.08412998575350122,
          0.7421160024500021,
          0.6539144275382127,
          0.021546778258033975,
          6.3317435133207525,
          -0.030805033473936306,
          1.4868607570997119,
          -1.2703954446481338,
          -0.5574282202710515,
          -0.7750699681424555,
          0.19807779696553773,
          1.6494208199225235,
          -1.1390256199352788,
          -0.009474775322726567,
          0.6691259787640735,
          -0.5069626633623783,
          -0.21882436860905477,
          0.284614342790127,
          -0.30353082932130165,
          -0.2166702514338506,
          4.695795910859256,
          -0.7313179681520156,
          0.08212642717359557,
          -0.11935871985655633,
          0.8398857053909777,
          -0.4089932978698564,
          0.8305088341852128,
          -1.257361703093994,
          0.8869907985048583,
          0.14140196830702007,
          1.5056815041771998,
          -1.461126063749396,
          0.09479941895587293,
          2.2703281041535317,
          -0.30618484533504814,
          -1.3583587831082797,
          0.39034087661041716,
          0.43114434216258923,
          0.8689036125080006,
          0.37403511297386927,
          -0.7493905650991919,
          -0.8671145385767982,
          -0.9083745638732573,
          -0.5958925344937394,
          1.1120612852907632,
          0.6016924006958103,
          2.3746495988905023,
          1.0527454795224354,
          -0.16763279274313558,
          -1.299405140774333,
          0.35196899671441545,
          -0.44840850380263636,
          0.08466841642159185,
          1.0192809975201154,
          -0.08793906982708351,
          1.908190748463339,
          1.9486212741372422,
          1.9953325430035826,
          0.5486389662559024,
          1.7480045844247731,
          1.8198691786399246,
          1.7133418054771115,
          0.529307343632017
         ]
        }
       ],
       "layout": {
        "coloraxis": {
         "colorbar": {
          "title": {
           "text": "Cluster"
          }
         },
         "colorscale": [
          [
           0,
           "#1F77B4"
          ],
          [
           0.1111111111111111,
           "#FF7F0E"
          ],
          [
           0.2222222222222222,
           "#2CA02C"
          ],
          [
           0.3333333333333333,
           "#D62728"
          ],
          [
           0.4444444444444444,
           "#9467BD"
          ],
          [
           0.5555555555555556,
           "#8C564B"
          ],
          [
           0.6666666666666666,
           "#E377C2"
          ],
          [
           0.7777777777777778,
           "#7F7F7F"
          ],
          [
           0.8888888888888888,
           "#BCBD22"
          ],
          [
           1,
           "#17BECF"
          ]
         ]
        },
        "legend": {
         "tracegroupgap": 0
        },
        "scene": {
         "domain": {
          "x": [
           0,
           1
          ],
          "y": [
           0,
           1
          ]
         },
         "xaxis": {
          "title": {
           "text": "PC1"
          }
         },
         "yaxis": {
          "title": {
           "text": "PC2"
          }
         },
         "zaxis": {
          "title": {
           "text": "PC3"
          }
         }
        },
        "template": {
         "data": {
          "bar": [
           {
            "error_x": {
             "color": "#2a3f5f"
            },
            "error_y": {
             "color": "#2a3f5f"
            },
            "marker": {
             "line": {
              "color": "#E5ECF6",
              "width": 0.5
             },
             "pattern": {
              "fillmode": "overlay",
              "size": 10,
              "solidity": 0.2
             }
            },
            "type": "bar"
           }
          ],
          "barpolar": [
           {
            "marker": {
             "line": {
              "color": "#E5ECF6",
              "width": 0.5
             },
             "pattern": {
              "fillmode": "overlay",
              "size": 10,
              "solidity": 0.2
             }
            },
            "type": "barpolar"
           }
          ],
          "carpet": [
           {
            "aaxis": {
             "endlinecolor": "#2a3f5f",
             "gridcolor": "white",
             "linecolor": "white",
             "minorgridcolor": "white",
             "startlinecolor": "#2a3f5f"
            },
            "baxis": {
             "endlinecolor": "#2a3f5f",
             "gridcolor": "white",
             "linecolor": "white",
             "minorgridcolor": "white",
             "startlinecolor": "#2a3f5f"
            },
            "type": "carpet"
           }
          ],
          "choropleth": [
           {
            "colorbar": {
             "outlinewidth": 0,
             "ticks": ""
            },
            "type": "choropleth"
           }
          ],
          "contour": [
           {
            "colorbar": {
             "outlinewidth": 0,
             "ticks": ""
            },
            "colorscale": [
             [
              0,
              "#0d0887"
             ],
             [
              0.1111111111111111,
              "#46039f"
             ],
             [
              0.2222222222222222,
              "#7201a8"
             ],
             [
              0.3333333333333333,
              "#9c179e"
             ],
             [
              0.4444444444444444,
              "#bd3786"
             ],
             [
              0.5555555555555556,
              "#d8576b"
             ],
             [
              0.6666666666666666,
              "#ed7953"
             ],
             [
              0.7777777777777778,
              "#fb9f3a"
             ],
             [
              0.8888888888888888,
              "#fdca26"
             ],
             [
              1,
              "#f0f921"
             ]
            ],
            "type": "contour"
           }
          ],
          "contourcarpet": [
           {
            "colorbar": {
             "outlinewidth": 0,
             "ticks": ""
            },
            "type": "contourcarpet"
           }
          ],
          "heatmap": [
           {
            "colorbar": {
             "outlinewidth": 0,
             "ticks": ""
            },
            "colorscale": [
             [
              0,
              "#0d0887"
             ],
             [
              0.1111111111111111,
              "#46039f"
             ],
             [
              0.2222222222222222,
              "#7201a8"
             ],
             [
              0.3333333333333333,
              "#9c179e"
             ],
             [
              0.4444444444444444,
              "#bd3786"
             ],
             [
              0.5555555555555556,
              "#d8576b"
             ],
             [
              0.6666666666666666,
              "#ed7953"
             ],
             [
              0.7777777777777778,
              "#fb9f3a"
             ],
             [
              0.8888888888888888,
              "#fdca26"
             ],
             [
              1,
              "#f0f921"
             ]
            ],
            "type": "heatmap"
           }
          ],
          "heatmapgl": [
           {
            "colorbar": {
             "outlinewidth": 0,
             "ticks": ""
            },
            "colorscale": [
             [
              0,
              "#0d0887"
             ],
             [
              0.1111111111111111,
              "#46039f"
             ],
             [
              0.2222222222222222,
              "#7201a8"
             ],
             [
              0.3333333333333333,
              "#9c179e"
             ],
             [
              0.4444444444444444,
              "#bd3786"
             ],
             [
              0.5555555555555556,
              "#d8576b"
             ],
             [
              0.6666666666666666,
              "#ed7953"
             ],
             [
              0.7777777777777778,
              "#fb9f3a"
             ],
             [
              0.8888888888888888,
              "#fdca26"
             ],
             [
              1,
              "#f0f921"
             ]
            ],
            "type": "heatmapgl"
           }
          ],
          "histogram": [
           {
            "marker": {
             "pattern": {
              "fillmode": "overlay",
              "size": 10,
              "solidity": 0.2
             }
            },
            "type": "histogram"
           }
          ],
          "histogram2d": [
           {
            "colorbar": {
             "outlinewidth": 0,
             "ticks": ""
            },
            "colorscale": [
             [
              0,
              "#0d0887"
             ],
             [
              0.1111111111111111,
              "#46039f"
             ],
             [
              0.2222222222222222,
              "#7201a8"
             ],
             [
              0.3333333333333333,
              "#9c179e"
             ],
             [
              0.4444444444444444,
              "#bd3786"
             ],
             [
              0.5555555555555556,
              "#d8576b"
             ],
             [
              0.6666666666666666,
              "#ed7953"
             ],
             [
              0.7777777777777778,
              "#fb9f3a"
             ],
             [
              0.8888888888888888,
              "#fdca26"
             ],
             [
              1,
              "#f0f921"
             ]
            ],
            "type": "histogram2d"
           }
          ],
          "histogram2dcontour": [
           {
            "colorbar": {
             "outlinewidth": 0,
             "ticks": ""
            },
            "colorscale": [
             [
              0,
              "#0d0887"
             ],
             [
              0.1111111111111111,
              "#46039f"
             ],
             [
              0.2222222222222222,
              "#7201a8"
             ],
             [
              0.3333333333333333,
              "#9c179e"
             ],
             [
              0.4444444444444444,
              "#bd3786"
             ],
             [
              0.5555555555555556,
              "#d8576b"
             ],
             [
              0.6666666666666666,
              "#ed7953"
             ],
             [
              0.7777777777777778,
              "#fb9f3a"
             ],
             [
              0.8888888888888888,
              "#fdca26"
             ],
             [
              1,
              "#f0f921"
             ]
            ],
            "type": "histogram2dcontour"
           }
          ],
          "mesh3d": [
           {
            "colorbar": {
             "outlinewidth": 0,
             "ticks": ""
            },
            "type": "mesh3d"
           }
          ],
          "parcoords": [
           {
            "line": {
             "colorbar": {
              "outlinewidth": 0,
              "ticks": ""
             }
            },
            "type": "parcoords"
           }
          ],
          "pie": [
           {
            "automargin": true,
            "type": "pie"
           }
          ],
          "scatter": [
           {
            "fillpattern": {
             "fillmode": "overlay",
             "size": 10,
             "solidity": 0.2
            },
            "type": "scatter"
           }
          ],
          "scatter3d": [
           {
            "line": {
             "colorbar": {
              "outlinewidth": 0,
              "ticks": ""
             }
            },
            "marker": {
             "colorbar": {
              "outlinewidth": 0,
              "ticks": ""
             }
            },
            "type": "scatter3d"
           }
          ],
          "scattercarpet": [
           {
            "marker": {
             "colorbar": {
              "outlinewidth": 0,
              "ticks": ""
             }
            },
            "type": "scattercarpet"
           }
          ],
          "scattergeo": [
           {
            "marker": {
             "colorbar": {
              "outlinewidth": 0,
              "ticks": ""
             }
            },
            "type": "scattergeo"
           }
          ],
          "scattergl": [
           {
            "marker": {
             "colorbar": {
              "outlinewidth": 0,
              "ticks": ""
             }
            },
            "type": "scattergl"
           }
          ],
          "scattermapbox": [
           {
            "marker": {
             "colorbar": {
              "outlinewidth": 0,
              "ticks": ""
             }
            },
            "type": "scattermapbox"
           }
          ],
          "scatterpolar": [
           {
            "marker": {
             "colorbar": {
              "outlinewidth": 0,
              "ticks": ""
             }
            },
            "type": "scatterpolar"
           }
          ],
          "scatterpolargl": [
           {
            "marker": {
             "colorbar": {
              "outlinewidth": 0,
              "ticks": ""
             }
            },
            "type": "scatterpolargl"
           }
          ],
          "scatterternary": [
           {
            "marker": {
             "colorbar": {
              "outlinewidth": 0,
              "ticks": ""
             }
            },
            "type": "scatterternary"
           }
          ],
          "surface": [
           {
            "colorbar": {
             "outlinewidth": 0,
             "ticks": ""
            },
            "colorscale": [
             [
              0,
              "#0d0887"
             ],
             [
              0.1111111111111111,
              "#46039f"
             ],
             [
              0.2222222222222222,
              "#7201a8"
             ],
             [
              0.3333333333333333,
              "#9c179e"
             ],
             [
              0.4444444444444444,
              "#bd3786"
             ],
             [
              0.5555555555555556,
              "#d8576b"
             ],
             [
              0.6666666666666666,
              "#ed7953"
             ],
             [
              0.7777777777777778,
              "#fb9f3a"
             ],
             [
              0.8888888888888888,
              "#fdca26"
             ],
             [
              1,
              "#f0f921"
             ]
            ],
            "type": "surface"
           }
          ],
          "table": [
           {
            "cells": {
             "fill": {
              "color": "#EBF0F8"
             },
             "line": {
              "color": "white"
             }
            },
            "header": {
             "fill": {
              "color": "#C8D4E3"
             },
             "line": {
              "color": "white"
             }
            },
            "type": "table"
           }
          ]
         },
         "layout": {
          "annotationdefaults": {
           "arrowcolor": "#2a3f5f",
           "arrowhead": 0,
           "arrowwidth": 1
          },
          "autotypenumbers": "strict",
          "coloraxis": {
           "colorbar": {
            "outlinewidth": 0,
            "ticks": ""
           }
          },
          "colorscale": {
           "diverging": [
            [
             0,
             "#8e0152"
            ],
            [
             0.1,
             "#c51b7d"
            ],
            [
             0.2,
             "#de77ae"
            ],
            [
             0.3,
             "#f1b6da"
            ],
            [
             0.4,
             "#fde0ef"
            ],
            [
             0.5,
             "#f7f7f7"
            ],
            [
             0.6,
             "#e6f5d0"
            ],
            [
             0.7,
             "#b8e186"
            ],
            [
             0.8,
             "#7fbc41"
            ],
            [
             0.9,
             "#4d9221"
            ],
            [
             1,
             "#276419"
            ]
           ],
           "sequential": [
            [
             0,
             "#0d0887"
            ],
            [
             0.1111111111111111,
             "#46039f"
            ],
            [
             0.2222222222222222,
             "#7201a8"
            ],
            [
             0.3333333333333333,
             "#9c179e"
            ],
            [
             0.4444444444444444,
             "#bd3786"
            ],
            [
             0.5555555555555556,
             "#d8576b"
            ],
            [
             0.6666666666666666,
             "#ed7953"
            ],
            [
             0.7777777777777778,
             "#fb9f3a"
            ],
            [
             0.8888888888888888,
             "#fdca26"
            ],
            [
             1,
             "#f0f921"
            ]
           ],
           "sequentialminus": [
            [
             0,
             "#0d0887"
            ],
            [
             0.1111111111111111,
             "#46039f"
            ],
            [
             0.2222222222222222,
             "#7201a8"
            ],
            [
             0.3333333333333333,
             "#9c179e"
            ],
            [
             0.4444444444444444,
             "#bd3786"
            ],
            [
             0.5555555555555556,
             "#d8576b"
            ],
            [
             0.6666666666666666,
             "#ed7953"
            ],
            [
             0.7777777777777778,
             "#fb9f3a"
            ],
            [
             0.8888888888888888,
             "#fdca26"
            ],
            [
             1,
             "#f0f921"
            ]
           ]
          },
          "colorway": [
           "#636efa",
           "#EF553B",
           "#00cc96",
           "#ab63fa",
           "#FFA15A",
           "#19d3f3",
           "#FF6692",
           "#B6E880",
           "#FF97FF",
           "#FECB52"
          ],
          "font": {
           "color": "#2a3f5f"
          },
          "geo": {
           "bgcolor": "white",
           "lakecolor": "white",
           "landcolor": "#E5ECF6",
           "showlakes": true,
           "showland": true,
           "subunitcolor": "white"
          },
          "hoverlabel": {
           "align": "left"
          },
          "hovermode": "closest",
          "mapbox": {
           "style": "light"
          },
          "paper_bgcolor": "white",
          "plot_bgcolor": "#E5ECF6",
          "polar": {
           "angularaxis": {
            "gridcolor": "white",
            "linecolor": "white",
            "ticks": ""
           },
           "bgcolor": "#E5ECF6",
           "radialaxis": {
            "gridcolor": "white",
            "linecolor": "white",
            "ticks": ""
           }
          },
          "scene": {
           "xaxis": {
            "backgroundcolor": "#E5ECF6",
            "gridcolor": "white",
            "gridwidth": 2,
            "linecolor": "white",
            "showbackground": true,
            "ticks": "",
            "zerolinecolor": "white"
           },
           "yaxis": {
            "backgroundcolor": "#E5ECF6",
            "gridcolor": "white",
            "gridwidth": 2,
            "linecolor": "white",
            "showbackground": true,
            "ticks": "",
            "zerolinecolor": "white"
           },
           "zaxis": {
            "backgroundcolor": "#E5ECF6",
            "gridcolor": "white",
            "gridwidth": 2,
            "linecolor": "white",
            "showbackground": true,
            "ticks": "",
            "zerolinecolor": "white"
           }
          },
          "shapedefaults": {
           "line": {
            "color": "#2a3f5f"
           }
          },
          "ternary": {
           "aaxis": {
            "gridcolor": "white",
            "linecolor": "white",
            "ticks": ""
           },
           "baxis": {
            "gridcolor": "white",
            "linecolor": "white",
            "ticks": ""
           },
           "bgcolor": "#E5ECF6",
           "caxis": {
            "gridcolor": "white",
            "linecolor": "white",
            "ticks": ""
           }
          },
          "title": {
           "x": 0.05
          },
          "xaxis": {
           "automargin": true,
           "gridcolor": "white",
           "linecolor": "white",
           "ticks": "",
           "title": {
            "standoff": 15
           },
           "zerolinecolor": "white",
           "zerolinewidth": 2
          },
          "yaxis": {
           "automargin": true,
           "gridcolor": "white",
           "linecolor": "white",
           "ticks": "",
           "title": {
            "standoff": 15
           },
           "zerolinecolor": "white",
           "zerolinewidth": 2
          }
         }
        },
        "title": {
         "text": "Music Data Clustering (3D PCA)"
        }
       }
      }
     },
     "metadata": {},
     "output_type": "display_data"
    }
   ],
   "source": [
    "# Reduce dimensions to 3D\n",
    "pca_3d = PCA(3)\n",
    "features_3d = pca_3d.fit_transform(features_scaled)\n",
    "\n",
    "# Create a DataFrame for the plot\n",
    "plot_df_3d = pd.DataFrame(features_3d, columns=['PC1', 'PC2', 'PC3'])\n",
    "plot_df_3d['Cluster'] = spotify_2k['Cluster']\n",
    "\n",
    "# Plotting 3D\n",
    "fig_3d = px.scatter_3d(plot_df_3d, x='PC1', y='PC2', z='PC3', color='Cluster', title='Music Data Clustering (3D PCA)',\n",
    "                       color_continuous_scale=px.colors.qualitative.D3)\n",
    "fig_3d.show()\n"
   ]
  }
 ],
 "metadata": {
  "kernelspec": {
   "display_name": "Python 3",
   "language": "python",
   "name": "python3"
  },
  "language_info": {
   "codemirror_mode": {
    "name": "ipython",
    "version": 3
   },
   "file_extension": ".py",
   "mimetype": "text/x-python",
   "name": "python",
   "nbconvert_exporter": "python",
   "pygments_lexer": "ipython3",
   "version": "3.10.12"
  }
 },
 "nbformat": 4,
 "nbformat_minor": 2
}
