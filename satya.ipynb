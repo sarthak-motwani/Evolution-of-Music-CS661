{
 "cells": [
  {
   "cell_type": "code",
   "execution_count": 11,
   "metadata": {},
   "outputs": [],
   "source": [
    "import pandas as pd\n",
    "import plotly.express as px\n",
    "import numpy as np\n",
    "import plotly.graph_objects as go\n",
    "from dash import dash, html, dcc , dash_table\n",
    "from dash.dependencies import Input, Output\n",
    "from plotly.offline import iplot , plot\n",
    "from plotly.subplots import make_subplots\n",
    "from sklearn.preprocessing import StandardScaler\n",
    "from sklearn.cluster import KMeans\n",
    "from sklearn.decomposition import PCA\n",
    "import ast # for converting string  to list \n",
    "from collections import Counter\n"
   ]
  },
  {
   "cell_type": "code",
   "execution_count": 12,
   "metadata": {},
   "outputs": [],
   "source": [
    "\n",
    "# Load your dataset\n",
    "df = pd.read_csv('dataset/Spotify-2000.csv')\n"
   ]
  },
  {
   "cell_type": "code",
   "execution_count": 13,
   "metadata": {},
   "outputs": [],
   "source": [
    "user_data = pd.read_csv('dataset/spotify_archive/Spotify Quarterly.csv')"
   ]
  },
  {
   "cell_type": "code",
   "execution_count": 14,
   "metadata": {},
   "outputs": [
    {
     "data": {
      "text/html": [
       "<div>\n",
       "<style scoped>\n",
       "    .dataframe tbody tr th:only-of-type {\n",
       "        vertical-align: middle;\n",
       "    }\n",
       "\n",
       "    .dataframe tbody tr th {\n",
       "        vertical-align: top;\n",
       "    }\n",
       "\n",
       "    .dataframe thead th {\n",
       "        text-align: right;\n",
       "    }\n",
       "</style>\n",
       "<table border=\"1\" class=\"dataframe\">\n",
       "  <thead>\n",
       "    <tr style=\"text-align: right;\">\n",
       "      <th></th>\n",
       "      <th>Date</th>\n",
       "      <th>Monthly Active User (MAU)</th>\n",
       "      <th>Premium Users</th>\n",
       "    </tr>\n",
       "  </thead>\n",
       "  <tbody>\n",
       "    <tr>\n",
       "      <th>0</th>\n",
       "      <td>Q1 2015</td>\n",
       "      <td>68</td>\n",
       "      <td>18</td>\n",
       "    </tr>\n",
       "    <tr>\n",
       "      <th>1</th>\n",
       "      <td>Q2 2015</td>\n",
       "      <td>77</td>\n",
       "      <td>22</td>\n",
       "    </tr>\n",
       "    <tr>\n",
       "      <th>2</th>\n",
       "      <td>Q3 2015</td>\n",
       "      <td>82</td>\n",
       "      <td>24</td>\n",
       "    </tr>\n",
       "    <tr>\n",
       "      <th>3</th>\n",
       "      <td>Q4 2015</td>\n",
       "      <td>91</td>\n",
       "      <td>28</td>\n",
       "    </tr>\n",
       "    <tr>\n",
       "      <th>4</th>\n",
       "      <td>Q1 2016</td>\n",
       "      <td>96</td>\n",
       "      <td>30</td>\n",
       "    </tr>\n",
       "  </tbody>\n",
       "</table>\n",
       "</div>"
      ],
      "text/plain": [
       "      Date  Monthly Active User (MAU)  Premium Users\n",
       "0  Q1 2015                         68             18\n",
       "1  Q2 2015                         77             22\n",
       "2  Q3 2015                         82             24\n",
       "3  Q4 2015                         91             28\n",
       "4  Q1 2016                         96             30"
      ]
     },
     "execution_count": 14,
     "metadata": {},
     "output_type": "execute_result"
    }
   ],
   "source": [
    "user_data.head()"
   ]
  },
  {
   "cell_type": "code",
   "execution_count": 15,
   "metadata": {},
   "outputs": [
    {
     "data": {
      "application/vnd.plotly.v1+json": {
       "config": {
        "plotlyServerURL": "https://plot.ly"
       },
       "data": [
        {
         "hovertemplate": "variable=Monthly Active User (MAU)<br>Date=%{x}<br>value=%{y}<extra></extra>",
         "legendgroup": "Monthly Active User (MAU)",
         "line": {
          "color": "#636efa",
          "dash": "solid"
         },
         "marker": {
          "symbol": "circle"
         },
         "mode": "lines",
         "name": "Monthly Active User (MAU)",
         "orientation": "v",
         "showlegend": true,
         "type": "scatter",
         "x": [
          "Q1 2015",
          "Q2 2015",
          "Q3 2015",
          "Q4 2015",
          "Q1 2016",
          "Q2 2016",
          "Q3 2016",
          "Q4 2016",
          "Q1 2017",
          "Q2 2017",
          "Q3 2017",
          "Q4 2017",
          "Q1 2018",
          "Q2 2018",
          "Q3 2018",
          "Q4 2018",
          "Q1 2019",
          "Q2 2019",
          "Q3 2019",
          "Q4 2019",
          "Q1 2020",
          "Q2 2020",
          "Q3 2020",
          "Q4 2020",
          "Q1 2021",
          "Q2 2021",
          "Q3 2021",
          "Q4 2021",
          "Q1 2022",
          "Q2 2022",
          "Q3 2022",
          "Q4 2022",
          "Q1 2023",
          "Q2 2023",
          "Q3 2023",
          "Q4 2023"
         ],
         "xaxis": "x",
         "y": [
          68,
          77,
          82,
          91,
          96,
          104,
          113,
          123,
          132,
          138,
          149,
          160,
          157,
          180,
          191,
          207,
          217,
          232,
          248,
          271,
          286,
          299,
          320,
          345,
          356,
          365,
          381,
          406,
          422,
          433,
          456,
          489,
          515,
          551,
          574,
          602
         ],
         "yaxis": "y"
        },
        {
         "hovertemplate": "variable=Premium Users<br>Date=%{x}<br>value=%{y}<extra></extra>",
         "legendgroup": "Premium Users",
         "line": {
          "color": "#EF553B",
          "dash": "solid"
         },
         "marker": {
          "symbol": "circle"
         },
         "mode": "lines",
         "name": "Premium Users",
         "orientation": "v",
         "showlegend": true,
         "type": "scatter",
         "x": [
          "Q1 2015",
          "Q2 2015",
          "Q3 2015",
          "Q4 2015",
          "Q1 2016",
          "Q2 2016",
          "Q3 2016",
          "Q4 2016",
          "Q1 2017",
          "Q2 2017",
          "Q3 2017",
          "Q4 2017",
          "Q1 2018",
          "Q2 2018",
          "Q3 2018",
          "Q4 2018",
          "Q1 2019",
          "Q2 2019",
          "Q3 2019",
          "Q4 2019",
          "Q1 2020",
          "Q2 2020",
          "Q3 2020",
          "Q4 2020",
          "Q1 2021",
          "Q2 2021",
          "Q3 2021",
          "Q4 2021",
          "Q1 2022",
          "Q2 2022",
          "Q3 2022",
          "Q4 2022",
          "Q1 2023",
          "Q2 2023",
          "Q3 2023",
          "Q4 2023"
         ],
         "xaxis": "x",
         "y": [
          18,
          22,
          24,
          28,
          30,
          36,
          40,
          48,
          52,
          59,
          62,
          71,
          75,
          83,
          87,
          96,
          100,
          108,
          113,
          124,
          130,
          138,
          144,
          155,
          158,
          165,
          172,
          180,
          182,
          188,
          195,
          205,
          210,
          220,
          226,
          236
         ],
         "yaxis": "y"
        }
       ],
       "layout": {
        "legend": {
         "title": {
          "text": "variable"
         },
         "tracegroupgap": 0
        },
        "template": {
         "data": {
          "bar": [
           {
            "error_x": {
             "color": "#2a3f5f"
            },
            "error_y": {
             "color": "#2a3f5f"
            },
            "marker": {
             "line": {
              "color": "#E5ECF6",
              "width": 0.5
             },
             "pattern": {
              "fillmode": "overlay",
              "size": 10,
              "solidity": 0.2
             }
            },
            "type": "bar"
           }
          ],
          "barpolar": [
           {
            "marker": {
             "line": {
              "color": "#E5ECF6",
              "width": 0.5
             },
             "pattern": {
              "fillmode": "overlay",
              "size": 10,
              "solidity": 0.2
             }
            },
            "type": "barpolar"
           }
          ],
          "carpet": [
           {
            "aaxis": {
             "endlinecolor": "#2a3f5f",
             "gridcolor": "white",
             "linecolor": "white",
             "minorgridcolor": "white",
             "startlinecolor": "#2a3f5f"
            },
            "baxis": {
             "endlinecolor": "#2a3f5f",
             "gridcolor": "white",
             "linecolor": "white",
             "minorgridcolor": "white",
             "startlinecolor": "#2a3f5f"
            },
            "type": "carpet"
           }
          ],
          "choropleth": [
           {
            "colorbar": {
             "outlinewidth": 0,
             "ticks": ""
            },
            "type": "choropleth"
           }
          ],
          "contour": [
           {
            "colorbar": {
             "outlinewidth": 0,
             "ticks": ""
            },
            "colorscale": [
             [
              0,
              "#0d0887"
             ],
             [
              0.1111111111111111,
              "#46039f"
             ],
             [
              0.2222222222222222,
              "#7201a8"
             ],
             [
              0.3333333333333333,
              "#9c179e"
             ],
             [
              0.4444444444444444,
              "#bd3786"
             ],
             [
              0.5555555555555556,
              "#d8576b"
             ],
             [
              0.6666666666666666,
              "#ed7953"
             ],
             [
              0.7777777777777778,
              "#fb9f3a"
             ],
             [
              0.8888888888888888,
              "#fdca26"
             ],
             [
              1,
              "#f0f921"
             ]
            ],
            "type": "contour"
           }
          ],
          "contourcarpet": [
           {
            "colorbar": {
             "outlinewidth": 0,
             "ticks": ""
            },
            "type": "contourcarpet"
           }
          ],
          "heatmap": [
           {
            "colorbar": {
             "outlinewidth": 0,
             "ticks": ""
            },
            "colorscale": [
             [
              0,
              "#0d0887"
             ],
             [
              0.1111111111111111,
              "#46039f"
             ],
             [
              0.2222222222222222,
              "#7201a8"
             ],
             [
              0.3333333333333333,
              "#9c179e"
             ],
             [
              0.4444444444444444,
              "#bd3786"
             ],
             [
              0.5555555555555556,
              "#d8576b"
             ],
             [
              0.6666666666666666,
              "#ed7953"
             ],
             [
              0.7777777777777778,
              "#fb9f3a"
             ],
             [
              0.8888888888888888,
              "#fdca26"
             ],
             [
              1,
              "#f0f921"
             ]
            ],
            "type": "heatmap"
           }
          ],
          "heatmapgl": [
           {
            "colorbar": {
             "outlinewidth": 0,
             "ticks": ""
            },
            "colorscale": [
             [
              0,
              "#0d0887"
             ],
             [
              0.1111111111111111,
              "#46039f"
             ],
             [
              0.2222222222222222,
              "#7201a8"
             ],
             [
              0.3333333333333333,
              "#9c179e"
             ],
             [
              0.4444444444444444,
              "#bd3786"
             ],
             [
              0.5555555555555556,
              "#d8576b"
             ],
             [
              0.6666666666666666,
              "#ed7953"
             ],
             [
              0.7777777777777778,
              "#fb9f3a"
             ],
             [
              0.8888888888888888,
              "#fdca26"
             ],
             [
              1,
              "#f0f921"
             ]
            ],
            "type": "heatmapgl"
           }
          ],
          "histogram": [
           {
            "marker": {
             "pattern": {
              "fillmode": "overlay",
              "size": 10,
              "solidity": 0.2
             }
            },
            "type": "histogram"
           }
          ],
          "histogram2d": [
           {
            "colorbar": {
             "outlinewidth": 0,
             "ticks": ""
            },
            "colorscale": [
             [
              0,
              "#0d0887"
             ],
             [
              0.1111111111111111,
              "#46039f"
             ],
             [
              0.2222222222222222,
              "#7201a8"
             ],
             [
              0.3333333333333333,
              "#9c179e"
             ],
             [
              0.4444444444444444,
              "#bd3786"
             ],
             [
              0.5555555555555556,
              "#d8576b"
             ],
             [
              0.6666666666666666,
              "#ed7953"
             ],
             [
              0.7777777777777778,
              "#fb9f3a"
             ],
             [
              0.8888888888888888,
              "#fdca26"
             ],
             [
              1,
              "#f0f921"
             ]
            ],
            "type": "histogram2d"
           }
          ],
          "histogram2dcontour": [
           {
            "colorbar": {
             "outlinewidth": 0,
             "ticks": ""
            },
            "colorscale": [
             [
              0,
              "#0d0887"
             ],
             [
              0.1111111111111111,
              "#46039f"
             ],
             [
              0.2222222222222222,
              "#7201a8"
             ],
             [
              0.3333333333333333,
              "#9c179e"
             ],
             [
              0.4444444444444444,
              "#bd3786"
             ],
             [
              0.5555555555555556,
              "#d8576b"
             ],
             [
              0.6666666666666666,
              "#ed7953"
             ],
             [
              0.7777777777777778,
              "#fb9f3a"
             ],
             [
              0.8888888888888888,
              "#fdca26"
             ],
             [
              1,
              "#f0f921"
             ]
            ],
            "type": "histogram2dcontour"
           }
          ],
          "mesh3d": [
           {
            "colorbar": {
             "outlinewidth": 0,
             "ticks": ""
            },
            "type": "mesh3d"
           }
          ],
          "parcoords": [
           {
            "line": {
             "colorbar": {
              "outlinewidth": 0,
              "ticks": ""
             }
            },
            "type": "parcoords"
           }
          ],
          "pie": [
           {
            "automargin": true,
            "type": "pie"
           }
          ],
          "scatter": [
           {
            "fillpattern": {
             "fillmode": "overlay",
             "size": 10,
             "solidity": 0.2
            },
            "type": "scatter"
           }
          ],
          "scatter3d": [
           {
            "line": {
             "colorbar": {
              "outlinewidth": 0,
              "ticks": ""
             }
            },
            "marker": {
             "colorbar": {
              "outlinewidth": 0,
              "ticks": ""
             }
            },
            "type": "scatter3d"
           }
          ],
          "scattercarpet": [
           {
            "marker": {
             "colorbar": {
              "outlinewidth": 0,
              "ticks": ""
             }
            },
            "type": "scattercarpet"
           }
          ],
          "scattergeo": [
           {
            "marker": {
             "colorbar": {
              "outlinewidth": 0,
              "ticks": ""
             }
            },
            "type": "scattergeo"
           }
          ],
          "scattergl": [
           {
            "marker": {
             "colorbar": {
              "outlinewidth": 0,
              "ticks": ""
             }
            },
            "type": "scattergl"
           }
          ],
          "scattermapbox": [
           {
            "marker": {
             "colorbar": {
              "outlinewidth": 0,
              "ticks": ""
             }
            },
            "type": "scattermapbox"
           }
          ],
          "scatterpolar": [
           {
            "marker": {
             "colorbar": {
              "outlinewidth": 0,
              "ticks": ""
             }
            },
            "type": "scatterpolar"
           }
          ],
          "scatterpolargl": [
           {
            "marker": {
             "colorbar": {
              "outlinewidth": 0,
              "ticks": ""
             }
            },
            "type": "scatterpolargl"
           }
          ],
          "scatterternary": [
           {
            "marker": {
             "colorbar": {
              "outlinewidth": 0,
              "ticks": ""
             }
            },
            "type": "scatterternary"
           }
          ],
          "surface": [
           {
            "colorbar": {
             "outlinewidth": 0,
             "ticks": ""
            },
            "colorscale": [
             [
              0,
              "#0d0887"
             ],
             [
              0.1111111111111111,
              "#46039f"
             ],
             [
              0.2222222222222222,
              "#7201a8"
             ],
             [
              0.3333333333333333,
              "#9c179e"
             ],
             [
              0.4444444444444444,
              "#bd3786"
             ],
             [
              0.5555555555555556,
              "#d8576b"
             ],
             [
              0.6666666666666666,
              "#ed7953"
             ],
             [
              0.7777777777777778,
              "#fb9f3a"
             ],
             [
              0.8888888888888888,
              "#fdca26"
             ],
             [
              1,
              "#f0f921"
             ]
            ],
            "type": "surface"
           }
          ],
          "table": [
           {
            "cells": {
             "fill": {
              "color": "#EBF0F8"
             },
             "line": {
              "color": "white"
             }
            },
            "header": {
             "fill": {
              "color": "#C8D4E3"
             },
             "line": {
              "color": "white"
             }
            },
            "type": "table"
           }
          ]
         },
         "layout": {
          "annotationdefaults": {
           "arrowcolor": "#2a3f5f",
           "arrowhead": 0,
           "arrowwidth": 1
          },
          "autotypenumbers": "strict",
          "coloraxis": {
           "colorbar": {
            "outlinewidth": 0,
            "ticks": ""
           }
          },
          "colorscale": {
           "diverging": [
            [
             0,
             "#8e0152"
            ],
            [
             0.1,
             "#c51b7d"
            ],
            [
             0.2,
             "#de77ae"
            ],
            [
             0.3,
             "#f1b6da"
            ],
            [
             0.4,
             "#fde0ef"
            ],
            [
             0.5,
             "#f7f7f7"
            ],
            [
             0.6,
             "#e6f5d0"
            ],
            [
             0.7,
             "#b8e186"
            ],
            [
             0.8,
             "#7fbc41"
            ],
            [
             0.9,
             "#4d9221"
            ],
            [
             1,
             "#276419"
            ]
           ],
           "sequential": [
            [
             0,
             "#0d0887"
            ],
            [
             0.1111111111111111,
             "#46039f"
            ],
            [
             0.2222222222222222,
             "#7201a8"
            ],
            [
             0.3333333333333333,
             "#9c179e"
            ],
            [
             0.4444444444444444,
             "#bd3786"
            ],
            [
             0.5555555555555556,
             "#d8576b"
            ],
            [
             0.6666666666666666,
             "#ed7953"
            ],
            [
             0.7777777777777778,
             "#fb9f3a"
            ],
            [
             0.8888888888888888,
             "#fdca26"
            ],
            [
             1,
             "#f0f921"
            ]
           ],
           "sequentialminus": [
            [
             0,
             "#0d0887"
            ],
            [
             0.1111111111111111,
             "#46039f"
            ],
            [
             0.2222222222222222,
             "#7201a8"
            ],
            [
             0.3333333333333333,
             "#9c179e"
            ],
            [
             0.4444444444444444,
             "#bd3786"
            ],
            [
             0.5555555555555556,
             "#d8576b"
            ],
            [
             0.6666666666666666,
             "#ed7953"
            ],
            [
             0.7777777777777778,
             "#fb9f3a"
            ],
            [
             0.8888888888888888,
             "#fdca26"
            ],
            [
             1,
             "#f0f921"
            ]
           ]
          },
          "colorway": [
           "#636efa",
           "#EF553B",
           "#00cc96",
           "#ab63fa",
           "#FFA15A",
           "#19d3f3",
           "#FF6692",
           "#B6E880",
           "#FF97FF",
           "#FECB52"
          ],
          "font": {
           "color": "#2a3f5f"
          },
          "geo": {
           "bgcolor": "white",
           "lakecolor": "white",
           "landcolor": "#E5ECF6",
           "showlakes": true,
           "showland": true,
           "subunitcolor": "white"
          },
          "hoverlabel": {
           "align": "left"
          },
          "hovermode": "closest",
          "mapbox": {
           "style": "light"
          },
          "paper_bgcolor": "white",
          "plot_bgcolor": "#E5ECF6",
          "polar": {
           "angularaxis": {
            "gridcolor": "white",
            "linecolor": "white",
            "ticks": ""
           },
           "bgcolor": "#E5ECF6",
           "radialaxis": {
            "gridcolor": "white",
            "linecolor": "white",
            "ticks": ""
           }
          },
          "scene": {
           "xaxis": {
            "backgroundcolor": "#E5ECF6",
            "gridcolor": "white",
            "gridwidth": 2,
            "linecolor": "white",
            "showbackground": true,
            "ticks": "",
            "zerolinecolor": "white"
           },
           "yaxis": {
            "backgroundcolor": "#E5ECF6",
            "gridcolor": "white",
            "gridwidth": 2,
            "linecolor": "white",
            "showbackground": true,
            "ticks": "",
            "zerolinecolor": "white"
           },
           "zaxis": {
            "backgroundcolor": "#E5ECF6",
            "gridcolor": "white",
            "gridwidth": 2,
            "linecolor": "white",
            "showbackground": true,
            "ticks": "",
            "zerolinecolor": "white"
           }
          },
          "shapedefaults": {
           "line": {
            "color": "#2a3f5f"
           }
          },
          "ternary": {
           "aaxis": {
            "gridcolor": "white",
            "linecolor": "white",
            "ticks": ""
           },
           "baxis": {
            "gridcolor": "white",
            "linecolor": "white",
            "ticks": ""
           },
           "bgcolor": "#E5ECF6",
           "caxis": {
            "gridcolor": "white",
            "linecolor": "white",
            "ticks": ""
           }
          },
          "title": {
           "x": 0.05
          },
          "xaxis": {
           "automargin": true,
           "gridcolor": "white",
           "linecolor": "white",
           "ticks": "",
           "title": {
            "standoff": 15
           },
           "zerolinecolor": "white",
           "zerolinewidth": 2
          },
          "yaxis": {
           "automargin": true,
           "gridcolor": "white",
           "linecolor": "white",
           "ticks": "",
           "title": {
            "standoff": 15
           },
           "zerolinecolor": "white",
           "zerolinewidth": 2
          }
         }
        },
        "title": {
         "text": "Spotify MAUs and Premium Users Over Quarters"
        },
        "xaxis": {
         "anchor": "y",
         "domain": [
          0,
          1
         ],
         "title": {
          "text": "Quarter"
         }
        },
        "yaxis": {
         "anchor": "x",
         "domain": [
          0,
          1
         ],
         "title": {
          "text": "Millions"
         }
        }
       }
      }
     },
     "metadata": {},
     "output_type": "display_data"
    }
   ],
   "source": [
    "# Plot\n",
    "fig = px.line(user_data, x='Date', y=['Monthly Active User (MAU)', 'Premium Users'], title='Spotify MAUs and Premium Users Over Quarters')\n",
    "fig.update_layout(xaxis_title='Quarter', yaxis_title='Millions')\n",
    "fig.show()"
   ]
  },
  {
   "cell_type": "code",
   "execution_count": 16,
   "metadata": {},
   "outputs": [
    {
     "data": {
      "application/vnd.plotly.v1+json": {
       "config": {
        "plotlyServerURL": "https://plot.ly"
       },
       "data": [
        {
         "alignmentgroup": "True",
         "hovertemplate": "variable=Monthly Active User (MAU)<br>Date=%{x}<br>value=%{y}<extra></extra>",
         "legendgroup": "Monthly Active User (MAU)",
         "marker": {
          "color": "#636efa",
          "pattern": {
           "shape": ""
          }
         },
         "name": "Monthly Active User (MAU)",
         "offsetgroup": "Monthly Active User (MAU)",
         "orientation": "v",
         "showlegend": true,
         "textposition": "auto",
         "type": "bar",
         "x": [
          "Q1 2015",
          "Q2 2015",
          "Q3 2015",
          "Q4 2015",
          "Q1 2016",
          "Q2 2016",
          "Q3 2016",
          "Q4 2016",
          "Q1 2017",
          "Q2 2017",
          "Q3 2017",
          "Q4 2017",
          "Q1 2018",
          "Q2 2018",
          "Q3 2018",
          "Q4 2018",
          "Q1 2019",
          "Q2 2019",
          "Q3 2019",
          "Q4 2019",
          "Q1 2020",
          "Q2 2020",
          "Q3 2020",
          "Q4 2020",
          "Q1 2021",
          "Q2 2021",
          "Q3 2021",
          "Q4 2021",
          "Q1 2022",
          "Q2 2022",
          "Q3 2022",
          "Q4 2022",
          "Q1 2023",
          "Q2 2023",
          "Q3 2023",
          "Q4 2023"
         ],
         "xaxis": "x",
         "y": [
          68,
          77,
          82,
          91,
          96,
          104,
          113,
          123,
          132,
          138,
          149,
          160,
          157,
          180,
          191,
          207,
          217,
          232,
          248,
          271,
          286,
          299,
          320,
          345,
          356,
          365,
          381,
          406,
          422,
          433,
          456,
          489,
          515,
          551,
          574,
          602
         ],
         "yaxis": "y"
        },
        {
         "alignmentgroup": "True",
         "hovertemplate": "variable=Premium Users<br>Date=%{x}<br>value=%{y}<extra></extra>",
         "legendgroup": "Premium Users",
         "marker": {
          "color": "#EF553B",
          "pattern": {
           "shape": ""
          }
         },
         "name": "Premium Users",
         "offsetgroup": "Premium Users",
         "orientation": "v",
         "showlegend": true,
         "textposition": "auto",
         "type": "bar",
         "x": [
          "Q1 2015",
          "Q2 2015",
          "Q3 2015",
          "Q4 2015",
          "Q1 2016",
          "Q2 2016",
          "Q3 2016",
          "Q4 2016",
          "Q1 2017",
          "Q2 2017",
          "Q3 2017",
          "Q4 2017",
          "Q1 2018",
          "Q2 2018",
          "Q3 2018",
          "Q4 2018",
          "Q1 2019",
          "Q2 2019",
          "Q3 2019",
          "Q4 2019",
          "Q1 2020",
          "Q2 2020",
          "Q3 2020",
          "Q4 2020",
          "Q1 2021",
          "Q2 2021",
          "Q3 2021",
          "Q4 2021",
          "Q1 2022",
          "Q2 2022",
          "Q3 2022",
          "Q4 2022",
          "Q1 2023",
          "Q2 2023",
          "Q3 2023",
          "Q4 2023"
         ],
         "xaxis": "x",
         "y": [
          18,
          22,
          24,
          28,
          30,
          36,
          40,
          48,
          52,
          59,
          62,
          71,
          75,
          83,
          87,
          96,
          100,
          108,
          113,
          124,
          130,
          138,
          144,
          155,
          158,
          165,
          172,
          180,
          182,
          188,
          195,
          205,
          210,
          220,
          226,
          236
         ],
         "yaxis": "y"
        }
       ],
       "layout": {
        "barmode": "group",
        "legend": {
         "title": {
          "text": "variable"
         },
         "tracegroupgap": 0
        },
        "template": {
         "data": {
          "bar": [
           {
            "error_x": {
             "color": "#2a3f5f"
            },
            "error_y": {
             "color": "#2a3f5f"
            },
            "marker": {
             "line": {
              "color": "#E5ECF6",
              "width": 0.5
             },
             "pattern": {
              "fillmode": "overlay",
              "size": 10,
              "solidity": 0.2
             }
            },
            "type": "bar"
           }
          ],
          "barpolar": [
           {
            "marker": {
             "line": {
              "color": "#E5ECF6",
              "width": 0.5
             },
             "pattern": {
              "fillmode": "overlay",
              "size": 10,
              "solidity": 0.2
             }
            },
            "type": "barpolar"
           }
          ],
          "carpet": [
           {
            "aaxis": {
             "endlinecolor": "#2a3f5f",
             "gridcolor": "white",
             "linecolor": "white",
             "minorgridcolor": "white",
             "startlinecolor": "#2a3f5f"
            },
            "baxis": {
             "endlinecolor": "#2a3f5f",
             "gridcolor": "white",
             "linecolor": "white",
             "minorgridcolor": "white",
             "startlinecolor": "#2a3f5f"
            },
            "type": "carpet"
           }
          ],
          "choropleth": [
           {
            "colorbar": {
             "outlinewidth": 0,
             "ticks": ""
            },
            "type": "choropleth"
           }
          ],
          "contour": [
           {
            "colorbar": {
             "outlinewidth": 0,
             "ticks": ""
            },
            "colorscale": [
             [
              0,
              "#0d0887"
             ],
             [
              0.1111111111111111,
              "#46039f"
             ],
             [
              0.2222222222222222,
              "#7201a8"
             ],
             [
              0.3333333333333333,
              "#9c179e"
             ],
             [
              0.4444444444444444,
              "#bd3786"
             ],
             [
              0.5555555555555556,
              "#d8576b"
             ],
             [
              0.6666666666666666,
              "#ed7953"
             ],
             [
              0.7777777777777778,
              "#fb9f3a"
             ],
             [
              0.8888888888888888,
              "#fdca26"
             ],
             [
              1,
              "#f0f921"
             ]
            ],
            "type": "contour"
           }
          ],
          "contourcarpet": [
           {
            "colorbar": {
             "outlinewidth": 0,
             "ticks": ""
            },
            "type": "contourcarpet"
           }
          ],
          "heatmap": [
           {
            "colorbar": {
             "outlinewidth": 0,
             "ticks": ""
            },
            "colorscale": [
             [
              0,
              "#0d0887"
             ],
             [
              0.1111111111111111,
              "#46039f"
             ],
             [
              0.2222222222222222,
              "#7201a8"
             ],
             [
              0.3333333333333333,
              "#9c179e"
             ],
             [
              0.4444444444444444,
              "#bd3786"
             ],
             [
              0.5555555555555556,
              "#d8576b"
             ],
             [
              0.6666666666666666,
              "#ed7953"
             ],
             [
              0.7777777777777778,
              "#fb9f3a"
             ],
             [
              0.8888888888888888,
              "#fdca26"
             ],
             [
              1,
              "#f0f921"
             ]
            ],
            "type": "heatmap"
           }
          ],
          "heatmapgl": [
           {
            "colorbar": {
             "outlinewidth": 0,
             "ticks": ""
            },
            "colorscale": [
             [
              0,
              "#0d0887"
             ],
             [
              0.1111111111111111,
              "#46039f"
             ],
             [
              0.2222222222222222,
              "#7201a8"
             ],
             [
              0.3333333333333333,
              "#9c179e"
             ],
             [
              0.4444444444444444,
              "#bd3786"
             ],
             [
              0.5555555555555556,
              "#d8576b"
             ],
             [
              0.6666666666666666,
              "#ed7953"
             ],
             [
              0.7777777777777778,
              "#fb9f3a"
             ],
             [
              0.8888888888888888,
              "#fdca26"
             ],
             [
              1,
              "#f0f921"
             ]
            ],
            "type": "heatmapgl"
           }
          ],
          "histogram": [
           {
            "marker": {
             "pattern": {
              "fillmode": "overlay",
              "size": 10,
              "solidity": 0.2
             }
            },
            "type": "histogram"
           }
          ],
          "histogram2d": [
           {
            "colorbar": {
             "outlinewidth": 0,
             "ticks": ""
            },
            "colorscale": [
             [
              0,
              "#0d0887"
             ],
             [
              0.1111111111111111,
              "#46039f"
             ],
             [
              0.2222222222222222,
              "#7201a8"
             ],
             [
              0.3333333333333333,
              "#9c179e"
             ],
             [
              0.4444444444444444,
              "#bd3786"
             ],
             [
              0.5555555555555556,
              "#d8576b"
             ],
             [
              0.6666666666666666,
              "#ed7953"
             ],
             [
              0.7777777777777778,
              "#fb9f3a"
             ],
             [
              0.8888888888888888,
              "#fdca26"
             ],
             [
              1,
              "#f0f921"
             ]
            ],
            "type": "histogram2d"
           }
          ],
          "histogram2dcontour": [
           {
            "colorbar": {
             "outlinewidth": 0,
             "ticks": ""
            },
            "colorscale": [
             [
              0,
              "#0d0887"
             ],
             [
              0.1111111111111111,
              "#46039f"
             ],
             [
              0.2222222222222222,
              "#7201a8"
             ],
             [
              0.3333333333333333,
              "#9c179e"
             ],
             [
              0.4444444444444444,
              "#bd3786"
             ],
             [
              0.5555555555555556,
              "#d8576b"
             ],
             [
              0.6666666666666666,
              "#ed7953"
             ],
             [
              0.7777777777777778,
              "#fb9f3a"
             ],
             [
              0.8888888888888888,
              "#fdca26"
             ],
             [
              1,
              "#f0f921"
             ]
            ],
            "type": "histogram2dcontour"
           }
          ],
          "mesh3d": [
           {
            "colorbar": {
             "outlinewidth": 0,
             "ticks": ""
            },
            "type": "mesh3d"
           }
          ],
          "parcoords": [
           {
            "line": {
             "colorbar": {
              "outlinewidth": 0,
              "ticks": ""
             }
            },
            "type": "parcoords"
           }
          ],
          "pie": [
           {
            "automargin": true,
            "type": "pie"
           }
          ],
          "scatter": [
           {
            "fillpattern": {
             "fillmode": "overlay",
             "size": 10,
             "solidity": 0.2
            },
            "type": "scatter"
           }
          ],
          "scatter3d": [
           {
            "line": {
             "colorbar": {
              "outlinewidth": 0,
              "ticks": ""
             }
            },
            "marker": {
             "colorbar": {
              "outlinewidth": 0,
              "ticks": ""
             }
            },
            "type": "scatter3d"
           }
          ],
          "scattercarpet": [
           {
            "marker": {
             "colorbar": {
              "outlinewidth": 0,
              "ticks": ""
             }
            },
            "type": "scattercarpet"
           }
          ],
          "scattergeo": [
           {
            "marker": {
             "colorbar": {
              "outlinewidth": 0,
              "ticks": ""
             }
            },
            "type": "scattergeo"
           }
          ],
          "scattergl": [
           {
            "marker": {
             "colorbar": {
              "outlinewidth": 0,
              "ticks": ""
             }
            },
            "type": "scattergl"
           }
          ],
          "scattermapbox": [
           {
            "marker": {
             "colorbar": {
              "outlinewidth": 0,
              "ticks": ""
             }
            },
            "type": "scattermapbox"
           }
          ],
          "scatterpolar": [
           {
            "marker": {
             "colorbar": {
              "outlinewidth": 0,
              "ticks": ""
             }
            },
            "type": "scatterpolar"
           }
          ],
          "scatterpolargl": [
           {
            "marker": {
             "colorbar": {
              "outlinewidth": 0,
              "ticks": ""
             }
            },
            "type": "scatterpolargl"
           }
          ],
          "scatterternary": [
           {
            "marker": {
             "colorbar": {
              "outlinewidth": 0,
              "ticks": ""
             }
            },
            "type": "scatterternary"
           }
          ],
          "surface": [
           {
            "colorbar": {
             "outlinewidth": 0,
             "ticks": ""
            },
            "colorscale": [
             [
              0,
              "#0d0887"
             ],
             [
              0.1111111111111111,
              "#46039f"
             ],
             [
              0.2222222222222222,
              "#7201a8"
             ],
             [
              0.3333333333333333,
              "#9c179e"
             ],
             [
              0.4444444444444444,
              "#bd3786"
             ],
             [
              0.5555555555555556,
              "#d8576b"
             ],
             [
              0.6666666666666666,
              "#ed7953"
             ],
             [
              0.7777777777777778,
              "#fb9f3a"
             ],
             [
              0.8888888888888888,
              "#fdca26"
             ],
             [
              1,
              "#f0f921"
             ]
            ],
            "type": "surface"
           }
          ],
          "table": [
           {
            "cells": {
             "fill": {
              "color": "#EBF0F8"
             },
             "line": {
              "color": "white"
             }
            },
            "header": {
             "fill": {
              "color": "#C8D4E3"
             },
             "line": {
              "color": "white"
             }
            },
            "type": "table"
           }
          ]
         },
         "layout": {
          "annotationdefaults": {
           "arrowcolor": "#2a3f5f",
           "arrowhead": 0,
           "arrowwidth": 1
          },
          "autotypenumbers": "strict",
          "coloraxis": {
           "colorbar": {
            "outlinewidth": 0,
            "ticks": ""
           }
          },
          "colorscale": {
           "diverging": [
            [
             0,
             "#8e0152"
            ],
            [
             0.1,
             "#c51b7d"
            ],
            [
             0.2,
             "#de77ae"
            ],
            [
             0.3,
             "#f1b6da"
            ],
            [
             0.4,
             "#fde0ef"
            ],
            [
             0.5,
             "#f7f7f7"
            ],
            [
             0.6,
             "#e6f5d0"
            ],
            [
             0.7,
             "#b8e186"
            ],
            [
             0.8,
             "#7fbc41"
            ],
            [
             0.9,
             "#4d9221"
            ],
            [
             1,
             "#276419"
            ]
           ],
           "sequential": [
            [
             0,
             "#0d0887"
            ],
            [
             0.1111111111111111,
             "#46039f"
            ],
            [
             0.2222222222222222,
             "#7201a8"
            ],
            [
             0.3333333333333333,
             "#9c179e"
            ],
            [
             0.4444444444444444,
             "#bd3786"
            ],
            [
             0.5555555555555556,
             "#d8576b"
            ],
            [
             0.6666666666666666,
             "#ed7953"
            ],
            [
             0.7777777777777778,
             "#fb9f3a"
            ],
            [
             0.8888888888888888,
             "#fdca26"
            ],
            [
             1,
             "#f0f921"
            ]
           ],
           "sequentialminus": [
            [
             0,
             "#0d0887"
            ],
            [
             0.1111111111111111,
             "#46039f"
            ],
            [
             0.2222222222222222,
             "#7201a8"
            ],
            [
             0.3333333333333333,
             "#9c179e"
            ],
            [
             0.4444444444444444,
             "#bd3786"
            ],
            [
             0.5555555555555556,
             "#d8576b"
            ],
            [
             0.6666666666666666,
             "#ed7953"
            ],
            [
             0.7777777777777778,
             "#fb9f3a"
            ],
            [
             0.8888888888888888,
             "#fdca26"
            ],
            [
             1,
             "#f0f921"
            ]
           ]
          },
          "colorway": [
           "#636efa",
           "#EF553B",
           "#00cc96",
           "#ab63fa",
           "#FFA15A",
           "#19d3f3",
           "#FF6692",
           "#B6E880",
           "#FF97FF",
           "#FECB52"
          ],
          "font": {
           "color": "#2a3f5f"
          },
          "geo": {
           "bgcolor": "white",
           "lakecolor": "white",
           "landcolor": "#E5ECF6",
           "showlakes": true,
           "showland": true,
           "subunitcolor": "white"
          },
          "hoverlabel": {
           "align": "left"
          },
          "hovermode": "closest",
          "mapbox": {
           "style": "light"
          },
          "paper_bgcolor": "white",
          "plot_bgcolor": "#E5ECF6",
          "polar": {
           "angularaxis": {
            "gridcolor": "white",
            "linecolor": "white",
            "ticks": ""
           },
           "bgcolor": "#E5ECF6",
           "radialaxis": {
            "gridcolor": "white",
            "linecolor": "white",
            "ticks": ""
           }
          },
          "scene": {
           "xaxis": {
            "backgroundcolor": "#E5ECF6",
            "gridcolor": "white",
            "gridwidth": 2,
            "linecolor": "white",
            "showbackground": true,
            "ticks": "",
            "zerolinecolor": "white"
           },
           "yaxis": {
            "backgroundcolor": "#E5ECF6",
            "gridcolor": "white",
            "gridwidth": 2,
            "linecolor": "white",
            "showbackground": true,
            "ticks": "",
            "zerolinecolor": "white"
           },
           "zaxis": {
            "backgroundcolor": "#E5ECF6",
            "gridcolor": "white",
            "gridwidth": 2,
            "linecolor": "white",
            "showbackground": true,
            "ticks": "",
            "zerolinecolor": "white"
           }
          },
          "shapedefaults": {
           "line": {
            "color": "#2a3f5f"
           }
          },
          "ternary": {
           "aaxis": {
            "gridcolor": "white",
            "linecolor": "white",
            "ticks": ""
           },
           "baxis": {
            "gridcolor": "white",
            "linecolor": "white",
            "ticks": ""
           },
           "bgcolor": "#E5ECF6",
           "caxis": {
            "gridcolor": "white",
            "linecolor": "white",
            "ticks": ""
           }
          },
          "title": {
           "x": 0.05
          },
          "xaxis": {
           "automargin": true,
           "gridcolor": "white",
           "linecolor": "white",
           "ticks": "",
           "title": {
            "standoff": 15
           },
           "zerolinecolor": "white",
           "zerolinewidth": 2
          },
          "yaxis": {
           "automargin": true,
           "gridcolor": "white",
           "linecolor": "white",
           "ticks": "",
           "title": {
            "standoff": 15
           },
           "zerolinecolor": "white",
           "zerolinewidth": 2
          }
         }
        },
        "title": {
         "text": "Spotify MAUs and Premium Users Over Quarters"
        },
        "xaxis": {
         "anchor": "y",
         "domain": [
          0,
          1
         ],
         "title": {
          "text": "Quarter"
         }
        },
        "yaxis": {
         "anchor": "x",
         "domain": [
          0,
          1
         ],
         "title": {
          "text": "Millions"
         }
        }
       }
      }
     },
     "metadata": {},
     "output_type": "display_data"
    }
   ],
   "source": [
    "# Bar chart example\n",
    "fig = px.bar(user_data, x='Date', y=['Monthly Active User (MAU)', 'Premium Users'], barmode='group', title='Spotify MAUs and Premium Users Over Quarters')\n",
    "fig.update_layout(xaxis_title='Quarter', yaxis_title='Millions')\n",
    "fig.show()"
   ]
  },
  {
   "cell_type": "code",
   "execution_count": 17,
   "metadata": {},
   "outputs": [],
   "source": [
    "world_user = pd.read_csv('dataset/spotify_archive/World Users.csv')"
   ]
  },
  {
   "cell_type": "code",
   "execution_count": 18,
   "metadata": {},
   "outputs": [
    {
     "data": {
      "text/html": [
       "<div>\n",
       "<style scoped>\n",
       "    .dataframe tbody tr th:only-of-type {\n",
       "        vertical-align: middle;\n",
       "    }\n",
       "\n",
       "    .dataframe tbody tr th {\n",
       "        vertical-align: top;\n",
       "    }\n",
       "\n",
       "    .dataframe thead th {\n",
       "        text-align: right;\n",
       "    }\n",
       "</style>\n",
       "<table border=\"1\" class=\"dataframe\">\n",
       "  <thead>\n",
       "    <tr style=\"text-align: right;\">\n",
       "      <th></th>\n",
       "      <th>Year</th>\n",
       "      <th>Europe</th>\n",
       "      <th>North America</th>\n",
       "      <th>Latin America</th>\n",
       "      <th>Rest of World</th>\n",
       "    </tr>\n",
       "  </thead>\n",
       "  <tbody>\n",
       "    <tr>\n",
       "      <th>0</th>\n",
       "      <td>2016</td>\n",
       "      <td>40</td>\n",
       "      <td>36</td>\n",
       "      <td>20</td>\n",
       "      <td>8</td>\n",
       "    </tr>\n",
       "    <tr>\n",
       "      <th>1</th>\n",
       "      <td>2017</td>\n",
       "      <td>51</td>\n",
       "      <td>46</td>\n",
       "      <td>28</td>\n",
       "      <td>13</td>\n",
       "    </tr>\n",
       "    <tr>\n",
       "      <th>2</th>\n",
       "      <td>2018</td>\n",
       "      <td>66</td>\n",
       "      <td>56</td>\n",
       "      <td>38</td>\n",
       "      <td>20</td>\n",
       "    </tr>\n",
       "    <tr>\n",
       "      <th>3</th>\n",
       "      <td>2019</td>\n",
       "      <td>83</td>\n",
       "      <td>65</td>\n",
       "      <td>49</td>\n",
       "      <td>35</td>\n",
       "    </tr>\n",
       "    <tr>\n",
       "      <th>4</th>\n",
       "      <td>2020</td>\n",
       "      <td>102</td>\n",
       "      <td>77</td>\n",
       "      <td>66</td>\n",
       "      <td>54</td>\n",
       "    </tr>\n",
       "    <tr>\n",
       "      <th>5</th>\n",
       "      <td>2021</td>\n",
       "      <td>124</td>\n",
       "      <td>88</td>\n",
       "      <td>80</td>\n",
       "      <td>73</td>\n",
       "    </tr>\n",
       "    <tr>\n",
       "      <th>6</th>\n",
       "      <td>2022</td>\n",
       "      <td>138</td>\n",
       "      <td>97</td>\n",
       "      <td>95</td>\n",
       "      <td>103</td>\n",
       "    </tr>\n",
       "    <tr>\n",
       "      <th>7</th>\n",
       "      <td>2023</td>\n",
       "      <td>159</td>\n",
       "      <td>111</td>\n",
       "      <td>116</td>\n",
       "      <td>165</td>\n",
       "    </tr>\n",
       "  </tbody>\n",
       "</table>\n",
       "</div>"
      ],
      "text/plain": [
       "   Year  Europe  North America  Latin America  Rest of World\n",
       "0  2016      40             36             20              8\n",
       "1  2017      51             46             28             13\n",
       "2  2018      66             56             38             20\n",
       "3  2019      83             65             49             35\n",
       "4  2020     102             77             66             54\n",
       "5  2021     124             88             80             73\n",
       "6  2022     138             97             95            103\n",
       "7  2023     159            111            116            165"
      ]
     },
     "execution_count": 18,
     "metadata": {},
     "output_type": "execute_result"
    }
   ],
   "source": [
    "world_user"
   ]
  },
  {
   "cell_type": "code",
   "execution_count": 19,
   "metadata": {},
   "outputs": [
    {
     "data": {
      "application/vnd.plotly.v1+json": {
       "config": {
        "plotlyServerURL": "https://plot.ly"
       },
       "data": [
        {
         "fillpattern": {
          "shape": ""
         },
         "hovertemplate": "Region=Europe<br>Year=%{x}<br>Users (millions)=%{y}<extra></extra>",
         "legendgroup": "Europe",
         "line": {
          "color": "#636efa"
         },
         "marker": {
          "symbol": "circle"
         },
         "mode": "lines",
         "name": "Europe",
         "orientation": "v",
         "showlegend": true,
         "stackgroup": "1",
         "type": "scatter",
         "x": [
          2016,
          2017,
          2018,
          2019,
          2020,
          2021,
          2022,
          2023
         ],
         "xaxis": "x",
         "y": [
          40,
          51,
          66,
          83,
          102,
          124,
          138,
          159
         ],
         "yaxis": "y"
        },
        {
         "fillpattern": {
          "shape": ""
         },
         "hovertemplate": "Region=North America<br>Year=%{x}<br>Users (millions)=%{y}<extra></extra>",
         "legendgroup": "North America",
         "line": {
          "color": "#EF553B"
         },
         "marker": {
          "symbol": "circle"
         },
         "mode": "lines",
         "name": "North America",
         "orientation": "v",
         "showlegend": true,
         "stackgroup": "1",
         "type": "scatter",
         "x": [
          2016,
          2017,
          2018,
          2019,
          2020,
          2021,
          2022,
          2023
         ],
         "xaxis": "x",
         "y": [
          36,
          46,
          56,
          65,
          77,
          88,
          97,
          111
         ],
         "yaxis": "y"
        },
        {
         "fillpattern": {
          "shape": ""
         },
         "hovertemplate": "Region=Latin America<br>Year=%{x}<br>Users (millions)=%{y}<extra></extra>",
         "legendgroup": "Latin America",
         "line": {
          "color": "#00cc96"
         },
         "marker": {
          "symbol": "circle"
         },
         "mode": "lines",
         "name": "Latin America",
         "orientation": "v",
         "showlegend": true,
         "stackgroup": "1",
         "type": "scatter",
         "x": [
          2016,
          2017,
          2018,
          2019,
          2020,
          2021,
          2022,
          2023
         ],
         "xaxis": "x",
         "y": [
          20,
          28,
          38,
          49,
          66,
          80,
          95,
          116
         ],
         "yaxis": "y"
        },
        {
         "fillpattern": {
          "shape": ""
         },
         "hovertemplate": "Region=Rest of World<br>Year=%{x}<br>Users (millions)=%{y}<extra></extra>",
         "legendgroup": "Rest of World",
         "line": {
          "color": "#ab63fa"
         },
         "marker": {
          "symbol": "circle"
         },
         "mode": "lines",
         "name": "Rest of World",
         "orientation": "v",
         "showlegend": true,
         "stackgroup": "1",
         "type": "scatter",
         "x": [
          2016,
          2017,
          2018,
          2019,
          2020,
          2021,
          2022,
          2023
         ],
         "xaxis": "x",
         "y": [
          8,
          13,
          20,
          35,
          54,
          73,
          103,
          165
         ],
         "yaxis": "y"
        }
       ],
       "layout": {
        "legend": {
         "title": {
          "text": "Region"
         },
         "tracegroupgap": 0
        },
        "template": {
         "data": {
          "bar": [
           {
            "error_x": {
             "color": "#2a3f5f"
            },
            "error_y": {
             "color": "#2a3f5f"
            },
            "marker": {
             "line": {
              "color": "#E5ECF6",
              "width": 0.5
             },
             "pattern": {
              "fillmode": "overlay",
              "size": 10,
              "solidity": 0.2
             }
            },
            "type": "bar"
           }
          ],
          "barpolar": [
           {
            "marker": {
             "line": {
              "color": "#E5ECF6",
              "width": 0.5
             },
             "pattern": {
              "fillmode": "overlay",
              "size": 10,
              "solidity": 0.2
             }
            },
            "type": "barpolar"
           }
          ],
          "carpet": [
           {
            "aaxis": {
             "endlinecolor": "#2a3f5f",
             "gridcolor": "white",
             "linecolor": "white",
             "minorgridcolor": "white",
             "startlinecolor": "#2a3f5f"
            },
            "baxis": {
             "endlinecolor": "#2a3f5f",
             "gridcolor": "white",
             "linecolor": "white",
             "minorgridcolor": "white",
             "startlinecolor": "#2a3f5f"
            },
            "type": "carpet"
           }
          ],
          "choropleth": [
           {
            "colorbar": {
             "outlinewidth": 0,
             "ticks": ""
            },
            "type": "choropleth"
           }
          ],
          "contour": [
           {
            "colorbar": {
             "outlinewidth": 0,
             "ticks": ""
            },
            "colorscale": [
             [
              0,
              "#0d0887"
             ],
             [
              0.1111111111111111,
              "#46039f"
             ],
             [
              0.2222222222222222,
              "#7201a8"
             ],
             [
              0.3333333333333333,
              "#9c179e"
             ],
             [
              0.4444444444444444,
              "#bd3786"
             ],
             [
              0.5555555555555556,
              "#d8576b"
             ],
             [
              0.6666666666666666,
              "#ed7953"
             ],
             [
              0.7777777777777778,
              "#fb9f3a"
             ],
             [
              0.8888888888888888,
              "#fdca26"
             ],
             [
              1,
              "#f0f921"
             ]
            ],
            "type": "contour"
           }
          ],
          "contourcarpet": [
           {
            "colorbar": {
             "outlinewidth": 0,
             "ticks": ""
            },
            "type": "contourcarpet"
           }
          ],
          "heatmap": [
           {
            "colorbar": {
             "outlinewidth": 0,
             "ticks": ""
            },
            "colorscale": [
             [
              0,
              "#0d0887"
             ],
             [
              0.1111111111111111,
              "#46039f"
             ],
             [
              0.2222222222222222,
              "#7201a8"
             ],
             [
              0.3333333333333333,
              "#9c179e"
             ],
             [
              0.4444444444444444,
              "#bd3786"
             ],
             [
              0.5555555555555556,
              "#d8576b"
             ],
             [
              0.6666666666666666,
              "#ed7953"
             ],
             [
              0.7777777777777778,
              "#fb9f3a"
             ],
             [
              0.8888888888888888,
              "#fdca26"
             ],
             [
              1,
              "#f0f921"
             ]
            ],
            "type": "heatmap"
           }
          ],
          "heatmapgl": [
           {
            "colorbar": {
             "outlinewidth": 0,
             "ticks": ""
            },
            "colorscale": [
             [
              0,
              "#0d0887"
             ],
             [
              0.1111111111111111,
              "#46039f"
             ],
             [
              0.2222222222222222,
              "#7201a8"
             ],
             [
              0.3333333333333333,
              "#9c179e"
             ],
             [
              0.4444444444444444,
              "#bd3786"
             ],
             [
              0.5555555555555556,
              "#d8576b"
             ],
             [
              0.6666666666666666,
              "#ed7953"
             ],
             [
              0.7777777777777778,
              "#fb9f3a"
             ],
             [
              0.8888888888888888,
              "#fdca26"
             ],
             [
              1,
              "#f0f921"
             ]
            ],
            "type": "heatmapgl"
           }
          ],
          "histogram": [
           {
            "marker": {
             "pattern": {
              "fillmode": "overlay",
              "size": 10,
              "solidity": 0.2
             }
            },
            "type": "histogram"
           }
          ],
          "histogram2d": [
           {
            "colorbar": {
             "outlinewidth": 0,
             "ticks": ""
            },
            "colorscale": [
             [
              0,
              "#0d0887"
             ],
             [
              0.1111111111111111,
              "#46039f"
             ],
             [
              0.2222222222222222,
              "#7201a8"
             ],
             [
              0.3333333333333333,
              "#9c179e"
             ],
             [
              0.4444444444444444,
              "#bd3786"
             ],
             [
              0.5555555555555556,
              "#d8576b"
             ],
             [
              0.6666666666666666,
              "#ed7953"
             ],
             [
              0.7777777777777778,
              "#fb9f3a"
             ],
             [
              0.8888888888888888,
              "#fdca26"
             ],
             [
              1,
              "#f0f921"
             ]
            ],
            "type": "histogram2d"
           }
          ],
          "histogram2dcontour": [
           {
            "colorbar": {
             "outlinewidth": 0,
             "ticks": ""
            },
            "colorscale": [
             [
              0,
              "#0d0887"
             ],
             [
              0.1111111111111111,
              "#46039f"
             ],
             [
              0.2222222222222222,
              "#7201a8"
             ],
             [
              0.3333333333333333,
              "#9c179e"
             ],
             [
              0.4444444444444444,
              "#bd3786"
             ],
             [
              0.5555555555555556,
              "#d8576b"
             ],
             [
              0.6666666666666666,
              "#ed7953"
             ],
             [
              0.7777777777777778,
              "#fb9f3a"
             ],
             [
              0.8888888888888888,
              "#fdca26"
             ],
             [
              1,
              "#f0f921"
             ]
            ],
            "type": "histogram2dcontour"
           }
          ],
          "mesh3d": [
           {
            "colorbar": {
             "outlinewidth": 0,
             "ticks": ""
            },
            "type": "mesh3d"
           }
          ],
          "parcoords": [
           {
            "line": {
             "colorbar": {
              "outlinewidth": 0,
              "ticks": ""
             }
            },
            "type": "parcoords"
           }
          ],
          "pie": [
           {
            "automargin": true,
            "type": "pie"
           }
          ],
          "scatter": [
           {
            "fillpattern": {
             "fillmode": "overlay",
             "size": 10,
             "solidity": 0.2
            },
            "type": "scatter"
           }
          ],
          "scatter3d": [
           {
            "line": {
             "colorbar": {
              "outlinewidth": 0,
              "ticks": ""
             }
            },
            "marker": {
             "colorbar": {
              "outlinewidth": 0,
              "ticks": ""
             }
            },
            "type": "scatter3d"
           }
          ],
          "scattercarpet": [
           {
            "marker": {
             "colorbar": {
              "outlinewidth": 0,
              "ticks": ""
             }
            },
            "type": "scattercarpet"
           }
          ],
          "scattergeo": [
           {
            "marker": {
             "colorbar": {
              "outlinewidth": 0,
              "ticks": ""
             }
            },
            "type": "scattergeo"
           }
          ],
          "scattergl": [
           {
            "marker": {
             "colorbar": {
              "outlinewidth": 0,
              "ticks": ""
             }
            },
            "type": "scattergl"
           }
          ],
          "scattermapbox": [
           {
            "marker": {
             "colorbar": {
              "outlinewidth": 0,
              "ticks": ""
             }
            },
            "type": "scattermapbox"
           }
          ],
          "scatterpolar": [
           {
            "marker": {
             "colorbar": {
              "outlinewidth": 0,
              "ticks": ""
             }
            },
            "type": "scatterpolar"
           }
          ],
          "scatterpolargl": [
           {
            "marker": {
             "colorbar": {
              "outlinewidth": 0,
              "ticks": ""
             }
            },
            "type": "scatterpolargl"
           }
          ],
          "scatterternary": [
           {
            "marker": {
             "colorbar": {
              "outlinewidth": 0,
              "ticks": ""
             }
            },
            "type": "scatterternary"
           }
          ],
          "surface": [
           {
            "colorbar": {
             "outlinewidth": 0,
             "ticks": ""
            },
            "colorscale": [
             [
              0,
              "#0d0887"
             ],
             [
              0.1111111111111111,
              "#46039f"
             ],
             [
              0.2222222222222222,
              "#7201a8"
             ],
             [
              0.3333333333333333,
              "#9c179e"
             ],
             [
              0.4444444444444444,
              "#bd3786"
             ],
             [
              0.5555555555555556,
              "#d8576b"
             ],
             [
              0.6666666666666666,
              "#ed7953"
             ],
             [
              0.7777777777777778,
              "#fb9f3a"
             ],
             [
              0.8888888888888888,
              "#fdca26"
             ],
             [
              1,
              "#f0f921"
             ]
            ],
            "type": "surface"
           }
          ],
          "table": [
           {
            "cells": {
             "fill": {
              "color": "#EBF0F8"
             },
             "line": {
              "color": "white"
             }
            },
            "header": {
             "fill": {
              "color": "#C8D4E3"
             },
             "line": {
              "color": "white"
             }
            },
            "type": "table"
           }
          ]
         },
         "layout": {
          "annotationdefaults": {
           "arrowcolor": "#2a3f5f",
           "arrowhead": 0,
           "arrowwidth": 1
          },
          "autotypenumbers": "strict",
          "coloraxis": {
           "colorbar": {
            "outlinewidth": 0,
            "ticks": ""
           }
          },
          "colorscale": {
           "diverging": [
            [
             0,
             "#8e0152"
            ],
            [
             0.1,
             "#c51b7d"
            ],
            [
             0.2,
             "#de77ae"
            ],
            [
             0.3,
             "#f1b6da"
            ],
            [
             0.4,
             "#fde0ef"
            ],
            [
             0.5,
             "#f7f7f7"
            ],
            [
             0.6,
             "#e6f5d0"
            ],
            [
             0.7,
             "#b8e186"
            ],
            [
             0.8,
             "#7fbc41"
            ],
            [
             0.9,
             "#4d9221"
            ],
            [
             1,
             "#276419"
            ]
           ],
           "sequential": [
            [
             0,
             "#0d0887"
            ],
            [
             0.1111111111111111,
             "#46039f"
            ],
            [
             0.2222222222222222,
             "#7201a8"
            ],
            [
             0.3333333333333333,
             "#9c179e"
            ],
            [
             0.4444444444444444,
             "#bd3786"
            ],
            [
             0.5555555555555556,
             "#d8576b"
            ],
            [
             0.6666666666666666,
             "#ed7953"
            ],
            [
             0.7777777777777778,
             "#fb9f3a"
            ],
            [
             0.8888888888888888,
             "#fdca26"
            ],
            [
             1,
             "#f0f921"
            ]
           ],
           "sequentialminus": [
            [
             0,
             "#0d0887"
            ],
            [
             0.1111111111111111,
             "#46039f"
            ],
            [
             0.2222222222222222,
             "#7201a8"
            ],
            [
             0.3333333333333333,
             "#9c179e"
            ],
            [
             0.4444444444444444,
             "#bd3786"
            ],
            [
             0.5555555555555556,
             "#d8576b"
            ],
            [
             0.6666666666666666,
             "#ed7953"
            ],
            [
             0.7777777777777778,
             "#fb9f3a"
            ],
            [
             0.8888888888888888,
             "#fdca26"
            ],
            [
             1,
             "#f0f921"
            ]
           ]
          },
          "colorway": [
           "#636efa",
           "#EF553B",
           "#00cc96",
           "#ab63fa",
           "#FFA15A",
           "#19d3f3",
           "#FF6692",
           "#B6E880",
           "#FF97FF",
           "#FECB52"
          ],
          "font": {
           "color": "#2a3f5f"
          },
          "geo": {
           "bgcolor": "white",
           "lakecolor": "white",
           "landcolor": "#E5ECF6",
           "showlakes": true,
           "showland": true,
           "subunitcolor": "white"
          },
          "hoverlabel": {
           "align": "left"
          },
          "hovermode": "closest",
          "mapbox": {
           "style": "light"
          },
          "paper_bgcolor": "white",
          "plot_bgcolor": "#E5ECF6",
          "polar": {
           "angularaxis": {
            "gridcolor": "white",
            "linecolor": "white",
            "ticks": ""
           },
           "bgcolor": "#E5ECF6",
           "radialaxis": {
            "gridcolor": "white",
            "linecolor": "white",
            "ticks": ""
           }
          },
          "scene": {
           "xaxis": {
            "backgroundcolor": "#E5ECF6",
            "gridcolor": "white",
            "gridwidth": 2,
            "linecolor": "white",
            "showbackground": true,
            "ticks": "",
            "zerolinecolor": "white"
           },
           "yaxis": {
            "backgroundcolor": "#E5ECF6",
            "gridcolor": "white",
            "gridwidth": 2,
            "linecolor": "white",
            "showbackground": true,
            "ticks": "",
            "zerolinecolor": "white"
           },
           "zaxis": {
            "backgroundcolor": "#E5ECF6",
            "gridcolor": "white",
            "gridwidth": 2,
            "linecolor": "white",
            "showbackground": true,
            "ticks": "",
            "zerolinecolor": "white"
           }
          },
          "shapedefaults": {
           "line": {
            "color": "#2a3f5f"
           }
          },
          "ternary": {
           "aaxis": {
            "gridcolor": "white",
            "linecolor": "white",
            "ticks": ""
           },
           "baxis": {
            "gridcolor": "white",
            "linecolor": "white",
            "ticks": ""
           },
           "bgcolor": "#E5ECF6",
           "caxis": {
            "gridcolor": "white",
            "linecolor": "white",
            "ticks": ""
           }
          },
          "title": {
           "x": 0.05
          },
          "xaxis": {
           "automargin": true,
           "gridcolor": "white",
           "linecolor": "white",
           "ticks": "",
           "title": {
            "standoff": 15
           },
           "zerolinecolor": "white",
           "zerolinewidth": 2
          },
          "yaxis": {
           "automargin": true,
           "gridcolor": "white",
           "linecolor": "white",
           "ticks": "",
           "title": {
            "standoff": 15
           },
           "zerolinecolor": "white",
           "zerolinewidth": 2
          }
         }
        },
        "title": {
         "text": "Spotify Users by Region Over Years"
        },
        "xaxis": {
         "anchor": "y",
         "domain": [
          0,
          1
         ],
         "title": {
          "text": "Year"
         }
        },
        "yaxis": {
         "anchor": "x",
         "domain": [
          0,
          1
         ],
         "title": {
          "text": "Number of Users (millions)"
         }
        }
       }
      }
     },
     "metadata": {},
     "output_type": "display_data"
    }
   ],
   "source": [
    "# Creating a stacked area chart\n",
    "fig = px.area(world_user, x='Year', y=['Europe', 'North America', 'Latin America', 'Rest of World'],\n",
    "              title='Spotify Users by Region Over Years',\n",
    "              labels={'value': 'Users (millions)', 'variable': 'Region'},\n",
    "              facet_col_wrap=1)\n",
    "\n",
    "# Update layout\n",
    "fig.update_layout(xaxis_title='Year', yaxis_title='Number of Users (millions)')\n",
    "fig.show()\n"
   ]
  },
  {
   "cell_type": "code",
   "execution_count": 21,
   "metadata": {},
   "outputs": [],
   "source": [
    "\n",
    "spotify_2k = pd.read_csv('dataset/spotify_archive/Spotify-2000.csv')  # Make sure to adjust this to your dataset path\n"
   ]
  },
  {
   "cell_type": "code",
   "execution_count": 22,
   "metadata": {},
   "outputs": [
    {
     "data": {
      "text/html": [
       "<div>\n",
       "<style scoped>\n",
       "    .dataframe tbody tr th:only-of-type {\n",
       "        vertical-align: middle;\n",
       "    }\n",
       "\n",
       "    .dataframe tbody tr th {\n",
       "        vertical-align: top;\n",
       "    }\n",
       "\n",
       "    .dataframe thead th {\n",
       "        text-align: right;\n",
       "    }\n",
       "</style>\n",
       "<table border=\"1\" class=\"dataframe\">\n",
       "  <thead>\n",
       "    <tr style=\"text-align: right;\">\n",
       "      <th></th>\n",
       "      <th>Index</th>\n",
       "      <th>Title</th>\n",
       "      <th>Artist</th>\n",
       "      <th>Top Genre</th>\n",
       "      <th>Year</th>\n",
       "      <th>Beats Per Minute (BPM)</th>\n",
       "      <th>Energy</th>\n",
       "      <th>Danceability</th>\n",
       "      <th>Loudness (dB)</th>\n",
       "      <th>Liveness</th>\n",
       "      <th>Valence</th>\n",
       "      <th>Length (Duration)</th>\n",
       "      <th>Acousticness</th>\n",
       "      <th>Speechiness</th>\n",
       "      <th>Popularity</th>\n",
       "    </tr>\n",
       "  </thead>\n",
       "  <tbody>\n",
       "    <tr>\n",
       "      <th>0</th>\n",
       "      <td>1</td>\n",
       "      <td>Sunrise</td>\n",
       "      <td>Norah Jones</td>\n",
       "      <td>adult standards</td>\n",
       "      <td>2004</td>\n",
       "      <td>157</td>\n",
       "      <td>30</td>\n",
       "      <td>53</td>\n",
       "      <td>-14</td>\n",
       "      <td>11</td>\n",
       "      <td>68</td>\n",
       "      <td>201</td>\n",
       "      <td>94</td>\n",
       "      <td>3</td>\n",
       "      <td>71</td>\n",
       "    </tr>\n",
       "    <tr>\n",
       "      <th>1</th>\n",
       "      <td>2</td>\n",
       "      <td>Black Night</td>\n",
       "      <td>Deep Purple</td>\n",
       "      <td>album rock</td>\n",
       "      <td>2000</td>\n",
       "      <td>135</td>\n",
       "      <td>79</td>\n",
       "      <td>50</td>\n",
       "      <td>-11</td>\n",
       "      <td>17</td>\n",
       "      <td>81</td>\n",
       "      <td>207</td>\n",
       "      <td>17</td>\n",
       "      <td>7</td>\n",
       "      <td>39</td>\n",
       "    </tr>\n",
       "    <tr>\n",
       "      <th>2</th>\n",
       "      <td>3</td>\n",
       "      <td>Clint Eastwood</td>\n",
       "      <td>Gorillaz</td>\n",
       "      <td>alternative hip hop</td>\n",
       "      <td>2001</td>\n",
       "      <td>168</td>\n",
       "      <td>69</td>\n",
       "      <td>66</td>\n",
       "      <td>-9</td>\n",
       "      <td>7</td>\n",
       "      <td>52</td>\n",
       "      <td>341</td>\n",
       "      <td>2</td>\n",
       "      <td>17</td>\n",
       "      <td>69</td>\n",
       "    </tr>\n",
       "    <tr>\n",
       "      <th>3</th>\n",
       "      <td>4</td>\n",
       "      <td>The Pretender</td>\n",
       "      <td>Foo Fighters</td>\n",
       "      <td>alternative metal</td>\n",
       "      <td>2007</td>\n",
       "      <td>173</td>\n",
       "      <td>96</td>\n",
       "      <td>43</td>\n",
       "      <td>-4</td>\n",
       "      <td>3</td>\n",
       "      <td>37</td>\n",
       "      <td>269</td>\n",
       "      <td>0</td>\n",
       "      <td>4</td>\n",
       "      <td>76</td>\n",
       "    </tr>\n",
       "    <tr>\n",
       "      <th>4</th>\n",
       "      <td>5</td>\n",
       "      <td>Waitin' On A Sunny Day</td>\n",
       "      <td>Bruce Springsteen</td>\n",
       "      <td>classic rock</td>\n",
       "      <td>2002</td>\n",
       "      <td>106</td>\n",
       "      <td>82</td>\n",
       "      <td>58</td>\n",
       "      <td>-5</td>\n",
       "      <td>10</td>\n",
       "      <td>87</td>\n",
       "      <td>256</td>\n",
       "      <td>1</td>\n",
       "      <td>3</td>\n",
       "      <td>59</td>\n",
       "    </tr>\n",
       "  </tbody>\n",
       "</table>\n",
       "</div>"
      ],
      "text/plain": [
       "   Index                   Title             Artist            Top Genre  \\\n",
       "0      1                 Sunrise        Norah Jones      adult standards   \n",
       "1      2             Black Night        Deep Purple           album rock   \n",
       "2      3          Clint Eastwood           Gorillaz  alternative hip hop   \n",
       "3      4           The Pretender       Foo Fighters    alternative metal   \n",
       "4      5  Waitin' On A Sunny Day  Bruce Springsteen         classic rock   \n",
       "\n",
       "   Year  Beats Per Minute (BPM)  Energy  Danceability  Loudness (dB)  \\\n",
       "0  2004                     157      30            53            -14   \n",
       "1  2000                     135      79            50            -11   \n",
       "2  2001                     168      69            66             -9   \n",
       "3  2007                     173      96            43             -4   \n",
       "4  2002                     106      82            58             -5   \n",
       "\n",
       "   Liveness  Valence Length (Duration)  Acousticness  Speechiness  Popularity  \n",
       "0        11       68               201            94            3          71  \n",
       "1        17       81               207            17            7          39  \n",
       "2         7       52               341             2           17          69  \n",
       "3         3       37               269             0            4          76  \n",
       "4        10       87               256             1            3          59  "
      ]
     },
     "execution_count": 22,
     "metadata": {},
     "output_type": "execute_result"
    }
   ],
   "source": [
    "spotify_2k.head()"
   ]
  },
  {
   "cell_type": "code",
   "execution_count": 23,
   "metadata": {},
   "outputs": [
    {
     "name": "stdout",
     "output_type": "stream",
     "text": [
      "<class 'pandas.core.frame.DataFrame'>\n",
      "RangeIndex: 1994 entries, 0 to 1993\n",
      "Data columns (total 15 columns):\n",
      " #   Column                  Non-Null Count  Dtype \n",
      "---  ------                  --------------  ----- \n",
      " 0   Index                   1994 non-null   int64 \n",
      " 1   Title                   1994 non-null   object\n",
      " 2   Artist                  1994 non-null   object\n",
      " 3   Top Genre               1994 non-null   object\n",
      " 4   Year                    1994 non-null   int64 \n",
      " 5   Beats Per Minute (BPM)  1994 non-null   int64 \n",
      " 6   Energy                  1994 non-null   int64 \n",
      " 7   Danceability            1994 non-null   int64 \n",
      " 8   Loudness (dB)           1994 non-null   int64 \n",
      " 9   Liveness                1994 non-null   int64 \n",
      " 10  Valence                 1994 non-null   int64 \n",
      " 11  Length (Duration)       1994 non-null   object\n",
      " 12  Acousticness            1994 non-null   int64 \n",
      " 13  Speechiness             1994 non-null   int64 \n",
      " 14  Popularity              1994 non-null   int64 \n",
      "dtypes: int64(11), object(4)\n",
      "memory usage: 233.8+ KB\n"
     ]
    }
   ],
   "source": [
    "spotify_2k.info()"
   ]
  },
  {
   "cell_type": "code",
   "execution_count": 24,
   "metadata": {},
   "outputs": [
    {
     "data": {
      "text/html": [
       "<div>\n",
       "<style scoped>\n",
       "    .dataframe tbody tr th:only-of-type {\n",
       "        vertical-align: middle;\n",
       "    }\n",
       "\n",
       "    .dataframe tbody tr th {\n",
       "        vertical-align: top;\n",
       "    }\n",
       "\n",
       "    .dataframe thead th {\n",
       "        text-align: right;\n",
       "    }\n",
       "</style>\n",
       "<table border=\"1\" class=\"dataframe\">\n",
       "  <thead>\n",
       "    <tr style=\"text-align: right;\">\n",
       "      <th></th>\n",
       "      <th>count</th>\n",
       "      <th>mean</th>\n",
       "      <th>std</th>\n",
       "      <th>min</th>\n",
       "      <th>25%</th>\n",
       "      <th>50%</th>\n",
       "      <th>75%</th>\n",
       "      <th>max</th>\n",
       "    </tr>\n",
       "  </thead>\n",
       "  <tbody>\n",
       "    <tr>\n",
       "      <th>Index</th>\n",
       "      <td>1994.0</td>\n",
       "      <td>997.500000</td>\n",
       "      <td>575.762538</td>\n",
       "      <td>1.0</td>\n",
       "      <td>499.25</td>\n",
       "      <td>997.5</td>\n",
       "      <td>1495.75</td>\n",
       "      <td>1994.0</td>\n",
       "    </tr>\n",
       "    <tr>\n",
       "      <th>Year</th>\n",
       "      <td>1994.0</td>\n",
       "      <td>1992.992979</td>\n",
       "      <td>16.116048</td>\n",
       "      <td>1956.0</td>\n",
       "      <td>1979.00</td>\n",
       "      <td>1993.0</td>\n",
       "      <td>2007.00</td>\n",
       "      <td>2019.0</td>\n",
       "    </tr>\n",
       "    <tr>\n",
       "      <th>Beats Per Minute (BPM)</th>\n",
       "      <td>1994.0</td>\n",
       "      <td>120.215647</td>\n",
       "      <td>28.028096</td>\n",
       "      <td>37.0</td>\n",
       "      <td>99.00</td>\n",
       "      <td>119.0</td>\n",
       "      <td>136.00</td>\n",
       "      <td>206.0</td>\n",
       "    </tr>\n",
       "    <tr>\n",
       "      <th>Energy</th>\n",
       "      <td>1994.0</td>\n",
       "      <td>59.679539</td>\n",
       "      <td>22.154322</td>\n",
       "      <td>3.0</td>\n",
       "      <td>42.00</td>\n",
       "      <td>61.0</td>\n",
       "      <td>78.00</td>\n",
       "      <td>100.0</td>\n",
       "    </tr>\n",
       "    <tr>\n",
       "      <th>Danceability</th>\n",
       "      <td>1994.0</td>\n",
       "      <td>53.238215</td>\n",
       "      <td>15.351507</td>\n",
       "      <td>10.0</td>\n",
       "      <td>43.00</td>\n",
       "      <td>53.0</td>\n",
       "      <td>64.00</td>\n",
       "      <td>96.0</td>\n",
       "    </tr>\n",
       "    <tr>\n",
       "      <th>Loudness (dB)</th>\n",
       "      <td>1994.0</td>\n",
       "      <td>-9.008526</td>\n",
       "      <td>3.647876</td>\n",
       "      <td>-27.0</td>\n",
       "      <td>-11.00</td>\n",
       "      <td>-8.0</td>\n",
       "      <td>-6.00</td>\n",
       "      <td>-2.0</td>\n",
       "    </tr>\n",
       "    <tr>\n",
       "      <th>Liveness</th>\n",
       "      <td>1994.0</td>\n",
       "      <td>19.012036</td>\n",
       "      <td>16.727378</td>\n",
       "      <td>2.0</td>\n",
       "      <td>9.00</td>\n",
       "      <td>12.0</td>\n",
       "      <td>23.00</td>\n",
       "      <td>99.0</td>\n",
       "    </tr>\n",
       "    <tr>\n",
       "      <th>Valence</th>\n",
       "      <td>1994.0</td>\n",
       "      <td>49.408726</td>\n",
       "      <td>24.858212</td>\n",
       "      <td>3.0</td>\n",
       "      <td>29.00</td>\n",
       "      <td>47.0</td>\n",
       "      <td>69.75</td>\n",
       "      <td>99.0</td>\n",
       "    </tr>\n",
       "    <tr>\n",
       "      <th>Acousticness</th>\n",
       "      <td>1994.0</td>\n",
       "      <td>28.858074</td>\n",
       "      <td>29.011986</td>\n",
       "      <td>0.0</td>\n",
       "      <td>3.00</td>\n",
       "      <td>18.0</td>\n",
       "      <td>50.00</td>\n",
       "      <td>99.0</td>\n",
       "    </tr>\n",
       "    <tr>\n",
       "      <th>Speechiness</th>\n",
       "      <td>1994.0</td>\n",
       "      <td>4.994985</td>\n",
       "      <td>4.401566</td>\n",
       "      <td>2.0</td>\n",
       "      <td>3.00</td>\n",
       "      <td>4.0</td>\n",
       "      <td>5.00</td>\n",
       "      <td>55.0</td>\n",
       "    </tr>\n",
       "    <tr>\n",
       "      <th>Popularity</th>\n",
       "      <td>1994.0</td>\n",
       "      <td>59.526580</td>\n",
       "      <td>14.351600</td>\n",
       "      <td>11.0</td>\n",
       "      <td>49.25</td>\n",
       "      <td>62.0</td>\n",
       "      <td>71.00</td>\n",
       "      <td>100.0</td>\n",
       "    </tr>\n",
       "  </tbody>\n",
       "</table>\n",
       "</div>"
      ],
      "text/plain": [
       "                         count         mean         std     min      25%  \\\n",
       "Index                   1994.0   997.500000  575.762538     1.0   499.25   \n",
       "Year                    1994.0  1992.992979   16.116048  1956.0  1979.00   \n",
       "Beats Per Minute (BPM)  1994.0   120.215647   28.028096    37.0    99.00   \n",
       "Energy                  1994.0    59.679539   22.154322     3.0    42.00   \n",
       "Danceability            1994.0    53.238215   15.351507    10.0    43.00   \n",
       "Loudness (dB)           1994.0    -9.008526    3.647876   -27.0   -11.00   \n",
       "Liveness                1994.0    19.012036   16.727378     2.0     9.00   \n",
       "Valence                 1994.0    49.408726   24.858212     3.0    29.00   \n",
       "Acousticness            1994.0    28.858074   29.011986     0.0     3.00   \n",
       "Speechiness             1994.0     4.994985    4.401566     2.0     3.00   \n",
       "Popularity              1994.0    59.526580   14.351600    11.0    49.25   \n",
       "\n",
       "                           50%      75%     max  \n",
       "Index                    997.5  1495.75  1994.0  \n",
       "Year                    1993.0  2007.00  2019.0  \n",
       "Beats Per Minute (BPM)   119.0   136.00   206.0  \n",
       "Energy                    61.0    78.00   100.0  \n",
       "Danceability              53.0    64.00    96.0  \n",
       "Loudness (dB)             -8.0    -6.00    -2.0  \n",
       "Liveness                  12.0    23.00    99.0  \n",
       "Valence                   47.0    69.75    99.0  \n",
       "Acousticness              18.0    50.00    99.0  \n",
       "Speechiness                4.0     5.00    55.0  \n",
       "Popularity                62.0    71.00   100.0  "
      ]
     },
     "execution_count": 24,
     "metadata": {},
     "output_type": "execute_result"
    }
   ],
   "source": [
    "numerical_stats = spotify_2k.describe()\n",
    "numerical_stats.transpose()"
   ]
  },
  {
   "cell_type": "code",
   "execution_count": 25,
   "metadata": {},
   "outputs": [
    {
     "data": {
      "text/plain": [
       "Artist\n",
       "Queen                 37\n",
       "The Beatles           36\n",
       "Coldplay              27\n",
       "U2                    26\n",
       "The Rolling Stones    24\n",
       "Bruce Springsteen     23\n",
       "Michael Jackson       23\n",
       "ABBA                  22\n",
       "David Bowie           21\n",
       "Fleetwood Mac         18\n",
       "Name: count, dtype: int64"
      ]
     },
     "execution_count": 25,
     "metadata": {},
     "output_type": "execute_result"
    }
   ],
   "source": [
    "# Let's find out the top 10 artists with the most tracks in the dataset\n",
    "top_artists = spotify_2k['Artist'].value_counts().head(10)\n",
    "\n",
    "top_artists"
   ]
  },
  {
   "cell_type": "code",
   "execution_count": 26,
   "metadata": {},
   "outputs": [
    {
     "data": {
      "application/vnd.plotly.v1+json": {
       "config": {
        "plotlyServerURL": "https://plot.ly"
       },
       "data": [
        {
         "alignmentgroup": "True",
         "hovertemplate": "Count=%{marker.color}<br>Artist=%{y}<extra></extra>",
         "legendgroup": "",
         "marker": {
          "color": [
           37,
           36,
           27,
           26,
           24,
           23,
           23,
           22,
           21,
           18
          ],
          "coloraxis": "coloraxis",
          "pattern": {
           "shape": ""
          }
         },
         "name": "",
         "offsetgroup": "",
         "orientation": "h",
         "showlegend": false,
         "text": [
          37,
          36,
          27,
          26,
          24,
          23,
          23,
          22,
          21,
          18
         ],
         "textposition": "outside",
         "texttemplate": "%{text}",
         "type": "bar",
         "x": [
          37,
          36,
          27,
          26,
          24,
          23,
          23,
          22,
          21,
          18
         ],
         "xaxis": "x",
         "y": [
          "Queen",
          "The Beatles",
          "Coldplay",
          "U2",
          "The Rolling Stones",
          "Bruce Springsteen",
          "Michael Jackson",
          "ABBA",
          "David Bowie",
          "Fleetwood Mac"
         ],
         "yaxis": "y"
        }
       ],
       "layout": {
        "barmode": "relative",
        "coloraxis": {
         "colorbar": {
          "title": {
           "text": "Count"
          }
         },
         "colorscale": [
          [
           0,
           "rgb(75, 41, 145)"
          ],
          [
           0.16666666666666666,
           "rgb(135, 44, 162)"
          ],
          [
           0.3333333333333333,
           "rgb(192, 54, 157)"
          ],
          [
           0.5,
           "rgb(234, 79, 136)"
          ],
          [
           0.6666666666666666,
           "rgb(250, 120, 118)"
          ],
          [
           0.8333333333333334,
           "rgb(246, 169, 122)"
          ],
          [
           1,
           "rgb(237, 217, 163)"
          ]
         ],
         "showscale": true
        },
        "legend": {
         "tracegroupgap": 0
        },
        "template": {
         "data": {
          "bar": [
           {
            "error_x": {
             "color": "#2a3f5f"
            },
            "error_y": {
             "color": "#2a3f5f"
            },
            "marker": {
             "line": {
              "color": "#E5ECF6",
              "width": 0.5
             },
             "pattern": {
              "fillmode": "overlay",
              "size": 10,
              "solidity": 0.2
             }
            },
            "type": "bar"
           }
          ],
          "barpolar": [
           {
            "marker": {
             "line": {
              "color": "#E5ECF6",
              "width": 0.5
             },
             "pattern": {
              "fillmode": "overlay",
              "size": 10,
              "solidity": 0.2
             }
            },
            "type": "barpolar"
           }
          ],
          "carpet": [
           {
            "aaxis": {
             "endlinecolor": "#2a3f5f",
             "gridcolor": "white",
             "linecolor": "white",
             "minorgridcolor": "white",
             "startlinecolor": "#2a3f5f"
            },
            "baxis": {
             "endlinecolor": "#2a3f5f",
             "gridcolor": "white",
             "linecolor": "white",
             "minorgridcolor": "white",
             "startlinecolor": "#2a3f5f"
            },
            "type": "carpet"
           }
          ],
          "choropleth": [
           {
            "colorbar": {
             "outlinewidth": 0,
             "ticks": ""
            },
            "type": "choropleth"
           }
          ],
          "contour": [
           {
            "colorbar": {
             "outlinewidth": 0,
             "ticks": ""
            },
            "colorscale": [
             [
              0,
              "#0d0887"
             ],
             [
              0.1111111111111111,
              "#46039f"
             ],
             [
              0.2222222222222222,
              "#7201a8"
             ],
             [
              0.3333333333333333,
              "#9c179e"
             ],
             [
              0.4444444444444444,
              "#bd3786"
             ],
             [
              0.5555555555555556,
              "#d8576b"
             ],
             [
              0.6666666666666666,
              "#ed7953"
             ],
             [
              0.7777777777777778,
              "#fb9f3a"
             ],
             [
              0.8888888888888888,
              "#fdca26"
             ],
             [
              1,
              "#f0f921"
             ]
            ],
            "type": "contour"
           }
          ],
          "contourcarpet": [
           {
            "colorbar": {
             "outlinewidth": 0,
             "ticks": ""
            },
            "type": "contourcarpet"
           }
          ],
          "heatmap": [
           {
            "colorbar": {
             "outlinewidth": 0,
             "ticks": ""
            },
            "colorscale": [
             [
              0,
              "#0d0887"
             ],
             [
              0.1111111111111111,
              "#46039f"
             ],
             [
              0.2222222222222222,
              "#7201a8"
             ],
             [
              0.3333333333333333,
              "#9c179e"
             ],
             [
              0.4444444444444444,
              "#bd3786"
             ],
             [
              0.5555555555555556,
              "#d8576b"
             ],
             [
              0.6666666666666666,
              "#ed7953"
             ],
             [
              0.7777777777777778,
              "#fb9f3a"
             ],
             [
              0.8888888888888888,
              "#fdca26"
             ],
             [
              1,
              "#f0f921"
             ]
            ],
            "type": "heatmap"
           }
          ],
          "heatmapgl": [
           {
            "colorbar": {
             "outlinewidth": 0,
             "ticks": ""
            },
            "colorscale": [
             [
              0,
              "#0d0887"
             ],
             [
              0.1111111111111111,
              "#46039f"
             ],
             [
              0.2222222222222222,
              "#7201a8"
             ],
             [
              0.3333333333333333,
              "#9c179e"
             ],
             [
              0.4444444444444444,
              "#bd3786"
             ],
             [
              0.5555555555555556,
              "#d8576b"
             ],
             [
              0.6666666666666666,
              "#ed7953"
             ],
             [
              0.7777777777777778,
              "#fb9f3a"
             ],
             [
              0.8888888888888888,
              "#fdca26"
             ],
             [
              1,
              "#f0f921"
             ]
            ],
            "type": "heatmapgl"
           }
          ],
          "histogram": [
           {
            "marker": {
             "pattern": {
              "fillmode": "overlay",
              "size": 10,
              "solidity": 0.2
             }
            },
            "type": "histogram"
           }
          ],
          "histogram2d": [
           {
            "colorbar": {
             "outlinewidth": 0,
             "ticks": ""
            },
            "colorscale": [
             [
              0,
              "#0d0887"
             ],
             [
              0.1111111111111111,
              "#46039f"
             ],
             [
              0.2222222222222222,
              "#7201a8"
             ],
             [
              0.3333333333333333,
              "#9c179e"
             ],
             [
              0.4444444444444444,
              "#bd3786"
             ],
             [
              0.5555555555555556,
              "#d8576b"
             ],
             [
              0.6666666666666666,
              "#ed7953"
             ],
             [
              0.7777777777777778,
              "#fb9f3a"
             ],
             [
              0.8888888888888888,
              "#fdca26"
             ],
             [
              1,
              "#f0f921"
             ]
            ],
            "type": "histogram2d"
           }
          ],
          "histogram2dcontour": [
           {
            "colorbar": {
             "outlinewidth": 0,
             "ticks": ""
            },
            "colorscale": [
             [
              0,
              "#0d0887"
             ],
             [
              0.1111111111111111,
              "#46039f"
             ],
             [
              0.2222222222222222,
              "#7201a8"
             ],
             [
              0.3333333333333333,
              "#9c179e"
             ],
             [
              0.4444444444444444,
              "#bd3786"
             ],
             [
              0.5555555555555556,
              "#d8576b"
             ],
             [
              0.6666666666666666,
              "#ed7953"
             ],
             [
              0.7777777777777778,
              "#fb9f3a"
             ],
             [
              0.8888888888888888,
              "#fdca26"
             ],
             [
              1,
              "#f0f921"
             ]
            ],
            "type": "histogram2dcontour"
           }
          ],
          "mesh3d": [
           {
            "colorbar": {
             "outlinewidth": 0,
             "ticks": ""
            },
            "type": "mesh3d"
           }
          ],
          "parcoords": [
           {
            "line": {
             "colorbar": {
              "outlinewidth": 0,
              "ticks": ""
             }
            },
            "type": "parcoords"
           }
          ],
          "pie": [
           {
            "automargin": true,
            "type": "pie"
           }
          ],
          "scatter": [
           {
            "fillpattern": {
             "fillmode": "overlay",
             "size": 10,
             "solidity": 0.2
            },
            "type": "scatter"
           }
          ],
          "scatter3d": [
           {
            "line": {
             "colorbar": {
              "outlinewidth": 0,
              "ticks": ""
             }
            },
            "marker": {
             "colorbar": {
              "outlinewidth": 0,
              "ticks": ""
             }
            },
            "type": "scatter3d"
           }
          ],
          "scattercarpet": [
           {
            "marker": {
             "colorbar": {
              "outlinewidth": 0,
              "ticks": ""
             }
            },
            "type": "scattercarpet"
           }
          ],
          "scattergeo": [
           {
            "marker": {
             "colorbar": {
              "outlinewidth": 0,
              "ticks": ""
             }
            },
            "type": "scattergeo"
           }
          ],
          "scattergl": [
           {
            "marker": {
             "colorbar": {
              "outlinewidth": 0,
              "ticks": ""
             }
            },
            "type": "scattergl"
           }
          ],
          "scattermapbox": [
           {
            "marker": {
             "colorbar": {
              "outlinewidth": 0,
              "ticks": ""
             }
            },
            "type": "scattermapbox"
           }
          ],
          "scatterpolar": [
           {
            "marker": {
             "colorbar": {
              "outlinewidth": 0,
              "ticks": ""
             }
            },
            "type": "scatterpolar"
           }
          ],
          "scatterpolargl": [
           {
            "marker": {
             "colorbar": {
              "outlinewidth": 0,
              "ticks": ""
             }
            },
            "type": "scatterpolargl"
           }
          ],
          "scatterternary": [
           {
            "marker": {
             "colorbar": {
              "outlinewidth": 0,
              "ticks": ""
             }
            },
            "type": "scatterternary"
           }
          ],
          "surface": [
           {
            "colorbar": {
             "outlinewidth": 0,
             "ticks": ""
            },
            "colorscale": [
             [
              0,
              "#0d0887"
             ],
             [
              0.1111111111111111,
              "#46039f"
             ],
             [
              0.2222222222222222,
              "#7201a8"
             ],
             [
              0.3333333333333333,
              "#9c179e"
             ],
             [
              0.4444444444444444,
              "#bd3786"
             ],
             [
              0.5555555555555556,
              "#d8576b"
             ],
             [
              0.6666666666666666,
              "#ed7953"
             ],
             [
              0.7777777777777778,
              "#fb9f3a"
             ],
             [
              0.8888888888888888,
              "#fdca26"
             ],
             [
              1,
              "#f0f921"
             ]
            ],
            "type": "surface"
           }
          ],
          "table": [
           {
            "cells": {
             "fill": {
              "color": "#EBF0F8"
             },
             "line": {
              "color": "white"
             }
            },
            "header": {
             "fill": {
              "color": "#C8D4E3"
             },
             "line": {
              "color": "white"
             }
            },
            "type": "table"
           }
          ]
         },
         "layout": {
          "annotationdefaults": {
           "arrowcolor": "#2a3f5f",
           "arrowhead": 0,
           "arrowwidth": 1
          },
          "autotypenumbers": "strict",
          "coloraxis": {
           "colorbar": {
            "outlinewidth": 0,
            "ticks": ""
           }
          },
          "colorscale": {
           "diverging": [
            [
             0,
             "#8e0152"
            ],
            [
             0.1,
             "#c51b7d"
            ],
            [
             0.2,
             "#de77ae"
            ],
            [
             0.3,
             "#f1b6da"
            ],
            [
             0.4,
             "#fde0ef"
            ],
            [
             0.5,
             "#f7f7f7"
            ],
            [
             0.6,
             "#e6f5d0"
            ],
            [
             0.7,
             "#b8e186"
            ],
            [
             0.8,
             "#7fbc41"
            ],
            [
             0.9,
             "#4d9221"
            ],
            [
             1,
             "#276419"
            ]
           ],
           "sequential": [
            [
             0,
             "#0d0887"
            ],
            [
             0.1111111111111111,
             "#46039f"
            ],
            [
             0.2222222222222222,
             "#7201a8"
            ],
            [
             0.3333333333333333,
             "#9c179e"
            ],
            [
             0.4444444444444444,
             "#bd3786"
            ],
            [
             0.5555555555555556,
             "#d8576b"
            ],
            [
             0.6666666666666666,
             "#ed7953"
            ],
            [
             0.7777777777777778,
             "#fb9f3a"
            ],
            [
             0.8888888888888888,
             "#fdca26"
            ],
            [
             1,
             "#f0f921"
            ]
           ],
           "sequentialminus": [
            [
             0,
             "#0d0887"
            ],
            [
             0.1111111111111111,
             "#46039f"
            ],
            [
             0.2222222222222222,
             "#7201a8"
            ],
            [
             0.3333333333333333,
             "#9c179e"
            ],
            [
             0.4444444444444444,
             "#bd3786"
            ],
            [
             0.5555555555555556,
             "#d8576b"
            ],
            [
             0.6666666666666666,
             "#ed7953"
            ],
            [
             0.7777777777777778,
             "#fb9f3a"
            ],
            [
             0.8888888888888888,
             "#fdca26"
            ],
            [
             1,
             "#f0f921"
            ]
           ]
          },
          "colorway": [
           "#636efa",
           "#EF553B",
           "#00cc96",
           "#ab63fa",
           "#FFA15A",
           "#19d3f3",
           "#FF6692",
           "#B6E880",
           "#FF97FF",
           "#FECB52"
          ],
          "font": {
           "color": "#2a3f5f"
          },
          "geo": {
           "bgcolor": "white",
           "lakecolor": "white",
           "landcolor": "#E5ECF6",
           "showlakes": true,
           "showland": true,
           "subunitcolor": "white"
          },
          "hoverlabel": {
           "align": "left"
          },
          "hovermode": "closest",
          "mapbox": {
           "style": "light"
          },
          "paper_bgcolor": "white",
          "plot_bgcolor": "#E5ECF6",
          "polar": {
           "angularaxis": {
            "gridcolor": "white",
            "linecolor": "white",
            "ticks": ""
           },
           "bgcolor": "#E5ECF6",
           "radialaxis": {
            "gridcolor": "white",
            "linecolor": "white",
            "ticks": ""
           }
          },
          "scene": {
           "xaxis": {
            "backgroundcolor": "#E5ECF6",
            "gridcolor": "white",
            "gridwidth": 2,
            "linecolor": "white",
            "showbackground": true,
            "ticks": "",
            "zerolinecolor": "white"
           },
           "yaxis": {
            "backgroundcolor": "#E5ECF6",
            "gridcolor": "white",
            "gridwidth": 2,
            "linecolor": "white",
            "showbackground": true,
            "ticks": "",
            "zerolinecolor": "white"
           },
           "zaxis": {
            "backgroundcolor": "#E5ECF6",
            "gridcolor": "white",
            "gridwidth": 2,
            "linecolor": "white",
            "showbackground": true,
            "ticks": "",
            "zerolinecolor": "white"
           }
          },
          "shapedefaults": {
           "line": {
            "color": "#2a3f5f"
           }
          },
          "ternary": {
           "aaxis": {
            "gridcolor": "white",
            "linecolor": "white",
            "ticks": ""
           },
           "baxis": {
            "gridcolor": "white",
            "linecolor": "white",
            "ticks": ""
           },
           "bgcolor": "#E5ECF6",
           "caxis": {
            "gridcolor": "white",
            "linecolor": "white",
            "ticks": ""
           }
          },
          "title": {
           "x": 0.05
          },
          "xaxis": {
           "automargin": true,
           "gridcolor": "white",
           "linecolor": "white",
           "ticks": "",
           "title": {
            "standoff": 15
           },
           "zerolinecolor": "white",
           "zerolinewidth": 2
          },
          "yaxis": {
           "automargin": true,
           "gridcolor": "white",
           "linecolor": "white",
           "ticks": "",
           "title": {
            "standoff": 15
           },
           "zerolinecolor": "white",
           "zerolinewidth": 2
          }
         }
        },
        "title": {
         "text": "2000's Top 10 Artists by Count"
        },
        "xaxis": {
         "anchor": "y",
         "domain": [
          0,
          1
         ],
         "title": {
          "text": "Count"
         }
        },
        "yaxis": {
         "anchor": "x",
         "categoryorder": "total ascending",
         "domain": [
          0,
          1
         ],
         "title": {
          "text": ""
         }
        }
       }
      }
     },
     "metadata": {},
     "output_type": "display_data"
    }
   ],
   "source": [
    "top_artists_df = top_artists.reset_index()\n",
    "top_artists_df.columns = ['Artist', 'Count']\n",
    "\n",
    "# Create a bar chart\n",
    "fig = px.bar(top_artists_df, x='Count', y='Artist', text='Count', orientation='h',\n",
    "             title=\"2000's Top 10 Artists by Count\",\n",
    "             labels={'Count': 'Count', 'Artist': 'Artist'},\n",
    "             color='Count',  # Color the bars by the count\n",
    "             color_continuous_scale='Agsunset')\n",
    "\n",
    "# Improve layout\n",
    "fig.update_layout(\n",
    "    xaxis_title=\"Count\",\n",
    "    yaxis_title=\"\",\n",
    "    coloraxis_showscale=True,  # Hide the color scale\n",
    "    yaxis={'categoryorder':'total ascending'},  # Ensure the highest values are on top\n",
    ")\n",
    "\n",
    "fig.update_traces(texttemplate='%{text}', textposition='outside')\n",
    "fig.show()"
   ]
  },
  {
   "cell_type": "code",
   "execution_count": 27,
   "metadata": {},
   "outputs": [],
   "source": [
    "characteristics = ['Danceability', 'Energy', 'Loudness (dB)', 'Speechiness', 'Acousticness', 'Popularity', 'Liveness', 'Valence', 'Beats Per Minute (BPM)']\n"
   ]
  },
  {
   "cell_type": "code",
   "execution_count": 28,
   "metadata": {},
   "outputs": [
    {
     "data": {
      "text/html": [
       "<div>\n",
       "<style scoped>\n",
       "    .dataframe tbody tr th:only-of-type {\n",
       "        vertical-align: middle;\n",
       "    }\n",
       "\n",
       "    .dataframe tbody tr th {\n",
       "        vertical-align: top;\n",
       "    }\n",
       "\n",
       "    .dataframe thead th {\n",
       "        text-align: right;\n",
       "    }\n",
       "</style>\n",
       "<table border=\"1\" class=\"dataframe\">\n",
       "  <thead>\n",
       "    <tr style=\"text-align: right;\">\n",
       "      <th></th>\n",
       "      <th>Danceability</th>\n",
       "      <th>Energy</th>\n",
       "      <th>Loudness (dB)</th>\n",
       "      <th>Speechiness</th>\n",
       "      <th>Acousticness</th>\n",
       "      <th>Popularity</th>\n",
       "      <th>Liveness</th>\n",
       "      <th>Valence</th>\n",
       "      <th>Beats Per Minute (BPM)</th>\n",
       "    </tr>\n",
       "  </thead>\n",
       "  <tbody>\n",
       "    <tr>\n",
       "      <th>Danceability</th>\n",
       "      <td>1.000000</td>\n",
       "      <td>0.139616</td>\n",
       "      <td>0.044235</td>\n",
       "      <td>0.125229</td>\n",
       "      <td>-0.135769</td>\n",
       "      <td>0.144344</td>\n",
       "      <td>-0.103063</td>\n",
       "      <td>0.514564</td>\n",
       "      <td>-0.140602</td>\n",
       "    </tr>\n",
       "    <tr>\n",
       "      <th>Energy</th>\n",
       "      <td>0.139616</td>\n",
       "      <td>1.000000</td>\n",
       "      <td>0.735711</td>\n",
       "      <td>0.205865</td>\n",
       "      <td>-0.665156</td>\n",
       "      <td>0.103393</td>\n",
       "      <td>0.174118</td>\n",
       "      <td>0.405175</td>\n",
       "      <td>0.156644</td>\n",
       "    </tr>\n",
       "    <tr>\n",
       "      <th>Loudness (dB)</th>\n",
       "      <td>0.044235</td>\n",
       "      <td>0.735711</td>\n",
       "      <td>1.000000</td>\n",
       "      <td>0.125090</td>\n",
       "      <td>-0.451635</td>\n",
       "      <td>0.165527</td>\n",
       "      <td>0.098257</td>\n",
       "      <td>0.147041</td>\n",
       "      <td>0.092927</td>\n",
       "    </tr>\n",
       "    <tr>\n",
       "      <th>Speechiness</th>\n",
       "      <td>0.125229</td>\n",
       "      <td>0.205865</td>\n",
       "      <td>0.125090</td>\n",
       "      <td>1.000000</td>\n",
       "      <td>-0.098256</td>\n",
       "      <td>0.111689</td>\n",
       "      <td>0.092594</td>\n",
       "      <td>0.107102</td>\n",
       "      <td>0.085598</td>\n",
       "    </tr>\n",
       "    <tr>\n",
       "      <th>Acousticness</th>\n",
       "      <td>-0.135769</td>\n",
       "      <td>-0.665156</td>\n",
       "      <td>-0.451635</td>\n",
       "      <td>-0.098256</td>\n",
       "      <td>1.000000</td>\n",
       "      <td>-0.087604</td>\n",
       "      <td>-0.046206</td>\n",
       "      <td>-0.239729</td>\n",
       "      <td>-0.122472</td>\n",
       "    </tr>\n",
       "    <tr>\n",
       "      <th>Popularity</th>\n",
       "      <td>0.144344</td>\n",
       "      <td>0.103393</td>\n",
       "      <td>0.165527</td>\n",
       "      <td>0.111689</td>\n",
       "      <td>-0.087604</td>\n",
       "      <td>1.000000</td>\n",
       "      <td>-0.111978</td>\n",
       "      <td>0.095911</td>\n",
       "      <td>-0.003181</td>\n",
       "    </tr>\n",
       "    <tr>\n",
       "      <th>Liveness</th>\n",
       "      <td>-0.103063</td>\n",
       "      <td>0.174118</td>\n",
       "      <td>0.098257</td>\n",
       "      <td>0.092594</td>\n",
       "      <td>-0.046206</td>\n",
       "      <td>-0.111978</td>\n",
       "      <td>1.000000</td>\n",
       "      <td>0.050667</td>\n",
       "      <td>0.016256</td>\n",
       "    </tr>\n",
       "    <tr>\n",
       "      <th>Valence</th>\n",
       "      <td>0.514564</td>\n",
       "      <td>0.405175</td>\n",
       "      <td>0.147041</td>\n",
       "      <td>0.107102</td>\n",
       "      <td>-0.239729</td>\n",
       "      <td>0.095911</td>\n",
       "      <td>0.050667</td>\n",
       "      <td>1.000000</td>\n",
       "      <td>0.059653</td>\n",
       "    </tr>\n",
       "    <tr>\n",
       "      <th>Beats Per Minute (BPM)</th>\n",
       "      <td>-0.140602</td>\n",
       "      <td>0.156644</td>\n",
       "      <td>0.092927</td>\n",
       "      <td>0.085598</td>\n",
       "      <td>-0.122472</td>\n",
       "      <td>-0.003181</td>\n",
       "      <td>0.016256</td>\n",
       "      <td>0.059653</td>\n",
       "      <td>1.000000</td>\n",
       "    </tr>\n",
       "  </tbody>\n",
       "</table>\n",
       "</div>"
      ],
      "text/plain": [
       "                        Danceability    Energy  Loudness (dB)  Speechiness  \\\n",
       "Danceability                1.000000  0.139616       0.044235     0.125229   \n",
       "Energy                      0.139616  1.000000       0.735711     0.205865   \n",
       "Loudness (dB)               0.044235  0.735711       1.000000     0.125090   \n",
       "Speechiness                 0.125229  0.205865       0.125090     1.000000   \n",
       "Acousticness               -0.135769 -0.665156      -0.451635    -0.098256   \n",
       "Popularity                  0.144344  0.103393       0.165527     0.111689   \n",
       "Liveness                   -0.103063  0.174118       0.098257     0.092594   \n",
       "Valence                     0.514564  0.405175       0.147041     0.107102   \n",
       "Beats Per Minute (BPM)     -0.140602  0.156644       0.092927     0.085598   \n",
       "\n",
       "                        Acousticness  Popularity  Liveness   Valence  \\\n",
       "Danceability               -0.135769    0.144344 -0.103063  0.514564   \n",
       "Energy                     -0.665156    0.103393  0.174118  0.405175   \n",
       "Loudness (dB)              -0.451635    0.165527  0.098257  0.147041   \n",
       "Speechiness                -0.098256    0.111689  0.092594  0.107102   \n",
       "Acousticness                1.000000   -0.087604 -0.046206 -0.239729   \n",
       "Popularity                 -0.087604    1.000000 -0.111978  0.095911   \n",
       "Liveness                   -0.046206   -0.111978  1.000000  0.050667   \n",
       "Valence                    -0.239729    0.095911  0.050667  1.000000   \n",
       "Beats Per Minute (BPM)     -0.122472   -0.003181  0.016256  0.059653   \n",
       "\n",
       "                        Beats Per Minute (BPM)  \n",
       "Danceability                         -0.140602  \n",
       "Energy                                0.156644  \n",
       "Loudness (dB)                         0.092927  \n",
       "Speechiness                           0.085598  \n",
       "Acousticness                         -0.122472  \n",
       "Popularity                           -0.003181  \n",
       "Liveness                              0.016256  \n",
       "Valence                               0.059653  \n",
       "Beats Per Minute (BPM)                1.000000  "
      ]
     },
     "execution_count": 28,
     "metadata": {},
     "output_type": "execute_result"
    }
   ],
   "source": [
    "# Calculate the correlation matrix for a subset of the numerical variables\n",
    "correlation_matrix = df[characteristics].corr()\n",
    "\n",
    "correlation_matrix"
   ]
  },
  {
   "cell_type": "code",
   "execution_count": 29,
   "metadata": {},
   "outputs": [
    {
     "data": {
      "application/vnd.plotly.v1+json": {
       "config": {
        "plotlyServerURL": "https://plot.ly"
       },
       "data": [
        {
         "colorscale": [
          [
           0,
           "rgb(5,48,97)"
          ],
          [
           0.1,
           "rgb(33,102,172)"
          ],
          [
           0.2,
           "rgb(67,147,195)"
          ],
          [
           0.3,
           "rgb(146,197,222)"
          ],
          [
           0.4,
           "rgb(209,229,240)"
          ],
          [
           0.5,
           "rgb(247,247,247)"
          ],
          [
           0.6,
           "rgb(253,219,199)"
          ],
          [
           0.7,
           "rgb(244,165,130)"
          ],
          [
           0.8,
           "rgb(214,96,77)"
          ],
          [
           0.9,
           "rgb(178,24,43)"
          ],
          [
           1,
           "rgb(103,0,31)"
          ]
         ],
         "hoverinfo": "text",
         "text": [
          [
           "1.00",
           "0.14",
           "0.04",
           "0.13",
           "-0.14",
           "0.14",
           "-0.10",
           "0.51",
           "-0.14"
          ],
          [
           "0.14",
           "1.00",
           "0.74",
           "0.21",
           "-0.67",
           "0.10",
           "0.17",
           "0.41",
           "0.16"
          ],
          [
           "0.04",
           "0.74",
           "1.00",
           "0.13",
           "-0.45",
           "0.17",
           "0.10",
           "0.15",
           "0.09"
          ],
          [
           "0.13",
           "0.21",
           "0.13",
           "1.00",
           "-0.10",
           "0.11",
           "0.09",
           "0.11",
           "0.09"
          ],
          [
           "-0.14",
           "-0.67",
           "-0.45",
           "-0.10",
           "1.00",
           "-0.09",
           "-0.05",
           "-0.24",
           "-0.12"
          ],
          [
           "0.14",
           "0.10",
           "0.17",
           "0.11",
           "-0.09",
           "1.00",
           "-0.11",
           "0.10",
           "-0.00"
          ],
          [
           "-0.10",
           "0.17",
           "0.10",
           "0.09",
           "-0.05",
           "-0.11",
           "1.00",
           "0.05",
           "0.02"
          ],
          [
           "0.51",
           "0.41",
           "0.15",
           "0.11",
           "-0.24",
           "0.10",
           "0.05",
           "1.00",
           "0.06"
          ],
          [
           "-0.14",
           "0.16",
           "0.09",
           "0.09",
           "-0.12",
           "-0.00",
           "0.02",
           "0.06",
           "1.00"
          ]
         ],
         "texttemplate": "%{text}",
         "type": "heatmap",
         "x": [
          "Danceability",
          "Energy",
          "Loudness (dB)",
          "Speechiness",
          "Acousticness",
          "Popularity",
          "Liveness",
          "Valence",
          "Beats Per Minute (BPM)"
         ],
         "y": [
          "Danceability",
          "Energy",
          "Loudness (dB)",
          "Speechiness",
          "Acousticness",
          "Popularity",
          "Liveness",
          "Valence",
          "Beats Per Minute (BPM)"
         ],
         "z": [
          [
           1,
           0.1396162686043479,
           0.044235309635336215,
           0.12522899809358176,
           -0.13576887867975504,
           0.14434428108077849,
           -0.10306258233122113,
           0.5145637629279767,
           -0.14060233004398426
          ],
          [
           0.1396162686043479,
           1,
           0.7357108817659002,
           0.2058649947208784,
           -0.6651563552906684,
           0.10339299764848625,
           0.17411770142669897,
           0.4051747794947509,
           0.15664443533802397
          ],
          [
           0.044235309635336215,
           0.7357108817659002,
           1,
           0.1250897465623804,
           -0.45163499317781647,
           0.16552687970478908,
           0.0982570491394185,
           0.14704111570038805,
           0.09292650068545484
          ],
          [
           0.12522899809358176,
           0.2058649947208784,
           0.1250897465623804,
           1,
           -0.0982561013369275,
           0.1116887850981595,
           0.09259446704204607,
           0.10710187932547914,
           0.08559821099002002
          ],
          [
           -0.13576887867975504,
           -0.6651563552906684,
           -0.45163499317781647,
           -0.0982561013369275,
           1,
           -0.08760427211616227,
           -0.04620551060095668,
           -0.23972907462080767,
           -0.12247181327920204
          ],
          [
           0.14434428108077849,
           0.10339299764848625,
           0.16552687970478908,
           0.1116887850981595,
           -0.08760427211616227,
           1,
           -0.11197777843683474,
           0.09591082137882534,
           -0.003181354479830572
          ],
          [
           -0.10306258233122113,
           0.17411770142669897,
           0.0982570491394185,
           0.09259446704204607,
           -0.04620551060095668,
           -0.11197777843683474,
           1,
           0.050666639927266416,
           0.016256385730439703
          ],
          [
           0.5145637629279767,
           0.4051747794947509,
           0.14704111570038805,
           0.10710187932547914,
           -0.23972907462080767,
           0.09591082137882534,
           0.050666639927266416,
           1,
           0.059653223035473914
          ],
          [
           -0.14060233004398426,
           0.15664443533802397,
           0.09292650068545484,
           0.08559821099002002,
           -0.12247181327920204,
           -0.003181354479830572,
           0.016256385730439703,
           0.059653223035473914,
           1
          ]
         ],
         "zmid": 0
        }
       ],
       "layout": {
        "autosize": true,
        "margin": {
         "b": 10,
         "l": 10,
         "r": 10,
         "t": 50
        },
        "template": {
         "data": {
          "bar": [
           {
            "error_x": {
             "color": "#2a3f5f"
            },
            "error_y": {
             "color": "#2a3f5f"
            },
            "marker": {
             "line": {
              "color": "#E5ECF6",
              "width": 0.5
             },
             "pattern": {
              "fillmode": "overlay",
              "size": 10,
              "solidity": 0.2
             }
            },
            "type": "bar"
           }
          ],
          "barpolar": [
           {
            "marker": {
             "line": {
              "color": "#E5ECF6",
              "width": 0.5
             },
             "pattern": {
              "fillmode": "overlay",
              "size": 10,
              "solidity": 0.2
             }
            },
            "type": "barpolar"
           }
          ],
          "carpet": [
           {
            "aaxis": {
             "endlinecolor": "#2a3f5f",
             "gridcolor": "white",
             "linecolor": "white",
             "minorgridcolor": "white",
             "startlinecolor": "#2a3f5f"
            },
            "baxis": {
             "endlinecolor": "#2a3f5f",
             "gridcolor": "white",
             "linecolor": "white",
             "minorgridcolor": "white",
             "startlinecolor": "#2a3f5f"
            },
            "type": "carpet"
           }
          ],
          "choropleth": [
           {
            "colorbar": {
             "outlinewidth": 0,
             "ticks": ""
            },
            "type": "choropleth"
           }
          ],
          "contour": [
           {
            "colorbar": {
             "outlinewidth": 0,
             "ticks": ""
            },
            "colorscale": [
             [
              0,
              "#0d0887"
             ],
             [
              0.1111111111111111,
              "#46039f"
             ],
             [
              0.2222222222222222,
              "#7201a8"
             ],
             [
              0.3333333333333333,
              "#9c179e"
             ],
             [
              0.4444444444444444,
              "#bd3786"
             ],
             [
              0.5555555555555556,
              "#d8576b"
             ],
             [
              0.6666666666666666,
              "#ed7953"
             ],
             [
              0.7777777777777778,
              "#fb9f3a"
             ],
             [
              0.8888888888888888,
              "#fdca26"
             ],
             [
              1,
              "#f0f921"
             ]
            ],
            "type": "contour"
           }
          ],
          "contourcarpet": [
           {
            "colorbar": {
             "outlinewidth": 0,
             "ticks": ""
            },
            "type": "contourcarpet"
           }
          ],
          "heatmap": [
           {
            "colorbar": {
             "outlinewidth": 0,
             "ticks": ""
            },
            "colorscale": [
             [
              0,
              "#0d0887"
             ],
             [
              0.1111111111111111,
              "#46039f"
             ],
             [
              0.2222222222222222,
              "#7201a8"
             ],
             [
              0.3333333333333333,
              "#9c179e"
             ],
             [
              0.4444444444444444,
              "#bd3786"
             ],
             [
              0.5555555555555556,
              "#d8576b"
             ],
             [
              0.6666666666666666,
              "#ed7953"
             ],
             [
              0.7777777777777778,
              "#fb9f3a"
             ],
             [
              0.8888888888888888,
              "#fdca26"
             ],
             [
              1,
              "#f0f921"
             ]
            ],
            "type": "heatmap"
           }
          ],
          "heatmapgl": [
           {
            "colorbar": {
             "outlinewidth": 0,
             "ticks": ""
            },
            "colorscale": [
             [
              0,
              "#0d0887"
             ],
             [
              0.1111111111111111,
              "#46039f"
             ],
             [
              0.2222222222222222,
              "#7201a8"
             ],
             [
              0.3333333333333333,
              "#9c179e"
             ],
             [
              0.4444444444444444,
              "#bd3786"
             ],
             [
              0.5555555555555556,
              "#d8576b"
             ],
             [
              0.6666666666666666,
              "#ed7953"
             ],
             [
              0.7777777777777778,
              "#fb9f3a"
             ],
             [
              0.8888888888888888,
              "#fdca26"
             ],
             [
              1,
              "#f0f921"
             ]
            ],
            "type": "heatmapgl"
           }
          ],
          "histogram": [
           {
            "marker": {
             "pattern": {
              "fillmode": "overlay",
              "size": 10,
              "solidity": 0.2
             }
            },
            "type": "histogram"
           }
          ],
          "histogram2d": [
           {
            "colorbar": {
             "outlinewidth": 0,
             "ticks": ""
            },
            "colorscale": [
             [
              0,
              "#0d0887"
             ],
             [
              0.1111111111111111,
              "#46039f"
             ],
             [
              0.2222222222222222,
              "#7201a8"
             ],
             [
              0.3333333333333333,
              "#9c179e"
             ],
             [
              0.4444444444444444,
              "#bd3786"
             ],
             [
              0.5555555555555556,
              "#d8576b"
             ],
             [
              0.6666666666666666,
              "#ed7953"
             ],
             [
              0.7777777777777778,
              "#fb9f3a"
             ],
             [
              0.8888888888888888,
              "#fdca26"
             ],
             [
              1,
              "#f0f921"
             ]
            ],
            "type": "histogram2d"
           }
          ],
          "histogram2dcontour": [
           {
            "colorbar": {
             "outlinewidth": 0,
             "ticks": ""
            },
            "colorscale": [
             [
              0,
              "#0d0887"
             ],
             [
              0.1111111111111111,
              "#46039f"
             ],
             [
              0.2222222222222222,
              "#7201a8"
             ],
             [
              0.3333333333333333,
              "#9c179e"
             ],
             [
              0.4444444444444444,
              "#bd3786"
             ],
             [
              0.5555555555555556,
              "#d8576b"
             ],
             [
              0.6666666666666666,
              "#ed7953"
             ],
             [
              0.7777777777777778,
              "#fb9f3a"
             ],
             [
              0.8888888888888888,
              "#fdca26"
             ],
             [
              1,
              "#f0f921"
             ]
            ],
            "type": "histogram2dcontour"
           }
          ],
          "mesh3d": [
           {
            "colorbar": {
             "outlinewidth": 0,
             "ticks": ""
            },
            "type": "mesh3d"
           }
          ],
          "parcoords": [
           {
            "line": {
             "colorbar": {
              "outlinewidth": 0,
              "ticks": ""
             }
            },
            "type": "parcoords"
           }
          ],
          "pie": [
           {
            "automargin": true,
            "type": "pie"
           }
          ],
          "scatter": [
           {
            "fillpattern": {
             "fillmode": "overlay",
             "size": 10,
             "solidity": 0.2
            },
            "type": "scatter"
           }
          ],
          "scatter3d": [
           {
            "line": {
             "colorbar": {
              "outlinewidth": 0,
              "ticks": ""
             }
            },
            "marker": {
             "colorbar": {
              "outlinewidth": 0,
              "ticks": ""
             }
            },
            "type": "scatter3d"
           }
          ],
          "scattercarpet": [
           {
            "marker": {
             "colorbar": {
              "outlinewidth": 0,
              "ticks": ""
             }
            },
            "type": "scattercarpet"
           }
          ],
          "scattergeo": [
           {
            "marker": {
             "colorbar": {
              "outlinewidth": 0,
              "ticks": ""
             }
            },
            "type": "scattergeo"
           }
          ],
          "scattergl": [
           {
            "marker": {
             "colorbar": {
              "outlinewidth": 0,
              "ticks": ""
             }
            },
            "type": "scattergl"
           }
          ],
          "scattermapbox": [
           {
            "marker": {
             "colorbar": {
              "outlinewidth": 0,
              "ticks": ""
             }
            },
            "type": "scattermapbox"
           }
          ],
          "scatterpolar": [
           {
            "marker": {
             "colorbar": {
              "outlinewidth": 0,
              "ticks": ""
             }
            },
            "type": "scatterpolar"
           }
          ],
          "scatterpolargl": [
           {
            "marker": {
             "colorbar": {
              "outlinewidth": 0,
              "ticks": ""
             }
            },
            "type": "scatterpolargl"
           }
          ],
          "scatterternary": [
           {
            "marker": {
             "colorbar": {
              "outlinewidth": 0,
              "ticks": ""
             }
            },
            "type": "scatterternary"
           }
          ],
          "surface": [
           {
            "colorbar": {
             "outlinewidth": 0,
             "ticks": ""
            },
            "colorscale": [
             [
              0,
              "#0d0887"
             ],
             [
              0.1111111111111111,
              "#46039f"
             ],
             [
              0.2222222222222222,
              "#7201a8"
             ],
             [
              0.3333333333333333,
              "#9c179e"
             ],
             [
              0.4444444444444444,
              "#bd3786"
             ],
             [
              0.5555555555555556,
              "#d8576b"
             ],
             [
              0.6666666666666666,
              "#ed7953"
             ],
             [
              0.7777777777777778,
              "#fb9f3a"
             ],
             [
              0.8888888888888888,
              "#fdca26"
             ],
             [
              1,
              "#f0f921"
             ]
            ],
            "type": "surface"
           }
          ],
          "table": [
           {
            "cells": {
             "fill": {
              "color": "#EBF0F8"
             },
             "line": {
              "color": "white"
             }
            },
            "header": {
             "fill": {
              "color": "#C8D4E3"
             },
             "line": {
              "color": "white"
             }
            },
            "type": "table"
           }
          ]
         },
         "layout": {
          "annotationdefaults": {
           "arrowcolor": "#2a3f5f",
           "arrowhead": 0,
           "arrowwidth": 1
          },
          "autotypenumbers": "strict",
          "coloraxis": {
           "colorbar": {
            "outlinewidth": 0,
            "ticks": ""
           }
          },
          "colorscale": {
           "diverging": [
            [
             0,
             "#8e0152"
            ],
            [
             0.1,
             "#c51b7d"
            ],
            [
             0.2,
             "#de77ae"
            ],
            [
             0.3,
             "#f1b6da"
            ],
            [
             0.4,
             "#fde0ef"
            ],
            [
             0.5,
             "#f7f7f7"
            ],
            [
             0.6,
             "#e6f5d0"
            ],
            [
             0.7,
             "#b8e186"
            ],
            [
             0.8,
             "#7fbc41"
            ],
            [
             0.9,
             "#4d9221"
            ],
            [
             1,
             "#276419"
            ]
           ],
           "sequential": [
            [
             0,
             "#0d0887"
            ],
            [
             0.1111111111111111,
             "#46039f"
            ],
            [
             0.2222222222222222,
             "#7201a8"
            ],
            [
             0.3333333333333333,
             "#9c179e"
            ],
            [
             0.4444444444444444,
             "#bd3786"
            ],
            [
             0.5555555555555556,
             "#d8576b"
            ],
            [
             0.6666666666666666,
             "#ed7953"
            ],
            [
             0.7777777777777778,
             "#fb9f3a"
            ],
            [
             0.8888888888888888,
             "#fdca26"
            ],
            [
             1,
             "#f0f921"
            ]
           ],
           "sequentialminus": [
            [
             0,
             "#0d0887"
            ],
            [
             0.1111111111111111,
             "#46039f"
            ],
            [
             0.2222222222222222,
             "#7201a8"
            ],
            [
             0.3333333333333333,
             "#9c179e"
            ],
            [
             0.4444444444444444,
             "#bd3786"
            ],
            [
             0.5555555555555556,
             "#d8576b"
            ],
            [
             0.6666666666666666,
             "#ed7953"
            ],
            [
             0.7777777777777778,
             "#fb9f3a"
            ],
            [
             0.8888888888888888,
             "#fdca26"
            ],
            [
             1,
             "#f0f921"
            ]
           ]
          },
          "colorway": [
           "#636efa",
           "#EF553B",
           "#00cc96",
           "#ab63fa",
           "#FFA15A",
           "#19d3f3",
           "#FF6692",
           "#B6E880",
           "#FF97FF",
           "#FECB52"
          ],
          "font": {
           "color": "#2a3f5f"
          },
          "geo": {
           "bgcolor": "white",
           "lakecolor": "white",
           "landcolor": "#E5ECF6",
           "showlakes": true,
           "showland": true,
           "subunitcolor": "white"
          },
          "hoverlabel": {
           "align": "left"
          },
          "hovermode": "closest",
          "mapbox": {
           "style": "light"
          },
          "paper_bgcolor": "white",
          "plot_bgcolor": "#E5ECF6",
          "polar": {
           "angularaxis": {
            "gridcolor": "white",
            "linecolor": "white",
            "ticks": ""
           },
           "bgcolor": "#E5ECF6",
           "radialaxis": {
            "gridcolor": "white",
            "linecolor": "white",
            "ticks": ""
           }
          },
          "scene": {
           "xaxis": {
            "backgroundcolor": "#E5ECF6",
            "gridcolor": "white",
            "gridwidth": 2,
            "linecolor": "white",
            "showbackground": true,
            "ticks": "",
            "zerolinecolor": "white"
           },
           "yaxis": {
            "backgroundcolor": "#E5ECF6",
            "gridcolor": "white",
            "gridwidth": 2,
            "linecolor": "white",
            "showbackground": true,
            "ticks": "",
            "zerolinecolor": "white"
           },
           "zaxis": {
            "backgroundcolor": "#E5ECF6",
            "gridcolor": "white",
            "gridwidth": 2,
            "linecolor": "white",
            "showbackground": true,
            "ticks": "",
            "zerolinecolor": "white"
           }
          },
          "shapedefaults": {
           "line": {
            "color": "#2a3f5f"
           }
          },
          "ternary": {
           "aaxis": {
            "gridcolor": "white",
            "linecolor": "white",
            "ticks": ""
           },
           "baxis": {
            "gridcolor": "white",
            "linecolor": "white",
            "ticks": ""
           },
           "bgcolor": "#E5ECF6",
           "caxis": {
            "gridcolor": "white",
            "linecolor": "white",
            "ticks": ""
           }
          },
          "title": {
           "x": 0.05
          },
          "xaxis": {
           "automargin": true,
           "gridcolor": "white",
           "linecolor": "white",
           "ticks": "",
           "title": {
            "standoff": 15
           },
           "zerolinecolor": "white",
           "zerolinewidth": 2
          },
          "yaxis": {
           "automargin": true,
           "gridcolor": "white",
           "linecolor": "white",
           "ticks": "",
           "title": {
            "standoff": 15
           },
           "zerolinecolor": "white",
           "zerolinewidth": 2
          }
         }
        },
        "title": {
         "text": "Correlation Matrix Heatmap"
        },
        "xaxis": {
         "tickmode": "array",
         "ticktext": [
          "Danceability",
          "Energy",
          "Loudness (dB)",
          "Speechiness",
          "Acousticness",
          "Popularity",
          "Liveness",
          "Valence",
          "Beats Per Minute (BPM)"
         ],
         "tickvals": [
          0,
          1,
          2,
          3,
          4,
          5,
          6,
          7,
          8
         ],
         "title": {
          "text": "Features"
         }
        },
        "yaxis": {
         "tickmode": "array",
         "ticktext": [
          "Danceability",
          "Energy",
          "Loudness (dB)",
          "Speechiness",
          "Acousticness",
          "Popularity",
          "Liveness",
          "Valence",
          "Beats Per Minute (BPM)"
         ],
         "tickvals": [
          0,
          1,
          2,
          3,
          4,
          5,
          6,
          7,
          8
         ],
         "title": {
          "text": "Features"
         }
        }
       }
      }
     },
     "metadata": {},
     "output_type": "display_data"
    }
   ],
   "source": [
    "# Generate text labels for the heatmap\n",
    "text_labels = [[f'{val:.2f}' for val in row] for row in correlation_matrix.values]\n",
    "\n",
    "# Create a heatmap with text labels inside each cell\n",
    "fig = go.Figure(data=go.Heatmap(\n",
    "    z=correlation_matrix,\n",
    "    x=correlation_matrix.columns,\n",
    "    y=correlation_matrix.columns,\n",
    "    colorscale='RdBu_r',  # Change the colorscale to coolwarm\n",
    "    zmid=0,  # Center the color scale at zero\n",
    "    text=text_labels,\n",
    "    texttemplate=\"%{text}\",\n",
    "    hoverinfo=\"text\"\n",
    "))\n",
    "\n",
    "# Update layout for compact display\n",
    "fig.update_layout(\n",
    "    title='Correlation Matrix Heatmap',\n",
    "    xaxis_title='Features',\n",
    "    yaxis_title='Features',\n",
    "    xaxis=dict(tickmode='array', tickvals=np.arange(len(correlation_matrix.columns)), ticktext=correlation_matrix.columns),\n",
    "    yaxis=dict(tickmode='array', tickvals=np.arange(len(correlation_matrix.columns)), ticktext=correlation_matrix.columns),\n",
    "    autosize=True,\n",
    "    margin=dict(l=10, r=10, b=10, t=50)  # Reduce margins to make the plot more compact\n",
    ")\n",
    "\n",
    "# Show the figure\n",
    "fig.show()"
   ]
  },
  {
   "cell_type": "code",
   "execution_count": 30,
   "metadata": {},
   "outputs": [],
   "source": [
    "spotify_2k23 = pd.read_csv('dataset/spotify_archive/spotify-2023.csv',encoding='latin1')"
   ]
  },
  {
   "cell_type": "code",
   "execution_count": 31,
   "metadata": {},
   "outputs": [
    {
     "data": {
      "text/html": [
       "<div>\n",
       "<style scoped>\n",
       "    .dataframe tbody tr th:only-of-type {\n",
       "        vertical-align: middle;\n",
       "    }\n",
       "\n",
       "    .dataframe tbody tr th {\n",
       "        vertical-align: top;\n",
       "    }\n",
       "\n",
       "    .dataframe thead th {\n",
       "        text-align: right;\n",
       "    }\n",
       "</style>\n",
       "<table border=\"1\" class=\"dataframe\">\n",
       "  <thead>\n",
       "    <tr style=\"text-align: right;\">\n",
       "      <th></th>\n",
       "      <th>track_name</th>\n",
       "      <th>artist(s)_name</th>\n",
       "      <th>artist_count</th>\n",
       "      <th>released_year</th>\n",
       "      <th>released_month</th>\n",
       "      <th>released_day</th>\n",
       "      <th>in_spotify_playlists</th>\n",
       "      <th>in_spotify_charts</th>\n",
       "      <th>streams</th>\n",
       "      <th>in_apple_playlists</th>\n",
       "      <th>...</th>\n",
       "      <th>bpm</th>\n",
       "      <th>key</th>\n",
       "      <th>mode</th>\n",
       "      <th>danceability_%</th>\n",
       "      <th>valence_%</th>\n",
       "      <th>energy_%</th>\n",
       "      <th>acousticness_%</th>\n",
       "      <th>instrumentalness_%</th>\n",
       "      <th>liveness_%</th>\n",
       "      <th>speechiness_%</th>\n",
       "    </tr>\n",
       "  </thead>\n",
       "  <tbody>\n",
       "    <tr>\n",
       "      <th>0</th>\n",
       "      <td>Seven (feat. Latto) (Explicit Ver.)</td>\n",
       "      <td>Latto, Jung Kook</td>\n",
       "      <td>2</td>\n",
       "      <td>2023</td>\n",
       "      <td>7</td>\n",
       "      <td>14</td>\n",
       "      <td>553</td>\n",
       "      <td>147</td>\n",
       "      <td>141381703</td>\n",
       "      <td>43</td>\n",
       "      <td>...</td>\n",
       "      <td>125</td>\n",
       "      <td>B</td>\n",
       "      <td>Major</td>\n",
       "      <td>80</td>\n",
       "      <td>89</td>\n",
       "      <td>83</td>\n",
       "      <td>31</td>\n",
       "      <td>0</td>\n",
       "      <td>8</td>\n",
       "      <td>4</td>\n",
       "    </tr>\n",
       "    <tr>\n",
       "      <th>1</th>\n",
       "      <td>LALA</td>\n",
       "      <td>Myke Towers</td>\n",
       "      <td>1</td>\n",
       "      <td>2023</td>\n",
       "      <td>3</td>\n",
       "      <td>23</td>\n",
       "      <td>1474</td>\n",
       "      <td>48</td>\n",
       "      <td>133716286</td>\n",
       "      <td>48</td>\n",
       "      <td>...</td>\n",
       "      <td>92</td>\n",
       "      <td>C#</td>\n",
       "      <td>Major</td>\n",
       "      <td>71</td>\n",
       "      <td>61</td>\n",
       "      <td>74</td>\n",
       "      <td>7</td>\n",
       "      <td>0</td>\n",
       "      <td>10</td>\n",
       "      <td>4</td>\n",
       "    </tr>\n",
       "    <tr>\n",
       "      <th>2</th>\n",
       "      <td>vampire</td>\n",
       "      <td>Olivia Rodrigo</td>\n",
       "      <td>1</td>\n",
       "      <td>2023</td>\n",
       "      <td>6</td>\n",
       "      <td>30</td>\n",
       "      <td>1397</td>\n",
       "      <td>113</td>\n",
       "      <td>140003974</td>\n",
       "      <td>94</td>\n",
       "      <td>...</td>\n",
       "      <td>138</td>\n",
       "      <td>F</td>\n",
       "      <td>Major</td>\n",
       "      <td>51</td>\n",
       "      <td>32</td>\n",
       "      <td>53</td>\n",
       "      <td>17</td>\n",
       "      <td>0</td>\n",
       "      <td>31</td>\n",
       "      <td>6</td>\n",
       "    </tr>\n",
       "    <tr>\n",
       "      <th>3</th>\n",
       "      <td>Cruel Summer</td>\n",
       "      <td>Taylor Swift</td>\n",
       "      <td>1</td>\n",
       "      <td>2019</td>\n",
       "      <td>8</td>\n",
       "      <td>23</td>\n",
       "      <td>7858</td>\n",
       "      <td>100</td>\n",
       "      <td>800840817</td>\n",
       "      <td>116</td>\n",
       "      <td>...</td>\n",
       "      <td>170</td>\n",
       "      <td>A</td>\n",
       "      <td>Major</td>\n",
       "      <td>55</td>\n",
       "      <td>58</td>\n",
       "      <td>72</td>\n",
       "      <td>11</td>\n",
       "      <td>0</td>\n",
       "      <td>11</td>\n",
       "      <td>15</td>\n",
       "    </tr>\n",
       "    <tr>\n",
       "      <th>4</th>\n",
       "      <td>WHERE SHE GOES</td>\n",
       "      <td>Bad Bunny</td>\n",
       "      <td>1</td>\n",
       "      <td>2023</td>\n",
       "      <td>5</td>\n",
       "      <td>18</td>\n",
       "      <td>3133</td>\n",
       "      <td>50</td>\n",
       "      <td>303236322</td>\n",
       "      <td>84</td>\n",
       "      <td>...</td>\n",
       "      <td>144</td>\n",
       "      <td>A</td>\n",
       "      <td>Minor</td>\n",
       "      <td>65</td>\n",
       "      <td>23</td>\n",
       "      <td>80</td>\n",
       "      <td>14</td>\n",
       "      <td>63</td>\n",
       "      <td>11</td>\n",
       "      <td>6</td>\n",
       "    </tr>\n",
       "  </tbody>\n",
       "</table>\n",
       "<p>5 rows × 24 columns</p>\n",
       "</div>"
      ],
      "text/plain": [
       "                            track_name    artist(s)_name  artist_count  \\\n",
       "0  Seven (feat. Latto) (Explicit Ver.)  Latto, Jung Kook             2   \n",
       "1                                 LALA       Myke Towers             1   \n",
       "2                              vampire    Olivia Rodrigo             1   \n",
       "3                         Cruel Summer      Taylor Swift             1   \n",
       "4                       WHERE SHE GOES         Bad Bunny             1   \n",
       "\n",
       "   released_year  released_month  released_day  in_spotify_playlists  \\\n",
       "0           2023               7            14                   553   \n",
       "1           2023               3            23                  1474   \n",
       "2           2023               6            30                  1397   \n",
       "3           2019               8            23                  7858   \n",
       "4           2023               5            18                  3133   \n",
       "\n",
       "   in_spotify_charts    streams  in_apple_playlists  ...  bpm key   mode  \\\n",
       "0                147  141381703                  43  ...  125   B  Major   \n",
       "1                 48  133716286                  48  ...   92  C#  Major   \n",
       "2                113  140003974                  94  ...  138   F  Major   \n",
       "3                100  800840817                 116  ...  170   A  Major   \n",
       "4                 50  303236322                  84  ...  144   A  Minor   \n",
       "\n",
       "  danceability_%  valence_% energy_% acousticness_%  instrumentalness_%  \\\n",
       "0             80         89       83             31                   0   \n",
       "1             71         61       74              7                   0   \n",
       "2             51         32       53             17                   0   \n",
       "3             55         58       72             11                   0   \n",
       "4             65         23       80             14                  63   \n",
       "\n",
       "   liveness_%  speechiness_%  \n",
       "0           8              4  \n",
       "1          10              4  \n",
       "2          31              6  \n",
       "3          11             15  \n",
       "4          11              6  \n",
       "\n",
       "[5 rows x 24 columns]"
      ]
     },
     "execution_count": 31,
     "metadata": {},
     "output_type": "execute_result"
    }
   ],
   "source": [
    "spotify_2k23.head()\n"
   ]
  },
  {
   "cell_type": "code",
   "execution_count": 32,
   "metadata": {},
   "outputs": [
    {
     "name": "stdout",
     "output_type": "stream",
     "text": [
      "<class 'pandas.core.frame.DataFrame'>\n",
      "RangeIndex: 953 entries, 0 to 952\n",
      "Data columns (total 24 columns):\n",
      " #   Column                Non-Null Count  Dtype \n",
      "---  ------                --------------  ----- \n",
      " 0   track_name            953 non-null    object\n",
      " 1   artist(s)_name        953 non-null    object\n",
      " 2   artist_count          953 non-null    int64 \n",
      " 3   released_year         953 non-null    int64 \n",
      " 4   released_month        953 non-null    int64 \n",
      " 5   released_day          953 non-null    int64 \n",
      " 6   in_spotify_playlists  953 non-null    int64 \n",
      " 7   in_spotify_charts     953 non-null    int64 \n",
      " 8   streams               953 non-null    object\n",
      " 9   in_apple_playlists    953 non-null    int64 \n",
      " 10  in_apple_charts       953 non-null    int64 \n",
      " 11  in_deezer_playlists   953 non-null    object\n",
      " 12  in_deezer_charts      953 non-null    int64 \n",
      " 13  in_shazam_charts      903 non-null    object\n",
      " 14  bpm                   953 non-null    int64 \n",
      " 15  key                   858 non-null    object\n",
      " 16  mode                  953 non-null    object\n",
      " 17  danceability_%        953 non-null    int64 \n",
      " 18  valence_%             953 non-null    int64 \n",
      " 19  energy_%              953 non-null    int64 \n",
      " 20  acousticness_%        953 non-null    int64 \n",
      " 21  instrumentalness_%    953 non-null    int64 \n",
      " 22  liveness_%            953 non-null    int64 \n",
      " 23  speechiness_%         953 non-null    int64 \n",
      "dtypes: int64(17), object(7)\n",
      "memory usage: 178.8+ KB\n"
     ]
    }
   ],
   "source": [
    "spotify_2k23.info()"
   ]
  },
  {
   "cell_type": "code",
   "execution_count": 33,
   "metadata": {},
   "outputs": [
    {
     "name": "stdout",
     "output_type": "stream",
     "text": [
      "number of artists '645'\n"
     ]
    }
   ],
   "source": [
    "print(f\"number of artists '{spotify_2k23['artist(s)_name'].nunique()}'\")"
   ]
  },
  {
   "cell_type": "code",
   "execution_count": 34,
   "metadata": {},
   "outputs": [
    {
     "data": {
      "text/plain": [
       "artist(s)_name\n",
       "Taylor Swift                 34\n",
       "The Weeknd                   22\n",
       "Bad Bunny                    19\n",
       "SZA                          19\n",
       "Harry Styles                 17\n",
       "                             ..\n",
       "Karol G, Ovy On The Drums     1\n",
       "Coolio, L.V.                  1\n",
       "Kordhell                      1\n",
       "Kenia OS                      1\n",
       "Feid, Sech, Jhayco            1\n",
       "Name: count, Length: 645, dtype: int64"
      ]
     },
     "execution_count": 34,
     "metadata": {},
     "output_type": "execute_result"
    }
   ],
   "source": [
    "artist_counts = spotify_2k23['artist(s)_name'].value_counts()\n",
    "artist_counts"
   ]
  },
  {
   "cell_type": "code",
   "execution_count": 35,
   "metadata": {},
   "outputs": [],
   "source": [
    "colors = [\"#8c0404\",\"#f25ed0\",\"#000000\",\"#16A085\",\"#34495E\",\n",
    "           \"#21618C \",\"#512E5F\",\"#45B39D\",\"#AAB7B8 \",\"#20B2AA\",\n",
    "           \"#FF69B4\",\"#00CED1\",\"#FF7F50\",\"#7FFF00\",\"#DA70D6\"]"
   ]
  },
  {
   "cell_type": "code",
   "execution_count": 37,
   "metadata": {},
   "outputs": [
    {
     "data": {
      "application/vnd.plotly.v1+json": {
       "config": {
        "plotlyServerURL": "https://plot.ly"
       },
       "data": [
        {
         "alignmentgroup": "True",
         "hovertemplate": "color=Taylor Swift<br>artist(s)_name=%{x}<br>Count=%{y}<extra></extra>",
         "legendgroup": "Taylor Swift",
         "marker": {
          "color": "#8c0404",
          "pattern": {
           "shape": ""
          }
         },
         "name": "Taylor Swift",
         "offsetgroup": "Taylor Swift",
         "orientation": "v",
         "showlegend": true,
         "textposition": "auto",
         "texttemplate": "%{y}",
         "type": "bar",
         "x": [
          "Taylor Swift"
         ],
         "xaxis": "x",
         "y": [
          34
         ],
         "yaxis": "y"
        },
        {
         "alignmentgroup": "True",
         "hovertemplate": "color=The Weeknd<br>artist(s)_name=%{x}<br>Count=%{y}<extra></extra>",
         "legendgroup": "The Weeknd",
         "marker": {
          "color": "#f25ed0",
          "pattern": {
           "shape": ""
          }
         },
         "name": "The Weeknd",
         "offsetgroup": "The Weeknd",
         "orientation": "v",
         "showlegend": true,
         "textposition": "auto",
         "texttemplate": "%{y}",
         "type": "bar",
         "x": [
          "The Weeknd"
         ],
         "xaxis": "x",
         "y": [
          22
         ],
         "yaxis": "y"
        },
        {
         "alignmentgroup": "True",
         "hovertemplate": "color=Bad Bunny<br>artist(s)_name=%{x}<br>Count=%{y}<extra></extra>",
         "legendgroup": "Bad Bunny",
         "marker": {
          "color": "#000000",
          "pattern": {
           "shape": ""
          }
         },
         "name": "Bad Bunny",
         "offsetgroup": "Bad Bunny",
         "orientation": "v",
         "showlegend": true,
         "textposition": "auto",
         "texttemplate": "%{y}",
         "type": "bar",
         "x": [
          "Bad Bunny"
         ],
         "xaxis": "x",
         "y": [
          19
         ],
         "yaxis": "y"
        },
        {
         "alignmentgroup": "True",
         "hovertemplate": "color=SZA<br>artist(s)_name=%{x}<br>Count=%{y}<extra></extra>",
         "legendgroup": "SZA",
         "marker": {
          "color": "#16A085",
          "pattern": {
           "shape": ""
          }
         },
         "name": "SZA",
         "offsetgroup": "SZA",
         "orientation": "v",
         "showlegend": true,
         "textposition": "auto",
         "texttemplate": "%{y}",
         "type": "bar",
         "x": [
          "SZA"
         ],
         "xaxis": "x",
         "y": [
          19
         ],
         "yaxis": "y"
        },
        {
         "alignmentgroup": "True",
         "hovertemplate": "color=Harry Styles<br>artist(s)_name=%{x}<br>Count=%{y}<extra></extra>",
         "legendgroup": "Harry Styles",
         "marker": {
          "color": "#34495E",
          "pattern": {
           "shape": ""
          }
         },
         "name": "Harry Styles",
         "offsetgroup": "Harry Styles",
         "orientation": "v",
         "showlegend": true,
         "textposition": "auto",
         "texttemplate": "%{y}",
         "type": "bar",
         "x": [
          "Harry Styles"
         ],
         "xaxis": "x",
         "y": [
          17
         ],
         "yaxis": "y"
        },
        {
         "alignmentgroup": "True",
         "hovertemplate": "color=Kendrick Lamar<br>artist(s)_name=%{x}<br>Count=%{y}<extra></extra>",
         "legendgroup": "Kendrick Lamar",
         "marker": {
          "color": "#21618C ",
          "pattern": {
           "shape": ""
          }
         },
         "name": "Kendrick Lamar",
         "offsetgroup": "Kendrick Lamar",
         "orientation": "v",
         "showlegend": true,
         "textposition": "auto",
         "texttemplate": "%{y}",
         "type": "bar",
         "x": [
          "Kendrick Lamar"
         ],
         "xaxis": "x",
         "y": [
          12
         ],
         "yaxis": "y"
        },
        {
         "alignmentgroup": "True",
         "hovertemplate": "color=Morgan Wallen<br>artist(s)_name=%{x}<br>Count=%{y}<extra></extra>",
         "legendgroup": "Morgan Wallen",
         "marker": {
          "color": "#512E5F",
          "pattern": {
           "shape": ""
          }
         },
         "name": "Morgan Wallen",
         "offsetgroup": "Morgan Wallen",
         "orientation": "v",
         "showlegend": true,
         "textposition": "auto",
         "texttemplate": "%{y}",
         "type": "bar",
         "x": [
          "Morgan Wallen"
         ],
         "xaxis": "x",
         "y": [
          11
         ],
         "yaxis": "y"
        },
        {
         "alignmentgroup": "True",
         "hovertemplate": "color=Ed Sheeran<br>artist(s)_name=%{x}<br>Count=%{y}<extra></extra>",
         "legendgroup": "Ed Sheeran",
         "marker": {
          "color": "#45B39D",
          "pattern": {
           "shape": ""
          }
         },
         "name": "Ed Sheeran",
         "offsetgroup": "Ed Sheeran",
         "orientation": "v",
         "showlegend": true,
         "textposition": "auto",
         "texttemplate": "%{y}",
         "type": "bar",
         "x": [
          "Ed Sheeran"
         ],
         "xaxis": "x",
         "y": [
          9
         ],
         "yaxis": "y"
        },
        {
         "alignmentgroup": "True",
         "hovertemplate": "color=BTS<br>artist(s)_name=%{x}<br>Count=%{y}<extra></extra>",
         "legendgroup": "BTS",
         "marker": {
          "color": "#AAB7B8 ",
          "pattern": {
           "shape": ""
          }
         },
         "name": "BTS",
         "offsetgroup": "BTS",
         "orientation": "v",
         "showlegend": true,
         "textposition": "auto",
         "texttemplate": "%{y}",
         "type": "bar",
         "x": [
          "BTS"
         ],
         "xaxis": "x",
         "y": [
          8
         ],
         "yaxis": "y"
        },
        {
         "alignmentgroup": "True",
         "hovertemplate": "color=Feid<br>artist(s)_name=%{x}<br>Count=%{y}<extra></extra>",
         "legendgroup": "Feid",
         "marker": {
          "color": "#20B2AA",
          "pattern": {
           "shape": ""
          }
         },
         "name": "Feid",
         "offsetgroup": "Feid",
         "orientation": "v",
         "showlegend": true,
         "textposition": "auto",
         "texttemplate": "%{y}",
         "type": "bar",
         "x": [
          "Feid"
         ],
         "xaxis": "x",
         "y": [
          8
         ],
         "yaxis": "y"
        },
        {
         "alignmentgroup": "True",
         "hovertemplate": "color=Drake, 21 Savage<br>artist(s)_name=%{x}<br>Count=%{y}<extra></extra>",
         "legendgroup": "Drake, 21 Savage",
         "marker": {
          "color": "#FF69B4",
          "pattern": {
           "shape": ""
          }
         },
         "name": "Drake, 21 Savage",
         "offsetgroup": "Drake, 21 Savage",
         "orientation": "v",
         "showlegend": true,
         "textposition": "auto",
         "texttemplate": "%{y}",
         "type": "bar",
         "x": [
          "Drake, 21 Savage"
         ],
         "xaxis": "x",
         "y": [
          8
         ],
         "yaxis": "y"
        },
        {
         "alignmentgroup": "True",
         "hovertemplate": "color=Labrinth<br>artist(s)_name=%{x}<br>Count=%{y}<extra></extra>",
         "legendgroup": "Labrinth",
         "marker": {
          "color": "#00CED1",
          "pattern": {
           "shape": ""
          }
         },
         "name": "Labrinth",
         "offsetgroup": "Labrinth",
         "orientation": "v",
         "showlegend": true,
         "textposition": "auto",
         "texttemplate": "%{y}",
         "type": "bar",
         "x": [
          "Labrinth"
         ],
         "xaxis": "x",
         "y": [
          7
         ],
         "yaxis": "y"
        },
        {
         "alignmentgroup": "True",
         "hovertemplate": "color=Olivia Rodrigo<br>artist(s)_name=%{x}<br>Count=%{y}<extra></extra>",
         "legendgroup": "Olivia Rodrigo",
         "marker": {
          "color": "#FF7F50",
          "pattern": {
           "shape": ""
          }
         },
         "name": "Olivia Rodrigo",
         "offsetgroup": "Olivia Rodrigo",
         "orientation": "v",
         "showlegend": true,
         "textposition": "auto",
         "texttemplate": "%{y}",
         "type": "bar",
         "x": [
          "Olivia Rodrigo"
         ],
         "xaxis": "x",
         "y": [
          7
         ],
         "yaxis": "y"
        },
        {
         "alignmentgroup": "True",
         "hovertemplate": "color=NewJeans<br>artist(s)_name=%{x}<br>Count=%{y}<extra></extra>",
         "legendgroup": "NewJeans",
         "marker": {
          "color": "#7FFF00",
          "pattern": {
           "shape": ""
          }
         },
         "name": "NewJeans",
         "offsetgroup": "NewJeans",
         "orientation": "v",
         "showlegend": true,
         "textposition": "auto",
         "texttemplate": "%{y}",
         "type": "bar",
         "x": [
          "NewJeans"
         ],
         "xaxis": "x",
         "y": [
          6
         ],
         "yaxis": "y"
        },
        {
         "alignmentgroup": "True",
         "hovertemplate": "color=Doja Cat<br>artist(s)_name=%{x}<br>Count=%{y}<extra></extra>",
         "legendgroup": "Doja Cat",
         "marker": {
          "color": "#DA70D6",
          "pattern": {
           "shape": ""
          }
         },
         "name": "Doja Cat",
         "offsetgroup": "Doja Cat",
         "orientation": "v",
         "showlegend": true,
         "textposition": "auto",
         "texttemplate": "%{y}",
         "type": "bar",
         "x": [
          "Doja Cat"
         ],
         "xaxis": "x",
         "y": [
          6
         ],
         "yaxis": "y"
        }
       ],
       "layout": {
        "barmode": "relative",
        "legend": {
         "title": {
          "text": "color"
         },
         "tracegroupgap": 0
        },
        "template": {
         "data": {
          "bar": [
           {
            "error_x": {
             "color": "#2a3f5f"
            },
            "error_y": {
             "color": "#2a3f5f"
            },
            "marker": {
             "line": {
              "color": "#E5ECF6",
              "width": 0.5
             },
             "pattern": {
              "fillmode": "overlay",
              "size": 10,
              "solidity": 0.2
             }
            },
            "type": "bar"
           }
          ],
          "barpolar": [
           {
            "marker": {
             "line": {
              "color": "#E5ECF6",
              "width": 0.5
             },
             "pattern": {
              "fillmode": "overlay",
              "size": 10,
              "solidity": 0.2
             }
            },
            "type": "barpolar"
           }
          ],
          "carpet": [
           {
            "aaxis": {
             "endlinecolor": "#2a3f5f",
             "gridcolor": "white",
             "linecolor": "white",
             "minorgridcolor": "white",
             "startlinecolor": "#2a3f5f"
            },
            "baxis": {
             "endlinecolor": "#2a3f5f",
             "gridcolor": "white",
             "linecolor": "white",
             "minorgridcolor": "white",
             "startlinecolor": "#2a3f5f"
            },
            "type": "carpet"
           }
          ],
          "choropleth": [
           {
            "colorbar": {
             "outlinewidth": 0,
             "ticks": ""
            },
            "type": "choropleth"
           }
          ],
          "contour": [
           {
            "colorbar": {
             "outlinewidth": 0,
             "ticks": ""
            },
            "colorscale": [
             [
              0,
              "#0d0887"
             ],
             [
              0.1111111111111111,
              "#46039f"
             ],
             [
              0.2222222222222222,
              "#7201a8"
             ],
             [
              0.3333333333333333,
              "#9c179e"
             ],
             [
              0.4444444444444444,
              "#bd3786"
             ],
             [
              0.5555555555555556,
              "#d8576b"
             ],
             [
              0.6666666666666666,
              "#ed7953"
             ],
             [
              0.7777777777777778,
              "#fb9f3a"
             ],
             [
              0.8888888888888888,
              "#fdca26"
             ],
             [
              1,
              "#f0f921"
             ]
            ],
            "type": "contour"
           }
          ],
          "contourcarpet": [
           {
            "colorbar": {
             "outlinewidth": 0,
             "ticks": ""
            },
            "type": "contourcarpet"
           }
          ],
          "heatmap": [
           {
            "colorbar": {
             "outlinewidth": 0,
             "ticks": ""
            },
            "colorscale": [
             [
              0,
              "#0d0887"
             ],
             [
              0.1111111111111111,
              "#46039f"
             ],
             [
              0.2222222222222222,
              "#7201a8"
             ],
             [
              0.3333333333333333,
              "#9c179e"
             ],
             [
              0.4444444444444444,
              "#bd3786"
             ],
             [
              0.5555555555555556,
              "#d8576b"
             ],
             [
              0.6666666666666666,
              "#ed7953"
             ],
             [
              0.7777777777777778,
              "#fb9f3a"
             ],
             [
              0.8888888888888888,
              "#fdca26"
             ],
             [
              1,
              "#f0f921"
             ]
            ],
            "type": "heatmap"
           }
          ],
          "heatmapgl": [
           {
            "colorbar": {
             "outlinewidth": 0,
             "ticks": ""
            },
            "colorscale": [
             [
              0,
              "#0d0887"
             ],
             [
              0.1111111111111111,
              "#46039f"
             ],
             [
              0.2222222222222222,
              "#7201a8"
             ],
             [
              0.3333333333333333,
              "#9c179e"
             ],
             [
              0.4444444444444444,
              "#bd3786"
             ],
             [
              0.5555555555555556,
              "#d8576b"
             ],
             [
              0.6666666666666666,
              "#ed7953"
             ],
             [
              0.7777777777777778,
              "#fb9f3a"
             ],
             [
              0.8888888888888888,
              "#fdca26"
             ],
             [
              1,
              "#f0f921"
             ]
            ],
            "type": "heatmapgl"
           }
          ],
          "histogram": [
           {
            "marker": {
             "pattern": {
              "fillmode": "overlay",
              "size": 10,
              "solidity": 0.2
             }
            },
            "type": "histogram"
           }
          ],
          "histogram2d": [
           {
            "colorbar": {
             "outlinewidth": 0,
             "ticks": ""
            },
            "colorscale": [
             [
              0,
              "#0d0887"
             ],
             [
              0.1111111111111111,
              "#46039f"
             ],
             [
              0.2222222222222222,
              "#7201a8"
             ],
             [
              0.3333333333333333,
              "#9c179e"
             ],
             [
              0.4444444444444444,
              "#bd3786"
             ],
             [
              0.5555555555555556,
              "#d8576b"
             ],
             [
              0.6666666666666666,
              "#ed7953"
             ],
             [
              0.7777777777777778,
              "#fb9f3a"
             ],
             [
              0.8888888888888888,
              "#fdca26"
             ],
             [
              1,
              "#f0f921"
             ]
            ],
            "type": "histogram2d"
           }
          ],
          "histogram2dcontour": [
           {
            "colorbar": {
             "outlinewidth": 0,
             "ticks": ""
            },
            "colorscale": [
             [
              0,
              "#0d0887"
             ],
             [
              0.1111111111111111,
              "#46039f"
             ],
             [
              0.2222222222222222,
              "#7201a8"
             ],
             [
              0.3333333333333333,
              "#9c179e"
             ],
             [
              0.4444444444444444,
              "#bd3786"
             ],
             [
              0.5555555555555556,
              "#d8576b"
             ],
             [
              0.6666666666666666,
              "#ed7953"
             ],
             [
              0.7777777777777778,
              "#fb9f3a"
             ],
             [
              0.8888888888888888,
              "#fdca26"
             ],
             [
              1,
              "#f0f921"
             ]
            ],
            "type": "histogram2dcontour"
           }
          ],
          "mesh3d": [
           {
            "colorbar": {
             "outlinewidth": 0,
             "ticks": ""
            },
            "type": "mesh3d"
           }
          ],
          "parcoords": [
           {
            "line": {
             "colorbar": {
              "outlinewidth": 0,
              "ticks": ""
             }
            },
            "type": "parcoords"
           }
          ],
          "pie": [
           {
            "automargin": true,
            "type": "pie"
           }
          ],
          "scatter": [
           {
            "fillpattern": {
             "fillmode": "overlay",
             "size": 10,
             "solidity": 0.2
            },
            "type": "scatter"
           }
          ],
          "scatter3d": [
           {
            "line": {
             "colorbar": {
              "outlinewidth": 0,
              "ticks": ""
             }
            },
            "marker": {
             "colorbar": {
              "outlinewidth": 0,
              "ticks": ""
             }
            },
            "type": "scatter3d"
           }
          ],
          "scattercarpet": [
           {
            "marker": {
             "colorbar": {
              "outlinewidth": 0,
              "ticks": ""
             }
            },
            "type": "scattercarpet"
           }
          ],
          "scattergeo": [
           {
            "marker": {
             "colorbar": {
              "outlinewidth": 0,
              "ticks": ""
             }
            },
            "type": "scattergeo"
           }
          ],
          "scattergl": [
           {
            "marker": {
             "colorbar": {
              "outlinewidth": 0,
              "ticks": ""
             }
            },
            "type": "scattergl"
           }
          ],
          "scattermapbox": [
           {
            "marker": {
             "colorbar": {
              "outlinewidth": 0,
              "ticks": ""
             }
            },
            "type": "scattermapbox"
           }
          ],
          "scatterpolar": [
           {
            "marker": {
             "colorbar": {
              "outlinewidth": 0,
              "ticks": ""
             }
            },
            "type": "scatterpolar"
           }
          ],
          "scatterpolargl": [
           {
            "marker": {
             "colorbar": {
              "outlinewidth": 0,
              "ticks": ""
             }
            },
            "type": "scatterpolargl"
           }
          ],
          "scatterternary": [
           {
            "marker": {
             "colorbar": {
              "outlinewidth": 0,
              "ticks": ""
             }
            },
            "type": "scatterternary"
           }
          ],
          "surface": [
           {
            "colorbar": {
             "outlinewidth": 0,
             "ticks": ""
            },
            "colorscale": [
             [
              0,
              "#0d0887"
             ],
             [
              0.1111111111111111,
              "#46039f"
             ],
             [
              0.2222222222222222,
              "#7201a8"
             ],
             [
              0.3333333333333333,
              "#9c179e"
             ],
             [
              0.4444444444444444,
              "#bd3786"
             ],
             [
              0.5555555555555556,
              "#d8576b"
             ],
             [
              0.6666666666666666,
              "#ed7953"
             ],
             [
              0.7777777777777778,
              "#fb9f3a"
             ],
             [
              0.8888888888888888,
              "#fdca26"
             ],
             [
              1,
              "#f0f921"
             ]
            ],
            "type": "surface"
           }
          ],
          "table": [
           {
            "cells": {
             "fill": {
              "color": "#EBF0F8"
             },
             "line": {
              "color": "white"
             }
            },
            "header": {
             "fill": {
              "color": "#C8D4E3"
             },
             "line": {
              "color": "white"
             }
            },
            "type": "table"
           }
          ]
         },
         "layout": {
          "annotationdefaults": {
           "arrowcolor": "#2a3f5f",
           "arrowhead": 0,
           "arrowwidth": 1
          },
          "autotypenumbers": "strict",
          "coloraxis": {
           "colorbar": {
            "outlinewidth": 0,
            "ticks": ""
           }
          },
          "colorscale": {
           "diverging": [
            [
             0,
             "#8e0152"
            ],
            [
             0.1,
             "#c51b7d"
            ],
            [
             0.2,
             "#de77ae"
            ],
            [
             0.3,
             "#f1b6da"
            ],
            [
             0.4,
             "#fde0ef"
            ],
            [
             0.5,
             "#f7f7f7"
            ],
            [
             0.6,
             "#e6f5d0"
            ],
            [
             0.7,
             "#b8e186"
            ],
            [
             0.8,
             "#7fbc41"
            ],
            [
             0.9,
             "#4d9221"
            ],
            [
             1,
             "#276419"
            ]
           ],
           "sequential": [
            [
             0,
             "#0d0887"
            ],
            [
             0.1111111111111111,
             "#46039f"
            ],
            [
             0.2222222222222222,
             "#7201a8"
            ],
            [
             0.3333333333333333,
             "#9c179e"
            ],
            [
             0.4444444444444444,
             "#bd3786"
            ],
            [
             0.5555555555555556,
             "#d8576b"
            ],
            [
             0.6666666666666666,
             "#ed7953"
            ],
            [
             0.7777777777777778,
             "#fb9f3a"
            ],
            [
             0.8888888888888888,
             "#fdca26"
            ],
            [
             1,
             "#f0f921"
            ]
           ],
           "sequentialminus": [
            [
             0,
             "#0d0887"
            ],
            [
             0.1111111111111111,
             "#46039f"
            ],
            [
             0.2222222222222222,
             "#7201a8"
            ],
            [
             0.3333333333333333,
             "#9c179e"
            ],
            [
             0.4444444444444444,
             "#bd3786"
            ],
            [
             0.5555555555555556,
             "#d8576b"
            ],
            [
             0.6666666666666666,
             "#ed7953"
            ],
            [
             0.7777777777777778,
             "#fb9f3a"
            ],
            [
             0.8888888888888888,
             "#fdca26"
            ],
            [
             1,
             "#f0f921"
            ]
           ]
          },
          "colorway": [
           "#636efa",
           "#EF553B",
           "#00cc96",
           "#ab63fa",
           "#FFA15A",
           "#19d3f3",
           "#FF6692",
           "#B6E880",
           "#FF97FF",
           "#FECB52"
          ],
          "font": {
           "color": "#2a3f5f"
          },
          "geo": {
           "bgcolor": "white",
           "lakecolor": "white",
           "landcolor": "#E5ECF6",
           "showlakes": true,
           "showland": true,
           "subunitcolor": "white"
          },
          "hoverlabel": {
           "align": "left"
          },
          "hovermode": "closest",
          "mapbox": {
           "style": "light"
          },
          "paper_bgcolor": "white",
          "plot_bgcolor": "#E5ECF6",
          "polar": {
           "angularaxis": {
            "gridcolor": "white",
            "linecolor": "white",
            "ticks": ""
           },
           "bgcolor": "#E5ECF6",
           "radialaxis": {
            "gridcolor": "white",
            "linecolor": "white",
            "ticks": ""
           }
          },
          "scene": {
           "xaxis": {
            "backgroundcolor": "#E5ECF6",
            "gridcolor": "white",
            "gridwidth": 2,
            "linecolor": "white",
            "showbackground": true,
            "ticks": "",
            "zerolinecolor": "white"
           },
           "yaxis": {
            "backgroundcolor": "#E5ECF6",
            "gridcolor": "white",
            "gridwidth": 2,
            "linecolor": "white",
            "showbackground": true,
            "ticks": "",
            "zerolinecolor": "white"
           },
           "zaxis": {
            "backgroundcolor": "#E5ECF6",
            "gridcolor": "white",
            "gridwidth": 2,
            "linecolor": "white",
            "showbackground": true,
            "ticks": "",
            "zerolinecolor": "white"
           }
          },
          "shapedefaults": {
           "line": {
            "color": "#2a3f5f"
           }
          },
          "ternary": {
           "aaxis": {
            "gridcolor": "white",
            "linecolor": "white",
            "ticks": ""
           },
           "baxis": {
            "gridcolor": "white",
            "linecolor": "white",
            "ticks": ""
           },
           "bgcolor": "#E5ECF6",
           "caxis": {
            "gridcolor": "white",
            "linecolor": "white",
            "ticks": ""
           }
          },
          "title": {
           "x": 0.05
          },
          "xaxis": {
           "automargin": true,
           "gridcolor": "white",
           "linecolor": "white",
           "ticks": "",
           "title": {
            "standoff": 15
           },
           "zerolinecolor": "white",
           "zerolinewidth": 2
          },
          "yaxis": {
           "automargin": true,
           "gridcolor": "white",
           "linecolor": "white",
           "ticks": "",
           "title": {
            "standoff": 15
           },
           "zerolinecolor": "white",
           "zerolinewidth": 2
          }
         }
        },
        "title": {
         "text": "2023 Top 15 Artists with Most Songs"
        },
        "xaxis": {
         "anchor": "y",
         "domain": [
          0,
          1
         ],
         "title": {
          "text": "artist(s)_name"
         }
        },
        "yaxis": {
         "anchor": "x",
         "domain": [
          0,
          1
         ],
         "title": {
          "text": "Count"
         }
        }
       }
      }
     },
     "metadata": {},
     "output_type": "display_data"
    }
   ],
   "source": [
    "px.bar(artist_counts[:15],\n",
    "             text_auto = True,\n",
    "             color = artist_counts[:15].index,\n",
    "             color_discrete_sequence = colors, \n",
    "             labels=dict(index=\"Count Names\",value=\"Count\"),\n",
    "             title = '2023 Top 15 Artists with Most Songs'\n",
    "            )\n",
    "            # )"
   ]
  },
  {
   "cell_type": "code",
   "execution_count": 38,
   "metadata": {},
   "outputs": [
    {
     "data": {
      "text/plain": [
       "Index(['track_name', 'artist(s)_name', 'artist_count', 'released_year',\n",
       "       'released_month', 'released_day', 'in_spotify_playlists',\n",
       "       'in_spotify_charts', 'streams', 'in_apple_playlists', 'in_apple_charts',\n",
       "       'in_deezer_playlists', 'in_deezer_charts', 'in_shazam_charts', 'bpm',\n",
       "       'key', 'mode', 'danceability_%', 'valence_%', 'energy_%',\n",
       "       'acousticness_%', 'instrumentalness_%', 'liveness_%', 'speechiness_%'],\n",
       "      dtype='object')"
      ]
     },
     "execution_count": 38,
     "metadata": {},
     "output_type": "execute_result"
    }
   ],
   "source": [
    "spotify_2k23.columns"
   ]
  },
  {
   "cell_type": "code",
   "execution_count": 39,
   "metadata": {},
   "outputs": [],
   "source": [
    "characteristics = ['in_spotify_playlists','danceability_%', 'energy_%', 'instrumentalness_%', 'speechiness_%', 'acousticness_%', 'liveness_%', 'valence_%', 'bpm']\n",
    "correlation_matrix = spotify_2k23[characteristics].corr()\n"
   ]
  },
  {
   "cell_type": "code",
   "execution_count": 40,
   "metadata": {},
   "outputs": [
    {
     "data": {
      "application/vnd.plotly.v1+json": {
       "config": {
        "plotlyServerURL": "https://plot.ly"
       },
       "data": [
        {
         "colorscale": [
          [
           0,
           "rgb(5,48,97)"
          ],
          [
           0.1,
           "rgb(33,102,172)"
          ],
          [
           0.2,
           "rgb(67,147,195)"
          ],
          [
           0.3,
           "rgb(146,197,222)"
          ],
          [
           0.4,
           "rgb(209,229,240)"
          ],
          [
           0.5,
           "rgb(247,247,247)"
          ],
          [
           0.6,
           "rgb(253,219,199)"
          ],
          [
           0.7,
           "rgb(244,165,130)"
          ],
          [
           0.8,
           "rgb(214,96,77)"
          ],
          [
           0.9,
           "rgb(178,24,43)"
          ],
          [
           1,
           "rgb(103,0,31)"
          ]
         ],
         "hoverinfo": "text",
         "text": [
          [
           "1.00",
           "-0.11",
           "0.03",
           "-0.03",
           "-0.09",
           "-0.06",
           "-0.05",
           "-0.02",
           "-0.02"
          ],
          [
           "-0.11",
           "1.00",
           "0.20",
           "-0.09",
           "0.18",
           "-0.24",
           "-0.08",
           "0.41",
           "-0.15"
          ],
          [
           "0.03",
           "0.20",
           "1.00",
           "-0.04",
           "-0.00",
           "-0.58",
           "0.12",
           "0.36",
           "0.03"
          ],
          [
           "-0.03",
           "-0.09",
           "-0.04",
           "1.00",
           "-0.08",
           "0.04",
           "-0.05",
           "-0.13",
           "-0.00"
          ],
          [
           "-0.09",
           "0.18",
           "-0.00",
           "-0.08",
           "1.00",
           "-0.02",
           "-0.02",
           "0.04",
           "0.04"
          ],
          [
           "-0.06",
           "-0.24",
           "-0.58",
           "0.04",
           "-0.02",
           "1.00",
           "-0.05",
           "-0.08",
           "-0.02"
          ],
          [
           "-0.05",
           "-0.08",
           "0.12",
           "-0.05",
           "-0.02",
           "-0.05",
           "1.00",
           "0.02",
           "-0.00"
          ],
          [
           "-0.02",
           "0.41",
           "0.36",
           "-0.13",
           "0.04",
           "-0.08",
           "0.02",
           "1.00",
           "0.04"
          ],
          [
           "-0.02",
           "-0.15",
           "0.03",
           "-0.00",
           "0.04",
           "-0.02",
           "-0.00",
           "0.04",
           "1.00"
          ]
         ],
         "texttemplate": "%{text}",
         "type": "heatmap",
         "x": [
          "in_spotify_playlists",
          "danceability_%",
          "energy_%",
          "instrumentalness_%",
          "speechiness_%",
          "acousticness_%",
          "liveness_%",
          "valence_%",
          "bpm"
         ],
         "y": [
          "in_spotify_playlists",
          "danceability_%",
          "energy_%",
          "instrumentalness_%",
          "speechiness_%",
          "acousticness_%",
          "liveness_%",
          "valence_%",
          "bpm"
         ],
         "z": [
          [
           1,
           -0.10653367038753647,
           0.03380770772434547,
           -0.028133740598083455,
           -0.08972233188636587,
           -0.06442070596396697,
           -0.046695347155763615,
           -0.021882735587464903,
           -0.01959759975800961
          ],
          [
           -0.10653367038753647,
           1,
           0.1980948483762567,
           -0.0891380123653967,
           0.18497711241491427,
           -0.23616549457097627,
           -0.07753818325890914,
           0.4084514401611997,
           -0.14709450365704285
          ],
          [
           0.03380770772434547,
           0.1980948483762567,
           1,
           -0.03854651862406125,
           -0.0048460036188535845,
           -0.5773442179801164,
           0.11730178031427665,
           0.35761200597468473,
           0.025794458095156583
          ],
          [
           -0.028133740598083455,
           -0.0891380123653967,
           -0.03854651862406125,
           1,
           -0.08339646134095939,
           0.042795918372905015,
           -0.04596731651605923,
           -0.13289036094202844,
           -0.0011947453753002816
          ],
          [
           -0.08972233188636587,
           0.18497711241491427,
           -0.0048460036188535845,
           -0.08339646134095939,
           1,
           -0.022501474008909155,
           -0.02252524714934958,
           0.04108109284898643,
           0.03926020213556158
          ],
          [
           -0.06442070596396697,
           -0.23616549457097627,
           -0.5773442179801164,
           0.042795918372905015,
           -0.022501474008909155,
           1,
           -0.05014223889545254,
           -0.08190727483082773,
           -0.0176944726073845
          ],
          [
           -0.046695347155763615,
           -0.07753818325890914,
           0.11730178031427665,
           -0.04596731651605923,
           -0.02252524714934958,
           -0.05014223889545254,
           1,
           0.021277538565302435,
           -0.0007609772058049703
          ],
          [
           -0.021882735587464903,
           0.4084514401611997,
           0.35761200597468473,
           -0.13289036094202844,
           0.04108109284898643,
           -0.08190727483082773,
           0.021277538565302435,
           1,
           0.0411945699091123
          ],
          [
           -0.01959759975800961,
           -0.14709450365704285,
           0.025794458095156583,
           -0.0011947453753002816,
           0.03926020213556158,
           -0.0176944726073845,
           -0.0007609772058049703,
           0.0411945699091123,
           1
          ]
         ],
         "zmid": 0
        }
       ],
       "layout": {
        "autosize": true,
        "margin": {
         "b": 10,
         "l": 10,
         "r": 10,
         "t": 50
        },
        "template": {
         "data": {
          "bar": [
           {
            "error_x": {
             "color": "#2a3f5f"
            },
            "error_y": {
             "color": "#2a3f5f"
            },
            "marker": {
             "line": {
              "color": "#E5ECF6",
              "width": 0.5
             },
             "pattern": {
              "fillmode": "overlay",
              "size": 10,
              "solidity": 0.2
             }
            },
            "type": "bar"
           }
          ],
          "barpolar": [
           {
            "marker": {
             "line": {
              "color": "#E5ECF6",
              "width": 0.5
             },
             "pattern": {
              "fillmode": "overlay",
              "size": 10,
              "solidity": 0.2
             }
            },
            "type": "barpolar"
           }
          ],
          "carpet": [
           {
            "aaxis": {
             "endlinecolor": "#2a3f5f",
             "gridcolor": "white",
             "linecolor": "white",
             "minorgridcolor": "white",
             "startlinecolor": "#2a3f5f"
            },
            "baxis": {
             "endlinecolor": "#2a3f5f",
             "gridcolor": "white",
             "linecolor": "white",
             "minorgridcolor": "white",
             "startlinecolor": "#2a3f5f"
            },
            "type": "carpet"
           }
          ],
          "choropleth": [
           {
            "colorbar": {
             "outlinewidth": 0,
             "ticks": ""
            },
            "type": "choropleth"
           }
          ],
          "contour": [
           {
            "colorbar": {
             "outlinewidth": 0,
             "ticks": ""
            },
            "colorscale": [
             [
              0,
              "#0d0887"
             ],
             [
              0.1111111111111111,
              "#46039f"
             ],
             [
              0.2222222222222222,
              "#7201a8"
             ],
             [
              0.3333333333333333,
              "#9c179e"
             ],
             [
              0.4444444444444444,
              "#bd3786"
             ],
             [
              0.5555555555555556,
              "#d8576b"
             ],
             [
              0.6666666666666666,
              "#ed7953"
             ],
             [
              0.7777777777777778,
              "#fb9f3a"
             ],
             [
              0.8888888888888888,
              "#fdca26"
             ],
             [
              1,
              "#f0f921"
             ]
            ],
            "type": "contour"
           }
          ],
          "contourcarpet": [
           {
            "colorbar": {
             "outlinewidth": 0,
             "ticks": ""
            },
            "type": "contourcarpet"
           }
          ],
          "heatmap": [
           {
            "colorbar": {
             "outlinewidth": 0,
             "ticks": ""
            },
            "colorscale": [
             [
              0,
              "#0d0887"
             ],
             [
              0.1111111111111111,
              "#46039f"
             ],
             [
              0.2222222222222222,
              "#7201a8"
             ],
             [
              0.3333333333333333,
              "#9c179e"
             ],
             [
              0.4444444444444444,
              "#bd3786"
             ],
             [
              0.5555555555555556,
              "#d8576b"
             ],
             [
              0.6666666666666666,
              "#ed7953"
             ],
             [
              0.7777777777777778,
              "#fb9f3a"
             ],
             [
              0.8888888888888888,
              "#fdca26"
             ],
             [
              1,
              "#f0f921"
             ]
            ],
            "type": "heatmap"
           }
          ],
          "heatmapgl": [
           {
            "colorbar": {
             "outlinewidth": 0,
             "ticks": ""
            },
            "colorscale": [
             [
              0,
              "#0d0887"
             ],
             [
              0.1111111111111111,
              "#46039f"
             ],
             [
              0.2222222222222222,
              "#7201a8"
             ],
             [
              0.3333333333333333,
              "#9c179e"
             ],
             [
              0.4444444444444444,
              "#bd3786"
             ],
             [
              0.5555555555555556,
              "#d8576b"
             ],
             [
              0.6666666666666666,
              "#ed7953"
             ],
             [
              0.7777777777777778,
              "#fb9f3a"
             ],
             [
              0.8888888888888888,
              "#fdca26"
             ],
             [
              1,
              "#f0f921"
             ]
            ],
            "type": "heatmapgl"
           }
          ],
          "histogram": [
           {
            "marker": {
             "pattern": {
              "fillmode": "overlay",
              "size": 10,
              "solidity": 0.2
             }
            },
            "type": "histogram"
           }
          ],
          "histogram2d": [
           {
            "colorbar": {
             "outlinewidth": 0,
             "ticks": ""
            },
            "colorscale": [
             [
              0,
              "#0d0887"
             ],
             [
              0.1111111111111111,
              "#46039f"
             ],
             [
              0.2222222222222222,
              "#7201a8"
             ],
             [
              0.3333333333333333,
              "#9c179e"
             ],
             [
              0.4444444444444444,
              "#bd3786"
             ],
             [
              0.5555555555555556,
              "#d8576b"
             ],
             [
              0.6666666666666666,
              "#ed7953"
             ],
             [
              0.7777777777777778,
              "#fb9f3a"
             ],
             [
              0.8888888888888888,
              "#fdca26"
             ],
             [
              1,
              "#f0f921"
             ]
            ],
            "type": "histogram2d"
           }
          ],
          "histogram2dcontour": [
           {
            "colorbar": {
             "outlinewidth": 0,
             "ticks": ""
            },
            "colorscale": [
             [
              0,
              "#0d0887"
             ],
             [
              0.1111111111111111,
              "#46039f"
             ],
             [
              0.2222222222222222,
              "#7201a8"
             ],
             [
              0.3333333333333333,
              "#9c179e"
             ],
             [
              0.4444444444444444,
              "#bd3786"
             ],
             [
              0.5555555555555556,
              "#d8576b"
             ],
             [
              0.6666666666666666,
              "#ed7953"
             ],
             [
              0.7777777777777778,
              "#fb9f3a"
             ],
             [
              0.8888888888888888,
              "#fdca26"
             ],
             [
              1,
              "#f0f921"
             ]
            ],
            "type": "histogram2dcontour"
           }
          ],
          "mesh3d": [
           {
            "colorbar": {
             "outlinewidth": 0,
             "ticks": ""
            },
            "type": "mesh3d"
           }
          ],
          "parcoords": [
           {
            "line": {
             "colorbar": {
              "outlinewidth": 0,
              "ticks": ""
             }
            },
            "type": "parcoords"
           }
          ],
          "pie": [
           {
            "automargin": true,
            "type": "pie"
           }
          ],
          "scatter": [
           {
            "fillpattern": {
             "fillmode": "overlay",
             "size": 10,
             "solidity": 0.2
            },
            "type": "scatter"
           }
          ],
          "scatter3d": [
           {
            "line": {
             "colorbar": {
              "outlinewidth": 0,
              "ticks": ""
             }
            },
            "marker": {
             "colorbar": {
              "outlinewidth": 0,
              "ticks": ""
             }
            },
            "type": "scatter3d"
           }
          ],
          "scattercarpet": [
           {
            "marker": {
             "colorbar": {
              "outlinewidth": 0,
              "ticks": ""
             }
            },
            "type": "scattercarpet"
           }
          ],
          "scattergeo": [
           {
            "marker": {
             "colorbar": {
              "outlinewidth": 0,
              "ticks": ""
             }
            },
            "type": "scattergeo"
           }
          ],
          "scattergl": [
           {
            "marker": {
             "colorbar": {
              "outlinewidth": 0,
              "ticks": ""
             }
            },
            "type": "scattergl"
           }
          ],
          "scattermapbox": [
           {
            "marker": {
             "colorbar": {
              "outlinewidth": 0,
              "ticks": ""
             }
            },
            "type": "scattermapbox"
           }
          ],
          "scatterpolar": [
           {
            "marker": {
             "colorbar": {
              "outlinewidth": 0,
              "ticks": ""
             }
            },
            "type": "scatterpolar"
           }
          ],
          "scatterpolargl": [
           {
            "marker": {
             "colorbar": {
              "outlinewidth": 0,
              "ticks": ""
             }
            },
            "type": "scatterpolargl"
           }
          ],
          "scatterternary": [
           {
            "marker": {
             "colorbar": {
              "outlinewidth": 0,
              "ticks": ""
             }
            },
            "type": "scatterternary"
           }
          ],
          "surface": [
           {
            "colorbar": {
             "outlinewidth": 0,
             "ticks": ""
            },
            "colorscale": [
             [
              0,
              "#0d0887"
             ],
             [
              0.1111111111111111,
              "#46039f"
             ],
             [
              0.2222222222222222,
              "#7201a8"
             ],
             [
              0.3333333333333333,
              "#9c179e"
             ],
             [
              0.4444444444444444,
              "#bd3786"
             ],
             [
              0.5555555555555556,
              "#d8576b"
             ],
             [
              0.6666666666666666,
              "#ed7953"
             ],
             [
              0.7777777777777778,
              "#fb9f3a"
             ],
             [
              0.8888888888888888,
              "#fdca26"
             ],
             [
              1,
              "#f0f921"
             ]
            ],
            "type": "surface"
           }
          ],
          "table": [
           {
            "cells": {
             "fill": {
              "color": "#EBF0F8"
             },
             "line": {
              "color": "white"
             }
            },
            "header": {
             "fill": {
              "color": "#C8D4E3"
             },
             "line": {
              "color": "white"
             }
            },
            "type": "table"
           }
          ]
         },
         "layout": {
          "annotationdefaults": {
           "arrowcolor": "#2a3f5f",
           "arrowhead": 0,
           "arrowwidth": 1
          },
          "autotypenumbers": "strict",
          "coloraxis": {
           "colorbar": {
            "outlinewidth": 0,
            "ticks": ""
           }
          },
          "colorscale": {
           "diverging": [
            [
             0,
             "#8e0152"
            ],
            [
             0.1,
             "#c51b7d"
            ],
            [
             0.2,
             "#de77ae"
            ],
            [
             0.3,
             "#f1b6da"
            ],
            [
             0.4,
             "#fde0ef"
            ],
            [
             0.5,
             "#f7f7f7"
            ],
            [
             0.6,
             "#e6f5d0"
            ],
            [
             0.7,
             "#b8e186"
            ],
            [
             0.8,
             "#7fbc41"
            ],
            [
             0.9,
             "#4d9221"
            ],
            [
             1,
             "#276419"
            ]
           ],
           "sequential": [
            [
             0,
             "#0d0887"
            ],
            [
             0.1111111111111111,
             "#46039f"
            ],
            [
             0.2222222222222222,
             "#7201a8"
            ],
            [
             0.3333333333333333,
             "#9c179e"
            ],
            [
             0.4444444444444444,
             "#bd3786"
            ],
            [
             0.5555555555555556,
             "#d8576b"
            ],
            [
             0.6666666666666666,
             "#ed7953"
            ],
            [
             0.7777777777777778,
             "#fb9f3a"
            ],
            [
             0.8888888888888888,
             "#fdca26"
            ],
            [
             1,
             "#f0f921"
            ]
           ],
           "sequentialminus": [
            [
             0,
             "#0d0887"
            ],
            [
             0.1111111111111111,
             "#46039f"
            ],
            [
             0.2222222222222222,
             "#7201a8"
            ],
            [
             0.3333333333333333,
             "#9c179e"
            ],
            [
             0.4444444444444444,
             "#bd3786"
            ],
            [
             0.5555555555555556,
             "#d8576b"
            ],
            [
             0.6666666666666666,
             "#ed7953"
            ],
            [
             0.7777777777777778,
             "#fb9f3a"
            ],
            [
             0.8888888888888888,
             "#fdca26"
            ],
            [
             1,
             "#f0f921"
            ]
           ]
          },
          "colorway": [
           "#636efa",
           "#EF553B",
           "#00cc96",
           "#ab63fa",
           "#FFA15A",
           "#19d3f3",
           "#FF6692",
           "#B6E880",
           "#FF97FF",
           "#FECB52"
          ],
          "font": {
           "color": "#2a3f5f"
          },
          "geo": {
           "bgcolor": "white",
           "lakecolor": "white",
           "landcolor": "#E5ECF6",
           "showlakes": true,
           "showland": true,
           "subunitcolor": "white"
          },
          "hoverlabel": {
           "align": "left"
          },
          "hovermode": "closest",
          "mapbox": {
           "style": "light"
          },
          "paper_bgcolor": "white",
          "plot_bgcolor": "#E5ECF6",
          "polar": {
           "angularaxis": {
            "gridcolor": "white",
            "linecolor": "white",
            "ticks": ""
           },
           "bgcolor": "#E5ECF6",
           "radialaxis": {
            "gridcolor": "white",
            "linecolor": "white",
            "ticks": ""
           }
          },
          "scene": {
           "xaxis": {
            "backgroundcolor": "#E5ECF6",
            "gridcolor": "white",
            "gridwidth": 2,
            "linecolor": "white",
            "showbackground": true,
            "ticks": "",
            "zerolinecolor": "white"
           },
           "yaxis": {
            "backgroundcolor": "#E5ECF6",
            "gridcolor": "white",
            "gridwidth": 2,
            "linecolor": "white",
            "showbackground": true,
            "ticks": "",
            "zerolinecolor": "white"
           },
           "zaxis": {
            "backgroundcolor": "#E5ECF6",
            "gridcolor": "white",
            "gridwidth": 2,
            "linecolor": "white",
            "showbackground": true,
            "ticks": "",
            "zerolinecolor": "white"
           }
          },
          "shapedefaults": {
           "line": {
            "color": "#2a3f5f"
           }
          },
          "ternary": {
           "aaxis": {
            "gridcolor": "white",
            "linecolor": "white",
            "ticks": ""
           },
           "baxis": {
            "gridcolor": "white",
            "linecolor": "white",
            "ticks": ""
           },
           "bgcolor": "#E5ECF6",
           "caxis": {
            "gridcolor": "white",
            "linecolor": "white",
            "ticks": ""
           }
          },
          "title": {
           "x": 0.05
          },
          "xaxis": {
           "automargin": true,
           "gridcolor": "white",
           "linecolor": "white",
           "ticks": "",
           "title": {
            "standoff": 15
           },
           "zerolinecolor": "white",
           "zerolinewidth": 2
          },
          "yaxis": {
           "automargin": true,
           "gridcolor": "white",
           "linecolor": "white",
           "ticks": "",
           "title": {
            "standoff": 15
           },
           "zerolinecolor": "white",
           "zerolinewidth": 2
          }
         }
        },
        "title": {
         "text": "Spotify 2023-Correlation Matrix Heatmap"
        },
        "xaxis": {
         "tickmode": "array",
         "ticktext": [
          "in_spotify_playlists",
          "danceability_%",
          "energy_%",
          "instrumentalness_%",
          "speechiness_%",
          "acousticness_%",
          "liveness_%",
          "valence_%",
          "bpm"
         ],
         "tickvals": [
          0,
          1,
          2,
          3,
          4,
          5,
          6,
          7,
          8
         ],
         "title": {
          "text": "Features"
         }
        },
        "yaxis": {
         "tickmode": "array",
         "ticktext": [
          "in_spotify_playlists",
          "danceability_%",
          "energy_%",
          "instrumentalness_%",
          "speechiness_%",
          "acousticness_%",
          "liveness_%",
          "valence_%",
          "bpm"
         ],
         "tickvals": [
          0,
          1,
          2,
          3,
          4,
          5,
          6,
          7,
          8
         ],
         "title": {
          "text": "Features"
         }
        }
       }
      }
     },
     "metadata": {},
     "output_type": "display_data"
    }
   ],
   "source": [
    "\n",
    "# Generate text labels for the heatmap\n",
    "text_labels = [[f'{val:.2f}' for val in row] for row in correlation_matrix.values]\n",
    "\n",
    "# Create a heatmap with text labels inside each cell\n",
    "fig = go.Figure(data=go.Heatmap(\n",
    "    z=correlation_matrix,\n",
    "    x=correlation_matrix.columns,\n",
    "    y=correlation_matrix.columns,\n",
    "    colorscale='RdBu_r',  # Change the colorscale to coolwarm\n",
    "    zmid=0,  # Center the color scale at zero\n",
    "    text=text_labels,\n",
    "    texttemplate=\"%{text}\",\n",
    "    hoverinfo=\"text\"\n",
    "))\n",
    "\n",
    "# Update layout for compact display\n",
    "fig.update_layout(\n",
    "    title='Spotify 2023-Correlation Matrix Heatmap',\n",
    "    xaxis_title='Features',\n",
    "    yaxis_title='Features',\n",
    "    xaxis=dict(tickmode='array', tickvals=np.arange(len(correlation_matrix.columns)), ticktext=correlation_matrix.columns),\n",
    "    yaxis=dict(tickmode='array', tickvals=np.arange(len(correlation_matrix.columns)), ticktext=correlation_matrix.columns),\n",
    "    autosize=True,\n",
    "    margin=dict(l=10, r=10, b=10, t=50)  # Reduce margins to make the plot more compact\n",
    ")\n",
    "\n",
    "# Show the figure\n",
    "fig.show()\n"
   ]
  },
  {
   "cell_type": "code",
   "execution_count": 41,
   "metadata": {},
   "outputs": [],
   "source": [
    "# Convert 'Length (Duration)' from string to integer\n",
    "# Remove commas and convert to seconds\n",
    "spotify_2k['Length (Duration)'] = spotify_2k['Length (Duration)'].str.replace(',', '')\n",
    "spotify_2k['Length (Duration)'] = pd.to_timedelta(spotify_2k['Length (Duration)']).dt.total_seconds()\n",
    "\n",
    "# Convert to integer\n",
    "spotify_2k['Length (Duration)'] = spotify_2k['Length (Duration)'].astype(int)"
   ]
  },
  {
   "cell_type": "code",
   "execution_count": 42,
   "metadata": {},
   "outputs": [],
   "source": [
    "\n",
    "# Selecting features for clustering\n",
    "features = spotify_2k[['Beats Per Minute (BPM)', 'Energy', 'Danceability', 'Loudness (dB)', 'Valence', 'Acousticness', 'Speechiness']]\n",
    "scaler = StandardScaler()\n",
    "features_scaled = scaler.fit_transform(features)"
   ]
  },
  {
   "cell_type": "code",
   "execution_count": 43,
   "metadata": {},
   "outputs": [],
   "source": [
    "\n",
    "# Clustering\n",
    "k = 5  # Number of clusters\n",
    "kmeans = KMeans(n_clusters=k, random_state=0)\n",
    "spotify_2k['Cluster'] = kmeans.fit_predict(features_scaled)\n"
   ]
  },
  {
   "cell_type": "code",
   "execution_count": 44,
   "metadata": {},
   "outputs": [
    {
     "data": {
      "application/vnd.plotly.v1+json": {
       "config": {
        "plotlyServerURL": "https://plot.ly"
       },
       "data": [
        {
         "hovertemplate": "PC1=%{x}<br>PC2=%{y}<br>Cluster=%{marker.color}<extra></extra>",
         "legendgroup": "",
         "marker": {
          "color": [
           1,
           4,
           0,
           0,
           4,
           2,
           4,
           0,
           0,
           4,
           1,
           3,
           4,
           0,
           4,
           1,
           0,
           2,
           2,
           4,
           2,
           2,
           4,
           4,
           4,
           2,
           4,
           4,
           1,
           3,
           1,
           0,
           2,
           1,
           4,
           3,
           0,
           0,
           0,
           1,
           4,
           0,
           2,
           0,
           4,
           0,
           3,
           2,
           4,
           2,
           1,
           0,
           1,
           0,
           1,
           2,
           2,
           2,
           4,
           2,
           3,
           2,
           4,
           4,
           4,
           4,
           4,
           4,
           2,
           2,
           1,
           0,
           0,
           0,
           2,
           4,
           1,
           4,
           4,
           0,
           0,
           2,
           1,
           2,
           4,
           0,
           4,
           3,
           3,
           0,
           1,
           4,
           2,
           0,
           0,
           0,
           4,
           1,
           4,
           2,
           4,
           1,
           4,
           0,
           0,
           1,
           4,
           4,
           4,
           2,
           0,
           2,
           4,
           2,
           0,
           2,
           2,
           4,
           0,
           0,
           0,
           2,
           1,
           2,
           3,
           4,
           0,
           1,
           4,
           4,
           2,
           1,
           0,
           2,
           2,
           4,
           2,
           3,
           1,
           2,
           4,
           0,
           4,
           3,
           4,
           1,
           3,
           0,
           4,
           3,
           2,
           2,
           1,
           3,
           1,
           2,
           2,
           1,
           4,
           4,
           2,
           1,
           4,
           1,
           4,
           1,
           4,
           4,
           1,
           1,
           1,
           1,
           2,
           1,
           2,
           4,
           0,
           2,
           2,
           4,
           3,
           4,
           1,
           4,
           4,
           3,
           0,
           2,
           0,
           4,
           4,
           4,
           4,
           0,
           0,
           2,
           1,
           0,
           0,
           1,
           1,
           0,
           3,
           4,
           0,
           4,
           4,
           0,
           4,
           1,
           0,
           4,
           2,
           4,
           0,
           2,
           3,
           0,
           3,
           4,
           2,
           1,
           2,
           2,
           1,
           0,
           0,
           2,
           1,
           3,
           2,
           3,
           4,
           1,
           0,
           0,
           2,
           0,
           4,
           0,
           4,
           1,
           4,
           0,
           4,
           4,
           2,
           0,
           3,
           0,
           3,
           0,
           4,
           1,
           4,
           0,
           4,
           1,
           0,
           2,
           4,
           0,
           2,
           1,
           4,
           2,
           0,
           3,
           3,
           2,
           4,
           2,
           1,
           2,
           4,
           3,
           2,
           0,
           0,
           4,
           4,
           2,
           4,
           2,
           0,
           4,
           4,
           0,
           1,
           4,
           4,
           0,
           4,
           1,
           4,
           2,
           4,
           3,
           0,
           4,
           0,
           2,
           4,
           0,
           1,
           3,
           4,
           4,
           1,
           4,
           0,
           0,
           0,
           2,
           0,
           3,
           0,
           0,
           2,
           1,
           1,
           3,
           4,
           2,
           0,
           0,
           4,
           0,
           2,
           3,
           4,
           2,
           4,
           1,
           3,
           2,
           1,
           4,
           0,
           2,
           3,
           4,
           1,
           2,
           2,
           4,
           4,
           1,
           3,
           4,
           0,
           2,
           1,
           0,
           1,
           0,
           4,
           0,
           0,
           0,
           2,
           4,
           0,
           4,
           1,
           0,
           0,
           2,
           0,
           4,
           0,
           2,
           2,
           3,
           4,
           2,
           2,
           1,
           4,
           2,
           4,
           4,
           2,
           1,
           2,
           2,
           4,
           4,
           3,
           4,
           2,
           2,
           2,
           0,
           0,
           1,
           4,
           4,
           2,
           4,
           1,
           4,
           4,
           3,
           4,
           0,
           2,
           1,
           3,
           0,
           4,
           0,
           3,
           2,
           4,
           4,
           2,
           2,
           3,
           4,
           0,
           4,
           4,
           2,
           0,
           2,
           3,
           3,
           2,
           0,
           2,
           1,
           2,
           1,
           4,
           0,
           0,
           3,
           0,
           0,
           1,
           2,
           2,
           0,
           1,
           2,
           4,
           1,
           4,
           4,
           0,
           1,
           0,
           2,
           4,
           1,
           2,
           2,
           2,
           4,
           2,
           4,
           1,
           1,
           4,
           4,
           4,
           3,
           4,
           0,
           1,
           4,
           0,
           0,
           4,
           1,
           1,
           0,
           2,
           2,
           0,
           1,
           0,
           1,
           2,
           1,
           3,
           4,
           0,
           0,
           1,
           1,
           2,
           0,
           0,
           4,
           4,
           2,
           3,
           4,
           3,
           1,
           2,
           4,
           3,
           1,
           1,
           4,
           0,
           3,
           2,
           0,
           1,
           4,
           1,
           1,
           2,
           4,
           2,
           0,
           1,
           0,
           4,
           4,
           2,
           1,
           4,
           1,
           0,
           1,
           4,
           0,
           0,
           2,
           4,
           1,
           0,
           4,
           1,
           4,
           2,
           0,
           0,
           2,
           1,
           3,
           4,
           2,
           2,
           2,
           4,
           2,
           4,
           4,
           4,
           0,
           1,
           0,
           4,
           4,
           2,
           0,
           2,
           4,
           0,
           3,
           2,
           2,
           1,
           0,
           4,
           1,
           4,
           3,
           0,
           0,
           2,
           1,
           0,
           2,
           4,
           3,
           0,
           4,
           2,
           4,
           2,
           0,
           4,
           4,
           0,
           2,
           4,
           0,
           0,
           4,
           3,
           3,
           4,
           4,
           4,
           1,
           4,
           1,
           1,
           1,
           4,
           2,
           1,
           0,
           2,
           0,
           4,
           1,
           1,
           4,
           1,
           4,
           2,
           4,
           2,
           1,
           2,
           4,
           0,
           3,
           4,
           2,
           1,
           3,
           1,
           0,
           2,
           0,
           0,
           4,
           4,
           0,
           3,
           3,
           2,
           2,
           0,
           4,
           4,
           0,
           1,
           2,
           1,
           4,
           0,
           2,
           4,
           0,
           0,
           4,
           1,
           4,
           1,
           2,
           1,
           0,
           1,
           0,
           0,
           0,
           3,
           4,
           3,
           4,
           2,
           4,
           1,
           3,
           1,
           3,
           2,
           0,
           3,
           1,
           1,
           4,
           0,
           2,
           4,
           0,
           2,
           4,
           4,
           4,
           1,
           0,
           2,
           2,
           0,
           0,
           4,
           4,
           3,
           4,
           4,
           1,
           1,
           3,
           0,
           2,
           0,
           2,
           2,
           4,
           2,
           1,
           4,
           2,
           4,
           4,
           1,
           2,
           2,
           1,
           1,
           2,
           0,
           2,
           0,
           0,
           2,
           2,
           0,
           3,
           4,
           1,
           1,
           4,
           0,
           3,
           3,
           2,
           0,
           2,
           2,
           3,
           3,
           0,
           3,
           4,
           3,
           4,
           3,
           1,
           0,
           1,
           4,
           1,
           1,
           0,
           2,
           0,
           2,
           2,
           3,
           3,
           3,
           4,
           2,
           4,
           0,
           4,
           3,
           1,
           4,
           2,
           4,
           2,
           4,
           2,
           2,
           4,
           1,
           1,
           0,
           4,
           1,
           4,
           3,
           0,
           4,
           3,
           0,
           1,
           4,
           0,
           0,
           3,
           3,
           0,
           2,
           4,
           1,
           2,
           1,
           1,
           0,
           3,
           1,
           1,
           2,
           1,
           1,
           4,
           4,
           1,
           1,
           1,
           1,
           3,
           1,
           2,
           4,
           2,
           3,
           1,
           3,
           3,
           2,
           0,
           4,
           1,
           4,
           4,
           1,
           1,
           3,
           2,
           1,
           4,
           1,
           4,
           0,
           1,
           1,
           3,
           1,
           1,
           2,
           2,
           1,
           2,
           2,
           1,
           0,
           0,
           1,
           1,
           1,
           1,
           3,
           2,
           0,
           4,
           1,
           3,
           0,
           1,
           1,
           4,
           1,
           2,
           2,
           0,
           3,
           4,
           3,
           3,
           4,
           0,
           4,
           3,
           1,
           2,
           0,
           2,
           3,
           1,
           2,
           3,
           2,
           3,
           3,
           1,
           3,
           0,
           1,
           1,
           2,
           4,
           0,
           3,
           3,
           1,
           0,
           3,
           1,
           1,
           2,
           3,
           3,
           1,
           2,
           3,
           3,
           2,
           2,
           1,
           1,
           1,
           0,
           4,
           1,
           1,
           4,
           1,
           1,
           2,
           3,
           1,
           3,
           1,
           3,
           2,
           3,
           3,
           3,
           4,
           1,
           3,
           0,
           3,
           3,
           0,
           1,
           3,
           4,
           3,
           0,
           1,
           3,
           1,
           1,
           3,
           2,
           2,
           1,
           3,
           0,
           4,
           1,
           1,
           3,
           3,
           2,
           1,
           1,
           1,
           1,
           1,
           0,
           2,
           3,
           3,
           4,
           1,
           0,
           1,
           3,
           3,
           4,
           2,
           2,
           2,
           1,
           2,
           1,
           3,
           2,
           2,
           1,
           4,
           2,
           0,
           2,
           1,
           2,
           3,
           4,
           3,
           1,
           4,
           1,
           3,
           2,
           4,
           1,
           4,
           2,
           0,
           3,
           2,
           2,
           0,
           2,
           4,
           1,
           4,
           1,
           3,
           4,
           3,
           1,
           2,
           2,
           3,
           0,
           3,
           0,
           3,
           4,
           3,
           1,
           1,
           2,
           0,
           4,
           1,
           1,
           0,
           3,
           0,
           3,
           2,
           1,
           2,
           1,
           0,
           3,
           1,
           1,
           4,
           4,
           3,
           3,
           4,
           1,
           2,
           4,
           3,
           4,
           1,
           4,
           2,
           4,
           0,
           4,
           2,
           3,
           3,
           4,
           3,
           3,
           3,
           3,
           2,
           0,
           3,
           3,
           3,
           3,
           0,
           1,
           0,
           3,
           4,
           4,
           1,
           1,
           3,
           4,
           3,
           1,
           4,
           2,
           3,
           2,
           2,
           2,
           3,
           4,
           1,
           4,
           4,
           4,
           0,
           3,
           4,
           4,
           2,
           4,
           1,
           4,
           3,
           1,
           3,
           1,
           4,
           3,
           1,
           4,
           4,
           3,
           4,
           1,
           4,
           2,
           4,
           3,
           1,
           2,
           2,
           1,
           3,
           0,
           4,
           1,
           3,
           4,
           4,
           0,
           2,
           2,
           4,
           3,
           3,
           3,
           4,
           3,
           0,
           4,
           3,
           3,
           4,
           2,
           4,
           3,
           2,
           0,
           0,
           4,
           0,
           2,
           3,
           4,
           3,
           4,
           0,
           4,
           4,
           1,
           3,
           3,
           1,
           3,
           1,
           4,
           4,
           0,
           3,
           2,
           0,
           1,
           0,
           4,
           4,
           3,
           0,
           3,
           4,
           4,
           3,
           3,
           1,
           1,
           2,
           3,
           3,
           2,
           4,
           3,
           4,
           3,
           1,
           2,
           4,
           0,
           3,
           3,
           2,
           3,
           1,
           1,
           4,
           0,
           4,
           3,
           2,
           1,
           3,
           3,
           4,
           3,
           1,
           3,
           0,
           4,
           4,
           2,
           1,
           3,
           3,
           3,
           3,
           4,
           4,
           4,
           3,
           0,
           1,
           4,
           3,
           4,
           2,
           4,
           0,
           4,
           3,
           4,
           4,
           3,
           4,
           3,
           1,
           3,
           4,
           3,
           3,
           3,
           3,
           1,
           0,
           0,
           4,
           4,
           4,
           1,
           4,
           4,
           4,
           2,
           4,
           1,
           4,
           3,
           0,
           2,
           3,
           4,
           0,
           0,
           2,
           4,
           2,
           0,
           2,
           1,
           4,
           1,
           3,
           3,
           4,
           1,
           4,
           4,
           4,
           0,
           3,
           3,
           2,
           0,
           3,
           1,
           4,
           1,
           4,
           1,
           3,
           3,
           2,
           4,
           2,
           0,
           0,
           2,
           3,
           3,
           2,
           0,
           4,
           3,
           4,
           3,
           1,
           3,
           3,
           3,
           3,
           3,
           1,
           3,
           3,
           1,
           4,
           1,
           3,
           3,
           2,
           2,
           3,
           1,
           4,
           3,
           1,
           2,
           0,
           2,
           4,
           4,
           0,
           4,
           3,
           1,
           1,
           4,
           2,
           1,
           1,
           4,
           3,
           4,
           4,
           4,
           4,
           1,
           0,
           3,
           2,
           2,
           3,
           1,
           0,
           1,
           4,
           1,
           3,
           4,
           1,
           2,
           4,
           3,
           3,
           1,
           3,
           3,
           0,
           1,
           1,
           4,
           4,
           1,
           4,
           2,
           2,
           4,
           0,
           1,
           3,
           1,
           0,
           3,
           4,
           1,
           3,
           0,
           1,
           0,
           1,
           2,
           2,
           1,
           3,
           1,
           4,
           1,
           4,
           1,
           1,
           4,
           0,
           4,
           3,
           2,
           3,
           3,
           4,
           3,
           0,
           0,
           3,
           0,
           0,
           4,
           4,
           3,
           1,
           2,
           1,
           3,
           3,
           3,
           0,
           3,
           3,
           2,
           3,
           3,
           3,
           0,
           1,
           1,
           3,
           0,
           3,
           1,
           2,
           2,
           1,
           3,
           3,
           3,
           3,
           4,
           2,
           1,
           3,
           4,
           3,
           3,
           0,
           0,
           2,
           3,
           2,
           2,
           3,
           3,
           2,
           1,
           1,
           3,
           3,
           0,
           3,
           2,
           1,
           3,
           3,
           0,
           3,
           4,
           0,
           1,
           4,
           4,
           3,
           2,
           4,
           3,
           4,
           0,
           1,
           4,
           1,
           0,
           2,
           0,
           3,
           2,
           3,
           1,
           4,
           3,
           1,
           2,
           1,
           0,
           3,
           4,
           2,
           3,
           2,
           2,
           4,
           2,
           2,
           4,
           1,
           2,
           0,
           2,
           4,
           4,
           2,
           0,
           0,
           2,
           3,
           4,
           3,
           2,
           2,
           0,
           4,
           2,
           2,
           2,
           2,
           0,
           2,
           4,
           1,
           4,
           1,
           1,
           3,
           0,
           0,
           3,
           4,
           4,
           2,
           3,
           2,
           3,
           2,
           1,
           3,
           4,
           4,
           3,
           4,
           0,
           0,
           1,
           4,
           3,
           1,
           1,
           1,
           2,
           0,
           4,
           3,
           4,
           2,
           0,
           0,
           2,
           1,
           2,
           0,
           1,
           4,
           3,
           1,
           4,
           4,
           2,
           1,
           3,
           0,
           2,
           3,
           4,
           1,
           2,
           0,
           1,
           2,
           2,
           3,
           2,
           1,
           3,
           0,
           2,
           4,
           0,
           3,
           3,
           1,
           2,
           0,
           3,
           3,
           0,
           1,
           1,
           2,
           2,
           3,
           2,
           2,
           0,
           1,
           1,
           2,
           2,
           2,
           4,
           2,
           2,
           1,
           0,
           0,
           2,
           0,
           3,
           2,
           4,
           2,
           0,
           4,
           2,
           2,
           4,
           1,
           0,
           2,
           0,
           0,
           3,
           1,
           1,
           4,
           1,
           4,
           1,
           1,
           0,
           4,
           0,
           1,
           3,
           2,
           0,
           2,
           1,
           2,
           2,
           2,
           2,
           4,
           3,
           4,
           1,
           2,
           1,
           3,
           1,
           1,
           0,
           0,
           2,
           2,
           2,
           4,
           1,
           2,
           3,
           1,
           4,
           4,
           3,
           1,
           3,
           2,
           2,
           1,
           4,
           2,
           3,
           1,
           0,
           4,
           0,
           1,
           4,
           2,
           0,
           4,
           0,
           1,
           4,
           1,
           2,
           0,
           4,
           0,
           1,
           1,
           2,
           1,
           1,
           0,
           0,
           0,
           2,
           2,
           1,
           2,
           2,
           3,
           3,
           1,
           4,
           4,
           0,
           2,
           1,
           1,
           4,
           1,
           2,
           2,
           4,
           2,
           2,
           0,
           3,
           0,
           2,
           4,
           1,
           2,
           4,
           2,
           2,
           1,
           2,
           1,
           1,
           2,
           3,
           2,
           2,
           1,
           2,
           2,
           3,
           2,
           3,
           4,
           4,
           2,
           2,
           1,
           4,
           3,
           4,
           2,
           0,
           1,
           4,
           1,
           4,
           1,
           3,
           1,
           0,
           1,
           0,
           1,
           2,
           2,
           0,
           0,
           4,
           0,
           4,
           0,
           0,
           4,
           1,
           2,
           1,
           3,
           0,
           4,
           2,
           2,
           4,
           1,
           0,
           0,
           1,
           4,
           4,
           2,
           4,
           1,
           1,
           1,
           3,
           3,
           3,
           1,
           3,
           4,
           1,
           4,
           1,
           1,
           2,
           3,
           1,
           1,
           4,
           3,
           3,
           3,
           1,
           4,
           2,
           0,
           4,
           1,
           1,
           1,
           2,
           3,
           1,
           1,
           2,
           3,
           3,
           0,
           2,
           3,
           1,
           2,
           3,
           4,
           1,
           4,
           1,
           3,
           3,
           1,
           2,
           1,
           3,
           1,
           1,
           1,
           2,
           2,
           2,
           1,
           3,
           4,
           1,
           3,
           1,
           0,
           2,
           2,
           2,
           1,
           2,
           1,
           3,
           2,
           2,
           2,
           4,
           1,
           2,
           2,
           3,
           1,
           2,
           3,
           3,
           2,
           1,
           4,
           2,
           3,
           2,
           3,
           3,
           1,
           1,
           3,
           1,
           2,
           2,
           4,
           0,
           1,
           2,
           3,
           3,
           1,
           0,
           3,
           3,
           0,
           3,
           0,
           2,
           2,
           2,
           0,
           1,
           2,
           3,
           0,
           2,
           2,
           2,
           3,
           3,
           4,
           1,
           4,
           1,
           0,
           2,
           1,
           1,
           0,
           2,
           1,
           2,
           4,
           0,
           2,
           2,
           3,
           1,
           2,
           3,
           2,
           2,
           2,
           2,
           1,
           3,
           0,
           1,
           4,
           2,
           2,
           0,
           2,
           1,
           3,
           3,
           1,
           1,
           3,
           0,
           4,
           1,
           3
          ],
          "coloraxis": "coloraxis",
          "symbol": "circle"
         },
         "mode": "markers",
         "name": "",
         "showlegend": false,
         "type": "scattergl",
         "x": [
          2.127657523710532,
          -0.9954815468913725,
          -1.6422528841772788,
          -1.9143151136017489,
          -2.003350091569168,
          0.6026952118113221,
          -1.2102647402003681,
          -1.7418764215309797,
          -1.5690573532390193,
          -2.2759062736821583,
          3.7660890796993347,
          -0.4357508422284056,
          -1.5348829272656899,
          -1.7788019034488947,
          -2.0523354268701923,
          1.9853104821514351,
          -1.3561860815756763,
          -0.0886121518168186,
          1.9559928667063613,
          -0.51786291579082,
          1.2641816930847196,
          0.013956200560994773,
          -1.9331597826361295,
          -2.7002796648568395,
          -0.8911048104143559,
          0.9519634864568979,
          -1.3738252683844359,
          -3.0352274751393677,
          2.8720410204134263,
          -0.7848380050477077,
          1.249072818580745,
          -0.42547488428962515,
          0.349501244438959,
          2.131571598428054,
          -1.5544609224555521,
          0.20404953892378414,
          -1.1375812924355608,
          -0.44066089977145695,
          -1.3736461948549215,
          3.0130679224990016,
          -1.7329173085362553,
          -0.406230029069291,
          -0.1971127168617008,
          -2.8935484905033997,
          -1.4744874632544336,
          -0.41760278556763514,
          -0.22061829332717495,
          -0.01730588378559395,
          -1.6327784421183849,
          -0.8168645204930217,
          2.136940367566455,
          0.8363281595517978,
          3.0680261705633143,
          -0.6868925919906803,
          2.074463041477264,
          -0.6835817445026221,
          -0.41603539247304105,
          -0.04032748784023115,
          -0.7941955294369494,
          0.7152727706028887,
          0.6466929685956443,
          0.01879226699931292,
          -1.9222013860497162,
          -1.1862521814414682,
          -1.4549935823397784,
          -1.4700099719565922,
          -1.7244427854926814,
          -1.4232620172657657,
          1.1553221291132871,
          -0.34866906782899326,
          3.1464585595619567,
          -1.3837182659195797,
          0.11944649001521948,
          -0.6427483339669259,
          -0.18059053274232226,
          -1.3088913880078958,
          2.5732751260675886,
          -1.9043622763486237,
          -1.6591026399349063,
          -0.671155076097266,
          -0.6572607557359279,
          1.7804213905451451,
          3.2617003414033547,
          -0.1345698022783467,
          -1.923394455981888,
          -1.3329672261342533,
          -1.7668447381371544,
          0.6836304558170744,
          -0.6121757220693089,
          -1.6602336126255701,
          2.20827955041686,
          -1.5508922458873815,
          0.7245813833907871,
          -0.7051408965905923,
          -1.30516753608731,
          -0.9145514001420282,
          -2.3640251704052715,
          4.053869879289121,
          -1.6160577726360723,
          -1.1284248505222942,
          -1.4006060578122395,
          1.9619063493482467,
          -2.1043169458853663,
          -0.4626789679020799,
          0.11577286953058868,
          1.9867191781124787,
          -2.5765670055499585,
          -0.5626903295749422,
          -2.41065410964708,
          1.069512078104792,
          -1.8843761246390298,
          -1.4689586775310974,
          -0.9729019097484263,
          -0.9012064134169828,
          -2.0899417313463062,
          -0.8462977068760097,
          1.0728830800936497,
          -1.8344863071943547,
          -0.4812496150225986,
          -0.9615126666729202,
          -1.81885483166414,
          -0.345981827996126,
          1.6171669914630395,
          1.2009489898109913,
          -0.961486487403614,
          -2.304156623444809,
          -1.5837547670418977,
          1.1066008421401716,
          -0.9089862937378316,
          -2.1276026852166243,
          -0.19222660004700398,
          1.9170216391797914,
          -0.34216608754364364,
          2.059840644210425,
          -0.6335493542035646,
          -2.083267940376534,
          0.64298929452265,
          -0.7540738026717791,
          1.6282168398006738,
          -1.476715767160114,
          -1.5772745563580455,
          -0.8360254448512048,
          -0.9626711583846017,
          -0.9851200205775166,
          -2.2199803968822587,
          2.4696068193909486,
          1.1479425130800036,
          0.3417468994491789,
          -1.06319869051988,
          0.42489972553562305,
          1.0128773876077766,
          -0.7392517231403243,
          1.2649967716042452,
          0.05694213353381436,
          3.425745462678645,
          -0.1617467265861638,
          0.19970034454600788,
          1.636232685827624,
          -2.42293571576551,
          -1.654242227971034,
          -0.06296733379016128,
          1.2398165934619396,
          -0.950617725456958,
          2.0103555261896817,
          -2.065862899889382,
          3.0731957088597723,
          -1.3695568211194007,
          -0.7410289174494668,
          2.2455309729561277,
          3.564290898606037,
          3.752943243073616,
          1.4471464944671903,
          -0.0703010662036942,
          2.304207900616782,
          -0.5296166977709434,
          -2.6149660936270314,
          -1.2063485514757948,
          0.6427204672069798,
          0.32796301895182534,
          -1.499508129368393,
          0.0607859982586552,
          -0.9738458828321448,
          2.3259737829712,
          -1.1985069461472442,
          -2.0439799655775186,
          -1.1093967861816914,
          -1.8934338622147724,
          -0.566243400408303,
          -1.759504144415615,
          -1.1221482080388774,
          -1.202658940815879,
          -0.9273099080779872,
          -2.2004639496302385,
          -0.23534347068542705,
          -0.7248072556769266,
          1.1185735769874463,
          1.709205475254073,
          -1.515297721588595,
          -1.7988403658707512,
          1.7373252074539984,
          1.198412961720656,
          -1.1370938073718297,
          0.07439904056569521,
          -2.4340892604935336,
          0.06288237267901714,
          -1.6520402540804338,
          -1.871344947575971,
          -0.7980320288311039,
          -1.2439040177814567,
          2.0787897191780296,
          0.08408789698155608,
          -1.5470074687884752,
          -0.8795841444086956,
          -2.6460413452053215,
          -0.8414448609986885,
          0.006401897559786412,
          -0.6625827560610784,
          -0.7631050567234242,
          0.05032318341848583,
          -2.529728341940471,
          0.8599863764829252,
          1.634433913291026,
          0.28167599753600936,
          0.6058844438471123,
          1.673385661098552,
          -0.13510146816859678,
          -1.6360155280136868,
          0.724894823207891,
          3.8874261452827787,
          -0.8769540810068925,
          0.3329926279983987,
          0.26171323019487325,
          -1.9520541407797938,
          2.561414076781337,
          1.0480662187207124,
          -0.985604960584093,
          1.6579817364470517,
          -1.6321246539391185,
          -2.741618243693291,
          -0.5834238065116016,
          -1.7288708405671815,
          0.9373937600470987,
          -0.9213231248025767,
          -0.4185138722250525,
          -1.5748627410587348,
          -1.5346752267311015,
          0.35613350761600077,
          -1.5943072903560676,
          -0.9439457078674643,
          -1.0747662889188943,
          0.8701851648047033,
          -1.58459180328193,
          -2.4094377270825746,
          3.3536595415332817,
          -1.510955661752982,
          -1.7307934824869702,
          -1.7812419717791246,
          2.317287618677622,
          -0.9671964602970544,
          1.3411061075110122,
          -1.5027853387945898,
          -0.3067141185823045,
          -1.2906952932053803,
          1.1838002374035355,
          -4.369460642728422,
          -0.3682254089556687,
          1.3833918405309196,
          0.1553569499232092,
          -1.7531705148643886,
          -0.7476802662370114,
          -1.6321972388566974,
          1.2942726880297286,
          3.283250745133633,
          -0.7337689928157508,
          -1.0754728203497617,
          -0.514754324151689,
          -1.1290122580282353,
          -0.9992462322952301,
          -1.3038087335182857,
          -3.050111107949763,
          -1.1424412744844419,
          1.2415189199499292,
          -1.8900699655553335,
          -0.6763930709495914,
          0.9029380639000786,
          -1.760529926961791,
          -1.8067922498232625,
          -1.8493680349366834,
          2.357930084498261,
          -2.6903450271204736,
          -1.64468999638221,
          -0.43208798707244556,
          -2.325070990458508,
          1.6991944947570035,
          -1.5959007872994306,
          -0.309048357604982,
          -2.421622055992859,
          -0.29931879702294417,
          -1.43048874239272,
          -0.7524410823234358,
          0.6359945645772029,
          -0.8965759270201004,
          -2.5265300864253986,
          -1.7386719828360437,
          2.0450302953048736,
          -0.7064616869095333,
          -1.398537970269984,
          -1.3787655619330792,
          3.9532137893242587,
          -1.186910795524964,
          -0.46572488126127803,
          -1.485897102732145,
          -1.6212091691588986,
          -0.4371598880619779,
          0.24390967908327865,
          -0.7878425023603126,
          -1.850616817899494,
          -1.6244998684714163,
          -0.36059725899840694,
          1.5043060763732667,
          1.625121589027448,
          -1.1390910802246046,
          -1.0520973226290218,
          0.6024288038498395,
          -1.3213164978892233,
          -1.7188279514574365,
          -1.5336181541935618,
          -2.1338596569424233,
          -0.7332782894414245,
          0.08253221521870072,
          -1.6028005369838676,
          0.9308096913767725,
          -1.9229194570815398,
          1.4609188673260611,
          0.03702709564209873,
          -0.27865837252917497,
          2.86524012473771,
          -1.6876529441258488,
          -0.4721815082694025,
          1.945516260820492,
          1.6304120819090178,
          -1.1751350304054962,
          1.684563512529023,
          -0.6530956509707193,
          0.0020231933178599024,
          -2.3720960373717914,
          -1.862378927120351,
          2.6513570645694964,
          1.0894643857166129,
          -1.9631558192146492,
          0.6352847921084988,
          0.5780423073970823,
          1.3529530378551646,
          -1.645053117460516,
          2.2183739830030427,
          -0.9915976634694438,
          -2.1978225417589026,
          -1.4957440413762955,
          0.48263585299666556,
          -1.3511656280500166,
          2.096621501011661,
          -2.474758181735178,
          -1.4428207216205293,
          -1.5457729596780323,
          1.665577027269813,
          -0.1675614099378089,
          -2.148688695060133,
          0.2123520431441054,
          -1.181252724880957,
          -2.3430904484766835,
          -1.1566101544207652,
          0.9888052934815923,
          -1.6914041581204184,
          0.4429397658858537,
          -2.4550800622399698,
          -0.9993381305780842,
          0.09578127361826728,
          1.9449310088687248,
          -1.3950574684136756,
          -0.3614605038494435,
          -1.6051084685221249,
          -1.0162358777376979,
          1.1554803472863926,
          2.9517518979473176,
          1.1006774654234721,
          -0.007039120129978503,
          -1.1609787920008376,
          -1.010339154486932,
          0.5724807126961352,
          -1.1042924304708583,
          -1.5074795962830163,
          0.15994256425676284,
          -1.0966072682895247,
          -0.5597046129138655,
          -0.7120418353154121,
          3.7850020057685416,
          -1.3932022198763172,
          -2.014614705809832,
          -0.4052372710836404,
          -1.1641925265539832,
          2.489856056336131,
          -2.0907207358636724,
          -1.9240979886394227,
          0.38929150027792897,
          -0.9447836463524174,
          -0.8363912825579717,
          0.6092223551209085,
          3.1687860512889716,
          -0.2563938020582294,
          0.26342835717240937,
          -0.998178718114955,
          -1.4339868772600646,
          -1.1561335336742393,
          0.06205155663175502,
          -1.3538044791523591,
          -1.8581449212642136,
          -0.26818650257167775,
          0.9269146757156281,
          0.8429890868501395,
          -1.659580172703297,
          -0.9556921483692075,
          -0.8162294302830657,
          -1.5528664377309456,
          -1.060994069528131,
          -2.614391521731906,
          -0.0039612185995859354,
          0.5791783222034333,
          0.857307657732981,
          -0.2700318492926247,
          -2.164505500877962,
          -0.06196753344364097,
          3.2052627935972153,
          -0.9791515681944315,
          1.8275718456982193,
          -1.2662800473298534,
          -1.3280836734040546,
          -1.1567694864723106,
          -0.319268608846759,
          -0.08802701328582131,
          -0.6087062012324268,
          1.8148215746153815,
          0.10670169784070455,
          0.38949933939167286,
          -0.8873130007513219,
          1.7041259272989195,
          -0.5645491389248052,
          -1.1469629244396229,
          3.549707900326472,
          -1.5624126512204124,
          -2.003321240230547,
          -1.509581774709395,
          2.075542242212384,
          -0.2774468352949506,
          -0.5891561029506706,
          -2.1418940585105704,
          1.1725664610582778,
          -0.6038425708679847,
          0.3038027655231753,
          1.325457161705372,
          -0.5583018262733275,
          0.6775481148110333,
          -1.842620016970419,
          1.0062672312910532,
          2.043743342365648,
          -1.6758292178805687,
          -3.3634495300354024,
          -2.990646671598061,
          1.5411546275563597,
          -1.7035559543690182,
          -0.37337667080469467,
          2.225955880893211,
          -0.6598906431478947,
          -0.8192878847345563,
          -0.8591226606716826,
          -1.3928729742084516,
          1.5438989315962404,
          2.3353917989881996,
          -0.3710520754003382,
          1.4057042790414305,
          1.2259414886179858,
          -1.5058474060029812,
          1.7700674274278856,
          -1.0346890769678447,
          2.5864415082928045,
          -0.8759982924995645,
          2.2037604959636297,
          -0.21142027521963785,
          -0.9380280333648562,
          -1.2106927059137147,
          -0.9638575599791263,
          3.18609566597171,
          3.821112253277291,
          0.8637281849354491,
          0.7394769893913572,
          0.1532384487404671,
          -1.1438259204540402,
          -2.813618853139055,
          -0.37286339245565325,
          0.994485876024469,
          -2.454283877776027,
          1.4979879839619372,
          2.225371847639067,
          -0.8901362463391689,
          -1.6186012934480958,
          0.2766995726724977,
          2.1529835312140397,
          1.9389023126596685,
          -1.1641049480383807,
          0.7711139255353741,
          -1.3987561620964806,
          -1.1617336070638777,
          0.1598985125734618,
          1.4878259326997745,
          -1.391090862157147,
          2.304537267353604,
          2.4633759891721945,
          -1.0421902443107038,
          -2.284454539942356,
          -0.9815025532218025,
          -0.5093649646776762,
          1.9397893716230197,
          -2.004844734278105,
          -1.5523699938194293,
          -0.7589891805091046,
          0.2213659744214753,
          1.491802264953237,
          -1.3638412988878015,
          3.9102008365260414,
          -0.9962680563363593,
          2.130908223398412,
          -2.653737415567266,
          -0.6530963564805055,
          -1.0136213020459062,
          0.5533599534537783,
          -1.2827820739207079,
          1.9989870528782794,
          -1.1493457261046771,
          -1.3578170750796184,
          2.089295518762777,
          -1.7995189855882168,
          1.566802324901758,
          -1.3421430562078125,
          -1.1193820807551524,
          -1.2022485161265455,
          0.9729347357267458,
          1.202507066386429,
          -2.27206291185126,
          -0.014114079507601454,
          -0.4550937223242172,
          0.15302041227864277,
          -1.1721640091614571,
          -1.114881151544911,
          -2.0145533823242423,
          -2.0921366736399687,
          -2.2429139421680526,
          -1.8353477618264866,
          2.735949718749425,
          0.38855643169345067,
          -2.1061705106142234,
          -1.9139674183766622,
          -0.6342526335888279,
          0.035423441329128315,
          -0.29079503672151585,
          -1.3960789595917271,
          -1.1434803471062835,
          0.05777500545659789,
          -0.1370019797506846,
          0.7610287370866626,
          1.5665476815657131,
          -1.2202940080632045,
          -1.6980610382110375,
          2.249304791017556,
          -2.787919929740425,
          1.1543636712669656,
          -1.0007256891470797,
          0.24534913747096243,
          -0.07069823515377659,
          1.5729321865911334,
          -1.4806744759410444,
          -0.9419342649495238,
          -2.088728801269978,
          -0.6820389113353463,
          -1.4189241577708647,
          -2.221998354897577,
          1.616532636884151,
          -1.5350354627364082,
          1.3566876576087077,
          0.3113597921759371,
          -0.7220150796824052,
          -2.5547945232067404,
          -2.182759692795456,
          1.384387575389373,
          -2.9253769774519327,
          1.0894856054216393,
          -1.157749235614577,
          -1.2955393507688708,
          0.8949776279293508,
          -1.2660003039017578,
          -1.2951613349105857,
          -1.5841824798730342,
          -2.131095855553171,
          2.4061642902005183,
          -1.5826520369586405,
          2.0252664691922044,
          2.1162033444774973,
          2.2401274896779237,
          -1.9700848806913818,
          -0.1377828159397651,
          2.7511086456135097,
          -1.613457490512659,
          -0.14833261956847846,
          -1.606571074204443,
          -1.962536226275862,
          2.2362370675872256,
          1.6615362075704483,
          -1.7883789744075211,
          1.1252708793582742,
          -1.9483581056369323,
          -0.004045539021485577,
          -2.0171523936635976,
          1.245227869357066,
          2.4460256130430333,
          -0.4962185830542767,
          -2.076946904316933,
          -0.3446369896865829,
          0.9840715483619641,
          -1.5104298543521861,
          0.15350790193241898,
          1.3198874747889557,
          -0.19267193358176668,
          1.6709250668145197,
          -1.6168606005685744,
          1.3052860963603348,
          -1.3408354065134158,
          -1.2027756363014082,
          -1.364973238987784,
          -1.7965352135772505,
          -1.022960090598584,
          -0.7702400848497815,
          -0.23878820237352935,
          -0.05491900020927406,
          -0.9161662143031999,
          -1.0338889853587752,
          -2.1360131913120157,
          -0.17229310176457274,
          -0.7675287651655814,
          1.4090691275235823,
          1.4047926985843446,
          1.950942258810946,
          -1.1884265008248116,
          0.36417924610693925,
          0.4339325560186479,
          -0.7342192048115455,
          0.17144414005698475,
          -1.1161420510948592,
          -1.9953059884578723,
          1.403823718870616,
          -1.0813529967454611,
          1.7585148583158547,
          -0.7698231220165109,
          2.046854392699992,
          -1.2193472066663271,
          3.5773656193016095,
          0.2727533093225549,
          -0.07638364017453231,
          0.12050037788800155,
          -0.8595699536896276,
          -1.3664341627623169,
          -0.12656238809424497,
          -2.279217225944992,
          0.8400712228002799,
          -1.3625972736198486,
          1.3937856299050446,
          -0.11526851609234226,
          2.369180511180245,
          0.016391481191093567,
          0.730636430696572,
          0.3571254186922,
          -0.18522226943795594,
          2.933037327532226,
          3.108018743446064,
          -1.204473743415335,
          -1.775708887005402,
          0.39145232397841473,
          -2.4760549964974263,
          -1.3522649455514675,
          -0.26402481371563036,
          -1.518404328481585,
          -2.4753951555494984,
          -1.8341145592858945,
          3.0934733665614256,
          -1.6966865498045134,
          -0.4451794142486913,
          -0.05089770698359064,
          0.14751191105488395,
          -0.030808072010857897,
          -1.3598842360911507,
          -2.2102190096739034,
          0.16957215801854722,
          -1.7762022523930647,
          -1.645854922757599,
          2.9060454485018723,
          1.9742180622098227,
          -1.210032661735433,
          -3.1052616629016185,
          -0.6604681387104374,
          -1.5371097847968413,
          0.543037485906567,
          1.2913488296995468,
          -2.524223033870269,
          -0.6735849902222055,
          2.6196801395314004,
          -2.381044271171257,
          1.197103739379485,
          -2.4977269124086927,
          -1.6140520391636397,
          2.2646326373568417,
          1.358546134255734,
          -0.8143315450255427,
          1.5747663774784655,
          2.5332529712607417,
          -0.18911389348198945,
          -0.7754926717446843,
          -0.6793631182277903,
          -1.7484252677589887,
          -1.3392789515474364,
          0.6701137667776305,
          -0.9293795563950987,
          0.22593347704067893,
          -0.13543295361211496,
          -1.921216219123737,
          2.4072032540389143,
          0.8949757490777906,
          -2.4000746450711263,
          0.022590894482921103,
          0.44426995548691145,
          0.40515174229326206,
          -0.3430393702820404,
          -0.10173294270217274,
          -0.2518889453504135,
          -0.6168864599805509,
          0.41740905196608474,
          -0.965868876294296,
          -0.25340710024238733,
          0.7577453969804547,
          -1.9225575868162696,
          -0.6852965838948634,
          -1.4323945512614134,
          -1.1818045810372657,
          0.9147621561090539,
          -0.3485882381005028,
          1.0929923857918342,
          -2.12100177117276,
          1.816714394375561,
          2.8092066242777416,
          -0.7188285413054866,
          -0.1547568034451821,
          -0.4788955327661811,
          0.21814781802683114,
          0.13436376117465126,
          -0.3906828127796368,
          -0.49167495557008767,
          0.02009415479375428,
          -2.995444646476848,
          0.3808579503208288,
          -2.2526246159674965,
          -0.28871234979876925,
          -1.1032417369046572,
          1.194022758569789,
          2.797851614137123,
          -1.4238242522491613,
          -0.45156767427158323,
          -0.6676113531774531,
          -0.32354131447528983,
          -2.6510069964117364,
          -1.1334648470845126,
          -0.5733775337506943,
          -1.2220657817466978,
          1.7410671476255355,
          2.77000295130682,
          0.37212939158590835,
          -1.0926302187750663,
          2.26734621974057,
          -1.1616016455271203,
          -0.9231183150078767,
          -1.0671503452538504,
          -1.091681677502345,
          1.0426818747726811,
          -0.6741045660427949,
          0.9413739817029543,
          -1.0648142142788295,
          -1.3399685644892134,
          -1.20100710790082,
          -0.23462747477029888,
          -0.396344159753269,
          -0.19309449350692579,
          -0.03144290242873303,
          -2.5617433387582205,
          2.2657483240323355,
          0.917873166607319,
          1.1771925212408074,
          3.6722246628724995,
          -0.3007104807960965,
          -0.25401139637081926,
          2.114468408532333,
          1.6067753698775367,
          0.8516521663195191,
          2.384241871414576,
          2.721818314795059,
          -1.4197111634028847,
          -1.3979275618466045,
          2.7536900418348047,
          1.885181564048138,
          2.1109576417245024,
          1.6342720829066202,
          0.22795678129795544,
          3.6185844148709845,
          0.4342568688162424,
          -2.0458662521565025,
          0.9611843539593125,
          0.3169077908145353,
          1.8556488599747074,
          0.023760660386179886,
          -0.7444851933801474,
          -0.6263030835779683,
          0.08807465097164077,
          -1.4840821668868223,
          1.9410655132246464,
          -1.4441306996437278,
          -1.6179050235716277,
          3.4417861816709365,
          1.3558405113446605,
          0.1450088407596122,
          0.36396255164996266,
          2.9454366281997832,
          -2.0286930761328072,
          2.151762184914924,
          -1.9071523753044954,
          0.13458581371619105,
          2.485501051057212,
          2.990763465948627,
          -0.187648738783289,
          2.733157335884939,
          3.9871452604089646,
          0.6756119909962999,
          0.20184133900116732,
          2.4613803233383598,
          1.5680492075944392,
          0.9210168408969743,
          1.5595808904248927,
          -0.8959307301210715,
          -1.924473092295258,
          1.0832892663525815,
          1.2423870032087134,
          1.2980824822463168,
          2.082611461908755,
          -0.7328958056787277,
          0.9694572254949301,
          0.2149001622432255,
          -2.378350154074769,
          2.098480084707843,
          0.6917675278150398,
          -0.17555440457313087,
          1.645981899708085,
          0.7750469024952773,
          -1.379601859336054,
          2.253585761853788,
          1.2981565858154387,
          1.5495489072304827,
          -0.59357585698325,
          0.5911648853148642,
          -1.1642440408743804,
          1.709246899119911,
          1.0401870617211926,
          -1.3700061737059712,
          -1.8907172671932762,
          -0.8554040294616145,
          1.2415797459877398,
          4.772896025738377,
          0.1700540883799975,
          -0.8249642152500202,
          -0.16756188447355178,
          -0.6323161794115182,
          2.714018851757601,
          0.5349248741779915,
          -0.27209946257867457,
          0.47184422427020406,
          -0.3833639445798002,
          1.2358129507422158,
          1.9731828768886095,
          0.7827497989069465,
          -1.3058921668559467,
          2.841454561587467,
          2.2782199584487817,
          -0.03395907216050797,
          -0.8151650498805217,
          -0.2711116717748512,
          0.00972705529701909,
          -0.22804282518540994,
          1.7263546548161752,
          -0.28346373043580825,
          0.32285748563531064,
          3.311195777069453,
          1.5037313775395733,
          1.1598684550626124,
          -0.5736394133169681,
          0.5872667291050339,
          2.2124336755563943,
          -1.1218667309146273,
          0.01670879687649354,
          -0.6591833735960473,
          -0.15030097151640576,
          0.6454131533725427,
          3.8169221157013653,
          1.3480351125138612,
          1.3794352932878702,
          -0.772983491863909,
          -0.9355652615535502,
          1.9867362505713386,
          3.326342515667586,
          -1.212077578217505,
          2.5463325485126935,
          3.541774088741499,
          0.5614170829574239,
          -0.45963558888177347,
          3.021407478794253,
          1.0754881218873018,
          1.366248919879875,
          -1.3384561442824927,
          0.6387626338015419,
          1.0168290965842417,
          0.053157402715131835,
          0.3101904571667946,
          -1.8834256125862874,
          1.4288559614295373,
          -0.2686014963883456,
          -1.1918601171767025,
          0.4645656344158504,
          1.3631610261199423,
          -0.5938713001768201,
          2.3870514306035937,
          0.2897181894521784,
          -0.5805335206621608,
          -0.3090329517473115,
          -1.557307838778807,
          2.3071546823921807,
          1.1726661598013952,
          3.4230464169256405,
          1.6494031426883893,
          0.39179312095847046,
          1.3494345225218984,
          1.9187278691799763,
          3.402855615125168,
          0.15164884113472205,
          0.713353634907445,
          -0.9652315146220959,
          1.825793742671618,
          3.4244992650100117,
          -0.3619370022443262,
          0.4503982926235362,
          1.303598593029485,
          2.5019984055943927,
          2.9531649710194503,
          1.1189308402656937,
          3.4280201555477503,
          3.006332199002347,
          -2.094764171144019,
          0.903881138474369,
          -0.4262745134567702,
          -0.7315892674562707,
          -1.4461287360656285,
          3.9575215338505734,
          -0.31382289408109687,
          2.3189354464702685,
          0.08383463998950329,
          -0.8755425503007758,
          -0.9880763044585719,
          0.6089192078790636,
          1.4543483875354122,
          -0.6090535539668638,
          1.4796119369859184,
          0.15607056201466313,
          1.5677971088072162,
          0.7223608150661971,
          0.7836900743777673,
          0.8187197374674171,
          3.862613622631286,
          -1.6174326357315367,
          0.8609354178950814,
          -0.5619373330159718,
          -0.23031010056992549,
          2.9031550438127214,
          0.5914665243897165,
          -0.03397110738420085,
          -1.9942511968360481,
          -0.6555306599132881,
          2.383614429900747,
          -2.1095828919902773,
          3.4387588537918354,
          -0.5019634695622405,
          -0.42560855937145003,
          -1.0874299526886788,
          1.6818100237096212,
          -1.657898134691502,
          -0.16034824242648735,
          -1.0497493837886742,
          0.455417532074407,
          0.016527781018274037,
          0.3271555467093785,
          -0.8417978803989523,
          1.0787536306630905,
          -1.4948990528913906,
          1.8812645930383074,
          -1.6459828113652692,
          1.4671672373778706,
          -0.8327340596763453,
          -1.595328037813542,
          -1.4598865564131478,
          2.7624875053841205,
          -0.3590792259158478,
          0.307475771652615,
          -0.7807821563304282,
          -3.1246751861875435,
          0.22075737142628107,
          -0.2376940660539184,
          1.289943295420514,
          -2.1506690693619994,
          -0.7409157899511554,
          2.2827296572162274,
          1.7422930743772962,
          -1.0139992137931277,
          -1.1993136764184353,
          -2.427404008502336,
          1.4373892678958922,
          1.6675821130281867,
          -1.5814053888886221,
          0.3041598589960413,
          -0.7932656929719126,
          -0.7850994784921647,
          1.4354240053451504,
          2.285792772623894,
          0.00969478355597783,
          1.5330424500516444,
          -0.45029666007278646,
          0.0008637264974136457,
          1.6049444869442224,
          2.6297840978687126,
          -1.7253025142807823,
          -0.6187069388308784,
          0.9088852085016285,
          -1.2609057873102534,
          -0.6599807203267108,
          3.407221691625127,
          -1.0892847379542208,
          -1.4890530274248932,
          -0.676196955378494,
          -1.9084359309562064,
          1.2908902037251906,
          -1.2750519317956535,
          -1.2775682022187331,
          -1.4247281084321464,
          -0.46264713267431057,
          -0.5908273402633273,
          0.697252889521719,
          0.029250562187366467,
          -0.34918026804099134,
          -1.938176534424728,
          0.4333670009916297,
          0.18745380002406004,
          -0.3235961001305541,
          1.1134789963812055,
          -1.0369017467507031,
          -1.5974008363070318,
          0.19120414622527196,
          0.3031199209296409,
          -1.4559592094610103,
          -0.6199981118611465,
          -0.8722234999965701,
          0.9004459469460866,
          -1.6247038645067902,
          -1.062006766067532,
          -2.275562923799129,
          -2.440208699056778,
          2.5771460914554236,
          1.0270205742712069,
          0.20605160608780765,
          -2.580697881804783,
          -0.5712340927903745,
          3.280929534515111,
          -1.56377376981574,
          1.220929319259294,
          0.4840511998847959,
          -0.5282922835012807,
          -1.1307183422703497,
          -0.9269091463581627,
          -0.6185777612959636,
          -1.149984982086224,
          1.8173240864048206,
          -1.3749198539938685,
          -1.6520903601109054,
          -1.298650265541917,
          -1.2975890657804807,
          0.305825696621865,
          -1.346261270033083,
          -1.7470041523344146,
          -0.3049435064296676,
          -1.9671375499371748,
          2.227594784431965,
          -2.092828407330095,
          -0.4916305036083028,
          4.5438658192561485,
          -0.13542140882376333,
          1.4837110021992082,
          -1.9735855077767466,
          0.6485445278211159,
          2.8159472142033892,
          -0.8837272355087549,
          -2.048407142379379,
          -0.36430759815659064,
          -1.9337969338970673,
          1.8965023833021206,
          -2.5289534773402695,
          1.0537655108575033,
          -2.2777363315040553,
          0.0766234317902809,
          3.3988083414723427,
          0.2599989684358205,
          -0.4061830783490438,
          1.6538884585059395,
          -1.5352700450358148,
          -1.935635336090489,
          -1.851020495670527,
          3.1195772507639963,
          -0.15782068814566666,
          -2.0431071289693947,
          -1.7025008051995114,
          -1.692635719247915,
          0.44368108673314155,
          0.9414181813994786,
          -1.8390780976763652,
          -0.45610670469487674,
          -0.6339026897236296,
          0.4091140281318522,
          -1.520411962751022,
          -1.237551602634084,
          -0.8241107478989342,
          -1.1426086313378294,
          -0.3680027840662691,
          -0.09992803362028971,
          -0.5132760876552773,
          -0.37727432781761133,
          -2.110501275718403,
          0.10317402358200262,
          0.37386682921566905,
          -0.24639969833325331,
          -1.6359726508062993,
          -1.9063700998743036,
          -1.4643646417374774,
          0.3289243545603325,
          1.226772484184075,
          -1.7557167467884178,
          -0.17701656825312057,
          -1.3226891081527246,
          -1.2996594708119202,
          -1.799942399424721,
          -2.1238399216828494,
          2.1105336428880213,
          0.27656648050448895,
          -0.11197990424607639,
          1.8239885435093157,
          -0.9448207406779576,
          2.9017839666393797,
          -1.2961319426863085,
          -1.0547713227993436,
          -1.9432456271142604,
          -0.842455123811602,
          0.7642415538626467,
          -0.8031613421822639,
          1.8413606419837796,
          -1.5722588282605572,
          -2.3789490605897785,
          -2.0466975977969133,
          0.3381033586442964,
          1.1000812193623757,
          -1.1164607278804333,
          -1.7724206424667641,
          -1.831017522025015,
          -0.42590107425766555,
          -0.731278864711932,
          2.4093522657847877,
          2.1607557427301254,
          -0.5813772934017873,
          0.2624334724733038,
          1.0963821494114607,
          -0.28534639724735056,
          -2.6987369586835435,
          1.1044847326142342,
          -1.7038199518381592,
          0.13380518144021888,
          3.200962633440459,
          -0.4369905009242588,
          -1.582559473312636,
          -0.29778775623982734,
          1.4606956467340282,
          1.3584811570104267,
          0.3034197520525061,
          -0.3474503154422101,
          2.703216557690604,
          4.193808522800386,
          -2.3708436093678054,
          -1.6841768505106602,
          -1.3386178296763795,
          1.07305922935045,
          0.40170487088230544,
          1.3177895015223495,
          -0.5659892029206667,
          -0.335998874706864,
          -1.5337953270774078,
          0.6898892475567593,
          3.0848093131200494,
          -0.04365044388391599,
          0.9057953513995506,
          -1.92005627313983,
          -2.1454552240705387,
          0.15286627761123417,
          3.0169581731991357,
          -0.8592572205898961,
          1.0060557176727147,
          0.5600336492453419,
          -0.3858666345839739,
          -2.374065270990349,
          -2.368270756759438,
          -2.9297355475687823,
          -0.01615028164378745,
          -0.6099699698766244,
          2.5242900209945485,
          -1.2386725297492396,
          0.24034586332089136,
          -0.7520570770740354,
          -0.4216856020598375,
          -1.3658693831850877,
          -2.091552861619198,
          -1.4705239423270888,
          -1.0848104305268584,
          -1.9394418443923325,
          -1.2583795014474088,
          -0.7653043457422599,
          -1.9309619722346578,
          0.6986003366429964,
          2.726649798251156,
          -0.31312696085423397,
          -2.7237183614350884,
          0.3187302889513948,
          0.6722560789881611,
          -1.108892226669196,
          -0.2922003470792997,
          5.507589306145193,
          -1.629008893526206,
          -1.8701676613058082,
          -1.283930102954854,
          -1.6626082942202385,
          -1.3424876504850047,
          4.209876693600222,
          -1.297820706435071,
          -2.007915554436769,
          -1.722447905208039,
          0.8947630357971383,
          -1.28104236911488,
          2.4886666478676323,
          -1.8293784831943678,
          -0.5211568622893757,
          -0.3000967275418036,
          -0.027930810717352896,
          1.0689876485574903,
          -1.408244357987777,
          -1.1080096165229603,
          -1.816363228956544,
          0.8241489393198447,
          -2.7967077484944958,
          0.7393843330773563,
          -1.7474378791183143,
          -0.0060959854484608725,
          1.4081671509833342,
          -1.4645810443684293,
          3.0467644808940855,
          0.31614473665182496,
          0.32909226421120724,
          -2.566716020953027,
          1.5856943157920942,
          -2.0715111427100488,
          -2.4914278373134717,
          -1.4203324922354363,
          -0.18560461504563427,
          -0.5507159839556834,
          -1.0724936452222116,
          1.1613102771500956,
          -1.8800686990538562,
          -0.07456111212183307,
          3.32740399313909,
          -1.5840558315637505,
          2.81943991149541,
          -1.0444176744965386,
          4.211641947391198,
          1.0794229629262222,
          -0.11882989336896004,
          0.39085037173945836,
          -1.936936866524656,
          -0.623209668983241,
          -2.092267314127224,
          -2.303563115923987,
          1.959725686332829,
          0.18098067696632142,
          -1.013172973534723,
          1.229385493599227,
          -1.7209860449165868,
          -1.7966358233029702,
          0.6732560656650869,
          -1.8199472031325132,
          0.6396271459972275,
          1.625808084770263,
          2.038917415256432,
          0.2880784997696898,
          -0.7146799305523617,
          -0.24288450949241314,
          -0.6356688694049996,
          2.870085345060919,
          -0.6683960640125695,
          -0.6979451654322426,
          1.9890087688980516,
          -1.0777065342189138,
          4.444226004700194,
          -1.45889287384611,
          0.26010634111676006,
          1.20429567718467,
          -0.7840118571613054,
          0.4912397733924225,
          2.3849556675193697,
          -1.6150175775575835,
          -1.0520266440846122,
          4.325744501011276,
          1.5371491956518566,
          -1.44551205968603,
          -0.4440226509814985,
          -0.6301388236803466,
          -1.0678869308280308,
          -1.5589477754061045,
          -2.0998324183115136,
          -0.4408834464371646,
          2.646962187295545,
          4.9917452643618,
          -1.7957015486810264,
          -0.8667009069374126,
          2.545174670505532,
          2.768907511410394,
          -1.5954226861734957,
          1.2964600389514402,
          -2.0015726570649326,
          -1.5473180046615664,
          -1.7575820876792678,
          -2.541038685644725,
          2.143929214745143,
          -2.067992555920221,
          -0.13406997540005272,
          -0.682241241868491,
          0.2696416432509026,
          -0.25672359660606914,
          2.5016877145360907,
          -0.7486338746980845,
          3.378247388505976,
          -1.9766713638947113,
          4.433105675272269,
          -0.5272094646090429,
          -1.8314983455204634,
          1.6989598681314306,
          -0.7220517275746059,
          -2.194661701655753,
          0.674444775046363,
          -0.8117280434794426,
          1.9936812635032002,
          -0.16642050595687824,
          -0.6524547723215518,
          -1.5143636525055204,
          3.236633295215646,
          1.8289107503821023,
          -1.8873175360184764,
          -1.6781137998876556,
          2.326113659700758,
          -1.8297782784862004,
          1.0148985980785592,
          -0.2727620110073361,
          -1.0518679515018852,
          -1.417583233538086,
          4.396190266311064,
          1.6695256601732495,
          1.92063648734312,
          -1.9146874267385687,
          0.3083398224283213,
          -2.4347001458802473,
          2.36253796277895,
          -0.03567729691079251,
          -1.1911045008212915,
          1.8924721441794163,
          -1.4085492547910543,
          1.6638226458621581,
          -0.7205931514441818,
          -0.38706890273335454,
          4.677383739653717,
          -0.6787068598758528,
          1.8353053949135938,
          -1.5709026987888424,
          3.804860830783613,
          -1.5010370007880147,
          1.7717418875615412,
          4.06522964295652,
          -2.5427554060831965,
          -1.6359421931400442,
          -2.028998208329153,
          -0.04944746762362072,
          0.5630949578020027,
          -0.6892278591526414,
          -0.7454245278925334,
          -1.6776903248710553,
          -1.0266173887318317,
          -0.8330271503491914,
          -0.22531108208828168,
          0.6759477437271612,
          -1.7348256716482442,
          -0.7826372986213115,
          -1.3896234832941698,
          -1.4248361984972298,
          -0.2643840945629464,
          1.5528480653708252,
          -0.45094583424407825,
          2.0127838425204008,
          0.511489392657732,
          1.3197270498769318,
          0.25478842162432536,
          -2.2607843257456013,
          -0.27816278961413426,
          -0.30077262043525366,
          0.8129773650443827,
          -0.7008182669593223,
          -1.0350733771983744,
          -0.5407795227155161,
          0.7262096258169631,
          3.203710157225555,
          2.069221725928679,
          -0.5718679080053518,
          -0.941871310523677,
          1.1838961071901102,
          2.3824089348753295,
          -0.31216432524624027,
          0.26241099920048777,
          1.9123333278057004,
          1.4321133281537493,
          0.4667918395400345,
          -0.8819003564609131,
          -0.7359566504241434,
          -1.5412653354828016,
          1.3200484292156338,
          2.500427728298404,
          -0.9014406603914455,
          -0.6188641802732767,
          0.5556730308455734,
          0.4031684905069643,
          -1.6561136126406582,
          -1.1633944891189274,
          -0.9789205009879536,
          -0.8819100182937452,
          0.37601355569800743,
          1.128859853646518,
          -0.0207055589682005,
          -0.9295701008778918,
          -1.2679188382450937,
          2.6681378492140975,
          2.2226909896933496,
          -0.7549278838378533,
          0.1643451930032634,
          -0.3644299713073244,
          -0.3802745446651496,
          -0.41415178959471016,
          1.431714444416357,
          0.7731019110230032,
          -0.1635281468978776,
          -1.4081246437502553,
          0.6129833226089749,
          -2.77261660826335,
          -1.2164338811836755,
          1.7869728096794397,
          -2.1814369197081453,
          -1.1790750160990546,
          0.25856409730849395,
          -0.5081188248375003,
          -1.2142569854747947,
          0.06177096743298139,
          -2.2616270483763063,
          -1.376153386487088,
          2.0042694293521723,
          -1.3961542296519194,
          1.7014803511719945,
          0.7489263406157766,
          0.005778340917137484,
          -0.1906857728379864,
          -0.37332961478874627,
          0.4109748628977072,
          -0.5057651865969828,
          2.3621067880705704,
          -1.706817468268464,
          -0.06974218924797983,
          2.7020207985524514,
          -0.35389900439047134,
          3.366006438867303,
          -0.135638993305894,
          -0.8756519384323191,
          -2.2489656796299915,
          0.40783048737712413,
          0.9589953623524401,
          0.4525724372902645,
          0.8897347517231716,
          -2.098458538418718,
          0.2019845331371927,
          -1.1044421480055748,
          -1.2530719765620941,
          2.4047506608894826,
          0.9408226271285769,
          -1.6205821095747768,
          0.732764490426392,
          -1.9509575461640898,
          -1.4063323066646949,
          -0.6858487244750575,
          0.3243163777623872,
          -0.8634441699925474,
          0.0055230834904879894,
          0.5739913237626108,
          -1.2010184694203436,
          0.4106469909429362,
          -0.05896241564955918,
          -1.1447705348923012,
          -1.0374231203234636,
          -1.3351164426911308,
          -0.30853812626594623,
          0.08190767949269152,
          1.1481948281578938,
          -0.4844743651383034,
          -0.9064371345609866,
          1.301105631877076,
          -2.3305397429483468,
          2.3712624169469616,
          -1.7159332180153561,
          3.011804991920211,
          0.8289010428607111,
          -1.1741143744362594,
          -0.3814977953219939,
          -1.8107025590963715,
          -0.10758603302712279,
          -2.18186937027706,
          -1.644147416757962,
          -0.40358319424485767,
          -0.1757650512558307,
          0.38773368092592,
          -0.5684778498121281,
          0.03882388114170391,
          3.6248745429761517,
          -0.9769852113854028,
          -1.0844165343945444,
          -1.166505721864156,
          0.2510457427843506,
          -2.7601684089863294,
          -0.8524540653238531,
          -0.008592012600423726,
          2.1433861964059195,
          -0.9269403696437739,
          0.5001771027230532,
          3.570583716418675,
          1.573956588032431,
          3.0015151045969546,
          -0.8819053976107947,
          -0.511730319662059,
          -1.02029430016282,
          -0.5296052400268505,
          -1.555502691501268,
          0.05958731356736003,
          0.4543844490610695,
          -1.7316011251982766,
          0.5275276188464153,
          1.5836117462414478,
          1.077582027193534,
          -1.892919423738194,
          2.008061425475466,
          -2.1401851415541246,
          0.36680481115541946,
          1.0242331561893043,
          -2.033023853232884,
          -1.4092475721336684,
          0.7111601065324129,
          1.3599808307888333,
          0.12883913571922886,
          0.35828621619142,
          1.1134152997047146,
          -0.28812597458347255,
          -2.230430510143417,
          0.9045996408135651,
          0.8558284610118928,
          0.22266742325981684,
          1.4580065366984536,
          -1.0047084309725236,
          1.6158649222199102,
          0.23188063967240008,
          0.30475212814562846,
          1.969909266265148,
          -0.5720200636948098,
          -0.23981594617992394,
          0.7800902490929867,
          -1.473457651137034,
          0.02158436566907044,
          -0.870613016134618,
          -0.38333548435066656,
          2.4291702909273036,
          1.7792383898945923,
          -0.46358860879503083,
          -1.06834546022598,
          -0.1274550350927798,
          -1.8658007888226984,
          0.9490671307125257,
          1.076959532484569,
          -0.013301078031021365,
          1.026183720804687,
          0.37512259174822676,
          -1.0339267778090955,
          0.3904670606422091,
          -0.08185544135404534,
          3.4506518604140632,
          2.688565510421762,
          0.8304840337685996,
          -0.7122943144729432,
          -0.08908929828178694,
          -2.286316707117542,
          0.6544091667083402,
          1.4638357418708332,
          0.9107623827638819,
          -0.3701715398178302,
          -0.15285052803861374,
          -0.40835612320262715,
          -1.749443198837929,
          -1.1611906811705461,
          0.8647847434447862,
          -1.4353779041118695,
          1.1426352826250716,
          -1.531520067465336,
          -2.1516054678557,
          -0.31742618908086806,
          0.23696784258518883,
          -1.4119401854768372,
          1.5709654641388624,
          -1.350250713914853,
          -0.003963389517737226,
          -1.6322790418378907,
          -1.5648508689302267,
          1.2809299781607753,
          1.1503772232592262,
          1.3889983097380225,
          -0.6034376793287807,
          2.529300715812568,
          -2.3053429138180457,
          2.201182511694749,
          0.9511017271907017,
          0.5391219009745929,
          -2.356386735825001,
          0.0622301469275681,
          2.1998201638904633,
          0.41741711332700876,
          -1.0160906673077241,
          -1.2838750451834007,
          0.10645360942485146,
          2.086168304609945,
          -0.4184459101924477,
          0.9139199267019773,
          2.2019430762776726,
          1.7406468338532588,
          -1.7721388312098232,
          0.27566659642455354,
          -1.467961544814496,
          2.371682230606679,
          -0.13438188546344523,
          2.2963447649477664,
          -0.27009416352227633,
          3.7542234134117556,
          2.594534007946664,
          0.003942510231805498,
          -0.6262314486067927,
          0.6778922426419796,
          -1.6168747001655686,
          1.1895100360834623,
          -1.2841393636218128,
          2.644656968091738,
          1.0438018148145662,
          -0.03819392814743874,
          1.1598281708744707,
          -2.144644819776797,
          -1.5688511886641672,
          -0.05226215439670456,
          1.4255100758117376,
          0.8508537602195262,
          1.1864058021570232,
          1.7902696055341332,
          1.7067949466549148,
          -2.158244518683156,
          0.3071663512602462,
          0.7547733921953775,
          2.113516784382449,
          -0.5755507164009419,
          -2.2878482309324513,
          -0.13102942795081832,
          2.147856286907998,
          -1.8950982095021407,
          0.7632575085202422,
          -0.6490421330329694,
          -1.6533693285963265,
          -1.6522252804976372,
          3.5907323404957587,
          -2.1513765431744942,
          1.5808391869729985,
          0.6431479107149822,
          -1.340463910776336,
          -1.7155132104650517,
          -0.7036157637074749,
          2.18976447079086,
          4.073088207158344,
          -0.7315352947524894,
          2.058384787612531,
          1.2837735831864074,
          -1.9572657733333658,
          -1.3167843887083182,
          -2.2410250294352685,
          0.6122733490429418,
          0.1770169074771796,
          2.0996191098074357,
          1.6389830095306739,
          0.09449611916923066,
          -0.45153477346841997,
          -0.25758524810888894,
          2.9056667122061928,
          -1.8852222333621762,
          -1.428307121019193,
          -1.959503648957555,
          0.3044955735973834,
          2.409901905896299,
          2.593430349969733,
          -2.0489842985208297,
          2.9043245943228726,
          0.24136992507879512,
          0.8871546548098254,
          -3.0752542559498854,
          -0.8179727341077242,
          -1.29518285747301,
          0.9629145709323139,
          -0.9293710674872723,
          -2.1082734396329226,
          0.8128729819104026,
          -1.4081682469459862,
          4.231900751081581,
          -0.43532231379603814,
          -1.5281498289967943,
          0.6332825846112838,
          0.5149113395118976,
          3.3179912920961105,
          -0.054488284318751405,
          3.8257502080862076,
          2.913933277816227,
          0.5173147268855146,
          -0.8537851839172614,
          1.2889136523273739,
          0.5899649874060098,
          0.9262855178920499,
          1.2810210355150025,
          -1.3442816655428422,
          -0.5845830493057927,
          0.5548152541913138,
          -0.7950323716092762,
          -2.0613842975185226,
          -1.6767038160849257,
          -0.4323792635409728,
          -0.6878584595906351,
          2.660138404761889,
          -2.1707515177881027,
          0.4262905005152846,
          -1.8275845141526295,
          -0.7247350587266469,
          0.986851498339028,
          2.086027418224396,
          -3.013503761433881,
          2.8831789258027993,
          -1.1707495797633853,
          2.631686140736281,
          1.1738938648261306,
          2.0653142487489977,
          0.30648931609542496,
          1.3491623435424585,
          -0.026569464923494997,
          2.451162654254257,
          -1.3424143754323874,
          0.6536633885466163,
          -1.948132967915203,
          0.01879147398611009,
          -1.125387942852978,
          -1.7378861444052844,
          -1.2308201415307989,
          -1.7456750533622993,
          0.4808443317018968,
          -0.6695573808610105,
          3.7049203478321022,
          0.06621457665518712,
          2.3349949275899573,
          -0.8710045768978649,
          -1.0696676830719558,
          -2.038276864580722,
          -0.06476971109679343,
          1.0085542852628024,
          -3.2809694830544647,
          3.7555464553598403,
          -1.9956722106248257,
          -1.054017508505687,
          1.4379677247243454,
          -2.3627286434715784,
          -2.993833567980783,
          -0.1456255546071531,
          -1.604950576463727,
          1.920411836092963,
          3.088605830817829,
          1.7522780523721138,
          0.9113896467794143,
          -0.04617432707961584,
          -0.009527295376500522,
          3.889758329771648,
          1.0338690851477046,
          -0.6643153289708701,
          4.424177546686419,
          -1.1825228510474846,
          2.9461597719070984,
          2.8970028320132766,
          0.13750991742524174,
          -0.37612245480219,
          1.287204136760157,
          1.7750583736064216,
          -1.7429256970751112,
          -0.07427044534517871,
          -0.4504962970723312,
          -0.7227797053865023,
          3.1632541206669877,
          -2.099990492545976,
          0.32815318940681415,
          0.5071211349459138,
          -0.8118076803428621,
          2.9625727828132744,
          1.6716748215083737,
          1.963111509008712,
          -0.5073748026808128,
          0.9323437669823688,
          2.372439249071798,
          4.1294932943012705,
          0.10779673489493653,
          0.02123600870174765,
          0.8008780574671148,
          -1.3224030051800442,
          0.222808641804192,
          0.08172828739384373,
          1.3195420057380924,
          0.8915258650331761,
          1.1671200748259356,
          -1.8011436370730083,
          2.9905256873860955,
          -1.3040290647386166,
          2.0465261703373177,
          0.216535475879561,
          -0.48478342031576094,
          2.919292369630272,
          -0.13878058303035104,
          2.8771817106507007,
          0.9741548393831219,
          1.5961406916066028,
          2.699188969304267,
          2.367813158786305,
          0.312599424172093,
          1.2834517763750724,
          2.0243674919179178,
          1.4208249823799082,
          -0.5075211278041395,
          -1.6546395282434785,
          2.001637379211924,
          0.5621316194742934,
          3.4056955692861592,
          -1.2451856862279964,
          0.6393940668486628,
          -0.27278321847559694,
          0.753506979790616,
          2.002116255141071,
          0.06574856731472362,
          2.3788152199521466,
          0.40131179663843763,
          1.0541888330054172,
          -0.49449863904106817,
          0.7074688823853282,
          -1.8476087161541173,
          1.3962141318189745,
          0.40780499882159865,
          1.3514269368857,
          1.4150683278976381,
          1.8068600359301237,
          0.1389891091948028,
          0.04704033561223218,
          -0.10617224036223277,
          -0.7724194860892251,
          2.8706597073621585,
          -0.6113014309915555,
          -0.3833723684633653,
          0.5642731960730847,
          -0.5360041079419027,
          0.09855826788142862,
          0.5046452930894498,
          2.1425327559540577,
          1.2242281508448034,
          1.2224297316191444,
          2.747004405328307,
          -0.7370877416749816,
          -0.6404704363100272,
          -1.3763876571035758,
          0.1121495717045217,
          1.4556650302500052,
          0.8461299507678053,
          0.5496990471907304,
          1.239457522777909,
          4.404941732335087,
          0.7374695160822573,
          -0.03554728510362675,
          -0.9971290997689753,
          -1.9441092722221684,
          -0.29387254641095095,
          -0.2696480600375359,
          1.6948119224120242,
          0.9415483536293157,
          0.151689012625193,
          0.5373969424616443,
          2.8518533879359462,
          0.9080309603521121,
          0.22608949198766695,
          -1.765670567656214,
          -0.12476493380564684,
          0.00739349222517621,
          0.9920777984997217,
          0.002772978044814969,
          0.2625313295592224,
          -1.9327143313636421,
          2.8486467152612023,
          -0.8477321569204546,
          2.9997657560766577,
          -1.9890849984786843,
          1.098655630929722,
          1.12503221672908,
          1.837025656576759,
          0.8026205672117765,
          1.156875585873474,
          4.555666288235934,
          -0.23551109847114035,
          -1.4192254593516067,
          -0.009589253517618539,
          -0.7076754038618528,
          0.6610166982727983,
          0.7300020912413836,
          1.0552026078712629,
          0.1704866017695159,
          0.7890236776212557,
          0.5436138522436929,
          0.5616066674121604,
          0.469663766780574,
          0.3043561024861838,
          2.6489263953169373,
          -0.47742290829192957,
          -1.2506994280636061,
          4.723916434246773,
          -1.379336967289694,
          0.5154806699715729,
          0.8205379113997434,
          -1.5916901171143254,
          0.5357569499089203,
          1.7103916573410611,
          -0.3419728488322839,
          -0.7564430284149293,
          2.0437508599599106,
          4.899453296904569,
          1.7402526931509283,
          -0.5185819772999799,
          -0.7687938689581068,
          1.5624796864750654,
          0.7239353499685685
         ],
         "xaxis": "x",
         "y": [
          -0.8599077952941798,
          -0.29865590379422435,
          0.01151297257859253,
          2.218872381485063,
          -0.49176683328361,
          0.5305287780380417,
          -0.6387657931696666,
          2.1358454817054184,
          2.4179844397104016,
          -1.472337929504764,
          -0.6245648456581677,
          -0.43803824344075876,
          0.16935444685614942,
          1.6298762297557243,
          -0.6304477058534091,
          0.6641430381744848,
          0.8940219089996762,
          1.851528346171159,
          1.1823937060512968,
          -1.2572297034060003,
          2.409333065498769,
          0.2682860523535401,
          -0.7699870556296052,
          0.875482868911834,
          -0.32800382903415426,
          0.6054308996888607,
          0.5694806698142896,
          -1.7340261765758676,
          1.0024248376040075,
          -0.13094780705959283,
          0.6265061490892669,
          0.264532067084659,
          -0.39475932524799423,
          -2.379085029757372,
          0.09581844705440888,
          -1.3620847234838287,
          2.0628784979297228,
          2.551712789657772,
          0.46954498431426567,
          -0.5583378120946372,
          -0.9683332058847995,
          0.2845998071201721,
          1.1883528437156639,
          1.9399714299431023,
          -0.006571721196481767,
          2.2326060078154515,
          -2.493853439810913,
          1.2287275959037933,
          -0.5536469317477895,
          0.6998180280840478,
          0.014874059325003002,
          2.041831388440389,
          -0.39459517176748066,
          2.693425501457869,
          1.6953590407949612,
          -0.17781603316385952,
          0.45139124916488016,
          1.199701920978919,
          -0.5598296459003526,
          1.0036201201915924,
          -0.6652874831952338,
          -0.30531184893836266,
          -0.904761309488576,
          -0.7111160058573303,
          0.18747728591966467,
          -0.7394593344103702,
          -1.3252196884234344,
          -1.4444609947717029,
          2.2735353414371344,
          -0.2479525652804097,
          -0.5627403298746413,
          0.8147170013981123,
          0.7681235621912994,
          0.745840928376108,
          0.5294733688758961,
          -0.09055026163818777,
          -0.05513341075409665,
          1.0406419133309968,
          -0.4576701480285232,
          1.6147153936460787,
          1.2596180094035765,
          -0.045906654362520685,
          -0.3112245151784728,
          -0.27583769149655396,
          0.6632887184731915,
          0.9196245710370833,
          -0.6161482354600721,
          -1.156506626809956,
          -1.272275891247068,
          2.1864148541729285,
          0.7531558336042296,
          -1.5467160886703089,
          1.2833064328231594,
          0.8631523457455085,
          2.6441366664563772,
          2.403036978905916,
          -1.0813780322287398,
          -0.009926083860607669,
          -0.04485112837270623,
          1.238196844766701,
          0.452395859754363,
          1.3675037002446546,
          -0.37112262579658917,
          2.1840768053359376,
          1.4075706126620806,
          0.3132940041538487,
          -0.905662969479691,
          -0.5051382760477261,
          -1.005285452330966,
          1.435442777803687,
          0.4859112302387617,
          0.5676587225332311,
          0.3459184849794314,
          -0.0654767789624529,
          1.0857833622771074,
          0.6160152852904108,
          1.1125316064337785,
          -1.5634778508888327,
          2.5895717309983004,
          0.897483196609383,
          1.9057164576432015,
          0.14787860248488544,
          0.9617464907829494,
          -0.4146039344366461,
          -2.2955027881110275,
          -0.9945091381928751,
          1.8101241122984608,
          -0.9029034387585642,
          0.10092755925551249,
          0.6208669390218966,
          -0.4617135051272339,
          0.3807522263462368,
          0.929186828353068,
          1.0574147526531852,
          0.9518756282461923,
          -0.7536317022772887,
          1.228809292082215,
          -1.7947966793505226,
          -0.39824031518355907,
          0.5651600729121493,
          -0.5639048715203739,
          0.6255481900113399,
          -1.143431855236513,
          -2.5031839807169796,
          -0.15629563141252398,
          1.2148509893864798,
          -1.020944085598209,
          1.8385132861901032,
          -0.16883158722795688,
          -0.14615637831434072,
          -0.22079333552495833,
          1.4229098873591584,
          0.3972167680539778,
          -2.869817515091328,
          0.5879902828517507,
          0.5613740801898937,
          -0.16130458953161514,
          -0.13573879132209585,
          0.2960914640086515,
          -0.07905811609076512,
          -0.23561561825481037,
          0.07648040309980564,
          -0.6648908733649124,
          -0.8205958794474494,
          0.7133681923647069,
          1.2874222829072852,
          -1.1980677834319233,
          -0.30113565279789395,
          -1.0570212029817947,
          -1.0064177308437736,
          -0.29805397317430493,
          -0.9330747517036917,
          0.03162459629344874,
          0.9501400018176476,
          -0.026544007066649597,
          -0.13336817115237057,
          0.9086205541254135,
          1.804035433439268,
          -0.5112902835763353,
          0.8520988046711977,
          -1.2669187879047652,
          -0.3547620449724406,
          1.318901985673225,
          0.2709351430679278,
          -0.40027728311425037,
          -1.6976221656648727,
          2.8240827773012214,
          0.18854921392651983,
          1.8786573050481785,
          0.017534383417130966,
          -1.434877506703446,
          -0.434185202722897,
          -2.033920672941217,
          1.2398714505310227,
          1.3724387045858388,
          0.8926799729111773,
          -1.1166531101375932,
          1.0923156706759718,
          1.598121052622186,
          0.7194628193539192,
          0.06853506874166526,
          1.3135900205509612,
          -1.2318071793077303,
          -0.4198874948813105,
          2.0424672880497123,
          -1.800283801389742,
          0.1797790391390939,
          1.0508765062332301,
          -1.2109556752205741,
          0.1313505673819229,
          1.2851908937710654,
          -1.0661438781294574,
          1.0921185530776385,
          -0.6665682219436594,
          0.1223290550942718,
          1.3428743639882994,
          -2.9542290920552516,
          1.1878306469665212,
          -0.9932624191665872,
          -1.2644926217206676,
          0.8288903988560041,
          -0.9454434649241569,
          0.9897037553894761,
          0.5850977487003851,
          -0.9637056153299655,
          1.1087094436108988,
          2.901117335218189,
          0.5019879916531647,
          0.48584730304458584,
          -2.731627887441934,
          -0.06295908108058118,
          -0.6921877701852993,
          -0.8551649272782946,
          -0.2639017227001711,
          1.5411850280860144,
          1.2853177684642214,
          0.13627682260529883,
          2.604379561995373,
          -1.8579332004003728,
          1.9572137449100617,
          -0.8892058030911347,
          -0.46496662560901697,
          -0.3323264650984238,
          2.5256866770182045,
          -0.19792228969239087,
          0.38717998347174515,
          0.22718539020057912,
          1.4288664531608526,
          -1.0647570594434153,
          1.2295552335473539,
          -0.3738700711333024,
          2.6206339797670353,
          -0.284491366216654,
          0.7570456653972332,
          0.4099179118255124,
          1.6568758308548925,
          -0.05486358312022304,
          0.4410559732756475,
          2.869779771499207,
          0.2037535414706138,
          0.7807483432335224,
          1.866810432751982,
          1.3082271025786494,
          -0.3270910620980624,
          0.6832779998990861,
          0.13189453105880736,
          2.673685845433426,
          -1.7120338395098549,
          -2.2102668447812017,
          0.8659798513883713,
          0.7705550488526506,
          0.21282161521318524,
          -1.2558946442691512,
          1.010073529588472,
          -0.594656413202305,
          -1.8177110509270011,
          0.15517214964213918,
          1.9718511446830091,
          2.926817177467866,
          -1.4547394967788916,
          -0.05786764531272984,
          -1.0898798670444068,
          -2.0606971336914253,
          0.2793823656184316,
          1.7616626505788515,
          -1.5743647826613507,
          0.42498214655844635,
          1.7102672885213697,
          0.3282517775774228,
          -1.2191603605889734,
          -0.9032201667491835,
          1.659005787154281,
          0.0009338029788946618,
          0.07480036692117438,
          -0.02505596715392707,
          -0.37147028111446734,
          0.18558988460647236,
          -0.8132515379521843,
          0.5381248342718209,
          -1.2182711411752016,
          2.5627606109319734,
          0.5013139734325653,
          -0.542043197429147,
          1.091223819394768,
          0.2163836203981654,
          -1.6116419734918008,
          0.2604652212060226,
          -0.2432699167683333,
          0.3909651955897469,
          0.4582954570828094,
          0.8832498318768057,
          1.8456463365785252,
          1.3024425528483103,
          0.40554987557794314,
          1.8181644127980285,
          -1.5693176096744308,
          1.1855554843078355,
          1.6444219811095697,
          -0.10955046776144224,
          2.000502579945795,
          -0.05333383188407586,
          -2.0904478369164337,
          -0.9183176541139705,
          1.2625617900628963,
          1.6349096915740782,
          0.8943508705626063,
          -0.6159921270547591,
          2.058430426267262,
          0.5672639402948457,
          -0.3378226950948415,
          -1.6427540169518988,
          0.5164191300156487,
          0.15838942237282022,
          0.5220937101106522,
          -0.9774586980804032,
          -0.18651676479354728,
          -0.21137923150177024,
          -0.7692843749778067,
          1.7081657638646512,
          1.0868823362324183,
          -0.981634144769572,
          -0.2677693208087988,
          1.4040751996726144,
          2.3456562227033118,
          0.7883385662897001,
          0.04601755923927176,
          -0.1173396595570304,
          -1.067016402375366,
          -1.3767090109417524,
          0.5995726368152838,
          2.8914285648998637,
          0.05850510021976548,
          1.2061290567939735,
          1.2620184177741083,
          2.5731183098279082,
          1.867050583242119,
          -1.6389143967537017,
          1.556319862475085,
          0.9841577330777116,
          0.8756178296269641,
          1.1903519143738825,
          -1.416522443257113,
          0.7867372411620236,
          0.2196341715055999,
          0.0850568851409954,
          1.8995084279507872,
          2.0522203086775925,
          0.09882485370426115,
          2.666836301741868,
          -1.5004530104285039,
          1.3993250370690176,
          -0.21486704551303798,
          1.1483318467673782,
          -1.838051258896345,
          -0.39604906116694927,
          0.2149487826895115,
          0.9580121025308574,
          1.7987352777474528,
          -0.33885918729992265,
          -0.1796260020902134,
          -0.44341325116884994,
          -0.6739449164046386,
          1.193958988149979,
          -0.8386017360898145,
          0.23159283437077552,
          1.3895996631970906,
          -0.1786865557729237,
          -0.65620172952725,
          -1.055270290451099,
          -0.814041726264009,
          1.8498588833073526,
          0.530934029116785,
          1.0044935723434303,
          1.277336403676072,
          1.6298309417208325,
          0.18841561919698885,
          -0.2158848546895953,
          -1.5045255610589643,
          0.20524578053889073,
          -0.974601343076563,
          0.0828151134723456,
          -1.482993089930231,
          -0.10750440063421474,
          -1.41818098216306,
          -0.011449125969553477,
          1.5829768325747657,
          0.1262694313040022,
          0.4102511559197363,
          -1.2625875959516017,
          1.8798238686099762,
          -1.1458960623302747,
          0.6695742971543763,
          -1.5818815734109257,
          1.0601904188907356,
          -2.2528280555972127,
          -0.4884894644599976,
          0.007443075468303783,
          1.6433382559027823,
          -1.7312908505660267,
          0.3583190220401694,
          1.1696293527237793,
          -0.5984996389197926,
          0.17158316461213108,
          0.6555684050902548,
          1.1508155612825361,
          1.6274690029321415,
          -1.3874099917964688,
          -0.6151363251043085,
          -0.18866098118783403,
          0.9070755600434778,
          1.2198469753788268,
          -1.306740953071006,
          -0.36230566900469874,
          0.08063393966523978,
          0.2009507737513248,
          1.9161818595925042,
          0.5545191615261842,
          -1.8866100664276275,
          1.5387703195142821,
          1.4712882130518985,
          -1.9639915086514756,
          2.3003598925601207,
          0.49629825462395255,
          2.886362083683646,
          -1.2539190125155943,
          0.893245515342013,
          0.17532224592076595,
          0.6322687639033151,
          0.7569455340545667,
          1.028685402744868,
          1.5221864290467468,
          0.8734167917048377,
          1.7612778862373943,
          0.1710530038516917,
          -1.3625759397629638,
          -0.5233088555105792,
          1.243275488206067,
          1.303446652685417,
          -0.19147774713227844,
          -0.2923010750803471,
          -0.27437704701557314,
          -1.3280035718547631,
          -0.725827886663166,
          0.2462245936431331,
          0.7357064129993358,
          -1.35419661794044,
          -0.6966585035052826,
          -1.5497006624163154,
          -0.6855724400897466,
          -0.008157866826804857,
          1.4103617714871335,
          -0.5607677818191891,
          2.3049972807680725,
          1.3958529170209772,
          -0.7088294749651072,
          -0.029598196445226092,
          1.4166094140595766,
          1.9405603493674632,
          0.48780936976613665,
          1.1972520171528878,
          0.26651474562212324,
          -0.5569298231169549,
          1.70896278356063,
          0.7187628754540442,
          0.5033999693879526,
          0.8810182386659984,
          -1.2246047181943411,
          -0.560138293320053,
          1.0867601451426123,
          1.3393410445340357,
          1.1635915671987431,
          0.19745373857672188,
          1.3147194594542528,
          2.164780372697811,
          1.4652544415474467,
          0.49183016848067934,
          -0.15129470278349508,
          1.516832612432294,
          -2.58498569945526,
          -0.8340939823700125,
          -2.1082227877136894,
          -0.48823098903494483,
          0.548254247347896,
          0.4944096409225893,
          -1.1906206226506424,
          -1.2999381303877666,
          0.1711983338170397,
          -1.8457747759485168,
          1.98795769666631,
          -1.4051669807425224,
          0.4479289542755617,
          2.4424043225248853,
          -0.17078622249426623,
          0.5874310426307686,
          0.3489694550325237,
          -0.37843072277256223,
          0.300860940470355,
          -0.8196645939036703,
          0.9266919856663703,
          1.5034749707312496,
          0.4632196323170545,
          0.8375213400024063,
          0.29545287314126234,
          -0.6069020862097677,
          -0.23151074835452404,
          0.8959276569810632,
          0.6653209335207413,
          -1.8900122577479885,
          1.429291310338364,
          0.4316093447583157,
          0.38156947036951533,
          0.6224139023499846,
          1.5502415003146954,
          0.24123988504954758,
          -0.024190782681622218,
          -0.8255388777813164,
          1.1481694012174033,
          -0.27097308183342084,
          1.4530100503610759,
          -1.6495807310124944,
          1.56797355497891,
          1.0023687309725582,
          0.9813644174314655,
          1.021134923073635,
          0.0038087241706426787,
          -1.8499870154250473,
          -0.8076279204460632,
          -0.6127141500477385,
          0.4444756892910672,
          -0.9563748254582314,
          -1.3086518707547938,
          -0.0014819950573199357,
          0.1336488027981776,
          -0.10423233442023738,
          -0.44076237694459647,
          1.5656874365538014,
          0.49915962981502854,
          0.9130699107172877,
          0.3063719352560325,
          -1.6384874590677514,
          -0.46196858786230827,
          1.4863282856183688,
          1.0629293107250435,
          -0.61294539725405,
          1.978539793379645,
          -1.7620531701243356,
          0.2303791801309911,
          0.2789871791142409,
          -1.262549923420283,
          0.8661086924752706,
          -0.3301302443007158,
          -0.7767183978416148,
          -0.6542898352339255,
          -0.9209261905904723,
          0.5901129598867331,
          1.9667018097349642,
          -0.9254275751914279,
          -0.31658582509185546,
          1.5424230977583224,
          0.7313732618418745,
          -0.8492252404621444,
          -0.2898964187709427,
          1.472704702083518,
          0.0036991301539242593,
          0.9960380963558656,
          -1.2085796298035716,
          1.0047916393625103,
          0.6321181986697144,
          -0.5619647427231617,
          -0.7175898850561209,
          1.2699224624140208,
          0.653898221364755,
          -0.5242137006688932,
          1.4238434468958923,
          2.430814944133223,
          0.01910512792575507,
          -0.6101570940325384,
          -2.066535743351581,
          -0.46097915533899586,
          -1.1474178186209272,
          0.368063704580017,
          0.6308703659699416,
          -0.09439839191500501,
          0.20088520618620845,
          0.8661445478158201,
          -0.19425411106496782,
          0.7835098341153567,
          0.4988437463897777,
          0.25131704000741323,
          1.422259852669232,
          1.1649038555367295,
          1.1723059230324544,
          -2.148816707036627,
          1.8096189944057668,
          0.1899059119744671,
          0.20460096417533502,
          0.8414805357879847,
          -0.438004435493227,
          -0.18550468779333193,
          -0.3117842908300587,
          1.0420702481212907,
          -0.27773736648387254,
          0.5441675928095859,
          0.15443825793689653,
          1.984379905793826,
          -0.8006145681156286,
          -0.2066788462869852,
          0.4757950924493133,
          1.3780274399479215,
          -0.40583745706744334,
          -0.15403348123964256,
          1.3328892150309077,
          -0.5378300576827323,
          1.3463750402934607,
          1.9423110829556345,
          -0.33061191618736424,
          -0.6564778712707249,
          1.2915200454527325,
          -0.9763548092841605,
          -1.5590508061462929,
          0.305773580306404,
          -0.20035352941652837,
          1.8134615739059252,
          0.7816104828347783,
          -1.7809578005523923,
          1.1059600806635579,
          1.1817298831976883,
          0.5966415458621286,
          2.616679992786424,
          -0.9153648428944766,
          1.2617524280651948,
          0.6891803270335881,
          -0.9716381197360733,
          1.643849010159848,
          2.034587188279995,
          -0.5928229974742198,
          -0.38384028012595034,
          -0.08409165536819413,
          -0.7516786721563086,
          -0.14627538971678988,
          -1.7813002875644044,
          1.625501929037116,
          1.648545900211326,
          1.0336807405028698,
          1.0456156483908996,
          1.7876690142681055,
          -0.4213652267312367,
          -0.9211910664067839,
          -0.7675458992202158,
          -1.0858153501875594,
          1.357866010565471,
          -0.11134355603085437,
          0.12053509784647971,
          -1.0161455436821591,
          -0.3917623661241002,
          -1.3787125133755735,
          1.0853659117420646,
          0.7929923811176405,
          -0.6067364810381833,
          -1.4207136734888766,
          -0.6392608140324331,
          -1.0581792758699144,
          1.0292629253545367,
          0.2942062169696673,
          -0.8097164300122315,
          1.4285591655484577,
          1.1155249613542053,
          -2.2180627081786244,
          -0.868401141529577,
          -0.9282324038396952,
          -1.7848666481946138,
          1.127214040799814,
          1.1119220993932526,
          -0.4548973641119694,
          2.3391656570852275,
          1.837769864755824,
          -0.0319079886714571,
          0.6089103393686597,
          -0.8488020092452614,
          0.34293303357497956,
          0.07251437691814673,
          -0.8094812049812887,
          0.5673120364504216,
          -1.8511700231655746,
          0.7821869401396373,
          -0.1637001230742738,
          1.3229747142194423,
          0.8629244062236914,
          0.09731150826283243,
          -0.49529253766500153,
          0.4452888079665603,
          -0.9097755626587035,
          0.6812570086767584,
          0.7676587143736456,
          -2.631159443342127,
          0.7800355896362997,
          0.3058074362563033,
          0.07607391395094255,
          0.3765734531116128,
          -1.2027253708859553,
          -0.40407080407574275,
          1.126387859925792,
          1.201056218642294,
          -0.12304009317580171,
          0.6233130642344601,
          1.1839321375470055,
          -0.04122858833523082,
          -0.055600620783324284,
          0.24359135878552163,
          -1.4219397562178988,
          -1.202866100598668,
          0.3447906596622821,
          -0.1263679397712723,
          -1.1535938814654603,
          2.3683519804843423,
          0.15674987988074093,
          -0.9791260989903852,
          0.9982940516610913,
          1.664549444584829,
          -0.14062976159501567,
          0.20517630151402988,
          -1.0856174681916775,
          -1.4119336826232345,
          2.5409052542274,
          -1.149535904051634,
          -0.3286721847933164,
          -1.9087191823473344,
          -0.7690360540120738,
          -1.8624227652378673,
          1.3844018137939147,
          2.6819693115133916,
          -0.014072285713229962,
          -1.6428273933591047,
          -0.13922654367760975,
          -0.3056042296161213,
          2.2031468334814504,
          1.2492364894318897,
          2.798719269243375,
          1.0073126250007012,
          0.6200685782330839,
          -0.4934372734116664,
          -0.8768192721466963,
          -1.388160881445972,
          0.44406035231781144,
          -0.027426975820991167,
          0.1744082950176114,
          0.3889171380018962,
          -1.4340481037532833,
          -1.4562556363595978,
          -0.6550729704960956,
          -0.4905904179731325,
          0.35601250492599595,
          -0.6088239556574555,
          0.7493854776757713,
          -0.5821412993103431,
          0.646898844171006,
          -0.11180815624402499,
          0.20399422278287085,
          0.41051438563456144,
          -0.5714772295526838,
          1.8723082873534889,
          -0.8762895698761198,
          -0.40965041320975804,
          -0.5895017365877105,
          -1.9260334845871547,
          1.3140244035672632,
          -1.4997538881522001,
          -1.8918863808157809,
          0.9557868013626534,
          -0.7765243994524038,
          -0.44421506463596055,
          1.2926394567509119,
          1.4889105646178744,
          -1.6488952127828094,
          -0.9081250676847581,
          1.5427087506858592,
          0.741914582667505,
          -0.1868491997622001,
          -0.8219149877159844,
          1.064753556162345,
          0.6494155499237476,
          0.7434962839446951,
          1.0675260126168253,
          -2.069798775204144,
          -0.27948509170902786,
          -0.9269536554914974,
          -0.309349564703594,
          -2.2404598172853594,
          -0.10993836300937378,
          -0.16792065051604807,
          -0.036127646595570946,
          -0.8818647836696143,
          -0.6580460877819436,
          0.8973384161494203,
          0.04262450821078051,
          0.23756404067213038,
          0.41328554743593626,
          1.3218048761644408,
          -0.7083674228477992,
          0.8578829156591016,
          -0.8630745461565373,
          -0.5800195495272557,
          -0.7813672546924492,
          -1.0636399101075515,
          0.010473384463207868,
          1.8019170629119534,
          -1.9884085221230081,
          -1.3123531206714623,
          -1.5599895496557703,
          -0.06687816844586646,
          -0.01678913137225005,
          0.690880822423865,
          -1.5551841870165288,
          0.06695047211124386,
          -0.7997634472141693,
          -0.3091174266260106,
          0.7495950071951274,
          -0.19929985550553445,
          0.8674851893595977,
          0.42715256503216636,
          -0.7718905971962028,
          -0.8437260509950265,
          1.1563897587785688,
          -1.2831565582958644,
          -0.5623480635816995,
          1.0290338704938264,
          0.19065187036633882,
          0.42241575120022445,
          -0.7901474332954975,
          1.2084112602975585,
          1.262732599333553,
          2.004092458638382,
          0.4579994014956387,
          -0.32757426687657637,
          0.9953699648191134,
          0.1593106446891594,
          -0.9894406249224609,
          0.28392244369987624,
          1.9287105513927907,
          -0.5683029930476943,
          0.25545713773190026,
          -0.8103597237887773,
          1.9097123968006926,
          -0.5309482886377622,
          -3.167055963321589,
          -0.8604403430578079,
          -1.9172838161726906,
          -0.5060867670957262,
          2.019637134933607,
          1.1349372008572294,
          -0.6482223353542458,
          0.47521619728786774,
          -1.9965061959660948,
          -0.16801461128751632,
          -0.45017888641216736,
          1.3591888144025763,
          -0.4479165601057581,
          -3.16129279576549,
          -0.8959819011552151,
          1.2115485495418463,
          0.2736482334798312,
          0.6869103282334915,
          -1.357651410594948,
          1.031820252923796,
          0.12493059474917458,
          -0.12003627240497251,
          -0.26897934583952854,
          -0.4621349828662402,
          -2.109995043692555,
          -0.9296880264101601,
          -0.14431629946118293,
          2.2296096580736005,
          0.2350610723233693,
          -1.2980917796656053,
          0.26270092929950867,
          -0.8275081442304624,
          0.6746591540672894,
          -0.7615774713691037,
          -1.8086318508243384,
          0.2986012971966666,
          1.8020283593704105,
          -0.45461205050700243,
          -1.320137759466472,
          0.817374501713756,
          1.2497151477739186,
          -1.1747160678355473,
          -0.8356225481636268,
          -0.7566931323989107,
          0.60565844908519,
          -0.9515539110292128,
          -1.6108280842853024,
          0.8211140332927779,
          0.8550358130795128,
          0.3128763556817212,
          1.8426494689008128,
          0.5470708654355181,
          1.6255422046790446,
          -0.37903747391272086,
          0.7445401985714716,
          0.80937037301692,
          -0.9487484570702096,
          -0.6196835633619558,
          -0.057889046976083644,
          1.242279134016318,
          0.0836013125356446,
          1.2479708231695599,
          -1.6118908743119214,
          0.4754953691616976,
          -1.1631989690243403,
          0.006561098793287667,
          -0.9109156797742772,
          -1.7386962688892686,
          -1.6140501480433358,
          -0.4016301495485065,
          -0.8562966548120277,
          -0.8238788737433953,
          1.4061438607493206,
          -0.242077638477652,
          -1.7947311273318405,
          0.24588976604036467,
          0.501840940463445,
          -1.7237140849010828,
          -0.09699143738214412,
          -1.5333947356666384,
          0.6706274317645089,
          0.7732552484221931,
          -1.7983472379758247,
          0.6576958307070127,
          0.1133661814974507,
          -0.7908476549991955,
          0.7445717819473741,
          0.6985753935516297,
          0.2532956059752371,
          -2.554624746062045,
          2.2769454142541177,
          -0.6831955139437307,
          -0.0912013537354526,
          -1.2676466534459725,
          -0.6177970113727124,
          -0.7580658647142607,
          1.0095365658287454,
          1.5190465729541818,
          1.3625466286676498,
          1.2536135806550894,
          -0.0056424121504858515,
          1.6285265645017892,
          1.998319891724217,
          -0.7304880732209839,
          -1.2414720323646222,
          -1.1795654255592545,
          -1.1402011523321334,
          -0.47518122326482254,
          0.8420231960697191,
          0.5957333926113656,
          -1.789894831953187,
          -1.1600805885786891,
          0.21676377779959,
          2.073645711052276,
          0.16044161251940176,
          0.9960725144694077,
          0.9313238114843565,
          0.22443904677251877,
          1.7529713793475585,
          -1.5680017735448744,
          0.5507473369364685,
          0.5989420197629802,
          -0.07771629522026816,
          -0.04461242754374879,
          1.3745401495479892,
          0.7926894175672009,
          -0.7232049589876344,
          -1.228149434797844,
          0.1653658026353386,
          -2.0297392032295534,
          -0.5700461620854562,
          -0.799433127015205,
          0.04396823851249038,
          -1.0299652495139815,
          0.11823033967841395,
          0.005730348801243224,
          0.5866032506751327,
          -0.4660415605883543,
          -0.07244186791118873,
          0.1399038545256852,
          1.2940419611356186,
          1.7785027439173517,
          -1.236169186997075,
          1.0085275166146233,
          -0.3682653490831455,
          2.3155463613437064,
          0.5727666005867631,
          -0.6418619951107772,
          0.01578702001986523,
          0.2875770424701452,
          0.4593657389579121,
          -1.7154886599483388,
          -0.11444884375832351,
          -2.1544566367374265,
          0.757958400999897,
          -0.6503661926254811,
          0.2780270258539365,
          -1.4157835406339745,
          1.028543634046339,
          -1.1524132178684976,
          0.5307896709775725,
          -1.8329207195701431,
          -0.7375609053520535,
          -1.4083153412320204,
          0.6263374138224178,
          1.2148002685532253,
          0.74956296319254,
          1.7992406508793533,
          -0.02401552461139619,
          0.9533363068606783,
          1.316526303625625,
          2.422469891054133,
          -1.3813572914337102,
          0.5568485397805403,
          -1.1824496015342674,
          1.1782540408547433,
          1.336204598799637,
          1.076205924233928,
          -0.25825205008852997,
          2.589121973538489,
          -0.8473745397010537,
          1.9628822180813421,
          -1.4800756288709969,
          0.7089668957654783,
          -0.22047527435763895,
          -2.110293767200678,
          -1.5900017957577368,
          -0.9411949234841941,
          0.506068840129761,
          0.39561852998260055,
          -0.9971472180134016,
          -1.8075195634355743,
          0.5560861396988115,
          0.6613771868284972,
          -1.521402397590011,
          0.30101559242595227,
          -1.0327475110572515,
          1.7181059715945277,
          0.04268133999166834,
          -0.8508381199353373,
          -1.5591646716699126,
          -0.3977490215430885,
          -2.7976797009264045,
          0.08100147449033944,
          -1.4309180172840539,
          -0.8907171245149557,
          -2.755773868803175,
          0.9216524859583735,
          2.237545204092953,
          -1.0732112701649077,
          -2.4780766240476115,
          -2.542492727624786,
          -1.2795636677911468,
          0.6670189639784181,
          -0.37677289792300145,
          2.5073589413092052,
          -0.8704894971553585,
          -0.8936878114333898,
          0.5980575579552677,
          0.16361606060774878,
          -0.08487746237350788,
          -0.8787128897426615,
          -0.7715913473616051,
          -0.7399780126081974,
          0.7422515459228136,
          -0.7171600309408235,
          -0.22245592330664324,
          -3.017447847388872,
          0.2646639918597638,
          0.6545603680015991,
          0.13390293453983396,
          -0.7462808371306893,
          -1.0065155538038761,
          -0.09606162869449951,
          -1.7233943360584334,
          -1.181031830103327,
          -1.5559240938407888,
          1.015090407427554,
          -2.6488686583289285,
          -0.4673363533170511,
          -1.006847553813878,
          1.0207593840266134,
          -1.580588314512386,
          -0.07623428436087068,
          -0.6773707170817448,
          -0.7583205998560131,
          0.14121323917499193,
          -2.546736019317674,
          0.6487869254130565,
          0.4892027332124043,
          -1.9562918144206511,
          0.9767757712823534,
          -0.6247141400925592,
          -1.2540562846151628,
          -1.0477447312235915,
          -0.1220917558128303,
          -0.3699664893950061,
          0.5009254326553659,
          -0.3540628992713282,
          -1.0933740491762278,
          -1.0333431999769909,
          0.10426714721676757,
          0.40674709014069105,
          -0.8610891668195406,
          -0.7306783921369957,
          -1.9035024031053478,
          1.055329411151232,
          -1.1606044537617968,
          0.1315677484781869,
          -0.0444684058137642,
          -2.3981016590689967,
          -0.537393456347257,
          1.934325674289597,
          0.916707648410876,
          0.5338244822460531,
          -0.6290507190722218,
          -1.3618292593678205,
          -2.5776802578876308,
          -1.513593908718504,
          -1.3821825809822388,
          -1.87389007565276,
          1.2124194391507694,
          -0.6493953836737971,
          -2.3409700848856883,
          -1.8393025277657442,
          -0.21767366044278214,
          0.9735395860834254,
          0.07522462235767793,
          -0.6070885019075846,
          -0.964483446000116,
          0.5296295419848683,
          2.16639788269253,
          -2.3308122133088824,
          1.7754394988007602,
          -0.7044600891761871,
          -1.6428004121404887,
          0.06504588882536944,
          -1.2460312388111945,
          -0.7678181790724938,
          0.7667566710225081,
          -0.7666942492753166,
          -0.7696670562867325,
          0.4444714311797176,
          -1.3204859900809678,
          0.21026091782272235,
          0.31636938611069476,
          -1.615194272706103,
          1.4944585652352456,
          -2.5247356444017583,
          -0.6138398125875749,
          0.6804625459231488,
          -1.9645908832735106,
          0.001683126751037067,
          2.3516291577629045,
          0.4972331824608851,
          1.201749648473938,
          -0.4519571731923879,
          -1.0697636388902982,
          -1.6230818056238172,
          1.0967867639578956,
          -2.595335700941435,
          -1.5399082192405205,
          -0.26041782081881837,
          -2.8739817594817496,
          -0.9528446088715264,
          -0.24981128862663615,
          0.8637035734460831,
          0.3135570356002318,
          -2.344309800857684,
          -1.1972415392494125,
          -0.3007985069096524,
          -0.591372649791386,
          -2.4734267098367915,
          -0.7563059095070286,
          -0.02736374771094173,
          0.9943081632135977,
          0.9495512138419743,
          -1.6085504956480399,
          0.1576938685668908,
          -1.8969669682217303,
          -2.285101517394607,
          1.2772075665545615,
          -0.5558276666609754,
          0.6890853479796338,
          -1.1100896768587984,
          -1.8248176122346902,
          2.699343634506053,
          -0.2320100570606035,
          -2.019270747016876,
          -0.5680648971729609,
          -0.5728676071310268,
          -0.45416183734276244,
          -0.4783702918696571,
          -1.5938201890582768,
          -0.4275749621130906,
          -1.7122639887020128,
          -0.3797282732757384,
          0.7790592080024573,
          -1.1213747080008165,
          -0.4695327076358278,
          0.47227719727766204,
          -0.8134570412289904,
          -2.098211359418704,
          -0.5938065541352819,
          -1.3889156687684225,
          -0.5278328415395902,
          -1.2664142173882542,
          -1.9427478937111735,
          -1.4325309999651157,
          -0.3683076040016102,
          0.35900844475509003,
          1.377786680556754,
          -0.4275886180765406,
          -2.133128829180381,
          -0.8079522955652514,
          -0.2579063006080999,
          -1.1318899144901533,
          0.4418279698302411,
          -0.46596494967143337,
          -1.0019415620828138,
          -1.2178120164251438,
          0.5652288401498476,
          -0.7158762554998463,
          -1.1123053708213466,
          -1.4724662083922926,
          -0.3700907898307919,
          -0.016188054067205287,
          -0.39343032863864397,
          -1.4587642054076928,
          -0.5868027066187913,
          -0.7205240764524444,
          -0.2600110881769598,
          0.6727448763049484,
          0.16701392261559952,
          1.9080113358057535,
          -0.3081868002369358,
          -0.7449997176211881,
          -1.033312312163893,
          0.3079601205263421,
          -1.4761105673339086,
          -2.6878762405114642,
          -0.7688438797282544,
          1.242403045111132,
          -1.022754260500154,
          1.5919455502662347,
          0.3473896894090043,
          -1.2901686030869355,
          1.5066874338477434,
          1.0254337448070154,
          -2.200691454600458,
          0.23454976760561402,
          2.04808288645935,
          1.0219387870189163,
          0.6084607305803977,
          -0.7588334215834605,
          -0.1922597890973823,
          1.0869884057639885,
          -0.6488099401349219,
          -0.881061773106947,
          -0.9877589187812588,
          0.18397885966905228,
          -0.6227248225099978,
          -0.3989605607884534,
          -1.0424577797335477,
          0.6164696579413288,
          -1.5102432718172514,
          -0.4539317106281763,
          -0.827032751368039,
          1.5665138134788659,
          -1.5794185818212376,
          -0.8286859783928622,
          0.8902941072638647,
          2.697720660356813,
          -1.938345022754356,
          0.12319159774760513,
          0.24449640631131506,
          0.0728099039972988,
          -0.45115094310389314,
          -0.7535282136619523,
          -1.2174250270142797,
          -1.3828171353374425,
          0.5621516899704666,
          -0.4512480879642934,
          0.7465795515535131,
          1.5490860100860717,
          1.2342150596905628,
          1.4158094396097258,
          -0.7391876599469575,
          -0.5909672235815295,
          -0.557560503126211,
          0.586625054156847,
          -0.9605620819886226,
          -1.9237071780633561,
          0.24295599937308532,
          -1.4746439885716771,
          -0.5987809042110738,
          -2.495406647169122,
          -1.4368222889751512,
          -1.2082865352140766,
          -0.8508174221797034,
          -1.4261943203791916,
          -0.07034675467786479,
          -0.8011272731238331,
          -2.0729253568560555,
          -0.9864796277228455,
          -0.647796066658761,
          -1.4774567125917821,
          -1.2296468478753328,
          -1.4970140668527487,
          0.5649085789468896,
          0.0628105603939664,
          -1.516621491337271,
          -0.0679720182194496,
          0.3505069600161892,
          -1.3231305510528426,
          -0.38109416498862136,
          -0.6820080691684615,
          1.907032345672161,
          0.3559230613097958,
          -0.44833307690457586,
          -0.01303361474527213,
          2.2565602008148904,
          0.18188839496537756,
          -1.7206600770208773,
          -0.3580383907358739,
          -1.0072796766954497,
          -0.3773962153977086,
          1.012389435278751,
          -1.0412162858424443,
          -0.3811281320767241,
          -1.4214302616332424,
          -0.7800875861136534,
          -0.6070031562346737,
          -0.8359398676938287,
          -0.000578205686664638,
          0.22387695411875563,
          -1.472139378813549,
          0.8818815560843442,
          -2.3398484377154785,
          0.19322042118697394,
          0.3435810207050798,
          -2.6552336352812014,
          0.08806598951832402,
          2.795641410443103,
          0.5272106366860271,
          0.7519362110816354,
          -2.266075910423837,
          -0.9248380033088353,
          -0.6887370477253256,
          -0.8915668661421123,
          -0.4425276621240342,
          -0.5689736137083835,
          -0.7236702681591614,
          -2.2920230284739516,
          -1.0485752663336283,
          -1.0862792646199084,
          -0.8814575394988011,
          1.0293178854607021,
          -0.5128071293842328,
          -0.9361265766406875,
          -0.2663219783963409,
          -0.6962171649866626,
          -1.107907280555526,
          0.8632603312299698,
          0.4518971193392273,
          0.8610569087057428,
          -0.40731409831107895,
          1.7153333919243252,
          -0.691044048458917,
          -2.1158622976158683,
          1.25835148325357,
          1.55405299059081,
          -0.9161550573717888,
          -1.0116234916830738,
          -0.07292198046944383,
          -1.62885989876379,
          2.1434765797219257,
          1.2461852431361016,
          0.2920283099566187,
          0.17626418210624398,
          0.0016586894075124477,
          1.7252461950692197,
          -0.8999874840022363,
          -1.529965433993566,
          0.027056432256477327,
          -1.741717954409028,
          -1.1903119054315008,
          -1.3751055617319126,
          0.6569063228548814,
          -1.2951908354592705,
          -1.2424257073203704,
          0.8282841862274477,
          -0.2296248460766916,
          -0.9603674649335916,
          0.6930601954603394,
          -1.0049131127415405,
          -0.9734072113825442,
          -1.2921249113578546,
          -1.6501486267990477,
          0.9395609214512128,
          1.3969271082921255,
          -2.189286358693591,
          1.5066289999440565,
          2.526457530887399,
          0.027076676295985404,
          -0.16883406204790025,
          -1.120658541970676,
          -1.010059679240506,
          0.5449515536243251,
          -1.1617865303170483,
          -2.5532114135026736,
          -1.8586488278369095,
          -0.788468751067271,
          1.7802453421616775,
          -1.1308115808731058,
          -1.1841403908646118,
          -0.07599048678407251,
          -0.8326812719711145,
          -1.077354087358031,
          -0.5801284330305089,
          2.1841642853286785,
          -0.1607220392188066,
          0.38318730863089384,
          -0.7365394116073478,
          0.26375499899958643,
          -1.1464017984165176,
          -2.0148556904156774,
          0.2913486161743289,
          1.1811063038110718,
          -0.4279946226915681,
          -1.7406866725657666,
          -1.381578409311719,
          -0.6883105394972723,
          -1.0099013596625823,
          -0.6731094626457992,
          -0.8828086185901816,
          -0.4085645901443518,
          -2.126687219741626,
          -0.9971597546473977,
          -1.1730818419439553,
          -1.5395249475558352,
          1.0045255425181363,
          2.123346724120182,
          0.9730071311613924,
          -0.6199503608446177,
          1.0409669599153704,
          1.6746194284099323,
          -1.4700660615404408,
          -1.1462404790354452,
          0.33143276033754693,
          0.6195187286766792,
          -2.101238743324732,
          -0.8127829810658597,
          -3.29398614572683,
          1.4819809909689878,
          -1.8801528259826403,
          0.8521692121680424,
          -0.47192615779666924,
          -1.3575247030121245,
          -0.9888539243822668,
          2.3485542327750353,
          -1.500050919494816,
          -0.6074228582862482,
          2.195971291438033,
          0.3761228149145961,
          -0.7290256991578344,
          -0.529868826642334,
          -1.0110262215150136,
          0.16966320921986283,
          -0.5181310668194671,
          -0.780978557035179,
          -0.8911909619489291,
          1.5095546577561914,
          -1.2508375524530442,
          -0.9028413612037093,
          1.9963646138947797,
          1.1295234049953338,
          1.091533990822704,
          1.8082859311347381,
          -0.8744340985274749,
          1.3490232182744326,
          -0.4121189374708732,
          1.471559636055803,
          -1.0340425083948381,
          -2.350715332797178,
          -1.166057316957224,
          -0.6967512771727179,
          -0.878751437693549,
          0.7471691941224871,
          -0.4461422621118635,
          -0.6970708443225895,
          1.1502652699499862,
          -1.0553032661573878,
          1.3372244124407662,
          0.6412308208516769,
          0.33942066556640593,
          1.905162616437035,
          0.9693219783102046,
          -0.12352910228865936,
          1.9859502121054287,
          -0.8699662588027299,
          0.43396488122846644,
          1.3680060381696708,
          -0.5673107397106361,
          0.6291335655488789,
          1.9914063157847977,
          1.7250027637288348,
          0.9570412790475701,
          0.8081313851189448,
          -1.1523454521900525,
          -0.1567820302198586,
          -2.218811658735963,
          1.4322157968321463,
          1.436391556341446,
          0.8987874119415973,
          -0.08099011860755047,
          0.011391078591840185,
          1.0911767639250458,
          0.3044026838475114,
          1.408951163438549,
          1.1176269556627665,
          0.1895564599621836,
          -0.1735704544938195,
          1.2597896915765856,
          -1.224996530700968,
          -1.48124599938133,
          0.09627907356077905,
          -1.3816335251767244,
          2.3884119858245287,
          1.5180632131601544,
          -1.8823929662318692,
          0.5733765881389569,
          -1.2817462469076257,
          0.09694666244119934,
          -0.57800157874404,
          -0.10407106223545873,
          -2.8464498321288216,
          -0.17615544929538365,
          -0.6638535740689684,
          -2.1941686184114966,
          -0.9757645329615663,
          -1.0715387091995776,
          -0.25810066780361646,
          -0.10621398113309245,
          1.9991245569320675,
          2.622622546902422,
          0.17866880393013418,
          -0.12512577076620304,
          -1.0653582813926483,
          0.22340817962172685,
          -0.968222156720626,
          -0.2520596805517666,
          0.9889632330811858,
          0.24520659890311458,
          0.12224371009919353,
          -0.8598435491318209,
          -0.5529667612435174,
          0.13342127895190817,
          1.8979216618445203,
          1.5502949534053105,
          0.4873765132742414,
          -1.0014355491325533,
          0.8134793998601944,
          2.186604298622756,
          0.4646266205222088,
          -1.8251999677787047,
          -0.7705959679221165,
          0.3982085527037441,
          1.064538545691108,
          -0.19969565226555538,
          1.1663395213372432,
          0.525833927765627,
          -0.6424815614887153,
          2.2989453734158527,
          0.3679972956397973,
          -2.0933542691756597,
          0.48388446223917525,
          0.5928601364406859,
          0.4769473894363143,
          1.3400090308690122,
          -0.804081910931059,
          0.24387440363753526,
          0.2435180926090343,
          -1.9152688747750466,
          0.7632825512433519,
          -0.4066352580579747,
          -1.708302538797088,
          0.8645727733893775,
          0.5976009399406688,
          -0.024102576631947637,
          2.480452288679266,
          -0.9870433878845289,
          -0.23862011542665126,
          1.2232962094561861,
          0.18188701600671053,
          1.0532678959750148,
          -0.7199540729052869,
          -2.68008371988543,
          2.04467295149855,
          0.37078546412506524,
          0.07605304852909212,
          1.0498032069361631,
          1.320712638925467,
          -2.1193187230523534,
          0.8009310842602647,
          0.4839551013992761,
          2.173278205325126,
          0.7702503115691344,
          -1.552270947511746,
          0.3126203808728636,
          2.001440053715224,
          0.31137200160117456,
          0.26788910559751467,
          -0.1856922500339766,
          -0.45089004622527507,
          0.41967080610608054,
          1.6922680819425586,
          1.8042994832819503,
          1.5084687623550206,
          1.9405567779747186,
          -1.6514201092400205,
          0.552880313024198,
          -0.14780759658485138,
          1.1555242483977881,
          1.094946202565066,
          -0.10374324480560781,
          2.851023683818511,
          -0.17326364821360699,
          -1.4726536453584236,
          -0.9426353409119671,
          1.4021405388448298,
          -0.2039034158373077,
          2.141889279525153,
          2.5118303089538663,
          -1.6668283562456838,
          0.9828457621800814,
          0.8287278700031429,
          -0.6247067444493518,
          -0.5131609371333292,
          -1.0899325451923445,
          0.0674882596448596,
          0.5689277470049857,
          2.4265623316099703,
          -1.9377290561128644,
          2.612997343366599,
          -0.3643710265581956,
          -0.852041334861871,
          0.3257063759488284,
          0.4518814235186869,
          -0.8557453092898261,
          1.5342905887921727,
          -0.3116699665637847,
          -0.1457617395932426,
          0.04295363043170252,
          0.344750477439648,
          -1.6957217687271466,
          -2.0230075888128773,
          0.11974535120507435,
          1.350654247473793,
          -1.1646447272146536,
          0.9170498655380781,
          -1.3320806508630134,
          0.6997317165129571,
          -0.3229596547485383,
          2.240178835582178,
          0.8822229166849577,
          0.9748564438370174,
          0.6085743107435587,
          0.14835589345876019,
          -0.6680473411528919,
          -0.21822279634977326,
          1.0781127655802716,
          -0.6097121403656015,
          0.9550943937929945,
          -1.3280934020969428,
          -0.04555861366905934,
          -0.15947325021855746,
          1.7101605704880956,
          -0.926241775485177,
          0.533270255793372,
          0.7454514727955,
          0.3218997438063844,
          -1.4371444679801855,
          -0.1391817357450414,
          -2.3107480318000047,
          -0.22064342069976464,
          0.2693506728893761,
          -2.2709446988753337,
          1.8243324130026197,
          0.5396728508328251,
          -1.63426265886057,
          0.3347629813405679,
          1.8842794676324515,
          -0.32941770209246696,
          1.979557811901116,
          -0.43185569489922365,
          -0.23248153801699892,
          1.0991714297418205,
          0.6583080905762582,
          1.9220266826497587,
          -0.34239343844332687,
          2.9097637991297916,
          -0.017930484533953482,
          -0.9446996339537475,
          0.02173127391193937,
          0.13282180280297057,
          0.19027022052491127,
          1.2136244506544462,
          1.5551006704204506,
          1.0113130111090067,
          0.9580482057961858,
          -0.3510546113625706,
          0.21307896249820987,
          1.2810437939680326,
          -0.6843586204524807,
          -2.0273071743948616,
          -0.5779523462621945,
          0.43615400265439713,
          -1.1178507631601524,
          0.3758823139626387,
          1.340615092543157,
          -0.2499198128045092,
          0.7882903824981577,
          0.6613372578915196,
          -2.119242485069723,
          1.0085677796713428,
          0.3898197503124583,
          0.5513647377556404,
          -2.1373899649032704,
          1.5015589602892272,
          0.4525796110081489,
          1.533267356100621,
          -0.23641897900182546,
          1.038121981631875,
          1.0441277856434104,
          0.1492119629944144,
          -0.8001905327051112,
          0.13398062904662772,
          0.518044673648095,
          0.15054158778875434,
          -0.30725642766827654,
          0.052356900066198114,
          1.8834123862869403,
          -1.0031079444928632,
          1.0253969687862174,
          -0.3384820127000262,
          -2.249990537812168,
          0.2577488809313643,
          0.045856458609442714,
          0.7794086554177938,
          1.748057162415267,
          1.1542576591795248,
          -0.8946701561474288,
          -0.4294393804410768,
          -0.7949218619499338,
          -0.3657046731533868,
          -0.8605287710475614,
          2.1451138912290117,
          0.9191937241953189,
          -2.1478431804201836,
          -0.18259995331026108,
          -2.423085684468719,
          -1.4643098359193232,
          1.242489670453261,
          2.149591223008876,
          1.0910679104716003,
          -0.8513150187309401,
          -0.24503234256974218,
          -0.18496742641625374,
          -0.2004417325210738,
          -2.429284666638393,
          0.7181755284728507,
          0.8009979961145729,
          1.3826217883086682,
          1.5510026494636078,
          0.16723576406955046,
          0.5734955813433703,
          -0.5459507849410843,
          1.198257692690748,
          1.327467009100364,
          -0.2513904502165638,
          1.1043438466940279,
          -0.2962431254134666,
          1.357853925846732,
          2.567063016223365,
          -0.7188089342557584,
          0.24295553732918923,
          1.3668225036594983,
          0.4663313751281728,
          -0.7598764316364779,
          1.9269484209263854,
          -1.066673506737317,
          0.6958130276214664,
          1.1956940346505052,
          -1.0718055435040956,
          -1.1080659142015234,
          1.1386321840487426,
          3.564890446347087,
          0.8303753585403957,
          -0.6152928225160874,
          -2.5743138692435075,
          0.7332963008462243,
          0.5735197884790465,
          0.8029622548594085,
          -0.3009049675663852,
          -1.1168602794985847,
          -1.1445540072542557,
          -1.4696848938205331,
          -1.4402936745700912,
          -0.19108547235265874,
          -0.8264460106817006,
          -0.6269618022365975,
          -0.7264741139604894,
          -0.19146536602796052,
          -1.5925456294458449,
          -0.77250116172611,
          1.8835223227627738,
          -1.453143638876817,
          0.724212829277638,
          1.763714027479613,
          -0.1547487643409889,
          -0.07236216959231796,
          -0.7931551508469064,
          -1.0267920104930652,
          0.1302722144404454,
          -1.096094720045504,
          -0.17935814026496283,
          0.5204996406669844,
          -0.5865866298454162,
          0.05886225191966881,
          -1.3309849208791882,
          -0.5335484770491666,
          -0.07509253971667051,
          -1.1477661395123193,
          0.47078882619973483,
          0.5414200331130657,
          -0.037064850352487494,
          -1.5698726027159897,
          -0.24222087723299202,
          0.7960757485350587,
          0.09807097036944379,
          -0.5552250887453505,
          -1.216697362633729,
          0.6478609706202468,
          -1.1402298235619377,
          0.17021211093942357,
          0.38492276888539584,
          -0.5257237534968171,
          -0.8942796507142861,
          -1.8999901835347546,
          -0.641536283688074,
          -0.7459196086990493,
          -0.11291980961286494,
          -0.8576594386448364,
          -0.7003748935920471,
          -1.2018721121931488,
          -1.7924786436482285,
          -0.3895908424995794,
          0.2126237434401511,
          1.8810594417423072,
          1.234984826564279,
          1.4216673569114842,
          -0.37291366152045236,
          -1.9058605645199052,
          -0.5158106947502187,
          -1.1195294383938736,
          -0.21788015199963562,
          1.8950027908189724,
          0.9627679647002043,
          1.044253602927249,
          0.24575551326327358,
          -0.3122579382547658,
          -0.38200167242736893,
          0.3583587354871745,
          -1.6132077380836456,
          -0.30780047577298814,
          0.025601756389304977,
          -0.08551269893984306,
          0.5401249841995217,
          -0.6533222145618083,
          0.0507489040643818,
          1.0151490695795808,
          -1.6168240205794133,
          -0.8091015774773712,
          -0.236848578314087,
          -1.6622860315512262,
          -1.2836738741838523,
          0.5289743880670619,
          0.13926078074581683,
          -1.2905246253095717,
          0.44496094195025143,
          -1.8117249126586548,
          -0.39784042068210423,
          -0.07557793510143877,
          -1.3738981235794714,
          -0.6216914735316104,
          0.29068486354939027,
          -1.8784918252323262,
          -1.751992170428786,
          0.49721425991288204,
          0.10165447406562488,
          0.7329013811213819,
          1.5571267675873264,
          -0.7768173618010582,
          -0.33420154992944656,
          -0.3857195368873308,
          -2.0844410226412737,
          -0.26674634531202074,
          2.3188198718327393,
          -0.272596780685816,
          -1.1073559156714645,
          2.015195129461716,
          0.12960958160378575,
          0.4426158522810841,
          1.0274902533384165,
          -0.17250667061887634,
          -0.10262205603821675,
          1.4422428120258879,
          1.1420709474868695,
          -0.527204948978019,
          -0.2586248969246337,
          1.0131969752777452,
          -0.2654013963496061,
          0.25122354469475644,
          1.1385864192218529,
          -0.3999781815868959,
          -0.4431350981219783,
          -0.09889702873379988,
          -1.9344727789545666,
          -0.47172831502930024,
          -0.8792964863763807,
          0.44896184107719145,
          0.3020176731763321,
          1.3884538211702446,
          0.3727664157812435,
          0.9536807592957988,
          0.7317296290965756,
          -0.091724463435923,
          1.8586768792220667,
          -1.2838387837462846,
          0.36910951478624854,
          0.3175269262590944,
          0.3518385274934759,
          -2.131340996943983,
          0.03706165807611149,
          0.45634076879979524,
          -1.409726627305419,
          -0.025246274388683734,
          -0.6375483408766188,
          0.9179560544619518,
          0.924390263247943,
          0.8069394134676418,
          -2.6422044101127002,
          1.7699146144358502,
          0.044625637322316475,
          0.20129352284245564,
          0.9276110543092293,
          -0.4093491579397158,
          0.9324923689204767,
          0.39642626781386775,
          0.6106043773671618,
          -1.4824812065142916,
          -1.0187798723775716,
          -2.009478789461377,
          1.3631641172435405,
          -2.4040046026568493,
          0.4673677986136337,
          -0.4964069705683512,
          0.13454319229056655,
          -0.7090383562123538
         ],
         "yaxis": "y"
        }
       ],
       "layout": {
        "coloraxis": {
         "colorbar": {
          "title": {
           "text": "Cluster"
          }
         },
         "colorscale": [
          [
           0,
           "#1F77B4"
          ],
          [
           0.1111111111111111,
           "#FF7F0E"
          ],
          [
           0.2222222222222222,
           "#2CA02C"
          ],
          [
           0.3333333333333333,
           "#D62728"
          ],
          [
           0.4444444444444444,
           "#9467BD"
          ],
          [
           0.5555555555555556,
           "#8C564B"
          ],
          [
           0.6666666666666666,
           "#E377C2"
          ],
          [
           0.7777777777777778,
           "#7F7F7F"
          ],
          [
           0.8888888888888888,
           "#BCBD22"
          ],
          [
           1,
           "#17BECF"
          ]
         ]
        },
        "legend": {
         "tracegroupgap": 0
        },
        "template": {
         "data": {
          "bar": [
           {
            "error_x": {
             "color": "#2a3f5f"
            },
            "error_y": {
             "color": "#2a3f5f"
            },
            "marker": {
             "line": {
              "color": "#E5ECF6",
              "width": 0.5
             },
             "pattern": {
              "fillmode": "overlay",
              "size": 10,
              "solidity": 0.2
             }
            },
            "type": "bar"
           }
          ],
          "barpolar": [
           {
            "marker": {
             "line": {
              "color": "#E5ECF6",
              "width": 0.5
             },
             "pattern": {
              "fillmode": "overlay",
              "size": 10,
              "solidity": 0.2
             }
            },
            "type": "barpolar"
           }
          ],
          "carpet": [
           {
            "aaxis": {
             "endlinecolor": "#2a3f5f",
             "gridcolor": "white",
             "linecolor": "white",
             "minorgridcolor": "white",
             "startlinecolor": "#2a3f5f"
            },
            "baxis": {
             "endlinecolor": "#2a3f5f",
             "gridcolor": "white",
             "linecolor": "white",
             "minorgridcolor": "white",
             "startlinecolor": "#2a3f5f"
            },
            "type": "carpet"
           }
          ],
          "choropleth": [
           {
            "colorbar": {
             "outlinewidth": 0,
             "ticks": ""
            },
            "type": "choropleth"
           }
          ],
          "contour": [
           {
            "colorbar": {
             "outlinewidth": 0,
             "ticks": ""
            },
            "colorscale": [
             [
              0,
              "#0d0887"
             ],
             [
              0.1111111111111111,
              "#46039f"
             ],
             [
              0.2222222222222222,
              "#7201a8"
             ],
             [
              0.3333333333333333,
              "#9c179e"
             ],
             [
              0.4444444444444444,
              "#bd3786"
             ],
             [
              0.5555555555555556,
              "#d8576b"
             ],
             [
              0.6666666666666666,
              "#ed7953"
             ],
             [
              0.7777777777777778,
              "#fb9f3a"
             ],
             [
              0.8888888888888888,
              "#fdca26"
             ],
             [
              1,
              "#f0f921"
             ]
            ],
            "type": "contour"
           }
          ],
          "contourcarpet": [
           {
            "colorbar": {
             "outlinewidth": 0,
             "ticks": ""
            },
            "type": "contourcarpet"
           }
          ],
          "heatmap": [
           {
            "colorbar": {
             "outlinewidth": 0,
             "ticks": ""
            },
            "colorscale": [
             [
              0,
              "#0d0887"
             ],
             [
              0.1111111111111111,
              "#46039f"
             ],
             [
              0.2222222222222222,
              "#7201a8"
             ],
             [
              0.3333333333333333,
              "#9c179e"
             ],
             [
              0.4444444444444444,
              "#bd3786"
             ],
             [
              0.5555555555555556,
              "#d8576b"
             ],
             [
              0.6666666666666666,
              "#ed7953"
             ],
             [
              0.7777777777777778,
              "#fb9f3a"
             ],
             [
              0.8888888888888888,
              "#fdca26"
             ],
             [
              1,
              "#f0f921"
             ]
            ],
            "type": "heatmap"
           }
          ],
          "heatmapgl": [
           {
            "colorbar": {
             "outlinewidth": 0,
             "ticks": ""
            },
            "colorscale": [
             [
              0,
              "#0d0887"
             ],
             [
              0.1111111111111111,
              "#46039f"
             ],
             [
              0.2222222222222222,
              "#7201a8"
             ],
             [
              0.3333333333333333,
              "#9c179e"
             ],
             [
              0.4444444444444444,
              "#bd3786"
             ],
             [
              0.5555555555555556,
              "#d8576b"
             ],
             [
              0.6666666666666666,
              "#ed7953"
             ],
             [
              0.7777777777777778,
              "#fb9f3a"
             ],
             [
              0.8888888888888888,
              "#fdca26"
             ],
             [
              1,
              "#f0f921"
             ]
            ],
            "type": "heatmapgl"
           }
          ],
          "histogram": [
           {
            "marker": {
             "pattern": {
              "fillmode": "overlay",
              "size": 10,
              "solidity": 0.2
             }
            },
            "type": "histogram"
           }
          ],
          "histogram2d": [
           {
            "colorbar": {
             "outlinewidth": 0,
             "ticks": ""
            },
            "colorscale": [
             [
              0,
              "#0d0887"
             ],
             [
              0.1111111111111111,
              "#46039f"
             ],
             [
              0.2222222222222222,
              "#7201a8"
             ],
             [
              0.3333333333333333,
              "#9c179e"
             ],
             [
              0.4444444444444444,
              "#bd3786"
             ],
             [
              0.5555555555555556,
              "#d8576b"
             ],
             [
              0.6666666666666666,
              "#ed7953"
             ],
             [
              0.7777777777777778,
              "#fb9f3a"
             ],
             [
              0.8888888888888888,
              "#fdca26"
             ],
             [
              1,
              "#f0f921"
             ]
            ],
            "type": "histogram2d"
           }
          ],
          "histogram2dcontour": [
           {
            "colorbar": {
             "outlinewidth": 0,
             "ticks": ""
            },
            "colorscale": [
             [
              0,
              "#0d0887"
             ],
             [
              0.1111111111111111,
              "#46039f"
             ],
             [
              0.2222222222222222,
              "#7201a8"
             ],
             [
              0.3333333333333333,
              "#9c179e"
             ],
             [
              0.4444444444444444,
              "#bd3786"
             ],
             [
              0.5555555555555556,
              "#d8576b"
             ],
             [
              0.6666666666666666,
              "#ed7953"
             ],
             [
              0.7777777777777778,
              "#fb9f3a"
             ],
             [
              0.8888888888888888,
              "#fdca26"
             ],
             [
              1,
              "#f0f921"
             ]
            ],
            "type": "histogram2dcontour"
           }
          ],
          "mesh3d": [
           {
            "colorbar": {
             "outlinewidth": 0,
             "ticks": ""
            },
            "type": "mesh3d"
           }
          ],
          "parcoords": [
           {
            "line": {
             "colorbar": {
              "outlinewidth": 0,
              "ticks": ""
             }
            },
            "type": "parcoords"
           }
          ],
          "pie": [
           {
            "automargin": true,
            "type": "pie"
           }
          ],
          "scatter": [
           {
            "fillpattern": {
             "fillmode": "overlay",
             "size": 10,
             "solidity": 0.2
            },
            "type": "scatter"
           }
          ],
          "scatter3d": [
           {
            "line": {
             "colorbar": {
              "outlinewidth": 0,
              "ticks": ""
             }
            },
            "marker": {
             "colorbar": {
              "outlinewidth": 0,
              "ticks": ""
             }
            },
            "type": "scatter3d"
           }
          ],
          "scattercarpet": [
           {
            "marker": {
             "colorbar": {
              "outlinewidth": 0,
              "ticks": ""
             }
            },
            "type": "scattercarpet"
           }
          ],
          "scattergeo": [
           {
            "marker": {
             "colorbar": {
              "outlinewidth": 0,
              "ticks": ""
             }
            },
            "type": "scattergeo"
           }
          ],
          "scattergl": [
           {
            "marker": {
             "colorbar": {
              "outlinewidth": 0,
              "ticks": ""
             }
            },
            "type": "scattergl"
           }
          ],
          "scattermapbox": [
           {
            "marker": {
             "colorbar": {
              "outlinewidth": 0,
              "ticks": ""
             }
            },
            "type": "scattermapbox"
           }
          ],
          "scatterpolar": [
           {
            "marker": {
             "colorbar": {
              "outlinewidth": 0,
              "ticks": ""
             }
            },
            "type": "scatterpolar"
           }
          ],
          "scatterpolargl": [
           {
            "marker": {
             "colorbar": {
              "outlinewidth": 0,
              "ticks": ""
             }
            },
            "type": "scatterpolargl"
           }
          ],
          "scatterternary": [
           {
            "marker": {
             "colorbar": {
              "outlinewidth": 0,
              "ticks": ""
             }
            },
            "type": "scatterternary"
           }
          ],
          "surface": [
           {
            "colorbar": {
             "outlinewidth": 0,
             "ticks": ""
            },
            "colorscale": [
             [
              0,
              "#0d0887"
             ],
             [
              0.1111111111111111,
              "#46039f"
             ],
             [
              0.2222222222222222,
              "#7201a8"
             ],
             [
              0.3333333333333333,
              "#9c179e"
             ],
             [
              0.4444444444444444,
              "#bd3786"
             ],
             [
              0.5555555555555556,
              "#d8576b"
             ],
             [
              0.6666666666666666,
              "#ed7953"
             ],
             [
              0.7777777777777778,
              "#fb9f3a"
             ],
             [
              0.8888888888888888,
              "#fdca26"
             ],
             [
              1,
              "#f0f921"
             ]
            ],
            "type": "surface"
           }
          ],
          "table": [
           {
            "cells": {
             "fill": {
              "color": "#EBF0F8"
             },
             "line": {
              "color": "white"
             }
            },
            "header": {
             "fill": {
              "color": "#C8D4E3"
             },
             "line": {
              "color": "white"
             }
            },
            "type": "table"
           }
          ]
         },
         "layout": {
          "annotationdefaults": {
           "arrowcolor": "#2a3f5f",
           "arrowhead": 0,
           "arrowwidth": 1
          },
          "autotypenumbers": "strict",
          "coloraxis": {
           "colorbar": {
            "outlinewidth": 0,
            "ticks": ""
           }
          },
          "colorscale": {
           "diverging": [
            [
             0,
             "#8e0152"
            ],
            [
             0.1,
             "#c51b7d"
            ],
            [
             0.2,
             "#de77ae"
            ],
            [
             0.3,
             "#f1b6da"
            ],
            [
             0.4,
             "#fde0ef"
            ],
            [
             0.5,
             "#f7f7f7"
            ],
            [
             0.6,
             "#e6f5d0"
            ],
            [
             0.7,
             "#b8e186"
            ],
            [
             0.8,
             "#7fbc41"
            ],
            [
             0.9,
             "#4d9221"
            ],
            [
             1,
             "#276419"
            ]
           ],
           "sequential": [
            [
             0,
             "#0d0887"
            ],
            [
             0.1111111111111111,
             "#46039f"
            ],
            [
             0.2222222222222222,
             "#7201a8"
            ],
            [
             0.3333333333333333,
             "#9c179e"
            ],
            [
             0.4444444444444444,
             "#bd3786"
            ],
            [
             0.5555555555555556,
             "#d8576b"
            ],
            [
             0.6666666666666666,
             "#ed7953"
            ],
            [
             0.7777777777777778,
             "#fb9f3a"
            ],
            [
             0.8888888888888888,
             "#fdca26"
            ],
            [
             1,
             "#f0f921"
            ]
           ],
           "sequentialminus": [
            [
             0,
             "#0d0887"
            ],
            [
             0.1111111111111111,
             "#46039f"
            ],
            [
             0.2222222222222222,
             "#7201a8"
            ],
            [
             0.3333333333333333,
             "#9c179e"
            ],
            [
             0.4444444444444444,
             "#bd3786"
            ],
            [
             0.5555555555555556,
             "#d8576b"
            ],
            [
             0.6666666666666666,
             "#ed7953"
            ],
            [
             0.7777777777777778,
             "#fb9f3a"
            ],
            [
             0.8888888888888888,
             "#fdca26"
            ],
            [
             1,
             "#f0f921"
            ]
           ]
          },
          "colorway": [
           "#636efa",
           "#EF553B",
           "#00cc96",
           "#ab63fa",
           "#FFA15A",
           "#19d3f3",
           "#FF6692",
           "#B6E880",
           "#FF97FF",
           "#FECB52"
          ],
          "font": {
           "color": "#2a3f5f"
          },
          "geo": {
           "bgcolor": "white",
           "lakecolor": "white",
           "landcolor": "#E5ECF6",
           "showlakes": true,
           "showland": true,
           "subunitcolor": "white"
          },
          "hoverlabel": {
           "align": "left"
          },
          "hovermode": "closest",
          "mapbox": {
           "style": "light"
          },
          "paper_bgcolor": "white",
          "plot_bgcolor": "#E5ECF6",
          "polar": {
           "angularaxis": {
            "gridcolor": "white",
            "linecolor": "white",
            "ticks": ""
           },
           "bgcolor": "#E5ECF6",
           "radialaxis": {
            "gridcolor": "white",
            "linecolor": "white",
            "ticks": ""
           }
          },
          "scene": {
           "xaxis": {
            "backgroundcolor": "#E5ECF6",
            "gridcolor": "white",
            "gridwidth": 2,
            "linecolor": "white",
            "showbackground": true,
            "ticks": "",
            "zerolinecolor": "white"
           },
           "yaxis": {
            "backgroundcolor": "#E5ECF6",
            "gridcolor": "white",
            "gridwidth": 2,
            "linecolor": "white",
            "showbackground": true,
            "ticks": "",
            "zerolinecolor": "white"
           },
           "zaxis": {
            "backgroundcolor": "#E5ECF6",
            "gridcolor": "white",
            "gridwidth": 2,
            "linecolor": "white",
            "showbackground": true,
            "ticks": "",
            "zerolinecolor": "white"
           }
          },
          "shapedefaults": {
           "line": {
            "color": "#2a3f5f"
           }
          },
          "ternary": {
           "aaxis": {
            "gridcolor": "white",
            "linecolor": "white",
            "ticks": ""
           },
           "baxis": {
            "gridcolor": "white",
            "linecolor": "white",
            "ticks": ""
           },
           "bgcolor": "#E5ECF6",
           "caxis": {
            "gridcolor": "white",
            "linecolor": "white",
            "ticks": ""
           }
          },
          "title": {
           "x": 0.05
          },
          "xaxis": {
           "automargin": true,
           "gridcolor": "white",
           "linecolor": "white",
           "ticks": "",
           "title": {
            "standoff": 15
           },
           "zerolinecolor": "white",
           "zerolinewidth": 2
          },
          "yaxis": {
           "automargin": true,
           "gridcolor": "white",
           "linecolor": "white",
           "ticks": "",
           "title": {
            "standoff": 15
           },
           "zerolinecolor": "white",
           "zerolinewidth": 2
          }
         }
        },
        "title": {
         "text": "Music Data Clustering (2D PCA)"
        },
        "xaxis": {
         "anchor": "y",
         "domain": [
          0,
          1
         ],
         "title": {
          "text": "PC1"
         }
        },
        "yaxis": {
         "anchor": "x",
         "domain": [
          0,
          1
         ],
         "title": {
          "text": "PC2"
         }
        }
       }
      }
     },
     "metadata": {},
     "output_type": "display_data"
    }
   ],
   "source": [
    "# Reduce dimensions\n",
    "pca = PCA(2)\n",
    "features_reduced = pca.fit_transform(features_scaled)\n",
    "\n",
    "# Create a DataFrame for the plot\n",
    "plot_df = pd.DataFrame(features_reduced, columns=['PC1', 'PC2'])\n",
    "plot_df['Cluster'] = spotify_2k['Cluster']\n",
    "\n",
    "# Plotting\n",
    "fig = px.scatter(plot_df, x='PC1', y='PC2', color='Cluster', title='Music Data Clustering (2D PCA)',\n",
    "                 color_continuous_scale=px.colors.qualitative.D3)\n",
    "fig.show()\n"
   ]
  },
  {
   "cell_type": "code",
   "execution_count": 45,
   "metadata": {},
   "outputs": [
    {
     "data": {
      "application/vnd.plotly.v1+json": {
       "config": {
        "plotlyServerURL": "https://plot.ly"
       },
       "data": [
        {
         "hovertemplate": "PC1=%{x}<br>PC2=%{y}<br>PC3=%{z}<br>Cluster=%{marker.color}<extra></extra>",
         "legendgroup": "",
         "marker": {
          "color": [
           1,
           4,
           0,
           0,
           4,
           2,
           4,
           0,
           0,
           4,
           1,
           3,
           4,
           0,
           4,
           1,
           0,
           2,
           2,
           4,
           2,
           2,
           4,
           4,
           4,
           2,
           4,
           4,
           1,
           3,
           1,
           0,
           2,
           1,
           4,
           3,
           0,
           0,
           0,
           1,
           4,
           0,
           2,
           0,
           4,
           0,
           3,
           2,
           4,
           2,
           1,
           0,
           1,
           0,
           1,
           2,
           2,
           2,
           4,
           2,
           3,
           2,
           4,
           4,
           4,
           4,
           4,
           4,
           2,
           2,
           1,
           0,
           0,
           0,
           2,
           4,
           1,
           4,
           4,
           0,
           0,
           2,
           1,
           2,
           4,
           0,
           4,
           3,
           3,
           0,
           1,
           4,
           2,
           0,
           0,
           0,
           4,
           1,
           4,
           2,
           4,
           1,
           4,
           0,
           0,
           1,
           4,
           4,
           4,
           2,
           0,
           2,
           4,
           2,
           0,
           2,
           2,
           4,
           0,
           0,
           0,
           2,
           1,
           2,
           3,
           4,
           0,
           1,
           4,
           4,
           2,
           1,
           0,
           2,
           2,
           4,
           2,
           3,
           1,
           2,
           4,
           0,
           4,
           3,
           4,
           1,
           3,
           0,
           4,
           3,
           2,
           2,
           1,
           3,
           1,
           2,
           2,
           1,
           4,
           4,
           2,
           1,
           4,
           1,
           4,
           1,
           4,
           4,
           1,
           1,
           1,
           1,
           2,
           1,
           2,
           4,
           0,
           2,
           2,
           4,
           3,
           4,
           1,
           4,
           4,
           3,
           0,
           2,
           0,
           4,
           4,
           4,
           4,
           0,
           0,
           2,
           1,
           0,
           0,
           1,
           1,
           0,
           3,
           4,
           0,
           4,
           4,
           0,
           4,
           1,
           0,
           4,
           2,
           4,
           0,
           2,
           3,
           0,
           3,
           4,
           2,
           1,
           2,
           2,
           1,
           0,
           0,
           2,
           1,
           3,
           2,
           3,
           4,
           1,
           0,
           0,
           2,
           0,
           4,
           0,
           4,
           1,
           4,
           0,
           4,
           4,
           2,
           0,
           3,
           0,
           3,
           0,
           4,
           1,
           4,
           0,
           4,
           1,
           0,
           2,
           4,
           0,
           2,
           1,
           4,
           2,
           0,
           3,
           3,
           2,
           4,
           2,
           1,
           2,
           4,
           3,
           2,
           0,
           0,
           4,
           4,
           2,
           4,
           2,
           0,
           4,
           4,
           0,
           1,
           4,
           4,
           0,
           4,
           1,
           4,
           2,
           4,
           3,
           0,
           4,
           0,
           2,
           4,
           0,
           1,
           3,
           4,
           4,
           1,
           4,
           0,
           0,
           0,
           2,
           0,
           3,
           0,
           0,
           2,
           1,
           1,
           3,
           4,
           2,
           0,
           0,
           4,
           0,
           2,
           3,
           4,
           2,
           4,
           1,
           3,
           2,
           1,
           4,
           0,
           2,
           3,
           4,
           1,
           2,
           2,
           4,
           4,
           1,
           3,
           4,
           0,
           2,
           1,
           0,
           1,
           0,
           4,
           0,
           0,
           0,
           2,
           4,
           0,
           4,
           1,
           0,
           0,
           2,
           0,
           4,
           0,
           2,
           2,
           3,
           4,
           2,
           2,
           1,
           4,
           2,
           4,
           4,
           2,
           1,
           2,
           2,
           4,
           4,
           3,
           4,
           2,
           2,
           2,
           0,
           0,
           1,
           4,
           4,
           2,
           4,
           1,
           4,
           4,
           3,
           4,
           0,
           2,
           1,
           3,
           0,
           4,
           0,
           3,
           2,
           4,
           4,
           2,
           2,
           3,
           4,
           0,
           4,
           4,
           2,
           0,
           2,
           3,
           3,
           2,
           0,
           2,
           1,
           2,
           1,
           4,
           0,
           0,
           3,
           0,
           0,
           1,
           2,
           2,
           0,
           1,
           2,
           4,
           1,
           4,
           4,
           0,
           1,
           0,
           2,
           4,
           1,
           2,
           2,
           2,
           4,
           2,
           4,
           1,
           1,
           4,
           4,
           4,
           3,
           4,
           0,
           1,
           4,
           0,
           0,
           4,
           1,
           1,
           0,
           2,
           2,
           0,
           1,
           0,
           1,
           2,
           1,
           3,
           4,
           0,
           0,
           1,
           1,
           2,
           0,
           0,
           4,
           4,
           2,
           3,
           4,
           3,
           1,
           2,
           4,
           3,
           1,
           1,
           4,
           0,
           3,
           2,
           0,
           1,
           4,
           1,
           1,
           2,
           4,
           2,
           0,
           1,
           0,
           4,
           4,
           2,
           1,
           4,
           1,
           0,
           1,
           4,
           0,
           0,
           2,
           4,
           1,
           0,
           4,
           1,
           4,
           2,
           0,
           0,
           2,
           1,
           3,
           4,
           2,
           2,
           2,
           4,
           2,
           4,
           4,
           4,
           0,
           1,
           0,
           4,
           4,
           2,
           0,
           2,
           4,
           0,
           3,
           2,
           2,
           1,
           0,
           4,
           1,
           4,
           3,
           0,
           0,
           2,
           1,
           0,
           2,
           4,
           3,
           0,
           4,
           2,
           4,
           2,
           0,
           4,
           4,
           0,
           2,
           4,
           0,
           0,
           4,
           3,
           3,
           4,
           4,
           4,
           1,
           4,
           1,
           1,
           1,
           4,
           2,
           1,
           0,
           2,
           0,
           4,
           1,
           1,
           4,
           1,
           4,
           2,
           4,
           2,
           1,
           2,
           4,
           0,
           3,
           4,
           2,
           1,
           3,
           1,
           0,
           2,
           0,
           0,
           4,
           4,
           0,
           3,
           3,
           2,
           2,
           0,
           4,
           4,
           0,
           1,
           2,
           1,
           4,
           0,
           2,
           4,
           0,
           0,
           4,
           1,
           4,
           1,
           2,
           1,
           0,
           1,
           0,
           0,
           0,
           3,
           4,
           3,
           4,
           2,
           4,
           1,
           3,
           1,
           3,
           2,
           0,
           3,
           1,
           1,
           4,
           0,
           2,
           4,
           0,
           2,
           4,
           4,
           4,
           1,
           0,
           2,
           2,
           0,
           0,
           4,
           4,
           3,
           4,
           4,
           1,
           1,
           3,
           0,
           2,
           0,
           2,
           2,
           4,
           2,
           1,
           4,
           2,
           4,
           4,
           1,
           2,
           2,
           1,
           1,
           2,
           0,
           2,
           0,
           0,
           2,
           2,
           0,
           3,
           4,
           1,
           1,
           4,
           0,
           3,
           3,
           2,
           0,
           2,
           2,
           3,
           3,
           0,
           3,
           4,
           3,
           4,
           3,
           1,
           0,
           1,
           4,
           1,
           1,
           0,
           2,
           0,
           2,
           2,
           3,
           3,
           3,
           4,
           2,
           4,
           0,
           4,
           3,
           1,
           4,
           2,
           4,
           2,
           4,
           2,
           2,
           4,
           1,
           1,
           0,
           4,
           1,
           4,
           3,
           0,
           4,
           3,
           0,
           1,
           4,
           0,
           0,
           3,
           3,
           0,
           2,
           4,
           1,
           2,
           1,
           1,
           0,
           3,
           1,
           1,
           2,
           1,
           1,
           4,
           4,
           1,
           1,
           1,
           1,
           3,
           1,
           2,
           4,
           2,
           3,
           1,
           3,
           3,
           2,
           0,
           4,
           1,
           4,
           4,
           1,
           1,
           3,
           2,
           1,
           4,
           1,
           4,
           0,
           1,
           1,
           3,
           1,
           1,
           2,
           2,
           1,
           2,
           2,
           1,
           0,
           0,
           1,
           1,
           1,
           1,
           3,
           2,
           0,
           4,
           1,
           3,
           0,
           1,
           1,
           4,
           1,
           2,
           2,
           0,
           3,
           4,
           3,
           3,
           4,
           0,
           4,
           3,
           1,
           2,
           0,
           2,
           3,
           1,
           2,
           3,
           2,
           3,
           3,
           1,
           3,
           0,
           1,
           1,
           2,
           4,
           0,
           3,
           3,
           1,
           0,
           3,
           1,
           1,
           2,
           3,
           3,
           1,
           2,
           3,
           3,
           2,
           2,
           1,
           1,
           1,
           0,
           4,
           1,
           1,
           4,
           1,
           1,
           2,
           3,
           1,
           3,
           1,
           3,
           2,
           3,
           3,
           3,
           4,
           1,
           3,
           0,
           3,
           3,
           0,
           1,
           3,
           4,
           3,
           0,
           1,
           3,
           1,
           1,
           3,
           2,
           2,
           1,
           3,
           0,
           4,
           1,
           1,
           3,
           3,
           2,
           1,
           1,
           1,
           1,
           1,
           0,
           2,
           3,
           3,
           4,
           1,
           0,
           1,
           3,
           3,
           4,
           2,
           2,
           2,
           1,
           2,
           1,
           3,
           2,
           2,
           1,
           4,
           2,
           0,
           2,
           1,
           2,
           3,
           4,
           3,
           1,
           4,
           1,
           3,
           2,
           4,
           1,
           4,
           2,
           0,
           3,
           2,
           2,
           0,
           2,
           4,
           1,
           4,
           1,
           3,
           4,
           3,
           1,
           2,
           2,
           3,
           0,
           3,
           0,
           3,
           4,
           3,
           1,
           1,
           2,
           0,
           4,
           1,
           1,
           0,
           3,
           0,
           3,
           2,
           1,
           2,
           1,
           0,
           3,
           1,
           1,
           4,
           4,
           3,
           3,
           4,
           1,
           2,
           4,
           3,
           4,
           1,
           4,
           2,
           4,
           0,
           4,
           2,
           3,
           3,
           4,
           3,
           3,
           3,
           3,
           2,
           0,
           3,
           3,
           3,
           3,
           0,
           1,
           0,
           3,
           4,
           4,
           1,
           1,
           3,
           4,
           3,
           1,
           4,
           2,
           3,
           2,
           2,
           2,
           3,
           4,
           1,
           4,
           4,
           4,
           0,
           3,
           4,
           4,
           2,
           4,
           1,
           4,
           3,
           1,
           3,
           1,
           4,
           3,
           1,
           4,
           4,
           3,
           4,
           1,
           4,
           2,
           4,
           3,
           1,
           2,
           2,
           1,
           3,
           0,
           4,
           1,
           3,
           4,
           4,
           0,
           2,
           2,
           4,
           3,
           3,
           3,
           4,
           3,
           0,
           4,
           3,
           3,
           4,
           2,
           4,
           3,
           2,
           0,
           0,
           4,
           0,
           2,
           3,
           4,
           3,
           4,
           0,
           4,
           4,
           1,
           3,
           3,
           1,
           3,
           1,
           4,
           4,
           0,
           3,
           2,
           0,
           1,
           0,
           4,
           4,
           3,
           0,
           3,
           4,
           4,
           3,
           3,
           1,
           1,
           2,
           3,
           3,
           2,
           4,
           3,
           4,
           3,
           1,
           2,
           4,
           0,
           3,
           3,
           2,
           3,
           1,
           1,
           4,
           0,
           4,
           3,
           2,
           1,
           3,
           3,
           4,
           3,
           1,
           3,
           0,
           4,
           4,
           2,
           1,
           3,
           3,
           3,
           3,
           4,
           4,
           4,
           3,
           0,
           1,
           4,
           3,
           4,
           2,
           4,
           0,
           4,
           3,
           4,
           4,
           3,
           4,
           3,
           1,
           3,
           4,
           3,
           3,
           3,
           3,
           1,
           0,
           0,
           4,
           4,
           4,
           1,
           4,
           4,
           4,
           2,
           4,
           1,
           4,
           3,
           0,
           2,
           3,
           4,
           0,
           0,
           2,
           4,
           2,
           0,
           2,
           1,
           4,
           1,
           3,
           3,
           4,
           1,
           4,
           4,
           4,
           0,
           3,
           3,
           2,
           0,
           3,
           1,
           4,
           1,
           4,
           1,
           3,
           3,
           2,
           4,
           2,
           0,
           0,
           2,
           3,
           3,
           2,
           0,
           4,
           3,
           4,
           3,
           1,
           3,
           3,
           3,
           3,
           3,
           1,
           3,
           3,
           1,
           4,
           1,
           3,
           3,
           2,
           2,
           3,
           1,
           4,
           3,
           1,
           2,
           0,
           2,
           4,
           4,
           0,
           4,
           3,
           1,
           1,
           4,
           2,
           1,
           1,
           4,
           3,
           4,
           4,
           4,
           4,
           1,
           0,
           3,
           2,
           2,
           3,
           1,
           0,
           1,
           4,
           1,
           3,
           4,
           1,
           2,
           4,
           3,
           3,
           1,
           3,
           3,
           0,
           1,
           1,
           4,
           4,
           1,
           4,
           2,
           2,
           4,
           0,
           1,
           3,
           1,
           0,
           3,
           4,
           1,
           3,
           0,
           1,
           0,
           1,
           2,
           2,
           1,
           3,
           1,
           4,
           1,
           4,
           1,
           1,
           4,
           0,
           4,
           3,
           2,
           3,
           3,
           4,
           3,
           0,
           0,
           3,
           0,
           0,
           4,
           4,
           3,
           1,
           2,
           1,
           3,
           3,
           3,
           0,
           3,
           3,
           2,
           3,
           3,
           3,
           0,
           1,
           1,
           3,
           0,
           3,
           1,
           2,
           2,
           1,
           3,
           3,
           3,
           3,
           4,
           2,
           1,
           3,
           4,
           3,
           3,
           0,
           0,
           2,
           3,
           2,
           2,
           3,
           3,
           2,
           1,
           1,
           3,
           3,
           0,
           3,
           2,
           1,
           3,
           3,
           0,
           3,
           4,
           0,
           1,
           4,
           4,
           3,
           2,
           4,
           3,
           4,
           0,
           1,
           4,
           1,
           0,
           2,
           0,
           3,
           2,
           3,
           1,
           4,
           3,
           1,
           2,
           1,
           0,
           3,
           4,
           2,
           3,
           2,
           2,
           4,
           2,
           2,
           4,
           1,
           2,
           0,
           2,
           4,
           4,
           2,
           0,
           0,
           2,
           3,
           4,
           3,
           2,
           2,
           0,
           4,
           2,
           2,
           2,
           2,
           0,
           2,
           4,
           1,
           4,
           1,
           1,
           3,
           0,
           0,
           3,
           4,
           4,
           2,
           3,
           2,
           3,
           2,
           1,
           3,
           4,
           4,
           3,
           4,
           0,
           0,
           1,
           4,
           3,
           1,
           1,
           1,
           2,
           0,
           4,
           3,
           4,
           2,
           0,
           0,
           2,
           1,
           2,
           0,
           1,
           4,
           3,
           1,
           4,
           4,
           2,
           1,
           3,
           0,
           2,
           3,
           4,
           1,
           2,
           0,
           1,
           2,
           2,
           3,
           2,
           1,
           3,
           0,
           2,
           4,
           0,
           3,
           3,
           1,
           2,
           0,
           3,
           3,
           0,
           1,
           1,
           2,
           2,
           3,
           2,
           2,
           0,
           1,
           1,
           2,
           2,
           2,
           4,
           2,
           2,
           1,
           0,
           0,
           2,
           0,
           3,
           2,
           4,
           2,
           0,
           4,
           2,
           2,
           4,
           1,
           0,
           2,
           0,
           0,
           3,
           1,
           1,
           4,
           1,
           4,
           1,
           1,
           0,
           4,
           0,
           1,
           3,
           2,
           0,
           2,
           1,
           2,
           2,
           2,
           2,
           4,
           3,
           4,
           1,
           2,
           1,
           3,
           1,
           1,
           0,
           0,
           2,
           2,
           2,
           4,
           1,
           2,
           3,
           1,
           4,
           4,
           3,
           1,
           3,
           2,
           2,
           1,
           4,
           2,
           3,
           1,
           0,
           4,
           0,
           1,
           4,
           2,
           0,
           4,
           0,
           1,
           4,
           1,
           2,
           0,
           4,
           0,
           1,
           1,
           2,
           1,
           1,
           0,
           0,
           0,
           2,
           2,
           1,
           2,
           2,
           3,
           3,
           1,
           4,
           4,
           0,
           2,
           1,
           1,
           4,
           1,
           2,
           2,
           4,
           2,
           2,
           0,
           3,
           0,
           2,
           4,
           1,
           2,
           4,
           2,
           2,
           1,
           2,
           1,
           1,
           2,
           3,
           2,
           2,
           1,
           2,
           2,
           3,
           2,
           3,
           4,
           4,
           2,
           2,
           1,
           4,
           3,
           4,
           2,
           0,
           1,
           4,
           1,
           4,
           1,
           3,
           1,
           0,
           1,
           0,
           1,
           2,
           2,
           0,
           0,
           4,
           0,
           4,
           0,
           0,
           4,
           1,
           2,
           1,
           3,
           0,
           4,
           2,
           2,
           4,
           1,
           0,
           0,
           1,
           4,
           4,
           2,
           4,
           1,
           1,
           1,
           3,
           3,
           3,
           1,
           3,
           4,
           1,
           4,
           1,
           1,
           2,
           3,
           1,
           1,
           4,
           3,
           3,
           3,
           1,
           4,
           2,
           0,
           4,
           1,
           1,
           1,
           2,
           3,
           1,
           1,
           2,
           3,
           3,
           0,
           2,
           3,
           1,
           2,
           3,
           4,
           1,
           4,
           1,
           3,
           3,
           1,
           2,
           1,
           3,
           1,
           1,
           1,
           2,
           2,
           2,
           1,
           3,
           4,
           1,
           3,
           1,
           0,
           2,
           2,
           2,
           1,
           2,
           1,
           3,
           2,
           2,
           2,
           4,
           1,
           2,
           2,
           3,
           1,
           2,
           3,
           3,
           2,
           1,
           4,
           2,
           3,
           2,
           3,
           3,
           1,
           1,
           3,
           1,
           2,
           2,
           4,
           0,
           1,
           2,
           3,
           3,
           1,
           0,
           3,
           3,
           0,
           3,
           0,
           2,
           2,
           2,
           0,
           1,
           2,
           3,
           0,
           2,
           2,
           2,
           3,
           3,
           4,
           1,
           4,
           1,
           0,
           2,
           1,
           1,
           0,
           2,
           1,
           2,
           4,
           0,
           2,
           2,
           3,
           1,
           2,
           3,
           2,
           2,
           2,
           2,
           1,
           3,
           0,
           1,
           4,
           2,
           2,
           0,
           2,
           1,
           3,
           3,
           1,
           1,
           3,
           0,
           4,
           1,
           3
          ],
          "coloraxis": "coloraxis",
          "symbol": "circle"
         },
         "mode": "markers",
         "name": "",
         "scene": "scene",
         "showlegend": false,
         "type": "scatter3d",
         "x": [
          2.127657523710516,
          -0.9954815468913741,
          -1.64225288417728,
          -1.914315113601747,
          -2.00335009156917,
          0.6026952118113232,
          -1.2102647402003683,
          -1.7418764215309765,
          -1.5690573532390155,
          -2.2759062736821605,
          3.766089079699335,
          -0.43575084222840577,
          -1.5348829272656899,
          -1.7788019034488918,
          -2.052335426870193,
          1.9853104821514365,
          -1.3561860815756752,
          -0.08861215181681609,
          1.9559928667063633,
          -0.5178629157908196,
          1.2641816930847225,
          0.013956200560994624,
          -1.9331597826361306,
          -2.700279664856838,
          -0.8911048104143562,
          0.9519634864568987,
          -1.3738252683844345,
          -3.0352274751393704,
          2.8720410204134272,
          -0.7848380050477087,
          1.249072818580746,
          -0.42547488428962627,
          0.34950124443895975,
          2.131571598428051,
          -1.5544609224555508,
          0.20404953892378214,
          -1.137581292435559,
          -0.4406608997714541,
          -1.3736461948549217,
          3.0130679224990016,
          -1.7329173085362564,
          -0.4062300290692906,
          -0.1971127168616993,
          -2.8935484905033992,
          -1.4744874632544331,
          -0.41760278556763303,
          -0.220618293327178,
          -0.01730588378559135,
          -1.6327784421183862,
          -0.8168645204930197,
          2.136940367566455,
          0.8363281595517988,
          3.068026170563314,
          -0.6868925919906763,
          2.0744630414772662,
          -0.6835817445026215,
          -0.41603539247304,
          -0.040327487840229104,
          -0.7941955294369495,
          0.7152727706028901,
          0.6466929685956427,
          0.01879226699931315,
          -1.922201386049718,
          -1.1862521814414695,
          -1.4549935823397782,
          -1.4700099719565933,
          -1.7244427854926823,
          -1.4232620172657677,
          1.1553221291132896,
          -0.34866906782899293,
          3.1464585595619567,
          -1.38371826591958,
          0.11944649001521922,
          -0.642748333966925,
          -0.18059053274232204,
          -1.3088913880078958,
          2.5732751260675886,
          -1.904362276348622,
          -1.6591026399349058,
          -0.671155076097265,
          -0.6572607557359275,
          1.7804213905451458,
          3.261700341403355,
          -0.13456980227834608,
          -1.923394455981887,
          -1.332967226134253,
          -1.7668447381371546,
          0.6836304558170732,
          -0.612175722069311,
          -1.6602336126255675,
          2.208279550416861,
          -1.550892245887383,
          0.7245813833907887,
          -0.7051408965905912,
          -1.305167536087306,
          -0.9145514001420258,
          -2.3640251704052733,
          4.053869879289121,
          -1.6160577726360712,
          -1.128424850522292,
          -1.4006060578122386,
          1.9619063493482494,
          -2.1043169458853677,
          -0.46267896790207785,
          0.1157728695305899,
          1.9867191781124798,
          -2.5765670055499585,
          -0.5626903295749425,
          -2.410654109647081,
          1.069512078104794,
          -1.8843761246390296,
          -1.4689586775310957,
          -0.9729019097484255,
          -0.9012064134169815,
          -2.0899417313463053,
          -0.8462977068760081,
          1.0728830800936515,
          -1.834486307194356,
          -0.48124961502259533,
          -0.961512666672919,
          -1.8188548316641369,
          -0.34598182799612537,
          1.6171669914630404,
          1.2009489898109917,
          -0.9614864874036174,
          -2.304156623444808,
          -1.583754767041895,
          1.1066008421401705,
          -0.9089862937378315,
          -2.127602685216624,
          -0.19222660004700426,
          1.917021639179793,
          -0.34216608754364325,
          2.059840644210427,
          -0.6335493542035624,
          -2.0832679403765346,
          0.6429892945226516,
          -0.7540738026717813,
          1.6282168398006736,
          -1.476715767160112,
          -1.5772745563580461,
          -0.8360254448512046,
          -0.9626711583846032,
          -0.9851200205775195,
          -2.2199803968822587,
          2.46960681939095,
          1.1479425130800023,
          0.3417468994491801,
          -1.0631986905198805,
          0.4248997255356228,
          1.012877387607777,
          -0.7392517231403215,
          1.2649967716042467,
          0.05694213353381063,
          3.4257454626786465,
          -0.16174672658616282,
          0.19970034454600824,
          1.6362326858276246,
          -2.4229357157655107,
          -1.6542422279710336,
          -0.06296733379016095,
          1.2398165934619394,
          -0.9506177254569593,
          2.01035552618968,
          -2.0658628998893813,
          3.0731957088597768,
          -1.3695568211194022,
          -0.7410289174494669,
          2.245530972956127,
          3.564290898606036,
          3.7529432430736156,
          1.4471464944671895,
          -0.07030106620369336,
          2.304207900616781,
          -0.5296166977709422,
          -2.614966093627032,
          -1.2063485514757948,
          0.6427204672069827,
          0.32796301895182517,
          -1.4995081293683916,
          0.06078599825865393,
          -0.973845882832145,
          2.3259737829712024,
          -1.198506946147244,
          -2.043979965577518,
          -1.1093967861816945,
          -1.8934338622147688,
          -0.5662434004083035,
          -1.759504144415612,
          -1.122148208038877,
          -1.20265894081588,
          -0.9273099080779879,
          -2.2004639496302394,
          -0.2353434706854259,
          -0.7248072556769255,
          1.1185735769874474,
          1.7092054752540722,
          -1.515297721588593,
          -1.7988403658707492,
          1.7373252074540002,
          1.1984129617206565,
          -1.137093807371828,
          0.0743990405656934,
          -2.4340892604935345,
          0.06288237267901872,
          -1.652040254080437,
          -1.8713449475759711,
          -0.7980320288311039,
          -1.2439040177814582,
          2.0787897191780296,
          0.08408789698155705,
          -1.5470074687884776,
          -0.8795841444086936,
          -2.6460413452053224,
          -0.8414448609986899,
          0.006401897559788313,
          -0.6625827560610826,
          -0.7631050567234228,
          0.05032318341848458,
          -2.529728341940471,
          0.8599863764829279,
          1.6344339132910248,
          0.28167599753601047,
          0.6058844438471129,
          1.6733856610985498,
          -0.13510146816859583,
          -1.6360155280136834,
          0.7248948232078927,
          3.887426145282778,
          -0.8769540810068962,
          0.33299262799839885,
          0.2617132301948726,
          -1.9520541407797947,
          2.561414076781338,
          1.048066218720713,
          -0.9856049605840926,
          1.6579817364470528,
          -1.6321246539391137,
          -2.741618243693292,
          -0.5834238065116001,
          -1.728870840567182,
          0.9373937600470986,
          -0.9213231248025763,
          -0.4185138722250503,
          -1.5748627410587348,
          -1.5346752267311008,
          0.35613350761600227,
          -1.594307290356067,
          -0.9439457078674656,
          -1.0747662889188923,
          0.8701851648047031,
          -1.584591803281927,
          -2.409437727082576,
          3.3536595415332835,
          -1.5109556617529813,
          -1.730793482486968,
          -1.781241971779125,
          2.3172876186776237,
          -0.9671964602970504,
          1.3411061075110133,
          -1.5027853387945882,
          -0.30671411858230213,
          -1.2906952932053781,
          1.1838002374035355,
          -4.36946064272842,
          -0.3682254089556677,
          1.3833918405309213,
          0.15535694992320623,
          -1.7531705148643915,
          -0.7476802662370097,
          -1.6321972388566954,
          1.29427268802973,
          3.283250745133632,
          -0.7337689928157496,
          -1.0754728203497632,
          -0.5147543241516914,
          -1.129012258028235,
          -0.9992462322952279,
          -1.3038087335182822,
          -3.0501111079497645,
          -1.1424412744844414,
          1.2415189199499288,
          -1.8900699655553344,
          -0.6763930709495901,
          0.9029380639000789,
          -1.760529926961792,
          -1.8067922498232623,
          -1.8493680349366803,
          2.3579300844982636,
          -2.690345027120475,
          -1.6446899963822113,
          -0.43208798707244406,
          -2.325070990458508,
          1.6991944947570043,
          -1.59590078729943,
          -0.30904835760498167,
          -2.42162205599286,
          -0.2993187970229447,
          -1.4304887423927195,
          -0.752441082323437,
          0.6359945645772049,
          -0.8965759270200993,
          -2.5265300864254,
          -1.738671982836043,
          2.0450302953048745,
          -0.7064616869095351,
          -1.3985379702699838,
          -1.3787655619330799,
          3.9532137893242596,
          -1.1869107955249636,
          -0.46572488126127704,
          -1.4858971027321421,
          -1.6212091691588977,
          -0.43715988806197753,
          0.24390967908328026,
          -0.7878425023603147,
          -1.8506168178994926,
          -1.6244998684714136,
          -0.36059725899840644,
          1.5043060763732685,
          1.625121589027449,
          -1.139091080224608,
          -1.0520973226290231,
          0.6024288038498422,
          -1.321316497889221,
          -1.7188279514574356,
          -1.5336181541935634,
          -2.1338596569424215,
          -0.7332782894414235,
          0.08253221521870051,
          -1.6028005369838705,
          0.9308096913767738,
          -1.922919457081538,
          1.4609188673260618,
          0.037027095642097094,
          -0.2786583725291746,
          2.865240124737709,
          -1.6876529441258492,
          -0.47218150826940036,
          1.9455162608204948,
          1.6304120819090164,
          -1.1751350304054964,
          1.6845635125290246,
          -0.6530956509707158,
          0.002023193317861733,
          -2.3720960373717923,
          -1.8623789271203517,
          2.651357064569494,
          1.089464385716612,
          -1.9631558192146479,
          0.6352847921085015,
          0.5780423073970828,
          1.3529530378551657,
          -1.6450531174605145,
          2.2183739830030444,
          -0.9915976634694423,
          -2.197822541758904,
          -1.4957440413762941,
          0.4826358529966652,
          -1.3511656280500157,
          2.096621501011663,
          -2.4747581817351794,
          -1.4428207216205289,
          -1.5457729596780323,
          1.6655770272698127,
          -0.16756140993780808,
          -2.14868869506013,
          0.2123520431441059,
          -1.1812527248809541,
          -2.3430904484766852,
          -1.1566101544207634,
          0.9888052934815926,
          -1.6914041581204162,
          0.4429397658858532,
          -2.4550800622399707,
          -0.9993381305780837,
          0.0957812736182683,
          1.9449310088687253,
          -1.3950574684136763,
          -0.3614605038494431,
          -1.6051084685221257,
          -1.0162358777376987,
          1.1554803472863946,
          2.951751897947317,
          1.1006774654234732,
          -0.007039120129976189,
          -1.1609787920008374,
          -1.010339154486932,
          0.5724807126961347,
          -1.1042924304708583,
          -1.507479596283013,
          0.15994256425676354,
          -1.0966072682895232,
          -0.5597046129138641,
          -0.7120418353154109,
          3.7850020057685425,
          -1.393202219876318,
          -2.014614705809833,
          -0.40523727108363994,
          -1.1641925265539836,
          2.4898560563361296,
          -2.0907207358636737,
          -1.924097988639424,
          0.3892915002779274,
          -0.9447836463524174,
          -0.8363912825579709,
          0.6092223551209085,
          3.1687860512889725,
          -0.25639380205823076,
          0.26342835717241053,
          -0.9981787181149557,
          -1.4339868772600641,
          -1.1561335336742415,
          0.062051556631756134,
          -1.3538044791523618,
          -1.8581449212642134,
          -0.26818650257167675,
          0.9269146757156298,
          0.8429890868501373,
          -1.6595801727032968,
          -0.955692148369206,
          -0.8162294302830668,
          -1.552866437730944,
          -1.0609940695281295,
          -2.6143915217319043,
          -0.003961218599583552,
          0.5791783222034316,
          0.8573076577329802,
          -0.2700318492926242,
          -2.1645055008779615,
          -0.061967533443639124,
          3.205262793597214,
          -0.9791515681944313,
          1.827571845698219,
          -1.266280047329853,
          -1.328083673404053,
          -1.1567694864723097,
          -0.31926860884676134,
          -0.08802701328581962,
          -0.6087062012324255,
          1.8148215746153784,
          0.10670169784070811,
          0.38949933939167397,
          -0.8873130007513188,
          1.7041259272989189,
          -0.5645491389248033,
          -1.146962924439622,
          3.5497079003264704,
          -1.5624126512204108,
          -2.003321240230545,
          -1.5095817747093938,
          2.075542242212387,
          -0.2774468352949496,
          -0.5891561029506694,
          -2.1418940585105726,
          1.1725664610582784,
          -0.6038425708679832,
          0.3038027655231766,
          1.325457161705373,
          -0.5583018262733273,
          0.677548114811034,
          -1.8426200169704212,
          1.0062672312910534,
          2.0437433423656484,
          -1.6758292178805683,
          -3.3634495300354033,
          -2.9906466715980615,
          1.5411546275563581,
          -1.703555954369017,
          -0.373376670804695,
          2.225955880893213,
          -0.6598906431478946,
          -0.8192878847345548,
          -0.8591226606716811,
          -1.3928729742084527,
          1.5438989315962406,
          2.3353917989882005,
          -0.371052075400336,
          1.4057042790414316,
          1.2259414886179882,
          -1.5058474060029825,
          1.7700674274278854,
          -1.034689076967842,
          2.586441508292805,
          -0.8759982924995626,
          2.20376049596363,
          -0.21142027521963852,
          -0.9380280333648564,
          -1.210692705913714,
          -0.9638575599791249,
          3.18609566597171,
          3.821112253277292,
          0.8637281849354513,
          0.7394769893913584,
          0.15323844874046827,
          -1.143825920454039,
          -2.8136188531390562,
          -0.37286339245565076,
          0.9944858760244664,
          -2.454283877776027,
          1.4979879839619346,
          2.2253718476390674,
          -0.8901362463391677,
          -1.6186012934480942,
          0.2766995726724953,
          2.1529835312140393,
          1.938902312659669,
          -1.164104948038383,
          0.7711139255353758,
          -1.398756162096483,
          -1.1617336070638762,
          0.15989851257346413,
          1.4878259326997747,
          -1.3910908621571463,
          2.3045372673536044,
          2.463375989172194,
          -1.0421902443107025,
          -2.284454539942357,
          -0.9815025532218008,
          -0.5093649646776743,
          1.9397893716230208,
          -2.004844734278105,
          -1.5523699938194284,
          -0.7589891805091035,
          0.22136597442147582,
          1.4918022649532388,
          -1.3638412988878004,
          3.9102008365260392,
          -0.9962680563363575,
          2.130908223398413,
          -2.653737415567267,
          -0.6530963564805048,
          -1.0136213020459048,
          0.5533599534537804,
          -1.2827820739207076,
          1.9989870528782787,
          -1.149345726104675,
          -1.3578170750796181,
          2.089295518762778,
          -1.7995189855882194,
          1.5668023249017606,
          -1.3421430562078105,
          -1.119382080755151,
          -1.2022485161265437,
          0.9729347357267458,
          1.2025070663864266,
          -2.272062911851259,
          -0.014114079507601232,
          -0.45509372232421624,
          0.15302041227864285,
          -1.1721640091614578,
          -1.1148811515449102,
          -2.0145533823242427,
          -2.0921366736399687,
          -2.2429139421680526,
          -1.835347761826485,
          2.735949718749426,
          0.38855643169345144,
          -2.1061705106142234,
          -1.913967418376664,
          -0.6342526335888278,
          0.03542344132912984,
          -0.2907950367215145,
          -1.3960789595917276,
          -1.1434803471062824,
          0.057775005456596806,
          -0.137001979750684,
          0.7610287370866635,
          1.5665476815657133,
          -1.220294008063204,
          -1.6980610382110377,
          2.2493047910175563,
          -2.7879199297404256,
          1.1543636712669647,
          -1.0007256891470797,
          0.24534913747096473,
          -0.0706982351537771,
          1.572932186591134,
          -1.4806744759410424,
          -0.9419342649495223,
          -2.088728801269978,
          -0.682038911335347,
          -1.4189241577708631,
          -2.2219983548975772,
          1.6165326368841524,
          -1.5350354627364085,
          1.3566876576087092,
          0.31135979217593807,
          -0.7220150796824057,
          -2.5547945232067404,
          -2.182759692795455,
          1.3843875753893757,
          -2.925376977451934,
          1.0894856054216402,
          -1.1577492356145742,
          -1.2955393507688704,
          0.8949776279293501,
          -1.2660003039017593,
          -1.2951613349105862,
          -1.5841824798730355,
          -2.1310958555531707,
          2.406164290200519,
          -1.5826520369586414,
          2.0252664691922044,
          2.1162033444774995,
          2.2401274896779233,
          -1.9700848806913807,
          -0.13778281593976469,
          2.75110864561351,
          -1.6134574905126569,
          -0.1483326195684765,
          -1.6065710742044417,
          -1.9625362262758643,
          2.2362370675872296,
          1.6615362075704487,
          -1.788378974407521,
          1.125270879358275,
          -1.9483581056369328,
          -0.004045539021485793,
          -2.0171523936635984,
          1.245227869357068,
          2.4460256130430347,
          -0.496218583054275,
          -2.076946904316932,
          -0.34463698968658113,
          0.9840715483619625,
          -1.510429854352186,
          0.15350790193241998,
          1.319887474788957,
          -0.19267193358176724,
          1.670925066814521,
          -1.616860600568573,
          1.3052860963603354,
          -1.340835406513416,
          -1.2027756363014053,
          -1.364973238987785,
          -1.7965352135772508,
          -1.0229600905985834,
          -0.7702400848497827,
          -0.2387882023735312,
          -0.054919000209273566,
          -0.9161662143031986,
          -1.0338889853587734,
          -2.1360131913120153,
          -0.17229310176457177,
          -0.7675287651655806,
          1.409069127523584,
          1.4047926985843457,
          1.9509422588109486,
          -1.1884265008248127,
          0.3641792461069404,
          0.43393255601864916,
          -0.7342192048115465,
          0.17144414005698672,
          -1.1161420510948572,
          -1.9953059884578728,
          1.403823718870616,
          -1.0813529967454616,
          1.7585148583158543,
          -0.7698231220165099,
          2.046854392699989,
          -1.219347206666325,
          3.5773656193016126,
          0.27275330932255576,
          -0.07638364017453128,
          0.12050037788800252,
          -0.8595699536896287,
          -1.3664341627623189,
          -0.1265623880942459,
          -2.2792172259449917,
          0.8400712228002821,
          -1.3625972736198477,
          1.3937856299050448,
          -0.1152685160923444,
          2.3691805111802453,
          0.016391481191092287,
          0.7306364306965745,
          0.3571254186922009,
          -0.1852222694379562,
          2.9330373275322232,
          3.1080187434460647,
          -1.2044737434153368,
          -1.7757088870054007,
          0.39145232397841606,
          -2.4760549964974277,
          -1.3522649455514661,
          -0.2640248137156285,
          -1.5184043284815862,
          -2.475395155549499,
          -1.8341145592858927,
          3.093473366561424,
          -1.6966865498045118,
          -0.44517941424868945,
          -0.050897706983590335,
          0.14751191105488565,
          -0.030808072010856065,
          -1.3598842360911505,
          -2.2102190096739025,
          0.1695721580185463,
          -1.7762022523930645,
          -1.6458549227575991,
          2.9060454485018727,
          1.9742180622098224,
          -1.2100326617354356,
          -3.1052616629016168,
          -0.6604681387104373,
          -1.5371097847968402,
          0.5430374859065688,
          1.291348829699548,
          -2.524223033870268,
          -0.6735849902222043,
          2.6196801395314,
          -2.381044271171257,
          1.1971037393794854,
          -2.497726912408695,
          -1.6140520391636384,
          2.264632637356843,
          1.358546134255734,
          -0.8143315450255417,
          1.5747663774784648,
          2.5332529712607434,
          -0.18911389348198696,
          -0.7754926717446825,
          -0.6793631182277887,
          -1.7484252677589869,
          -1.3392789515474364,
          0.6701137667776313,
          -0.9293795563950982,
          0.22593347704067906,
          -0.1354329536121164,
          -1.9212162191237385,
          2.407203254038915,
          0.8949757490777903,
          -2.400074645071129,
          0.022590894482923566,
          0.44426995548691117,
          0.40515174229326156,
          -0.34303937028203874,
          -0.1017329427021711,
          -0.25188894535041284,
          -0.6168864599805498,
          0.417409051966083,
          -0.9658688762942982,
          -0.2534071002423849,
          0.7577453969804543,
          -1.922557586816269,
          -0.6852965838948664,
          -1.4323945512614147,
          -1.1818045810372682,
          0.9147621561090553,
          -0.34858823810050116,
          1.0929923857918347,
          -2.121001771172763,
          1.8167143943755624,
          2.8092066242777416,
          -0.7188285413054845,
          -0.15475680344518053,
          -0.47889553276617935,
          0.2181478180268333,
          0.13436376117465218,
          -0.3906828127796381,
          -0.4916749555700885,
          0.020094154793753184,
          -2.995444646476845,
          0.3808579503208291,
          -2.2526246159674943,
          -0.28871234979876964,
          -1.103241736904659,
          1.1940227585697885,
          2.7978516141371235,
          -1.4238242522491615,
          -0.4515676742715822,
          -0.6676113531774535,
          -0.32354131447528794,
          -2.651006996411736,
          -1.1334648470845112,
          -0.5733775337506939,
          -1.2220657817466978,
          1.741067147625536,
          2.770002951306821,
          0.37212939158591013,
          -1.0926302187750674,
          2.26734621974057,
          -1.1616016455271208,
          -0.9231183150078794,
          -1.067150345253849,
          -1.091681677502345,
          1.0426818747726798,
          -0.6741045660427939,
          0.9413739817029546,
          -1.0648142142788304,
          -1.339968564489211,
          -1.2010071079008182,
          -0.23462747477029983,
          -0.39634415975326914,
          -0.19309449350692445,
          -0.03144290242873225,
          -2.561743338758221,
          2.2657483240323346,
          0.9178731666073199,
          1.1771925212408079,
          3.672224662872501,
          -0.3007104807960964,
          -0.25401139637082226,
          2.1144684085323324,
          1.606775369877536,
          0.851652166319519,
          2.384241871414574,
          2.721818314795059,
          -1.419711163402885,
          -1.397927561846605,
          2.7536900418348025,
          1.8851815640481355,
          2.1109576417245033,
          1.6342720829066197,
          0.22795678129795519,
          3.6185844148709823,
          0.4342568688162448,
          -2.0458662521565025,
          0.9611843539593133,
          0.31690779081453446,
          1.8556488599747059,
          0.023760660386179074,
          -0.7444851933801491,
          -0.6263030835779686,
          0.08807465097164278,
          -1.4840821668868245,
          1.9410655132246455,
          -1.4441306996437289,
          -1.6179050235716292,
          3.4417861816709356,
          1.35584051134466,
          0.14500884075961076,
          0.36396255164996233,
          2.945436628199782,
          -2.028693076132808,
          2.151762184914925,
          -1.9071523753044965,
          0.134585813716191,
          2.4855010510572133,
          2.990763465948627,
          -0.18764873878329033,
          2.7331573358849393,
          3.9871452604089623,
          0.6756119909962994,
          0.20184133900116893,
          2.4613803233383593,
          1.5680492075944403,
          0.9210168408969748,
          1.559580890424894,
          -0.8959307301210715,
          -1.9244730922952564,
          1.0832892663525817,
          1.2423870032087125,
          1.2980824822463175,
          2.0826114619087543,
          -0.7328958056787294,
          0.9694572254949302,
          0.2149001622432267,
          -2.37835015407477,
          2.098480084707842,
          0.6917675278150387,
          -0.17555440457312874,
          1.645981899708085,
          0.7750469024952772,
          -1.3796018593360555,
          2.253585761853785,
          1.2981565858154394,
          1.5495489072304844,
          -0.5935758569832491,
          0.591164885314863,
          -1.1642440408743795,
          1.7092468991199088,
          1.0401870617211917,
          -1.3700061737059726,
          -1.890717267193276,
          -0.8554040294616142,
          1.2415797459877356,
          4.772896025738375,
          0.17005408837999883,
          -0.8249642152500207,
          -0.16756188447355114,
          -0.6323161794115204,
          2.7140188517576016,
          0.5349248741779914,
          -0.2720994625786761,
          0.471844224270204,
          -0.3833639445798017,
          1.2358129507422118,
          1.9731828768886084,
          0.7827497989069451,
          -1.3058921668559442,
          2.841454561587467,
          2.27821995844878,
          -0.03395907216050755,
          -0.8151650498805227,
          -0.2711116717748512,
          0.009727055297017563,
          -0.22804282518541272,
          1.7263546548161743,
          -0.28346373043580647,
          0.3228574856353089,
          3.3111957770694516,
          1.5037313775395733,
          1.159868455062615,
          -0.5736394133169703,
          0.5872667291050331,
          2.212433675556393,
          -1.1218667309146266,
          0.016708796876491346,
          -0.6591833735960498,
          -0.15030097151640442,
          0.6454131533725435,
          3.8169221157013675,
          1.348035112513863,
          1.379435293287871,
          -0.7729834918639075,
          -0.9355652615535505,
          1.986736250571337,
          3.326342515667588,
          -1.2120775782175048,
          2.546332548512692,
          3.5417740887414992,
          0.561417082957426,
          -0.4596355888817738,
          3.021407478794254,
          1.0754881218872998,
          1.3662489198798746,
          -1.3384561442824952,
          0.638762633801542,
          1.0168290965842408,
          0.05315740271512883,
          0.3101904571667933,
          -1.8834256125862874,
          1.4288559614295353,
          -0.268601496388347,
          -1.1918601171767005,
          0.46456563441584936,
          1.3631610261199405,
          -0.5938713001768212,
          2.3870514306035955,
          0.2897181894521761,
          -0.5805335206621608,
          -0.30903295174731366,
          -1.5573078387788066,
          2.3071546823921816,
          1.1726661598013925,
          3.4230464169256414,
          1.64940314268839,
          0.39179312095846897,
          1.3494345225218993,
          1.9187278691799776,
          3.402855615125168,
          0.15164884113471905,
          0.713353634907447,
          -0.9652315146220967,
          1.825793742671618,
          3.4244992650100112,
          -0.36193700224432784,
          0.45039829262353437,
          1.303598593029487,
          2.5019984055943936,
          2.9531649710194516,
          1.1189308402656954,
          3.4280201555477516,
          3.0063321990023484,
          -2.0947641711440173,
          0.9038811384743687,
          -0.4262745134567708,
          -0.7315892674562727,
          -1.44612873606563,
          3.95752153385057,
          -0.31382289408109637,
          2.318935446470268,
          0.08383463998950015,
          -0.8755425503007782,
          -0.9880763044585716,
          0.6089192078790663,
          1.4543483875354133,
          -0.6090535539668618,
          1.479611936985919,
          0.15607056201466366,
          1.567797108807217,
          0.722360815066196,
          0.7836900743777687,
          0.8187197374674174,
          3.8626136226312866,
          -1.6174326357315378,
          0.860935417895083,
          -0.5619373330159709,
          -0.23031010056992599,
          2.9031550438127196,
          0.5914665243897171,
          -0.03397110738420285,
          -1.994251196836048,
          -0.6555306599132893,
          2.383614429900748,
          -2.1095828919902777,
          3.438758853791837,
          -0.5019634695622412,
          -0.4256085593714488,
          -1.087429952688679,
          1.681810023709621,
          -1.657898134691502,
          -0.16034824242648557,
          -1.0497493837886724,
          0.4554175320744056,
          0.016527781018275643,
          0.3271555467093778,
          -0.8417978803989494,
          1.0787536306630916,
          -1.494899052891391,
          1.8812645930383094,
          -1.6459828113652692,
          1.467167237377871,
          -0.8327340596763476,
          -1.595328037813542,
          -1.4598865564131498,
          2.7624875053841214,
          -0.3590792259158482,
          0.3074757716526154,
          -0.78078215633043,
          -3.1246751861875426,
          0.2207573714262801,
          -0.23769406605391818,
          1.2899432954205114,
          -2.150669069362,
          -0.740915789951157,
          2.282729657216229,
          1.7422930743772969,
          -1.0139992137931266,
          -1.1993136764184347,
          -2.4274040085023376,
          1.437389267895892,
          1.6675821130281883,
          -1.581405388888619,
          0.30415985899604137,
          -0.7932656929719126,
          -0.785099478492167,
          1.4354240053451535,
          2.2857927726238945,
          0.009694783555979266,
          1.5330424500516449,
          -0.4502966600727843,
          0.0008637264974128708,
          1.6049444869442233,
          2.6297840978687095,
          -1.7253025142807805,
          -0.6187069388308792,
          0.9088852085016252,
          -1.2609057873102558,
          -0.6599807203267112,
          3.407221691625125,
          -1.089284737954219,
          -1.489053027424894,
          -0.6761969553784972,
          -1.9084359309562056,
          1.290890203725191,
          -1.2750519317956557,
          -1.2775682022187316,
          -1.4247281084321473,
          -0.4626471326743095,
          -0.5908273402633273,
          0.6972528895217188,
          0.029250562187364392,
          -0.3491802680409929,
          -1.9381765344247286,
          0.4333670009916291,
          0.18745380002405893,
          -0.32359610013055495,
          1.1134789963812026,
          -1.0369017467507005,
          -1.597400836307029,
          0.19120414622526866,
          0.30311992092963685,
          -1.4559592094610139,
          -0.619998111861148,
          -0.8722234999965689,
          0.9004459469460857,
          -1.6247038645067864,
          -1.0620067660675339,
          -2.2755629237991317,
          -2.440208699056776,
          2.5771460914554236,
          1.0270205742712069,
          0.20605160608780723,
          -2.580697881804783,
          -0.5712340927903753,
          3.280929534515112,
          -1.563773769815741,
          1.2209293192592938,
          0.48405119988479234,
          -0.5282922835012795,
          -1.1307183422703484,
          -0.9269091463581614,
          -0.6185777612959646,
          -1.149984982086223,
          1.8173240864048197,
          -1.3749198539938703,
          -1.6520903601109063,
          -1.2986502655419188,
          -1.297589065780479,
          0.3058256966218607,
          -1.346261270033084,
          -1.7470041523344164,
          -0.3049435064296669,
          -1.9671375499371762,
          2.227594784431964,
          -2.092828407330096,
          -0.4916305036083038,
          4.543865819256149,
          -0.13542140882376721,
          1.4837110021992086,
          -1.9735855077767448,
          0.6485445278211133,
          2.8159472142033906,
          -0.8837272355087555,
          -2.048407142379381,
          -0.36430759815659214,
          -1.9337969338970686,
          1.8965023833021195,
          -2.528953477340269,
          1.053765510857504,
          -2.2777363315040575,
          0.07662343179027982,
          3.398808341472343,
          0.25999896843582165,
          -0.406183078349044,
          1.6538884585059388,
          -1.535270045035818,
          -1.9356353360904888,
          -1.8510204956705294,
          3.1195772507639963,
          -0.15782068814566746,
          -2.043107128969397,
          -1.7025008051995127,
          -1.692635719247913,
          0.44368108673314294,
          0.9414181813994783,
          -1.8390780976763663,
          -0.456106704694879,
          -0.6339026897236336,
          0.4091140281318502,
          -1.520411962751024,
          -1.237551602634087,
          -0.8241107478989331,
          -1.1426086313378294,
          -0.3680027840662723,
          -0.09992803362029219,
          -0.5132760876552772,
          -0.37727432781760994,
          -2.110501275718403,
          0.10317402358200152,
          0.3738668292156686,
          -0.24639969833325284,
          -1.6359726508062966,
          -1.9063700998743052,
          -1.4643646417374767,
          0.32892435456033225,
          1.2267724841840733,
          -1.7557167467884176,
          -0.1770165682531212,
          -1.3226891081527261,
          -1.2996594708119211,
          -1.7999423994247215,
          -2.12383992168285,
          2.1105336428880204,
          0.276566480504486,
          -0.11197990424607683,
          1.8239885435093162,
          -0.9448207406779602,
          2.9017839666393805,
          -1.2961319426863103,
          -1.054771322799344,
          -1.9432456271142615,
          -0.8424551238116049,
          0.7642415538626478,
          -0.8031613421822621,
          1.8413606419837782,
          -1.5722588282605565,
          -2.37894906058978,
          -2.0466975977969155,
          0.33810335864429286,
          1.1000812193623761,
          -1.116460727880437,
          -1.772420642466767,
          -1.8310175220250167,
          -0.42590107425767004,
          -0.7312788647119333,
          2.4093522657847877,
          2.1607557427301245,
          -0.581377293401787,
          0.26243347247330046,
          1.0963821494114594,
          -0.28534639724735056,
          -2.6987369586835435,
          1.104484732614231,
          -1.7038199518381603,
          0.1338051814402184,
          3.20096263344046,
          -0.4369905009242574,
          -1.5825594733126382,
          -0.29778775623982856,
          1.4606956467340264,
          1.3584811570104238,
          0.3034197520525076,
          -0.3474503154422104,
          2.703216557690605,
          4.193808522800383,
          -2.3708436093678067,
          -1.6841768505106574,
          -1.33861782967638,
          1.073059229350447,
          0.4017048708823047,
          1.317789501522349,
          -0.5659892029206672,
          -0.33599887470686574,
          -1.5337953270774094,
          0.6898892475567565,
          3.0848093131200454,
          -0.04365044388391606,
          0.9057953513995507,
          -1.9200562731398323,
          -2.145455224070539,
          0.15286627761123447,
          3.016958173199135,
          -0.8592572205898983,
          1.0060557176727127,
          0.5600336492453407,
          -0.38586663458397463,
          -2.3740652709903514,
          -2.368270756759441,
          -2.9297355475687836,
          -0.01615028164378789,
          -0.609969969876625,
          2.5242900209945467,
          -1.2386725297492398,
          0.24034586332088864,
          -0.7520570770740358,
          -0.4216856020598372,
          -1.3658693831850892,
          -2.0915528616191983,
          -1.470523942327089,
          -1.0848104305268604,
          -1.9394418443923345,
          -1.2583795014474082,
          -0.7653043457422614,
          -1.93096197223466,
          0.698600336642994,
          2.7266497982511564,
          -0.3131269608542349,
          -2.7237183614350906,
          0.3187302889513928,
          0.6722560789881595,
          -1.1088922266691983,
          -0.29220034707930015,
          5.507589306145192,
          -1.6290088935262073,
          -1.870167661305807,
          -1.283930102954855,
          -1.6626082942202394,
          -1.3424876504850063,
          4.209876693600224,
          -1.2978207064350726,
          -2.007915554436771,
          -1.7224479052080404,
          0.8947630357971401,
          -1.2810423691148818,
          2.488666647867633,
          -1.8293784831943674,
          -0.5211568622893769,
          -0.300096727541802,
          -0.027930810717351387,
          1.0689876485574876,
          -1.408244357987777,
          -1.108009616522957,
          -1.8163632289565432,
          0.8241489393198451,
          -2.796707748494497,
          0.7393843330773568,
          -1.747437879118313,
          -0.006095985448460874,
          1.4081671509833338,
          -1.4645810443684302,
          3.0467644808940837,
          0.31614473665182213,
          0.3290922642112068,
          -2.566716020953029,
          1.5856943157920949,
          -2.071511142710051,
          -2.491427837313472,
          -1.4203324922354383,
          -0.1856046150456326,
          -0.5507159839556861,
          -1.0724936452222131,
          1.1613102771500967,
          -1.8800686990538547,
          -0.07456111212183524,
          3.3274039931390913,
          -1.5840558315637505,
          2.8194399114954103,
          -1.0444176744965394,
          4.211641947391196,
          1.0794229629262204,
          -0.11882989336896227,
          0.39085037173945836,
          -1.9369368665246574,
          -0.6232096689832402,
          -2.0922673141272234,
          -2.3035631159239864,
          1.9597256863328318,
          0.18098067696632084,
          -1.0131729735347241,
          1.2293854935992266,
          -1.7209860449165868,
          -1.7966358233029711,
          0.6732560656650839,
          -1.8199472031325121,
          0.6396271459972267,
          1.6258080847702623,
          2.0389174152564284,
          0.28807849976968775,
          -0.7146799305523629,
          -0.24288450949241444,
          -0.635668869405001,
          2.8700853450609203,
          -0.6683960640125715,
          -0.6979451654322462,
          1.9890087688980498,
          -1.0777065342189145,
          4.44422600470019,
          -1.458892873846113,
          0.2601063411167579,
          1.2042956771846705,
          -0.7840118571613046,
          0.49123977339242025,
          2.3849556675193684,
          -1.6150175775575837,
          -1.0520266440846155,
          4.325744501011275,
          1.5371491956518566,
          -1.4455120596860283,
          -0.44402265098149796,
          -0.6301388236803471,
          -1.067886930828031,
          -1.5589477754061003,
          -2.099832418311514,
          -0.44088344643716687,
          2.6469621872955424,
          4.9917452643618,
          -1.795701548681027,
          -0.8667009069374111,
          2.545174670505532,
          2.768907511410394,
          -1.5954226861734968,
          1.2964600389514396,
          -2.001572657064933,
          -1.5473180046615675,
          -1.757582087679268,
          -2.541038685644725,
          2.143929214745142,
          -2.067992555920219,
          -0.13406997540005572,
          -0.6822412418684908,
          0.26964164325090406,
          -0.2567235966060721,
          2.50168771453609,
          -0.7486338746980817,
          3.378247388505975,
          -1.9766713638947113,
          4.433105675272267,
          -0.5272094646090459,
          -1.8314983455204645,
          1.698959868131429,
          -0.7220517275746059,
          -2.1946617016557552,
          0.674444775046362,
          -0.8117280434794458,
          1.9936812635031977,
          -0.16642050595687957,
          -0.6524547723215526,
          -1.5143636525055186,
          3.236633295215646,
          1.828910750382101,
          -1.8873175360184775,
          -1.6781137998876565,
          2.3261136597007575,
          -1.8297782784861991,
          1.0148985980785599,
          -0.27276201100733527,
          -1.0518679515018854,
          -1.4175832335380838,
          4.396190266311062,
          1.6695256601732469,
          1.9206364873431219,
          -1.9146874267385656,
          0.3083398224283203,
          -2.434700145880248,
          2.36253796277895,
          -0.03567729691079473,
          -1.191104500821289,
          1.8924721441794172,
          -1.4085492547910545,
          1.6638226458621588,
          -0.7205931514441812,
          -0.38706890273335154,
          4.677383739653713,
          -0.6787068598758553,
          1.8353053949135953,
          -1.5709026987888448,
          3.8048608307836114,
          -1.501037000788017,
          1.7717418875615412,
          4.065229642956517,
          -2.5427554060831974,
          -1.6359421931400426,
          -2.028998208329153,
          -0.04944746762362297,
          0.5630949578020044,
          -0.6892278591526432,
          -0.7454245278925351,
          -1.6776903248710573,
          -1.0266173887318348,
          -0.8330271503491897,
          -0.2253110820882809,
          0.6759477437271583,
          -1.7348256716482449,
          -0.7826372986213094,
          -1.3896234832941705,
          -1.424836198497232,
          -0.2643840945629467,
          1.552848065370823,
          -0.4509458342440773,
          2.0127838425203994,
          0.5114893926577281,
          1.3197270498769282,
          0.25478842162432397,
          -2.2607843257455986,
          -0.27816278961413576,
          -0.3007726204352573,
          0.8129773650443823,
          -0.7008182669593236,
          -1.0350733771983764,
          -0.5407795227155177,
          0.7262096258169641,
          3.203710157225554,
          2.069221725928679,
          -0.5718679080053529,
          -0.9418713105236769,
          1.1838961071901086,
          2.382408934875326,
          -0.3121643252462389,
          0.26241099920048944,
          1.9123333278057004,
          1.4321133281537457,
          0.4667918395400334,
          -0.8819003564609148,
          -0.735956650424145,
          -1.5412653354828028,
          1.3200484292156338,
          2.5004277282984035,
          -0.9014406603914489,
          -0.6188641802732767,
          0.5556730308455727,
          0.4031684905069624,
          -1.6561136126406573,
          -1.163394489118924,
          -0.9789205009879518,
          -0.8819100182937472,
          0.37601355569800865,
          1.12885985364652,
          -0.020705558968202115,
          -0.9295701008778933,
          -1.2679188382450923,
          2.668137849214096,
          2.2226909896933478,
          -0.7549278838378549,
          0.16434519300325937,
          -0.3644299713073234,
          -0.38027454466515204,
          -0.41415178959470866,
          1.4317144444163572,
          0.773101911023002,
          -0.1635281468978798,
          -1.4081246437502535,
          0.612983322608974,
          -2.7726166082633514,
          -1.216433881183674,
          1.7869728096794402,
          -2.1814369197081453,
          -1.1790750160990557,
          0.2585640973084924,
          -0.5081188248374995,
          -1.2142569854747953,
          0.0617709674329805,
          -2.261627048376308,
          -1.3761533864870856,
          2.0042694293521706,
          -1.3961542296519205,
          1.7014803511719956,
          0.7489263406157773,
          0.005778340917138987,
          -0.1906857728379843,
          -0.37332961478874765,
          0.4109748628977082,
          -0.5057651865969841,
          2.362106788070573,
          -1.7068174682684658,
          -0.06974218924798352,
          2.7020207985524496,
          -0.35389900439047156,
          3.366006438867303,
          -0.13563899330589468,
          -0.8756519384323203,
          -2.248965679629992,
          0.4078304873771268,
          0.958995362352439,
          0.45257243729026686,
          0.8897347517231723,
          -2.0984585384187175,
          0.20198453313719636,
          -1.1044421480055728,
          -1.2530719765620941,
          2.404750660889486,
          0.940822627128576,
          -1.6205821095747774,
          0.7327644904263945,
          -1.950957546164091,
          -1.4063323066646942,
          -0.6858487244750546,
          0.32431637776238803,
          -0.8634441699925464,
          0.00552308349048842,
          0.5739913237626096,
          -1.2010184694203434,
          0.4106469909429329,
          -0.058962415649556815,
          -1.1447705348922985,
          -1.037423120323462,
          -1.3351164426911297,
          -0.3085381262659465,
          0.08190767949269272,
          1.148194828157894,
          -0.48447436513830117,
          -0.906437134560987,
          1.301105631877077,
          -2.3305397429483476,
          2.371262416946963,
          -1.7159332180153575,
          3.011804991920209,
          0.8289010428607109,
          -1.1741143744362619,
          -0.3814977953219918,
          -1.81070255909637,
          -0.10758603302712523,
          -2.1818693702770595,
          -1.644147416757963,
          -0.40358319424485706,
          -0.1757650512558316,
          0.3877336809259207,
          -0.5684778498121313,
          0.03882388114170408,
          3.624874542976151,
          -0.9769852113854052,
          -1.0844165343945453,
          -1.1665057218641566,
          0.25104574278435,
          -2.760168408986327,
          -0.85245406532385,
          -0.008592012600421098,
          2.143386196405921,
          -0.9269403696437736,
          0.500177102723052,
          3.5705837164186764,
          1.5739565880324295,
          3.0015151045969555,
          -0.8819053976107936,
          -0.5117303196620596,
          -1.0202943001628202,
          -0.5296052400268515,
          -1.5555026915012693,
          0.05958731356735971,
          0.45438444906107184,
          -1.7316011251982755,
          0.5275276188464153,
          1.5836117462414463,
          1.0775820271935341,
          -1.892919423738192,
          2.008061425475465,
          -2.1401851415541264,
          0.36680481115541796,
          1.0242331561893043,
          -2.033023853232882,
          -1.4092475721336697,
          0.711160106532414,
          1.3599808307888337,
          0.12883913571922798,
          0.3582862161914223,
          1.1134152997047158,
          -0.2881259745834761,
          -2.2304305101434165,
          0.9045996408135651,
          0.8558284610118941,
          0.22266742325981748,
          1.4580065366984523,
          -1.0047084309725232,
          1.6158649222199113,
          0.23188063967239775,
          0.30475212814563035,
          1.9699092662651485,
          -0.5720200636948123,
          -0.23981594617992355,
          0.7800902490929876,
          -1.4734576511370343,
          0.021584365669071806,
          -0.8706130161346189,
          -0.3833354843506675,
          2.4291702909273036,
          1.7792383898945925,
          -0.4635886087950307,
          -1.0683454602259816,
          -0.1274550350927829,
          -1.8658007888226964,
          0.9490671307125264,
          1.0769595324845687,
          -0.013301078031020179,
          1.0261837208046891,
          0.3751225917482237,
          -1.0339267778090941,
          0.3904670606422095,
          -0.0818554413540439,
          3.4506518604140646,
          2.68856551042176,
          0.8304840337686002,
          -0.7122943144729397,
          -0.08908929828178623,
          -2.2863167071175408,
          0.6544091667083405,
          1.4638357418708332,
          0.9107623827638824,
          -0.3701715398178285,
          -0.15285052803861196,
          -0.4083561232026243,
          -1.749443198837928,
          -1.1611906811705484,
          0.8647847434447871,
          -1.4353779041118702,
          1.1426352826250734,
          -1.5315200674653349,
          -2.1516054678557004,
          -0.31742618908086345,
          0.2369678425851892,
          -1.411940185476839,
          1.5709654641388615,
          -1.3502507139148507,
          -0.003963389517737144,
          -1.6322790418378885,
          -1.5648508689302245,
          1.2809299781607733,
          1.1503772232592273,
          1.388998309738023,
          -0.6034376793287805,
          2.5293007158125684,
          -2.305342913818048,
          2.2011825116947494,
          0.9511017271907026,
          0.5391219009745956,
          -2.356386735825002,
          0.062230146927571006,
          2.1998201638904633,
          0.41741711332700715,
          -1.016090667307723,
          -1.283875045183401,
          0.10645360942485153,
          2.0861683046099464,
          -0.4184459101924473,
          0.9139199267019776,
          2.201943076277674,
          1.7406468338532606,
          -1.7721388312098256,
          0.2756665964245504,
          -1.4679615448144956,
          2.371682230606681,
          -0.13438188546344507,
          2.2963447649477686,
          -0.2700941635222783,
          3.754223413411757,
          2.5945340079466646,
          0.003942510231807524,
          -0.626231448606792,
          0.6778922426419821,
          -1.6168747001655668,
          1.1895100360834623,
          -1.2841393636218132,
          2.644656968091738,
          1.0438018148145676,
          -0.03819392814743959,
          1.1598281708744707,
          -2.144644819776799,
          -1.5688511886641678,
          -0.05226215439670486,
          1.4255100758117394,
          0.8508537602195236,
          1.1864058021570247,
          1.7902696055341352,
          1.7067949466549153,
          -2.1582445186831585,
          0.30716635126024683,
          0.7547733921953756,
          2.1135167843824476,
          -0.5755507164009425,
          -2.2878482309324517,
          -0.13102942795081657,
          2.1478562869079996,
          -1.8950982095021423,
          0.7632575085202439,
          -0.6490421330329681,
          -1.6533693285963267,
          -1.6522252804976352,
          3.59073234049576,
          -2.1513765431744942,
          1.580839186972999,
          0.643147910714984,
          -1.3404639107763343,
          -1.715513210465052,
          -0.7036157637074719,
          2.1897644707908603,
          4.073088207158342,
          -0.7315352947524886,
          2.0583847876125314,
          1.2837735831864066,
          -1.9572657733333643,
          -1.3167843887083164,
          -2.2410250294352654,
          0.6122733490429436,
          0.17701690747717938,
          2.099619109807436,
          1.638983009530676,
          0.09449611916923031,
          -0.451534773468423,
          -0.25758524810888966,
          2.9056667122061945,
          -1.8852222333621773,
          -1.4283071210191927,
          -1.959503648957554,
          0.3044955735973839,
          2.4099019058963016,
          2.5934303499697324,
          -2.048984298520831,
          2.9043245943228735,
          0.2413699250787962,
          0.8871546548098269,
          -3.0752542559498868,
          -0.8179727341077224,
          -1.295182857473009,
          0.9629145709323147,
          -0.929371067487273,
          -2.108273439632921,
          0.8128729819104037,
          -1.4081682469459862,
          4.23190075108158,
          -0.4353223137960373,
          -1.5281498289967945,
          0.6332825846112833,
          0.5149113395118978,
          3.317991292096112,
          -0.0544882843187487,
          3.8257502080862076,
          2.9139332778162292,
          0.5173147268855153,
          -0.8537851839172633,
          1.2889136523273739,
          0.5899649874060098,
          0.9262855178920509,
          1.2810210355150047,
          -1.34428166554284,
          -0.584583049305794,
          0.5548152541913145,
          -0.7950323716092772,
          -2.061384297518523,
          -1.6767038160849264,
          -0.4323792635409695,
          -0.6878584595906341,
          2.6601384047618857,
          -2.1707515177881036,
          0.42629050051528206,
          -1.8275845141526306,
          -0.7247350587266447,
          0.9868514983390294,
          2.0860274182243974,
          -3.013503761433882,
          2.8831789258027993,
          -1.1707495797633858,
          2.6316861407362793,
          1.1738938648261263,
          2.065314248748998,
          0.3064893160954248,
          1.349162343542459,
          -0.026569464923493574,
          2.4511626542542566,
          -1.3424143754323858,
          0.6536633885466161,
          -1.9481329679152017,
          0.018791473986111824,
          -1.1253879428529776,
          -1.737886144405282,
          -1.230820141530799,
          -1.7456750533622967,
          0.4808443317018984,
          -0.6695573808610107,
          3.7049203478321013,
          0.06621457665518923,
          2.334994927589957,
          -0.8710045768978658,
          -1.0696676830719543,
          -2.038276864580724,
          -0.06476971109679189,
          1.0085542852628033,
          -3.280969483054463,
          3.755546455359839,
          -1.9956722106248248,
          -1.0540175085056838,
          1.4379677247243459,
          -2.36272864347158,
          -2.9938335679807833,
          -0.14562555460715193,
          -1.604950576463726,
          1.9204118360929643,
          3.088605830817828,
          1.7522780523721124,
          0.9113896467794128,
          -0.046174327079618285,
          -0.009527295376501977,
          3.889758329771645,
          1.0338690851477037,
          -0.6643153289708713,
          4.424177546686418,
          -1.1825228510474857,
          2.9461597719070953,
          2.897002832013275,
          0.1375099174252443,
          -0.37612245480219203,
          1.287204136760157,
          1.7750583736064227,
          -1.742925697075112,
          -0.07427044534517888,
          -0.4504962970723326,
          -0.7227797053865036,
          3.1632541206669886,
          -2.099990492545978,
          0.3281531894068144,
          0.5071211349459129,
          -0.8118076803428624,
          2.962572782813274,
          1.6716748215083717,
          1.9631115090087123,
          -0.5073748026808128,
          0.9323437669823676,
          2.372439249071798,
          4.129493294301271,
          0.10779673489493684,
          0.021236008701745603,
          0.8008780574671146,
          -1.3224030051800437,
          0.22280864180419227,
          0.0817282873938429,
          1.3195420057380907,
          0.8915258650331778,
          1.1671200748259343,
          -1.801143637073009,
          2.990525687386095,
          -1.3040290647386177,
          2.046526170337317,
          0.21653547587955788,
          -0.4847834203157614,
          2.9192923696302704,
          -0.1387805830303512,
          2.8771817106506967,
          0.9741548393831213,
          1.596140691606602,
          2.6991889693042648,
          2.3678131587863054,
          0.3125994241720931,
          1.2834517763750757,
          2.02436749191792,
          1.4208249823799093,
          -0.507521127804141,
          -1.6546395282434798,
          2.0016373792119238,
          0.562131619474292,
          3.4056955692861575,
          -1.2451856862279946,
          0.6393940668486637,
          -0.2727832184755955,
          0.7535069797906174,
          2.002116255141071,
          0.0657485673147245,
          2.3788152199521475,
          0.40131179663843575,
          1.0541888330054177,
          -0.49449863904106756,
          0.7074688823853288,
          -1.8476087161541164,
          1.3962141318189731,
          0.4078049988215991,
          1.3514269368857026,
          1.4150683278976361,
          1.8068600359301237,
          0.13898910919480278,
          0.04704033561222968,
          -0.10617224036223509,
          -0.7724194860892238,
          2.870659707362158,
          -0.6113014309915562,
          -0.3833723684633646,
          0.5642731960730819,
          -0.536004107941903,
          0.09855826788142809,
          0.5046452930894482,
          2.1425327559540572,
          1.2242281508448036,
          1.222429731619142,
          2.7470044053283043,
          -0.7370877416749809,
          -0.6404704363100274,
          -1.3763876571035747,
          0.11214957170452221,
          1.4556650302500038,
          0.8461299507678054,
          0.5496990471907296,
          1.2394575227779063,
          4.404941732335087,
          0.7374695160822594,
          -0.035547285103627514,
          -0.997129099768977,
          -1.9441092722221647,
          -0.29387254641095156,
          -0.269648060037536,
          1.6948119224120262,
          0.9415483536293157,
          0.1516890126251931,
          0.5373969424616456,
          2.8518533879359462,
          0.9080309603521124,
          0.22608949198766634,
          -1.7656705676562132,
          -0.12476493380564692,
          0.007393492225176167,
          0.9920777984997227,
          0.0027729780448145494,
          0.2625313295592216,
          -1.932714331363639,
          2.8486467152612014,
          -0.8477321569204559,
          2.9997657560766573,
          -1.9890849984786854,
          1.098655630929723,
          1.1250322167290818,
          1.837025656576761,
          0.8026205672117768,
          1.1568755858734752,
          4.555666288235935,
          -0.23551109847113738,
          -1.4192254593516087,
          -0.009589253517619547,
          -0.7076754038618526,
          0.6610166982727994,
          0.73000209124138,
          1.0552026078712626,
          0.17048660176951766,
          0.7890236776212535,
          0.5436138522436929,
          0.5616066674121601,
          0.4696637667805757,
          0.30435610248618494,
          2.648926395316937,
          -0.4774229082919325,
          -1.2506994280636055,
          4.723916434246773,
          -1.3793369672896927,
          0.5154806699715747,
          0.8205379113997441,
          -1.5916901171143245,
          0.5357569499089203,
          1.7103916573410618,
          -0.3419728488322852,
          -0.7564430284149319,
          2.043750859959909,
          4.899453296904567,
          1.7402526931509268,
          -0.5185819772999806,
          -0.7687938689581088,
          1.5624796864750643,
          0.7239353499685671
         ],
         "y": [
          -0.859907795294199,
          -0.2986559037942356,
          0.011512972578585969,
          2.2188723814850646,
          -0.4917668332836075,
          0.5305287780380445,
          -0.6387657931696643,
          2.1358454817054264,
          2.4179844397104078,
          -1.4723379295047634,
          -0.6245648456581742,
          -0.4380382434407599,
          0.16935444685615436,
          1.6298762297557337,
          -0.6304477058534071,
          0.6641430381744834,
          0.8940219089996806,
          1.8515283461711636,
          1.1823937060513001,
          -1.257229703405996,
          2.409333065498772,
          0.2682860523535375,
          -0.769987055629602,
          0.8754828689118384,
          -0.32800382903415254,
          0.605430899688861,
          0.5694806698142929,
          -1.7340261765758707,
          1.0024248376040046,
          -0.13094780705959652,
          0.6265061490892655,
          0.2645320670846524,
          -0.39475932524799007,
          -2.379085029757378,
          0.09581844705441374,
          -1.3620847234838334,
          2.062878497929725,
          2.5517127896577763,
          0.4695449843142623,
          -0.5583378120946361,
          -0.9683332058848001,
          0.2845998071201717,
          1.1883528437156685,
          1.9399714299431037,
          -0.006571721196476715,
          2.232606007815453,
          -2.4938534398109184,
          1.2287275959038026,
          -0.5536469317477909,
          0.6998180280840569,
          0.014874059325002261,
          2.041831388440383,
          -0.39459517176748116,
          2.6934255014578796,
          1.6953590407949608,
          -0.17781603316385455,
          0.45139124916488504,
          1.1997019209789235,
          -0.5598296459003501,
          1.003620120191595,
          -0.6652874831952398,
          -0.30531184893835955,
          -0.9047613094885818,
          -0.7111160058573368,
          0.18747728591967006,
          -0.7394593344103679,
          -1.3252196884234322,
          -1.444460994771704,
          2.2735353414371375,
          -0.24795256528040502,
          -0.5627403298746403,
          0.8147170013981099,
          0.7681235621912936,
          0.7458409283761063,
          0.5294733688758947,
          -0.090550261638186,
          -0.05513341075409692,
          1.040641913331004,
          -0.4576701480285182,
          1.6147153936460792,
          1.2596180094035763,
          -0.045906654362519506,
          -0.3112245151784734,
          -0.2758376914965493,
          0.6632887184731981,
          0.919624571037083,
          -0.6161482354600711,
          -1.1565066268099582,
          -1.272275891247071,
          2.186414854172934,
          0.7531558336042308,
          -1.5467160886703117,
          1.2833064328231605,
          0.8631523457455106,
          2.644136666456384,
          2.403036978905919,
          -1.0813780322287379,
          -0.009926083860606155,
          -0.044851128372700964,
          1.2381968447667082,
          0.4523958597543685,
          1.3675037002446597,
          -0.37112262579658956,
          2.1840768053359394,
          1.4075706126620806,
          0.31329400415385195,
          -0.9056629694796876,
          -0.5051382760477241,
          -1.005285452330963,
          1.4354427778036898,
          0.4859112302387591,
          0.5676587225332387,
          0.3459184849794351,
          -0.0654767789624446,
          1.0857833622771091,
          0.6160152852904186,
          1.1125316064337814,
          -1.5634778508888347,
          2.5895717309983075,
          0.8974831966093862,
          1.9057164576432004,
          0.14787860248489018,
          0.9617464907829484,
          -0.4146039344366429,
          -2.295502788111033,
          -0.994509138192872,
          1.810124112298468,
          -0.9029034387585673,
          0.10092755925551374,
          0.6208669390219008,
          -0.46171350512723225,
          0.38075222634623684,
          0.9291868283530657,
          1.0574147526531934,
          0.9518756282461994,
          -0.7536317022772856,
          1.2288092920822165,
          -1.794796679350524,
          -0.39824031518356184,
          0.5651600729121593,
          -0.5639048715203743,
          0.6255481900113402,
          -1.1434318552365126,
          -2.5031839807169827,
          -0.1562956314125207,
          1.2148509893864736,
          -1.0209440855982166,
          1.838513286190101,
          -0.16883158722795724,
          -0.1461563783143413,
          -0.22079333552495664,
          1.4229098873591663,
          0.39721676805397876,
          -2.8698175150913365,
          0.5879902828517467,
          0.5613740801898957,
          -0.1613045895316128,
          -0.1357387913220946,
          0.29609146400865377,
          -0.07905811609076273,
          -0.23561561825480726,
          0.07648040309980224,
          -0.664890873364914,
          -0.8205958794474568,
          0.7133681923647117,
          1.287422282907291,
          -1.1980677834319227,
          -0.30113565279789256,
          -1.0570212029817974,
          -1.0064177308437805,
          -0.2980539731743074,
          -0.933074751703694,
          0.031624596293453044,
          0.9501400018176397,
          -0.02654400706664323,
          -0.13336817115237495,
          0.9086205541254118,
          1.804035433439276,
          -0.5112902835763339,
          0.8520988046712027,
          -1.2669187879047652,
          -0.35476204497243813,
          1.3189019856732227,
          0.2709351430679306,
          -0.40027728311424376,
          -1.6976221656648798,
          2.824082777301229,
          0.18854921392651833,
          1.878657305048185,
          0.017534383417133804,
          -1.4348775067034485,
          -0.43418520272289624,
          -2.033920672941217,
          1.2398714505310227,
          1.3724387045858373,
          0.8926799729111796,
          -1.1166531101375943,
          1.0923156706759778,
          1.5981210526221914,
          0.719462819353922,
          0.0685350687416637,
          1.3135900205509652,
          -1.2318071793077332,
          -0.419887494881308,
          2.0424672880497137,
          -1.8002838013897466,
          0.179779039139096,
          1.0508765062332273,
          -1.210955675220578,
          0.13135056738191647,
          1.2851908937710637,
          -1.066143878129459,
          1.0921185530776458,
          -0.6665682219436538,
          0.12232905509426512,
          1.3428743639883038,
          -2.9542290920552596,
          1.1878306469665239,
          -0.9932624191665895,
          -1.2644926217206613,
          0.8288903988560126,
          -0.9454434649241605,
          0.9897037553894772,
          0.585097748700385,
          -0.9637056153299726,
          1.108709443610899,
          2.9011173352181916,
          0.5019879916531722,
          0.4858473030445749,
          -2.7316278874419413,
          -0.06295908108058017,
          -0.6921877701853001,
          -0.8551649272782962,
          -0.26390172270017137,
          1.541185028086011,
          1.2853177684642187,
          0.13627682260530027,
          2.604379561995384,
          -1.8579332004003695,
          1.9572137449100615,
          -0.889205803091131,
          -0.46496662560901697,
          -0.3323264650984198,
          2.5256866770182054,
          -0.1979222896923873,
          0.3871799834717502,
          0.2271853902005847,
          1.4288664531608521,
          -1.0647570594434168,
          1.2295552335473596,
          -0.3738700711333046,
          2.620633979767037,
          -0.2844913662166582,
          0.7570456653972379,
          0.4099179118255164,
          1.6568758308548985,
          -0.05486358312022399,
          0.4410559732756474,
          2.8697797714992146,
          0.20375354147061558,
          0.7807483432335285,
          1.8668104327519852,
          1.3082271025786567,
          -0.32709106209806565,
          0.6832779998990882,
          0.13189453105881344,
          2.6736858454334245,
          -1.7120338395098615,
          -2.210266844781208,
          0.8659798513883764,
          0.7705550488526575,
          0.21282161521319076,
          -1.255894644269152,
          1.010073529588476,
          -0.5946564132023078,
          -1.817711050927005,
          0.15517214964214396,
          1.971851144683015,
          2.9268171774678726,
          -1.4547394967788856,
          -0.05786764531272664,
          -1.0898798670444056,
          -2.0606971336914284,
          0.2793823656184362,
          1.7616626505788449,
          -1.5743647826613492,
          0.42498214655844885,
          1.7102672885213779,
          0.3282517775774287,
          -1.2191603605889716,
          -0.9032201667491845,
          1.6590057871542812,
          0.0009338029789001958,
          0.07480036692117753,
          -0.025055967153923466,
          -0.3714702811144639,
          0.18558988460647385,
          -0.8132515379521821,
          0.538124834271823,
          -1.2182711411752007,
          2.562760610931972,
          0.5013139734325707,
          -0.5420431974291462,
          1.0912238193947699,
          0.2163836203981635,
          -1.6116419734918022,
          0.26046522120602295,
          -0.24326991676833018,
          0.39096519558974785,
          0.458295457082812,
          0.8832498318768062,
          1.8456463365785332,
          1.3024425528483141,
          0.4055498755779454,
          1.8181644127980292,
          -1.5693176096744335,
          1.1855554843078384,
          1.644421981109578,
          -0.10955046776143691,
          2.000502579945792,
          -0.053333831884072806,
          -2.0904478369164394,
          -0.9183176541139695,
          1.2625617900629043,
          1.634909691574082,
          0.89435087056261,
          -0.6159921270547645,
          2.058430426267268,
          0.5672639402948517,
          -0.33782269509484103,
          -1.6427540169519026,
          0.5164191300156508,
          0.15838942237282938,
          0.5220937101106489,
          -0.9774586980804091,
          -0.1865167647935436,
          -0.21137923150177357,
          -0.7692843749778037,
          1.7081657638646566,
          1.0868823362324254,
          -0.9816341447695776,
          -0.26776932080879495,
          1.4040751996726148,
          2.345656222703324,
          0.7883385662897056,
          0.04601755923927895,
          -0.11733965955702728,
          -1.067016402375369,
          -1.3767090109417521,
          0.5995726368152888,
          2.8914285648998646,
          0.05850510021976862,
          1.206129056793975,
          1.2620184177741105,
          2.573118309827903,
          1.8670505832421191,
          -1.638914396753702,
          1.5563198624750847,
          0.9841577330777062,
          0.8756178296269649,
          1.1903519143738865,
          -1.4165224432571148,
          0.7867372411620244,
          0.21963417150560113,
          0.08505688514099206,
          1.899508427950784,
          2.0522203086775965,
          0.0988248537042642,
          2.6668363017418737,
          -1.500453010428504,
          1.3993250370690222,
          -0.21486704551303573,
          1.1483318467673878,
          -1.8380512588963445,
          -0.39604906116694644,
          0.2149487826895147,
          0.9580121025308581,
          1.7987352777474443,
          -0.33885918729992254,
          -0.17962600209020976,
          -0.4434132511688501,
          -0.6739449164046393,
          1.1939589881499844,
          -0.8386017360898173,
          0.23159283437078024,
          1.3895996631970966,
          -0.17868655577292303,
          -0.6562017295272501,
          -1.0552702904510984,
          -0.8140417262640052,
          1.8498588833073635,
          0.5309340291167871,
          1.004493572343435,
          1.2773364036760753,
          1.6298309417208316,
          0.1884156191969907,
          -0.21588485468959348,
          -1.50452556105896,
          0.205245780538893,
          -0.9746013430765619,
          0.08281511347234279,
          -1.4829930899302282,
          -0.10750440063421686,
          -1.418180982163064,
          -0.011449125969549905,
          1.5829768325747648,
          0.12626943130400045,
          0.41025115591973715,
          -1.2625875959516049,
          1.8798238686099735,
          -1.1458960623302745,
          0.6695742971543779,
          -1.5818815734109293,
          1.0601904188907376,
          -2.2528280555972153,
          -0.4884894644599965,
          0.007443075468308535,
          1.6433382559027834,
          -1.7312908505660332,
          0.35831902204017196,
          1.1696293527237842,
          -0.5984996389197946,
          0.17158316461213577,
          0.6555684050902603,
          1.1508155612825395,
          1.6274690029321466,
          -1.3874099917964735,
          -0.615136325104312,
          -0.18866098118783195,
          0.9070755600434779,
          1.2198469753788312,
          -1.30674095307101,
          -0.36230566900469413,
          0.08063393966523746,
          0.200950773751329,
          1.9161818595925058,
          0.5545191615261869,
          -1.8866100664276322,
          1.5387703195142841,
          1.4712882130519012,
          -1.9639915086514823,
          2.3003598925601296,
          0.4962982546239557,
          2.886362083683654,
          -1.2539190125155955,
          0.8932455153420195,
          0.1753222459207706,
          0.6322687639033092,
          0.7569455340545714,
          1.0286854027448749,
          1.5221864290467475,
          0.8734167917048443,
          1.7612778862373935,
          0.17105300385169853,
          -1.3625759397629664,
          -0.5233088555105766,
          1.2432754882060717,
          1.3034466526854178,
          -0.1914777471322768,
          -0.29230107508034503,
          -0.2743770470155693,
          -1.328003571854766,
          -0.7258278866631647,
          0.24622459364313282,
          0.7357064129993393,
          -1.3541966179404412,
          -0.6966585035052804,
          -1.5497006624163205,
          -0.6855724400897427,
          -0.008157866826808184,
          1.410361771487131,
          -0.5607677818191852,
          2.3049972807680748,
          1.3958529170209812,
          -0.7088294749651095,
          -0.029598196445226693,
          1.4166094140595769,
          1.9405603493674672,
          0.4878093697661381,
          1.197252017152896,
          0.26651474562211913,
          -0.5569298231169588,
          1.708962783560636,
          0.718762875454043,
          0.50339996938796,
          0.8810182386659956,
          -1.2246047181943405,
          -0.5601382933200517,
          1.086760145142616,
          1.3393410445340383,
          1.1635915671987374,
          0.1974537385767229,
          1.314719459454258,
          2.164780372697808,
          1.4652544415474433,
          0.4918301684806818,
          -0.15129470278349436,
          1.5168326124323,
          -2.5849856994552654,
          -0.8340939823700089,
          -2.108222787713699,
          -0.48823098903494433,
          0.5482542473479013,
          0.49440964092259737,
          -1.19062062265065,
          -1.2999381303877653,
          0.1711983338170367,
          -1.845774775948519,
          1.9879576966663108,
          -1.405166980742528,
          0.44792895427556895,
          2.4424043225248875,
          -0.17078622249426867,
          0.5874310426307708,
          0.3489694550325235,
          -0.3784307227725635,
          0.30086094047036116,
          -0.8196645939036674,
          0.9266919856663764,
          1.5034749707312545,
          0.4632196323170542,
          0.8375213400024073,
          0.2954528731412644,
          -0.6069020862097626,
          -0.23151074835452082,
          0.8959276569810648,
          0.6653209335207451,
          -1.8900122577479954,
          1.4292913103383695,
          0.43160934475831547,
          0.38156947036951644,
          0.6224139023499842,
          1.5502415003146954,
          0.24123988504955388,
          -0.024190782681618884,
          -0.8255388777813151,
          1.1481694012174108,
          -0.2709730818334204,
          1.453010050361071,
          -1.649580731012497,
          1.567973554978916,
          1.0023687309725628,
          0.9813644174314701,
          1.021134923073642,
          0.0038087241706391863,
          -1.8499870154250548,
          -0.8076279204460599,
          -0.6127141500477349,
          0.44447568929107,
          -0.95637482545823,
          -1.3086518707547947,
          -0.0014819950573134954,
          0.1336488027981765,
          -0.10423233442023473,
          -0.44076237694459186,
          1.5656874365538065,
          0.49915962981502615,
          0.9130699107172872,
          0.3063719352560349,
          -1.6384874590677527,
          -0.4619685878623061,
          1.4863282856183706,
          1.0629293107250466,
          -0.6129453972540468,
          1.978539793379646,
          -1.7620531701243345,
          0.23037918013099273,
          0.2789871791142448,
          -1.2625499234202848,
          0.8661086924752727,
          -0.3301302443007153,
          -0.7767183978416137,
          -0.6542898352339281,
          -0.9209261905904756,
          0.5901129598867317,
          1.9667018097349687,
          -0.9254275751914276,
          -0.3165858250918559,
          1.5424230977583255,
          0.7313732618418801,
          -0.8492252404621451,
          -0.28989641877094335,
          1.4727047020835187,
          0.003699130153925222,
          0.9960380963558685,
          -1.2085796298035691,
          1.0047916393625111,
          0.6321181986697151,
          -0.5619647427231612,
          -0.7175898850561151,
          1.269922462414022,
          0.653898221364761,
          -0.5242137006688955,
          1.4238434468958887,
          2.4308149441332287,
          0.01910512792575721,
          -0.6101570940325413,
          -2.0665357433515816,
          -0.4609791553389947,
          -1.1474178186209278,
          0.3680637045800205,
          0.6308703659699392,
          -0.0943983919150033,
          0.20088520618620434,
          0.8661445478158234,
          -0.19425411106497062,
          0.7835098341153618,
          0.498843746389778,
          0.251317040007404,
          1.4222598526692385,
          1.164903855536736,
          1.1723059230324602,
          -2.1488167070366293,
          1.8096189944057743,
          0.1899059119744671,
          0.20460096417533752,
          0.8414805357879828,
          -0.43800443549322565,
          -0.1855046877933329,
          -0.31178429083006287,
          1.0420702481212964,
          -0.27773736648387226,
          0.5441675928095927,
          0.15443825793690158,
          1.9843799057938252,
          -0.8006145681156343,
          -0.20667884628698036,
          0.47579509244931684,
          1.378027439947919,
          -0.4058374570674451,
          -0.15403348123963867,
          1.3328892150309133,
          -0.537830057682728,
          1.3463750402934564,
          1.9423110829556425,
          -0.3306119161873658,
          -0.656477871270723,
          1.2915200454527305,
          -0.9763548092841623,
          -1.5590508061462962,
          0.3057735803064064,
          -0.2003535294165225,
          1.8134615739059272,
          0.7816104828347811,
          -1.7809578005523936,
          1.1059600806635586,
          1.181729883197689,
          0.5966415458621306,
          2.6166799927864233,
          -0.9153648428944776,
          1.261752428065194,
          0.6891803270335907,
          -0.9716381197360722,
          1.6438490101598502,
          2.0345871882799966,
          -0.5928229974742178,
          -0.3838402801259524,
          -0.084091655368194,
          -0.7516786721563092,
          -0.14627538971678486,
          -1.781300287564411,
          1.6255019290371178,
          1.6485459002113292,
          1.033680740502868,
          1.0456156483909007,
          1.7876690142681027,
          -0.4213652267312384,
          -0.9211910664067863,
          -0.767545899220217,
          -1.085815350187557,
          1.3578660105654765,
          -0.11134355603084937,
          0.12053509784647767,
          -1.0161455436821654,
          -0.3917623661240992,
          -1.3787125133755742,
          1.0853659117420724,
          0.7929923811176385,
          -0.6067364810381839,
          -1.4207136734888823,
          -0.6392608140324378,
          -1.0581792758699173,
          1.02926292535454,
          0.29420621696967153,
          -0.8097164300122286,
          1.428559165548458,
          1.1155249613542098,
          -2.2180627081786244,
          -0.8684011415295757,
          -0.9282324038396874,
          -1.7848666481946214,
          1.1272140407998181,
          1.111922099393257,
          -0.454897364111965,
          2.3391656570852257,
          1.837769864755828,
          -0.03190798867145682,
          0.6089103393686617,
          -0.8488020092452623,
          0.34293303357498367,
          0.07251437691814865,
          -0.8094812049812892,
          0.5673120364504163,
          -1.8511700231655739,
          0.7821869401396387,
          -0.16370012307427112,
          1.3229747142194428,
          0.8629244062236964,
          0.09731150826283598,
          -0.4952925376649963,
          0.4452888079665635,
          -0.9097755626587045,
          0.6812570086767608,
          0.7676587143736459,
          -2.6311594433421295,
          0.7800355896363054,
          0.30580743625630447,
          0.07607391395094018,
          0.37657345311161916,
          -1.2027253708859569,
          -0.40407080407574214,
          1.1263878599257982,
          1.2010562186422973,
          -0.12304009317579413,
          0.6233130642344596,
          1.1839321375470038,
          -0.041228588335228016,
          -0.055600620783319656,
          0.24359135878551538,
          -1.4219397562179015,
          -1.2028661005986698,
          0.34479065966228434,
          -0.1263679397712748,
          -1.1535938814654598,
          2.368351980484346,
          0.1567498798807392,
          -0.9791260989903856,
          0.998294051661096,
          1.664549444584831,
          -0.14062976159501198,
          0.20517630151403501,
          -1.0856174681916841,
          -1.4119336826232363,
          2.5409052542273995,
          -1.1495359040516326,
          -0.3286721847933087,
          -1.9087191823473395,
          -0.7690360540120726,
          -1.8624227652378709,
          1.3844018137939158,
          2.6819693115133894,
          -0.01407228571322884,
          -1.6428273933591078,
          -0.13922654367760845,
          -0.3056042296161218,
          2.2031468334814504,
          1.2492364894318921,
          2.798719269243373,
          1.0073126250007096,
          0.6200685782330853,
          -0.49343727341167115,
          -0.8768192721466959,
          -1.388160881445972,
          0.4440603523178193,
          -0.027426975820991257,
          0.17440829501761956,
          0.38891713800189504,
          -1.4340481037532815,
          -1.456255636359598,
          -0.6550729704960946,
          -0.4905904179731305,
          0.3560125049260003,
          -0.6088239556574532,
          0.7493854776757783,
          -0.5821412993103404,
          0.6468988441710107,
          -0.1118081562440218,
          0.2039942227828708,
          0.4105143856345634,
          -0.5714772295526827,
          1.8723082873534898,
          -0.87628956987612,
          -0.4096504132097602,
          -0.5895017365877092,
          -1.9260334845871578,
          1.3140244035672688,
          -1.4997538881522046,
          -1.8918863808157822,
          0.9557868013626563,
          -0.7765243994524033,
          -0.4442150646359608,
          1.2926394567509187,
          1.488910564617879,
          -1.6488952127828091,
          -0.9081250676847573,
          1.5427087506858608,
          0.7419145826675053,
          -0.18684919976220332,
          -0.8219149877159875,
          1.0647535561623447,
          0.6494155499237456,
          0.7434962839446965,
          1.067526012616822,
          -2.0697987752041516,
          -0.2794850917090316,
          -0.9269536554914992,
          -0.30934956470359404,
          -2.240459817285366,
          -0.10993836300937354,
          -0.16792065051604613,
          -0.03612764659556957,
          -0.8818647836696226,
          -0.6580460877819535,
          0.8973384161494189,
          0.04262450821077644,
          0.2375640406721276,
          0.413285547435928,
          1.321804876164448,
          -0.7083674228477982,
          0.8578829156591012,
          -0.8630745461565392,
          -0.5800195495272602,
          -0.7813672546924518,
          -1.0636399101075538,
          0.010473384463208082,
          1.8019170629119583,
          -1.9884085221230088,
          -1.3123531206714631,
          -1.5599895496557707,
          -0.06687816844586698,
          -0.01678913137226037,
          0.6908808224238577,
          -1.55518418701653,
          0.06695047211124207,
          -0.7997634472141715,
          -0.30911742662601044,
          0.7495950071951261,
          -0.19929985550553397,
          0.8674851893595942,
          0.42715256503216914,
          -0.7718905971962022,
          -0.8437260509950276,
          1.1563897587785652,
          -1.283156558295871,
          -0.5623480635816998,
          1.0290338704938309,
          0.19065187036633552,
          0.42241575120022495,
          -0.7901474332954964,
          1.2084112602975587,
          1.26273259933355,
          2.0040924586383797,
          0.45799940149563806,
          -0.32757426687658087,
          0.995369964819111,
          0.15931064468915518,
          -0.9894406249224623,
          0.2839224436998755,
          1.9287105513927882,
          -0.5683029930476934,
          0.25545713773189266,
          -0.8103597237887806,
          1.9097123968006973,
          -0.5309482886377657,
          -3.167055963321593,
          -0.8604403430578086,
          -1.9172838161726955,
          -0.506086767095725,
          2.0196371349336073,
          1.1349372008572312,
          -0.6482223353542491,
          0.47521619728787085,
          -1.9965061959661017,
          -0.16801461128752063,
          -0.45017888641217135,
          1.3591888144025754,
          -0.44791656010575276,
          -3.1612927957654975,
          -0.8959819011552252,
          1.2115485495418485,
          0.27364823347982886,
          0.6869103282334931,
          -1.3576514105949522,
          1.031820252923793,
          0.12493059474917283,
          -0.12003627240497992,
          -0.2689793458395285,
          -0.4621349828662435,
          -2.1099950436925643,
          -0.9296880264101668,
          -0.1443162994611882,
          2.229609658073603,
          0.23506107232336473,
          -1.2980917796656104,
          0.26270092929951144,
          -0.8275081442304617,
          0.6746591540672849,
          -0.7615774713691064,
          -1.8086318508243426,
          0.2986012971966566,
          1.8020283593704136,
          -0.4546120505070094,
          -1.3201377594664772,
          0.8173745017137497,
          1.2497151477739257,
          -1.1747160678355522,
          -0.8356225481636278,
          -0.7566931323989153,
          0.6056584490851946,
          -0.951553911029219,
          -1.6108280842853078,
          0.8211140332927827,
          0.855035813079514,
          0.3128763556817245,
          1.842649468900812,
          0.5470708654355173,
          1.6255422046790498,
          -0.3790374739127227,
          0.744540198571463,
          0.809370373016918,
          -0.9487484570702063,
          -0.6196835633619615,
          -0.05788904697608214,
          1.2422791340163235,
          0.08360131253564375,
          1.2479708231695568,
          -1.611890874311927,
          0.475495369161694,
          -1.1631989690243458,
          0.0065610987932873035,
          -0.9109156797742785,
          -1.7386962688892762,
          -1.614050148043337,
          -0.401630149548505,
          -0.8562966548120333,
          -0.8238788737433985,
          1.4061438607493262,
          -0.2420776384776551,
          -1.7947311273318425,
          0.24588976604035892,
          0.5018409404634473,
          -1.7237140849010872,
          -0.09699143738214251,
          -1.5333947356666406,
          0.6706274317645103,
          0.7732552484221891,
          -1.7983472379758345,
          0.6576958307070151,
          0.11336618149745252,
          -0.7908476549991997,
          0.7445717819473726,
          0.6985753935516325,
          0.25329560597523215,
          -2.55462474606205,
          2.276945414254117,
          -0.6831955139437285,
          -0.09120135373545488,
          -1.267646653445978,
          -0.6177970113727161,
          -0.7580658647142662,
          1.0095365658287483,
          1.5190465729541764,
          1.362546628667648,
          1.2536135806550883,
          -0.005642412150484905,
          1.6285265645017883,
          1.9983198917242238,
          -0.7304880732209826,
          -1.2414720323646196,
          -1.1795654255592567,
          -1.1402011523321365,
          -0.4751812232648358,
          0.8420231960697204,
          0.5957333926113624,
          -1.7898948319531944,
          -1.160080588578694,
          0.21676377779959216,
          2.07364571105228,
          0.16044161251940403,
          0.996072514469416,
          0.9313238114843564,
          0.22443904677252066,
          1.7529713793475536,
          -1.5680017735448777,
          0.5507473369364726,
          0.5989420197629781,
          -0.0777162952202693,
          -0.04461242754374984,
          1.374540149547991,
          0.7926894175672036,
          -0.7232049589876323,
          -1.2281494347978519,
          0.16536580263534068,
          -2.029739203229555,
          -0.5700461620854523,
          -0.7994331270152065,
          0.043968238512490286,
          -1.0299652495139815,
          0.11823033967842064,
          0.005730348801239448,
          0.5866032506751365,
          -0.466041560588351,
          -0.0724418679111919,
          0.13990385452568538,
          1.2940419611356238,
          1.7785027439173557,
          -1.236169186997078,
          1.0085275166146277,
          -0.3682653490831459,
          2.315546361343713,
          0.5727666005867645,
          -0.6418619951107764,
          0.01578702001987104,
          0.2875770424701466,
          0.4593657389579119,
          -1.7154886599483414,
          -0.11444884375832175,
          -2.1544566367374296,
          0.7579584009998932,
          -0.6503661926254786,
          0.278027025853938,
          -1.4157835406339772,
          1.028543634046339,
          -1.1524132178684985,
          0.5307896709775718,
          -1.8329207195701482,
          -0.7375609053520515,
          -1.408315341232022,
          0.6263374138224164,
          1.2148002685532242,
          0.7495629631925446,
          1.799240650879353,
          -0.024015524611394713,
          0.953336306860672,
          1.3165263036256243,
          2.422469891054138,
          -1.3813572914337073,
          0.5568485397805385,
          -1.1824496015342743,
          1.1782540408547517,
          1.336204598799631,
          1.0762059242339317,
          -0.25825205008853,
          2.589121973538491,
          -0.8473745397010533,
          1.9628822180813368,
          -1.4800756288710024,
          0.7089668957654844,
          -0.2204752743576402,
          -2.1102937672006847,
          -1.59000179575774,
          -0.9411949234841916,
          0.50606884012975,
          0.39561852998260705,
          -0.9971472180134028,
          -1.8075195634355827,
          0.556086139698814,
          0.6613771868284954,
          -1.5214023975900122,
          0.30101559242595904,
          -1.0327475110572513,
          1.7181059715945268,
          0.042681339991668246,
          -0.8508381199353354,
          -1.5591646716699163,
          -0.39774902154309316,
          -2.7976797009264054,
          0.08100147449033622,
          -1.4309180172840528,
          -0.8907171245149563,
          -2.7557738688031805,
          0.9216524859583823,
          2.237545204092958,
          -1.0732112701649206,
          -2.4780766240476213,
          -2.5424927276247917,
          -1.2795636677911466,
          0.667018963978423,
          -0.37677289792300506,
          2.5073589413092146,
          -0.8704894971553617,
          -0.8936878114333925,
          0.5980575579552686,
          0.16361606060774725,
          -0.08487746237351089,
          -0.8787128897426594,
          -0.771591347361605,
          -0.7399780126081972,
          0.742251545922816,
          -0.717160030940824,
          -0.2224559233066467,
          -3.0174478473888797,
          0.26466399185976874,
          0.6545603680016063,
          0.13390293453983979,
          -0.7462808371306882,
          -1.006515553803873,
          -0.09606162869450478,
          -1.7233943360584338,
          -1.1810318301033242,
          -1.5559240938407917,
          1.0150904074275586,
          -2.6488686583289387,
          -0.467336353317048,
          -1.0068475538138777,
          1.0207593840266151,
          -1.5805883145123838,
          -0.07623428436087644,
          -0.6773707170817451,
          -0.7583205998560146,
          0.14121323917499137,
          -2.5467360193176813,
          0.6487869254130544,
          0.4892027332124101,
          -1.9562918144206585,
          0.9767757712823516,
          -0.6247141400925583,
          -1.254056284615164,
          -1.0477447312235952,
          -0.12209175581283227,
          -0.3699664893950097,
          0.5009254326553657,
          -0.35406289927132484,
          -1.0933740491762296,
          -1.0333431999769926,
          0.10426714721676364,
          0.406747090140697,
          -0.8610891668195365,
          -0.7306783921369981,
          -1.9035024031053533,
          1.0553294111512315,
          -1.1606044537617988,
          0.13156774847818117,
          -0.04446840581376616,
          -2.398101659069001,
          -0.5373934563472581,
          1.9343256742896002,
          0.916707648410879,
          0.5338244822460486,
          -0.6290507190722204,
          -1.361829259367825,
          -2.577680257887638,
          -1.5135939087185073,
          -1.3821825809822397,
          -1.8738900756527648,
          1.2124194391507692,
          -0.6493953836737955,
          -2.3409700848856945,
          -1.8393025277657495,
          -0.21767366044278297,
          0.9735395860834306,
          0.07522462235768128,
          -0.6070885019075868,
          -0.9644834460001138,
          0.5296295419848704,
          2.166397882692537,
          -2.3308122133088833,
          1.775439498800758,
          -0.7044600891761847,
          -1.6428004121404944,
          0.06504588882537059,
          -1.2460312388111907,
          -0.7678181790724959,
          0.766756671022505,
          -0.7666942492753154,
          -0.7696670562867313,
          0.4444714311797114,
          -1.3204859900809756,
          0.21026091782272038,
          0.316369386110693,
          -1.615194272706107,
          1.4944585652352393,
          -2.5247356444017606,
          -0.6138398125875727,
          0.6804625459231457,
          -1.9645908832735144,
          0.0016831267510411872,
          2.351629157762905,
          0.497233182460876,
          1.2017496484739414,
          -0.45195717319238893,
          -1.0697636388902974,
          -1.6230818056238285,
          1.09678676395789,
          -2.595335700941444,
          -1.5399082192405222,
          -0.2604178208188207,
          -2.8739817594817607,
          -0.9528446088715308,
          -0.24981128862664007,
          0.8637035734460734,
          0.3135570356002333,
          -2.3443098008576913,
          -1.1972415392494162,
          -0.3007985069096482,
          -0.5913726497913847,
          -2.473426709836797,
          -0.7563059095070285,
          -0.027363747710944953,
          0.9943081632136004,
          0.949551213841978,
          -1.6085504956480419,
          0.1576938685668846,
          -1.8969669682217332,
          -2.285101517394614,
          1.2772075665545632,
          -0.5558276666609745,
          0.6890853479796336,
          -1.1100896768588036,
          -1.8248176122346906,
          2.6993436345060555,
          -0.23201005706060218,
          -2.0192707470168823,
          -0.5680648971729603,
          -0.5728676071310272,
          -0.4541618373427626,
          -0.4783702918696624,
          -1.5938201890582793,
          -0.4275749621131031,
          -1.7122639887020215,
          -0.3797282732757371,
          0.779059208002453,
          -1.1213747080008234,
          -0.4695327076358231,
          0.47227719727766165,
          -0.8134570412289904,
          -2.0982113594187064,
          -0.5938065541352927,
          -1.3889156687684239,
          -0.5278328415395904,
          -1.266414217388253,
          -1.9427478937111755,
          -1.4325309999651148,
          -0.3683076040016098,
          0.3590084447550863,
          1.3777866805567447,
          -0.42758861807653675,
          -2.1331288291803863,
          -0.8079522955652475,
          -0.2579063006080971,
          -1.1318899144901549,
          0.44182796983023853,
          -0.46596494967143215,
          -1.0019415620828187,
          -1.217812016425145,
          0.5652288401498512,
          -0.7158762554998488,
          -1.1123053708213486,
          -1.4724662083922986,
          -0.37009078983078975,
          -0.01618805406720773,
          -0.3934303286386414,
          -1.4587642054076975,
          -0.5868027066187956,
          -0.7205240764524492,
          -0.2600110881769603,
          0.67274487630494,
          0.16701392261559425,
          1.9080113358057573,
          -0.3081868002369361,
          -0.7449997176211876,
          -1.0333123121638939,
          0.30796012052634064,
          -1.4761105673339074,
          -2.687876240511469,
          -0.7688438797282534,
          1.2424030451111336,
          -1.0227542605001558,
          1.5919455502662299,
          0.3473896894090049,
          -1.290168603086937,
          1.5066874338477456,
          1.0254337448070203,
          -2.2006914546004626,
          0.23454976760561783,
          2.0480828864593574,
          1.0219387870189183,
          0.6084607305803966,
          -0.7588334215834587,
          -0.19225978909737967,
          1.086988405763994,
          -0.6488099401349189,
          -0.8810617731069511,
          -0.9877589187812591,
          0.18397885966904712,
          -0.6227248225100084,
          -0.3989605607884543,
          -1.042457779733548,
          0.6164696579413291,
          -1.5102432718172523,
          -0.4539317106281745,
          -0.8270327513680408,
          1.5665138134788674,
          -1.5794185818212436,
          -0.8286859783928654,
          0.8902941072638694,
          2.6977206603568145,
          -1.938345022754358,
          0.12319159774760544,
          0.24449640631131694,
          0.07280990399730096,
          -0.45115094310389287,
          -0.7535282136619598,
          -1.2174250270142826,
          -1.3828171353374465,
          0.5621516899704655,
          -0.4512480879642956,
          0.7465795515535164,
          1.54908601008607,
          1.2342150596905646,
          1.415809439609733,
          -0.7391876599469573,
          -0.5909672235815321,
          -0.5575605031262109,
          0.5866250541568452,
          -0.9605620819886194,
          -1.9237071780633648,
          0.2429559993730913,
          -1.4746439885716767,
          -0.5987809042110747,
          -2.4954066471691325,
          -1.436822288975156,
          -1.2082865352140761,
          -0.850817422179704,
          -1.4261943203791938,
          -0.07034675467786983,
          -0.8011272731238366,
          -2.0729253568560617,
          -0.9864796277228504,
          -0.6477960666587601,
          -1.4774567125917892,
          -1.2296468478753435,
          -1.4970140668527536,
          0.5649085789468905,
          0.0628105603939704,
          -1.5166214913372769,
          -0.06797201821945516,
          0.3505069600161896,
          -1.323130551052854,
          -0.3810941649886307,
          -0.6820080691684607,
          1.907032345672161,
          0.35592306130979795,
          -0.448333076904575,
          -0.013033614745269352,
          2.2565602008149037,
          0.18188839496538087,
          -1.7206600770208804,
          -0.35803839073588345,
          -1.0072796766954595,
          -0.3773962153977085,
          1.012389435278756,
          -1.0412162858424483,
          -0.381128132076731,
          -1.4214302616332453,
          -0.7800875861136556,
          -0.6070031562346725,
          -0.8359398676938264,
          -0.0005782056866651235,
          0.2238769541187598,
          -1.4721393788135526,
          0.8818815560843504,
          -2.339848437715483,
          0.19322042118697602,
          0.3435810207050855,
          -2.6552336352812085,
          0.08806598951831876,
          2.795641410443108,
          0.5272106366860171,
          0.751936211081638,
          -2.2660759104238504,
          -0.9248380033088459,
          -0.6887370477253251,
          -0.8915668661421199,
          -0.44252766212403155,
          -0.5689736137083832,
          -0.7236702681591626,
          -2.292023028473956,
          -1.0485752663336319,
          -1.0862792646199093,
          -0.8814575394987992,
          1.029317885460706,
          -0.5128071293842351,
          -0.9361265766406914,
          -0.2663219783963379,
          -0.6962171649866631,
          -1.1079072805555292,
          0.8632603312299743,
          0.45189711933922777,
          0.8610569087057444,
          -0.4073140983110772,
          1.7153333919243339,
          -0.6910440484589216,
          -2.115862297615876,
          1.2583514832535718,
          1.5540529905908174,
          -0.9161550573717904,
          -1.011623491683071,
          -0.07292198046944723,
          -1.628859898763794,
          2.1434765797219306,
          1.2461852431360958,
          0.2920283099566118,
          0.17626418210624706,
          0.0016586894075168437,
          1.7252461950692297,
          -0.8999874840022458,
          -1.5299654339935704,
          0.027056432256480183,
          -1.7417179544090315,
          -1.1903119054315068,
          -1.3751055617319148,
          0.6569063228548772,
          -1.2951908354592807,
          -1.2424257073203682,
          0.8282841862274513,
          -0.22962484607668715,
          -0.9603674649335981,
          0.6930601954603446,
          -1.0049131127415436,
          -0.9734072113825465,
          -1.292124911357855,
          -1.650148626799052,
          0.9395609214512167,
          1.3969271082921246,
          -2.189286358693595,
          1.5066289999440514,
          2.5264575308874004,
          0.027076676295981473,
          -0.1688340620479063,
          -1.1206585419706756,
          -1.0100596792405117,
          0.5449515536243286,
          -1.1617865303170527,
          -2.553211413502684,
          -1.8586488278369189,
          -0.7884687510672724,
          1.7802453421616835,
          -1.1308115808731076,
          -1.1841403908646246,
          -0.07599048678407393,
          -0.8326812719711144,
          -1.0773540873580343,
          -0.5801284330305131,
          2.1841642853286745,
          -0.1607220392188146,
          0.38318730863089084,
          -0.7365394116073489,
          0.26375499899958643,
          -1.1464017984165216,
          -2.014855690415686,
          0.29134861617433494,
          1.1811063038110754,
          -0.4279946226915692,
          -1.7406866725657761,
          -1.3815784093117192,
          -0.6883105394972746,
          -1.009901359662584,
          -0.6731094626457977,
          -0.8828086185901806,
          -0.4085645901443526,
          -2.1266872197416316,
          -0.997159754647398,
          -1.173081841943955,
          -1.5395249475558388,
          1.0045255425181405,
          2.1233467241201898,
          0.9730071311614004,
          -0.6199503608446216,
          1.0409669599153715,
          1.674619428409933,
          -1.4700660615404426,
          -1.1462404790354455,
          0.3314327603375541,
          0.6195187286766715,
          -2.1012387433247373,
          -0.8127829810658634,
          -3.2939861457268376,
          1.4819809909689865,
          -1.8801528259826432,
          0.8521692121680456,
          -0.4719261577966685,
          -1.357524703012126,
          -0.9888539243822745,
          2.348554232775037,
          -1.5000509194948175,
          -0.6074228582862485,
          2.195971291438034,
          0.37612281491459276,
          -0.7290256991578324,
          -0.5298688266423361,
          -1.0110262215150185,
          0.16966320921986758,
          -0.5181310668194663,
          -0.7809785570351798,
          -0.8911909619489299,
          1.509554657756197,
          -1.2508375524530502,
          -0.9028413612037094,
          1.996364613894776,
          1.1295234049953322,
          1.0915339908227073,
          1.8082859311347417,
          -0.8744340985274764,
          1.3490232182744328,
          -0.41211893747087797,
          1.4715596360558085,
          -1.0340425083948397,
          -2.3507153327971855,
          -1.1660573169572277,
          -0.6967512771727146,
          -0.878751437693551,
          0.7471691941224817,
          -0.4461422621118689,
          -0.6970708443225869,
          1.150265269949995,
          -1.0553032661573893,
          1.3372244124407737,
          0.641230820851674,
          0.3394206655664101,
          1.905162616437047,
          0.9693219783102139,
          -0.12352910228865893,
          1.9859502121054353,
          -0.8699662588027307,
          0.4339648812284617,
          1.368006038169679,
          -0.5673107397106354,
          0.6291335655488826,
          1.991406315784805,
          1.7250027637288305,
          0.9570412790475724,
          0.8081313851189441,
          -1.1523454521900558,
          -0.15678203021985762,
          -2.218811658735971,
          1.4322157968321545,
          1.4363915563414538,
          0.8987874119416016,
          -0.08099011860754456,
          0.011391078591839972,
          1.0911767639250478,
          0.3044026838475081,
          1.4089511634385554,
          1.1176269556627652,
          0.18955645996218887,
          -0.17357045449382186,
          1.2597896915765838,
          -1.224996530700966,
          -1.4812459993813354,
          0.09627907356077793,
          -1.381633525176727,
          2.388411985824531,
          1.5180632131601566,
          -1.8823929662318721,
          0.5733765881389608,
          -1.2817462469076246,
          0.09694666244120301,
          -0.5780015787440403,
          -0.10407106223545516,
          -2.846449832128827,
          -0.17615544929538185,
          -0.6638535740689754,
          -2.1941686184114997,
          -0.9757645329615658,
          -1.0715387091995765,
          -0.2581006678036182,
          -0.10621398113308414,
          1.9991245569320764,
          2.622622546902424,
          0.1786688039301356,
          -0.12512577076620085,
          -1.0653582813926494,
          0.22340817962172937,
          -0.9682221567206295,
          -0.2520596805517656,
          0.9889632330811913,
          0.24520659890311286,
          0.12224371009919485,
          -0.8598435491318219,
          -0.5529667612435171,
          0.1334212789519062,
          1.897921661844524,
          1.5502949534053148,
          0.48737651327423975,
          -1.0014355491325575,
          0.8134793998601912,
          2.1866042986227607,
          0.46462662052220355,
          -1.8251999677787052,
          -0.7705959679221199,
          0.39820855270373756,
          1.0645385456911143,
          -0.19969565226555794,
          1.1663395213372416,
          0.5258339277656233,
          -0.6424815614887167,
          2.2989453734158554,
          0.3679972956398009,
          -2.0933542691756677,
          0.48388446223918075,
          0.5928601364406831,
          0.4769473894363175,
          1.3400090308690087,
          -0.8040819109310613,
          0.24387440363754087,
          0.24351809260903423,
          -1.915268874775049,
          0.763282551243357,
          -0.40663525805797296,
          -1.7083025387970918,
          0.8645727733893773,
          0.597600939940668,
          -0.0241025766319484,
          2.4804522886792615,
          -0.9870433878845287,
          -0.23862011542665307,
          1.22329620945618,
          0.18188701600670906,
          1.0532678959750106,
          -0.7199540729052896,
          -2.680083719885436,
          2.0446729514985535,
          0.37078546412506563,
          0.07605304852908944,
          1.0498032069361662,
          1.3207126389254722,
          -2.119318723052358,
          0.8009310842602693,
          0.48395510139927683,
          2.1732782053251265,
          0.770250311569136,
          -1.5522709475117502,
          0.3126203808728663,
          2.0014400537152337,
          0.31137200160117684,
          0.267889105597523,
          -0.18569225003397496,
          -0.45089004622527384,
          0.419670806106081,
          1.6922680819425613,
          1.8042994832819514,
          1.5084687623550301,
          1.940556777974721,
          -1.6514201092400242,
          0.5528803130241985,
          -0.14780759658485185,
          1.1555242483977919,
          1.0949462025650691,
          -0.10374324480560242,
          2.851023683818525,
          -0.17326364821360404,
          -1.4726536453584331,
          -0.9426353409119712,
          1.4021405388448358,
          -0.20390341583730548,
          2.1418892795251563,
          2.511830308953871,
          -1.6668283562456876,
          0.9828457621800811,
          0.8287278700031413,
          -0.6247067444493476,
          -0.5131609371333271,
          -1.0899325451923474,
          0.06748825964485693,
          0.5689277470049857,
          2.426562331609971,
          -1.9377290561128617,
          2.612997343366605,
          -0.36437102655819426,
          -0.8520413348618764,
          0.325706375948834,
          0.4518814235186856,
          -0.855745309289824,
          1.5342905887921732,
          -0.31166996656377927,
          -0.14576173959324296,
          0.04295363043170423,
          0.34475047743965337,
          -1.6957217687271506,
          -2.0230075888128853,
          0.11974535120507673,
          1.3506542474737941,
          -1.16464472721465,
          0.9170498655380775,
          -1.3320806508630185,
          0.699731716512958,
          -0.32295965474853855,
          2.240178835582181,
          0.8822229166849598,
          0.9748564438370282,
          0.6085743107435673,
          0.14835589345876152,
          -0.6680473411528917,
          -0.2182227963497745,
          1.078112765580271,
          -0.6097121403656035,
          0.9550943937929891,
          -1.3280934020969417,
          -0.04555861366905891,
          -0.1594732502185588,
          1.7101605704880936,
          -0.9262417754851845,
          0.5332702557933783,
          0.7454514727955063,
          0.321899743806384,
          -1.4371444679801844,
          -0.1391817357450375,
          -2.3107480318000104,
          -0.22064342069977147,
          0.269350672889375,
          -2.2709446988753315,
          1.8243324130026222,
          0.539672850832828,
          -1.634262658860569,
          0.33476298134057475,
          1.884279467632452,
          -0.3294177020924663,
          1.9795578119011168,
          -0.43185569489922376,
          -0.23248153801699714,
          1.0991714297418147,
          0.6583080905762638,
          1.9220266826497612,
          -0.34239343844332326,
          2.9097637991297947,
          -0.017930484533952785,
          -0.9446996339537529,
          0.021731273911943867,
          0.13282180280296693,
          0.19027022052490458,
          1.213624450654451,
          1.5551006704204566,
          1.0113130111090116,
          0.9580482057961888,
          -0.3510546113625697,
          0.2130789624982086,
          1.2810437939680388,
          -0.6843586204524785,
          -2.0273071743948665,
          -0.5779523462621958,
          0.4361540026543975,
          -1.117850763160151,
          0.3758823139626412,
          1.340615092543161,
          -0.24991981280450656,
          0.7882903824981634,
          0.6613372578915125,
          -2.119242485069729,
          1.0085677796713381,
          0.3898197503124638,
          0.5513647377556461,
          -2.137389964903271,
          1.5015589602892336,
          0.4525796110081548,
          1.5332673561006176,
          -0.23641897900182984,
          1.0381219816318796,
          1.0441277856434115,
          0.14921196299441866,
          -0.8001905327051145,
          0.13398062904663083,
          0.5180446736480968,
          0.15054158778875193,
          -0.3072564276682744,
          0.052356900066198475,
          1.8834123862869476,
          -1.0031079444928666,
          1.0253969687862206,
          -0.3384820127000228,
          -2.2499905378121707,
          0.257748880931365,
          0.04585645860944161,
          0.7794086554177934,
          1.7480571624152719,
          1.154257659179532,
          -0.8946701561474312,
          -0.4294393804410737,
          -0.7949218619499349,
          -0.3657046731533848,
          -0.8605287710475592,
          2.145113891229021,
          0.9191937241953221,
          -2.147843180420189,
          -0.18259995331025922,
          -2.4230856844687234,
          -1.4643098359193216,
          1.2424896704532713,
          2.1495912230088745,
          1.0910679104716,
          -0.8513150187309404,
          -0.2450323425697456,
          -0.18496742641625133,
          -0.20044173252107936,
          -2.4292846666384054,
          0.7181755284728482,
          0.8009979961145685,
          1.3826217883086636,
          1.5510026494636087,
          0.16723576406954405,
          0.5734955813433777,
          -0.5459507849410837,
          1.198257692690752,
          1.327467009100367,
          -0.2513904502165588,
          1.1043438466940334,
          -0.2962431254134629,
          1.3578539258467386,
          2.5670630162233605,
          -0.718808934255755,
          0.24295553732918296,
          1.3668225036595045,
          0.46633137512816886,
          -0.75987643163648,
          1.9269484209263883,
          -1.0666735067373152,
          0.6958130276214717,
          1.195694034650502,
          -1.0718055435040876,
          -1.1080659142015257,
          1.1386321840487448,
          3.5648904463470905,
          0.8303753585403939,
          -0.615292822516085,
          -2.5743138692435052,
          0.7332963008462279,
          0.5735197884790508,
          0.8029622548594124,
          -0.30090496756638724,
          -1.1168602794985905,
          -1.1445540072542597,
          -1.4696848938205376,
          -1.440293674570092,
          -0.1910854723526728,
          -0.8264460106817028,
          -0.6269618022365983,
          -0.7264741139604913,
          -0.19146536602796518,
          -1.5925456294458522,
          -0.7725011617261139,
          1.8835223227627786,
          -1.4531436388768206,
          0.724212829277633,
          1.763714027479609,
          -0.1547487643409893,
          -0.07236216959231917,
          -0.79315515084691,
          -1.0267920104930657,
          0.13027221444044434,
          -1.0960947200455071,
          -0.1793581402649592,
          0.5204996406669765,
          -0.586586629845414,
          0.05886225191966554,
          -1.3309849208791942,
          -0.5335484770491652,
          -0.07509253971666745,
          -1.1477661395123215,
          0.4707888261997337,
          0.5414200331130669,
          -0.03706485035248506,
          -1.569872602715994,
          -0.24222087723299407,
          0.7960757485350577,
          0.09807097036944393,
          -0.5552250887453514,
          -1.2166973626337358,
          0.6478609706202537,
          -1.1402298235619421,
          0.17021211093942465,
          0.3849227688853906,
          -0.525723753496817,
          -0.8942796507142877,
          -1.8999901835347626,
          -0.6415362836880728,
          -0.745919608699055,
          -0.11291980961286613,
          -0.8576594386448433,
          -0.7003748935920484,
          -1.2018721121931497,
          -1.7924786436482334,
          -0.3895908424995827,
          0.21262374344015142,
          1.8810594417423163,
          1.2349848265642809,
          1.4216673569114802,
          -0.3729136615204582,
          -1.905860564519908,
          -0.5158106947502216,
          -1.1195294383938774,
          -0.21788015199964272,
          1.8950027908189733,
          0.9627679647002042,
          1.0442536029272524,
          0.24575551326327585,
          -0.31225793825476533,
          -0.3820016724273641,
          0.35835873548716957,
          -1.61320773808365,
          -0.30780047577298547,
          0.02560175638930799,
          -0.08551269893983938,
          0.5401249841995277,
          -0.6533222145618094,
          0.05074890406438292,
          1.015149069579588,
          -1.616824020579423,
          -0.8091015774773728,
          -0.23684857831408518,
          -1.66228603155123,
          -1.2836738741838571,
          0.5289743880670653,
          0.13926078074581263,
          -1.2905246253095681,
          0.44496094195025504,
          -1.8117249126586605,
          -0.3978404206821019,
          -0.0755779351014407,
          -1.3738981235794754,
          -0.6216914735316114,
          0.2906848635493915,
          -1.8784918252323308,
          -1.751992170428792,
          0.49721425991288604,
          0.10165447406562533,
          0.7329013811213866,
          1.5571267675873228,
          -0.7768173618010646,
          -0.33420154992944745,
          -0.3857195368873323,
          -2.084441022641278,
          -0.2667463453120238,
          2.318819871832739,
          -0.27259678068581944,
          -1.1073559156714676,
          2.015195129461719,
          0.12960958160378364,
          0.44261585228108186,
          1.0274902533384214,
          -0.1725066706188778,
          -0.10262205603821534,
          1.4422428120258874,
          1.1420709474868616,
          -0.5272049489780164,
          -0.2586248969246363,
          1.0131969752777488,
          -0.26540139634960436,
          0.2512235446947552,
          1.13858641922185,
          -0.39997818158689596,
          -0.44313509812198165,
          -0.09889702873379323,
          -1.9344727789545704,
          -0.47172831502930196,
          -0.8792964863763842,
          0.44896184107718723,
          0.3020176731763359,
          1.3884538211702433,
          0.37276641578124886,
          0.9536807592957942,
          0.7317296290965734,
          -0.09172446343593324,
          1.8586768792220756,
          -1.283838783746286,
          0.36910951478624093,
          0.3175269262590953,
          0.35183852749347944,
          -2.1313409969439934,
          0.03706165807611,
          0.45634076879979885,
          -1.4097266273054259,
          -0.025246274388683362,
          -0.6375483408766179,
          0.9179560544619565,
          0.924390263247945,
          0.8069394134676359,
          -2.642204410112706,
          1.7699146144358455,
          0.04462563732230782,
          0.2012935228424603,
          0.9276110543092349,
          -0.4093491579397114,
          0.9324923689204802,
          0.39642626781386553,
          0.6106043773671564,
          -1.4824812065142916,
          -1.0187798723775792,
          -2.009478789461385,
          1.3631641172435311,
          -2.404004602656855,
          0.4673677986136293,
          -0.49640697056835664,
          0.1345431922905573,
          -0.7090383562123586
         ],
         "z": [
          1.5039254472250603,
          0.7459345948372894,
          2.7813733741173117,
          0.33183760096098636,
          -1.0038456911831457,
          -1.2293453520349595,
          -1.0784576855161017,
          1.0206348073913578,
          0.3148381042529893,
          -0.3538946624547872,
          0.5735869072043546,
          0.33082228146284176,
          -1.1879727021032933,
          -0.03775165473751788,
          -0.8783644649531169,
          0.5183946007015955,
          -0.2997136271873985,
          -0.6989102789242112,
          -1.067259118617121,
          0.9971814729395685,
          -0.09690673464340804,
          0.25375132656129695,
          -1.2038891074898532,
          0.34581609678063274,
          -0.7383971949435606,
          -0.10265423723880206,
          -0.602071930450904,
          2.2495965801284665,
          0.893450369528263,
          0.385881198136393,
          0.24540138711030104,
          1.218724272161569,
          -1.4205582755635675,
          -0.21976208711236553,
          0.7324859802685441,
          0.17383826234476354,
          0.189292747615621,
          0.1837414707783778,
          0.8184597882651012,
          -0.8380329388686081,
          0.2840983294688901,
          0.739861576885732,
          -0.7674218620341097,
          0.9754537036670213,
          -1.2250165305227472,
          0.28632186287156175,
          0.49587358081498323,
          -1.9078716297988643,
          -0.11442745812889418,
          -1.926670953017624,
          -0.1773708159246209,
          1.4108027024130152,
          0.017394595626973618,
          -1.1229178556661954,
          0.5092264275788175,
          -1.1570583009772546,
          -1.4647452596696502,
          -0.3326714447570747,
          -1.0719663115827804,
          -0.3454648647545682,
          0.2535691964243221,
          -1.09568937384307,
          1.872304711336496,
          2.004876764206603,
          -1.2802963403040155,
          -0.588743328590048,
          -0.9831568656617753,
          -0.841088309450402,
          -0.2115809133853531,
          -1.2345265189706207,
          -0.7832050114982199,
          1.0086285208735593,
          1.1507980870653363,
          4.767753082694681,
          -0.055556148021242355,
          -0.15761556329341217,
          0.08826582689679335,
          -1.0526861236240388,
          1.1865667496004528,
          0.18139321428479113,
          0.6001343624960772,
          -1.0675032730369185,
          -0.48454199112120333,
          -1.4862504374409828,
          -0.7966648005100369,
          0.4030523831886115,
          -0.18375821505432802,
          -0.3813993349856057,
          -0.17354693731523207,
          0.4248025305816122,
          -0.2891927013913394,
          -0.012128520660244469,
          -0.33257088363316484,
          -0.325586192224236,
          2.1611560449541747,
          0.23325380584049277,
          -0.6863532542559437,
          -0.7537683259327114,
          -0.8806700866994275,
          -1.229282486236737,
          -0.7331096012362158,
          -0.5996873389476229,
          -0.31811421052901845,
          0.21487596831133426,
          0.7126560099238636,
          -0.7741758800674329,
          1.1268304330002188,
          -0.8931964547592308,
          -1.1254272544471273,
          -0.3762719058131026,
          2.1359166843452786,
          -1.5536785226662118,
          -0.5551421961714365,
          -2.0798005217205606,
          3.7579698075944066,
          -1.4526206713290533,
          -0.662403737837223,
          1.363080082880052,
          -0.42876794427119674,
          -0.3925827178103805,
          5.046725701570228,
          -0.9014474985970062,
          0.25487128322800207,
          -1.3228818602588475,
          0.09306396445279407,
          1.9912363225684608,
          -0.14273000510785175,
          0.20112201476149602,
          0.2513336240016042,
          -0.2609758755831755,
          -0.9515842971808751,
          0.058002156427079066,
          0.5989019310760058,
          -1.614606790488869,
          -0.6994429725767869,
          -1.1770669356583827,
          -0.5108361813045885,
          -0.5033696456063075,
          0.27888288925121246,
          -1.1086344077571955,
          -0.4476718228165869,
          -0.16922142677261154,
          -0.3409286162411644,
          -0.6494628822846584,
          -0.5670698783245879,
          1.383316281057579,
          0.6241448892466362,
          0.9781195872028885,
          0.22841498375661579,
          -0.019666316432320863,
          -0.7912672675288535,
          -1.268118190816119,
          -0.13835224522693404,
          1.980725622673587,
          0.7042980685709243,
          -0.4924638513045282,
          -1.1771494565160765,
          -0.7616902752546607,
          -0.2321633386349823,
          1.8239112573589242,
          -1.19255809386745,
          0.5301823129730623,
          -0.08006968561340666,
          1.4684378834416805,
          -0.03471639614174175,
          -0.8141784385353602,
          -0.9748278230903211,
          -0.45840513620950535,
          -0.11237958691591905,
          0.8202635320317103,
          0.349040229985454,
          -0.12798827506350952,
          -1.0218264109286113,
          1.5722502849460807,
          -1.058161562555675,
          4.225598024934057,
          0.420806147128456,
          -1.3626138719698795,
          -0.931997375724267,
          -0.8048503217706233,
          -0.6078445579598959,
          -0.5645824212338214,
          0.18550407355683554,
          -0.8194426551946264,
          -0.22885016596402538,
          0.4731821304685649,
          0.898690132329926,
          -0.10540897905707537,
          -0.393129148085381,
          -0.8940934297350537,
          2.5510101665316878,
          -0.7378844841185644,
          -0.5350321358807167,
          0.15322823565530017,
          0.5336175127238095,
          -0.02026177345606132,
          -0.4214713422251123,
          -0.9740454050224768,
          0.2066970959616168,
          -0.37122611699792485,
          0.06292028396333146,
          -0.09161259566627018,
          -0.1380352962896304,
          -0.6383026067675054,
          0.49979830214567544,
          0.1909750027308918,
          -0.23969434300210585,
          1.127924484741907,
          1.027315468901321,
          1.226280420926496,
          0.8243321131883015,
          -0.41270240895884447,
          -1.3412439045944309,
          -1.2137812620987931,
          1.4073586264486246,
          -0.9040477062039844,
          0.7465002378086264,
          -0.4460263164301251,
          0.03591330156852381,
          1.4805628334099454,
          -1.6424815136382929,
          0.169505878447042,
          -0.09350518328163995,
          -0.34410045411853496,
          0.929950156579004,
          -0.2783601963593407,
          1.2287241363985801,
          -1.6793480603408577,
          2.194206314777272,
          0.07318558495241592,
          -0.23138334228302648,
          -0.6619299306649752,
          0.6627640966102609,
          -0.22287725869947608,
          1.2662641607249128,
          0.9018451357963488,
          -0.9817583329076699,
          0.9833677885183588,
          1.3411508121961329,
          0.4742925389602391,
          -1.1253210329867602,
          -0.30492246479434837,
          -1.423021589779172,
          0.5448450316313563,
          -1.0032314261106987,
          -1.088693538628465,
          -0.6014600735994928,
          0.8078622730374864,
          -0.6305031051010705,
          -0.7129879740666951,
          0.10551211748266762,
          2.486426970111027,
          1.4629845216133268,
          -1.000121457933499,
          -0.40897186508659467,
          -0.329195780608807,
          0.20786591114500252,
          0.3237541626437972,
          0.5049703936343285,
          -0.8329126743787644,
          -0.8319642461687093,
          -0.2720574974830091,
          -1.1367670307477071,
          0.23458689143128716,
          5.859888138642883,
          -1.5728890617128461,
          1.1137666515016915,
          0.41479439408445673,
          0.4318305998214328,
          -1.031726417989602,
          -0.8915391048829316,
          -1.270617951292574,
          0.10450248259162072,
          -0.6413775255393831,
          0.31385577535336057,
          -0.01589903575833141,
          -1.2593677175771074,
          -0.5960650177838819,
          -0.05777452568547395,
          -1.133927647376704,
          -0.639817945388057,
          -0.9729745365207746,
          2.921423167766711,
          -1.2764391551179652,
          2.159154076887835,
          -0.6928045425148465,
          -0.37015750437565403,
          0.4727498971422466,
          -1.0536469597692206,
          -0.47707750129102655,
          -0.36885030873980684,
          1.0042977999977702,
          -1.098306445217535,
          -0.89530982102555,
          -0.8093019106732593,
          -1.2922988724099727,
          0.1754365464094934,
          -1.0589512461239623,
          0.05347207279248969,
          -0.7582752658604557,
          1.0019224925639125,
          -0.8519800701147996,
          -0.21004917295455083,
          -0.22481809418629717,
          0.4349245635207888,
          -0.2420215103320138,
          0.19600076055109153,
          -0.9334344031390293,
          -0.5800503719123258,
          -0.28333500163772035,
          -0.1950277139357312,
          -0.44260788676439966,
          -0.5251327354837403,
          -0.776158113861591,
          0.6457075487307233,
          0.033635890950541376,
          0.0552646873479521,
          0.22736019990566422,
          -1.7751961683415844,
          1.547024630129824,
          -0.5338930704645253,
          0.13302082660686554,
          -0.6199749374499305,
          -1.5796315368760383,
          0.530084996054172,
          -0.17958791447879505,
          0.9680309729186065,
          -0.09059278469495745,
          -1.2425902971959522,
          -0.20083060071086964,
          0.40985872210482527,
          -0.4246426835940193,
          -1.38630363147581,
          0.7098523843107966,
          1.0411774417073463,
          -1.1983354618353255,
          0.5125821316757593,
          -1.0065643110286464,
          -0.19918540127942105,
          -1.4096282051106517,
          -0.05662337505134938,
          -0.3352415897219768,
          0.41861880803288903,
          -1.5508110754291697,
          -1.1388792510439774,
          -1.3744828818772048,
          -0.8636770793396145,
          -0.511532041560609,
          -0.8642331460735873,
          -0.6144021944263437,
          0.4887619836568759,
          -1.1996235882066024,
          -0.057678315217342235,
          0.18479008105384406,
          1.313159556110852,
          0.35574185800105784,
          -0.9066703057926019,
          0.3944549120183517,
          1.0203418111374167,
          -0.11159864008595968,
          -0.6916980492689403,
          2.2502836970266284,
          -0.024923360659383588,
          -0.27686814844699764,
          1.745624055100728,
          1.2541210836482404,
          2.839102470642736,
          -0.6712719877683687,
          -0.0021167896293870173,
          0.1415163422631868,
          -0.4648957823071224,
          -0.768321205362562,
          -1.4064472102353518,
          1.4671363007863272,
          -0.7204592133700397,
          -0.7648352908898256,
          -0.1440763409353398,
          2.148119306292929,
          0.4395489824634356,
          -1.0476476167690838,
          0.23413574992652667,
          -0.6205085483401326,
          -1.131804175507256,
          -0.23877906996284504,
          -1.154259381865408,
          -1.1852215067692724,
          1.084494908122193,
          2.1286470733588043,
          -0.724330213992196,
          -1.2182929478866409,
          -1.114895316843997,
          -0.16057388929709737,
          -0.8120338528873309,
          -0.22070303207691053,
          0.348625928583065,
          -0.7344434436380687,
          -0.8404808290439812,
          -1.5692542863335173,
          -0.5594788058545681,
          -0.09824845323727711,
          0.476001056997861,
          0.20024598930371867,
          0.32353607440262167,
          -0.2158789158507156,
          -0.38357406508346575,
          1.1843213465833171,
          0.24623931055626744,
          -0.35644663568859075,
          0.03609908521406095,
          0.9158627266038701,
          -0.9043858290834123,
          -0.3912365101749332,
          0.4760154193554676,
          -0.19703795749040356,
          0.0960393955037306,
          0.09862937745744453,
          -0.3253652509331712,
          -0.21235765542669632,
          0.3280947679718307,
          -0.2864279756690145,
          -0.6400518901338592,
          0.06660617765802314,
          -0.9714909073437734,
          -1.2033796374533183,
          2.3851744120581997,
          -0.7409326234033499,
          0.0532318661390931,
          -0.07238405435837524,
          -0.3728676163342587,
          0.700814168676197,
          -0.6710749086590279,
          0.045863625773097154,
          -1.4010273026080708,
          0.3928355580581917,
          -1.131580231690499,
          0.21661927675904005,
          -0.4790550692292154,
          0.30701364783938373,
          -0.2622183909341815,
          -0.06138728872576803,
          0.7326337716176203,
          -1.344895298589455,
          -0.8466736534248721,
          -0.329229987492122,
          -0.5435373623567598,
          -1.391771261956154,
          -1.157799047473219,
          1.3088894888876499,
          0.2821205565589632,
          -0.8926042301521488,
          1.025875973935042,
          -1.1013465465759011,
          0.44653513110982906,
          -1.6421522666808526,
          0.0426226990125734,
          -0.20550664778653605,
          -0.6752568236441835,
          -0.09459881778825935,
          -0.7538600274644152,
          -0.06939865680461228,
          -1.2210282716376157,
          -0.22703234135847758,
          -0.2272165028174075,
          0.17836286926500952,
          -0.2876642266586535,
          4.371069929620883,
          1.04720405734952,
          0.011700862643832865,
          -0.3669294156369428,
          1.8245440993485857,
          1.409683321931041,
          -0.86399588571133,
          0.5663876111122345,
          -0.6140833883863573,
          -0.06671657288148987,
          -0.02339702243056985,
          0.21431632847226317,
          -0.29934212057083304,
          -0.9894784268945541,
          -1.5684099203194115,
          0.6563109681045485,
          0.24315581773793732,
          -0.11896133460592863,
          0.13250097083741175,
          -1.5402617155258673,
          0.3180422494770618,
          -0.6431394352662544,
          -0.9679958364455925,
          -0.5916943057620805,
          -0.17718992661587202,
          1.0065095058548996,
          -0.48499689142640273,
          -0.9980186489337315,
          1.0829737604014047,
          1.5016770324500657,
          -0.6659001001029324,
          0.6007318853045234,
          -0.7415271110401733,
          0.06048119735519428,
          0.7276991178891464,
          1.566768007457556,
          -0.7094276044131734,
          -0.6117619335452157,
          -1.2081050074812116,
          2.178876196716976,
          -0.7301687209951043,
          0.5498039697077031,
          0.02740409918988653,
          0.4242551262768365,
          0.267340044275773,
          -1.346707266195336,
          0.2376464044071664,
          0.20227455369139252,
          -0.5463144479689832,
          0.1922781154613495,
          -0.0292265936541778,
          -1.1900872228180779,
          -0.8900255711639369,
          -1.2557652858263366,
          -0.4765946583521645,
          0.28383946876626953,
          -0.06105790125216696,
          -0.307963053157958,
          0.8795539235460395,
          -1.2572035010196205,
          0.024965251746973373,
          -0.5607532081808173,
          -0.10783218264248981,
          -0.7599315743359395,
          0.03764916312570609,
          0.3480489624470087,
          0.37896942186595484,
          0.9327307308173902,
          -0.916772813549554,
          -0.1119332287000293,
          -0.8671151841241088,
          0.1811826694020901,
          -0.3237959455268464,
          1.450203453112718,
          -0.3177376249310648,
          -1.0632518340523012,
          -0.4602512275622555,
          -0.6618221842731222,
          -1.262633998433961,
          0.5033342653214979,
          0.9428398541013627,
          -0.43031619677328176,
          -1.115227533458229,
          -0.32042101274040313,
          0.24881606900792091,
          1.6428698825330457,
          -1.6333193162016297,
          0.5425733138965259,
          -0.6366365091997127,
          -1.0444459348645152,
          -0.02069313629324538,
          0.41481598263500674,
          0.2513369977519083,
          -0.011152667787640406,
          -0.3979947366850465,
          -0.9926759736974008,
          -0.11652646399478736,
          -0.6712126776756405,
          -1.0493053944755195,
          0.45075073997349524,
          -1.1959285920100549,
          0.11863789240756276,
          -0.8455002495698961,
          -0.1672344651728132,
          -0.13019690049692284,
          -0.48450721138374125,
          -0.6043488252101479,
          2.754789223963103,
          -0.08207562417984163,
          0.27362551392108014,
          -0.3178712198102662,
          -0.9267517138980289,
          -0.032743723473137025,
          0.48468548302618353,
          -1.2495044254300811,
          3.04308671132103,
          -0.1717186594250622,
          0.32520297717744956,
          -0.3327261409726645,
          -0.9974365700978732,
          0.7485198491775604,
          -0.5546191418246307,
          1.0372060340458928,
          -0.6391778108397483,
          -0.5802986289236476,
          0.3549999969414341,
          -1.0646830972262697,
          2.5003584646931176,
          1.193331218471667,
          -0.02577866798435239,
          -0.5474016787026083,
          0.127944894450613,
          -0.6233213014413279,
          -0.4928692128684493,
          -0.4265044067919423,
          -0.226468629937093,
          0.6386323166342108,
          -0.5640819413048566,
          0.7494196581029334,
          -1.003532615912708,
          1.0675499940974436,
          -0.8857358016437668,
          -0.3762672176044703,
          2.164928224208088,
          0.06842631837638645,
          -1.091332616369998,
          -0.7004191781848031,
          0.27186016209558206,
          -1.1257079965353634,
          -0.07301473097732468,
          -0.5062375373826598,
          0.31641745425801415,
          -0.798303763315812,
          -0.4368941585013789,
          2.2869905712960454,
          -1.2583638401401116,
          -0.37432499937851027,
          -1.2646964654260782,
          -0.9719653344871481,
          0.4839653511487181,
          0.41016150046826044,
          -1.269940632448201,
          -0.6400821043434256,
          0.8059046410130651,
          -0.2755731955132556,
          -1.0135587439320668,
          -0.42596590063075823,
          -1.792876306286157,
          1.197473907714101,
          -0.4149954270474772,
          0.07453776231874956,
          -0.6219722085444205,
          0.9999376434536437,
          -0.2158532081691228,
          0.2528445437460957,
          -0.8871343728837039,
          -1.25987801242195,
          0.5972008162672063,
          -0.4105238464689339,
          6.093714065855784,
          0.047585692452378876,
          -0.01409255834905395,
          -0.5911056618286399,
          1.1504485729674754,
          -0.18728224218089268,
          0.39116026196789444,
          -0.7058209043170944,
          -0.4269892109220665,
          0.28847828077766396,
          0.4443260913306246,
          -0.22878008328439023,
          0.3829023981847216,
          -0.38391641513156194,
          -0.37829156867803965,
          -0.7925294594731613,
          0.7470097934466613,
          0.3864199890289896,
          -0.44639016899261014,
          0.1990122202255128,
          0.3304436627165392,
          0.7441399582126507,
          -0.29441826636789103,
          -0.1532461639890902,
          -0.7087223922326041,
          -0.3239082436312939,
          -1.1089118846723023,
          -0.6962866518542673,
          0.41679498529619236,
          0.38003979509111885,
          -0.9054805933032011,
          -0.996545805217525,
          -1.7395323110784207,
          2.169143701648795,
          -0.16706827735282,
          0.2679835575776584,
          0.2938346122534095,
          -0.09934809877689499,
          -0.028359944530907705,
          -1.3839652531213111,
          -0.2026240559514034,
          0.23628721191676125,
          -0.6342733555193559,
          -0.08683422488890824,
          0.909772861689764,
          2.5355362480001102,
          0.2294791730018023,
          0.5609526498937446,
          -0.8537623713297424,
          -1.325800369094352,
          1.3263368882325661,
          -0.25974523031392466,
          -0.35582193850416943,
          0.3725015119432561,
          -0.18209332379550688,
          -0.9217026607922227,
          -0.6216158489170751,
          -0.5825699862008554,
          0.6206828268827675,
          -0.48054002718536004,
          3.527171217625942,
          -1.0159552818482362,
          0.3417109862997681,
          -0.9444246207548486,
          -0.9931318180558366,
          -0.2147987235825641,
          -0.8884124693846006,
          -0.2614784669259117,
          -0.28516782460213086,
          -0.2250838200468469,
          2.9471584706652103,
          -0.8722057064028504,
          -0.33233745476614057,
          -0.2751004029299459,
          -1.0304291148841138,
          -0.6045148156761756,
          -0.403869131029862,
          -0.7147976477357841,
          -0.333738919367634,
          -0.7291487968613444,
          4.990290917314169,
          0.8056371329152187,
          -0.980962674132936,
          -1.3498174007547608,
          3.724385594064776,
          -0.3967394816169572,
          -0.2521757897793296,
          -0.7593450055109422,
          0.3701079510656124,
          -0.18527669372873096,
          -0.03832966642380692,
          0.351776721411293,
          -0.5691596878179134,
          -1.0475819703371703,
          -0.18460279335301055,
          -0.9643058480931279,
          -1.0018108753972221,
          0.7437406041114664,
          -0.37521295226549334,
          1.1670718287330908,
          -0.5125191036689271,
          -1.2366913871964913,
          0.5006583881003674,
          -0.28710678063338846,
          -0.10530574264454041,
          0.2536263677872202,
          1.1251796347193055,
          -0.3758528928920717,
          -0.10539824898678422,
          -0.48825216357676643,
          -0.4693742239468373,
          0.8063564969645378,
          -0.5099959805776233,
          1.342033352747789,
          -1.8170996446560495,
          -0.14370726371540082,
          0.5810844996149744,
          -0.41376972015614666,
          -0.4744098237874235,
          5.638453204392769,
          -0.6253901625883653,
          -0.9374134823004361,
          -0.007701590150150674,
          -0.698526423235486,
          -0.697385359955512,
          -0.8450356641447421,
          -0.7523719564305605,
          -0.8186545244958062,
          -1.0233894273647568,
          -1.82195661774818,
          0.4279963738720615,
          -0.4001881599477239,
          -0.6833780304137725,
          0.4544323683345852,
          -0.6532909600361557,
          -0.6709495513521411,
          0.3009669338468024,
          -0.6255699194948721,
          -0.11373266909415247,
          -0.7748113179934575,
          -0.4211255140799911,
          -0.5560237946455356,
          5.7291480489055875,
          -0.2580198652449125,
          -0.19338790408986026,
          1.347371907165872,
          0.223828553097446,
          -0.8578907918322692,
          -0.3390252601129432,
          0.2131124428348343,
          -0.620488297435734,
          -0.0873852768635325,
          -0.1672238952681241,
          2.656172923723906,
          -0.01176039236999361,
          0.032969800988021894,
          0.4229702832157552,
          -0.5605402921410871,
          1.2477517203994974,
          -0.014115408859723568,
          0.4061819851928308,
          0.19506128847506948,
          -0.767150430962019,
          0.32063367306169566,
          -0.3728061151807456,
          -0.2316777415718322,
          -0.5385009280670535,
          1.3725964909377772,
          1.332379054681261,
          0.38139989305413635,
          0.4610909412394844,
          0.3200374158694101,
          1.3219771860127691,
          -1.2877195606748446,
          -0.2835453478360542,
          -0.37706181031087727,
          0.36963901961286344,
          0.2945951789621632,
          0.04901304101133021,
          -0.1458897795225958,
          -0.42117395679718267,
          -0.001816925547449556,
          -0.4175467231433115,
          -0.6653372756955847,
          -0.5991245488139915,
          0.621840207288088,
          1.8803499515569302,
          0.8708699832815534,
          -0.8077421840406497,
          -0.0838336077257045,
          -0.3358976696829796,
          0.9613941735494986,
          0.40260843486113146,
          -0.39005768644926125,
          0.795708954955415,
          -0.8571091574497722,
          -0.7350041671089484,
          -0.48065182648945126,
          0.6670907602008276,
          0.42902366820726023,
          -0.525147486939526,
          -0.4987784197942565,
          0.48223286501093915,
          -0.6923653472216724,
          0.46531200399997846,
          0.22006037513492385,
          0.9005251891727495,
          2.3918966879216925,
          0.30968300433256285,
          1.0732344000012626,
          0.42358115857634127,
          0.5345933564433318,
          -0.7288054431054517,
          -0.1957429592101999,
          1.1254924446436465,
          -0.4055334260926825,
          1.4711728718544275,
          1.052216900195555,
          -0.323017190344758,
          0.15912973012253126,
          8.012758478669257,
          0.19439305133564097,
          -0.1835932607083577,
          -0.8859003129490068,
          0.022954843743964396,
          0.32608643826501205,
          0.39147568906473484,
          0.06100175000044318,
          0.008895999691065202,
          0.42206045051268193,
          0.2655375290725038,
          0.6937455730398857,
          -0.31729600118504353,
          0.13426050586756222,
          1.1788338390881732,
          -0.36193185392773447,
          0.6242725330482723,
          -0.21870243699926406,
          -0.2540495521834628,
          0.7066241968658341,
          0.14513108503645278,
          1.0816646715295175,
          -0.7000887715140884,
          0.3030809753526205,
          1.02945733243241,
          0.7883485282667297,
          0.8775890346881762,
          1.2446417973419184,
          0.6901524493536793,
          1.4174743037196247,
          -0.41482817124963806,
          -0.7390475842942871,
          2.079589295865654,
          0.3769353900628763,
          -0.23267072482778778,
          2.1081976872052715,
          -0.0008874864716438621,
          0.9519776409696088,
          0.003467380574793882,
          1.6664725974140189,
          -0.7976155419818706,
          0.13427137612391607,
          -0.5147458714744304,
          0.046498096013812044,
          -0.9665522411205912,
          0.694493785120298,
          0.07795986725947496,
          -0.9603075086664646,
          0.08364929563447332,
          -1.0379594115699482,
          0.7002723537566747,
          0.7684577152182203,
          -0.49612097540564165,
          1.6743742198213454,
          1.796510844160717,
          0.2239942190228898,
          1.6254222576954582,
          0.5610828200350475,
          -0.7107030214107454,
          -1.2093882141122778,
          -0.2586834309029318,
          0.7265053546422234,
          0.10188764433535763,
          0.356342805405085,
          0.4060271808597595,
          -0.22700942911097113,
          -0.38574248639075603,
          0.4720629467833722,
          -0.6898578741921694,
          -0.47597565876007525,
          0.7688383034178702,
          0.09549663982971097,
          -0.47383680102904707,
          0.16292348106795929,
          -0.7485984795657334,
          1.1481183856593857,
          0.13778085688326644,
          0.12125599569086716,
          -0.024715192831747883,
          -0.5277797203532724,
          0.4301997731002875,
          0.8812878375783026,
          1.8910986994232577,
          -0.7014152682021799,
          -0.6292357994919997,
          0.4781823897881853,
          0.21266330762018754,
          -0.8685035854628148,
          0.8005504394407718,
          0.31387305661356063,
          0.6328793427772028,
          -0.2009084707882832,
          0.05260225772888329,
          0.7426452797969723,
          0.26659152631912414,
          0.17851678146424607,
          -0.6432595495477765,
          1.42859208702551,
          0.630484219804057,
          0.5795498708715443,
          -0.5952733896441537,
          0.512944149068618,
          0.7313438135919981,
          -0.7565694657112477,
          -0.82318095034073,
          -0.4949254083270475,
          0.08396551958797181,
          1.952880669955693,
          0.32287199352049983,
          1.0407271730219931,
          0.37464419696959744,
          -0.008457189680956252,
          -0.2790146940199895,
          -0.28686768076759867,
          -1.265364451355558,
          -1.5369918836202836,
          -0.026537749962091652,
          -0.8959407131498481,
          1.4649326522686992,
          0.27453049312537736,
          -0.9208189271584799,
          0.004982633530140693,
          -0.2718217688925572,
          -0.04500746363156854,
          -0.26887484636858533,
          -0.4401843317858437,
          -0.8776401851557915,
          1.0921737694519873,
          -1.2141344622890426,
          -0.29254063588547663,
          -0.07909013301829101,
          -0.03296444576456215,
          -0.22761450544487163,
          0.341205088674556,
          -1.6092521404922444,
          0.24123584308487972,
          -0.3350170241632651,
          -0.6954813661847377,
          0.13888923536592707,
          0.603508382047434,
          -0.9675605545099863,
          0.36929853231440823,
          -0.32875847521065543,
          -1.0728219455992556,
          -0.7400884857732737,
          0.01924972247244216,
          -0.3415355775197648,
          -0.786862648707377,
          -1.1712352425182675,
          -0.4915574062236881,
          -0.17895617153500837,
          -0.1936180287163085,
          0.41874576424028115,
          -0.24648463445818275,
          0.6630820097647535,
          -0.8322671242398129,
          -0.2650791400671286,
          0.20709037997547772,
          3.6180993712880625,
          0.9026295279496929,
          0.8274621790455923,
          0.15562053224624867,
          -0.08438221615478339,
          -0.03731045318118319,
          0.0425356822289972,
          0.4117639076944798,
          -0.9814497334346858,
          2.0365319991494357,
          -0.24267509031853152,
          1.4319330582418577,
          0.20357071521208298,
          0.68661533456836,
          0.34623651896437607,
          0.5255864198192661,
          0.8404709603946201,
          -1.7992862278031314,
          1.5809918376898593,
          -0.2481696537874397,
          -0.659374690169312,
          1.238018685914149,
          -0.6918346453434918,
          2.0457086409785896,
          -0.010976117983454997,
          -1.0002290670122909,
          0.17330955527374164,
          0.16271754794351503,
          0.28075607717983736,
          -0.10395608748108567,
          2.164466619209763,
          -0.5338865397363011,
          -0.2952050761174135,
          0.450705707860428,
          -0.08913925956514557,
          0.22617702917305463,
          -0.5854374869783502,
          -1.1919926013509234,
          -0.6127557868625965,
          0.7097984658312169,
          0.5831948989197535,
          -1.2735776788124464,
          -0.4034554678788126,
          0.4166230061765528,
          3.3390888764380926,
          0.09949678800102804,
          -1.1551360440181617,
          0.77309067945631,
          -0.16810150092978451,
          0.29464084215879566,
          0.3278763180413796,
          2.091868318642379,
          1.1243723342503702,
          0.2984422561594722,
          -0.7980366755308386,
          0.387125896074559,
          0.6307708402804885,
          0.5697377949975785,
          -0.15294712425569104,
          0.1502096792217768,
          2.0479744454836184,
          -0.14892760586730647,
          0.08698044208533733,
          -0.8647731627272989,
          4.963833376709139,
          -0.307431109473301,
          -0.4658880758886396,
          -0.04458298902310551,
          -0.17987407088311247,
          0.5343998812214947,
          -0.851727356868912,
          -0.8774475111527892,
          -0.7349421480289544,
          -0.9233350534627858,
          0.5727593701886002,
          0.7010763494484504,
          -0.4103041680774263,
          -0.881670698409716,
          0.8083620570417286,
          -0.5923928601992218,
          0.5943536761205167,
          -1.1867952779475615,
          -0.49123669479915893,
          -0.3136985680149281,
          -0.9380675881308594,
          0.5333639320699504,
          -0.3495447278690278,
          -0.347168039649355,
          -0.38309712883750685,
          0.31917574150635036,
          -0.027115413600385874,
          0.5590534879810687,
          -0.000143963769162746,
          0.47873800298031016,
          -0.02971085801639763,
          -0.13711702344138504,
          -0.16826726270557574,
          0.3434019210388276,
          -0.1477342238619191,
          0.2520901734563141,
          -0.9897269484535404,
          0.04471934536011963,
          -0.5675672355540522,
          0.2985861255741751,
          -1.4825393141094851,
          -1.3755199212610818,
          -0.3759622973166143,
          0.12255430012573934,
          0.8807456921660399,
          -0.1097424969943989,
          0.804276392150592,
          0.10452496752289164,
          0.6913519698592266,
          0.13217084943832144,
          0.155784447377514,
          0.06905399585859648,
          0.6951505467484018,
          -0.6694407577603003,
          -0.16778438171304466,
          0.5997616235723395,
          -0.7172873389131075,
          -0.47231869982219093,
          -0.03893031463036145,
          0.65124045452879,
          -0.6918520523143536,
          0.10718060260829762,
          0.15153312628807994,
          1.9257694234086082,
          -0.9161044278390026,
          0.5775125483704986,
          -0.24802805512643408,
          -0.6335045382637473,
          -0.05047232540659634,
          1.6721737542483521,
          1.364380319483451,
          1.2552324048702608,
          -1.0303921693173397,
          0.34825090969804184,
          -0.024985676007505335,
          -0.9931196171540666,
          -0.10448939854322171,
          0.80931692833828,
          2.304216662329321,
          -0.1554047282307253,
          1.1662146783684504,
          0.49301549066095834,
          0.3162011495085653,
          0.32458743562447534,
          0.22939072213749617,
          1.9916739592146073,
          0.5249179032136856,
          -0.40766120401199224,
          1.9381152339801822,
          -0.09363502025339614,
          -1.284118204798847,
          0.50214776266207,
          1.343340852317199,
          -0.05383853731552506,
          0.14669814004041853,
          -0.7165723426106845,
          1.2655884685801178,
          1.3093478766198128,
          1.0763555615738207,
          -0.1461065551569461,
          0.032326178461903096,
          0.8177461136565256,
          0.5554712637412345,
          0.6421135569477471,
          1.8771518464195558,
          -0.35568955450865636,
          0.03480335896880203,
          -0.4785753824095502,
          -1.3543160947086417,
          -0.5233749182578126,
          -0.27150251357476085,
          -0.553182782884591,
          0.5926597268213113,
          -0.7622163446196254,
          -0.38988118397695143,
          -0.17420187153205405,
          1.0698305713920808,
          -0.6398617259472222,
          -0.16024644680892622,
          -0.4159943367744659,
          -0.17338021725395403,
          -0.08334742179403021,
          -0.14359836430959935,
          -0.5921016055831867,
          0.9267678305228562,
          -0.5275402644352828,
          0.05919598475074162,
          -0.924215041428773,
          0.4949620855559265,
          -0.3841470734458071,
          0.5179551305321785,
          0.3179373081295577,
          2.4490624580595783,
          0.5597691177935087,
          -0.11391056099245996,
          2.392554022295465,
          2.6285944422991845,
          -1.2810962624808837,
          -0.07066624705444798,
          -0.7644814184734047,
          -0.35099628053026605,
          1.4824695023165904,
          -0.5800841488916147,
          -0.3875747723038658,
          0.6506062630521169,
          -0.1398206799245723,
          -0.5333153379558215,
          -0.20500881292239526,
          0.44186295944523546,
          1.5350466274747907,
          -0.5625642101907066,
          0.05803873829909702,
          -0.7137231589661638,
          -0.806650485648122,
          -0.2228408063598123,
          3.2210523151576305,
          -0.2630854833933786,
          0.07300288136780993,
          -0.19626000612058045,
          -0.7852918118165407,
          0.2378293956207395,
          0.16193132604579583,
          -0.20147935749028986,
          -1.1721169733499706,
          0.10921018855032374,
          -0.3256184126244569,
          0.05264094756603748,
          0.22088950544250216,
          0.6584044094853931,
          0.09843403377188066,
          1.4934724044694891,
          0.9548120289023856,
          0.8677516957753804,
          -0.42601029831295895,
          -0.5803350746450742,
          -0.13612597113895247,
          0.0146750989841883,
          -0.8460794812200912,
          4.250352339567655,
          -0.8687877891206265,
          -0.6553847724579301,
          -0.002619649806744144,
          1.3752458536523675,
          -0.06937255000378653,
          -0.32783426239173075,
          -0.3016150501413824,
          -1.110647013499943,
          -0.2804389154701575,
          -0.9816173483862907,
          0.15470563632987377,
          -0.014834630068913064,
          0.1446471091411066,
          -0.3062707210308816,
          -1.1998593081315605,
          -0.32823704316382213,
          -0.7936469068374001,
          0.1825369671170549,
          -0.43214074016704196,
          0.3474684605977986,
          1.8248337668756283,
          -0.1579054837221145,
          -0.2515482616152899,
          -0.42264488787732823,
          -0.5225830872926014,
          -0.7436384980964347,
          -0.21255977516396368,
          -0.20894308312780005,
          0.3907450211116488,
          -0.01110281973366885,
          -1.166257228171187,
          2.400479866418883,
          -0.6627718787526807,
          -0.6489312322366027,
          -0.5515804283227368,
          -0.6051438431808656,
          -0.5868143608430673,
          0.5136807742005697,
          -0.4254862245820874,
          0.05731505447854593,
          0.0014845504970062789,
          0.2972228888372601,
          -0.7541328984347466,
          1.4207294006514903,
          0.31916985804442727,
          -1.108129902533128,
          -0.20216630970783384,
          0.07761734711856778,
          -0.6610708582968673,
          2.061774004350669,
          -1.0496487844083897,
          0.6473382771485262,
          -1.122281041862184,
          -0.844978070753645,
          0.2980385058036178,
          0.6173860316473044,
          0.07446667749866978,
          -1.09398332360802,
          -0.028826229438534915,
          -0.6091078191824714,
          0.43454619687715623,
          0.31318786662628045,
          0.2451580791461667,
          0.352596975260457,
          -0.7452371541871883,
          0.30711096032224805,
          2.852449443584957,
          -0.1091112273694913,
          -0.4430291064481286,
          -0.8546809147496506,
          -0.12290843614317555,
          0.5322050856299005,
          -0.09663605925273384,
          1.8701436935763753,
          1.1243502251360082,
          -0.9593290061951834,
          1.0761345562305002,
          -0.7173637401819463,
          -0.032252220629252024,
          -0.7762544443249507,
          0.08984671793965894,
          -0.6985455326808481,
          -0.01625832824229463,
          1.8407719735680566,
          0.8181255350158447,
          -0.2646862164465759,
          -0.4220070662410192,
          -0.06366862623564706,
          1.2330594879729515,
          0.14769934919649788,
          -0.6182280652487963,
          -0.5596502013735111,
          -1.1136058768045962,
          -0.20107395075099666,
          -0.4876024233722958,
          -0.6353854805961542,
          2.7141577563216375,
          0.16857151647868496,
          -0.5478667543781855,
          -1.6263102742311553,
          0.7361144030610566,
          0.6954494082740059,
          -0.12058612890739491,
          1.9754957892661462,
          -0.21187363769015163,
          1.274243337813459,
          1.315462615511625,
          -0.6962480586910494,
          2.6824168878027383,
          -0.9764557687530373,
          -0.28582782992503697,
          -0.15631805919926806,
          -0.018366188647826104,
          -0.6609498932595612,
          -0.5465024420454946,
          -0.980619851724095,
          0.09876847877301494,
          0.49406375493936877,
          -0.09607877152841963,
          -0.7316758043661875,
          -0.18237751471388325,
          0.08405501375786878,
          -0.3943846231585323,
          -0.6283380660166474,
          -0.2899452514528597,
          -0.7862427925694969,
          -0.3230867501147715,
          0.17791447314696734,
          0.26665343010770787,
          -0.31240443806487356,
          -0.0604581616391353,
          -0.7890703981112067,
          -0.02720653990037493,
          0.2550156087306212,
          -0.13851720029559697,
          0.11661840583106636,
          1.5097224893822505,
          2.3705300395010336,
          -0.9063819369860133,
          -1.3127939674998241,
          -1.416253003211771,
          1.354399909672176,
          -0.03970865125912315,
          -0.769283766024011,
          -0.18165626297220516,
          0.17160297583169412,
          0.0029261095932096026,
          0.9402338710363769,
          1.1437413548506745,
          0.939187037889434,
          -0.5026952096889153,
          -0.953199454288252,
          0.29760794634166826,
          -0.45598575024216736,
          -0.035399692472311686,
          -0.3697601035908397,
          -0.400242458717418,
          0.08683446076467712,
          -0.4293420666801369,
          0.43370511911063797,
          0.022244723901444878,
          1.6546053142732384,
          0.8249189653215618,
          0.9300241498283212,
          0.9018902440856634,
          0.4324374097804634,
          0.4642562063219008,
          -0.5157562989956915,
          -0.039471965159795515,
          0.4839988910268657,
          0.5824031522695514,
          -0.4946497957675645,
          0.5967364171550121,
          -0.18175595438892364,
          2.5600746130557197,
          -0.40356706163758105,
          -0.55433274257674,
          -0.09725691289940615,
          0.10945208185154716,
          1.2357372615952895,
          1.116968741857945,
          0.04922516123656878,
          -0.2553623783403301,
          0.5251349155408288,
          -0.37223516142980567,
          0.5871064635974038,
          -1.5301697387997413,
          -0.45730864123151505,
          -0.3879453852719414,
          0.5643136088408484,
          -1.2949311542100177,
          0.12304921756528964,
          -0.556769606963768,
          -0.7015155024084813,
          -1.0453525821482417,
          -0.5958092053726474,
          -0.19271865302299504,
          3.746632800090455,
          -0.5790657663413489,
          -0.7089990972571173,
          -0.6015659018890119,
          0.25434734983734786,
          -1.1924862580115225,
          0.6157227523751198,
          -0.08425310311436655,
          0.1957266101263803,
          -0.7709357130776833,
          -0.6766551105393412,
          -0.6267986471105649,
          0.9190698134235276,
          -0.15477025419931936,
          0.15605153131670899,
          0.2647739814533521,
          0.3114874532362747,
          -0.5159256613645605,
          -0.5233324761284868,
          -0.7879535583271269,
          -0.8334834953112046,
          0.8839863488943742,
          1.7685555876605978,
          -0.8087614541411454,
          0.21507199564698046,
          0.6919919581441509,
          0.1680506595606303,
          -0.7642715284873991,
          0.17235894159091597,
          -0.2227647567180168,
          -1.2491681543923348,
          -0.3913495028077662,
          -0.5287383637521262,
          0.05205276822445324,
          -0.5201238612059954,
          0.2830417952829884,
          -0.56694201897161,
          1.282649821349388,
          0.587942241421942,
          -0.7350278994184515,
          -0.3881870425238244,
          -0.3601956446506039,
          -0.0324476555059797,
          0.29934227111452477,
          -1.0530861617152212,
          -0.009485471716127902,
          -0.04838532613954959,
          -0.34469503031560506,
          -1.2437371201477683,
          -0.4277197116113238,
          0.9235610216916911,
          1.4833147416704562,
          -0.9087876781172054,
          -1.6805169585908977,
          -0.7717744990521516,
          -1.5872896255996496,
          0.15079096873856832,
          -0.41220755802494685,
          -1.456554370256157,
          -1.6992740198541476,
          -0.4650046509076009,
          -0.9019774286194012,
          -0.6032530257104914,
          1.6866346773046466,
          -1.4414453431200995,
          -0.4693741571306482,
          -0.6241481191254035,
          -1.0108899479438063,
          1.1801732951226447,
          -0.3006144729390494,
          -0.09306184061359479,
          -0.2196375511785331,
          -0.47353254724440424,
          0.8775602174132702,
          -1.5235390928677168,
          -0.4876490137647437,
          0.4428285544768963,
          -1.5484908421889927,
          -0.4874495698842411,
          -0.49876275485944543,
          0.06563230864418869,
          -1.0410761330933032,
          0.8842251298521892,
          -0.9419405699192324,
          1.5035180829702133,
          0.41041477123388315,
          -0.8013052876270652,
          -0.035528938105360064,
          0.21354755775800338,
          -0.23728825856326785,
          0.5125194710375214,
          0.4339275216365122,
          -0.5088193987428302,
          -0.5449252486897401,
          -0.8404070319446192,
          -0.2926033681738443,
          -0.7055522488629218,
          -1.3766098528312447,
          0.11268908322083733,
          -0.8762358498664681,
          0.7171042804096696,
          -0.01975349282549642,
          -0.9463618636946265,
          -0.6580728838912171,
          -0.2734994045984865,
          2.607517176297241,
          -0.7365571057611328,
          0.24831462964811707,
          -0.6640354368128728,
          -0.92071637478266,
          -0.2960562528515464,
          -0.8053514531295098,
          0.1358240989597519,
          -0.8285253604177163,
          -0.9492693488767587,
          -0.008200331624624843,
          -0.5543326725908249,
          -0.2759826472048287,
          -0.5724569305253394,
          -0.003338091025694881,
          -0.19029114986219978,
          -0.22083794901134118,
          0.06268724955235158,
          -0.016224469515546347,
          0.3036610723038999,
          0.1616631035917589,
          0.6802101681829468,
          -0.07751236152540593,
          -0.26439839621608,
          4.304682237234076,
          -0.5113207907163639,
          0.6536147499678048,
          0.20228651472139086,
          0.8420975366192235,
          -0.07855805271402558,
          -0.12259418807927955,
          -1.2545136843461262,
          0.27388909338143597,
          -0.6936706954059585,
          0.6213113770980895,
          -1.0201103406571248,
          1.4628855714457665,
          -0.5365766847862952,
          -1.413652379070975,
          -0.712217006047591,
          -0.7409125379070542,
          0.14618142983724547,
          -0.8374180759362566,
          0.07270789935025103,
          -0.03677065107166628,
          -0.1465019590305966,
          0.16066453530733413,
          1.9842555188606394,
          -0.8973677764146709,
          -0.3082495850185756,
          1.462558905738632,
          -0.6413847456221362,
          0.8315215807871625,
          0.03432449193928372,
          0.20277414915303468,
          0.554967927873272,
          0.18011223965924378,
          0.3535239475500753,
          -0.45000305300171056,
          -1.1210356704693911,
          -0.20714924446174535,
          -0.7542533496208462,
          -0.5072487793761288,
          0.48013397599338936,
          -0.3692816271545396,
          -0.1894803951061042,
          -0.8543276384448877,
          -1.2356100993014325,
          0.3154015485098378,
          -1.2801795908189493,
          0.019367657835205086,
          -1.17249370814926,
          0.00434521815053647,
          -0.24344159619549277,
          0.22753887614974483,
          -1.3160787949115083,
          1.4208923395964324,
          -0.2510899493844913,
          -0.21206004606604745,
          -0.09755309896608441,
          -1.2640278250382453,
          -0.0483932697551909,
          -1.324904623013599,
          -1.7879288661583868,
          -1.2209877165582566,
          5.404290537213379,
          0.24933325916265273,
          -0.7187238973033819,
          -0.9120405330427933,
          0.5271027750573877,
          0.4386949659112182,
          -0.5127576546674198,
          0.07930620696851347,
          0.2126699435344268,
          -0.891806595340662,
          -0.500144781597462,
          0.04720588809754746,
          0.16661623208911353,
          0.10676117941680477,
          0.5164868837029811,
          0.2866651270935723,
          0.10394144123413707,
          -1.0094542936341213,
          0.7385989919284712,
          -1.3901756981926052,
          0.4511100715527231,
          -0.8462259596438684,
          0.30827544500240595,
          -1.372700151618559,
          -0.4917626285189582,
          -1.201737342705713,
          -1.3343853495325049,
          -0.11354903311979268,
          0.7040997023383353,
          -0.4896761902139186,
          0.018209718858283284,
          -0.16454959662813629,
          0.23454000435753286,
          0.19047660754204493,
          -0.5166578388308467,
          -0.6218874989736999,
          0.14453041728304905,
          -0.07043421038324696,
          -2.272579397000372,
          -1.7273203149966123,
          -0.9811862140653106,
          -0.31245749814878976,
          -0.10031891148744665,
          0.004258517274112602,
          -0.06392736596987673,
          1.099200768608967,
          -0.9091195997596917,
          -0.32917751611738394,
          0.14295594931099023,
          0.5742111745385424,
          0.3474013388298086,
          -1.067551336989497,
          -1.76518386470643,
          -0.14606358597144156,
          -0.7768272194097461,
          -1.3990131004812163,
          1.2625176694853857,
          0.5297486959892364,
          -0.09205718782652228,
          2.8324672487841265,
          0.22860005791803525,
          -0.6946949192126993,
          -0.6798777224853293,
          -1.52917028507885,
          0.5793567420050766,
          -0.04833658275909597,
          0.6618241835112726,
          -0.5409974624641313,
          -0.45829541647073924,
          1.200376124147597,
          -1.5648795914379139,
          0.1401955037550602,
          -0.9678184391919897,
          0.5950876677930469,
          -0.3420364277901172,
          0.30099324743153555,
          -1.3281160968866266,
          0.6705058344902645,
          1.5570750305975611,
          0.3122098100247099,
          -0.544272880821334,
          1.1774674452637035,
          -0.7708937430704076,
          -0.8828298175867058,
          0.275297152893773,
          -1.4588847649835772,
          -0.8686214432171838,
          -0.3637888425538426,
          -0.35049395081652257,
          -0.3958532676348018,
          0.25882661593561,
          -0.30462415934708664,
          -0.21213254411997678,
          -1.398285399981931,
          -1.0052671840355478,
          1.7829808710847883,
          4.834732640424488,
          1.0065550161558998,
          -0.9359844311798572,
          -1.4994559702817398,
          1.2401237473631341,
          -0.7221348517996263,
          -1.147089743082774,
          1.2864356080040322,
          0.6309344260986866,
          -0.5240744679878246,
          0.006814724329668561,
          -1.0438177174889676,
          -0.1483791192938484,
          -1.0901686906614998,
          -0.4227276488155975,
          -0.08026615439827517,
          -1.0909265950049967,
          -0.4717542022769005,
          -0.8260012816308873,
          -0.28051047151677994,
          -0.41643821697469907,
          -1.3547907160131807,
          0.22344169376450448,
          -0.6582693410389147,
          0.051065282952761734,
          0.2891678567124692,
          -0.7248453426856711,
          -0.9299912943387696,
          -0.37705945930228535,
          -0.12569453626087687,
          -0.5566824390809463,
          -0.3750188483083108,
          -0.5668154659905681,
          -1.335836696039542,
          -0.5819553890015586,
          0.44527246463515935,
          0.6260682109208131,
          -0.20478206199068374,
          1.4421447888631864,
          -1.188085034104969,
          0.8355599369840477,
          0.8122520404067028,
          0.9471322430280232,
          0.16087884582493342,
          -0.47729033693743755,
          1.0034620372406797,
          1.1646144590673375,
          -0.145888303327186,
          1.2525291677074553,
          1.0758734019651262,
          0.05508686490121691,
          1.105835409281553,
          -1.5839974920796858,
          -1.1856544331273524,
          -0.4301385174613898,
          0.23503808997174833,
          -1.446843925296961,
          -0.44244369682760804,
          -1.1748026202857471,
          -0.2574021067055191,
          1.7283676294136152,
          -0.7473571160051217,
          0.7344974777055442,
          -1.2669412543147724,
          0.5480612808482989,
          -0.0809401485166666,
          0.020229784540123846,
          -1.013930822973777,
          -1.3353804693254732,
          0.3532899208231453,
          2.0217059895558362,
          -0.3614107383319313,
          0.1638207092682461,
          0.7176609675159531,
          0.34007930272775083,
          -0.7442540102856973,
          3.1768984468419337,
          -0.9215084456089924,
          -0.4063105666718621,
          -0.9040557693022409,
          0.01059916825802037,
          0.5174449744538622,
          0.1808890838031169,
          0.33952753472940356,
          -0.392929535357909,
          2.625818915850965,
          -0.12043794017848368,
          0.4001886406455871,
          -0.20782211651108404,
          0.9309249824423719,
          0.6877294543179896,
          0.15811454929782878,
          -0.8315845406158945,
          -0.34155756860382624,
          1.3370908066038343,
          1.3258874618146859,
          0.040150973891924034,
          1.0836698229108734,
          0.4078585459765884,
          -0.7658710147517036,
          -0.18652677641235496,
          -0.07134574708165443,
          -0.7825879762709256,
          1.458595723994923,
          -0.9694616835937007,
          -0.1554228146413324,
          0.3323372517339095,
          -0.6153862683538327,
          -0.38371135000639733,
          -0.4084901912463697,
          -0.004338039334663029,
          -0.48661103830662034,
          -0.6845831765062879,
          -0.17934968612022928,
          0.007139126223700031,
          1.3138125380527967,
          -0.4259171193607459,
          -0.337871836686018,
          0.9756444535379057,
          -1.032592790473293,
          0.7247094409860115,
          0.024134708321781148,
          0.6237649287883892,
          -0.24464180541112698,
          -0.29563355048623063,
          0.5408178836644248,
          -0.5556003089149452,
          -0.166162607674773,
          -0.3090433150465851,
          0.8772057632249197,
          -0.10369604584853888,
          -0.6388155796015883,
          -0.10136780398369141,
          0.11756497950874804,
          0.014943888563986304,
          -1.3975283579370743,
          -0.6170307163639,
          1.5269969740296896,
          0.809292039046978,
          -0.34110936433624567,
          -0.16199139419728098,
          0.025097183540537485,
          1.0896962250858846,
          0.5255319034797816,
          -0.048357409923782964,
          -0.44054459274661617,
          1.649520740977554,
          -0.5310544171489932,
          -0.8126001703841154,
          0.9059342923547651,
          0.2741757715914899,
          -0.7983870405145747,
          -0.38957652280680855,
          -1.565594126375807,
          -0.38221658830220057,
          -0.1633258425975889,
          -0.6243228785647146,
          -1.4629968888922207,
          1.2012334230416546,
          -0.6940387609671144,
          -0.7565939513137204,
          0.582916961945321,
          0.286087019365518,
          -0.8861533037817402,
          0.5972913086949005,
          -0.8979788811562505,
          -1.0370936222827336,
          0.3010926303087019,
          -0.6561239910880092,
          0.11633991853969218,
          -0.48759499632585174,
          -0.3795261725619842,
          -0.3081869315365402,
          -0.15024405171482405,
          -0.11834102972393223,
          -1.0536169311253332,
          -0.5450859630516347,
          -0.4724450390717472,
          1.0961487358230093,
          0.7063497137498471,
          -0.5161898369085383,
          -0.36242773373595044,
          0.14114806518993667,
          -0.08412998575349877,
          0.7421160024500031,
          0.6539144275382115,
          0.02154677825802992,
          6.331743513320773,
          -0.030805033473938807,
          1.4868607570997134,
          -1.2703954446481307,
          -0.5574282202710522,
          -0.7750699681424563,
          0.19807779696553815,
          1.6494208199225233,
          -1.139025619935279,
          -0.009474775322728614,
          0.6691259787640754,
          -0.5069626633623796,
          -0.21882436860905569,
          0.28461434279012643,
          -0.30353082932130304,
          -0.21667025143385327,
          4.6957959108592755,
          -0.7313179681520169,
          0.08212642717359298,
          -0.11935871985655645,
          0.8398857053909726,
          -0.4089932978698536,
          0.8305088341852152,
          -1.2573617030939905,
          0.8869907985048585,
          0.14140196830702015,
          1.5056815041772011,
          -1.4611260637493924,
          0.09479941895586891,
          2.2703281041535313,
          -0.30618484533504897,
          -1.3583587831082786,
          0.39034087661041156,
          0.43114434216259045,
          0.8689036125080074,
          0.3740351129738666,
          -0.7493905650991922,
          -0.8671145385767989,
          -0.908374563873255,
          -0.5958925344937382,
          1.1120612852907639,
          0.6016924006958079,
          2.3746495988905028,
          1.052745479522437,
          -0.16763279274313497,
          -1.2994051407743308,
          0.3519689967144204,
          -0.4484085038026372,
          0.0846684164215916,
          1.0192809975201158,
          -0.08793906982708533,
          1.9081907484633358,
          1.9486212741372444,
          1.995332543003585,
          0.5486389662559015,
          1.7480045844247707,
          1.8198691786399226,
          1.7133418054771103,
          0.5293073436320144
         ]
        }
       ],
       "layout": {
        "coloraxis": {
         "colorbar": {
          "title": {
           "text": "Cluster"
          }
         },
         "colorscale": [
          [
           0,
           "#1F77B4"
          ],
          [
           0.1111111111111111,
           "#FF7F0E"
          ],
          [
           0.2222222222222222,
           "#2CA02C"
          ],
          [
           0.3333333333333333,
           "#D62728"
          ],
          [
           0.4444444444444444,
           "#9467BD"
          ],
          [
           0.5555555555555556,
           "#8C564B"
          ],
          [
           0.6666666666666666,
           "#E377C2"
          ],
          [
           0.7777777777777778,
           "#7F7F7F"
          ],
          [
           0.8888888888888888,
           "#BCBD22"
          ],
          [
           1,
           "#17BECF"
          ]
         ]
        },
        "legend": {
         "tracegroupgap": 0
        },
        "scene": {
         "domain": {
          "x": [
           0,
           1
          ],
          "y": [
           0,
           1
          ]
         },
         "xaxis": {
          "title": {
           "text": "PC1"
          }
         },
         "yaxis": {
          "title": {
           "text": "PC2"
          }
         },
         "zaxis": {
          "title": {
           "text": "PC3"
          }
         }
        },
        "template": {
         "data": {
          "bar": [
           {
            "error_x": {
             "color": "#2a3f5f"
            },
            "error_y": {
             "color": "#2a3f5f"
            },
            "marker": {
             "line": {
              "color": "#E5ECF6",
              "width": 0.5
             },
             "pattern": {
              "fillmode": "overlay",
              "size": 10,
              "solidity": 0.2
             }
            },
            "type": "bar"
           }
          ],
          "barpolar": [
           {
            "marker": {
             "line": {
              "color": "#E5ECF6",
              "width": 0.5
             },
             "pattern": {
              "fillmode": "overlay",
              "size": 10,
              "solidity": 0.2
             }
            },
            "type": "barpolar"
           }
          ],
          "carpet": [
           {
            "aaxis": {
             "endlinecolor": "#2a3f5f",
             "gridcolor": "white",
             "linecolor": "white",
             "minorgridcolor": "white",
             "startlinecolor": "#2a3f5f"
            },
            "baxis": {
             "endlinecolor": "#2a3f5f",
             "gridcolor": "white",
             "linecolor": "white",
             "minorgridcolor": "white",
             "startlinecolor": "#2a3f5f"
            },
            "type": "carpet"
           }
          ],
          "choropleth": [
           {
            "colorbar": {
             "outlinewidth": 0,
             "ticks": ""
            },
            "type": "choropleth"
           }
          ],
          "contour": [
           {
            "colorbar": {
             "outlinewidth": 0,
             "ticks": ""
            },
            "colorscale": [
             [
              0,
              "#0d0887"
             ],
             [
              0.1111111111111111,
              "#46039f"
             ],
             [
              0.2222222222222222,
              "#7201a8"
             ],
             [
              0.3333333333333333,
              "#9c179e"
             ],
             [
              0.4444444444444444,
              "#bd3786"
             ],
             [
              0.5555555555555556,
              "#d8576b"
             ],
             [
              0.6666666666666666,
              "#ed7953"
             ],
             [
              0.7777777777777778,
              "#fb9f3a"
             ],
             [
              0.8888888888888888,
              "#fdca26"
             ],
             [
              1,
              "#f0f921"
             ]
            ],
            "type": "contour"
           }
          ],
          "contourcarpet": [
           {
            "colorbar": {
             "outlinewidth": 0,
             "ticks": ""
            },
            "type": "contourcarpet"
           }
          ],
          "heatmap": [
           {
            "colorbar": {
             "outlinewidth": 0,
             "ticks": ""
            },
            "colorscale": [
             [
              0,
              "#0d0887"
             ],
             [
              0.1111111111111111,
              "#46039f"
             ],
             [
              0.2222222222222222,
              "#7201a8"
             ],
             [
              0.3333333333333333,
              "#9c179e"
             ],
             [
              0.4444444444444444,
              "#bd3786"
             ],
             [
              0.5555555555555556,
              "#d8576b"
             ],
             [
              0.6666666666666666,
              "#ed7953"
             ],
             [
              0.7777777777777778,
              "#fb9f3a"
             ],
             [
              0.8888888888888888,
              "#fdca26"
             ],
             [
              1,
              "#f0f921"
             ]
            ],
            "type": "heatmap"
           }
          ],
          "heatmapgl": [
           {
            "colorbar": {
             "outlinewidth": 0,
             "ticks": ""
            },
            "colorscale": [
             [
              0,
              "#0d0887"
             ],
             [
              0.1111111111111111,
              "#46039f"
             ],
             [
              0.2222222222222222,
              "#7201a8"
             ],
             [
              0.3333333333333333,
              "#9c179e"
             ],
             [
              0.4444444444444444,
              "#bd3786"
             ],
             [
              0.5555555555555556,
              "#d8576b"
             ],
             [
              0.6666666666666666,
              "#ed7953"
             ],
             [
              0.7777777777777778,
              "#fb9f3a"
             ],
             [
              0.8888888888888888,
              "#fdca26"
             ],
             [
              1,
              "#f0f921"
             ]
            ],
            "type": "heatmapgl"
           }
          ],
          "histogram": [
           {
            "marker": {
             "pattern": {
              "fillmode": "overlay",
              "size": 10,
              "solidity": 0.2
             }
            },
            "type": "histogram"
           }
          ],
          "histogram2d": [
           {
            "colorbar": {
             "outlinewidth": 0,
             "ticks": ""
            },
            "colorscale": [
             [
              0,
              "#0d0887"
             ],
             [
              0.1111111111111111,
              "#46039f"
             ],
             [
              0.2222222222222222,
              "#7201a8"
             ],
             [
              0.3333333333333333,
              "#9c179e"
             ],
             [
              0.4444444444444444,
              "#bd3786"
             ],
             [
              0.5555555555555556,
              "#d8576b"
             ],
             [
              0.6666666666666666,
              "#ed7953"
             ],
             [
              0.7777777777777778,
              "#fb9f3a"
             ],
             [
              0.8888888888888888,
              "#fdca26"
             ],
             [
              1,
              "#f0f921"
             ]
            ],
            "type": "histogram2d"
           }
          ],
          "histogram2dcontour": [
           {
            "colorbar": {
             "outlinewidth": 0,
             "ticks": ""
            },
            "colorscale": [
             [
              0,
              "#0d0887"
             ],
             [
              0.1111111111111111,
              "#46039f"
             ],
             [
              0.2222222222222222,
              "#7201a8"
             ],
             [
              0.3333333333333333,
              "#9c179e"
             ],
             [
              0.4444444444444444,
              "#bd3786"
             ],
             [
              0.5555555555555556,
              "#d8576b"
             ],
             [
              0.6666666666666666,
              "#ed7953"
             ],
             [
              0.7777777777777778,
              "#fb9f3a"
             ],
             [
              0.8888888888888888,
              "#fdca26"
             ],
             [
              1,
              "#f0f921"
             ]
            ],
            "type": "histogram2dcontour"
           }
          ],
          "mesh3d": [
           {
            "colorbar": {
             "outlinewidth": 0,
             "ticks": ""
            },
            "type": "mesh3d"
           }
          ],
          "parcoords": [
           {
            "line": {
             "colorbar": {
              "outlinewidth": 0,
              "ticks": ""
             }
            },
            "type": "parcoords"
           }
          ],
          "pie": [
           {
            "automargin": true,
            "type": "pie"
           }
          ],
          "scatter": [
           {
            "fillpattern": {
             "fillmode": "overlay",
             "size": 10,
             "solidity": 0.2
            },
            "type": "scatter"
           }
          ],
          "scatter3d": [
           {
            "line": {
             "colorbar": {
              "outlinewidth": 0,
              "ticks": ""
             }
            },
            "marker": {
             "colorbar": {
              "outlinewidth": 0,
              "ticks": ""
             }
            },
            "type": "scatter3d"
           }
          ],
          "scattercarpet": [
           {
            "marker": {
             "colorbar": {
              "outlinewidth": 0,
              "ticks": ""
             }
            },
            "type": "scattercarpet"
           }
          ],
          "scattergeo": [
           {
            "marker": {
             "colorbar": {
              "outlinewidth": 0,
              "ticks": ""
             }
            },
            "type": "scattergeo"
           }
          ],
          "scattergl": [
           {
            "marker": {
             "colorbar": {
              "outlinewidth": 0,
              "ticks": ""
             }
            },
            "type": "scattergl"
           }
          ],
          "scattermapbox": [
           {
            "marker": {
             "colorbar": {
              "outlinewidth": 0,
              "ticks": ""
             }
            },
            "type": "scattermapbox"
           }
          ],
          "scatterpolar": [
           {
            "marker": {
             "colorbar": {
              "outlinewidth": 0,
              "ticks": ""
             }
            },
            "type": "scatterpolar"
           }
          ],
          "scatterpolargl": [
           {
            "marker": {
             "colorbar": {
              "outlinewidth": 0,
              "ticks": ""
             }
            },
            "type": "scatterpolargl"
           }
          ],
          "scatterternary": [
           {
            "marker": {
             "colorbar": {
              "outlinewidth": 0,
              "ticks": ""
             }
            },
            "type": "scatterternary"
           }
          ],
          "surface": [
           {
            "colorbar": {
             "outlinewidth": 0,
             "ticks": ""
            },
            "colorscale": [
             [
              0,
              "#0d0887"
             ],
             [
              0.1111111111111111,
              "#46039f"
             ],
             [
              0.2222222222222222,
              "#7201a8"
             ],
             [
              0.3333333333333333,
              "#9c179e"
             ],
             [
              0.4444444444444444,
              "#bd3786"
             ],
             [
              0.5555555555555556,
              "#d8576b"
             ],
             [
              0.6666666666666666,
              "#ed7953"
             ],
             [
              0.7777777777777778,
              "#fb9f3a"
             ],
             [
              0.8888888888888888,
              "#fdca26"
             ],
             [
              1,
              "#f0f921"
             ]
            ],
            "type": "surface"
           }
          ],
          "table": [
           {
            "cells": {
             "fill": {
              "color": "#EBF0F8"
             },
             "line": {
              "color": "white"
             }
            },
            "header": {
             "fill": {
              "color": "#C8D4E3"
             },
             "line": {
              "color": "white"
             }
            },
            "type": "table"
           }
          ]
         },
         "layout": {
          "annotationdefaults": {
           "arrowcolor": "#2a3f5f",
           "arrowhead": 0,
           "arrowwidth": 1
          },
          "autotypenumbers": "strict",
          "coloraxis": {
           "colorbar": {
            "outlinewidth": 0,
            "ticks": ""
           }
          },
          "colorscale": {
           "diverging": [
            [
             0,
             "#8e0152"
            ],
            [
             0.1,
             "#c51b7d"
            ],
            [
             0.2,
             "#de77ae"
            ],
            [
             0.3,
             "#f1b6da"
            ],
            [
             0.4,
             "#fde0ef"
            ],
            [
             0.5,
             "#f7f7f7"
            ],
            [
             0.6,
             "#e6f5d0"
            ],
            [
             0.7,
             "#b8e186"
            ],
            [
             0.8,
             "#7fbc41"
            ],
            [
             0.9,
             "#4d9221"
            ],
            [
             1,
             "#276419"
            ]
           ],
           "sequential": [
            [
             0,
             "#0d0887"
            ],
            [
             0.1111111111111111,
             "#46039f"
            ],
            [
             0.2222222222222222,
             "#7201a8"
            ],
            [
             0.3333333333333333,
             "#9c179e"
            ],
            [
             0.4444444444444444,
             "#bd3786"
            ],
            [
             0.5555555555555556,
             "#d8576b"
            ],
            [
             0.6666666666666666,
             "#ed7953"
            ],
            [
             0.7777777777777778,
             "#fb9f3a"
            ],
            [
             0.8888888888888888,
             "#fdca26"
            ],
            [
             1,
             "#f0f921"
            ]
           ],
           "sequentialminus": [
            [
             0,
             "#0d0887"
            ],
            [
             0.1111111111111111,
             "#46039f"
            ],
            [
             0.2222222222222222,
             "#7201a8"
            ],
            [
             0.3333333333333333,
             "#9c179e"
            ],
            [
             0.4444444444444444,
             "#bd3786"
            ],
            [
             0.5555555555555556,
             "#d8576b"
            ],
            [
             0.6666666666666666,
             "#ed7953"
            ],
            [
             0.7777777777777778,
             "#fb9f3a"
            ],
            [
             0.8888888888888888,
             "#fdca26"
            ],
            [
             1,
             "#f0f921"
            ]
           ]
          },
          "colorway": [
           "#636efa",
           "#EF553B",
           "#00cc96",
           "#ab63fa",
           "#FFA15A",
           "#19d3f3",
           "#FF6692",
           "#B6E880",
           "#FF97FF",
           "#FECB52"
          ],
          "font": {
           "color": "#2a3f5f"
          },
          "geo": {
           "bgcolor": "white",
           "lakecolor": "white",
           "landcolor": "#E5ECF6",
           "showlakes": true,
           "showland": true,
           "subunitcolor": "white"
          },
          "hoverlabel": {
           "align": "left"
          },
          "hovermode": "closest",
          "mapbox": {
           "style": "light"
          },
          "paper_bgcolor": "white",
          "plot_bgcolor": "#E5ECF6",
          "polar": {
           "angularaxis": {
            "gridcolor": "white",
            "linecolor": "white",
            "ticks": ""
           },
           "bgcolor": "#E5ECF6",
           "radialaxis": {
            "gridcolor": "white",
            "linecolor": "white",
            "ticks": ""
           }
          },
          "scene": {
           "xaxis": {
            "backgroundcolor": "#E5ECF6",
            "gridcolor": "white",
            "gridwidth": 2,
            "linecolor": "white",
            "showbackground": true,
            "ticks": "",
            "zerolinecolor": "white"
           },
           "yaxis": {
            "backgroundcolor": "#E5ECF6",
            "gridcolor": "white",
            "gridwidth": 2,
            "linecolor": "white",
            "showbackground": true,
            "ticks": "",
            "zerolinecolor": "white"
           },
           "zaxis": {
            "backgroundcolor": "#E5ECF6",
            "gridcolor": "white",
            "gridwidth": 2,
            "linecolor": "white",
            "showbackground": true,
            "ticks": "",
            "zerolinecolor": "white"
           }
          },
          "shapedefaults": {
           "line": {
            "color": "#2a3f5f"
           }
          },
          "ternary": {
           "aaxis": {
            "gridcolor": "white",
            "linecolor": "white",
            "ticks": ""
           },
           "baxis": {
            "gridcolor": "white",
            "linecolor": "white",
            "ticks": ""
           },
           "bgcolor": "#E5ECF6",
           "caxis": {
            "gridcolor": "white",
            "linecolor": "white",
            "ticks": ""
           }
          },
          "title": {
           "x": 0.05
          },
          "xaxis": {
           "automargin": true,
           "gridcolor": "white",
           "linecolor": "white",
           "ticks": "",
           "title": {
            "standoff": 15
           },
           "zerolinecolor": "white",
           "zerolinewidth": 2
          },
          "yaxis": {
           "automargin": true,
           "gridcolor": "white",
           "linecolor": "white",
           "ticks": "",
           "title": {
            "standoff": 15
           },
           "zerolinecolor": "white",
           "zerolinewidth": 2
          }
         }
        },
        "title": {
         "text": "Music Data Clustering (3D PCA)"
        }
       }
      }
     },
     "metadata": {},
     "output_type": "display_data"
    }
   ],
   "source": [
    "# Reduce dimensions to 3D\n",
    "pca_3d = PCA(3)\n",
    "features_3d = pca_3d.fit_transform(features_scaled)\n",
    "\n",
    "# Create a DataFrame for the plot\n",
    "plot_df_3d = pd.DataFrame(features_3d, columns=['PC1', 'PC2', 'PC3'])\n",
    "plot_df_3d['Cluster'] = spotify_2k['Cluster']\n",
    "\n",
    "# Plotting 3D\n",
    "fig_3d = px.scatter_3d(plot_df_3d, x='PC1', y='PC2', z='PC3', color='Cluster', title='Music Data Clustering (3D PCA)',\n",
    "                       color_continuous_scale=px.colors.qualitative.D3)\n",
    "fig_3d.show()\n"
   ]
  },
  {
   "cell_type": "code",
   "execution_count": 46,
   "metadata": {},
   "outputs": [],
   "source": [
    "artist_10k  =  pd.read_csv('dataset/spotify_archive/Top_10k_Artists.csv/Artists.csv')\n"
   ]
  },
  {
   "cell_type": "code",
   "execution_count": 47,
   "metadata": {},
   "outputs": [
    {
     "name": "stdout",
     "output_type": "stream",
     "text": [
      "<class 'pandas.core.frame.DataFrame'>\n",
      "RangeIndex: 9488 entries, 0 to 9487\n",
      "Data columns (total 9 columns):\n",
      " #   Column      Non-Null Count  Dtype \n",
      "---  ------      --------------  ----- \n",
      " 0   Name        9488 non-null   object\n",
      " 1   ID          9488 non-null   object\n",
      " 2   Gender      7829 non-null   object\n",
      " 3   Age         9488 non-null   int64 \n",
      " 4   Country     6305 non-null   object\n",
      " 5   Genres      9488 non-null   object\n",
      " 6   Popularity  9488 non-null   int64 \n",
      " 7   Followers   9488 non-null   int64 \n",
      " 8   URI         9488 non-null   object\n",
      "dtypes: int64(3), object(6)\n",
      "memory usage: 667.3+ KB\n"
     ]
    }
   ],
   "source": [
    "artist_10k.info()\n"
   ]
  },
  {
   "cell_type": "code",
   "execution_count": 48,
   "metadata": {},
   "outputs": [],
   "source": [
    "artist_10k = artist_10k.drop(['ID', 'URI'], axis=1)"
   ]
  },
  {
   "cell_type": "code",
   "execution_count": 49,
   "metadata": {},
   "outputs": [
    {
     "data": {
      "text/plain": [
       "0    CA\n",
       "1    US\n",
       "2    GB\n",
       "3    CO\n",
       "4    PR\n",
       "Name: Country, dtype: object"
      ]
     },
     "execution_count": 49,
     "metadata": {},
     "output_type": "execute_result"
    }
   ],
   "source": [
    "artist_10k['Country'].head()\n"
   ]
  },
  {
   "cell_type": "code",
   "execution_count": 50,
   "metadata": {},
   "outputs": [
    {
     "name": "stdout",
     "output_type": "stream",
     "text": [
      "['CA' 'US' 'GB' 'CO' 'PR' nan 'NO' 'FR' 'AU' 'PA' 'SE' 'DE' 'NL' 'BR' 'DK'\n",
      " 'DO' 'AR' 'MX' 'JM' 'PH' 'KR' 'ES' 'AT' 'IT' 'VE' 'NZ' 'IE' 'TR' 'CU'\n",
      " 'BE' 'RO' 'IL' 'IN' 'PL' 'JP' 'UY' 'FI' 'ID' 'DZ' 'XK' 'TW' 'SG' 'AG'\n",
      " 'CL' 'PT' 'ZA' 'NG' 'HK' 'AW' 'AL' 'GR' 'SN' 'BA' 'BD' 'BO' 'LT' 'UA'\n",
      " 'CN' 'RU' 'IS' 'HU' 'PK' 'CV' 'PE' 'MY' 'HN' 'LV' 'CH' 'BG' 'SK' 'CD'\n",
      " 'TH' 'MK' 'EE' 'CM' 'VN' 'SI' 'GT' 'JO' 'CZ' 'MD' 'NI' 'HR' 'TN' 'ML'\n",
      " 'GE' 'AO' 'KZ' 'XE' 'ST' 'GH' 'SR' 'BY' 'VG' 'SB' 'BF' 'XW' 'MA' 'CI'\n",
      " 'SU' 'IR' 'YU' 'PY']\n"
     ]
    }
   ],
   "source": [
    "# Print unique country names\n",
    "print(artist_10k['Country'].unique())"
   ]
  },
  {
   "cell_type": "code",
   "execution_count": 51,
   "metadata": {},
   "outputs": [],
   "source": [
    "country_mapping = {\n",
    "    'CA': 'Canada',\n",
    "    'US': 'United States',\n",
    "    'GB': 'United Kingdom',\n",
    "    'CO': 'Colombia',\n",
    "    'PR': 'Puerto Rico',\n",
    "    'NO': 'Norway',\n",
    "    'FR': 'France',\n",
    "    'AU': 'Australia',\n",
    "    'PA': 'Panama',\n",
    "    'SE': 'Sweden',\n",
    "    'DE': 'Germany',\n",
    "    'NL': 'Netherlands',\n",
    "    'BR': 'Brazil',\n",
    "    'DK': 'Denmark',\n",
    "    'DO': 'Dominican Republic',\n",
    "    'AR': 'Argentina',\n",
    "    'MX': 'Mexico',\n",
    "    'JM': 'Jamaica',\n",
    "    'PH': 'Philippines',\n",
    "    'KR': 'South Korea',\n",
    "    'ES': 'Spain',\n",
    "    'AT': 'Austria',\n",
    "    'IT': 'Italy',\n",
    "    'VE': 'Venezuela',\n",
    "    'NZ': 'New Zealand',\n",
    "    'IE': 'Ireland',\n",
    "    'TR': 'Turkey',\n",
    "    'CU': 'Cuba',\n",
    "    'BE': 'Belgium',\n",
    "    'RO': 'Romania',\n",
    "    'IL': 'Israel',\n",
    "    'IN': 'India',\n",
    "    'PL': 'Poland',\n",
    "    'JP': 'Japan',\n",
    "    'UY': 'Uruguay',\n",
    "    'FI': 'Finland',\n",
    "    'ID': 'Indonesia',\n",
    "    'DZ': 'Algeria',\n",
    "    'XK': 'Kosovo',\n",
    "    'TW': 'Taiwan',\n",
    "    'SG': 'Singapore',\n",
    "    'AG': 'Antigua and Barbuda',\n",
    "    'CL': 'Chile',\n",
    "    'PT': 'Portugal',\n",
    "    'ZA': 'South Africa',\n",
    "    'NG': 'Nigeria',\n",
    "    'HK': 'Hong Kong',\n",
    "    'AW': 'Aruba',\n",
    "    'AL': 'Albania',\n",
    "    'GR': 'Greece',\n",
    "    'SN': 'Senegal',\n",
    "    'BA': 'Bosnia and Herzegovina',\n",
    "    'BD': 'Bangladesh',\n",
    "    'BO': 'Bolivia',\n",
    "    'LT': 'Lithuania',\n",
    "    'UA': 'Ukraine',\n",
    "    'CN': 'China',\n",
    "    'RU': 'Russia',\n",
    "    'IS': 'Iceland',\n",
    "    'HU': 'Hungary',\n",
    "    'PK': 'Pakistan',\n",
    "    'CV': 'Cape Verde',\n",
    "    'PE': 'Peru',\n",
    "    'MY': 'Malaysia',\n",
    "    'HN': 'Honduras',\n",
    "    'LV': 'Latvia',\n",
    "    'CH': 'Switzerland',\n",
    "    'BG': 'Bulgaria',\n",
    "    'SK': 'Slovakia',\n",
    "    'CD': 'Democratic Republic of the Congo',\n",
    "    'TH': 'Thailand',\n",
    "    'MK': 'North Macedonia',\n",
    "    'EE': 'Estonia',\n",
    "    'CM': 'Cameroon',\n",
    "    'VN': 'Vietnam',\n",
    "    'SI': 'Slovenia',\n",
    "    'GT': 'Guatemala',\n",
    "    'JO': 'Jordan',\n",
    "    'CZ': 'Czech Republic',\n",
    "    'MD': 'Moldova',\n",
    "    'NI': 'Nicaragua',\n",
    "    'HR': 'Croatia',\n",
    "    'TN': 'Tunisia',\n",
    "    'ML': 'Mali',\n",
    "    'GE': 'Georgia',\n",
    "    'AO': 'Angola',\n",
    "    'KZ': 'Kazakhstan',\n",
    "    'XE': 'Xenia',\n",
    "    'ST': 'São Tomé and Príncipe',\n",
    "    'GH': 'Ghana',\n",
    "    'SR': 'Suriname',\n",
    "    'BY': 'Belarus',\n",
    "    'VG': 'British Virgin Islands',\n",
    "    'SB': 'Solomon Islands',\n",
    "    'BF': 'Burkina Faso',\n",
    "    'XW': 'Xenomania World',\n",
    "    'MA': 'Morocco',\n",
    "    'CI': 'Ivory Coast',\n",
    "    'SU': 'Soviet Union',\n",
    "    'IR': 'Iran',\n",
    "    'YU': 'Yugoslavia',\n",
    "    'PY': 'Paraguay',\n",
    "}\n",
    "\n",
    "\n"
   ]
  },
  {
   "cell_type": "code",
   "execution_count": 52,
   "metadata": {},
   "outputs": [],
   "source": [
    "# Map country codes to country names\n",
    "artist_10k['Country'] = artist_10k['Country'].map(country_mapping)"
   ]
  },
  {
   "cell_type": "code",
   "execution_count": 53,
   "metadata": {},
   "outputs": [
    {
     "name": "stdout",
     "output_type": "stream",
     "text": [
      "['Canada' 'United States' 'United Kingdom' 'Colombia' 'Puerto Rico' nan\n",
      " 'Norway' 'France' 'Australia' 'Panama' 'Sweden' 'Germany' 'Netherlands'\n",
      " 'Brazil' 'Denmark' 'Dominican Republic' 'Argentina' 'Mexico' 'Jamaica'\n",
      " 'Philippines' 'South Korea' 'Spain' 'Austria' 'Italy' 'Venezuela'\n",
      " 'New Zealand' 'Ireland' 'Turkey' 'Cuba' 'Belgium' 'Romania' 'Israel'\n",
      " 'India' 'Poland' 'Japan' 'Uruguay' 'Finland' 'Indonesia' 'Algeria'\n",
      " 'Kosovo' 'Taiwan' 'Singapore' 'Antigua and Barbuda' 'Chile' 'Portugal'\n",
      " 'South Africa' 'Nigeria' 'Hong Kong' 'Aruba' 'Albania' 'Greece' 'Senegal'\n",
      " 'Bosnia and Herzegovina' 'Bangladesh' 'Bolivia' 'Lithuania' 'Ukraine'\n",
      " 'China' 'Russia' 'Iceland' 'Hungary' 'Pakistan' 'Cape Verde' 'Peru'\n",
      " 'Malaysia' 'Honduras' 'Latvia' 'Switzerland' 'Bulgaria' 'Slovakia'\n",
      " 'Democratic Republic of the Congo' 'Thailand' 'North Macedonia' 'Estonia'\n",
      " 'Cameroon' 'Vietnam' 'Slovenia' 'Guatemala' 'Jordan' 'Czech Republic'\n",
      " 'Moldova' 'Nicaragua' 'Croatia' 'Tunisia' 'Mali' 'Georgia' 'Angola'\n",
      " 'Kazakhstan' 'Xenia' 'São Tomé and Príncipe' 'Ghana' 'Suriname' 'Belarus'\n",
      " 'British Virgin Islands' 'Solomon Islands' 'Burkina Faso'\n",
      " 'Xenomania World' 'Morocco' 'Ivory Coast' 'Soviet Union' 'Iran'\n",
      " 'Yugoslavia' 'Paraguay']\n"
     ]
    }
   ],
   "source": [
    "print(artist_10k['Country'].unique())"
   ]
  },
  {
   "cell_type": "code",
   "execution_count": 54,
   "metadata": {},
   "outputs": [
    {
     "name": "stdout",
     "output_type": "stream",
     "text": [
      "          Country  Artist Count  Percentage\n",
      "0   United States          1207   19.143537\n",
      "1  United Kingdom           507    8.041237\n",
      "2         Germany           347    5.503569\n",
      "3          Sweden           307    4.869151\n",
      "4          France           259    4.107851\n"
     ]
    }
   ],
   "source": [
    "# Preprocess the data to count the number of artists per country\n",
    "artists_per_country = artist_10k['Country'].value_counts().reset_index()\n",
    "artists_per_country.columns = ['Country', 'Artist Count']\n",
    "\n",
    "# Calculate total number of artists\n",
    "total_artists = artists_per_country['Artist Count'].sum()\n",
    "\n",
    "# Calculate percentage of artists per country\n",
    "artists_per_country['Percentage'] = (artists_per_country['Artist Count'] / total_artists) * 100\n",
    "\n",
    "# Display the DataFrame with percentages\n",
    "print(artists_per_country.head())\n",
    "\n"
   ]
  },
  {
   "cell_type": "code",
   "execution_count": 55,
   "metadata": {},
   "outputs": [
    {
     "data": {
      "application/vnd.plotly.v1+json": {
       "config": {
        "plotlyServerURL": "https://plot.ly"
       },
       "data": [
        {
         "coloraxis": "coloraxis",
         "geo": "geo",
         "hovertemplate": "<b>%{hovertext}</b><br><br>Country=%{location}<br>Percentage=%{z}<extra></extra>",
         "hovertext": [
          "United States",
          "United Kingdom",
          "Germany",
          "Sweden",
          "France",
          "Brazil",
          "Italy",
          "Finland",
          "Netherlands",
          "Spain",
          "Turkey",
          "Japan",
          "Denmark",
          "India",
          "Puerto Rico",
          "Australia",
          "Norway",
          "Mexico",
          "Poland",
          "South Korea",
          "Philippines",
          "Canada",
          "Argentina",
          "Indonesia",
          "Colombia",
          "Belgium",
          "Taiwan",
          "Hong Kong",
          "Czech Republic",
          "Chile",
          "Portugal",
          "Dominican Republic",
          "Israel",
          "Jamaica",
          "Austria",
          "Iceland",
          "Malaysia",
          "Russia",
          "New Zealand",
          "Estonia",
          "Hungary",
          "Switzerland",
          "Venezuela",
          "China",
          "Ireland",
          "Thailand",
          "Peru",
          "Uruguay",
          "Romania",
          "Vietnam",
          "Slovakia",
          "Greece",
          "Cuba",
          "Latvia",
          "Pakistan",
          "Panama",
          "South Africa",
          "Slovenia",
          "Singapore",
          "Xenia",
          "Guatemala",
          "Moldova",
          "Tunisia",
          "Angola",
          "Ghana",
          "Belarus",
          "Bosnia and Herzegovina",
          "Algeria",
          "Kosovo",
          "Ukraine",
          "Lithuania",
          "Albania",
          "Bulgaria",
          "Senegal",
          "Morocco",
          "Nigeria",
          "Georgia",
          "North Macedonia",
          "Cape Verde",
          "Bangladesh",
          "Suriname",
          "Yugoslavia",
          "Iran",
          "Soviet Union",
          "Ivory Coast",
          "Democratic Republic of the Congo",
          "Xenomania World",
          "Burkina Faso",
          "Solomon Islands",
          "British Virgin Islands",
          "Jordan",
          "São Tomé and Príncipe",
          "Antigua and Barbuda",
          "Kazakhstan",
          "Cameroon",
          "Honduras",
          "Mali",
          "Aruba",
          "Croatia",
          "Nicaragua",
          "Bolivia",
          "Paraguay"
         ],
         "locationmode": "country names",
         "locations": [
          "United States",
          "United Kingdom",
          "Germany",
          "Sweden",
          "France",
          "Brazil",
          "Italy",
          "Finland",
          "Netherlands",
          "Spain",
          "Turkey",
          "Japan",
          "Denmark",
          "India",
          "Puerto Rico",
          "Australia",
          "Norway",
          "Mexico",
          "Poland",
          "South Korea",
          "Philippines",
          "Canada",
          "Argentina",
          "Indonesia",
          "Colombia",
          "Belgium",
          "Taiwan",
          "Hong Kong",
          "Czech Republic",
          "Chile",
          "Portugal",
          "Dominican Republic",
          "Israel",
          "Jamaica",
          "Austria",
          "Iceland",
          "Malaysia",
          "Russia",
          "New Zealand",
          "Estonia",
          "Hungary",
          "Switzerland",
          "Venezuela",
          "China",
          "Ireland",
          "Thailand",
          "Peru",
          "Uruguay",
          "Romania",
          "Vietnam",
          "Slovakia",
          "Greece",
          "Cuba",
          "Latvia",
          "Pakistan",
          "Panama",
          "South Africa",
          "Slovenia",
          "Singapore",
          "Xenia",
          "Guatemala",
          "Moldova",
          "Tunisia",
          "Angola",
          "Ghana",
          "Belarus",
          "Bosnia and Herzegovina",
          "Algeria",
          "Kosovo",
          "Ukraine",
          "Lithuania",
          "Albania",
          "Bulgaria",
          "Senegal",
          "Morocco",
          "Nigeria",
          "Georgia",
          "North Macedonia",
          "Cape Verde",
          "Bangladesh",
          "Suriname",
          "Yugoslavia",
          "Iran",
          "Soviet Union",
          "Ivory Coast",
          "Democratic Republic of the Congo",
          "Xenomania World",
          "Burkina Faso",
          "Solomon Islands",
          "British Virgin Islands",
          "Jordan",
          "São Tomé and Príncipe",
          "Antigua and Barbuda",
          "Kazakhstan",
          "Cameroon",
          "Honduras",
          "Mali",
          "Aruba",
          "Croatia",
          "Nicaragua",
          "Bolivia",
          "Paraguay"
         ],
         "name": "",
         "type": "choropleth",
         "z": [
          19.14353687549564,
          8.041237113402062,
          5.5035685963521015,
          4.869151467089612,
          4.107850911974623,
          3.7589214908802537,
          3.7589214908802537,
          3.7272006344171293,
          3.2989690721649487,
          2.965900079302141,
          2.9341792228390164,
          2.7438540840602696,
          2.1094369547977796,
          1.9666931007137192,
          1.808088818398097,
          1.76050753370341,
          1.7446471054718478,
          1.6812053925455988,
          1.5384615384615385,
          1.4750198255352893,
          1.4274385408406027,
          1.4115781126090405,
          1.3957176843774783,
          1.3322759714512291,
          1.2212529738302935,
          1.0943695479777953,
          1.0943695479777953,
          0.7771609833465504,
          0.6819984139571769,
          0.6819984139571769,
          0.63441712926249,
          0.5392545598731165,
          0.507533703409992,
          0.47581284694686754,
          0.44409199048374304,
          0.44409199048374304,
          0.44409199048374304,
          0.3965107057890563,
          0.38065027755749403,
          0.3647898493259318,
          0.3489294210943696,
          0.3489294210943696,
          0.317208564631245,
          0.2696272799365583,
          0.2696272799365583,
          0.253766851704996,
          0.22204599524187152,
          0.22204599524187152,
          0.22204599524187152,
          0.2061855670103093,
          0.2061855670103093,
          0.2061855670103093,
          0.19032513877874702,
          0.1586042823156225,
          0.14274385408406026,
          0.14274385408406026,
          0.126883425852498,
          0.11102299762093576,
          0.11102299762093576,
          0.063441712926249,
          0.047581284694686754,
          0.047581284694686754,
          0.047581284694686754,
          0.047581284694686754,
          0.047581284694686754,
          0.047581284694686754,
          0.047581284694686754,
          0.047581284694686754,
          0.047581284694686754,
          0.047581284694686754,
          0.047581284694686754,
          0.047581284694686754,
          0.0317208564631245,
          0.0317208564631245,
          0.0317208564631245,
          0.0317208564631245,
          0.0317208564631245,
          0.0317208564631245,
          0.0317208564631245,
          0.0317208564631245,
          0.01586042823156225,
          0.01586042823156225,
          0.01586042823156225,
          0.01586042823156225,
          0.01586042823156225,
          0.01586042823156225,
          0.01586042823156225,
          0.01586042823156225,
          0.01586042823156225,
          0.01586042823156225,
          0.01586042823156225,
          0.01586042823156225,
          0.01586042823156225,
          0.01586042823156225,
          0.01586042823156225,
          0.01586042823156225,
          0.01586042823156225,
          0.01586042823156225,
          0.01586042823156225,
          0.01586042823156225,
          0.01586042823156225,
          0.01586042823156225
         ]
        }
       ],
       "layout": {
        "coloraxis": {
         "colorbar": {
          "title": {
           "text": "Percentage"
          }
         },
         "colorscale": [
          [
           0,
           "#0d0887"
          ],
          [
           0.1111111111111111,
           "#46039f"
          ],
          [
           0.2222222222222222,
           "#7201a8"
          ],
          [
           0.3333333333333333,
           "#9c179e"
          ],
          [
           0.4444444444444444,
           "#bd3786"
          ],
          [
           0.5555555555555556,
           "#d8576b"
          ],
          [
           0.6666666666666666,
           "#ed7953"
          ],
          [
           0.7777777777777778,
           "#fb9f3a"
          ],
          [
           0.8888888888888888,
           "#fdca26"
          ],
          [
           1,
           "#f0f921"
          ]
         ]
        },
        "geo": {
         "center": {},
         "domain": {
          "x": [
           0,
           1
          ],
          "y": [
           0,
           1
          ]
         }
        },
        "height": 600,
        "legend": {
         "tracegroupgap": 0
        },
        "margin": {
         "b": 10,
         "l": 15,
         "pad": 0,
         "r": 15,
         "t": 50
        },
        "template": {
         "data": {
          "bar": [
           {
            "error_x": {
             "color": "#2a3f5f"
            },
            "error_y": {
             "color": "#2a3f5f"
            },
            "marker": {
             "line": {
              "color": "#E5ECF6",
              "width": 0.5
             },
             "pattern": {
              "fillmode": "overlay",
              "size": 10,
              "solidity": 0.2
             }
            },
            "type": "bar"
           }
          ],
          "barpolar": [
           {
            "marker": {
             "line": {
              "color": "#E5ECF6",
              "width": 0.5
             },
             "pattern": {
              "fillmode": "overlay",
              "size": 10,
              "solidity": 0.2
             }
            },
            "type": "barpolar"
           }
          ],
          "carpet": [
           {
            "aaxis": {
             "endlinecolor": "#2a3f5f",
             "gridcolor": "white",
             "linecolor": "white",
             "minorgridcolor": "white",
             "startlinecolor": "#2a3f5f"
            },
            "baxis": {
             "endlinecolor": "#2a3f5f",
             "gridcolor": "white",
             "linecolor": "white",
             "minorgridcolor": "white",
             "startlinecolor": "#2a3f5f"
            },
            "type": "carpet"
           }
          ],
          "choropleth": [
           {
            "colorbar": {
             "outlinewidth": 0,
             "ticks": ""
            },
            "type": "choropleth"
           }
          ],
          "contour": [
           {
            "colorbar": {
             "outlinewidth": 0,
             "ticks": ""
            },
            "colorscale": [
             [
              0,
              "#0d0887"
             ],
             [
              0.1111111111111111,
              "#46039f"
             ],
             [
              0.2222222222222222,
              "#7201a8"
             ],
             [
              0.3333333333333333,
              "#9c179e"
             ],
             [
              0.4444444444444444,
              "#bd3786"
             ],
             [
              0.5555555555555556,
              "#d8576b"
             ],
             [
              0.6666666666666666,
              "#ed7953"
             ],
             [
              0.7777777777777778,
              "#fb9f3a"
             ],
             [
              0.8888888888888888,
              "#fdca26"
             ],
             [
              1,
              "#f0f921"
             ]
            ],
            "type": "contour"
           }
          ],
          "contourcarpet": [
           {
            "colorbar": {
             "outlinewidth": 0,
             "ticks": ""
            },
            "type": "contourcarpet"
           }
          ],
          "heatmap": [
           {
            "colorbar": {
             "outlinewidth": 0,
             "ticks": ""
            },
            "colorscale": [
             [
              0,
              "#0d0887"
             ],
             [
              0.1111111111111111,
              "#46039f"
             ],
             [
              0.2222222222222222,
              "#7201a8"
             ],
             [
              0.3333333333333333,
              "#9c179e"
             ],
             [
              0.4444444444444444,
              "#bd3786"
             ],
             [
              0.5555555555555556,
              "#d8576b"
             ],
             [
              0.6666666666666666,
              "#ed7953"
             ],
             [
              0.7777777777777778,
              "#fb9f3a"
             ],
             [
              0.8888888888888888,
              "#fdca26"
             ],
             [
              1,
              "#f0f921"
             ]
            ],
            "type": "heatmap"
           }
          ],
          "heatmapgl": [
           {
            "colorbar": {
             "outlinewidth": 0,
             "ticks": ""
            },
            "colorscale": [
             [
              0,
              "#0d0887"
             ],
             [
              0.1111111111111111,
              "#46039f"
             ],
             [
              0.2222222222222222,
              "#7201a8"
             ],
             [
              0.3333333333333333,
              "#9c179e"
             ],
             [
              0.4444444444444444,
              "#bd3786"
             ],
             [
              0.5555555555555556,
              "#d8576b"
             ],
             [
              0.6666666666666666,
              "#ed7953"
             ],
             [
              0.7777777777777778,
              "#fb9f3a"
             ],
             [
              0.8888888888888888,
              "#fdca26"
             ],
             [
              1,
              "#f0f921"
             ]
            ],
            "type": "heatmapgl"
           }
          ],
          "histogram": [
           {
            "marker": {
             "pattern": {
              "fillmode": "overlay",
              "size": 10,
              "solidity": 0.2
             }
            },
            "type": "histogram"
           }
          ],
          "histogram2d": [
           {
            "colorbar": {
             "outlinewidth": 0,
             "ticks": ""
            },
            "colorscale": [
             [
              0,
              "#0d0887"
             ],
             [
              0.1111111111111111,
              "#46039f"
             ],
             [
              0.2222222222222222,
              "#7201a8"
             ],
             [
              0.3333333333333333,
              "#9c179e"
             ],
             [
              0.4444444444444444,
              "#bd3786"
             ],
             [
              0.5555555555555556,
              "#d8576b"
             ],
             [
              0.6666666666666666,
              "#ed7953"
             ],
             [
              0.7777777777777778,
              "#fb9f3a"
             ],
             [
              0.8888888888888888,
              "#fdca26"
             ],
             [
              1,
              "#f0f921"
             ]
            ],
            "type": "histogram2d"
           }
          ],
          "histogram2dcontour": [
           {
            "colorbar": {
             "outlinewidth": 0,
             "ticks": ""
            },
            "colorscale": [
             [
              0,
              "#0d0887"
             ],
             [
              0.1111111111111111,
              "#46039f"
             ],
             [
              0.2222222222222222,
              "#7201a8"
             ],
             [
              0.3333333333333333,
              "#9c179e"
             ],
             [
              0.4444444444444444,
              "#bd3786"
             ],
             [
              0.5555555555555556,
              "#d8576b"
             ],
             [
              0.6666666666666666,
              "#ed7953"
             ],
             [
              0.7777777777777778,
              "#fb9f3a"
             ],
             [
              0.8888888888888888,
              "#fdca26"
             ],
             [
              1,
              "#f0f921"
             ]
            ],
            "type": "histogram2dcontour"
           }
          ],
          "mesh3d": [
           {
            "colorbar": {
             "outlinewidth": 0,
             "ticks": ""
            },
            "type": "mesh3d"
           }
          ],
          "parcoords": [
           {
            "line": {
             "colorbar": {
              "outlinewidth": 0,
              "ticks": ""
             }
            },
            "type": "parcoords"
           }
          ],
          "pie": [
           {
            "automargin": true,
            "type": "pie"
           }
          ],
          "scatter": [
           {
            "fillpattern": {
             "fillmode": "overlay",
             "size": 10,
             "solidity": 0.2
            },
            "type": "scatter"
           }
          ],
          "scatter3d": [
           {
            "line": {
             "colorbar": {
              "outlinewidth": 0,
              "ticks": ""
             }
            },
            "marker": {
             "colorbar": {
              "outlinewidth": 0,
              "ticks": ""
             }
            },
            "type": "scatter3d"
           }
          ],
          "scattercarpet": [
           {
            "marker": {
             "colorbar": {
              "outlinewidth": 0,
              "ticks": ""
             }
            },
            "type": "scattercarpet"
           }
          ],
          "scattergeo": [
           {
            "marker": {
             "colorbar": {
              "outlinewidth": 0,
              "ticks": ""
             }
            },
            "type": "scattergeo"
           }
          ],
          "scattergl": [
           {
            "marker": {
             "colorbar": {
              "outlinewidth": 0,
              "ticks": ""
             }
            },
            "type": "scattergl"
           }
          ],
          "scattermapbox": [
           {
            "marker": {
             "colorbar": {
              "outlinewidth": 0,
              "ticks": ""
             }
            },
            "type": "scattermapbox"
           }
          ],
          "scatterpolar": [
           {
            "marker": {
             "colorbar": {
              "outlinewidth": 0,
              "ticks": ""
             }
            },
            "type": "scatterpolar"
           }
          ],
          "scatterpolargl": [
           {
            "marker": {
             "colorbar": {
              "outlinewidth": 0,
              "ticks": ""
             }
            },
            "type": "scatterpolargl"
           }
          ],
          "scatterternary": [
           {
            "marker": {
             "colorbar": {
              "outlinewidth": 0,
              "ticks": ""
             }
            },
            "type": "scatterternary"
           }
          ],
          "surface": [
           {
            "colorbar": {
             "outlinewidth": 0,
             "ticks": ""
            },
            "colorscale": [
             [
              0,
              "#0d0887"
             ],
             [
              0.1111111111111111,
              "#46039f"
             ],
             [
              0.2222222222222222,
              "#7201a8"
             ],
             [
              0.3333333333333333,
              "#9c179e"
             ],
             [
              0.4444444444444444,
              "#bd3786"
             ],
             [
              0.5555555555555556,
              "#d8576b"
             ],
             [
              0.6666666666666666,
              "#ed7953"
             ],
             [
              0.7777777777777778,
              "#fb9f3a"
             ],
             [
              0.8888888888888888,
              "#fdca26"
             ],
             [
              1,
              "#f0f921"
             ]
            ],
            "type": "surface"
           }
          ],
          "table": [
           {
            "cells": {
             "fill": {
              "color": "#EBF0F8"
             },
             "line": {
              "color": "white"
             }
            },
            "header": {
             "fill": {
              "color": "#C8D4E3"
             },
             "line": {
              "color": "white"
             }
            },
            "type": "table"
           }
          ]
         },
         "layout": {
          "annotationdefaults": {
           "arrowcolor": "#2a3f5f",
           "arrowhead": 0,
           "arrowwidth": 1
          },
          "autotypenumbers": "strict",
          "coloraxis": {
           "colorbar": {
            "outlinewidth": 0,
            "ticks": ""
           }
          },
          "colorscale": {
           "diverging": [
            [
             0,
             "#8e0152"
            ],
            [
             0.1,
             "#c51b7d"
            ],
            [
             0.2,
             "#de77ae"
            ],
            [
             0.3,
             "#f1b6da"
            ],
            [
             0.4,
             "#fde0ef"
            ],
            [
             0.5,
             "#f7f7f7"
            ],
            [
             0.6,
             "#e6f5d0"
            ],
            [
             0.7,
             "#b8e186"
            ],
            [
             0.8,
             "#7fbc41"
            ],
            [
             0.9,
             "#4d9221"
            ],
            [
             1,
             "#276419"
            ]
           ],
           "sequential": [
            [
             0,
             "#0d0887"
            ],
            [
             0.1111111111111111,
             "#46039f"
            ],
            [
             0.2222222222222222,
             "#7201a8"
            ],
            [
             0.3333333333333333,
             "#9c179e"
            ],
            [
             0.4444444444444444,
             "#bd3786"
            ],
            [
             0.5555555555555556,
             "#d8576b"
            ],
            [
             0.6666666666666666,
             "#ed7953"
            ],
            [
             0.7777777777777778,
             "#fb9f3a"
            ],
            [
             0.8888888888888888,
             "#fdca26"
            ],
            [
             1,
             "#f0f921"
            ]
           ],
           "sequentialminus": [
            [
             0,
             "#0d0887"
            ],
            [
             0.1111111111111111,
             "#46039f"
            ],
            [
             0.2222222222222222,
             "#7201a8"
            ],
            [
             0.3333333333333333,
             "#9c179e"
            ],
            [
             0.4444444444444444,
             "#bd3786"
            ],
            [
             0.5555555555555556,
             "#d8576b"
            ],
            [
             0.6666666666666666,
             "#ed7953"
            ],
            [
             0.7777777777777778,
             "#fb9f3a"
            ],
            [
             0.8888888888888888,
             "#fdca26"
            ],
            [
             1,
             "#f0f921"
            ]
           ]
          },
          "colorway": [
           "#636efa",
           "#EF553B",
           "#00cc96",
           "#ab63fa",
           "#FFA15A",
           "#19d3f3",
           "#FF6692",
           "#B6E880",
           "#FF97FF",
           "#FECB52"
          ],
          "font": {
           "color": "#2a3f5f"
          },
          "geo": {
           "bgcolor": "white",
           "lakecolor": "white",
           "landcolor": "#E5ECF6",
           "showlakes": true,
           "showland": true,
           "subunitcolor": "white"
          },
          "hoverlabel": {
           "align": "left"
          },
          "hovermode": "closest",
          "mapbox": {
           "style": "light"
          },
          "paper_bgcolor": "white",
          "plot_bgcolor": "#E5ECF6",
          "polar": {
           "angularaxis": {
            "gridcolor": "white",
            "linecolor": "white",
            "ticks": ""
           },
           "bgcolor": "#E5ECF6",
           "radialaxis": {
            "gridcolor": "white",
            "linecolor": "white",
            "ticks": ""
           }
          },
          "scene": {
           "xaxis": {
            "backgroundcolor": "#E5ECF6",
            "gridcolor": "white",
            "gridwidth": 2,
            "linecolor": "white",
            "showbackground": true,
            "ticks": "",
            "zerolinecolor": "white"
           },
           "yaxis": {
            "backgroundcolor": "#E5ECF6",
            "gridcolor": "white",
            "gridwidth": 2,
            "linecolor": "white",
            "showbackground": true,
            "ticks": "",
            "zerolinecolor": "white"
           },
           "zaxis": {
            "backgroundcolor": "#E5ECF6",
            "gridcolor": "white",
            "gridwidth": 2,
            "linecolor": "white",
            "showbackground": true,
            "ticks": "",
            "zerolinecolor": "white"
           }
          },
          "shapedefaults": {
           "line": {
            "color": "#2a3f5f"
           }
          },
          "ternary": {
           "aaxis": {
            "gridcolor": "white",
            "linecolor": "white",
            "ticks": ""
           },
           "baxis": {
            "gridcolor": "white",
            "linecolor": "white",
            "ticks": ""
           },
           "bgcolor": "#E5ECF6",
           "caxis": {
            "gridcolor": "white",
            "linecolor": "white",
            "ticks": ""
           }
          },
          "title": {
           "x": 0.05
          },
          "xaxis": {
           "automargin": true,
           "gridcolor": "white",
           "linecolor": "white",
           "ticks": "",
           "title": {
            "standoff": 15
           },
           "zerolinecolor": "white",
           "zerolinewidth": 2
          },
          "yaxis": {
           "automargin": true,
           "gridcolor": "white",
           "linecolor": "white",
           "ticks": "",
           "title": {
            "standoff": 15
           },
           "zerolinecolor": "white",
           "zerolinewidth": 2
          }
         }
        },
        "title": {
         "font": {
          "size": 25
         },
         "text": "Percentage of Artists per Country"
        }
       }
      }
     },
     "metadata": {},
     "output_type": "display_data"
    }
   ],
   "source": [
    "# Create a choropleth map using Plotly\n",
    "fig = px.choropleth(artists_per_country,\n",
    "                    locations='Country',\n",
    "                    locationmode='country names',  # This tells Plotly to recognize the countries by their names\n",
    "                    color='Percentage',\n",
    "                    hover_name='Country',\n",
    "                    color_continuous_scale=px.colors.sequential.Plasma,\n",
    "                    title='Percentage of Artists per Country')\n",
    "fig.update_layout(\n",
    "    # height=400,\n",
    "    title_font=dict(size=25),\n",
    "    height=600,\n",
    "    margin=dict(l=15, r=15, t=50, b=10, pad=0)\n",
    ")\n",
    "fig.show()"
   ]
  },
  {
   "cell_type": "code",
   "execution_count": 56,
   "metadata": {},
   "outputs": [
    {
     "name": "stderr",
     "output_type": "stream",
     "text": [
      "C:\\Users\\sushi\\AppData\\Local\\Temp\\ipykernel_20976\\3771097867.py:2: DeprecationWarning:\n",
      "\n",
      "DataFrameGroupBy.apply operated on the grouping columns. This behavior is deprecated, and in a future version of pandas the grouping columns will be excluded from the operation. Either pass `include_groups=False` to exclude the groupings or explicitly select the grouping columns after groupby to silence this warning.\n",
      "\n"
     ]
    }
   ],
   "source": [
    "# Group the DataFrame by 'Country' and apply a function to get the top 5 artists based on followers\n",
    "top_artists_per_country = artist_10k.groupby('Country').apply(lambda x: x.nlargest(5, 'Popularity')).reset_index(drop=True)\n"
   ]
  },
  {
   "cell_type": "code",
   "execution_count": 57,
   "metadata": {},
   "outputs": [
    {
     "data": {
      "text/html": [
       "<div>\n",
       "<style scoped>\n",
       "    .dataframe tbody tr th:only-of-type {\n",
       "        vertical-align: middle;\n",
       "    }\n",
       "\n",
       "    .dataframe tbody tr th {\n",
       "        vertical-align: top;\n",
       "    }\n",
       "\n",
       "    .dataframe thead th {\n",
       "        text-align: right;\n",
       "    }\n",
       "</style>\n",
       "<table border=\"1\" class=\"dataframe\">\n",
       "  <thead>\n",
       "    <tr style=\"text-align: right;\">\n",
       "      <th></th>\n",
       "      <th>Name</th>\n",
       "      <th>Gender</th>\n",
       "      <th>Age</th>\n",
       "      <th>Country</th>\n",
       "      <th>Genres</th>\n",
       "      <th>Popularity</th>\n",
       "      <th>Followers</th>\n",
       "    </tr>\n",
       "  </thead>\n",
       "  <tbody>\n",
       "    <tr>\n",
       "      <th>347</th>\n",
       "      <td>Taylor Swift</td>\n",
       "      <td>female</td>\n",
       "      <td>30</td>\n",
       "      <td>United States</td>\n",
       "      <td>['pop']</td>\n",
       "      <td>100</td>\n",
       "      <td>95859165</td>\n",
       "    </tr>\n",
       "    <tr>\n",
       "      <th>348</th>\n",
       "      <td>Travis Scott</td>\n",
       "      <td>male</td>\n",
       "      <td>28</td>\n",
       "      <td>United States</td>\n",
       "      <td>['hip hop', 'rap', 'slap house']</td>\n",
       "      <td>90</td>\n",
       "      <td>25672786</td>\n",
       "    </tr>\n",
       "    <tr>\n",
       "      <th>349</th>\n",
       "      <td>Lana Del Rey</td>\n",
       "      <td>female</td>\n",
       "      <td>35</td>\n",
       "      <td>United States</td>\n",
       "      <td>['art pop', 'pop']</td>\n",
       "      <td>89</td>\n",
       "      <td>30603103</td>\n",
       "    </tr>\n",
       "    <tr>\n",
       "      <th>350</th>\n",
       "      <td>Ariana Grande</td>\n",
       "      <td>female</td>\n",
       "      <td>27</td>\n",
       "      <td>United States</td>\n",
       "      <td>['pop']</td>\n",
       "      <td>88</td>\n",
       "      <td>95710972</td>\n",
       "    </tr>\n",
       "    <tr>\n",
       "      <th>351</th>\n",
       "      <td>21 Savage</td>\n",
       "      <td>male</td>\n",
       "      <td>27</td>\n",
       "      <td>United States</td>\n",
       "      <td>['atl hip hop', 'hip hop', 'rap']</td>\n",
       "      <td>88</td>\n",
       "      <td>15909838</td>\n",
       "    </tr>\n",
       "  </tbody>\n",
       "</table>\n",
       "</div>"
      ],
      "text/plain": [
       "              Name  Gender  Age        Country  \\\n",
       "347   Taylor Swift  female   30  United States   \n",
       "348   Travis Scott    male   28  United States   \n",
       "349   Lana Del Rey  female   35  United States   \n",
       "350  Ariana Grande  female   27  United States   \n",
       "351      21 Savage    male   27  United States   \n",
       "\n",
       "                                Genres  Popularity  Followers  \n",
       "347                            ['pop']         100   95859165  \n",
       "348   ['hip hop', 'rap', 'slap house']          90   25672786  \n",
       "349                 ['art pop', 'pop']          89   30603103  \n",
       "350                            ['pop']          88   95710972  \n",
       "351  ['atl hip hop', 'hip hop', 'rap']          88   15909838  "
      ]
     },
     "execution_count": 57,
     "metadata": {},
     "output_type": "execute_result"
    }
   ],
   "source": [
    "top_artists_per_country[top_artists_per_country['Country'] == 'United States']"
   ]
  },
  {
   "cell_type": "code",
   "execution_count": 58,
   "metadata": {},
   "outputs": [],
   "source": [
    "top_artists_per_country['Top Artists'] = top_artists_per_country.groupby('Country')['Name'].transform(lambda x: ', '.join(x))\n",
    "\n"
   ]
  },
  {
   "cell_type": "code",
   "execution_count": 59,
   "metadata": {},
   "outputs": [
    {
     "data": {
      "text/html": [
       "<div>\n",
       "<style scoped>\n",
       "    .dataframe tbody tr th:only-of-type {\n",
       "        vertical-align: middle;\n",
       "    }\n",
       "\n",
       "    .dataframe tbody tr th {\n",
       "        vertical-align: top;\n",
       "    }\n",
       "\n",
       "    .dataframe thead th {\n",
       "        text-align: right;\n",
       "    }\n",
       "</style>\n",
       "<table border=\"1\" class=\"dataframe\">\n",
       "  <thead>\n",
       "    <tr style=\"text-align: right;\">\n",
       "      <th></th>\n",
       "      <th>Name</th>\n",
       "      <th>Gender</th>\n",
       "      <th>Age</th>\n",
       "      <th>Country</th>\n",
       "      <th>Genres</th>\n",
       "      <th>Popularity</th>\n",
       "      <th>Followers</th>\n",
       "    </tr>\n",
       "  </thead>\n",
       "  <tbody>\n",
       "    <tr>\n",
       "      <th>484</th>\n",
       "      <td>Arijit Singh</td>\n",
       "      <td>male</td>\n",
       "      <td>33</td>\n",
       "      <td>India</td>\n",
       "      <td>['filmi', 'modern bollywood']</td>\n",
       "      <td>88</td>\n",
       "      <td>97604060</td>\n",
       "    </tr>\n",
       "    <tr>\n",
       "      <th>768</th>\n",
       "      <td>Tanishk Bagchi</td>\n",
       "      <td>male</td>\n",
       "      <td>0</td>\n",
       "      <td>India</td>\n",
       "      <td>['desi pop', 'filmi', 'modern bollywood']</td>\n",
       "      <td>75</td>\n",
       "      <td>3634127</td>\n",
       "    </tr>\n",
       "    <tr>\n",
       "      <th>789</th>\n",
       "      <td>Neha Kakkar</td>\n",
       "      <td>female</td>\n",
       "      <td>0</td>\n",
       "      <td>India</td>\n",
       "      <td>['filmi', 'modern bollywood']</td>\n",
       "      <td>72</td>\n",
       "      <td>44257694</td>\n",
       "    </tr>\n",
       "    <tr>\n",
       "      <th>1105</th>\n",
       "      <td>Dhvani Bhanushali</td>\n",
       "      <td>female</td>\n",
       "      <td>0</td>\n",
       "      <td>India</td>\n",
       "      <td>['desi pop', 'filmi', 'modern bollywood']</td>\n",
       "      <td>65</td>\n",
       "      <td>4636253</td>\n",
       "    </tr>\n",
       "    <tr>\n",
       "      <th>1267</th>\n",
       "      <td>Asees Kaur</td>\n",
       "      <td>female</td>\n",
       "      <td>0</td>\n",
       "      <td>India</td>\n",
       "      <td>['desi pop', 'filmi', 'modern bollywood']</td>\n",
       "      <td>69</td>\n",
       "      <td>2330556</td>\n",
       "    </tr>\n",
       "    <tr>\n",
       "      <th>...</th>\n",
       "      <td>...</td>\n",
       "      <td>...</td>\n",
       "      <td>...</td>\n",
       "      <td>...</td>\n",
       "      <td>...</td>\n",
       "      <td>...</td>\n",
       "      <td>...</td>\n",
       "    </tr>\n",
       "    <tr>\n",
       "      <th>8855</th>\n",
       "      <td>Keerthana Sharma</td>\n",
       "      <td>female</td>\n",
       "      <td>0</td>\n",
       "      <td>India</td>\n",
       "      <td>['tollywood']</td>\n",
       "      <td>50</td>\n",
       "      <td>62948</td>\n",
       "    </tr>\n",
       "    <tr>\n",
       "      <th>8888</th>\n",
       "      <td>Nimrat Khaira</td>\n",
       "      <td>male</td>\n",
       "      <td>0</td>\n",
       "      <td>India</td>\n",
       "      <td>['punjabi pop']</td>\n",
       "      <td>56</td>\n",
       "      <td>2077522</td>\n",
       "    </tr>\n",
       "    <tr>\n",
       "      <th>9029</th>\n",
       "      <td>Dhanush</td>\n",
       "      <td>male</td>\n",
       "      <td>36</td>\n",
       "      <td>India</td>\n",
       "      <td>['filmi', 'kollywood']</td>\n",
       "      <td>67</td>\n",
       "      <td>8858822</td>\n",
       "    </tr>\n",
       "    <tr>\n",
       "      <th>9066</th>\n",
       "      <td>Haricharan</td>\n",
       "      <td>male</td>\n",
       "      <td>33</td>\n",
       "      <td>India</td>\n",
       "      <td>['filmi']</td>\n",
       "      <td>67</td>\n",
       "      <td>2646158</td>\n",
       "    </tr>\n",
       "    <tr>\n",
       "      <th>9086</th>\n",
       "      <td>Yuvan Shankar Raja</td>\n",
       "      <td>male</td>\n",
       "      <td>40</td>\n",
       "      <td>India</td>\n",
       "      <td>['filmi', 'kollywood']</td>\n",
       "      <td>73</td>\n",
       "      <td>12010274</td>\n",
       "    </tr>\n",
       "  </tbody>\n",
       "</table>\n",
       "<p>124 rows × 7 columns</p>\n",
       "</div>"
      ],
      "text/plain": [
       "                    Name  Gender  Age Country  \\\n",
       "484         Arijit Singh    male   33   India   \n",
       "768       Tanishk Bagchi    male    0   India   \n",
       "789          Neha Kakkar  female    0   India   \n",
       "1105   Dhvani Bhanushali  female    0   India   \n",
       "1267          Asees Kaur  female    0   India   \n",
       "...                  ...     ...  ...     ...   \n",
       "8855    Keerthana Sharma  female    0   India   \n",
       "8888       Nimrat Khaira    male    0   India   \n",
       "9029             Dhanush    male   36   India   \n",
       "9066          Haricharan    male   33   India   \n",
       "9086  Yuvan Shankar Raja    male   40   India   \n",
       "\n",
       "                                         Genres  Popularity  Followers  \n",
       "484               ['filmi', 'modern bollywood']          88   97604060  \n",
       "768   ['desi pop', 'filmi', 'modern bollywood']          75    3634127  \n",
       "789               ['filmi', 'modern bollywood']          72   44257694  \n",
       "1105  ['desi pop', 'filmi', 'modern bollywood']          65    4636253  \n",
       "1267  ['desi pop', 'filmi', 'modern bollywood']          69    2330556  \n",
       "...                                         ...         ...        ...  \n",
       "8855                              ['tollywood']          50      62948  \n",
       "8888                            ['punjabi pop']          56    2077522  \n",
       "9029                     ['filmi', 'kollywood']          67    8858822  \n",
       "9066                                  ['filmi']          67    2646158  \n",
       "9086                     ['filmi', 'kollywood']          73   12010274  \n",
       "\n",
       "[124 rows x 7 columns]"
      ]
     },
     "execution_count": 59,
     "metadata": {},
     "output_type": "execute_result"
    }
   ],
   "source": [
    "artist_10k[artist_10k['Country'] == 'India']"
   ]
  },
  {
   "cell_type": "code",
   "execution_count": 60,
   "metadata": {},
   "outputs": [
    {
     "name": "stdout",
     "output_type": "stream",
     "text": [
      "<class 'pandas.core.frame.DataFrame'>\n",
      "RangeIndex: 9488 entries, 0 to 9487\n",
      "Data columns (total 7 columns):\n",
      " #   Column      Non-Null Count  Dtype \n",
      "---  ------      --------------  ----- \n",
      " 0   Name        9488 non-null   object\n",
      " 1   Gender      7829 non-null   object\n",
      " 2   Age         9488 non-null   int64 \n",
      " 3   Country     6305 non-null   object\n",
      " 4   Genres      9488 non-null   object\n",
      " 5   Popularity  9488 non-null   int64 \n",
      " 6   Followers   9488 non-null   int64 \n",
      "dtypes: int64(3), object(4)\n",
      "memory usage: 519.0+ KB\n"
     ]
    }
   ],
   "source": [
    "artist_10k.info()\n"
   ]
  },
  {
   "cell_type": "code",
   "execution_count": 61,
   "metadata": {},
   "outputs": [],
   "source": [
    "artist_10k['Genres'] = artist_10k['Genres'].apply(ast.literal_eval)\n"
   ]
  },
  {
   "cell_type": "code",
   "execution_count": 62,
   "metadata": {},
   "outputs": [],
   "source": [
    "artist_10k = artist_10k[artist_10k['Genres'].map(len) > 0]"
   ]
  },
  {
   "cell_type": "code",
   "execution_count": 63,
   "metadata": {},
   "outputs": [
    {
     "name": "stdout",
     "output_type": "stream",
     "text": [
      "<class 'pandas.core.frame.DataFrame'>\n",
      "Index: 7849 entries, 0 to 9486\n",
      "Data columns (total 7 columns):\n",
      " #   Column      Non-Null Count  Dtype \n",
      "---  ------      --------------  ----- \n",
      " 0   Name        7849 non-null   object\n",
      " 1   Gender      6704 non-null   object\n",
      " 2   Age         7849 non-null   int64 \n",
      " 3   Country     5474 non-null   object\n",
      " 4   Genres      7849 non-null   object\n",
      " 5   Popularity  7849 non-null   int64 \n",
      " 6   Followers   7849 non-null   int64 \n",
      "dtypes: int64(3), object(4)\n",
      "memory usage: 490.6+ KB\n"
     ]
    }
   ],
   "source": [
    "artist_10k.info()"
   ]
  },
  {
   "cell_type": "code",
   "execution_count": 64,
   "metadata": {},
   "outputs": [],
   "source": [
    "country_genres = artist_10k.groupby('Country')['Genres'].sum()"
   ]
  },
  {
   "cell_type": "code",
   "execution_count": 65,
   "metadata": {},
   "outputs": [
    {
     "name": "stdout",
     "output_type": "stream",
     "text": [
      "<class 'pandas.core.series.Series'>\n",
      "Index: 99 entries, Albania to Yugoslavia\n",
      "Series name: Genres\n",
      "Non-Null Count  Dtype \n",
      "--------------  ----- \n",
      "99 non-null     object\n",
      "dtypes: object(1)\n",
      "memory usage: 1.5+ KB\n"
     ]
    }
   ],
   "source": [
    "country_genres.info()\n"
   ]
  },
  {
   "cell_type": "code",
   "execution_count": 66,
   "metadata": {},
   "outputs": [
    {
     "name": "stdout",
     "output_type": "stream",
     "text": [
      "<class 'pandas.core.frame.DataFrame'>\n",
      "RangeIndex: 373 entries, 0 to 372\n",
      "Data columns (total 8 columns):\n",
      " #   Column       Non-Null Count  Dtype \n",
      "---  ------       --------------  ----- \n",
      " 0   Name         373 non-null    object\n",
      " 1   Gender       367 non-null    object\n",
      " 2   Age          373 non-null    int64 \n",
      " 3   Country      373 non-null    object\n",
      " 4   Genres       373 non-null    object\n",
      " 5   Popularity   373 non-null    int64 \n",
      " 6   Followers    373 non-null    int64 \n",
      " 7   Top Artists  373 non-null    object\n",
      "dtypes: int64(3), object(5)\n",
      "memory usage: 23.4+ KB\n"
     ]
    }
   ],
   "source": [
    "top_artists_per_country.info()\n"
   ]
  },
  {
   "cell_type": "code",
   "execution_count": 67,
   "metadata": {},
   "outputs": [],
   "source": [
    "app = dash.Dash(__name__)\n",
    "\n",
    "# Define the layout of the app\n",
    "app.layout = html.Div([\n",
    "    dcc.Dropdown(\n",
    "        id='country-dropdown',\n",
    "        options=[{'label': country, 'value': country} for country in top_artists_per_country['Country'].unique()],\n",
    "        value='Albania',  # Default value\n",
    "        clearable=False\n",
    "    ),\n",
    "    dcc.Graph(id='pie-chart'),\n",
    "    dash_table.DataTable(\n",
    "        id='artist-table',\n",
    "        columns=[\n",
    "            {'name': 'Name', 'id': 'Name'},\n",
    "            {'name': 'Gender', 'id': 'Gender'},\n",
    "            {'name': 'Age', 'id': 'Age'},\n",
    "            {'name': 'Genres', 'id': 'Genres'},\n",
    "            {'name': 'Popularity', 'id': 'Popularity'},\n",
    "            {'name': 'Followers', 'id': 'Followers'}\n",
    "        ],\n",
    "        data=[],  # Empty at initialization\n",
    "        style_table={'height': '300px', 'overflowY': 'auto'}\n",
    "    )\n",
    "])\n",
    "\n",
    "# Define callback to update the pie chart and the artist table based on selected country\n",
    "@app.callback(\n",
    "    [Output('pie-chart', 'figure'),\n",
    "     Output('artist-table', 'data')],\n",
    "    [Input('country-dropdown', 'value')]\n",
    ")\n",
    "def update_visuals(selected_country):\n",
    "    # Update the pie chart\n",
    "    genre_count = Counter(country_genres[selected_country])\n",
    "    df_genres = pd.DataFrame(list(genre_count.items()), columns=['Genre', 'Count'])\n",
    "    df_genres = df_genres.sort_values('Count', ascending=False)\n",
    "    df_genres = df_genres.head(7)\n",
    "    pie_chart = go.Figure(data=[go.Pie(labels=df_genres['Genre'], values=df_genres['Count'])])\n",
    "    pie_chart.update_layout(title=f'Popular Genres in {selected_country}')\n",
    "\n",
    "    # Update the artist table\n",
    "    df_artists = top_artists_per_country[top_artists_per_country['Country'] == selected_country]\n",
    "    artist_data = df_artists.to_dict('records')\n",
    "\n",
    "    return pie_chart, artist_data\n"
   ]
  },
  {
   "cell_type": "code",
   "execution_count": 68,
   "metadata": {},
   "outputs": [
    {
     "data": {
      "text/html": [
       "\n",
       "        <iframe\n",
       "            width=\"100%\"\n",
       "            height=\"650\"\n",
       "            src=\"http://127.0.0.1:8050/\"\n",
       "            frameborder=\"0\"\n",
       "            allowfullscreen\n",
       "            \n",
       "        ></iframe>\n",
       "        "
      ],
      "text/plain": [
       "<IPython.lib.display.IFrame at 0x11bafc40e60>"
      ]
     },
     "metadata": {},
     "output_type": "display_data"
    }
   ],
   "source": [
    "\n",
    "# Run the app\n",
    "if __name__ == '__main__':\n",
    "    app.run_server(debug=True)\n",
    "\n"
   ]
  },
  {
   "cell_type": "code",
   "execution_count": 279,
   "metadata": {},
   "outputs": [],
   "source": [
    "# Copyright 2024 satyabn20\n",
    "# \n",
    "# Licensed under the Apache License, Version 2.0 (the \"License\");\n",
    "# you may not use this file except in compliance with the License.\n",
    "# You may obtain a copy of the License at\n",
    "# \n",
    "#     https://www.apache.org/licenses/LICENSE-2.0\n",
    "# \n",
    "# Unless required by applicable law or agreed to in writing, software\n",
    "# distributed under the License is distributed on an \"AS IS\" BASIS,\n",
    "# WITHOUT WARRANTIES OR CONDITIONS OF ANY KIND, either express or implied.\n",
    "# See the License for the specific language governing permissions and\n",
    "# limitations under the License.\n",
    "\n"
   ]
  }
 ],
 "metadata": {
  "kernelspec": {
   "display_name": "Python 3",
   "language": "python",
   "name": "python3"
  },
  "language_info": {
   "codemirror_mode": {
    "name": "ipython",
    "version": 3
   },
   "file_extension": ".py",
   "mimetype": "text/x-python",
   "name": "python",
   "nbconvert_exporter": "python",
   "pygments_lexer": "ipython3",
   "version": "3.12.2"
  }
 },
 "nbformat": 4,
 "nbformat_minor": 2
}
