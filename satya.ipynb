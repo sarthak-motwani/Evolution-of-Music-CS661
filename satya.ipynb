{
 "cells": [
  {
   "cell_type": "code",
   "execution_count": 223,
   "metadata": {},
   "outputs": [],
   "source": [
    "import pandas as pd\n",
    "import plotly.express as px\n",
    "import numpy as np\n",
    "import plotly.graph_objects as go\n",
    "from dash import dash, html, dcc , dash_table\n",
    "from dash.dependencies import Input, Output\n",
    "from plotly.offline import iplot , plot\n",
    "from plotly.subplots import make_subplots\n",
    "from sklearn.preprocessing import StandardScaler\n",
    "from sklearn.cluster import KMeans\n",
    "from sklearn.decomposition import PCA\n",
    "import ast # for converting string  to list \n",
    "from collections import Counter\n"
   ]
  },
  {
   "cell_type": "code",
   "execution_count": 224,
   "metadata": {},
   "outputs": [],
   "source": [
    "\n",
    "# Load your dataset\n",
    "df = pd.read_csv('dataset/Spotify-2000.csv')\n"
   ]
  },
  {
   "cell_type": "code",
   "execution_count": 225,
   "metadata": {},
   "outputs": [],
   "source": [
    "user_data = pd.read_csv('dataset/spotify_archive/Spotify Quarterly.csv')"
   ]
  },
  {
   "cell_type": "code",
   "execution_count": 226,
   "metadata": {},
   "outputs": [
    {
     "data": {
      "text/html": [
       "<div>\n",
       "<style scoped>\n",
       "    .dataframe tbody tr th:only-of-type {\n",
       "        vertical-align: middle;\n",
       "    }\n",
       "\n",
       "    .dataframe tbody tr th {\n",
       "        vertical-align: top;\n",
       "    }\n",
       "\n",
       "    .dataframe thead th {\n",
       "        text-align: right;\n",
       "    }\n",
       "</style>\n",
       "<table border=\"1\" class=\"dataframe\">\n",
       "  <thead>\n",
       "    <tr style=\"text-align: right;\">\n",
       "      <th></th>\n",
       "      <th>Date</th>\n",
       "      <th>Monthly Active User (MAU)</th>\n",
       "      <th>Premium Users</th>\n",
       "    </tr>\n",
       "  </thead>\n",
       "  <tbody>\n",
       "    <tr>\n",
       "      <th>0</th>\n",
       "      <td>Q1 2015</td>\n",
       "      <td>68</td>\n",
       "      <td>18</td>\n",
       "    </tr>\n",
       "    <tr>\n",
       "      <th>1</th>\n",
       "      <td>Q2 2015</td>\n",
       "      <td>77</td>\n",
       "      <td>22</td>\n",
       "    </tr>\n",
       "    <tr>\n",
       "      <th>2</th>\n",
       "      <td>Q3 2015</td>\n",
       "      <td>82</td>\n",
       "      <td>24</td>\n",
       "    </tr>\n",
       "    <tr>\n",
       "      <th>3</th>\n",
       "      <td>Q4 2015</td>\n",
       "      <td>91</td>\n",
       "      <td>28</td>\n",
       "    </tr>\n",
       "    <tr>\n",
       "      <th>4</th>\n",
       "      <td>Q1 2016</td>\n",
       "      <td>96</td>\n",
       "      <td>30</td>\n",
       "    </tr>\n",
       "  </tbody>\n",
       "</table>\n",
       "</div>"
      ],
      "text/plain": [
       "      Date  Monthly Active User (MAU)  Premium Users\n",
       "0  Q1 2015                         68             18\n",
       "1  Q2 2015                         77             22\n",
       "2  Q3 2015                         82             24\n",
       "3  Q4 2015                         91             28\n",
       "4  Q1 2016                         96             30"
      ]
     },
     "execution_count": 226,
     "metadata": {},
     "output_type": "execute_result"
    }
   ],
   "source": [
    "user_data.head()"
   ]
  },
  {
   "cell_type": "code",
   "execution_count": 227,
   "metadata": {},
   "outputs": [
    {
     "data": {
      "application/vnd.plotly.v1+json": {
       "config": {
        "plotlyServerURL": "https://plot.ly"
       },
       "data": [
        {
         "hovertemplate": "variable=Monthly Active User (MAU)<br>Date=%{x}<br>value=%{y}<extra></extra>",
         "legendgroup": "Monthly Active User (MAU)",
         "line": {
          "color": "#636efa",
          "dash": "solid"
         },
         "marker": {
          "symbol": "circle"
         },
         "mode": "lines",
         "name": "Monthly Active User (MAU)",
         "orientation": "v",
         "showlegend": true,
         "type": "scatter",
         "x": [
          "Q1 2015",
          "Q2 2015",
          "Q3 2015",
          "Q4 2015",
          "Q1 2016",
          "Q2 2016",
          "Q3 2016",
          "Q4 2016",
          "Q1 2017",
          "Q2 2017",
          "Q3 2017",
          "Q4 2017",
          "Q1 2018",
          "Q2 2018",
          "Q3 2018",
          "Q4 2018",
          "Q1 2019",
          "Q2 2019",
          "Q3 2019",
          "Q4 2019",
          "Q1 2020",
          "Q2 2020",
          "Q3 2020",
          "Q4 2020",
          "Q1 2021",
          "Q2 2021",
          "Q3 2021",
          "Q4 2021",
          "Q1 2022",
          "Q2 2022",
          "Q3 2022",
          "Q4 2022",
          "Q1 2023",
          "Q2 2023",
          "Q3 2023",
          "Q4 2023"
         ],
         "xaxis": "x",
         "y": [
          68,
          77,
          82,
          91,
          96,
          104,
          113,
          123,
          132,
          138,
          149,
          160,
          157,
          180,
          191,
          207,
          217,
          232,
          248,
          271,
          286,
          299,
          320,
          345,
          356,
          365,
          381,
          406,
          422,
          433,
          456,
          489,
          515,
          551,
          574,
          602
         ],
         "yaxis": "y"
        },
        {
         "hovertemplate": "variable=Premium Users<br>Date=%{x}<br>value=%{y}<extra></extra>",
         "legendgroup": "Premium Users",
         "line": {
          "color": "#EF553B",
          "dash": "solid"
         },
         "marker": {
          "symbol": "circle"
         },
         "mode": "lines",
         "name": "Premium Users",
         "orientation": "v",
         "showlegend": true,
         "type": "scatter",
         "x": [
          "Q1 2015",
          "Q2 2015",
          "Q3 2015",
          "Q4 2015",
          "Q1 2016",
          "Q2 2016",
          "Q3 2016",
          "Q4 2016",
          "Q1 2017",
          "Q2 2017",
          "Q3 2017",
          "Q4 2017",
          "Q1 2018",
          "Q2 2018",
          "Q3 2018",
          "Q4 2018",
          "Q1 2019",
          "Q2 2019",
          "Q3 2019",
          "Q4 2019",
          "Q1 2020",
          "Q2 2020",
          "Q3 2020",
          "Q4 2020",
          "Q1 2021",
          "Q2 2021",
          "Q3 2021",
          "Q4 2021",
          "Q1 2022",
          "Q2 2022",
          "Q3 2022",
          "Q4 2022",
          "Q1 2023",
          "Q2 2023",
          "Q3 2023",
          "Q4 2023"
         ],
         "xaxis": "x",
         "y": [
          18,
          22,
          24,
          28,
          30,
          36,
          40,
          48,
          52,
          59,
          62,
          71,
          75,
          83,
          87,
          96,
          100,
          108,
          113,
          124,
          130,
          138,
          144,
          155,
          158,
          165,
          172,
          180,
          182,
          188,
          195,
          205,
          210,
          220,
          226,
          236
         ],
         "yaxis": "y"
        }
       ],
       "layout": {
        "legend": {
         "title": {
          "text": "variable"
         },
         "tracegroupgap": 0
        },
        "template": {
         "data": {
          "bar": [
           {
            "error_x": {
             "color": "#2a3f5f"
            },
            "error_y": {
             "color": "#2a3f5f"
            },
            "marker": {
             "line": {
              "color": "#E5ECF6",
              "width": 0.5
             },
             "pattern": {
              "fillmode": "overlay",
              "size": 10,
              "solidity": 0.2
             }
            },
            "type": "bar"
           }
          ],
          "barpolar": [
           {
            "marker": {
             "line": {
              "color": "#E5ECF6",
              "width": 0.5
             },
             "pattern": {
              "fillmode": "overlay",
              "size": 10,
              "solidity": 0.2
             }
            },
            "type": "barpolar"
           }
          ],
          "carpet": [
           {
            "aaxis": {
             "endlinecolor": "#2a3f5f",
             "gridcolor": "white",
             "linecolor": "white",
             "minorgridcolor": "white",
             "startlinecolor": "#2a3f5f"
            },
            "baxis": {
             "endlinecolor": "#2a3f5f",
             "gridcolor": "white",
             "linecolor": "white",
             "minorgridcolor": "white",
             "startlinecolor": "#2a3f5f"
            },
            "type": "carpet"
           }
          ],
          "choropleth": [
           {
            "colorbar": {
             "outlinewidth": 0,
             "ticks": ""
            },
            "type": "choropleth"
           }
          ],
          "contour": [
           {
            "colorbar": {
             "outlinewidth": 0,
             "ticks": ""
            },
            "colorscale": [
             [
              0,
              "#0d0887"
             ],
             [
              0.1111111111111111,
              "#46039f"
             ],
             [
              0.2222222222222222,
              "#7201a8"
             ],
             [
              0.3333333333333333,
              "#9c179e"
             ],
             [
              0.4444444444444444,
              "#bd3786"
             ],
             [
              0.5555555555555556,
              "#d8576b"
             ],
             [
              0.6666666666666666,
              "#ed7953"
             ],
             [
              0.7777777777777778,
              "#fb9f3a"
             ],
             [
              0.8888888888888888,
              "#fdca26"
             ],
             [
              1,
              "#f0f921"
             ]
            ],
            "type": "contour"
           }
          ],
          "contourcarpet": [
           {
            "colorbar": {
             "outlinewidth": 0,
             "ticks": ""
            },
            "type": "contourcarpet"
           }
          ],
          "heatmap": [
           {
            "colorbar": {
             "outlinewidth": 0,
             "ticks": ""
            },
            "colorscale": [
             [
              0,
              "#0d0887"
             ],
             [
              0.1111111111111111,
              "#46039f"
             ],
             [
              0.2222222222222222,
              "#7201a8"
             ],
             [
              0.3333333333333333,
              "#9c179e"
             ],
             [
              0.4444444444444444,
              "#bd3786"
             ],
             [
              0.5555555555555556,
              "#d8576b"
             ],
             [
              0.6666666666666666,
              "#ed7953"
             ],
             [
              0.7777777777777778,
              "#fb9f3a"
             ],
             [
              0.8888888888888888,
              "#fdca26"
             ],
             [
              1,
              "#f0f921"
             ]
            ],
            "type": "heatmap"
           }
          ],
          "heatmapgl": [
           {
            "colorbar": {
             "outlinewidth": 0,
             "ticks": ""
            },
            "colorscale": [
             [
              0,
              "#0d0887"
             ],
             [
              0.1111111111111111,
              "#46039f"
             ],
             [
              0.2222222222222222,
              "#7201a8"
             ],
             [
              0.3333333333333333,
              "#9c179e"
             ],
             [
              0.4444444444444444,
              "#bd3786"
             ],
             [
              0.5555555555555556,
              "#d8576b"
             ],
             [
              0.6666666666666666,
              "#ed7953"
             ],
             [
              0.7777777777777778,
              "#fb9f3a"
             ],
             [
              0.8888888888888888,
              "#fdca26"
             ],
             [
              1,
              "#f0f921"
             ]
            ],
            "type": "heatmapgl"
           }
          ],
          "histogram": [
           {
            "marker": {
             "pattern": {
              "fillmode": "overlay",
              "size": 10,
              "solidity": 0.2
             }
            },
            "type": "histogram"
           }
          ],
          "histogram2d": [
           {
            "colorbar": {
             "outlinewidth": 0,
             "ticks": ""
            },
            "colorscale": [
             [
              0,
              "#0d0887"
             ],
             [
              0.1111111111111111,
              "#46039f"
             ],
             [
              0.2222222222222222,
              "#7201a8"
             ],
             [
              0.3333333333333333,
              "#9c179e"
             ],
             [
              0.4444444444444444,
              "#bd3786"
             ],
             [
              0.5555555555555556,
              "#d8576b"
             ],
             [
              0.6666666666666666,
              "#ed7953"
             ],
             [
              0.7777777777777778,
              "#fb9f3a"
             ],
             [
              0.8888888888888888,
              "#fdca26"
             ],
             [
              1,
              "#f0f921"
             ]
            ],
            "type": "histogram2d"
           }
          ],
          "histogram2dcontour": [
           {
            "colorbar": {
             "outlinewidth": 0,
             "ticks": ""
            },
            "colorscale": [
             [
              0,
              "#0d0887"
             ],
             [
              0.1111111111111111,
              "#46039f"
             ],
             [
              0.2222222222222222,
              "#7201a8"
             ],
             [
              0.3333333333333333,
              "#9c179e"
             ],
             [
              0.4444444444444444,
              "#bd3786"
             ],
             [
              0.5555555555555556,
              "#d8576b"
             ],
             [
              0.6666666666666666,
              "#ed7953"
             ],
             [
              0.7777777777777778,
              "#fb9f3a"
             ],
             [
              0.8888888888888888,
              "#fdca26"
             ],
             [
              1,
              "#f0f921"
             ]
            ],
            "type": "histogram2dcontour"
           }
          ],
          "mesh3d": [
           {
            "colorbar": {
             "outlinewidth": 0,
             "ticks": ""
            },
            "type": "mesh3d"
           }
          ],
          "parcoords": [
           {
            "line": {
             "colorbar": {
              "outlinewidth": 0,
              "ticks": ""
             }
            },
            "type": "parcoords"
           }
          ],
          "pie": [
           {
            "automargin": true,
            "type": "pie"
           }
          ],
          "scatter": [
           {
            "fillpattern": {
             "fillmode": "overlay",
             "size": 10,
             "solidity": 0.2
            },
            "type": "scatter"
           }
          ],
          "scatter3d": [
           {
            "line": {
             "colorbar": {
              "outlinewidth": 0,
              "ticks": ""
             }
            },
            "marker": {
             "colorbar": {
              "outlinewidth": 0,
              "ticks": ""
             }
            },
            "type": "scatter3d"
           }
          ],
          "scattercarpet": [
           {
            "marker": {
             "colorbar": {
              "outlinewidth": 0,
              "ticks": ""
             }
            },
            "type": "scattercarpet"
           }
          ],
          "scattergeo": [
           {
            "marker": {
             "colorbar": {
              "outlinewidth": 0,
              "ticks": ""
             }
            },
            "type": "scattergeo"
           }
          ],
          "scattergl": [
           {
            "marker": {
             "colorbar": {
              "outlinewidth": 0,
              "ticks": ""
             }
            },
            "type": "scattergl"
           }
          ],
          "scattermapbox": [
           {
            "marker": {
             "colorbar": {
              "outlinewidth": 0,
              "ticks": ""
             }
            },
            "type": "scattermapbox"
           }
          ],
          "scatterpolar": [
           {
            "marker": {
             "colorbar": {
              "outlinewidth": 0,
              "ticks": ""
             }
            },
            "type": "scatterpolar"
           }
          ],
          "scatterpolargl": [
           {
            "marker": {
             "colorbar": {
              "outlinewidth": 0,
              "ticks": ""
             }
            },
            "type": "scatterpolargl"
           }
          ],
          "scatterternary": [
           {
            "marker": {
             "colorbar": {
              "outlinewidth": 0,
              "ticks": ""
             }
            },
            "type": "scatterternary"
           }
          ],
          "surface": [
           {
            "colorbar": {
             "outlinewidth": 0,
             "ticks": ""
            },
            "colorscale": [
             [
              0,
              "#0d0887"
             ],
             [
              0.1111111111111111,
              "#46039f"
             ],
             [
              0.2222222222222222,
              "#7201a8"
             ],
             [
              0.3333333333333333,
              "#9c179e"
             ],
             [
              0.4444444444444444,
              "#bd3786"
             ],
             [
              0.5555555555555556,
              "#d8576b"
             ],
             [
              0.6666666666666666,
              "#ed7953"
             ],
             [
              0.7777777777777778,
              "#fb9f3a"
             ],
             [
              0.8888888888888888,
              "#fdca26"
             ],
             [
              1,
              "#f0f921"
             ]
            ],
            "type": "surface"
           }
          ],
          "table": [
           {
            "cells": {
             "fill": {
              "color": "#EBF0F8"
             },
             "line": {
              "color": "white"
             }
            },
            "header": {
             "fill": {
              "color": "#C8D4E3"
             },
             "line": {
              "color": "white"
             }
            },
            "type": "table"
           }
          ]
         },
         "layout": {
          "annotationdefaults": {
           "arrowcolor": "#2a3f5f",
           "arrowhead": 0,
           "arrowwidth": 1
          },
          "autotypenumbers": "strict",
          "coloraxis": {
           "colorbar": {
            "outlinewidth": 0,
            "ticks": ""
           }
          },
          "colorscale": {
           "diverging": [
            [
             0,
             "#8e0152"
            ],
            [
             0.1,
             "#c51b7d"
            ],
            [
             0.2,
             "#de77ae"
            ],
            [
             0.3,
             "#f1b6da"
            ],
            [
             0.4,
             "#fde0ef"
            ],
            [
             0.5,
             "#f7f7f7"
            ],
            [
             0.6,
             "#e6f5d0"
            ],
            [
             0.7,
             "#b8e186"
            ],
            [
             0.8,
             "#7fbc41"
            ],
            [
             0.9,
             "#4d9221"
            ],
            [
             1,
             "#276419"
            ]
           ],
           "sequential": [
            [
             0,
             "#0d0887"
            ],
            [
             0.1111111111111111,
             "#46039f"
            ],
            [
             0.2222222222222222,
             "#7201a8"
            ],
            [
             0.3333333333333333,
             "#9c179e"
            ],
            [
             0.4444444444444444,
             "#bd3786"
            ],
            [
             0.5555555555555556,
             "#d8576b"
            ],
            [
             0.6666666666666666,
             "#ed7953"
            ],
            [
             0.7777777777777778,
             "#fb9f3a"
            ],
            [
             0.8888888888888888,
             "#fdca26"
            ],
            [
             1,
             "#f0f921"
            ]
           ],
           "sequentialminus": [
            [
             0,
             "#0d0887"
            ],
            [
             0.1111111111111111,
             "#46039f"
            ],
            [
             0.2222222222222222,
             "#7201a8"
            ],
            [
             0.3333333333333333,
             "#9c179e"
            ],
            [
             0.4444444444444444,
             "#bd3786"
            ],
            [
             0.5555555555555556,
             "#d8576b"
            ],
            [
             0.6666666666666666,
             "#ed7953"
            ],
            [
             0.7777777777777778,
             "#fb9f3a"
            ],
            [
             0.8888888888888888,
             "#fdca26"
            ],
            [
             1,
             "#f0f921"
            ]
           ]
          },
          "colorway": [
           "#636efa",
           "#EF553B",
           "#00cc96",
           "#ab63fa",
           "#FFA15A",
           "#19d3f3",
           "#FF6692",
           "#B6E880",
           "#FF97FF",
           "#FECB52"
          ],
          "font": {
           "color": "#2a3f5f"
          },
          "geo": {
           "bgcolor": "white",
           "lakecolor": "white",
           "landcolor": "#E5ECF6",
           "showlakes": true,
           "showland": true,
           "subunitcolor": "white"
          },
          "hoverlabel": {
           "align": "left"
          },
          "hovermode": "closest",
          "mapbox": {
           "style": "light"
          },
          "paper_bgcolor": "white",
          "plot_bgcolor": "#E5ECF6",
          "polar": {
           "angularaxis": {
            "gridcolor": "white",
            "linecolor": "white",
            "ticks": ""
           },
           "bgcolor": "#E5ECF6",
           "radialaxis": {
            "gridcolor": "white",
            "linecolor": "white",
            "ticks": ""
           }
          },
          "scene": {
           "xaxis": {
            "backgroundcolor": "#E5ECF6",
            "gridcolor": "white",
            "gridwidth": 2,
            "linecolor": "white",
            "showbackground": true,
            "ticks": "",
            "zerolinecolor": "white"
           },
           "yaxis": {
            "backgroundcolor": "#E5ECF6",
            "gridcolor": "white",
            "gridwidth": 2,
            "linecolor": "white",
            "showbackground": true,
            "ticks": "",
            "zerolinecolor": "white"
           },
           "zaxis": {
            "backgroundcolor": "#E5ECF6",
            "gridcolor": "white",
            "gridwidth": 2,
            "linecolor": "white",
            "showbackground": true,
            "ticks": "",
            "zerolinecolor": "white"
           }
          },
          "shapedefaults": {
           "line": {
            "color": "#2a3f5f"
           }
          },
          "ternary": {
           "aaxis": {
            "gridcolor": "white",
            "linecolor": "white",
            "ticks": ""
           },
           "baxis": {
            "gridcolor": "white",
            "linecolor": "white",
            "ticks": ""
           },
           "bgcolor": "#E5ECF6",
           "caxis": {
            "gridcolor": "white",
            "linecolor": "white",
            "ticks": ""
           }
          },
          "title": {
           "x": 0.05
          },
          "xaxis": {
           "automargin": true,
           "gridcolor": "white",
           "linecolor": "white",
           "ticks": "",
           "title": {
            "standoff": 15
           },
           "zerolinecolor": "white",
           "zerolinewidth": 2
          },
          "yaxis": {
           "automargin": true,
           "gridcolor": "white",
           "linecolor": "white",
           "ticks": "",
           "title": {
            "standoff": 15
           },
           "zerolinecolor": "white",
           "zerolinewidth": 2
          }
         }
        },
        "title": {
         "text": "Spotify MAUs and Premium Users Over Quarters"
        },
        "xaxis": {
         "anchor": "y",
         "domain": [
          0,
          1
         ],
         "title": {
          "text": "Quarter"
         }
        },
        "yaxis": {
         "anchor": "x",
         "domain": [
          0,
          1
         ],
         "title": {
          "text": "Millions"
         }
        }
       }
      }
     },
     "metadata": {},
     "output_type": "display_data"
    }
   ],
   "source": [
    "# Plot\n",
    "fig = px.line(user_data, x='Date', y=['Monthly Active User (MAU)', 'Premium Users'], title='Spotify MAUs and Premium Users Over Quarters')\n",
    "fig.update_layout(xaxis_title='Quarter', yaxis_title='Millions')\n",
    "fig.show()"
   ]
  },
  {
   "cell_type": "code",
   "execution_count": 228,
   "metadata": {},
   "outputs": [
    {
     "data": {
      "application/vnd.plotly.v1+json": {
       "config": {
        "plotlyServerURL": "https://plot.ly"
       },
       "data": [
        {
         "alignmentgroup": "True",
         "hovertemplate": "variable=Monthly Active User (MAU)<br>Date=%{x}<br>value=%{y}<extra></extra>",
         "legendgroup": "Monthly Active User (MAU)",
         "marker": {
          "color": "#636efa",
          "pattern": {
           "shape": ""
          }
         },
         "name": "Monthly Active User (MAU)",
         "offsetgroup": "Monthly Active User (MAU)",
         "orientation": "v",
         "showlegend": true,
         "textposition": "auto",
         "type": "bar",
         "x": [
          "Q1 2015",
          "Q2 2015",
          "Q3 2015",
          "Q4 2015",
          "Q1 2016",
          "Q2 2016",
          "Q3 2016",
          "Q4 2016",
          "Q1 2017",
          "Q2 2017",
          "Q3 2017",
          "Q4 2017",
          "Q1 2018",
          "Q2 2018",
          "Q3 2018",
          "Q4 2018",
          "Q1 2019",
          "Q2 2019",
          "Q3 2019",
          "Q4 2019",
          "Q1 2020",
          "Q2 2020",
          "Q3 2020",
          "Q4 2020",
          "Q1 2021",
          "Q2 2021",
          "Q3 2021",
          "Q4 2021",
          "Q1 2022",
          "Q2 2022",
          "Q3 2022",
          "Q4 2022",
          "Q1 2023",
          "Q2 2023",
          "Q3 2023",
          "Q4 2023"
         ],
         "xaxis": "x",
         "y": [
          68,
          77,
          82,
          91,
          96,
          104,
          113,
          123,
          132,
          138,
          149,
          160,
          157,
          180,
          191,
          207,
          217,
          232,
          248,
          271,
          286,
          299,
          320,
          345,
          356,
          365,
          381,
          406,
          422,
          433,
          456,
          489,
          515,
          551,
          574,
          602
         ],
         "yaxis": "y"
        },
        {
         "alignmentgroup": "True",
         "hovertemplate": "variable=Premium Users<br>Date=%{x}<br>value=%{y}<extra></extra>",
         "legendgroup": "Premium Users",
         "marker": {
          "color": "#EF553B",
          "pattern": {
           "shape": ""
          }
         },
         "name": "Premium Users",
         "offsetgroup": "Premium Users",
         "orientation": "v",
         "showlegend": true,
         "textposition": "auto",
         "type": "bar",
         "x": [
          "Q1 2015",
          "Q2 2015",
          "Q3 2015",
          "Q4 2015",
          "Q1 2016",
          "Q2 2016",
          "Q3 2016",
          "Q4 2016",
          "Q1 2017",
          "Q2 2017",
          "Q3 2017",
          "Q4 2017",
          "Q1 2018",
          "Q2 2018",
          "Q3 2018",
          "Q4 2018",
          "Q1 2019",
          "Q2 2019",
          "Q3 2019",
          "Q4 2019",
          "Q1 2020",
          "Q2 2020",
          "Q3 2020",
          "Q4 2020",
          "Q1 2021",
          "Q2 2021",
          "Q3 2021",
          "Q4 2021",
          "Q1 2022",
          "Q2 2022",
          "Q3 2022",
          "Q4 2022",
          "Q1 2023",
          "Q2 2023",
          "Q3 2023",
          "Q4 2023"
         ],
         "xaxis": "x",
         "y": [
          18,
          22,
          24,
          28,
          30,
          36,
          40,
          48,
          52,
          59,
          62,
          71,
          75,
          83,
          87,
          96,
          100,
          108,
          113,
          124,
          130,
          138,
          144,
          155,
          158,
          165,
          172,
          180,
          182,
          188,
          195,
          205,
          210,
          220,
          226,
          236
         ],
         "yaxis": "y"
        }
       ],
       "layout": {
        "barmode": "group",
        "legend": {
         "title": {
          "text": "variable"
         },
         "tracegroupgap": 0
        },
        "template": {
         "data": {
          "bar": [
           {
            "error_x": {
             "color": "#2a3f5f"
            },
            "error_y": {
             "color": "#2a3f5f"
            },
            "marker": {
             "line": {
              "color": "#E5ECF6",
              "width": 0.5
             },
             "pattern": {
              "fillmode": "overlay",
              "size": 10,
              "solidity": 0.2
             }
            },
            "type": "bar"
           }
          ],
          "barpolar": [
           {
            "marker": {
             "line": {
              "color": "#E5ECF6",
              "width": 0.5
             },
             "pattern": {
              "fillmode": "overlay",
              "size": 10,
              "solidity": 0.2
             }
            },
            "type": "barpolar"
           }
          ],
          "carpet": [
           {
            "aaxis": {
             "endlinecolor": "#2a3f5f",
             "gridcolor": "white",
             "linecolor": "white",
             "minorgridcolor": "white",
             "startlinecolor": "#2a3f5f"
            },
            "baxis": {
             "endlinecolor": "#2a3f5f",
             "gridcolor": "white",
             "linecolor": "white",
             "minorgridcolor": "white",
             "startlinecolor": "#2a3f5f"
            },
            "type": "carpet"
           }
          ],
          "choropleth": [
           {
            "colorbar": {
             "outlinewidth": 0,
             "ticks": ""
            },
            "type": "choropleth"
           }
          ],
          "contour": [
           {
            "colorbar": {
             "outlinewidth": 0,
             "ticks": ""
            },
            "colorscale": [
             [
              0,
              "#0d0887"
             ],
             [
              0.1111111111111111,
              "#46039f"
             ],
             [
              0.2222222222222222,
              "#7201a8"
             ],
             [
              0.3333333333333333,
              "#9c179e"
             ],
             [
              0.4444444444444444,
              "#bd3786"
             ],
             [
              0.5555555555555556,
              "#d8576b"
             ],
             [
              0.6666666666666666,
              "#ed7953"
             ],
             [
              0.7777777777777778,
              "#fb9f3a"
             ],
             [
              0.8888888888888888,
              "#fdca26"
             ],
             [
              1,
              "#f0f921"
             ]
            ],
            "type": "contour"
           }
          ],
          "contourcarpet": [
           {
            "colorbar": {
             "outlinewidth": 0,
             "ticks": ""
            },
            "type": "contourcarpet"
           }
          ],
          "heatmap": [
           {
            "colorbar": {
             "outlinewidth": 0,
             "ticks": ""
            },
            "colorscale": [
             [
              0,
              "#0d0887"
             ],
             [
              0.1111111111111111,
              "#46039f"
             ],
             [
              0.2222222222222222,
              "#7201a8"
             ],
             [
              0.3333333333333333,
              "#9c179e"
             ],
             [
              0.4444444444444444,
              "#bd3786"
             ],
             [
              0.5555555555555556,
              "#d8576b"
             ],
             [
              0.6666666666666666,
              "#ed7953"
             ],
             [
              0.7777777777777778,
              "#fb9f3a"
             ],
             [
              0.8888888888888888,
              "#fdca26"
             ],
             [
              1,
              "#f0f921"
             ]
            ],
            "type": "heatmap"
           }
          ],
          "heatmapgl": [
           {
            "colorbar": {
             "outlinewidth": 0,
             "ticks": ""
            },
            "colorscale": [
             [
              0,
              "#0d0887"
             ],
             [
              0.1111111111111111,
              "#46039f"
             ],
             [
              0.2222222222222222,
              "#7201a8"
             ],
             [
              0.3333333333333333,
              "#9c179e"
             ],
             [
              0.4444444444444444,
              "#bd3786"
             ],
             [
              0.5555555555555556,
              "#d8576b"
             ],
             [
              0.6666666666666666,
              "#ed7953"
             ],
             [
              0.7777777777777778,
              "#fb9f3a"
             ],
             [
              0.8888888888888888,
              "#fdca26"
             ],
             [
              1,
              "#f0f921"
             ]
            ],
            "type": "heatmapgl"
           }
          ],
          "histogram": [
           {
            "marker": {
             "pattern": {
              "fillmode": "overlay",
              "size": 10,
              "solidity": 0.2
             }
            },
            "type": "histogram"
           }
          ],
          "histogram2d": [
           {
            "colorbar": {
             "outlinewidth": 0,
             "ticks": ""
            },
            "colorscale": [
             [
              0,
              "#0d0887"
             ],
             [
              0.1111111111111111,
              "#46039f"
             ],
             [
              0.2222222222222222,
              "#7201a8"
             ],
             [
              0.3333333333333333,
              "#9c179e"
             ],
             [
              0.4444444444444444,
              "#bd3786"
             ],
             [
              0.5555555555555556,
              "#d8576b"
             ],
             [
              0.6666666666666666,
              "#ed7953"
             ],
             [
              0.7777777777777778,
              "#fb9f3a"
             ],
             [
              0.8888888888888888,
              "#fdca26"
             ],
             [
              1,
              "#f0f921"
             ]
            ],
            "type": "histogram2d"
           }
          ],
          "histogram2dcontour": [
           {
            "colorbar": {
             "outlinewidth": 0,
             "ticks": ""
            },
            "colorscale": [
             [
              0,
              "#0d0887"
             ],
             [
              0.1111111111111111,
              "#46039f"
             ],
             [
              0.2222222222222222,
              "#7201a8"
             ],
             [
              0.3333333333333333,
              "#9c179e"
             ],
             [
              0.4444444444444444,
              "#bd3786"
             ],
             [
              0.5555555555555556,
              "#d8576b"
             ],
             [
              0.6666666666666666,
              "#ed7953"
             ],
             [
              0.7777777777777778,
              "#fb9f3a"
             ],
             [
              0.8888888888888888,
              "#fdca26"
             ],
             [
              1,
              "#f0f921"
             ]
            ],
            "type": "histogram2dcontour"
           }
          ],
          "mesh3d": [
           {
            "colorbar": {
             "outlinewidth": 0,
             "ticks": ""
            },
            "type": "mesh3d"
           }
          ],
          "parcoords": [
           {
            "line": {
             "colorbar": {
              "outlinewidth": 0,
              "ticks": ""
             }
            },
            "type": "parcoords"
           }
          ],
          "pie": [
           {
            "automargin": true,
            "type": "pie"
           }
          ],
          "scatter": [
           {
            "fillpattern": {
             "fillmode": "overlay",
             "size": 10,
             "solidity": 0.2
            },
            "type": "scatter"
           }
          ],
          "scatter3d": [
           {
            "line": {
             "colorbar": {
              "outlinewidth": 0,
              "ticks": ""
             }
            },
            "marker": {
             "colorbar": {
              "outlinewidth": 0,
              "ticks": ""
             }
            },
            "type": "scatter3d"
           }
          ],
          "scattercarpet": [
           {
            "marker": {
             "colorbar": {
              "outlinewidth": 0,
              "ticks": ""
             }
            },
            "type": "scattercarpet"
           }
          ],
          "scattergeo": [
           {
            "marker": {
             "colorbar": {
              "outlinewidth": 0,
              "ticks": ""
             }
            },
            "type": "scattergeo"
           }
          ],
          "scattergl": [
           {
            "marker": {
             "colorbar": {
              "outlinewidth": 0,
              "ticks": ""
             }
            },
            "type": "scattergl"
           }
          ],
          "scattermapbox": [
           {
            "marker": {
             "colorbar": {
              "outlinewidth": 0,
              "ticks": ""
             }
            },
            "type": "scattermapbox"
           }
          ],
          "scatterpolar": [
           {
            "marker": {
             "colorbar": {
              "outlinewidth": 0,
              "ticks": ""
             }
            },
            "type": "scatterpolar"
           }
          ],
          "scatterpolargl": [
           {
            "marker": {
             "colorbar": {
              "outlinewidth": 0,
              "ticks": ""
             }
            },
            "type": "scatterpolargl"
           }
          ],
          "scatterternary": [
           {
            "marker": {
             "colorbar": {
              "outlinewidth": 0,
              "ticks": ""
             }
            },
            "type": "scatterternary"
           }
          ],
          "surface": [
           {
            "colorbar": {
             "outlinewidth": 0,
             "ticks": ""
            },
            "colorscale": [
             [
              0,
              "#0d0887"
             ],
             [
              0.1111111111111111,
              "#46039f"
             ],
             [
              0.2222222222222222,
              "#7201a8"
             ],
             [
              0.3333333333333333,
              "#9c179e"
             ],
             [
              0.4444444444444444,
              "#bd3786"
             ],
             [
              0.5555555555555556,
              "#d8576b"
             ],
             [
              0.6666666666666666,
              "#ed7953"
             ],
             [
              0.7777777777777778,
              "#fb9f3a"
             ],
             [
              0.8888888888888888,
              "#fdca26"
             ],
             [
              1,
              "#f0f921"
             ]
            ],
            "type": "surface"
           }
          ],
          "table": [
           {
            "cells": {
             "fill": {
              "color": "#EBF0F8"
             },
             "line": {
              "color": "white"
             }
            },
            "header": {
             "fill": {
              "color": "#C8D4E3"
             },
             "line": {
              "color": "white"
             }
            },
            "type": "table"
           }
          ]
         },
         "layout": {
          "annotationdefaults": {
           "arrowcolor": "#2a3f5f",
           "arrowhead": 0,
           "arrowwidth": 1
          },
          "autotypenumbers": "strict",
          "coloraxis": {
           "colorbar": {
            "outlinewidth": 0,
            "ticks": ""
           }
          },
          "colorscale": {
           "diverging": [
            [
             0,
             "#8e0152"
            ],
            [
             0.1,
             "#c51b7d"
            ],
            [
             0.2,
             "#de77ae"
            ],
            [
             0.3,
             "#f1b6da"
            ],
            [
             0.4,
             "#fde0ef"
            ],
            [
             0.5,
             "#f7f7f7"
            ],
            [
             0.6,
             "#e6f5d0"
            ],
            [
             0.7,
             "#b8e186"
            ],
            [
             0.8,
             "#7fbc41"
            ],
            [
             0.9,
             "#4d9221"
            ],
            [
             1,
             "#276419"
            ]
           ],
           "sequential": [
            [
             0,
             "#0d0887"
            ],
            [
             0.1111111111111111,
             "#46039f"
            ],
            [
             0.2222222222222222,
             "#7201a8"
            ],
            [
             0.3333333333333333,
             "#9c179e"
            ],
            [
             0.4444444444444444,
             "#bd3786"
            ],
            [
             0.5555555555555556,
             "#d8576b"
            ],
            [
             0.6666666666666666,
             "#ed7953"
            ],
            [
             0.7777777777777778,
             "#fb9f3a"
            ],
            [
             0.8888888888888888,
             "#fdca26"
            ],
            [
             1,
             "#f0f921"
            ]
           ],
           "sequentialminus": [
            [
             0,
             "#0d0887"
            ],
            [
             0.1111111111111111,
             "#46039f"
            ],
            [
             0.2222222222222222,
             "#7201a8"
            ],
            [
             0.3333333333333333,
             "#9c179e"
            ],
            [
             0.4444444444444444,
             "#bd3786"
            ],
            [
             0.5555555555555556,
             "#d8576b"
            ],
            [
             0.6666666666666666,
             "#ed7953"
            ],
            [
             0.7777777777777778,
             "#fb9f3a"
            ],
            [
             0.8888888888888888,
             "#fdca26"
            ],
            [
             1,
             "#f0f921"
            ]
           ]
          },
          "colorway": [
           "#636efa",
           "#EF553B",
           "#00cc96",
           "#ab63fa",
           "#FFA15A",
           "#19d3f3",
           "#FF6692",
           "#B6E880",
           "#FF97FF",
           "#FECB52"
          ],
          "font": {
           "color": "#2a3f5f"
          },
          "geo": {
           "bgcolor": "white",
           "lakecolor": "white",
           "landcolor": "#E5ECF6",
           "showlakes": true,
           "showland": true,
           "subunitcolor": "white"
          },
          "hoverlabel": {
           "align": "left"
          },
          "hovermode": "closest",
          "mapbox": {
           "style": "light"
          },
          "paper_bgcolor": "white",
          "plot_bgcolor": "#E5ECF6",
          "polar": {
           "angularaxis": {
            "gridcolor": "white",
            "linecolor": "white",
            "ticks": ""
           },
           "bgcolor": "#E5ECF6",
           "radialaxis": {
            "gridcolor": "white",
            "linecolor": "white",
            "ticks": ""
           }
          },
          "scene": {
           "xaxis": {
            "backgroundcolor": "#E5ECF6",
            "gridcolor": "white",
            "gridwidth": 2,
            "linecolor": "white",
            "showbackground": true,
            "ticks": "",
            "zerolinecolor": "white"
           },
           "yaxis": {
            "backgroundcolor": "#E5ECF6",
            "gridcolor": "white",
            "gridwidth": 2,
            "linecolor": "white",
            "showbackground": true,
            "ticks": "",
            "zerolinecolor": "white"
           },
           "zaxis": {
            "backgroundcolor": "#E5ECF6",
            "gridcolor": "white",
            "gridwidth": 2,
            "linecolor": "white",
            "showbackground": true,
            "ticks": "",
            "zerolinecolor": "white"
           }
          },
          "shapedefaults": {
           "line": {
            "color": "#2a3f5f"
           }
          },
          "ternary": {
           "aaxis": {
            "gridcolor": "white",
            "linecolor": "white",
            "ticks": ""
           },
           "baxis": {
            "gridcolor": "white",
            "linecolor": "white",
            "ticks": ""
           },
           "bgcolor": "#E5ECF6",
           "caxis": {
            "gridcolor": "white",
            "linecolor": "white",
            "ticks": ""
           }
          },
          "title": {
           "x": 0.05
          },
          "xaxis": {
           "automargin": true,
           "gridcolor": "white",
           "linecolor": "white",
           "ticks": "",
           "title": {
            "standoff": 15
           },
           "zerolinecolor": "white",
           "zerolinewidth": 2
          },
          "yaxis": {
           "automargin": true,
           "gridcolor": "white",
           "linecolor": "white",
           "ticks": "",
           "title": {
            "standoff": 15
           },
           "zerolinecolor": "white",
           "zerolinewidth": 2
          }
         }
        },
        "title": {
         "text": "Spotify MAUs and Premium Users Over Quarters"
        },
        "xaxis": {
         "anchor": "y",
         "domain": [
          0,
          1
         ],
         "title": {
          "text": "Quarter"
         }
        },
        "yaxis": {
         "anchor": "x",
         "domain": [
          0,
          1
         ],
         "title": {
          "text": "Millions"
         }
        }
       }
      }
     },
     "metadata": {},
     "output_type": "display_data"
    }
   ],
   "source": [
    "# Bar chart example\n",
    "fig = px.bar(user_data, x='Date', y=['Monthly Active User (MAU)', 'Premium Users'], barmode='group', title='Spotify MAUs and Premium Users Over Quarters')\n",
    "fig.update_layout(xaxis_title='Quarter', yaxis_title='Millions')\n",
    "fig.show()"
   ]
  },
  {
   "cell_type": "code",
   "execution_count": 229,
   "metadata": {},
   "outputs": [],
   "source": [
    "world_user = pd.read_csv('dataset/spotify_archive/World Users.csv')"
   ]
  },
  {
   "cell_type": "code",
   "execution_count": 230,
   "metadata": {},
   "outputs": [
    {
     "data": {
      "text/html": [
       "<div>\n",
       "<style scoped>\n",
       "    .dataframe tbody tr th:only-of-type {\n",
       "        vertical-align: middle;\n",
       "    }\n",
       "\n",
       "    .dataframe tbody tr th {\n",
       "        vertical-align: top;\n",
       "    }\n",
       "\n",
       "    .dataframe thead th {\n",
       "        text-align: right;\n",
       "    }\n",
       "</style>\n",
       "<table border=\"1\" class=\"dataframe\">\n",
       "  <thead>\n",
       "    <tr style=\"text-align: right;\">\n",
       "      <th></th>\n",
       "      <th>Year</th>\n",
       "      <th>Europe</th>\n",
       "      <th>North America</th>\n",
       "      <th>Latin America</th>\n",
       "      <th>Rest of World</th>\n",
       "    </tr>\n",
       "  </thead>\n",
       "  <tbody>\n",
       "    <tr>\n",
       "      <th>0</th>\n",
       "      <td>2016</td>\n",
       "      <td>40</td>\n",
       "      <td>36</td>\n",
       "      <td>20</td>\n",
       "      <td>8</td>\n",
       "    </tr>\n",
       "    <tr>\n",
       "      <th>1</th>\n",
       "      <td>2017</td>\n",
       "      <td>51</td>\n",
       "      <td>46</td>\n",
       "      <td>28</td>\n",
       "      <td>13</td>\n",
       "    </tr>\n",
       "    <tr>\n",
       "      <th>2</th>\n",
       "      <td>2018</td>\n",
       "      <td>66</td>\n",
       "      <td>56</td>\n",
       "      <td>38</td>\n",
       "      <td>20</td>\n",
       "    </tr>\n",
       "    <tr>\n",
       "      <th>3</th>\n",
       "      <td>2019</td>\n",
       "      <td>83</td>\n",
       "      <td>65</td>\n",
       "      <td>49</td>\n",
       "      <td>35</td>\n",
       "    </tr>\n",
       "    <tr>\n",
       "      <th>4</th>\n",
       "      <td>2020</td>\n",
       "      <td>102</td>\n",
       "      <td>77</td>\n",
       "      <td>66</td>\n",
       "      <td>54</td>\n",
       "    </tr>\n",
       "    <tr>\n",
       "      <th>5</th>\n",
       "      <td>2021</td>\n",
       "      <td>124</td>\n",
       "      <td>88</td>\n",
       "      <td>80</td>\n",
       "      <td>73</td>\n",
       "    </tr>\n",
       "    <tr>\n",
       "      <th>6</th>\n",
       "      <td>2022</td>\n",
       "      <td>138</td>\n",
       "      <td>97</td>\n",
       "      <td>95</td>\n",
       "      <td>103</td>\n",
       "    </tr>\n",
       "    <tr>\n",
       "      <th>7</th>\n",
       "      <td>2023</td>\n",
       "      <td>159</td>\n",
       "      <td>111</td>\n",
       "      <td>116</td>\n",
       "      <td>165</td>\n",
       "    </tr>\n",
       "  </tbody>\n",
       "</table>\n",
       "</div>"
      ],
      "text/plain": [
       "   Year  Europe  North America  Latin America  Rest of World\n",
       "0  2016      40             36             20              8\n",
       "1  2017      51             46             28             13\n",
       "2  2018      66             56             38             20\n",
       "3  2019      83             65             49             35\n",
       "4  2020     102             77             66             54\n",
       "5  2021     124             88             80             73\n",
       "6  2022     138             97             95            103\n",
       "7  2023     159            111            116            165"
      ]
     },
     "execution_count": 230,
     "metadata": {},
     "output_type": "execute_result"
    }
   ],
   "source": [
    "world_user"
   ]
  },
  {
   "cell_type": "code",
   "execution_count": 231,
   "metadata": {},
   "outputs": [
    {
     "data": {
      "application/vnd.plotly.v1+json": {
       "config": {
        "plotlyServerURL": "https://plot.ly"
       },
       "data": [
        {
         "fillpattern": {
          "shape": ""
         },
         "hovertemplate": "Region=Europe<br>Year=%{x}<br>Users (millions)=%{y}<extra></extra>",
         "legendgroup": "Europe",
         "line": {
          "color": "#636efa"
         },
         "marker": {
          "symbol": "circle"
         },
         "mode": "lines",
         "name": "Europe",
         "orientation": "v",
         "showlegend": true,
         "stackgroup": "1",
         "type": "scatter",
         "x": [
          2016,
          2017,
          2018,
          2019,
          2020,
          2021,
          2022,
          2023
         ],
         "xaxis": "x",
         "y": [
          40,
          51,
          66,
          83,
          102,
          124,
          138,
          159
         ],
         "yaxis": "y"
        },
        {
         "fillpattern": {
          "shape": ""
         },
         "hovertemplate": "Region=North America<br>Year=%{x}<br>Users (millions)=%{y}<extra></extra>",
         "legendgroup": "North America",
         "line": {
          "color": "#EF553B"
         },
         "marker": {
          "symbol": "circle"
         },
         "mode": "lines",
         "name": "North America",
         "orientation": "v",
         "showlegend": true,
         "stackgroup": "1",
         "type": "scatter",
         "x": [
          2016,
          2017,
          2018,
          2019,
          2020,
          2021,
          2022,
          2023
         ],
         "xaxis": "x",
         "y": [
          36,
          46,
          56,
          65,
          77,
          88,
          97,
          111
         ],
         "yaxis": "y"
        },
        {
         "fillpattern": {
          "shape": ""
         },
         "hovertemplate": "Region=Latin America<br>Year=%{x}<br>Users (millions)=%{y}<extra></extra>",
         "legendgroup": "Latin America",
         "line": {
          "color": "#00cc96"
         },
         "marker": {
          "symbol": "circle"
         },
         "mode": "lines",
         "name": "Latin America",
         "orientation": "v",
         "showlegend": true,
         "stackgroup": "1",
         "type": "scatter",
         "x": [
          2016,
          2017,
          2018,
          2019,
          2020,
          2021,
          2022,
          2023
         ],
         "xaxis": "x",
         "y": [
          20,
          28,
          38,
          49,
          66,
          80,
          95,
          116
         ],
         "yaxis": "y"
        },
        {
         "fillpattern": {
          "shape": ""
         },
         "hovertemplate": "Region=Rest of World<br>Year=%{x}<br>Users (millions)=%{y}<extra></extra>",
         "legendgroup": "Rest of World",
         "line": {
          "color": "#ab63fa"
         },
         "marker": {
          "symbol": "circle"
         },
         "mode": "lines",
         "name": "Rest of World",
         "orientation": "v",
         "showlegend": true,
         "stackgroup": "1",
         "type": "scatter",
         "x": [
          2016,
          2017,
          2018,
          2019,
          2020,
          2021,
          2022,
          2023
         ],
         "xaxis": "x",
         "y": [
          8,
          13,
          20,
          35,
          54,
          73,
          103,
          165
         ],
         "yaxis": "y"
        }
       ],
       "layout": {
        "legend": {
         "title": {
          "text": "Region"
         },
         "tracegroupgap": 0
        },
        "template": {
         "data": {
          "bar": [
           {
            "error_x": {
             "color": "#2a3f5f"
            },
            "error_y": {
             "color": "#2a3f5f"
            },
            "marker": {
             "line": {
              "color": "#E5ECF6",
              "width": 0.5
             },
             "pattern": {
              "fillmode": "overlay",
              "size": 10,
              "solidity": 0.2
             }
            },
            "type": "bar"
           }
          ],
          "barpolar": [
           {
            "marker": {
             "line": {
              "color": "#E5ECF6",
              "width": 0.5
             },
             "pattern": {
              "fillmode": "overlay",
              "size": 10,
              "solidity": 0.2
             }
            },
            "type": "barpolar"
           }
          ],
          "carpet": [
           {
            "aaxis": {
             "endlinecolor": "#2a3f5f",
             "gridcolor": "white",
             "linecolor": "white",
             "minorgridcolor": "white",
             "startlinecolor": "#2a3f5f"
            },
            "baxis": {
             "endlinecolor": "#2a3f5f",
             "gridcolor": "white",
             "linecolor": "white",
             "minorgridcolor": "white",
             "startlinecolor": "#2a3f5f"
            },
            "type": "carpet"
           }
          ],
          "choropleth": [
           {
            "colorbar": {
             "outlinewidth": 0,
             "ticks": ""
            },
            "type": "choropleth"
           }
          ],
          "contour": [
           {
            "colorbar": {
             "outlinewidth": 0,
             "ticks": ""
            },
            "colorscale": [
             [
              0,
              "#0d0887"
             ],
             [
              0.1111111111111111,
              "#46039f"
             ],
             [
              0.2222222222222222,
              "#7201a8"
             ],
             [
              0.3333333333333333,
              "#9c179e"
             ],
             [
              0.4444444444444444,
              "#bd3786"
             ],
             [
              0.5555555555555556,
              "#d8576b"
             ],
             [
              0.6666666666666666,
              "#ed7953"
             ],
             [
              0.7777777777777778,
              "#fb9f3a"
             ],
             [
              0.8888888888888888,
              "#fdca26"
             ],
             [
              1,
              "#f0f921"
             ]
            ],
            "type": "contour"
           }
          ],
          "contourcarpet": [
           {
            "colorbar": {
             "outlinewidth": 0,
             "ticks": ""
            },
            "type": "contourcarpet"
           }
          ],
          "heatmap": [
           {
            "colorbar": {
             "outlinewidth": 0,
             "ticks": ""
            },
            "colorscale": [
             [
              0,
              "#0d0887"
             ],
             [
              0.1111111111111111,
              "#46039f"
             ],
             [
              0.2222222222222222,
              "#7201a8"
             ],
             [
              0.3333333333333333,
              "#9c179e"
             ],
             [
              0.4444444444444444,
              "#bd3786"
             ],
             [
              0.5555555555555556,
              "#d8576b"
             ],
             [
              0.6666666666666666,
              "#ed7953"
             ],
             [
              0.7777777777777778,
              "#fb9f3a"
             ],
             [
              0.8888888888888888,
              "#fdca26"
             ],
             [
              1,
              "#f0f921"
             ]
            ],
            "type": "heatmap"
           }
          ],
          "heatmapgl": [
           {
            "colorbar": {
             "outlinewidth": 0,
             "ticks": ""
            },
            "colorscale": [
             [
              0,
              "#0d0887"
             ],
             [
              0.1111111111111111,
              "#46039f"
             ],
             [
              0.2222222222222222,
              "#7201a8"
             ],
             [
              0.3333333333333333,
              "#9c179e"
             ],
             [
              0.4444444444444444,
              "#bd3786"
             ],
             [
              0.5555555555555556,
              "#d8576b"
             ],
             [
              0.6666666666666666,
              "#ed7953"
             ],
             [
              0.7777777777777778,
              "#fb9f3a"
             ],
             [
              0.8888888888888888,
              "#fdca26"
             ],
             [
              1,
              "#f0f921"
             ]
            ],
            "type": "heatmapgl"
           }
          ],
          "histogram": [
           {
            "marker": {
             "pattern": {
              "fillmode": "overlay",
              "size": 10,
              "solidity": 0.2
             }
            },
            "type": "histogram"
           }
          ],
          "histogram2d": [
           {
            "colorbar": {
             "outlinewidth": 0,
             "ticks": ""
            },
            "colorscale": [
             [
              0,
              "#0d0887"
             ],
             [
              0.1111111111111111,
              "#46039f"
             ],
             [
              0.2222222222222222,
              "#7201a8"
             ],
             [
              0.3333333333333333,
              "#9c179e"
             ],
             [
              0.4444444444444444,
              "#bd3786"
             ],
             [
              0.5555555555555556,
              "#d8576b"
             ],
             [
              0.6666666666666666,
              "#ed7953"
             ],
             [
              0.7777777777777778,
              "#fb9f3a"
             ],
             [
              0.8888888888888888,
              "#fdca26"
             ],
             [
              1,
              "#f0f921"
             ]
            ],
            "type": "histogram2d"
           }
          ],
          "histogram2dcontour": [
           {
            "colorbar": {
             "outlinewidth": 0,
             "ticks": ""
            },
            "colorscale": [
             [
              0,
              "#0d0887"
             ],
             [
              0.1111111111111111,
              "#46039f"
             ],
             [
              0.2222222222222222,
              "#7201a8"
             ],
             [
              0.3333333333333333,
              "#9c179e"
             ],
             [
              0.4444444444444444,
              "#bd3786"
             ],
             [
              0.5555555555555556,
              "#d8576b"
             ],
             [
              0.6666666666666666,
              "#ed7953"
             ],
             [
              0.7777777777777778,
              "#fb9f3a"
             ],
             [
              0.8888888888888888,
              "#fdca26"
             ],
             [
              1,
              "#f0f921"
             ]
            ],
            "type": "histogram2dcontour"
           }
          ],
          "mesh3d": [
           {
            "colorbar": {
             "outlinewidth": 0,
             "ticks": ""
            },
            "type": "mesh3d"
           }
          ],
          "parcoords": [
           {
            "line": {
             "colorbar": {
              "outlinewidth": 0,
              "ticks": ""
             }
            },
            "type": "parcoords"
           }
          ],
          "pie": [
           {
            "automargin": true,
            "type": "pie"
           }
          ],
          "scatter": [
           {
            "fillpattern": {
             "fillmode": "overlay",
             "size": 10,
             "solidity": 0.2
            },
            "type": "scatter"
           }
          ],
          "scatter3d": [
           {
            "line": {
             "colorbar": {
              "outlinewidth": 0,
              "ticks": ""
             }
            },
            "marker": {
             "colorbar": {
              "outlinewidth": 0,
              "ticks": ""
             }
            },
            "type": "scatter3d"
           }
          ],
          "scattercarpet": [
           {
            "marker": {
             "colorbar": {
              "outlinewidth": 0,
              "ticks": ""
             }
            },
            "type": "scattercarpet"
           }
          ],
          "scattergeo": [
           {
            "marker": {
             "colorbar": {
              "outlinewidth": 0,
              "ticks": ""
             }
            },
            "type": "scattergeo"
           }
          ],
          "scattergl": [
           {
            "marker": {
             "colorbar": {
              "outlinewidth": 0,
              "ticks": ""
             }
            },
            "type": "scattergl"
           }
          ],
          "scattermapbox": [
           {
            "marker": {
             "colorbar": {
              "outlinewidth": 0,
              "ticks": ""
             }
            },
            "type": "scattermapbox"
           }
          ],
          "scatterpolar": [
           {
            "marker": {
             "colorbar": {
              "outlinewidth": 0,
              "ticks": ""
             }
            },
            "type": "scatterpolar"
           }
          ],
          "scatterpolargl": [
           {
            "marker": {
             "colorbar": {
              "outlinewidth": 0,
              "ticks": ""
             }
            },
            "type": "scatterpolargl"
           }
          ],
          "scatterternary": [
           {
            "marker": {
             "colorbar": {
              "outlinewidth": 0,
              "ticks": ""
             }
            },
            "type": "scatterternary"
           }
          ],
          "surface": [
           {
            "colorbar": {
             "outlinewidth": 0,
             "ticks": ""
            },
            "colorscale": [
             [
              0,
              "#0d0887"
             ],
             [
              0.1111111111111111,
              "#46039f"
             ],
             [
              0.2222222222222222,
              "#7201a8"
             ],
             [
              0.3333333333333333,
              "#9c179e"
             ],
             [
              0.4444444444444444,
              "#bd3786"
             ],
             [
              0.5555555555555556,
              "#d8576b"
             ],
             [
              0.6666666666666666,
              "#ed7953"
             ],
             [
              0.7777777777777778,
              "#fb9f3a"
             ],
             [
              0.8888888888888888,
              "#fdca26"
             ],
             [
              1,
              "#f0f921"
             ]
            ],
            "type": "surface"
           }
          ],
          "table": [
           {
            "cells": {
             "fill": {
              "color": "#EBF0F8"
             },
             "line": {
              "color": "white"
             }
            },
            "header": {
             "fill": {
              "color": "#C8D4E3"
             },
             "line": {
              "color": "white"
             }
            },
            "type": "table"
           }
          ]
         },
         "layout": {
          "annotationdefaults": {
           "arrowcolor": "#2a3f5f",
           "arrowhead": 0,
           "arrowwidth": 1
          },
          "autotypenumbers": "strict",
          "coloraxis": {
           "colorbar": {
            "outlinewidth": 0,
            "ticks": ""
           }
          },
          "colorscale": {
           "diverging": [
            [
             0,
             "#8e0152"
            ],
            [
             0.1,
             "#c51b7d"
            ],
            [
             0.2,
             "#de77ae"
            ],
            [
             0.3,
             "#f1b6da"
            ],
            [
             0.4,
             "#fde0ef"
            ],
            [
             0.5,
             "#f7f7f7"
            ],
            [
             0.6,
             "#e6f5d0"
            ],
            [
             0.7,
             "#b8e186"
            ],
            [
             0.8,
             "#7fbc41"
            ],
            [
             0.9,
             "#4d9221"
            ],
            [
             1,
             "#276419"
            ]
           ],
           "sequential": [
            [
             0,
             "#0d0887"
            ],
            [
             0.1111111111111111,
             "#46039f"
            ],
            [
             0.2222222222222222,
             "#7201a8"
            ],
            [
             0.3333333333333333,
             "#9c179e"
            ],
            [
             0.4444444444444444,
             "#bd3786"
            ],
            [
             0.5555555555555556,
             "#d8576b"
            ],
            [
             0.6666666666666666,
             "#ed7953"
            ],
            [
             0.7777777777777778,
             "#fb9f3a"
            ],
            [
             0.8888888888888888,
             "#fdca26"
            ],
            [
             1,
             "#f0f921"
            ]
           ],
           "sequentialminus": [
            [
             0,
             "#0d0887"
            ],
            [
             0.1111111111111111,
             "#46039f"
            ],
            [
             0.2222222222222222,
             "#7201a8"
            ],
            [
             0.3333333333333333,
             "#9c179e"
            ],
            [
             0.4444444444444444,
             "#bd3786"
            ],
            [
             0.5555555555555556,
             "#d8576b"
            ],
            [
             0.6666666666666666,
             "#ed7953"
            ],
            [
             0.7777777777777778,
             "#fb9f3a"
            ],
            [
             0.8888888888888888,
             "#fdca26"
            ],
            [
             1,
             "#f0f921"
            ]
           ]
          },
          "colorway": [
           "#636efa",
           "#EF553B",
           "#00cc96",
           "#ab63fa",
           "#FFA15A",
           "#19d3f3",
           "#FF6692",
           "#B6E880",
           "#FF97FF",
           "#FECB52"
          ],
          "font": {
           "color": "#2a3f5f"
          },
          "geo": {
           "bgcolor": "white",
           "lakecolor": "white",
           "landcolor": "#E5ECF6",
           "showlakes": true,
           "showland": true,
           "subunitcolor": "white"
          },
          "hoverlabel": {
           "align": "left"
          },
          "hovermode": "closest",
          "mapbox": {
           "style": "light"
          },
          "paper_bgcolor": "white",
          "plot_bgcolor": "#E5ECF6",
          "polar": {
           "angularaxis": {
            "gridcolor": "white",
            "linecolor": "white",
            "ticks": ""
           },
           "bgcolor": "#E5ECF6",
           "radialaxis": {
            "gridcolor": "white",
            "linecolor": "white",
            "ticks": ""
           }
          },
          "scene": {
           "xaxis": {
            "backgroundcolor": "#E5ECF6",
            "gridcolor": "white",
            "gridwidth": 2,
            "linecolor": "white",
            "showbackground": true,
            "ticks": "",
            "zerolinecolor": "white"
           },
           "yaxis": {
            "backgroundcolor": "#E5ECF6",
            "gridcolor": "white",
            "gridwidth": 2,
            "linecolor": "white",
            "showbackground": true,
            "ticks": "",
            "zerolinecolor": "white"
           },
           "zaxis": {
            "backgroundcolor": "#E5ECF6",
            "gridcolor": "white",
            "gridwidth": 2,
            "linecolor": "white",
            "showbackground": true,
            "ticks": "",
            "zerolinecolor": "white"
           }
          },
          "shapedefaults": {
           "line": {
            "color": "#2a3f5f"
           }
          },
          "ternary": {
           "aaxis": {
            "gridcolor": "white",
            "linecolor": "white",
            "ticks": ""
           },
           "baxis": {
            "gridcolor": "white",
            "linecolor": "white",
            "ticks": ""
           },
           "bgcolor": "#E5ECF6",
           "caxis": {
            "gridcolor": "white",
            "linecolor": "white",
            "ticks": ""
           }
          },
          "title": {
           "x": 0.05
          },
          "xaxis": {
           "automargin": true,
           "gridcolor": "white",
           "linecolor": "white",
           "ticks": "",
           "title": {
            "standoff": 15
           },
           "zerolinecolor": "white",
           "zerolinewidth": 2
          },
          "yaxis": {
           "automargin": true,
           "gridcolor": "white",
           "linecolor": "white",
           "ticks": "",
           "title": {
            "standoff": 15
           },
           "zerolinecolor": "white",
           "zerolinewidth": 2
          }
         }
        },
        "title": {
         "text": "Spotify Users by Region Over Years"
        },
        "xaxis": {
         "anchor": "y",
         "domain": [
          0,
          1
         ],
         "title": {
          "text": "Year"
         }
        },
        "yaxis": {
         "anchor": "x",
         "domain": [
          0,
          1
         ],
         "title": {
          "text": "Number of Users (millions)"
         }
        }
       }
      }
     },
     "metadata": {},
     "output_type": "display_data"
    }
   ],
   "source": [
    "# Creating a stacked area chart\n",
    "fig = px.area(world_user, x='Year', y=['Europe', 'North America', 'Latin America', 'Rest of World'],\n",
    "              title='Spotify Users by Region Over Years',\n",
    "              labels={'value': 'Users (millions)', 'variable': 'Region'},\n",
    "              facet_col_wrap=1)\n",
    "\n",
    "# Update layout\n",
    "fig.update_layout(xaxis_title='Year', yaxis_title='Number of Users (millions)')\n",
    "fig.show()\n"
   ]
  },
  {
   "cell_type": "code",
   "execution_count": 232,
   "metadata": {},
   "outputs": [],
   "source": [
    "\n",
    "spotify_2k = pd.read_csv('dataset/spotify_archive/Spotify-2000.csv')  # Make sure to adjust this to your dataset path\n"
   ]
  },
  {
   "cell_type": "code",
   "execution_count": 233,
   "metadata": {},
   "outputs": [
    {
     "data": {
      "text/html": [
       "<div>\n",
       "<style scoped>\n",
       "    .dataframe tbody tr th:only-of-type {\n",
       "        vertical-align: middle;\n",
       "    }\n",
       "\n",
       "    .dataframe tbody tr th {\n",
       "        vertical-align: top;\n",
       "    }\n",
       "\n",
       "    .dataframe thead th {\n",
       "        text-align: right;\n",
       "    }\n",
       "</style>\n",
       "<table border=\"1\" class=\"dataframe\">\n",
       "  <thead>\n",
       "    <tr style=\"text-align: right;\">\n",
       "      <th></th>\n",
       "      <th>Index</th>\n",
       "      <th>Title</th>\n",
       "      <th>Artist</th>\n",
       "      <th>Top Genre</th>\n",
       "      <th>Year</th>\n",
       "      <th>Beats Per Minute (BPM)</th>\n",
       "      <th>Energy</th>\n",
       "      <th>Danceability</th>\n",
       "      <th>Loudness (dB)</th>\n",
       "      <th>Liveness</th>\n",
       "      <th>Valence</th>\n",
       "      <th>Length (Duration)</th>\n",
       "      <th>Acousticness</th>\n",
       "      <th>Speechiness</th>\n",
       "      <th>Popularity</th>\n",
       "    </tr>\n",
       "  </thead>\n",
       "  <tbody>\n",
       "    <tr>\n",
       "      <th>0</th>\n",
       "      <td>1</td>\n",
       "      <td>Sunrise</td>\n",
       "      <td>Norah Jones</td>\n",
       "      <td>adult standards</td>\n",
       "      <td>2004</td>\n",
       "      <td>157</td>\n",
       "      <td>30</td>\n",
       "      <td>53</td>\n",
       "      <td>-14</td>\n",
       "      <td>11</td>\n",
       "      <td>68</td>\n",
       "      <td>201</td>\n",
       "      <td>94</td>\n",
       "      <td>3</td>\n",
       "      <td>71</td>\n",
       "    </tr>\n",
       "    <tr>\n",
       "      <th>1</th>\n",
       "      <td>2</td>\n",
       "      <td>Black Night</td>\n",
       "      <td>Deep Purple</td>\n",
       "      <td>album rock</td>\n",
       "      <td>2000</td>\n",
       "      <td>135</td>\n",
       "      <td>79</td>\n",
       "      <td>50</td>\n",
       "      <td>-11</td>\n",
       "      <td>17</td>\n",
       "      <td>81</td>\n",
       "      <td>207</td>\n",
       "      <td>17</td>\n",
       "      <td>7</td>\n",
       "      <td>39</td>\n",
       "    </tr>\n",
       "    <tr>\n",
       "      <th>2</th>\n",
       "      <td>3</td>\n",
       "      <td>Clint Eastwood</td>\n",
       "      <td>Gorillaz</td>\n",
       "      <td>alternative hip hop</td>\n",
       "      <td>2001</td>\n",
       "      <td>168</td>\n",
       "      <td>69</td>\n",
       "      <td>66</td>\n",
       "      <td>-9</td>\n",
       "      <td>7</td>\n",
       "      <td>52</td>\n",
       "      <td>341</td>\n",
       "      <td>2</td>\n",
       "      <td>17</td>\n",
       "      <td>69</td>\n",
       "    </tr>\n",
       "    <tr>\n",
       "      <th>3</th>\n",
       "      <td>4</td>\n",
       "      <td>The Pretender</td>\n",
       "      <td>Foo Fighters</td>\n",
       "      <td>alternative metal</td>\n",
       "      <td>2007</td>\n",
       "      <td>173</td>\n",
       "      <td>96</td>\n",
       "      <td>43</td>\n",
       "      <td>-4</td>\n",
       "      <td>3</td>\n",
       "      <td>37</td>\n",
       "      <td>269</td>\n",
       "      <td>0</td>\n",
       "      <td>4</td>\n",
       "      <td>76</td>\n",
       "    </tr>\n",
       "    <tr>\n",
       "      <th>4</th>\n",
       "      <td>5</td>\n",
       "      <td>Waitin' On A Sunny Day</td>\n",
       "      <td>Bruce Springsteen</td>\n",
       "      <td>classic rock</td>\n",
       "      <td>2002</td>\n",
       "      <td>106</td>\n",
       "      <td>82</td>\n",
       "      <td>58</td>\n",
       "      <td>-5</td>\n",
       "      <td>10</td>\n",
       "      <td>87</td>\n",
       "      <td>256</td>\n",
       "      <td>1</td>\n",
       "      <td>3</td>\n",
       "      <td>59</td>\n",
       "    </tr>\n",
       "  </tbody>\n",
       "</table>\n",
       "</div>"
      ],
      "text/plain": [
       "   Index                   Title             Artist            Top Genre  \\\n",
       "0      1                 Sunrise        Norah Jones      adult standards   \n",
       "1      2             Black Night        Deep Purple           album rock   \n",
       "2      3          Clint Eastwood           Gorillaz  alternative hip hop   \n",
       "3      4           The Pretender       Foo Fighters    alternative metal   \n",
       "4      5  Waitin' On A Sunny Day  Bruce Springsteen         classic rock   \n",
       "\n",
       "   Year  Beats Per Minute (BPM)  Energy  Danceability  Loudness (dB)  \\\n",
       "0  2004                     157      30            53            -14   \n",
       "1  2000                     135      79            50            -11   \n",
       "2  2001                     168      69            66             -9   \n",
       "3  2007                     173      96            43             -4   \n",
       "4  2002                     106      82            58             -5   \n",
       "\n",
       "   Liveness  Valence Length (Duration)  Acousticness  Speechiness  Popularity  \n",
       "0        11       68               201            94            3          71  \n",
       "1        17       81               207            17            7          39  \n",
       "2         7       52               341             2           17          69  \n",
       "3         3       37               269             0            4          76  \n",
       "4        10       87               256             1            3          59  "
      ]
     },
     "execution_count": 233,
     "metadata": {},
     "output_type": "execute_result"
    }
   ],
   "source": [
    "spotify_2k.head()"
   ]
  },
  {
   "cell_type": "code",
   "execution_count": 234,
   "metadata": {},
   "outputs": [
    {
     "name": "stdout",
     "output_type": "stream",
     "text": [
      "<class 'pandas.core.frame.DataFrame'>\n",
      "RangeIndex: 1994 entries, 0 to 1993\n",
      "Data columns (total 15 columns):\n",
      " #   Column                  Non-Null Count  Dtype \n",
      "---  ------                  --------------  ----- \n",
      " 0   Index                   1994 non-null   int64 \n",
      " 1   Title                   1994 non-null   object\n",
      " 2   Artist                  1994 non-null   object\n",
      " 3   Top Genre               1994 non-null   object\n",
      " 4   Year                    1994 non-null   int64 \n",
      " 5   Beats Per Minute (BPM)  1994 non-null   int64 \n",
      " 6   Energy                  1994 non-null   int64 \n",
      " 7   Danceability            1994 non-null   int64 \n",
      " 8   Loudness (dB)           1994 non-null   int64 \n",
      " 9   Liveness                1994 non-null   int64 \n",
      " 10  Valence                 1994 non-null   int64 \n",
      " 11  Length (Duration)       1994 non-null   object\n",
      " 12  Acousticness            1994 non-null   int64 \n",
      " 13  Speechiness             1994 non-null   int64 \n",
      " 14  Popularity              1994 non-null   int64 \n",
      "dtypes: int64(11), object(4)\n",
      "memory usage: 233.8+ KB\n"
     ]
    }
   ],
   "source": [
    "spotify_2k.info()"
   ]
  },
  {
   "cell_type": "code",
   "execution_count": 235,
   "metadata": {},
   "outputs": [
    {
     "data": {
      "text/html": [
       "<div>\n",
       "<style scoped>\n",
       "    .dataframe tbody tr th:only-of-type {\n",
       "        vertical-align: middle;\n",
       "    }\n",
       "\n",
       "    .dataframe tbody tr th {\n",
       "        vertical-align: top;\n",
       "    }\n",
       "\n",
       "    .dataframe thead th {\n",
       "        text-align: right;\n",
       "    }\n",
       "</style>\n",
       "<table border=\"1\" class=\"dataframe\">\n",
       "  <thead>\n",
       "    <tr style=\"text-align: right;\">\n",
       "      <th></th>\n",
       "      <th>count</th>\n",
       "      <th>mean</th>\n",
       "      <th>std</th>\n",
       "      <th>min</th>\n",
       "      <th>25%</th>\n",
       "      <th>50%</th>\n",
       "      <th>75%</th>\n",
       "      <th>max</th>\n",
       "    </tr>\n",
       "  </thead>\n",
       "  <tbody>\n",
       "    <tr>\n",
       "      <th>Index</th>\n",
       "      <td>1994.0</td>\n",
       "      <td>997.500000</td>\n",
       "      <td>575.762538</td>\n",
       "      <td>1.0</td>\n",
       "      <td>499.25</td>\n",
       "      <td>997.5</td>\n",
       "      <td>1495.75</td>\n",
       "      <td>1994.0</td>\n",
       "    </tr>\n",
       "    <tr>\n",
       "      <th>Year</th>\n",
       "      <td>1994.0</td>\n",
       "      <td>1992.992979</td>\n",
       "      <td>16.116048</td>\n",
       "      <td>1956.0</td>\n",
       "      <td>1979.00</td>\n",
       "      <td>1993.0</td>\n",
       "      <td>2007.00</td>\n",
       "      <td>2019.0</td>\n",
       "    </tr>\n",
       "    <tr>\n",
       "      <th>Beats Per Minute (BPM)</th>\n",
       "      <td>1994.0</td>\n",
       "      <td>120.215647</td>\n",
       "      <td>28.028096</td>\n",
       "      <td>37.0</td>\n",
       "      <td>99.00</td>\n",
       "      <td>119.0</td>\n",
       "      <td>136.00</td>\n",
       "      <td>206.0</td>\n",
       "    </tr>\n",
       "    <tr>\n",
       "      <th>Energy</th>\n",
       "      <td>1994.0</td>\n",
       "      <td>59.679539</td>\n",
       "      <td>22.154322</td>\n",
       "      <td>3.0</td>\n",
       "      <td>42.00</td>\n",
       "      <td>61.0</td>\n",
       "      <td>78.00</td>\n",
       "      <td>100.0</td>\n",
       "    </tr>\n",
       "    <tr>\n",
       "      <th>Danceability</th>\n",
       "      <td>1994.0</td>\n",
       "      <td>53.238215</td>\n",
       "      <td>15.351507</td>\n",
       "      <td>10.0</td>\n",
       "      <td>43.00</td>\n",
       "      <td>53.0</td>\n",
       "      <td>64.00</td>\n",
       "      <td>96.0</td>\n",
       "    </tr>\n",
       "    <tr>\n",
       "      <th>Loudness (dB)</th>\n",
       "      <td>1994.0</td>\n",
       "      <td>-9.008526</td>\n",
       "      <td>3.647876</td>\n",
       "      <td>-27.0</td>\n",
       "      <td>-11.00</td>\n",
       "      <td>-8.0</td>\n",
       "      <td>-6.00</td>\n",
       "      <td>-2.0</td>\n",
       "    </tr>\n",
       "    <tr>\n",
       "      <th>Liveness</th>\n",
       "      <td>1994.0</td>\n",
       "      <td>19.012036</td>\n",
       "      <td>16.727378</td>\n",
       "      <td>2.0</td>\n",
       "      <td>9.00</td>\n",
       "      <td>12.0</td>\n",
       "      <td>23.00</td>\n",
       "      <td>99.0</td>\n",
       "    </tr>\n",
       "    <tr>\n",
       "      <th>Valence</th>\n",
       "      <td>1994.0</td>\n",
       "      <td>49.408726</td>\n",
       "      <td>24.858212</td>\n",
       "      <td>3.0</td>\n",
       "      <td>29.00</td>\n",
       "      <td>47.0</td>\n",
       "      <td>69.75</td>\n",
       "      <td>99.0</td>\n",
       "    </tr>\n",
       "    <tr>\n",
       "      <th>Acousticness</th>\n",
       "      <td>1994.0</td>\n",
       "      <td>28.858074</td>\n",
       "      <td>29.011986</td>\n",
       "      <td>0.0</td>\n",
       "      <td>3.00</td>\n",
       "      <td>18.0</td>\n",
       "      <td>50.00</td>\n",
       "      <td>99.0</td>\n",
       "    </tr>\n",
       "    <tr>\n",
       "      <th>Speechiness</th>\n",
       "      <td>1994.0</td>\n",
       "      <td>4.994985</td>\n",
       "      <td>4.401566</td>\n",
       "      <td>2.0</td>\n",
       "      <td>3.00</td>\n",
       "      <td>4.0</td>\n",
       "      <td>5.00</td>\n",
       "      <td>55.0</td>\n",
       "    </tr>\n",
       "    <tr>\n",
       "      <th>Popularity</th>\n",
       "      <td>1994.0</td>\n",
       "      <td>59.526580</td>\n",
       "      <td>14.351600</td>\n",
       "      <td>11.0</td>\n",
       "      <td>49.25</td>\n",
       "      <td>62.0</td>\n",
       "      <td>71.00</td>\n",
       "      <td>100.0</td>\n",
       "    </tr>\n",
       "  </tbody>\n",
       "</table>\n",
       "</div>"
      ],
      "text/plain": [
       "                         count         mean         std     min      25%  \\\n",
       "Index                   1994.0   997.500000  575.762538     1.0   499.25   \n",
       "Year                    1994.0  1992.992979   16.116048  1956.0  1979.00   \n",
       "Beats Per Minute (BPM)  1994.0   120.215647   28.028096    37.0    99.00   \n",
       "Energy                  1994.0    59.679539   22.154322     3.0    42.00   \n",
       "Danceability            1994.0    53.238215   15.351507    10.0    43.00   \n",
       "Loudness (dB)           1994.0    -9.008526    3.647876   -27.0   -11.00   \n",
       "Liveness                1994.0    19.012036   16.727378     2.0     9.00   \n",
       "Valence                 1994.0    49.408726   24.858212     3.0    29.00   \n",
       "Acousticness            1994.0    28.858074   29.011986     0.0     3.00   \n",
       "Speechiness             1994.0     4.994985    4.401566     2.0     3.00   \n",
       "Popularity              1994.0    59.526580   14.351600    11.0    49.25   \n",
       "\n",
       "                           50%      75%     max  \n",
       "Index                    997.5  1495.75  1994.0  \n",
       "Year                    1993.0  2007.00  2019.0  \n",
       "Beats Per Minute (BPM)   119.0   136.00   206.0  \n",
       "Energy                    61.0    78.00   100.0  \n",
       "Danceability              53.0    64.00    96.0  \n",
       "Loudness (dB)             -8.0    -6.00    -2.0  \n",
       "Liveness                  12.0    23.00    99.0  \n",
       "Valence                   47.0    69.75    99.0  \n",
       "Acousticness              18.0    50.00    99.0  \n",
       "Speechiness                4.0     5.00    55.0  \n",
       "Popularity                62.0    71.00   100.0  "
      ]
     },
     "execution_count": 235,
     "metadata": {},
     "output_type": "execute_result"
    }
   ],
   "source": [
    "numerical_stats = spotify_2k.describe()\n",
    "\n",
    "numerical_stats.transpose()"
   ]
  },
  {
   "cell_type": "code",
   "execution_count": 236,
   "metadata": {},
   "outputs": [
    {
     "data": {
      "text/plain": [
       "Artist\n",
       "Queen                 37\n",
       "The Beatles           36\n",
       "Coldplay              27\n",
       "U2                    26\n",
       "The Rolling Stones    24\n",
       "Michael Jackson       23\n",
       "Bruce Springsteen     23\n",
       "ABBA                  22\n",
       "David Bowie           21\n",
       "Fleetwood Mac         18\n",
       "Name: count, dtype: int64"
      ]
     },
     "execution_count": 236,
     "metadata": {},
     "output_type": "execute_result"
    }
   ],
   "source": [
    "# Let's find out the top 10 artists with the most tracks in the dataset\n",
    "top_artists = spotify_2k['Artist'].value_counts().head(10)\n",
    "\n",
    "top_artists"
   ]
  },
  {
   "cell_type": "code",
   "execution_count": 237,
   "metadata": {},
   "outputs": [
    {
     "data": {
      "application/vnd.plotly.v1+json": {
       "config": {
        "plotlyServerURL": "https://plot.ly"
       },
       "data": [
        {
         "alignmentgroup": "True",
         "hovertemplate": "Count=%{marker.color}<br>Artist=%{y}<extra></extra>",
         "legendgroup": "",
         "marker": {
          "color": [
           37,
           36,
           27,
           26,
           24,
           23,
           23,
           22,
           21,
           18
          ],
          "coloraxis": "coloraxis",
          "pattern": {
           "shape": ""
          }
         },
         "name": "",
         "offsetgroup": "",
         "orientation": "h",
         "showlegend": false,
         "text": [
          37,
          36,
          27,
          26,
          24,
          23,
          23,
          22,
          21,
          18
         ],
         "textposition": "outside",
         "texttemplate": "%{text}",
         "type": "bar",
         "x": [
          37,
          36,
          27,
          26,
          24,
          23,
          23,
          22,
          21,
          18
         ],
         "xaxis": "x",
         "y": [
          "Queen",
          "The Beatles",
          "Coldplay",
          "U2",
          "The Rolling Stones",
          "Michael Jackson",
          "Bruce Springsteen",
          "ABBA",
          "David Bowie",
          "Fleetwood Mac"
         ],
         "yaxis": "y"
        }
       ],
       "layout": {
        "barmode": "relative",
        "coloraxis": {
         "colorbar": {
          "title": {
           "text": "Count"
          }
         },
         "colorscale": [
          [
           0,
           "rgb(75, 41, 145)"
          ],
          [
           0.16666666666666666,
           "rgb(135, 44, 162)"
          ],
          [
           0.3333333333333333,
           "rgb(192, 54, 157)"
          ],
          [
           0.5,
           "rgb(234, 79, 136)"
          ],
          [
           0.6666666666666666,
           "rgb(250, 120, 118)"
          ],
          [
           0.8333333333333334,
           "rgb(246, 169, 122)"
          ],
          [
           1,
           "rgb(237, 217, 163)"
          ]
         ],
         "showscale": true
        },
        "legend": {
         "tracegroupgap": 0
        },
        "template": {
         "data": {
          "bar": [
           {
            "error_x": {
             "color": "#f2f5fa"
            },
            "error_y": {
             "color": "#f2f5fa"
            },
            "marker": {
             "line": {
              "color": "rgb(17,17,17)",
              "width": 0.5
             },
             "pattern": {
              "fillmode": "overlay",
              "size": 10,
              "solidity": 0.2
             }
            },
            "type": "bar"
           }
          ],
          "barpolar": [
           {
            "marker": {
             "line": {
              "color": "rgb(17,17,17)",
              "width": 0.5
             },
             "pattern": {
              "fillmode": "overlay",
              "size": 10,
              "solidity": 0.2
             }
            },
            "type": "barpolar"
           }
          ],
          "carpet": [
           {
            "aaxis": {
             "endlinecolor": "#A2B1C6",
             "gridcolor": "#506784",
             "linecolor": "#506784",
             "minorgridcolor": "#506784",
             "startlinecolor": "#A2B1C6"
            },
            "baxis": {
             "endlinecolor": "#A2B1C6",
             "gridcolor": "#506784",
             "linecolor": "#506784",
             "minorgridcolor": "#506784",
             "startlinecolor": "#A2B1C6"
            },
            "type": "carpet"
           }
          ],
          "choropleth": [
           {
            "colorbar": {
             "outlinewidth": 0,
             "ticks": ""
            },
            "type": "choropleth"
           }
          ],
          "contour": [
           {
            "colorbar": {
             "outlinewidth": 0,
             "ticks": ""
            },
            "colorscale": [
             [
              0,
              "#0d0887"
             ],
             [
              0.1111111111111111,
              "#46039f"
             ],
             [
              0.2222222222222222,
              "#7201a8"
             ],
             [
              0.3333333333333333,
              "#9c179e"
             ],
             [
              0.4444444444444444,
              "#bd3786"
             ],
             [
              0.5555555555555556,
              "#d8576b"
             ],
             [
              0.6666666666666666,
              "#ed7953"
             ],
             [
              0.7777777777777778,
              "#fb9f3a"
             ],
             [
              0.8888888888888888,
              "#fdca26"
             ],
             [
              1,
              "#f0f921"
             ]
            ],
            "type": "contour"
           }
          ],
          "contourcarpet": [
           {
            "colorbar": {
             "outlinewidth": 0,
             "ticks": ""
            },
            "type": "contourcarpet"
           }
          ],
          "heatmap": [
           {
            "colorbar": {
             "outlinewidth": 0,
             "ticks": ""
            },
            "colorscale": [
             [
              0,
              "#0d0887"
             ],
             [
              0.1111111111111111,
              "#46039f"
             ],
             [
              0.2222222222222222,
              "#7201a8"
             ],
             [
              0.3333333333333333,
              "#9c179e"
             ],
             [
              0.4444444444444444,
              "#bd3786"
             ],
             [
              0.5555555555555556,
              "#d8576b"
             ],
             [
              0.6666666666666666,
              "#ed7953"
             ],
             [
              0.7777777777777778,
              "#fb9f3a"
             ],
             [
              0.8888888888888888,
              "#fdca26"
             ],
             [
              1,
              "#f0f921"
             ]
            ],
            "type": "heatmap"
           }
          ],
          "heatmapgl": [
           {
            "colorbar": {
             "outlinewidth": 0,
             "ticks": ""
            },
            "colorscale": [
             [
              0,
              "#0d0887"
             ],
             [
              0.1111111111111111,
              "#46039f"
             ],
             [
              0.2222222222222222,
              "#7201a8"
             ],
             [
              0.3333333333333333,
              "#9c179e"
             ],
             [
              0.4444444444444444,
              "#bd3786"
             ],
             [
              0.5555555555555556,
              "#d8576b"
             ],
             [
              0.6666666666666666,
              "#ed7953"
             ],
             [
              0.7777777777777778,
              "#fb9f3a"
             ],
             [
              0.8888888888888888,
              "#fdca26"
             ],
             [
              1,
              "#f0f921"
             ]
            ],
            "type": "heatmapgl"
           }
          ],
          "histogram": [
           {
            "marker": {
             "pattern": {
              "fillmode": "overlay",
              "size": 10,
              "solidity": 0.2
             }
            },
            "type": "histogram"
           }
          ],
          "histogram2d": [
           {
            "colorbar": {
             "outlinewidth": 0,
             "ticks": ""
            },
            "colorscale": [
             [
              0,
              "#0d0887"
             ],
             [
              0.1111111111111111,
              "#46039f"
             ],
             [
              0.2222222222222222,
              "#7201a8"
             ],
             [
              0.3333333333333333,
              "#9c179e"
             ],
             [
              0.4444444444444444,
              "#bd3786"
             ],
             [
              0.5555555555555556,
              "#d8576b"
             ],
             [
              0.6666666666666666,
              "#ed7953"
             ],
             [
              0.7777777777777778,
              "#fb9f3a"
             ],
             [
              0.8888888888888888,
              "#fdca26"
             ],
             [
              1,
              "#f0f921"
             ]
            ],
            "type": "histogram2d"
           }
          ],
          "histogram2dcontour": [
           {
            "colorbar": {
             "outlinewidth": 0,
             "ticks": ""
            },
            "colorscale": [
             [
              0,
              "#0d0887"
             ],
             [
              0.1111111111111111,
              "#46039f"
             ],
             [
              0.2222222222222222,
              "#7201a8"
             ],
             [
              0.3333333333333333,
              "#9c179e"
             ],
             [
              0.4444444444444444,
              "#bd3786"
             ],
             [
              0.5555555555555556,
              "#d8576b"
             ],
             [
              0.6666666666666666,
              "#ed7953"
             ],
             [
              0.7777777777777778,
              "#fb9f3a"
             ],
             [
              0.8888888888888888,
              "#fdca26"
             ],
             [
              1,
              "#f0f921"
             ]
            ],
            "type": "histogram2dcontour"
           }
          ],
          "mesh3d": [
           {
            "colorbar": {
             "outlinewidth": 0,
             "ticks": ""
            },
            "type": "mesh3d"
           }
          ],
          "parcoords": [
           {
            "line": {
             "colorbar": {
              "outlinewidth": 0,
              "ticks": ""
             }
            },
            "type": "parcoords"
           }
          ],
          "pie": [
           {
            "automargin": true,
            "type": "pie"
           }
          ],
          "scatter": [
           {
            "marker": {
             "line": {
              "color": "#283442"
             }
            },
            "type": "scatter"
           }
          ],
          "scatter3d": [
           {
            "line": {
             "colorbar": {
              "outlinewidth": 0,
              "ticks": ""
             }
            },
            "marker": {
             "colorbar": {
              "outlinewidth": 0,
              "ticks": ""
             }
            },
            "type": "scatter3d"
           }
          ],
          "scattercarpet": [
           {
            "marker": {
             "colorbar": {
              "outlinewidth": 0,
              "ticks": ""
             }
            },
            "type": "scattercarpet"
           }
          ],
          "scattergeo": [
           {
            "marker": {
             "colorbar": {
              "outlinewidth": 0,
              "ticks": ""
             }
            },
            "type": "scattergeo"
           }
          ],
          "scattergl": [
           {
            "marker": {
             "line": {
              "color": "#283442"
             }
            },
            "type": "scattergl"
           }
          ],
          "scattermapbox": [
           {
            "marker": {
             "colorbar": {
              "outlinewidth": 0,
              "ticks": ""
             }
            },
            "type": "scattermapbox"
           }
          ],
          "scatterpolar": [
           {
            "marker": {
             "colorbar": {
              "outlinewidth": 0,
              "ticks": ""
             }
            },
            "type": "scatterpolar"
           }
          ],
          "scatterpolargl": [
           {
            "marker": {
             "colorbar": {
              "outlinewidth": 0,
              "ticks": ""
             }
            },
            "type": "scatterpolargl"
           }
          ],
          "scatterternary": [
           {
            "marker": {
             "colorbar": {
              "outlinewidth": 0,
              "ticks": ""
             }
            },
            "type": "scatterternary"
           }
          ],
          "surface": [
           {
            "colorbar": {
             "outlinewidth": 0,
             "ticks": ""
            },
            "colorscale": [
             [
              0,
              "#0d0887"
             ],
             [
              0.1111111111111111,
              "#46039f"
             ],
             [
              0.2222222222222222,
              "#7201a8"
             ],
             [
              0.3333333333333333,
              "#9c179e"
             ],
             [
              0.4444444444444444,
              "#bd3786"
             ],
             [
              0.5555555555555556,
              "#d8576b"
             ],
             [
              0.6666666666666666,
              "#ed7953"
             ],
             [
              0.7777777777777778,
              "#fb9f3a"
             ],
             [
              0.8888888888888888,
              "#fdca26"
             ],
             [
              1,
              "#f0f921"
             ]
            ],
            "type": "surface"
           }
          ],
          "table": [
           {
            "cells": {
             "fill": {
              "color": "#506784"
             },
             "line": {
              "color": "rgb(17,17,17)"
             }
            },
            "header": {
             "fill": {
              "color": "#2a3f5f"
             },
             "line": {
              "color": "rgb(17,17,17)"
             }
            },
            "type": "table"
           }
          ]
         },
         "layout": {
          "annotationdefaults": {
           "arrowcolor": "#f2f5fa",
           "arrowhead": 0,
           "arrowwidth": 1
          },
          "autotypenumbers": "strict",
          "coloraxis": {
           "colorbar": {
            "outlinewidth": 0,
            "ticks": ""
           }
          },
          "colorscale": {
           "diverging": [
            [
             0,
             "#8e0152"
            ],
            [
             0.1,
             "#c51b7d"
            ],
            [
             0.2,
             "#de77ae"
            ],
            [
             0.3,
             "#f1b6da"
            ],
            [
             0.4,
             "#fde0ef"
            ],
            [
             0.5,
             "#f7f7f7"
            ],
            [
             0.6,
             "#e6f5d0"
            ],
            [
             0.7,
             "#b8e186"
            ],
            [
             0.8,
             "#7fbc41"
            ],
            [
             0.9,
             "#4d9221"
            ],
            [
             1,
             "#276419"
            ]
           ],
           "sequential": [
            [
             0,
             "#0d0887"
            ],
            [
             0.1111111111111111,
             "#46039f"
            ],
            [
             0.2222222222222222,
             "#7201a8"
            ],
            [
             0.3333333333333333,
             "#9c179e"
            ],
            [
             0.4444444444444444,
             "#bd3786"
            ],
            [
             0.5555555555555556,
             "#d8576b"
            ],
            [
             0.6666666666666666,
             "#ed7953"
            ],
            [
             0.7777777777777778,
             "#fb9f3a"
            ],
            [
             0.8888888888888888,
             "#fdca26"
            ],
            [
             1,
             "#f0f921"
            ]
           ],
           "sequentialminus": [
            [
             0,
             "#0d0887"
            ],
            [
             0.1111111111111111,
             "#46039f"
            ],
            [
             0.2222222222222222,
             "#7201a8"
            ],
            [
             0.3333333333333333,
             "#9c179e"
            ],
            [
             0.4444444444444444,
             "#bd3786"
            ],
            [
             0.5555555555555556,
             "#d8576b"
            ],
            [
             0.6666666666666666,
             "#ed7953"
            ],
            [
             0.7777777777777778,
             "#fb9f3a"
            ],
            [
             0.8888888888888888,
             "#fdca26"
            ],
            [
             1,
             "#f0f921"
            ]
           ]
          },
          "colorway": [
           "#636efa",
           "#EF553B",
           "#00cc96",
           "#ab63fa",
           "#FFA15A",
           "#19d3f3",
           "#FF6692",
           "#B6E880",
           "#FF97FF",
           "#FECB52"
          ],
          "font": {
           "color": "#f2f5fa"
          },
          "geo": {
           "bgcolor": "rgb(17,17,17)",
           "lakecolor": "rgb(17,17,17)",
           "landcolor": "rgb(17,17,17)",
           "showlakes": true,
           "showland": true,
           "subunitcolor": "#506784"
          },
          "hoverlabel": {
           "align": "left"
          },
          "hovermode": "closest",
          "mapbox": {
           "style": "dark"
          },
          "paper_bgcolor": "rgb(17,17,17)",
          "plot_bgcolor": "rgb(17,17,17)",
          "polar": {
           "angularaxis": {
            "gridcolor": "#506784",
            "linecolor": "#506784",
            "ticks": ""
           },
           "bgcolor": "rgb(17,17,17)",
           "radialaxis": {
            "gridcolor": "#506784",
            "linecolor": "#506784",
            "ticks": ""
           }
          },
          "scene": {
           "xaxis": {
            "backgroundcolor": "rgb(17,17,17)",
            "gridcolor": "#506784",
            "gridwidth": 2,
            "linecolor": "#506784",
            "showbackground": true,
            "ticks": "",
            "zerolinecolor": "#C8D4E3"
           },
           "yaxis": {
            "backgroundcolor": "rgb(17,17,17)",
            "gridcolor": "#506784",
            "gridwidth": 2,
            "linecolor": "#506784",
            "showbackground": true,
            "ticks": "",
            "zerolinecolor": "#C8D4E3"
           },
           "zaxis": {
            "backgroundcolor": "rgb(17,17,17)",
            "gridcolor": "#506784",
            "gridwidth": 2,
            "linecolor": "#506784",
            "showbackground": true,
            "ticks": "",
            "zerolinecolor": "#C8D4E3"
           }
          },
          "shapedefaults": {
           "line": {
            "color": "#f2f5fa"
           }
          },
          "sliderdefaults": {
           "bgcolor": "#C8D4E3",
           "bordercolor": "rgb(17,17,17)",
           "borderwidth": 1,
           "tickwidth": 0
          },
          "ternary": {
           "aaxis": {
            "gridcolor": "#506784",
            "linecolor": "#506784",
            "ticks": ""
           },
           "baxis": {
            "gridcolor": "#506784",
            "linecolor": "#506784",
            "ticks": ""
           },
           "bgcolor": "rgb(17,17,17)",
           "caxis": {
            "gridcolor": "#506784",
            "linecolor": "#506784",
            "ticks": ""
           }
          },
          "title": {
           "x": 0.05
          },
          "updatemenudefaults": {
           "bgcolor": "#506784",
           "borderwidth": 0
          },
          "xaxis": {
           "automargin": true,
           "gridcolor": "#283442",
           "linecolor": "#506784",
           "ticks": "",
           "title": {
            "standoff": 15
           },
           "zerolinecolor": "#283442",
           "zerolinewidth": 2
          },
          "yaxis": {
           "automargin": true,
           "gridcolor": "#283442",
           "linecolor": "#506784",
           "ticks": "",
           "title": {
            "standoff": 15
           },
           "zerolinecolor": "#283442",
           "zerolinewidth": 2
          }
         }
        },
        "title": {
         "text": "2000's Top 10 Artists by Count"
        },
        "xaxis": {
         "anchor": "y",
         "domain": [
          0,
          1
         ],
         "title": {
          "text": "Count"
         }
        },
        "yaxis": {
         "anchor": "x",
         "categoryorder": "total ascending",
         "domain": [
          0,
          1
         ],
         "title": {
          "text": ""
         }
        }
       }
      }
     },
     "metadata": {},
     "output_type": "display_data"
    }
   ],
   "source": [
    "top_artists_df = top_artists.reset_index()\n",
    "top_artists_df.columns = ['Artist', 'Count']\n",
    "\n",
    "# Create a bar chart\n",
    "fig = px.bar(top_artists_df, x='Count', y='Artist', text='Count', orientation='h',\n",
    "             title=\"2000's Top 10 Artists by Count\",\n",
    "             labels={'Count': 'Count', 'Artist': 'Artist'},\n",
    "             color='Count',  # Color the bars by the count\n",
    "             color_continuous_scale='Agsunset')\n",
    "\n",
    "# Improve layout\n",
    "fig.update_layout(\n",
    "    xaxis_title=\"Count\",\n",
    "    yaxis_title=\"\",\n",
    "    coloraxis_showscale=True,  # Hide the color scale\n",
    "    yaxis={'categoryorder':'total ascending'},  # Ensure the highest values are on top\n",
    "    template='plotly_dark'\n",
    ")\n",
    "\n",
    "fig.update_traces(texttemplate='%{text}', textposition='outside')\n",
    "fig.show()"
   ]
  },
  {
   "cell_type": "code",
   "execution_count": 238,
   "metadata": {},
   "outputs": [],
   "source": [
    "characteristics = ['Danceability', 'Energy', 'Loudness (dB)', 'Speechiness', 'Acousticness', 'Popularity', 'Liveness', 'Valence', 'Beats Per Minute (BPM)']\n"
   ]
  },
  {
   "cell_type": "code",
   "execution_count": 239,
   "metadata": {},
   "outputs": [
    {
     "data": {
      "text/html": [
       "<div>\n",
       "<style scoped>\n",
       "    .dataframe tbody tr th:only-of-type {\n",
       "        vertical-align: middle;\n",
       "    }\n",
       "\n",
       "    .dataframe tbody tr th {\n",
       "        vertical-align: top;\n",
       "    }\n",
       "\n",
       "    .dataframe thead th {\n",
       "        text-align: right;\n",
       "    }\n",
       "</style>\n",
       "<table border=\"1\" class=\"dataframe\">\n",
       "  <thead>\n",
       "    <tr style=\"text-align: right;\">\n",
       "      <th></th>\n",
       "      <th>Danceability</th>\n",
       "      <th>Energy</th>\n",
       "      <th>Loudness (dB)</th>\n",
       "      <th>Speechiness</th>\n",
       "      <th>Acousticness</th>\n",
       "      <th>Popularity</th>\n",
       "      <th>Liveness</th>\n",
       "      <th>Valence</th>\n",
       "      <th>Beats Per Minute (BPM)</th>\n",
       "    </tr>\n",
       "  </thead>\n",
       "  <tbody>\n",
       "    <tr>\n",
       "      <th>Danceability</th>\n",
       "      <td>1.000000</td>\n",
       "      <td>0.139616</td>\n",
       "      <td>0.044235</td>\n",
       "      <td>0.125229</td>\n",
       "      <td>-0.135769</td>\n",
       "      <td>0.144344</td>\n",
       "      <td>-0.103063</td>\n",
       "      <td>0.514564</td>\n",
       "      <td>-0.140602</td>\n",
       "    </tr>\n",
       "    <tr>\n",
       "      <th>Energy</th>\n",
       "      <td>0.139616</td>\n",
       "      <td>1.000000</td>\n",
       "      <td>0.735711</td>\n",
       "      <td>0.205865</td>\n",
       "      <td>-0.665156</td>\n",
       "      <td>0.103393</td>\n",
       "      <td>0.174118</td>\n",
       "      <td>0.405175</td>\n",
       "      <td>0.156644</td>\n",
       "    </tr>\n",
       "    <tr>\n",
       "      <th>Loudness (dB)</th>\n",
       "      <td>0.044235</td>\n",
       "      <td>0.735711</td>\n",
       "      <td>1.000000</td>\n",
       "      <td>0.125090</td>\n",
       "      <td>-0.451635</td>\n",
       "      <td>0.165527</td>\n",
       "      <td>0.098257</td>\n",
       "      <td>0.147041</td>\n",
       "      <td>0.092927</td>\n",
       "    </tr>\n",
       "    <tr>\n",
       "      <th>Speechiness</th>\n",
       "      <td>0.125229</td>\n",
       "      <td>0.205865</td>\n",
       "      <td>0.125090</td>\n",
       "      <td>1.000000</td>\n",
       "      <td>-0.098256</td>\n",
       "      <td>0.111689</td>\n",
       "      <td>0.092594</td>\n",
       "      <td>0.107102</td>\n",
       "      <td>0.085598</td>\n",
       "    </tr>\n",
       "    <tr>\n",
       "      <th>Acousticness</th>\n",
       "      <td>-0.135769</td>\n",
       "      <td>-0.665156</td>\n",
       "      <td>-0.451635</td>\n",
       "      <td>-0.098256</td>\n",
       "      <td>1.000000</td>\n",
       "      <td>-0.087604</td>\n",
       "      <td>-0.046206</td>\n",
       "      <td>-0.239729</td>\n",
       "      <td>-0.122472</td>\n",
       "    </tr>\n",
       "    <tr>\n",
       "      <th>Popularity</th>\n",
       "      <td>0.144344</td>\n",
       "      <td>0.103393</td>\n",
       "      <td>0.165527</td>\n",
       "      <td>0.111689</td>\n",
       "      <td>-0.087604</td>\n",
       "      <td>1.000000</td>\n",
       "      <td>-0.111978</td>\n",
       "      <td>0.095911</td>\n",
       "      <td>-0.003181</td>\n",
       "    </tr>\n",
       "    <tr>\n",
       "      <th>Liveness</th>\n",
       "      <td>-0.103063</td>\n",
       "      <td>0.174118</td>\n",
       "      <td>0.098257</td>\n",
       "      <td>0.092594</td>\n",
       "      <td>-0.046206</td>\n",
       "      <td>-0.111978</td>\n",
       "      <td>1.000000</td>\n",
       "      <td>0.050667</td>\n",
       "      <td>0.016256</td>\n",
       "    </tr>\n",
       "    <tr>\n",
       "      <th>Valence</th>\n",
       "      <td>0.514564</td>\n",
       "      <td>0.405175</td>\n",
       "      <td>0.147041</td>\n",
       "      <td>0.107102</td>\n",
       "      <td>-0.239729</td>\n",
       "      <td>0.095911</td>\n",
       "      <td>0.050667</td>\n",
       "      <td>1.000000</td>\n",
       "      <td>0.059653</td>\n",
       "    </tr>\n",
       "    <tr>\n",
       "      <th>Beats Per Minute (BPM)</th>\n",
       "      <td>-0.140602</td>\n",
       "      <td>0.156644</td>\n",
       "      <td>0.092927</td>\n",
       "      <td>0.085598</td>\n",
       "      <td>-0.122472</td>\n",
       "      <td>-0.003181</td>\n",
       "      <td>0.016256</td>\n",
       "      <td>0.059653</td>\n",
       "      <td>1.000000</td>\n",
       "    </tr>\n",
       "  </tbody>\n",
       "</table>\n",
       "</div>"
      ],
      "text/plain": [
       "                        Danceability    Energy  Loudness (dB)  Speechiness  \\\n",
       "Danceability                1.000000  0.139616       0.044235     0.125229   \n",
       "Energy                      0.139616  1.000000       0.735711     0.205865   \n",
       "Loudness (dB)               0.044235  0.735711       1.000000     0.125090   \n",
       "Speechiness                 0.125229  0.205865       0.125090     1.000000   \n",
       "Acousticness               -0.135769 -0.665156      -0.451635    -0.098256   \n",
       "Popularity                  0.144344  0.103393       0.165527     0.111689   \n",
       "Liveness                   -0.103063  0.174118       0.098257     0.092594   \n",
       "Valence                     0.514564  0.405175       0.147041     0.107102   \n",
       "Beats Per Minute (BPM)     -0.140602  0.156644       0.092927     0.085598   \n",
       "\n",
       "                        Acousticness  Popularity  Liveness   Valence  \\\n",
       "Danceability               -0.135769    0.144344 -0.103063  0.514564   \n",
       "Energy                     -0.665156    0.103393  0.174118  0.405175   \n",
       "Loudness (dB)              -0.451635    0.165527  0.098257  0.147041   \n",
       "Speechiness                -0.098256    0.111689  0.092594  0.107102   \n",
       "Acousticness                1.000000   -0.087604 -0.046206 -0.239729   \n",
       "Popularity                 -0.087604    1.000000 -0.111978  0.095911   \n",
       "Liveness                   -0.046206   -0.111978  1.000000  0.050667   \n",
       "Valence                    -0.239729    0.095911  0.050667  1.000000   \n",
       "Beats Per Minute (BPM)     -0.122472   -0.003181  0.016256  0.059653   \n",
       "\n",
       "                        Beats Per Minute (BPM)  \n",
       "Danceability                         -0.140602  \n",
       "Energy                                0.156644  \n",
       "Loudness (dB)                         0.092927  \n",
       "Speechiness                           0.085598  \n",
       "Acousticness                         -0.122472  \n",
       "Popularity                           -0.003181  \n",
       "Liveness                              0.016256  \n",
       "Valence                               0.059653  \n",
       "Beats Per Minute (BPM)                1.000000  "
      ]
     },
     "execution_count": 239,
     "metadata": {},
     "output_type": "execute_result"
    }
   ],
   "source": [
    "# Calculate the correlation matrix for a subset of the numerical variables\n",
    "correlation_matrix = df[characteristics].corr()\n",
    "\n",
    "correlation_matrix"
   ]
  },
  {
   "cell_type": "code",
   "execution_count": 240,
   "metadata": {},
   "outputs": [
    {
     "data": {
      "application/vnd.plotly.v1+json": {
       "config": {
        "plotlyServerURL": "https://plot.ly"
       },
       "data": [
        {
         "colorscale": [
          [
           0,
           "rgb(5,48,97)"
          ],
          [
           0.1,
           "rgb(33,102,172)"
          ],
          [
           0.2,
           "rgb(67,147,195)"
          ],
          [
           0.3,
           "rgb(146,197,222)"
          ],
          [
           0.4,
           "rgb(209,229,240)"
          ],
          [
           0.5,
           "rgb(247,247,247)"
          ],
          [
           0.6,
           "rgb(253,219,199)"
          ],
          [
           0.7,
           "rgb(244,165,130)"
          ],
          [
           0.8,
           "rgb(214,96,77)"
          ],
          [
           0.9,
           "rgb(178,24,43)"
          ],
          [
           1,
           "rgb(103,0,31)"
          ]
         ],
         "hoverinfo": "text",
         "text": [
          [
           "1.00",
           "0.14",
           "0.04",
           "0.13",
           "-0.14",
           "0.14",
           "-0.10",
           "0.51",
           "-0.14"
          ],
          [
           "0.14",
           "1.00",
           "0.74",
           "0.21",
           "-0.67",
           "0.10",
           "0.17",
           "0.41",
           "0.16"
          ],
          [
           "0.04",
           "0.74",
           "1.00",
           "0.13",
           "-0.45",
           "0.17",
           "0.10",
           "0.15",
           "0.09"
          ],
          [
           "0.13",
           "0.21",
           "0.13",
           "1.00",
           "-0.10",
           "0.11",
           "0.09",
           "0.11",
           "0.09"
          ],
          [
           "-0.14",
           "-0.67",
           "-0.45",
           "-0.10",
           "1.00",
           "-0.09",
           "-0.05",
           "-0.24",
           "-0.12"
          ],
          [
           "0.14",
           "0.10",
           "0.17",
           "0.11",
           "-0.09",
           "1.00",
           "-0.11",
           "0.10",
           "-0.00"
          ],
          [
           "-0.10",
           "0.17",
           "0.10",
           "0.09",
           "-0.05",
           "-0.11",
           "1.00",
           "0.05",
           "0.02"
          ],
          [
           "0.51",
           "0.41",
           "0.15",
           "0.11",
           "-0.24",
           "0.10",
           "0.05",
           "1.00",
           "0.06"
          ],
          [
           "-0.14",
           "0.16",
           "0.09",
           "0.09",
           "-0.12",
           "-0.00",
           "0.02",
           "0.06",
           "1.00"
          ]
         ],
         "texttemplate": "%{text}",
         "type": "heatmap",
         "x": [
          "Danceability",
          "Energy",
          "Loudness (dB)",
          "Speechiness",
          "Acousticness",
          "Popularity",
          "Liveness",
          "Valence",
          "Beats Per Minute (BPM)"
         ],
         "y": [
          "Danceability",
          "Energy",
          "Loudness (dB)",
          "Speechiness",
          "Acousticness",
          "Popularity",
          "Liveness",
          "Valence",
          "Beats Per Minute (BPM)"
         ],
         "z": [
          [
           1,
           0.1396162686043479,
           0.044235309635336215,
           0.12522899809358176,
           -0.13576887867975504,
           0.14434428108077849,
           -0.10306258233122113,
           0.5145637629279767,
           -0.14060233004398426
          ],
          [
           0.1396162686043479,
           1,
           0.7357108817659002,
           0.2058649947208784,
           -0.6651563552906684,
           0.10339299764848625,
           0.17411770142669897,
           0.4051747794947509,
           0.15664443533802397
          ],
          [
           0.044235309635336215,
           0.7357108817659002,
           1,
           0.1250897465623804,
           -0.45163499317781647,
           0.16552687970478908,
           0.0982570491394185,
           0.14704111570038805,
           0.09292650068545484
          ],
          [
           0.12522899809358176,
           0.2058649947208784,
           0.1250897465623804,
           1,
           -0.0982561013369275,
           0.1116887850981595,
           0.09259446704204607,
           0.10710187932547914,
           0.08559821099002002
          ],
          [
           -0.13576887867975504,
           -0.6651563552906684,
           -0.45163499317781647,
           -0.0982561013369275,
           1,
           -0.08760427211616227,
           -0.04620551060095668,
           -0.23972907462080767,
           -0.12247181327920204
          ],
          [
           0.14434428108077849,
           0.10339299764848625,
           0.16552687970478908,
           0.1116887850981595,
           -0.08760427211616227,
           1,
           -0.11197777843683474,
           0.09591082137882534,
           -0.003181354479830572
          ],
          [
           -0.10306258233122113,
           0.17411770142669897,
           0.0982570491394185,
           0.09259446704204607,
           -0.04620551060095668,
           -0.11197777843683474,
           1,
           0.050666639927266416,
           0.016256385730439703
          ],
          [
           0.5145637629279767,
           0.4051747794947509,
           0.14704111570038805,
           0.10710187932547914,
           -0.23972907462080767,
           0.09591082137882534,
           0.050666639927266416,
           1,
           0.059653223035473914
          ],
          [
           -0.14060233004398426,
           0.15664443533802397,
           0.09292650068545484,
           0.08559821099002002,
           -0.12247181327920204,
           -0.003181354479830572,
           0.016256385730439703,
           0.059653223035473914,
           1
          ]
         ],
         "zmid": 0
        }
       ],
       "layout": {
        "autosize": true,
        "margin": {
         "b": 10,
         "l": 10,
         "r": 10,
         "t": 50
        },
        "template": {
         "data": {
          "bar": [
           {
            "error_x": {
             "color": "#2a3f5f"
            },
            "error_y": {
             "color": "#2a3f5f"
            },
            "marker": {
             "line": {
              "color": "#E5ECF6",
              "width": 0.5
             },
             "pattern": {
              "fillmode": "overlay",
              "size": 10,
              "solidity": 0.2
             }
            },
            "type": "bar"
           }
          ],
          "barpolar": [
           {
            "marker": {
             "line": {
              "color": "#E5ECF6",
              "width": 0.5
             },
             "pattern": {
              "fillmode": "overlay",
              "size": 10,
              "solidity": 0.2
             }
            },
            "type": "barpolar"
           }
          ],
          "carpet": [
           {
            "aaxis": {
             "endlinecolor": "#2a3f5f",
             "gridcolor": "white",
             "linecolor": "white",
             "minorgridcolor": "white",
             "startlinecolor": "#2a3f5f"
            },
            "baxis": {
             "endlinecolor": "#2a3f5f",
             "gridcolor": "white",
             "linecolor": "white",
             "minorgridcolor": "white",
             "startlinecolor": "#2a3f5f"
            },
            "type": "carpet"
           }
          ],
          "choropleth": [
           {
            "colorbar": {
             "outlinewidth": 0,
             "ticks": ""
            },
            "type": "choropleth"
           }
          ],
          "contour": [
           {
            "colorbar": {
             "outlinewidth": 0,
             "ticks": ""
            },
            "colorscale": [
             [
              0,
              "#0d0887"
             ],
             [
              0.1111111111111111,
              "#46039f"
             ],
             [
              0.2222222222222222,
              "#7201a8"
             ],
             [
              0.3333333333333333,
              "#9c179e"
             ],
             [
              0.4444444444444444,
              "#bd3786"
             ],
             [
              0.5555555555555556,
              "#d8576b"
             ],
             [
              0.6666666666666666,
              "#ed7953"
             ],
             [
              0.7777777777777778,
              "#fb9f3a"
             ],
             [
              0.8888888888888888,
              "#fdca26"
             ],
             [
              1,
              "#f0f921"
             ]
            ],
            "type": "contour"
           }
          ],
          "contourcarpet": [
           {
            "colorbar": {
             "outlinewidth": 0,
             "ticks": ""
            },
            "type": "contourcarpet"
           }
          ],
          "heatmap": [
           {
            "colorbar": {
             "outlinewidth": 0,
             "ticks": ""
            },
            "colorscale": [
             [
              0,
              "#0d0887"
             ],
             [
              0.1111111111111111,
              "#46039f"
             ],
             [
              0.2222222222222222,
              "#7201a8"
             ],
             [
              0.3333333333333333,
              "#9c179e"
             ],
             [
              0.4444444444444444,
              "#bd3786"
             ],
             [
              0.5555555555555556,
              "#d8576b"
             ],
             [
              0.6666666666666666,
              "#ed7953"
             ],
             [
              0.7777777777777778,
              "#fb9f3a"
             ],
             [
              0.8888888888888888,
              "#fdca26"
             ],
             [
              1,
              "#f0f921"
             ]
            ],
            "type": "heatmap"
           }
          ],
          "heatmapgl": [
           {
            "colorbar": {
             "outlinewidth": 0,
             "ticks": ""
            },
            "colorscale": [
             [
              0,
              "#0d0887"
             ],
             [
              0.1111111111111111,
              "#46039f"
             ],
             [
              0.2222222222222222,
              "#7201a8"
             ],
             [
              0.3333333333333333,
              "#9c179e"
             ],
             [
              0.4444444444444444,
              "#bd3786"
             ],
             [
              0.5555555555555556,
              "#d8576b"
             ],
             [
              0.6666666666666666,
              "#ed7953"
             ],
             [
              0.7777777777777778,
              "#fb9f3a"
             ],
             [
              0.8888888888888888,
              "#fdca26"
             ],
             [
              1,
              "#f0f921"
             ]
            ],
            "type": "heatmapgl"
           }
          ],
          "histogram": [
           {
            "marker": {
             "pattern": {
              "fillmode": "overlay",
              "size": 10,
              "solidity": 0.2
             }
            },
            "type": "histogram"
           }
          ],
          "histogram2d": [
           {
            "colorbar": {
             "outlinewidth": 0,
             "ticks": ""
            },
            "colorscale": [
             [
              0,
              "#0d0887"
             ],
             [
              0.1111111111111111,
              "#46039f"
             ],
             [
              0.2222222222222222,
              "#7201a8"
             ],
             [
              0.3333333333333333,
              "#9c179e"
             ],
             [
              0.4444444444444444,
              "#bd3786"
             ],
             [
              0.5555555555555556,
              "#d8576b"
             ],
             [
              0.6666666666666666,
              "#ed7953"
             ],
             [
              0.7777777777777778,
              "#fb9f3a"
             ],
             [
              0.8888888888888888,
              "#fdca26"
             ],
             [
              1,
              "#f0f921"
             ]
            ],
            "type": "histogram2d"
           }
          ],
          "histogram2dcontour": [
           {
            "colorbar": {
             "outlinewidth": 0,
             "ticks": ""
            },
            "colorscale": [
             [
              0,
              "#0d0887"
             ],
             [
              0.1111111111111111,
              "#46039f"
             ],
             [
              0.2222222222222222,
              "#7201a8"
             ],
             [
              0.3333333333333333,
              "#9c179e"
             ],
             [
              0.4444444444444444,
              "#bd3786"
             ],
             [
              0.5555555555555556,
              "#d8576b"
             ],
             [
              0.6666666666666666,
              "#ed7953"
             ],
             [
              0.7777777777777778,
              "#fb9f3a"
             ],
             [
              0.8888888888888888,
              "#fdca26"
             ],
             [
              1,
              "#f0f921"
             ]
            ],
            "type": "histogram2dcontour"
           }
          ],
          "mesh3d": [
           {
            "colorbar": {
             "outlinewidth": 0,
             "ticks": ""
            },
            "type": "mesh3d"
           }
          ],
          "parcoords": [
           {
            "line": {
             "colorbar": {
              "outlinewidth": 0,
              "ticks": ""
             }
            },
            "type": "parcoords"
           }
          ],
          "pie": [
           {
            "automargin": true,
            "type": "pie"
           }
          ],
          "scatter": [
           {
            "fillpattern": {
             "fillmode": "overlay",
             "size": 10,
             "solidity": 0.2
            },
            "type": "scatter"
           }
          ],
          "scatter3d": [
           {
            "line": {
             "colorbar": {
              "outlinewidth": 0,
              "ticks": ""
             }
            },
            "marker": {
             "colorbar": {
              "outlinewidth": 0,
              "ticks": ""
             }
            },
            "type": "scatter3d"
           }
          ],
          "scattercarpet": [
           {
            "marker": {
             "colorbar": {
              "outlinewidth": 0,
              "ticks": ""
             }
            },
            "type": "scattercarpet"
           }
          ],
          "scattergeo": [
           {
            "marker": {
             "colorbar": {
              "outlinewidth": 0,
              "ticks": ""
             }
            },
            "type": "scattergeo"
           }
          ],
          "scattergl": [
           {
            "marker": {
             "colorbar": {
              "outlinewidth": 0,
              "ticks": ""
             }
            },
            "type": "scattergl"
           }
          ],
          "scattermapbox": [
           {
            "marker": {
             "colorbar": {
              "outlinewidth": 0,
              "ticks": ""
             }
            },
            "type": "scattermapbox"
           }
          ],
          "scatterpolar": [
           {
            "marker": {
             "colorbar": {
              "outlinewidth": 0,
              "ticks": ""
             }
            },
            "type": "scatterpolar"
           }
          ],
          "scatterpolargl": [
           {
            "marker": {
             "colorbar": {
              "outlinewidth": 0,
              "ticks": ""
             }
            },
            "type": "scatterpolargl"
           }
          ],
          "scatterternary": [
           {
            "marker": {
             "colorbar": {
              "outlinewidth": 0,
              "ticks": ""
             }
            },
            "type": "scatterternary"
           }
          ],
          "surface": [
           {
            "colorbar": {
             "outlinewidth": 0,
             "ticks": ""
            },
            "colorscale": [
             [
              0,
              "#0d0887"
             ],
             [
              0.1111111111111111,
              "#46039f"
             ],
             [
              0.2222222222222222,
              "#7201a8"
             ],
             [
              0.3333333333333333,
              "#9c179e"
             ],
             [
              0.4444444444444444,
              "#bd3786"
             ],
             [
              0.5555555555555556,
              "#d8576b"
             ],
             [
              0.6666666666666666,
              "#ed7953"
             ],
             [
              0.7777777777777778,
              "#fb9f3a"
             ],
             [
              0.8888888888888888,
              "#fdca26"
             ],
             [
              1,
              "#f0f921"
             ]
            ],
            "type": "surface"
           }
          ],
          "table": [
           {
            "cells": {
             "fill": {
              "color": "#EBF0F8"
             },
             "line": {
              "color": "white"
             }
            },
            "header": {
             "fill": {
              "color": "#C8D4E3"
             },
             "line": {
              "color": "white"
             }
            },
            "type": "table"
           }
          ]
         },
         "layout": {
          "annotationdefaults": {
           "arrowcolor": "#2a3f5f",
           "arrowhead": 0,
           "arrowwidth": 1
          },
          "autotypenumbers": "strict",
          "coloraxis": {
           "colorbar": {
            "outlinewidth": 0,
            "ticks": ""
           }
          },
          "colorscale": {
           "diverging": [
            [
             0,
             "#8e0152"
            ],
            [
             0.1,
             "#c51b7d"
            ],
            [
             0.2,
             "#de77ae"
            ],
            [
             0.3,
             "#f1b6da"
            ],
            [
             0.4,
             "#fde0ef"
            ],
            [
             0.5,
             "#f7f7f7"
            ],
            [
             0.6,
             "#e6f5d0"
            ],
            [
             0.7,
             "#b8e186"
            ],
            [
             0.8,
             "#7fbc41"
            ],
            [
             0.9,
             "#4d9221"
            ],
            [
             1,
             "#276419"
            ]
           ],
           "sequential": [
            [
             0,
             "#0d0887"
            ],
            [
             0.1111111111111111,
             "#46039f"
            ],
            [
             0.2222222222222222,
             "#7201a8"
            ],
            [
             0.3333333333333333,
             "#9c179e"
            ],
            [
             0.4444444444444444,
             "#bd3786"
            ],
            [
             0.5555555555555556,
             "#d8576b"
            ],
            [
             0.6666666666666666,
             "#ed7953"
            ],
            [
             0.7777777777777778,
             "#fb9f3a"
            ],
            [
             0.8888888888888888,
             "#fdca26"
            ],
            [
             1,
             "#f0f921"
            ]
           ],
           "sequentialminus": [
            [
             0,
             "#0d0887"
            ],
            [
             0.1111111111111111,
             "#46039f"
            ],
            [
             0.2222222222222222,
             "#7201a8"
            ],
            [
             0.3333333333333333,
             "#9c179e"
            ],
            [
             0.4444444444444444,
             "#bd3786"
            ],
            [
             0.5555555555555556,
             "#d8576b"
            ],
            [
             0.6666666666666666,
             "#ed7953"
            ],
            [
             0.7777777777777778,
             "#fb9f3a"
            ],
            [
             0.8888888888888888,
             "#fdca26"
            ],
            [
             1,
             "#f0f921"
            ]
           ]
          },
          "colorway": [
           "#636efa",
           "#EF553B",
           "#00cc96",
           "#ab63fa",
           "#FFA15A",
           "#19d3f3",
           "#FF6692",
           "#B6E880",
           "#FF97FF",
           "#FECB52"
          ],
          "font": {
           "color": "#2a3f5f"
          },
          "geo": {
           "bgcolor": "white",
           "lakecolor": "white",
           "landcolor": "#E5ECF6",
           "showlakes": true,
           "showland": true,
           "subunitcolor": "white"
          },
          "hoverlabel": {
           "align": "left"
          },
          "hovermode": "closest",
          "mapbox": {
           "style": "light"
          },
          "paper_bgcolor": "white",
          "plot_bgcolor": "#E5ECF6",
          "polar": {
           "angularaxis": {
            "gridcolor": "white",
            "linecolor": "white",
            "ticks": ""
           },
           "bgcolor": "#E5ECF6",
           "radialaxis": {
            "gridcolor": "white",
            "linecolor": "white",
            "ticks": ""
           }
          },
          "scene": {
           "xaxis": {
            "backgroundcolor": "#E5ECF6",
            "gridcolor": "white",
            "gridwidth": 2,
            "linecolor": "white",
            "showbackground": true,
            "ticks": "",
            "zerolinecolor": "white"
           },
           "yaxis": {
            "backgroundcolor": "#E5ECF6",
            "gridcolor": "white",
            "gridwidth": 2,
            "linecolor": "white",
            "showbackground": true,
            "ticks": "",
            "zerolinecolor": "white"
           },
           "zaxis": {
            "backgroundcolor": "#E5ECF6",
            "gridcolor": "white",
            "gridwidth": 2,
            "linecolor": "white",
            "showbackground": true,
            "ticks": "",
            "zerolinecolor": "white"
           }
          },
          "shapedefaults": {
           "line": {
            "color": "#2a3f5f"
           }
          },
          "ternary": {
           "aaxis": {
            "gridcolor": "white",
            "linecolor": "white",
            "ticks": ""
           },
           "baxis": {
            "gridcolor": "white",
            "linecolor": "white",
            "ticks": ""
           },
           "bgcolor": "#E5ECF6",
           "caxis": {
            "gridcolor": "white",
            "linecolor": "white",
            "ticks": ""
           }
          },
          "title": {
           "x": 0.05
          },
          "xaxis": {
           "automargin": true,
           "gridcolor": "white",
           "linecolor": "white",
           "ticks": "",
           "title": {
            "standoff": 15
           },
           "zerolinecolor": "white",
           "zerolinewidth": 2
          },
          "yaxis": {
           "automargin": true,
           "gridcolor": "white",
           "linecolor": "white",
           "ticks": "",
           "title": {
            "standoff": 15
           },
           "zerolinecolor": "white",
           "zerolinewidth": 2
          }
         }
        },
        "title": {
         "text": "Correlation Matrix Heatmap"
        },
        "xaxis": {
         "tickmode": "array",
         "ticktext": [
          "Danceability",
          "Energy",
          "Loudness (dB)",
          "Speechiness",
          "Acousticness",
          "Popularity",
          "Liveness",
          "Valence",
          "Beats Per Minute (BPM)"
         ],
         "tickvals": [
          0,
          1,
          2,
          3,
          4,
          5,
          6,
          7,
          8
         ],
         "title": {
          "text": "Features"
         }
        },
        "yaxis": {
         "tickmode": "array",
         "ticktext": [
          "Danceability",
          "Energy",
          "Loudness (dB)",
          "Speechiness",
          "Acousticness",
          "Popularity",
          "Liveness",
          "Valence",
          "Beats Per Minute (BPM)"
         ],
         "tickvals": [
          0,
          1,
          2,
          3,
          4,
          5,
          6,
          7,
          8
         ],
         "title": {
          "text": "Features"
         }
        }
       }
      }
     },
     "metadata": {},
     "output_type": "display_data"
    }
   ],
   "source": [
    "# Generate text labels for the heatmap\n",
    "text_labels = [[f'{val:.2f}' for val in row] for row in correlation_matrix.values]\n",
    "\n",
    "# Create a heatmap with text labels inside each cell\n",
    "fig = go.Figure(data=go.Heatmap(\n",
    "    z=correlation_matrix,\n",
    "    x=correlation_matrix.columns,\n",
    "    y=correlation_matrix.columns,\n",
    "    colorscale='RdBu_r',  # Change the colorscale to coolwarm\n",
    "    zmid=0,  # Center the color scale at zero\n",
    "    text=text_labels,\n",
    "    texttemplate=\"%{text}\",\n",
    "    hoverinfo=\"text\"\n",
    "))\n",
    "\n",
    "# Update layout for compact display\n",
    "fig.update_layout(\n",
    "    title='Correlation Matrix Heatmap',\n",
    "    xaxis_title='Features',\n",
    "    yaxis_title='Features',\n",
    "    xaxis=dict(tickmode='array', tickvals=np.arange(len(correlation_matrix.columns)), ticktext=correlation_matrix.columns),\n",
    "    yaxis=dict(tickmode='array', tickvals=np.arange(len(correlation_matrix.columns)), ticktext=correlation_matrix.columns),\n",
    "    autosize=True,\n",
    "    margin=dict(l=10, r=10, b=10, t=50)  # Reduce margins to make the plot more compact\n",
    ")\n",
    "\n",
    "# Show the figure\n",
    "fig.show()"
   ]
  },
  {
   "cell_type": "code",
   "execution_count": 241,
   "metadata": {},
   "outputs": [],
   "source": [
    "spotify_2k23 = pd.read_csv('dataset/spotify_archive/spotify-2023.csv',encoding='latin1')"
   ]
  },
  {
   "cell_type": "code",
   "execution_count": 242,
   "metadata": {},
   "outputs": [
    {
     "data": {
      "text/html": [
       "<div>\n",
       "<style scoped>\n",
       "    .dataframe tbody tr th:only-of-type {\n",
       "        vertical-align: middle;\n",
       "    }\n",
       "\n",
       "    .dataframe tbody tr th {\n",
       "        vertical-align: top;\n",
       "    }\n",
       "\n",
       "    .dataframe thead th {\n",
       "        text-align: right;\n",
       "    }\n",
       "</style>\n",
       "<table border=\"1\" class=\"dataframe\">\n",
       "  <thead>\n",
       "    <tr style=\"text-align: right;\">\n",
       "      <th></th>\n",
       "      <th>track_name</th>\n",
       "      <th>artist(s)_name</th>\n",
       "      <th>artist_count</th>\n",
       "      <th>released_year</th>\n",
       "      <th>released_month</th>\n",
       "      <th>released_day</th>\n",
       "      <th>in_spotify_playlists</th>\n",
       "      <th>in_spotify_charts</th>\n",
       "      <th>streams</th>\n",
       "      <th>in_apple_playlists</th>\n",
       "      <th>...</th>\n",
       "      <th>bpm</th>\n",
       "      <th>key</th>\n",
       "      <th>mode</th>\n",
       "      <th>danceability_%</th>\n",
       "      <th>valence_%</th>\n",
       "      <th>energy_%</th>\n",
       "      <th>acousticness_%</th>\n",
       "      <th>instrumentalness_%</th>\n",
       "      <th>liveness_%</th>\n",
       "      <th>speechiness_%</th>\n",
       "    </tr>\n",
       "  </thead>\n",
       "  <tbody>\n",
       "    <tr>\n",
       "      <th>0</th>\n",
       "      <td>Seven (feat. Latto) (Explicit Ver.)</td>\n",
       "      <td>Latto, Jung Kook</td>\n",
       "      <td>2</td>\n",
       "      <td>2023</td>\n",
       "      <td>7</td>\n",
       "      <td>14</td>\n",
       "      <td>553</td>\n",
       "      <td>147</td>\n",
       "      <td>141381703</td>\n",
       "      <td>43</td>\n",
       "      <td>...</td>\n",
       "      <td>125</td>\n",
       "      <td>B</td>\n",
       "      <td>Major</td>\n",
       "      <td>80</td>\n",
       "      <td>89</td>\n",
       "      <td>83</td>\n",
       "      <td>31</td>\n",
       "      <td>0</td>\n",
       "      <td>8</td>\n",
       "      <td>4</td>\n",
       "    </tr>\n",
       "    <tr>\n",
       "      <th>1</th>\n",
       "      <td>LALA</td>\n",
       "      <td>Myke Towers</td>\n",
       "      <td>1</td>\n",
       "      <td>2023</td>\n",
       "      <td>3</td>\n",
       "      <td>23</td>\n",
       "      <td>1474</td>\n",
       "      <td>48</td>\n",
       "      <td>133716286</td>\n",
       "      <td>48</td>\n",
       "      <td>...</td>\n",
       "      <td>92</td>\n",
       "      <td>C#</td>\n",
       "      <td>Major</td>\n",
       "      <td>71</td>\n",
       "      <td>61</td>\n",
       "      <td>74</td>\n",
       "      <td>7</td>\n",
       "      <td>0</td>\n",
       "      <td>10</td>\n",
       "      <td>4</td>\n",
       "    </tr>\n",
       "    <tr>\n",
       "      <th>2</th>\n",
       "      <td>vampire</td>\n",
       "      <td>Olivia Rodrigo</td>\n",
       "      <td>1</td>\n",
       "      <td>2023</td>\n",
       "      <td>6</td>\n",
       "      <td>30</td>\n",
       "      <td>1397</td>\n",
       "      <td>113</td>\n",
       "      <td>140003974</td>\n",
       "      <td>94</td>\n",
       "      <td>...</td>\n",
       "      <td>138</td>\n",
       "      <td>F</td>\n",
       "      <td>Major</td>\n",
       "      <td>51</td>\n",
       "      <td>32</td>\n",
       "      <td>53</td>\n",
       "      <td>17</td>\n",
       "      <td>0</td>\n",
       "      <td>31</td>\n",
       "      <td>6</td>\n",
       "    </tr>\n",
       "    <tr>\n",
       "      <th>3</th>\n",
       "      <td>Cruel Summer</td>\n",
       "      <td>Taylor Swift</td>\n",
       "      <td>1</td>\n",
       "      <td>2019</td>\n",
       "      <td>8</td>\n",
       "      <td>23</td>\n",
       "      <td>7858</td>\n",
       "      <td>100</td>\n",
       "      <td>800840817</td>\n",
       "      <td>116</td>\n",
       "      <td>...</td>\n",
       "      <td>170</td>\n",
       "      <td>A</td>\n",
       "      <td>Major</td>\n",
       "      <td>55</td>\n",
       "      <td>58</td>\n",
       "      <td>72</td>\n",
       "      <td>11</td>\n",
       "      <td>0</td>\n",
       "      <td>11</td>\n",
       "      <td>15</td>\n",
       "    </tr>\n",
       "    <tr>\n",
       "      <th>4</th>\n",
       "      <td>WHERE SHE GOES</td>\n",
       "      <td>Bad Bunny</td>\n",
       "      <td>1</td>\n",
       "      <td>2023</td>\n",
       "      <td>5</td>\n",
       "      <td>18</td>\n",
       "      <td>3133</td>\n",
       "      <td>50</td>\n",
       "      <td>303236322</td>\n",
       "      <td>84</td>\n",
       "      <td>...</td>\n",
       "      <td>144</td>\n",
       "      <td>A</td>\n",
       "      <td>Minor</td>\n",
       "      <td>65</td>\n",
       "      <td>23</td>\n",
       "      <td>80</td>\n",
       "      <td>14</td>\n",
       "      <td>63</td>\n",
       "      <td>11</td>\n",
       "      <td>6</td>\n",
       "    </tr>\n",
       "  </tbody>\n",
       "</table>\n",
       "<p>5 rows × 24 columns</p>\n",
       "</div>"
      ],
      "text/plain": [
       "                            track_name    artist(s)_name  artist_count  \\\n",
       "0  Seven (feat. Latto) (Explicit Ver.)  Latto, Jung Kook             2   \n",
       "1                                 LALA       Myke Towers             1   \n",
       "2                              vampire    Olivia Rodrigo             1   \n",
       "3                         Cruel Summer      Taylor Swift             1   \n",
       "4                       WHERE SHE GOES         Bad Bunny             1   \n",
       "\n",
       "   released_year  released_month  released_day  in_spotify_playlists  \\\n",
       "0           2023               7            14                   553   \n",
       "1           2023               3            23                  1474   \n",
       "2           2023               6            30                  1397   \n",
       "3           2019               8            23                  7858   \n",
       "4           2023               5            18                  3133   \n",
       "\n",
       "   in_spotify_charts    streams  in_apple_playlists  ...  bpm key   mode  \\\n",
       "0                147  141381703                  43  ...  125   B  Major   \n",
       "1                 48  133716286                  48  ...   92  C#  Major   \n",
       "2                113  140003974                  94  ...  138   F  Major   \n",
       "3                100  800840817                 116  ...  170   A  Major   \n",
       "4                 50  303236322                  84  ...  144   A  Minor   \n",
       "\n",
       "  danceability_%  valence_% energy_% acousticness_%  instrumentalness_%  \\\n",
       "0             80         89       83             31                   0   \n",
       "1             71         61       74              7                   0   \n",
       "2             51         32       53             17                   0   \n",
       "3             55         58       72             11                   0   \n",
       "4             65         23       80             14                  63   \n",
       "\n",
       "   liveness_%  speechiness_%  \n",
       "0           8              4  \n",
       "1          10              4  \n",
       "2          31              6  \n",
       "3          11             15  \n",
       "4          11              6  \n",
       "\n",
       "[5 rows x 24 columns]"
      ]
     },
     "execution_count": 242,
     "metadata": {},
     "output_type": "execute_result"
    }
   ],
   "source": [
    "spotify_2k23.head()\n"
   ]
  },
  {
   "cell_type": "code",
   "execution_count": 243,
   "metadata": {},
   "outputs": [
    {
     "name": "stdout",
     "output_type": "stream",
     "text": [
      "<class 'pandas.core.frame.DataFrame'>\n",
      "RangeIndex: 953 entries, 0 to 952\n",
      "Data columns (total 24 columns):\n",
      " #   Column                Non-Null Count  Dtype \n",
      "---  ------                --------------  ----- \n",
      " 0   track_name            953 non-null    object\n",
      " 1   artist(s)_name        953 non-null    object\n",
      " 2   artist_count          953 non-null    int64 \n",
      " 3   released_year         953 non-null    int64 \n",
      " 4   released_month        953 non-null    int64 \n",
      " 5   released_day          953 non-null    int64 \n",
      " 6   in_spotify_playlists  953 non-null    int64 \n",
      " 7   in_spotify_charts     953 non-null    int64 \n",
      " 8   streams               953 non-null    object\n",
      " 9   in_apple_playlists    953 non-null    int64 \n",
      " 10  in_apple_charts       953 non-null    int64 \n",
      " 11  in_deezer_playlists   953 non-null    object\n",
      " 12  in_deezer_charts      953 non-null    int64 \n",
      " 13  in_shazam_charts      903 non-null    object\n",
      " 14  bpm                   953 non-null    int64 \n",
      " 15  key                   858 non-null    object\n",
      " 16  mode                  953 non-null    object\n",
      " 17  danceability_%        953 non-null    int64 \n",
      " 18  valence_%             953 non-null    int64 \n",
      " 19  energy_%              953 non-null    int64 \n",
      " 20  acousticness_%        953 non-null    int64 \n",
      " 21  instrumentalness_%    953 non-null    int64 \n",
      " 22  liveness_%            953 non-null    int64 \n",
      " 23  speechiness_%         953 non-null    int64 \n",
      "dtypes: int64(17), object(7)\n",
      "memory usage: 178.8+ KB\n"
     ]
    }
   ],
   "source": [
    "spotify_2k23.info()"
   ]
  },
  {
   "cell_type": "code",
   "execution_count": 244,
   "metadata": {},
   "outputs": [
    {
     "name": "stdout",
     "output_type": "stream",
     "text": [
      "number of artists '645'\n"
     ]
    }
   ],
   "source": [
    "print(f\"number of artists '{spotify_2k23['artist(s)_name'].nunique()}'\")"
   ]
  },
  {
   "cell_type": "code",
   "execution_count": 245,
   "metadata": {},
   "outputs": [
    {
     "data": {
      "text/plain": [
       "artist(s)_name\n",
       "Taylor Swift                          34\n",
       "The Weeknd                            22\n",
       "Bad Bunny                             19\n",
       "SZA                                   19\n",
       "Harry Styles                          17\n",
       "                                      ..\n",
       "Gorillaz, Bad Bunny                    1\n",
       "j-hope, J. Cole                        1\n",
       "Robin Schulz, Oliver Tree              1\n",
       "Don Toliver, Future, Justin Bieber     1\n",
       "The Walters                            1\n",
       "Name: count, Length: 645, dtype: int64"
      ]
     },
     "execution_count": 245,
     "metadata": {},
     "output_type": "execute_result"
    }
   ],
   "source": [
    "artist_counts = spotify_2k23['artist(s)_name'].value_counts()\n",
    "artist_counts"
   ]
  },
  {
   "cell_type": "code",
   "execution_count": 246,
   "metadata": {},
   "outputs": [],
   "source": [
    "colors = [\"#8c0404\",\"#f25ed0\",\"#000000\",\"#16A085\",\"#34495E\",\n",
    "           \"#21618C \",\"#512E5F\",\"#45B39D\",\"#AAB7B8 \",\"#20B2AA\",\n",
    "           \"#FF69B4\",\"#00CED1\",\"#FF7F50\",\"#7FFF00\",\"#DA70D6\"]"
   ]
  },
  {
   "cell_type": "code",
   "execution_count": 247,
   "metadata": {},
   "outputs": [
    {
     "data": {
      "application/vnd.plotly.v1+json": {
       "config": {
        "plotlyServerURL": "https://plot.ly"
       },
       "data": [
        {
         "alignmentgroup": "True",
         "hovertemplate": "color=Taylor Swift<br>artist(s)_name=%{x}<br>Count=%{y}<extra></extra>",
         "legendgroup": "Taylor Swift",
         "marker": {
          "color": "#8c0404",
          "pattern": {
           "shape": ""
          }
         },
         "name": "Taylor Swift",
         "offsetgroup": "Taylor Swift",
         "orientation": "v",
         "showlegend": true,
         "textposition": "auto",
         "texttemplate": "%{y}",
         "type": "bar",
         "x": [
          "Taylor Swift"
         ],
         "xaxis": "x",
         "y": [
          34
         ],
         "yaxis": "y"
        },
        {
         "alignmentgroup": "True",
         "hovertemplate": "color=The Weeknd<br>artist(s)_name=%{x}<br>Count=%{y}<extra></extra>",
         "legendgroup": "The Weeknd",
         "marker": {
          "color": "#f25ed0",
          "pattern": {
           "shape": ""
          }
         },
         "name": "The Weeknd",
         "offsetgroup": "The Weeknd",
         "orientation": "v",
         "showlegend": true,
         "textposition": "auto",
         "texttemplate": "%{y}",
         "type": "bar",
         "x": [
          "The Weeknd"
         ],
         "xaxis": "x",
         "y": [
          22
         ],
         "yaxis": "y"
        },
        {
         "alignmentgroup": "True",
         "hovertemplate": "color=Bad Bunny<br>artist(s)_name=%{x}<br>Count=%{y}<extra></extra>",
         "legendgroup": "Bad Bunny",
         "marker": {
          "color": "#000000",
          "pattern": {
           "shape": ""
          }
         },
         "name": "Bad Bunny",
         "offsetgroup": "Bad Bunny",
         "orientation": "v",
         "showlegend": true,
         "textposition": "auto",
         "texttemplate": "%{y}",
         "type": "bar",
         "x": [
          "Bad Bunny"
         ],
         "xaxis": "x",
         "y": [
          19
         ],
         "yaxis": "y"
        },
        {
         "alignmentgroup": "True",
         "hovertemplate": "color=SZA<br>artist(s)_name=%{x}<br>Count=%{y}<extra></extra>",
         "legendgroup": "SZA",
         "marker": {
          "color": "#16A085",
          "pattern": {
           "shape": ""
          }
         },
         "name": "SZA",
         "offsetgroup": "SZA",
         "orientation": "v",
         "showlegend": true,
         "textposition": "auto",
         "texttemplate": "%{y}",
         "type": "bar",
         "x": [
          "SZA"
         ],
         "xaxis": "x",
         "y": [
          19
         ],
         "yaxis": "y"
        },
        {
         "alignmentgroup": "True",
         "hovertemplate": "color=Harry Styles<br>artist(s)_name=%{x}<br>Count=%{y}<extra></extra>",
         "legendgroup": "Harry Styles",
         "marker": {
          "color": "#34495E",
          "pattern": {
           "shape": ""
          }
         },
         "name": "Harry Styles",
         "offsetgroup": "Harry Styles",
         "orientation": "v",
         "showlegend": true,
         "textposition": "auto",
         "texttemplate": "%{y}",
         "type": "bar",
         "x": [
          "Harry Styles"
         ],
         "xaxis": "x",
         "y": [
          17
         ],
         "yaxis": "y"
        },
        {
         "alignmentgroup": "True",
         "hovertemplate": "color=Kendrick Lamar<br>artist(s)_name=%{x}<br>Count=%{y}<extra></extra>",
         "legendgroup": "Kendrick Lamar",
         "marker": {
          "color": "#21618C ",
          "pattern": {
           "shape": ""
          }
         },
         "name": "Kendrick Lamar",
         "offsetgroup": "Kendrick Lamar",
         "orientation": "v",
         "showlegend": true,
         "textposition": "auto",
         "texttemplate": "%{y}",
         "type": "bar",
         "x": [
          "Kendrick Lamar"
         ],
         "xaxis": "x",
         "y": [
          12
         ],
         "yaxis": "y"
        },
        {
         "alignmentgroup": "True",
         "hovertemplate": "color=Morgan Wallen<br>artist(s)_name=%{x}<br>Count=%{y}<extra></extra>",
         "legendgroup": "Morgan Wallen",
         "marker": {
          "color": "#512E5F",
          "pattern": {
           "shape": ""
          }
         },
         "name": "Morgan Wallen",
         "offsetgroup": "Morgan Wallen",
         "orientation": "v",
         "showlegend": true,
         "textposition": "auto",
         "texttemplate": "%{y}",
         "type": "bar",
         "x": [
          "Morgan Wallen"
         ],
         "xaxis": "x",
         "y": [
          11
         ],
         "yaxis": "y"
        },
        {
         "alignmentgroup": "True",
         "hovertemplate": "color=Ed Sheeran<br>artist(s)_name=%{x}<br>Count=%{y}<extra></extra>",
         "legendgroup": "Ed Sheeran",
         "marker": {
          "color": "#45B39D",
          "pattern": {
           "shape": ""
          }
         },
         "name": "Ed Sheeran",
         "offsetgroup": "Ed Sheeran",
         "orientation": "v",
         "showlegend": true,
         "textposition": "auto",
         "texttemplate": "%{y}",
         "type": "bar",
         "x": [
          "Ed Sheeran"
         ],
         "xaxis": "x",
         "y": [
          9
         ],
         "yaxis": "y"
        },
        {
         "alignmentgroup": "True",
         "hovertemplate": "color=Feid<br>artist(s)_name=%{x}<br>Count=%{y}<extra></extra>",
         "legendgroup": "Feid",
         "marker": {
          "color": "#AAB7B8 ",
          "pattern": {
           "shape": ""
          }
         },
         "name": "Feid",
         "offsetgroup": "Feid",
         "orientation": "v",
         "showlegend": true,
         "textposition": "auto",
         "texttemplate": "%{y}",
         "type": "bar",
         "x": [
          "Feid"
         ],
         "xaxis": "x",
         "y": [
          8
         ],
         "yaxis": "y"
        },
        {
         "alignmentgroup": "True",
         "hovertemplate": "color=Drake, 21 Savage<br>artist(s)_name=%{x}<br>Count=%{y}<extra></extra>",
         "legendgroup": "Drake, 21 Savage",
         "marker": {
          "color": "#20B2AA",
          "pattern": {
           "shape": ""
          }
         },
         "name": "Drake, 21 Savage",
         "offsetgroup": "Drake, 21 Savage",
         "orientation": "v",
         "showlegend": true,
         "textposition": "auto",
         "texttemplate": "%{y}",
         "type": "bar",
         "x": [
          "Drake, 21 Savage"
         ],
         "xaxis": "x",
         "y": [
          8
         ],
         "yaxis": "y"
        },
        {
         "alignmentgroup": "True",
         "hovertemplate": "color=BTS<br>artist(s)_name=%{x}<br>Count=%{y}<extra></extra>",
         "legendgroup": "BTS",
         "marker": {
          "color": "#FF69B4",
          "pattern": {
           "shape": ""
          }
         },
         "name": "BTS",
         "offsetgroup": "BTS",
         "orientation": "v",
         "showlegend": true,
         "textposition": "auto",
         "texttemplate": "%{y}",
         "type": "bar",
         "x": [
          "BTS"
         ],
         "xaxis": "x",
         "y": [
          8
         ],
         "yaxis": "y"
        },
        {
         "alignmentgroup": "True",
         "hovertemplate": "color=Olivia Rodrigo<br>artist(s)_name=%{x}<br>Count=%{y}<extra></extra>",
         "legendgroup": "Olivia Rodrigo",
         "marker": {
          "color": "#00CED1",
          "pattern": {
           "shape": ""
          }
         },
         "name": "Olivia Rodrigo",
         "offsetgroup": "Olivia Rodrigo",
         "orientation": "v",
         "showlegend": true,
         "textposition": "auto",
         "texttemplate": "%{y}",
         "type": "bar",
         "x": [
          "Olivia Rodrigo"
         ],
         "xaxis": "x",
         "y": [
          7
         ],
         "yaxis": "y"
        },
        {
         "alignmentgroup": "True",
         "hovertemplate": "color=Labrinth<br>artist(s)_name=%{x}<br>Count=%{y}<extra></extra>",
         "legendgroup": "Labrinth",
         "marker": {
          "color": "#FF7F50",
          "pattern": {
           "shape": ""
          }
         },
         "name": "Labrinth",
         "offsetgroup": "Labrinth",
         "orientation": "v",
         "showlegend": true,
         "textposition": "auto",
         "texttemplate": "%{y}",
         "type": "bar",
         "x": [
          "Labrinth"
         ],
         "xaxis": "x",
         "y": [
          7
         ],
         "yaxis": "y"
        },
        {
         "alignmentgroup": "True",
         "hovertemplate": "color=NewJeans<br>artist(s)_name=%{x}<br>Count=%{y}<extra></extra>",
         "legendgroup": "NewJeans",
         "marker": {
          "color": "#7FFF00",
          "pattern": {
           "shape": ""
          }
         },
         "name": "NewJeans",
         "offsetgroup": "NewJeans",
         "orientation": "v",
         "showlegend": true,
         "textposition": "auto",
         "texttemplate": "%{y}",
         "type": "bar",
         "x": [
          "NewJeans"
         ],
         "xaxis": "x",
         "y": [
          6
         ],
         "yaxis": "y"
        },
        {
         "alignmentgroup": "True",
         "hovertemplate": "color=Doja Cat<br>artist(s)_name=%{x}<br>Count=%{y}<extra></extra>",
         "legendgroup": "Doja Cat",
         "marker": {
          "color": "#DA70D6",
          "pattern": {
           "shape": ""
          }
         },
         "name": "Doja Cat",
         "offsetgroup": "Doja Cat",
         "orientation": "v",
         "showlegend": true,
         "textposition": "auto",
         "texttemplate": "%{y}",
         "type": "bar",
         "x": [
          "Doja Cat"
         ],
         "xaxis": "x",
         "y": [
          6
         ],
         "yaxis": "y"
        }
       ],
       "layout": {
        "barmode": "relative",
        "legend": {
         "title": {
          "text": "color"
         },
         "tracegroupgap": 0
        },
        "template": {
         "data": {
          "bar": [
           {
            "error_x": {
             "color": "#2a3f5f"
            },
            "error_y": {
             "color": "#2a3f5f"
            },
            "marker": {
             "line": {
              "color": "#E5ECF6",
              "width": 0.5
             },
             "pattern": {
              "fillmode": "overlay",
              "size": 10,
              "solidity": 0.2
             }
            },
            "type": "bar"
           }
          ],
          "barpolar": [
           {
            "marker": {
             "line": {
              "color": "#E5ECF6",
              "width": 0.5
             },
             "pattern": {
              "fillmode": "overlay",
              "size": 10,
              "solidity": 0.2
             }
            },
            "type": "barpolar"
           }
          ],
          "carpet": [
           {
            "aaxis": {
             "endlinecolor": "#2a3f5f",
             "gridcolor": "white",
             "linecolor": "white",
             "minorgridcolor": "white",
             "startlinecolor": "#2a3f5f"
            },
            "baxis": {
             "endlinecolor": "#2a3f5f",
             "gridcolor": "white",
             "linecolor": "white",
             "minorgridcolor": "white",
             "startlinecolor": "#2a3f5f"
            },
            "type": "carpet"
           }
          ],
          "choropleth": [
           {
            "colorbar": {
             "outlinewidth": 0,
             "ticks": ""
            },
            "type": "choropleth"
           }
          ],
          "contour": [
           {
            "colorbar": {
             "outlinewidth": 0,
             "ticks": ""
            },
            "colorscale": [
             [
              0,
              "#0d0887"
             ],
             [
              0.1111111111111111,
              "#46039f"
             ],
             [
              0.2222222222222222,
              "#7201a8"
             ],
             [
              0.3333333333333333,
              "#9c179e"
             ],
             [
              0.4444444444444444,
              "#bd3786"
             ],
             [
              0.5555555555555556,
              "#d8576b"
             ],
             [
              0.6666666666666666,
              "#ed7953"
             ],
             [
              0.7777777777777778,
              "#fb9f3a"
             ],
             [
              0.8888888888888888,
              "#fdca26"
             ],
             [
              1,
              "#f0f921"
             ]
            ],
            "type": "contour"
           }
          ],
          "contourcarpet": [
           {
            "colorbar": {
             "outlinewidth": 0,
             "ticks": ""
            },
            "type": "contourcarpet"
           }
          ],
          "heatmap": [
           {
            "colorbar": {
             "outlinewidth": 0,
             "ticks": ""
            },
            "colorscale": [
             [
              0,
              "#0d0887"
             ],
             [
              0.1111111111111111,
              "#46039f"
             ],
             [
              0.2222222222222222,
              "#7201a8"
             ],
             [
              0.3333333333333333,
              "#9c179e"
             ],
             [
              0.4444444444444444,
              "#bd3786"
             ],
             [
              0.5555555555555556,
              "#d8576b"
             ],
             [
              0.6666666666666666,
              "#ed7953"
             ],
             [
              0.7777777777777778,
              "#fb9f3a"
             ],
             [
              0.8888888888888888,
              "#fdca26"
             ],
             [
              1,
              "#f0f921"
             ]
            ],
            "type": "heatmap"
           }
          ],
          "heatmapgl": [
           {
            "colorbar": {
             "outlinewidth": 0,
             "ticks": ""
            },
            "colorscale": [
             [
              0,
              "#0d0887"
             ],
             [
              0.1111111111111111,
              "#46039f"
             ],
             [
              0.2222222222222222,
              "#7201a8"
             ],
             [
              0.3333333333333333,
              "#9c179e"
             ],
             [
              0.4444444444444444,
              "#bd3786"
             ],
             [
              0.5555555555555556,
              "#d8576b"
             ],
             [
              0.6666666666666666,
              "#ed7953"
             ],
             [
              0.7777777777777778,
              "#fb9f3a"
             ],
             [
              0.8888888888888888,
              "#fdca26"
             ],
             [
              1,
              "#f0f921"
             ]
            ],
            "type": "heatmapgl"
           }
          ],
          "histogram": [
           {
            "marker": {
             "pattern": {
              "fillmode": "overlay",
              "size": 10,
              "solidity": 0.2
             }
            },
            "type": "histogram"
           }
          ],
          "histogram2d": [
           {
            "colorbar": {
             "outlinewidth": 0,
             "ticks": ""
            },
            "colorscale": [
             [
              0,
              "#0d0887"
             ],
             [
              0.1111111111111111,
              "#46039f"
             ],
             [
              0.2222222222222222,
              "#7201a8"
             ],
             [
              0.3333333333333333,
              "#9c179e"
             ],
             [
              0.4444444444444444,
              "#bd3786"
             ],
             [
              0.5555555555555556,
              "#d8576b"
             ],
             [
              0.6666666666666666,
              "#ed7953"
             ],
             [
              0.7777777777777778,
              "#fb9f3a"
             ],
             [
              0.8888888888888888,
              "#fdca26"
             ],
             [
              1,
              "#f0f921"
             ]
            ],
            "type": "histogram2d"
           }
          ],
          "histogram2dcontour": [
           {
            "colorbar": {
             "outlinewidth": 0,
             "ticks": ""
            },
            "colorscale": [
             [
              0,
              "#0d0887"
             ],
             [
              0.1111111111111111,
              "#46039f"
             ],
             [
              0.2222222222222222,
              "#7201a8"
             ],
             [
              0.3333333333333333,
              "#9c179e"
             ],
             [
              0.4444444444444444,
              "#bd3786"
             ],
             [
              0.5555555555555556,
              "#d8576b"
             ],
             [
              0.6666666666666666,
              "#ed7953"
             ],
             [
              0.7777777777777778,
              "#fb9f3a"
             ],
             [
              0.8888888888888888,
              "#fdca26"
             ],
             [
              1,
              "#f0f921"
             ]
            ],
            "type": "histogram2dcontour"
           }
          ],
          "mesh3d": [
           {
            "colorbar": {
             "outlinewidth": 0,
             "ticks": ""
            },
            "type": "mesh3d"
           }
          ],
          "parcoords": [
           {
            "line": {
             "colorbar": {
              "outlinewidth": 0,
              "ticks": ""
             }
            },
            "type": "parcoords"
           }
          ],
          "pie": [
           {
            "automargin": true,
            "type": "pie"
           }
          ],
          "scatter": [
           {
            "fillpattern": {
             "fillmode": "overlay",
             "size": 10,
             "solidity": 0.2
            },
            "type": "scatter"
           }
          ],
          "scatter3d": [
           {
            "line": {
             "colorbar": {
              "outlinewidth": 0,
              "ticks": ""
             }
            },
            "marker": {
             "colorbar": {
              "outlinewidth": 0,
              "ticks": ""
             }
            },
            "type": "scatter3d"
           }
          ],
          "scattercarpet": [
           {
            "marker": {
             "colorbar": {
              "outlinewidth": 0,
              "ticks": ""
             }
            },
            "type": "scattercarpet"
           }
          ],
          "scattergeo": [
           {
            "marker": {
             "colorbar": {
              "outlinewidth": 0,
              "ticks": ""
             }
            },
            "type": "scattergeo"
           }
          ],
          "scattergl": [
           {
            "marker": {
             "colorbar": {
              "outlinewidth": 0,
              "ticks": ""
             }
            },
            "type": "scattergl"
           }
          ],
          "scattermapbox": [
           {
            "marker": {
             "colorbar": {
              "outlinewidth": 0,
              "ticks": ""
             }
            },
            "type": "scattermapbox"
           }
          ],
          "scatterpolar": [
           {
            "marker": {
             "colorbar": {
              "outlinewidth": 0,
              "ticks": ""
             }
            },
            "type": "scatterpolar"
           }
          ],
          "scatterpolargl": [
           {
            "marker": {
             "colorbar": {
              "outlinewidth": 0,
              "ticks": ""
             }
            },
            "type": "scatterpolargl"
           }
          ],
          "scatterternary": [
           {
            "marker": {
             "colorbar": {
              "outlinewidth": 0,
              "ticks": ""
             }
            },
            "type": "scatterternary"
           }
          ],
          "surface": [
           {
            "colorbar": {
             "outlinewidth": 0,
             "ticks": ""
            },
            "colorscale": [
             [
              0,
              "#0d0887"
             ],
             [
              0.1111111111111111,
              "#46039f"
             ],
             [
              0.2222222222222222,
              "#7201a8"
             ],
             [
              0.3333333333333333,
              "#9c179e"
             ],
             [
              0.4444444444444444,
              "#bd3786"
             ],
             [
              0.5555555555555556,
              "#d8576b"
             ],
             [
              0.6666666666666666,
              "#ed7953"
             ],
             [
              0.7777777777777778,
              "#fb9f3a"
             ],
             [
              0.8888888888888888,
              "#fdca26"
             ],
             [
              1,
              "#f0f921"
             ]
            ],
            "type": "surface"
           }
          ],
          "table": [
           {
            "cells": {
             "fill": {
              "color": "#EBF0F8"
             },
             "line": {
              "color": "white"
             }
            },
            "header": {
             "fill": {
              "color": "#C8D4E3"
             },
             "line": {
              "color": "white"
             }
            },
            "type": "table"
           }
          ]
         },
         "layout": {
          "annotationdefaults": {
           "arrowcolor": "#2a3f5f",
           "arrowhead": 0,
           "arrowwidth": 1
          },
          "autotypenumbers": "strict",
          "coloraxis": {
           "colorbar": {
            "outlinewidth": 0,
            "ticks": ""
           }
          },
          "colorscale": {
           "diverging": [
            [
             0,
             "#8e0152"
            ],
            [
             0.1,
             "#c51b7d"
            ],
            [
             0.2,
             "#de77ae"
            ],
            [
             0.3,
             "#f1b6da"
            ],
            [
             0.4,
             "#fde0ef"
            ],
            [
             0.5,
             "#f7f7f7"
            ],
            [
             0.6,
             "#e6f5d0"
            ],
            [
             0.7,
             "#b8e186"
            ],
            [
             0.8,
             "#7fbc41"
            ],
            [
             0.9,
             "#4d9221"
            ],
            [
             1,
             "#276419"
            ]
           ],
           "sequential": [
            [
             0,
             "#0d0887"
            ],
            [
             0.1111111111111111,
             "#46039f"
            ],
            [
             0.2222222222222222,
             "#7201a8"
            ],
            [
             0.3333333333333333,
             "#9c179e"
            ],
            [
             0.4444444444444444,
             "#bd3786"
            ],
            [
             0.5555555555555556,
             "#d8576b"
            ],
            [
             0.6666666666666666,
             "#ed7953"
            ],
            [
             0.7777777777777778,
             "#fb9f3a"
            ],
            [
             0.8888888888888888,
             "#fdca26"
            ],
            [
             1,
             "#f0f921"
            ]
           ],
           "sequentialminus": [
            [
             0,
             "#0d0887"
            ],
            [
             0.1111111111111111,
             "#46039f"
            ],
            [
             0.2222222222222222,
             "#7201a8"
            ],
            [
             0.3333333333333333,
             "#9c179e"
            ],
            [
             0.4444444444444444,
             "#bd3786"
            ],
            [
             0.5555555555555556,
             "#d8576b"
            ],
            [
             0.6666666666666666,
             "#ed7953"
            ],
            [
             0.7777777777777778,
             "#fb9f3a"
            ],
            [
             0.8888888888888888,
             "#fdca26"
            ],
            [
             1,
             "#f0f921"
            ]
           ]
          },
          "colorway": [
           "#636efa",
           "#EF553B",
           "#00cc96",
           "#ab63fa",
           "#FFA15A",
           "#19d3f3",
           "#FF6692",
           "#B6E880",
           "#FF97FF",
           "#FECB52"
          ],
          "font": {
           "color": "#2a3f5f"
          },
          "geo": {
           "bgcolor": "white",
           "lakecolor": "white",
           "landcolor": "#E5ECF6",
           "showlakes": true,
           "showland": true,
           "subunitcolor": "white"
          },
          "hoverlabel": {
           "align": "left"
          },
          "hovermode": "closest",
          "mapbox": {
           "style": "light"
          },
          "paper_bgcolor": "white",
          "plot_bgcolor": "#E5ECF6",
          "polar": {
           "angularaxis": {
            "gridcolor": "white",
            "linecolor": "white",
            "ticks": ""
           },
           "bgcolor": "#E5ECF6",
           "radialaxis": {
            "gridcolor": "white",
            "linecolor": "white",
            "ticks": ""
           }
          },
          "scene": {
           "xaxis": {
            "backgroundcolor": "#E5ECF6",
            "gridcolor": "white",
            "gridwidth": 2,
            "linecolor": "white",
            "showbackground": true,
            "ticks": "",
            "zerolinecolor": "white"
           },
           "yaxis": {
            "backgroundcolor": "#E5ECF6",
            "gridcolor": "white",
            "gridwidth": 2,
            "linecolor": "white",
            "showbackground": true,
            "ticks": "",
            "zerolinecolor": "white"
           },
           "zaxis": {
            "backgroundcolor": "#E5ECF6",
            "gridcolor": "white",
            "gridwidth": 2,
            "linecolor": "white",
            "showbackground": true,
            "ticks": "",
            "zerolinecolor": "white"
           }
          },
          "shapedefaults": {
           "line": {
            "color": "#2a3f5f"
           }
          },
          "ternary": {
           "aaxis": {
            "gridcolor": "white",
            "linecolor": "white",
            "ticks": ""
           },
           "baxis": {
            "gridcolor": "white",
            "linecolor": "white",
            "ticks": ""
           },
           "bgcolor": "#E5ECF6",
           "caxis": {
            "gridcolor": "white",
            "linecolor": "white",
            "ticks": ""
           }
          },
          "title": {
           "x": 0.05
          },
          "xaxis": {
           "automargin": true,
           "gridcolor": "white",
           "linecolor": "white",
           "ticks": "",
           "title": {
            "standoff": 15
           },
           "zerolinecolor": "white",
           "zerolinewidth": 2
          },
          "yaxis": {
           "automargin": true,
           "gridcolor": "white",
           "linecolor": "white",
           "ticks": "",
           "title": {
            "standoff": 15
           },
           "zerolinecolor": "white",
           "zerolinewidth": 2
          }
         }
        },
        "title": {
         "text": "2023 Top 15 Artists with Most Songs"
        },
        "xaxis": {
         "anchor": "y",
         "domain": [
          0,
          1
         ],
         "title": {
          "text": "artist(s)_name"
         }
        },
        "yaxis": {
         "anchor": "x",
         "domain": [
          0,
          1
         ],
         "title": {
          "text": "Count"
         }
        }
       }
      }
     },
     "metadata": {},
     "output_type": "display_data"
    }
   ],
   "source": [
    "px.bar(artist_counts[:15],\n",
    "             text_auto = True,\n",
    "             color = artist_counts[:15].index,\n",
    "             color_discrete_sequence = colors, \n",
    "             labels=dict(index=\"Count Names\",value=\"Count\"),\n",
    "             title = '2023 Top 15 Artists with Most Songs'\n",
    "            )\n",
    "            # )"
   ]
  },
  {
   "cell_type": "code",
   "execution_count": 248,
   "metadata": {},
   "outputs": [
    {
     "data": {
      "text/plain": [
       "Index(['track_name', 'artist(s)_name', 'artist_count', 'released_year',\n",
       "       'released_month', 'released_day', 'in_spotify_playlists',\n",
       "       'in_spotify_charts', 'streams', 'in_apple_playlists', 'in_apple_charts',\n",
       "       'in_deezer_playlists', 'in_deezer_charts', 'in_shazam_charts', 'bpm',\n",
       "       'key', 'mode', 'danceability_%', 'valence_%', 'energy_%',\n",
       "       'acousticness_%', 'instrumentalness_%', 'liveness_%', 'speechiness_%'],\n",
       "      dtype='object')"
      ]
     },
     "execution_count": 248,
     "metadata": {},
     "output_type": "execute_result"
    }
   ],
   "source": [
    "spotify_2k23.columns"
   ]
  },
  {
   "cell_type": "code",
   "execution_count": 249,
   "metadata": {},
   "outputs": [],
   "source": [
    "characteristics = ['in_spotify_playlists','danceability_%', 'energy_%', 'instrumentalness_%', 'speechiness_%', 'acousticness_%', 'liveness_%', 'valence_%', 'bpm']\n",
    "correlation_matrix = spotify_2k23[characteristics].corr()\n"
   ]
  },
  {
   "cell_type": "code",
   "execution_count": 250,
   "metadata": {},
   "outputs": [
    {
     "data": {
      "application/vnd.plotly.v1+json": {
       "config": {
        "plotlyServerURL": "https://plot.ly"
       },
       "data": [
        {
         "colorscale": [
          [
           0,
           "rgb(5,48,97)"
          ],
          [
           0.1,
           "rgb(33,102,172)"
          ],
          [
           0.2,
           "rgb(67,147,195)"
          ],
          [
           0.3,
           "rgb(146,197,222)"
          ],
          [
           0.4,
           "rgb(209,229,240)"
          ],
          [
           0.5,
           "rgb(247,247,247)"
          ],
          [
           0.6,
           "rgb(253,219,199)"
          ],
          [
           0.7,
           "rgb(244,165,130)"
          ],
          [
           0.8,
           "rgb(214,96,77)"
          ],
          [
           0.9,
           "rgb(178,24,43)"
          ],
          [
           1,
           "rgb(103,0,31)"
          ]
         ],
         "hoverinfo": "text",
         "text": [
          [
           "1.00",
           "-0.11",
           "0.03",
           "-0.03",
           "-0.09",
           "-0.06",
           "-0.05",
           "-0.02",
           "-0.02"
          ],
          [
           "-0.11",
           "1.00",
           "0.20",
           "-0.09",
           "0.18",
           "-0.24",
           "-0.08",
           "0.41",
           "-0.15"
          ],
          [
           "0.03",
           "0.20",
           "1.00",
           "-0.04",
           "-0.00",
           "-0.58",
           "0.12",
           "0.36",
           "0.03"
          ],
          [
           "-0.03",
           "-0.09",
           "-0.04",
           "1.00",
           "-0.08",
           "0.04",
           "-0.05",
           "-0.13",
           "-0.00"
          ],
          [
           "-0.09",
           "0.18",
           "-0.00",
           "-0.08",
           "1.00",
           "-0.02",
           "-0.02",
           "0.04",
           "0.04"
          ],
          [
           "-0.06",
           "-0.24",
           "-0.58",
           "0.04",
           "-0.02",
           "1.00",
           "-0.05",
           "-0.08",
           "-0.02"
          ],
          [
           "-0.05",
           "-0.08",
           "0.12",
           "-0.05",
           "-0.02",
           "-0.05",
           "1.00",
           "0.02",
           "-0.00"
          ],
          [
           "-0.02",
           "0.41",
           "0.36",
           "-0.13",
           "0.04",
           "-0.08",
           "0.02",
           "1.00",
           "0.04"
          ],
          [
           "-0.02",
           "-0.15",
           "0.03",
           "-0.00",
           "0.04",
           "-0.02",
           "-0.00",
           "0.04",
           "1.00"
          ]
         ],
         "texttemplate": "%{text}",
         "type": "heatmap",
         "x": [
          "in_spotify_playlists",
          "danceability_%",
          "energy_%",
          "instrumentalness_%",
          "speechiness_%",
          "acousticness_%",
          "liveness_%",
          "valence_%",
          "bpm"
         ],
         "y": [
          "in_spotify_playlists",
          "danceability_%",
          "energy_%",
          "instrumentalness_%",
          "speechiness_%",
          "acousticness_%",
          "liveness_%",
          "valence_%",
          "bpm"
         ],
         "z": [
          [
           1,
           -0.10653367038753647,
           0.03380770772434547,
           -0.028133740598083455,
           -0.08972233188636587,
           -0.06442070596396697,
           -0.046695347155763615,
           -0.021882735587464903,
           -0.01959759975800961
          ],
          [
           -0.10653367038753647,
           1,
           0.1980948483762567,
           -0.0891380123653967,
           0.18497711241491427,
           -0.23616549457097627,
           -0.07753818325890914,
           0.4084514401611997,
           -0.14709450365704285
          ],
          [
           0.03380770772434547,
           0.1980948483762567,
           1,
           -0.03854651862406125,
           -0.0048460036188535845,
           -0.5773442179801164,
           0.11730178031427665,
           0.35761200597468473,
           0.025794458095156583
          ],
          [
           -0.028133740598083455,
           -0.0891380123653967,
           -0.03854651862406125,
           1,
           -0.08339646134095939,
           0.042795918372905015,
           -0.04596731651605923,
           -0.13289036094202844,
           -0.0011947453753002816
          ],
          [
           -0.08972233188636587,
           0.18497711241491427,
           -0.0048460036188535845,
           -0.08339646134095939,
           1,
           -0.022501474008909155,
           -0.02252524714934958,
           0.04108109284898643,
           0.03926020213556158
          ],
          [
           -0.06442070596396697,
           -0.23616549457097627,
           -0.5773442179801164,
           0.042795918372905015,
           -0.022501474008909155,
           1,
           -0.05014223889545254,
           -0.08190727483082773,
           -0.0176944726073845
          ],
          [
           -0.046695347155763615,
           -0.07753818325890914,
           0.11730178031427665,
           -0.04596731651605923,
           -0.02252524714934958,
           -0.05014223889545254,
           1,
           0.021277538565302435,
           -0.0007609772058049703
          ],
          [
           -0.021882735587464903,
           0.4084514401611997,
           0.35761200597468473,
           -0.13289036094202844,
           0.04108109284898643,
           -0.08190727483082773,
           0.021277538565302435,
           1,
           0.0411945699091123
          ],
          [
           -0.01959759975800961,
           -0.14709450365704285,
           0.025794458095156583,
           -0.0011947453753002816,
           0.03926020213556158,
           -0.0176944726073845,
           -0.0007609772058049703,
           0.0411945699091123,
           1
          ]
         ],
         "zmid": 0
        }
       ],
       "layout": {
        "autosize": true,
        "margin": {
         "b": 10,
         "l": 10,
         "r": 10,
         "t": 50
        },
        "template": {
         "data": {
          "bar": [
           {
            "error_x": {
             "color": "#2a3f5f"
            },
            "error_y": {
             "color": "#2a3f5f"
            },
            "marker": {
             "line": {
              "color": "#E5ECF6",
              "width": 0.5
             },
             "pattern": {
              "fillmode": "overlay",
              "size": 10,
              "solidity": 0.2
             }
            },
            "type": "bar"
           }
          ],
          "barpolar": [
           {
            "marker": {
             "line": {
              "color": "#E5ECF6",
              "width": 0.5
             },
             "pattern": {
              "fillmode": "overlay",
              "size": 10,
              "solidity": 0.2
             }
            },
            "type": "barpolar"
           }
          ],
          "carpet": [
           {
            "aaxis": {
             "endlinecolor": "#2a3f5f",
             "gridcolor": "white",
             "linecolor": "white",
             "minorgridcolor": "white",
             "startlinecolor": "#2a3f5f"
            },
            "baxis": {
             "endlinecolor": "#2a3f5f",
             "gridcolor": "white",
             "linecolor": "white",
             "minorgridcolor": "white",
             "startlinecolor": "#2a3f5f"
            },
            "type": "carpet"
           }
          ],
          "choropleth": [
           {
            "colorbar": {
             "outlinewidth": 0,
             "ticks": ""
            },
            "type": "choropleth"
           }
          ],
          "contour": [
           {
            "colorbar": {
             "outlinewidth": 0,
             "ticks": ""
            },
            "colorscale": [
             [
              0,
              "#0d0887"
             ],
             [
              0.1111111111111111,
              "#46039f"
             ],
             [
              0.2222222222222222,
              "#7201a8"
             ],
             [
              0.3333333333333333,
              "#9c179e"
             ],
             [
              0.4444444444444444,
              "#bd3786"
             ],
             [
              0.5555555555555556,
              "#d8576b"
             ],
             [
              0.6666666666666666,
              "#ed7953"
             ],
             [
              0.7777777777777778,
              "#fb9f3a"
             ],
             [
              0.8888888888888888,
              "#fdca26"
             ],
             [
              1,
              "#f0f921"
             ]
            ],
            "type": "contour"
           }
          ],
          "contourcarpet": [
           {
            "colorbar": {
             "outlinewidth": 0,
             "ticks": ""
            },
            "type": "contourcarpet"
           }
          ],
          "heatmap": [
           {
            "colorbar": {
             "outlinewidth": 0,
             "ticks": ""
            },
            "colorscale": [
             [
              0,
              "#0d0887"
             ],
             [
              0.1111111111111111,
              "#46039f"
             ],
             [
              0.2222222222222222,
              "#7201a8"
             ],
             [
              0.3333333333333333,
              "#9c179e"
             ],
             [
              0.4444444444444444,
              "#bd3786"
             ],
             [
              0.5555555555555556,
              "#d8576b"
             ],
             [
              0.6666666666666666,
              "#ed7953"
             ],
             [
              0.7777777777777778,
              "#fb9f3a"
             ],
             [
              0.8888888888888888,
              "#fdca26"
             ],
             [
              1,
              "#f0f921"
             ]
            ],
            "type": "heatmap"
           }
          ],
          "heatmapgl": [
           {
            "colorbar": {
             "outlinewidth": 0,
             "ticks": ""
            },
            "colorscale": [
             [
              0,
              "#0d0887"
             ],
             [
              0.1111111111111111,
              "#46039f"
             ],
             [
              0.2222222222222222,
              "#7201a8"
             ],
             [
              0.3333333333333333,
              "#9c179e"
             ],
             [
              0.4444444444444444,
              "#bd3786"
             ],
             [
              0.5555555555555556,
              "#d8576b"
             ],
             [
              0.6666666666666666,
              "#ed7953"
             ],
             [
              0.7777777777777778,
              "#fb9f3a"
             ],
             [
              0.8888888888888888,
              "#fdca26"
             ],
             [
              1,
              "#f0f921"
             ]
            ],
            "type": "heatmapgl"
           }
          ],
          "histogram": [
           {
            "marker": {
             "pattern": {
              "fillmode": "overlay",
              "size": 10,
              "solidity": 0.2
             }
            },
            "type": "histogram"
           }
          ],
          "histogram2d": [
           {
            "colorbar": {
             "outlinewidth": 0,
             "ticks": ""
            },
            "colorscale": [
             [
              0,
              "#0d0887"
             ],
             [
              0.1111111111111111,
              "#46039f"
             ],
             [
              0.2222222222222222,
              "#7201a8"
             ],
             [
              0.3333333333333333,
              "#9c179e"
             ],
             [
              0.4444444444444444,
              "#bd3786"
             ],
             [
              0.5555555555555556,
              "#d8576b"
             ],
             [
              0.6666666666666666,
              "#ed7953"
             ],
             [
              0.7777777777777778,
              "#fb9f3a"
             ],
             [
              0.8888888888888888,
              "#fdca26"
             ],
             [
              1,
              "#f0f921"
             ]
            ],
            "type": "histogram2d"
           }
          ],
          "histogram2dcontour": [
           {
            "colorbar": {
             "outlinewidth": 0,
             "ticks": ""
            },
            "colorscale": [
             [
              0,
              "#0d0887"
             ],
             [
              0.1111111111111111,
              "#46039f"
             ],
             [
              0.2222222222222222,
              "#7201a8"
             ],
             [
              0.3333333333333333,
              "#9c179e"
             ],
             [
              0.4444444444444444,
              "#bd3786"
             ],
             [
              0.5555555555555556,
              "#d8576b"
             ],
             [
              0.6666666666666666,
              "#ed7953"
             ],
             [
              0.7777777777777778,
              "#fb9f3a"
             ],
             [
              0.8888888888888888,
              "#fdca26"
             ],
             [
              1,
              "#f0f921"
             ]
            ],
            "type": "histogram2dcontour"
           }
          ],
          "mesh3d": [
           {
            "colorbar": {
             "outlinewidth": 0,
             "ticks": ""
            },
            "type": "mesh3d"
           }
          ],
          "parcoords": [
           {
            "line": {
             "colorbar": {
              "outlinewidth": 0,
              "ticks": ""
             }
            },
            "type": "parcoords"
           }
          ],
          "pie": [
           {
            "automargin": true,
            "type": "pie"
           }
          ],
          "scatter": [
           {
            "fillpattern": {
             "fillmode": "overlay",
             "size": 10,
             "solidity": 0.2
            },
            "type": "scatter"
           }
          ],
          "scatter3d": [
           {
            "line": {
             "colorbar": {
              "outlinewidth": 0,
              "ticks": ""
             }
            },
            "marker": {
             "colorbar": {
              "outlinewidth": 0,
              "ticks": ""
             }
            },
            "type": "scatter3d"
           }
          ],
          "scattercarpet": [
           {
            "marker": {
             "colorbar": {
              "outlinewidth": 0,
              "ticks": ""
             }
            },
            "type": "scattercarpet"
           }
          ],
          "scattergeo": [
           {
            "marker": {
             "colorbar": {
              "outlinewidth": 0,
              "ticks": ""
             }
            },
            "type": "scattergeo"
           }
          ],
          "scattergl": [
           {
            "marker": {
             "colorbar": {
              "outlinewidth": 0,
              "ticks": ""
             }
            },
            "type": "scattergl"
           }
          ],
          "scattermapbox": [
           {
            "marker": {
             "colorbar": {
              "outlinewidth": 0,
              "ticks": ""
             }
            },
            "type": "scattermapbox"
           }
          ],
          "scatterpolar": [
           {
            "marker": {
             "colorbar": {
              "outlinewidth": 0,
              "ticks": ""
             }
            },
            "type": "scatterpolar"
           }
          ],
          "scatterpolargl": [
           {
            "marker": {
             "colorbar": {
              "outlinewidth": 0,
              "ticks": ""
             }
            },
            "type": "scatterpolargl"
           }
          ],
          "scatterternary": [
           {
            "marker": {
             "colorbar": {
              "outlinewidth": 0,
              "ticks": ""
             }
            },
            "type": "scatterternary"
           }
          ],
          "surface": [
           {
            "colorbar": {
             "outlinewidth": 0,
             "ticks": ""
            },
            "colorscale": [
             [
              0,
              "#0d0887"
             ],
             [
              0.1111111111111111,
              "#46039f"
             ],
             [
              0.2222222222222222,
              "#7201a8"
             ],
             [
              0.3333333333333333,
              "#9c179e"
             ],
             [
              0.4444444444444444,
              "#bd3786"
             ],
             [
              0.5555555555555556,
              "#d8576b"
             ],
             [
              0.6666666666666666,
              "#ed7953"
             ],
             [
              0.7777777777777778,
              "#fb9f3a"
             ],
             [
              0.8888888888888888,
              "#fdca26"
             ],
             [
              1,
              "#f0f921"
             ]
            ],
            "type": "surface"
           }
          ],
          "table": [
           {
            "cells": {
             "fill": {
              "color": "#EBF0F8"
             },
             "line": {
              "color": "white"
             }
            },
            "header": {
             "fill": {
              "color": "#C8D4E3"
             },
             "line": {
              "color": "white"
             }
            },
            "type": "table"
           }
          ]
         },
         "layout": {
          "annotationdefaults": {
           "arrowcolor": "#2a3f5f",
           "arrowhead": 0,
           "arrowwidth": 1
          },
          "autotypenumbers": "strict",
          "coloraxis": {
           "colorbar": {
            "outlinewidth": 0,
            "ticks": ""
           }
          },
          "colorscale": {
           "diverging": [
            [
             0,
             "#8e0152"
            ],
            [
             0.1,
             "#c51b7d"
            ],
            [
             0.2,
             "#de77ae"
            ],
            [
             0.3,
             "#f1b6da"
            ],
            [
             0.4,
             "#fde0ef"
            ],
            [
             0.5,
             "#f7f7f7"
            ],
            [
             0.6,
             "#e6f5d0"
            ],
            [
             0.7,
             "#b8e186"
            ],
            [
             0.8,
             "#7fbc41"
            ],
            [
             0.9,
             "#4d9221"
            ],
            [
             1,
             "#276419"
            ]
           ],
           "sequential": [
            [
             0,
             "#0d0887"
            ],
            [
             0.1111111111111111,
             "#46039f"
            ],
            [
             0.2222222222222222,
             "#7201a8"
            ],
            [
             0.3333333333333333,
             "#9c179e"
            ],
            [
             0.4444444444444444,
             "#bd3786"
            ],
            [
             0.5555555555555556,
             "#d8576b"
            ],
            [
             0.6666666666666666,
             "#ed7953"
            ],
            [
             0.7777777777777778,
             "#fb9f3a"
            ],
            [
             0.8888888888888888,
             "#fdca26"
            ],
            [
             1,
             "#f0f921"
            ]
           ],
           "sequentialminus": [
            [
             0,
             "#0d0887"
            ],
            [
             0.1111111111111111,
             "#46039f"
            ],
            [
             0.2222222222222222,
             "#7201a8"
            ],
            [
             0.3333333333333333,
             "#9c179e"
            ],
            [
             0.4444444444444444,
             "#bd3786"
            ],
            [
             0.5555555555555556,
             "#d8576b"
            ],
            [
             0.6666666666666666,
             "#ed7953"
            ],
            [
             0.7777777777777778,
             "#fb9f3a"
            ],
            [
             0.8888888888888888,
             "#fdca26"
            ],
            [
             1,
             "#f0f921"
            ]
           ]
          },
          "colorway": [
           "#636efa",
           "#EF553B",
           "#00cc96",
           "#ab63fa",
           "#FFA15A",
           "#19d3f3",
           "#FF6692",
           "#B6E880",
           "#FF97FF",
           "#FECB52"
          ],
          "font": {
           "color": "#2a3f5f"
          },
          "geo": {
           "bgcolor": "white",
           "lakecolor": "white",
           "landcolor": "#E5ECF6",
           "showlakes": true,
           "showland": true,
           "subunitcolor": "white"
          },
          "hoverlabel": {
           "align": "left"
          },
          "hovermode": "closest",
          "mapbox": {
           "style": "light"
          },
          "paper_bgcolor": "white",
          "plot_bgcolor": "#E5ECF6",
          "polar": {
           "angularaxis": {
            "gridcolor": "white",
            "linecolor": "white",
            "ticks": ""
           },
           "bgcolor": "#E5ECF6",
           "radialaxis": {
            "gridcolor": "white",
            "linecolor": "white",
            "ticks": ""
           }
          },
          "scene": {
           "xaxis": {
            "backgroundcolor": "#E5ECF6",
            "gridcolor": "white",
            "gridwidth": 2,
            "linecolor": "white",
            "showbackground": true,
            "ticks": "",
            "zerolinecolor": "white"
           },
           "yaxis": {
            "backgroundcolor": "#E5ECF6",
            "gridcolor": "white",
            "gridwidth": 2,
            "linecolor": "white",
            "showbackground": true,
            "ticks": "",
            "zerolinecolor": "white"
           },
           "zaxis": {
            "backgroundcolor": "#E5ECF6",
            "gridcolor": "white",
            "gridwidth": 2,
            "linecolor": "white",
            "showbackground": true,
            "ticks": "",
            "zerolinecolor": "white"
           }
          },
          "shapedefaults": {
           "line": {
            "color": "#2a3f5f"
           }
          },
          "ternary": {
           "aaxis": {
            "gridcolor": "white",
            "linecolor": "white",
            "ticks": ""
           },
           "baxis": {
            "gridcolor": "white",
            "linecolor": "white",
            "ticks": ""
           },
           "bgcolor": "#E5ECF6",
           "caxis": {
            "gridcolor": "white",
            "linecolor": "white",
            "ticks": ""
           }
          },
          "title": {
           "x": 0.05
          },
          "xaxis": {
           "automargin": true,
           "gridcolor": "white",
           "linecolor": "white",
           "ticks": "",
           "title": {
            "standoff": 15
           },
           "zerolinecolor": "white",
           "zerolinewidth": 2
          },
          "yaxis": {
           "automargin": true,
           "gridcolor": "white",
           "linecolor": "white",
           "ticks": "",
           "title": {
            "standoff": 15
           },
           "zerolinecolor": "white",
           "zerolinewidth": 2
          }
         }
        },
        "title": {
         "text": "Spotify 2023-Correlation Matrix Heatmap"
        },
        "xaxis": {
         "tickmode": "array",
         "ticktext": [
          "in_spotify_playlists",
          "danceability_%",
          "energy_%",
          "instrumentalness_%",
          "speechiness_%",
          "acousticness_%",
          "liveness_%",
          "valence_%",
          "bpm"
         ],
         "tickvals": [
          0,
          1,
          2,
          3,
          4,
          5,
          6,
          7,
          8
         ],
         "title": {
          "text": "Features"
         }
        },
        "yaxis": {
         "tickmode": "array",
         "ticktext": [
          "in_spotify_playlists",
          "danceability_%",
          "energy_%",
          "instrumentalness_%",
          "speechiness_%",
          "acousticness_%",
          "liveness_%",
          "valence_%",
          "bpm"
         ],
         "tickvals": [
          0,
          1,
          2,
          3,
          4,
          5,
          6,
          7,
          8
         ],
         "title": {
          "text": "Features"
         }
        }
       }
      }
     },
     "metadata": {},
     "output_type": "display_data"
    }
   ],
   "source": [
    "\n",
    "# Generate text labels for the heatmap\n",
    "text_labels = [[f'{val:.2f}' for val in row] for row in correlation_matrix.values]\n",
    "\n",
    "# Create a heatmap with text labels inside each cell\n",
    "fig = go.Figure(data=go.Heatmap(\n",
    "    z=correlation_matrix,\n",
    "    x=correlation_matrix.columns,\n",
    "    y=correlation_matrix.columns,\n",
    "    colorscale='RdBu_r',  # Change the colorscale to coolwarm\n",
    "    zmid=0,  # Center the color scale at zero\n",
    "    text=text_labels,\n",
    "    texttemplate=\"%{text}\",\n",
    "    hoverinfo=\"text\"\n",
    "))\n",
    "\n",
    "# Update layout for compact display\n",
    "fig.update_layout(\n",
    "    title='Spotify 2023-Correlation Matrix Heatmap',\n",
    "    xaxis_title='Features',\n",
    "    yaxis_title='Features',\n",
    "    xaxis=dict(tickmode='array', tickvals=np.arange(len(correlation_matrix.columns)), ticktext=correlation_matrix.columns),\n",
    "    yaxis=dict(tickmode='array', tickvals=np.arange(len(correlation_matrix.columns)), ticktext=correlation_matrix.columns),\n",
    "    autosize=True,\n",
    "    margin=dict(l=10, r=10, b=10, t=50)  # Reduce margins to make the plot more compact\n",
    ")\n",
    "\n",
    "# Show the figure\n",
    "fig.show()\n"
   ]
  },
  {
   "cell_type": "code",
   "execution_count": 251,
   "metadata": {},
   "outputs": [],
   "source": [
    "# Convert 'Length (Duration)' from string to integer\n",
    "# Remove commas and convert to seconds\n",
    "spotify_2k['Length (Duration)'] = spotify_2k['Length (Duration)'].str.replace(',', '')\n",
    "spotify_2k['Length (Duration)'] = pd.to_timedelta(spotify_2k['Length (Duration)']).dt.total_seconds()\n",
    "\n",
    "# Convert to integer\n",
    "spotify_2k['Length (Duration)'] = spotify_2k['Length (Duration)'].astype(int)"
   ]
  },
  {
   "cell_type": "code",
   "execution_count": 252,
   "metadata": {},
   "outputs": [],
   "source": [
    "\n",
    "# Selecting features for clustering\n",
    "features = spotify_2k[['Beats Per Minute (BPM)', 'Energy', 'Danceability', 'Loudness (dB)', 'Valence', 'Acousticness', 'Speechiness']]\n",
    "scaler = StandardScaler()\n",
    "features_scaled = scaler.fit_transform(features)"
   ]
  },
  {
   "cell_type": "code",
   "execution_count": 253,
   "metadata": {},
   "outputs": [
    {
     "name": "stderr",
     "output_type": "stream",
     "text": [
      "/home/satyabn20/anaconda3/lib/python3.10/site-packages/sklearn/cluster/_kmeans.py:870: FutureWarning:\n",
      "\n",
      "The default value of `n_init` will change from 10 to 'auto' in 1.4. Set the value of `n_init` explicitly to suppress the warning\n",
      "\n"
     ]
    }
   ],
   "source": [
    "\n",
    "# Clustering\n",
    "k = 5  # Number of clusters\n",
    "kmeans = KMeans(n_clusters=k, random_state=0)\n",
    "spotify_2k['Cluster'] = kmeans.fit_predict(features_scaled)\n"
   ]
  },
  {
   "cell_type": "code",
   "execution_count": 254,
   "metadata": {},
   "outputs": [
    {
     "data": {
      "application/vnd.plotly.v1+json": {
       "config": {
        "plotlyServerURL": "https://plot.ly"
       },
       "data": [
        {
         "hovertemplate": "PC1=%{x}<br>PC2=%{y}<br>Cluster=%{marker.color}<extra></extra>",
         "legendgroup": "",
         "marker": {
          "color": [
           4,
           3,
           0,
           2,
           3,
           1,
           3,
           2,
           2,
           3,
           4,
           1,
           3,
           2,
           3,
           4,
           2,
           2,
           1,
           0,
           2,
           1,
           3,
           2,
           3,
           1,
           2,
           0,
           4,
           3,
           4,
           2,
           1,
           4,
           2,
           3,
           2,
           2,
           2,
           4,
           3,
           2,
           1,
           2,
           3,
           2,
           3,
           1,
           3,
           1,
           4,
           2,
           4,
           2,
           4,
           3,
           1,
           2,
           3,
           1,
           1,
           1,
           3,
           3,
           3,
           3,
           3,
           3,
           2,
           1,
           4,
           2,
           2,
           0,
           2,
           3,
           4,
           2,
           0,
           2,
           2,
           1,
           4,
           1,
           2,
           2,
           3,
           1,
           3,
           2,
           4,
           3,
           1,
           2,
           2,
           2,
           3,
           4,
           3,
           2,
           2,
           4,
           3,
           2,
           2,
           4,
           0,
           3,
           3,
           1,
           2,
           2,
           2,
           1,
           0,
           1,
           1,
           3,
           2,
           2,
           0,
           1,
           4,
           1,
           3,
           0,
           2,
           4,
           3,
           2,
           1,
           4,
           2,
           1,
           1,
           3,
           1,
           3,
           4,
           1,
           3,
           2,
           3,
           3,
           3,
           4,
           4,
           2,
           3,
           1,
           1,
           2,
           4,
           3,
           4,
           1,
           1,
           4,
           3,
           0,
           1,
           1,
           3,
           4,
           2,
           4,
           3,
           3,
           4,
           4,
           4,
           4,
           1,
           4,
           1,
           0,
           2,
           1,
           1,
           2,
           3,
           3,
           4,
           3,
           3,
           3,
           2,
           2,
           2,
           3,
           0,
           3,
           3,
           2,
           2,
           1,
           4,
           2,
           2,
           4,
           4,
           2,
           3,
           3,
           2,
           3,
           3,
           2,
           3,
           4,
           2,
           3,
           2,
           3,
           3,
           1,
           3,
           2,
           3,
           0,
           1,
           4,
           2,
           1,
           4,
           2,
           2,
           1,
           4,
           3,
           1,
           1,
           3,
           4,
           2,
           2,
           1,
           2,
           0,
           2,
           3,
           4,
           3,
           2,
           3,
           2,
           1,
           2,
           3,
           2,
           4,
           2,
           3,
           4,
           2,
           2,
           3,
           4,
           2,
           1,
           2,
           2,
           2,
           4,
           0,
           1,
           2,
           3,
           3,
           2,
           2,
           1,
           4,
           2,
           3,
           3,
           1,
           2,
           2,
           3,
           3,
           1,
           0,
           1,
           2,
           3,
           2,
           2,
           4,
           3,
           3,
           2,
           3,
           4,
           3,
           1,
           3,
           3,
           2,
           3,
           2,
           2,
           3,
           2,
           4,
           3,
           2,
           3,
           4,
           2,
           2,
           2,
           2,
           1,
           2,
           3,
           2,
           2,
           1,
           4,
           4,
           3,
           3,
           1,
           2,
           2,
           3,
           2,
           1,
           3,
           3,
           1,
           3,
           4,
           3,
           1,
           4,
           3,
           2,
           1,
           1,
           3,
           4,
           2,
           1,
           3,
           3,
           4,
           1,
           2,
           2,
           1,
           4,
           2,
           4,
           2,
           3,
           2,
           2,
           2,
           1,
           0,
           2,
           3,
           4,
           2,
           0,
           1,
           2,
           3,
           2,
           1,
           2,
           0,
           3,
           1,
           2,
           4,
           3,
           1,
           3,
           3,
           1,
           4,
           1,
           1,
           3,
           0,
           1,
           3,
           2,
           2,
           2,
           2,
           2,
           4,
           3,
           3,
           1,
           3,
           4,
           3,
           3,
           3,
           3,
           2,
           1,
           4,
           3,
           2,
           3,
           2,
           3,
           2,
           3,
           3,
           1,
           1,
           3,
           3,
           2,
           3,
           3,
           2,
           0,
           2,
           3,
           1,
           1,
           2,
           1,
           4,
           3,
           4,
           3,
           2,
           2,
           3,
           2,
           2,
           4,
           1,
           1,
           2,
           4,
           1,
           3,
           4,
           2,
           2,
           2,
           4,
           2,
           1,
           3,
           4,
           2,
           2,
           1,
           3,
           1,
           3,
           1,
           4,
           2,
           0,
           3,
           4,
           3,
           2,
           4,
           3,
           2,
           2,
           3,
           4,
           4,
           2,
           1,
           1,
           3,
           4,
           2,
           4,
           1,
           4,
           3,
           3,
           2,
           2,
           4,
           4,
           1,
           2,
           2,
           2,
           3,
           2,
           3,
           0,
           4,
           4,
           1,
           2,
           3,
           4,
           4,
           3,
           2,
           3,
           1,
           2,
           4,
           2,
           4,
           4,
           1,
           3,
           2,
           2,
           4,
           2,
           3,
           0,
           1,
           4,
           2,
           4,
           2,
           4,
           3,
           2,
           2,
           1,
           3,
           4,
           2,
           3,
           4,
           3,
           1,
           2,
           2,
           2,
           4,
           4,
           3,
           1,
           1,
           1,
           0,
           1,
           3,
           3,
           3,
           2,
           4,
           2,
           3,
           3,
           3,
           2,
           2,
           3,
           2,
           3,
           2,
           1,
           4,
           2,
           3,
           4,
           0,
           4,
           2,
           2,
           1,
           4,
           2,
           1,
           0,
           3,
           2,
           3,
           1,
           3,
           1,
           2,
           3,
           3,
           2,
           1,
           0,
           2,
           2,
           3,
           4,
           3,
           3,
           3,
           2,
           4,
           3,
           4,
           1,
           4,
           2,
           1,
           4,
           2,
           1,
           2,
           3,
           4,
           4,
           3,
           4,
           3,
           1,
           0,
           1,
           4,
           1,
           3,
           2,
           4,
           3,
           1,
           4,
           1,
           1,
           2,
           1,
           2,
           2,
           3,
           3,
           2,
           3,
           3,
           1,
           1,
           2,
           2,
           0,
           2,
           4,
           1,
           4,
           3,
           2,
           1,
           3,
           2,
           2,
           3,
           4,
           3,
           4,
           1,
           4,
           2,
           4,
           2,
           2,
           2,
           3,
           3,
           1,
           3,
           1,
           3,
           4,
           3,
           4,
           1,
           1,
           2,
           1,
           4,
           4,
           3,
           2,
           1,
           3,
           2,
           1,
           3,
           3,
           0,
           4,
           2,
           2,
           1,
           2,
           2,
           3,
           2,
           3,
           3,
           3,
           4,
           4,
           3,
           0,
           1,
           2,
           1,
           1,
           3,
           1,
           4,
           2,
           1,
           0,
           2,
           4,
           1,
           1,
           4,
           4,
           1,
           2,
           1,
           0,
           2,
           1,
           1,
           0,
           3,
           3,
           4,
           4,
           3,
           2,
           1,
           1,
           1,
           2,
           1,
           1,
           3,
           3,
           2,
           1,
           3,
           3,
           3,
           3,
           2,
           2,
           4,
           3,
           4,
           4,
           2,
           2,
           2,
           1,
           1,
           3,
           3,
           3,
           0,
           1,
           3,
           2,
           3,
           4,
           4,
           3,
           1,
           3,
           1,
           3,
           2,
           1,
           2,
           4,
           4,
           2,
           3,
           4,
           3,
           3,
           2,
           0,
           4,
           2,
           4,
           3,
           2,
           2,
           3,
           3,
           2,
           2,
           0,
           4,
           1,
           4,
           4,
           2,
           3,
           4,
           4,
           1,
           4,
           4,
           3,
           3,
           4,
           4,
           4,
           4,
           1,
           4,
           1,
           3,
           1,
           1,
           4,
           3,
           3,
           3,
           2,
           3,
           4,
           3,
           3,
           4,
           4,
           3,
           1,
           4,
           3,
           4,
           3,
           2,
           4,
           4,
           3,
           4,
           4,
           1,
           1,
           4,
           1,
           1,
           4,
           2,
           2,
           1,
           4,
           4,
           4,
           3,
           1,
           2,
           3,
           4,
           1,
           2,
           4,
           0,
           3,
           4,
           1,
           1,
           2,
           4,
           2,
           4,
           4,
           3,
           2,
           3,
           4,
           4,
           2,
           2,
           2,
           3,
           4,
           1,
           3,
           1,
           3,
           4,
           4,
           1,
           2,
           4,
           4,
           1,
           3,
           2,
           3,
           3,
           4,
           2,
           3,
           4,
           4,
           1,
           3,
           1,
           4,
           2,
           3,
           3,
           1,
           2,
           4,
           4,
           4,
           2,
           0,
           4,
           4,
           0,
           4,
           4,
           1,
           3,
           4,
           4,
           4,
           3,
           1,
           1,
           3,
           3,
           3,
           4,
           3,
           2,
           1,
           1,
           2,
           4,
           3,
           3,
           3,
           2,
           4,
           4,
           4,
           4,
           1,
           1,
           1,
           4,
           3,
           2,
           3,
           4,
           4,
           3,
           1,
           1,
           4,
           4,
           1,
           4,
           4,
           2,
           1,
           3,
           3,
           3,
           4,
           2,
           4,
           3,
           3,
           3,
           2,
           1,
           1,
           4,
           1,
           4,
           1,
           1,
           1,
           4,
           3,
           1,
           2,
           1,
           4,
           1,
           3,
           3,
           3,
           4,
           3,
           4,
           3,
           1,
           3,
           4,
           3,
           1,
           2,
           3,
           1,
           1,
           2,
           1,
           3,
           4,
           3,
           4,
           3,
           3,
           3,
           4,
           1,
           1,
           3,
           0,
           3,
           2,
           4,
           3,
           3,
           4,
           4,
           2,
           2,
           3,
           4,
           4,
           2,
           1,
           2,
           3,
           1,
           4,
           1,
           1,
           2,
           1,
           4,
           4,
           2,
           3,
           1,
           3,
           3,
           4,
           1,
           3,
           3,
           2,
           4,
           3,
           1,
           3,
           2,
           3,
           1,
           3,
           3,
           0,
           1,
           1,
           3,
           4,
           2,
           2,
           3,
           3,
           3,
           3,
           2,
           4,
           2,
           3,
           3,
           0,
           4,
           1,
           1,
           0,
           3,
           4,
           3,
           1,
           3,
           1,
           2,
           1,
           3,
           0,
           4,
           3,
           3,
           3,
           2,
           3,
           3,
           3,
           2,
           3,
           4,
           3,
           3,
           4,
           3,
           1,
           2,
           3,
           4,
           3,
           3,
           3,
           3,
           4,
           3,
           1,
           3,
           1,
           4,
           1,
           3,
           4,
           3,
           2,
           3,
           4,
           1,
           3,
           3,
           2,
           2,
           1,
           3,
           3,
           3,
           1,
           3,
           3,
           2,
           3,
           3,
           3,
           0,
           1,
           3,
           1,
           1,
           2,
           2,
           0,
           2,
           1,
           4,
           3,
           3,
           3,
           2,
           0,
           3,
           4,
           3,
           2,
           4,
           3,
           4,
           3,
           3,
           2,
           3,
           1,
           2,
           4,
           2,
           3,
           3,
           3,
           4,
           3,
           3,
           3,
           3,
           3,
           4,
           4,
           2,
           3,
           1,
           1,
           3,
           3,
           3,
           3,
           4,
           2,
           3,
           2,
           1,
           4,
           1,
           3,
           4,
           4,
           3,
           2,
           3,
           4,
           1,
           4,
           3,
           3,
           3,
           4,
           4,
           3,
           4,
           3,
           3,
           1,
           4,
           3,
           4,
           1,
           3,
           3,
           3,
           3,
           3,
           2,
           4,
           3,
           3,
           3,
           1,
           3,
           0,
           3,
           3,
           3,
           2,
           3,
           3,
           1,
           4,
           3,
           3,
           3,
           1,
           3,
           3,
           4,
           3,
           2,
           3,
           3,
           3,
           4,
           3,
           0,
           3,
           1,
           3,
           4,
           3,
           3,
           2,
           1,
           3,
           3,
           2,
           2,
           1,
           3,
           1,
           2,
           1,
           4,
           3,
           4,
           3,
           1,
           3,
           1,
           3,
           3,
           3,
           2,
           3,
           3,
           1,
           2,
           3,
           4,
           3,
           4,
           3,
           4,
           1,
           3,
           1,
           3,
           2,
           2,
           2,
           1,
           1,
           3,
           1,
           2,
           3,
           3,
           3,
           1,
           4,
           4,
           3,
           3,
           3,
           3,
           4,
           3,
           3,
           4,
           3,
           4,
           3,
           3,
           1,
           1,
           1,
           4,
           3,
           3,
           4,
           1,
           2,
           1,
           3,
           3,
           2,
           3,
           3,
           4,
           4,
           3,
           2,
           4,
           4,
           3,
           1,
           3,
           3,
           3,
           3,
           4,
           0,
           3,
           1,
           1,
           3,
           4,
           2,
           4,
           2,
           4,
           3,
           3,
           4,
           1,
           3,
           1,
           3,
           1,
           1,
           3,
           2,
           4,
           4,
           3,
           3,
           4,
           2,
           1,
           2,
           3,
           2,
           4,
           4,
           4,
           2,
           1,
           3,
           4,
           3,
           2,
           4,
           2,
           1,
           1,
           1,
           4,
           3,
           4,
           3,
           4,
           3,
           4,
           4,
           0,
           2,
           3,
           3,
           1,
           3,
           3,
           3,
           3,
           2,
           2,
           3,
           2,
           2,
           3,
           3,
           3,
           4,
           1,
           4,
           3,
           4,
           1,
           2,
           3,
           3,
           1,
           3,
           3,
           3,
           2,
           4,
           4,
           3,
           2,
           1,
           4,
           1,
           2,
           4,
           4,
           1,
           3,
           3,
           3,
           1,
           4,
           3,
           0,
           1,
           1,
           2,
           2,
           1,
           3,
           2,
           2,
           3,
           3,
           1,
           4,
           4,
           3,
           3,
           2,
           3,
           2,
           1,
           1,
           3,
           2,
           1,
           3,
           2,
           4,
           3,
           3,
           1,
           1,
           3,
           1,
           3,
           2,
           4,
           3,
           4,
           2,
           1,
           2,
           3,
           2,
           3,
           1,
           3,
           3,
           4,
           1,
           4,
           2,
           3,
           3,
           1,
           1,
           1,
           1,
           3,
           1,
           1,
           3,
           4,
           1,
           2,
           1,
           3,
           2,
           2,
           2,
           2,
           2,
           1,
           3,
           3,
           1,
           2,
           2,
           3,
           1,
           1,
           1,
           2,
           2,
           1,
           3,
           4,
           3,
           4,
           4,
           3,
           2,
           2,
           3,
           2,
           3,
           1,
           1,
           1,
           3,
           1,
           4,
           3,
           3,
           3,
           1,
           0,
           2,
           2,
           4,
           3,
           1,
           4,
           4,
           4,
           2,
           2,
           3,
           3,
           3,
           1,
           2,
           2,
           1,
           4,
           1,
           2,
           4,
           3,
           1,
           0,
           2,
           3,
           2,
           4,
           1,
           2,
           1,
           3,
           2,
           4,
           1,
           2,
           1,
           1,
           1,
           3,
           1,
           4,
           3,
           2,
           1,
           3,
           2,
           3,
           3,
           4,
           1,
           2,
           3,
           3,
           2,
           4,
           4,
           1,
           1,
           3,
           2,
           1,
           2,
           4,
           4,
           1,
           2,
           1,
           3,
           1,
           1,
           4,
           2,
           2,
           1,
           2,
           3,
           1,
           3,
           1,
           2,
           3,
           2,
           1,
           0,
           4,
           2,
           1,
           2,
           2,
           1,
           4,
           4,
           3,
           4,
           3,
           4,
           4,
           2,
           3,
           2,
           4,
           3,
           1,
           2,
           1,
           4,
           1,
           1,
           1,
           1,
           3,
           3,
           3,
           4,
           1,
           4,
           3,
           4,
           4,
           2,
           2,
           1,
           2,
           1,
           3,
           4,
           1,
           1,
           4,
           3,
           3,
           3,
           4,
           1,
           1,
           1,
           4,
           3,
           1,
           1,
           4,
           2,
           0,
           2,
           4,
           3,
           1,
           2,
           3,
           2,
           4,
           3,
           4,
           1,
           2,
           3,
           2,
           4,
           4,
           1,
           4,
           4,
           2,
           2,
           2,
           1,
           1,
           4,
           1,
           1,
           3,
           1,
           4,
           3,
           2,
           2,
           1,
           4,
           4,
           0,
           4,
           1,
           1,
           0,
           2,
           2,
           2,
           3,
           2,
           1,
           3,
           4,
           1,
           2,
           1,
           1,
           4,
           2,
           4,
           4,
           1,
           3,
           1,
           1,
           4,
           1,
           2,
           3,
           1,
           3,
           3,
           3,
           2,
           2,
           4,
           3,
           3,
           0,
           1,
           2,
           4,
           3,
           4,
           3,
           4,
           4,
           4,
           2,
           4,
           2,
           4,
           1,
           1,
           2,
           2,
           3,
           2,
           3,
           2,
           2,
           3,
           4,
           1,
           4,
           3,
           2,
           3,
           1,
           1,
           0,
           4,
           2,
           2,
           4,
           3,
           0,
           1,
           2,
           4,
           4,
           4,
           4,
           3,
           3,
           4,
           4,
           3,
           4,
           3,
           4,
           4,
           2,
           3,
           4,
           4,
           3,
           3,
           3,
           3,
           4,
           3,
           1,
           2,
           3,
           4,
           4,
           4,
           1,
           1,
           4,
           4,
           1,
           3,
           1,
           2,
           1,
           3,
           4,
           1,
           4,
           3,
           4,
           3,
           4,
           3,
           3,
           4,
           1,
           4,
           4,
           4,
           4,
           4,
           1,
           1,
           1,
           4,
           3,
           3,
           4,
           1,
           4,
           2,
           1,
           2,
           0,
           4,
           1,
           4,
           3,
           1,
           1,
           1,
           2,
           4,
           1,
           1,
           4,
           1,
           1,
           3,
           3,
           1,
           4,
           3,
           1,
           3,
           3,
           3,
           1,
           4,
           4,
           4,
           4,
           1,
           3,
           2,
           2,
           4,
           1,
           1,
           4,
           4,
           2,
           3,
           3,
           0,
           3,
           2,
           1,
           1,
           1,
           2,
           4,
           1,
           1,
           2,
           3,
           1,
           1,
           3,
           1,
           0,
           4,
           3,
           4,
           2,
           1,
           4,
           1,
           2,
           1,
           4,
           1,
           3,
           2,
           2,
           1,
           3,
           4,
           1,
           1,
           1,
           1,
           1,
           1,
           4,
           3,
           2,
           4,
           3,
           1,
           1,
           2,
           1,
           4,
           3,
           3,
           4,
           4,
           4,
           2,
           3,
           4,
           4
          ],
          "coloraxis": "coloraxis",
          "symbol": "circle"
         },
         "mode": "markers",
         "name": "",
         "showlegend": false,
         "type": "scattergl",
         "x": [
          2.1276575237105306,
          -0.9954815468913738,
          -1.6422528841772788,
          -1.9143151136017489,
          -2.003350091569169,
          0.6026952118113228,
          -1.2102647402003672,
          -1.741876421530979,
          -1.5690573532390182,
          -2.275906273682157,
          3.766089079699336,
          -0.43575084222840466,
          -1.5348829272656899,
          -1.778801903448894,
          -2.0523354268701923,
          1.9853104821514351,
          -1.356186081575676,
          -0.08861215181681759,
          1.9559928667063617,
          -0.5178629157908197,
          1.2641816930847205,
          0.013956200560995162,
          -1.9331597826361295,
          -2.7002796648568395,
          -0.8911048104143556,
          0.9519634864568983,
          -1.3738252683844345,
          -3.0352274751393664,
          2.8720410204134263,
          -0.7848380050477075,
          1.249072818580745,
          -0.42547488428962577,
          0.3495012444389598,
          2.131571598428054,
          -1.5544609224555517,
          0.20404953892378364,
          -1.1375812924355604,
          -0.44066089977145656,
          -1.3736461948549212,
          3.0130679224990016,
          -1.7329173085362557,
          -0.4062300290692903,
          -0.19711271686170084,
          -2.8935484905034,
          -1.474487463254433,
          -0.41760278556763447,
          -0.22061829332717534,
          -0.017305883785592956,
          -1.6327784421183846,
          -0.8168645204930208,
          2.136940367566455,
          0.8363281595517975,
          3.068026170563313,
          -0.6868925919906791,
          2.0744630414772645,
          -0.6835817445026223,
          -0.41603539247304033,
          -0.040327487840230165,
          -0.7941955294369487,
          0.715272770602889,
          0.6466929685956441,
          0.018792266999312773,
          -1.9222013860497167,
          -1.186252181441469,
          -1.4549935823397784,
          -1.4700099719565924,
          -1.7244427854926805,
          -1.423262017265766,
          1.1553221291132878,
          -0.34866906782899315,
          3.146458559561957,
          -1.3837182659195792,
          0.11944649001521962,
          -0.6427483339669262,
          -0.18059053274232176,
          -1.308891388007895,
          2.573275126067588,
          -1.9043622763486232,
          -1.659102639934905,
          -0.6711550760972658,
          -0.6572607557359278,
          1.780421390545146,
          3.2617003414033547,
          -0.1345698022783462,
          -1.923394455981888,
          -1.332967226134253,
          -1.766844738137154,
          0.6836304558170739,
          -0.6121757220693093,
          -1.66023361262557,
          2.2082795504168606,
          -1.5508922458873808,
          0.7245813833907878,
          -0.7051408965905916,
          -1.3051675360873087,
          -0.9145514001420278,
          -2.364025170405271,
          4.053869879289121,
          -1.6160577726360725,
          -1.128424850522293,
          -1.4006060578122395,
          1.961906349348247,
          -2.1043169458853663,
          -0.46267896790207924,
          0.11577286953058859,
          1.9867191781124791,
          -2.576567005549958,
          -0.5626903295749424,
          -2.41065410964708,
          1.0695120781047922,
          -1.884376124639029,
          -1.4689586775310965,
          -0.9729019097484256,
          -0.9012064134169816,
          -2.0899417313463053,
          -0.8462977068760094,
          1.0728830800936502,
          -1.8344863071943545,
          -0.48124961502259767,
          -0.9615126666729195,
          -1.8188548316641375,
          -0.3459818279961264,
          1.6171669914630398,
          1.2009489898109917,
          -0.9614864874036142,
          -2.3041566234448077,
          -1.5837547670418963,
          1.1066008421401712,
          -0.9089862937378318,
          -2.1276026852166248,
          -0.1922266000470039,
          1.9170216391797916,
          -0.3421660875436435,
          2.059840644210426,
          -0.6335493542035644,
          -2.0832679403765337,
          0.6429892945226505,
          -0.7540738026717793,
          1.6282168398006738,
          -1.4767157671601132,
          -1.5772745563580453,
          -0.8360254448512046,
          -0.9626711583846026,
          -0.985120020577516,
          -2.2199803968822582,
          2.4696068193909486,
          1.1479425130800043,
          0.3417468994491789,
          -1.0631986905198805,
          0.42489972553562266,
          1.0128773876077768,
          -0.7392517231403228,
          1.2649967716042463,
          0.056942133533813506,
          3.425745462678646,
          -0.16174672658616293,
          0.19970034454600846,
          1.6362326858276244,
          -2.42293571576551,
          -1.6542422279710338,
          -0.06296733379016062,
          1.2398165934619394,
          -0.9506177254569582,
          2.0103555261896813,
          -2.0658628998893813,
          3.0731957088597732,
          -1.3695568211194007,
          -0.7410289174494662,
          2.2455309729561272,
          3.564290898606037,
          3.7529432430736147,
          1.4471464944671901,
          -0.07030106620369357,
          2.3042079006167806,
          -0.529616697770943,
          -2.614966093627031,
          -1.206348551475795,
          0.6427204672069804,
          0.32796301895182534,
          -1.499508129368393,
          0.060785998258654834,
          -0.9738458828321443,
          2.3259737829711993,
          -1.1985069461472444,
          -2.0439799655775186,
          -1.1093967861816918,
          -1.8934338622147724,
          -0.5662434004083026,
          -1.7595041444156139,
          -1.1221482080388765,
          -1.202658940815879,
          -0.927309908077987,
          -2.200463949630237,
          -0.2353434706854266,
          -0.724807255676926,
          1.1185735769874454,
          1.7092054752540728,
          -1.5152977215885934,
          -1.7988403658707504,
          1.7373252074539984,
          1.1984129617206563,
          -1.1370938073718293,
          0.0743990405656946,
          -2.434089260493533,
          0.06288237267901717,
          -1.652040254080435,
          -1.871344947575971,
          -0.798032028831104,
          -1.243904017781457,
          2.0787897191780296,
          0.0840878969815566,
          -1.5470074687884756,
          -0.8795841444086947,
          -2.646041345205321,
          -0.8414448609986895,
          0.006401897559787314,
          -0.6625827560610793,
          -0.7631050567234235,
          0.05032318341848524,
          -2.5297283419404706,
          0.859986376482926,
          1.6344339132910262,
          0.28167599753601025,
          0.6058844438471128,
          1.6733856610985518,
          -0.1351014681685961,
          -1.6360155280136852,
          0.7248948232078916,
          3.8874261452827787,
          -0.876954081006893,
          0.3329926279983988,
          0.261713230194873,
          -1.9520541407797938,
          2.561414076781338,
          1.0480662187207117,
          -0.9856049605840925,
          1.6579817364470528,
          -1.6321246539391177,
          -2.7416182436932894,
          -0.5834238065116012,
          -1.7288708405671815,
          0.9373937600470988,
          -0.9213231248025764,
          -0.41851387222505226,
          -1.5748627410587346,
          -1.5346752267311015,
          0.35613350761600093,
          -1.5943072903560673,
          -0.9439457078674643,
          -1.0747662889188931,
          0.8701851648047034,
          -1.5845918032819293,
          -2.409437727082573,
          3.3536595415332817,
          -1.5109556617529818,
          -1.7307934824869688,
          -1.7812419717791246,
          2.317287618677623,
          -0.9671964602970536,
          1.341106107511013,
          -1.502785338794589,
          -0.30671411858230335,
          -1.2906952932053797,
          1.1838002374035363,
          -4.369460642728422,
          -0.3682254089556684,
          1.38339184053092,
          0.15535694992320798,
          -1.7531705148643886,
          -0.7476802662370106,
          -1.6321972388566972,
          1.2942726880297286,
          3.283250745133633,
          -0.7337689928157503,
          -1.0754728203497619,
          -0.5147543241516893,
          -1.1290122580282351,
          -0.9992462322952292,
          -1.3038087335182853,
          -3.0501111079497636,
          -1.1424412744844417,
          1.241518919949929,
          -1.8900699655553317,
          -0.6763930709495907,
          0.9029380639000782,
          -1.7605299269617907,
          -1.8067922498232625,
          -1.8493680349366823,
          2.357930084498262,
          -2.690345027120474,
          -1.6446899963822097,
          -0.43208798707244506,
          -2.325070990458508,
          1.6991944947570037,
          -1.5959007872994302,
          -0.30904835760498117,
          -2.421622055992858,
          -0.2993187970229444,
          -1.4304887423927195,
          -0.7524410823234359,
          0.6359945645772029,
          -0.8965759270200998,
          -2.526530086425399,
          -1.7386719828360429,
          2.045030295304874,
          -0.7064616869095337,
          -1.3985379702699832,
          -1.378765561933079,
          3.9532137893242587,
          -1.1869107955249631,
          -0.46572488126127737,
          -1.4858971027321441,
          -1.621209169158898,
          -0.43715988806197825,
          0.24390967908327899,
          -0.7878425023603132,
          -1.8506168178994933,
          -1.6244998684714151,
          -0.3605972589984067,
          1.5043060763732667,
          1.6251215890274477,
          -1.1390910802246053,
          -1.0520973226290224,
          0.6024288038498404,
          -1.3213164978892222,
          -1.7188279514574363,
          -1.5336181541935614,
          -2.133859656942423,
          -0.7332782894414246,
          0.08253221521870062,
          -1.6028005369838683,
          0.9308096913767735,
          -1.9229194570815393,
          1.4609188673260611,
          0.03702709564209854,
          -0.27865837252917464,
          2.865240124737709,
          -1.6876529441258483,
          -0.472181508269402,
          1.945516260820493,
          1.630412081909018,
          -1.1751350304054964,
          1.684563512529024,
          -0.6530956509707185,
          0.002023193317861023,
          -2.372096037371792,
          -1.8623789271203508,
          2.6513570645694964,
          1.089464385716613,
          -1.9631558192146488,
          0.6352847921084994,
          0.5780423073970826,
          1.3529530378551644,
          -1.6450531174605152,
          2.2183739830030427,
          -0.9915976634694431,
          -2.197822541758902,
          -1.4957440413762946,
          0.4826358529966653,
          -1.351165628050017,
          2.096621501011661,
          -2.474758181735177,
          -1.4428207216205293,
          -1.545772959678032,
          1.6655770272698127,
          -0.1675614099378089,
          -2.1486886950601316,
          0.21235204314410544,
          -1.1812527248809561,
          -2.343090448476683,
          -1.1566101544207645,
          0.9888052934815924,
          -1.6914041581204173,
          0.4429397658858537,
          -2.45508006223997,
          -0.9993381305780836,
          0.09578127361826795,
          1.9449310088687237,
          -1.395057468413676,
          -0.3614605038494432,
          -1.6051084685221253,
          -1.0162358777376974,
          1.1554803472863924,
          2.9517518979473176,
          1.1006774654234721,
          -0.007039120129977535,
          -1.1609787920008368,
          -1.0103391544869322,
          0.5724807126961355,
          -1.104292430470858,
          -1.5074795962830148,
          0.15994256425676276,
          -1.0966072682895236,
          -0.5597046129138653,
          -0.7120418353154115,
          3.785002005768542,
          -1.3932022198763176,
          -2.0146147058098323,
          -0.4052372710836398,
          -1.1641925265539823,
          2.4898560563361296,
          -2.0907207358636724,
          -1.9240979886394238,
          0.3892915002779291,
          -0.9447836463524174,
          -0.8363912825579718,
          0.6092223551209086,
          3.1687860512889707,
          -0.25639380205822915,
          0.26342835717240976,
          -0.9981787181149543,
          -1.4339868772600648,
          -1.1561335336742398,
          0.0620515566317553,
          -1.3538044791523596,
          -1.8581449212642116,
          -0.2681865025716775,
          0.9269146757156286,
          0.8429890868501391,
          -1.6595801727032973,
          -0.9556921483692068,
          -0.8162294302830658,
          -1.5528664377309442,
          -1.06099406952813,
          -2.614391521731906,
          -0.003961218599585104,
          0.5791783222034325,
          0.8573076577329809,
          -0.2700318492926237,
          -2.164505500877962,
          -0.06196753344364005,
          3.205262793597215,
          -0.9791515681944308,
          1.8275718456982193,
          -1.266280047329853,
          -1.3280836734040542,
          -1.1567694864723101,
          -0.31926860884675906,
          -0.0880270132858206,
          -0.6087062012324264,
          1.8148215746153795,
          0.10670169784070575,
          0.3894993393916732,
          -0.8873130007513217,
          1.7041259272989193,
          -0.5645491389248042,
          -1.1469629244396227,
          3.5497079003264718,
          -1.5624126512204104,
          -2.003321240230546,
          -1.5095817747093945,
          2.075542242212385,
          -0.27744683529495057,
          -0.58915610295067,
          -2.1418940585105704,
          1.1725664610582778,
          -0.603842570867984,
          0.30380276552317587,
          1.3254571617053728,
          -0.5583018262733276,
          0.6775481148110333,
          -1.8426200169704194,
          1.0062672312910532,
          2.0437433423656484,
          -1.675829217880569,
          -3.3634495300354015,
          -2.9906466715980597,
          1.5411546275563592,
          -1.703555954369017,
          -0.3733766708046949,
          2.2259558808932125,
          -0.6598906431478945,
          -0.8192878847345563,
          -0.8591226606716816,
          -1.3928729742084511,
          1.54389893159624,
          2.3353917989881996,
          -0.3710520754003375,
          1.4057042790414314,
          1.2259414886179865,
          -1.5058474060029814,
          1.7700674274278858,
          -1.0346890769678436,
          2.586441508292805,
          -0.8759982924995634,
          2.2037604959636297,
          -0.21142027521963735,
          -0.9380280333648554,
          -1.2106927059137147,
          -0.9638575599791256,
          3.186095665971709,
          3.82111225327729,
          0.8637281849354497,
          0.739476989391357,
          0.15323844874046788,
          -1.1438259204540395,
          -2.813618853139055,
          -0.3728633924556527,
          0.9944858760244683,
          -2.4542838777760263,
          1.4979879839619363,
          2.225371847639068,
          -0.8901362463391683,
          -1.6186012934480951,
          0.2766995726724961,
          2.1529835312140393,
          1.9389023126596692,
          -1.1641049480383807,
          0.7711139255353741,
          -1.398756162096481,
          -1.1617336070638775,
          0.15989851257346227,
          1.4878259326997747,
          -1.3910908621571467,
          2.304537267353604,
          2.463375989172194,
          -1.042190244310703,
          -2.284454539942356,
          -0.9815025532218018,
          -0.5093649646776751,
          1.9397893716230201,
          -2.0048447342781053,
          -1.5523699938194286,
          -0.7589891805091038,
          0.22136597442147582,
          1.4918022649532376,
          -1.363841298887801,
          3.910200836526041,
          -0.9962680563363587,
          2.130908223398412,
          -2.653737415567266,
          -0.6530963564805046,
          -1.013621302045906,
          0.5533599534537792,
          -1.282782073920707,
          1.9989870528782796,
          -1.1493457261046771,
          -1.3578170750796181,
          2.089295518762777,
          -1.7995189855882179,
          1.5668023249017589,
          -1.3421430562078116,
          -1.1193820807551509,
          -1.2022485161265444,
          0.972934735726746,
          1.2025070663864292,
          -2.2720629118512594,
          -0.014114079507601015,
          -0.4550937223242165,
          0.15302041227864366,
          -1.172164009161457,
          -1.1148811515449106,
          -2.0145533823242423,
          -2.0921366736399682,
          -2.242913942168052,
          -1.8353477618264857,
          2.7359497187494255,
          0.3885564316934507,
          -2.106170510614223,
          -1.9139674183766608,
          -0.6342526335888276,
          0.035423441329128565,
          -0.2907950367215151,
          -1.3960789595917267,
          -1.1434803471062833,
          0.057775005456598305,
          -0.13700197975068445,
          0.7610287370866623,
          1.5665476815657131,
          -1.2202940080632043,
          -1.6980610382110373,
          2.2493047910175563,
          -2.7879199297404242,
          1.1543636712669654,
          -1.0007256891470797,
          0.2453491374709627,
          -0.07069823515377588,
          1.572932186591134,
          -1.4806744759410435,
          -0.941934264949523,
          -2.088728801269977,
          -0.6820389113353458,
          -1.4189241577708633,
          -2.2219983548975777,
          1.6165326368841517,
          -1.5350354627364082,
          1.3566876576087086,
          0.31135979217593746,
          -0.7220150796824052,
          -2.5547945232067395,
          -2.182759692795456,
          1.3843875753893742,
          -2.9253769774519327,
          1.0894856054216395,
          -1.1577492356145762,
          -1.29553935076887,
          0.8949776279293508,
          -1.2660003039017576,
          -1.2951613349105857,
          -1.5841824798730342,
          -2.1310958555531707,
          2.4061642902005183,
          -1.582652036958641,
          2.0252664691922044,
          2.1162033444774977,
          2.2401274896779233,
          -1.970084880691381,
          -0.1377828159397646,
          2.75110864561351,
          -1.6134574905126582,
          -0.14833261956847826,
          -1.6065710742044428,
          -1.9625362262758617,
          2.2362370675872256,
          1.6615362075704485,
          -1.788378974407521,
          1.1252708793582744,
          -1.9483581056369321,
          -0.004045539021484908,
          -2.017152393663597,
          1.2452278693570669,
          2.4460256130430333,
          -0.49621858305427613,
          -2.076946904316932,
          -0.3446369896865822,
          0.9840715483619638,
          -1.5104298543521861,
          0.153507901932419,
          1.3198874747889557,
          -0.19267193358176604,
          1.6709250668145204,
          -1.6168606005685737,
          1.3052860963603352,
          -1.3408354065134158,
          -1.2027756363014068,
          -1.3649732389877844,
          -1.7965352135772503,
          -1.022960090598584,
          -0.7702400848497806,
          -0.23878820237352935,
          -0.054919000209273705,
          -0.916166214303199,
          -1.0338889853587747,
          -2.1360131913120153,
          -0.1722931017645716,
          -0.7675287651655812,
          1.4090691275235834,
          1.4047926985843453,
          1.950942258810946,
          -1.1884265008248118,
          0.36417924610693997,
          0.4339325560186488,
          -0.7342192048115455,
          0.17144414005698527,
          -1.116142051094858,
          -1.995305988457872,
          1.4038237188706155,
          -1.0813529967454607,
          1.7585148583158552,
          -0.76982312201651,
          2.046854392699991,
          -1.2193472066663267,
          3.5773656193016095,
          0.2727533093225554,
          -0.07638364017453213,
          0.12050037788800139,
          -0.8595699536896277,
          -1.366434162762317,
          -0.12656238809424508,
          -2.2792172259449903,
          0.8400712228002807,
          -1.362597273619848,
          1.3937856299050453,
          -0.11526851609234284,
          2.3691805111802453,
          0.016391481191093966,
          0.7306364306965727,
          0.3571254186922004,
          -0.1852222694379551,
          2.933037327532224,
          3.1080187434460638,
          -1.2044737434153352,
          -1.7757088870054014,
          0.3914523239784159,
          -2.4760549964974263,
          -1.3522649455514666,
          -0.26402481371562936,
          -1.5184043284815842,
          -2.4753951555494966,
          -1.834114559285893,
          3.093473366561425,
          -1.6966865498045127,
          -0.44517941424869006,
          -0.05089770698359055,
          0.1475119110548841,
          -0.03080807201085769,
          -1.3598842360911498,
          -2.2102190096739025,
          0.16957215801854666,
          -1.776202252393064,
          -1.6458549227575983,
          2.906045448501872,
          1.9742180622098229,
          -1.210032661735434,
          -3.105261662901618,
          -0.6604681387104369,
          -1.53710978479684,
          0.5430374859065674,
          1.2913488296995472,
          -2.5242230338702685,
          -0.6735849902222045,
          2.6196801395314004,
          -2.381044271171257,
          1.1971037393794854,
          -2.497726912408692,
          -1.6140520391636388,
          2.264632637356842,
          1.358546134255734,
          -0.8143315450255426,
          1.5747663774784657,
          2.533252971260743,
          -0.18911389348198845,
          -0.7754926717446835,
          -0.6793631182277892,
          -1.7484252677589875,
          -1.339278951547437,
          0.6701137667776313,
          -0.9293795563950984,
          0.22593347704067965,
          -0.13543295361211435,
          -1.9212162191237367,
          2.407203254038914,
          0.8949757490777903,
          -2.4000746450711254,
          0.02259089448292174,
          0.44426995548691056,
          0.40515174229326245,
          -0.3430393702820399,
          -0.10173294270217244,
          -0.25188894535041256,
          -0.6168864599805501,
          0.4174090519660842,
          -0.9658688762942969,
          -0.2534071002423864,
          0.7577453969804542,
          -1.9225575868162692,
          -0.6852965838948644,
          -1.4323945512614131,
          -1.1818045810372657,
          0.9147621561090538,
          -0.3485882381005026,
          1.0929923857918347,
          -2.1210017711727605,
          1.816714394375561,
          2.809206624277741,
          -0.7188285413054853,
          -0.15475680344518125,
          -0.47889553276618113,
          0.21814781802683145,
          0.13436376117465196,
          -0.390682812779637,
          -0.49167495557008806,
          0.020094154793754353,
          -2.9954446464768463,
          0.38085795032082925,
          -2.2526246159674956,
          -0.28871234979876986,
          -1.1032417369046577,
          1.1940227585697893,
          2.797851614137123,
          -1.4238242522491615,
          -0.45156767427158256,
          -0.6676113531774521,
          -0.3235413144752889,
          -2.651006996411735,
          -1.1334648470845115,
          -0.573377533750694,
          -1.2220657817466969,
          1.7410671476255355,
          2.77000295130682,
          0.37212939158590813,
          -1.0926302187750663,
          2.2673462197405696,
          -1.1616016455271205,
          -0.9231183150078771,
          -1.06715034525385,
          -1.091681677502344,
          1.0426818747726814,
          -0.674104566042795,
          0.9413739817029543,
          -1.0648142142788297,
          -1.3399685644892123,
          -1.2010071079008189,
          -0.23462747477029858,
          -0.39634415975326837,
          -0.19309449350692573,
          -0.03144290242873228,
          -2.561743338758222,
          2.2657483240323364,
          0.9178731666073188,
          1.1771925212408074,
          3.6722246628724986,
          -0.3007104807960968,
          -0.2540113963708198,
          2.114468408532333,
          1.6067753698775353,
          0.8516521663195191,
          2.384241871414576,
          2.721818314795059,
          -1.4197111634028852,
          -1.3979275618466043,
          2.7536900418348034,
          1.8851815640481364,
          2.1109576417245024,
          1.63427208290662,
          0.22795678129795532,
          3.618584414870982,
          0.4342568688162427,
          -2.0458662521565016,
          0.961184353959313,
          0.31690779081453546,
          1.8556488599747065,
          0.023760660386180386,
          -0.7444851933801482,
          -0.6263030835779688,
          0.08807465097164065,
          -1.4840821668868232,
          1.9410655132246462,
          -1.4441306996437278,
          -1.6179050235716286,
          3.4417861816709365,
          1.3558405113446592,
          0.14500884075961182,
          0.36396255164996233,
          2.945436628199783,
          -2.0286930761328077,
          2.1517621849149235,
          -1.9071523753044959,
          0.1345858137161905,
          2.485501051057212,
          2.990763465948627,
          -0.18764873878328978,
          2.733157335884939,
          3.9871452604089628,
          0.6756119909962994,
          0.20184133900116777,
          2.4613803233383584,
          1.5680492075944394,
          0.9210168408969743,
          1.559580890424893,
          -0.895930730121072,
          -1.9244730922952589,
          1.0832892663525808,
          1.2423870032087125,
          1.2980824822463168,
          2.0826114619087543,
          -0.7328958056787279,
          0.9694572254949295,
          0.21490016224322514,
          -2.378350154074769,
          2.0984800847078424,
          0.6917675278150394,
          -0.17555440457313043,
          1.6459818997080855,
          0.7750469024952784,
          -1.3796018593360553,
          2.2535857618537865,
          1.2981565858154385,
          1.5495489072304829,
          -0.5935758569832499,
          0.5911648853148633,
          -1.1642440408743795,
          1.709246899119911,
          1.0401870617211917,
          -1.3700061737059712,
          -1.8907172671932766,
          -0.8554040294616151,
          1.2415797459877378,
          4.772896025738376,
          0.17005408837999764,
          -0.8249642152500206,
          -0.16756188447355183,
          -0.6323161794115189,
          2.7140188517576007,
          0.5349248741779916,
          -0.27209946257867496,
          0.4718442242702042,
          -0.38336394457980105,
          1.2358129507422135,
          1.9731828768886088,
          0.7827497989069455,
          -1.3058921668559462,
          2.841454561587467,
          2.278219958448781,
          -0.03395907216050843,
          -0.8151650498805217,
          -0.2711116717748513,
          0.009727055297018094,
          -0.22804282518541094,
          1.7263546548161746,
          -0.2834637304358082,
          0.3228574856353098,
          3.3111957770694525,
          1.503731377539572,
          1.1598684550626122,
          -0.5736394133169685,
          0.5872667291050332,
          2.2124336755563943,
          -1.1218667309146273,
          0.016708796876492366,
          -0.6591833735960481,
          -0.15030097151640526,
          0.6454131533725426,
          3.8169221157013666,
          1.3480351125138614,
          1.3794352932878706,
          -0.7729834918639092,
          -0.93556526155355,
          1.986736250571337,
          3.3263425156675854,
          -1.2120775782175048,
          2.5463325485126926,
          3.541774088741499,
          0.561417082957424,
          -0.4596355888817738,
          3.021407478794253,
          1.0754881218873011,
          1.366248919879875,
          -1.3384561442824936,
          0.638762633801542,
          1.0168290965842417,
          0.053157402715130926,
          0.31019045716679433,
          -1.8834256125862876,
          1.428855961429536,
          -0.2686014963883461,
          -1.1918601171767014,
          0.46456563441585,
          1.3631610261199416,
          -0.5938713001768203,
          2.3870514306035946,
          0.28971818945217753,
          -0.5805335206621609,
          -0.3090329517473123,
          -1.5573078387788075,
          2.3071546823921807,
          1.1726661598013937,
          3.423046416925641,
          1.649403142688389,
          0.39179312095846985,
          1.3494345225218989,
          1.9187278691799765,
          3.4028556151251674,
          0.1516488411347211,
          0.7133536349074454,
          -0.9652315146220964,
          1.825793742671618,
          3.4244992650100112,
          -0.36193700224432707,
          0.45039829262353526,
          1.303598593029485,
          2.501998405594392,
          2.9531649710194503,
          1.118930840265694,
          3.42802015554775,
          3.006332199002346,
          -2.0947641711440195,
          0.9038811384743687,
          -0.42627451345677014,
          -0.731589267456271,
          -1.4461287360656285,
          3.957521533850571,
          -0.3138228940810975,
          2.318935446470267,
          0.08383463998950248,
          -0.8755425503007767,
          -0.9880763044585716,
          0.608919207879064,
          1.454348387535414,
          -0.6090535539668633,
          1.4796119369859186,
          0.15607056201466366,
          1.5677971088072156,
          0.722360815066198,
          0.7836900743777678,
          0.8187197374674168,
          3.8626136226312857,
          -1.6174326357315372,
          0.8609354178950817,
          -0.5619373330159718,
          -0.23031010056992568,
          2.9031550438127196,
          0.5914665243897169,
          -0.03397110738420106,
          -1.9942511968360477,
          -0.6555306599132883,
          2.383614429900747,
          -2.109582891990276,
          3.4387588537918354,
          -0.5019634695622404,
          -0.42560855937144954,
          -1.087429952688679,
          1.681810023709621,
          -1.6578981346915025,
          -0.16034824242648685,
          -1.0497493837886742,
          0.4554175320744068,
          0.016527781018274734,
          0.32715554670937824,
          -0.841797880398952,
          1.0787536306630903,
          -1.4948990528913904,
          1.8812645930383074,
          -1.6459828113652688,
          1.4671672373778712,
          -0.8327340596763463,
          -1.5953280378135422,
          -1.4598865564131471,
          2.7624875053841205,
          -0.3590792259158483,
          0.3074757716526149,
          -0.7807821563304287,
          -3.124675186187543,
          0.22075737142628019,
          -0.23769406605391877,
          1.289943295420514,
          -2.150669069361999,
          -0.7409157899511554,
          2.2827296572162283,
          1.742293074377296,
          -1.0139992137931269,
          -1.199313676418436,
          -2.427404008502335,
          1.4373892678958917,
          1.667582113028187,
          -1.5814053888886213,
          0.30415985899604175,
          -0.7932656929719125,
          -0.7850994784921644,
          1.435424005345151,
          2.2857927726238936,
          0.009694783555977941,
          1.5330424500516453,
          -0.4502966600727867,
          0.0008637264974135842,
          1.604944486944222,
          2.629784097868712,
          -1.7253025142807823,
          -0.6187069388308788,
          0.9088852085016275,
          -1.2609057873102538,
          -0.6599807203267108,
          3.4072216916251254,
          -1.0892847379542199,
          -1.489053027424893,
          -0.6761969553784951,
          -1.9084359309562062,
          1.2908902037251906,
          -1.2750519317956541,
          -1.2775682022187322,
          -1.4247281084321468,
          -0.46264713267431057,
          -0.5908273402633273,
          0.6972528895217192,
          0.029250562187366273,
          -0.3491802680409921,
          -1.938176534424728,
          0.4333670009916295,
          0.18745380002405987,
          -0.32359610013055456,
          1.1134789963812046,
          -1.0369017467507027,
          -1.5974008363070318,
          0.19120414622527068,
          0.3031199209296396,
          -1.4559592094610116,
          -0.6199981118611468,
          -0.8722234999965706,
          0.9004459469460864,
          -1.624703864506789,
          -1.0620067660675327,
          -2.2755629237991304,
          -2.440208699056776,
          2.577146091455424,
          1.0270205742712069,
          0.20605160608780754,
          -2.5806978818047814,
          -0.5712340927903748,
          3.2809295345151113,
          -1.5637737698157403,
          1.220929319259294,
          0.48405119988479506,
          -0.5282922835012804,
          -1.130718342270349,
          -0.9269091463581625,
          -0.6185777612959643,
          -1.149984982086223,
          1.81732408640482,
          -1.374919853993869,
          -1.6520903601109056,
          -1.2986502655419165,
          -1.29758906578048,
          0.30582569662186376,
          -1.3462612700330832,
          -1.7470041523344149,
          -0.3049435064296679,
          -1.9671375499371748,
          2.227594784431964,
          -2.092828407330095,
          -0.4916305036083029,
          4.5438658192561485,
          -0.1354214088237645,
          1.4837110021992086,
          -1.9735855077767457,
          0.6485445278211157,
          2.8159472142033892,
          -0.8837272355087551,
          -2.0484071423793795,
          -0.36430759815659025,
          -1.9337969338970675,
          1.8965023833021204,
          -2.5289534773402695,
          1.0537655108575033,
          -2.277736331504055,
          0.07662343179028133,
          3.3988083414723422,
          0.25999896843582054,
          -0.406183078349044,
          1.6538884585059392,
          -1.5352700450358157,
          -1.9356353360904892,
          -1.8510204956705274,
          3.1195772507639954,
          -0.15782068814566697,
          -2.0431071289693947,
          -1.7025008051995114,
          -1.692635719247915,
          0.44368108673314166,
          0.9414181813994787,
          -1.8390780976763657,
          -0.45610670469487724,
          -0.6339026897236305,
          0.4091140281318513,
          -1.5204119627510224,
          -1.2375516026340845,
          -0.8241107478989337,
          -1.142608631337829,
          -0.36800278406626974,
          -0.09992803362028994,
          -0.5132760876552772,
          -0.3772743278176112,
          -2.1105012757184025,
          0.10317402358200232,
          0.3738668292156691,
          -0.2463996983332537,
          -1.6359726508062988,
          -1.9063700998743025,
          -1.4643646417374778,
          0.32892435456033253,
          1.2267724841840753,
          -1.7557167467884174,
          -0.177016568253121,
          -1.3226891081527248,
          -1.2996594708119211,
          -1.7999423994247208,
          -2.12383992168285,
          2.110533642888021,
          0.27656648050448795,
          -0.1119799042460769,
          1.823988543509315,
          -0.9448207406779584,
          2.9017839666393783,
          -1.2961319426863087,
          -1.054771322799344,
          -1.9432456271142624,
          -0.8424551238116027,
          0.7642415538626471,
          -0.8031613421822634,
          1.8413606419837791,
          -1.5722588282605576,
          -2.378949060589779,
          -2.046697597796914,
          0.3381033586442952,
          1.100081219362376,
          -1.1164607278804337,
          -1.772420642466765,
          -1.8310175220250158,
          -0.4259010742576661,
          -0.7312788647119315,
          2.4093522657847877,
          2.1607557427301245,
          -0.5813772934017873,
          0.2624334724733032,
          1.096382149411461,
          -0.28534639724735067,
          -2.6987369586835435,
          1.1044847326142337,
          -1.7038199518381596,
          0.1338051814402187,
          3.2009626334404584,
          -0.43699050092425873,
          -1.5825594733126365,
          -0.2977877562398279,
          1.4606956467340273,
          1.3584811570104256,
          0.3034197520525065,
          -0.34745031544220994,
          2.7032165576906038,
          4.193808522800384,
          -2.3708436093678036,
          -1.6841768505106596,
          -1.3386178296763795,
          1.0730592293504495,
          0.4017048708823051,
          1.3177895015223493,
          -0.5659892029206663,
          -0.3359988747068648,
          -1.533795327077408,
          0.6898892475567582,
          3.0848093131200485,
          -0.04365044388391663,
          0.9057953513995496,
          -1.9200562731398303,
          -2.145455224070539,
          0.1528662776112342,
          3.0169581731991353,
          -0.8592572205898961,
          1.006055717672714,
          0.5600336492453418,
          -0.3858666345839743,
          -2.3740652709903496,
          -2.368270756759438,
          -2.9297355475687823,
          -0.016150281643787706,
          -0.6099699698766243,
          2.5242900209945476,
          -1.23867252974924,
          0.24034586332089108,
          -0.7520570770740359,
          -0.42168560205983696,
          -1.3658693831850874,
          -2.0915528616191983,
          -1.4705239423270888,
          -1.0848104305268589,
          -1.9394418443923327,
          -1.2583795014474082,
          -0.7653043457422604,
          -1.9309619722346587,
          0.6986003366429955,
          2.7266497982511564,
          -0.31312696085423475,
          -2.7237183614350893,
          0.3187302889513951,
          0.6722560789881604,
          -1.108892226669197,
          -0.29220034707930015,
          5.50758930614519,
          -1.6290088935262066,
          -1.8701676613058087,
          -1.2839301029548542,
          -1.662608294220238,
          -1.3424876504850047,
          4.209876693600221,
          -1.2978207064350713,
          -2.007915554436768,
          -1.7224479052080397,
          0.8947630357971389,
          -1.2810423691148807,
          2.488666647867632,
          -1.8293784831943678,
          -0.5211568622893753,
          -0.3000967275418033,
          -0.02793081071735267,
          1.0689876485574887,
          -1.408244357987777,
          -1.1080096165229596,
          -1.8163632289565435,
          0.8241489393198445,
          -2.796707748494496,
          0.7393843330773563,
          -1.7474378791183138,
          -0.00609598544846059,
          1.408167150983335,
          -1.4645810443684297,
          3.0467644808940837,
          0.31614473665182324,
          0.32909226421120724,
          -2.566716020953027,
          1.5856943157920942,
          -2.071511142710049,
          -2.491427837313473,
          -1.4203324922354374,
          -0.18560461504563372,
          -0.5507159839556843,
          -1.0724936452222118,
          1.1613102771500952,
          -1.880068699053856,
          -0.07456111212183383,
          3.3274039931390904,
          -1.58405583156375,
          2.81943991149541,
          -1.0444176744965386,
          4.211641947391197,
          1.0794229629262222,
          -0.11882989336896096,
          0.39085037173945825,
          -1.9369368665246567,
          -0.6232096689832406,
          -2.0922673141272248,
          -2.303563115923988,
          1.9597256863328294,
          0.1809806769663213,
          -1.0131729735347228,
          1.2293854935992268,
          -1.7209860449165877,
          -1.79663582330297,
          0.6732560656650861,
          -1.8199472031325123,
          0.6396271459972275,
          1.6258080847702623,
          2.0389174152564307,
          0.28807849976968963,
          -0.7146799305523619,
          -0.2428845094924137,
          -0.6356688694049993,
          2.870085345060919,
          -0.6683960640125703,
          -0.6979451654322436,
          1.9890087688980511,
          -1.0777065342189138,
          4.444226004700193,
          -1.4588928738461104,
          0.26010634111675957,
          1.204295677184669,
          -0.7840118571613056,
          0.4912397733924221,
          2.3849556675193697,
          -1.6150175775575835,
          -1.0520266440846129,
          4.325744501011276,
          1.5371491956518561,
          -1.4455120596860296,
          -0.444022650981498,
          -0.6301388236803468,
          -1.0678869308280308,
          -1.5589477754061039,
          -2.0998324183115145,
          -0.4408834464371654,
          2.6469621872955433,
          4.9917452643618,
          -1.795701548681026,
          -0.8667009069374123,
          2.545174670505532,
          2.768907511410395,
          -1.5954226861734953,
          1.2964600389514396,
          -2.0015726570649326,
          -1.5473180046615667,
          -1.7575820876792674,
          -2.5410386856447253,
          2.1439292147451425,
          -2.0679925559202204,
          -0.13406997540005391,
          -0.6822412418684909,
          0.2696416432509034,
          -0.2567235966060685,
          2.501687714536089,
          -0.7486338746980841,
          3.378247388505974,
          -1.9766713638947113,
          4.433105675272268,
          -0.5272094646090439,
          -1.8314983455204634,
          1.69895986813143,
          -0.7220517275746055,
          -2.194661701655754,
          0.6744447750463621,
          -0.811728043479443,
          1.9936812635031984,
          -0.16642050595687885,
          -0.6524547723215517,
          -1.5143636525055193,
          3.236633295215645,
          1.828910750382102,
          -1.8873175360184764,
          -1.6781137998876556,
          2.3261136597007575,
          -1.8297782784862004,
          1.0148985980785599,
          -0.2727620110073359,
          -1.0518679515018854,
          -1.417583233538086,
          4.396190266311062,
          1.6695256601732487,
          1.9206364873431203,
          -1.9146874267385674,
          0.30833982242832125,
          -2.4347001458802464,
          2.36253796277895,
          -0.03567729691079276,
          -1.191104500821291,
          1.8924721441794161,
          -1.4085492547910532,
          1.6638226458621581,
          -0.720593151444181,
          -0.38706890273335376,
          4.677383739653715,
          -0.6787068598758532,
          1.8353053949135951,
          -1.5709026987888441,
          3.804860830783612,
          -1.5010370007880154,
          1.7717418875615405,
          4.065229642956519,
          -2.5427554060831965,
          -1.6359421931400433,
          -2.0289982083291527,
          -0.049447467623621226,
          0.563094957802003,
          -0.6892278591526421,
          -0.7454245278925334,
          -1.6776903248710564,
          -1.0266173887318333,
          -0.8330271503491908,
          -0.22531108208828174,
          0.67594774372716,
          -1.7348256716482449,
          -0.7826372986213114,
          -1.3896234832941707,
          -1.4248361984972313,
          -0.26438409456294576,
          1.5528480653708243,
          -0.45094583424407814,
          2.012783842520401,
          0.5114893926577316,
          1.3197270498769307,
          0.2547884216243245,
          -2.260784325745601,
          -0.278162789614135,
          -0.3007726204352553,
          0.8129773650443828,
          -0.700818266959323,
          -1.035073377198375,
          -0.5407795227155167,
          0.7262096258169629,
          3.203710157225555,
          2.069221725928679,
          -0.5718679080053519,
          -0.9418713105236772,
          1.18389610719011,
          2.3824089348753295,
          -0.3121643252462393,
          0.2624109992004877,
          1.9123333278056998,
          1.4321133281537486,
          0.4667918395400348,
          -0.8819003564609137,
          -0.7359566504241445,
          -1.5412653354828016,
          1.3200484292156347,
          2.500427728298403,
          -0.9014406603914463,
          -0.6188641802732768,
          0.5556730308455735,
          0.4031684905069641,
          -1.6561136126406577,
          -1.1633944891189267,
          -0.9789205009879531,
          -0.8819100182937465,
          0.37601355569800804,
          1.1288598536465186,
          -0.02070555896820064,
          -0.9295701008778923,
          -1.2679188382450928,
          2.668137849214096,
          2.222690989693349,
          -0.7549278838378535,
          0.16434519300326342,
          -0.3644299713073242,
          -0.3802745446651499,
          -0.4141517895947093,
          1.4317144444163574,
          0.7731019110230033,
          -0.16352814689787784,
          -1.408124643750255,
          0.6129833226089755,
          -2.7726166082633505,
          -1.2164338811836761,
          1.7869728096794404,
          -2.181436919708145,
          -1.1790750160990553,
          0.25856409730849383,
          -0.5081188248375,
          -1.2142569854747944,
          0.06177096743298138,
          -2.261627048376305,
          -1.3761533864870867,
          2.004269429352173,
          -1.39615422965192,
          1.701480351171994,
          0.7489263406157768,
          0.0057783409171382845,
          -0.19068577283798552,
          -0.3733296147887469,
          0.41097486289770724,
          -0.5057651865969831,
          2.3621067880705704,
          -1.7068174682684643,
          -0.06974218924798081,
          2.7020207985524496,
          -0.35389900439047134,
          3.366006438867303,
          -0.13563899330589474,
          -0.8756519384323188,
          -2.2489656796299915,
          0.4078304873771247,
          0.9589953623524398,
          0.45257243729026486,
          0.8897347517231725,
          -2.0984585384187167,
          0.2019845331371934,
          -1.1044421480055746,
          -1.2530719765620937,
          2.404750660889483,
          0.9408226271285771,
          -1.6205821095747774,
          0.7327644904263922,
          -1.9509575461640896,
          -1.4063323066646949,
          -0.6858487244750571,
          0.32431637776238714,
          -0.8634441699925469,
          0.005523083490488368,
          0.5739913237626109,
          -1.2010184694203423,
          0.4106469909429351,
          -0.05896241564955868,
          -1.1447705348923005,
          -1.037423120323463,
          -1.3351164426911297,
          -0.3085381262659463,
          0.08190767949269205,
          1.1481948281578944,
          -0.48447436513830283,
          -0.9064371345609875,
          1.3011056318770762,
          -2.3305397429483476,
          2.371262416946962,
          -1.7159332180153564,
          3.01180499192021,
          0.8289010428607111,
          -1.1741143744362608,
          -0.38149779532199374,
          -1.8107025590963708,
          -0.10758603302712368,
          -2.181869370277061,
          -1.6441474167579617,
          -0.40358319424485767,
          -0.17576505125583128,
          0.38773368092592075,
          -0.5684778498121286,
          0.038823881141704465,
          3.6248745429761504,
          -0.9769852113854028,
          -1.0844165343945444,
          -1.166505721864156,
          0.2510457427843506,
          -2.760168408986328,
          -0.8524540653238524,
          -0.008592012600423051,
          2.14338619640592,
          -0.9269403696437732,
          0.5001771027230526,
          3.570583716418675,
          1.5739565880324307,
          3.0015151045969555,
          -0.8819053976107948,
          -0.5117303196620595,
          -1.0202943001628195,
          -0.5296052400268508,
          -1.5555026915012682,
          0.059587313567360044,
          0.45438444906106995,
          -1.7316011251982764,
          0.5275276188464147,
          1.5836117462414472,
          1.077582027193534,
          -1.8929194237381939,
          2.0080614254754647,
          -2.1401851415541246,
          0.3668048111554192,
          1.0242331561893039,
          -2.0330238532328826,
          -1.4092475721336688,
          0.7111601065324136,
          1.3599808307888335,
          0.12883913571922856,
          0.3582862161914204,
          1.1134152997047149,
          -0.2881259745834738,
          -2.2304305101434165,
          0.9045996408135647,
          0.8558284610118941,
          0.22266742325981698,
          1.4580065366984538,
          -1.0047084309725238,
          1.6158649222199102,
          0.23188063967239922,
          0.30475212814562874,
          1.9699092662651483,
          -0.57202006369481,
          -0.2398159461799239,
          0.7800902490929874,
          -1.473457651137034,
          0.021584365669070096,
          -0.8706130161346181,
          -0.38333548435066694,
          2.4291702909273036,
          1.7792383898945923,
          -0.4635886087950306,
          -1.06834546022598,
          -0.12745503509277997,
          -1.8658007888226975,
          0.9490671307125259,
          1.076959532484569,
          -0.013301078031021296,
          1.0261837208046876,
          0.37512259174822543,
          -1.0339267778090953,
          0.3904670606422089,
          -0.08185544135404531,
          3.4506518604140637,
          2.688565510421762,
          0.8304840337685996,
          -0.7122943144729419,
          -0.08908929828178709,
          -2.286316707117542,
          0.65440916670834,
          1.4638357418708332,
          0.910762382763882,
          -0.37017153981782985,
          -0.1528505280386134,
          -0.40835612320262626,
          -1.7494431988379295,
          -1.1611906811705461,
          0.8647847434447871,
          -1.43537790411187,
          1.142635282625072,
          -1.5315200674653349,
          -2.1516054678557,
          -0.3174261890808673,
          0.23696784258518921,
          -1.4119401854768365,
          1.5709654641388624,
          -1.3502507139148516,
          -0.003963389517737057,
          -1.6322790418378899,
          -1.5648508689302265,
          1.2809299781607755,
          1.1503772232592264,
          1.3889983097380232,
          -0.6034376793287798,
          2.529300715812568,
          -2.3053429138180457,
          2.20118251169475,
          0.9511017271907019,
          0.5391219009745932,
          -2.3563867358249992,
          0.062230146927568224,
          2.199820163890463,
          0.41741711332700826,
          -1.0160906673077237,
          -1.2838750451834007,
          0.10645360942485216,
          2.086168304609945,
          -0.41844591019244765,
          0.913919926701978,
          2.2019430762776735,
          1.7406468338532597,
          -1.7721388312098239,
          0.2756665964245526,
          -1.467961544814496,
          2.3716822306066794,
          -0.13438188546344423,
          2.2963447649477664,
          -0.2700941635222762,
          3.754223413411755,
          2.594534007946664,
          0.003942510231805719,
          -0.6262314486067926,
          0.6778922426419806,
          -1.616874700165567,
          1.1895100360834623,
          -1.284139363621813,
          2.644656968091737,
          1.043801814814567,
          -0.03819392814743831,
          1.1598281708744704,
          -2.1446448197767967,
          -1.5688511886641674,
          -0.0522621543967046,
          1.4255100758117385,
          0.8508537602195252,
          1.186405802157023,
          1.7902696055341343,
          1.7067949466549148,
          -2.1582445186831554,
          0.3071663512602468,
          0.7547733921953779,
          2.1135167843824494,
          -0.5755507164009425,
          -2.2878482309324495,
          -0.1310294279508184,
          2.1478562869079987,
          -1.8950982095021407,
          0.7632575085202425,
          -0.649042133032969,
          -1.6533693285963267,
          -1.6522252804976365,
          3.5907323404957587,
          -2.1513765431744942,
          1.580839186972998,
          0.6431479107149829,
          -1.3404639107763356,
          -1.7155132104650517,
          -0.7036157637074745,
          2.1897644707908603,
          4.073088207158342,
          -0.7315352947524884,
          2.058384787612531,
          1.2837735831864063,
          -1.9572657733333652,
          -1.3167843887083175,
          -2.2410250294352667,
          0.6122733490429428,
          0.17701690747717982,
          2.0996191098074353,
          1.6389830095306746,
          0.09449611916923042,
          -0.4515347734684209,
          -0.2575852481088883,
          2.9056667122061928,
          -1.8852222333621766,
          -1.4283071210191922,
          -1.9595036489575544,
          0.30449557359738416,
          2.4099019058962994,
          2.593430349969732,
          -2.0489842985208293,
          2.9043245943228726,
          0.24136992507879476,
          0.887154654809826,
          -3.075254255949884,
          -0.8179727341077243,
          -1.2951828574730095,
          0.9629145709323139,
          -0.9293710674872719,
          -2.108273439632922,
          0.8128729819104025,
          -1.408168246945986,
          4.23190075108158,
          -0.4353223137960373,
          -1.528149828996794,
          0.6332825846112838,
          0.5149113395118979,
          3.31799129209611,
          -0.05448828431875052,
          3.8257502080862076,
          2.9139332778162275,
          0.5173147268855156,
          -0.8537851839172605,
          1.2889136523273739,
          0.5899649874060097,
          0.92628551789205,
          1.2810210355150027,
          -1.3442816655428418,
          -0.5845830493057929,
          0.554815254191314,
          -0.7950323716092755,
          -2.061384297518523,
          -1.6767038160849257,
          -0.432379263540972,
          -0.6878584595906346,
          2.660138404761888,
          -2.170751517788103,
          0.4262905005152843,
          -1.8275845141526288,
          -0.7247350587266467,
          0.9868514983390273,
          2.086027418224395,
          -3.013503761433881,
          2.8831789258027993,
          -1.1707495797633856,
          2.6316861407362793,
          1.17389386482613,
          2.0653142487489977,
          0.30648931609542435,
          1.349162343542459,
          -0.026569464923494532,
          2.4511626542542566,
          -1.3424143754323863,
          0.6536633885466171,
          -1.9481329679152022,
          0.018791473986110585,
          -1.1253879428529776,
          -1.7378861444052829,
          -1.2308201415307989,
          -1.7456750533622982,
          0.4808443317018967,
          -0.6695573808610109,
          3.7049203478321013,
          0.0662145766551875,
          2.334994927589957,
          -0.8710045768978645,
          -1.0696676830719554,
          -2.0382768645807223,
          -0.06476971109679232,
          1.0085542852628029,
          -3.2809694830544616,
          3.7555464553598394,
          -1.9956722106248255,
          -1.0540175085056862,
          1.4379677247243454,
          -2.3627286434715793,
          -2.9938335679807815,
          -0.14562555460715226,
          -1.6049505764637266,
          1.920411836092963,
          3.088605830817828,
          1.7522780523721135,
          0.9113896467794138,
          -0.04617432707961711,
          -0.009527295376500948,
          3.8897583297716465,
          1.033869085147704,
          -0.6643153289708711,
          4.424177546686418,
          -1.1825228510474854,
          2.946159771907097,
          2.897002832013276,
          0.1375099174252425,
          -0.37612245480219025,
          1.2872041367601568,
          1.7750583736064214,
          -1.7429256970751115,
          -0.07427044534517938,
          -0.45049629707233146,
          -0.7227797053865027,
          3.1632541206669873,
          -2.099990492545976,
          0.3281531894068136,
          0.5071211349459135,
          -0.8118076803428622,
          2.962572782813274,
          1.6716748215083728,
          1.963111509008712,
          -0.5073748026808134,
          0.932343766982369,
          2.372439249071798,
          4.1294932943012705,
          0.10779673489493656,
          0.02123600870174757,
          0.8008780574671145,
          -1.3224030051800442,
          0.22280864180419224,
          0.08172828739384329,
          1.3195420057380913,
          0.8915258650331761,
          1.1671200748259347,
          -1.8011436370730087,
          2.9905256873860946,
          -1.3040290647386175,
          2.046526170337317,
          0.21653547587956004,
          -0.4847834203157613,
          2.919292369630271,
          -0.13878058303035057,
          2.8771817106506985,
          0.9741548393831214,
          1.5961406916066023,
          2.6991889693042657,
          2.367813158786307,
          0.31259942417209224,
          1.283451776375073,
          2.0243674919179186,
          1.4208249823799084,
          -0.5075211278041403,
          -1.6546395282434778,
          2.001637379211924,
          0.5621316194742934,
          3.4056955692861597,
          -1.2451856862279964,
          0.6393940668486632,
          -0.27278321847559683,
          0.7535069797906162,
          2.002116255141071,
          0.06574856731472424,
          2.378815219952146,
          0.401311796638437,
          1.0541888330054172,
          -0.49449863904106806,
          0.7074688823853285,
          -1.8476087161541168,
          1.3962141318189734,
          0.40780499882159854,
          1.3514269368857006,
          1.4150683278976375,
          1.8068600359301243,
          0.13898910919480256,
          0.04704033561223087,
          -0.10617224036223367,
          -0.7724194860892243,
          2.8706597073621585,
          -0.6113014309915562,
          -0.383372368463365,
          0.564273196073084,
          -0.5360041079419032,
          0.09855826788142819,
          0.5046452930894492,
          2.1425327559540572,
          1.2242281508448032,
          1.2224297316191444,
          2.7470044053283065,
          -0.7370877416749815,
          -0.6404704363100278,
          -1.3763876571035758,
          0.11214957170452167,
          1.4556650302500043,
          0.8461299507678058,
          0.54969904719073,
          1.239457522777908,
          4.404941732335087,
          0.7374695160822573,
          -0.03554728510362679,
          -0.9971290997689759,
          -1.9441092722221673,
          -0.29387254641095145,
          -0.2696480600375364,
          1.6948119224120246,
          0.9415483536293155,
          0.15168901262519277,
          0.5373969424616445,
          2.8518533879359445,
          0.9080309603521126,
          0.22608949198766673,
          -1.7656705676562139,
          -0.12476493380564709,
          0.007393492225176507,
          0.9920777984997216,
          0.0027729780448149553,
          0.2625313295592224,
          -1.9327143313636408,
          2.8486467152612027,
          -0.8477321569204547,
          2.9997657560766573,
          -1.9890849984786845,
          1.098655630929721,
          1.1250322167290805,
          1.8370256565767598,
          0.802620567211777,
          1.1568755858734747,
          4.555666288235934,
          -0.23551109847113968,
          -1.4192254593516076,
          -0.009589253517619375,
          -0.7076754038618525,
          0.6610166982727987,
          0.7300020912413825,
          1.0552026078712626,
          0.17048660176951677,
          0.7890236776212554,
          0.5436138522436931,
          0.5616066674121605,
          0.469663766780574,
          0.3043561024861842,
          2.648926395316937,
          -0.47742290829193,
          -1.2506994280636063,
          4.723916434246771,
          -1.3793369672896942,
          0.5154806699715735,
          0.8205379113997429,
          -1.5916901171143254,
          0.5357569499089203,
          1.7103916573410607,
          -0.34197284883228457,
          -0.75644302841493,
          2.0437508599599106,
          4.899453296904568,
          1.7402526931509283,
          -0.5185819772999816,
          -0.7687938689581082,
          1.562479686475065,
          0.7239353499685673
         ],
         "xaxis": "x",
         "y": [
          -0.8599077952941855,
          -0.2986559037942225,
          0.011512972578589797,
          2.2188723814850646,
          -0.49176683328360976,
          0.5305287780380409,
          -0.6387657931696664,
          2.1358454817054193,
          2.417984439710403,
          -1.472337929504763,
          -0.6245648456581696,
          -0.4380382434407582,
          0.16935444685614934,
          1.6298762297557248,
          -0.6304477058534087,
          0.6641430381744854,
          0.8940219089996763,
          1.8515283461711598,
          1.1823937060512941,
          -1.2572297034060023,
          2.4093330654987692,
          0.2682860523535407,
          -0.7699870556296055,
          0.8754828689118355,
          -0.32800382903415376,
          0.6054308996888619,
          0.5694806698142904,
          -1.7340261765758664,
          1.002424837604008,
          -0.13094780705959153,
          0.6265061490892689,
          0.2645320670846615,
          -0.39475932524799456,
          -2.379085029757373,
          0.0958184470544105,
          -1.362084723483829,
          2.062878497929724,
          2.551712789657773,
          0.46954498431426756,
          -0.5583378120946388,
          -0.9683332058847999,
          0.28459980712017263,
          1.1883528437156623,
          1.939971429943105,
          -0.0065717211964814734,
          2.232606007815453,
          -2.4938534398109127,
          1.2287275959037918,
          -0.5536469317477891,
          0.6998180280840467,
          0.014874059325002475,
          2.0418313884403902,
          -0.3945951717674817,
          2.6934255014578707,
          1.6953590407949626,
          -0.1778160331638594,
          0.4513912491648797,
          1.1997019209789204,
          -0.5598296459003522,
          1.0036201201915929,
          -0.6652874831952347,
          -0.30531184893836366,
          -0.9047613094885744,
          -0.7111160058573278,
          0.18747728591966456,
          -0.7394593344103703,
          -1.3252196884234346,
          -1.4444609947717038,
          2.2735353414371353,
          -0.2479525652804109,
          -0.5627403298746422,
          0.8147170013981145,
          0.7681235621913018,
          0.7458409283761089,
          0.5294733688758968,
          -0.09055026163818576,
          -0.05513341075409699,
          1.0406419133309972,
          -0.4576701480285235,
          1.6147153936460803,
          1.2596180094035783,
          -0.045906654362521976,
          -0.311224515178475,
          -0.27583769149655496,
          0.6632887184731915,
          0.919624571037085,
          -0.6161482354600712,
          -1.1565066268099573,
          -1.2722758912470686,
          2.1864148541729294,
          0.753155833604229,
          -1.5467160886703073,
          1.2833064328231591,
          0.8631523457455091,
          2.644136666456379,
          2.403036978905917,
          -1.0813780322287396,
          -0.009926083860611357,
          -0.04485112837270726,
          1.238196844766702,
          0.452395859754363,
          1.367503700244655,
          -0.37112262579658784,
          2.1840768053359394,
          1.4075706126620828,
          0.3132940041538486,
          -0.9056629694796914,
          -0.5051382760477262,
          -1.0052854523309658,
          1.4354427778036867,
          0.485911230238764,
          0.5676587225332309,
          0.3459184849794331,
          -0.06547677896245342,
          1.0857833622771096,
          0.6160152852904089,
          1.112531606433778,
          -1.5634778508888334,
          2.5895717309983013,
          0.8974831966093837,
          1.9057164576432015,
          0.1478786024848835,
          0.9617464907829504,
          -0.41460393443664684,
          -2.2955027881110266,
          -0.9945091381928771,
          1.8101241122984622,
          -0.9029034387585628,
          0.10092755925551428,
          0.6208669390218974,
          -0.4617135051272349,
          0.38075222634623745,
          0.9291868283530705,
          1.0574147526531819,
          0.9518756282461914,
          -0.7536317022772882,
          1.2288092920822142,
          -1.7947966793505234,
          -0.3982403151835579,
          0.565160072912148,
          -0.5639048715203727,
          0.6255481900113407,
          -1.143431855236515,
          -2.503183980716981,
          -0.15629563141252362,
          1.2148509893864812,
          -1.0209440855982084,
          1.8385132861901055,
          -0.168831587227956,
          -0.14615637831433975,
          -0.22079333552495858,
          1.422909887359158,
          0.3972167680539793,
          -2.869817515091329,
          0.5879902828517488,
          0.5613740801898951,
          -0.1613045895316155,
          -0.13573879132209601,
          0.2960914640086531,
          -0.07905811609076382,
          -0.23561561825481084,
          0.07648040309980478,
          -0.6648908733649117,
          -0.8205958794474509,
          0.7133681923647078,
          1.2874222829072834,
          -1.1980677834319235,
          -0.30113565279789206,
          -1.0570212029817945,
          -1.006417730843775,
          -0.298053973174306,
          -0.9330747517036913,
          0.031624596293449415,
          0.9501400018176489,
          -0.026544007066650506,
          -0.13336817115236835,
          0.9086205541254151,
          1.804035433439266,
          -0.5112902835763363,
          0.8520988046711976,
          -1.2669187879047648,
          -0.3547620449724402,
          1.3189019856732243,
          0.2709351430679282,
          -0.4002772831142505,
          -1.697622165664873,
          2.824082777301223,
          0.18854921392652063,
          1.8786573050481796,
          0.017534383417132694,
          -1.4348775067034458,
          -0.4341852027228964,
          -2.0339206729412163,
          1.2398714505310255,
          1.3724387045858408,
          0.8926799729111766,
          -1.1166531101375936,
          1.0923156706759731,
          1.5981210526221887,
          0.7194628193539191,
          0.06853506874166655,
          1.3135900205509627,
          -1.23180717930773,
          -0.4198874948813094,
          2.0424672880497146,
          -1.8002838013897404,
          0.1797790391390942,
          1.0508765062332317,
          -1.2109556752205741,
          0.1313505673819249,
          1.285190893771068,
          -1.0661438781294577,
          1.0921185530776392,
          -0.6665682219436595,
          0.12232905509427404,
          1.3428743639882998,
          -2.95422909205525,
          1.187830646966522,
          -0.993262419166586,
          -1.2644926217206691,
          0.8288903988560039,
          -0.9454434649241558,
          0.9897037553894781,
          0.5850977487003851,
          -0.963705615329964,
          1.1087094436109,
          2.901117335218191,
          0.5019879916531635,
          0.48584730304458673,
          -2.7316278874419337,
          -0.06295908108058054,
          -0.6921877701853008,
          -0.8551649272782942,
          -0.2639017227001719,
          1.5411850280860169,
          1.2853177684642239,
          0.1362768226052973,
          2.604379561995371,
          -1.857933200400373,
          1.9572137449100635,
          -0.8892058030911344,
          -0.46496662560901586,
          -0.3323264650984234,
          2.525686677018206,
          -0.1979222896923908,
          0.387179983471746,
          0.2271853902005778,
          1.4288664531608548,
          -1.0647570594434153,
          1.2295552335473554,
          -0.3738700711333016,
          2.620633979767036,
          -0.284491366216652,
          0.7570456653972312,
          0.40991791182551307,
          1.6568758308548945,
          -0.05486358312022243,
          0.4410559732756481,
          2.8697797714992093,
          0.20375354147061334,
          0.7807483432335226,
          1.8668104327519834,
          1.3082271025786496,
          -0.32709106209806105,
          0.6832779998990851,
          0.13189453105880627,
          2.673685845433427,
          -1.712033839509855,
          -2.2102668447812017,
          0.8659798513883713,
          0.7705550488526505,
          0.2128216152131847,
          -1.255894644269154,
          1.0100735295884717,
          -0.5946564132023033,
          -1.8177110509270016,
          0.15517214964213918,
          1.9718511446830105,
          2.926817177467867,
          -1.4547394967788911,
          -0.057867645312729185,
          -1.089879867044407,
          -2.0606971336914257,
          0.2793823656184315,
          1.761662650578854,
          -1.5743647826613505,
          0.42498214655844796,
          1.7102672885213706,
          0.32825177757742136,
          -1.2191603605889718,
          -0.9032201667491827,
          1.659005787154284,
          0.0009338029788949347,
          0.0748003669211743,
          -0.025055967153926134,
          -0.37147028111446767,
          0.1855898846064735,
          -0.8132515379521849,
          0.5381248342718218,
          -1.2182711411752027,
          2.562760610931975,
          0.5013139734325663,
          -0.5420431974291458,
          1.0912238193947699,
          0.21638362039816628,
          -1.6116419734918024,
          0.260465221206023,
          -0.24326991676833223,
          0.3909651955897438,
          0.4582954570828106,
          0.8832498318768066,
          1.8456463365785254,
          1.3024425528483117,
          0.4055498755779419,
          1.8181644127980319,
          -1.5693176096744326,
          1.1855554843078366,
          1.64442198110957,
          -0.10955046776144377,
          2.000502579945798,
          -0.053333831884077504,
          -2.090447836916433,
          -0.9183176541139698,
          1.262561790062894,
          1.6349096915740797,
          0.8943508705626078,
          -0.6159921270547568,
          2.0584304262672646,
          0.567263940294844,
          -0.33782269509484003,
          -1.642754016951898,
          0.51641913001565,
          0.15838942237281892,
          0.5220937101106528,
          -0.9774586980804012,
          -0.1865167647935468,
          -0.21137923150177015,
          -0.7692843749778067,
          1.708165763864653,
          1.086882336232417,
          -0.9816341447695733,
          -0.26776932080879834,
          1.4040751996726164,
          2.3456562227033113,
          0.7883385662897006,
          0.04601755923927244,
          -0.1173396595570297,
          -1.0670164023753688,
          -1.376709010941753,
          0.5995726368152846,
          2.891428564899865,
          0.058505100219763705,
          1.206129056793974,
          1.26201841777411,
          2.5731183098279087,
          1.867050583242122,
          -1.6389143967537017,
          1.556319862475087,
          0.9841577330777131,
          0.8756178296269648,
          1.190351914373879,
          -1.416522443257112,
          0.7867372411620249,
          0.21963417150560086,
          0.08505688514099524,
          1.8995084279507894,
          2.0522203086775934,
          0.09882485370426172,
          2.6668363017418693,
          -1.5004530104285023,
          1.3993250370690185,
          -0.21486704551303837,
          1.1483318467673778,
          -1.838051258896347,
          -0.39604906116694816,
          0.21494878268951131,
          0.9580121025308587,
          1.7987352777474537,
          -0.33885918729992365,
          -0.1796260020902142,
          -0.443413251168848,
          -0.6739449164046385,
          1.1939589881499786,
          -0.8386017360898159,
          0.23159283437077455,
          1.3895996631970906,
          -0.17868655577292414,
          -0.6562017295272506,
          -1.0552702904510989,
          -0.8140417262640085,
          1.849858883307353,
          0.5309340291167868,
          1.0044935723434307,
          1.277336403676072,
          1.6298309417208348,
          0.18841561919698604,
          -0.21588485468959562,
          -1.5045255610589647,
          0.20524578053889117,
          -0.9746013430765624,
          0.0828151134723469,
          -1.482993089930231,
          -0.10750440063421432,
          -1.4181809821630598,
          -0.011449125969552647,
          1.582976832574767,
          0.12626943130400295,
          0.41025115591973416,
          -1.2625875959516026,
          1.8798238686099786,
          -1.1458960623302745,
          0.6695742971543766,
          -1.5818815734109253,
          1.0601904188907358,
          -2.252828055597211,
          -0.488489464459997,
          0.0074430754683038535,
          1.643338255902782,
          -1.7312908505660274,
          0.3583190220401697,
          1.1696293527237802,
          -0.5984996389197911,
          0.17158316461213177,
          0.6555684050902555,
          1.1508155612825366,
          1.6274690029321413,
          -1.3874099917964693,
          -0.6151363251043088,
          -0.18866098118783342,
          0.907075560043481,
          1.2198469753788275,
          -1.3067409530710066,
          -0.3623056690046988,
          0.08063393966524139,
          0.20095077375132545,
          1.9161818595925058,
          0.5545191615261852,
          -1.8866100664276255,
          1.5387703195142834,
          1.4712882130518994,
          -1.9639915086514763,
          2.3003598925601203,
          0.4962982546239513,
          2.886362083683646,
          -1.253919012515595,
          0.8932455153420129,
          0.1753222459207665,
          0.6322687639033158,
          0.7569455340545672,
          1.028685402744869,
          1.5221864290467488,
          0.8734167917048371,
          1.7612778862373957,
          0.17105300385169084,
          -1.3625759397629629,
          -0.5233088555105804,
          1.243275488206067,
          1.3034466526854176,
          -0.191477747132281,
          -0.29230107508034564,
          -0.2743770470155744,
          -1.328003571854762,
          -0.725827886663167,
          0.24622459364313345,
          0.7357064129993369,
          -1.3541966179404403,
          -0.6966585035052817,
          -1.5497006624163163,
          -0.6855724400897472,
          -0.0081578668268031,
          1.410361771487136,
          -0.56076778181919,
          2.3049972807680756,
          1.395852917020979,
          -0.7088294749651067,
          -0.029598196445225645,
          1.416609414059577,
          1.940560349367464,
          0.48780936976613387,
          1.1972520171528862,
          0.26651474562212546,
          -0.5569298231169544,
          1.7089627835606318,
          0.7187628754540438,
          0.5033999693879527,
          0.8810182386659979,
          -1.224604718194341,
          -0.5601382933200529,
          1.0867601451426134,
          1.3393410445340366,
          1.1635915671987425,
          0.19745373857671933,
          1.314719459454252,
          2.1647803726978134,
          1.4652544415474493,
          0.49183016848068,
          -0.15129470278349316,
          1.5168326124322928,
          -2.5849856994552627,
          -0.8340939823700135,
          -2.1082227877136894,
          -0.48823098903494616,
          0.5482542473478955,
          0.494409640922588,
          -1.1906206226506422,
          -1.2999381303877673,
          0.17119833381704094,
          -1.8457747759485152,
          1.9879576966663117,
          -1.405166980742522,
          0.4479289542755603,
          2.442404322524886,
          -0.17078622249426592,
          0.5874310426307697,
          0.34896945503252463,
          -0.3784307227725615,
          0.30086094047035467,
          -0.8196645939036707,
          0.9266919856663701,
          1.5034749707312511,
          0.46321963231705554,
          0.8375213400024081,
          0.2954528731412627,
          -0.6069020862097714,
          -0.23151074835452498,
          0.8959276569810634,
          0.6653209335207423,
          -1.8900122577479925,
          1.4292913103383658,
          0.43160934475831675,
          0.3815694703695171,
          0.6224139023499861,
          1.5502415003146979,
          0.24123988504954602,
          -0.02419078268162174,
          -0.8255388777813178,
          1.148169401217404,
          -0.2709730818334198,
          1.4530100503610779,
          -1.6495807310124946,
          1.5679735549789073,
          1.0023687309725597,
          0.9813644174314669,
          1.0211349230736353,
          0.0038087241706443744,
          -1.8499870154250475,
          -0.8076279204460621,
          -0.61271415004774,
          0.44447568929106823,
          -0.9563748254582335,
          -1.3086518707547952,
          -0.0014819950573207097,
          0.13364880279817853,
          -0.1042323344202367,
          -0.4407623769445947,
          1.5656874365538034,
          0.4991596298150294,
          0.9130699107172892,
          0.30637193525603373,
          -1.6384874590677507,
          -0.4619685878623084,
          1.48632828561837,
          1.0629293107250442,
          -0.612945397254049,
          1.9785397933796467,
          -1.7620531701243356,
          0.23037918013099273,
          0.2789871791142391,
          -1.262549923420284,
          0.8661086924752714,
          -0.33013024430071475,
          -0.776718397841616,
          -0.6542898352339245,
          -0.9209261905904723,
          0.5901129598867341,
          1.966701809734965,
          -0.9254275751914292,
          -0.3165858250918555,
          1.542423097758324,
          0.7313732618418741,
          -0.8492252404621448,
          -0.2898964187709418,
          1.4727047020835198,
          0.0036991301539260847,
          0.9960380963558639,
          -1.208579629803572,
          1.0047916393625091,
          0.6321181986697165,
          -0.5619647427231614,
          -0.7175898850561208,
          1.2699224624140235,
          0.6538982213647547,
          -0.5242137006688918,
          1.4238434468958934,
          2.430814944133225,
          0.019105127925756263,
          -0.6101570940325368,
          -2.066535743351581,
          -0.46097915533899514,
          -1.1474178186209267,
          0.3680637045800182,
          0.6308703659699421,
          -0.09439839191500408,
          0.20088520618621009,
          0.8661445478158176,
          -0.1942541110649695,
          0.783509834115358,
          0.49884374638977813,
          0.25131704000741456,
          1.4222598526692332,
          1.1649038555367286,
          1.172305923032455,
          -2.1488167070366266,
          1.8096189944057657,
          0.18990591197446835,
          0.20460096417533577,
          0.8414805357879859,
          -0.4380044354932261,
          -0.1855046877933318,
          -0.311784290830057,
          1.0420702481212896,
          -0.27773736648387315,
          0.5441675928095854,
          0.15443825793689742,
          1.9843799057938278,
          -0.8006145681156278,
          -0.2066788462869861,
          0.4757950924493138,
          1.3780274399479226,
          -0.40583745706744245,
          -0.1540334812396432,
          1.3328892150309088,
          -0.5378300576827358,
          1.3463750402934627,
          1.9423110829556351,
          -0.3306119161873638,
          -0.6564778712707244,
          1.2915200454527331,
          -0.9763548092841601,
          -1.559050806146291,
          0.30577358030640334,
          -0.20035352941652815,
          1.8134615739059268,
          0.7816104828347802,
          -1.7809578005523972,
          1.1059600806635594,
          1.1817298831976897,
          0.5966415458621287,
          2.6166799927864264,
          -0.915364842894476,
          1.2617524280651973,
          0.6891803270335887,
          -0.971638119736074,
          1.6438490101598489,
          2.034587188279996,
          -0.59282299747422,
          -0.3838402801259499,
          -0.084091655368193,
          -0.7516786721563075,
          -0.1462753897167903,
          -1.7813002875644053,
          1.6255019290371167,
          1.6485459002113234,
          1.033680740502871,
          1.0456156483909005,
          1.7876690142681073,
          -0.42136522673123744,
          -0.9211910664067832,
          -0.7675458992202171,
          -1.085815350187559,
          1.3578660105654698,
          -0.1113435560308551,
          0.12053509784648227,
          -1.0161455436821594,
          -0.39176236612410287,
          -1.3787125133755744,
          1.0853659117420624,
          0.7929923811176419,
          -0.6067364810381821,
          -1.4207136734888772,
          -0.6392608140324341,
          -1.0581792758699136,
          1.0292629253545384,
          0.2942062169696674,
          -0.8097164300122303,
          1.4285591655484604,
          1.1155249613542053,
          -2.2180627081786235,
          -0.868401141529576,
          -0.9282324038396979,
          -1.7848666481946167,
          1.1272140407998146,
          1.111922099393254,
          -0.4548973641119701,
          2.339165657085231,
          1.837769864755824,
          -0.03190798867145541,
          0.6089103393686611,
          -0.848802009245262,
          0.3429330335749802,
          0.07251437691814805,
          -0.8094812049812896,
          0.5673120364504215,
          -1.8511700231655752,
          0.7821869401396381,
          -0.1637001230742737,
          1.322974714219445,
          0.8629244062236917,
          0.09731150826283234,
          -0.4952925376650014,
          0.4452888079665608,
          -0.9097755626587042,
          0.6812570086767604,
          0.7676587143736461,
          -2.631159443342129,
          0.7800355896363006,
          0.30580743625630336,
          0.07607391395094124,
          0.37657345311161233,
          -1.2027253708859562,
          -0.40407080407574375,
          1.126387859925791,
          1.2010562186422964,
          -0.12304009317580342,
          0.6233130642344612,
          1.1839321375470078,
          -0.04122858833523072,
          -0.05560062078332474,
          0.24359135878552227,
          -1.4219397562178993,
          -1.2028661005986674,
          0.3447906596622798,
          -0.12636793977127275,
          -1.1535938814654585,
          2.368351980484343,
          0.15674987988074068,
          -0.9791260989903845,
          0.9982940516610905,
          1.6645494445848295,
          -0.14062976159501506,
          0.20517630151402977,
          -1.085617468191678,
          -1.4119336826232352,
          2.5409052542274018,
          -1.1495359040516349,
          -0.3286721847933167,
          -1.9087191823473344,
          -0.7690360540120729,
          -1.8624227652378669,
          1.3844018137939165,
          2.681969311513394,
          -0.0140722857132293,
          -1.6428273933591044,
          -0.13922654367761142,
          -0.3056042296161229,
          2.203146833481453,
          1.2492364894318904,
          2.7987192692433775,
          1.007312625000699,
          0.6200685782330854,
          -0.49343727341166627,
          -0.8768192721466957,
          -1.3881608814459718,
          0.4440603523178095,
          -0.027426975820992003,
          0.17440829501761065,
          0.3889171380018959,
          -1.4340481037532833,
          -1.456255636359597,
          -0.6550729704960971,
          -0.4905904179731331,
          0.3560125049259954,
          -0.6088239556574543,
          0.7493854776757707,
          -0.5821412993103416,
          0.6468988441710064,
          -0.11180815624402632,
          0.20399422278287196,
          0.41051438563456016,
          -0.571477229552686,
          1.8723082873534902,
          -0.8762895698761203,
          -0.4096504132097585,
          -0.5895017365877104,
          -1.926033484587155,
          1.3140244035672637,
          -1.499753888152202,
          -1.8918863808157804,
          0.9557868013626529,
          -0.7765243994524051,
          -0.4442150646359609,
          1.292639456750913,
          1.4889105646178746,
          -1.6488952127828087,
          -0.9081250676847584,
          1.54270875068586,
          0.7419145826675065,
          -0.18684919976219735,
          -0.8219149877159834,
          1.0647535561623442,
          0.6494155499237485,
          0.7434962839446922,
          1.0675260126168258,
          -2.0697987752041453,
          -0.2794850917090272,
          -0.9269536554914994,
          -0.3093495647035958,
          -2.2404598172853607,
          -0.10993836300937515,
          -0.16792065051604863,
          -0.03612764659557025,
          -0.881864783669614,
          -0.6580460877819433,
          0.8973384161494206,
          0.04262450821078101,
          0.2375640406721305,
          0.4132855474359355,
          1.3218048761644379,
          -0.7083674228477989,
          0.8578829156591004,
          -0.8630745461565364,
          -0.5800195495272565,
          -0.7813672546924482,
          -1.0636399101075513,
          0.010473384463207901,
          1.8019170629119543,
          -1.9884085221230077,
          -1.3123531206714643,
          -1.5599895496557705,
          -0.06687816844586462,
          -0.016789131372250393,
          0.6908808224238637,
          -1.5551841870165306,
          0.06695047211124266,
          -0.7997634472141709,
          -0.3091174266260095,
          0.7495950071951277,
          -0.19929985550553342,
          0.867485189359599,
          0.42715256503216437,
          -0.7718905971962038,
          -0.8437260509950277,
          1.1563897587785672,
          -1.2831565582958675,
          -0.5623480635817013,
          1.029033870493827,
          0.1906518703663381,
          0.4224157512002214,
          -0.7901474332955002,
          1.20841126029756,
          1.2627325993335539,
          2.0040924586383846,
          0.4579994014956379,
          -0.32757426687657604,
          0.9953699648191141,
          0.15931064468915923,
          -0.9894406249224609,
          0.2839224436998736,
          1.9287105513927925,
          -0.5683029930476926,
          0.2554571377319022,
          -0.8103597237887775,
          1.9097123968006933,
          -0.5309482886377629,
          -3.1670559633215944,
          -0.8604403430578078,
          -1.9172838161726922,
          -0.5060867670957276,
          2.0196371349336055,
          1.1349372008572292,
          -0.6482223353542453,
          0.47521619728786957,
          -1.996506195966098,
          -0.1680146112875171,
          -0.45017888641216613,
          1.359188814402578,
          -0.4479165601057595,
          -3.1612927957654917,
          -0.8959819011552174,
          1.2115485495418468,
          0.2736482334798308,
          0.6869103282334914,
          -1.3576514105949493,
          1.031820252923797,
          0.12493059474917587,
          -0.12003627240497092,
          -0.2689793458395297,
          -0.4621349828662394,
          -2.1099950436925563,
          -0.9296880264101599,
          -0.14431629946118435,
          2.2296096580736005,
          0.23506107232337006,
          -1.298091779665608,
          0.26270092929950833,
          -0.8275081442304623,
          0.6746591540672889,
          -0.7615774713691031,
          -1.8086318508243389,
          0.2986012971966682,
          1.8020283593704103,
          -0.4546120505070012,
          -1.3201377594664754,
          0.8173745017137565,
          1.2497151477739161,
          -1.1747160678355468,
          -0.8356225481636279,
          -0.7566931323989123,
          0.6056584490851901,
          -0.9515539110292123,
          -1.6108280842853027,
          0.8211140332927771,
          0.8550358130795146,
          0.31287635568171784,
          1.8426494689008144,
          0.547070865435517,
          1.625542204679043,
          -0.37903747391272263,
          0.7445401985714731,
          0.8093703730169187,
          -0.9487484570702135,
          -0.6196835633619565,
          -0.05788904697608603,
          1.2422791340163153,
          0.08360131253564432,
          1.2479708231695594,
          -1.6118908743119216,
          0.4754953691616976,
          -1.1631989690243398,
          0.006561098793288431,
          -0.910915679774279,
          -1.7386962688892693,
          -1.6140501480433376,
          -0.401630149548506,
          -0.8562966548120278,
          -0.8238788737433945,
          1.4061438607493222,
          -0.2420776384776524,
          -1.7947311273318418,
          0.2458897660403659,
          0.5018409404634429,
          -1.7237140849010837,
          -0.09699143738214351,
          -1.5333947356666402,
          0.6706274317645106,
          0.7732552484221938,
          -1.7983472379758234,
          0.6576958307070107,
          0.11336618149744938,
          -0.7908476549991965,
          0.7445717819473728,
          0.6985753935516263,
          0.25329560597523765,
          -2.5546247460620455,
          2.276945414254118,
          -0.6831955139437295,
          -0.09120135373545374,
          -1.267646653445975,
          -0.6177970113727127,
          -0.7580658647142627,
          1.0095365658287447,
          1.5190465729541827,
          1.3625466286676493,
          1.2536135806550903,
          -0.005642412150487734,
          1.6285265645017895,
          1.9983198917242189,
          -0.730488073220986,
          -1.2414720323646236,
          -1.179565425559255,
          -1.1402011523321316,
          -0.4751812232648233,
          0.8420231960697206,
          0.5957333926113645,
          -1.7898948319531869,
          -1.160080588578689,
          0.21676377779959016,
          2.073645711052277,
          0.16044161251939926,
          0.9960725144694069,
          0.931323811484357,
          0.22443904677251766,
          1.7529713793475599,
          -1.5680017735448752,
          0.5507473369364668,
          0.5989420197629796,
          -0.07771629522027143,
          -0.04461242754374796,
          1.3745401495479892,
          0.7926894175672017,
          -0.7232049589876353,
          -1.2281494347978443,
          0.16536580263533693,
          -2.0297392032295534,
          -0.570046162085456,
          -0.7994331270152033,
          0.04396823851249035,
          -1.0299652495139806,
          0.1182303396784103,
          0.005730348801244215,
          0.586603250675133,
          -0.46604156058835405,
          -0.07244186791118849,
          0.1399038545256855,
          1.2940419611356184,
          1.7785027439173517,
          -1.236169186997075,
          1.0085275166146224,
          -0.36826534908314745,
          2.3155463613437077,
          0.5727666005867627,
          -0.6418619951107771,
          0.01578702001986463,
          0.2875770424701456,
          0.4593657389579125,
          -1.7154886599483394,
          -0.11444884375832387,
          -2.154456636737427,
          0.7579584009998962,
          -0.6503661926254833,
          0.2780270258539378,
          -1.4157835406339758,
          1.0285436340463407,
          -1.1524132178684994,
          0.5307896709775729,
          -1.8329207195701445,
          -0.7375609053520541,
          -1.4083153412320195,
          0.626337413822417,
          1.214800268553226,
          0.7495629631925402,
          1.7992406508793535,
          -0.024015524611394844,
          0.9533363068606803,
          1.316526303625625,
          2.422469891054135,
          -1.3813572914337109,
          0.5568485397805414,
          -1.1824496015342665,
          1.1782540408547408,
          1.3362045987996387,
          1.0762059242339268,
          -0.2582520500885314,
          2.589121973538491,
          -0.8473745397010538,
          1.9628822180813452,
          -1.480075628870999,
          0.7089668957654779,
          -0.2204752743576385,
          -2.1102937672006807,
          -1.5900017957577364,
          -0.9411949234841951,
          0.5060688401297626,
          0.3956185299825996,
          -0.9971472180134014,
          -1.807519563435576,
          0.5560861396988124,
          0.6613771868284972,
          -1.5214023975900117,
          0.301015592425952,
          -1.032747511057252,
          1.7181059715945304,
          0.04268133999166789,
          -0.850838119935338,
          -1.5591646716699137,
          -0.397749021543089,
          -2.797679700926408,
          0.0810014744903391,
          -1.430918017284055,
          -0.8907171245149563,
          -2.7557738688031757,
          0.9216524859583731,
          2.237545204092953,
          -1.0732112701649081,
          -2.4780766240476124,
          -2.542492727624786,
          -1.2795636677911468,
          0.6670189639784183,
          -0.37677289792299995,
          2.5073589413092052,
          -0.8704894971553586,
          -0.8936878114333879,
          0.5980575579552684,
          0.1636160606077466,
          -0.0848774623735082,
          -0.8787128897426616,
          -0.7715913473616073,
          -0.7399780126081993,
          0.7422515459228115,
          -0.717160030940823,
          -0.22245592330664485,
          -3.0174478473888726,
          0.26466399185976214,
          0.6545603680015988,
          0.13390293453983235,
          -0.7462808371306906,
          -1.006515553803879,
          -0.09606162869449963,
          -1.723394336058432,
          -1.1810318301033278,
          -1.5559240938407886,
          1.0150904074275546,
          -2.6488686583289307,
          -0.46733635331705176,
          -1.0068475538138772,
          1.0207593840266125,
          -1.580588314512385,
          -0.07623428436087105,
          -0.6773707170817432,
          -0.7583205998560125,
          0.14121323917498732,
          -2.5467360193176742,
          0.6487869254130557,
          0.4892027332124044,
          -1.956291814420653,
          0.9767757712823534,
          -0.6247141400925579,
          -1.2540562846151615,
          -1.047744731223592,
          -0.12209175581282872,
          -0.36996648939500737,
          0.5009254326553674,
          -0.3540628992713286,
          -1.0933740491762267,
          -1.033343199976991,
          0.1042671472167661,
          0.40674709014068916,
          -0.8610891668195415,
          -0.7306783921369966,
          -1.9035024031053471,
          1.055329411151234,
          -1.1606044537617966,
          0.1315677484781856,
          -0.044468405813764274,
          -2.3981016590689967,
          -0.537393456347256,
          1.9343256742895987,
          0.916707648410877,
          0.5338244822460527,
          -0.6290507190722209,
          -1.3618292593678214,
          -2.5776802578876317,
          -1.513593908718508,
          -1.3821825809822383,
          -1.8738900756527612,
          1.2124194391507723,
          -0.6493953836737967,
          -2.3409700848856887,
          -1.839302527765744,
          -0.2176736604427821,
          0.9735395860834241,
          0.07522462235767838,
          -0.6070885019075848,
          -0.9644834460001178,
          0.5296295419848696,
          2.1663978826925296,
          -2.3308122133088816,
          1.7754394988007625,
          -0.7044600891761875,
          -1.6428004121404887,
          0.0650458888253698,
          -1.246031238811195,
          -0.7678181790724932,
          0.7667566710225094,
          -0.766694249275316,
          -0.769667056286732,
          0.4444714311797173,
          -1.3204859900809693,
          0.21026091782272258,
          0.316369386110696,
          -1.6151942727061035,
          1.4944585652352464,
          -2.5247356444017575,
          -0.6138398125875748,
          0.6804625459231529,
          -1.96459088327351,
          0.001683126751036078,
          2.351629157762906,
          0.4972331824608856,
          1.201749648473938,
          -0.4519571731923862,
          -1.069763638890298,
          -1.6230818056238174,
          1.0967867639578976,
          -2.595335700941435,
          -1.53990821924052,
          -0.2604178208188176,
          -2.873981759481751,
          -0.9528446088715254,
          -0.24981128862663673,
          0.8637035734460848,
          0.31355703560023157,
          -2.344309800857686,
          -1.1972415392494151,
          -0.3007985069096538,
          -0.5913726497913857,
          -2.473426709836794,
          -0.7563059095070283,
          -0.027363747710940363,
          0.9943081632135933,
          0.9495512138419747,
          -1.60855049564804,
          0.15769386856689296,
          -1.896966968221732,
          -2.28510151739461,
          1.277207566554561,
          -0.5558276666609746,
          0.689085347979633,
          -1.110089676858801,
          -1.8248176122346886,
          2.6993436345060537,
          -0.23201005706060293,
          -2.0192707470168765,
          -0.5680648971729642,
          -0.5728676071310264,
          -0.45416183734276233,
          -0.47837029186965757,
          -1.5938201890582764,
          -0.42757496211308743,
          -1.7122639887020141,
          -0.3797282732757385,
          0.7790592080024569,
          -1.1213747080008156,
          -0.46953270763582733,
          0.47227719727766154,
          -0.8134570412289923,
          -2.0982113594187055,
          -0.593806554135281,
          -1.3889156687684232,
          -0.5278328415395903,
          -1.2664142173882542,
          -1.942747893711171,
          -1.4325309999651141,
          -0.3683076040016088,
          0.3590084447550914,
          1.377786680556753,
          -0.42758861807654064,
          -2.1331288291803805,
          -0.8079522955652524,
          -0.2579063006081005,
          -1.1318899144901522,
          0.44182796983024264,
          -0.46596494967143326,
          -1.001941562082814,
          -1.2178120164251434,
          0.5652288401498484,
          -0.7158762554998471,
          -1.1123053708213468,
          -1.4724662083922953,
          -0.3700907898307952,
          -0.016188054067206463,
          -0.39343032863864197,
          -1.4587642054076932,
          -0.5868027066187921,
          -0.7205240764524448,
          -0.2600110881769587,
          0.6727448763049452,
          0.1670139226156017,
          1.9080113358057533,
          -0.3081868002369354,
          -0.7449997176211868,
          -1.033312312163893,
          0.3079601205263393,
          -1.4761105673339092,
          -2.6878762405114656,
          -0.7688438797282547,
          1.2424030451111305,
          -1.022754260500152,
          1.5919455502662354,
          0.3473896894090053,
          -1.2901686030869346,
          1.506687433847744,
          1.025433744807014,
          -2.2006914546004603,
          0.23454976760561344,
          2.0480828864593486,
          1.0219387870189176,
          0.6084607305803987,
          -0.758833421583459,
          -0.19225978909738406,
          1.0869884057639885,
          -0.6488099401349234,
          -0.8810617731069473,
          -0.9877589187812589,
          0.18397885966905117,
          -0.622724822509997,
          -0.39896056078845354,
          -1.0424577797335466,
          0.6164696579413277,
          -1.5102432718172503,
          -0.45393171062817605,
          -0.8270327513680388,
          1.5665138134788663,
          -1.5794185818212372,
          -0.8286859783928617,
          0.890294107263863,
          2.6977206603568145,
          -1.9383450227543575,
          0.12319159774760194,
          0.24449640631131586,
          0.07280990399729778,
          -0.4511509431038933,
          -0.7535282136619545,
          -1.217425027014281,
          -1.3828171353374434,
          0.562151689970466,
          -0.4512480879642923,
          0.7465795515535131,
          1.549086010086074,
          1.2342150596905643,
          1.4158094396097243,
          -0.7391876599469578,
          -0.5909672235815289,
          -0.5575605031262129,
          0.5866250541568488,
          -0.9605620819886246,
          -1.9237071780633563,
          0.2429559993730857,
          -1.4746439885716771,
          -0.5987809042110739,
          -2.495406647169123,
          -1.436822288975152,
          -1.2082865352140775,
          -0.8508174221797037,
          -1.4261943203791914,
          -0.07034675467786704,
          -0.8011272731238334,
          -2.0729253568560564,
          -0.9864796277228453,
          -0.647796066658761,
          -1.4774567125917846,
          -1.229646847875332,
          -1.4970140668527494,
          0.564908578946887,
          0.0628105603939654,
          -1.5166214913372729,
          -0.06797201821945034,
          0.3505069600161908,
          -1.3231305510528415,
          -0.3810941649886238,
          -0.6820080691684646,
          1.9070323456721632,
          0.3559230613097961,
          -0.4483330769045752,
          -0.013033614745272827,
          2.256560200814889,
          0.18188839496537892,
          -1.7206600770208764,
          -0.35803839073587335,
          -1.007279676695453,
          -0.3773962153977075,
          1.012389435278751,
          -1.0412162858424456,
          -0.3811281320767263,
          -1.421430261633242,
          -0.7800875861136574,
          -0.6070031562346737,
          -0.8359398676938301,
          -0.0005782056866639956,
          0.22387695411875708,
          -1.4721393788135524,
          0.8818815560843429,
          -2.339848437715478,
          0.1932204211869738,
          0.3435810207050779,
          -2.6552336352812023,
          0.08806598951832353,
          2.7956414104431047,
          0.5272106366860279,
          0.7519362110816361,
          -2.2660759104238393,
          -0.9248380033088341,
          -0.6887370477253261,
          -0.8915668661421166,
          -0.44252766212403455,
          -0.5689736137083823,
          -0.7236702681591617,
          -2.2920230284739533,
          -1.0485752663336316,
          -1.086279264619911,
          -0.8814575394988022,
          1.029317885460703,
          -0.5128071293842353,
          -0.936126576640688,
          -0.2663219783963405,
          -0.6962171649866616,
          -1.1079072805555275,
          0.8632603312299705,
          0.45189711933922616,
          0.8610569087057426,
          -0.40731409831108006,
          1.715333391924323,
          -0.6910440484589206,
          -2.1158622976158705,
          1.2583514832535694,
          1.5540529905908105,
          -0.91615505737179,
          -1.0116234916830724,
          -0.07292198046944434,
          -1.6288598987637894,
          2.1434765797219253,
          1.2461852431361031,
          0.2920283099566219,
          0.17626418210624256,
          0.001658689407512546,
          1.725246195069219,
          -0.8999874840022382,
          -1.529965433993567,
          0.027056432256476783,
          -1.7417179544090293,
          -1.1903119054315034,
          -1.375105561731913,
          0.656906322854883,
          -1.2951908354592714,
          -1.2424257073203702,
          0.8282841862274485,
          -0.2296248460766898,
          -0.9603674649335922,
          0.693060195460339,
          -1.0049131127415405,
          -0.9734072113825437,
          -1.2921249113578546,
          -1.6501486267990473,
          0.9395609214512141,
          1.3969271082921257,
          -2.18928635869359,
          1.5066289999440587,
          2.526457530887401,
          0.027076676295985785,
          -0.16883406204789897,
          -1.1206585419706756,
          -1.0100596792405065,
          0.5449515536243238,
          -1.16178653031705,
          -2.5532114135026753,
          -1.8586488278369104,
          -0.7884687510672723,
          1.7802453421616784,
          -1.1308115808731072,
          -1.1841403908646113,
          -0.075990486784074,
          -0.8326812719711157,
          -1.0773540873580314,
          -0.5801284330305093,
          2.18416428532868,
          -0.16072203921880698,
          0.38318730863089306,
          -0.7365394116073479,
          0.2637549989995859,
          -1.1464017984165198,
          -2.0148556904156782,
          0.29134861617432856,
          1.181106303811072,
          -0.4279946226915692,
          -1.7406866725657684,
          -1.381578409311721,
          -0.6883105394972725,
          -1.0099013596625837,
          -0.6731094626457981,
          -0.8828086185901826,
          -0.4085645901443544,
          -2.1266872197416253,
          -0.9971597546473999,
          -1.1730818419439537,
          -1.539524947555838,
          1.0045255425181376,
          2.123346724120181,
          0.9730071311613918,
          -0.6199503608446173,
          1.0409669599153717,
          1.6746194284099332,
          -1.4700660615404422,
          -1.1462404790354457,
          0.33143276033754615,
          0.6195187286766771,
          -2.1012387433247337,
          -0.8127829810658598,
          -3.2939861457268305,
          1.481980990968989,
          -1.8801528259826406,
          0.8521692121680435,
          -0.4719261577966695,
          -1.3575247030121265,
          -0.9888539243822664,
          2.3485542327750357,
          -1.5000509194948166,
          -0.6074228582862461,
          2.195971291438034,
          0.376122814914596,
          -0.7290256991578336,
          -0.5298688266423326,
          -1.0110262215150145,
          0.16966320921986233,
          -0.5181310668194661,
          -0.7809785570351794,
          -0.8911909619489281,
          1.5095546577561931,
          -1.2508375524530444,
          -0.9028413612037091,
          1.99636461389478,
          1.1295234049953347,
          1.0915339908227042,
          1.8082859311347386,
          -0.8744340985274752,
          1.3490232182744322,
          -0.4121189374708726,
          1.4715596360558,
          -1.0340425083948375,
          -2.3507153327971793,
          -1.1660573169572253,
          -0.6967512771727191,
          -0.8787514376935519,
          0.747169194122488,
          -0.44614226211186275,
          -0.6970708443225896,
          1.150265269949985,
          -1.0553032661573902,
          1.337224412440764,
          0.6412308208516772,
          0.33942066556640604,
          1.905162616437033,
          0.9693219783102024,
          -0.12352910228865922,
          1.9859502121054264,
          -0.8699662588027322,
          0.4339648812284673,
          1.3680060381696697,
          -0.5673107397106348,
          0.6291335655488792,
          1.9914063157847974,
          1.725002763728836,
          0.9570412790475705,
          0.8081313851189454,
          -1.1523454521900518,
          -0.1567820302198578,
          -2.2188116587359623,
          1.4322157968321452,
          1.4363915563414453,
          0.8987874119415982,
          -0.08099011860755087,
          0.011391078591839722,
          1.0911767639250458,
          0.30440268384751085,
          1.4089511634385483,
          1.1176269556627694,
          0.18955645996218323,
          -0.17357045449381822,
          1.2597896915765847,
          -1.2249965307009696,
          -1.481245999381332,
          0.09627907356077992,
          -1.381633525176725,
          2.3884119858245283,
          1.518063213160156,
          -1.882392966231871,
          0.573376588138958,
          -1.2817462469076253,
          0.09694666244120077,
          -0.5780015787440419,
          -0.10407106223546038,
          -2.8464498321288216,
          -0.1761554492953837,
          -0.6638535740689689,
          -2.194168618411498,
          -0.9757645329615667,
          -1.0715387091995778,
          -0.2581006678036169,
          -0.10621398113309574,
          1.999124556932067,
          2.622622546902423,
          0.1786688039301333,
          -0.12512577076620335,
          -1.06535828139265,
          0.22340817962172388,
          -0.9682221567206263,
          -0.2520596805517691,
          0.9889632330811842,
          0.24520659890311458,
          0.12224371009919435,
          -0.8598435491318203,
          -0.5529667612435167,
          0.13342127895190864,
          1.8979216618445212,
          1.550294953405312,
          0.4873765132742409,
          -1.0014355491325535,
          0.8134793998601942,
          2.1866042986227576,
          0.4646266205222084,
          -1.825199967778705,
          -0.7705959679221178,
          0.3982085527037441,
          1.0645385456911092,
          -0.1996956522655548,
          1.1663395213372438,
          0.5258339277656284,
          -0.6424815614887174,
          2.2989453734158527,
          0.3679972956397966,
          -2.0933542691756606,
          0.4838844622391762,
          0.5928601364406869,
          0.4769473894363128,
          1.3400090308690134,
          -0.8040819109310595,
          0.24387440363753385,
          0.24351809260903176,
          -1.9152688747750495,
          0.7632825512433516,
          -0.40663525805797557,
          -1.708302538797089,
          0.8645727733893779,
          0.5976009399406691,
          -0.02410257663194633,
          2.4804522886792677,
          -0.9870433878845302,
          -0.2386201154266522,
          1.2232962094561872,
          0.18188701600670704,
          1.053267895975017,
          -0.7199540729052869,
          -2.6800837198854315,
          2.0446729514985518,
          0.37078546412506713,
          0.07605304852909348,
          1.0498032069361618,
          1.3207126389254653,
          -2.1193187230523542,
          0.800931084260265,
          0.48395510139927506,
          2.1732782053251274,
          0.770250311569134,
          -1.5522709475117478,
          0.31262038087286204,
          2.001440053715224,
          0.3113720016011742,
          0.26788910559751383,
          -0.18569225003397624,
          -0.4508900462252778,
          0.41967080610608243,
          1.69226808194256,
          1.804299483281951,
          1.5084687623550201,
          1.9405567779747204,
          -1.6514201092400196,
          0.5528803130241979,
          -0.1478075965848508,
          1.1555242483977866,
          1.0949462025650678,
          -0.10374324480560775,
          2.851023683818511,
          -0.17326364821360726,
          -1.4726536453584247,
          -0.9426353409119674,
          1.4021405388448316,
          -0.20390341583730826,
          2.1418892795251563,
          2.5118303089538685,
          -1.666828356245685,
          0.9828457621800827,
          0.8287278700031432,
          -0.6247067444493504,
          -0.5131609371333303,
          -1.0899325451923432,
          0.06748825964485927,
          0.568927747004988,
          2.426562331609971,
          -1.9377290561128655,
          2.612997343366601,
          -0.36437102655819814,
          -0.8520413348618695,
          0.32570637594882795,
          0.45188142351868776,
          -0.8557453092898276,
          1.5342905887921727,
          -0.311669966563786,
          -0.1457617395932429,
          0.04295363043169988,
          0.34475047743964676,
          -1.6957217687271466,
          -2.0230075888128765,
          0.11974535120507511,
          1.3506542474737924,
          -1.1646447272146534,
          0.9170498655380778,
          -1.3320806508630125,
          0.6997317165129537,
          -0.3229596547485404,
          2.2401788355821783,
          0.8822229166849569,
          0.9748564438370152,
          0.6085743107435588,
          0.14835589345875766,
          -0.6680473411528908,
          -0.2182227963497748,
          1.0781127655802716,
          -0.6097121403656007,
          0.9550943937929962,
          -1.3280934020969426,
          -0.045558613669058494,
          -0.15947325021855568,
          1.7101605704880958,
          -0.9262417754851785,
          0.5332702557933692,
          0.7454514727954967,
          0.32189974380638503,
          -1.4371444679801852,
          -0.13918173574504278,
          -2.310748031800008,
          -0.22064342069976542,
          0.2693506728893763,
          -2.270944698875335,
          1.8243324130026188,
          0.5396728508328252,
          -1.6342626588605695,
          0.33476298134056676,
          1.8842794676324537,
          -0.32941770209246635,
          1.979557811901118,
          -0.4318556948992267,
          -0.23248153801699808,
          1.0991714297418207,
          0.658308090576256,
          1.9220266826497612,
          -0.3423934384433267,
          2.909763799129792,
          -0.017930484533953742,
          -0.9446996339537493,
          0.021731273911939627,
          0.13282180280297107,
          0.19027022052491274,
          1.2136244506544474,
          1.5551006704204524,
          1.0113130111090074,
          0.9580482057961861,
          -0.3510546113625719,
          0.21307896249821126,
          1.2810437939680301,
          -0.6843586204524812,
          -2.0273071743948634,
          -0.5779523462621944,
          0.4361540026543958,
          -1.1178507631601509,
          0.3758823139626398,
          1.340615092543159,
          -0.24991981280450998,
          0.788290382498156,
          0.6613372578915226,
          -2.1192424850697242,
          1.0085677796713435,
          0.3898197503124574,
          0.5513647377556387,
          -2.13738996490327,
          1.5015589602892265,
          0.45257961100814836,
          1.5332673561006214,
          -0.23641897900182443,
          1.0381219816318767,
          1.0441277856434117,
          0.1492119629944145,
          -0.8001905327051144,
          0.13398062904662753,
          0.518044673648096,
          0.15054158778875387,
          -0.30725642766827665,
          0.05235690006619613,
          1.8834123862869416,
          -1.0031079444928659,
          1.0253969687862163,
          -0.3384820127000276,
          -2.2499905378121694,
          0.2577488809313631,
          0.04585645860944257,
          0.7794086554177942,
          1.7480571624152654,
          1.154257659179524,
          -0.8946701561474284,
          -0.42943938044107827,
          -0.7949218619499333,
          -0.3657046731533859,
          -0.8605287710475604,
          2.1451138912290095,
          0.9191937241953195,
          -2.147843180420185,
          -0.18259995331026066,
          -2.42308568446872,
          -1.4643098359193252,
          1.2424896704532602,
          2.1495912230088776,
          1.0910679104716001,
          -0.8513150187309382,
          -0.2450323425697424,
          -0.18496742641625408,
          -0.2004417325210732,
          -2.4292846666383925,
          0.7181755284728489,
          0.8009979961145762,
          1.3826217883086693,
          1.5510026494636089,
          0.16723576406955173,
          0.5734955813433709,
          -0.5459507849410853,
          1.1982576926907493,
          1.3274670091003644,
          -0.251390450216564,
          1.1043438466940283,
          -0.29624312541346676,
          1.3578539258467326,
          2.5670630162233676,
          -0.718808934255758,
          0.24295553732918795,
          1.3668225036594972,
          0.4663313751281734,
          -0.7598764316364762,
          1.926948420926387,
          -1.066673506737317,
          0.6958130276214664,
          1.1956940346505052,
          -1.0718055435040958,
          -1.108065914201526,
          1.138632184048744,
          3.5648904463470874,
          0.8303753585403965,
          -0.6152928225160865,
          -2.5743138692435106,
          0.7332963008462242,
          0.573519788479048,
          0.8029622548594071,
          -0.3009049675663864,
          -1.1168602794985858,
          -1.1445540072542553,
          -1.469684893820533,
          -1.4402936745700903,
          -0.1910854723526588,
          -0.826446010681701,
          -0.6269618022365969,
          -0.7264741139604933,
          -0.19146536602795927,
          -1.592545629445846,
          -0.7725011617261107,
          1.883522322762773,
          -1.4531436388768173,
          0.7242128292776409,
          1.7637140274796137,
          -0.15474876434098744,
          -0.07236216959231724,
          -0.7931551508469047,
          -1.0267920104930663,
          0.1302722144404441,
          -1.0960947200455042,
          -0.1793581402649628,
          0.5204996406669858,
          -0.5865866298454169,
          0.05886225191966565,
          -1.3309849208791882,
          -0.5335484770491682,
          -0.07509253971667187,
          -1.1477661395123195,
          0.47078882619973406,
          0.5414200331130625,
          -0.03706485035248816,
          -1.5698726027159908,
          -0.24222087723299218,
          0.7960757485350595,
          0.0980709703694439,
          -0.5552250887453507,
          -1.2166973626337279,
          0.6478609706202464,
          -1.140229823561939,
          0.17021211093942473,
          0.38492276888539445,
          -0.525723753496816,
          -0.8942796507142873,
          -1.8999901835347557,
          -0.6415362836880745,
          -0.7459196086990526,
          -0.1129198096128644,
          -0.8576594386448367,
          -0.700374893592047,
          -1.2018721121931506,
          -1.7924786436482312,
          -0.3895908424995814,
          0.21262374344015192,
          1.881059441742306,
          1.2349848265642773,
          1.4216673569114844,
          -0.37291366152045197,
          -1.905860564519904,
          -0.5158106947502197,
          -1.119529438393874,
          -0.21788015199963656,
          1.8950027908189742,
          0.9627679647002048,
          1.0442536029272498,
          0.24575551326327116,
          -0.31225793825476644,
          -0.3820016724273711,
          0.35835873548717523,
          -1.6132077380836454,
          -0.30780047577299013,
          0.025601756389303332,
          -0.08551269893984627,
          0.5401249841995218,
          -0.6533222145618085,
          0.05074890406438102,
          1.0151490695795797,
          -1.616824020579413,
          -0.8091015774773739,
          -0.2368485783140896,
          -1.6622860315512265,
          -1.283673874183852,
          0.5289743880670621,
          0.13926078074581683,
          -1.2905246253095723,
          0.4449609419502515,
          -1.811724912658655,
          -0.39784042068210607,
          -0.07557793510143809,
          -1.3738981235794738,
          -0.621691473531612,
          0.2906848635493902,
          -1.878491825232326,
          -1.7519921704287877,
          0.49721425991288104,
          0.10165447406562415,
          0.7329013811213815,
          1.5571267675873286,
          -0.7768173618010583,
          -0.33420154992944645,
          -0.385719536887332,
          -2.0844410226412755,
          -0.26674634531202523,
          2.3188198718327406,
          -0.2725967806858148,
          -1.1073559156714645,
          2.015195129461716,
          0.1296095816037852,
          0.4426158522810834,
          1.027490253338414,
          -0.17250667061887848,
          -0.10262205603821772,
          1.442242812025888,
          1.14207094748687,
          -0.5272049489780194,
          -0.25862489692463375,
          1.013196975277746,
          -0.2654013963496053,
          0.25122354469475655,
          1.1385864192218516,
          -0.39997818158689497,
          -0.4431350981219796,
          -0.09889702873380576,
          -1.9344727789545701,
          -0.47172831502929946,
          -0.8792964863763834,
          0.4489618410771938,
          0.30201767317633027,
          1.3884538211702442,
          0.3727664157812429,
          0.9536807592958,
          0.7317296290965756,
          -0.09172446343592522,
          1.8586768792220651,
          -1.283838783746283,
          0.36910951478624987,
          0.31752692625909446,
          0.3518385274934734,
          -2.131340996943986,
          0.03706165807611222,
          0.45634076879979374,
          -1.409726627305421,
          -0.025246274388684944,
          -0.6375483408766197,
          0.9179560544619496,
          0.9243902632479425,
          0.8069394134676419,
          -2.642204410112701,
          1.769914614435851,
          0.04462563732231346,
          0.2012935228424556,
          0.9276110543092283,
          -0.4093491579397184,
          0.9324923689204768,
          0.396426267813867,
          0.6106043773671623,
          -1.482481206514292,
          -1.0187798723775703,
          -2.009478789461378,
          1.3631641172435405,
          -2.4040046026568502,
          0.46736779861363553,
          -0.4964069705683487,
          0.13454319229056755,
          -0.7090383562123533
         ],
         "yaxis": "y"
        }
       ],
       "layout": {
        "coloraxis": {
         "colorbar": {
          "title": {
           "text": "Cluster"
          }
         },
         "colorscale": [
          [
           0,
           "#1F77B4"
          ],
          [
           0.1111111111111111,
           "#FF7F0E"
          ],
          [
           0.2222222222222222,
           "#2CA02C"
          ],
          [
           0.3333333333333333,
           "#D62728"
          ],
          [
           0.4444444444444444,
           "#9467BD"
          ],
          [
           0.5555555555555556,
           "#8C564B"
          ],
          [
           0.6666666666666666,
           "#E377C2"
          ],
          [
           0.7777777777777778,
           "#7F7F7F"
          ],
          [
           0.8888888888888888,
           "#BCBD22"
          ],
          [
           1,
           "#17BECF"
          ]
         ]
        },
        "legend": {
         "tracegroupgap": 0
        },
        "template": {
         "data": {
          "bar": [
           {
            "error_x": {
             "color": "#2a3f5f"
            },
            "error_y": {
             "color": "#2a3f5f"
            },
            "marker": {
             "line": {
              "color": "#E5ECF6",
              "width": 0.5
             },
             "pattern": {
              "fillmode": "overlay",
              "size": 10,
              "solidity": 0.2
             }
            },
            "type": "bar"
           }
          ],
          "barpolar": [
           {
            "marker": {
             "line": {
              "color": "#E5ECF6",
              "width": 0.5
             },
             "pattern": {
              "fillmode": "overlay",
              "size": 10,
              "solidity": 0.2
             }
            },
            "type": "barpolar"
           }
          ],
          "carpet": [
           {
            "aaxis": {
             "endlinecolor": "#2a3f5f",
             "gridcolor": "white",
             "linecolor": "white",
             "minorgridcolor": "white",
             "startlinecolor": "#2a3f5f"
            },
            "baxis": {
             "endlinecolor": "#2a3f5f",
             "gridcolor": "white",
             "linecolor": "white",
             "minorgridcolor": "white",
             "startlinecolor": "#2a3f5f"
            },
            "type": "carpet"
           }
          ],
          "choropleth": [
           {
            "colorbar": {
             "outlinewidth": 0,
             "ticks": ""
            },
            "type": "choropleth"
           }
          ],
          "contour": [
           {
            "colorbar": {
             "outlinewidth": 0,
             "ticks": ""
            },
            "colorscale": [
             [
              0,
              "#0d0887"
             ],
             [
              0.1111111111111111,
              "#46039f"
             ],
             [
              0.2222222222222222,
              "#7201a8"
             ],
             [
              0.3333333333333333,
              "#9c179e"
             ],
             [
              0.4444444444444444,
              "#bd3786"
             ],
             [
              0.5555555555555556,
              "#d8576b"
             ],
             [
              0.6666666666666666,
              "#ed7953"
             ],
             [
              0.7777777777777778,
              "#fb9f3a"
             ],
             [
              0.8888888888888888,
              "#fdca26"
             ],
             [
              1,
              "#f0f921"
             ]
            ],
            "type": "contour"
           }
          ],
          "contourcarpet": [
           {
            "colorbar": {
             "outlinewidth": 0,
             "ticks": ""
            },
            "type": "contourcarpet"
           }
          ],
          "heatmap": [
           {
            "colorbar": {
             "outlinewidth": 0,
             "ticks": ""
            },
            "colorscale": [
             [
              0,
              "#0d0887"
             ],
             [
              0.1111111111111111,
              "#46039f"
             ],
             [
              0.2222222222222222,
              "#7201a8"
             ],
             [
              0.3333333333333333,
              "#9c179e"
             ],
             [
              0.4444444444444444,
              "#bd3786"
             ],
             [
              0.5555555555555556,
              "#d8576b"
             ],
             [
              0.6666666666666666,
              "#ed7953"
             ],
             [
              0.7777777777777778,
              "#fb9f3a"
             ],
             [
              0.8888888888888888,
              "#fdca26"
             ],
             [
              1,
              "#f0f921"
             ]
            ],
            "type": "heatmap"
           }
          ],
          "heatmapgl": [
           {
            "colorbar": {
             "outlinewidth": 0,
             "ticks": ""
            },
            "colorscale": [
             [
              0,
              "#0d0887"
             ],
             [
              0.1111111111111111,
              "#46039f"
             ],
             [
              0.2222222222222222,
              "#7201a8"
             ],
             [
              0.3333333333333333,
              "#9c179e"
             ],
             [
              0.4444444444444444,
              "#bd3786"
             ],
             [
              0.5555555555555556,
              "#d8576b"
             ],
             [
              0.6666666666666666,
              "#ed7953"
             ],
             [
              0.7777777777777778,
              "#fb9f3a"
             ],
             [
              0.8888888888888888,
              "#fdca26"
             ],
             [
              1,
              "#f0f921"
             ]
            ],
            "type": "heatmapgl"
           }
          ],
          "histogram": [
           {
            "marker": {
             "pattern": {
              "fillmode": "overlay",
              "size": 10,
              "solidity": 0.2
             }
            },
            "type": "histogram"
           }
          ],
          "histogram2d": [
           {
            "colorbar": {
             "outlinewidth": 0,
             "ticks": ""
            },
            "colorscale": [
             [
              0,
              "#0d0887"
             ],
             [
              0.1111111111111111,
              "#46039f"
             ],
             [
              0.2222222222222222,
              "#7201a8"
             ],
             [
              0.3333333333333333,
              "#9c179e"
             ],
             [
              0.4444444444444444,
              "#bd3786"
             ],
             [
              0.5555555555555556,
              "#d8576b"
             ],
             [
              0.6666666666666666,
              "#ed7953"
             ],
             [
              0.7777777777777778,
              "#fb9f3a"
             ],
             [
              0.8888888888888888,
              "#fdca26"
             ],
             [
              1,
              "#f0f921"
             ]
            ],
            "type": "histogram2d"
           }
          ],
          "histogram2dcontour": [
           {
            "colorbar": {
             "outlinewidth": 0,
             "ticks": ""
            },
            "colorscale": [
             [
              0,
              "#0d0887"
             ],
             [
              0.1111111111111111,
              "#46039f"
             ],
             [
              0.2222222222222222,
              "#7201a8"
             ],
             [
              0.3333333333333333,
              "#9c179e"
             ],
             [
              0.4444444444444444,
              "#bd3786"
             ],
             [
              0.5555555555555556,
              "#d8576b"
             ],
             [
              0.6666666666666666,
              "#ed7953"
             ],
             [
              0.7777777777777778,
              "#fb9f3a"
             ],
             [
              0.8888888888888888,
              "#fdca26"
             ],
             [
              1,
              "#f0f921"
             ]
            ],
            "type": "histogram2dcontour"
           }
          ],
          "mesh3d": [
           {
            "colorbar": {
             "outlinewidth": 0,
             "ticks": ""
            },
            "type": "mesh3d"
           }
          ],
          "parcoords": [
           {
            "line": {
             "colorbar": {
              "outlinewidth": 0,
              "ticks": ""
             }
            },
            "type": "parcoords"
           }
          ],
          "pie": [
           {
            "automargin": true,
            "type": "pie"
           }
          ],
          "scatter": [
           {
            "fillpattern": {
             "fillmode": "overlay",
             "size": 10,
             "solidity": 0.2
            },
            "type": "scatter"
           }
          ],
          "scatter3d": [
           {
            "line": {
             "colorbar": {
              "outlinewidth": 0,
              "ticks": ""
             }
            },
            "marker": {
             "colorbar": {
              "outlinewidth": 0,
              "ticks": ""
             }
            },
            "type": "scatter3d"
           }
          ],
          "scattercarpet": [
           {
            "marker": {
             "colorbar": {
              "outlinewidth": 0,
              "ticks": ""
             }
            },
            "type": "scattercarpet"
           }
          ],
          "scattergeo": [
           {
            "marker": {
             "colorbar": {
              "outlinewidth": 0,
              "ticks": ""
             }
            },
            "type": "scattergeo"
           }
          ],
          "scattergl": [
           {
            "marker": {
             "colorbar": {
              "outlinewidth": 0,
              "ticks": ""
             }
            },
            "type": "scattergl"
           }
          ],
          "scattermapbox": [
           {
            "marker": {
             "colorbar": {
              "outlinewidth": 0,
              "ticks": ""
             }
            },
            "type": "scattermapbox"
           }
          ],
          "scatterpolar": [
           {
            "marker": {
             "colorbar": {
              "outlinewidth": 0,
              "ticks": ""
             }
            },
            "type": "scatterpolar"
           }
          ],
          "scatterpolargl": [
           {
            "marker": {
             "colorbar": {
              "outlinewidth": 0,
              "ticks": ""
             }
            },
            "type": "scatterpolargl"
           }
          ],
          "scatterternary": [
           {
            "marker": {
             "colorbar": {
              "outlinewidth": 0,
              "ticks": ""
             }
            },
            "type": "scatterternary"
           }
          ],
          "surface": [
           {
            "colorbar": {
             "outlinewidth": 0,
             "ticks": ""
            },
            "colorscale": [
             [
              0,
              "#0d0887"
             ],
             [
              0.1111111111111111,
              "#46039f"
             ],
             [
              0.2222222222222222,
              "#7201a8"
             ],
             [
              0.3333333333333333,
              "#9c179e"
             ],
             [
              0.4444444444444444,
              "#bd3786"
             ],
             [
              0.5555555555555556,
              "#d8576b"
             ],
             [
              0.6666666666666666,
              "#ed7953"
             ],
             [
              0.7777777777777778,
              "#fb9f3a"
             ],
             [
              0.8888888888888888,
              "#fdca26"
             ],
             [
              1,
              "#f0f921"
             ]
            ],
            "type": "surface"
           }
          ],
          "table": [
           {
            "cells": {
             "fill": {
              "color": "#EBF0F8"
             },
             "line": {
              "color": "white"
             }
            },
            "header": {
             "fill": {
              "color": "#C8D4E3"
             },
             "line": {
              "color": "white"
             }
            },
            "type": "table"
           }
          ]
         },
         "layout": {
          "annotationdefaults": {
           "arrowcolor": "#2a3f5f",
           "arrowhead": 0,
           "arrowwidth": 1
          },
          "autotypenumbers": "strict",
          "coloraxis": {
           "colorbar": {
            "outlinewidth": 0,
            "ticks": ""
           }
          },
          "colorscale": {
           "diverging": [
            [
             0,
             "#8e0152"
            ],
            [
             0.1,
             "#c51b7d"
            ],
            [
             0.2,
             "#de77ae"
            ],
            [
             0.3,
             "#f1b6da"
            ],
            [
             0.4,
             "#fde0ef"
            ],
            [
             0.5,
             "#f7f7f7"
            ],
            [
             0.6,
             "#e6f5d0"
            ],
            [
             0.7,
             "#b8e186"
            ],
            [
             0.8,
             "#7fbc41"
            ],
            [
             0.9,
             "#4d9221"
            ],
            [
             1,
             "#276419"
            ]
           ],
           "sequential": [
            [
             0,
             "#0d0887"
            ],
            [
             0.1111111111111111,
             "#46039f"
            ],
            [
             0.2222222222222222,
             "#7201a8"
            ],
            [
             0.3333333333333333,
             "#9c179e"
            ],
            [
             0.4444444444444444,
             "#bd3786"
            ],
            [
             0.5555555555555556,
             "#d8576b"
            ],
            [
             0.6666666666666666,
             "#ed7953"
            ],
            [
             0.7777777777777778,
             "#fb9f3a"
            ],
            [
             0.8888888888888888,
             "#fdca26"
            ],
            [
             1,
             "#f0f921"
            ]
           ],
           "sequentialminus": [
            [
             0,
             "#0d0887"
            ],
            [
             0.1111111111111111,
             "#46039f"
            ],
            [
             0.2222222222222222,
             "#7201a8"
            ],
            [
             0.3333333333333333,
             "#9c179e"
            ],
            [
             0.4444444444444444,
             "#bd3786"
            ],
            [
             0.5555555555555556,
             "#d8576b"
            ],
            [
             0.6666666666666666,
             "#ed7953"
            ],
            [
             0.7777777777777778,
             "#fb9f3a"
            ],
            [
             0.8888888888888888,
             "#fdca26"
            ],
            [
             1,
             "#f0f921"
            ]
           ]
          },
          "colorway": [
           "#636efa",
           "#EF553B",
           "#00cc96",
           "#ab63fa",
           "#FFA15A",
           "#19d3f3",
           "#FF6692",
           "#B6E880",
           "#FF97FF",
           "#FECB52"
          ],
          "font": {
           "color": "#2a3f5f"
          },
          "geo": {
           "bgcolor": "white",
           "lakecolor": "white",
           "landcolor": "#E5ECF6",
           "showlakes": true,
           "showland": true,
           "subunitcolor": "white"
          },
          "hoverlabel": {
           "align": "left"
          },
          "hovermode": "closest",
          "mapbox": {
           "style": "light"
          },
          "paper_bgcolor": "white",
          "plot_bgcolor": "#E5ECF6",
          "polar": {
           "angularaxis": {
            "gridcolor": "white",
            "linecolor": "white",
            "ticks": ""
           },
           "bgcolor": "#E5ECF6",
           "radialaxis": {
            "gridcolor": "white",
            "linecolor": "white",
            "ticks": ""
           }
          },
          "scene": {
           "xaxis": {
            "backgroundcolor": "#E5ECF6",
            "gridcolor": "white",
            "gridwidth": 2,
            "linecolor": "white",
            "showbackground": true,
            "ticks": "",
            "zerolinecolor": "white"
           },
           "yaxis": {
            "backgroundcolor": "#E5ECF6",
            "gridcolor": "white",
            "gridwidth": 2,
            "linecolor": "white",
            "showbackground": true,
            "ticks": "",
            "zerolinecolor": "white"
           },
           "zaxis": {
            "backgroundcolor": "#E5ECF6",
            "gridcolor": "white",
            "gridwidth": 2,
            "linecolor": "white",
            "showbackground": true,
            "ticks": "",
            "zerolinecolor": "white"
           }
          },
          "shapedefaults": {
           "line": {
            "color": "#2a3f5f"
           }
          },
          "ternary": {
           "aaxis": {
            "gridcolor": "white",
            "linecolor": "white",
            "ticks": ""
           },
           "baxis": {
            "gridcolor": "white",
            "linecolor": "white",
            "ticks": ""
           },
           "bgcolor": "#E5ECF6",
           "caxis": {
            "gridcolor": "white",
            "linecolor": "white",
            "ticks": ""
           }
          },
          "title": {
           "x": 0.05
          },
          "xaxis": {
           "automargin": true,
           "gridcolor": "white",
           "linecolor": "white",
           "ticks": "",
           "title": {
            "standoff": 15
           },
           "zerolinecolor": "white",
           "zerolinewidth": 2
          },
          "yaxis": {
           "automargin": true,
           "gridcolor": "white",
           "linecolor": "white",
           "ticks": "",
           "title": {
            "standoff": 15
           },
           "zerolinecolor": "white",
           "zerolinewidth": 2
          }
         }
        },
        "title": {
         "text": "Music Data Clustering (2D PCA)"
        },
        "xaxis": {
         "anchor": "y",
         "domain": [
          0,
          1
         ],
         "title": {
          "text": "PC1"
         }
        },
        "yaxis": {
         "anchor": "x",
         "domain": [
          0,
          1
         ],
         "title": {
          "text": "PC2"
         }
        }
       }
      }
     },
     "metadata": {},
     "output_type": "display_data"
    }
   ],
   "source": [
    "# Reduce dimensions\n",
    "pca = PCA(2)\n",
    "features_reduced = pca.fit_transform(features_scaled)\n",
    "\n",
    "# Create a DataFrame for the plot\n",
    "plot_df = pd.DataFrame(features_reduced, columns=['PC1', 'PC2'])\n",
    "plot_df['Cluster'] = spotify_2k['Cluster']\n",
    "\n",
    "# Plotting\n",
    "fig = px.scatter(plot_df, x='PC1', y='PC2', color='Cluster', title='Music Data Clustering (2D PCA)',\n",
    "                 color_continuous_scale=px.colors.qualitative.D3)\n",
    "fig.show()\n"
   ]
  },
  {
   "cell_type": "code",
   "execution_count": 255,
   "metadata": {},
   "outputs": [
    {
     "data": {
      "application/vnd.plotly.v1+json": {
       "config": {
        "plotlyServerURL": "https://plot.ly"
       },
       "data": [
        {
         "hovertemplate": "PC1=%{x}<br>PC2=%{y}<br>PC3=%{z}<br>Cluster=%{marker.color}<extra></extra>",
         "legendgroup": "",
         "marker": {
          "color": [
           4,
           3,
           0,
           2,
           3,
           1,
           3,
           2,
           2,
           3,
           4,
           1,
           3,
           2,
           3,
           4,
           2,
           2,
           1,
           0,
           2,
           1,
           3,
           2,
           3,
           1,
           2,
           0,
           4,
           3,
           4,
           2,
           1,
           4,
           2,
           3,
           2,
           2,
           2,
           4,
           3,
           2,
           1,
           2,
           3,
           2,
           3,
           1,
           3,
           1,
           4,
           2,
           4,
           2,
           4,
           3,
           1,
           2,
           3,
           1,
           1,
           1,
           3,
           3,
           3,
           3,
           3,
           3,
           2,
           1,
           4,
           2,
           2,
           0,
           2,
           3,
           4,
           2,
           0,
           2,
           2,
           1,
           4,
           1,
           2,
           2,
           3,
           1,
           3,
           2,
           4,
           3,
           1,
           2,
           2,
           2,
           3,
           4,
           3,
           2,
           2,
           4,
           3,
           2,
           2,
           4,
           0,
           3,
           3,
           1,
           2,
           2,
           2,
           1,
           0,
           1,
           1,
           3,
           2,
           2,
           0,
           1,
           4,
           1,
           3,
           0,
           2,
           4,
           3,
           2,
           1,
           4,
           2,
           1,
           1,
           3,
           1,
           3,
           4,
           1,
           3,
           2,
           3,
           3,
           3,
           4,
           4,
           2,
           3,
           1,
           1,
           2,
           4,
           3,
           4,
           1,
           1,
           4,
           3,
           0,
           1,
           1,
           3,
           4,
           2,
           4,
           3,
           3,
           4,
           4,
           4,
           4,
           1,
           4,
           1,
           0,
           2,
           1,
           1,
           2,
           3,
           3,
           4,
           3,
           3,
           3,
           2,
           2,
           2,
           3,
           0,
           3,
           3,
           2,
           2,
           1,
           4,
           2,
           2,
           4,
           4,
           2,
           3,
           3,
           2,
           3,
           3,
           2,
           3,
           4,
           2,
           3,
           2,
           3,
           3,
           1,
           3,
           2,
           3,
           0,
           1,
           4,
           2,
           1,
           4,
           2,
           2,
           1,
           4,
           3,
           1,
           1,
           3,
           4,
           2,
           2,
           1,
           2,
           0,
           2,
           3,
           4,
           3,
           2,
           3,
           2,
           1,
           2,
           3,
           2,
           4,
           2,
           3,
           4,
           2,
           2,
           3,
           4,
           2,
           1,
           2,
           2,
           2,
           4,
           0,
           1,
           2,
           3,
           3,
           2,
           2,
           1,
           4,
           2,
           3,
           3,
           1,
           2,
           2,
           3,
           3,
           1,
           0,
           1,
           2,
           3,
           2,
           2,
           4,
           3,
           3,
           2,
           3,
           4,
           3,
           1,
           3,
           3,
           2,
           3,
           2,
           2,
           3,
           2,
           4,
           3,
           2,
           3,
           4,
           2,
           2,
           2,
           2,
           1,
           2,
           3,
           2,
           2,
           1,
           4,
           4,
           3,
           3,
           1,
           2,
           2,
           3,
           2,
           1,
           3,
           3,
           1,
           3,
           4,
           3,
           1,
           4,
           3,
           2,
           1,
           1,
           3,
           4,
           2,
           1,
           3,
           3,
           4,
           1,
           2,
           2,
           1,
           4,
           2,
           4,
           2,
           3,
           2,
           2,
           2,
           1,
           0,
           2,
           3,
           4,
           2,
           0,
           1,
           2,
           3,
           2,
           1,
           2,
           0,
           3,
           1,
           2,
           4,
           3,
           1,
           3,
           3,
           1,
           4,
           1,
           1,
           3,
           0,
           1,
           3,
           2,
           2,
           2,
           2,
           2,
           4,
           3,
           3,
           1,
           3,
           4,
           3,
           3,
           3,
           3,
           2,
           1,
           4,
           3,
           2,
           3,
           2,
           3,
           2,
           3,
           3,
           1,
           1,
           3,
           3,
           2,
           3,
           3,
           2,
           0,
           2,
           3,
           1,
           1,
           2,
           1,
           4,
           3,
           4,
           3,
           2,
           2,
           3,
           2,
           2,
           4,
           1,
           1,
           2,
           4,
           1,
           3,
           4,
           2,
           2,
           2,
           4,
           2,
           1,
           3,
           4,
           2,
           2,
           1,
           3,
           1,
           3,
           1,
           4,
           2,
           0,
           3,
           4,
           3,
           2,
           4,
           3,
           2,
           2,
           3,
           4,
           4,
           2,
           1,
           1,
           3,
           4,
           2,
           4,
           1,
           4,
           3,
           3,
           2,
           2,
           4,
           4,
           1,
           2,
           2,
           2,
           3,
           2,
           3,
           0,
           4,
           4,
           1,
           2,
           3,
           4,
           4,
           3,
           2,
           3,
           1,
           2,
           4,
           2,
           4,
           4,
           1,
           3,
           2,
           2,
           4,
           2,
           3,
           0,
           1,
           4,
           2,
           4,
           2,
           4,
           3,
           2,
           2,
           1,
           3,
           4,
           2,
           3,
           4,
           3,
           1,
           2,
           2,
           2,
           4,
           4,
           3,
           1,
           1,
           1,
           0,
           1,
           3,
           3,
           3,
           2,
           4,
           2,
           3,
           3,
           3,
           2,
           2,
           3,
           2,
           3,
           2,
           1,
           4,
           2,
           3,
           4,
           0,
           4,
           2,
           2,
           1,
           4,
           2,
           1,
           0,
           3,
           2,
           3,
           1,
           3,
           1,
           2,
           3,
           3,
           2,
           1,
           0,
           2,
           2,
           3,
           4,
           3,
           3,
           3,
           2,
           4,
           3,
           4,
           1,
           4,
           2,
           1,
           4,
           2,
           1,
           2,
           3,
           4,
           4,
           3,
           4,
           3,
           1,
           0,
           1,
           4,
           1,
           3,
           2,
           4,
           3,
           1,
           4,
           1,
           1,
           2,
           1,
           2,
           2,
           3,
           3,
           2,
           3,
           3,
           1,
           1,
           2,
           2,
           0,
           2,
           4,
           1,
           4,
           3,
           2,
           1,
           3,
           2,
           2,
           3,
           4,
           3,
           4,
           1,
           4,
           2,
           4,
           2,
           2,
           2,
           3,
           3,
           1,
           3,
           1,
           3,
           4,
           3,
           4,
           1,
           1,
           2,
           1,
           4,
           4,
           3,
           2,
           1,
           3,
           2,
           1,
           3,
           3,
           0,
           4,
           2,
           2,
           1,
           2,
           2,
           3,
           2,
           3,
           3,
           3,
           4,
           4,
           3,
           0,
           1,
           2,
           1,
           1,
           3,
           1,
           4,
           2,
           1,
           0,
           2,
           4,
           1,
           1,
           4,
           4,
           1,
           2,
           1,
           0,
           2,
           1,
           1,
           0,
           3,
           3,
           4,
           4,
           3,
           2,
           1,
           1,
           1,
           2,
           1,
           1,
           3,
           3,
           2,
           1,
           3,
           3,
           3,
           3,
           2,
           2,
           4,
           3,
           4,
           4,
           2,
           2,
           2,
           1,
           1,
           3,
           3,
           3,
           0,
           1,
           3,
           2,
           3,
           4,
           4,
           3,
           1,
           3,
           1,
           3,
           2,
           1,
           2,
           4,
           4,
           2,
           3,
           4,
           3,
           3,
           2,
           0,
           4,
           2,
           4,
           3,
           2,
           2,
           3,
           3,
           2,
           2,
           0,
           4,
           1,
           4,
           4,
           2,
           3,
           4,
           4,
           1,
           4,
           4,
           3,
           3,
           4,
           4,
           4,
           4,
           1,
           4,
           1,
           3,
           1,
           1,
           4,
           3,
           3,
           3,
           2,
           3,
           4,
           3,
           3,
           4,
           4,
           3,
           1,
           4,
           3,
           4,
           3,
           2,
           4,
           4,
           3,
           4,
           4,
           1,
           1,
           4,
           1,
           1,
           4,
           2,
           2,
           1,
           4,
           4,
           4,
           3,
           1,
           2,
           3,
           4,
           1,
           2,
           4,
           0,
           3,
           4,
           1,
           1,
           2,
           4,
           2,
           4,
           4,
           3,
           2,
           3,
           4,
           4,
           2,
           2,
           2,
           3,
           4,
           1,
           3,
           1,
           3,
           4,
           4,
           1,
           2,
           4,
           4,
           1,
           3,
           2,
           3,
           3,
           4,
           2,
           3,
           4,
           4,
           1,
           3,
           1,
           4,
           2,
           3,
           3,
           1,
           2,
           4,
           4,
           4,
           2,
           0,
           4,
           4,
           0,
           4,
           4,
           1,
           3,
           4,
           4,
           4,
           3,
           1,
           1,
           3,
           3,
           3,
           4,
           3,
           2,
           1,
           1,
           2,
           4,
           3,
           3,
           3,
           2,
           4,
           4,
           4,
           4,
           1,
           1,
           1,
           4,
           3,
           2,
           3,
           4,
           4,
           3,
           1,
           1,
           4,
           4,
           1,
           4,
           4,
           2,
           1,
           3,
           3,
           3,
           4,
           2,
           4,
           3,
           3,
           3,
           2,
           1,
           1,
           4,
           1,
           4,
           1,
           1,
           1,
           4,
           3,
           1,
           2,
           1,
           4,
           1,
           3,
           3,
           3,
           4,
           3,
           4,
           3,
           1,
           3,
           4,
           3,
           1,
           2,
           3,
           1,
           1,
           2,
           1,
           3,
           4,
           3,
           4,
           3,
           3,
           3,
           4,
           1,
           1,
           3,
           0,
           3,
           2,
           4,
           3,
           3,
           4,
           4,
           2,
           2,
           3,
           4,
           4,
           2,
           1,
           2,
           3,
           1,
           4,
           1,
           1,
           2,
           1,
           4,
           4,
           2,
           3,
           1,
           3,
           3,
           4,
           1,
           3,
           3,
           2,
           4,
           3,
           1,
           3,
           2,
           3,
           1,
           3,
           3,
           0,
           1,
           1,
           3,
           4,
           2,
           2,
           3,
           3,
           3,
           3,
           2,
           4,
           2,
           3,
           3,
           0,
           4,
           1,
           1,
           0,
           3,
           4,
           3,
           1,
           3,
           1,
           2,
           1,
           3,
           0,
           4,
           3,
           3,
           3,
           2,
           3,
           3,
           3,
           2,
           3,
           4,
           3,
           3,
           4,
           3,
           1,
           2,
           3,
           4,
           3,
           3,
           3,
           3,
           4,
           3,
           1,
           3,
           1,
           4,
           1,
           3,
           4,
           3,
           2,
           3,
           4,
           1,
           3,
           3,
           2,
           2,
           1,
           3,
           3,
           3,
           1,
           3,
           3,
           2,
           3,
           3,
           3,
           0,
           1,
           3,
           1,
           1,
           2,
           2,
           0,
           2,
           1,
           4,
           3,
           3,
           3,
           2,
           0,
           3,
           4,
           3,
           2,
           4,
           3,
           4,
           3,
           3,
           2,
           3,
           1,
           2,
           4,
           2,
           3,
           3,
           3,
           4,
           3,
           3,
           3,
           3,
           3,
           4,
           4,
           2,
           3,
           1,
           1,
           3,
           3,
           3,
           3,
           4,
           2,
           3,
           2,
           1,
           4,
           1,
           3,
           4,
           4,
           3,
           2,
           3,
           4,
           1,
           4,
           3,
           3,
           3,
           4,
           4,
           3,
           4,
           3,
           3,
           1,
           4,
           3,
           4,
           1,
           3,
           3,
           3,
           3,
           3,
           2,
           4,
           3,
           3,
           3,
           1,
           3,
           0,
           3,
           3,
           3,
           2,
           3,
           3,
           1,
           4,
           3,
           3,
           3,
           1,
           3,
           3,
           4,
           3,
           2,
           3,
           3,
           3,
           4,
           3,
           0,
           3,
           1,
           3,
           4,
           3,
           3,
           2,
           1,
           3,
           3,
           2,
           2,
           1,
           3,
           1,
           2,
           1,
           4,
           3,
           4,
           3,
           1,
           3,
           1,
           3,
           3,
           3,
           2,
           3,
           3,
           1,
           2,
           3,
           4,
           3,
           4,
           3,
           4,
           1,
           3,
           1,
           3,
           2,
           2,
           2,
           1,
           1,
           3,
           1,
           2,
           3,
           3,
           3,
           1,
           4,
           4,
           3,
           3,
           3,
           3,
           4,
           3,
           3,
           4,
           3,
           4,
           3,
           3,
           1,
           1,
           1,
           4,
           3,
           3,
           4,
           1,
           2,
           1,
           3,
           3,
           2,
           3,
           3,
           4,
           4,
           3,
           2,
           4,
           4,
           3,
           1,
           3,
           3,
           3,
           3,
           4,
           0,
           3,
           1,
           1,
           3,
           4,
           2,
           4,
           2,
           4,
           3,
           3,
           4,
           1,
           3,
           1,
           3,
           1,
           1,
           3,
           2,
           4,
           4,
           3,
           3,
           4,
           2,
           1,
           2,
           3,
           2,
           4,
           4,
           4,
           2,
           1,
           3,
           4,
           3,
           2,
           4,
           2,
           1,
           1,
           1,
           4,
           3,
           4,
           3,
           4,
           3,
           4,
           4,
           0,
           2,
           3,
           3,
           1,
           3,
           3,
           3,
           3,
           2,
           2,
           3,
           2,
           2,
           3,
           3,
           3,
           4,
           1,
           4,
           3,
           4,
           1,
           2,
           3,
           3,
           1,
           3,
           3,
           3,
           2,
           4,
           4,
           3,
           2,
           1,
           4,
           1,
           2,
           4,
           4,
           1,
           3,
           3,
           3,
           1,
           4,
           3,
           0,
           1,
           1,
           2,
           2,
           1,
           3,
           2,
           2,
           3,
           3,
           1,
           4,
           4,
           3,
           3,
           2,
           3,
           2,
           1,
           1,
           3,
           2,
           1,
           3,
           2,
           4,
           3,
           3,
           1,
           1,
           3,
           1,
           3,
           2,
           4,
           3,
           4,
           2,
           1,
           2,
           3,
           2,
           3,
           1,
           3,
           3,
           4,
           1,
           4,
           2,
           3,
           3,
           1,
           1,
           1,
           1,
           3,
           1,
           1,
           3,
           4,
           1,
           2,
           1,
           3,
           2,
           2,
           2,
           2,
           2,
           1,
           3,
           3,
           1,
           2,
           2,
           3,
           1,
           1,
           1,
           2,
           2,
           1,
           3,
           4,
           3,
           4,
           4,
           3,
           2,
           2,
           3,
           2,
           3,
           1,
           1,
           1,
           3,
           1,
           4,
           3,
           3,
           3,
           1,
           0,
           2,
           2,
           4,
           3,
           1,
           4,
           4,
           4,
           2,
           2,
           3,
           3,
           3,
           1,
           2,
           2,
           1,
           4,
           1,
           2,
           4,
           3,
           1,
           0,
           2,
           3,
           2,
           4,
           1,
           2,
           1,
           3,
           2,
           4,
           1,
           2,
           1,
           1,
           1,
           3,
           1,
           4,
           3,
           2,
           1,
           3,
           2,
           3,
           3,
           4,
           1,
           2,
           3,
           3,
           2,
           4,
           4,
           1,
           1,
           3,
           2,
           1,
           2,
           4,
           4,
           1,
           2,
           1,
           3,
           1,
           1,
           4,
           2,
           2,
           1,
           2,
           3,
           1,
           3,
           1,
           2,
           3,
           2,
           1,
           0,
           4,
           2,
           1,
           2,
           2,
           1,
           4,
           4,
           3,
           4,
           3,
           4,
           4,
           2,
           3,
           2,
           4,
           3,
           1,
           2,
           1,
           4,
           1,
           1,
           1,
           1,
           3,
           3,
           3,
           4,
           1,
           4,
           3,
           4,
           4,
           2,
           2,
           1,
           2,
           1,
           3,
           4,
           1,
           1,
           4,
           3,
           3,
           3,
           4,
           1,
           1,
           1,
           4,
           3,
           1,
           1,
           4,
           2,
           0,
           2,
           4,
           3,
           1,
           2,
           3,
           2,
           4,
           3,
           4,
           1,
           2,
           3,
           2,
           4,
           4,
           1,
           4,
           4,
           2,
           2,
           2,
           1,
           1,
           4,
           1,
           1,
           3,
           1,
           4,
           3,
           2,
           2,
           1,
           4,
           4,
           0,
           4,
           1,
           1,
           0,
           2,
           2,
           2,
           3,
           2,
           1,
           3,
           4,
           1,
           2,
           1,
           1,
           4,
           2,
           4,
           4,
           1,
           3,
           1,
           1,
           4,
           1,
           2,
           3,
           1,
           3,
           3,
           3,
           2,
           2,
           4,
           3,
           3,
           0,
           1,
           2,
           4,
           3,
           4,
           3,
           4,
           4,
           4,
           2,
           4,
           2,
           4,
           1,
           1,
           2,
           2,
           3,
           2,
           3,
           2,
           2,
           3,
           4,
           1,
           4,
           3,
           2,
           3,
           1,
           1,
           0,
           4,
           2,
           2,
           4,
           3,
           0,
           1,
           2,
           4,
           4,
           4,
           4,
           3,
           3,
           4,
           4,
           3,
           4,
           3,
           4,
           4,
           2,
           3,
           4,
           4,
           3,
           3,
           3,
           3,
           4,
           3,
           1,
           2,
           3,
           4,
           4,
           4,
           1,
           1,
           4,
           4,
           1,
           3,
           1,
           2,
           1,
           3,
           4,
           1,
           4,
           3,
           4,
           3,
           4,
           3,
           3,
           4,
           1,
           4,
           4,
           4,
           4,
           4,
           1,
           1,
           1,
           4,
           3,
           3,
           4,
           1,
           4,
           2,
           1,
           2,
           0,
           4,
           1,
           4,
           3,
           1,
           1,
           1,
           2,
           4,
           1,
           1,
           4,
           1,
           1,
           3,
           3,
           1,
           4,
           3,
           1,
           3,
           3,
           3,
           1,
           4,
           4,
           4,
           4,
           1,
           3,
           2,
           2,
           4,
           1,
           1,
           4,
           4,
           2,
           3,
           3,
           0,
           3,
           2,
           1,
           1,
           1,
           2,
           4,
           1,
           1,
           2,
           3,
           1,
           1,
           3,
           1,
           0,
           4,
           3,
           4,
           2,
           1,
           4,
           1,
           2,
           1,
           4,
           1,
           3,
           2,
           2,
           1,
           3,
           4,
           1,
           1,
           1,
           1,
           1,
           1,
           4,
           3,
           2,
           4,
           3,
           1,
           1,
           2,
           1,
           4,
           3,
           3,
           4,
           4,
           4,
           2,
           3,
           4,
           4
          ],
          "coloraxis": "coloraxis",
          "symbol": "circle"
         },
         "mode": "markers",
         "name": "",
         "scene": "scene",
         "showlegend": false,
         "type": "scatter3d",
         "x": [
          2.1276575237105253,
          -0.9954815468913746,
          -1.642252884177284,
          -1.9143151136017507,
          -2.0033500915691675,
          0.6026952118113241,
          -1.2102647402003663,
          -1.7418764215309794,
          -1.569057353239019,
          -2.275906273682157,
          3.7660890796993356,
          -0.43575084222840527,
          -1.5348829272656892,
          -1.7788019034488929,
          -2.052335426870191,
          1.9853104821514345,
          -1.356186081575676,
          -0.08861215181681743,
          1.9559928667063629,
          -0.5178629157908174,
          1.2641816930847192,
          0.013956200560993729,
          -1.933159782636128,
          -2.7002796648568386,
          -0.8911048104143551,
          0.951963486456898,
          -1.3738252683844343,
          -3.0352274751393695,
          2.872041020413425,
          -0.7848380050477097,
          1.2490728185807445,
          -0.4254748842896286,
          0.3495012444389622,
          2.1315715984280543,
          -1.5544609224555506,
          0.2040495389237833,
          -1.137581292435562,
          -0.4406608997714575,
          -1.3736461948549232,
          3.0130679224990042,
          -1.7329173085362557,
          -0.40623002906929156,
          -0.19711271686169998,
          -2.893548490503403,
          -1.4744874632544316,
          -0.4176027855676362,
          -0.2206182933271755,
          -0.017305883785590198,
          -1.6327784421183853,
          -0.816864520493018,
          2.136940367566455,
          0.8363281595517942,
          3.068026170563315,
          -0.6868925919906779,
          2.0744630414772627,
          -0.68358174450262,
          -0.4160353924730386,
          -0.04032748784022963,
          -0.7941955294369476,
          0.7152727706028892,
          0.6466929685956427,
          0.018792266999315015,
          -1.9222013860497196,
          -1.1862521814414715,
          -1.454993582339777,
          -1.4700099719565916,
          -1.7244427854926787,
          -1.4232620172657655,
          1.1553221291132876,
          -0.3486690678289908,
          3.1464585595619594,
          -1.383718265919582,
          0.11944649001521657,
          -0.6427483339669295,
          -0.1805905327423227,
          -1.3088913880078952,
          2.573275126067589,
          -1.9043622763486219,
          -1.6591026399349051,
          -0.6711550760972673,
          -0.6572607557359298,
          1.7804213905451471,
          3.2617003414033556,
          -0.13456980227834375,
          -1.9233944559818865,
          -1.3329672261342551,
          -1.766844738137154,
          0.6836304558170748,
          -0.6121757220693098,
          -1.6602336126255701,
          2.208279550416861,
          -1.5508922458873813,
          0.7245813833907875,
          -0.7051408965905921,
          -1.3051675360873105,
          -0.9145514001420291,
          -2.36402517040527,
          4.053869879289124,
          -1.6160577726360696,
          -1.1284248505222922,
          -1.400606057812238,
          1.961906349348249,
          -2.1043169458853668,
          -0.4626789679020809,
          0.11577286953058723,
          1.9867191781124813,
          -2.5765670055499585,
          -0.5626903295749409,
          -2.410654109647079,
          1.0695120781047927,
          -1.8843761246390325,
          -1.4689586775310943,
          -0.9729019097484252,
          -0.9012064134169785,
          -2.0899417313463085,
          -0.8462977068760067,
          1.072883080093651,
          -1.8344863071943553,
          -0.4812496150225979,
          -0.9615126666729198,
          -1.8188548316641429,
          -0.3459818279961246,
          1.6171669914630387,
          1.200948989810994,
          -0.9614864874036152,
          -2.304156623444807,
          -1.5837547670418968,
          1.1066008421401714,
          -0.908986293737832,
          -2.127602685216624,
          -0.19222660004700273,
          1.917021639179792,
          -0.3421660875436453,
          2.0598406442104293,
          -0.6335493542035624,
          -2.0832679403765324,
          0.6429892945226503,
          -0.7540738026717788,
          1.6282168398006738,
          -1.4767157671601105,
          -1.5772745563580457,
          -0.8360254448512057,
          -0.9626711583846013,
          -0.9851200205775148,
          -2.2199803968822582,
          2.469606819390947,
          1.1479425130800027,
          0.3417468994491766,
          -1.0631986905198803,
          0.424899725535623,
          1.0128773876077786,
          -0.7392517231403213,
          1.2649967716042458,
          0.056942133533812236,
          3.4257454626786448,
          -0.16174672658616285,
          0.1997003445460099,
          1.6362326858276255,
          -2.42293571576551,
          -1.6542422279710347,
          -0.06296733379015912,
          1.239816593461939,
          -0.950617725456959,
          2.0103555261896786,
          -2.0658628998893813,
          3.0731957088597754,
          -1.3695568211194,
          -0.7410289174494662,
          2.245530972956128,
          3.564290898606035,
          3.752943243073618,
          1.4471464944671906,
          -0.07030106620369185,
          2.304207900616778,
          -0.5296166977709406,
          -2.6149660936270345,
          -1.2063485514757968,
          0.6427204672069827,
          0.3279630189518267,
          -1.4995081293683918,
          0.06078599825865603,
          -0.9738458828321438,
          2.325973782971199,
          -1.1985069461472437,
          -2.043979965577517,
          -1.109396786181693,
          -1.8934338622147735,
          -0.5662434004083038,
          -1.759504144415614,
          -1.1221482080388758,
          -1.20265894081588,
          -0.9273099080779867,
          -2.2004639496302367,
          -0.23534347068542782,
          -0.7248072556769284,
          1.1185735769874463,
          1.7092054752540744,
          -1.515297721588593,
          -1.7988403658707508,
          1.737325207454,
          1.198412961720656,
          -1.137093807371829,
          0.07439904056569467,
          -2.4340892604935327,
          0.06288237267901571,
          -1.652040254080435,
          -1.8713449475759711,
          -0.7980320288311068,
          -1.2439040177814575,
          2.078789719178028,
          0.08408789698155432,
          -1.5470074687884752,
          -0.8795841444086931,
          -2.6460413452053193,
          -0.8414448609986923,
          0.006401897559787868,
          -0.6625827560610805,
          -0.7631050567234242,
          0.05032318341848557,
          -2.529728341940468,
          0.8599863764829294,
          1.6344339132910257,
          0.2816759975360097,
          0.6058844438471125,
          1.6733856610985505,
          -0.13510146816859706,
          -1.6360155280136885,
          0.7248948232078946,
          3.8874261452827747,
          -0.8769540810068938,
          0.33299262799839946,
          0.26171323019487386,
          -1.9520541407797947,
          2.561414076781339,
          1.0480662187207086,
          -0.9856049605840955,
          1.657981736447054,
          -1.632124653939117,
          -2.7416182436932885,
          -0.5834238065116034,
          -1.7288708405671793,
          0.9373937600470997,
          -0.9213231248025744,
          -0.41851387222505415,
          -1.5748627410587328,
          -1.5346752267311001,
          0.35613350761600315,
          -1.5943072903560698,
          -0.9439457078674639,
          -1.0747662889188925,
          0.8701851648047033,
          -1.5845918032819322,
          -2.409437727082577,
          3.3536595415332844,
          -1.5109556617529811,
          -1.7307934824869688,
          -1.781241971779126,
          2.317287618677623,
          -0.9671964602970542,
          1.3411061075110142,
          -1.502785338794588,
          -0.306714118582304,
          -1.2906952932053781,
          1.1838002374035355,
          -4.369460642728425,
          -0.3682254089556657,
          1.3833918405309162,
          0.15535694992320762,
          -1.7531705148643904,
          -0.7476802662370099,
          -1.6321972388566954,
          1.294272688029732,
          3.2832507451336355,
          -0.73376899281575,
          -1.0754728203497634,
          -0.5147543241516893,
          -1.1290122580282338,
          -0.9992462322952296,
          -1.303808733518286,
          -3.0501111079497596,
          -1.1424412744844403,
          1.2415189199499315,
          -1.890069965555334,
          -0.6763930709495892,
          0.9029380639000741,
          -1.7605299269617896,
          -1.8067922498232625,
          -1.8493680349366821,
          2.3579300844982654,
          -2.690345027120473,
          -1.64468999638221,
          -0.4320879870724475,
          -2.325070990458505,
          1.699194494757006,
          -1.5959007872994297,
          -0.30904835760497923,
          -2.4216220559928603,
          -0.2993187970229424,
          -1.4304887423927204,
          -0.7524410823234343,
          0.6359945645772004,
          -0.8965759270200985,
          -2.5265300864253986,
          -1.738671982836044,
          2.045030295304874,
          -0.7064616869095331,
          -1.3985379702699845,
          -1.3787655619330783,
          3.9532137893242605,
          -1.1869107955249647,
          -0.46572488126127803,
          -1.4858971027321435,
          -1.6212091691588986,
          -0.4371598880619773,
          0.24390967908327707,
          -0.7878425023603128,
          -1.8506168178994935,
          -1.6244998684714147,
          -0.36059725899840395,
          1.5043060763732639,
          1.6251215890274495,
          -1.1390910802246061,
          -1.0520973226290216,
          0.6024288038498429,
          -1.3213164978892236,
          -1.7188279514574365,
          -1.5336181541935636,
          -2.1338596569424237,
          -0.7332782894414228,
          0.08253221521870105,
          -1.602800536983869,
          0.930809691376774,
          -1.922919457081536,
          1.4609188673260596,
          0.03702709564209692,
          -0.2786583725291729,
          2.865240124737709,
          -1.6876529441258468,
          -0.4721815082694024,
          1.9455162608204968,
          1.6304120819090169,
          -1.1751350304054955,
          1.6845635125290228,
          -0.6530956509707161,
          0.002023193317862513,
          -2.372096037371789,
          -1.8623789271203506,
          2.651357064569495,
          1.089464385716615,
          -1.9631558192146477,
          0.6352847921084969,
          0.5780423073970841,
          1.3529530378551644,
          -1.6450531174605167,
          2.2183739830030396,
          -0.991597663469445,
          -2.1978225417589012,
          -1.495744041376297,
          0.4826358529966624,
          -1.3511656280500177,
          2.0966215010116636,
          -2.4747581817351803,
          -1.4428207216205302,
          -1.5457729596780325,
          1.6655770272698114,
          -0.1675614099378122,
          -2.1486886950601343,
          0.21235204314410652,
          -1.181252724880957,
          -2.3430904484766835,
          -1.1566101544207645,
          0.988805293481594,
          -1.6914041581204164,
          0.4429397658858553,
          -2.455080062239969,
          -0.9993381305780831,
          0.09578127361826733,
          1.9449310088687202,
          -1.3950574684136765,
          -0.36146050384944145,
          -1.6051084685221262,
          -1.0162358777376974,
          1.1554803472863946,
          2.951751897947318,
          1.100677465423475,
          -0.00703912012997628,
          -1.1609787920008376,
          -1.010339154486933,
          0.572480712696137,
          -1.1042924304708561,
          -1.507479596283013,
          0.1599425642567629,
          -1.0966072682895232,
          -0.5597046129138659,
          -0.7120418353154132,
          3.785002005768544,
          -1.393202219876317,
          -2.0146147058098296,
          -0.4052372710836393,
          -1.1641925265539816,
          2.48985605633613,
          -2.0907207358636715,
          -1.924097988639425,
          0.38929150027792925,
          -0.9447836463524163,
          -0.8363912825579749,
          0.6092223551209078,
          3.168786051288972,
          -0.25639380205822904,
          0.263428357172407,
          -0.9981787181149532,
          -1.4339868772600652,
          -1.1561335336742404,
          0.06205155663175498,
          -1.3538044791523596,
          -1.8581449212642127,
          -0.2681865025716761,
          0.9269146757156281,
          0.8429890868501387,
          -1.6595801727032973,
          -0.9556921483692064,
          -0.8162294302830666,
          -1.5528664377309433,
          -1.0609940695281286,
          -2.614391521731908,
          -0.0039612185995845945,
          0.5791783222034326,
          0.8573076577329808,
          -0.27003184929262314,
          -2.1645055008779646,
          -0.06196753344363958,
          3.205262793597215,
          -0.9791515681944291,
          1.827571845698219,
          -1.2662800473298512,
          -1.3280836734040562,
          -1.1567694864723104,
          -0.3192686088467593,
          -0.08802701328582126,
          -0.6087062012324272,
          1.8148215746153795,
          0.10670169784070728,
          0.38949933939167464,
          -0.8873130007513217,
          1.7041259272989213,
          -0.5645491389248024,
          -1.1469629244396207,
          3.549707900326469,
          -1.562412651220411,
          -2.003321240230545,
          -1.5095817747093971,
          2.075542242212387,
          -0.277446835294953,
          -0.5891561029506676,
          -2.141894058510571,
          1.1725664610582798,
          -0.6038425708679837,
          0.303802765523175,
          1.3254571617053745,
          -0.5583018262733267,
          0.6775481148110356,
          -1.8426200169704197,
          1.0062672312910548,
          2.043743342365649,
          -1.6758292178805687,
          -3.363449530035404,
          -2.9906466715980597,
          1.54115462755636,
          -1.7035559543690157,
          -0.373376670804697,
          2.2259558808932107,
          -0.6598906431478928,
          -0.8192878847345585,
          -0.859122660671682,
          -1.392872974208452,
          1.5438989315962406,
          2.3353917989881983,
          -0.37105207540033797,
          1.4057042790414327,
          1.2259414886179896,
          -1.5058474060029838,
          1.770067427427886,
          -1.0346890769678436,
          2.586441508292805,
          -0.8759982924995613,
          2.2037604959636288,
          -0.21142027521963605,
          -0.9380280333648543,
          -1.2106927059137145,
          -0.9638575599791263,
          3.1860956659717066,
          3.8211122532772923,
          0.8637281849354513,
          0.7394769893913543,
          0.1532384487404648,
          -1.1438259204540395,
          -2.8136188531390567,
          -0.37286339245565153,
          0.9944858760244695,
          -2.4542838777760263,
          1.4979879839619348,
          2.225371847639069,
          -0.8901362463391673,
          -1.618601293448093,
          0.27669957267249384,
          2.1529835312140424,
          1.9389023126596683,
          -1.16410494803838,
          0.7711139255353728,
          -1.3987561620964823,
          -1.161733607063875,
          0.15989851257346085,
          1.4878259326997745,
          -1.3910908621571467,
          2.304537267353605,
          2.4633759891721945,
          -1.042190244310701,
          -2.2844545399423537,
          -0.9815025532218002,
          -0.5093649646776753,
          1.9397893716230206,
          -2.004844734278106,
          -1.5523699938194293,
          -0.7589891805091019,
          0.22136597442147768,
          1.4918022649532379,
          -1.3638412988878008,
          3.910200836526043,
          -0.9962680563363585,
          2.130908223398413,
          -2.653737415567267,
          -0.6530963564805058,
          -1.013621302045908,
          0.5533599534537817,
          -1.282782073920707,
          1.9989870528782816,
          -1.1493457261046758,
          -1.3578170750796181,
          2.0892955187627744,
          -1.7995189855882174,
          1.5668023249017602,
          -1.3421430562078116,
          -1.119382080755151,
          -1.2022485161265433,
          0.9729347357267448,
          1.202507066386428,
          -2.2720629118512585,
          -0.014114079507598576,
          -0.4550937223242163,
          0.15302041227864494,
          -1.1721640091614571,
          -1.114881151544908,
          -2.014553382324243,
          -2.092136673639968,
          -2.2429139421680495,
          -1.8353477618264862,
          2.7359497187494246,
          0.38855643169344994,
          -2.106170510614223,
          -1.9139674183766604,
          -0.6342526335888264,
          0.03542344132912805,
          -0.2907950367215151,
          -1.396078959591725,
          -1.1434803471062855,
          0.057775005456600755,
          -0.1370019797506841,
          0.7610287370866643,
          1.5665476815657144,
          -1.2202940080632059,
          -1.6980610382110375,
          2.2493047910175585,
          -2.7879199297404273,
          1.1543636712669658,
          -1.000725689147081,
          0.24534913747096265,
          -0.07069823515377482,
          1.5729321865911348,
          -1.4806744759410446,
          -0.9419342649495216,
          -2.0887288012699794,
          -0.6820389113353468,
          -1.4189241577708653,
          -2.2219983548975777,
          1.616532636884153,
          -1.5350354627364071,
          1.3566876576087086,
          0.3113597921759365,
          -0.7220150796824044,
          -2.5547945232067377,
          -2.182759692795458,
          1.3843875753893766,
          -2.9253769774519345,
          1.0894856054216364,
          -1.1577492356145773,
          -1.2955393507688697,
          0.8949776279293501,
          -1.266000303901756,
          -1.295161334910585,
          -1.584182479873034,
          -2.1310958555531703,
          2.4061642902005183,
          -1.5826520369586408,
          2.025266469192203,
          2.1162033444774995,
          2.240127489677923,
          -1.9700848806913804,
          -0.13778281593976505,
          2.7511086456135065,
          -1.6134574905126584,
          -0.14833261956847663,
          -1.6065710742044417,
          -1.9625362262758612,
          2.236237067587229,
          1.6615362075704487,
          -1.788378974407521,
          1.125270879358273,
          -1.948358105636931,
          -0.00404553902148517,
          -2.0171523936635998,
          1.2452278693570689,
          2.4460256130430356,
          -0.49621858305427385,
          -2.076946904316931,
          -0.3446369896865844,
          0.9840715483619631,
          -1.5104298543521841,
          0.15350790193242042,
          1.3198874747889537,
          -0.1926719335817664,
          1.670925066814523,
          -1.616860600568574,
          1.3052860963603388,
          -1.3408354065134194,
          -1.2027756363014068,
          -1.3649732389877856,
          -1.7965352135772499,
          -1.0229600905985863,
          -0.7702400848497809,
          -0.23878820237352963,
          -0.05491900020927309,
          -0.9161662143031967,
          -1.033888985358776,
          -2.1360131913120157,
          -0.17229310176457274,
          -0.7675287651655824,
          1.409069127523583,
          1.4047926985843466,
          1.9509422588109442,
          -1.188426500824812,
          0.3641792461069387,
          0.4339325560186491,
          -0.7342192048115447,
          0.17144414005698458,
          -1.1161420510948603,
          -1.9953059884578717,
          1.4038237188706157,
          -1.0813529967454611,
          1.7585148583158559,
          -0.7698231220165083,
          2.046854392699991,
          -1.219347206666328,
          3.5773656193016117,
          0.272753309322554,
          -0.07638364017453302,
          0.12050037788799915,
          -0.8595699536896286,
          -1.366434162762318,
          -0.12656238809424442,
          -2.279217225944989,
          0.8400712228002823,
          -1.3625972736198473,
          1.3937856299050442,
          -0.11526851609234395,
          2.369180511180247,
          0.01639148119109528,
          0.7306364306965755,
          0.3571254186921981,
          -0.18522226943795492,
          2.933037327532224,
          3.108018743446064,
          -1.2044737434153354,
          -1.7757088870054019,
          0.3914523239784176,
          -2.4760549964974263,
          -1.3522649455514684,
          -0.26402481371562875,
          -1.5184043284815831,
          -2.475395155549498,
          -1.8341145592858912,
          3.0934733665614234,
          -1.6966865498045132,
          -0.44517941424868956,
          -0.050897706983588045,
          0.1475119110548812,
          -0.03080807201085805,
          -1.3598842360911503,
          -2.210219009673903,
          0.16957215801854744,
          -1.7762022523930632,
          -1.645854922757598,
          2.906045448501875,
          1.9742180622098207,
          -1.2100326617354333,
          -3.1052616629016194,
          -0.6604681387104361,
          -1.5371097847968422,
          0.5430374859065691,
          1.2913488296995492,
          -2.5242230338702676,
          -0.6735849902222039,
          2.619680139531402,
          -2.381044271171257,
          1.197103739379486,
          -2.4977269124086936,
          -1.614052039163638,
          2.2646326373568435,
          1.3585461342557335,
          -0.814331545025541,
          1.5747663774784677,
          2.5332529712607452,
          -0.18911389348198684,
          -0.7754926717446838,
          -0.6793631182277867,
          -1.7484252677589913,
          -1.3392789515474388,
          0.6701137667776331,
          -0.9293795563950965,
          0.2259334770406754,
          -0.1354329536121141,
          -1.9212162191237372,
          2.4072032540389157,
          0.8949757490777901,
          -2.4000746450711263,
          0.02259089448292085,
          0.44426995548691034,
          0.4051517422932636,
          -0.3430393702820387,
          -0.10173294270217303,
          -0.2518889453504111,
          -0.6168864599805486,
          0.41740905196608336,
          -0.9658688762942964,
          -0.25340710024238927,
          0.7577453969804566,
          -1.922557586816267,
          -0.6852965838948648,
          -1.4323945512614127,
          -1.1818045810372666,
          0.9147621561090532,
          -0.34858823810050615,
          1.0929923857918356,
          -2.1210017711727613,
          1.8167143943755626,
          2.8092066242777434,
          -0.7188285413054879,
          -0.1547568034451813,
          -0.47889553276618463,
          0.2181478180268347,
          0.13436376117465185,
          -0.3906828127796385,
          -0.4916749555700869,
          0.020094154793755425,
          -2.9954446464768476,
          0.3808579503208296,
          -2.252624615967493,
          -0.28871234979877064,
          -1.103241736904656,
          1.1940227585697913,
          2.7978516141371266,
          -1.4238242522491602,
          -0.45156767427158145,
          -0.6676113531774511,
          -0.3235413144752864,
          -2.651006996411735,
          -1.1334648470845112,
          -0.5733775337506929,
          -1.222065781746698,
          1.7410671476255366,
          2.770002951306823,
          0.3721293915859071,
          -1.0926302187750663,
          2.267346219740571,
          -1.1616016455271194,
          -0.9231183150078768,
          -1.0671503452538498,
          -1.091681677502347,
          1.0426818747726834,
          -0.6741045660427949,
          0.9413739817029556,
          -1.06481421427883,
          -1.3399685644892116,
          -1.20100710790082,
          -0.23462747477029725,
          -0.39634415975326714,
          -0.19309449350692645,
          -0.03144290242873293,
          -2.5617433387582245,
          2.265748324032337,
          0.9178731666073183,
          1.1771925212408063,
          3.672224662872501,
          -0.30071048079609947,
          -0.25401139637082054,
          2.114468408532332,
          1.6067753698775367,
          0.8516521663195199,
          2.3842418714145754,
          2.72181831479506,
          -1.419711163402885,
          -1.397927561846604,
          2.7536900418348025,
          1.8851815640481338,
          2.1109576417245024,
          1.6342720829066193,
          0.22795678129795435,
          3.6185844148709805,
          0.43425686881624487,
          -2.0458662521565016,
          0.9611843539593127,
          0.3169077908145353,
          1.8556488599747054,
          0.023760660386180125,
          -0.7444851933801482,
          -0.6263030835779685,
          0.0880746509716407,
          -1.4840821668868227,
          1.9410655132246482,
          -1.4441306996437264,
          -1.6179050235716297,
          3.441786181670933,
          1.3558405113446566,
          0.14500884075961346,
          0.36396255164996194,
          2.9454366281997832,
          -2.028693076132808,
          2.1517621849149235,
          -1.9071523753044959,
          0.13458581371618855,
          2.4855010510572138,
          2.990763465948629,
          -0.1876487387832893,
          2.733157335884938,
          3.987145260408964,
          0.6756119909963005,
          0.20184133900116827,
          2.461380323338359,
          1.56804920759444,
          0.921016840896976,
          1.5595808904248925,
          -0.8959307301210745,
          -1.9244730922952626,
          1.0832892663525804,
          1.2423870032087114,
          1.298082482246315,
          2.0826114619087535,
          -0.7328958056787277,
          0.9694572254949299,
          0.2149001622432225,
          -2.3783501540747705,
          2.0984800847078398,
          0.6917675278150385,
          -0.17555440457313062,
          1.645981899708085,
          0.7750469024952764,
          -1.3796018593360542,
          2.253585761853787,
          1.2981565858154414,
          1.549548907230482,
          -0.5935758569832507,
          0.5911648853148629,
          -1.1642440408743802,
          1.7092468991199108,
          1.040187061721191,
          -1.3700061737059728,
          -1.8907172671932793,
          -0.8554040294616128,
          1.2415797459877387,
          4.772896025738374,
          0.17005408837999772,
          -0.8249642152500221,
          -0.16756188447355197,
          -0.632316179411519,
          2.7140188517575994,
          0.534924874177991,
          -0.2720994625786779,
          0.47184422427020506,
          -0.38336394457980216,
          1.2358129507422126,
          1.9731828768886084,
          0.7827497989069437,
          -1.3058921668559484,
          2.841454561587467,
          2.27821995844878,
          -0.03395907216050756,
          -0.8151650498805213,
          -0.2711116717748543,
          0.009727055297017534,
          -0.22804282518541083,
          1.726354654816171,
          -0.28346373043580886,
          0.32285748563530786,
          3.311195777069454,
          1.5037313775395695,
          1.1598684550626153,
          -0.5736394133169697,
          0.5872667291050343,
          2.2124336755563943,
          -1.1218667309146257,
          0.016708796876490885,
          -0.6591833735960485,
          -0.15030097151640423,
          0.6454131533725425,
          3.816922115701369,
          1.3480351125138594,
          1.3794352932878697,
          -0.7729834918639089,
          -0.9355652615535512,
          1.986736250571333,
          3.326342515667586,
          -1.2120775782175042,
          2.5463325485126918,
          3.5417740887414997,
          0.5614170829574261,
          -0.45963558888177386,
          3.0214074787942504,
          1.0754881218873011,
          1.3662489198798728,
          -1.338456144282495,
          0.6387626338015423,
          1.0168290965842428,
          0.0531574027151298,
          0.310190457166796,
          -1.8834256125862867,
          1.4288559614295349,
          -0.2686014963883464,
          -1.1918601171767014,
          0.4645656344158494,
          1.3631610261199436,
          -0.5938713001768232,
          2.387051430603596,
          0.2897181894521778,
          -0.5805335206621601,
          -0.3090329517473117,
          -1.5573078387788086,
          2.307154682392179,
          1.1726661598013923,
          3.4230464169256423,
          1.6494031426883908,
          0.3917931209584686,
          1.349434522521898,
          1.9187278691799776,
          3.402855615125167,
          0.15164884113472155,
          0.7133536349074433,
          -0.9652315146220953,
          1.8257937426716182,
          3.4244992650100117,
          -0.36193700224432795,
          0.45039829262353454,
          1.3035985930294862,
          2.5019984055943905,
          2.9531649710194507,
          1.1189308402656923,
          3.4280201555477516,
          3.0063321990023453,
          -2.0947641711440195,
          0.9038811384743708,
          -0.4262745134567682,
          -0.731589267456271,
          -1.4461287360656294,
          3.957521533850567,
          -0.31382289408109787,
          2.318935446470266,
          0.08383463998950108,
          -0.8755425503007777,
          -0.9880763044585713,
          0.608919207879064,
          1.4543483875354153,
          -0.6090535539668616,
          1.4796119369859184,
          0.15607056201466435,
          1.5677971088072131,
          0.7223608150661979,
          0.7836900743777689,
          0.8187197374674161,
          3.8626136226312866,
          -1.617432635731538,
          0.8609354178950817,
          -0.5619373330159716,
          -0.23031010056992401,
          2.9031550438127187,
          0.5914665243897183,
          -0.033971107384200026,
          -1.9942511968360472,
          -0.6555306599132885,
          2.383614429900747,
          -2.109582891990276,
          3.43875885379184,
          -0.501963469562242,
          -0.42560855937144887,
          -1.0874299526886777,
          1.6818100237096212,
          -1.6578981346915032,
          -0.1603482424264861,
          -1.0497493837886753,
          0.45541753207440716,
          0.016527781018275844,
          0.3271555467093789,
          -0.8417978803989519,
          1.078753630663091,
          -1.49489905289139,
          1.8812645930383114,
          -1.6459828113652692,
          1.4671672373778717,
          -0.8327340596763455,
          -1.5953280378135424,
          -1.4598865564131476,
          2.76248750538412,
          -0.35907922591584646,
          0.30747577165261536,
          -0.7807821563304286,
          -3.1246751861875457,
          0.22075737142628063,
          -0.23769406605392,
          1.2899432954205137,
          -2.150669069361999,
          -0.7409157899511554,
          2.2827296572162292,
          1.7422930743772946,
          -1.0139992137931264,
          -1.1993136764184384,
          -2.4274040085023367,
          1.437389267895889,
          1.6675821130281867,
          -1.5814053888886226,
          0.3041598589960438,
          -0.7932656929719143,
          -0.7850994784921665,
          1.4354240053451544,
          2.28579277262389,
          0.009694783555978298,
          1.5330424500516466,
          -0.45029666007278907,
          0.0008637264974146563,
          1.6049444869442189,
          2.629784097868712,
          -1.7253025142807814,
          -0.6187069388308795,
          0.9088852085016267,
          -1.2609057873102543,
          -0.6599807203267098,
          3.4072216916251223,
          -1.089284737954218,
          -1.489053027424893,
          -0.6761969553784967,
          -1.908435930956207,
          1.29089020372519,
          -1.2750519317956532,
          -1.2775682022187307,
          -1.424728108432146,
          -0.46264713267431284,
          -0.5908273402633276,
          0.6972528895217214,
          0.029250562187366224,
          -0.34918026804099384,
          -1.938176534424727,
          0.4333670009916285,
          0.18745380002406206,
          -0.3235961001305546,
          1.1134789963812057,
          -1.036901746750701,
          -1.5974008363070324,
          0.19120414622526655,
          0.30311992092963824,
          -1.4559592094610112,
          -0.6199981118611457,
          -0.8722234999965697,
          0.9004459469460854,
          -1.6247038645067893,
          -1.062006766067533,
          -2.275562923799131,
          -2.440208699056778,
          2.5771460914554236,
          1.0270205742712064,
          0.2060516060878095,
          -2.5806978818047854,
          -0.5712340927903744,
          3.2809295345151126,
          -1.5637737698157408,
          1.220929319259294,
          0.48405119988479534,
          -0.5282922835012787,
          -1.1307183422703477,
          -0.9269091463581604,
          -0.6185777612959632,
          -1.149984982086222,
          1.8173240864048188,
          -1.3749198539938678,
          -1.6520903601109038,
          -1.2986502655419172,
          -1.29758906578048,
          0.3058256966218626,
          -1.3462612700330823,
          -1.7470041523344144,
          -0.30494350642966794,
          -1.967137549937173,
          2.2275947844319637,
          -2.092828407330095,
          -0.4916305036083029,
          4.54386581925615,
          -0.13542140882376524,
          1.4837110021992075,
          -1.9735855077767457,
          0.6485445278211149,
          2.8159472142033892,
          -0.8837272355087545,
          -2.0484071423793795,
          -0.36430759815659075,
          -1.9337969338970693,
          1.8965023833021202,
          -2.52895347734027,
          1.0537655108575057,
          -2.277736331504056,
          0.07662343179028179,
          3.398808341472343,
          0.25999896843582304,
          -0.4061830783490411,
          1.6538884585059395,
          -1.5352700450358172,
          -1.9356353360904905,
          -1.851020495670528,
          3.1195772507639945,
          -0.15782068814566794,
          -2.043107128969395,
          -1.7025008051995116,
          -1.6926357192479162,
          0.443681086733142,
          0.9414181813994769,
          -1.8390780976763648,
          -0.45610670469487763,
          -0.6339026897236317,
          0.4091140281318522,
          -1.5204119627510224,
          -1.237551602634085,
          -0.8241107478989359,
          -1.1426086313378283,
          -0.36800278406626996,
          -0.09992803362029039,
          -0.5132760876552783,
          -0.3772743278176101,
          -2.110501275718403,
          0.10317402358200217,
          0.3738668292156707,
          -0.24639969833325345,
          -1.6359726508063004,
          -1.9063700998743025,
          -1.464364641737481,
          0.32892435456033453,
          1.2267724841840744,
          -1.7557167467884178,
          -0.1770165682531184,
          -1.3226891081527248,
          -1.2996594708119231,
          -1.799942399424722,
          -2.1238399216828485,
          2.110533642888018,
          0.2765664805044866,
          -0.11197990424607791,
          1.8239885435093153,
          -0.9448207406779587,
          2.901783966639376,
          -1.2961319426863078,
          -1.0547713227993427,
          -1.9432456271142644,
          -0.8424551238116028,
          0.7642415538626494,
          -0.8031613421822659,
          1.8413606419837756,
          -1.572258828260558,
          -2.3789490605897794,
          -2.0466975977969137,
          0.3381033586442925,
          1.1000812193623728,
          -1.1164607278804357,
          -1.7724206424667655,
          -1.8310175220250169,
          -0.42590107425766793,
          -0.731278864711933,
          2.409352265784788,
          2.1607557427301205,
          -0.5813772934017872,
          0.2624334724733028,
          1.0963821494114607,
          -0.28534639724734867,
          -2.698736958683543,
          1.1044847326142342,
          -1.7038199518381592,
          0.13380518144021758,
          3.20096263344046,
          -0.43699050092425806,
          -1.582559473312637,
          -0.2977877562398306,
          1.4606956467340293,
          1.358481157010426,
          0.3034197520525063,
          -0.34745031544220945,
          2.703216557690604,
          4.193808522800385,
          -2.3708436093678036,
          -1.6841768505106616,
          -1.3386178296763789,
          1.0730592293504493,
          0.40170487088230655,
          1.3177895015223504,
          -0.5659892029206661,
          -0.33599887470686657,
          -1.5337953270774076,
          0.6898892475567535,
          3.084809313120047,
          -0.043650443883915355,
          0.9057953513995471,
          -1.9200562731398338,
          -2.1454552240705373,
          0.15286627761123378,
          3.016958173199136,
          -0.8592572205898951,
          1.0060557176727107,
          0.5600336492453432,
          -0.38586663458397386,
          -2.3740652709903496,
          -2.368270756759437,
          -2.9297355475687814,
          -0.01615028164378726,
          -0.6099699698766263,
          2.524290020994543,
          -1.2386725297492387,
          0.24034586332089108,
          -0.752057077074034,
          -0.4216856020598355,
          -1.365869383185088,
          -2.091552861619202,
          -1.4705239423270882,
          -1.0848104305268598,
          -1.9394418443923327,
          -1.258379501447408,
          -0.7653043457422612,
          -1.9309619722346603,
          0.6986003366429955,
          2.726649798251158,
          -0.3131269608542356,
          -2.7237183614350897,
          0.31873028895139455,
          0.6722560789881595,
          -1.1088922266691987,
          -0.2922003470793001,
          5.507589306145189,
          -1.6290088935262097,
          -1.87016766130581,
          -1.2839301029548542,
          -1.6626082942202374,
          -1.3424876504850047,
          4.209876693600223,
          -1.29782070643507,
          -2.00791555443677,
          -1.7224479052080381,
          0.8947630357971393,
          -1.2810423691148811,
          2.4886666478676287,
          -1.8293784831943685,
          -0.5211568622893751,
          -0.300096727541804,
          -0.027930810717351397,
          1.06898764855749,
          -1.4082443579877757,
          -1.1080096165229592,
          -1.816363228956545,
          0.8241489393198441,
          -2.7967077484944958,
          0.7393843330773586,
          -1.7474378791183138,
          -0.006095985448458885,
          1.4081671509833344,
          -1.464581044368429,
          3.0467644808940837,
          0.3161447366518198,
          0.32909226421120735,
          -2.5667160209530264,
          1.5856943157920946,
          -2.0715111427100488,
          -2.4914278373134717,
          -1.4203324922354377,
          -0.18560461504563433,
          -0.5507159839556856,
          -1.072493645222213,
          1.1613102771500972,
          -1.8800686990538598,
          -0.07456111212183242,
          3.3274039931390913,
          -1.58405583156375,
          2.819439911495412,
          -1.0444176744965386,
          4.211641947391198,
          1.0794229629262222,
          -0.1188298933689612,
          0.3908503717394573,
          -1.9369368665246576,
          -0.6232096689832402,
          -2.092267314127228,
          -2.3035631159239887,
          1.9597256863328323,
          0.18098067696632192,
          -1.013172973534724,
          1.229385493599228,
          -1.72098604491659,
          -1.7966358233029691,
          0.6732560656650849,
          -1.8199472031325115,
          0.6396271459972295,
          1.625808084770263,
          2.0389174152564298,
          0.2880784997696891,
          -0.7146799305523603,
          -0.24288450949241372,
          -0.6356688694049989,
          2.870085345060919,
          -0.6683960640125717,
          -0.6979451654322445,
          1.9890087688980502,
          -1.077706534218913,
          4.444226004700193,
          -1.458892873846115,
          0.26010634111675945,
          1.2042956771846698,
          -0.7840118571613044,
          0.4912397733924215,
          2.384955667519367,
          -1.6150175775575841,
          -1.0520266440846167,
          4.3257445010112745,
          1.5371491956518584,
          -1.4455120596860327,
          -0.4440226509814976,
          -0.6301388236803465,
          -1.06788693082803,
          -1.5589477754061016,
          -2.0998324183115136,
          -0.4408834464371654,
          2.6469621872955407,
          4.9917452643618,
          -1.7957015486810266,
          -0.8667009069374118,
          2.5451746705055327,
          2.7689075114103927,
          -1.5954226861734961,
          1.2964600389514402,
          -2.0015726570649317,
          -1.5473180046615655,
          -1.7575820876792678,
          -2.5410386856447245,
          2.143929214745144,
          -2.067992555920221,
          -0.13406997540005341,
          -0.6822412418684903,
          0.2696416432509059,
          -0.2567235966060693,
          2.501687714536088,
          -0.7486338746980847,
          3.378247388505972,
          -1.9766713638947122,
          4.433105675272268,
          -0.5272094646090474,
          -1.8314983455204636,
          1.698959868131428,
          -0.7220517275746046,
          -2.194661701655754,
          0.6744447750463627,
          -0.8117280434794433,
          1.9936812635031997,
          -0.16642050595687802,
          -0.6524547723215504,
          -1.5143636525055197,
          3.236633295215646,
          1.8289107503821025,
          -1.8873175360184764,
          -1.678113799887656,
          2.3261136597007592,
          -1.8297782784861993,
          1.01489859807856,
          -0.2727620110073362,
          -1.0518679515018843,
          -1.4175832335380845,
          4.396190266311064,
          1.6695256601732475,
          1.9206364873431208,
          -1.9146874267385672,
          0.30833982242832203,
          -2.4347001458802464,
          2.36253796277895,
          -0.0356772969107929,
          -1.1911045008212924,
          1.8924721441794128,
          -1.408549254791058,
          1.6638226458621597,
          -0.7205931514441797,
          -0.3870689027333519,
          4.677383739653715,
          -0.6787068598758539,
          1.8353053949135971,
          -1.5709026987888437,
          3.804860830783613,
          -1.5010370007880165,
          1.7717418875615394,
          4.065229642956517,
          -2.542755406083196,
          -1.6359421931400433,
          -2.0289982083291513,
          -0.049447467623622655,
          0.5630949578020047,
          -0.6892278591526428,
          -0.7454245278925338,
          -1.6776903248710557,
          -1.0266173887318337,
          -0.8330271503491907,
          -0.22531108208828352,
          0.6759477437271606,
          -1.7348256716482493,
          -0.7826372986213137,
          -1.3896234832941725,
          -1.4248361984972338,
          -0.264384094562945,
          1.5528480653708236,
          -0.45094583424407714,
          2.0127838425204008,
          0.5114893926577302,
          1.3197270498769291,
          0.25478842162432497,
          -2.260784325745601,
          -0.27816278961413465,
          -0.3007726204352599,
          0.8129773650443824,
          -0.7008182669593224,
          -1.0350733771983756,
          -0.5407795227155179,
          0.7262096258169596,
          3.2037101572255517,
          2.0692217259286783,
          -0.571867908005352,
          -0.9418713105236781,
          1.1838961071901102,
          2.3824089348753277,
          -0.31216432524623705,
          0.26241099920048866,
          1.912333327805701,
          1.4321133281537466,
          0.4667918395400368,
          -0.8819003564609146,
          -0.7359566504241439,
          -1.541265335482801,
          1.3200484292156371,
          2.500427728298404,
          -0.9014406603914469,
          -0.6188641802732778,
          0.555673030845575,
          0.4031684905069649,
          -1.6561136126406577,
          -1.163394489118926,
          -0.9789205009879511,
          -0.8819100182937483,
          0.37601355569800754,
          1.128859853646517,
          -0.020705558968199648,
          -0.9295701008778916,
          -1.2679188382450912,
          2.6681378492140935,
          2.22269098969335,
          -0.7549278838378548,
          0.16434519300326322,
          -0.36442997130732596,
          -0.3802745446651496,
          -0.41415178959470894,
          1.4317144444163588,
          0.7731019110230044,
          -0.1635281468978804,
          -1.408124643750258,
          0.6129833226089769,
          -2.772616608263351,
          -1.2164338811836786,
          1.7869728096794393,
          -2.1814369197081445,
          -1.1790750160990555,
          0.2585640973084935,
          -0.5081188248374982,
          -1.2142569854747947,
          0.06177096743298189,
          -2.2616270483763063,
          -1.3761533864870872,
          2.004269429352172,
          -1.3961542296519196,
          1.7014803511719911,
          0.7489263406157753,
          0.005778340917138653,
          -0.19068577283798605,
          -0.3733296147887469,
          0.4109748628977061,
          -0.5057651865969846,
          2.362106788070573,
          -1.7068174682684651,
          -0.0697421892479815,
          2.7020207985524505,
          -0.35389900439046906,
          3.3660064388673057,
          -0.1356389933058975,
          -0.8756519384323213,
          -2.2489656796299893,
          0.4078304873771279,
          0.9589953623524411,
          0.45257243729026714,
          0.889734751723171,
          -2.098458538418717,
          0.2019845331371964,
          -1.1044421480055717,
          -1.2530719765620935,
          2.4047506608894857,
          0.9408226271285781,
          -1.6205821095747808,
          0.7327644904263949,
          -1.9509575461640898,
          -1.4063323066646938,
          -0.6858487244750558,
          0.3243163777623841,
          -0.8634441699925471,
          0.00552308349048726,
          0.5739913237626113,
          -1.2010184694203425,
          0.4106469909429341,
          -0.05896241564955661,
          -1.1447705348922994,
          -1.0374231203234632,
          -1.3351164426911277,
          -0.3085381262659462,
          0.08190767949269183,
          1.1481948281578926,
          -0.48447436513830155,
          -0.9064371345609898,
          1.3011056318770795,
          -2.3305397429483503,
          2.3712624169469607,
          -1.7159332180153557,
          3.0118049919202106,
          0.8289010428607108,
          -1.1741143744362603,
          -0.3814977953219954,
          -1.8107025590963721,
          -0.107586033027123,
          -2.1818693702770595,
          -1.6441474167579615,
          -0.40358319424485684,
          -0.1757650512558306,
          0.38773368092592264,
          -0.5684778498121283,
          0.03882388114170528,
          3.624874542976151,
          -0.9769852113854024,
          -1.084416534394543,
          -1.1665057218641546,
          0.2510457427843502,
          -2.760168408986327,
          -0.8524540653238514,
          -0.008592012600424795,
          2.1433861964059213,
          -0.9269403696437724,
          0.5001771027230537,
          3.570583716418677,
          1.5739565880324309,
          3.001515104596957,
          -0.8819053976107938,
          -0.5117303196620605,
          -1.0202943001628197,
          -0.5296052400268506,
          -1.5555026915012682,
          0.05958731356735918,
          0.45438444906106973,
          -1.7316011251982764,
          0.5275276188464141,
          1.5836117462414476,
          1.0775820271935324,
          -1.8929194237381952,
          2.008061425475464,
          -2.140185141554124,
          0.3668048111554187,
          1.0242331561892997,
          -2.033023853232882,
          -1.4092475721336701,
          0.711160106532412,
          1.359980830788832,
          0.1288391357192287,
          0.35828621619141954,
          1.1134152997047166,
          -0.28812597458347483,
          -2.2304305101434156,
          0.9045996408135636,
          0.855828461011895,
          0.22266742325981406,
          1.458006536698454,
          -1.0047084309725216,
          1.6158649222199106,
          0.23188063967240044,
          0.3047521281456301,
          1.96990926626515,
          -0.5720200636948107,
          -0.23981594617992508,
          0.7800902490929867,
          -1.4734576511370354,
          0.021584365669065957,
          -0.8706130161346172,
          -0.3833354843506671,
          2.4291702909273,
          1.7792383898945932,
          -0.46358860879503344,
          -1.0683454602259812,
          -0.12745503509277972,
          -1.8658007888226995,
          0.9490671307125261,
          1.0769595324845682,
          -0.013301078031021069,
          1.0261837208046887,
          0.37512259174822604,
          -1.0339267778090944,
          0.3904670606422091,
          -0.08185544135404767,
          3.4506518604140646,
          2.688565510421763,
          0.8304840337686012,
          -0.7122943144729406,
          -0.08908929828178666,
          -2.286316707117539,
          0.6544091667083409,
          1.463835741870835,
          0.9107623827638821,
          -0.3701715398178303,
          -0.15285052803861446,
          -0.40835612320262427,
          -1.749443198837932,
          -1.1611906811705464,
          0.8647847434447866,
          -1.4353779041118702,
          1.1426352826250736,
          -1.5315200674653364,
          -2.1516054678556986,
          -0.3174261890808642,
          0.2369678425851909,
          -1.4119401854768423,
          1.5709654641388622,
          -1.3502507139148516,
          -0.003963389517735903,
          -1.6322790418378925,
          -1.564850868930228,
          1.280929978160776,
          1.1503772232592262,
          1.3889983097380219,
          -0.6034376793287783,
          2.52930071581257,
          -2.305342913818046,
          2.20118251169475,
          0.9511017271907016,
          0.5391219009745916,
          -2.3563867358249992,
          0.062230146927567696,
          2.1998201638904655,
          0.4174171133270072,
          -1.016090667307722,
          -1.2838750451834022,
          0.10645360942485387,
          2.086168304609945,
          -0.4184459101924451,
          0.9139199267019781,
          2.201943076277675,
          1.7406468338532628,
          -1.7721388312098239,
          0.27566659642455155,
          -1.4679615448144951,
          2.37168223060668,
          -0.1343818854634426,
          2.296344764947767,
          -0.27009416352227683,
          3.754223413411757,
          2.5945340079466663,
          0.003942510231804548,
          -0.626231448606793,
          0.6778922426419846,
          -1.6168747001655646,
          1.1895100360834634,
          -1.284139363621813,
          2.6446569680917387,
          1.0438018148145662,
          -0.038193928147438966,
          1.1598281708744673,
          -2.1446448197767953,
          -1.5688511886641678,
          -0.05226215439670505,
          1.4255100758117358,
          0.8508537602195236,
          1.1864058021570265,
          1.7902696055341372,
          1.7067949466549153,
          -2.1582445186831554,
          0.30716635126024877,
          0.7547733921953778,
          2.113516784382447,
          -0.5755507164009435,
          -2.287848230932449,
          -0.13102942795081915,
          2.1478562869080005,
          -1.8950982095021396,
          0.7632575085202457,
          -0.6490421330329713,
          -1.653369328596327,
          -1.6522252804976385,
          3.590732340495761,
          -2.1513765431744942,
          1.5808391869729956,
          0.6431479107149851,
          -1.340463910776337,
          -1.7155132104650508,
          -0.7036157637074764,
          2.1897644707908617,
          4.073088207158343,
          -0.7315352947524868,
          2.05838478761253,
          1.2837735831864034,
          -1.957265773333366,
          -1.3167843887083177,
          -2.241025029435267,
          0.6122733490429437,
          0.17701690747718113,
          2.099619109807436,
          1.6389830095306768,
          0.09449611916923226,
          -0.45153477346842086,
          -0.2575852481088885,
          2.905666712206193,
          -1.8852222333621755,
          -1.4283071210191924,
          -1.9595036489575557,
          0.30449557359738594,
          2.4099019058963025,
          2.59343034996973,
          -2.0489842985208324,
          2.9043245943228704,
          0.24136992507879693,
          0.8871546548098281,
          -3.075254255949885,
          -0.8179727341077234,
          -1.2951828574730084,
          0.9629145709323111,
          -0.9293710674872743,
          -2.1082734396329212,
          0.8128729819104024,
          -1.4081682469459853,
          4.231900751081581,
          -0.43532231379603614,
          -1.5281498289967943,
          0.6332825846112828,
          0.5149113395118996,
          3.3179912920961128,
          -0.05448828431874973,
          3.8257502080862085,
          2.913933277816229,
          0.5173147268855178,
          -0.8537851839172608,
          1.288913652327375,
          0.5899649874060096,
          0.9262855178920497,
          1.2810210355150038,
          -1.3442816655428402,
          -0.5845830493057929,
          0.5548152541913159,
          -0.7950323716092756,
          -2.0613842975185226,
          -1.6767038160849246,
          -0.4323792635409703,
          -0.6878584595906349,
          2.6601384047618897,
          -2.1707515177881036,
          0.4262905005152853,
          -1.8275845141526288,
          -0.7247350587266442,
          0.9868514983390262,
          2.0860274182243943,
          -3.013503761433883,
          2.8831789258027993,
          -1.170749579763385,
          2.631686140736278,
          1.1738938648261272,
          2.0653142487489973,
          0.306489316095422,
          1.349162343542456,
          -0.026569464923495642,
          2.4511626542542553,
          -1.3424143754323843,
          0.6536633885466183,
          -1.9481329679152029,
          0.018791473986110252,
          -1.1253879428529754,
          -1.7378861444052827,
          -1.2308201415307969,
          -1.745675053362298,
          0.48084433170189306,
          -0.669557380861009,
          3.7049203478321,
          0.0662145766551891,
          2.3349949275899555,
          -0.8710045768978649,
          -1.0696676830719567,
          -2.038276864580721,
          -0.06476971109679087,
          1.008554285262801,
          -3.2809694830544616,
          3.755546455359841,
          -1.995672210624827,
          -1.0540175085056889,
          1.4379677247243445,
          -2.362728643471578,
          -2.993833567980782,
          -0.14562555460715168,
          -1.6049505764637269,
          1.920411836092965,
          3.088605830817828,
          1.752278052372113,
          0.911389646779414,
          -0.04617432707961712,
          -0.009527295376499817,
          3.8897583297716425,
          1.0338690851477046,
          -0.6643153289708712,
          4.42417754668642,
          -1.182522851047488,
          2.9461597719070975,
          2.897002832013276,
          0.13750991742524293,
          -0.3761224548021902,
          1.2872041367601545,
          1.7750583736064185,
          -1.742925697075112,
          -0.07427044534517975,
          -0.4504962970723323,
          -0.7227797053865019,
          3.1632541206669873,
          -2.0999904925459774,
          0.32815318940681576,
          0.50712113494591,
          -0.8118076803428609,
          2.962572782813275,
          1.6716748215083728,
          1.963111509008714,
          -0.5073748026808121,
          0.9323437669823699,
          2.3724392490717974,
          4.129493294301272,
          0.10779673489493771,
          0.021236008701747435,
          0.8008780574671144,
          -1.3224030051800462,
          0.22280864180419255,
          0.08172828739384369,
          1.3195420057380907,
          0.8915258650331788,
          1.1671200748259345,
          -1.8011436370730098,
          2.990525687386094,
          -1.3040290647386168,
          2.0465261703373185,
          0.21653547587955888,
          -0.4847834203157599,
          2.919292369630271,
          -0.13878058303035085,
          2.877181710650698,
          0.9741548393831221,
          1.5961406916066045,
          2.699188969304267,
          2.367813158786307,
          0.3125994241720927,
          1.283451776375076,
          2.0243674919179186,
          1.4208249823799055,
          -0.5075211278041422,
          -1.6546395282434776,
          2.001637379211925,
          0.5621316194742934,
          3.4056955692861566,
          -1.2451856862279982,
          0.6393940668486625,
          -0.27278321847559645,
          0.7535069797906169,
          2.0021162551410723,
          0.06574856731472667,
          2.378815219952146,
          0.40131179663843725,
          1.0541888330054192,
          -0.49449863904106706,
          0.7074688823853312,
          -1.8476087161541155,
          1.3962141318189742,
          0.4078049988215999,
          1.3514269368857035,
          1.4150683278976364,
          1.8068600359301255,
          0.1389891091948041,
          0.04704033561223075,
          -0.10617224036223441,
          -0.7724194860892237,
          2.870659707362157,
          -0.6113014309915534,
          -0.383372368463364,
          0.5642731960730832,
          -0.5360041079419017,
          0.09855826788142771,
          0.5046452930894498,
          2.142532755954058,
          1.2242281508448036,
          1.2224297316191446,
          2.747004405328308,
          -0.7370877416749806,
          -0.6404704363100273,
          -1.3763876571035742,
          0.11214957170451845,
          1.4556650302500034,
          0.8461299507678067,
          0.54969904719073,
          1.239457522777909,
          4.404941732335089,
          0.7374695160822554,
          -0.035547285103628035,
          -0.9971290997689769,
          -1.9441092722221711,
          -0.29387254641095223,
          -0.2696480600375383,
          1.6948119224120264,
          0.9415483536293161,
          0.15168901262519402,
          0.5373969424616432,
          2.8518533879359427,
          0.908030960352115,
          0.2260894919876663,
          -1.7656705676562154,
          -0.1247649338056459,
          0.00739349222517586,
          0.9920777984997202,
          0.002772978044815314,
          0.26253132955922215,
          -1.9327143313636412,
          2.848646715261203,
          -0.8477321569204556,
          2.999765756076658,
          -1.9890849984786871,
          1.0986556309297237,
          1.1250322167290787,
          1.8370256565767629,
          0.8026205672117743,
          1.156875585873474,
          4.555666288235933,
          -0.23551109847113766,
          -1.4192254593516078,
          -0.00958925351762296,
          -0.7076754038618528,
          0.6610166982728007,
          0.7300020912413814,
          1.0552026078712624,
          0.17048660176951713,
          0.7890236776212541,
          0.543613852243694,
          0.5616066674121621,
          0.46966376678057586,
          0.30435610248618433,
          2.6489263953169355,
          -0.4774229082919295,
          -1.250699428063611,
          4.72391643424677,
          -1.3793369672896918,
          0.5154806699715754,
          0.8205379113997451,
          -1.5916901171143256,
          0.5357569499089196,
          1.7103916573410591,
          -0.3419728488322833,
          -0.7564430284149328,
          2.04375085995991,
          4.899453296904565,
          1.740252693150929,
          -0.5185819772999839,
          -0.7687938689581105,
          1.5624796864750614,
          0.7239353499685669
         ],
         "y": [
          -0.8599077952941852,
          -0.29865590379423085,
          0.011512972578601455,
          2.2188723814850637,
          -0.49176683328360904,
          0.5305287780380425,
          -0.6387657931696652,
          2.13584548170542,
          2.417984439710403,
          -1.4723379295047627,
          -0.6245648456581693,
          -0.4380382434407587,
          0.16935444685615123,
          1.6298762297557272,
          -0.6304477058534084,
          0.6641430381744842,
          0.8940219089996768,
          1.85152834617116,
          1.1823937060512975,
          -1.257229703405996,
          2.4093330654987684,
          0.26828605235353836,
          -0.769987055629604,
          0.875482868911835,
          -0.32800382903415354,
          0.6054308996888605,
          0.56948066981429,
          -1.7340261765758669,
          1.0024248376040057,
          -0.13094780705959505,
          0.626506149089266,
          0.2645320670846551,
          -0.3947593252479917,
          -2.3790850297573716,
          0.09581844705441178,
          -1.3620847234838298,
          2.062878497929722,
          2.5517127896577714,
          0.4695449843142632,
          -0.5583378120946358,
          -0.9683332058847987,
          0.2845998071201718,
          1.1883528437156647,
          1.9399714299431006,
          -0.00657172119647985,
          2.23260600781545,
          -2.4938534398109127,
          1.2287275959037967,
          -0.5536469317477903,
          0.6998180280840514,
          0.01487405932500318,
          2.041831388440383,
          -0.3945951717674795,
          2.693425501457872,
          1.6953590407949604,
          -0.1778160331638572,
          0.4513912491648819,
          1.1997019209789201,
          -0.5598296459003511,
          1.0036201201915929,
          -0.6652874831952362,
          -0.30531184893836116,
          -0.9047613094885775,
          -0.7111160058573328,
          0.18747728591966636,
          -0.7394593344103689,
          -1.3252196884234326,
          -1.444460994771703,
          2.2735353414371344,
          -0.2479525652804074,
          -0.5627403298746392,
          0.8147170013981102,
          0.7681235621912957,
          0.7458409283761092,
          0.5294733688758947,
          -0.09055026163818698,
          -0.05513341075409584,
          1.0406419133309985,
          -0.45767014802851946,
          1.6147153936460772,
          1.2596180094035754,
          -0.04590665436251989,
          -0.311224515178472,
          -0.27583769149655163,
          0.6632887184731938,
          0.9196245710370812,
          -0.6161482354600712,
          -1.1565066268099564,
          -1.2722758912470686,
          2.1864148541729294,
          0.7531558336042298,
          -1.546716088670309,
          1.2833064328231585,
          0.8631523457455083,
          2.64413666645638,
          2.4030369789059147,
          -1.0813780322287387,
          -0.009926083860606184,
          -0.044851128372704045,
          1.2381968447667027,
          0.4523958597543652,
          1.367503700244657,
          -0.3711226257965898,
          2.1840768053359363,
          1.407570612662079,
          0.3132940041538504,
          -0.9056629694796879,
          -0.5051382760477251,
          -1.0052854523309651,
          1.4354427778036876,
          0.4859112302387601,
          0.5676587225332336,
          0.34591848497943284,
          -0.06547677896244855,
          1.0857833622771087,
          0.6160152852904138,
          1.112531606433779,
          -1.5634778508888323,
          2.5895717309983013,
          0.8974831966093835,
          1.905716457643202,
          0.14787860248488754,
          0.9617464907829484,
          -0.41460393443664395,
          -2.295502788111029,
          -0.9945091381928715,
          1.8101241122984622,
          -0.9029034387585642,
          0.10092755925551287,
          0.6208669390218977,
          -0.4617135051272333,
          0.38075222634623723,
          0.9291868283530657,
          1.0574147526531885,
          0.9518756282461948,
          -0.7536317022772874,
          1.2288092920822147,
          -1.7947966793505215,
          -0.3982403151835596,
          0.5651600729121539,
          -0.563904871520374,
          0.625548190011339,
          -1.1434318552365124,
          -2.503183980716979,
          -0.15629563141252292,
          1.214850989386476,
          -1.0209440855982113,
          1.8385132861901008,
          -0.16883158722795735,
          -0.14615637831434086,
          -0.220793335524957,
          1.4229098873591608,
          0.3972167680539783,
          -2.86981751509133,
          0.5879902828517485,
          0.5613740801898942,
          -0.161304589531614,
          -0.13573879132209474,
          0.2960914640086515,
          -0.07905811609076306,
          -0.23561561825480853,
          0.07648040309980417,
          -0.664890873364913,
          -0.8205958794474516,
          0.7133681923647085,
          1.2874222829072877,
          -1.198067783431922,
          -0.30113565279789317,
          -1.057021202981795,
          -1.006417730843775,
          -0.29805397317430493,
          -0.9330747517036911,
          0.03162459629345084,
          0.9501400018176437,
          -0.026544007066646332,
          -0.13336817115237115,
          0.9086205541254108,
          1.8040354334392696,
          -0.5112902835763343,
          0.8520988046711989,
          -1.266918787904764,
          -0.35476204497243935,
          1.3189019856732234,
          0.2709351430679284,
          -0.4002772831142466,
          -1.6976221656648751,
          2.8240827773012227,
          0.18854921392651855,
          1.8786573050481792,
          0.01753438341713224,
          -1.4348775067034443,
          -0.434185202722897,
          -2.0339206729412154,
          1.2398714505310215,
          1.3724387045858366,
          0.8926799729111781,
          -1.1166531101375923,
          1.0923156706759731,
          1.5981210526221876,
          0.7194628193539208,
          0.06853506874166489,
          1.3135900205509619,
          -1.2318071793077305,
          -0.4198874948813098,
          2.04246728804971,
          -1.8002838013897429,
          0.17977903913909424,
          1.0508765062332277,
          -1.2109556752205748,
          0.13135056738192022,
          1.285190893771064,
          -1.0661438781294579,
          1.092118553077641,
          -0.6665682219436568,
          0.12232905509426799,
          1.3428743639883003,
          -2.9542290920552525,
          1.1878306469665212,
          -0.9932624191665872,
          -1.264492621720662,
          0.828890398856008,
          -0.9454434649241577,
          0.9897037553894755,
          0.5850977487003844,
          -0.9637056153299677,
          1.1087094436108975,
          2.901117335218187,
          0.501987991653168,
          0.48584730304458085,
          -2.731627887441934,
          -0.06295908108058046,
          -0.6921877701852993,
          -0.8551649272782947,
          -0.26390172270017054,
          1.5411850280860113,
          1.285317768464219,
          0.13627682260529964,
          2.604379561995377,
          -1.857933200400369,
          1.9572137449100604,
          -0.8892058030911325,
          -0.46496662560901636,
          -0.33232646509842195,
          2.5256866770182023,
          -0.19792228969238962,
          0.3871799834717467,
          0.22718539020058207,
          1.42886645316085,
          -1.064757059443415,
          1.2295552335473556,
          -0.373870071133303,
          2.6206339797670344,
          -0.284491366216656,
          0.7570456653972356,
          0.4099179118255137,
          1.6568758308548943,
          -0.05486358312022396,
          0.4410559732756478,
          2.869779771499209,
          0.2037535414706147,
          0.7807483432335242,
          1.8668104327519817,
          1.308227102578651,
          -0.32709106209806327,
          0.6832779998990881,
          0.13189453105880966,
          2.6736858454334227,
          -1.7120338395098578,
          -2.2102668447812026,
          0.865979851388373,
          0.7705550488526527,
          0.21282161521318801,
          -1.2558946442691494,
          1.0100735295884729,
          -0.5946564132023062,
          -1.8177110509270014,
          0.15517214964214096,
          1.9718511446830094,
          2.926817177467866,
          -1.454739496778888,
          -0.05786764531272852,
          -1.089879867044405,
          -2.0606971336914235,
          0.2793823656184333,
          1.7616626505788469,
          -1.5743647826613496,
          0.42498214655844674,
          1.710267288521373,
          0.32825177757742585,
          -1.2191603605889723,
          -0.9032201667491838,
          1.6590057871542803,
          0.000933802978896545,
          0.07480036692117625,
          -0.02505596715392581,
          -0.3714702811144656,
          0.18558988460647236,
          -0.8132515379521827,
          0.5381248342718209,
          -1.2182711411751999,
          2.5627606109319703,
          0.5013139734325672,
          -0.5420431974291473,
          1.0912238193947674,
          0.21638362039816483,
          -1.6116419734918004,
          0.2604652212060222,
          -0.24326991676833187,
          0.39096519558974785,
          0.45829545708280994,
          0.8832498318768048,
          1.8456463365785274,
          1.3024425528483101,
          0.40554987557794336,
          1.8181644127980272,
          -1.5693176096744312,
          1.1855554843078355,
          1.6444219811095722,
          -0.10955046776144006,
          2.0005025799457923,
          -0.05333383188407406,
          -2.0904478369164354,
          -0.9183176541139692,
          1.262561790062899,
          1.6349096915740782,
          0.8943508705626068,
          -0.6159921270547614,
          2.058430426267263,
          0.5672639402948475,
          -0.3378226950948409,
          -1.6427540169519006,
          0.5164191300156495,
          0.1583894223728245,
          0.5220937101106505,
          -0.9774586980804046,
          -0.18651676479354554,
          -0.21137923150177068,
          -0.7692843749778051,
          1.7081657638646532,
          1.086882336232421,
          -0.9816341447695738,
          -0.2677693208087966,
          1.404075199672614,
          2.3456562227033158,
          0.7883385662897017,
          0.046017559239274475,
          -0.11733965955702942,
          -1.0670164023753663,
          -1.3767090109417508,
          0.599572636815285,
          2.891428564899862,
          0.05850510021976688,
          1.2061290567939733,
          1.262018417774108,
          2.573118309827904,
          1.8670505832421174,
          -1.6389143967537012,
          1.5563198624750822,
          0.9841577330777077,
          0.8756178296269628,
          1.1903519143738837,
          -1.416522443257111,
          0.7867372411620227,
          0.2196341715055997,
          0.08505688514099494,
          1.8995084279507837,
          2.0522203086775934,
          0.09882485370426262,
          2.6668363017418675,
          -1.5004530104285025,
          1.3993250370690182,
          -0.21486704551303643,
          1.1483318467673813,
          -1.8380512588963422,
          -0.3960490611669482,
          0.2149487826895125,
          0.9580121025308566,
          1.798735277747447,
          -0.3388591872999224,
          -0.17962600209021176,
          -0.4434132511688498,
          -0.6739449164046387,
          1.1939589881499804,
          -0.8386017360898141,
          0.23159283437077785,
          1.3895996631970924,
          -0.17868655577292264,
          -0.6562017295272486,
          -1.055270290451098,
          -0.8140417262640064,
          1.849858883307356,
          0.5309340291167857,
          1.0044935723434316,
          1.2773364036760722,
          1.62983094172083,
          0.1884156191969905,
          -0.21588485468959487,
          -1.5045255610589618,
          0.2052457805388915,
          -0.9746013430765618,
          0.082815113472345,
          -1.4829930899302282,
          -0.10750440063421678,
          -1.4181809821630602,
          -0.011449125969551872,
          1.5829768325747635,
          0.12626943130400128,
          0.4102511559197366,
          -1.2625875959516024,
          1.8798238686099733,
          -1.1458960623302739,
          0.6695742971543759,
          -1.5818815734109257,
          1.0601904188907358,
          -2.2528280555972118,
          -0.4884894644599968,
          0.007443075468306365,
          1.6433382559027818,
          -1.7312908505660283,
          0.3583190220401698,
          1.1696293527237802,
          -0.5984996389197935,
          0.17158316461213283,
          0.6555684050902566,
          1.1508155612825375,
          1.6274690029321428,
          -1.3874099917964697,
          -0.6151363251043096,
          -0.18866098118783256,
          0.9070755600434766,
          1.2198469753788281,
          -1.306740953071006,
          -0.3623056690046964,
          0.08063393966523925,
          0.20095077375132636,
          1.9161818595925022,
          0.5545191615261845,
          -1.8866100664276282,
          1.538770319514281,
          1.4712882130518985,
          -1.9639915086514765,
          2.300359892560123,
          0.4962982546239537,
          2.8863620836836463,
          -1.2539190125155932,
          0.8932455153420154,
          0.17532224592076767,
          0.6322687639033122,
          0.7569455340545681,
          1.0286854027448695,
          1.5221864290467453,
          0.8734167917048402,
          1.7612778862373923,
          0.17105300385169458,
          -1.3625759397629649,
          -0.5233088555105767,
          1.2432754882060673,
          1.3034466526854158,
          -0.19147774713227694,
          -0.29230107508034575,
          -0.27437704701557075,
          -1.328003571854764,
          -0.7258278866631642,
          0.24622459364313345,
          0.7357064129993364,
          -1.3541966179404368,
          -0.6966585035052808,
          -1.5497006624163163,
          -0.6855724400897439,
          -0.008157866826806031,
          1.4103617714871317,
          -0.5607677818191869,
          2.3049972807680708,
          1.3958529170209772,
          -0.708829474965108,
          -0.029598196445226033,
          1.4166094140595757,
          1.9405603493674626,
          0.48780936976613654,
          1.1972520171528909,
          0.26651474562212013,
          -0.556929823116956,
          1.7089627835606307,
          0.7187628754540432,
          0.5033999693879554,
          0.8810182386659962,
          -1.2246047181943396,
          -0.5601382933200523,
          1.0867601451426125,
          1.3393410445340355,
          1.1635915671987398,
          0.19745373857672308,
          1.3147194594542542,
          2.164780372697808,
          1.4652544415474447,
          0.4918301684806796,
          -0.15129470278349513,
          1.516832612432296,
          -2.58498569945526,
          -0.8340939823700094,
          -2.108222787713691,
          -0.4882309890349436,
          0.5482542473478981,
          0.4944096409225924,
          -1.1906206226506444,
          -1.2999381303877637,
          0.1711983338170388,
          -1.8457747759485161,
          1.9879576966663093,
          -1.4051669807425249,
          0.4479289542755645,
          2.442404322524884,
          -0.17078622249426684,
          0.5874310426307688,
          0.34896945503252413,
          -0.37843072277256157,
          0.3008609404703577,
          -0.8196645939036692,
          0.9266919856663721,
          1.5034749707312507,
          0.46321963231705476,
          0.837521340002405,
          0.29545287314126273,
          -0.6069020862097637,
          -0.23151074835452232,
          0.8959276569810636,
          0.6653209335207421,
          -1.8900122577479903,
          1.4292913103383649,
          0.43160934475831586,
          0.3815694703695146,
          0.622413902349984,
          1.5502415003146939,
          0.2412398850495508,
          -0.024190782681620348,
          -0.8255388777813152,
          1.1481694012174064,
          -0.27097308183342095,
          1.4530100503610721,
          -1.649580731012495,
          1.5679735549789116,
          1.0023687309725595,
          0.9813644174314662,
          1.0211349230736368,
          0.003808724170641291,
          -1.8499870154250484,
          -0.807627920446061,
          -0.6127141500477361,
          0.4444756892910682,
          -0.9563748254582295,
          -1.308651870754792,
          -0.0014819950573171962,
          0.13364880279817623,
          -0.10423233442023658,
          -0.4407623769445941,
          1.5656874365538023,
          0.49915962981502754,
          0.913069910717287,
          0.30637193525603296,
          -1.6384874590677518,
          -0.4619685878623068,
          1.4863282856183684,
          1.062929310725044,
          -0.6129453972540482,
          1.9785397933796427,
          -1.7620531701243332,
          0.23037918013099187,
          0.2789871791142428,
          -1.2625499234202822,
          0.8661086924752704,
          -0.3301302443007158,
          -0.7767183978416129,
          -0.6542898352339255,
          -0.9209261905904725,
          0.5901129598867315,
          1.9667018097349647,
          -0.9254275751914268,
          -0.31658582509185484,
          1.542423097758322,
          0.731373261841876,
          -0.8492252404621424,
          -0.28989641877094297,
          1.472704702083516,
          0.0036991301539239223,
          0.9960380963558662,
          -1.2085796298035687,
          1.0047916393625096,
          0.6321181986697151,
          -0.5619647427231611,
          -0.717589885056118,
          1.26992246241402,
          0.6538982213647583,
          -0.5242137006688935,
          1.423843446895889,
          2.4308149441332234,
          0.019105127925755767,
          -0.6101570940325387,
          -2.06653574335158,
          -0.46097915533899536,
          -1.147417818620927,
          0.36806370458001786,
          0.6308703659699405,
          -0.09439839191500475,
          0.20088520618620664,
          0.8661445478158213,
          -0.19425411106496832,
          0.7835098341153577,
          0.4988437463897773,
          0.2513170400074091,
          1.422259852669234,
          1.1649038555367313,
          1.1723059230324562,
          -2.1488167070366266,
          1.8096189944057695,
          0.1899059119744675,
          0.2046009641753354,
          0.8414805357879834,
          -0.43800443549322643,
          -0.1855046877933324,
          -0.3117842908300603,
          1.042070248121293,
          -0.27773736648387165,
          0.5441675928095885,
          0.15443825793689828,
          1.9843799057938238,
          -0.8006145681156304,
          -0.20667884628698335,
          0.47579509244931456,
          1.3780274399479189,
          -0.4058374570674443,
          -0.15403348123963978,
          1.3328892150309086,
          -0.5378300576827297,
          1.3463750402934567,
          1.9423110829556365,
          -0.3306119161873654,
          -0.6564778712707241,
          1.2915200454527298,
          -0.9763548092841606,
          -1.559050806146293,
          0.30577358030640456,
          -0.20035352941652532,
          1.8134615739059237,
          0.7816104828347782,
          -1.7809578005523876,
          1.1059600806635568,
          1.181729883197688,
          0.5966415458621293,
          2.616679992786421,
          -0.9153648428944767,
          1.2617524280651933,
          0.6891803270335886,
          -0.9716381197360724,
          1.643849010159847,
          2.0345871882799935,
          -0.5928229974742188,
          -0.3838402801259508,
          -0.08409165536819446,
          -0.7516786721563076,
          -0.14627538971678736,
          -1.7813002875644062,
          1.625501929037115,
          1.6485459002113259,
          1.033680740502868,
          1.0456156483908996,
          1.7876690142681022,
          -0.42136522673123816,
          -0.9211910664067853,
          -0.7675458992202158,
          -1.0858153501875574,
          1.357866010565472,
          -0.11134355603085182,
          0.12053509784647946,
          -1.0161455436821614,
          -0.3917623661240987,
          -1.3787125133755724,
          1.0853659117420675,
          0.7929923811176399,
          -0.6067364810381828,
          -1.420713673488877,
          -0.639260814032434,
          -1.0581792758699153,
          1.0292629253545367,
          0.2942062169696691,
          -0.8097164300122296,
          1.4285591655484562,
          1.1155249613542064,
          -2.2180627081786217,
          -0.8684011415295754,
          -0.9282324038396882,
          -1.7848666481946158,
          1.127214040799815,
          1.1119220993932537,
          -0.45489736411196685,
          2.3391656570852244,
          1.8377698647558236,
          -0.031907988671457416,
          0.6089103393686596,
          -0.8488020092452613,
          0.34293303357498056,
          0.07251437691814694,
          -0.8094812049812873,
          0.5673120364504187,
          -1.8511700231655732,
          0.7821869401396389,
          -0.16370012307427262,
          1.3229747142194408,
          0.8629244062236933,
          0.09731150826283443,
          -0.4952925376649984,
          0.445288807966561,
          -0.9097755626587022,
          0.6812570086767582,
          0.7676587143736452,
          -2.631159443342125,
          0.7800355896363013,
          0.30580743625630447,
          0.07607391395094147,
          0.37657345311161533,
          -1.2027253708859547,
          -0.40407080407574125,
          1.1263878599257944,
          1.2010562186422944,
          -0.12304009317579753,
          0.6233130642344619,
          1.1839321375470035,
          -0.041228588335229154,
          -0.05560062078332245,
          0.24359135878552,
          -1.421939756217899,
          -1.2028661005986685,
          0.3447906596622834,
          -0.12636793977127306,
          -1.1535938814654598,
          2.3683519804843414,
          0.15674987988073982,
          -0.9791260989903844,
          0.9982940516610925,
          1.6645494445848286,
          -0.14062976159501367,
          0.20517630151403216,
          -1.08561746819168,
          -1.411933682623235,
          2.5409052542273978,
          -1.1495359040516318,
          -0.32867218479331267,
          -1.9087191823473362,
          -0.7690360540120729,
          -1.8624227652378689,
          1.3844018137939145,
          2.6819693115133876,
          -0.014072285713228792,
          -1.6428273933591064,
          -0.13922654367760864,
          -0.3056042296161209,
          2.2031468334814486,
          1.2492364894318895,
          2.7987192692433704,
          1.0073126250007045,
          0.6200685782330843,
          -0.49343727341166843,
          -0.8768192721466952,
          -1.3881608814459703,
          0.4440603523178177,
          -0.027426975820991538,
          0.1744082950176151,
          0.38891713800189487,
          -1.4340481037532817,
          -1.4562556363595964,
          -0.6550729704960939,
          -0.4905904179731318,
          0.3560125049259976,
          -0.6088239556574538,
          0.7493854776757736,
          -0.5821412993103411,
          0.6468988441710078,
          -0.11180815624402353,
          0.20399422278287047,
          0.41051438563456244,
          -0.5714772295526819,
          1.8723082873534878,
          -0.8762895698761195,
          -0.4096504132097583,
          -0.5895017365877097,
          -1.9260334845871552,
          1.3140244035672646,
          -1.4997538881521981,
          -1.891886380815779,
          0.9557868013626536,
          -0.7765243994524014,
          -0.44421506463596044,
          1.2926394567509139,
          1.4889105646178742,
          -1.6488952127828076,
          -0.908125067684757,
          1.5427087506858579,
          0.7419145826675042,
          -0.1868491997622009,
          -0.8219149877159844,
          1.0647535561623438,
          0.6494155499237461,
          0.7434962839446954,
          1.067526012616823,
          -2.069798775204146,
          -0.279485091709029,
          -0.926953655491497,
          -0.30934956470359376,
          -2.24045981728536,
          -0.10993836300937285,
          -0.1679206505160476,
          -0.03612764659557085,
          -0.8818647836696168,
          -0.6580460877819475,
          0.8973384161494193,
          0.042624508210778775,
          0.23756404067212866,
          0.4132855474359326,
          1.3218048761644434,
          -0.7083674228477986,
          0.8578829156591002,
          -0.8630745461565374,
          -0.5800195495272571,
          -0.7813672546924498,
          -1.063639910107552,
          0.010473384463207494,
          1.8019170629119536,
          -1.9884085221230066,
          -1.312353120671461,
          -1.5599895496557699,
          -0.06687816844586714,
          -0.016789131372254424,
          0.6908808224238606,
          -1.5551841870165284,
          0.06695047211124269,
          -0.7997634472141689,
          -0.30911742662601044,
          0.7495950071951265,
          -0.19929985550553506,
          0.8674851893595948,
          0.4271525650321682,
          -0.7718905971962005,
          -0.8437260509950265,
          1.1563897587785663,
          -1.2831565582958664,
          -0.5623480635816993,
          1.0290338704938276,
          0.19065187036633727,
          0.42241575120022407,
          -0.7901474332954953,
          1.2084112602975583,
          1.2627325993335499,
          2.0040924586383793,
          0.45799940149563806,
          -0.32757426687657776,
          0.9953699648191116,
          0.15931064468915743,
          -0.9894406249224614,
          0.2839224436998755,
          1.9287105513927876,
          -0.5683029930476938,
          0.25545713773189677,
          -0.8103597237887776,
          1.9097123968006926,
          -0.5309482886377631,
          -3.167055963321583,
          -0.8604403430578079,
          -1.9172838161726906,
          -0.506086767095725,
          2.019637134933606,
          1.1349372008572296,
          -0.6482223353542469,
          0.47521619728786874,
          -1.9965061959660961,
          -0.16801461128751835,
          -0.4501788864121699,
          1.3591888144025743,
          -0.447916560105755,
          -3.1612927957654913,
          -0.8959819011552184,
          1.2115485495418459,
          0.2736482334798297,
          0.6869103282334916,
          -1.3576514105949495,
          1.0318202529237943,
          0.12493059474917369,
          -0.1200362724049762,
          -0.2689793458395285,
          -0.4621349828662418,
          -2.109995043692558,
          -0.9296880264101623,
          -0.14431629946118535,
          2.2296096580736,
          0.23506107232336754,
          -1.298091779665606,
          0.26270092929950967,
          -0.8275081442304618,
          0.674659154067287,
          -0.7615774713691044,
          -1.8086318508243397,
          0.29860129719666156,
          1.802028359370411,
          -0.4546120505070058,
          -1.3201377594664727,
          0.8173745017137525,
          1.2497151477739208,
          -1.1747160678355486,
          -0.8356225481636266,
          -0.7566931323989123,
          0.605658449085191,
          -0.9515539110292156,
          -1.6108280842853053,
          0.8211140332927791,
          0.8550358130795127,
          0.3128763556817227,
          1.8426494689008102,
          0.5470708654355179,
          1.6255422046790453,
          -0.3790374739127209,
          0.7445401985714674,
          0.8093703730169187,
          -0.9487484570702059,
          -0.6196835633619573,
          -0.05788904697608174,
          1.2422791340163195,
          0.0836013125356436,
          1.247970823169558,
          -1.611890874311923,
          0.47549536916169544,
          -1.1631989690243434,
          0.006561098793287623,
          -0.9109156797742771,
          -1.7386962688892713,
          -1.614050148043335,
          -0.40163014954850607,
          -0.8562966548120294,
          -0.8238788737433964,
          1.406143860749322,
          -0.24207763847765362,
          -1.7947311273318394,
          0.24588976604036103,
          0.5018409404634463,
          -1.723714084901084,
          -0.09699143738214318,
          -1.5333947356666389,
          0.6706274317645086,
          0.7732552484221911,
          -1.7983472379758272,
          0.6576958307070141,
          0.11336618149745159,
          -0.790847654999197,
          0.7445717819473728,
          0.6985753935516306,
          0.2532956059752354,
          -2.5546247460620446,
          2.2769454142541155,
          -0.683195513943729,
          -0.09120135373545342,
          -1.267646653445973,
          -0.617797011372714,
          -0.7580658647142632,
          1.0095365658287463,
          1.5190465729541778,
          1.3625466286676478,
          1.2536135806550885,
          -0.005642412150484426,
          1.6285265645017883,
          1.9983198917242186,
          -0.7304880732209824,
          -1.2414720323646196,
          -1.1795654255592547,
          -1.140201152332134,
          -0.47518122326482753,
          0.8420231960697191,
          0.5957333926113639,
          -1.7898948319531895,
          -1.1600805885786913,
          0.21676377779959063,
          2.0736457110522766,
          0.16044161251940273,
          0.9960725144694106,
          0.9313238114843557,
          0.22443904677251936,
          1.7529713793475539,
          -1.568001773544874,
          0.5507473369364699,
          0.5989420197629785,
          -0.0777162952202681,
          -0.04461242754374997,
          1.3745401495479883,
          0.7926894175672011,
          -0.7232049589876326,
          -1.2281494347978457,
          0.16536580263533926,
          -2.029739203229553,
          -0.5700461620854539,
          -0.7994331270152056,
          0.043968238512491105,
          -1.0299652495139806,
          0.11823033967841784,
          0.005730348801241029,
          0.5866032506751341,
          -0.46604156058835255,
          -0.07244186791118994,
          0.13990385452568488,
          1.2940419611356202,
          1.7785027439173515,
          -1.2361691869970752,
          1.0085275166146244,
          -0.36826534908314595,
          2.3155463613437077,
          0.5727666005867633,
          -0.6418619951107767,
          0.01578702001986867,
          0.28757704247014493,
          0.45936573895791194,
          -1.7154886599483394,
          -0.11444884375832265,
          -2.154456636737427,
          0.7579584009998946,
          -0.6503661926254796,
          0.278027025853937,
          -1.4157835406339747,
          1.028543634046339,
          -1.1524132178684967,
          0.5307896709775716,
          -1.8329207195701438,
          -0.7375609053520523,
          -1.4083153412320206,
          0.6263374138224169,
          1.2148002685532244,
          0.7495629631925409,
          1.799240650879351,
          -0.02401552461139625,
          0.953336306860674,
          1.3165263036256234,
          2.4224698910541336,
          -1.3813572914337064,
          0.5568485397805385,
          -1.1824496015342705,
          1.1782540408547466,
          1.3362045987996334,
          1.0762059242339288,
          -0.25825205008852964,
          2.589121973538488,
          -0.8473745397010534,
          1.962882218081338,
          -1.4800756288709978,
          0.7089668957654802,
          -0.22047527435763947,
          -2.1102937672006803,
          -1.5900017957577375,
          -0.9411949234841915,
          0.5060688401297552,
          0.3956185299826034,
          -0.9971472180134011,
          -1.8075195634355783,
          0.5560861396988116,
          0.6613771868284958,
          -1.5214023975900108,
          0.30101559242595505,
          -1.0327475110572508,
          1.7181059715945255,
          0.04268133999166828,
          -0.8508381199353355,
          -1.5591646716699135,
          -0.3977490215430909,
          -2.7976797009263996,
          0.08100147449033754,
          -1.430918017284052,
          -0.890717124514955,
          -2.755773868803175,
          0.9216524859583777,
          2.2375452040929527,
          -1.0732112701649135,
          -2.4780766240476146,
          -2.5424927276247873,
          -1.2795636677911457,
          0.66701896397842,
          -0.3767728979230026,
          2.5073589413092074,
          -0.8704894971553597,
          -0.8936878114333913,
          0.5980575579552682,
          0.1636160606077482,
          -0.08487746237350924,
          -0.8787128897426598,
          -0.7715913473616015,
          -0.7399780126081968,
          0.7422515459228147,
          -0.7171600309408235,
          -0.22245592330664474,
          -3.0174478473888735,
          0.2646639918597658,
          0.6545603680016019,
          0.13390293453983687,
          -0.7462808371306888,
          -1.0065155538038728,
          -0.0960616286945017,
          -1.723394336058433,
          -1.1810318301033254,
          -1.5559240938407888,
          1.0150904074275546,
          -2.648868658328932,
          -0.46733635331704987,
          -1.0068475538138772,
          1.0207593840266127,
          -1.580588314512385,
          -0.07623428436087333,
          -0.6773707170817452,
          -0.7583205998560134,
          0.141213239174992,
          -2.5467360193176765,
          0.6487869254130549,
          0.48920273321240715,
          -1.9562918144206534,
          0.9767757712823519,
          -0.6247141400925583,
          -1.2540562846151628,
          -1.0477447312235926,
          -0.12209175581283169,
          -0.36996648939500737,
          0.5009254326553642,
          -0.3540628992713261,
          -1.0933740491762283,
          -1.033343199976991,
          0.104267147216766,
          0.4067470901406933,
          -0.8610891668195381,
          -0.7306783921369964,
          -1.9035024031053498,
          1.05532941115123,
          -1.1606044537617974,
          0.13156774847818462,
          -0.04446840581376547,
          -2.3981016590689976,
          -0.5373934563472577,
          1.9343256742895958,
          0.9167076484108767,
          0.5338244822460505,
          -0.6290507190722211,
          -1.3618292593678218,
          -2.5776802578876326,
          -1.5135939087185049,
          -1.3821825809822386,
          -1.8738900756527623,
          1.212419439150768,
          -0.6493953836737961,
          -2.34097008488569,
          -1.8393025277657444,
          -0.2176736604427814,
          0.9735395860834265,
          0.07522462235767939,
          -0.6070885019075852,
          -0.9644834460001138,
          0.5296295419848689,
          2.1663978826925328,
          -2.3308122133088798,
          1.7754394988007574,
          -0.704460089176185,
          -1.6428004121404896,
          0.06504588882536938,
          -1.2460312388111914,
          -0.7678181790724947,
          0.7667566710225049,
          -0.7666942492753142,
          -0.7696670562867317,
          0.4444714311797143,
          -1.3204859900809711,
          0.21026091782272086,
          0.31636938611069415,
          -1.6151942727061042,
          1.494458565235242,
          -2.524735644401757,
          -0.6138398125875734,
          0.6804625459231468,
          -1.964590883273511,
          0.0016831267510391916,
          2.3516291577629023,
          0.49723318246088016,
          1.2017496484739378,
          -0.45195717319238876,
          -1.069763638890298,
          -1.6230818056238219,
          1.0967867639578925,
          -2.595335700941437,
          -1.539908219240521,
          -0.2604178208188201,
          -2.8739817594817536,
          -0.9528446088715277,
          -0.24981128862663743,
          0.8637035734460775,
          0.3135570356002319,
          -2.344309800857686,
          -1.1972415392494133,
          -0.3007985069096504,
          -0.591372649791386,
          -2.473426709836792,
          -0.7563059095070286,
          -0.027363747710943107,
          0.9943081632135983,
          0.9495512138419749,
          -1.608550495648041,
          0.1576938685668875,
          -1.8969669682217298,
          -2.285101517394608,
          1.2772075665545608,
          -0.5558276666609744,
          0.6890853479796339,
          -1.1100896768587991,
          -1.8248176122346902,
          2.699343634506051,
          -0.23201005706060313,
          -2.019270747016878,
          -0.5680648971729605,
          -0.5728676071310259,
          -0.45416183734276216,
          -0.4783702918696599,
          -1.5938201890582764,
          -0.4275749621130965,
          -1.7122639887020155,
          -0.3797282732757373,
          0.7790592080024552,
          -1.1213747080008187,
          -0.46953270763582605,
          0.4722771972776612,
          -0.8134570412289889,
          -2.0982113594187037,
          -0.5938065541352869,
          -1.388915668768422,
          -0.5278328415395902,
          -1.2664142173882527,
          -1.9427478937111737,
          -1.432530999965115,
          -0.3683076040016098,
          0.3590084447550874,
          1.377786680556748,
          -0.42758861807653875,
          -2.133128829180382,
          -0.807952295565249,
          -0.2579063006080983,
          -1.1318899144901537,
          0.4418279698302401,
          -0.4659649496714327,
          -1.0019415620828163,
          -1.2178120164251443,
          0.5652288401498484,
          -0.7158762554998472,
          -1.112305370821347,
          -1.4724662083922948,
          -0.37009078983078963,
          -0.016188054067206938,
          -0.3934303286386429,
          -1.4587642054076935,
          -0.5868027066187932,
          -0.720524076452447,
          -0.26001108817696006,
          0.6727448763049445,
          0.16701392261559603,
          1.9080113358057527,
          -0.30818680023693645,
          -0.7449997176211878,
          -1.0333123121638927,
          0.3079601205263415,
          -1.4761105673339072,
          -2.6878762405114616,
          -0.7688438797282541,
          1.2424030451111319,
          -1.0227542605001543,
          1.591945550266231,
          0.34738968940900367,
          -1.2901686030869348,
          1.5066874338477427,
          1.0254337448070163,
          -2.200691454600458,
          0.2345497676056149,
          2.0480828864593525,
          1.0219387870189154,
          0.6084607305803967,
          -0.75883342158346,
          -0.192259789097381,
          1.0869884057639891,
          -0.64880994013492,
          -0.8810617731069481,
          -0.9877589187812589,
          0.18397885966905006,
          -0.6227248225100024,
          -0.39896056078845343,
          -1.0424577797335481,
          0.6164696579413285,
          -1.5102432718172505,
          -0.45393171062817617,
          -0.8270327513680401,
          1.5665138134788648,
          -1.579418581821239,
          -0.8286859783928636,
          0.890294107263866,
          2.69772066035681,
          -1.938345022754355,
          0.12319159774760581,
          0.244496406311315,
          0.07280990399730053,
          -0.45115094310389314,
          -0.7535282136619547,
          -1.21742502701428,
          -1.3828171353374434,
          0.5621516899704652,
          -0.45124808796429494,
          0.7465795515535137,
          1.5490860100860695,
          1.2342150596905617,
          1.415809439609728,
          -0.7391876599469566,
          -0.5909672235815308,
          -0.5575605031262105,
          0.5866250541568453,
          -0.9605620819886205,
          -1.9237071780633581,
          0.2429559993730875,
          -1.4746439885716756,
          -0.5987809042110731,
          -2.495406647169125,
          -1.4368222889751523,
          -1.2082865352140755,
          -0.850817422179703,
          -1.4261943203791914,
          -0.07034675467786713,
          -0.8011272731238347,
          -2.0729253568560577,
          -0.9864796277228467,
          -0.6477960666587607,
          -1.4774567125917835,
          -1.2296468478753375,
          -1.4970140668527492,
          0.5649085789468896,
          0.06281056039396775,
          -1.516621491337273,
          -0.06797201821945194,
          0.3505069600161885,
          -1.3231305510528477,
          -0.38109416498862514,
          -0.6820080691684607,
          1.9070323456721585,
          0.3559230613097962,
          -0.4483330769045753,
          -0.01303361474527123,
          2.2565602008148953,
          0.1818883949653783,
          -1.7206600770208773,
          -0.3580383907358778,
          -1.0072796766954526,
          -0.37739621539770857,
          1.0123894352787524,
          -1.0412162858424454,
          -0.3811281320767261,
          -1.421430261633243,
          -0.7800875861136539,
          -0.6070031562346735,
          -0.8359398676938276,
          -0.0005782056866659112,
          0.22387695411875713,
          -1.4721393788135495,
          0.8818815560843482,
          -2.3398484377154785,
          0.19322042118697436,
          0.3435810207050822,
          -2.6552336352812023,
          0.08806598951832172,
          2.7956414104431024,
          0.5272106366860226,
          0.7519362110816356,
          -2.266075910423841,
          -0.9248380033088406,
          -0.6887370477253258,
          -0.8915668661421139,
          -0.4425276621240328,
          -0.5689736137083837,
          -0.7236702681591616,
          -2.292023028473952,
          -1.0485752663336292,
          -1.0862792646199082,
          -0.8814575394987997,
          1.0293178854607028,
          -0.5128071293842327,
          -0.9361265766406884,
          -0.26632197839634,
          -0.6962171649866631,
          -1.107907280555526,
          0.8632603312299707,
          0.45189711933922716,
          0.8610569087057425,
          -0.40731409831107823,
          1.7153333919243279,
          -0.6910440484589179,
          -2.11586229761587,
          1.25835148325357,
          1.5540529905908123,
          -0.9161550573717896,
          -1.0116234916830718,
          -0.07292198046944515,
          -1.6288598987637906,
          2.1434765797219257,
          1.2461852431360976,
          0.29202830995661555,
          0.1762641821062455,
          0.0016586894075143574,
          1.7252461950692228,
          -0.8999874840022394,
          -1.5299654339935678,
          0.02705643225647932,
          -1.7417179544090287,
          -1.1903119054315021,
          -1.3751055617319128,
          0.6569063228548788,
          -1.2951908354592734,
          -1.242425707320368,
          0.828284186227448,
          -0.22962484607668954,
          -0.9603674649335947,
          0.6930601954603418,
          -1.0049131127415416,
          -0.973407211382545,
          -1.2921249113578541,
          -1.6501486267990482,
          0.9395609214512137,
          1.3969271082921235,
          -2.189286358693591,
          1.506628999944052,
          2.5264575308873964,
          0.02707667629598299,
          -0.1688340620479038,
          -1.1206585419706738,
          -1.010059679240508,
          0.5449515536243262,
          -1.1617865303170491,
          -2.553211413502678,
          -1.8586488278369122,
          -0.7884687510672712,
          1.7802453421616786,
          -1.1308115808731063,
          -1.184140390864617,
          -0.07599048678407337,
          -0.8326812719711145,
          -1.077354087358032,
          -0.5801284330305106,
          2.184164285328674,
          -0.16072203921880976,
          0.3831873086308921,
          -0.7365394116073479,
          0.2637549989995861,
          -1.146401798416519,
          -2.014855690415679,
          0.2913486161743315,
          1.1811063038110723,
          -0.427994622691568,
          -1.74068667256577,
          -1.381578409311718,
          -0.6883105394972733,
          -1.009901359662583,
          -0.6731094626457986,
          -0.8828086185901802,
          -0.40856459014435154,
          -2.1266872197416267,
          -0.9971597546473947,
          -1.1730818419439535,
          -1.5395249475558361,
          1.0045255425181372,
          2.1233467241201835,
          0.9730071311613949,
          -0.6199503608446194,
          1.0409669599153701,
          1.6746194284099312,
          -1.4700660615404406,
          -1.1462404790354452,
          0.33143276033755004,
          0.6195187286766745,
          -2.1012387433247324,
          -0.8127829810658611,
          -3.293986145726831,
          1.4819809909689856,
          -1.8801528259826403,
          0.852169212168043,
          -0.47192615779666797,
          -1.3575247030121245,
          -0.9888539243822697,
          2.3485542327750335,
          -1.5000509194948155,
          -0.6074228582862483,
          2.1959712914380307,
          0.37612281491459437,
          -0.7290256991578332,
          -0.5298688266423351,
          -1.0110262215150154,
          0.16966320921986472,
          -0.5181310668194666,
          -0.7809785570351789,
          -0.8911909619489289,
          1.5095546577561925,
          -1.2508375524530453,
          -0.9028413612037093,
          1.9963646138947764,
          1.129523404995332,
          1.0915339908227046,
          1.8082859311347381,
          -0.8744340985274756,
          1.3490232182744308,
          -0.41211893747087563,
          1.4715596360558043,
          -1.0340425083948388,
          -2.3507153327971806,
          -1.1660573169572241,
          -0.6967512771727161,
          -0.8787514376935485,
          0.7471691941224835,
          -0.44614226211186586,
          -0.6970708443225883,
          1.1502652699499893,
          -1.0553032661573873,
          1.3372244124407686,
          0.6412308208516749,
          0.33942066556640715,
          1.905162616437039,
          0.9693219783102077,
          -0.12352910228865982,
          1.985950212105429,
          -0.8699662588027297,
          0.433964881228463,
          1.3680060381696737,
          -0.5673107397106361,
          0.6291335655488796,
          1.9914063157847994,
          1.7250027637288319,
          0.9570412790475702,
          0.8081313851189436,
          -1.152345452190053,
          -0.15678203021985837,
          -2.218811658735966,
          1.4322157968321478,
          1.4363915563414482,
          0.898787411941599,
          -0.08099011860754791,
          0.011391078591839625,
          1.0911767639250456,
          0.30440268384750946,
          1.4089511634385505,
          1.1176269556627647,
          0.1895564599621866,
          -0.1735704544938207,
          1.2597896915765838,
          -1.2249965307009667,
          -1.481245999381331,
          0.09627907356077865,
          -1.3816335251767256,
          2.3884119858245274,
          1.5180632131601535,
          -1.8823929662318697,
          0.5733765881389576,
          -1.2817462469076244,
          0.09694666244120115,
          -0.5780015787440403,
          -0.1040710622354572,
          -2.8464498321288216,
          -0.17615544929538254,
          -0.6638535740689707,
          -2.1941686184114966,
          -0.9757645329615661,
          -1.0715387091995763,
          -0.25810066780361746,
          -0.10621398113308629,
          1.9991245569320701,
          2.622622546902421,
          0.17866880393013515,
          -0.12512577076620235,
          -1.065358281392648,
          0.2234081796217287,
          -0.9682221567206266,
          -0.2520596805517657,
          0.9889632330811872,
          0.24520659890311286,
          0.12224371009919364,
          -0.8598435491318209,
          -0.5529667612435175,
          0.13342127895190695,
          1.8979216618445198,
          1.55029495340531,
          0.4873765132742399,
          -1.0014355491325542,
          0.8134793998601924,
          2.186604298622755,
          0.464626620522206,
          -1.8251999677787032,
          -0.7705959679221184,
          0.39820855270374206,
          1.0645385456911094,
          -0.1996956522655569,
          1.1663395213372416,
          0.5258339277656252,
          -0.6424815614887157,
          2.298945373415852,
          0.36799729563979905,
          -2.093354269175663,
          0.483884462239177,
          0.5928601364406839,
          0.4769473894363155,
          1.3400090308690096,
          -0.8040819109310592,
          0.24387440363753718,
          0.24351809260903393,
          -1.9152688747750461,
          0.7632825512433543,
          -0.4066352580579733,
          -1.7083025387970887,
          0.8645727733893763,
          0.597600939940668,
          -0.024102576631948574,
          2.480452288679262,
          -0.9870433878845287,
          -0.23862011542665254,
          1.2232962094561826,
          0.18188701600670937,
          1.0532678959750117,
          -0.7199540729052881,
          -2.6800837198854315,
          2.04467295149855,
          0.3707854641250655,
          0.07605304852909106,
          1.0498032069361636,
          1.3207126389254684,
          -2.119318723052354,
          0.8009310842602658,
          0.48395510139927583,
          2.1732782053251243,
          0.7702503115691356,
          -1.552270947511746,
          0.31262038087286487,
          2.0014400537152266,
          0.31137200160117545,
          0.26788910559751766,
          -0.18569225003397521,
          -0.4508900462252738,
          0.4196708061060808,
          1.6922680819425586,
          1.804299483281949,
          1.5084687623550237,
          1.9405567779747193,
          -1.6514201092400211,
          0.5528803130241979,
          -0.14780759658485199,
          1.155524248397789,
          1.0949462025650665,
          -0.10374324480560614,
          2.851023683818514,
          -0.17326364821360554,
          -1.472653645358425,
          -0.9426353409119678,
          1.4021405388448314,
          -0.20390341583730665,
          2.1418892795251527,
          2.5118303089538663,
          -1.6668283562456845,
          0.9828457621800806,
          0.8287278700031414,
          -0.6247067444493493,
          -0.5131609371333268,
          -1.0899325451923456,
          0.06748825964485877,
          0.5689277470049858,
          2.4265623316099685,
          -1.9377290561128615,
          2.612997343366599,
          -0.36437102655819453,
          -0.8520413348618725,
          0.32570637594883056,
          0.45188142351868515,
          -0.8557453092898241,
          1.5342905887921718,
          -0.3116699665637819,
          -0.14576173959324257,
          0.04295363043170372,
          0.3447504774396508,
          -1.6957217687271477,
          -2.02300758881288,
          0.11974535120507498,
          1.3506542474737924,
          -1.1646447272146496,
          0.9170498655380774,
          -1.3320806508630147,
          0.6997317165129572,
          -0.322959654748538,
          2.2401788355821766,
          0.8822229166849574,
          0.974856443837022,
          0.6085743107435619,
          0.1483558934587607,
          -0.6680473411528915,
          -0.21822279634977343,
          1.0781127655802696,
          -0.6097121403656022,
          0.9550943937929913,
          -1.328093402096942,
          -0.045558613669059674,
          -0.159473250218558,
          1.710160570488093,
          -0.9262417754851799,
          0.5332702557933748,
          0.7454514727955022,
          0.3218997438063844,
          -1.4371444679801846,
          -0.1391817357450395,
          -2.310748031800004,
          -0.2206434206997677,
          0.2693506728893749,
          -2.270944698875329,
          1.824332413002619,
          0.5396728508328268,
          -1.6342626588605689,
          0.3347629813405711,
          1.8842794676324486,
          -0.329417702092467,
          1.9795578119011144,
          -0.43185569489922254,
          -0.23248153801699878,
          1.0991714297418165,
          0.6583080905762604,
          1.9220266826497572,
          -0.3423934384433256,
          2.90976379912979,
          -0.017930484533952493,
          -0.9446996339537481,
          0.021731273911941434,
          0.13282180280296904,
          0.1902702205249078,
          1.2136244506544471,
          1.555100670420452,
          1.0113130111090085,
          0.9580482057961869,
          -0.35105461136257,
          0.21307896249820985,
          1.2810437939680348,
          -0.6843586204524793,
          -2.0273071743948634,
          -0.577952346262195,
          0.4361540026543977,
          -1.117850763160151,
          0.37588231396263905,
          1.340615092543157,
          -0.2499198128045077,
          0.7882903824981604,
          0.6613372578915163,
          -2.119242485069723,
          1.0085677796713406,
          0.3898197503124607,
          0.5513647377556424,
          -2.1373899649032686,
          1.5015589602892283,
          0.45257961100815075,
          1.5332673561006183,
          -0.23641897900182782,
          1.0381219816318759,
          1.0441277856434104,
          0.14921196299441583,
          -0.8001905327051111,
          0.1339806290466289,
          0.5180446736480946,
          0.15054158778875273,
          -0.3072564276682752,
          0.05235690006619925,
          1.8834123862869423,
          -1.0031079444928632,
          1.0253969687862186,
          -0.33848201270002437,
          -2.249990537812167,
          0.25774888093136455,
          0.04585645860944227,
          0.7794086554177931,
          1.748057162415268,
          1.1542576591795268,
          -0.8946701561474296,
          -0.4294393804410742,
          -0.7949218619499343,
          -0.3657046731533859,
          -0.86052877104756,
          2.1451138912290135,
          0.9191937241953195,
          -2.147843180420183,
          -0.18259995331026022,
          -2.423085684468719,
          -1.46430983591932,
          1.2424896704532649,
          2.1495912230088727,
          1.0910679104715995,
          -0.8513150187309397,
          -0.24503234256974296,
          -0.1849674264162528,
          -0.20044173252107522,
          -2.4292846666383965,
          0.7181755284728488,
          0.8009979961145702,
          1.3826217883086642,
          1.5510026494636062,
          0.1672357640695476,
          0.5734955813433731,
          -0.5459507849410835,
          1.1982576926907484,
          1.3274670091003644,
          -0.25139045021656126,
          1.104343846694029,
          -0.296243125413465,
          1.3578539258467335,
          2.5670630162233596,
          -0.7188089342557564,
          0.2429555373291865,
          1.3668225036594999,
          0.46633137512817097,
          -0.7598764316364783,
          1.9269484209263854,
          -1.066673506737316,
          0.695813027621468,
          1.1956940346505023,
          -1.0718055435040885,
          -1.108065914201523,
          1.1386321840487421,
          3.5648904463470843,
          0.8303753585403943,
          -0.6152928225160865,
          -2.5743138692435017,
          0.7332963008462251,
          0.5735197884790479,
          0.8029622548594103,
          -0.30090496756638496,
          -1.1168602794985862,
          -1.1445540072542564,
          -1.4696848938205347,
          -1.4402936745700903,
          -0.19108547235266485,
          -0.8264460106817009,
          -0.6269618022365977,
          -0.7264741139604884,
          -0.19146536602796338,
          -1.5925456294458467,
          -0.7725011617261106,
          1.8835223227627746,
          -1.4531436388768182,
          0.7242128292776353,
          1.763714027479609,
          -0.1547487643409894,
          -0.07236216959231813,
          -0.7931551508469075,
          -1.0267920104930652,
          0.13027221444044568,
          -1.096094720045506,
          -0.17935814026496075,
          0.52049964066698,
          -0.5865866298454151,
          0.05886225191966726,
          -1.3309849208791897,
          -0.5335484770491649,
          -0.0750925397166691,
          -1.1477661395123193,
          0.47078882619973444,
          0.5414200331130661,
          -0.03706485035248638,
          -1.5698726027159913,
          -0.24222087723299277,
          0.796075748535057,
          0.09807097036944375,
          -0.5552250887453507,
          -1.2166973626337312,
          0.6478609706202496,
          -1.1402298235619388,
          0.17021211093942348,
          0.38492276888539323,
          -0.5257237534968173,
          -0.8942796507142856,
          -1.8999901835347572,
          -0.641536283688073,
          -0.7459196086990513,
          -0.11291980961286563,
          -0.8576594386448384,
          -0.700374893592047,
          -1.2018721121931477,
          -1.7924786436482285,
          -0.3895908424995799,
          0.2126237434401511,
          1.88105944174231,
          1.2349848265642793,
          1.4216673569114813,
          -0.37291366152045546,
          -1.9058605645199056,
          -0.5158106947502196,
          -1.119529438393874,
          -0.21788015199963812,
          1.8950027908189713,
          0.9627679647002033,
          1.0442536029272493,
          0.24575551326327597,
          -0.3122579382547648,
          -0.38200167242736555,
          0.35835873548717206,
          -1.613207738083646,
          -0.30780047577298647,
          0.025601756389306438,
          -0.08551269893984115,
          0.5401249841995237,
          -0.6533222145618081,
          0.050748904064382275,
          1.015149069579584,
          -1.6168240205794158,
          -0.8091015774773709,
          -0.23684857831408618,
          -1.662286031551227,
          -1.2836738741838543,
          0.5289743880670628,
          0.13926078074581558,
          -1.2905246253095692,
          0.44496094195025243,
          -1.8117249126586552,
          -0.397840420682103,
          -0.07557793510143983,
          -1.373898123579472,
          -0.62169147353161,
          0.29068486354939094,
          -1.8784918252323257,
          -1.7519921704287864,
          0.4972142599128832,
          0.10165447406562456,
          0.7329013811213829,
          1.557126767587323,
          -0.7768173618010604,
          -0.33420154992944656,
          -0.38571953688733157,
          -2.0844410226412737,
          -0.26674634531202157,
          2.3188198718327366,
          -0.2725967806858173,
          -1.1073559156714659,
          2.0151951294617194,
          0.129609581603784,
          0.4426158522810827,
          1.0274902533384183,
          -0.17250667061887714,
          -0.10262205603821618,
          1.442242812025886,
          1.142070947486865,
          -0.527204948978017,
          -0.2586248969246349,
          1.0131969752777463,
          -0.2654013963496051,
          0.2512235446947554,
          1.1385864192218504,
          -0.3999781815868958,
          -0.44313509812198,
          -0.09889702873379351,
          -1.9344727789545666,
          -0.47172831502930124,
          -0.8792964863763812,
          0.4489618410771882,
          0.30201767317633393,
          1.388453821170243,
          0.37276641578124653,
          0.9536807592957954,
          0.7317296290965736,
          -0.09172446343592677,
          1.8586768792220691,
          -1.283838783746284,
          0.36910951478624465,
          0.3175269262590941,
          0.3518385274934771,
          -2.1313409969439867,
          0.03706165807611105,
          0.45634076879979724,
          -1.4097266273054212,
          -0.025246274388683734,
          -0.637548340876618,
          0.9179560544619529,
          0.9243902632479429,
          0.8069394134676382,
          -2.6422044101127007,
          1.7699146144358457,
          0.04462563732231312,
          0.20129352284245752,
          0.9276110543092311,
          -0.4093491579397126,
          0.9324923689204769,
          0.3964262678138661,
          0.6106043773671588,
          -1.4824812065142903,
          -1.0187798723775743,
          -2.0094787894613777,
          1.3631641172435354,
          -2.404004602656849,
          0.46736779861363104,
          -0.4964069705683538,
          0.13454319229056239,
          -0.7090383562123556
         ],
         "z": [
          1.5039254472250438,
          0.7459345948372941,
          2.7813733741173055,
          0.3318376009609826,
          -1.003845691183144,
          -1.229345352034956,
          -1.078457685516098,
          1.0206348073913556,
          0.31483810425298736,
          -0.3538946624547841,
          0.573586907204355,
          0.3308222814628426,
          -1.1879727021032913,
          -0.0377516547375165,
          -0.8783644649531157,
          0.5183946007015948,
          -0.29971362718739836,
          -0.6989102789242104,
          -1.0672591186171185,
          0.9971814729395732,
          -0.09690673464340963,
          0.253751326561295,
          -1.2038891074898506,
          0.34581609678063124,
          -0.7383971949435589,
          -0.10265423723880132,
          -0.6020719304509036,
          2.2495965801284643,
          0.8934503695282614,
          0.38588119813639005,
          0.24540138711030057,
          1.2187242721615632,
          -1.4205582755635613,
          -0.21976208711236125,
          0.7324859802685452,
          0.17383826234476307,
          0.18929274761561712,
          0.18374147077837472,
          0.8184597882650969,
          -0.8380329388686028,
          0.28409832946888947,
          0.7398615768857307,
          -0.7674218620341096,
          0.9754537036670151,
          -1.2250165305227443,
          0.28632186287155814,
          0.49587358081498395,
          -1.907871629798859,
          -0.11442745812889549,
          -1.9266709530176191,
          -0.17737081592461915,
          1.4108027024130068,
          0.017394595626976872,
          -1.1229178556661936,
          0.5092264275788162,
          -1.157058300977251,
          -1.4647452596696457,
          -0.3326714447570733,
          -1.0719663115827767,
          -0.3454648647545672,
          0.2535691964243201,
          -1.0956893738430666,
          1.8723047113364897,
          2.004876764206598,
          -1.2802963403040128,
          -0.5887433285900464,
          -0.9831568656617719,
          -0.8410883094504004,
          -0.21158091338535304,
          -1.2345265189706163,
          -0.7832050114982133,
          1.008628520873554,
          1.1507980870653312,
          4.7677530826946715,
          -0.05555614802124386,
          -0.15761556329341103,
          0.08826582689679535,
          -1.0526861236240372,
          1.1865667496004542,
          0.18139321428478808,
          0.600134362496074,
          -1.0675032730369145,
          -0.48454199112119967,
          -1.486250437440978,
          -0.7966648005100352,
          0.4030523831886076,
          -0.18375821505432716,
          -0.38139933498560435,
          -0.1735469373152321,
          0.42480253058161027,
          -0.2891927013913376,
          -0.012128520660244326,
          -0.33257088363316517,
          -0.32558619222423635,
          2.16115604495417,
          0.23325380584048883,
          -0.686353254255942,
          -0.7537683259327062,
          -0.8806700866994256,
          -1.2292824862367342,
          -0.7331096012362137,
          -0.5996873389476195,
          -0.31811421052901934,
          0.21487596831133046,
          0.71265600992386,
          -0.774175880067428,
          1.12683043300022,
          -0.8931964547592279,
          -1.1254272544471244,
          -0.37627190581310144,
          2.1359166843452724,
          -1.5536785226662078,
          -0.5551421961714345,
          -2.0798005217205535,
          3.757969807594402,
          -1.4526206713290504,
          -0.6624037378372213,
          1.363080082880051,
          -0.4287679442711972,
          -0.39258271781038057,
          5.046725701570219,
          -0.901447498597004,
          0.2548712832280017,
          -1.3228818602588421,
          0.0930639644527931,
          1.991236322568461,
          -0.14273000510785228,
          0.20112201476149724,
          0.2513336240016034,
          -0.260975875583176,
          -0.9515842971808727,
          0.058002156427080606,
          0.5989019310760023,
          -1.6146067904888615,
          -0.6994429725767842,
          -1.17706693565838,
          -0.5108361813045884,
          -0.503369645606306,
          0.27888288925121313,
          -1.1086344077571901,
          -0.44767182281658663,
          -0.16922142677261337,
          -0.3409286162411638,
          -0.6494628822846553,
          -0.5670698783245877,
          1.3833162810575743,
          0.6241448892466348,
          0.9781195872028833,
          0.2284149837566143,
          -0.019666316432320804,
          -0.7912672675288496,
          -1.268118190816115,
          -0.13835224522693212,
          1.9807256226735848,
          0.7042980685709235,
          -0.49246385130452697,
          -1.177149456516073,
          -0.7616902752546569,
          -0.23216333863498362,
          1.8239112573589227,
          -1.1925580938674456,
          0.5301823129730611,
          -0.08006968561340772,
          1.4684378834416771,
          -0.03471639614174129,
          -0.8141784385353554,
          -0.9748278230903182,
          -0.4584051362095037,
          -0.11237958691591618,
          0.8202635320317109,
          0.3490402299854562,
          -0.12798827506350718,
          -1.0218264109286068,
          1.5722502849460744,
          -1.0581615625556702,
          4.225598024934049,
          0.4208061471284511,
          -1.3626138719698773,
          -0.9319973757242643,
          -0.8048503217706229,
          -0.6078445579598932,
          -0.564582421233819,
          0.18550407355683374,
          -0.8194426551946254,
          -0.2288501659640222,
          0.47318213046856233,
          0.8986901323299217,
          -0.10540897905707673,
          -0.39312914808538163,
          -0.8940934297350503,
          2.5510101665316856,
          -0.7378844841185628,
          -0.5350321358807132,
          0.1532282356552981,
          0.5336175127238046,
          -0.020261773456061057,
          -0.42147134222510874,
          -0.9740454050224749,
          0.20669709596161587,
          -0.3712261169979227,
          0.06292028396333203,
          -0.09161259566626986,
          -0.1380352962896301,
          -0.6383026067675046,
          0.4997983021456718,
          0.19097500273089157,
          -0.2396943430021069,
          1.127924484741901,
          1.0273154689013189,
          1.2262804209264928,
          0.8243321131882978,
          -0.4127024089588453,
          -1.3412439045944273,
          -1.2137812620987898,
          1.407358626448617,
          -0.9040477062039827,
          0.746500237808625,
          -0.44602631643012547,
          0.03591330156852442,
          1.48056283340995,
          -1.6424815136382858,
          0.16950587844704385,
          -0.09350518328163997,
          -0.34410045411853446,
          0.9299501565790022,
          -0.2783601963593414,
          1.228724136398574,
          -1.6793480603408517,
          2.1942063147772655,
          0.07318558495241642,
          -0.23138334228302504,
          -0.6619299306649741,
          0.662764096610259,
          -0.22287725869947272,
          1.2662641607249068,
          0.9018451357963438,
          -0.9817583329076662,
          0.9833677885183582,
          1.3411508121961357,
          0.47429253896023504,
          -1.1253210329867573,
          -0.3049224647943456,
          -1.4230215897791678,
          0.5448450316313509,
          -1.003231426110697,
          -1.0886935386284626,
          -0.6014600735994888,
          0.8078622730374804,
          -0.6305031051010693,
          -0.7129879740666937,
          0.10551211748266798,
          2.4864269701110193,
          1.462984521613321,
          -1.0001214579334938,
          -0.4089718650865937,
          -0.32919578060880705,
          0.20786591114499978,
          0.32375416264379847,
          0.5049703936343265,
          -0.8329126743787609,
          -0.8319642461687073,
          -0.27205749748301006,
          -1.136767030747704,
          0.23458689143128753,
          5.859888138642873,
          -1.5728890617128415,
          1.113766651501686,
          0.41479439408445534,
          0.4318305998214307,
          -1.0317264179896,
          -0.8915391048829296,
          -1.270617951292568,
          0.10450248259162497,
          -0.6413775255393824,
          0.31385577535335885,
          -0.01589903575833124,
          -1.259367717577104,
          -0.5960650177838822,
          -0.0577745256854775,
          -1.133927647376699,
          -0.6398179453880555,
          -0.9729745365207689,
          2.9214231677667115,
          -1.2764391551179615,
          2.1591540768878272,
          -0.6928045425148444,
          -0.37015750437565414,
          0.47274989714224647,
          -1.0536469597692142,
          -0.47707750129102566,
          -0.3688503087398067,
          1.004297799997766,
          -1.098306445217533,
          -0.8953098210255449,
          -0.8093019106732573,
          -1.292298872409968,
          0.1754365464094913,
          -1.0589512461239587,
          0.05347207279248802,
          -0.7582752658604526,
          1.0019224925639068,
          -0.8519800701147964,
          -0.21004917295455194,
          -0.2248180941862988,
          0.434924563520789,
          -0.24202151033201227,
          0.19600076055108967,
          -0.9334344031390266,
          -0.5800503719123219,
          -0.2833350016377206,
          -0.1950277139357323,
          -0.4426078867643983,
          -0.5251327354837413,
          -0.7761581138615905,
          0.6457075487307197,
          0.03363589095054132,
          0.05526468734795004,
          0.22736019990566492,
          -1.7751961683415791,
          1.5470246301298185,
          -0.5338930704645218,
          0.13302082660686443,
          -0.6199749374499289,
          -1.579631536876033,
          0.5300849960541699,
          -0.17958791447879605,
          0.9680309729186032,
          -0.09059278469496013,
          -1.2425902971959495,
          -0.20083060071086847,
          0.40985872210482316,
          -0.4246426835940168,
          -1.3863036314758046,
          0.7098523843107943,
          1.0411774417073432,
          -1.1983354618353212,
          0.5125821316757604,
          -1.0065643110286435,
          -0.19918540127942155,
          -1.4096282051106452,
          -0.056623375051349255,
          -0.3352415897219747,
          0.4186188080328881,
          -1.5508110754291664,
          -1.1388792510439738,
          -1.374482881877201,
          -0.8636770793396137,
          -0.5115320415606064,
          -0.8642331460735824,
          -0.6144021944263427,
          0.4887619836568711,
          -1.1996235882065989,
          -0.0576783152173422,
          0.18479008105384173,
          1.3131595561108451,
          0.35574185800105423,
          -0.9066703057925997,
          0.394454912018347,
          1.020341811137411,
          -0.11159864008596256,
          -0.6916980492689379,
          2.250283697026626,
          -0.02492336065938572,
          -0.27686814844699836,
          1.7456240551007265,
          1.2541210836482324,
          2.8391024706427297,
          -0.671271987768366,
          -0.0021167896293894204,
          0.14151634226318785,
          -0.46489578230712325,
          -0.7683212053625583,
          -1.406447210235348,
          1.4671363007863303,
          -0.7204592133700384,
          -0.764835290889824,
          -0.14407634093533994,
          2.1481193062929194,
          0.4395489824634338,
          -1.047647616769081,
          0.23413574992652506,
          -0.6205085483401314,
          -1.1318041755072525,
          -0.23877906996284137,
          -1.1542593818654028,
          -1.1852215067692695,
          1.084494908122192,
          2.1286470733588025,
          -0.724330213992192,
          -1.2182929478866362,
          -1.1148953168439948,
          -0.16057388929709657,
          -0.8120338528873291,
          -0.2207030320769112,
          0.3486259285830611,
          -0.7344434436380639,
          -0.8404808290439801,
          -1.5692542863335133,
          -0.5594788058545664,
          -0.09824845323727432,
          0.4760010569978614,
          0.2002459893037212,
          0.3235360744026174,
          -0.21587891585071414,
          -0.3835740650834636,
          1.1843213465833122,
          0.24623931055626685,
          -0.35644663568858825,
          0.03609908521406178,
          0.9158627266038649,
          -0.9043858290834089,
          -0.39123651017493477,
          0.4760154193554673,
          -0.19703795749040434,
          0.09603939550373178,
          0.09862937745744499,
          -0.32536525093316776,
          -0.2123576554266974,
          0.3280947679718303,
          -0.2864279756690153,
          -0.6400518901338584,
          0.06660617765802221,
          -0.9714909073437705,
          -1.2033796374533154,
          2.385174412058196,
          -0.7409326234033486,
          0.05323186613909341,
          -0.07238405435837524,
          -0.3728676163342559,
          0.7008141686761925,
          -0.6710749086590263,
          0.045863625773100325,
          -1.4010273026080666,
          0.3928355580581923,
          -1.1315802316904964,
          0.21661927675903608,
          -0.4790550692292149,
          0.3070136478393846,
          -0.26221839093418275,
          -0.06138728872576908,
          0.732633771617619,
          -1.344895298589452,
          -0.84667365342487,
          -0.32922998749212395,
          -0.5435373623567554,
          -1.3917712619561502,
          -1.1577990474732163,
          1.3088894888876468,
          0.2821205565589641,
          -0.892604230152148,
          1.025875973935036,
          -1.1013465465758951,
          0.4465351311098248,
          -1.6421522666808475,
          0.042622699012571846,
          -0.20550664778653266,
          -0.6752568236441828,
          -0.09459881778826065,
          -0.7538600274644119,
          -0.06939865680461077,
          -1.2210282716376109,
          -0.22703234135847797,
          -0.22721650281740452,
          0.17836286926501124,
          -0.2876642266586541,
          4.371069929620879,
          1.0472040573495196,
          0.011700862643833557,
          -0.36692941563693965,
          1.8245440993485815,
          1.4096833219310378,
          -0.8639958857113266,
          0.5663876111122291,
          -0.614083388386357,
          -0.06671657288149073,
          -0.023397022430568588,
          0.21431632847226287,
          -0.29934212057083376,
          -0.9894784268945519,
          -1.5684099203194055,
          0.656310968104543,
          0.24315581773793807,
          -0.11896133460592875,
          0.1325009708374124,
          -1.5402617155258629,
          0.3180422494770601,
          -0.6431394352662502,
          -0.9679958364455902,
          -0.5916943057620806,
          -0.17718992661587288,
          1.0065095058548956,
          -0.48499689142639885,
          -0.9980186489337288,
          1.0829737604013987,
          1.5016770324500601,
          -0.6659001001029321,
          0.6007318853045207,
          -0.7415271110401724,
          0.06048119735519636,
          0.7276991178891474,
          1.5667680074575547,
          -0.7094276044131689,
          -0.6117619335452132,
          -1.2081050074812079,
          2.178876196716969,
          -0.7301687209950977,
          0.549803969707703,
          0.027404099189887957,
          0.4242551262768337,
          0.26734004427577046,
          -1.3467072661953328,
          0.23764640440716292,
          0.2022745536913932,
          -0.5463144479689834,
          0.19227811546135135,
          -0.029226593654174914,
          -1.1900872228180732,
          -0.8900255711639347,
          -1.2557652858263344,
          -0.47659465835216347,
          0.28383946876627036,
          -0.06105790125216998,
          -0.3079630531579585,
          0.8795539235460428,
          -1.2572035010196163,
          0.024965251746974358,
          -0.5607532081808169,
          -0.10783218264248667,
          -0.7599315743359386,
          0.037649163125707666,
          0.3480489624470056,
          0.37896942186595317,
          0.932730730817386,
          -0.9167728135495485,
          -0.11193322870002743,
          -0.8671151841241037,
          0.18118266940209102,
          -0.3237959455268461,
          1.4502034531127128,
          -0.317737624931065,
          -1.0632518340522983,
          -0.46025122756225434,
          -0.6618221842731205,
          -1.2626339984339578,
          0.5033342653214968,
          0.9428398541013625,
          -0.43031619677327926,
          -1.1152275334582236,
          -0.32042101274040163,
          0.24881606900792466,
          1.6428698825330454,
          -1.6333193162016253,
          0.5425733138965219,
          -0.6366365091997123,
          -1.0444459348645119,
          -0.02069313629324689,
          0.41481598263500696,
          0.2513369977519068,
          -0.011152667787641374,
          -0.3979947366850452,
          -0.9926759736973979,
          -0.11652646399478854,
          -0.6712126776756394,
          -1.0493053944755162,
          0.4507507399734904,
          -1.1959285920100486,
          0.11863789240756362,
          -0.8455002495698936,
          -0.16723446517280974,
          -0.13019690049692442,
          -0.48450721138374153,
          -0.6043488252101423,
          2.7547892239630967,
          -0.08207562417984034,
          0.27362551392107687,
          -0.317871219810267,
          -0.926751713898025,
          -0.032743723473134555,
          0.4846854830261805,
          -1.2495044254300782,
          3.0430867113210276,
          -0.17171865942506156,
          0.3252029771774454,
          -0.33272614097266545,
          -0.9974365700978702,
          0.7485198491775621,
          -0.5546191418246297,
          1.037206034045892,
          -0.6391778108397469,
          -0.5802986289236437,
          0.35499999694142986,
          -1.0646830972262642,
          2.5003584646931123,
          1.1933312184716618,
          -0.025778667984355106,
          -0.547401678702607,
          0.12794489445061402,
          -0.6233213014413252,
          -0.4928692128684483,
          -0.42650440679194096,
          -0.22646862993709302,
          0.6386323166342104,
          -0.564081941304856,
          0.7494196581029321,
          -1.0035326159127038,
          1.0675499940974422,
          -0.8857358016437652,
          -0.37626721760447013,
          2.1649282242080816,
          0.06842631837638688,
          -1.0913326163699952,
          -0.7004191781848025,
          0.27186016209558295,
          -1.125707996535359,
          -0.0730147309773225,
          -0.5062375373826594,
          0.316417454258013,
          -0.7983037633158108,
          -0.436894158501378,
          2.28699057129604,
          -1.2583638401401074,
          -0.37432499937850705,
          -1.2646964654260735,
          -0.9719653344871458,
          0.48396535114871375,
          0.4101615004682594,
          -1.269940632448198,
          -0.640082104343424,
          0.8059046410130617,
          -0.275573195513255,
          -1.0135587439320608,
          -0.42596590063075834,
          -1.7928763062861515,
          1.197473907714093,
          -0.41499542704747644,
          0.07453776231874723,
          -0.6219722085444194,
          0.999937643453638,
          -0.21585320816912112,
          0.2528445437460959,
          -0.8871343728837017,
          -1.2598780124219449,
          0.5972008162672031,
          -0.4105238464689352,
          6.0937140658557825,
          0.047585692452375976,
          -0.014092558349053635,
          -0.591105661828637,
          1.1504485729674698,
          -0.18728224218089254,
          0.39116026196789216,
          -0.705820904317092,
          -0.42698921092206427,
          0.2884782807776626,
          0.4443260913306207,
          -0.2287800832843894,
          0.38290239818472166,
          -0.38391641513156183,
          -0.37829156867803565,
          -0.7925294594731569,
          0.7470097934466612,
          0.38641998902898594,
          -0.4463901689926074,
          0.19901222022551066,
          0.3304436627165376,
          0.744139958212645,
          -0.29441826636789215,
          -0.15324616398909177,
          -0.7087223922326028,
          -0.32390824363129117,
          -1.1089118846722987,
          -0.6962866518542642,
          0.41679498529619285,
          0.38003979509111663,
          -0.9054805933031974,
          -0.9965458052175211,
          -1.7395323110784155,
          2.1691437016487907,
          -0.1670682773528177,
          0.26798355757765924,
          0.2938346122534109,
          -0.09934809877689589,
          -0.028359944530909023,
          -1.3839652531213067,
          -0.20262405595140198,
          0.23628721191675786,
          -0.6342733555193539,
          -0.08683422488890463,
          0.9097728616897642,
          2.5355362480001133,
          0.22947917300180276,
          0.5609526498937432,
          -0.8537623713297408,
          -1.3258003690943465,
          1.326336888232559,
          -0.2597452303139257,
          -0.3558219385041697,
          0.37250151194325404,
          -0.18209332379550588,
          -0.9217026607922216,
          -0.6216158489170746,
          -0.5825699862008498,
          0.6206828268827651,
          -0.4805400271853591,
          3.527171217625936,
          -1.015955281848233,
          0.34171098629976493,
          -0.9444246207548451,
          -0.9931318180558316,
          -0.214798723582562,
          -0.8884124693845984,
          -0.2614784669259073,
          -0.28516782460213275,
          -0.22508382004684596,
          2.947158470665209,
          -0.8722057064028491,
          -0.3323374547661373,
          -0.2751004029299459,
          -1.0304291148841107,
          -0.6045148156761712,
          -0.4038691310298577,
          -0.7147976477357808,
          -0.33373891936763395,
          -0.7291487968613385,
          4.990290917314163,
          0.8056371329152132,
          -0.9809626741329314,
          -1.349817400754757,
          3.7243855940647688,
          -0.396739481616955,
          -0.25217578977933075,
          -0.7593450055109394,
          0.37010795106561134,
          -0.18527669372873012,
          -0.038329666423809285,
          0.3517767214112907,
          -0.5691596878179102,
          -1.047581970337168,
          -0.18460279335301255,
          -0.9643058480931233,
          -1.001810875397218,
          0.743740604111464,
          -0.3752129522654932,
          1.1670718287330855,
          -0.5125191036689228,
          -1.2366913871964864,
          0.5006583881003653,
          -0.28710678063338735,
          -0.10530574264454017,
          0.25362636778721964,
          1.1251796347192975,
          -0.37585289289206897,
          -0.10539824898678538,
          -0.48825216357676343,
          -0.4693742239468344,
          0.8063564969645338,
          -0.5099959805776234,
          1.34203335274778,
          -1.8170996446560448,
          -0.14370726371540019,
          0.5810844996149711,
          -0.41376972015614466,
          -0.4744098237874201,
          5.638453204392767,
          -0.625390162588364,
          -0.9374134823004326,
          -0.007701590150153364,
          -0.6985264232354838,
          -0.6973853599555071,
          -0.8450356641447364,
          -0.7523719564305597,
          -0.8186545244958037,
          -1.0233894273647526,
          -1.8219566177481752,
          0.42799637387206235,
          -0.40018815994772206,
          -0.6833780304137704,
          0.45443236833458395,
          -0.6532909600361526,
          -0.670949551352136,
          0.30096693384679934,
          -0.6255699194948711,
          -0.11373266909415071,
          -0.7748113179934565,
          -0.42112551407999077,
          -0.556023794645535,
          5.729148048905582,
          -0.2580198652449075,
          -0.19338790408986123,
          1.3473719071658743,
          0.22382855309744532,
          -0.8578907918322677,
          -0.33902526011294404,
          0.21311244283483843,
          -0.6204882974357305,
          -0.08738527686353495,
          -0.16722389526812456,
          2.656172923723899,
          -0.011760392369990696,
          0.032969800988020145,
          0.4229702832157537,
          -0.5605402921410845,
          1.2477517203994914,
          -0.014115408859724156,
          0.40618198519283066,
          0.19506128847507034,
          -0.7671504309620171,
          0.3206336730616975,
          -0.37280611518074236,
          -0.2316777415718325,
          -0.5385009280670535,
          1.3725964909377752,
          1.3323790546812557,
          0.381399893054135,
          0.4610909412394832,
          0.32003741586940787,
          1.3219771860127647,
          -1.287719560674841,
          -0.28354534783605423,
          -0.37706181031087754,
          0.369639019612864,
          0.29459517896216225,
          0.049013041011331075,
          -0.14588977952259616,
          -0.42117395679718295,
          -0.001816925547450894,
          -0.41754672314331015,
          -0.6653372756955804,
          -0.5991245488139897,
          0.621840207288085,
          1.880349951556924,
          0.8708699832815476,
          -0.807742184040647,
          -0.08383360772570565,
          -0.33589766968297646,
          0.9613941735494961,
          0.4026084348611306,
          -0.3900576864492622,
          0.7957089549554099,
          -0.8571091574497678,
          -0.7350041671089429,
          -0.4806518264894508,
          0.6670907602008244,
          0.4290236682072612,
          -0.5251474869395243,
          -0.498778419794255,
          0.48223286501093837,
          -0.6923653472216718,
          0.46531200399998124,
          0.22006037513492366,
          0.9005251891727425,
          2.3918966879216828,
          0.30968300433256146,
          1.0732344000012604,
          0.4235811585763388,
          0.53459335644333,
          -0.7288054431054514,
          -0.19574295921020043,
          1.1254924446436398,
          -0.4055334260926831,
          1.471172871854423,
          1.0522169001955544,
          -0.3230171903447592,
          0.15912973012253173,
          8.012758478669253,
          0.19439305133563983,
          -0.18359326070835477,
          -0.8859003129490033,
          0.02295484374396301,
          0.3260864382650103,
          0.39147568906473396,
          0.06100175000044361,
          0.00889599969106591,
          0.4220604505126792,
          0.26553752907250017,
          0.6937455730398787,
          -0.31729600118504125,
          0.13426050586756433,
          1.1788338390881712,
          -0.3619318539277351,
          0.6242725330482684,
          -0.21870243699926445,
          -0.2540495521834634,
          0.7066241968658321,
          0.1451310850364522,
          1.0816646715295113,
          -0.7000887715140869,
          0.3030809753526179,
          1.0294573324324081,
          0.7883485282667274,
          0.8775890346881724,
          1.2446417973419126,
          0.6901524493536785,
          1.417474303719625,
          -0.4148281712496369,
          -0.7390475842942854,
          2.0795892958656474,
          0.3769353900628747,
          -0.23267072482778817,
          2.108197687205263,
          -0.0008874864716457595,
          0.951977640969604,
          0.00346738057479626,
          1.6664725974140115,
          -0.7976155419818676,
          0.13427137612391463,
          -0.5147458714744289,
          0.04649809601381247,
          -0.96655224112059,
          0.694493785120294,
          0.07795986725947326,
          -0.9603075086664625,
          0.0836492956344728,
          -1.037959411569943,
          0.7002723537566707,
          0.7684577152182196,
          -0.4961209754056425,
          1.6743742198213427,
          1.7965108441607098,
          0.22399421902288955,
          1.6254222576954596,
          0.5610828200350463,
          -0.7107030214107404,
          -1.2093882141122752,
          -0.258683430902933,
          0.7265053546422209,
          0.10188764433535749,
          0.3563428054050826,
          0.4060271808597554,
          -0.22700942911097013,
          -0.38574248639075365,
          0.47206294678336996,
          -0.6898578741921663,
          -0.47597565876007525,
          0.7688383034178675,
          0.09549663982970956,
          -0.47383680102904696,
          0.16292348106795798,
          -0.7485984795657299,
          1.1481183856593797,
          0.1377808568832688,
          0.12125599569086772,
          -0.024715192831747154,
          -0.5277797203532719,
          0.43019977310028445,
          0.8812878375782996,
          1.891098699423253,
          -0.7014152682021753,
          -0.6292357994919973,
          0.47818238978818284,
          0.21266330762018612,
          -0.8685035854628118,
          0.8005504394407705,
          0.3138730566135619,
          0.6328793427771984,
          -0.20090847078828167,
          0.05260225772888384,
          0.7426452797969733,
          0.2665915263191215,
          0.17851678146424377,
          -0.6432595495477748,
          1.4285920870255042,
          0.6304842198040552,
          0.5795498708715422,
          -0.5952733896441496,
          0.5129441490686165,
          0.7313438135919947,
          -0.7565694657112447,
          -0.8231809503407258,
          -0.49492540832704696,
          0.08396551958797066,
          1.9528806699556864,
          0.3228719935204977,
          1.0407271730219907,
          0.3746441969695947,
          -0.00845718968095812,
          -0.27901469401998935,
          -0.2868676807675986,
          -1.2653644513555542,
          -1.5369918836202792,
          -0.026537749962091742,
          -0.8959407131498465,
          1.4649326522686927,
          0.27453049312537975,
          -0.9208189271584774,
          0.004982633530139009,
          -0.27182176889255527,
          -0.045007463631570994,
          -0.2688748463685855,
          -0.44018433178584393,
          -0.8776401851557885,
          1.092173769451986,
          -1.21413446228904,
          -0.2925406358854741,
          -0.07909013301828902,
          -0.032964445764562554,
          -0.22761450544486908,
          0.34120508867455696,
          -1.6092521404922357,
          0.24123584308487686,
          -0.33501702416326384,
          -0.6954813661847359,
          0.13888923536592704,
          0.603508382047431,
          -0.967560554509985,
          0.36929853231440507,
          -0.32875847521065416,
          -1.072821945599253,
          -0.7400884857732727,
          0.01924972247244131,
          -0.34153557751976427,
          -0.7868626487073765,
          -1.1712352425182606,
          -0.49155740622368943,
          -0.17895617153500723,
          -0.19361802871630837,
          0.41874576424028,
          -0.24648463445818197,
          0.6630820097647515,
          -0.8322671242398105,
          -0.26507914006712746,
          0.20709037997547744,
          3.6180993712880536,
          0.9026295279496934,
          0.8274621790455893,
          0.15562053224625014,
          -0.08438221615478311,
          -0.03731045318118249,
          0.04253568222899825,
          0.4117639076944776,
          -0.9814497334346844,
          2.036531999149429,
          -0.2426750903185328,
          1.431933058241852,
          0.20357071521208228,
          0.6866153345683563,
          0.3462365189643809,
          0.525586419819263,
          0.8404709603946171,
          -1.799286227803125,
          1.5809918376898535,
          -0.24816965378743952,
          -0.6593746901693092,
          1.2380186859141427,
          -0.6918346453434889,
          2.0457086409785825,
          -0.010976117983453406,
          -1.0002290670122898,
          0.17330955527373992,
          0.16271754794351415,
          0.28075607717983647,
          -0.10395608748108297,
          2.164466619209756,
          -0.5338865397362978,
          -0.2952050761174137,
          0.45070570786042397,
          -0.08913925956514697,
          0.22617702917305302,
          -0.5854374869783492,
          -1.19199260135092,
          -0.6127557868625956,
          0.7097984658312119,
          0.5831948989197517,
          -1.273577678812442,
          -0.403455467878812,
          0.4166230061765492,
          3.339088876438093,
          0.09949678800102604,
          -1.1551360440181568,
          0.7730906794563097,
          -0.16810150092978163,
          0.294640842158798,
          0.3278763180413762,
          2.091868318642372,
          1.1243723342503669,
          0.29844225615947134,
          -0.7980366755308356,
          0.38712589607455955,
          0.6307708402804874,
          0.569737794997577,
          -0.15294712425569243,
          0.1502096792217739,
          2.047974445483614,
          -0.14892760586730572,
          0.08698044208533649,
          -0.8647731627272947,
          4.963833376709133,
          -0.3074311094733009,
          -0.46588807588863623,
          -0.04458298902310669,
          -0.1798740708831129,
          0.5343998812214958,
          -0.8517273568689095,
          -0.8774475111527866,
          -0.7349421480289517,
          -0.9233350534627839,
          0.5727593701886029,
          0.7010763494484481,
          -0.41030416807742404,
          -0.8816706984097137,
          0.8083620570417283,
          -0.5923928601992217,
          0.5943536761205154,
          -1.1867952779475588,
          -0.4912366947991581,
          -0.3136985680149294,
          -0.9380675881308562,
          0.5333639320699489,
          -0.3495447278690284,
          -0.34716803964935466,
          -0.3830971288375036,
          0.3191757415063492,
          -0.027115413600386728,
          0.5590534879810697,
          -0.00014396376916304718,
          0.47873800298030983,
          -0.02971085801639692,
          -0.13711702344138524,
          -0.16826726270557507,
          0.3434019210388239,
          -0.14773422386191865,
          0.2520901734563098,
          -0.9897269484535354,
          0.04471934536011822,
          -0.5675672355540505,
          0.2985861255741749,
          -1.482539314109481,
          -1.3755199212610774,
          -0.37596229731661257,
          0.12255430012573724,
          0.8807456921660349,
          -0.1097424969943997,
          0.8042763921505902,
          0.10452496752289,
          0.691351969859226,
          0.13217084943832008,
          0.15578444737751004,
          0.06905399585859673,
          0.6951505467483983,
          -0.6694407577602995,
          -0.16778438171304544,
          0.599761623572338,
          -0.717287338913107,
          -0.4723186998221899,
          -0.03893031463036256,
          0.651240454528786,
          -0.6918520523143518,
          0.10718060260829701,
          0.1515331262880807,
          1.9257694234086058,
          -0.9161044278390011,
          0.5775125483704981,
          -0.24802805512643417,
          -0.6335045382637433,
          -0.05047232540659657,
          1.6721737542483488,
          1.3643803194834527,
          1.255232404870253,
          -1.0303921693173352,
          0.3482509096980425,
          -0.02498567600750659,
          -0.9931196171540618,
          -0.10448939854322288,
          0.8093169283382736,
          2.30421666232932,
          -0.15540472823072504,
          1.166214678368446,
          0.4930154906609546,
          0.3162011495085626,
          0.32458743562447545,
          0.22939072213749495,
          1.9916739592146004,
          0.5249179032136877,
          -0.40766120401199046,
          1.9381152339801746,
          -0.09363502025339598,
          -1.2841182047988422,
          0.5021477626620642,
          1.3433408523171924,
          -0.05383853731552758,
          0.14669814004041606,
          -0.7165723426106843,
          1.265588468580112,
          1.3093478766198074,
          1.0763555615738176,
          -0.14610655515694712,
          0.03232617846190017,
          0.8177461136565227,
          0.555471263741233,
          0.6421135569477467,
          1.8771518464195485,
          -0.35568955450865647,
          0.0348033589688023,
          -0.478575382409549,
          -1.3543160947086377,
          -0.5233749182578129,
          -0.2715025135747588,
          -0.5531827828845909,
          0.5926597268213089,
          -0.7622163446196226,
          -0.3898811839769513,
          -0.17420187153205485,
          1.0698305713920753,
          -0.6398617259472191,
          -0.1602464468089255,
          -0.4159943367744669,
          -0.17338021725395247,
          -0.08334742179402892,
          -0.1435983643095963,
          -0.5921016055831849,
          0.9267678305228505,
          -0.5275402644352819,
          0.05919598475074304,
          -0.9242150414287712,
          0.4949620855559284,
          -0.3841470734458063,
          0.5179551305321746,
          0.3179373081295589,
          2.4490624580595686,
          0.5597691177935087,
          -0.11391056099245907,
          2.3925540222954598,
          2.628594442299178,
          -1.2810962624808808,
          -0.07066624705444907,
          -0.7644814184733996,
          -0.3509962805302637,
          1.4824695023165841,
          -0.580084148891612,
          -0.3875747723038653,
          0.650606263052117,
          -0.13982067992457184,
          -0.5333153379558208,
          -0.20500881292239426,
          0.4418629594452318,
          1.5350466274747825,
          -0.5625642101907047,
          0.05803873829909779,
          -0.7137231589661609,
          -0.8066504856481188,
          -0.22284080635981282,
          3.221052315157622,
          -0.26308548339337784,
          0.07300288136780733,
          -0.19626000612058062,
          -0.78529181181654,
          0.23782939562073804,
          0.16193132604579352,
          -0.20147935749029028,
          -1.172116973349965,
          0.1092101885503209,
          -0.32561841262445695,
          0.05264094756603765,
          0.22088950544250063,
          0.6584044094853887,
          0.09843403377188023,
          1.493472404469485,
          0.954812028902379,
          0.867751695775376,
          -0.4260102983129591,
          -0.5803350746450731,
          -0.13612597113895272,
          0.014675098984190409,
          -0.8460794812200886,
          4.2503523395676535,
          -0.8687877891206259,
          -0.655384772457929,
          -0.0026196498067449134,
          1.375245853652362,
          -0.06937255000378871,
          -0.32783426239172925,
          -0.301615050141384,
          -1.110647013499941,
          -0.28043891547015554,
          -0.9816173483862897,
          0.15470563632987386,
          -0.0148346300689155,
          0.1446471091411056,
          -0.30627072103088193,
          -1.1998593081315563,
          -0.32823704316382274,
          -0.7936469068373966,
          0.1825369671170556,
          -0.43214074016704157,
          0.34746846059779773,
          1.8248337668756212,
          -0.15790548372211372,
          -0.25154826161529015,
          -0.42264488787732685,
          -0.5225830872926007,
          -0.743638498096435,
          -0.21255977516396488,
          -0.20894308312780172,
          0.3907450211116463,
          -0.011102819733670439,
          -1.1662572281711834,
          2.4004798664188756,
          -0.6627718787526787,
          -0.6489312322365994,
          -0.5515804283227375,
          -0.6051438431808611,
          -0.5868143608430668,
          0.5136807742005699,
          -0.4254862245820852,
          0.0573150544785457,
          0.0014845504970049436,
          0.29722288883725656,
          -0.7541328984347457,
          1.420729400651482,
          0.3191698580444223,
          -1.1081299025331237,
          -0.20216630970783192,
          0.0776173471185661,
          -0.6610708582968647,
          2.061774004350662,
          -1.0496487844083875,
          0.6473382771485244,
          -1.1222810418621814,
          -0.8449780707536407,
          0.2980385058036198,
          0.6173860316473031,
          0.07446667749866945,
          -1.0939833236080168,
          -0.02882622943853442,
          -0.6091078191824691,
          0.434546196877155,
          0.3131878666262776,
          0.24515807914616564,
          0.35259697526045747,
          -0.745237154187187,
          0.3071109603222498,
          2.8524494435849457,
          -0.10911122736949092,
          -0.4430291064481284,
          -0.8546809147496491,
          -0.12290843614317601,
          0.5322050856298988,
          -0.09663605925273586,
          1.8701436935763682,
          1.1243502251360054,
          -0.9593290061951795,
          1.0761345562304931,
          -0.7173637401819446,
          -0.0322522206292514,
          -0.7762544443249493,
          0.08984671793966094,
          -0.698545532680848,
          -0.01625832824229421,
          1.8407719735680514,
          0.8181255350158445,
          -0.2646862164465764,
          -0.4220070662410179,
          -0.0636686262356449,
          1.2330594879729493,
          0.14769934919649724,
          -0.6182280652487955,
          -0.5596502013735108,
          -1.1136058768045942,
          -0.2010739507509989,
          -0.48760242337229576,
          -0.6353854805961515,
          2.7141577563216366,
          0.1685715164786863,
          -0.5478667543781848,
          -1.6263102742311506,
          0.7361144030610566,
          0.6954494082740035,
          -0.12058612890739707,
          1.97549578926614,
          -0.21187363769015352,
          1.2742433378134568,
          1.3154626155116174,
          -0.6962480586910494,
          2.6824168878027335,
          -0.976455768753034,
          -0.2858278299250382,
          -0.15631805919926742,
          -0.018366188647826465,
          -0.6609498932595592,
          -0.5465024420454934,
          -0.980619851724092,
          0.09876847877301378,
          0.49406375493937044,
          -0.09607877152841826,
          -0.7316758043661861,
          -0.18237751471388403,
          0.08405501375787107,
          -0.3943846231585326,
          -0.6283380660166459,
          -0.2899452514528602,
          -0.7862427925694953,
          -0.3230867501147708,
          0.17791447314696884,
          0.2666534301077074,
          -0.31240443806487267,
          -0.060458161639134915,
          -0.7890703981112048,
          -0.027206539900373132,
          0.2550156087306211,
          -0.13851720029559658,
          0.11661840583106317,
          1.5097224893822452,
          2.370530039501027,
          -0.9063819369860097,
          -1.3127939674998197,
          -1.4162530032117677,
          1.3543999096721746,
          -0.039708651259123984,
          -0.7692837660240068,
          -0.18165626297220597,
          0.17160297583169576,
          0.002926109593209254,
          0.9402338710363737,
          1.1437413548506727,
          0.939187037889436,
          -0.5026952096889159,
          -0.9531994542882491,
          0.2976079463416647,
          -0.4559857502421639,
          -0.03539969247231343,
          -0.36976010359083933,
          -0.4002424587174176,
          0.08683446076467538,
          -0.4293420666801363,
          0.4337051191106338,
          0.02224472390144598,
          1.654605314273229,
          0.8249189653215552,
          0.9300241498283156,
          0.9018902440856568,
          0.43243740978046624,
          0.4642562063218999,
          -0.5157562989956903,
          -0.039471965159793794,
          0.4839988910268634,
          0.5824031522695495,
          -0.49464979576756374,
          0.5967364171550094,
          -0.18175595438892386,
          2.5600746130557095,
          -0.40356706163758077,
          -0.5543327425767396,
          -0.09725691289940727,
          0.10945208185154438,
          1.235737261595281,
          1.1169687418579417,
          0.04922516123656867,
          -0.25536237834033026,
          0.5251349155408263,
          -0.37223516142980506,
          0.5871064635974034,
          -1.5301697387997364,
          -0.45730864123151455,
          -0.3879453852719392,
          0.5643136088408459,
          -1.2949311542100128,
          0.12304921756528817,
          -0.5567696069637683,
          -0.7015155024084802,
          -1.0453525821482366,
          -0.5958092053726445,
          -0.19271865302299496,
          3.7466328000904516,
          -0.5790657663413445,
          -0.7089990972571156,
          -0.6015659018890123,
          0.25434734983734714,
          -1.1924862580115196,
          0.6157227523751155,
          -0.08425310311436654,
          0.19572661012637826,
          -0.770935713077681,
          -0.6766551105393404,
          -0.6267986471105614,
          0.9190698134235226,
          -0.15477025419931656,
          0.15605153131670693,
          0.2647739814533539,
          0.3114874532362711,
          -0.5159256613645593,
          -0.5233324761284858,
          -0.7879535583271221,
          -0.8334834953112017,
          0.88398634889437,
          1.7685555876605912,
          -0.8087614541411415,
          0.21507199564697843,
          0.6919919581441438,
          0.1680506595606299,
          -0.7642715284873981,
          0.1723589415909136,
          -0.22276475671801688,
          -1.2491681543923312,
          -0.3913495028077652,
          -0.5287383637521247,
          0.05205276822445242,
          -0.5201238612059954,
          0.2830417952829895,
          -0.5669420189716097,
          1.282649821349381,
          0.5879422414219392,
          -0.7350278994184504,
          -0.3881870425238245,
          -0.3601956446506041,
          -0.03244765550598222,
          0.2993422711145217,
          -1.0530861617152185,
          -0.009485471716128931,
          -0.04838532613955125,
          -0.3446950303156022,
          -1.2437371201477645,
          -0.4277197116113198,
          0.9235610216916843,
          1.4833147416704517,
          -0.9087876781172042,
          -1.6805169585908923,
          -0.7717744990521489,
          -1.587289625599646,
          0.15079096873856682,
          -0.4122075580249468,
          -1.4565543702561534,
          -1.6992740198541443,
          -0.4650046509076017,
          -0.9019774286193979,
          -0.6032530257104887,
          1.6866346773046383,
          -1.4414453431200944,
          -0.46937415713064795,
          -0.6241481191254031,
          -1.0108899479438052,
          1.180173295122639,
          -0.3006144729390498,
          -0.09306184061359626,
          -0.21963755117853184,
          -0.47353254724440313,
          0.8775602174132683,
          -1.523539092867714,
          -0.4876490137647424,
          0.4428285544768957,
          -1.548490842188988,
          -0.48744956988424115,
          -0.49876275485944543,
          0.0656323086441872,
          -1.0410761330933018,
          0.884225129852183,
          -0.9419405699192266,
          1.5035180829702082,
          0.4104147712338821,
          -0.8013052876270631,
          -0.03552893810535818,
          0.21354755775800352,
          -0.237288258563269,
          0.512519471037517,
          0.4339275216365088,
          -0.5088193987428292,
          -0.544925248689741,
          -0.8404070319446172,
          -0.2926033681738421,
          -0.705552248862921,
          -1.3766098528312403,
          0.11268908322083973,
          -0.876235849866465,
          0.7171042804096697,
          -0.01975349282549556,
          -0.9463618636946246,
          -0.6580728838912142,
          -0.2734994045984866,
          2.607517176297242,
          -0.7365571057611314,
          0.24831462964811413,
          -0.6640354368128691,
          -0.9207163747826582,
          -0.2960562528515448,
          -0.8053514531295047,
          0.1358240989597525,
          -0.8285253604177121,
          -0.9492693488767578,
          -0.008200331624627417,
          -0.5543326725908243,
          -0.2759826472048283,
          -0.5724569305253393,
          -0.0033380910256961788,
          -0.19029114986220064,
          -0.2208379490113432,
          0.0626872495523496,
          -0.016224469515545056,
          0.3036610723038974,
          0.16166310359175592,
          0.6802101681829437,
          -0.077512361525404,
          -0.2643983962160806,
          4.304682237234066,
          -0.511320790716363,
          0.6536147499678013,
          0.2022865147213887,
          0.8420975366192212,
          -0.07855805271402586,
          -0.12259418807928171,
          -1.2545136843461222,
          0.27388909338143397,
          -0.6936706954059575,
          0.6213113770980864,
          -1.0201103406571206,
          1.4628855714457603,
          -0.5365766847862927,
          -1.4136523790709719,
          -0.7122170060475894,
          -0.740912537907052,
          0.14618142983724736,
          -0.8374180759362517,
          0.07270789935025118,
          -0.03677065107166848,
          -0.14650195903059685,
          0.1606645353073319,
          1.98425551886063,
          -0.8973677764146695,
          -0.30824958501857685,
          1.4625589057386275,
          -0.6413847456221358,
          0.831521580787157,
          0.03432449193928201,
          0.20277414915303626,
          0.5549679278732681,
          0.18011223965924478,
          0.3535239475500745,
          -0.45000305300171034,
          -1.121035670469388,
          -0.20714924446174443,
          -0.7542533496208448,
          -0.5072487793761286,
          0.48013397599338425,
          -0.36928162715453605,
          -0.18948039510610007,
          -0.8543276384448849,
          -1.2356100993014298,
          0.31540154850983804,
          -1.2801795908189462,
          0.01936765783520724,
          -1.1724937081492555,
          0.004345218150537396,
          -0.24344159619549408,
          0.22753887614974166,
          -1.3160787949115043,
          1.4208923395964268,
          -0.25108994938449103,
          -0.21206004606604692,
          -0.09755309896608598,
          -1.2640278250382424,
          -0.04839326975519158,
          -1.3249046230135961,
          -1.787928866158383,
          -1.2209877165582526,
          5.404290537213369,
          0.2493332591626535,
          -0.7187238973033808,
          -0.9120405330427909,
          0.5271027750573827,
          0.43869496591121454,
          -0.5127576546674171,
          0.07930620696851329,
          0.21266994353442545,
          -0.8918065953406574,
          -0.5001447815974567,
          0.04720588809754611,
          0.1666162320891144,
          0.10676117941680517,
          0.5164868837029774,
          0.28666512709357556,
          0.10394144123413555,
          -1.009454293634117,
          0.7385989919284695,
          -1.3901756981926012,
          0.4511100715527195,
          -0.8462259596438644,
          0.3082754450024047,
          -1.3727001516185537,
          -0.49176262851895636,
          -1.2017373427057083,
          -1.3343853495324984,
          -0.11354903311979388,
          0.7040997023383331,
          -0.4896761902139184,
          0.018209718858284027,
          -0.16454959662813107,
          0.2345400043575333,
          0.19047660754204465,
          -0.5166578388308437,
          -0.621887498973696,
          0.14453041728304583,
          -0.07043421038324801,
          -2.272579397000364,
          -1.7273203149966077,
          -0.9811862140653083,
          -0.312457498148789,
          -0.10031891148744482,
          0.004258517274111005,
          -0.06392736596987575,
          1.099200768608962,
          -0.9091195997596895,
          -0.32917751611738555,
          0.14295594931098984,
          0.5742111745385391,
          0.3474013388298059,
          -1.067551336989492,
          -1.7651838647064242,
          -0.14606358597143998,
          -0.7768272194097442,
          -1.3990131004812116,
          1.2625176694853861,
          0.529748695989234,
          -0.09205718782652418,
          2.8324672487841287,
          0.2286000579180325,
          -0.694694919212695,
          -0.6798777224853272,
          -1.5291702850788444,
          0.5793567420050718,
          -0.048336582759097114,
          0.661824183511267,
          -0.5409974624641272,
          -0.45829541647073957,
          1.200376124147591,
          -1.5648795914379094,
          0.14019550375505657,
          -0.9678184391919884,
          0.5950876677930423,
          -0.34203642779011395,
          0.30099324743153744,
          -1.3281160968866224,
          0.6705058344902635,
          1.5570750305975556,
          0.3122098100247086,
          -0.5442728808213338,
          1.1774674452637026,
          -0.7708937430704049,
          -0.8828298175867032,
          0.27529715289377377,
          -1.4588847649835728,
          -0.8686214432171806,
          -0.3637888425538427,
          -0.35049395081652124,
          -0.39585326763479856,
          0.25882661593561046,
          -0.3046241593470861,
          -0.21213254411997892,
          -1.3982853999819265,
          -1.0052671840355423,
          1.7829808710847834,
          4.834732640424482,
          1.006555016155897,
          -0.9359844311798535,
          -1.4994559702817347,
          1.2401237473631341,
          -0.722134851799626,
          -1.1470897430827716,
          1.286435608004027,
          0.6309344260986823,
          -0.524074467987825,
          0.006814724329668168,
          -1.0438177174889656,
          -0.14837911929384498,
          -1.0901686906614974,
          -0.4227276488155987,
          -0.08026615439827621,
          -1.0909265950049931,
          -0.47175420227689663,
          -0.8260012816308854,
          -0.2805104715167761,
          -0.4164382169746966,
          -1.3547907160131751,
          0.22344169376450715,
          -0.6582693410389127,
          0.051065282952761276,
          0.2891678567124681,
          -0.7248453426856691,
          -0.9299912943387684,
          -0.37705945930228474,
          -0.1256945362608733,
          -0.5566824390809452,
          -0.37501884830831017,
          -0.5668154659905659,
          -1.3358366960395403,
          -0.5819553890015581,
          0.4452724646351621,
          0.6260682109208117,
          -0.20478206199068064,
          1.4421447888631873,
          -1.1880850341049651,
          0.8355599369840435,
          0.812252040406701,
          0.9471322430280208,
          0.16087884582493464,
          -0.4772903369374367,
          1.0034620372406786,
          1.164614459067334,
          -0.1458883033271863,
          1.2525291677074495,
          1.0758734019651215,
          0.05508686490121518,
          1.10583540928155,
          -1.5839974920796818,
          -1.1856544331273486,
          -0.4301385174613908,
          0.2350380899717477,
          -1.4468439252969563,
          -0.44244369682760754,
          -1.1748026202857442,
          -0.2574021067055194,
          1.7283676294136057,
          -0.7473571160051182,
          0.7344974777055424,
          -1.2669412543147707,
          0.5480612808482977,
          -0.08094014851666628,
          0.020229784540121185,
          -1.0139308229737745,
          -1.3353804693254685,
          0.3532899208231423,
          2.0217059895558407,
          -0.3614107383319272,
          0.1638207092682426,
          0.7176609675159472,
          0.3400793027277497,
          -0.7442540102856964,
          3.176898446841935,
          -0.9215084456089896,
          -0.4063105666718612,
          -0.9040557693022377,
          0.010599168258022153,
          0.5174449744538621,
          0.18088908380311783,
          0.3395275347294024,
          -0.3929295353579067,
          2.6258189158509566,
          -0.12043794017848312,
          0.4001886406455847,
          -0.20782211651107996,
          0.9309249824423655,
          0.6877294543179899,
          0.15811454929783014,
          -0.8315845406158939,
          -0.3415575686038261,
          1.3370908066038296,
          1.3258874618146796,
          0.04015097389192214,
          1.0836698229108712,
          0.40785854597658683,
          -0.7658710147517023,
          -0.18652677641235313,
          -0.0713457470816566,
          -0.7825879762709225,
          1.4585957239949152,
          -0.9694616835936987,
          -0.15542281464133195,
          0.33233725173390866,
          -0.6153862683538283,
          -0.38371135000639617,
          -0.4084901912463674,
          -0.004338039334662389,
          -0.4866110383066169,
          -0.6845831765062856,
          -0.17934968612022886,
          0.007139126223699413,
          1.3138125380527912,
          -0.42591711936074506,
          -0.3378718366860175,
          0.9756444535379036,
          -1.0325927904732883,
          0.7247094409860109,
          0.024134708321779552,
          0.6237649287883871,
          -0.2446418054111276,
          -0.29563355048622814,
          0.5408178836644227,
          -0.5556003089149435,
          -0.16616260767477253,
          -0.309043315046585,
          0.8772057632249189,
          -0.1036960458485381,
          -0.6388155796015851,
          -0.10136780398368882,
          0.11756497950874956,
          0.014943888563985526,
          -1.3975283579370692,
          -0.6170307163638982,
          1.5269969740296836,
          0.8092920390469729,
          -0.34110936433624456,
          -0.16199139419727948,
          0.025097183540538193,
          1.0896962250858826,
          0.5255319034797765,
          -0.04835740992378392,
          -0.44054459274661595,
          1.649520740977555,
          -0.5310544171489898,
          -0.8126001703841105,
          0.9059342923547621,
          0.27417577159149065,
          -0.7983870405145705,
          -0.38957652280680694,
          -1.5655941263758026,
          -0.3822165883021995,
          -0.1633258425975875,
          -0.6243228785647129,
          -1.462996888892216,
          1.201233423041652,
          -0.6940387609671109,
          -0.7565939513137185,
          0.5829169619453194,
          0.2860870193655162,
          -0.8861533037817387,
          0.5972913086948998,
          -0.8979788811562465,
          -1.0370936222827316,
          0.301092630308702,
          -0.656123991088008,
          0.11633991853969092,
          -0.48759499632585107,
          -0.3795261725619818,
          -0.30818693153653864,
          -0.15024405171482122,
          -0.11834102972392906,
          -1.0536169311253318,
          -0.5450859630516351,
          -0.4724450390717469,
          1.096148735823003,
          0.7063497137498452,
          -0.5161898369085358,
          -0.3624277337359502,
          0.1411480651899383,
          -0.08412998575349645,
          0.7421160024499981,
          0.6539144275382095,
          0.021546778258028462,
          6.331743513320763,
          -0.030805033473941326,
          1.4868607570997092,
          -1.2703954446481274,
          -0.5574282202710518,
          -0.7750699681424547,
          0.19807779696553487,
          1.6494208199225164,
          -1.139025619935274,
          -0.009474775322729813,
          0.6691259787640728,
          -0.5069626633623777,
          -0.21882436860905657,
          0.2846143427901227,
          -0.3035308293213018,
          -0.21667025143385427,
          4.695795910859274,
          -0.7313179681520128,
          0.0821264271735919,
          -0.11935871985655548,
          0.8398857053909667,
          -0.40899329786985084,
          0.8305088341852118,
          -1.2573617030939848,
          0.8869907985048542,
          0.14140196830701818,
          1.505681504177197,
          -1.4611260637493904,
          0.09479941895586805,
          2.2703281041535215,
          -0.30618484533504936,
          -1.3583587831082755,
          0.3903408766104096,
          0.4311443421625903,
          0.8689036125080084,
          0.37403511297386544,
          -0.7493905650991906,
          -0.867114538576796,
          -0.9083745638732532,
          -0.5958925344937377,
          1.1120612852907599,
          0.601692400695809,
          2.3746495988904934,
          1.0527454795224345,
          -0.1676327927431342,
          -1.2994051407743283,
          0.3519689967144232,
          -0.44840850380263825,
          0.08466841642159,
          1.019280997520112,
          -0.08793906982708347,
          1.9081907484633303,
          1.9486212741372444,
          1.9953325430035782,
          0.5486389662559041,
          1.7480045844247636,
          1.8198691786399153,
          1.7133418054771032,
          0.5293073436320123
         ]
        }
       ],
       "layout": {
        "coloraxis": {
         "colorbar": {
          "title": {
           "text": "Cluster"
          }
         },
         "colorscale": [
          [
           0,
           "#1F77B4"
          ],
          [
           0.1111111111111111,
           "#FF7F0E"
          ],
          [
           0.2222222222222222,
           "#2CA02C"
          ],
          [
           0.3333333333333333,
           "#D62728"
          ],
          [
           0.4444444444444444,
           "#9467BD"
          ],
          [
           0.5555555555555556,
           "#8C564B"
          ],
          [
           0.6666666666666666,
           "#E377C2"
          ],
          [
           0.7777777777777778,
           "#7F7F7F"
          ],
          [
           0.8888888888888888,
           "#BCBD22"
          ],
          [
           1,
           "#17BECF"
          ]
         ]
        },
        "legend": {
         "tracegroupgap": 0
        },
        "scene": {
         "domain": {
          "x": [
           0,
           1
          ],
          "y": [
           0,
           1
          ]
         },
         "xaxis": {
          "title": {
           "text": "PC1"
          }
         },
         "yaxis": {
          "title": {
           "text": "PC2"
          }
         },
         "zaxis": {
          "title": {
           "text": "PC3"
          }
         }
        },
        "template": {
         "data": {
          "bar": [
           {
            "error_x": {
             "color": "#2a3f5f"
            },
            "error_y": {
             "color": "#2a3f5f"
            },
            "marker": {
             "line": {
              "color": "#E5ECF6",
              "width": 0.5
             },
             "pattern": {
              "fillmode": "overlay",
              "size": 10,
              "solidity": 0.2
             }
            },
            "type": "bar"
           }
          ],
          "barpolar": [
           {
            "marker": {
             "line": {
              "color": "#E5ECF6",
              "width": 0.5
             },
             "pattern": {
              "fillmode": "overlay",
              "size": 10,
              "solidity": 0.2
             }
            },
            "type": "barpolar"
           }
          ],
          "carpet": [
           {
            "aaxis": {
             "endlinecolor": "#2a3f5f",
             "gridcolor": "white",
             "linecolor": "white",
             "minorgridcolor": "white",
             "startlinecolor": "#2a3f5f"
            },
            "baxis": {
             "endlinecolor": "#2a3f5f",
             "gridcolor": "white",
             "linecolor": "white",
             "minorgridcolor": "white",
             "startlinecolor": "#2a3f5f"
            },
            "type": "carpet"
           }
          ],
          "choropleth": [
           {
            "colorbar": {
             "outlinewidth": 0,
             "ticks": ""
            },
            "type": "choropleth"
           }
          ],
          "contour": [
           {
            "colorbar": {
             "outlinewidth": 0,
             "ticks": ""
            },
            "colorscale": [
             [
              0,
              "#0d0887"
             ],
             [
              0.1111111111111111,
              "#46039f"
             ],
             [
              0.2222222222222222,
              "#7201a8"
             ],
             [
              0.3333333333333333,
              "#9c179e"
             ],
             [
              0.4444444444444444,
              "#bd3786"
             ],
             [
              0.5555555555555556,
              "#d8576b"
             ],
             [
              0.6666666666666666,
              "#ed7953"
             ],
             [
              0.7777777777777778,
              "#fb9f3a"
             ],
             [
              0.8888888888888888,
              "#fdca26"
             ],
             [
              1,
              "#f0f921"
             ]
            ],
            "type": "contour"
           }
          ],
          "contourcarpet": [
           {
            "colorbar": {
             "outlinewidth": 0,
             "ticks": ""
            },
            "type": "contourcarpet"
           }
          ],
          "heatmap": [
           {
            "colorbar": {
             "outlinewidth": 0,
             "ticks": ""
            },
            "colorscale": [
             [
              0,
              "#0d0887"
             ],
             [
              0.1111111111111111,
              "#46039f"
             ],
             [
              0.2222222222222222,
              "#7201a8"
             ],
             [
              0.3333333333333333,
              "#9c179e"
             ],
             [
              0.4444444444444444,
              "#bd3786"
             ],
             [
              0.5555555555555556,
              "#d8576b"
             ],
             [
              0.6666666666666666,
              "#ed7953"
             ],
             [
              0.7777777777777778,
              "#fb9f3a"
             ],
             [
              0.8888888888888888,
              "#fdca26"
             ],
             [
              1,
              "#f0f921"
             ]
            ],
            "type": "heatmap"
           }
          ],
          "heatmapgl": [
           {
            "colorbar": {
             "outlinewidth": 0,
             "ticks": ""
            },
            "colorscale": [
             [
              0,
              "#0d0887"
             ],
             [
              0.1111111111111111,
              "#46039f"
             ],
             [
              0.2222222222222222,
              "#7201a8"
             ],
             [
              0.3333333333333333,
              "#9c179e"
             ],
             [
              0.4444444444444444,
              "#bd3786"
             ],
             [
              0.5555555555555556,
              "#d8576b"
             ],
             [
              0.6666666666666666,
              "#ed7953"
             ],
             [
              0.7777777777777778,
              "#fb9f3a"
             ],
             [
              0.8888888888888888,
              "#fdca26"
             ],
             [
              1,
              "#f0f921"
             ]
            ],
            "type": "heatmapgl"
           }
          ],
          "histogram": [
           {
            "marker": {
             "pattern": {
              "fillmode": "overlay",
              "size": 10,
              "solidity": 0.2
             }
            },
            "type": "histogram"
           }
          ],
          "histogram2d": [
           {
            "colorbar": {
             "outlinewidth": 0,
             "ticks": ""
            },
            "colorscale": [
             [
              0,
              "#0d0887"
             ],
             [
              0.1111111111111111,
              "#46039f"
             ],
             [
              0.2222222222222222,
              "#7201a8"
             ],
             [
              0.3333333333333333,
              "#9c179e"
             ],
             [
              0.4444444444444444,
              "#bd3786"
             ],
             [
              0.5555555555555556,
              "#d8576b"
             ],
             [
              0.6666666666666666,
              "#ed7953"
             ],
             [
              0.7777777777777778,
              "#fb9f3a"
             ],
             [
              0.8888888888888888,
              "#fdca26"
             ],
             [
              1,
              "#f0f921"
             ]
            ],
            "type": "histogram2d"
           }
          ],
          "histogram2dcontour": [
           {
            "colorbar": {
             "outlinewidth": 0,
             "ticks": ""
            },
            "colorscale": [
             [
              0,
              "#0d0887"
             ],
             [
              0.1111111111111111,
              "#46039f"
             ],
             [
              0.2222222222222222,
              "#7201a8"
             ],
             [
              0.3333333333333333,
              "#9c179e"
             ],
             [
              0.4444444444444444,
              "#bd3786"
             ],
             [
              0.5555555555555556,
              "#d8576b"
             ],
             [
              0.6666666666666666,
              "#ed7953"
             ],
             [
              0.7777777777777778,
              "#fb9f3a"
             ],
             [
              0.8888888888888888,
              "#fdca26"
             ],
             [
              1,
              "#f0f921"
             ]
            ],
            "type": "histogram2dcontour"
           }
          ],
          "mesh3d": [
           {
            "colorbar": {
             "outlinewidth": 0,
             "ticks": ""
            },
            "type": "mesh3d"
           }
          ],
          "parcoords": [
           {
            "line": {
             "colorbar": {
              "outlinewidth": 0,
              "ticks": ""
             }
            },
            "type": "parcoords"
           }
          ],
          "pie": [
           {
            "automargin": true,
            "type": "pie"
           }
          ],
          "scatter": [
           {
            "fillpattern": {
             "fillmode": "overlay",
             "size": 10,
             "solidity": 0.2
            },
            "type": "scatter"
           }
          ],
          "scatter3d": [
           {
            "line": {
             "colorbar": {
              "outlinewidth": 0,
              "ticks": ""
             }
            },
            "marker": {
             "colorbar": {
              "outlinewidth": 0,
              "ticks": ""
             }
            },
            "type": "scatter3d"
           }
          ],
          "scattercarpet": [
           {
            "marker": {
             "colorbar": {
              "outlinewidth": 0,
              "ticks": ""
             }
            },
            "type": "scattercarpet"
           }
          ],
          "scattergeo": [
           {
            "marker": {
             "colorbar": {
              "outlinewidth": 0,
              "ticks": ""
             }
            },
            "type": "scattergeo"
           }
          ],
          "scattergl": [
           {
            "marker": {
             "colorbar": {
              "outlinewidth": 0,
              "ticks": ""
             }
            },
            "type": "scattergl"
           }
          ],
          "scattermapbox": [
           {
            "marker": {
             "colorbar": {
              "outlinewidth": 0,
              "ticks": ""
             }
            },
            "type": "scattermapbox"
           }
          ],
          "scatterpolar": [
           {
            "marker": {
             "colorbar": {
              "outlinewidth": 0,
              "ticks": ""
             }
            },
            "type": "scatterpolar"
           }
          ],
          "scatterpolargl": [
           {
            "marker": {
             "colorbar": {
              "outlinewidth": 0,
              "ticks": ""
             }
            },
            "type": "scatterpolargl"
           }
          ],
          "scatterternary": [
           {
            "marker": {
             "colorbar": {
              "outlinewidth": 0,
              "ticks": ""
             }
            },
            "type": "scatterternary"
           }
          ],
          "surface": [
           {
            "colorbar": {
             "outlinewidth": 0,
             "ticks": ""
            },
            "colorscale": [
             [
              0,
              "#0d0887"
             ],
             [
              0.1111111111111111,
              "#46039f"
             ],
             [
              0.2222222222222222,
              "#7201a8"
             ],
             [
              0.3333333333333333,
              "#9c179e"
             ],
             [
              0.4444444444444444,
              "#bd3786"
             ],
             [
              0.5555555555555556,
              "#d8576b"
             ],
             [
              0.6666666666666666,
              "#ed7953"
             ],
             [
              0.7777777777777778,
              "#fb9f3a"
             ],
             [
              0.8888888888888888,
              "#fdca26"
             ],
             [
              1,
              "#f0f921"
             ]
            ],
            "type": "surface"
           }
          ],
          "table": [
           {
            "cells": {
             "fill": {
              "color": "#EBF0F8"
             },
             "line": {
              "color": "white"
             }
            },
            "header": {
             "fill": {
              "color": "#C8D4E3"
             },
             "line": {
              "color": "white"
             }
            },
            "type": "table"
           }
          ]
         },
         "layout": {
          "annotationdefaults": {
           "arrowcolor": "#2a3f5f",
           "arrowhead": 0,
           "arrowwidth": 1
          },
          "autotypenumbers": "strict",
          "coloraxis": {
           "colorbar": {
            "outlinewidth": 0,
            "ticks": ""
           }
          },
          "colorscale": {
           "diverging": [
            [
             0,
             "#8e0152"
            ],
            [
             0.1,
             "#c51b7d"
            ],
            [
             0.2,
             "#de77ae"
            ],
            [
             0.3,
             "#f1b6da"
            ],
            [
             0.4,
             "#fde0ef"
            ],
            [
             0.5,
             "#f7f7f7"
            ],
            [
             0.6,
             "#e6f5d0"
            ],
            [
             0.7,
             "#b8e186"
            ],
            [
             0.8,
             "#7fbc41"
            ],
            [
             0.9,
             "#4d9221"
            ],
            [
             1,
             "#276419"
            ]
           ],
           "sequential": [
            [
             0,
             "#0d0887"
            ],
            [
             0.1111111111111111,
             "#46039f"
            ],
            [
             0.2222222222222222,
             "#7201a8"
            ],
            [
             0.3333333333333333,
             "#9c179e"
            ],
            [
             0.4444444444444444,
             "#bd3786"
            ],
            [
             0.5555555555555556,
             "#d8576b"
            ],
            [
             0.6666666666666666,
             "#ed7953"
            ],
            [
             0.7777777777777778,
             "#fb9f3a"
            ],
            [
             0.8888888888888888,
             "#fdca26"
            ],
            [
             1,
             "#f0f921"
            ]
           ],
           "sequentialminus": [
            [
             0,
             "#0d0887"
            ],
            [
             0.1111111111111111,
             "#46039f"
            ],
            [
             0.2222222222222222,
             "#7201a8"
            ],
            [
             0.3333333333333333,
             "#9c179e"
            ],
            [
             0.4444444444444444,
             "#bd3786"
            ],
            [
             0.5555555555555556,
             "#d8576b"
            ],
            [
             0.6666666666666666,
             "#ed7953"
            ],
            [
             0.7777777777777778,
             "#fb9f3a"
            ],
            [
             0.8888888888888888,
             "#fdca26"
            ],
            [
             1,
             "#f0f921"
            ]
           ]
          },
          "colorway": [
           "#636efa",
           "#EF553B",
           "#00cc96",
           "#ab63fa",
           "#FFA15A",
           "#19d3f3",
           "#FF6692",
           "#B6E880",
           "#FF97FF",
           "#FECB52"
          ],
          "font": {
           "color": "#2a3f5f"
          },
          "geo": {
           "bgcolor": "white",
           "lakecolor": "white",
           "landcolor": "#E5ECF6",
           "showlakes": true,
           "showland": true,
           "subunitcolor": "white"
          },
          "hoverlabel": {
           "align": "left"
          },
          "hovermode": "closest",
          "mapbox": {
           "style": "light"
          },
          "paper_bgcolor": "white",
          "plot_bgcolor": "#E5ECF6",
          "polar": {
           "angularaxis": {
            "gridcolor": "white",
            "linecolor": "white",
            "ticks": ""
           },
           "bgcolor": "#E5ECF6",
           "radialaxis": {
            "gridcolor": "white",
            "linecolor": "white",
            "ticks": ""
           }
          },
          "scene": {
           "xaxis": {
            "backgroundcolor": "#E5ECF6",
            "gridcolor": "white",
            "gridwidth": 2,
            "linecolor": "white",
            "showbackground": true,
            "ticks": "",
            "zerolinecolor": "white"
           },
           "yaxis": {
            "backgroundcolor": "#E5ECF6",
            "gridcolor": "white",
            "gridwidth": 2,
            "linecolor": "white",
            "showbackground": true,
            "ticks": "",
            "zerolinecolor": "white"
           },
           "zaxis": {
            "backgroundcolor": "#E5ECF6",
            "gridcolor": "white",
            "gridwidth": 2,
            "linecolor": "white",
            "showbackground": true,
            "ticks": "",
            "zerolinecolor": "white"
           }
          },
          "shapedefaults": {
           "line": {
            "color": "#2a3f5f"
           }
          },
          "ternary": {
           "aaxis": {
            "gridcolor": "white",
            "linecolor": "white",
            "ticks": ""
           },
           "baxis": {
            "gridcolor": "white",
            "linecolor": "white",
            "ticks": ""
           },
           "bgcolor": "#E5ECF6",
           "caxis": {
            "gridcolor": "white",
            "linecolor": "white",
            "ticks": ""
           }
          },
          "title": {
           "x": 0.05
          },
          "xaxis": {
           "automargin": true,
           "gridcolor": "white",
           "linecolor": "white",
           "ticks": "",
           "title": {
            "standoff": 15
           },
           "zerolinecolor": "white",
           "zerolinewidth": 2
          },
          "yaxis": {
           "automargin": true,
           "gridcolor": "white",
           "linecolor": "white",
           "ticks": "",
           "title": {
            "standoff": 15
           },
           "zerolinecolor": "white",
           "zerolinewidth": 2
          }
         }
        },
        "title": {
         "text": "Music Data Clustering (3D PCA)"
        }
       }
      }
     },
     "metadata": {},
     "output_type": "display_data"
    }
   ],
   "source": [
    "# Reduce dimensions to 3D\n",
    "pca_3d = PCA(3)\n",
    "features_3d = pca_3d.fit_transform(features_scaled)\n",
    "\n",
    "# Create a DataFrame for the plot\n",
    "plot_df_3d = pd.DataFrame(features_3d, columns=['PC1', 'PC2', 'PC3'])\n",
    "plot_df_3d['Cluster'] = spotify_2k['Cluster']\n",
    "\n",
    "# Plotting 3D\n",
    "fig_3d = px.scatter_3d(plot_df_3d, x='PC1', y='PC2', z='PC3', color='Cluster', title='Music Data Clustering (3D PCA)',\n",
    "                       color_continuous_scale=px.colors.qualitative.D3)\n",
    "fig_3d.show()\n"
   ]
  },
  {
   "cell_type": "code",
   "execution_count": 256,
   "metadata": {},
   "outputs": [],
   "source": [
    "artist_10k  =  pd.read_csv('dataset/spotify_archive/Top_10k_Artists.csv/Artists.csv')\n"
   ]
  },
  {
   "cell_type": "code",
   "execution_count": 257,
   "metadata": {},
   "outputs": [
    {
     "name": "stdout",
     "output_type": "stream",
     "text": [
      "<class 'pandas.core.frame.DataFrame'>\n",
      "RangeIndex: 9488 entries, 0 to 9487\n",
      "Data columns (total 9 columns):\n",
      " #   Column      Non-Null Count  Dtype \n",
      "---  ------      --------------  ----- \n",
      " 0   Name        9488 non-null   object\n",
      " 1   ID          9488 non-null   object\n",
      " 2   Gender      7829 non-null   object\n",
      " 3   Age         9488 non-null   int64 \n",
      " 4   Country     6305 non-null   object\n",
      " 5   Genres      9488 non-null   object\n",
      " 6   Popularity  9488 non-null   int64 \n",
      " 7   Followers   9488 non-null   int64 \n",
      " 8   URI         9488 non-null   object\n",
      "dtypes: int64(3), object(6)\n",
      "memory usage: 667.2+ KB\n"
     ]
    }
   ],
   "source": [
    "artist_10k.info()\n"
   ]
  },
  {
   "cell_type": "code",
   "execution_count": 258,
   "metadata": {},
   "outputs": [],
   "source": [
    "artist_10k = artist_10k.drop(['ID', 'URI'], axis=1)"
   ]
  },
  {
   "cell_type": "code",
   "execution_count": 259,
   "metadata": {},
   "outputs": [
    {
     "data": {
      "text/plain": [
       "0    CA\n",
       "1    US\n",
       "2    GB\n",
       "3    CO\n",
       "4    PR\n",
       "Name: Country, dtype: object"
      ]
     },
     "execution_count": 259,
     "metadata": {},
     "output_type": "execute_result"
    }
   ],
   "source": [
    "artist_10k['Country'].head()\n"
   ]
  },
  {
   "cell_type": "code",
   "execution_count": 260,
   "metadata": {},
   "outputs": [
    {
     "name": "stdout",
     "output_type": "stream",
     "text": [
      "['CA' 'US' 'GB' 'CO' 'PR' nan 'NO' 'FR' 'AU' 'PA' 'SE' 'DE' 'NL' 'BR' 'DK'\n",
      " 'DO' 'AR' 'MX' 'JM' 'PH' 'KR' 'ES' 'AT' 'IT' 'VE' 'NZ' 'IE' 'TR' 'CU'\n",
      " 'BE' 'RO' 'IL' 'IN' 'PL' 'JP' 'UY' 'FI' 'ID' 'DZ' 'XK' 'TW' 'SG' 'AG'\n",
      " 'CL' 'PT' 'ZA' 'NG' 'HK' 'AW' 'AL' 'GR' 'SN' 'BA' 'BD' 'BO' 'LT' 'UA'\n",
      " 'CN' 'RU' 'IS' 'HU' 'PK' 'CV' 'PE' 'MY' 'HN' 'LV' 'CH' 'BG' 'SK' 'CD'\n",
      " 'TH' 'MK' 'EE' 'CM' 'VN' 'SI' 'GT' 'JO' 'CZ' 'MD' 'NI' 'HR' 'TN' 'ML'\n",
      " 'GE' 'AO' 'KZ' 'XE' 'ST' 'GH' 'SR' 'BY' 'VG' 'SB' 'BF' 'XW' 'MA' 'CI'\n",
      " 'SU' 'IR' 'YU' 'PY']\n"
     ]
    }
   ],
   "source": [
    "# Print unique country names\n",
    "print(artist_10k['Country'].unique())"
   ]
  },
  {
   "cell_type": "code",
   "execution_count": 261,
   "metadata": {},
   "outputs": [],
   "source": [
    "country_mapping = {\n",
    "    'CA': 'Canada',\n",
    "    'US': 'United States',\n",
    "    'GB': 'United Kingdom',\n",
    "    'CO': 'Colombia',\n",
    "    'PR': 'Puerto Rico',\n",
    "    'NO': 'Norway',\n",
    "    'FR': 'France',\n",
    "    'AU': 'Australia',\n",
    "    'PA': 'Panama',\n",
    "    'SE': 'Sweden',\n",
    "    'DE': 'Germany',\n",
    "    'NL': 'Netherlands',\n",
    "    'BR': 'Brazil',\n",
    "    'DK': 'Denmark',\n",
    "    'DO': 'Dominican Republic',\n",
    "    'AR': 'Argentina',\n",
    "    'MX': 'Mexico',\n",
    "    'JM': 'Jamaica',\n",
    "    'PH': 'Philippines',\n",
    "    'KR': 'South Korea',\n",
    "    'ES': 'Spain',\n",
    "    'AT': 'Austria',\n",
    "    'IT': 'Italy',\n",
    "    'VE': 'Venezuela',\n",
    "    'NZ': 'New Zealand',\n",
    "    'IE': 'Ireland',\n",
    "    'TR': 'Turkey',\n",
    "    'CU': 'Cuba',\n",
    "    'BE': 'Belgium',\n",
    "    'RO': 'Romania',\n",
    "    'IL': 'Israel',\n",
    "    'IN': 'India',\n",
    "    'PL': 'Poland',\n",
    "    'JP': 'Japan',\n",
    "    'UY': 'Uruguay',\n",
    "    'FI': 'Finland',\n",
    "    'ID': 'Indonesia',\n",
    "    'DZ': 'Algeria',\n",
    "    'XK': 'Kosovo',\n",
    "    'TW': 'Taiwan',\n",
    "    'SG': 'Singapore',\n",
    "    'AG': 'Antigua and Barbuda',\n",
    "    'CL': 'Chile',\n",
    "    'PT': 'Portugal',\n",
    "    'ZA': 'South Africa',\n",
    "    'NG': 'Nigeria',\n",
    "    'HK': 'Hong Kong',\n",
    "    'AW': 'Aruba',\n",
    "    'AL': 'Albania',\n",
    "    'GR': 'Greece',\n",
    "    'SN': 'Senegal',\n",
    "    'BA': 'Bosnia and Herzegovina',\n",
    "    'BD': 'Bangladesh',\n",
    "    'BO': 'Bolivia',\n",
    "    'LT': 'Lithuania',\n",
    "    'UA': 'Ukraine',\n",
    "    'CN': 'China',\n",
    "    'RU': 'Russia',\n",
    "    'IS': 'Iceland',\n",
    "    'HU': 'Hungary',\n",
    "    'PK': 'Pakistan',\n",
    "    'CV': 'Cape Verde',\n",
    "    'PE': 'Peru',\n",
    "    'MY': 'Malaysia',\n",
    "    'HN': 'Honduras',\n",
    "    'LV': 'Latvia',\n",
    "    'CH': 'Switzerland',\n",
    "    'BG': 'Bulgaria',\n",
    "    'SK': 'Slovakia',\n",
    "    'CD': 'Democratic Republic of the Congo',\n",
    "    'TH': 'Thailand',\n",
    "    'MK': 'North Macedonia',\n",
    "    'EE': 'Estonia',\n",
    "    'CM': 'Cameroon',\n",
    "    'VN': 'Vietnam',\n",
    "    'SI': 'Slovenia',\n",
    "    'GT': 'Guatemala',\n",
    "    'JO': 'Jordan',\n",
    "    'CZ': 'Czech Republic',\n",
    "    'MD': 'Moldova',\n",
    "    'NI': 'Nicaragua',\n",
    "    'HR': 'Croatia',\n",
    "    'TN': 'Tunisia',\n",
    "    'ML': 'Mali',\n",
    "    'GE': 'Georgia',\n",
    "    'AO': 'Angola',\n",
    "    'KZ': 'Kazakhstan',\n",
    "    'XE': 'Xenia',\n",
    "    'ST': 'São Tomé and Príncipe',\n",
    "    'GH': 'Ghana',\n",
    "    'SR': 'Suriname',\n",
    "    'BY': 'Belarus',\n",
    "    'VG': 'British Virgin Islands',\n",
    "    'SB': 'Solomon Islands',\n",
    "    'BF': 'Burkina Faso',\n",
    "    'XW': 'Xenomania World',\n",
    "    'MA': 'Morocco',\n",
    "    'CI': 'Ivory Coast',\n",
    "    'SU': 'Soviet Union',\n",
    "    'IR': 'Iran',\n",
    "    'YU': 'Yugoslavia',\n",
    "    'PY': 'Paraguay',\n",
    "}\n",
    "\n",
    "\n"
   ]
  },
  {
   "cell_type": "code",
   "execution_count": 262,
   "metadata": {},
   "outputs": [],
   "source": [
    "# Map country codes to country names\n",
    "artist_10k['Country'] = artist_10k['Country'].map(country_mapping)"
   ]
  },
  {
   "cell_type": "code",
   "execution_count": 263,
   "metadata": {},
   "outputs": [
    {
     "name": "stdout",
     "output_type": "stream",
     "text": [
      "['Canada' 'United States' 'United Kingdom' 'Colombia' 'Puerto Rico' nan\n",
      " 'Norway' 'France' 'Australia' 'Panama' 'Sweden' 'Germany' 'Netherlands'\n",
      " 'Brazil' 'Denmark' 'Dominican Republic' 'Argentina' 'Mexico' 'Jamaica'\n",
      " 'Philippines' 'South Korea' 'Spain' 'Austria' 'Italy' 'Venezuela'\n",
      " 'New Zealand' 'Ireland' 'Turkey' 'Cuba' 'Belgium' 'Romania' 'Israel'\n",
      " 'India' 'Poland' 'Japan' 'Uruguay' 'Finland' 'Indonesia' 'Algeria'\n",
      " 'Kosovo' 'Taiwan' 'Singapore' 'Antigua and Barbuda' 'Chile' 'Portugal'\n",
      " 'South Africa' 'Nigeria' 'Hong Kong' 'Aruba' 'Albania' 'Greece' 'Senegal'\n",
      " 'Bosnia and Herzegovina' 'Bangladesh' 'Bolivia' 'Lithuania' 'Ukraine'\n",
      " 'China' 'Russia' 'Iceland' 'Hungary' 'Pakistan' 'Cape Verde' 'Peru'\n",
      " 'Malaysia' 'Honduras' 'Latvia' 'Switzerland' 'Bulgaria' 'Slovakia'\n",
      " 'Democratic Republic of the Congo' 'Thailand' 'North Macedonia' 'Estonia'\n",
      " 'Cameroon' 'Vietnam' 'Slovenia' 'Guatemala' 'Jordan' 'Czech Republic'\n",
      " 'Moldova' 'Nicaragua' 'Croatia' 'Tunisia' 'Mali' 'Georgia' 'Angola'\n",
      " 'Kazakhstan' 'Xenia' 'São Tomé and Príncipe' 'Ghana' 'Suriname' 'Belarus'\n",
      " 'British Virgin Islands' 'Solomon Islands' 'Burkina Faso'\n",
      " 'Xenomania World' 'Morocco' 'Ivory Coast' 'Soviet Union' 'Iran'\n",
      " 'Yugoslavia' 'Paraguay']\n"
     ]
    }
   ],
   "source": [
    "print(artist_10k['Country'].unique())"
   ]
  },
  {
   "cell_type": "code",
   "execution_count": 264,
   "metadata": {},
   "outputs": [
    {
     "name": "stdout",
     "output_type": "stream",
     "text": [
      "          Country  Artist Count  Percentage\n",
      "0   United States          1207   19.143537\n",
      "1  United Kingdom           507    8.041237\n",
      "2         Germany           347    5.503569\n",
      "3          Sweden           307    4.869151\n",
      "4          France           259    4.107851\n"
     ]
    }
   ],
   "source": [
    "# Preprocess the data to count the number of artists per country\n",
    "artists_per_country = artist_10k['Country'].value_counts().reset_index()\n",
    "artists_per_country.columns = ['Country', 'Artist Count']\n",
    "\n",
    "# Calculate total number of artists\n",
    "total_artists = artists_per_country['Artist Count'].sum()\n",
    "\n",
    "# Calculate percentage of artists per country\n",
    "artists_per_country['Percentage'] = (artists_per_country['Artist Count'] / total_artists) * 100\n",
    "\n",
    "# Display the DataFrame with percentages\n",
    "print(artists_per_country.head())\n",
    "\n"
   ]
  },
  {
   "cell_type": "code",
   "execution_count": 265,
   "metadata": {},
   "outputs": [
    {
     "data": {
      "application/vnd.plotly.v1+json": {
       "config": {
        "plotlyServerURL": "https://plot.ly"
       },
       "data": [
        {
         "coloraxis": "coloraxis",
         "geo": "geo",
         "hovertemplate": "<b>%{hovertext}</b><br><br>Country=%{location}<br>Percentage=%{z}<extra></extra>",
         "hovertext": [
          "United States",
          "United Kingdom",
          "Germany",
          "Sweden",
          "France",
          "Italy",
          "Brazil",
          "Finland",
          "Netherlands",
          "Spain",
          "Turkey",
          "Japan",
          "Denmark",
          "India",
          "Puerto Rico",
          "Australia",
          "Norway",
          "Mexico",
          "Poland",
          "South Korea",
          "Philippines",
          "Canada",
          "Argentina",
          "Indonesia",
          "Colombia",
          "Belgium",
          "Taiwan",
          "Hong Kong",
          "Chile",
          "Czech Republic",
          "Portugal",
          "Dominican Republic",
          "Israel",
          "Jamaica",
          "Malaysia",
          "Iceland",
          "Austria",
          "Russia",
          "New Zealand",
          "Estonia",
          "Hungary",
          "Switzerland",
          "Venezuela",
          "China",
          "Ireland",
          "Thailand",
          "Peru",
          "Uruguay",
          "Romania",
          "Vietnam",
          "Greece",
          "Slovakia",
          "Cuba",
          "Latvia",
          "Pakistan",
          "Panama",
          "South Africa",
          "Slovenia",
          "Singapore",
          "Xenia",
          "Albania",
          "Ghana",
          "Kosovo",
          "Guatemala",
          "Algeria",
          "Belarus",
          "Bosnia and Herzegovina",
          "Lithuania",
          "Ukraine",
          "Tunisia",
          "Moldova",
          "Angola",
          "Georgia",
          "Morocco",
          "Nigeria",
          "North Macedonia",
          "Bulgaria",
          "Bangladesh",
          "Senegal",
          "Cape Verde",
          "São Tomé and Príncipe",
          "Solomon Islands",
          "British Virgin Islands",
          "Xenomania World",
          "Burkina Faso",
          "Suriname",
          "Bolivia",
          "Cameroon",
          "Aruba",
          "Honduras",
          "Antigua and Barbuda",
          "Democratic Republic of the Congo",
          "Croatia",
          "Nicaragua",
          "Mali",
          "Jordan",
          "Kazakhstan",
          "Ivory Coast",
          "Soviet Union",
          "Iran",
          "Yugoslavia",
          "Paraguay"
         ],
         "locationmode": "country names",
         "locations": [
          "United States",
          "United Kingdom",
          "Germany",
          "Sweden",
          "France",
          "Italy",
          "Brazil",
          "Finland",
          "Netherlands",
          "Spain",
          "Turkey",
          "Japan",
          "Denmark",
          "India",
          "Puerto Rico",
          "Australia",
          "Norway",
          "Mexico",
          "Poland",
          "South Korea",
          "Philippines",
          "Canada",
          "Argentina",
          "Indonesia",
          "Colombia",
          "Belgium",
          "Taiwan",
          "Hong Kong",
          "Chile",
          "Czech Republic",
          "Portugal",
          "Dominican Republic",
          "Israel",
          "Jamaica",
          "Malaysia",
          "Iceland",
          "Austria",
          "Russia",
          "New Zealand",
          "Estonia",
          "Hungary",
          "Switzerland",
          "Venezuela",
          "China",
          "Ireland",
          "Thailand",
          "Peru",
          "Uruguay",
          "Romania",
          "Vietnam",
          "Greece",
          "Slovakia",
          "Cuba",
          "Latvia",
          "Pakistan",
          "Panama",
          "South Africa",
          "Slovenia",
          "Singapore",
          "Xenia",
          "Albania",
          "Ghana",
          "Kosovo",
          "Guatemala",
          "Algeria",
          "Belarus",
          "Bosnia and Herzegovina",
          "Lithuania",
          "Ukraine",
          "Tunisia",
          "Moldova",
          "Angola",
          "Georgia",
          "Morocco",
          "Nigeria",
          "North Macedonia",
          "Bulgaria",
          "Bangladesh",
          "Senegal",
          "Cape Verde",
          "São Tomé and Príncipe",
          "Solomon Islands",
          "British Virgin Islands",
          "Xenomania World",
          "Burkina Faso",
          "Suriname",
          "Bolivia",
          "Cameroon",
          "Aruba",
          "Honduras",
          "Antigua and Barbuda",
          "Democratic Republic of the Congo",
          "Croatia",
          "Nicaragua",
          "Mali",
          "Jordan",
          "Kazakhstan",
          "Ivory Coast",
          "Soviet Union",
          "Iran",
          "Yugoslavia",
          "Paraguay"
         ],
         "name": "",
         "type": "choropleth",
         "z": [
          19.14353687549564,
          8.041237113402062,
          5.5035685963521015,
          4.869151467089612,
          4.107850911974623,
          3.7589214908802537,
          3.7589214908802537,
          3.7272006344171293,
          3.2989690721649487,
          2.965900079302141,
          2.9341792228390164,
          2.7438540840602696,
          2.1094369547977796,
          1.9666931007137192,
          1.808088818398097,
          1.76050753370341,
          1.7446471054718478,
          1.6812053925455988,
          1.5384615384615385,
          1.4750198255352893,
          1.4274385408406027,
          1.4115781126090405,
          1.3957176843774783,
          1.3322759714512291,
          1.2212529738302935,
          1.0943695479777953,
          1.0943695479777953,
          0.7771609833465504,
          0.6819984139571769,
          0.6819984139571769,
          0.63441712926249,
          0.5392545598731165,
          0.507533703409992,
          0.47581284694686754,
          0.44409199048374304,
          0.44409199048374304,
          0.44409199048374304,
          0.3965107057890563,
          0.38065027755749403,
          0.3647898493259318,
          0.3489294210943696,
          0.3489294210943696,
          0.317208564631245,
          0.2696272799365583,
          0.2696272799365583,
          0.253766851704996,
          0.22204599524187152,
          0.22204599524187152,
          0.22204599524187152,
          0.2061855670103093,
          0.2061855670103093,
          0.2061855670103093,
          0.19032513877874702,
          0.1586042823156225,
          0.14274385408406026,
          0.14274385408406026,
          0.126883425852498,
          0.11102299762093576,
          0.11102299762093576,
          0.063441712926249,
          0.047581284694686754,
          0.047581284694686754,
          0.047581284694686754,
          0.047581284694686754,
          0.047581284694686754,
          0.047581284694686754,
          0.047581284694686754,
          0.047581284694686754,
          0.047581284694686754,
          0.047581284694686754,
          0.047581284694686754,
          0.047581284694686754,
          0.0317208564631245,
          0.0317208564631245,
          0.0317208564631245,
          0.0317208564631245,
          0.0317208564631245,
          0.0317208564631245,
          0.0317208564631245,
          0.0317208564631245,
          0.01586042823156225,
          0.01586042823156225,
          0.01586042823156225,
          0.01586042823156225,
          0.01586042823156225,
          0.01586042823156225,
          0.01586042823156225,
          0.01586042823156225,
          0.01586042823156225,
          0.01586042823156225,
          0.01586042823156225,
          0.01586042823156225,
          0.01586042823156225,
          0.01586042823156225,
          0.01586042823156225,
          0.01586042823156225,
          0.01586042823156225,
          0.01586042823156225,
          0.01586042823156225,
          0.01586042823156225,
          0.01586042823156225,
          0.01586042823156225
         ]
        }
       ],
       "layout": {
        "coloraxis": {
         "colorbar": {
          "title": {
           "text": "Percentage"
          }
         },
         "colorscale": [
          [
           0,
           "#0d0887"
          ],
          [
           0.1111111111111111,
           "#46039f"
          ],
          [
           0.2222222222222222,
           "#7201a8"
          ],
          [
           0.3333333333333333,
           "#9c179e"
          ],
          [
           0.4444444444444444,
           "#bd3786"
          ],
          [
           0.5555555555555556,
           "#d8576b"
          ],
          [
           0.6666666666666666,
           "#ed7953"
          ],
          [
           0.7777777777777778,
           "#fb9f3a"
          ],
          [
           0.8888888888888888,
           "#fdca26"
          ],
          [
           1,
           "#f0f921"
          ]
         ]
        },
        "geo": {
         "center": {},
         "domain": {
          "x": [
           0,
           1
          ],
          "y": [
           0,
           1
          ]
         }
        },
        "height": 600,
        "legend": {
         "tracegroupgap": 0
        },
        "margin": {
         "b": 10,
         "l": 15,
         "pad": 0,
         "r": 15,
         "t": 50
        },
        "template": {
         "data": {
          "bar": [
           {
            "error_x": {
             "color": "#2a3f5f"
            },
            "error_y": {
             "color": "#2a3f5f"
            },
            "marker": {
             "line": {
              "color": "#E5ECF6",
              "width": 0.5
             },
             "pattern": {
              "fillmode": "overlay",
              "size": 10,
              "solidity": 0.2
             }
            },
            "type": "bar"
           }
          ],
          "barpolar": [
           {
            "marker": {
             "line": {
              "color": "#E5ECF6",
              "width": 0.5
             },
             "pattern": {
              "fillmode": "overlay",
              "size": 10,
              "solidity": 0.2
             }
            },
            "type": "barpolar"
           }
          ],
          "carpet": [
           {
            "aaxis": {
             "endlinecolor": "#2a3f5f",
             "gridcolor": "white",
             "linecolor": "white",
             "minorgridcolor": "white",
             "startlinecolor": "#2a3f5f"
            },
            "baxis": {
             "endlinecolor": "#2a3f5f",
             "gridcolor": "white",
             "linecolor": "white",
             "minorgridcolor": "white",
             "startlinecolor": "#2a3f5f"
            },
            "type": "carpet"
           }
          ],
          "choropleth": [
           {
            "colorbar": {
             "outlinewidth": 0,
             "ticks": ""
            },
            "type": "choropleth"
           }
          ],
          "contour": [
           {
            "colorbar": {
             "outlinewidth": 0,
             "ticks": ""
            },
            "colorscale": [
             [
              0,
              "#0d0887"
             ],
             [
              0.1111111111111111,
              "#46039f"
             ],
             [
              0.2222222222222222,
              "#7201a8"
             ],
             [
              0.3333333333333333,
              "#9c179e"
             ],
             [
              0.4444444444444444,
              "#bd3786"
             ],
             [
              0.5555555555555556,
              "#d8576b"
             ],
             [
              0.6666666666666666,
              "#ed7953"
             ],
             [
              0.7777777777777778,
              "#fb9f3a"
             ],
             [
              0.8888888888888888,
              "#fdca26"
             ],
             [
              1,
              "#f0f921"
             ]
            ],
            "type": "contour"
           }
          ],
          "contourcarpet": [
           {
            "colorbar": {
             "outlinewidth": 0,
             "ticks": ""
            },
            "type": "contourcarpet"
           }
          ],
          "heatmap": [
           {
            "colorbar": {
             "outlinewidth": 0,
             "ticks": ""
            },
            "colorscale": [
             [
              0,
              "#0d0887"
             ],
             [
              0.1111111111111111,
              "#46039f"
             ],
             [
              0.2222222222222222,
              "#7201a8"
             ],
             [
              0.3333333333333333,
              "#9c179e"
             ],
             [
              0.4444444444444444,
              "#bd3786"
             ],
             [
              0.5555555555555556,
              "#d8576b"
             ],
             [
              0.6666666666666666,
              "#ed7953"
             ],
             [
              0.7777777777777778,
              "#fb9f3a"
             ],
             [
              0.8888888888888888,
              "#fdca26"
             ],
             [
              1,
              "#f0f921"
             ]
            ],
            "type": "heatmap"
           }
          ],
          "heatmapgl": [
           {
            "colorbar": {
             "outlinewidth": 0,
             "ticks": ""
            },
            "colorscale": [
             [
              0,
              "#0d0887"
             ],
             [
              0.1111111111111111,
              "#46039f"
             ],
             [
              0.2222222222222222,
              "#7201a8"
             ],
             [
              0.3333333333333333,
              "#9c179e"
             ],
             [
              0.4444444444444444,
              "#bd3786"
             ],
             [
              0.5555555555555556,
              "#d8576b"
             ],
             [
              0.6666666666666666,
              "#ed7953"
             ],
             [
              0.7777777777777778,
              "#fb9f3a"
             ],
             [
              0.8888888888888888,
              "#fdca26"
             ],
             [
              1,
              "#f0f921"
             ]
            ],
            "type": "heatmapgl"
           }
          ],
          "histogram": [
           {
            "marker": {
             "pattern": {
              "fillmode": "overlay",
              "size": 10,
              "solidity": 0.2
             }
            },
            "type": "histogram"
           }
          ],
          "histogram2d": [
           {
            "colorbar": {
             "outlinewidth": 0,
             "ticks": ""
            },
            "colorscale": [
             [
              0,
              "#0d0887"
             ],
             [
              0.1111111111111111,
              "#46039f"
             ],
             [
              0.2222222222222222,
              "#7201a8"
             ],
             [
              0.3333333333333333,
              "#9c179e"
             ],
             [
              0.4444444444444444,
              "#bd3786"
             ],
             [
              0.5555555555555556,
              "#d8576b"
             ],
             [
              0.6666666666666666,
              "#ed7953"
             ],
             [
              0.7777777777777778,
              "#fb9f3a"
             ],
             [
              0.8888888888888888,
              "#fdca26"
             ],
             [
              1,
              "#f0f921"
             ]
            ],
            "type": "histogram2d"
           }
          ],
          "histogram2dcontour": [
           {
            "colorbar": {
             "outlinewidth": 0,
             "ticks": ""
            },
            "colorscale": [
             [
              0,
              "#0d0887"
             ],
             [
              0.1111111111111111,
              "#46039f"
             ],
             [
              0.2222222222222222,
              "#7201a8"
             ],
             [
              0.3333333333333333,
              "#9c179e"
             ],
             [
              0.4444444444444444,
              "#bd3786"
             ],
             [
              0.5555555555555556,
              "#d8576b"
             ],
             [
              0.6666666666666666,
              "#ed7953"
             ],
             [
              0.7777777777777778,
              "#fb9f3a"
             ],
             [
              0.8888888888888888,
              "#fdca26"
             ],
             [
              1,
              "#f0f921"
             ]
            ],
            "type": "histogram2dcontour"
           }
          ],
          "mesh3d": [
           {
            "colorbar": {
             "outlinewidth": 0,
             "ticks": ""
            },
            "type": "mesh3d"
           }
          ],
          "parcoords": [
           {
            "line": {
             "colorbar": {
              "outlinewidth": 0,
              "ticks": ""
             }
            },
            "type": "parcoords"
           }
          ],
          "pie": [
           {
            "automargin": true,
            "type": "pie"
           }
          ],
          "scatter": [
           {
            "fillpattern": {
             "fillmode": "overlay",
             "size": 10,
             "solidity": 0.2
            },
            "type": "scatter"
           }
          ],
          "scatter3d": [
           {
            "line": {
             "colorbar": {
              "outlinewidth": 0,
              "ticks": ""
             }
            },
            "marker": {
             "colorbar": {
              "outlinewidth": 0,
              "ticks": ""
             }
            },
            "type": "scatter3d"
           }
          ],
          "scattercarpet": [
           {
            "marker": {
             "colorbar": {
              "outlinewidth": 0,
              "ticks": ""
             }
            },
            "type": "scattercarpet"
           }
          ],
          "scattergeo": [
           {
            "marker": {
             "colorbar": {
              "outlinewidth": 0,
              "ticks": ""
             }
            },
            "type": "scattergeo"
           }
          ],
          "scattergl": [
           {
            "marker": {
             "colorbar": {
              "outlinewidth": 0,
              "ticks": ""
             }
            },
            "type": "scattergl"
           }
          ],
          "scattermapbox": [
           {
            "marker": {
             "colorbar": {
              "outlinewidth": 0,
              "ticks": ""
             }
            },
            "type": "scattermapbox"
           }
          ],
          "scatterpolar": [
           {
            "marker": {
             "colorbar": {
              "outlinewidth": 0,
              "ticks": ""
             }
            },
            "type": "scatterpolar"
           }
          ],
          "scatterpolargl": [
           {
            "marker": {
             "colorbar": {
              "outlinewidth": 0,
              "ticks": ""
             }
            },
            "type": "scatterpolargl"
           }
          ],
          "scatterternary": [
           {
            "marker": {
             "colorbar": {
              "outlinewidth": 0,
              "ticks": ""
             }
            },
            "type": "scatterternary"
           }
          ],
          "surface": [
           {
            "colorbar": {
             "outlinewidth": 0,
             "ticks": ""
            },
            "colorscale": [
             [
              0,
              "#0d0887"
             ],
             [
              0.1111111111111111,
              "#46039f"
             ],
             [
              0.2222222222222222,
              "#7201a8"
             ],
             [
              0.3333333333333333,
              "#9c179e"
             ],
             [
              0.4444444444444444,
              "#bd3786"
             ],
             [
              0.5555555555555556,
              "#d8576b"
             ],
             [
              0.6666666666666666,
              "#ed7953"
             ],
             [
              0.7777777777777778,
              "#fb9f3a"
             ],
             [
              0.8888888888888888,
              "#fdca26"
             ],
             [
              1,
              "#f0f921"
             ]
            ],
            "type": "surface"
           }
          ],
          "table": [
           {
            "cells": {
             "fill": {
              "color": "#EBF0F8"
             },
             "line": {
              "color": "white"
             }
            },
            "header": {
             "fill": {
              "color": "#C8D4E3"
             },
             "line": {
              "color": "white"
             }
            },
            "type": "table"
           }
          ]
         },
         "layout": {
          "annotationdefaults": {
           "arrowcolor": "#2a3f5f",
           "arrowhead": 0,
           "arrowwidth": 1
          },
          "autotypenumbers": "strict",
          "coloraxis": {
           "colorbar": {
            "outlinewidth": 0,
            "ticks": ""
           }
          },
          "colorscale": {
           "diverging": [
            [
             0,
             "#8e0152"
            ],
            [
             0.1,
             "#c51b7d"
            ],
            [
             0.2,
             "#de77ae"
            ],
            [
             0.3,
             "#f1b6da"
            ],
            [
             0.4,
             "#fde0ef"
            ],
            [
             0.5,
             "#f7f7f7"
            ],
            [
             0.6,
             "#e6f5d0"
            ],
            [
             0.7,
             "#b8e186"
            ],
            [
             0.8,
             "#7fbc41"
            ],
            [
             0.9,
             "#4d9221"
            ],
            [
             1,
             "#276419"
            ]
           ],
           "sequential": [
            [
             0,
             "#0d0887"
            ],
            [
             0.1111111111111111,
             "#46039f"
            ],
            [
             0.2222222222222222,
             "#7201a8"
            ],
            [
             0.3333333333333333,
             "#9c179e"
            ],
            [
             0.4444444444444444,
             "#bd3786"
            ],
            [
             0.5555555555555556,
             "#d8576b"
            ],
            [
             0.6666666666666666,
             "#ed7953"
            ],
            [
             0.7777777777777778,
             "#fb9f3a"
            ],
            [
             0.8888888888888888,
             "#fdca26"
            ],
            [
             1,
             "#f0f921"
            ]
           ],
           "sequentialminus": [
            [
             0,
             "#0d0887"
            ],
            [
             0.1111111111111111,
             "#46039f"
            ],
            [
             0.2222222222222222,
             "#7201a8"
            ],
            [
             0.3333333333333333,
             "#9c179e"
            ],
            [
             0.4444444444444444,
             "#bd3786"
            ],
            [
             0.5555555555555556,
             "#d8576b"
            ],
            [
             0.6666666666666666,
             "#ed7953"
            ],
            [
             0.7777777777777778,
             "#fb9f3a"
            ],
            [
             0.8888888888888888,
             "#fdca26"
            ],
            [
             1,
             "#f0f921"
            ]
           ]
          },
          "colorway": [
           "#636efa",
           "#EF553B",
           "#00cc96",
           "#ab63fa",
           "#FFA15A",
           "#19d3f3",
           "#FF6692",
           "#B6E880",
           "#FF97FF",
           "#FECB52"
          ],
          "font": {
           "color": "#2a3f5f"
          },
          "geo": {
           "bgcolor": "white",
           "lakecolor": "white",
           "landcolor": "#E5ECF6",
           "showlakes": true,
           "showland": true,
           "subunitcolor": "white"
          },
          "hoverlabel": {
           "align": "left"
          },
          "hovermode": "closest",
          "mapbox": {
           "style": "light"
          },
          "paper_bgcolor": "white",
          "plot_bgcolor": "#E5ECF6",
          "polar": {
           "angularaxis": {
            "gridcolor": "white",
            "linecolor": "white",
            "ticks": ""
           },
           "bgcolor": "#E5ECF6",
           "radialaxis": {
            "gridcolor": "white",
            "linecolor": "white",
            "ticks": ""
           }
          },
          "scene": {
           "xaxis": {
            "backgroundcolor": "#E5ECF6",
            "gridcolor": "white",
            "gridwidth": 2,
            "linecolor": "white",
            "showbackground": true,
            "ticks": "",
            "zerolinecolor": "white"
           },
           "yaxis": {
            "backgroundcolor": "#E5ECF6",
            "gridcolor": "white",
            "gridwidth": 2,
            "linecolor": "white",
            "showbackground": true,
            "ticks": "",
            "zerolinecolor": "white"
           },
           "zaxis": {
            "backgroundcolor": "#E5ECF6",
            "gridcolor": "white",
            "gridwidth": 2,
            "linecolor": "white",
            "showbackground": true,
            "ticks": "",
            "zerolinecolor": "white"
           }
          },
          "shapedefaults": {
           "line": {
            "color": "#2a3f5f"
           }
          },
          "ternary": {
           "aaxis": {
            "gridcolor": "white",
            "linecolor": "white",
            "ticks": ""
           },
           "baxis": {
            "gridcolor": "white",
            "linecolor": "white",
            "ticks": ""
           },
           "bgcolor": "#E5ECF6",
           "caxis": {
            "gridcolor": "white",
            "linecolor": "white",
            "ticks": ""
           }
          },
          "title": {
           "x": 0.05
          },
          "xaxis": {
           "automargin": true,
           "gridcolor": "white",
           "linecolor": "white",
           "ticks": "",
           "title": {
            "standoff": 15
           },
           "zerolinecolor": "white",
           "zerolinewidth": 2
          },
          "yaxis": {
           "automargin": true,
           "gridcolor": "white",
           "linecolor": "white",
           "ticks": "",
           "title": {
            "standoff": 15
           },
           "zerolinecolor": "white",
           "zerolinewidth": 2
          }
         }
        },
        "title": {
         "font": {
          "size": 25
         },
         "text": "Percentage of Artists per Country"
        }
       }
      }
     },
     "metadata": {},
     "output_type": "display_data"
    }
   ],
   "source": [
    "# Create a choropleth map using Plotly\n",
    "fig = px.choropleth(artists_per_country,\n",
    "                    locations='Country',\n",
    "                    locationmode='country names',  # This tells Plotly to recognize the countries by their names\n",
    "                    color='Percentage',\n",
    "                    hover_name='Country',\n",
    "                    color_continuous_scale=px.colors.sequential.Plasma,\n",
    "                    title='Percentage of Artists per Country')\n",
    "fig.update_layout(\n",
    "    # height=400,\n",
    "    title_font=dict(size=25),\n",
    "    height=600,\n",
    "    margin=dict(l=15, r=15, t=50, b=10, pad=0)\n",
    ")\n",
    "fig.show()"
   ]
  },
  {
   "cell_type": "code",
   "execution_count": 266,
   "metadata": {},
   "outputs": [],
   "source": [
    "# Group the DataFrame by 'Country' and apply a function to get the top 5 artists based on followers\n",
    "top_artists_per_country = artist_10k.groupby('Country').apply(lambda x: x.nlargest(5, 'Popularity')).reset_index(drop=True)\n"
   ]
  },
  {
   "cell_type": "code",
   "execution_count": 267,
   "metadata": {},
   "outputs": [
    {
     "data": {
      "text/html": [
       "<div>\n",
       "<style scoped>\n",
       "    .dataframe tbody tr th:only-of-type {\n",
       "        vertical-align: middle;\n",
       "    }\n",
       "\n",
       "    .dataframe tbody tr th {\n",
       "        vertical-align: top;\n",
       "    }\n",
       "\n",
       "    .dataframe thead th {\n",
       "        text-align: right;\n",
       "    }\n",
       "</style>\n",
       "<table border=\"1\" class=\"dataframe\">\n",
       "  <thead>\n",
       "    <tr style=\"text-align: right;\">\n",
       "      <th></th>\n",
       "      <th>Name</th>\n",
       "      <th>Gender</th>\n",
       "      <th>Age</th>\n",
       "      <th>Country</th>\n",
       "      <th>Genres</th>\n",
       "      <th>Popularity</th>\n",
       "      <th>Followers</th>\n",
       "    </tr>\n",
       "  </thead>\n",
       "  <tbody>\n",
       "    <tr>\n",
       "      <th>347</th>\n",
       "      <td>Taylor Swift</td>\n",
       "      <td>female</td>\n",
       "      <td>30</td>\n",
       "      <td>United States</td>\n",
       "      <td>['pop']</td>\n",
       "      <td>100</td>\n",
       "      <td>95859165</td>\n",
       "    </tr>\n",
       "    <tr>\n",
       "      <th>348</th>\n",
       "      <td>Travis Scott</td>\n",
       "      <td>male</td>\n",
       "      <td>28</td>\n",
       "      <td>United States</td>\n",
       "      <td>['hip hop', 'rap', 'slap house']</td>\n",
       "      <td>90</td>\n",
       "      <td>25672786</td>\n",
       "    </tr>\n",
       "    <tr>\n",
       "      <th>349</th>\n",
       "      <td>Lana Del Rey</td>\n",
       "      <td>female</td>\n",
       "      <td>35</td>\n",
       "      <td>United States</td>\n",
       "      <td>['art pop', 'pop']</td>\n",
       "      <td>89</td>\n",
       "      <td>30603103</td>\n",
       "    </tr>\n",
       "    <tr>\n",
       "      <th>350</th>\n",
       "      <td>Ariana Grande</td>\n",
       "      <td>female</td>\n",
       "      <td>27</td>\n",
       "      <td>United States</td>\n",
       "      <td>['pop']</td>\n",
       "      <td>88</td>\n",
       "      <td>95710972</td>\n",
       "    </tr>\n",
       "    <tr>\n",
       "      <th>351</th>\n",
       "      <td>21 Savage</td>\n",
       "      <td>male</td>\n",
       "      <td>27</td>\n",
       "      <td>United States</td>\n",
       "      <td>['atl hip hop', 'hip hop', 'rap']</td>\n",
       "      <td>88</td>\n",
       "      <td>15909838</td>\n",
       "    </tr>\n",
       "  </tbody>\n",
       "</table>\n",
       "</div>"
      ],
      "text/plain": [
       "              Name  Gender  Age        Country  \\\n",
       "347   Taylor Swift  female   30  United States   \n",
       "348   Travis Scott    male   28  United States   \n",
       "349   Lana Del Rey  female   35  United States   \n",
       "350  Ariana Grande  female   27  United States   \n",
       "351      21 Savage    male   27  United States   \n",
       "\n",
       "                                Genres  Popularity  Followers  \n",
       "347                            ['pop']         100   95859165  \n",
       "348   ['hip hop', 'rap', 'slap house']          90   25672786  \n",
       "349                 ['art pop', 'pop']          89   30603103  \n",
       "350                            ['pop']          88   95710972  \n",
       "351  ['atl hip hop', 'hip hop', 'rap']          88   15909838  "
      ]
     },
     "execution_count": 267,
     "metadata": {},
     "output_type": "execute_result"
    }
   ],
   "source": [
    "top_artists_per_country[top_artists_per_country['Country'] == 'United States']"
   ]
  },
  {
   "cell_type": "code",
   "execution_count": 268,
   "metadata": {},
   "outputs": [],
   "source": [
    "top_artists_per_country['Top Artists'] = top_artists_per_country.groupby('Country')['Name'].transform(lambda x: ', '.join(x))\n",
    "\n"
   ]
  },
  {
   "cell_type": "code",
   "execution_count": 269,
   "metadata": {},
   "outputs": [
    {
     "data": {
      "text/html": [
       "<div>\n",
       "<style scoped>\n",
       "    .dataframe tbody tr th:only-of-type {\n",
       "        vertical-align: middle;\n",
       "    }\n",
       "\n",
       "    .dataframe tbody tr th {\n",
       "        vertical-align: top;\n",
       "    }\n",
       "\n",
       "    .dataframe thead th {\n",
       "        text-align: right;\n",
       "    }\n",
       "</style>\n",
       "<table border=\"1\" class=\"dataframe\">\n",
       "  <thead>\n",
       "    <tr style=\"text-align: right;\">\n",
       "      <th></th>\n",
       "      <th>Name</th>\n",
       "      <th>Gender</th>\n",
       "      <th>Age</th>\n",
       "      <th>Country</th>\n",
       "      <th>Genres</th>\n",
       "      <th>Popularity</th>\n",
       "      <th>Followers</th>\n",
       "    </tr>\n",
       "  </thead>\n",
       "  <tbody>\n",
       "    <tr>\n",
       "      <th>484</th>\n",
       "      <td>Arijit Singh</td>\n",
       "      <td>male</td>\n",
       "      <td>33</td>\n",
       "      <td>India</td>\n",
       "      <td>['filmi', 'modern bollywood']</td>\n",
       "      <td>88</td>\n",
       "      <td>97604060</td>\n",
       "    </tr>\n",
       "    <tr>\n",
       "      <th>768</th>\n",
       "      <td>Tanishk Bagchi</td>\n",
       "      <td>male</td>\n",
       "      <td>0</td>\n",
       "      <td>India</td>\n",
       "      <td>['desi pop', 'filmi', 'modern bollywood']</td>\n",
       "      <td>75</td>\n",
       "      <td>3634127</td>\n",
       "    </tr>\n",
       "    <tr>\n",
       "      <th>789</th>\n",
       "      <td>Neha Kakkar</td>\n",
       "      <td>female</td>\n",
       "      <td>0</td>\n",
       "      <td>India</td>\n",
       "      <td>['filmi', 'modern bollywood']</td>\n",
       "      <td>72</td>\n",
       "      <td>44257694</td>\n",
       "    </tr>\n",
       "    <tr>\n",
       "      <th>1105</th>\n",
       "      <td>Dhvani Bhanushali</td>\n",
       "      <td>female</td>\n",
       "      <td>0</td>\n",
       "      <td>India</td>\n",
       "      <td>['desi pop', 'filmi', 'modern bollywood']</td>\n",
       "      <td>65</td>\n",
       "      <td>4636253</td>\n",
       "    </tr>\n",
       "    <tr>\n",
       "      <th>1267</th>\n",
       "      <td>Asees Kaur</td>\n",
       "      <td>female</td>\n",
       "      <td>0</td>\n",
       "      <td>India</td>\n",
       "      <td>['desi pop', 'filmi', 'modern bollywood']</td>\n",
       "      <td>69</td>\n",
       "      <td>2330556</td>\n",
       "    </tr>\n",
       "    <tr>\n",
       "      <th>...</th>\n",
       "      <td>...</td>\n",
       "      <td>...</td>\n",
       "      <td>...</td>\n",
       "      <td>...</td>\n",
       "      <td>...</td>\n",
       "      <td>...</td>\n",
       "      <td>...</td>\n",
       "    </tr>\n",
       "    <tr>\n",
       "      <th>8855</th>\n",
       "      <td>Keerthana Sharma</td>\n",
       "      <td>female</td>\n",
       "      <td>0</td>\n",
       "      <td>India</td>\n",
       "      <td>['tollywood']</td>\n",
       "      <td>50</td>\n",
       "      <td>62948</td>\n",
       "    </tr>\n",
       "    <tr>\n",
       "      <th>8888</th>\n",
       "      <td>Nimrat Khaira</td>\n",
       "      <td>male</td>\n",
       "      <td>0</td>\n",
       "      <td>India</td>\n",
       "      <td>['punjabi pop']</td>\n",
       "      <td>56</td>\n",
       "      <td>2077522</td>\n",
       "    </tr>\n",
       "    <tr>\n",
       "      <th>9029</th>\n",
       "      <td>Dhanush</td>\n",
       "      <td>male</td>\n",
       "      <td>36</td>\n",
       "      <td>India</td>\n",
       "      <td>['filmi', 'kollywood']</td>\n",
       "      <td>67</td>\n",
       "      <td>8858822</td>\n",
       "    </tr>\n",
       "    <tr>\n",
       "      <th>9066</th>\n",
       "      <td>Haricharan</td>\n",
       "      <td>male</td>\n",
       "      <td>33</td>\n",
       "      <td>India</td>\n",
       "      <td>['filmi']</td>\n",
       "      <td>67</td>\n",
       "      <td>2646158</td>\n",
       "    </tr>\n",
       "    <tr>\n",
       "      <th>9086</th>\n",
       "      <td>Yuvan Shankar Raja</td>\n",
       "      <td>male</td>\n",
       "      <td>40</td>\n",
       "      <td>India</td>\n",
       "      <td>['filmi', 'kollywood']</td>\n",
       "      <td>73</td>\n",
       "      <td>12010274</td>\n",
       "    </tr>\n",
       "  </tbody>\n",
       "</table>\n",
       "<p>124 rows × 7 columns</p>\n",
       "</div>"
      ],
      "text/plain": [
       "                    Name  Gender  Age Country  \\\n",
       "484         Arijit Singh    male   33   India   \n",
       "768       Tanishk Bagchi    male    0   India   \n",
       "789          Neha Kakkar  female    0   India   \n",
       "1105   Dhvani Bhanushali  female    0   India   \n",
       "1267          Asees Kaur  female    0   India   \n",
       "...                  ...     ...  ...     ...   \n",
       "8855    Keerthana Sharma  female    0   India   \n",
       "8888       Nimrat Khaira    male    0   India   \n",
       "9029             Dhanush    male   36   India   \n",
       "9066          Haricharan    male   33   India   \n",
       "9086  Yuvan Shankar Raja    male   40   India   \n",
       "\n",
       "                                         Genres  Popularity  Followers  \n",
       "484               ['filmi', 'modern bollywood']          88   97604060  \n",
       "768   ['desi pop', 'filmi', 'modern bollywood']          75    3634127  \n",
       "789               ['filmi', 'modern bollywood']          72   44257694  \n",
       "1105  ['desi pop', 'filmi', 'modern bollywood']          65    4636253  \n",
       "1267  ['desi pop', 'filmi', 'modern bollywood']          69    2330556  \n",
       "...                                         ...         ...        ...  \n",
       "8855                              ['tollywood']          50      62948  \n",
       "8888                            ['punjabi pop']          56    2077522  \n",
       "9029                     ['filmi', 'kollywood']          67    8858822  \n",
       "9066                                  ['filmi']          67    2646158  \n",
       "9086                     ['filmi', 'kollywood']          73   12010274  \n",
       "\n",
       "[124 rows x 7 columns]"
      ]
     },
     "execution_count": 269,
     "metadata": {},
     "output_type": "execute_result"
    }
   ],
   "source": [
    "artist_10k[artist_10k['Country'] == 'India']"
   ]
  },
  {
   "cell_type": "code",
   "execution_count": 270,
   "metadata": {},
   "outputs": [
    {
     "name": "stdout",
     "output_type": "stream",
     "text": [
      "<class 'pandas.core.frame.DataFrame'>\n",
      "RangeIndex: 9488 entries, 0 to 9487\n",
      "Data columns (total 7 columns):\n",
      " #   Column      Non-Null Count  Dtype \n",
      "---  ------      --------------  ----- \n",
      " 0   Name        9488 non-null   object\n",
      " 1   Gender      7829 non-null   object\n",
      " 2   Age         9488 non-null   int64 \n",
      " 3   Country     6305 non-null   object\n",
      " 4   Genres      9488 non-null   object\n",
      " 5   Popularity  9488 non-null   int64 \n",
      " 6   Followers   9488 non-null   int64 \n",
      "dtypes: int64(3), object(4)\n",
      "memory usage: 519.0+ KB\n"
     ]
    }
   ],
   "source": [
    "artist_10k.info()\n"
   ]
  },
  {
   "cell_type": "code",
   "execution_count": 271,
   "metadata": {},
   "outputs": [],
   "source": [
    "artist_10k['Genres'] = artist_10k['Genres'].apply(ast.literal_eval)\n"
   ]
  },
  {
   "cell_type": "code",
   "execution_count": 272,
   "metadata": {},
   "outputs": [],
   "source": [
    "artist_10k = artist_10k[artist_10k['Genres'].map(len) > 0]"
   ]
  },
  {
   "cell_type": "code",
   "execution_count": 273,
   "metadata": {},
   "outputs": [
    {
     "name": "stdout",
     "output_type": "stream",
     "text": [
      "<class 'pandas.core.frame.DataFrame'>\n",
      "Index: 7849 entries, 0 to 9486\n",
      "Data columns (total 7 columns):\n",
      " #   Column      Non-Null Count  Dtype \n",
      "---  ------      --------------  ----- \n",
      " 0   Name        7849 non-null   object\n",
      " 1   Gender      6704 non-null   object\n",
      " 2   Age         7849 non-null   int64 \n",
      " 3   Country     5474 non-null   object\n",
      " 4   Genres      7849 non-null   object\n",
      " 5   Popularity  7849 non-null   int64 \n",
      " 6   Followers   7849 non-null   int64 \n",
      "dtypes: int64(3), object(4)\n",
      "memory usage: 490.6+ KB\n"
     ]
    }
   ],
   "source": [
    "artist_10k.info()"
   ]
  },
  {
   "cell_type": "code",
   "execution_count": 274,
   "metadata": {},
   "outputs": [],
   "source": [
    "country_genres = artist_10k.groupby('Country')['Genres'].sum()"
   ]
  },
  {
   "cell_type": "code",
   "execution_count": 275,
   "metadata": {},
   "outputs": [
    {
     "name": "stdout",
     "output_type": "stream",
     "text": [
      "<class 'pandas.core.series.Series'>\n",
      "Index: 99 entries, Albania to Yugoslavia\n",
      "Series name: Genres\n",
      "Non-Null Count  Dtype \n",
      "--------------  ----- \n",
      "99 non-null     object\n",
      "dtypes: object(1)\n",
      "memory usage: 1.5+ KB\n"
     ]
    }
   ],
   "source": [
    "country_genres.info()\n"
   ]
  },
  {
   "cell_type": "code",
   "execution_count": 276,
   "metadata": {},
   "outputs": [
    {
     "name": "stdout",
     "output_type": "stream",
     "text": [
      "<class 'pandas.core.frame.DataFrame'>\n",
      "RangeIndex: 373 entries, 0 to 372\n",
      "Data columns (total 8 columns):\n",
      " #   Column       Non-Null Count  Dtype \n",
      "---  ------       --------------  ----- \n",
      " 0   Name         373 non-null    object\n",
      " 1   Gender       367 non-null    object\n",
      " 2   Age          373 non-null    int64 \n",
      " 3   Country      373 non-null    object\n",
      " 4   Genres       373 non-null    object\n",
      " 5   Popularity   373 non-null    int64 \n",
      " 6   Followers    373 non-null    int64 \n",
      " 7   Top Artists  373 non-null    object\n",
      "dtypes: int64(3), object(5)\n",
      "memory usage: 23.4+ KB\n"
     ]
    }
   ],
   "source": [
    "top_artists_per_country.info()\n"
   ]
  },
  {
   "cell_type": "code",
   "execution_count": 277,
   "metadata": {},
   "outputs": [],
   "source": [
    "app = dash.Dash(__name__)\n",
    "\n",
    "# Define the layout of the app\n",
    "app.layout = html.Div([\n",
    "    dcc.Dropdown(\n",
    "        id='country-dropdown',\n",
    "        options=[{'label': country, 'value': country} for country in top_artists_per_country['Country'].unique()],\n",
    "        value='Albania',  # Default value\n",
    "        clearable=False\n",
    "    ),\n",
    "    dcc.Graph(id='pie-chart'),\n",
    "    dash_table.DataTable(\n",
    "        id='artist-table',\n",
    "        columns=[\n",
    "            {'name': 'Name', 'id': 'Name'},\n",
    "            {'name': 'Gender', 'id': 'Gender'},\n",
    "            {'name': 'Age', 'id': 'Age'},\n",
    "            {'name': 'Genres', 'id': 'Genres'},\n",
    "            {'name': 'Popularity', 'id': 'Popularity'},\n",
    "            {'name': 'Followers', 'id': 'Followers'}\n",
    "        ],\n",
    "        data=[],  # Empty at initialization\n",
    "        style_table={'height': '300px', 'overflowY': 'auto'}\n",
    "    )\n",
    "])\n",
    "\n",
    "# Define callback to update the pie chart and the artist table based on selected country\n",
    "@app.callback(\n",
    "    [Output('pie-chart', 'figure'),\n",
    "     Output('artist-table', 'data')],\n",
    "    [Input('country-dropdown', 'value')]\n",
    ")\n",
    "def update_visuals(selected_country):\n",
    "    # Update the pie chart\n",
    "    genre_count = Counter(country_genres[selected_country])\n",
    "    df_genres = pd.DataFrame(list(genre_count.items()), columns=['Genre', 'Count'])\n",
    "    df_genres = df_genres.sort_values('Count', ascending=False)\n",
    "    df_genres = df_genres.head(7)\n",
    "    pie_chart = go.Figure(data=[go.Pie(labels=df_genres['Genre'], values=df_genres['Count'])])\n",
    "    pie_chart.update_layout(title=f'Popular Genres in {selected_country}')\n",
    "\n",
    "    # Update the artist table\n",
    "    df_artists = top_artists_per_country[top_artists_per_country['Country'] == selected_country]\n",
    "    artist_data = df_artists.to_dict('records')\n",
    "\n",
    "    return pie_chart, artist_data\n"
   ]
  },
  {
   "cell_type": "code",
   "execution_count": 278,
   "metadata": {},
   "outputs": [
    {
     "data": {
      "text/html": [
       "\n",
       "        <iframe\n",
       "            width=\"100%\"\n",
       "            height=\"650\"\n",
       "            src=\"http://127.0.0.1:8050/\"\n",
       "            frameborder=\"0\"\n",
       "            allowfullscreen\n",
       "            \n",
       "        ></iframe>\n",
       "        "
      ],
      "text/plain": [
       "<IPython.lib.display.IFrame at 0x78db05ff21d0>"
      ]
     },
     "metadata": {},
     "output_type": "display_data"
    }
   ],
   "source": [
    "\n",
    "# Run the app\n",
    "if __name__ == '__main__':\n",
    "    app.run_server(debug=True)\n",
    "\n"
   ]
  },
  {
   "cell_type": "code",
   "execution_count": 279,
   "metadata": {},
   "outputs": [],
   "source": [
    "# Copyright 2024 satyabn20\n",
    "# \n",
    "# Licensed under the Apache License, Version 2.0 (the \"License\");\n",
    "# you may not use this file except in compliance with the License.\n",
    "# You may obtain a copy of the License at\n",
    "# \n",
    "#     https://www.apache.org/licenses/LICENSE-2.0\n",
    "# \n",
    "# Unless required by applicable law or agreed to in writing, software\n",
    "# distributed under the License is distributed on an \"AS IS\" BASIS,\n",
    "# WITHOUT WARRANTIES OR CONDITIONS OF ANY KIND, either express or implied.\n",
    "# See the License for the specific language governing permissions and\n",
    "# limitations under the License.\n",
    "\n"
   ]
  }
 ],
 "metadata": {
  "kernelspec": {
   "display_name": "Python 3",
   "language": "python",
   "name": "python3"
  },
  "language_info": {
   "codemirror_mode": {
    "name": "ipython",
    "version": 3
   },
   "file_extension": ".py",
   "mimetype": "text/x-python",
   "name": "python",
   "nbconvert_exporter": "python",
   "pygments_lexer": "ipython3",
   "version": "3.10.12"
  }
 },
 "nbformat": 4,
 "nbformat_minor": 2
}
