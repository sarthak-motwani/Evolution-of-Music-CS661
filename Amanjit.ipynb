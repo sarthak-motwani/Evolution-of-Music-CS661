{
  "cells": [
    {
      "cell_type": "code",
      "execution_count": null,
      "metadata": {
        "colab": {
          "base_uri": "https://localhost:8080/",
          "height": 671
        },
        "id": "xg48uRDElWf2",
        "outputId": "356daff5-7fa7-4e04-90d3-0a2b7175d7de"
      },
      "outputs": [
        {
          "data": {
            "application/javascript": "(async (port, path, width, height, cache, element) => {\n    if (!google.colab.kernel.accessAllowed && !cache) {\n      return;\n    }\n    element.appendChild(document.createTextNode(''));\n    const url = await google.colab.kernel.proxyPort(port, {cache});\n    const iframe = document.createElement('iframe');\n    iframe.src = new URL(path, url).toString();\n    iframe.height = height;\n    iframe.width = width;\n    iframe.style.border = 0;\n    iframe.allow = [\n        'accelerometer',\n        'autoplay',\n        'camera',\n        'clipboard-read',\n        'clipboard-write',\n        'gyroscope',\n        'magnetometer',\n        'microphone',\n        'serial',\n        'usb',\n        'xr-spatial-tracking',\n    ].join('; ');\n    element.appendChild(iframe);\n  })(8050, \"/\", \"100%\", 650, false, window.element)",
            "text/plain": [
              "<IPython.core.display.Javascript object>"
            ]
          },
          "metadata": {},
          "output_type": "display_data"
        }
      ],
      "source": [
        "# !pip install dash\n",
        "import pandas as pd\n",
        "import plotly.express as px\n",
        "import dash\n",
        "from dash import dcc, html\n",
        "from dash.dependencies import Input, Output\n",
        "\n",
        "# Load the dataset\n",
        "df = pd.read_csv('/content/drive/MyDrive/Cs661/Taylor_Swift_albumsales.csv')\n",
        "\n",
        "# Create a Dash app\n",
        "app = dash.Dash(__name__)\n",
        "\n",
        "# Define the layout of the app\n",
        "app.layout = html.Div([\n",
        "    dcc.Graph(id='world-heatmap', style={'height': '80vh'}),  # Set the height to 80% of the viewport height\n",
        "    html.Div([\n",
        "        html.Label('Select Year:'),\n",
        "        dcc.Slider(\n",
        "            id='year-slider',\n",
        "            min=df['Year'].min(),\n",
        "            max=df['Year'].max(),\n",
        "            value=df['Year'].min(),\n",
        "            marks={str(year): str(year) for year in df['Year'].unique()},\n",
        "            step=None\n",
        "        )\n",
        "    ])\n",
        "])\n",
        "\n",
        "# Define callback to update the heatmap based on the selected year\n",
        "@app.callback(\n",
        "    Output('world-heatmap', 'figure'),\n",
        "    [Input('year-slider', 'value')]\n",
        ")\n",
        "def update_heatmap(year):\n",
        "    filtered_df = df[(df['Year'] == year) & (df['Sales'] > 0)]  # Filter out negative sales values\n",
        "    fig = px.choropleth(\n",
        "        filtered_df,\n",
        "        locations='Country',\n",
        "        locationmode='country names',\n",
        "        color='Sales',\n",
        "        hover_name='Country',\n",
        "        color_continuous_scale='Viridis',\n",
        "        color_continuous_midpoint=filtered_df['Sales'].mean(),  # Set midpoint to the mean of positive sales values\n",
        "        title=f'Sales of the albums Worldwide in Year {year}'\n",
        "    )\n",
        "    fig.update_geos(projection_type=\"equirectangular\")\n",
        "    return fig\n",
        "\n",
        "# Run the app\n",
        "if __name__ == '__main__':\n",
        "    app.run_server(debug=True)\n"
      ]
    }
  ],
  "metadata": {
    "colab": {
      "provenance": []
    },
    "kernelspec": {
      "display_name": "Python 3",
      "name": "python3"
    },
    "language_info": {
      "name": "python"
    }
  },
  "nbformat": 4,
  "nbformat_minor": 0
}
