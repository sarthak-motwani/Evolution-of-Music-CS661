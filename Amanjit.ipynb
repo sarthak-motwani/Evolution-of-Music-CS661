{
  "cells": [
    {
      "cell_type": "code",
      "execution_count": 3,
      "metadata": {
        "colab": {
          "base_uri": "https://localhost:8080/",
          "height": 671
        },
        "id": "xg48uRDElWf2",
        "outputId": "356daff5-7fa7-4e04-90d3-0a2b7175d7de"
      },
      "outputs": [
        {
          "data": {
            "text/html": [
              "\n",
              "        <iframe\n",
              "            width=\"100%\"\n",
              "            height=\"650\"\n",
              "            src=\"http://127.0.0.1:8050/\"\n",
              "            frameborder=\"0\"\n",
              "            allowfullscreen\n",
              "            \n",
              "        ></iframe>\n",
              "        "
            ],
            "text/plain": [
              "<IPython.lib.display.IFrame at 0x25f2123c860>"
            ]
          },
          "metadata": {},
          "output_type": "display_data"
        }
      ],
      "source": [
        "# !pip install dash\n",
        "import pandas as pd\n",
        "import plotly.express as px\n",
        "import dash\n",
        "from dash import dcc, html\n",
        "from dash.dependencies import Input, Output\n",
        "\n",
        "# Load the dataset\n",
        "df = pd.read_csv('./dataset/Taylor_Swift_albumsales.csv')\n",
        "\n",
        "# Create a Dash app\n",
        "app = dash.Dash(__name__)\n",
        "\n",
        "# Define the layout of the app\n",
        "app.layout = html.Div([\n",
        "    dcc.Graph(id='world-heatmap', style={'height': '80vh'}),  # Set the height to 80% of the viewport height\n",
        "    html.Div([\n",
        "        html.Label('Select Year:'),\n",
        "        dcc.Slider(\n",
        "            id='year-slider',\n",
        "            min=df['Year'].min(),\n",
        "            max=df['Year'].max(),\n",
        "            value=df['Year'].min(),\n",
        "            marks={str(year): str(year) for year in df['Year'].unique()},\n",
        "            step=None\n",
        "        )\n",
        "    ])\n",
        "])\n",
        "\n",
        "# Define callback to update the heatmap based on the selected year\n",
        "@app.callback(\n",
        "    Output('world-heatmap', 'figure'),\n",
        "    [Input('year-slider', 'value')]\n",
        ")\n",
        "def update_heatmap(year):\n",
        "    filtered_df = df[(df['Year'] == year) & (df['Sales'] > 0)]  # Filter out negative sales values\n",
        "    fig = px.choropleth(\n",
        "        filtered_df,\n",
        "        locations='Country',\n",
        "        locationmode='country names',\n",
        "        color='Sales',\n",
        "        hover_name='Country',\n",
        "        color_continuous_scale='Viridis',\n",
        "        color_continuous_midpoint=filtered_df['Sales'].mean(),  # Set midpoint to the mean of positive sales values\n",
        "        title=f'Sales of the albums Worldwide in Year {year}'\n",
        "    )\n",
        "    fig.update_geos(projection_type=\"equirectangular\")\n",
        "    return fig\n",
        "\n",
        "# Run the app\n",
        "if __name__ == '__main__':\n",
        "    app.run_server(debug=True)\n"
      ]
    }
  ],
  "metadata": {
    "colab": {
      "provenance": []
    },
    "kernelspec": {
      "display_name": "Python 3",
      "name": "python3"
    },
    "language_info": {
      "codemirror_mode": {
        "name": "ipython",
        "version": 3
      },
      "file_extension": ".py",
      "mimetype": "text/x-python",
      "name": "python",
      "nbconvert_exporter": "python",
      "pygments_lexer": "ipython3",
      "version": "3.12.2"
    }
  },
  "nbformat": 4,
  "nbformat_minor": 0
}
